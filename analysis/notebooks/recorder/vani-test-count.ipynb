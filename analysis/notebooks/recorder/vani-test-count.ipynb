{
 "cells": [
  {
   "cell_type": "markdown",
   "id": "bc5435c1-732a-4910-89b7-f43f515fa954",
   "metadata": {},
   "source": [
    "# VANI"
   ]
  },
  {
   "cell_type": "markdown",
   "id": "569476c7-d3de-42a0-b9e2-1bdae2a37d3b",
   "metadata": {},
   "source": [
    "**Initial notebook configuration**"
   ]
  },
  {
   "cell_type": "code",
   "execution_count": 1,
   "id": "06fe52a1-0a7c-4bc2-8992-0197d82beb24",
   "metadata": {},
   "outputs": [],
   "source": [
    "# Filter unnecessary warnings\n",
    "import warnings\n",
    "warnings.simplefilter(action='ignore', category=FutureWarning)"
   ]
  },
  {
   "cell_type": "markdown",
   "id": "9dc61e64-3fc5-4e15-86dd-8937201a9732",
   "metadata": {},
   "source": [
    "**Import libraries**"
   ]
  },
  {
   "cell_type": "code",
   "execution_count": 2,
   "id": "076b1f4f-7e8f-4a64-8e21-8efe9889fab7",
   "metadata": {},
   "outputs": [],
   "source": [
    "# Import VANI library\n",
    "import dask\n",
    "import numpy as np\n",
    "import pandas as pd\n",
    "from vani import Analyzer, ClusterOptions, ClusterType"
   ]
  },
  {
   "cell_type": "markdown",
   "id": "7c056dcd-e1ed-432d-9bfd-08f904dd4611",
   "metadata": {},
   "source": [
    "**Initialize VANI Analyzer**"
   ]
  },
  {
   "cell_type": "code",
   "execution_count": 3,
   "id": "a3e9af43-f87a-4e4b-889b-b430277010b3",
   "metadata": {},
   "outputs": [
    {
     "data": {
      "application/vnd.jupyter.widget-view+json": {
       "model_id": "fa8061d4677444fdb478a54975ea6e45",
       "version_major": 2,
       "version_minor": 0
      },
      "text/plain": [
       "  0%|          | 0/3 [00:00<?, ?it/s]"
      ]
     },
     "metadata": {},
     "output_type": "display_data"
    },
    {
     "name": "stdout",
     "output_type": "stream",
     "text": [
      "{'cls': <class 'distributed.scheduler.Scheduler'>, 'options': {'protocol': 'tcp://', 'interface': None, 'host': 'lassen708', 'dashboard_address': 'lassen708:8264', 'security': None}}\n",
      "#!/usr/bin/env bash\n",
      "\n",
      "#BSUB -J dask-worker\n",
      "#BSUB -G asccasc\n",
      "#BSUB -q pdebug\n",
      "#BSUB -W 02:00\n",
      "#BSUB -o vani.log\n",
      "#BSUB -e vani.log\n",
      "JOB_ID=${LSB_JOBID%.*}\n",
      "\n",
      "/usr/workspace/iopp/.conda/envs/jupyter/bin/python -m distributed.cli.dask_worker tcp://192.168.66.200:39417 --nthreads 1 --nprocs 4 --memory-limit 29.80GiB --name name --nanny --death-timeout 300\n",
      "\n",
      "All 4 workers alive"
     ]
    }
   ],
   "source": [
    "# Initialize analyzer\n",
    "co = ClusterOptions(cluster_type=ClusterType.LSF)\n",
    "vn = Analyzer(n_workers=4, cluster_options=co, debug=True)"
   ]
  },
  {
   "cell_type": "markdown",
   "id": "c1b19ba0-5305-48ad-889c-003181813b03",
   "metadata": {},
   "source": [
    "**Analyze logs**"
   ]
  },
  {
   "cell_type": "code",
   "execution_count": 4,
   "id": "9378d3ba-b1cb-418e-9a66-8927436dae98",
   "metadata": {},
   "outputs": [
    {
     "data": {
      "application/vnd.jupyter.widget-view+json": {
       "model_id": "72dba919e753419ba9ea136646f0e3f7",
       "version_major": 2,
       "version_minor": 0
      },
      "text/plain": [
       "  0%|          | 0/7 [00:00<?, ?it/s]"
      ]
     },
     "metadata": {},
     "output_type": "display_data"
    },
    {
     "name": "stdout",
     "output_type": "stream",
     "text": [
      "Reading logs took 5.930038163438439 seconds\n",
      "Job time computation took 3.2905118530616164 seconds\n"
     ]
    }
   ],
   "source": [
    "# Analysis configuration\n",
    "log_dir = \"/p/gpfs1/iopp/parquet_app_logs/hacc/nodes-32/workflow-0\"\n",
    "# log_dir = \"/p/gpfs1/iopp/parquet_app_logs/cm1/nodes-32/workflow-4\"\n",
    "# log_dir = \"/p/gpfs1/iopp/parquet_app_logs/lbann-cosmoflow/nodes-32\"\n",
    "# log_dir = \"/p/gpfs1/iopp/recorder_app_logs/montage_pegasus/nodes-32/_parquet\"\n",
    "# log_dir = \"/p/gpfs1/iopp/recorder_app_logs/genome_pegasus/nodes-32/_parquet\"\n",
    "\n",
    "# Do the analysis\n",
    "io_df_read_write, job_time = vn.analyze_parquet_logs(log_dir)"
   ]
  },
  {
   "cell_type": "code",
   "execution_count": 23,
   "id": "b6396f3c-759b-40db-b586-b705e552aa25",
   "metadata": {},
   "outputs": [
    {
     "data": {
      "text/html": [
       "<div>\n",
       "<style scoped>\n",
       "    .dataframe tbody tr th:only-of-type {\n",
       "        vertical-align: middle;\n",
       "    }\n",
       "\n",
       "    .dataframe tbody tr th {\n",
       "        vertical-align: top;\n",
       "    }\n",
       "\n",
       "    .dataframe thead th {\n",
       "        text-align: right;\n",
       "    }\n",
       "</style>\n",
       "<table border=\"1\" class=\"dataframe\">\n",
       "  <thead>\n",
       "    <tr style=\"text-align: right;\">\n",
       "      <th></th>\n",
       "      <th>index</th>\n",
       "      <th>rank</th>\n",
       "      <th>thread_id</th>\n",
       "      <th>cat</th>\n",
       "      <th>tstart</th>\n",
       "      <th>tend</th>\n",
       "      <th>func_id</th>\n",
       "      <th>level</th>\n",
       "      <th>arg_count</th>\n",
       "      <th>args_1</th>\n",
       "      <th>...</th>\n",
       "      <th>args_7</th>\n",
       "      <th>args_8</th>\n",
       "      <th>args_9</th>\n",
       "      <th>args_10</th>\n",
       "      <th>duration</th>\n",
       "      <th>filename</th>\n",
       "      <th>size</th>\n",
       "      <th>count</th>\n",
       "      <th>bandwidth</th>\n",
       "      <th>tbin</th>\n",
       "    </tr>\n",
       "  </thead>\n",
       "  <tbody>\n",
       "    <tr>\n",
       "      <th>35</th>\n",
       "      <td>36</td>\n",
       "      <td>0</td>\n",
       "      <td>312784</td>\n",
       "      <td>0</td>\n",
       "      <td>18.552891</td>\n",
       "      <td>18.677382</td>\n",
       "      <td>write</td>\n",
       "      <td>0</td>\n",
       "      <td>3</td>\n",
       "      <td>/p/gpfs1/iopp/temp/hacc_dir/test-Part00000000-...</td>\n",
       "      <td>...</td>\n",
       "      <td></td>\n",
       "      <td></td>\n",
       "      <td></td>\n",
       "      <td></td>\n",
       "      <td>0.124491</td>\n",
       "      <td>/p/gpfs1/iopp/temp/hacc_dir/test-Part00000000-...</td>\n",
       "      <td>67108864.0</td>\n",
       "      <td>1.0</td>\n",
       "      <td>514.094471</td>\n",
       "      <td>18.723384</td>\n",
       "    </tr>\n",
       "    <tr>\n",
       "      <th>38</th>\n",
       "      <td>39</td>\n",
       "      <td>0</td>\n",
       "      <td>312784</td>\n",
       "      <td>0</td>\n",
       "      <td>18.677414</td>\n",
       "      <td>18.720806</td>\n",
       "      <td>write</td>\n",
       "      <td>0</td>\n",
       "      <td>3</td>\n",
       "      <td>/p/gpfs1/iopp/temp/hacc_dir/test-Part00000000-...</td>\n",
       "      <td>...</td>\n",
       "      <td></td>\n",
       "      <td></td>\n",
       "      <td></td>\n",
       "      <td></td>\n",
       "      <td>0.043392</td>\n",
       "      <td>/p/gpfs1/iopp/temp/hacc_dir/test-Part00000000-...</td>\n",
       "      <td>67108864.0</td>\n",
       "      <td>1.0</td>\n",
       "      <td>1474.920088</td>\n",
       "      <td>18.723384</td>\n",
       "    </tr>\n",
       "    <tr>\n",
       "      <th>41</th>\n",
       "      <td>42</td>\n",
       "      <td>0</td>\n",
       "      <td>312784</td>\n",
       "      <td>0</td>\n",
       "      <td>18.720913</td>\n",
       "      <td>18.840509</td>\n",
       "      <td>write</td>\n",
       "      <td>0</td>\n",
       "      <td>3</td>\n",
       "      <td>/p/gpfs1/iopp/temp/hacc_dir/test-Part00000000-...</td>\n",
       "      <td>...</td>\n",
       "      <td></td>\n",
       "      <td></td>\n",
       "      <td></td>\n",
       "      <td></td>\n",
       "      <td>0.119596</td>\n",
       "      <td>/p/gpfs1/iopp/temp/hacc_dir/test-Part00000000-...</td>\n",
       "      <td>67108864.0</td>\n",
       "      <td>1.0</td>\n",
       "      <td>535.132801</td>\n",
       "      <td>18.723384</td>\n",
       "    </tr>\n",
       "    <tr>\n",
       "      <th>44</th>\n",
       "      <td>45</td>\n",
       "      <td>0</td>\n",
       "      <td>312784</td>\n",
       "      <td>0</td>\n",
       "      <td>18.840620</td>\n",
       "      <td>18.879042</td>\n",
       "      <td>write</td>\n",
       "      <td>0</td>\n",
       "      <td>3</td>\n",
       "      <td>/p/gpfs1/iopp/temp/hacc_dir/test-Part00000000-...</td>\n",
       "      <td>...</td>\n",
       "      <td></td>\n",
       "      <td></td>\n",
       "      <td></td>\n",
       "      <td></td>\n",
       "      <td>0.038422</td>\n",
       "      <td>/p/gpfs1/iopp/temp/hacc_dir/test-Part00000000-...</td>\n",
       "      <td>67108864.0</td>\n",
       "      <td>1.0</td>\n",
       "      <td>1665.728356</td>\n",
       "      <td>18.723384</td>\n",
       "    </tr>\n",
       "    <tr>\n",
       "      <th>47</th>\n",
       "      <td>48</td>\n",
       "      <td>0</td>\n",
       "      <td>312784</td>\n",
       "      <td>0</td>\n",
       "      <td>18.879133</td>\n",
       "      <td>18.925989</td>\n",
       "      <td>write</td>\n",
       "      <td>0</td>\n",
       "      <td>3</td>\n",
       "      <td>/p/gpfs1/iopp/temp/hacc_dir/test-Part00000000-...</td>\n",
       "      <td>...</td>\n",
       "      <td></td>\n",
       "      <td></td>\n",
       "      <td></td>\n",
       "      <td></td>\n",
       "      <td>0.046856</td>\n",
       "      <td>/p/gpfs1/iopp/temp/hacc_dir/test-Part00000000-...</td>\n",
       "      <td>67108864.0</td>\n",
       "      <td>1.0</td>\n",
       "      <td>1365.889115</td>\n",
       "      <td>18.723384</td>\n",
       "    </tr>\n",
       "  </tbody>\n",
       "</table>\n",
       "<p>5 rows × 25 columns</p>\n",
       "</div>"
      ],
      "text/plain": [
       "    index  rank  thread_id  cat     tstart       tend func_id  level  \\\n",
       "35     36     0     312784    0  18.552891  18.677382   write      0   \n",
       "38     39     0     312784    0  18.677414  18.720806   write      0   \n",
       "41     42     0     312784    0  18.720913  18.840509   write      0   \n",
       "44     45     0     312784    0  18.840620  18.879042   write      0   \n",
       "47     48     0     312784    0  18.879133  18.925989   write      0   \n",
       "\n",
       "    arg_count                                             args_1  ... args_7  \\\n",
       "35          3  /p/gpfs1/iopp/temp/hacc_dir/test-Part00000000-...  ...          \n",
       "38          3  /p/gpfs1/iopp/temp/hacc_dir/test-Part00000000-...  ...          \n",
       "41          3  /p/gpfs1/iopp/temp/hacc_dir/test-Part00000000-...  ...          \n",
       "44          3  /p/gpfs1/iopp/temp/hacc_dir/test-Part00000000-...  ...          \n",
       "47          3  /p/gpfs1/iopp/temp/hacc_dir/test-Part00000000-...  ...          \n",
       "\n",
       "   args_8 args_9 args_10  duration  \\\n",
       "35                        0.124491   \n",
       "38                        0.043392   \n",
       "41                        0.119596   \n",
       "44                        0.038422   \n",
       "47                        0.046856   \n",
       "\n",
       "                                             filename        size count  \\\n",
       "35  /p/gpfs1/iopp/temp/hacc_dir/test-Part00000000-...  67108864.0   1.0   \n",
       "38  /p/gpfs1/iopp/temp/hacc_dir/test-Part00000000-...  67108864.0   1.0   \n",
       "41  /p/gpfs1/iopp/temp/hacc_dir/test-Part00000000-...  67108864.0   1.0   \n",
       "44  /p/gpfs1/iopp/temp/hacc_dir/test-Part00000000-...  67108864.0   1.0   \n",
       "47  /p/gpfs1/iopp/temp/hacc_dir/test-Part00000000-...  67108864.0   1.0   \n",
       "\n",
       "      bandwidth       tbin  \n",
       "35   514.094471  18.723384  \n",
       "38  1474.920088  18.723384  \n",
       "41   535.132801  18.723384  \n",
       "44  1665.728356  18.723384  \n",
       "47  1365.889115  18.723384  \n",
       "\n",
       "[5 rows x 25 columns]"
      ]
     },
     "execution_count": 23,
     "metadata": {},
     "output_type": "execute_result"
    }
   ],
   "source": [
    "io_df_read_write.head()"
   ]
  },
  {
   "cell_type": "code",
   "execution_count": 26,
   "id": "c0c2a1d9-b7a2-4e4e-8b4c-44a4eff7cbe9",
   "metadata": {},
   "outputs": [
    {
     "data": {
      "text/plain": [
       "25600"
      ]
     },
     "execution_count": 26,
     "metadata": {},
     "output_type": "execute_result"
    }
   ],
   "source": [
    "io_df_read_write[\"index\"].count().compute()"
   ]
  },
  {
   "cell_type": "code",
   "execution_count": 5,
   "id": "4f1a9e40-b32b-47e5-be3e-86154babe6dd",
   "metadata": {},
   "outputs": [
    {
     "data": {
      "text/plain": [
       "array([ 0.        ,  3.7446768 ,  7.4893536 , 11.23403041, 14.97870721,\n",
       "       18.72338401, 22.46806081, 26.21273761, 29.95741442, 33.70209122])"
      ]
     },
     "execution_count": 5,
     "metadata": {},
     "output_type": "execute_result"
    }
   ],
   "source": [
    "n_bins = 10\n",
    "\n",
    "tbins, tbins_step = np.linspace(0, job_time, num=n_bins, retstep=True)\n",
    "tbins"
   ]
  },
  {
   "cell_type": "code",
   "execution_count": 6,
   "id": "167ed31b-0fb1-4471-949a-afc5d0fe441d",
   "metadata": {},
   "outputs": [
    {
     "name": "stdout",
     "output_type": "stream",
     "text": [
      "0.0 3.744676801893446\n",
      "3.744676801893446 7.489353603786892\n",
      "7.489353603786892 11.234030405680338\n",
      "11.234030405680338 14.978707207573784\n",
      "14.978707207573784 18.72338400946723\n",
      "18.72338400946723 22.46806081136068\n",
      "22.468060811360676 26.21273761325412\n",
      "26.21273761325412 29.957414415147568\n",
      "29.957414415147568 33.702091217041016\n",
      "33.702091217041016 37.44676801893446\n",
      "CPU times: user 261 ms, sys: 0 ns, total: 261 ms\n",
      "Wall time: 252 ms\n"
     ]
    }
   ],
   "source": [
    "%%time\n",
    "\n",
    "io_df_read_write[\"tbin\"] = 0\n",
    "\n",
    "for tbin in tbins:\n",
    "    print(tbin, tbin + tbins_step)\n",
    "    tstart_cond = io_df_read_write[\"tstart\"].ge(tbin - 1)\n",
    "    tend_cond = io_df_read_write[\"tend\"].lt(tbin + tbins_step)\n",
    "    io_df_read_write[\"tbin\"] = io_df_read_write[\"tbin\"].mask(tstart_cond & tend_cond, tbin)"
   ]
  },
  {
   "cell_type": "code",
   "execution_count": 45,
   "id": "6180b9ff-d4f3-40ae-a930-61153dd073f2",
   "metadata": {},
   "outputs": [
    {
     "name": "stdout",
     "output_type": "stream",
     "text": [
      "CPU times: user 48.1 s, sys: 652 ms, total: 48.7 s\n",
      "Wall time: 1min 11s\n"
     ]
    },
    {
     "data": {
      "text/plain": [
       "0"
      ]
     },
     "execution_count": 45,
     "metadata": {},
     "output_type": "execute_result"
    }
   ],
   "source": [
    "%%time\n",
    "\n",
    "len(io_df_read_write[io_df_read_write[\"tbin\"] == 0].compute())"
   ]
  },
  {
   "cell_type": "code",
   "execution_count": 39,
   "id": "fe71598a-ba8c-4c51-ad7a-c6a47c5d1dd5",
   "metadata": {},
   "outputs": [
    {
     "name": "stdout",
     "output_type": "stream",
     "text": [
      "0.0 0\n",
      "3.744676801893446 361\n",
      "7.489353603786892 943\n",
      "11.234030405680338 4735\n",
      "14.978707207573784 4089\n",
      "18.72338400946723 7178\n",
      "22.468060811360676 7327\n",
      "26.21273761325412 567\n",
      "29.957414415147568 400\n",
      "33.702091217041016 0\n",
      "CPU times: user 6min 59s, sys: 6.67 s, total: 7min 6s\n",
      "Wall time: 11min 23s\n"
     ]
    }
   ],
   "source": [
    "%%time\n",
    "\n",
    "for tbin in tbins:\n",
    "    tbin_binned = io_df_read_write[io_df_read_write[\"tbin\"] == tbin]\n",
    "    tbin_ct = tbin_binned[\"index\"].count().compute()\n",
    "    print(tbin, tbin_ct)\n"
   ]
  },
  {
   "cell_type": "code",
   "execution_count": 7,
   "id": "8a44042a-dcc5-4e17-bf17-49f9d3649b34",
   "metadata": {},
   "outputs": [
    {
     "name": "stdout",
     "output_type": "stream",
     "text": [
      "CPU times: user 18.8 s, sys: 366 ms, total: 19.2 s\n",
      "Wall time: 36.8 s\n"
     ]
    },
    {
     "data": {
      "text/plain": [
       "[0, 361, 943, 4735, 4089, 7178, 7327, 567, 400, 0]"
      ]
     },
     "execution_count": 7,
     "metadata": {},
     "output_type": "execute_result"
    }
   ],
   "source": [
    "%%time\n",
    "\n",
    "tbin_tasks = []\n",
    "\n",
    "for tbin in tbins:\n",
    "    tbin_binned = io_df_read_write[io_df_read_write[\"tbin\"] == tbin]\n",
    "    tbin_ct = tbin_binned[\"index\"].count()\n",
    "    tbin_tasks.append(tbin_ct)\n",
    "    \n",
    "tbin_task_results, = dask.compute(tbin_tasks)\n",
    "\n",
    "tbin_task_results"
   ]
  },
  {
   "cell_type": "code",
   "execution_count": 17,
   "id": "c80b4ef0-0124-48e4-be90-b18cd1aae5b5",
   "metadata": {},
   "outputs": [
    {
     "name": "stdout",
     "output_type": "stream",
     "text": [
      "[2 4 6 3 5]\n",
      "[943, 4089, 7327, 4735, 7178]\n"
     ]
    },
    {
     "data": {
      "text/plain": [
       "[7.489353603786892,\n",
       " 14.978707207573784,\n",
       " 22.468060811360676,\n",
       " 11.234030405680338,\n",
       " 18.72338400946723]"
      ]
     },
     "execution_count": 17,
     "metadata": {},
     "output_type": "execute_result"
    }
   ],
   "source": [
    "worst_tbin_task_results_ixs = np.argpartition(tbin_task_results, 5)[5:]\n",
    "print(worst_tbin_task_results_ixs)\n",
    "print([tbin_task_results[i] for i in worst_tbin_task_results_ixs])\n",
    "worst_tbins = [tbins[i] for i in worst_tbin_task_results_ixs]\n",
    "worst_tbins"
   ]
  },
  {
   "cell_type": "code",
   "execution_count": 31,
   "id": "42f9d696-7cf0-4a71-8de9-e49cae834bf2",
   "metadata": {},
   "outputs": [],
   "source": [
    "io_df_read_write_worst = io_df_read_write[io_df_read_write[\"tbin\"].isin(worst_tbins)]"
   ]
  },
  {
   "cell_type": "code",
   "execution_count": 25,
   "id": "7ee4c493-07ae-41eb-aaee-8e416481b8f5",
   "metadata": {},
   "outputs": [
    {
     "data": {
      "text/plain": [
       "24272"
      ]
     },
     "execution_count": 25,
     "metadata": {},
     "output_type": "execute_result"
    }
   ],
   "source": [
    "%%time\n",
    "io_df_read_write_worst[\"index\"].count().compute()"
   ]
  },
  {
   "cell_type": "code",
   "execution_count": 29,
   "id": "ac73f160-aa16-4c4e-9932-9e41b8105e08",
   "metadata": {},
   "outputs": [
    {
     "name": "stdout",
     "output_type": "stream",
     "text": [
      "CPU times: user 18.4 s, sys: 319 ms, total: 18.7 s\n",
      "Wall time: 37.9 s\n"
     ]
    },
    {
     "data": {
      "text/plain": [
       "(6.499417304992676, 25.40230369567871)"
      ]
     },
     "execution_count": 29,
     "metadata": {},
     "output_type": "execute_result"
    }
   ],
   "source": [
    "%%time\n",
    "tstart_task = io_df_read_write_worst[\"tstart\"].min()\n",
    "tend_task = io_df_read_write_worst[\"tend\"].max()\n",
    "res = dask.compute(tstart_task, tend_task)\n",
    "res"
   ]
  },
  {
   "cell_type": "code",
   "execution_count": 30,
   "id": "fadb00f1-53dd-4305-a319-b9faf2850a3b",
   "metadata": {},
   "outputs": [
    {
     "data": {
      "text/plain": [
       "array([ 6.4994173 ,  8.59973802, 10.70005873, 12.80037944, 14.90070015,\n",
       "       17.00102086, 19.10134157, 21.20166228, 23.30198299, 25.4023037 ])"
      ]
     },
     "execution_count": 30,
     "metadata": {},
     "output_type": "execute_result"
    }
   ],
   "source": [
    "tstart, tend = res\n",
    "tbins, tbins_step = np.linspace(tstart, tend, num=n_bins, retstep=True)\n",
    "tbins"
   ]
  },
  {
   "cell_type": "code",
   "execution_count": 32,
   "id": "dc839ca4-90e2-489b-bd96-fd69cb1bd053",
   "metadata": {},
   "outputs": [
    {
     "name": "stdout",
     "output_type": "stream",
     "text": [
      "6.499417304992676 8.599738015068901\n",
      "8.599738015068901 10.700058725145126\n",
      "10.700058725145128 12.800379435221355\n",
      "12.800379435221355 14.90070014529758\n",
      "14.90070014529758 17.001020855373806\n",
      "17.001020855373806 19.10134156545003\n",
      "19.101341565450035 21.20166227552626\n",
      "21.20166227552626 23.301982985602486\n",
      "23.301982985602486 25.40230369567871\n",
      "25.40230369567871 27.502624405754936\n",
      "CPU times: user 235 ms, sys: 20.1 ms, total: 255 ms\n",
      "Wall time: 247 ms\n"
     ]
    }
   ],
   "source": [
    "%%time\n",
    "\n",
    "io_df_read_write_worst[\"tbin\"] = 0\n",
    "\n",
    "for tbin in tbins:\n",
    "    print(tbin, tbin + tbins_step)\n",
    "    tstart_cond = io_df_read_write_worst[\"tstart\"].ge(tbin - 1)\n",
    "    tend_cond = io_df_read_write_worst[\"tend\"].lt(tbin + tbins_step)\n",
    "    io_df_read_write_worst[\"tbin\"] = io_df_read_write_worst[\"tbin\"].mask(tstart_cond & tend_cond, tbin)"
   ]
  },
  {
   "cell_type": "code",
   "execution_count": 33,
   "id": "a0bee9c4-c758-4b1e-8659-7190ffbf3e01",
   "metadata": {},
   "outputs": [
    {
     "data": {
      "text/html": [
       "<div>\n",
       "<style scoped>\n",
       "    .dataframe tbody tr th:only-of-type {\n",
       "        vertical-align: middle;\n",
       "    }\n",
       "\n",
       "    .dataframe tbody tr th {\n",
       "        vertical-align: top;\n",
       "    }\n",
       "\n",
       "    .dataframe thead th {\n",
       "        text-align: right;\n",
       "    }\n",
       "</style>\n",
       "<table border=\"1\" class=\"dataframe\">\n",
       "  <thead>\n",
       "    <tr style=\"text-align: right;\">\n",
       "      <th></th>\n",
       "      <th>index</th>\n",
       "      <th>rank</th>\n",
       "      <th>thread_id</th>\n",
       "      <th>cat</th>\n",
       "      <th>tstart</th>\n",
       "      <th>tend</th>\n",
       "      <th>func_id</th>\n",
       "      <th>level</th>\n",
       "      <th>arg_count</th>\n",
       "      <th>args_1</th>\n",
       "      <th>...</th>\n",
       "      <th>args_7</th>\n",
       "      <th>args_8</th>\n",
       "      <th>args_9</th>\n",
       "      <th>args_10</th>\n",
       "      <th>duration</th>\n",
       "      <th>filename</th>\n",
       "      <th>size</th>\n",
       "      <th>count</th>\n",
       "      <th>bandwidth</th>\n",
       "      <th>tbin</th>\n",
       "    </tr>\n",
       "  </thead>\n",
       "  <tbody>\n",
       "    <tr>\n",
       "      <th>35</th>\n",
       "      <td>36</td>\n",
       "      <td>0</td>\n",
       "      <td>312784</td>\n",
       "      <td>0</td>\n",
       "      <td>18.552891</td>\n",
       "      <td>18.677382</td>\n",
       "      <td>write</td>\n",
       "      <td>0</td>\n",
       "      <td>3</td>\n",
       "      <td>/p/gpfs1/iopp/temp/hacc_dir/test-Part00000000-...</td>\n",
       "      <td>...</td>\n",
       "      <td></td>\n",
       "      <td></td>\n",
       "      <td></td>\n",
       "      <td></td>\n",
       "      <td>0.124491</td>\n",
       "      <td>/p/gpfs1/iopp/temp/hacc_dir/test-Part00000000-...</td>\n",
       "      <td>67108864.0</td>\n",
       "      <td>1.0</td>\n",
       "      <td>514.094471</td>\n",
       "      <td>19.101342</td>\n",
       "    </tr>\n",
       "    <tr>\n",
       "      <th>38</th>\n",
       "      <td>39</td>\n",
       "      <td>0</td>\n",
       "      <td>312784</td>\n",
       "      <td>0</td>\n",
       "      <td>18.677414</td>\n",
       "      <td>18.720806</td>\n",
       "      <td>write</td>\n",
       "      <td>0</td>\n",
       "      <td>3</td>\n",
       "      <td>/p/gpfs1/iopp/temp/hacc_dir/test-Part00000000-...</td>\n",
       "      <td>...</td>\n",
       "      <td></td>\n",
       "      <td></td>\n",
       "      <td></td>\n",
       "      <td></td>\n",
       "      <td>0.043392</td>\n",
       "      <td>/p/gpfs1/iopp/temp/hacc_dir/test-Part00000000-...</td>\n",
       "      <td>67108864.0</td>\n",
       "      <td>1.0</td>\n",
       "      <td>1474.920088</td>\n",
       "      <td>19.101342</td>\n",
       "    </tr>\n",
       "    <tr>\n",
       "      <th>41</th>\n",
       "      <td>42</td>\n",
       "      <td>0</td>\n",
       "      <td>312784</td>\n",
       "      <td>0</td>\n",
       "      <td>18.720913</td>\n",
       "      <td>18.840509</td>\n",
       "      <td>write</td>\n",
       "      <td>0</td>\n",
       "      <td>3</td>\n",
       "      <td>/p/gpfs1/iopp/temp/hacc_dir/test-Part00000000-...</td>\n",
       "      <td>...</td>\n",
       "      <td></td>\n",
       "      <td></td>\n",
       "      <td></td>\n",
       "      <td></td>\n",
       "      <td>0.119596</td>\n",
       "      <td>/p/gpfs1/iopp/temp/hacc_dir/test-Part00000000-...</td>\n",
       "      <td>67108864.0</td>\n",
       "      <td>1.0</td>\n",
       "      <td>535.132801</td>\n",
       "      <td>19.101342</td>\n",
       "    </tr>\n",
       "    <tr>\n",
       "      <th>44</th>\n",
       "      <td>45</td>\n",
       "      <td>0</td>\n",
       "      <td>312784</td>\n",
       "      <td>0</td>\n",
       "      <td>18.840620</td>\n",
       "      <td>18.879042</td>\n",
       "      <td>write</td>\n",
       "      <td>0</td>\n",
       "      <td>3</td>\n",
       "      <td>/p/gpfs1/iopp/temp/hacc_dir/test-Part00000000-...</td>\n",
       "      <td>...</td>\n",
       "      <td></td>\n",
       "      <td></td>\n",
       "      <td></td>\n",
       "      <td></td>\n",
       "      <td>0.038422</td>\n",
       "      <td>/p/gpfs1/iopp/temp/hacc_dir/test-Part00000000-...</td>\n",
       "      <td>67108864.0</td>\n",
       "      <td>1.0</td>\n",
       "      <td>1665.728356</td>\n",
       "      <td>19.101342</td>\n",
       "    </tr>\n",
       "    <tr>\n",
       "      <th>47</th>\n",
       "      <td>48</td>\n",
       "      <td>0</td>\n",
       "      <td>312784</td>\n",
       "      <td>0</td>\n",
       "      <td>18.879133</td>\n",
       "      <td>18.925989</td>\n",
       "      <td>write</td>\n",
       "      <td>0</td>\n",
       "      <td>3</td>\n",
       "      <td>/p/gpfs1/iopp/temp/hacc_dir/test-Part00000000-...</td>\n",
       "      <td>...</td>\n",
       "      <td></td>\n",
       "      <td></td>\n",
       "      <td></td>\n",
       "      <td></td>\n",
       "      <td>0.046856</td>\n",
       "      <td>/p/gpfs1/iopp/temp/hacc_dir/test-Part00000000-...</td>\n",
       "      <td>67108864.0</td>\n",
       "      <td>1.0</td>\n",
       "      <td>1365.889115</td>\n",
       "      <td>19.101342</td>\n",
       "    </tr>\n",
       "  </tbody>\n",
       "</table>\n",
       "<p>5 rows × 25 columns</p>\n",
       "</div>"
      ],
      "text/plain": [
       "    index  rank  thread_id  cat     tstart       tend func_id  level  \\\n",
       "35     36     0     312784    0  18.552891  18.677382   write      0   \n",
       "38     39     0     312784    0  18.677414  18.720806   write      0   \n",
       "41     42     0     312784    0  18.720913  18.840509   write      0   \n",
       "44     45     0     312784    0  18.840620  18.879042   write      0   \n",
       "47     48     0     312784    0  18.879133  18.925989   write      0   \n",
       "\n",
       "    arg_count                                             args_1  ... args_7  \\\n",
       "35          3  /p/gpfs1/iopp/temp/hacc_dir/test-Part00000000-...  ...          \n",
       "38          3  /p/gpfs1/iopp/temp/hacc_dir/test-Part00000000-...  ...          \n",
       "41          3  /p/gpfs1/iopp/temp/hacc_dir/test-Part00000000-...  ...          \n",
       "44          3  /p/gpfs1/iopp/temp/hacc_dir/test-Part00000000-...  ...          \n",
       "47          3  /p/gpfs1/iopp/temp/hacc_dir/test-Part00000000-...  ...          \n",
       "\n",
       "   args_8 args_9 args_10  duration  \\\n",
       "35                        0.124491   \n",
       "38                        0.043392   \n",
       "41                        0.119596   \n",
       "44                        0.038422   \n",
       "47                        0.046856   \n",
       "\n",
       "                                             filename        size count  \\\n",
       "35  /p/gpfs1/iopp/temp/hacc_dir/test-Part00000000-...  67108864.0   1.0   \n",
       "38  /p/gpfs1/iopp/temp/hacc_dir/test-Part00000000-...  67108864.0   1.0   \n",
       "41  /p/gpfs1/iopp/temp/hacc_dir/test-Part00000000-...  67108864.0   1.0   \n",
       "44  /p/gpfs1/iopp/temp/hacc_dir/test-Part00000000-...  67108864.0   1.0   \n",
       "47  /p/gpfs1/iopp/temp/hacc_dir/test-Part00000000-...  67108864.0   1.0   \n",
       "\n",
       "      bandwidth       tbin  \n",
       "35   514.094471  19.101342  \n",
       "38  1474.920088  19.101342  \n",
       "41   535.132801  19.101342  \n",
       "44  1665.728356  19.101342  \n",
       "47  1365.889115  19.101342  \n",
       "\n",
       "[5 rows x 25 columns]"
      ]
     },
     "execution_count": 33,
     "metadata": {},
     "output_type": "execute_result"
    }
   ],
   "source": [
    "io_df_read_write_worst.head()"
   ]
  },
  {
   "cell_type": "code",
   "execution_count": 34,
   "id": "bbcfe63a-ef78-4673-8f8e-acde5b989bf7",
   "metadata": {},
   "outputs": [
    {
     "name": "stdout",
     "output_type": "stream",
     "text": [
      "CPU times: user 21.3 s, sys: 368 ms, total: 21.7 s\n",
      "Wall time: 40.9 s\n"
     ]
    },
    {
     "data": {
      "text/plain": [
       "[39, 566, 2752, 2269, 2415, 2077, 3207, 4997, 5558, 390]"
      ]
     },
     "execution_count": 34,
     "metadata": {},
     "output_type": "execute_result"
    }
   ],
   "source": [
    "%%time\n",
    "\n",
    "tbin_tasks = []\n",
    "\n",
    "for tbin in tbins:\n",
    "    tbin_binned = io_df_read_write_worst[io_df_read_write_worst[\"tbin\"] == tbin]\n",
    "    tbin_ct = tbin_binned[\"index\"].count()\n",
    "    tbin_tasks.append(tbin_ct)\n",
    "    \n",
    "tbin_task_results, = dask.compute(tbin_tasks)\n",
    "\n",
    "tbin_task_results"
   ]
  },
  {
   "cell_type": "code",
   "execution_count": 35,
   "id": "0a069e97-2035-42d0-8cb8-485eb82c87dd",
   "metadata": {},
   "outputs": [
    {
     "name": "stdout",
     "output_type": "stream",
     "text": [
      "[4 6 7 8 2]\n",
      "[2415, 3207, 4997, 5558, 2752]\n"
     ]
    },
    {
     "data": {
      "text/plain": [
       "[14.90070014529758,\n",
       " 19.101341565450035,\n",
       " 21.20166227552626,\n",
       " 23.301982985602486,\n",
       " 10.700058725145128]"
      ]
     },
     "execution_count": 35,
     "metadata": {},
     "output_type": "execute_result"
    }
   ],
   "source": [
    "worst_tbin_task_results_ixs = np.argpartition(tbin_task_results, 5)[5:]\n",
    "print(worst_tbin_task_results_ixs)\n",
    "print([tbin_task_results[i] for i in worst_tbin_task_results_ixs])\n",
    "worst_tbins = [tbins[i] for i in worst_tbin_task_results_ixs]\n",
    "worst_tbins"
   ]
  },
  {
   "cell_type": "code",
   "execution_count": 36,
   "id": "fd2da1ff-6c53-44e0-8010-f9dcbe1a5f23",
   "metadata": {},
   "outputs": [],
   "source": [
    "io_df_read_write_worst_2 = io_df_read_write_worst[io_df_read_write_worst[\"tbin\"].isin(worst_tbins)]"
   ]
  },
  {
   "cell_type": "code",
   "execution_count": 37,
   "id": "577fe513-f929-46eb-afd5-2848a1e7ac2b",
   "metadata": {},
   "outputs": [
    {
     "data": {
      "text/plain": [
       "18929"
      ]
     },
     "execution_count": 37,
     "metadata": {},
     "output_type": "execute_result"
    }
   ],
   "source": [
    "%%time\n",
    "io_df_read_write_worst_2[\"index\"].count().compute()"
   ]
  },
  {
   "cell_type": "code",
   "execution_count": 38,
   "id": "367bfbcc-ab36-474d-841f-65554924e6b4",
   "metadata": {},
   "outputs": [
    {
     "name": "stdout",
     "output_type": "stream",
     "text": [
      "CPU times: user 19.5 s, sys: 324 ms, total: 19.8 s\n",
      "Wall time: 39.1 s\n"
     ]
    },
    {
     "data": {
      "text/plain": [
       "(9.700082778930664, 25.068326950073242)"
      ]
     },
     "execution_count": 38,
     "metadata": {},
     "output_type": "execute_result"
    }
   ],
   "source": [
    "%%time\n",
    "tstart_task = io_df_read_write_worst_2[\"tstart\"].min()\n",
    "tend_task = io_df_read_write_worst_2[\"tend\"].max()\n",
    "res = dask.compute(tstart_task, tend_task)\n",
    "res"
   ]
  },
  {
   "cell_type": "code",
   "execution_count": 39,
   "id": "2a81f736-92d6-40d5-90e4-4d6f707e0acc",
   "metadata": {},
   "outputs": [
    {
     "data": {
      "text/plain": [
       "array([ 9.70008278, 11.40766546, 13.11524815, 14.82283084, 16.53041352,\n",
       "       18.23799621, 19.94557889, 21.65316158, 23.36074426, 25.06832695])"
      ]
     },
     "execution_count": 39,
     "metadata": {},
     "output_type": "execute_result"
    }
   ],
   "source": [
    "tstart, tend = res\n",
    "tbins, tbins_step = np.linspace(tstart, tend, num=n_bins, retstep=True)\n",
    "tbins"
   ]
  },
  {
   "cell_type": "code",
   "execution_count": 40,
   "id": "27db46d8-175e-494c-b9d5-28c5fb63e682",
   "metadata": {},
   "outputs": [
    {
     "name": "stdout",
     "output_type": "stream",
     "text": [
      "9.700082778930664 11.407665464613173\n",
      "11.407665464613173 13.115248150295681\n",
      "13.115248150295681 14.82283083597819\n",
      "14.822830835978191 16.5304135216607\n",
      "16.530413521660698 18.23799620734321\n",
      "18.23799620734321 19.94557889302572\n",
      "19.94557889302572 21.65316157870823\n",
      "21.653161578708225 23.360744264390735\n",
      "23.360744264390732 25.068326950073242\n",
      "25.068326950073242 26.775909635755752\n",
      "CPU times: user 230 ms, sys: 19.8 ms, total: 250 ms\n",
      "Wall time: 241 ms\n"
     ]
    }
   ],
   "source": [
    "%%time\n",
    "\n",
    "io_df_read_write_worst_2[\"tbin\"] = 0\n",
    "\n",
    "for tbin in tbins:\n",
    "    print(tbin, tbin + tbins_step)\n",
    "    tstart_cond = io_df_read_write_worst_2[\"tstart\"].ge(tbin - 1)\n",
    "    tend_cond = io_df_read_write_worst_2[\"tend\"].lt(tbin + tbins_step)\n",
    "    io_df_read_write_worst_2[\"tbin\"] = io_df_read_write_worst_2[\"tbin\"].mask(tstart_cond & tend_cond, tbin)"
   ]
  },
  {
   "cell_type": "code",
   "execution_count": 41,
   "id": "b32d73b6-27f4-439b-8b77-f60176385160",
   "metadata": {},
   "outputs": [
    {
     "name": "stdout",
     "output_type": "stream",
     "text": [
      "CPU times: user 21.7 s, sys: 256 ms, total: 22 s\n",
      "Wall time: 41 s\n"
     ]
    },
    {
     "data": {
      "text/plain": [
       "[372, 2380, 0, 1814, 599, 1396, 3235, 3627, 5068, 436]"
      ]
     },
     "execution_count": 41,
     "metadata": {},
     "output_type": "execute_result"
    }
   ],
   "source": [
    "%%time\n",
    "\n",
    "tbin_tasks = []\n",
    "\n",
    "for tbin in tbins:\n",
    "    tbin_binned = io_df_read_write_worst_2[io_df_read_write_worst_2[\"tbin\"] == tbin]\n",
    "    tbin_ct = tbin_binned[\"index\"].count()\n",
    "    tbin_tasks.append(tbin_ct)\n",
    "    \n",
    "tbin_task_results, = dask.compute(tbin_tasks)\n",
    "\n",
    "tbin_task_results"
   ]
  },
  {
   "cell_type": "code",
   "execution_count": 42,
   "id": "0c4b2a0e-c929-438e-b7be-fdf8eefa307b",
   "metadata": {},
   "outputs": [
    {
     "name": "stdout",
     "output_type": "stream",
     "text": [
      "[3 1 7 8 6]\n",
      "[1814, 2380, 3627, 5068, 3235]\n"
     ]
    },
    {
     "data": {
      "text/plain": [
       "[14.822830835978191,\n",
       " 11.407665464613173,\n",
       " 21.653161578708225,\n",
       " 23.360744264390732,\n",
       " 19.94557889302572]"
      ]
     },
     "execution_count": 42,
     "metadata": {},
     "output_type": "execute_result"
    }
   ],
   "source": [
    "worst_tbin_task_results_ixs = np.argpartition(tbin_task_results, 5)[5:]\n",
    "print(worst_tbin_task_results_ixs)\n",
    "print([tbin_task_results[i] for i in worst_tbin_task_results_ixs])\n",
    "worst_tbins = [tbins[i] for i in worst_tbin_task_results_ixs]\n",
    "worst_tbins"
   ]
  },
  {
   "cell_type": "code",
   "execution_count": 43,
   "id": "337a6e62-35a4-4332-a172-97531684b432",
   "metadata": {},
   "outputs": [],
   "source": [
    "io_df_read_write_worst_3 = io_df_read_write_worst_2[io_df_read_write_worst_2[\"tbin\"].isin(worst_tbins)]"
   ]
  },
  {
   "cell_type": "code",
   "execution_count": 44,
   "id": "eb12aad3-2481-416a-9b4a-691ae305f3de",
   "metadata": {},
   "outputs": [
    {
     "name": "stdout",
     "output_type": "stream",
     "text": [
      "CPU times: user 19.7 s, sys: 424 ms, total: 20.1 s\n",
      "Wall time: 40.1 s\n"
     ]
    },
    {
     "data": {
      "text/plain": [
       "16124"
      ]
     },
     "execution_count": 44,
     "metadata": {},
     "output_type": "execute_result"
    }
   ],
   "source": [
    "%%time\n",
    "io_df_read_write_worst_3[\"index\"].count().compute()"
   ]
  },
  {
   "cell_type": "code",
   "execution_count": 50,
   "id": "f94a3e0d-868b-4556-90d4-8b151c8fa36a",
   "metadata": {},
   "outputs": [
    {
     "data": {
      "text/plain": [
       "(10.407665464613173, 25.068326950073242)"
      ]
     },
     "execution_count": 50,
     "metadata": {},
     "output_type": "execute_result"
    }
   ],
   "source": [
    "min(worst_tbins)-1,max(worst_tbins)+tbins_step"
   ]
  },
  {
   "cell_type": "code",
   "execution_count": 51,
   "id": "57f4fc45-93dd-42bb-83fb-02469011e10b",
   "metadata": {},
   "outputs": [
    {
     "name": "stdout",
     "output_type": "stream",
     "text": [
      "CPU times: user 19.9 s, sys: 409 ms, total: 20.3 s\n",
      "Wall time: 40.6 s\n"
     ]
    },
    {
     "data": {
      "text/plain": [
       "(10.412095069885254, 24.68063735961914)"
      ]
     },
     "execution_count": 51,
     "metadata": {},
     "output_type": "execute_result"
    }
   ],
   "source": [
    "%%time\n",
    "tstart_task = io_df_read_write_worst_3[\"tstart\"].min()\n",
    "tend_task = io_df_read_write_worst_3[\"tend\"].max()\n",
    "res = dask.compute(tstart_task, tend_task)\n",
    "res"
   ]
  },
  {
   "cell_type": "code",
   "execution_count": 52,
   "id": "930351fa-27f6-4f42-8a3b-b55fec609226",
   "metadata": {},
   "outputs": [
    {
     "data": {
      "text/plain": [
       "array([10.41209507, 11.99748866, 13.58288225, 15.16827583, 16.75366942,\n",
       "       18.33906301, 19.9244566 , 21.50985018, 23.09524377, 24.68063736])"
      ]
     },
     "execution_count": 52,
     "metadata": {},
     "output_type": "execute_result"
    }
   ],
   "source": [
    "tstart, tend = res\n",
    "tbins, tbins_step = np.linspace(tstart, tend, num=n_bins, retstep=True)\n",
    "tbins"
   ]
  },
  {
   "cell_type": "code",
   "execution_count": 53,
   "id": "35539d66-4a46-4d35-bff8-e102d824a0f0",
   "metadata": {},
   "outputs": [
    {
     "name": "stdout",
     "output_type": "stream",
     "text": [
      "10.412095069885254 11.997488657633463\n",
      "11.997488657633463 13.582882245381672\n",
      "13.582882245381674 15.168275833129883\n",
      "15.168275833129883 16.753669420878094\n",
      "16.753669420878094 18.339063008626304\n",
      "18.339063008626304 19.924456596374515\n",
      "19.92445659637451 21.509850184122723\n",
      "21.509850184122723 23.095243771870933\n",
      "23.095243771870933 24.680637359619144\n",
      "24.68063735961914 26.26603094736735\n",
      "CPU times: user 258 ms, sys: 0 ns, total: 258 ms\n",
      "Wall time: 249 ms\n"
     ]
    }
   ],
   "source": [
    "%%time\n",
    "\n",
    "io_df_read_write_worst_3[\"tbin\"] = 0\n",
    "\n",
    "for tbin in tbins:\n",
    "    print(tbin, tbin + tbins_step)\n",
    "    tstart_cond = io_df_read_write_worst_3[\"tstart\"].ge(tbin - 1)\n",
    "    tend_cond = io_df_read_write_worst_3[\"tend\"].lt(tbin + tbins_step)\n",
    "    io_df_read_write_worst_3[\"tbin\"] = io_df_read_write_worst_3[\"tbin\"].mask(tstart_cond & tend_cond, tbin)"
   ]
  },
  {
   "cell_type": "code",
   "execution_count": 54,
   "id": "bb73d51f-3edf-4ba8-b2a8-d0cae2c30d55",
   "metadata": {},
   "outputs": [
    {
     "name": "stdout",
     "output_type": "stream",
     "text": [
      "CPU times: user 22.1 s, sys: 515 ms, total: 22.6 s\n",
      "Wall time: 43.1 s\n"
     ]
    },
    {
     "data": {
      "text/plain": [
       "[487, 1888, 203, 1610, 0, 0, 2702, 3831, 4226, 1169]"
      ]
     },
     "execution_count": 54,
     "metadata": {},
     "output_type": "execute_result"
    }
   ],
   "source": [
    "%%time\n",
    "\n",
    "tbin_tasks = []\n",
    "\n",
    "for tbin in tbins:\n",
    "    tbin_binned = io_df_read_write_worst_3[io_df_read_write_worst_3[\"tbin\"] == tbin]\n",
    "    tbin_ct = tbin_binned[\"index\"].count()\n",
    "    tbin_tasks.append(tbin_ct)\n",
    "    \n",
    "tbin_task_results, = dask.compute(tbin_tasks)\n",
    "\n",
    "tbin_task_results"
   ]
  },
  {
   "cell_type": "code",
   "execution_count": 55,
   "id": "8e580388-6a63-4f26-8509-48d323c22131",
   "metadata": {},
   "outputs": [
    {
     "name": "stdout",
     "output_type": "stream",
     "text": [
      "[3 1 7 8 6]\n",
      "[1610, 1888, 3831, 4226, 2702]\n"
     ]
    },
    {
     "data": {
      "text/plain": [
       "[15.168275833129883,\n",
       " 11.997488657633463,\n",
       " 21.509850184122723,\n",
       " 23.095243771870933,\n",
       " 19.92445659637451]"
      ]
     },
     "execution_count": 55,
     "metadata": {},
     "output_type": "execute_result"
    }
   ],
   "source": [
    "worst_tbin_task_results_ixs = np.argpartition(tbin_task_results, 5)[5:]\n",
    "print(worst_tbin_task_results_ixs)\n",
    "print([tbin_task_results[i] for i in worst_tbin_task_results_ixs])\n",
    "worst_tbins = [tbins[i] for i in worst_tbin_task_results_ixs]\n",
    "worst_tbins"
   ]
  },
  {
   "cell_type": "code",
   "execution_count": 56,
   "id": "5b5c1c4a-ff85-4b14-8112-290ba3bb8d1a",
   "metadata": {},
   "outputs": [],
   "source": [
    "io_df_read_write_worst_4 = io_df_read_write_worst_3[io_df_read_write_worst_3[\"tbin\"].isin(worst_tbins)]"
   ]
  },
  {
   "cell_type": "code",
   "execution_count": 57,
   "id": "5fe1a53b-1b19-44b4-806d-2431a0d743af",
   "metadata": {},
   "outputs": [
    {
     "name": "stdout",
     "output_type": "stream",
     "text": [
      "CPU times: user 20.2 s, sys: 384 ms, total: 20.6 s\n",
      "Wall time: 42 s\n"
     ]
    },
    {
     "data": {
      "text/plain": [
       "16124"
      ]
     },
     "execution_count": 57,
     "metadata": {},
     "output_type": "execute_result"
    }
   ],
   "source": [
    "%%time\n",
    "io_df_read_write_worst_3[\"index\"].count().compute()"
   ]
  },
  {
   "cell_type": "code",
   "execution_count": null,
   "id": "2d08daf6-e5b4-4264-9373-9cdea371f6b5",
   "metadata": {},
   "outputs": [],
   "source": []
  }
 ],
 "metadata": {
  "kernelspec": {
   "display_name": "iopp",
   "language": "python",
   "name": "iopp"
  },
  "language_info": {
   "codemirror_mode": {
    "name": "ipython",
    "version": 3
   },
   "file_extension": ".py",
   "mimetype": "text/x-python",
   "name": "python",
   "nbconvert_exporter": "python",
   "pygments_lexer": "ipython3",
   "version": "3.9.7"
  }
 },
 "nbformat": 4,
 "nbformat_minor": 5
}
