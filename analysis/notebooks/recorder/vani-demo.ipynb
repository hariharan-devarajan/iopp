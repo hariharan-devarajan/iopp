{
 "cells": [
  {
   "cell_type": "markdown",
   "id": "84554adc-b915-4a18-8dfe-bc92f20bb22d",
   "metadata": {
    "tags": []
   },
   "source": [
    "# Automated I/O Bottleneck Analysis"
   ]
  },
  {
   "cell_type": "code",
   "execution_count": 1,
   "id": "d83de7c9-34d4-426f-9113-9b22696da115",
   "metadata": {},
   "outputs": [],
   "source": [
    "%load_ext autoreload"
   ]
  },
  {
   "cell_type": "code",
   "execution_count": 2,
   "id": "dbd53a86-5d01-4072-855b-0cd9e27d0ea3",
   "metadata": {},
   "outputs": [
    {
     "name": "stdout",
     "output_type": "stream",
     "text": [
      "/usr/workspace/iopp/.conda/envs/jupyter/bin/python\n",
      "3.9.7 (default, Sep 16 2021, 16:03:39) \n",
      "[GCC 7.3.0]\n",
      "sys.version_info(major=3, minor=9, micro=7, releaselevel='final', serial=0)\n"
     ]
    }
   ],
   "source": [
    "import os\n",
    "import sys\n",
    "print(sys.executable)\n",
    "print(sys.version)\n",
    "print(sys.version_info)\n",
    "sys.path.append(os.path.dirname(os.getcwd()))"
   ]
  },
  {
   "cell_type": "code",
   "execution_count": 3,
   "id": "378b4a4c-c841-4e2e-86cd-bf9050ccd8b8",
   "metadata": {},
   "outputs": [
    {
     "name": "stdout",
     "output_type": "stream",
     "text": [
      "Requirement already satisfied: anytree in /usr/WS2/iopp/.conda/envs/jupyter/lib/python3.9/site-packages (2.8.0)\n",
      "Requirement already satisfied: six>=1.9.0 in /usr/WS2/iopp/.conda/envs/jupyter/lib/python3.9/site-packages (from anytree) (1.16.0)\n"
     ]
    }
   ],
   "source": [
    "import sys\n",
    "# !conda install --yes --prefix {sys.prefix} anytree\n",
    "# !conda install -c conda-forge --yes --prefix {sys.prefix} anytree\n",
    "! {sys.executable} -m pip install anytree"
   ]
  },
  {
   "cell_type": "code",
   "execution_count": 4,
   "id": "5b7b08bb-ec82-4050-b6e4-8826d8a315a0",
   "metadata": {},
   "outputs": [],
   "source": [
    "# Filter unnecessary warnings\n",
    "import warnings\n",
    "warnings.simplefilter(action='ignore', category=FutureWarning)\n",
    "warnings.simplefilter(action='ignore', category=UserWarning)"
   ]
  },
  {
   "cell_type": "code",
   "execution_count": 5,
   "id": "57954d9c-7275-4fc3-afac-c4c286bf3a12",
   "metadata": {},
   "outputs": [],
   "source": [
    "from IPython.display import HTML\n",
    "from vani.analyzer import Analyzer, ClusterOptions, ClusterType"
   ]
  },
  {
   "cell_type": "code",
   "execution_count": 6,
   "id": "dda4f201-5625-4652-a742-a78a0a15b1da",
   "metadata": {},
   "outputs": [],
   "source": [
    "%autoreload 2\n",
    "\n",
    "co = ClusterOptions(cluster_type=ClusterType.Local)\n",
    "vn = Analyzer(n_workers=8, cluster_options=co, debug=False)"
   ]
  },
  {
   "cell_type": "code",
   "execution_count": 7,
   "id": "7800665d-e269-4e47-9d8f-e2151b7e25ed",
   "metadata": {},
   "outputs": [
    {
     "name": "stderr",
     "output_type": "stream",
     "text": [
      "Analysis completed: 100%|███████████████████████████████████████████████████████████████████████████████████████████████████████████████████████████████████████████████████████████████████████████████████████| 3/3 [00:34<00:00, 11.66s/it]\n"
     ]
    }
   ],
   "source": [
    "%autoreload 2\n",
    "\n",
    "# Analysis configuration\n",
    "log_dir = \"/usr/workspace/iopp/vani_app_logs/cm1/nodes-32/workflow-4\"\n",
    "\n",
    "# Do the analysis\n",
    "observations = vn.analyze_parquet_logs(log_dir, max_depth=3, persist_stats=True, stats_file_prefix=\"cm1_\") "
   ]
  },
  {
   "cell_type": "code",
   "execution_count": 12,
   "id": "28185511-4a13-4f7f-b7de-fb29cbfa79e2",
   "metadata": {},
   "outputs": [
    {
     "name": "stdout",
     "output_type": "stream",
     "text": [
      "├── I/O read operationscomprising 94.6% of total I/O size processing 0.1% of files low parallelism of 100.0%\n",
      "│   ├── 0.000-389.252processing 0.1% of files low parallelism of 2.5%\n",
      "│   ├── 0.000-194.626processing 0.1% of files low parallelism of 2.5%\n",
      "│   ├── 0.000-97.313processing 0.1% of files low parallelism of 2.5%\n",
      "│   ├── 389.252-778.504comprising 92.1% of total I/O size processing 0.1% of files low parallelism of 97.5%\n",
      "│   ├── 583.878-778.504comprising 92.1% of total I/O size processing 0.1% of files low parallelism of 97.5%\n",
      "│   ├── 583.878-681.191processing 0.1% of files low parallelism of 10.0%\n",
      "│   └── 681.191-778.504comprising 82.6% of total I/O size processing 0.1% of files low parallelism of 87.5%\n",
      "├── I/O write operationslow time per process of 0.57940s/p processing 49.9% of files low bandwidth of 0.49590GB/s low parallelism of 0.1% low transfer size of 0.50970MB\n",
      "│   ├── 0.000-389.252low time per process of 0.31513s/p processing 28.8% of files low bandwidth of 0.49601GB/s low parallelism of 0.1% low transfer size of 0.50211MB\n",
      "│   ├── 0.000-194.626low time per process of 0.14477s/p processing 14.0% of files low bandwidth of 0.46762GB/s low parallelism of 0.1% low transfer size of 0.46606MB\n",
      "│   ├── 0.000-97.313low time per process of 0.06024s/p processing 6.6% of files low bandwidth of 0.50599GB/s low parallelism of 0.1% low transfer size of 0.52248MB\n",
      "│   ├── 97.313-194.626low time per process of 0.08454s/p processing 8.0% of files low bandwidth of 0.43699GB/s low parallelism of 0.1% low transfer size of 0.42103MB\n",
      "│   ├── 194.626-389.252low time per process of 0.17035s/p processing 15.4% of files low bandwidth of 0.52169GB/s low parallelism of 0.1% low transfer size of 0.53471MB\n",
      "│   ├── 194.626-291.939low time per process of 0.06880s/p processing 8.1% of files low bandwidth of 0.47526GB/s low parallelism of 0.1% low transfer size of 0.41423MB\n",
      "│   ├── 291.939-389.252low time per process of 0.10155s/p processing 8.0% of files low bandwidth of 0.57033GB/s low parallelism of 0.1% low transfer size of 0.66092MB\n",
      "│   ├── 389.252-778.504low time per process of 0.26427s/p processing 21.8% of files low bandwidth of 0.49575GB/s low parallelism of 0.1% low transfer size of 0.51977MB\n",
      "│   ├── 389.252-583.878low time per process of 0.16320s/p processing 15.0% of files low bandwidth of 0.46971GB/s low parallelism of 0.1% low transfer size of 0.43169MB\n",
      "│   ├── 389.252-486.565low time per process of 0.07010s/p processing 8.0% of files low bandwidth of 0.47228GB/s low parallelism of 0.1% low transfer size of 0.42103MB\n",
      "│   ├── 486.565-583.878low time per process of 0.09310s/p processing 7.6% of files low bandwidth of 0.46699GB/s low parallelism of 0.1% low transfer size of 0.44293MB\n",
      "│   ├── 583.878-778.504low time per process of 0.10107s/p processing 7.4% of files low bandwidth of 0.55201GB/s low parallelism of 0.1% low transfer size of 0.71001MB\n",
      "│   ├── 583.878-681.191low time per process of 0.10107s/p processing 7.4% of files low bandwidth of 0.55201GB/s low parallelism of 0.1% low transfer size of 0.71001MB\n",
      "└── I/O metadata operationslow time per process of 0.07537s/p doing 86.9% of total I/O ops low parallelism of 100.0%\n",
      "    ├── 0.000-389.252low time per process of 2.50190s/p doing 36.7% of total I/O ops processing 57.7% of files low parallelism of 2.6%\n",
      "    ├── 0.000-194.626low time per process of 2.21638s/p doing 17.1% of total I/O ops processing 28.1% of files low parallelism of 2.6%\n",
      "    ├── 0.000-97.313low time per process of 2.02989s/p processing 13.4% of files low parallelism of 2.6%\n",
      "    ├── 97.313-194.626low time per process of 0.19232s/p doing 9.0% of total I/O ops processing 15.4% of files low parallelism of 2.5%\n",
      "    ├── 194.626-389.252low time per process of 0.29445s/p doing 19.6% of total I/O ops processing 30.3% of files low parallelism of 2.5%\n",
      "    ├── 194.626-291.939low time per process of 0.12430s/p doing 9.1% of total I/O ops processing 15.7% of files low parallelism of 2.5%\n",
      "    ├── 291.939-389.252low time per process of 0.17014s/p doing 10.5% of total I/O ops processing 15.3% of files low parallelism of 2.5%\n",
      "    ├── 389.252-778.504low time per process of 0.01087s/p doing 50.3% of total I/O ops processing 43.1% of files low parallelism of 100.0%\n",
      "    ├── 389.252-583.878low time per process of 0.26988s/p doing 17.5% of total I/O ops processing 29.4% of files low parallelism of 2.5%\n",
      "    ├── 389.252-486.565low time per process of 0.18861s/p doing 8.9% of total I/O ops processing 15.4% of files low parallelism of 2.5%\n",
      "    ├── 486.565-583.878low time per process of 0.08126s/p doing 8.6% of total I/O ops processing 14.7% of files low parallelism of 2.5%\n",
      "    ├── 583.878-778.504doing 32.7% of total I/O ops processing 14.4% of files low parallelism of 100.0%\n",
      "    ├── 583.878-681.191low time per process of 0.03275s/p doing 12.3% of total I/O ops processing 14.4% of files low parallelism of 12.5%\n",
      "    └── 681.191-778.504doing 20.4% of total I/O ops processing 0.1% of files low parallelism of 87.5%\n"
     ]
    }
   ],
   "source": [
    "%autoreload 2\n",
    "observations.generate_hypotheses()"
   ]
  },
  {
   "cell_type": "code",
   "execution_count": null,
   "id": "dffe4eb9-f80c-43f2-8a19-e56d4a6d960b",
   "metadata": {},
   "outputs": [],
   "source": []
  }
 ],
 "metadata": {
  "kernelspec": {
   "display_name": "iopp",
   "language": "python",
   "name": "iopp"
  },
  "language_info": {
   "codemirror_mode": {
    "name": "ipython",
    "version": 3
   },
   "file_extension": ".py",
   "mimetype": "text/x-python",
   "name": "python",
   "nbconvert_exporter": "python",
   "pygments_lexer": "ipython3",
   "version": "3.9.7"
  }
 },
 "nbformat": 4,
 "nbformat_minor": 5
}
