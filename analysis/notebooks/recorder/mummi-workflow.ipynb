{
 "cells": [
  {
   "cell_type": "markdown",
   "metadata": {},
   "source": [
    "# Analyze MuMMI workflow expansion"
   ]
  },
  {
   "cell_type": "markdown",
   "metadata": {},
   "source": [
    "## Global Configurations"
   ]
  },
  {
   "cell_type": "code",
   "execution_count": 1,
   "metadata": {},
   "outputs": [],
   "source": [
    "notebook_name = \"mummi-workflow\""
   ]
  },
  {
   "cell_type": "code",
   "execution_count": 2,
   "metadata": {
    "ExecuteTime": {
     "end_time": "2021-09-16T21:44:28.361097Z",
     "start_time": "2021-09-16T21:44:28.356562Z"
    }
   },
   "outputs": [],
   "source": [
    "parquet_folder=\"/p/gpfs1/iopp/temp/mummi_c4_test_10192021/recorder_logs/recorder-20220124/_parquet\""
   ]
  },
  {
   "cell_type": "code",
   "execution_count": 3,
   "metadata": {},
   "outputs": [],
   "source": [
    "num_nodes = 32"
   ]
  },
  {
   "cell_type": "markdown",
   "metadata": {},
   "source": [
    "## System Imports"
   ]
  },
  {
   "cell_type": "code",
   "execution_count": 4,
   "metadata": {},
   "outputs": [],
   "source": [
    "import socket\n",
    "import os\n",
    "import time\n",
    "from time import sleep"
   ]
  },
  {
   "cell_type": "markdown",
   "metadata": {
    "tags": []
   },
   "source": [
    "## Create Dask Cluster for analysis"
   ]
  },
  {
   "cell_type": "markdown",
   "metadata": {},
   "source": [
    "### Dask Job Queue Imports"
   ]
  },
  {
   "cell_type": "code",
   "execution_count": 5,
   "metadata": {},
   "outputs": [
    {
     "name": "stderr",
     "output_type": "stream",
     "text": [
      "/usr/workspace/iopp/.conda/envs/jupyter/lib/python3.9/site-packages/dask_jobqueue/core.py:17: FutureWarning: format_bytes is deprecated and will be removed in a future release. Please use dask.utils.format_bytes instead.\n",
      "  from distributed.utils import format_bytes, parse_bytes, tmpfile, get_ip_interface\n",
      "/usr/workspace/iopp/.conda/envs/jupyter/lib/python3.9/site-packages/dask_jobqueue/core.py:17: FutureWarning: parse_bytes is deprecated and will be removed in a future release. Please use dask.utils.parse_bytes instead.\n",
      "  from distributed.utils import format_bytes, parse_bytes, tmpfile, get_ip_interface\n",
      "/usr/workspace/iopp/.conda/envs/jupyter/lib/python3.9/site-packages/dask_jobqueue/htcondor.py:6: FutureWarning: parse_bytes is deprecated and will be removed in a future release. Please use dask.utils.parse_bytes instead.\n",
      "  from distributed.utils import parse_bytes\n"
     ]
    }
   ],
   "source": [
    "import dask_jobqueue\n",
    "from dask_jobqueue import LSFCluster"
   ]
  },
  {
   "cell_type": "markdown",
   "metadata": {},
   "source": [
    "### Dask Worker configuration\n",
    "When we use dask for analysis, we need to consider the type of analysis. In this case we plan to utilize dask dataframes for analysis that is typically memory intensive. Therefore, we allocate the whole memory per node and use only 4 worker processes per node. More worker processes reduce memory available per worker resulting in frequent memory swap from filesystem."
   ]
  },
  {
   "cell_type": "code",
   "execution_count": 6,
   "metadata": {
    "ExecuteTime": {
     "end_time": "2021-09-16T21:37:00.088821Z",
     "start_time": "2021-09-16T21:37:00.076921Z"
    }
   },
   "outputs": [],
   "source": [
    "node_memory = 256 # node memory in GB\n",
    "n_workers_per_node = 4 # number of worker processes per node\n",
    "worker_time = \"02:00\" # job time per node for worker\n",
    "worker_queue = \"pdebug\" # queue to be used per worker\n",
    "n_workers = 8 # number of workers to be used for analysis"
   ]
  },
  {
   "cell_type": "markdown",
   "metadata": {},
   "source": [
    "Other configurations we can compute"
   ]
  },
  {
   "cell_type": "code",
   "execution_count": 7,
   "metadata": {},
   "outputs": [],
   "source": [
    "host = socket.gethostname()\n",
    "dashboard_address = '{}:8787'.format(socket.gethostname())\n",
    "memory = '{}GB'.format(node_memory/n_workers_per_node)\n",
    "job_extra = ['-nnodes 1', \n",
    "             '-G asccasc', \n",
    "             '-q {}'.format(worker_queue), \n",
    "             '-W {}'.format(worker_time), \n",
    "             '-o {}.log'.format(notebook_name), \n",
    "             '-e {}.log'.format(notebook_name)]"
   ]
  },
  {
   "cell_type": "markdown",
   "metadata": {},
   "source": [
    "### Create Dask Cluster "
   ]
  },
  {
   "cell_type": "code",
   "execution_count": 8,
   "metadata": {
    "ExecuteTime": {
     "end_time": "2021-09-16T21:37:00.580186Z",
     "start_time": "2021-09-16T21:37:00.574875Z"
    }
   },
   "outputs": [
    {
     "name": "stdout",
     "output_type": "stream",
     "text": [
      "{'cls': <class 'distributed.scheduler.Scheduler'>, 'options': {'protocol': 'tcp://', 'interface': None, 'host': 'lassen709', 'dashboard_address': 'lassen709:8787', 'security': None}}\n",
      "Created Cluster with job script\n",
      " #!/usr/bin/env bash\n",
      "\n",
      "#BSUB -J dask-worker\n",
      "#BSUB -nnodes 1\n",
      "#BSUB -G asccasc\n",
      "#BSUB -q pdebug\n",
      "#BSUB -W 02:00\n",
      "#BSUB -o mummi-workflow.log\n",
      "#BSUB -e mummi-workflow.log\n",
      "JOB_ID=${LSB_JOBID%.*}\n",
      "\n",
      "/usr/workspace/iopp/.conda/envs/jupyter/bin/python -m distributed.cli.dask_worker tcp://192.168.66.201:34373 --nthreads 1 --nprocs 4 --memory-limit 59.60GiB --name name --nanny --death-timeout 60\n",
      "\n"
     ]
    }
   ],
   "source": [
    "cluster = LSFCluster(cores = n_workers_per_node,processes=n_workers_per_node, memory='{}GB'.format(node_memory), \n",
    "                     header_skip=['-n ','-R','-M', '-P', '-W 00:30'], \n",
    "                     job_extra = job_extra, \n",
    "                     use_stdin=True, host = host,dashboard_address = dashboard_address)\n",
    "if cluster:\n",
    "    print(\"Created Cluster with job script\\n {}\".format(cluster.job_script()))"
   ]
  },
  {
   "cell_type": "markdown",
   "metadata": {},
   "source": [
    "### Dask Analysis Imports"
   ]
  },
  {
   "cell_type": "code",
   "execution_count": 9,
   "metadata": {},
   "outputs": [],
   "source": [
    "import dask.dataframe as dd\n",
    "from dask.distributed import wait, progress\n",
    "from dask.diagnostics import ProgressBar\n",
    "from dask.distributed import Client\n",
    "import matplotlib.pyplot as plt\n",
    "import numpy as np\n",
    "import concurrent.futures\n",
    "from concurrent.futures import ThreadPoolExecutor"
   ]
  },
  {
   "cell_type": "markdown",
   "metadata": {},
   "source": [
    "### Create Dask Client"
   ]
  },
  {
   "cell_type": "code",
   "execution_count": 10,
   "metadata": {},
   "outputs": [],
   "source": [
    "#from dask.distributed import Client, LocalCluster\n",
    "#cluster = LocalCluster()\n",
    "client = Client(cluster)"
   ]
  },
  {
   "cell_type": "code",
   "execution_count": 11,
   "metadata": {},
   "outputs": [
    {
     "data": {
      "text/html": [
       "<div>\n",
       "    <div style=\"width: 24px; height: 24px; background-color: #e1e1e1; border: 3px solid #9D9D9D; border-radius: 5px; position: absolute;\"> </div>\n",
       "    <div style=\"margin-left: 48px;\">\n",
       "        <h3 style=\"margin-bottom: 0px;\">Client</h3>\n",
       "        <p style=\"color: #9D9D9D; margin-bottom: 0px;\">Client-29ad09ba-7e3f-11ec-8c5a-70e28414505f</p>\n",
       "        <table style=\"width: 100%; text-align: left;\">\n",
       "\n",
       "        <tr>\n",
       "        \n",
       "            <td style=\"text-align: left;\"><strong>Connection method:</strong> Cluster object</td>\n",
       "            <td style=\"text-align: left;\"><strong>Cluster type:</strong> dask_jobqueue.LSFCluster</td>\n",
       "        \n",
       "        </tr>\n",
       "\n",
       "        \n",
       "            <tr>\n",
       "                <td style=\"text-align: left;\">\n",
       "                    <strong>Dashboard: </strong> <a href=\"http://192.168.66.201:8787/status\" target=\"_blank\">http://192.168.66.201:8787/status</a>\n",
       "                </td>\n",
       "                <td style=\"text-align: left;\"></td>\n",
       "            </tr>\n",
       "        \n",
       "\n",
       "        </table>\n",
       "\n",
       "        \n",
       "            <details>\n",
       "            <summary style=\"margin-bottom: 20px;\"><h3 style=\"display: inline;\">Cluster Info</h3></summary>\n",
       "            <div class=\"jp-RenderedHTMLCommon jp-RenderedHTML jp-mod-trusted jp-OutputArea-output\">\n",
       "    <div style=\"width: 24px; height: 24px; background-color: #e1e1e1; border: 3px solid #9D9D9D; border-radius: 5px; position: absolute;\">\n",
       "    </div>\n",
       "    <div style=\"margin-left: 48px;\">\n",
       "        <h3 style=\"margin-bottom: 0px; margin-top: 0px;\">LSFCluster</h3>\n",
       "        <p style=\"color: #9D9D9D; margin-bottom: 0px;\">0eada7e0</p>\n",
       "        <table style=\"width: 100%; text-align: left;\">\n",
       "            <tr>\n",
       "                <td style=\"text-align: left;\">\n",
       "                    <strong>Dashboard:</strong> <a href=\"http://192.168.66.201:8787/status\" target=\"_blank\">http://192.168.66.201:8787/status</a>\n",
       "                </td>\n",
       "                <td style=\"text-align: left;\">\n",
       "                    <strong>Workers:</strong> 0\n",
       "                </td>\n",
       "            </tr>\n",
       "            <tr>\n",
       "                <td style=\"text-align: left;\">\n",
       "                    <strong>Total threads:</strong> 0\n",
       "                </td>\n",
       "                <td style=\"text-align: left;\">\n",
       "                    <strong>Total memory:</strong> 0 B\n",
       "                </td>\n",
       "            </tr>\n",
       "            \n",
       "        </table>\n",
       "\n",
       "        <details>\n",
       "            <summary style=\"margin-bottom: 20px;\">\n",
       "                <h3 style=\"display: inline;\">Scheduler Info</h3>\n",
       "            </summary>\n",
       "\n",
       "            <div style=\"\">\n",
       "    <div>\n",
       "        <div style=\"width: 24px; height: 24px; background-color: #FFF7E5; border: 3px solid #FF6132; border-radius: 5px; position: absolute;\"> </div>\n",
       "        <div style=\"margin-left: 48px;\">\n",
       "            <h3 style=\"margin-bottom: 0px;\">Scheduler</h3>\n",
       "            <p style=\"color: #9D9D9D; margin-bottom: 0px;\">Scheduler-c41ff9a2-5325-4fc1-b807-1f492f017a74</p>\n",
       "            <table style=\"width: 100%; text-align: left;\">\n",
       "                <tr>\n",
       "                    <td style=\"text-align: left;\">\n",
       "                        <strong>Comm:</strong> tcp://192.168.66.201:34373\n",
       "                    </td>\n",
       "                    <td style=\"text-align: left;\">\n",
       "                        <strong>Workers:</strong> 0\n",
       "                    </td>\n",
       "                </tr>\n",
       "                <tr>\n",
       "                    <td style=\"text-align: left;\">\n",
       "                        <strong>Dashboard:</strong> <a href=\"http://192.168.66.201:8787/status\" target=\"_blank\">http://192.168.66.201:8787/status</a>\n",
       "                    </td>\n",
       "                    <td style=\"text-align: left;\">\n",
       "                        <strong>Total threads:</strong> 0\n",
       "                    </td>\n",
       "                </tr>\n",
       "                <tr>\n",
       "                    <td style=\"text-align: left;\">\n",
       "                        <strong>Started:</strong> Just now\n",
       "                    </td>\n",
       "                    <td style=\"text-align: left;\">\n",
       "                        <strong>Total memory:</strong> 0 B\n",
       "                    </td>\n",
       "                </tr>\n",
       "            </table>\n",
       "        </div>\n",
       "    </div>\n",
       "\n",
       "    <details style=\"margin-left: 48px;\">\n",
       "        <summary style=\"margin-bottom: 20px;\">\n",
       "            <h3 style=\"display: inline;\">Workers</h3>\n",
       "        </summary>\n",
       "\n",
       "        \n",
       "\n",
       "    </details>\n",
       "</div>\n",
       "\n",
       "        </details>\n",
       "    </div>\n",
       "</div>\n",
       "            </details>\n",
       "        \n",
       "\n",
       "    </div>\n",
       "</div>"
      ],
      "text/plain": [
       "<Client: 'tcp://192.168.66.201:34373' processes=0 threads=0, memory=0 B>"
      ]
     },
     "execution_count": 11,
     "metadata": {},
     "output_type": "execute_result"
    }
   ],
   "source": [
    "client"
   ]
  },
  {
   "cell_type": "markdown",
   "metadata": {},
   "source": [
    "### Spawn cluster nodes"
   ]
  },
  {
   "cell_type": "code",
   "execution_count": 12,
   "metadata": {
    "ExecuteTime": {
     "end_time": "2021-09-16T21:37:00.937949Z",
     "start_time": "2021-09-16T21:37:00.931813Z"
    }
   },
   "outputs": [],
   "source": [
    "cluster.scale(n_workers)"
   ]
  },
  {
   "cell_type": "code",
   "execution_count": 13,
   "metadata": {},
   "outputs": [
    {
     "name": "stdout",
     "output_type": "stream",
     "text": [
      "Waiting for workers completed 3 of 8\n",
      "7 workers started\n"
     ]
    }
   ],
   "source": [
    "val = len(client.scheduler_info()[\"workers\"])\n",
    "while ((client.status == \"running\") and ( val < n_workers_per_node)):\n",
    "    print(\"Waiting for workers completed {} of {}\".format(val, n_workers), end=\"\\r\")\n",
    "    sleep(1.0)\n",
    "    val = len(client.scheduler_info()[\"workers\"])\n",
    "print(\"\\n{} workers started\".format(len(client.scheduler_info()[\"workers\"])))"
   ]
  },
  {
   "cell_type": "markdown",
   "metadata": {},
   "source": [
    "## Analysis Utility Functions"
   ]
  },
  {
   "cell_type": "markdown",
   "metadata": {},
   "source": [
    "### Progress Bars"
   ]
  },
  {
   "cell_type": "code",
   "execution_count": 14,
   "metadata": {},
   "outputs": [],
   "source": [
    "pbar = ProgressBar()\n",
    "pbar.register()"
   ]
  },
  {
   "cell_type": "markdown",
   "metadata": {},
   "source": [
    "### Timer functions"
   ]
  },
  {
   "cell_type": "code",
   "execution_count": 15,
   "metadata": {
    "ExecuteTime": {
     "end_time": "2021-09-16T21:44:25.856496Z",
     "start_time": "2021-09-16T21:44:25.849113Z"
    }
   },
   "outputs": [],
   "source": [
    "def timer(func):\n",
    "    @functools.wraps(func)\n",
    "    def wrapper_timer(*args, **kwargs):\n",
    "        tic = time.perf_counter()\n",
    "        value = func(*args, **kwargs)\n",
    "        toc = time.perf_counter()\n",
    "        elapsed_time = toc - tic\n",
    "        print(f\"Elapsed time: {elapsed_time:0.4f} seconds\")\n",
    "        return value\n",
    "    return wrapper_timer"
   ]
  },
  {
   "cell_type": "markdown",
   "metadata": {},
   "source": [
    "### Threading process "
   ]
  },
  {
   "cell_type": "code",
   "execution_count": 16,
   "metadata": {
    "ExecuteTime": {
     "end_time": "2021-09-16T21:44:26.580383Z",
     "start_time": "2021-09-16T21:44:26.570029Z"
    }
   },
   "outputs": [],
   "source": [
    "def thread_print(string):\n",
    "    print(f'{string}\\n', end='')\n",
    "def thread_process( num_ranks, func, start=0, list_range=[], workers=40):\n",
    "    with ThreadPoolExecutor(max_workers = workers) as executor:\n",
    "        if len(list_range) == 0:\n",
    "            list_range = range(start, num_ranks) \n",
    "        future_gen = {executor.submit(func, rank): rank for rank in list_range}\n",
    "        for future in concurrent.futures.as_completed(future_gen):\n",
    "            rank = future_gen[future]\n",
    "            try:\n",
    "                data = future.result()\n",
    "            except Exception as exc:\n",
    "                thread_print('%r generated an exception: %s' % (rank, exc))\n",
    "            else:\n",
    "                thread_print('%r data computed' % (rank))"
   ]
  },
  {
   "cell_type": "markdown",
   "metadata": {},
   "source": [
    "### Application Logs in Parquet format"
   ]
  },
  {
   "cell_type": "markdown",
   "metadata": {},
   "source": [
    "## Initial Boostrapping"
   ]
  },
  {
   "cell_type": "markdown",
   "metadata": {},
   "source": [
    "### Read Application logs into dask dataframe"
   ]
  },
  {
   "cell_type": "code",
   "execution_count": 17,
   "metadata": {
    "ExecuteTime": {
     "end_time": "2021-09-16T21:44:32.812813Z",
     "start_time": "2021-09-16T21:44:31.634540Z"
    }
   },
   "outputs": [],
   "source": [
    "ddf = dd.read_parquet(\"{}/*.parquet\".format(parquet_folder), engine=\"pyarrow-dataset\")"
   ]
  },
  {
   "cell_type": "code",
   "execution_count": 18,
   "metadata": {
    "ExecuteTime": {
     "end_time": "2021-09-16T21:44:33.462433Z",
     "start_time": "2021-09-16T21:44:33.456132Z"
    }
   },
   "outputs": [
    {
     "name": "stdout",
     "output_type": "stream",
     "text": [
      "Dask dataframe is split into 140 partitions\n"
     ]
    }
   ],
   "source": [
    "print(\"Dask dataframe is split into {} partitions\".format(ddf.npartitions))"
   ]
  },
  {
   "cell_type": "code",
   "execution_count": 19,
   "metadata": {
    "ExecuteTime": {
     "end_time": "2021-09-16T21:37:12.311012Z",
     "start_time": "2021-09-16T21:37:12.306571Z"
    }
   },
   "outputs": [
    {
     "name": "stdout",
     "output_type": "stream",
     "text": [
      "Columns present in dataset\n",
      "Index(['index', 'proc', 'rank', 'thread_id', 'cat', 'tstart', 'tend',\n",
      "       'func_id', 'level', 'hostname', 'arg_count', 'app', 'args_1', 'args_2',\n",
      "       'args_3', 'args_4', 'args_5', 'args_6', 'args_7', 'args_8', 'args_9',\n",
      "       'args_10'],\n",
      "      dtype='object')\n"
     ]
    }
   ],
   "source": [
    "print(\"Columns present in dataset\")\n",
    "print(ddf.columns)"
   ]
  },
  {
   "cell_type": "code",
   "execution_count": 20,
   "metadata": {},
   "outputs": [
    {
     "data": {
      "text/plain": [
       "index          int64\n",
       "proc           int64\n",
       "rank           int32\n",
       "thread_id      int32\n",
       "cat            int32\n",
       "tstart       float32\n",
       "tend         float32\n",
       "func_id       object\n",
       "level          int32\n",
       "hostname      object\n",
       "arg_count      int32\n",
       "app           object\n",
       "args_1        object\n",
       "args_2        object\n",
       "args_3        object\n",
       "args_4        object\n",
       "args_5        object\n",
       "args_6        object\n",
       "args_7        object\n",
       "args_8        object\n",
       "args_9        object\n",
       "args_10       object\n",
       "dtype: object"
      ]
     },
     "execution_count": 20,
     "metadata": {},
     "output_type": "execute_result"
    }
   ],
   "source": [
    "ddf.dtypes"
   ]
  },
  {
   "cell_type": "code",
   "execution_count": 21,
   "metadata": {
    "ExecuteTime": {
     "end_time": "2021-09-16T21:37:12.873991Z",
     "start_time": "2021-09-16T21:37:12.871121Z"
    }
   },
   "outputs": [
    {
     "data": {
      "text/html": [
       "<div>\n",
       "<style scoped>\n",
       "    .dataframe tbody tr th:only-of-type {\n",
       "        vertical-align: middle;\n",
       "    }\n",
       "\n",
       "    .dataframe tbody tr th {\n",
       "        vertical-align: top;\n",
       "    }\n",
       "\n",
       "    .dataframe thead th {\n",
       "        text-align: right;\n",
       "    }\n",
       "</style>\n",
       "<table border=\"1\" class=\"dataframe\">\n",
       "  <thead>\n",
       "    <tr style=\"text-align: right;\">\n",
       "      <th></th>\n",
       "      <th>index</th>\n",
       "      <th>proc</th>\n",
       "      <th>rank</th>\n",
       "      <th>thread_id</th>\n",
       "      <th>cat</th>\n",
       "      <th>tstart</th>\n",
       "      <th>tend</th>\n",
       "      <th>func_id</th>\n",
       "      <th>level</th>\n",
       "      <th>hostname</th>\n",
       "      <th>...</th>\n",
       "      <th>args_1</th>\n",
       "      <th>args_2</th>\n",
       "      <th>args_3</th>\n",
       "      <th>args_4</th>\n",
       "      <th>args_5</th>\n",
       "      <th>args_6</th>\n",
       "      <th>args_7</th>\n",
       "      <th>args_8</th>\n",
       "      <th>args_9</th>\n",
       "      <th>args_10</th>\n",
       "    </tr>\n",
       "  </thead>\n",
       "  <tbody>\n",
       "    <tr>\n",
       "      <th>0</th>\n",
       "      <td>1</td>\n",
       "      <td>26357</td>\n",
       "      <td>0</td>\n",
       "      <td>1154736</td>\n",
       "      <td>2</td>\n",
       "      <td>0.089153</td>\n",
       "      <td>0.089153</td>\n",
       "      <td>MPI_Comm_rank</td>\n",
       "      <td>0</td>\n",
       "      <td>lassen123</td>\n",
       "      <td>...</td>\n",
       "      <td>MPI_COMM_WORLD</td>\n",
       "      <td>0</td>\n",
       "      <td></td>\n",
       "      <td></td>\n",
       "      <td></td>\n",
       "      <td></td>\n",
       "      <td></td>\n",
       "      <td></td>\n",
       "      <td></td>\n",
       "      <td></td>\n",
       "    </tr>\n",
       "    <tr>\n",
       "      <th>1</th>\n",
       "      <td>2</td>\n",
       "      <td>26357</td>\n",
       "      <td>0</td>\n",
       "      <td>1154736</td>\n",
       "      <td>2</td>\n",
       "      <td>0.089168</td>\n",
       "      <td>0.089168</td>\n",
       "      <td>MPI_Comm_size</td>\n",
       "      <td>0</td>\n",
       "      <td>lassen123</td>\n",
       "      <td>...</td>\n",
       "      <td>MPI_COMM_WORLD</td>\n",
       "      <td>32</td>\n",
       "      <td></td>\n",
       "      <td></td>\n",
       "      <td></td>\n",
       "      <td></td>\n",
       "      <td></td>\n",
       "      <td></td>\n",
       "      <td></td>\n",
       "      <td></td>\n",
       "    </tr>\n",
       "    <tr>\n",
       "      <th>2</th>\n",
       "      <td>3</td>\n",
       "      <td>26357</td>\n",
       "      <td>0</td>\n",
       "      <td>1154736</td>\n",
       "      <td>0</td>\n",
       "      <td>3.760679</td>\n",
       "      <td>3.760684</td>\n",
       "      <td>readlink</td>\n",
       "      <td>0</td>\n",
       "      <td>lassen123</td>\n",
       "      <td>...</td>\n",
       "      <td>/usr/tce/packages/test_sierra_node/bin/unwrapp...</td>\n",
       "      <td>%p</td>\n",
       "      <td>4095</td>\n",
       "      <td></td>\n",
       "      <td></td>\n",
       "      <td></td>\n",
       "      <td></td>\n",
       "      <td></td>\n",
       "      <td></td>\n",
       "      <td></td>\n",
       "    </tr>\n",
       "    <tr>\n",
       "      <th>3</th>\n",
       "      <td>4</td>\n",
       "      <td>26357</td>\n",
       "      <td>0</td>\n",
       "      <td>1154736</td>\n",
       "      <td>0</td>\n",
       "      <td>3.761142</td>\n",
       "      <td>3.761150</td>\n",
       "      <td>open</td>\n",
       "      <td>0</td>\n",
       "      <td>lassen123</td>\n",
       "      <td>...</td>\n",
       "      <td>/dev/nvidiactl</td>\n",
       "      <td>2</td>\n",
       "      <td></td>\n",
       "      <td></td>\n",
       "      <td></td>\n",
       "      <td></td>\n",
       "      <td></td>\n",
       "      <td></td>\n",
       "      <td></td>\n",
       "      <td></td>\n",
       "    </tr>\n",
       "    <tr>\n",
       "      <th>4</th>\n",
       "      <td>5</td>\n",
       "      <td>26357</td>\n",
       "      <td>0</td>\n",
       "      <td>1154736</td>\n",
       "      <td>0</td>\n",
       "      <td>3.761486</td>\n",
       "      <td>3.761492</td>\n",
       "      <td>close</td>\n",
       "      <td>0</td>\n",
       "      <td>lassen123</td>\n",
       "      <td>...</td>\n",
       "      <td>/dev/nvidiactl</td>\n",
       "      <td></td>\n",
       "      <td></td>\n",
       "      <td></td>\n",
       "      <td></td>\n",
       "      <td></td>\n",
       "      <td></td>\n",
       "      <td></td>\n",
       "      <td></td>\n",
       "      <td></td>\n",
       "    </tr>\n",
       "  </tbody>\n",
       "</table>\n",
       "<p>5 rows × 22 columns</p>\n",
       "</div>"
      ],
      "text/plain": [
       "   index   proc  rank  thread_id  cat    tstart      tend        func_id  \\\n",
       "0      1  26357     0    1154736    2  0.089153  0.089153  MPI_Comm_rank   \n",
       "1      2  26357     0    1154736    2  0.089168  0.089168  MPI_Comm_size   \n",
       "2      3  26357     0    1154736    0  3.760679  3.760684       readlink   \n",
       "3      4  26357     0    1154736    0  3.761142  3.761150           open   \n",
       "4      5  26357     0    1154736    0  3.761486  3.761492          close   \n",
       "\n",
       "   level   hostname  ...                                             args_1  \\\n",
       "0      0  lassen123  ...                                     MPI_COMM_WORLD   \n",
       "1      0  lassen123  ...                                     MPI_COMM_WORLD   \n",
       "2      0  lassen123  ...  /usr/tce/packages/test_sierra_node/bin/unwrapp...   \n",
       "3      0  lassen123  ...                                     /dev/nvidiactl   \n",
       "4      0  lassen123  ...                                     /dev/nvidiactl   \n",
       "\n",
       "  args_2 args_3 args_4 args_5 args_6 args_7 args_8 args_9 args_10  \n",
       "0      0                                                           \n",
       "1     32                                                           \n",
       "2     %p   4095                                                    \n",
       "3      2                                                           \n",
       "4                                                                  \n",
       "\n",
       "[5 rows x 22 columns]"
      ]
     },
     "execution_count": 21,
     "metadata": {},
     "output_type": "execute_result"
    }
   ],
   "source": [
    "ddf.head()"
   ]
  },
  {
   "cell_type": "markdown",
   "metadata": {},
   "source": [
    "#### Only keep level zero from MPI and FTRACE but keep all levels for I/O"
   ]
  },
  {
   "cell_type": "code",
   "execution_count": 22,
   "metadata": {
    "ExecuteTime": {
     "end_time": "2021-09-16T21:37:13.310962Z",
     "start_time": "2021-09-16T21:37:13.306458Z"
    }
   },
   "outputs": [],
   "source": [
    "ddf = ddf[(ddf['level'] == 0) | ddf['cat'].isin([0,1,3])]\n",
    "#ddf = ddf.persist()"
   ]
  },
  {
   "cell_type": "markdown",
   "metadata": {},
   "source": [
    "### Split dataframe into I/O, MPI, and trace"
   ]
  },
  {
   "cell_type": "code",
   "execution_count": 23,
   "metadata": {},
   "outputs": [],
   "source": [
    "io_ddf = ddf[ddf['cat'].isin([0,1,3])]\n",
    "exclude_dirs = [\".pyc\", \"/usr\",\"/g/g92/haridev/.nccl.conf\"]\n",
    "for directory in exclude_dirs:\n",
    "    io_ddf = io_ddf[~io_ddf['args_1'].str.contains(directory)]\n",
    "#io_ddf[rank] = io_ddf[rank].persist()\n",
    "mpi_ddf = ddf[ddf['cat'] == 2]\n",
    "#mpi_ddf[rank] = mpi_ddf[rank].persist()\n",
    "trace_ddf = ddf[ddf['cat'] == 4]"
   ]
  },
  {
   "cell_type": "code",
   "execution_count": 24,
   "metadata": {},
   "outputs": [],
   "source": [
    "io_ddf = io_ddf.persist()\n",
    "result = wait(io_ddf)"
   ]
  },
  {
   "cell_type": "markdown",
   "metadata": {},
   "source": [
    "### Preload the I/O dataframe for faster analysis"
   ]
  },
  {
   "cell_type": "code",
   "execution_count": 25,
   "metadata": {},
   "outputs": [],
   "source": [
    "io_ddf = io_ddf.persist()\n",
    "result = wait(io_ddf)"
   ]
  },
  {
   "cell_type": "markdown",
   "metadata": {},
   "source": [
    "### Check I/O interfaces used by application"
   ]
  },
  {
   "cell_type": "code",
   "execution_count": 26,
   "metadata": {},
   "outputs": [
    {
     "name": "stdout",
     "output_type": "stream",
     "text": [
      "0         open\n",
      "1        close\n",
      "2      opendir\n",
      "3     closedir\n",
      "4       unlink\n",
      "5       getcwd\n",
      "6      fopen64\n",
      "7       fseeko\n",
      "8      __xstat\n",
      "9       ftello\n",
      "10      fclose\n",
      "11       fread\n",
      "12       mkdir\n",
      "13      fwrite\n",
      "14     symlink\n",
      "Name: func_id, dtype: object\n"
     ]
    }
   ],
   "source": [
    "interfaces = io_ddf['func_id'].unique().compute()\n",
    "print(interfaces)"
   ]
  },
  {
   "cell_type": "markdown",
   "metadata": {
    "tags": [
     "Finding"
    ]
   },
   "source": [
    "Only POSIX interface is used in this application"
   ]
  },
  {
   "cell_type": "markdown",
   "metadata": {},
   "source": [
    "### Set duration of I/O events"
   ]
  },
  {
   "cell_type": "code",
   "execution_count": 27,
   "metadata": {},
   "outputs": [],
   "source": [
    "io_ddf['duration'] = io_ddf['tend'] - io_ddf['tstart']"
   ]
  },
  {
   "cell_type": "code",
   "execution_count": 28,
   "metadata": {},
   "outputs": [
    {
     "name": "stdout",
     "output_type": "stream",
     "text": [
      "Application Profiler has stored 0 negetive values\n"
     ]
    }
   ],
   "source": [
    "negetive_duration = io_ddf[io_ddf['duration'] < 0]['duration'].count().compute()\n",
    "print(\"Application Profiler has stored {} negetive values\".format(negetive_duration))"
   ]
  },
  {
   "cell_type": "markdown",
   "metadata": {},
   "source": [
    "### Create conditions for filtering\n",
    "Even though this application doesnt have MPI or STDIO we have all the conditions here. This is to make sure we cover other apps as well."
   ]
  },
  {
   "cell_type": "code",
   "execution_count": 29,
   "metadata": {},
   "outputs": [],
   "source": [
    "open_condition = io_ddf['func_id'].str.contains(\"open\")\n",
    "mpi_condition = io_ddf['func_id'].str.contains(\"MPI\")\n",
    "read_condition = io_ddf['func_id'].isin([\"read\", \"pread\", \"pread64\", \"readv\"])\n",
    "fread_condition = io_ddf['func_id'].isin([\"fread\"])\n",
    "close_condition = io_ddf['func_id'].str.contains('close')\n",
    "write_condition = io_ddf['func_id'].isin([\"write\", \"pwrite\", \"pwrite64\",\"writev\"])\n",
    "fwrite_condition = io_ddf['func_id'].isin([\"fwrite\"])\n",
    "readdir_condition = io_ddf['func_id'].isin([\"readdir\"])"
   ]
  },
  {
   "cell_type": "markdown",
   "metadata": {},
   "source": [
    "### Extract Filename from each row.\n",
    "This simplifies analysis later on as we can filter recorder per rank and per file to understand access pattern information."
   ]
  },
  {
   "cell_type": "code",
   "execution_count": 30,
   "metadata": {},
   "outputs": [],
   "source": [
    "io_ddf['filename'] = \"\"\n",
    "io_ddf['filename'] = io_ddf['filename'].mask(open_condition & ~mpi_condition, io_ddf['args_1'])\n",
    "io_ddf['filename'] = io_ddf['filename'].mask(open_condition & mpi_condition, io_ddf['args_2'])\n",
    "io_ddf['filename'] = io_ddf['filename'].mask(close_condition, io_ddf['args_1'])\n",
    "io_ddf['filename'] = io_ddf['filename'].mask(read_condition, io_ddf['args_1'])\n",
    "io_ddf['filename'] = io_ddf['filename'].mask(fread_condition, io_ddf['args_4'])\n",
    "io_ddf['filename'] = io_ddf['filename'].mask(write_condition, io_ddf['args_1'])\n",
    "io_ddf['filename'] = io_ddf['filename'].mask(fwrite_condition, io_ddf['args_4'])"
   ]
  },
  {
   "cell_type": "markdown",
   "metadata": {},
   "source": [
    "Some filename has redundent forward slashes"
   ]
  },
  {
   "cell_type": "code",
   "execution_count": 31,
   "metadata": {},
   "outputs": [],
   "source": [
    "io_ddf['filename'] = io_ddf['filename'].str.replace('//','/')"
   ]
  },
  {
   "cell_type": "markdown",
   "metadata": {},
   "source": [
    "### Filter recorder which have read and write operations and which have metadata.\n",
    "We assume that there is only two types of operation in I/O read/write and metadata."
   ]
  },
  {
   "cell_type": "code",
   "execution_count": 32,
   "metadata": {},
   "outputs": [],
   "source": [
    "io_ddf_read_write = io_ddf[read_condition | write_condition | fread_condition | fwrite_condition].compute()\n",
    "io_ddf_metadata = io_ddf[~(read_condition | write_condition | fread_condition | fwrite_condition)].compute()"
   ]
  },
  {
   "cell_type": "markdown",
   "metadata": {},
   "source": [
    "### Build size and count to understand I/O on the io_ddf_read_write dataframe"
   ]
  },
  {
   "cell_type": "code",
   "execution_count": 33,
   "metadata": {},
   "outputs": [],
   "source": [
    "open_condition = io_ddf_read_write['func_id'].str.contains(\"open\")\n",
    "mpi_condition = io_ddf_read_write['func_id'].str.contains(\"MPI\")\n",
    "read_condition = io_ddf_read_write['func_id'].isin([\"read\", \"pread\", \"pread64\", \"readv\"])\n",
    "fread_condition = io_ddf_read_write['func_id'].isin([\"fread\"])\n",
    "close_condition = io_ddf_read_write['func_id'].str.contains('close')\n",
    "write_condition = io_ddf_read_write['func_id'].isin([\"write\", \"pwrite\", \"pwrite64\",\"writev\"])\n",
    "fwrite_condition = io_ddf_read_write['func_id'].isin([\"fwrite\"])\n",
    "readdir_condition = io_ddf_read_write['func_id'].isin([\"readdir\"])"
   ]
  },
  {
   "cell_type": "code",
   "execution_count": 34,
   "metadata": {
    "jupyter": {
     "source_hidden": true
    },
    "tags": []
   },
   "outputs": [],
   "source": [
    "io_ddf_read_write['size'] = 0\n",
    "io_ddf_read_write['count'] = 1\n",
    "io_ddf_read_write['size'] = io_ddf_read_write['size'].mask(read_condition , io_ddf_read_write['args_3'])\n",
    "io_ddf_read_write['size'] = io_ddf_read_write['size'].mask(fread_condition, io_ddf_read_write['args_3'])\n",
    "io_ddf_read_write['count'] = io_ddf_read_write['count'].mask(fread_condition, io_ddf_read_write['args_2'])\n",
    "io_ddf_read_write['size'] = io_ddf_read_write['size'].mask(write_condition, io_ddf_read_write['args_3'])\n",
    "io_ddf_read_write['size'] = io_ddf_read_write['size'].mask(fwrite_condition, io_ddf_read_write['args_3'])\n",
    "io_ddf_read_write['count'] = io_ddf_read_write['count'].mask(fwrite_condition, io_ddf_read_write['args_2'])"
   ]
  },
  {
   "cell_type": "markdown",
   "metadata": {},
   "source": [
    "#### Corner cases"
   ]
  },
  {
   "cell_type": "code",
   "execution_count": 35,
   "metadata": {},
   "outputs": [],
   "source": [
    "io_ddf_read_write['size'] = io_ddf_read_write['size'].mask(readdir_condition , \"0\")\n",
    "io_ddf_read_write['count'] = io_ddf_read_write['count'].mask(readdir_condition , \"1\")"
   ]
  },
  {
   "cell_type": "markdown",
   "metadata": {},
   "source": [
    "#### Set Datatypes\n",
    "This is needed as by default args are string from which they are set."
   ]
  },
  {
   "cell_type": "code",
   "execution_count": 36,
   "metadata": {},
   "outputs": [],
   "source": [
    "io_ddf_read_write = io_ddf_read_write.astype({'size': 'int32','count': 'int32'})"
   ]
  },
  {
   "cell_type": "markdown",
   "metadata": {},
   "source": [
    "#### Compute Final Size\n",
    "After this point we do not use count field."
   ]
  },
  {
   "cell_type": "code",
   "execution_count": 37,
   "metadata": {},
   "outputs": [],
   "source": [
    "io_ddf_read_write['size'] = io_ddf_read_write['size'] * io_ddf_read_write['count']"
   ]
  },
  {
   "cell_type": "markdown",
   "metadata": {},
   "source": [
    "### Calculate Bandwidth in MB/s for I/O operations.\n",
    "Durations might be incorrect or equal to zero due to profilers resolution issues. Therefore, we do bandwidth calculations for only correct durations."
   ]
  },
  {
   "cell_type": "code",
   "execution_count": 38,
   "metadata": {},
   "outputs": [],
   "source": [
    "correct_dur = ((io_ddf_read_write['tend'] - io_ddf_read_write['tstart']) > 0)\n",
    "io_ddf_read_write['bandwidth'] = 0\n",
    "io_ddf_read_write['bandwidth'] = io_ddf_read_write['bandwidth'].mask(correct_dur, io_ddf_read_write['size']*1.0/(io_ddf_read_write['tend'] - io_ddf_read_write['tstart'])/1024.0/1024.0)"
   ]
  },
  {
   "cell_type": "markdown",
   "metadata": {
    "tags": [
     "Finding"
    ]
   },
   "source": [
    "### Calculate all relevent filenames in the application\n",
    "The profiler might see jsrun files and other irrelevant internal files which we filter here."
   ]
  },
  {
   "cell_type": "code",
   "execution_count": null,
   "metadata": {},
   "outputs": [],
   "source": [
    "all_filenames = io_ddf[io_ddf['filename'].str.contains('/tmp/mummi')]['filename'].unique().compute()"
   ]
  },
  {
   "cell_type": "code",
   "execution_count": null,
   "metadata": {
    "tags": [
     "Finding"
    ]
   },
   "outputs": [],
   "source": [
    "print(\"The application accesses {} files across all ranks\".format(len(all_filenames)))"
   ]
  },
  {
   "cell_type": "code",
   "execution_count": 41,
   "metadata": {},
   "outputs": [
    {
     "data": {
      "text/html": [
       "<div>\n",
       "<style scoped>\n",
       "    .dataframe tbody tr th:only-of-type {\n",
       "        vertical-align: middle;\n",
       "    }\n",
       "\n",
       "    .dataframe tbody tr th {\n",
       "        vertical-align: top;\n",
       "    }\n",
       "\n",
       "    .dataframe thead th {\n",
       "        text-align: right;\n",
       "    }\n",
       "</style>\n",
       "<table border=\"1\" class=\"dataframe\">\n",
       "  <thead>\n",
       "    <tr style=\"text-align: right;\">\n",
       "      <th></th>\n",
       "      <th>index</th>\n",
       "      <th>proc</th>\n",
       "      <th>rank</th>\n",
       "      <th>thread_id</th>\n",
       "      <th>cat</th>\n",
       "      <th>tstart</th>\n",
       "      <th>tend</th>\n",
       "      <th>func_id</th>\n",
       "      <th>level</th>\n",
       "      <th>hostname</th>\n",
       "      <th>...</th>\n",
       "      <th>args_6</th>\n",
       "      <th>args_7</th>\n",
       "      <th>args_8</th>\n",
       "      <th>args_9</th>\n",
       "      <th>args_10</th>\n",
       "      <th>duration</th>\n",
       "      <th>filename</th>\n",
       "      <th>size</th>\n",
       "      <th>count</th>\n",
       "      <th>bandwidth</th>\n",
       "    </tr>\n",
       "  </thead>\n",
       "  <tbody>\n",
       "    <tr>\n",
       "      <th>25731</th>\n",
       "      <td>25732</td>\n",
       "      <td>68209</td>\n",
       "      <td>0</td>\n",
       "      <td>-135550816</td>\n",
       "      <td>0</td>\n",
       "      <td>51732.671875</td>\n",
       "      <td>51732.675781</td>\n",
       "      <td>fread</td>\n",
       "      <td>0</td>\n",
       "      <td>lassen123</td>\n",
       "      <td>...</td>\n",
       "      <td></td>\n",
       "      <td></td>\n",
       "      <td></td>\n",
       "      <td></td>\n",
       "      <td></td>\n",
       "      <td>0.003906</td>\n",
       "      <td>/tmp/mummi/cg/mu12-1ras0raf-instance6_00000000...</td>\n",
       "      <td>23782959</td>\n",
       "      <td>23782959</td>\n",
       "      <td>5806.386475</td>\n",
       "    </tr>\n",
       "    <tr>\n",
       "      <th>259234</th>\n",
       "      <td>259235</td>\n",
       "      <td>68209</td>\n",
       "      <td>0</td>\n",
       "      <td>-135550816</td>\n",
       "      <td>0</td>\n",
       "      <td>51790.296875</td>\n",
       "      <td>51790.296875</td>\n",
       "      <td>fwrite</td>\n",
       "      <td>0</td>\n",
       "      <td>lassen123</td>\n",
       "      <td>...</td>\n",
       "      <td></td>\n",
       "      <td></td>\n",
       "      <td></td>\n",
       "      <td></td>\n",
       "      <td></td>\n",
       "      <td>0.000000</td>\n",
       "      <td>/tmp/mummi/cg/mu12-1ras0raf-instance6_00000000...</td>\n",
       "      <td>3256339</td>\n",
       "      <td>3256339</td>\n",
       "      <td>0.000000</td>\n",
       "    </tr>\n",
       "    <tr>\n",
       "      <th>394317</th>\n",
       "      <td>394318</td>\n",
       "      <td>68209</td>\n",
       "      <td>0</td>\n",
       "      <td>-135550816</td>\n",
       "      <td>0</td>\n",
       "      <td>51833.453125</td>\n",
       "      <td>51833.457031</td>\n",
       "      <td>fwrite</td>\n",
       "      <td>0</td>\n",
       "      <td>lassen123</td>\n",
       "      <td>...</td>\n",
       "      <td></td>\n",
       "      <td></td>\n",
       "      <td></td>\n",
       "      <td></td>\n",
       "      <td></td>\n",
       "      <td>0.003906</td>\n",
       "      <td>/tmp/mummi/cg/mu12-1ras0raf-instance6_00000000...</td>\n",
       "      <td>3256340</td>\n",
       "      <td>3256340</td>\n",
       "      <td>795.004883</td>\n",
       "    </tr>\n",
       "    <tr>\n",
       "      <th>529400</th>\n",
       "      <td>529401</td>\n",
       "      <td>68209</td>\n",
       "      <td>0</td>\n",
       "      <td>-135550816</td>\n",
       "      <td>0</td>\n",
       "      <td>51876.574219</td>\n",
       "      <td>51876.574219</td>\n",
       "      <td>fwrite</td>\n",
       "      <td>0</td>\n",
       "      <td>lassen123</td>\n",
       "      <td>...</td>\n",
       "      <td></td>\n",
       "      <td></td>\n",
       "      <td></td>\n",
       "      <td></td>\n",
       "      <td></td>\n",
       "      <td>0.000000</td>\n",
       "      <td>/tmp/mummi/cg/mu12-1ras0raf-instance6_00000000...</td>\n",
       "      <td>3256340</td>\n",
       "      <td>3256340</td>\n",
       "      <td>0.000000</td>\n",
       "    </tr>\n",
       "    <tr>\n",
       "      <th>664483</th>\n",
       "      <td>664484</td>\n",
       "      <td>68209</td>\n",
       "      <td>0</td>\n",
       "      <td>-135550816</td>\n",
       "      <td>0</td>\n",
       "      <td>51919.804688</td>\n",
       "      <td>51919.808594</td>\n",
       "      <td>fwrite</td>\n",
       "      <td>0</td>\n",
       "      <td>lassen123</td>\n",
       "      <td>...</td>\n",
       "      <td></td>\n",
       "      <td></td>\n",
       "      <td></td>\n",
       "      <td></td>\n",
       "      <td></td>\n",
       "      <td>0.003906</td>\n",
       "      <td>/tmp/mummi/cg/mu12-1ras0raf-instance6_00000000...</td>\n",
       "      <td>3256341</td>\n",
       "      <td>3256341</td>\n",
       "      <td>795.005127</td>\n",
       "    </tr>\n",
       "  </tbody>\n",
       "</table>\n",
       "<p>5 rows × 27 columns</p>\n",
       "</div>"
      ],
      "text/plain": [
       "         index   proc  rank  thread_id  cat        tstart          tend  \\\n",
       "25731    25732  68209     0 -135550816    0  51732.671875  51732.675781   \n",
       "259234  259235  68209     0 -135550816    0  51790.296875  51790.296875   \n",
       "394317  394318  68209     0 -135550816    0  51833.453125  51833.457031   \n",
       "529400  529401  68209     0 -135550816    0  51876.574219  51876.574219   \n",
       "664483  664484  68209     0 -135550816    0  51919.804688  51919.808594   \n",
       "\n",
       "       func_id  level   hostname  ...  args_6 args_7 args_8 args_9 args_10  \\\n",
       "25731    fread      0  lassen123  ...                                        \n",
       "259234  fwrite      0  lassen123  ...                                        \n",
       "394317  fwrite      0  lassen123  ...                                        \n",
       "529400  fwrite      0  lassen123  ...                                        \n",
       "664483  fwrite      0  lassen123  ...                                        \n",
       "\n",
       "        duration                                           filename      size  \\\n",
       "25731   0.003906  /tmp/mummi/cg/mu12-1ras0raf-instance6_00000000...  23782959   \n",
       "259234  0.000000  /tmp/mummi/cg/mu12-1ras0raf-instance6_00000000...   3256339   \n",
       "394317  0.003906  /tmp/mummi/cg/mu12-1ras0raf-instance6_00000000...   3256340   \n",
       "529400  0.000000  /tmp/mummi/cg/mu12-1ras0raf-instance6_00000000...   3256340   \n",
       "664483  0.003906  /tmp/mummi/cg/mu12-1ras0raf-instance6_00000000...   3256341   \n",
       "\n",
       "           count    bandwidth  \n",
       "25731   23782959  5806.386475  \n",
       "259234   3256339     0.000000  \n",
       "394317   3256340   795.004883  \n",
       "529400   3256340     0.000000  \n",
       "664483   3256341   795.005127  \n",
       "\n",
       "[5 rows x 27 columns]"
      ]
     },
     "execution_count": 41,
     "metadata": {},
     "output_type": "execute_result"
    }
   ],
   "source": [
    "io_ddf_read_write.head()"
   ]
  },
  {
   "cell_type": "markdown",
   "metadata": {
    "tags": [
     "Finding"
    ]
   },
   "source": [
    "### Distribution of Transfer Size and Bandwidth in the application\n",
    "The transfer size is given by the size column in bytes and the bandwidth is shown in MB/s"
   ]
  },
  {
   "cell_type": "code",
   "execution_count": 42,
   "metadata": {
    "tags": [
     "Finding"
    ]
   },
   "outputs": [
    {
     "data": {
      "text/html": [
       "<div>\n",
       "<style scoped>\n",
       "    .dataframe tbody tr th:only-of-type {\n",
       "        vertical-align: middle;\n",
       "    }\n",
       "\n",
       "    .dataframe tbody tr th {\n",
       "        vertical-align: top;\n",
       "    }\n",
       "\n",
       "    .dataframe thead th {\n",
       "        text-align: right;\n",
       "    }\n",
       "</style>\n",
       "<table border=\"1\" class=\"dataframe\">\n",
       "  <thead>\n",
       "    <tr style=\"text-align: right;\">\n",
       "      <th></th>\n",
       "      <th>size</th>\n",
       "      <th>bandwidth</th>\n",
       "    </tr>\n",
       "  </thead>\n",
       "  <tbody>\n",
       "    <tr>\n",
       "      <th>count</th>\n",
       "      <td>1.488000e+03</td>\n",
       "      <td>1488.000000</td>\n",
       "    </tr>\n",
       "    <tr>\n",
       "      <th>mean</th>\n",
       "      <td>5.892485e+06</td>\n",
       "      <td>1642.631068</td>\n",
       "    </tr>\n",
       "    <tr>\n",
       "      <th>std</th>\n",
       "      <td>7.714579e+06</td>\n",
       "      <td>1773.376580</td>\n",
       "    </tr>\n",
       "    <tr>\n",
       "      <th>min</th>\n",
       "      <td>1.974861e+06</td>\n",
       "      <td>0.000000</td>\n",
       "    </tr>\n",
       "    <tr>\n",
       "      <th>25%</th>\n",
       "      <td>3.269877e+06</td>\n",
       "      <td>0.000000</td>\n",
       "    </tr>\n",
       "    <tr>\n",
       "      <th>50%</th>\n",
       "      <td>3.280389e+06</td>\n",
       "      <td>964.639160</td>\n",
       "    </tr>\n",
       "    <tr>\n",
       "      <th>75%</th>\n",
       "      <td>3.291741e+06</td>\n",
       "      <td>3205.402344</td>\n",
       "    </tr>\n",
       "    <tr>\n",
       "      <th>max</th>\n",
       "      <td>2.953393e+07</td>\n",
       "      <td>7186.535156</td>\n",
       "    </tr>\n",
       "  </tbody>\n",
       "</table>\n",
       "</div>"
      ],
      "text/plain": [
       "               size    bandwidth\n",
       "count  1.488000e+03  1488.000000\n",
       "mean   5.892485e+06  1642.631068\n",
       "std    7.714579e+06  1773.376580\n",
       "min    1.974861e+06     0.000000\n",
       "25%    3.269877e+06     0.000000\n",
       "50%    3.280389e+06   964.639160\n",
       "75%    3.291741e+06  3205.402344\n",
       "max    2.953393e+07  7186.535156"
      ]
     },
     "execution_count": 42,
     "metadata": {},
     "output_type": "execute_result"
    }
   ],
   "source": [
    "io_ddf_read_write[['size', 'bandwidth']].describe()"
   ]
  },
  {
   "cell_type": "markdown",
   "metadata": {},
   "source": [
    "### Preload the I/O dataframe for faster analysis"
   ]
  },
  {
   "cell_type": "code",
   "execution_count": 43,
   "metadata": {
    "tags": []
   },
   "outputs": [],
   "source": [
    "io_ddf = io_ddf.persist()\n",
    "result = wait(io_ddf)"
   ]
  },
  {
   "cell_type": "markdown",
   "metadata": {},
   "source": [
    "### Operations Per Application"
   ]
  },
  {
   "cell_type": "code",
   "execution_count": 44,
   "metadata": {},
   "outputs": [
    {
     "data": {
      "text/plain": [
       "app                         func_id \n",
       "unwrapped_test_sierra_node  close       12320\n",
       "                            closedir       32\n",
       "                            open        12736\n",
       "                            opendir        32\n",
       "                            unlink         32\n",
       "ddcMD_GPU                   __xstat       108\n",
       "                            close        6048\n",
       "                            closedir      108\n",
       "                            fclose       1596\n",
       "                            fopen64      1596\n",
       "                            fread         108\n",
       "                            fseeko        216\n",
       "                            ftello        324\n",
       "                            fwrite       1380\n",
       "                            getcwd        216\n",
       "                            mkdir        1200\n",
       "                            open         7452\n",
       "                            opendir       108\n",
       "                            symlink        60\n",
       "                            unlink        168\n",
       "Name: func_id, dtype: int64"
      ]
     },
     "execution_count": 44,
     "metadata": {},
     "output_type": "execute_result"
    }
   ],
   "source": [
    "io_ddf.groupby(['app','func_id'])['func_id'].count().compute()"
   ]
  },
  {
   "cell_type": "code",
   "execution_count": 45,
   "metadata": {},
   "outputs": [
    {
     "data": {
      "text/plain": [
       "app        func_id\n",
       "ddcMD_GPU  fread      2708.221490\n",
       "           fwrite     5653.611324\n",
       "Name: size, dtype: float64"
      ]
     },
     "execution_count": 45,
     "metadata": {},
     "output_type": "execute_result"
    }
   ],
   "source": [
    "io_ddf_read_write.groupby(['app','func_id'])['size'].sum() /1024.0/1024.0"
   ]
  },
  {
   "cell_type": "code",
   "execution_count": 46,
   "metadata": {},
   "outputs": [
    {
     "data": {
      "text/plain": [
       "app\n",
       "ddcMD_GPU    108\n",
       "Name: proc, dtype: int64"
      ]
     },
     "execution_count": 46,
     "metadata": {},
     "output_type": "execute_result"
    }
   ],
   "source": [
    "io_ddf_read_write.groupby(['app'])['proc'].nunique() "
   ]
  },
  {
   "cell_type": "markdown",
   "metadata": {
    "tags": [
     "Finding"
    ]
   },
   "source": [
    "## Application Analysis"
   ]
  },
  {
   "cell_type": "code",
   "execution_count": 47,
   "metadata": {},
   "outputs": [],
   "source": [
    "rank_index_series = io_ddf_read_write.groupby(['hostname','app','proc','rank', 'thread_id'])['thread_id'].nunique().cumsum()\n",
    "#io_ddf_read_write['rank_index'] = 0\n",
    "#for index,item in rank_index_series.iteritems():\n",
    "#    condition = (io_ddf_read_write['hostname'] == index[0]) & (io_ddf_read_write['app'] == index[1]) & (io_ddf_read_write['proc'] == index[2]) & (io_ddf_read_write['rank'] == index[3]) & (io_ddf_read_write['thread_id'] == index[4])\n",
    "#    io_ddf_read_write['rank_index'] = io_ddf_read_write['rank_index'].mask(condition , item - 1)"
   ]
  },
  {
   "cell_type": "markdown",
   "metadata": {},
   "source": [
    "### Num Ranks"
   ]
  },
  {
   "cell_type": "code",
   "execution_count": 48,
   "metadata": {
    "tags": [
     "Finding"
    ]
   },
   "outputs": [
    {
     "name": "stdout",
     "output_type": "stream",
     "text": [
      "Number of ranks in application 108\n"
     ]
    }
   ],
   "source": [
    "num_ranks = rank_index_series.nunique()\n",
    "print(\"Number of ranks in application {}\".format(num_ranks))"
   ]
  },
  {
   "cell_type": "markdown",
   "metadata": {},
   "source": [
    "### Total I/O amount"
   ]
  },
  {
   "cell_type": "code",
   "execution_count": 49,
   "metadata": {
    "tags": [
     "Finding"
    ]
   },
   "outputs": [
    {
     "name": "stdout",
     "output_type": "stream",
     "text": [
      "Total I/O in application 8.165852357633412 GB\n",
      "Total I/O per operation in application func_id\n",
      "fread     2.644748\n",
      "fwrite    5.521105\n",
      "Name: size, dtype: float64 GB\n"
     ]
    }
   ],
   "source": [
    "total_io = io_ddf_read_write.groupby('func_id')['size'].sum()/1024.0/1024.0/1024.0\n",
    "print(\"Total I/O in application {} GB\".format(total_io.sum()))\n",
    "print(\"Total I/O per operation in application {} GB\".format(total_io))"
   ]
  },
  {
   "cell_type": "markdown",
   "metadata": {},
   "source": [
    "### I/O per rank"
   ]
  },
  {
   "cell_type": "code",
   "execution_count": 50,
   "metadata": {},
   "outputs": [
    {
     "data": {
      "text/plain": [
       "rank  func_id\n",
       "0     fread      2.839776e+09\n",
       "      fwrite     5.928241e+09\n",
       "Name: size, dtype: float64"
      ]
     },
     "execution_count": 50,
     "metadata": {},
     "output_type": "execute_result"
    }
   ],
   "source": [
    "io_ddf_read_write.groupby(['rank', 'func_id'])['size'].sum()"
   ]
  },
  {
   "cell_type": "markdown",
   "metadata": {
    "tags": [
     "Finding"
    ]
   },
   "source": [
    "**rank 0 performs 100x more I/O than others. Also every other process reads data where as only rank 0 writes it.**"
   ]
  },
  {
   "cell_type": "code",
   "execution_count": null,
   "metadata": {},
   "outputs": [],
   "source": [
    "io_per_rank_gb = io_ddf_read_write.groupby(['app'])['size'].sum()/1024.0/1024.0/1024.0\n",
    "io_per_rank_gb.plot(kind='bar',figsize=(12,4))"
   ]
  },
  {
   "cell_type": "markdown",
   "metadata": {},
   "source": [
    "### Operations Per Rank"
   ]
  },
  {
   "cell_type": "code",
   "execution_count": 52,
   "metadata": {},
   "outputs": [
    {
     "data": {
      "text/plain": [
       "<AxesSubplot:xlabel='app'>"
      ]
     },
     "execution_count": 52,
     "metadata": {},
     "output_type": "execute_result"
    },
    {
     "data": {
      "image/png": "[encoded data removed]",
      "text/plain": [
       "<Figure size 288x288 with 1 Axes>"
      ]
     },
     "metadata": {
      "needs_background": "light"
     },
     "output_type": "display_data"
    }
   ],
   "source": [
    "io_per_rank_gb = io_ddf_read_write.groupby(['app'])['count'].sum()\n",
    "io_per_rank_gb.plot(kind='bar',figsize=(4,4))"
   ]
  },
  {
   "cell_type": "markdown",
   "metadata": {},
   "source": [
    "**Also rank 0 performs 2000x more operations than other ranks.**"
   ]
  },
  {
   "cell_type": "markdown",
   "metadata": {},
   "source": [
    "### Average I/O Time per process"
   ]
  },
  {
   "cell_type": "code",
   "execution_count": 53,
   "metadata": {},
   "outputs": [],
   "source": [
    "time_per_rank = io_ddf.groupby('app')['duration'].sum().compute()"
   ]
  },
  {
   "cell_type": "code",
   "execution_count": 54,
   "metadata": {},
   "outputs": [
    {
     "name": "stdout",
     "output_type": "stream",
     "text": [
      "time per process: Average 1.3249095678329468 sec, Max 2.52178955078125 sec, and Min 0.12802958488464355 sec\n"
     ]
    }
   ],
   "source": [
    "print(\"time per process: Average {} sec, Max {} sec, and Min {} sec\".format(time_per_rank.mean(), time_per_rank.max(), time_per_rank.min()))"
   ]
  },
  {
   "cell_type": "code",
   "execution_count": 128,
   "metadata": {},
   "outputs": [
    {
     "ename": "IndexError",
     "evalue": "index 0 is out of bounds for axis 0 with size 0",
     "output_type": "error",
     "traceback": [
      "\u001b[0;31m---------------------------------------------------------------------------\u001b[0m",
      "\u001b[0;31mIndexError\u001b[0m                                Traceback (most recent call last)",
      "\u001b[0;32m/var/tmp/ipykernel_19546/85739498.py\u001b[0m in \u001b[0;36m<module>\u001b[0;34m\u001b[0m\n\u001b[0;32m----> 1\u001b[0;31m \u001b[0mtime_per_rank\u001b[0m\u001b[0;34m.\u001b[0m\u001b[0mplot\u001b[0m\u001b[0;34m(\u001b[0m\u001b[0mkind\u001b[0m\u001b[0;34m=\u001b[0m\u001b[0;34m'bar'\u001b[0m\u001b[0;34m,\u001b[0m\u001b[0mfigsize\u001b[0m\u001b[0;34m=\u001b[0m\u001b[0;34m(\u001b[0m\u001b[0;36m8\u001b[0m\u001b[0;34m,\u001b[0m\u001b[0;36m4\u001b[0m\u001b[0;34m)\u001b[0m\u001b[0;34m)\u001b[0m\u001b[0;34m\u001b[0m\u001b[0;34m\u001b[0m\u001b[0m\n\u001b[0m",
      "\u001b[0;32m/usr/workspace/iopp/.conda/envs/jupyter/lib/python3.9/site-packages/pandas/plotting/_core.py\u001b[0m in \u001b[0;36m__call__\u001b[0;34m(self, *args, **kwargs)\u001b[0m\n\u001b[1;32m    970\u001b[0m                     \u001b[0mdata\u001b[0m\u001b[0;34m.\u001b[0m\u001b[0mcolumns\u001b[0m \u001b[0;34m=\u001b[0m \u001b[0mlabel_name\u001b[0m\u001b[0;34m\u001b[0m\u001b[0;34m\u001b[0m\u001b[0m\n\u001b[1;32m    971\u001b[0m \u001b[0;34m\u001b[0m\u001b[0m\n\u001b[0;32m--> 972\u001b[0;31m         \u001b[0;32mreturn\u001b[0m \u001b[0mplot_backend\u001b[0m\u001b[0;34m.\u001b[0m\u001b[0mplot\u001b[0m\u001b[0;34m(\u001b[0m\u001b[0mdata\u001b[0m\u001b[0;34m,\u001b[0m \u001b[0mkind\u001b[0m\u001b[0;34m=\u001b[0m\u001b[0mkind\u001b[0m\u001b[0;34m,\u001b[0m \u001b[0;34m**\u001b[0m\u001b[0mkwargs\u001b[0m\u001b[0;34m)\u001b[0m\u001b[0;34m\u001b[0m\u001b[0;34m\u001b[0m\u001b[0m\n\u001b[0m\u001b[1;32m    973\u001b[0m \u001b[0;34m\u001b[0m\u001b[0m\n\u001b[1;32m    974\u001b[0m     \u001b[0m__call__\u001b[0m\u001b[0;34m.\u001b[0m\u001b[0m__doc__\u001b[0m \u001b[0;34m=\u001b[0m \u001b[0m__doc__\u001b[0m\u001b[0;34m\u001b[0m\u001b[0;34m\u001b[0m\u001b[0m\n",
      "\u001b[0;32m/usr/workspace/iopp/.conda/envs/jupyter/lib/python3.9/site-packages/pandas/plotting/_matplotlib/__init__.py\u001b[0m in \u001b[0;36mplot\u001b[0;34m(data, kind, **kwargs)\u001b[0m\n\u001b[1;32m     69\u001b[0m             \u001b[0mkwargs\u001b[0m\u001b[0;34m[\u001b[0m\u001b[0;34m\"ax\"\u001b[0m\u001b[0;34m]\u001b[0m \u001b[0;34m=\u001b[0m \u001b[0mgetattr\u001b[0m\u001b[0;34m(\u001b[0m\u001b[0max\u001b[0m\u001b[0;34m,\u001b[0m \u001b[0;34m\"left_ax\"\u001b[0m\u001b[0;34m,\u001b[0m \u001b[0max\u001b[0m\u001b[0;34m)\u001b[0m\u001b[0;34m\u001b[0m\u001b[0;34m\u001b[0m\u001b[0m\n\u001b[1;32m     70\u001b[0m     \u001b[0mplot_obj\u001b[0m \u001b[0;34m=\u001b[0m \u001b[0mPLOT_CLASSES\u001b[0m\u001b[0;34m[\u001b[0m\u001b[0mkind\u001b[0m\u001b[0;34m]\u001b[0m\u001b[0;34m(\u001b[0m\u001b[0mdata\u001b[0m\u001b[0;34m,\u001b[0m \u001b[0;34m**\u001b[0m\u001b[0mkwargs\u001b[0m\u001b[0;34m)\u001b[0m\u001b[0;34m\u001b[0m\u001b[0;34m\u001b[0m\u001b[0m\n\u001b[0;32m---> 71\u001b[0;31m     \u001b[0mplot_obj\u001b[0m\u001b[0;34m.\u001b[0m\u001b[0mgenerate\u001b[0m\u001b[0;34m(\u001b[0m\u001b[0;34m)\u001b[0m\u001b[0;34m\u001b[0m\u001b[0;34m\u001b[0m\u001b[0m\n\u001b[0m\u001b[1;32m     72\u001b[0m     \u001b[0mplot_obj\u001b[0m\u001b[0;34m.\u001b[0m\u001b[0mdraw\u001b[0m\u001b[0;34m(\u001b[0m\u001b[0;34m)\u001b[0m\u001b[0;34m\u001b[0m\u001b[0;34m\u001b[0m\u001b[0m\n\u001b[1;32m     73\u001b[0m     \u001b[0;32mreturn\u001b[0m \u001b[0mplot_obj\u001b[0m\u001b[0;34m.\u001b[0m\u001b[0mresult\u001b[0m\u001b[0;34m\u001b[0m\u001b[0;34m\u001b[0m\u001b[0m\n",
      "\u001b[0;32m/usr/workspace/iopp/.conda/envs/jupyter/lib/python3.9/site-packages/pandas/plotting/_matplotlib/core.py\u001b[0m in \u001b[0;36mgenerate\u001b[0;34m(self)\u001b[0m\n\u001b[1;32m    293\u001b[0m         \u001b[0;32mfor\u001b[0m \u001b[0max\u001b[0m \u001b[0;32min\u001b[0m \u001b[0mself\u001b[0m\u001b[0;34m.\u001b[0m\u001b[0maxes\u001b[0m\u001b[0;34m:\u001b[0m\u001b[0;34m\u001b[0m\u001b[0;34m\u001b[0m\u001b[0m\n\u001b[1;32m    294\u001b[0m             \u001b[0mself\u001b[0m\u001b[0;34m.\u001b[0m\u001b[0m_post_plot_logic_common\u001b[0m\u001b[0;34m(\u001b[0m\u001b[0max\u001b[0m\u001b[0;34m,\u001b[0m \u001b[0mself\u001b[0m\u001b[0;34m.\u001b[0m\u001b[0mdata\u001b[0m\u001b[0;34m)\u001b[0m\u001b[0;34m\u001b[0m\u001b[0;34m\u001b[0m\u001b[0m\n\u001b[0;32m--> 295\u001b[0;31m             \u001b[0mself\u001b[0m\u001b[0;34m.\u001b[0m\u001b[0m_post_plot_logic\u001b[0m\u001b[0;34m(\u001b[0m\u001b[0max\u001b[0m\u001b[0;34m,\u001b[0m \u001b[0mself\u001b[0m\u001b[0;34m.\u001b[0m\u001b[0mdata\u001b[0m\u001b[0;34m)\u001b[0m\u001b[0;34m\u001b[0m\u001b[0;34m\u001b[0m\u001b[0m\n\u001b[0m\u001b[1;32m    296\u001b[0m \u001b[0;34m\u001b[0m\u001b[0m\n\u001b[1;32m    297\u001b[0m     \u001b[0;32mdef\u001b[0m \u001b[0m_args_adjust\u001b[0m\u001b[0;34m(\u001b[0m\u001b[0mself\u001b[0m\u001b[0;34m)\u001b[0m\u001b[0;34m:\u001b[0m\u001b[0;34m\u001b[0m\u001b[0;34m\u001b[0m\u001b[0m\n",
      "\u001b[0;32m/usr/workspace/iopp/.conda/envs/jupyter/lib/python3.9/site-packages/pandas/plotting/_matplotlib/core.py\u001b[0m in \u001b[0;36m_post_plot_logic\u001b[0;34m(self, ax, data)\u001b[0m\n\u001b[1;32m   1526\u001b[0m         \u001b[0mname\u001b[0m \u001b[0;34m=\u001b[0m \u001b[0mself\u001b[0m\u001b[0;34m.\u001b[0m\u001b[0m_get_index_name\u001b[0m\u001b[0;34m(\u001b[0m\u001b[0;34m)\u001b[0m\u001b[0;34m\u001b[0m\u001b[0;34m\u001b[0m\u001b[0m\n\u001b[1;32m   1527\u001b[0m \u001b[0;34m\u001b[0m\u001b[0m\n\u001b[0;32m-> 1528\u001b[0;31m         \u001b[0ms_edge\u001b[0m \u001b[0;34m=\u001b[0m \u001b[0mself\u001b[0m\u001b[0;34m.\u001b[0m\u001b[0max_pos\u001b[0m\u001b[0;34m[\u001b[0m\u001b[0;36m0\u001b[0m\u001b[0;34m]\u001b[0m \u001b[0;34m-\u001b[0m \u001b[0;36m0.25\u001b[0m \u001b[0;34m+\u001b[0m \u001b[0mself\u001b[0m\u001b[0;34m.\u001b[0m\u001b[0mlim_offset\u001b[0m\u001b[0;34m\u001b[0m\u001b[0;34m\u001b[0m\u001b[0m\n\u001b[0m\u001b[1;32m   1529\u001b[0m         \u001b[0me_edge\u001b[0m \u001b[0;34m=\u001b[0m \u001b[0mself\u001b[0m\u001b[0;34m.\u001b[0m\u001b[0max_pos\u001b[0m\u001b[0;34m[\u001b[0m\u001b[0;34m-\u001b[0m\u001b[0;36m1\u001b[0m\u001b[0;34m]\u001b[0m \u001b[0;34m+\u001b[0m \u001b[0;36m0.25\u001b[0m \u001b[0;34m+\u001b[0m \u001b[0mself\u001b[0m\u001b[0;34m.\u001b[0m\u001b[0mbar_width\u001b[0m \u001b[0;34m+\u001b[0m \u001b[0mself\u001b[0m\u001b[0;34m.\u001b[0m\u001b[0mlim_offset\u001b[0m\u001b[0;34m\u001b[0m\u001b[0;34m\u001b[0m\u001b[0m\n\u001b[1;32m   1530\u001b[0m \u001b[0;34m\u001b[0m\u001b[0m\n",
      "\u001b[0;31mIndexError\u001b[0m: index 0 is out of bounds for axis 0 with size 0"
     ]
    },
    {
     "data": {
      "image/png": "[encoded data removed]",
      "text/plain": [
       "<Figure size 576x288 with 1 Axes>"
      ]
     },
     "metadata": {
      "needs_background": "light"
     },
     "output_type": "display_data"
    }
   ],
   "source": [
    "time_per_rank.plot(kind='bar',figsize=(8,4))"
   ]
  },
  {
   "cell_type": "markdown",
   "metadata": {
    "tags": [
     "Finding"
    ]
   },
   "source": [
    "Most time is spent by rank 0."
   ]
  },
  {
   "cell_type": "markdown",
   "metadata": {},
   "source": [
    "### Compute Time"
   ]
  },
  {
   "cell_type": "markdown",
   "metadata": {},
   "source": [
    "#### Convert trace dataframe into memory."
   ]
  },
  {
   "cell_type": "code",
   "execution_count": 56,
   "metadata": {},
   "outputs": [],
   "source": [
    "trace_ddf_local = trace_ddf"
   ]
  },
  {
   "cell_type": "markdown",
   "metadata": {},
   "source": [
    "#### Calculate duration for trace values"
   ]
  },
  {
   "cell_type": "code",
   "execution_count": 57,
   "metadata": {},
   "outputs": [],
   "source": [
    "trace_ddf_local['duration'] = trace_ddf_local['tend'] - trace_ddf_local['tstart']"
   ]
  },
  {
   "cell_type": "code",
   "execution_count": 58,
   "metadata": {
    "collapsed": true,
    "jupyter": {
     "outputs_hidden": true
    },
    "tags": []
   },
   "outputs": [
    {
     "ename": "ValueError",
     "evalue": "No non-trivial arrays found",
     "output_type": "error",
     "traceback": [
      "\u001b[0;31m---------------------------------------------------------------------------\u001b[0m",
      "\u001b[0;31mValueError\u001b[0m                                Traceback (most recent call last)",
      "\u001b[0;32m/var/tmp/ipykernel_19546/2593017002.py\u001b[0m in \u001b[0;36m<module>\u001b[0;34m\u001b[0m\n\u001b[0;32m----> 1\u001b[0;31m \u001b[0mtrace_ddf_local\u001b[0m\u001b[0;34m[\u001b[0m\u001b[0;34m'duration'\u001b[0m\u001b[0;34m]\u001b[0m\u001b[0;34m.\u001b[0m\u001b[0mdescribe\u001b[0m\u001b[0;34m(\u001b[0m\u001b[0;34m)\u001b[0m\u001b[0;34m.\u001b[0m\u001b[0mcompute\u001b[0m\u001b[0;34m(\u001b[0m\u001b[0;34m)\u001b[0m\u001b[0;34m\u001b[0m\u001b[0;34m\u001b[0m\u001b[0m\n\u001b[0m",
      "\u001b[0;32m/usr/workspace/iopp/.conda/envs/jupyter/lib/python3.9/site-packages/dask/base.py\u001b[0m in \u001b[0;36mcompute\u001b[0;34m(self, **kwargs)\u001b[0m\n\u001b[1;32m    284\u001b[0m         \u001b[0mdask\u001b[0m\u001b[0;34m.\u001b[0m\u001b[0mbase\u001b[0m\u001b[0;34m.\u001b[0m\u001b[0mcompute\u001b[0m\u001b[0;34m\u001b[0m\u001b[0;34m\u001b[0m\u001b[0m\n\u001b[1;32m    285\u001b[0m         \"\"\"\n\u001b[0;32m--> 286\u001b[0;31m         \u001b[0;34m(\u001b[0m\u001b[0mresult\u001b[0m\u001b[0;34m,\u001b[0m\u001b[0;34m)\u001b[0m \u001b[0;34m=\u001b[0m \u001b[0mcompute\u001b[0m\u001b[0;34m(\u001b[0m\u001b[0mself\u001b[0m\u001b[0;34m,\u001b[0m \u001b[0mtraverse\u001b[0m\u001b[0;34m=\u001b[0m\u001b[0;32mFalse\u001b[0m\u001b[0;34m,\u001b[0m \u001b[0;34m**\u001b[0m\u001b[0mkwargs\u001b[0m\u001b[0;34m)\u001b[0m\u001b[0;34m\u001b[0m\u001b[0;34m\u001b[0m\u001b[0m\n\u001b[0m\u001b[1;32m    287\u001b[0m         \u001b[0;32mreturn\u001b[0m \u001b[0mresult\u001b[0m\u001b[0;34m\u001b[0m\u001b[0;34m\u001b[0m\u001b[0m\n\u001b[1;32m    288\u001b[0m \u001b[0;34m\u001b[0m\u001b[0m\n",
      "\u001b[0;32m/usr/workspace/iopp/.conda/envs/jupyter/lib/python3.9/site-packages/dask/base.py\u001b[0m in \u001b[0;36mcompute\u001b[0;34m(*args, **kwargs)\u001b[0m\n\u001b[1;32m    566\u001b[0m         \u001b[0mpostcomputes\u001b[0m\u001b[0;34m.\u001b[0m\u001b[0mappend\u001b[0m\u001b[0;34m(\u001b[0m\u001b[0mx\u001b[0m\u001b[0;34m.\u001b[0m\u001b[0m__dask_postcompute__\u001b[0m\u001b[0;34m(\u001b[0m\u001b[0;34m)\u001b[0m\u001b[0;34m)\u001b[0m\u001b[0;34m\u001b[0m\u001b[0;34m\u001b[0m\u001b[0m\n\u001b[1;32m    567\u001b[0m \u001b[0;34m\u001b[0m\u001b[0m\n\u001b[0;32m--> 568\u001b[0;31m     \u001b[0mresults\u001b[0m \u001b[0;34m=\u001b[0m \u001b[0mschedule\u001b[0m\u001b[0;34m(\u001b[0m\u001b[0mdsk\u001b[0m\u001b[0;34m,\u001b[0m \u001b[0mkeys\u001b[0m\u001b[0;34m,\u001b[0m \u001b[0;34m**\u001b[0m\u001b[0mkwargs\u001b[0m\u001b[0;34m)\u001b[0m\u001b[0;34m\u001b[0m\u001b[0;34m\u001b[0m\u001b[0m\n\u001b[0m\u001b[1;32m    569\u001b[0m     \u001b[0;32mreturn\u001b[0m \u001b[0mrepack\u001b[0m\u001b[0;34m(\u001b[0m\u001b[0;34m[\u001b[0m\u001b[0mf\u001b[0m\u001b[0;34m(\u001b[0m\u001b[0mr\u001b[0m\u001b[0;34m,\u001b[0m \u001b[0;34m*\u001b[0m\u001b[0ma\u001b[0m\u001b[0;34m)\u001b[0m \u001b[0;32mfor\u001b[0m \u001b[0mr\u001b[0m\u001b[0;34m,\u001b[0m \u001b[0;34m(\u001b[0m\u001b[0mf\u001b[0m\u001b[0;34m,\u001b[0m \u001b[0ma\u001b[0m\u001b[0;34m)\u001b[0m \u001b[0;32min\u001b[0m \u001b[0mzip\u001b[0m\u001b[0;34m(\u001b[0m\u001b[0mresults\u001b[0m\u001b[0;34m,\u001b[0m \u001b[0mpostcomputes\u001b[0m\u001b[0;34m)\u001b[0m\u001b[0;34m]\u001b[0m\u001b[0;34m)\u001b[0m\u001b[0;34m\u001b[0m\u001b[0;34m\u001b[0m\u001b[0m\n\u001b[1;32m    570\u001b[0m \u001b[0;34m\u001b[0m\u001b[0m\n",
      "\u001b[0;32m/usr/workspace/iopp/.conda/envs/jupyter/lib/python3.9/site-packages/distributed/client.py\u001b[0m in \u001b[0;36mget\u001b[0;34m(self, dsk, keys, workers, allow_other_workers, resources, sync, asynchronous, direct, retries, priority, fifo_timeout, actors, **kwargs)\u001b[0m\n\u001b[1;32m   2669\u001b[0m                     \u001b[0mshould_rejoin\u001b[0m \u001b[0;34m=\u001b[0m \u001b[0;32mFalse\u001b[0m\u001b[0;34m\u001b[0m\u001b[0;34m\u001b[0m\u001b[0m\n\u001b[1;32m   2670\u001b[0m             \u001b[0;32mtry\u001b[0m\u001b[0;34m:\u001b[0m\u001b[0;34m\u001b[0m\u001b[0;34m\u001b[0m\u001b[0m\n\u001b[0;32m-> 2671\u001b[0;31m                 \u001b[0mresults\u001b[0m \u001b[0;34m=\u001b[0m \u001b[0mself\u001b[0m\u001b[0;34m.\u001b[0m\u001b[0mgather\u001b[0m\u001b[0;34m(\u001b[0m\u001b[0mpacked\u001b[0m\u001b[0;34m,\u001b[0m \u001b[0masynchronous\u001b[0m\u001b[0;34m=\u001b[0m\u001b[0masynchronous\u001b[0m\u001b[0;34m,\u001b[0m \u001b[0mdirect\u001b[0m\u001b[0;34m=\u001b[0m\u001b[0mdirect\u001b[0m\u001b[0;34m)\u001b[0m\u001b[0;34m\u001b[0m\u001b[0;34m\u001b[0m\u001b[0m\n\u001b[0m\u001b[1;32m   2672\u001b[0m             \u001b[0;32mfinally\u001b[0m\u001b[0;34m:\u001b[0m\u001b[0;34m\u001b[0m\u001b[0;34m\u001b[0m\u001b[0m\n\u001b[1;32m   2673\u001b[0m                 \u001b[0;32mfor\u001b[0m \u001b[0mf\u001b[0m \u001b[0;32min\u001b[0m \u001b[0mfutures\u001b[0m\u001b[0;34m.\u001b[0m\u001b[0mvalues\u001b[0m\u001b[0;34m(\u001b[0m\u001b[0;34m)\u001b[0m\u001b[0;34m:\u001b[0m\u001b[0;34m\u001b[0m\u001b[0;34m\u001b[0m\u001b[0m\n",
      "\u001b[0;32m/usr/workspace/iopp/.conda/envs/jupyter/lib/python3.9/site-packages/distributed/client.py\u001b[0m in \u001b[0;36mgather\u001b[0;34m(self, futures, errors, direct, asynchronous)\u001b[0m\n\u001b[1;32m   1946\u001b[0m             \u001b[0;32melse\u001b[0m\u001b[0;34m:\u001b[0m\u001b[0;34m\u001b[0m\u001b[0;34m\u001b[0m\u001b[0m\n\u001b[1;32m   1947\u001b[0m                 \u001b[0mlocal_worker\u001b[0m \u001b[0;34m=\u001b[0m \u001b[0;32mNone\u001b[0m\u001b[0;34m\u001b[0m\u001b[0;34m\u001b[0m\u001b[0m\n\u001b[0;32m-> 1948\u001b[0;31m             return self.sync(\n\u001b[0m\u001b[1;32m   1949\u001b[0m                 \u001b[0mself\u001b[0m\u001b[0;34m.\u001b[0m\u001b[0m_gather\u001b[0m\u001b[0;34m,\u001b[0m\u001b[0;34m\u001b[0m\u001b[0;34m\u001b[0m\u001b[0m\n\u001b[1;32m   1950\u001b[0m                 \u001b[0mfutures\u001b[0m\u001b[0;34m,\u001b[0m\u001b[0;34m\u001b[0m\u001b[0;34m\u001b[0m\u001b[0m\n",
      "\u001b[0;32m/usr/workspace/iopp/.conda/envs/jupyter/lib/python3.9/site-packages/distributed/client.py\u001b[0m in \u001b[0;36msync\u001b[0;34m(self, func, asynchronous, callback_timeout, *args, **kwargs)\u001b[0m\n\u001b[1;32m    843\u001b[0m             \u001b[0;32mreturn\u001b[0m \u001b[0mfuture\u001b[0m\u001b[0;34m\u001b[0m\u001b[0;34m\u001b[0m\u001b[0m\n\u001b[1;32m    844\u001b[0m         \u001b[0;32melse\u001b[0m\u001b[0;34m:\u001b[0m\u001b[0;34m\u001b[0m\u001b[0;34m\u001b[0m\u001b[0m\n\u001b[0;32m--> 845\u001b[0;31m             return sync(\n\u001b[0m\u001b[1;32m    846\u001b[0m                 \u001b[0mself\u001b[0m\u001b[0;34m.\u001b[0m\u001b[0mloop\u001b[0m\u001b[0;34m,\u001b[0m \u001b[0mfunc\u001b[0m\u001b[0;34m,\u001b[0m \u001b[0;34m*\u001b[0m\u001b[0margs\u001b[0m\u001b[0;34m,\u001b[0m \u001b[0mcallback_timeout\u001b[0m\u001b[0;34m=\u001b[0m\u001b[0mcallback_timeout\u001b[0m\u001b[0;34m,\u001b[0m \u001b[0;34m**\u001b[0m\u001b[0mkwargs\u001b[0m\u001b[0;34m\u001b[0m\u001b[0;34m\u001b[0m\u001b[0m\n\u001b[1;32m    847\u001b[0m             )\n",
      "\u001b[0;32m/usr/workspace/iopp/.conda/envs/jupyter/lib/python3.9/site-packages/distributed/utils.py\u001b[0m in \u001b[0;36msync\u001b[0;34m(loop, func, callback_timeout, *args, **kwargs)\u001b[0m\n\u001b[1;32m    324\u001b[0m     \u001b[0;32mif\u001b[0m \u001b[0merror\u001b[0m\u001b[0;34m[\u001b[0m\u001b[0;36m0\u001b[0m\u001b[0;34m]\u001b[0m\u001b[0;34m:\u001b[0m\u001b[0;34m\u001b[0m\u001b[0;34m\u001b[0m\u001b[0m\n\u001b[1;32m    325\u001b[0m         \u001b[0mtyp\u001b[0m\u001b[0;34m,\u001b[0m \u001b[0mexc\u001b[0m\u001b[0;34m,\u001b[0m \u001b[0mtb\u001b[0m \u001b[0;34m=\u001b[0m \u001b[0merror\u001b[0m\u001b[0;34m[\u001b[0m\u001b[0;36m0\u001b[0m\u001b[0;34m]\u001b[0m\u001b[0;34m\u001b[0m\u001b[0;34m\u001b[0m\u001b[0m\n\u001b[0;32m--> 326\u001b[0;31m         \u001b[0;32mraise\u001b[0m \u001b[0mexc\u001b[0m\u001b[0;34m.\u001b[0m\u001b[0mwith_traceback\u001b[0m\u001b[0;34m(\u001b[0m\u001b[0mtb\u001b[0m\u001b[0;34m)\u001b[0m\u001b[0;34m\u001b[0m\u001b[0;34m\u001b[0m\u001b[0m\n\u001b[0m\u001b[1;32m    327\u001b[0m     \u001b[0;32melse\u001b[0m\u001b[0;34m:\u001b[0m\u001b[0;34m\u001b[0m\u001b[0;34m\u001b[0m\u001b[0m\n\u001b[1;32m    328\u001b[0m         \u001b[0;32mreturn\u001b[0m \u001b[0mresult\u001b[0m\u001b[0;34m[\u001b[0m\u001b[0;36m0\u001b[0m\u001b[0;34m]\u001b[0m\u001b[0;34m\u001b[0m\u001b[0;34m\u001b[0m\u001b[0m\n",
      "\u001b[0;32m/usr/workspace/iopp/.conda/envs/jupyter/lib/python3.9/site-packages/distributed/utils.py\u001b[0m in \u001b[0;36mf\u001b[0;34m()\u001b[0m\n\u001b[1;32m    307\u001b[0m             \u001b[0;32mif\u001b[0m \u001b[0mcallback_timeout\u001b[0m \u001b[0;32mis\u001b[0m \u001b[0;32mnot\u001b[0m \u001b[0;32mNone\u001b[0m\u001b[0;34m:\u001b[0m\u001b[0;34m\u001b[0m\u001b[0;34m\u001b[0m\u001b[0m\n\u001b[1;32m    308\u001b[0m                 \u001b[0mfuture\u001b[0m \u001b[0;34m=\u001b[0m \u001b[0masyncio\u001b[0m\u001b[0;34m.\u001b[0m\u001b[0mwait_for\u001b[0m\u001b[0;34m(\u001b[0m\u001b[0mfuture\u001b[0m\u001b[0;34m,\u001b[0m \u001b[0mcallback_timeout\u001b[0m\u001b[0;34m)\u001b[0m\u001b[0;34m\u001b[0m\u001b[0;34m\u001b[0m\u001b[0m\n\u001b[0;32m--> 309\u001b[0;31m             \u001b[0mresult\u001b[0m\u001b[0;34m[\u001b[0m\u001b[0;36m0\u001b[0m\u001b[0;34m]\u001b[0m \u001b[0;34m=\u001b[0m \u001b[0;32myield\u001b[0m \u001b[0mfuture\u001b[0m\u001b[0;34m\u001b[0m\u001b[0;34m\u001b[0m\u001b[0m\n\u001b[0m\u001b[1;32m    310\u001b[0m         \u001b[0;32mexcept\u001b[0m \u001b[0mException\u001b[0m\u001b[0;34m:\u001b[0m\u001b[0;34m\u001b[0m\u001b[0;34m\u001b[0m\u001b[0m\n\u001b[1;32m    311\u001b[0m             \u001b[0merror\u001b[0m\u001b[0;34m[\u001b[0m\u001b[0;36m0\u001b[0m\u001b[0;34m]\u001b[0m \u001b[0;34m=\u001b[0m \u001b[0msys\u001b[0m\u001b[0;34m.\u001b[0m\u001b[0mexc_info\u001b[0m\u001b[0;34m(\u001b[0m\u001b[0;34m)\u001b[0m\u001b[0;34m\u001b[0m\u001b[0;34m\u001b[0m\u001b[0m\n",
      "\u001b[0;32m/usr/workspace/iopp/.conda/envs/jupyter/lib/python3.9/site-packages/tornado/gen.py\u001b[0m in \u001b[0;36mrun\u001b[0;34m(self)\u001b[0m\n\u001b[1;32m    760\u001b[0m \u001b[0;34m\u001b[0m\u001b[0m\n\u001b[1;32m    761\u001b[0m                     \u001b[0;32mtry\u001b[0m\u001b[0;34m:\u001b[0m\u001b[0;34m\u001b[0m\u001b[0;34m\u001b[0m\u001b[0m\n\u001b[0;32m--> 762\u001b[0;31m                         \u001b[0mvalue\u001b[0m \u001b[0;34m=\u001b[0m \u001b[0mfuture\u001b[0m\u001b[0;34m.\u001b[0m\u001b[0mresult\u001b[0m\u001b[0;34m(\u001b[0m\u001b[0;34m)\u001b[0m\u001b[0;34m\u001b[0m\u001b[0;34m\u001b[0m\u001b[0m\n\u001b[0m\u001b[1;32m    763\u001b[0m                     \u001b[0;32mexcept\u001b[0m \u001b[0mException\u001b[0m\u001b[0;34m:\u001b[0m\u001b[0;34m\u001b[0m\u001b[0;34m\u001b[0m\u001b[0m\n\u001b[1;32m    764\u001b[0m                         \u001b[0mexc_info\u001b[0m \u001b[0;34m=\u001b[0m \u001b[0msys\u001b[0m\u001b[0;34m.\u001b[0m\u001b[0mexc_info\u001b[0m\u001b[0;34m(\u001b[0m\u001b[0;34m)\u001b[0m\u001b[0;34m\u001b[0m\u001b[0;34m\u001b[0m\u001b[0m\n",
      "\u001b[0;32m/usr/workspace/iopp/.conda/envs/jupyter/lib/python3.9/site-packages/distributed/client.py\u001b[0m in \u001b[0;36m_gather\u001b[0;34m(self, futures, errors, direct, local_worker)\u001b[0m\n\u001b[1;32m   1811\u001b[0m                             \u001b[0mexc\u001b[0m \u001b[0;34m=\u001b[0m \u001b[0mCancelledError\u001b[0m\u001b[0;34m(\u001b[0m\u001b[0mkey\u001b[0m\u001b[0;34m)\u001b[0m\u001b[0;34m\u001b[0m\u001b[0;34m\u001b[0m\u001b[0m\n\u001b[1;32m   1812\u001b[0m                         \u001b[0;32melse\u001b[0m\u001b[0;34m:\u001b[0m\u001b[0;34m\u001b[0m\u001b[0;34m\u001b[0m\u001b[0m\n\u001b[0;32m-> 1813\u001b[0;31m                             \u001b[0;32mraise\u001b[0m \u001b[0mexception\u001b[0m\u001b[0;34m.\u001b[0m\u001b[0mwith_traceback\u001b[0m\u001b[0;34m(\u001b[0m\u001b[0mtraceback\u001b[0m\u001b[0;34m)\u001b[0m\u001b[0;34m\u001b[0m\u001b[0;34m\u001b[0m\u001b[0m\n\u001b[0m\u001b[1;32m   1814\u001b[0m                         \u001b[0;32mraise\u001b[0m \u001b[0mexc\u001b[0m\u001b[0;34m\u001b[0m\u001b[0;34m\u001b[0m\u001b[0m\n\u001b[1;32m   1815\u001b[0m                     \u001b[0;32mif\u001b[0m \u001b[0merrors\u001b[0m \u001b[0;34m==\u001b[0m \u001b[0;34m\"skip\"\u001b[0m\u001b[0;34m:\u001b[0m\u001b[0;34m\u001b[0m\u001b[0;34m\u001b[0m\u001b[0m\n",
      "\u001b[0;32m/usr/workspace/iopp/.conda/envs/jupyter/lib/python3.9/site-packages/dask/array/percentile.py\u001b[0m in \u001b[0;36mmerge_percentiles\u001b[0;34m()\u001b[0m\n\u001b[1;32m    209\u001b[0m     \u001b[0mL\u001b[0m \u001b[0;34m=\u001b[0m \u001b[0mlist\u001b[0m\u001b[0;34m(\u001b[0m\u001b[0mzip\u001b[0m\u001b[0;34m(\u001b[0m\u001b[0;34m*\u001b[0m\u001b[0;34m[\u001b[0m\u001b[0;34m(\u001b[0m\u001b[0mq\u001b[0m\u001b[0;34m,\u001b[0m \u001b[0mval\u001b[0m\u001b[0;34m,\u001b[0m \u001b[0mN\u001b[0m\u001b[0;34m)\u001b[0m \u001b[0;32mfor\u001b[0m \u001b[0mq\u001b[0m\u001b[0;34m,\u001b[0m \u001b[0mval\u001b[0m\u001b[0;34m,\u001b[0m \u001b[0mN\u001b[0m \u001b[0;32min\u001b[0m \u001b[0mzip\u001b[0m\u001b[0;34m(\u001b[0m\u001b[0mqs\u001b[0m\u001b[0;34m,\u001b[0m \u001b[0mvals\u001b[0m\u001b[0;34m,\u001b[0m \u001b[0mNs\u001b[0m\u001b[0;34m)\u001b[0m \u001b[0;32mif\u001b[0m \u001b[0mN\u001b[0m\u001b[0;34m]\u001b[0m\u001b[0;34m)\u001b[0m\u001b[0;34m)\u001b[0m\u001b[0;34m\u001b[0m\u001b[0;34m\u001b[0m\u001b[0m\n\u001b[1;32m    210\u001b[0m     \u001b[0;32mif\u001b[0m \u001b[0;32mnot\u001b[0m \u001b[0mL\u001b[0m\u001b[0;34m:\u001b[0m\u001b[0;34m\u001b[0m\u001b[0;34m\u001b[0m\u001b[0m\n\u001b[0;32m--> 211\u001b[0;31m         \u001b[0;32mraise\u001b[0m \u001b[0mValueError\u001b[0m\u001b[0;34m(\u001b[0m\u001b[0;34m\"No non-trivial arrays found\"\u001b[0m\u001b[0;34m)\u001b[0m\u001b[0;34m\u001b[0m\u001b[0;34m\u001b[0m\u001b[0m\n\u001b[0m\u001b[1;32m    212\u001b[0m     \u001b[0mqs\u001b[0m\u001b[0;34m,\u001b[0m \u001b[0mvals\u001b[0m\u001b[0;34m,\u001b[0m \u001b[0mNs\u001b[0m \u001b[0;34m=\u001b[0m \u001b[0mL\u001b[0m\u001b[0;34m\u001b[0m\u001b[0;34m\u001b[0m\u001b[0m\n\u001b[1;32m    213\u001b[0m \u001b[0;34m\u001b[0m\u001b[0m\n",
      "\u001b[0;31mValueError\u001b[0m: No non-trivial arrays found"
     ]
    }
   ],
   "source": [
    "trace_ddf_local['duration'].describe().compute()"
   ]
  },
  {
   "cell_type": "code",
   "execution_count": 59,
   "metadata": {
    "tags": [
     "Finding"
    ]
   },
   "outputs": [
    {
     "name": "stdout",
     "output_type": "stream",
     "text": [
      "Profiler stored 0 negetive rows\n"
     ]
    }
   ],
   "source": [
    "negetive_durations = trace_ddf_local[trace_ddf_local['duration'] < 0]['duration'].count().compute()\n",
    "print(\"Profiler stored {} negetive rows\".format(negetive_durations))"
   ]
  },
  {
   "cell_type": "code",
   "execution_count": 60,
   "metadata": {},
   "outputs": [],
   "source": [
    "time_per_rank = trace_ddf_local.groupby('app')['duration'].sum().compute()"
   ]
  },
  {
   "cell_type": "code",
   "execution_count": 61,
   "metadata": {
    "tags": [
     "Finding"
    ]
   },
   "outputs": [
    {
     "name": "stdout",
     "output_type": "stream",
     "text": [
      "Time per process: Average nan sec, Max nan sec, and Min nan sec\n"
     ]
    }
   ],
   "source": [
    "print(\"Time per process: Average {} sec, Max {} sec, and Min {} sec\".format(time_per_rank.mean(), time_per_rank.max(), time_per_rank.min()))"
   ]
  },
  {
   "cell_type": "code",
   "execution_count": null,
   "metadata": {},
   "outputs": [],
   "source": [
    "time_per_rank.plot(kind='bar',figsize=(4,4))"
   ]
  },
  {
   "cell_type": "markdown",
   "metadata": {},
   "source": [
    "**No compute trace available**"
   ]
  },
  {
   "cell_type": "markdown",
   "metadata": {},
   "source": [
    "## Job Time"
   ]
  },
  {
   "cell_type": "code",
   "execution_count": 63,
   "metadata": {},
   "outputs": [],
   "source": [
    "job_time = ddf['tend'].max().compute()"
   ]
  },
  {
   "cell_type": "code",
   "execution_count": 64,
   "metadata": {},
   "outputs": [
    {
     "name": "stdout",
     "output_type": "stream",
     "text": [
      "Job Time in Application 53873.56640625 sec\n"
     ]
    }
   ],
   "source": [
    "print(\"Job Time in Application {} sec\".format(job_time))"
   ]
  },
  {
   "cell_type": "markdown",
   "metadata": {},
   "source": [
    "The application run for a long time includes initialization."
   ]
  },
  {
   "cell_type": "markdown",
   "metadata": {},
   "source": [
    "## Job Intensity"
   ]
  },
  {
   "cell_type": "code",
   "execution_count": 65,
   "metadata": {},
   "outputs": [
    {
     "name": "stdout",
     "output_type": "stream",
     "text": [
      "I/O Time: 2.6498191356658936 sec Compute Time: 0.0 sec\n"
     ]
    }
   ],
   "source": [
    "total_compute = trace_ddf_local['duration'].sum().compute()\n",
    "total_io = io_ddf['duration'].sum().compute()\n",
    "print(\"I/O Time: {} sec Compute Time: {} sec\".format(total_io, total_compute))"
   ]
  },
  {
   "cell_type": "code",
   "execution_count": 66,
   "metadata": {},
   "outputs": [],
   "source": [
    "io_intensity=total_io/(total_io + total_compute)\n",
    "comp_intensity=total_compute/(total_io + total_compute)"
   ]
  },
  {
   "cell_type": "code",
   "execution_count": 67,
   "metadata": {},
   "outputs": [
    {
     "name": "stdout",
     "output_type": "stream",
     "text": [
      "I/O intensity: 1.0, Compute intensity: 0.0\n"
     ]
    }
   ],
   "source": [
    "print(\"I/O intensity: {}, Compute intensity: {}\".format(io_intensity, comp_intensity))"
   ]
  },
  {
   "cell_type": "markdown",
   "metadata": {
    "tags": [
     "Finding"
    ]
   },
   "source": [
    "**Application is not compute intensive as only 4 second of the overall time (i.e. 668 sec) is spent on I/O**"
   ]
  },
  {
   "cell_type": "markdown",
   "metadata": {},
   "source": [
    "### I/O Transfer Size Distribution"
   ]
  },
  {
   "cell_type": "code",
   "execution_count": 68,
   "metadata": {},
   "outputs": [
    {
     "name": "stdout",
     "output_type": "stream",
     "text": [
      "[0, 0, 0, 1320, 168]\n"
     ]
    },
    {
     "data": {
      "image/png": "[encoded data removed]",
      "text/plain": [
       "<Figure size 432x288 with 1 Axes>"
      ]
     },
     "metadata": {
      "needs_background": "light"
     },
     "output_type": "display_data"
    }
   ],
   "source": [
    "file_df_temp = io_ddf_read_write\n",
    "size_ranges = [0, 4*1024, 64*1024, 1024*1024, 16*1024*1024]\n",
    "size_ranges_str = []\n",
    "for range_val in size_ranges:\n",
    "    size_ranges_str.append(str(range_val))\n",
    "max_range = len(size_ranges)\n",
    "request_size = [0]*len(size_ranges)\n",
    "for i, val in enumerate(size_ranges):\n",
    "    #print(i, max_range)\n",
    "    if i < max_range - 1:\n",
    "        request_size[i] = file_df_temp[(file_df_temp['size'].ge(val)) & \n",
    "                                       (file_df_temp['size'].lt(size_ranges[i+1]))]['size'].count()\n",
    "    else:\n",
    "        request_size[i] = file_df_temp[(file_df_temp['size'] >=size_ranges[i])]['size'].count()\n",
    "\n",
    "print(request_size)\n",
    "plt.bar(size_ranges_str, request_size)\n",
    "#file_sizes = file_df_temp['size'].to_numpy() / 1024.0 /1024.0\n",
    "#plt.hist(file_sizes, bins=100)\n",
    "plt.show()"
   ]
  },
  {
   "cell_type": "markdown",
   "metadata": {},
   "source": [
    "**Application performs a lot of small I/O <=4 KB and reads 16MB**"
   ]
  },
  {
   "cell_type": "markdown",
   "metadata": {},
   "source": [
    "### Distribution of request sizes per rank\n",
    "We need this as we see most I/O occurs by rank 0"
   ]
  },
  {
   "cell_type": "code",
   "execution_count": 69,
   "metadata": {},
   "outputs": [
    {
     "data": {
      "image/png": "[encoded data removed]",
      "text/plain": [
       "<Figure size 432x288 with 1 Axes>"
      ]
     },
     "metadata": {
      "needs_background": "light"
     },
     "output_type": "display_data"
    },
    {
     "data": {
      "image/png": "[encoded data removed]",
      "text/plain": [
       "<Figure size 432x288 with 1 Axes>"
      ]
     },
     "metadata": {
      "needs_background": "light"
     },
     "output_type": "display_data"
    },
    {
     "data": {
      "image/png": "[encoded data removed]",
      "text/plain": [
       "<Figure size 432x288 with 1 Axes>"
      ]
     },
     "metadata": {
      "needs_background": "light"
     },
     "output_type": "display_data"
    },
    {
     "data": {
      "image/png": "[encoded data removed]",
      "text/plain": [
       "<Figure size 432x288 with 1 Axes>"
      ]
     },
     "metadata": {
      "needs_background": "light"
     },
     "output_type": "display_data"
    },
    {
     "data": {
      "image/png": "[encoded data removed]",
      "text/plain": [
       "<Figure size 432x288 with 1 Axes>"
      ]
     },
     "metadata": {
      "needs_background": "light"
     },
     "output_type": "display_data"
    },
    {
     "data": {
      "image/png": "[encoded data removed]",
      "text/plain": [
       "<Figure size 432x288 with 1 Axes>"
      ]
     },
     "metadata": {
      "needs_background": "light"
     },
     "output_type": "display_data"
    },
    {
     "data": {
      "image/png": "[encoded data removed]",
      "text/plain": [
       "<Figure size 432x288 with 1 Axes>"
      ]
     },
     "metadata": {
      "needs_background": "light"
     },
     "output_type": "display_data"
    }
   ],
   "source": [
    "selected_ranks = [0,1,2,3,4,5,6]\n",
    "for rank in selected_ranks:\n",
    "    file_df_temp = io_ddf_read_write[io_ddf_read_write['rank'] == rank]\n",
    "    size_ranges = [0, 4*1024, 64*1024, 1024*1024, 16*1024*1024]\n",
    "    size_ranges_str = []\n",
    "    for range_val in size_ranges:\n",
    "        size_ranges_str.append(str(range_val))\n",
    "    max_range = len(size_ranges)\n",
    "    request_size = [0]*len(size_ranges)\n",
    "    for i, val in enumerate(size_ranges):\n",
    "        #print(i, max_range)\n",
    "        if i < max_range - 1:\n",
    "            request_size[i] = file_df_temp[(file_df_temp['size'].ge(val)) & \n",
    "                                           (file_df_temp['size'].lt(size_ranges[i+1]))]['size'].count()\n",
    "        else:\n",
    "            request_size[i] = file_df_temp[(file_df_temp['size'] >=size_ranges[i])]['size'].count()\n",
    "\n",
    "    #print(request_size)\n",
    "    plt.bar(size_ranges_str, request_size)\n",
    "    #file_sizes = file_df_temp['size'].to_numpy() / 1024.0 /1024.0\n",
    "    #plt.hist(file_sizes, bins=100)\n",
    "    plt.show()"
   ]
  },
  {
   "cell_type": "markdown",
   "metadata": {
    "tags": [
     "Finding"
    ]
   },
   "source": [
    "**The application uses a transfer size of 4K (used by rank 0) and 16MB (used by other ranks)**"
   ]
  },
  {
   "cell_type": "markdown",
   "metadata": {},
   "source": [
    "### Distribution of Bandwidth achived by application"
   ]
  },
  {
   "cell_type": "code",
   "execution_count": 70,
   "metadata": {},
   "outputs": [
    {
     "data": {
      "image/png": "[encoded data removed]",
      "text/plain": [
       "<Figure size 432x288 with 1 Axes>"
      ]
     },
     "metadata": {
      "needs_background": "light"
     },
     "output_type": "display_data"
    }
   ],
   "source": [
    "bw_ranges = [1, 128, 1024, 1024*64]\n",
    "bw_ranges_str = []\n",
    "for range_val in bw_ranges:\n",
    "    bw_ranges_str.append(str(range_val))\n",
    "max_range = len(bw_ranges)\n",
    "request_bw = [0]*len(bw_ranges)\n",
    "file_df_temp = io_ddf_read_write\n",
    "for i, val in enumerate(bw_ranges):\n",
    "    #print(i, max_range)\n",
    "    if i < max_range - 1:\n",
    "        request_bw[i] = file_df_temp[(file_df_temp['bandwidth'].ge(val)) & \n",
    "                                       (file_df_temp['bandwidth'].lt(bw_ranges[i+1]))]['size'].count()\n",
    "    else:\n",
    "        request_bw[i] = file_df_temp[(file_df_temp['bandwidth'] >=bw_ranges[i])]['size'].count()\n",
    "fig, ax = plt.subplots()\n",
    "ax.barh(bw_ranges_str, request_bw)\n",
    "for i, v in enumerate(request_bw):\n",
    "    ax.text(v + 3, i + .25, str(v), color='blue', fontweight='bold')\n",
    "plt.show()"
   ]
  },
  {
   "cell_type": "code",
   "execution_count": 71,
   "metadata": {},
   "outputs": [
    {
     "data": {
      "text/plain": [
       "[0, 122, 739, 0]"
      ]
     },
     "execution_count": 71,
     "metadata": {},
     "output_type": "execute_result"
    }
   ],
   "source": [
    "request_bw"
   ]
  },
  {
   "cell_type": "code",
   "execution_count": 72,
   "metadata": {},
   "outputs": [
    {
     "data": {
      "text/plain": [
       "array([ 0.        , 14.16957027, 85.83042973,  0.        ])"
      ]
     },
     "execution_count": 72,
     "metadata": {},
     "output_type": "execute_result"
    }
   ],
   "source": [
    "percentage_bw = np.array(request_bw)*100/np.sum(request_bw)\n",
    "percentage_bw"
   ]
  },
  {
   "cell_type": "markdown",
   "metadata": {
    "tags": [
     "Finding"
    ]
   },
   "source": [
    "- 40% of the overall I/O got a bandwidth of 128 MB/s per process.\n",
    "- 35% achieve a low bandwidth of 64GB/s"
   ]
  },
  {
   "cell_type": "code",
   "execution_count": 73,
   "metadata": {},
   "outputs": [
    {
     "name": "stdout",
     "output_type": "stream",
     "text": [
      "nan nan\n"
     ]
    },
    {
     "data": {
      "image/png": "[encoded data removed]",
      "text/plain": [
       "<Figure size 1152x288 with 1 Axes>"
      ]
     },
     "metadata": {
      "needs_background": "light"
     },
     "output_type": "display_data"
    },
    {
     "name": "stdout",
     "output_type": "stream",
     "text": [
      "nan nan\n"
     ]
    },
    {
     "data": {
      "image/png": "[encoded data removed]",
      "text/plain": [
       "<Figure size 1152x288 with 1 Axes>"
      ]
     },
     "metadata": {
      "needs_background": "light"
     },
     "output_type": "display_data"
    },
    {
     "name": "stdout",
     "output_type": "stream",
     "text": [
      "nan nan\n"
     ]
    },
    {
     "data": {
      "image/png": "[encoded data removed]",
      "text/plain": [
       "<Figure size 1152x288 with 1 Axes>"
      ]
     },
     "metadata": {
      "needs_background": "light"
     },
     "output_type": "display_data"
    },
    {
     "name": "stdout",
     "output_type": "stream",
     "text": [
      "1255.7751901002048 1255.7751901002048\n"
     ]
    },
    {
     "data": {
      "image/png": "[encoded data removed]",
      "text/plain": [
       "<Figure size 1152x288 with 1 Axes>"
      ]
     },
     "metadata": {
      "needs_background": "light"
     },
     "output_type": "display_data"
    },
    {
     "name": "stdout",
     "output_type": "stream",
     "text": [
      "4682.21296219806 4682.21296219806\n"
     ]
    },
    {
     "data": {
      "image/png": "[encoded data removed]",
      "text/plain": [
       "<Figure size 1152x288 with 1 Axes>"
      ]
     },
     "metadata": {
      "needs_background": "light"
     },
     "output_type": "display_data"
    },
    {
     "name": "stderr",
     "output_type": "stream",
     "text": [
      "No handles with labels found to put in legend.\n"
     ]
    }
   ],
   "source": [
    "app_str = io_ddf_read_write['app'].unique()\n",
    "size_ranges = [0, 4*1024, 64*1024, 1024*1024, 16*1024*1024]\n",
    "request_size = [[]]*len(size_ranges)\n",
    "for i, val in enumerate(size_ranges):\n",
    "    request_size[i] = [0]*len(app_str)\n",
    "    for j,app in enumerate(app_str):\n",
    "        \n",
    "        file_df_temp = io_ddf_read_write[io_ddf_read_write['app'] == app]\n",
    "        max_range = len(size_ranges)\n",
    "        if i < max_range - 1:\n",
    "            request_size[i][j] = file_df_temp[(file_df_temp['size'].ge(val)) & \n",
    "                                           (file_df_temp['size'].lt(size_ranges[i+1]))]['bandwidth'].mean()\n",
    "        else:\n",
    "            request_size[i][j] = file_df_temp[(file_df_temp['size'] >=size_ranges[i])]['bandwidth'].mean()\n",
    "#fig, ax = plt.subplots(figsize=(16,4))\n",
    "#width = 0.35\n",
    "#plt.figure()\n",
    "for i, val in enumerate(size_ranges):\n",
    "    plt.figure(figsize=(16,4))\n",
    "    print(request_size[i][0],np.median(request_size[i]))\n",
    "    rects1 = plt.bar(app_str, request_size[i], 0.35, label=str(i))\n",
    "    plt.show()\n",
    "ax.legend()\n",
    "\n",
    "fig.tight_layout()\n",
    "\n",
    "plt.show()"
   ]
  },
  {
   "cell_type": "markdown",
   "metadata": {},
   "source": [
    "### Number of files read/written"
   ]
  },
  {
   "cell_type": "code",
   "execution_count": 74,
   "metadata": {
    "tags": [
     "Finding"
    ]
   },
   "outputs": [
    {
     "name": "stdout",
     "output_type": "stream",
     "text": [
      "The application accesses 0 files\n"
     ]
    }
   ],
   "source": [
    "all_filenames = io_ddf[io_ddf['filename'].str.contains('/p/gpfs1')]['filename'].unique().compute()\n",
    "print(\"The application accesses {} files\".format(len(all_filenames)))\n",
    "#print(all_filenames[:8],all_filenames[-8:])"
   ]
  },
  {
   "cell_type": "markdown",
   "metadata": {},
   "source": [
    "### I/O Operations by Application"
   ]
  },
  {
   "cell_type": "code",
   "execution_count": 75,
   "metadata": {},
   "outputs": [
    {
     "data": {
      "text/plain": [
       "func_id\n",
       "close       18368\n",
       "closedir      140\n",
       "open        20188\n",
       "opendir       140\n",
       "unlink        200\n",
       "__xstat       108\n",
       "fclose       1596\n",
       "fopen64      1596\n",
       "fread         108\n",
       "fseeko        216\n",
       "ftello        324\n",
       "fwrite       1380\n",
       "getcwd        216\n",
       "mkdir        1200\n",
       "symlink        60\n",
       "Name: func_id, dtype: int64"
      ]
     },
     "execution_count": 75,
     "metadata": {},
     "output_type": "execute_result"
    }
   ],
   "source": [
    "io_ddf.groupby('func_id')['func_id'].count().compute()"
   ]
  },
  {
   "cell_type": "markdown",
   "metadata": {},
   "source": [
    "**As there are 1280 ranks in total, Most I/O is performed by rank 0 rest of them do less I/O**"
   ]
  },
  {
   "cell_type": "markdown",
   "metadata": {},
   "source": [
    "### IO Operations per rank"
   ]
  },
  {
   "cell_type": "code",
   "execution_count": 76,
   "metadata": {},
   "outputs": [
    {
     "data": {
      "text/plain": [
       "rank  func_id \n",
       "0     close       6433\n",
       "      closedir     109\n",
       "      open        7850\n",
       "      opendir      109\n",
       "      unlink       169\n",
       "      __xstat      108\n",
       "      fclose      1596\n",
       "      fopen64     1596\n",
       "      fread        108\n",
       "      fseeko       216\n",
       "      ftello       324\n",
       "      fwrite      1380\n",
       "      getcwd       216\n",
       "      mkdir       1200\n",
       "      symlink       60\n",
       "1     close        385\n",
       "      closedir       1\n",
       "      open         398\n",
       "      opendir        1\n",
       "      unlink         1\n",
       "2     close        385\n",
       "      closedir       1\n",
       "      open         398\n",
       "      opendir        1\n",
       "      unlink         1\n",
       "3     close        385\n",
       "      closedir       1\n",
       "      open         398\n",
       "      opendir        1\n",
       "      unlink         1\n",
       "4     close        385\n",
       "      closedir       1\n",
       "Name: func_id, dtype: int64"
      ]
     },
     "execution_count": 76,
     "metadata": {},
     "output_type": "execute_result"
    }
   ],
   "source": [
    "io_ddf.groupby(['rank','func_id'])['func_id'].count().compute()[:32]"
   ]
  },
  {
   "cell_type": "code",
   "execution_count": 77,
   "metadata": {},
   "outputs": [
    {
     "data": {
      "text/plain": [
       "rank  func_id \n",
       "23    opendir       1\n",
       "      unlink        1\n",
       "24    close       385\n",
       "      closedir      1\n",
       "      open        398\n",
       "      opendir       1\n",
       "      unlink        1\n",
       "25    close       385\n",
       "      closedir      1\n",
       "      open        398\n",
       "      opendir       1\n",
       "      unlink        1\n",
       "26    close       385\n",
       "      closedir      1\n",
       "      open        398\n",
       "      opendir       1\n",
       "      unlink        1\n",
       "27    close       385\n",
       "      closedir      1\n",
       "      open        398\n",
       "      opendir       1\n",
       "      unlink        1\n",
       "28    close       385\n",
       "      closedir      1\n",
       "      open        398\n",
       "      opendir       1\n",
       "      unlink        1\n",
       "29    close       385\n",
       "      closedir      1\n",
       "      open        398\n",
       "      opendir       1\n",
       "      unlink        1\n",
       "Name: func_id, dtype: int64"
      ]
     },
     "execution_count": 77,
     "metadata": {},
     "output_type": "execute_result"
    }
   ],
   "source": [
    "io_ddf.groupby(['rank','func_id'])['func_id'].count().compute()[128:160]"
   ]
  },
  {
   "cell_type": "markdown",
   "metadata": {
    "tags": [
     "Finding"
    ]
   },
   "source": [
    "**These confirm our hypothesis that most I/O is performed by rank 0 rest of them do less I/O**"
   ]
  },
  {
   "cell_type": "markdown",
   "metadata": {},
   "source": [
    "### Bandwidth per request distribution\n",
    "We calculate the achived bandwidth per request size."
   ]
  },
  {
   "cell_type": "code",
   "execution_count": 78,
   "metadata": {},
   "outputs": [
    {
     "name": "stdout",
     "output_type": "stream",
     "text": [
      "nan\n"
     ]
    },
    {
     "data": {
      "image/png": "[encoded data removed]",
      "text/plain": [
       "<Figure size 1152x288 with 1 Axes>"
      ]
     },
     "metadata": {
      "needs_background": "light"
     },
     "output_type": "display_data"
    },
    {
     "name": "stdout",
     "output_type": "stream",
     "text": [
      "nan\n"
     ]
    },
    {
     "data": {
      "image/png": "[encoded data removed]",
      "text/plain": [
       "<Figure size 1152x288 with 1 Axes>"
      ]
     },
     "metadata": {
      "needs_background": "light"
     },
     "output_type": "display_data"
    },
    {
     "name": "stdout",
     "output_type": "stream",
     "text": [
      "nan\n"
     ]
    },
    {
     "data": {
      "image/png": "[encoded data removed]",
      "text/plain": [
       "<Figure size 1152x288 with 1 Axes>"
      ]
     },
     "metadata": {
      "needs_background": "light"
     },
     "output_type": "display_data"
    },
    {
     "name": "stdout",
     "output_type": "stream",
     "text": [
      "1255.7751901002048\n"
     ]
    },
    {
     "data": {
      "image/png": "[encoded data removed]",
      "text/plain": [
       "<Figure size 1152x288 with 1 Axes>"
      ]
     },
     "metadata": {
      "needs_background": "light"
     },
     "output_type": "display_data"
    },
    {
     "name": "stdout",
     "output_type": "stream",
     "text": [
      "4682.21296219806\n"
     ]
    },
    {
     "data": {
      "image/png": "[encoded data removed]",
      "text/plain": [
       "<Figure size 1152x288 with 1 Axes>"
      ]
     },
     "metadata": {
      "needs_background": "light"
     },
     "output_type": "display_data"
    },
    {
     "name": "stderr",
     "output_type": "stream",
     "text": [
      "No handles with labels found to put in legend.\n"
     ]
    }
   ],
   "source": [
    "app_str = io_ddf_read_write['app'].unique()\n",
    "size_ranges = [0, 4*1024, 64*1024, 1024*1024, 16*1024*1024]\n",
    "request_size = [[]]*len(size_ranges)\n",
    "for i, val in enumerate(size_ranges):\n",
    "    request_size[i] = [0]*len(app_str)\n",
    "    for j,app in enumerate(app_str):\n",
    "        \n",
    "        file_df_temp = io_ddf_read_write[io_ddf_read_write['app'] == app]\n",
    "        max_range = len(size_ranges)\n",
    "        if i < max_range - 1:\n",
    "            request_size[i][j] = file_df_temp[(file_df_temp['size'].ge(val)) & \n",
    "                                           (file_df_temp['size'].lt(size_ranges[i+1]))]['bandwidth'].mean()\n",
    "        else:\n",
    "            request_size[i][j] = file_df_temp[(file_df_temp['size'] >=size_ranges[i])]['bandwidth'].mean()\n",
    "#fig, ax = plt.subplots(figsize=(16,4))\n",
    "#width = 0.35\n",
    "#plt.figure()\n",
    "for i, val in enumerate(size_ranges):\n",
    "    plt.figure(figsize=(16,4))\n",
    "    print(np.sum(request_size[i]))\n",
    "    rects1 = plt.bar(app_str, request_size[i], 0.35, label=str(i))\n",
    "    plt.show()\n",
    "ax.legend()\n",
    "\n",
    "fig.tight_layout()\n",
    "\n",
    "plt.show()"
   ]
  },
  {
   "cell_type": "markdown",
   "metadata": {},
   "source": [
    "**Larger Request sizes have larger bandwidth. However as 4KB write dominates the application I/O we see small bandwidth overall**"
   ]
  },
  {
   "cell_type": "markdown",
   "metadata": {},
   "source": [
    "### Overlapping of Compute and I/O"
   ]
  },
  {
   "cell_type": "code",
   "execution_count": 79,
   "metadata": {},
   "outputs": [
    {
     "data": {
      "text/plain": [
       "count    109.0\n",
       "mean       1.0\n",
       "std        0.0\n",
       "min        1.0\n",
       "25%        1.0\n",
       "50%        1.0\n",
       "75%        1.0\n",
       "max        1.0\n",
       "Name: thread_id, dtype: float64"
      ]
     },
     "execution_count": 79,
     "metadata": {},
     "output_type": "execute_result"
    }
   ],
   "source": [
    "io_ddf.groupby('proc')['thread_id'].nunique().describe().compute()"
   ]
  },
  {
   "cell_type": "markdown",
   "metadata": {},
   "source": [
    "#### No additional threads means I/O is synchronous to compute. I.e. all I/O is unoverlapped."
   ]
  },
  {
   "cell_type": "markdown",
   "metadata": {},
   "source": [
    "### Timeline\n",
    "The timeline analysis shows how each rank performs I/O over the runtime of the applications"
   ]
  },
  {
   "cell_type": "code",
   "execution_count": 80,
   "metadata": {},
   "outputs": [],
   "source": [
    "time_step=100 # in seconds"
   ]
  },
  {
   "cell_type": "markdown",
   "metadata": {},
   "source": [
    "#### Request Size Timeline"
   ]
  },
  {
   "cell_type": "code",
   "execution_count": 81,
   "metadata": {},
   "outputs": [
    {
     "name": "stdout",
     "output_type": "stream",
     "text": [
      "[0.0, 0.0, 0.0, 0.0, 0.02531222254037857, 0.009144646115601063, 0.006096431985497475, 0.006096431985497475, 0.009144647978246212, 0.006096431985497475, 0.006096431985497475, 0.009144647978246212, 0.05922538321465254, 0.006093076430261135, 0.006093078292906284, 0.006093079224228859, 0.009139618836343288, 0.006093079224228859, 0.006093079224228859, 0.009139618836343288, 0.006093079224228859, 0.05928361788392067, 0.0061135059222579, 0.009170262143015862, 0.006113508716225624, 0.006113508716225624, 0.009170263074338436, 0.006113508716225624, 0.006113508716225624, 0.006113508716225624, 0.059320478700101376, 0.00913961511105299, 0.006093079224228859, 0.006093079224228859, 0.009139618836343288, 0.006093079224228859, 0.009139618836343288, 0.006093079224228859, 0.006093079224228859, 0.05916872713714838, 0.00912459660321474, 0.006083065643906593, 0.006083065643906593, 0.00912459846585989, 0.006083065643906593, 0.006083065643906593, 0.00912459846585989, 0.05931511148810387, 0.006136572919785976, 0.009204862639307976, 0.0061365757137537, 0.0061365757137537, 0.00920486357063055, 0.0061365757137537, 0.0061365757137537, 0.00920486357063055, 0.05953154154121876, 0.006117977201938629, 0.006117979064583778, 0.006117979064583778, 0.009176968596875668, 0.006117979064583778, 0.006117979064583778, 0.009176968596875668, 0.006117979064583778, 0.059468441642820835, 0.006124906241893768, 0.009187362156808376, 0.0061249081045389175, 0.0061249081045389175, 0.0061249081045389175, 0.009187362156808376, 0.0061249081045389175, 0.0061249081045389175, 0.05936058145016432, 0.009136264212429523, 0.006090844050049782, 0.006090844050049782, 0.009136266075074673, 0.006090844050049782, 0.006090844050049782, 0.006090844050049782, 0.06233058776706457, 0.006117350421845913, 0.006117352284491062, 0.006117353215813637, 0.009176029823720455, 0.006117353215813637, 0.006117353215813637, 0.006117353215813637, 0.009176029823720455, 0.05944613739848137, 0.006121373735368252, 0.006121375598013401, 0.009182064794003963, 0.006121376529335976, 0.006121376529335976, 0.006121376529335976, 0.009182064794003963, 0.006121376529335976, 0.05944090988487005, 0.006113818846642971, 0.009170731529593468, 0.006113821640610695, 0.009170732460916042, 0.006113821640610695, 0.006113821640610695, 0.009170732460916042, 0.006113821640610695, 0.05947491619735956, 0.0061313435435295105, 0.00919701810926199, 0.00613134540617466, 0.00613134540617466, 0.00613134540617466, 0.00919701810926199, 0.00613134540617466, 0.00613134540617466, 0.059508541598916054, 0.009178576059639454, 0.006119051948189735, 0.006119051948189735, 0.009178577922284603, 0.006119051948189735, 0.006119051948189735, 0.006119051948189735, 0.06261605583131313, 0.006148776970803738, 0.006148778833448887, 0.0061487797647714615, 0.009223169647157192, 0.0061487797647714615, 0.009223169647157192, 0.0061487797647714615, 0.0061487797647714615, 0.059481559321284294, 0.006083196960389614, 0.009124798700213432, 0.006083199754357338, 0.006083199754357338, 0.009124799631536007, 0.006083199754357338, 0.006083199754357338, 0.009124799631536007, 0.05920562520623207, 0.006104119122028351, 0.0061041209846735, 0.00915618147701025, 0.0061041209846735, 0.0061041209846735, 0.00915618147701025, 0.0061041209846735, 0.062330867163836956, 0.006094641052186489, 0.006094642914831638, 0.006094643846154213, 0.006094643846154213, 0.00914196576923132, 0.006094643846154213, 0.006094643846154213, 0.00914196576923132, 0.05917586572468281, 0.0060815876349806786, 0.006081589497625828, 0.009122385643422604, 0.006081590428948402, 0.006081590428948402, 0.009122385643422604, 0.006081590428948402, 0.006081590428948402, 0.05920960195362568, 0.009165297262370586, 0.00611020065844059, 0.00611020065844059, 0.009165300987660885, 0.00611020065844059, 0.00611020065844059, 0.009165300987660885, 0.00611020065844059, 0.059368910267949104, 0.006109751760959625, 0.009164630435407162, 0.0061097536236047745, 0.0061097536236047745, 0.009164630435407162, 0.0061097536236047745, 0.0061097536236047745, 0.0061097536236047745, 0.0595149090513587, 0.009219949133694172, 0.006146633997559547, 0.006146633997559547, 0.009219950996339321, 0.006146633997559547, 0.006146633997559547, 0.006146633997559547, 0.06272467691451311, 0.006133354268968105, 0.0061333561316132545, 0.006133357062935829, 0.009200035594403744, 0.006133357062935829, 0.006133357062935829, 0.006133357062935829, 0.009200035594403744, 0.05937674082815647, 0.006078547798097134, 0.006078549660742283, 0.009117825888097286, 0.0060785505920648575, 0.0060785505920648575, 0.009117825888097286, 0.0060785505920648575, 0.0060785505920648575, 0.059109595604240894, 0.009131702594459057, 0.006087804213166237, 0.006087804213166237, 0.006087804213166237, 0.009131706319749355, 0.006087804213166237, 0.006087804213166237, 0.009131706319749355, 0.05914479214698076, 0.0060844942927360535, 0.006084496155381203, 0.009126744233071804, 0.006084496155381203, 0.006084496155381203, 0.006084496155381203, 0.009126744233071804, 0.006084496155381203, 0.05925183184444904, 0.006113685667514801, 0.009170531295239925, 0.00611368753015995, 0.00611368753015995, 0.00611368753015995, 0.009170531295239925, 0.00611368753015995, 0.00611368753015995, 0.059292989782989025, 0.009132509119808674, 0.006088340654969215, 0.006088340654969215, 0.009132510982453823, 0.006088340654969215, 0.006088340654969215, 0.009132510982453823, 0.05927555449306965, 0.0061178868636488914, 0.006117888726294041, 0.006117889657616615, 0.009176834486424923, 0.006117889657616615, 0.006117889657616615, 0.009176834486424923, 0.006117889657616615, 0.059362709522247314, 0.006097949109971523, 0.0060979509726166725, 0.00914692785590887, 0.006097951903939247, 0.006097951903939247, 0.00914692785590887, 0.006097951903939247, 0.006097951903939247, 0.11846217606216669, 0.16331273317337036, 0.16311398148536682, 0.19068655371665955, 0.1039707949385047, 0.006131923757493496, 0.009197888895869255, 0.00613192655146122, 0.00613192655146122, 0.00613192655146122, 0.00919788982719183, 0.00613192655146122, 0.00613192655146122, 0.05934040155261755, 0.0060705458745360374, 0.009105822071433067, 0.006070548668503761, 0.006070548668503761, 0.009105823002755642, 0.006070548668503761, 0.006070548668503761, 0.009105823002755642, 0.059084830805659294, 0.006090618669986725, 0.006090620532631874, 0.009135930798947811, 0.006090620532631874, 0.006090620532631874, 0.009135930798947811, 0.006090620532631874, 0.006090620532631874, 0.05919821746647358, 0.006093122065067291, 0.00913968589156866, 0.0060931239277124405, 0.0060931239277124405, 0.00913968589156866, 0.0060931239277124405, 0.0060931239277124405, 0.06225194875150919, 0.006092405878007412, 0.006092407740652561, 0.006092408671975136, 0.009138613007962704, 0.006092408671975136, 0.006092408671975136, 0.009138613007962704, 0.006092408671975136, 0.059116932563483715, 0.006068757735192776, 0.009103139862418175, 0.0060687605291605, 0.0060687605291605, 0.00910314079374075, 0.0060687605291605, 0.0060687605291605, 0.00910314079374075, 0.0591238709166646, 0.0061021968722343445, 0.006102198734879494, 0.006102198734879494, 0.00915329810231924, 0.006102198734879494, 0.006102198734879494, 0.00915329810231924, 0.006102198734879494, 0.059337626211345196, 0.006112836301326752, 0.009169257245957851, 0.006112838163971901, 0.006112838163971901, 0.006112838163971901, 0.009169257245957851, 0.006112838163971901, 0.006112838163971901, 0.05933548230677843, 0.009149541147053242, 0.006099695339798927, 0.006099695339798927, 0.006099695339798927, 0.009149543009698391, 0.006099695339798927, 0.006099695339798927, 0.06239624321460724, 0.0030602170154452324, 0.009180654771625996, 0.006120437756180763, 0.006120437756180763, 0.009180656634271145, 0.006120437756180763, 0.006120437756180763, 0.009180656634271145, 0.05935926456004381, 0.006092987023293972, 0.006092988885939121, 0.006092989817261696, 0.009139484725892544, 0.006092989817261696, 0.006092989817261696, 0.009139484725892544, 0.006092989817261696, 0.059203014709055424, 0.006091735325753689, 0.009137606248259544, 0.006091738119721413, 0.006091738119721413, 0.009137607179582119, 0.006091738119721413, 0.006091738119721413, 0.006091738119721413, 0.05937534663826227, 0.009209754876792431, 0.006139839068055153, 0.006139839068055153, 0.00920975860208273, 0.006139839068055153, 0.006139839068055153, 0.006139839068055153, 0.00920975860208273, 0.05957640986889601, 0.006124995648860931, 0.006124997511506081, 0.009187496267259121, 0.006124997511506081, 0.006124997511506081, 0.006124997511506081, 0.009187496267259121, 0.006124997511506081, 0.059581818990409374, 0.006144128739833832, 0.009216195903718472, 0.006144130602478981, 0.006144130602478981, 0.006144130602478981, 0.009216195903718472, 0.006144130602478981, 0.006144130602478981, 0.05950818117707968, 0.00915530789643526, 0.00610353983938694, 0.00610353983938694, 0.00610353983938694, 0.00915530975908041, 0.00610353983938694, 0.00610353983938694, 0.06231313105672598, 0.0060919588431715965, 0.006091960705816746, 0.00609196163713932, 0.00913794245570898, 0.00609196163713932, 0.00609196163713932, 0.00913794245570898, 0.00609196163713932, 0.0592889254912734, 0.006115785799920559, 0.006115787662565708, 0.009173682890832424, 0.006115788593888283, 0.006115788593888283, 0.009173682890832424, 0.006115788593888283, 0.006115788593888283, 0.05959878023713827, 0.009246903471648693, 0.006164604797959328, 0.006164604797959328, 0.009246907196938992, 0.006164604797959328, 0.006164604797959328, 0.009246907196938992, 0.006164604797959328, 0.05977161880582571, 0.006142161786556244, 0.006142163649201393, 0.00921324547380209, 0.006142163649201393, 0.006142163649201393, 0.00921324547380209, 0.006142163649201393, 0.006142163649201393, 0.05953165888786316, 0.009166640229523182, 0.006111094728112221, 0.006111094728112221, 0.009166642092168331, 0.006111094728112221, 0.009166642092168331, 0.006111094728112221, 0.05929553974419832, 0.006089231930673122, 0.009133851155638695, 0.006089234724640846, 0.006089234724640846, 0.00913385208696127, 0.006089234724640846, 0.006089234724640846, 0.00913385208696127, 0.05922239180654287, 0.006100676953792572, 0.006100678816437721, 0.009151018224656582, 0.006100678816437721, 0.009151018224656582, 0.006100678816437721, 0.006100678816437721, 0.06231660395860672, 0.003048504702746868, 0.009145517833530903, 0.006097013130784035, 0.006097013130784035, 0.009145519696176052, 0.006097013130784035, 0.006097013130784035, 0.009145519696176052, 0.059189897030591965, 0.006081677041947842, 0.006081678904592991, 0.0060816798359155655, 0.009122519753873348, 0.0060816798359155655, 0.0060816798359155655, 0.009122519753873348, 0.0060816798359155655, 0.05926412995904684, 0.006124905310571194, 0.009187361225485802, 0.0061249081045389175, 0.0061249081045389175, 0.009187362156808376, 0.0061249081045389175, 0.0061249081045389175, 0.0061249081045389175, 0.05952115263789892, 0.009195673279464245, 0.006130451336503029, 0.006130451336503029, 0.009195677004754543, 0.006130451336503029, 0.006130451336503029, 0.006130451336503029, 0.009195677004754543, 0.05963817331939936, 0.006150834262371063, 0.0061508361250162125, 0.0061508361250162125, 0.009226254187524319, 0.0061508361250162125, 0.0061508361250162125, 0.009226254187524319, 0.0061508361250162125, 0.059381863102316856, 0.006065405905246735, 0.006065407767891884, 0.009098111651837826, 0.006065407767891884, 0.006065407767891884, 0.009098111651837826, 0.006065407767891884, 0.006065407767891884, 0.1376809412613511, 0.006128794513642788, 0.009193195030093193, 0.006128797307610512, 0.006128797307610512, 0.006128797307610512, 0.009193195961415768, 0.006128797307610512, 0.006128797307610512, 0.11863809544593096, 0.1904139742255211, 0.16351470351219177]\n"
     ]
    },
    {
     "data": {
      "image/png": "[encoded data removed]",
      "text/plain": [
       "<Figure size 1152x288 with 1 Axes>"
      ]
     },
     "metadata": {
      "needs_background": "light"
     },
     "output_type": "display_data"
    }
   ],
   "source": [
    "import math\n",
    "values = np.arange(0, math.ceil(job_time), time_step)\n",
    "values_int = range(len(values))\n",
    "values_str = []\n",
    "timeline_ts = [0]*len(values_int)\n",
    "prev = 0\n",
    "for i in values_int:\n",
    "    values_str.append(str(i))\n",
    "    contains = (io_ddf_read_write['tstart'] >=prev) & (io_ddf_read_write['tend'] <values[i])\n",
    "    timeline_ts[i] = io_ddf_read_write[contains]['size'].sum()/1024.0/1024.0/1024.0\n",
    "    prev = values[i]\n",
    "plt.figure(figsize=(16,4))\n",
    "print(timeline_ts)\n",
    "plt.bar(values_str, timeline_ts)\n",
    "plt.show()"
   ]
  },
  {
   "cell_type": "code",
   "execution_count": 82,
   "metadata": {},
   "outputs": [
    {
     "name": "stdout",
     "output_type": "stream",
     "text": [
      "[0.0, 0.0, 0.0, 0.0, 0.022264008410274982, 0.0, 0.0, 0.0, 0.0, 0.0, 0.0, 0.0, 0.022251645103096962, 0.0, 0.0, 0.0, 0.0, 0.0, 0.0, 0.0, 0.0, 0.022326978854835033, 0.0, 0.0, 0.0, 0.0, 0.0, 0.0, 0.0, 0.0, 0.022251645103096962, 0.0, 0.0, 0.0, 0.0, 0.0, 0.0, 0.0, 0.0, 0.022214720025658607, 0.0, 0.0, 0.0, 0.0, 0.0, 0.0, 0.0, 0.022412038408219814, 0.0, 0.0, 0.0, 0.0, 0.0, 0.0, 0.0, 0.0, 0.022343463264405727, 0.0, 0.0, 0.0, 0.0, 0.0, 0.0, 0.0, 0.0, 0.022369014099240303, 0.0, 0.0, 0.0, 0.0, 0.0, 0.0, 0.0, 0.0, 0.022243402898311615, 0.0, 0.0, 0.0, 0.0, 0.0, 0.0, 0.0, 0.02234115544706583, 0.0, 0.0, 0.0, 0.0, 0.0, 0.0, 0.0, 0.0, 0.022355991415679455, 0.0, 0.0, 0.0, 0.0, 0.0, 0.0, 0.0, 0.0, 0.022328132763504982, 0.0, 0.0, 0.0, 0.0, 0.0, 0.0, 0.0, 0.0, 0.022392751649022102, 0.0, 0.0, 0.0, 0.0, 0.0, 0.0, 0.0, 0.0, 0.022347419522702694, 0.0, 0.0, 0.0, 0.0, 0.0, 0.0, 0.0, 0.02245704084634781, 0.0, 0.0, 0.0, 0.0, 0.0, 0.0, 0.0, 0.0, 0.02221521455794573, 0.0, 0.0, 0.0, 0.0, 0.0, 0.0, 0.0, 0.0, 0.022292361594736576, 0.0, 0.0, 0.0, 0.0, 0.0, 0.0, 0.0, 0.022257414646446705, 0.0, 0.0, 0.0, 0.0, 0.0, 0.0, 0.0, 0.0, 0.02220928017050028, 0.0, 0.0, 0.0, 0.0, 0.0, 0.0, 0.0, 0.0, 0.02231478039175272, 0.0, 0.0, 0.0, 0.0, 0.0, 0.0, 0.0, 0.0, 0.02231313195079565, 0.0, 0.0, 0.0, 0.0, 0.0, 0.0, 0.0, 0.0, 0.022449128329753876, 0.0, 0.0, 0.0, 0.0, 0.0, 0.0, 0.0, 0.022400169633328915, 0.0, 0.0, 0.0, 0.0, 0.0, 0.0, 0.0, 0.0, 0.022198070771992207, 0.0, 0.0, 0.0, 0.0, 0.0, 0.0, 0.0, 0.0, 0.022232193499803543, 0.0, 0.0, 0.0, 0.0, 0.0, 0.0, 0.0, 0.0, 0.02221999503672123, 0.0, 0.0, 0.0, 0.0, 0.0, 0.0, 0.0, 0.0, 0.02232763823121786, 0.0, 0.0, 0.0, 0.0, 0.0, 0.0, 0.0, 0.0, 0.022234171628952026, 0.0, 0.0, 0.0, 0.0, 0.0, 0.0, 0.0, 0.022343133576214314, 0.0, 0.0, 0.0, 0.0, 0.0, 0.0, 0.0, 0.0, 0.02226961310952902, 0.0, 0.0, 0.0, 0.0, 0.0, 0.0, 0.0, 0.0, 0.08147873729467392, 0.16331273317337036, 0.16311398148536682, 0.19068655371665955, 0.1039707949385047, 0.0, 0.0, 0.0, 0.0, 0.0, 0.0, 0.0, 0.0, 0.022168563678860664, 0.0, 0.0, 0.0, 0.0, 0.0, 0.0, 0.0, 0.0, 0.02224257867783308, 0.0, 0.0, 0.0, 0.0, 0.0, 0.0, 0.0, 0.0, 0.02225180994719267, 0.0, 0.0, 0.0, 0.0, 0.0, 0.0, 0.0, 0.022249172441661358, 0.0, 0.0, 0.0, 0.0, 0.0, 0.0, 0.0, 0.0, 0.022161969915032387, 0.0, 0.0, 0.0, 0.0, 0.0, 0.0, 0.0, 0.0, 0.022285273298621178, 0.0, 0.0, 0.0, 0.0, 0.0, 0.0, 0.0, 0.0, 0.02232450619339943, 0.0, 0.0, 0.0, 0.0, 0.0, 0.0, 0.0, 0.0, 0.02227604202926159, 0.0, 0.0, 0.0, 0.0, 0.0, 0.0, 0.0, 0.02235252968966961, 0.0, 0.0, 0.0, 0.0, 0.0, 0.0, 0.0, 0.0, 0.022251315414905548, 0.0, 0.0, 0.0, 0.0, 0.0, 0.0, 0.0, 0.0, 0.022246699780225754, 0.0, 0.0, 0.0, 0.0, 0.0, 0.0, 0.0, 0.0, 0.02242407202720642, 0.0, 0.0, 0.0, 0.0, 0.0, 0.0, 0.0, 0.0, 0.022369343787431717, 0.0, 0.0, 0.0, 0.0, 0.0, 0.0, 0.0, 0.0, 0.022439897060394287, 0.0, 0.0, 0.0, 0.0, 0.0, 0.0, 0.0, 0.0, 0.022290218621492386, 0.0, 0.0, 0.0, 0.0, 0.0, 0.0, 0.0, 0.02224752400070429, 0.0, 0.0, 0.0, 0.0, 0.0, 0.0, 0.0, 0.0, 0.022335385903716087, 0.0, 0.0, 0.0, 0.0, 0.0, 0.0, 0.0, 0.0, 0.022515395656228065, 0.0, 0.0, 0.0, 0.0, 0.0, 0.0, 0.0, 0.0, 0.022432643920183182, 0.0, 0.0, 0.0, 0.0, 0.0, 0.0, 0.0, 0.0, 0.02231807727366686, 0.0, 0.0, 0.0, 0.0, 0.0, 0.0, 0.0, 0.022237468510866165, 0.0, 0.0, 0.0, 0.0, 0.0, 0.0, 0.0, 0.0, 0.02227966859936714, 0.0, 0.0, 0.0, 0.0, 0.0, 0.0, 0.0, 0.022266151383519173, 0.0, 0.0, 0.0, 0.0, 0.0, 0.0, 0.0, 0.0, 0.022209609858691692, 0.0, 0.0, 0.0, 0.0, 0.0, 0.0, 0.0, 0.0, 0.022369014099240303, 0.0, 0.0, 0.0, 0.0, 0.0, 0.0, 0.0, 0.0, 0.022389454767107964, 0.0, 0.0, 0.0, 0.0, 0.0, 0.0, 0.0, 0.0, 0.022464623674750328, 0.0, 0.0, 0.0, 0.0, 0.0, 0.0, 0.0, 0.0, 0.022149606607854366, 0.0, 0.0, 0.0, 0.0, 0.0, 0.0, 0.0, 0.0, 0.10390936676412821, 0.0, 0.0, 0.0, 0.0, 0.0, 0.0, 0.0, 0.0, 0.08148416876792908, 0.1904139742255211, 0.16351470351219177]\n"
     ]
    },
    {
     "data": {
      "image/png": "[encoded data removed]",
      "text/plain": [
       "<Figure size 1152x288 with 1 Axes>"
      ]
     },
     "metadata": {
      "needs_background": "light"
     },
     "output_type": "display_data"
    }
   ],
   "source": [
    "import math\n",
    "values = np.arange(0, math.ceil(job_time), time_step)\n",
    "values_int = range(len(values))\n",
    "values_str = []\n",
    "timeline_ts = [0]*len(values_int)\n",
    "prev = 0\n",
    "for i in values_int:\n",
    "    values_str.append(str(i))\n",
    "    contains = (io_ddf_read_write['tstart'] >=prev) & (io_ddf_read_write['tend'] <values[i]) & fread_condition\n",
    "    timeline_ts[i] = io_ddf_read_write[contains]['size'].sum()/1024.0/1024.0/1024.0\n",
    "    prev = values[i]\n",
    "plt.figure(figsize=(16,4))\n",
    "print(timeline_ts)\n",
    "plt.bar(values_str, timeline_ts)\n",
    "plt.show()"
   ]
  },
  {
   "cell_type": "code",
   "execution_count": 83,
   "metadata": {},
   "outputs": [
    {
     "name": "stdout",
     "output_type": "stream",
     "text": [
      "[0.0, 0.0, 0.0, 0.0, 0.003048214130103588, 0.009144646115601063, 0.006096431985497475, 0.006096431985497475, 0.009144647978246212, 0.006096431985497475, 0.006096431985497475, 0.009144647978246212, 0.036973738111555576, 0.006093076430261135, 0.006093078292906284, 0.006093079224228859, 0.009139618836343288, 0.006093079224228859, 0.006093079224228859, 0.009139618836343288, 0.006093079224228859, 0.036956639029085636, 0.0061135059222579, 0.009170262143015862, 0.006113508716225624, 0.006113508716225624, 0.009170263074338436, 0.006113508716225624, 0.006113508716225624, 0.006113508716225624, 0.037068833597004414, 0.00913961511105299, 0.006093079224228859, 0.006093079224228859, 0.009139618836343288, 0.006093079224228859, 0.009139618836343288, 0.006093079224228859, 0.006093079224228859, 0.03695400711148977, 0.00912459660321474, 0.006083065643906593, 0.006083065643906593, 0.00912459846585989, 0.006083065643906593, 0.006083065643906593, 0.00912459846585989, 0.03690307307988405, 0.006136572919785976, 0.009204862639307976, 0.0061365757137537, 0.0061365757137537, 0.00920486357063055, 0.0061365757137537, 0.0061365757137537, 0.00920486357063055, 0.03718807827681303, 0.006117977201938629, 0.006117979064583778, 0.006117979064583778, 0.009176968596875668, 0.006117979064583778, 0.006117979064583778, 0.009176968596875668, 0.006117979064583778, 0.03709942754358053, 0.006124906241893768, 0.009187362156808376, 0.0061249081045389175, 0.0061249081045389175, 0.0061249081045389175, 0.009187362156808376, 0.0061249081045389175, 0.0061249081045389175, 0.0371171785518527, 0.009136264212429523, 0.006090844050049782, 0.006090844050049782, 0.009136266075074673, 0.006090844050049782, 0.006090844050049782, 0.006090844050049782, 0.03998943231999874, 0.006117350421845913, 0.006117352284491062, 0.006117353215813637, 0.009176029823720455, 0.006117353215813637, 0.006117353215813637, 0.006117353215813637, 0.009176029823720455, 0.037090145982801914, 0.006121373735368252, 0.006121375598013401, 0.009182064794003963, 0.006121376529335976, 0.006121376529335976, 0.006121376529335976, 0.009182064794003963, 0.006121376529335976, 0.03711277712136507, 0.006113818846642971, 0.009170731529593468, 0.006113821640610695, 0.009170732460916042, 0.006113821640610695, 0.006113821640610695, 0.009170732460916042, 0.006113821640610695, 0.03708216454833746, 0.0061313435435295105, 0.00919701810926199, 0.00613134540617466, 0.00613134540617466, 0.00613134540617466, 0.00919701810926199, 0.00613134540617466, 0.00613134540617466, 0.03716112207621336, 0.009178576059639454, 0.006119051948189735, 0.006119051948189735, 0.009178577922284603, 0.006119051948189735, 0.006119051948189735, 0.006119051948189735, 0.040159014984965324, 0.006148776970803738, 0.006148778833448887, 0.0061487797647714615, 0.009223169647157192, 0.0061487797647714615, 0.009223169647157192, 0.0061487797647714615, 0.0061487797647714615, 0.037266344763338566, 0.006083196960389614, 0.009124798700213432, 0.006083199754357338, 0.006083199754357338, 0.009124799631536007, 0.006083199754357338, 0.006083199754357338, 0.009124799631536007, 0.036913263611495495, 0.006104119122028351, 0.0061041209846735, 0.00915618147701025, 0.0061041209846735, 0.0061041209846735, 0.00915618147701025, 0.0061041209846735, 0.04007345251739025, 0.006094641052186489, 0.006094642914831638, 0.006094643846154213, 0.006094643846154213, 0.00914196576923132, 0.006094643846154213, 0.006094643846154213, 0.00914196576923132, 0.03696658555418253, 0.0060815876349806786, 0.006081589497625828, 0.009122385643422604, 0.006081590428948402, 0.006081590428948402, 0.009122385643422604, 0.006081590428948402, 0.006081590428948402, 0.03689482156187296, 0.009165297262370586, 0.00611020065844059, 0.00611020065844059, 0.009165300987660885, 0.00611020065844059, 0.00611020065844059, 0.009165300987660885, 0.00611020065844059, 0.037055778317153454, 0.006109751760959625, 0.009164630435407162, 0.0061097536236047745, 0.0061097536236047745, 0.009164630435407162, 0.0061097536236047745, 0.0061097536236047745, 0.0061097536236047745, 0.037065780721604824, 0.009219949133694172, 0.006146633997559547, 0.006146633997559547, 0.009219950996339321, 0.006146633997559547, 0.006146633997559547, 0.006146633997559547, 0.040324507281184196, 0.006133354268968105, 0.0061333561316132545, 0.006133357062935829, 0.009200035594403744, 0.006133357062935829, 0.006133357062935829, 0.006133357062935829, 0.009200035594403744, 0.037178670056164265, 0.006078547798097134, 0.006078549660742283, 0.009117825888097286, 0.0060785505920648575, 0.0060785505920648575, 0.009117825888097286, 0.0060785505920648575, 0.0060785505920648575, 0.03687740210443735, 0.009131702594459057, 0.006087804213166237, 0.006087804213166237, 0.006087804213166237, 0.009131706319749355, 0.006087804213166237, 0.006087804213166237, 0.009131706319749355, 0.03692479711025953, 0.0060844942927360535, 0.006084496155381203, 0.009126744233071804, 0.006084496155381203, 0.006084496155381203, 0.006084496155381203, 0.009126744233071804, 0.006084496155381203, 0.03692419361323118, 0.006113685667514801, 0.009170531295239925, 0.00611368753015995, 0.00611368753015995, 0.00611368753015995, 0.009170531295239925, 0.00611368753015995, 0.00611368753015995, 0.037058818154037, 0.009132509119808674, 0.006088340654969215, 0.006088340654969215, 0.009132510982453823, 0.006088340654969215, 0.006088340654969215, 0.009132510982453823, 0.036932420916855335, 0.0061178868636488914, 0.006117888726294041, 0.006117889657616615, 0.009176834486424923, 0.006117889657616615, 0.006117889657616615, 0.009176834486424923, 0.006117889657616615, 0.037093096412718296, 0.006097949109971523, 0.0060979509726166725, 0.00914692785590887, 0.006097951903939247, 0.006097951903939247, 0.00914692785590887, 0.006097951903939247, 0.006097951903939247, 0.03698343876749277, 0.0, 0.0, 0.0, 0.0, 0.006131923757493496, 0.009197888895869255, 0.00613192655146122, 0.00613192655146122, 0.00613192655146122, 0.00919788982719183, 0.00613192655146122, 0.00613192655146122, 0.037171837873756886, 0.0060705458745360374, 0.009105822071433067, 0.006070548668503761, 0.006070548668503761, 0.009105823002755642, 0.006070548668503761, 0.006070548668503761, 0.009105823002755642, 0.036842252127826214, 0.006090618669986725, 0.006090620532631874, 0.009135930798947811, 0.006090620532631874, 0.006090620532631874, 0.009135930798947811, 0.006090620532631874, 0.006090620532631874, 0.03694640751928091, 0.006093122065067291, 0.00913968589156866, 0.0060931239277124405, 0.0060931239277124405, 0.00913968589156866, 0.0060931239277124405, 0.0060931239277124405, 0.04000277630984783, 0.006092405878007412, 0.006092407740652561, 0.006092408671975136, 0.009138613007962704, 0.006092408671975136, 0.006092408671975136, 0.009138613007962704, 0.006092408671975136, 0.03695496264845133, 0.006068757735192776, 0.009103139862418175, 0.0060687605291605, 0.0060687605291605, 0.00910314079374075, 0.0060687605291605, 0.0060687605291605, 0.00910314079374075, 0.03683859761804342, 0.0061021968722343445, 0.006102198734879494, 0.006102198734879494, 0.00915329810231924, 0.006102198734879494, 0.006102198734879494, 0.00915329810231924, 0.006102198734879494, 0.037013120017945766, 0.006112836301326752, 0.009169257245957851, 0.006112838163971901, 0.006112838163971901, 0.006112838163971901, 0.009169257245957851, 0.006112838163971901, 0.006112838163971901, 0.03705944027751684, 0.009149541147053242, 0.006099695339798927, 0.006099695339798927, 0.006099695339798927, 0.009149543009698391, 0.006099695339798927, 0.006099695339798927, 0.04004371352493763, 0.0030602170154452324, 0.009180654771625996, 0.006120437756180763, 0.006120437756180763, 0.009180656634271145, 0.006120437756180763, 0.006120437756180763, 0.009180656634271145, 0.037107949145138264, 0.006092987023293972, 0.006092988885939121, 0.006092989817261696, 0.009139484725892544, 0.006092989817261696, 0.006092989817261696, 0.009139484725892544, 0.006092989817261696, 0.03695631492882967, 0.006091735325753689, 0.009137606248259544, 0.006091738119721413, 0.006091738119721413, 0.009137607179582119, 0.006091738119721413, 0.006091738119721413, 0.006091738119721413, 0.03695127461105585, 0.009209754876792431, 0.006139839068055153, 0.006139839068055153, 0.00920975860208273, 0.006139839068055153, 0.006139839068055153, 0.006139839068055153, 0.00920975860208273, 0.03720706608146429, 0.006124995648860931, 0.006124997511506081, 0.009187496267259121, 0.006124997511506081, 0.006124997511506081, 0.006124997511506081, 0.009187496267259121, 0.006124997511506081, 0.03714192193001509, 0.006144128739833832, 0.009216195903718472, 0.006144130602478981, 0.006144130602478981, 0.006144130602478981, 0.009216195903718472, 0.006144130602478981, 0.006144130602478981, 0.03721796255558729, 0.00915530789643526, 0.00610353983938694, 0.00610353983938694, 0.00610353983938694, 0.00915530975908041, 0.00610353983938694, 0.00610353983938694, 0.04006560705602169, 0.0060919588431715965, 0.006091960705816746, 0.00609196163713932, 0.00913794245570898, 0.00609196163713932, 0.00609196163713932, 0.00913794245570898, 0.00609196163713932, 0.036953539587557316, 0.006115785799920559, 0.006115787662565708, 0.009173682890832424, 0.006115788593888283, 0.006115788593888283, 0.009173682890832424, 0.006115788593888283, 0.006115788593888283, 0.037083384580910206, 0.009246903471648693, 0.006164604797959328, 0.006164604797959328, 0.009246907196938992, 0.006164604797959328, 0.006164604797959328, 0.009246907196938992, 0.006164604797959328, 0.03733897488564253, 0.006142161786556244, 0.006142163649201393, 0.00921324547380209, 0.006142163649201393, 0.006142163649201393, 0.00921324547380209, 0.006142163649201393, 0.006142163649201393, 0.0372135816141963, 0.009166640229523182, 0.006111094728112221, 0.006111094728112221, 0.009166642092168331, 0.006111094728112221, 0.009166642092168331, 0.006111094728112221, 0.03705807123333216, 0.006089231930673122, 0.009133851155638695, 0.006089234724640846, 0.006089234724640846, 0.00913385208696127, 0.006089234724640846, 0.006089234724640846, 0.00913385208696127, 0.03694272320717573, 0.006100676953792572, 0.006100678816437721, 0.009151018224656582, 0.006100678816437721, 0.009151018224656582, 0.006100678816437721, 0.006100678816437721, 0.04005045257508755, 0.003048504702746868, 0.009145517833530903, 0.006097013130784035, 0.006097013130784035, 0.009145519696176052, 0.006097013130784035, 0.006097013130784035, 0.009145519696176052, 0.03698028717190027, 0.006081677041947842, 0.006081678904592991, 0.0060816798359155655, 0.009122519753873348, 0.0060816798359155655, 0.0060816798359155655, 0.009122519753873348, 0.0060816798359155655, 0.03689511585980654, 0.006124905310571194, 0.009187361225485802, 0.0061249081045389175, 0.0061249081045389175, 0.009187362156808376, 0.0061249081045389175, 0.0061249081045389175, 0.0061249081045389175, 0.03713169787079096, 0.009195673279464245, 0.006130451336503029, 0.006130451336503029, 0.009195677004754543, 0.006130451336503029, 0.006130451336503029, 0.006130451336503029, 0.009195677004754543, 0.03717354964464903, 0.006150834262371063, 0.0061508361250162125, 0.0061508361250162125, 0.009226254187524319, 0.0061508361250162125, 0.0061508361250162125, 0.009226254187524319, 0.0061508361250162125, 0.03723225649446249, 0.006065405905246735, 0.006065407767891884, 0.009098111651837826, 0.006065407767891884, 0.006065407767891884, 0.009098111651837826, 0.006065407767891884, 0.006065407767891884, 0.0337715744972229, 0.006128794513642788, 0.009193195030093193, 0.006128797307610512, 0.006128797307610512, 0.006128797307610512, 0.009193195961415768, 0.006128797307610512, 0.006128797307610512, 0.03715392667800188, 0.0, 0.0]\n"
     ]
    },
    {
     "data": {
      "image/png": "[encoded data removed]",
      "text/plain": [
       "<Figure size 1152x288 with 1 Axes>"
      ]
     },
     "metadata": {
      "needs_background": "light"
     },
     "output_type": "display_data"
    }
   ],
   "source": [
    "import math\n",
    "values = np.arange(0, math.ceil(job_time), time_step)\n",
    "values_int = range(len(values))\n",
    "values_str = []\n",
    "timeline_ts = [0]*len(values_int)\n",
    "prev = 0\n",
    "for i in values_int:\n",
    "    values_str.append(str(i))\n",
    "    contains = (io_ddf_read_write['tstart'] >=prev) & (io_ddf_read_write['tend'] <values[i]) & fwrite_condition\n",
    "    timeline_ts[i] = io_ddf_read_write[contains]['size'].sum()/1024.0/1024.0/1024.0\n",
    "    prev = values[i]\n",
    "plt.figure(figsize=(16,4))\n",
    "print(timeline_ts)\n",
    "plt.bar(values_str, timeline_ts)\n",
    "plt.show()"
   ]
  },
  {
   "cell_type": "markdown",
   "metadata": {
    "tags": [
     "Finding"
    ]
   },
   "source": [
    "**Most of the I/O (20GB) is performed in first 40 seconds and rest 1GB happens in the rest of the time**"
   ]
  },
  {
   "cell_type": "markdown",
   "metadata": {},
   "source": [
    "### Time Timeline"
   ]
  },
  {
   "cell_type": "code",
   "execution_count": 84,
   "metadata": {},
   "outputs": [
    {
     "name": "stdout",
     "output_type": "stream",
     "text": [
      "[0.0, 0.0, 0.0, 0.0, 0.0050354004, 0.00289917, 0.001953125, 0.001953125, 0.0028686523, 0.001953125, 0.001953125, 0.0029907227, 0.015014648, 0.001953125, 0.001953125, 0.001953125, 0.0028076172, 0.0017089844, 0.0017089844, 0.0028076172, 0.0017089844, 0.014892578, 0.001953125, 0.0029296875, 0.001953125, 0.001953125, 0.0029296875, 0.001953125, 0.001953125, 0.001953125, 0.014892578, 0.0029296875, 0.001953125, 0.001953125, 0.0026855469, 0.0017089844, 0.0026855469, 0.001953125, 0.0017089844, 0.015136719, 0.0029296875, 0.001953125, 0.001953125, 0.0029296875, 0.001953125, 0.001953125, 0.0029296875, 0.015625, 0.001953125, 0.0029296875, 0.001953125, 0.001953125, 0.0029296875, 0.001953125, 0.001953125, 0.0029296875, 0.0146484375, 0.001953125, 0.001953125, 0.001953125, 0.0029296875, 0.001953125, 0.001953125, 0.0029296875, 0.001953125, 0.015625, 0.001953125, 0.0024414062, 0.001953125, 0.001953125, 0.0014648438, 0.0024414062, 0.001953125, 0.001953125, 0.015625, 0.0029296875, 0.001953125, 0.001953125, 0.0029296875, 0.001953125, 0.0014648438, 0.001953125, 0.016601562, 0.001953125, 0.001953125, 0.001953125, 0.0029296875, 0.001953125, 0.001953125, 0.001953125, 0.0029296875, 0.015625, 0.001953125, 0.001953125, 0.0029296875, 0.001953125, 0.001953125, 0.001953125, 0.0029296875, 0.001953125, 0.015625, 0.001953125, 0.0029296875, 0.001953125, 0.0029296875, 0.001953125, 0.001953125, 0.0029296875, 0.001953125, 0.015625, 0.001953125, 0.0029296875, 0.001953125, 0.001953125, 0.001953125, 0.0029296875, 0.001953125, 0.001953125, 0.0146484375, 0.0029296875, 0.001953125, 0.001953125, 0.0029296875, 0.001953125, 0.001953125, 0.001953125, 0.016601562, 0.001953125, 0.001953125, 0.001953125, 0.0029296875, 0.001953125, 0.0029296875, 0.001953125, 0.001953125, 0.015625, 0.001953125, 0.0029296875, 0.001953125, 0.0009765625, 0.0029296875, 0.001953125, 0.001953125, 0.0029296875, 0.0146484375, 0.0029296875, 0.001953125, 0.0029296875, 0.001953125, 0.0029296875, 0.0029296875, 0.001953125, 0.017578125, 0.001953125, 0.001953125, 0.001953125, 0.001953125, 0.0029296875, 0.001953125, 0.001953125, 0.0029296875, 0.0146484375, 0.001953125, 0.001953125, 0.001953125, 0.001953125, 0.001953125, 0.001953125, 0.001953125, 0.001953125, 0.013671875, 0.001953125, 0.001953125, 0.00390625, 0.001953125, 0.001953125, 0.001953125, 0.001953125, 0.001953125, 0.013671875, 0.0, 0.001953125, 0.00390625, 0.00390625, 0.0, 0.001953125, 0.0, 0.001953125, 0.015625, 0.001953125, 0.0, 0.00390625, 0.00390625, 0.0, 0.00390625, 0.0, 0.017578125, 0.0, 0.0, 0.00390625, 0.001953125, 0.001953125, 0.001953125, 0.001953125, 0.001953125, 0.013671875, 0.00390625, 0.001953125, 0.001953125, 0.001953125, 0.001953125, 0.005859375, 0.0, 0.001953125, 0.017578125, 0.00390625, 0.001953125, 0.0, 0.00390625, 0.001953125, 0.001953125, 0.00390625, 0.001953125, 0.015625, 0.00390625, 0.001953125, 0.005859375, 0.001953125, 0.001953125, 0.00390625, 0.0, 0.00390625, 0.01171875, 0.00390625, 0.00390625, 0.001953125, 0.001953125, 0.0, 0.00390625, 0.0, 0.001953125, 0.015625, 0.001953125, 0.00390625, 0.001953125, 0.001953125, 0.001953125, 0.001953125, 0.00390625, 0.013671875, 0.0, 0.0, 0.0, 0.005859375, 0.001953125, 0.00390625, 0.005859375, 0.00390625, 0.017578125, 0.0, 0.001953125, 0.001953125, 0.00390625, 0.0, 0.00390625, 0.00390625, 0.001953125, 0.029296875, 0.033203125, 0.03515625, 0.0390625, 0.01953125, 0.001953125, 0.001953125, 0.001953125, 0.0, 0.0, 0.005859375, 0.0, 0.00390625, 0.01171875, 0.00390625, 0.001953125, 0.001953125, 0.001953125, 0.00390625, 0.00390625, 0.001953125, 0.001953125, 0.013671875, 0.001953125, 0.001953125, 0.00390625, 0.00390625, 0.0, 0.00390625, 0.0, 0.00390625, 0.017578125, 0.001953125, 0.00390625, 0.00390625, 0.0, 0.001953125, 0.00390625, 0.001953125, 0.021484375, 0.0, 0.00390625, 0.0, 0.001953125, 0.001953125, 0.001953125, 0.001953125, 0.001953125, 0.013671875, 0.0, 0.001953125, 0.00390625, 0.0, 0.005859375, 0.001953125, 0.0, 0.00390625, 0.013671875, 0.001953125, 0.0, 0.0, 0.0, 0.0, 0.00390625, 0.0, 0.0, 0.01171875, 0.0, 0.0078125, 0.00390625, 0.00390625, 0.0, 0.0078125, 0.0, 0.0, 0.015625, 0.00390625, 0.00390625, 0.0, 0.0, 0.0, 0.0, 0.0, 0.01953125, 0.0, 0.00390625, 0.0, 0.0, 0.00390625, 0.00390625, 0.0, 0.00390625, 0.01171875, 0.0, 0.00390625, 0.0, 0.0, 0.0, 0.00390625, 0.0, 0.00390625, 0.015625, 0.0078125, 0.00390625, 0.0078125, 0.00390625, 0.00390625, 0.00390625, 0.0, 0.0, 0.01953125, 0.0, 0.0, 0.0, 0.0, 0.0, 0.0, 0.00390625, 0.0, 0.01171875, 0.0078125, 0.00390625, 0.0, 0.00390625, 0.0, 0.0, 0.00390625, 0.0, 0.01953125, 0.00390625, 0.0, 0.00390625, 0.00390625, 0.0, 0.0, 0.00390625, 0.0, 0.01171875, 0.0078125, 0.0, 0.00390625, 0.0, 0.0, 0.00390625, 0.00390625, 0.015625, 0.0, 0.00390625, 0.0, 0.0078125, 0.00390625, 0.0, 0.0, 0.0, 0.015625, 0.0, 0.00390625, 0.00390625, 0.0, 0.00390625, 0.0078125, 0.00390625, 0.00390625, 0.01171875, 0.0, 0.0, 0.00390625, 0.0, 0.0, 0.0, 0.0, 0.0, 0.015625, 0.0078125, 0.0, 0.00390625, 0.0, 0.00390625, 0.0, 0.00390625, 0.00390625, 0.01171875, 0.0078125, 0.0, 0.0, 0.0, 0.0, 0.0, 0.00390625, 0.01171875, 0.00390625, 0.0, 0.0, 0.00390625, 0.0, 0.0, 0.0, 0.00390625, 0.01953125, 0.0, 0.0, 0.00390625, 0.0, 0.0, 0.0, 0.0, 0.01171875, 0.0, 0.00390625, 0.0, 0.0, 0.00390625, 0.0, 0.0078125, 0.0, 0.015625, 0.0, 0.0, 0.0, 0.01171875, 0.00390625, 0.00390625, 0.00390625, 0.0, 0.01171875, 0.0, 0.00390625, 0.0, 0.00390625, 0.00390625, 0.0, 0.00390625, 0.00390625, 0.01953125, 0.0, 0.0078125, 0.00390625, 0.0, 0.0, 0.0, 0.00390625, 0.0, 0.01171875, 0.00390625, 0.00390625, 0.0, 0.00390625, 0.0, 0.0, 0.00390625, 0.00390625, 0.01171875, 0.00390625, 0.00390625, 0.00390625, 0.0, 0.0, 0.0078125, 0.0, 0.0, 0.02734375, 0.00390625, 0.00390625, 0.0, 0.00390625, 0.0, 0.00390625, 0.0, 0.00390625, 0.03125, 0.046875, 0.04296875]\n"
     ]
    },
    {
     "data": {
      "image/png": "[encoded data removed]",
      "text/plain": [
       "<Figure size 1152x288 with 1 Axes>"
      ]
     },
     "metadata": {
      "needs_background": "light"
     },
     "output_type": "display_data"
    }
   ],
   "source": [
    "import math\n",
    "values = np.arange(0, math.ceil(job_time), time_step)\n",
    "values_int = range(len(values))\n",
    "timeline_ts = [0]*len(values_int)\n",
    "prev = 0\n",
    "values_str = []\n",
    "for i in values_int:\n",
    "    values_str.append(str(i))\n",
    "    contains = (io_ddf_read_write['tstart'] >=prev) & (io_ddf_read_write['tend'] <values[i])\n",
    "    timeline_ts[i] = io_ddf_read_write[contains]['duration'].sum()\n",
    "    prev = values[i]\n",
    "plt.figure(figsize=(16,4))\n",
    "print(timeline_ts)\n",
    "plt.bar(values_str, timeline_ts)\n",
    "plt.show()"
   ]
  },
  {
   "cell_type": "markdown",
   "metadata": {},
   "source": [
    "#### Bandwidth Timeline"
   ]
  },
  {
   "cell_type": "code",
   "execution_count": 85,
   "metadata": {},
   "outputs": [
    {
     "name": "stdout",
     "output_type": "stream",
     "text": [
      "[nan, nan, nan, nan, 4.276827841094046, 3.1549356829735538, 3.121373176574707, 3.121373176574707, 3.1907370249430342, 3.121373176574707, 3.121373176574707, 3.060169780955595, 3.7484652834745193, 3.119655132293701, 3.1196560859680176, 3.119656562805176, 3.26821163722447, 3.565321786063058, 3.565321786063058, 3.26821163722447, 3.565321786063058, 3.772427731869268, 3.130115032196045, 3.1301161448160806, 3.1301164627075195, 3.1301164627075195, 3.1301164627075195, 3.1301164627075195, 3.1301164627075195, 3.1301164627075195, 3.9310558016499946, 3.1196552912394204, 3.119656562805176, 3.119656562805176, 3.466285069783529, 3.639599323272705, 3.466285069783529, 3.119656562805176, 3.639599323272705, 3.9070775804955975, 3.1145289738972983, 3.114529609680176, 3.114529609680176, 3.114529609680176, 3.114529609680176, 3.114529609680176, 3.114529609680176, 3.6896319140016645, 3.14192533493042, 3.1419264475504556, 3.1419267654418945, 3.1419267654418945, 3.1419267654418945, 3.1419267654418945, 3.1419267654418945, 3.1419267654418945, 3.8396942218144736, 3.132404327392578, 3.1324052810668945, 3.1324052810668945, 3.1324052810668945, 3.1324052810668945, 3.1324052810668945, 3.1324052810668945, 3.1324052810668945, 3.698000499625611, 3.1359519958496094, 4.181270599365234, 3.135952949523926, 3.135952949523926, 4.703929424285889, 4.181270599365234, 3.135952949523926, 3.135952949523926, 3.6915941643559074, 3.118511517842611, 3.1185121536254883, 3.1185121536254883, 3.1185121536254883, 3.1185121536254883, 4.677768230438232, 3.1185121536254883, 3.6069398821235032, 3.1320834159851074, 3.132084369659424, 3.132084846496582, 3.132084846496582, 3.132084846496582, 3.132084846496582, 3.132084846496582, 3.132084846496582, 2.829450090726217, 3.134143352508545, 3.1341443061828613, 3.1341447830200195, 3.1341447830200195, 3.1341447830200195, 3.1341447830200195, 3.1341447830200195, 3.1341447830200195, 2.829334338506063, 3.130275249481201, 3.130276362101237, 3.130276679992676, 3.130276679992676, 3.130276679992676, 3.130276679992676, 3.130276679992676, 3.130276679992676, 2.705410369237264, 3.1392478942871094, 3.139248847961426, 3.139248847961426, 3.139248847961426, 3.139248847961426, 3.139248847961426, 3.139248847961426, 3.139248847961426, 2.5176068544387817, 3.132953961690267, 3.1329545974731445, 3.1329545974731445, 3.1329545974731445, 3.1329545974731445, 3.1329545974731445, 3.1329545974731445, 2.8768761498587474, 3.1481738090515137, 3.14817476272583, 3.1481752395629883, 3.1481752395629883, 3.1481752395629883, 3.1481752395629883, 3.1481752395629883, 3.1481752395629883, 2.831774910291036, 3.1145968437194824, 3.114597956339518, 3.114598274230957, 1.5572991371154785, 3.114598274230957, 3.114598274230957, 3.114598274230957, 3.114598274230957, 2.88414998849233, 2.3439817428588867, 3.125309944152832, 3.125309944152832, 3.125309944152832, 2.343982458114624, 3.125309944152832, 3.125309944152832, 2.9670422758374895, 3.1204562187194824, 3.120457172393799, 3.120457649230957, 3.120457649230957, 3.120457649230957, 3.120457649230957, 3.120457649230957, 3.120457649230957, 2.8819435040156045, 3.1137728691101074, 3.113773822784424, 2.0758495330810547, 0.7784435749053955, 0.7784435749053955, 0.5189623832702637, 0.7784435749053955, 0.7784435749053955, 1.6879779895146687, 0.5214034716288248, 0.7821056842803955, 1.564211368560791, 0.5214037895202637, 0.7821056842803955, 0.7821056842803955, 0.5214037895202637, 0.7821056842803955, 1.794292648633321, 0.0, 0.5213656425476074, 1.5640969276428223, 1.5640969276428223, 0.0, 0.7820484638214111, 0.0, 0.7820484638214111, 1.9585686524709065, 0.5245126088460287, 0.0, 1.5735383033752441, 1.049025535583496, 0.0, 1.5735383033752441, 0.0, 1.9048455442701067, 0.0, 0.0, 1.5701394081115723, 0.5233798027038574, 0.7850697040557861, 0.7850697040557861, 0.7850697040557861, 0.5233798027038574, 1.792594313621521, 1.5561082363128662, 0.7780542373657227, 0.5187029838562012, 0.7780544757843018, 0.7780544757843018, 1.5561089515686035, 0.0, 0.7780544757843018, 2.2028356393178306, 1.038984775543213, 0.7792389392852783, 0.0, 1.5584778785705566, 0.5194926261901855, 0.7792389392852783, 1.5584778785705566, 0.5194926261901855, 1.944026788075765, 1.5576305389404297, 0.778815507888794, 1.557631015777588, 0.778815507888794, 0.778815507888794, 1.557631015777588, 0.0, 1.557631015777588, 1.531741976737976, 1.565103530883789, 1.0434026718139648, 0.7825520038604736, 0.7825520038604736, 0.0, 1.0434026718139648, 0.0, 0.7825520038604736, 2.0511762301127114, 0.5195382436116537, 1.5586152076721191, 0.7793076038360596, 0.519538402557373, 0.7793076038360596, 0.7793076038360596, 1.039076805114746, 1.689855933189392, 0.0, 0.0, 0.0, 1.5661797523498535, 0.7830898761749268, 1.5661797523498535, 1.5661797523498535, 1.5661797523498535, 1.8340467532475788, 0.0, 0.7805378437042236, 0.5203585624694824, 1.5610756874084473, 0.0, 1.0407171249389648, 1.5610756874084473, 0.7805378437042236, 2.2237337231636047, 5.032845497131348, 4.639686584472656, 4.983084542410714, 5.492687165737152, 0.7848861217498779, 0.5232575734456381, 0.7848865985870361, 0.0, 0.0, 1.5697731971740723, 0.0, 1.5697731971740723, 1.529508113861084, 1.5540597438812256, 0.5180201530456543, 0.7770302295684814, 0.7770302295684814, 1.0360403060913086, 1.554060459136963, 0.7770302295684814, 0.5180201530456543, 1.7866401274998982, 0.7795991897583008, 0.7795994281768799, 1.0394659042358398, 1.5591988563537598, 0.0, 1.0394659042358398, 0.0, 1.5591988563537598, 2.2060264348983765, 0.7799196243286133, 1.0398931503295898, 1.5598397254943848, 0.0, 0.5199465751647949, 1.5598397254943848, 0.7799198627471924, 2.014400488989694, 0.0, 1.5596563816070557, 0.0, 0.5198855400085449, 0.7798283100128174, 0.7798283100128174, 0.5198855400085449, 0.7798283100128174, 1.7853759129842122, 0.0, 0.5178674062093099, 1.553602695465088, 0.0, 1.553602695465088, 0.776801347732544, 0.0, 1.0357351303100586, 1.2114776770273845, 0.7810811996459961, 0.0, 0.0, 0.0, 0.0, 0.3905407190322876, 0.0, 0.0, 1.5333077907562256, 0.0, 0.5216288566589355, 0.39122164249420166, 0.39122164249420166, 0.0, 0.5216288566589355, 0.0, 0.0, 1.6626686255137126, 0.2602536678314209, 0.39038050174713135, 0.0, 0.0, 0.0, 0.0, 0.0, 1.4939231872558594, 0.0, 0.2611385981241862, 0.0, 0.0, 0.2611386775970459, 0.39170801639556885, 0.0, 0.2611386775970459, 1.5319359302520752, 0.0, 0.38995134830474854, 0.0, 0.0, 0.0, 0.38995134830474854, 0.0, 0.38995134830474854, 1.6590878168741863, 0.7797421216964722, 0.2599140803019206, 0.7797424793243408, 0.3898712396621704, 0.2599141597747803, 0.3898712396621704, 0.0, 0.0, 1.7964659134546916, 0.0, 0.0, 0.0, 0.0, 0.0, 0.0, 0.3929497003555298, 0.0, 1.5388343334197998, 0.7839994430541992, 0.39199984073638916, 0.0, 0.39199984073638916, 0.0, 0.0, 0.2613332271575928, 0.0, 1.7495925823847454, 0.39322423934936523, 0.0, 0.3932243585586548, 0.3932243585586548, 0.0, 0.0, 0.3932243585586548, 0.0, 1.5358703136444092, 0.5208352406819662, 0.0, 0.39062654972076416, 0.0, 0.0, 0.39062654972076416, 0.39062654972076416, 1.4231664453233992, 0.0, 0.38988542556762695, 0.0, 0.5198473930358887, 0.3898855447769165, 0.0, 0.0, 0.0, 1.6627511183420818, 0.0, 0.39141035079956055, 0.2609403133392334, 0.0, 0.3914104700088501, 0.5218806266784668, 0.3914104700088501, 0.3914104700088501, 1.5427570343017578, 0.0, 0.0, 0.394534707069397, 0.0, 0.0, 0.0, 0.0, 0.0, 1.622418761253357, 0.7861967086791992, 0.0, 0.2620656490325928, 0.0, 0.39309847354888916, 0.0, 0.39309847354888916, 0.39309847354888916, 1.5368701219558716, 0.5214800039927164, 0.0, 0.0, 0.0, 0.0, 0.0, 0.39111006259918213, 1.5304481983184814, 0.3897109031677246, 0.0, 0.0, 0.38971102237701416, 0.0, 0.0, 0.0, 0.2598073482513428, 1.7385886112848918, 0.0, 0.0, 0.2602956295013428, 0.0, 0.0, 0.0, 0.0, 1.312004634312221, 0.0, 0.26013922691345215, 0.0, 0.0, 0.26013922691345215, 0.0, 0.7804176807403564, 0.0, 1.3344751596450806, 0.0, 0.0, 0.0, 0.7784550189971924, 0.3892275094985962, 0.3892275094985962, 0.25948500633239746, 0.0, 1.5332369804382324, 0.0, 0.26132941246032715, 0.0, 0.3919941186904907, 0.26132941246032715, 0.0, 0.3919941186904907, 0.3919941186904907, 1.7474263111750286, 0.0, 0.7846977710723877, 0.39234888553619385, 0.0, 0.0, 0.0, 0.39234888553619385, 0.0, 1.5419983863830566, 0.39365339279174805, 0.3936535120010376, 0.0, 0.2624356746673584, 0.0, 0.0, 0.2624356746673584, 0.3936535120010376, 1.5305145978927612, 0.388185977935791, 0.38818609714508057, 0.2587907314300537, 0.0, 0.0, 0.5175814628601074, 0.0, 0.0, 3.3207776248455048, 0.39224278926849365, 0.26149535179138184, 0.0, 0.39224302768707275, 0.0, 0.26149535179138184, 0.0, 0.39224302768707275, 1.741258442401886, 4.475473267691476, 4.461012840270996]\n"
     ]
    },
    {
     "data": {
      "image/png": "[encoded data removed]",
      "text/plain": [
       "<Figure size 1152x288 with 1 Axes>"
      ]
     },
     "metadata": {
      "needs_background": "light"
     },
     "output_type": "display_data"
    }
   ],
   "source": [
    "import math\n",
    "values = np.arange(0, math.ceil(job_time), time_step)\n",
    "values_int = range(len(values))\n",
    "timeline_ts = [0]*len(values_int)\n",
    "prev = 0\n",
    "values_str = []\n",
    "for i in values_int:\n",
    "    values_str.append(str(i))\n",
    "    contains = (io_ddf_read_write['tstart'] >=prev) & (io_ddf_read_write['tend'] <values[i])\n",
    "    timeline_ts[i] = io_ddf_read_write[contains]['bandwidth'].mean()/1024.0\n",
    "    prev = values[i]\n",
    "plt.figure(figsize=(16,4))\n",
    "print(timeline_ts)\n",
    "plt.bar(values_str, timeline_ts)\n",
    "plt.show()"
   ]
  },
  {
   "cell_type": "code",
   "execution_count": 86,
   "metadata": {},
   "outputs": [
    {
     "name": "stdout",
     "output_type": "stream",
     "text": [
      "[nan, nan, nan, nan, 5.526871421120384, nan, nan, nan, nan, nan, nan, nan, 5.696421146392822, nan, nan, nan, nan, nan, nan, nan, nan, 5.3794885523179, nan, nan, nan, nan, nan, nan, nan, nan, 5.361337549546185, nan, nan, nan, nan, nan, nan, nan, nan, 5.352440777946921, nan, nan, nan, nan, nan, nan, nan, 5.099983851114909, nan, nan, nan, nan, nan, nan, nan, nan, 5.719926595687866, nan, nan, nan, nan, nan, nan, nan, nan, 5.090193430582683, nan, nan, nan, nan, nan, nan, nan, nan, 5.0616099039713545, nan, nan, nan, nan, nan, nan, nan, 5.083854039510091, nan, nan, nan, nan, nan, nan, nan, nan, 5.72313380241394, nan, nan, nan, nan, nan, nan, nan, nan, 5.716001987457275, nan, nan, nan, nan, nan, nan, nan, nan, 4.586035537719726, nan, nan, nan, nan, nan, nan, nan, nan, 5.72093939781189, nan, nan, nan, nan, nan, nan, nan, 5.749002456665039, nan, nan, nan, nan, nan, nan, nan, nan, 5.6870949268341064, nan, nan, nan, nan, nan, nan, nan, nan, 5.7068445682525635, nan, nan, nan, nan, nan, nan, nan, 5.6978981494903564, nan, nan, nan, nan, nan, nan, nan, nan, 5.685575723648071, nan, nan, nan, nan, nan, nan, nan, nan, 5.712583780288696, nan, nan, nan, nan, nan, nan, nan, nan, 5.7121617794036865, nan, nan, nan, nan, nan, nan, nan, nan, 5.746976852416992, nan, nan, nan, nan, nan, nan, nan, 5.734443426132202, nan, nan, nan, nan, nan, nan, nan, nan, 5.682706117630005, nan, nan, nan, nan, nan, nan, nan, nan, 5.691441535949707, nan, nan, nan, nan, nan, nan, nan, nan, 5.688318729400635, nan, nan, nan, nan, nan, nan, nan, nan, 5.7158753871917725, nan, nan, nan, nan, nan, nan, nan, nan, 5.691947937011719, nan, nan, nan, nan, nan, nan, nan, 5.719842195510864, nan, nan, nan, nan, nan, nan, nan, nan, 5.701020956039429, nan, nan, nan, nan, nan, nan, nan, nan, 4.248822212219238, 5.032845497131348, 4.639686584472656, 4.983084542410714, 5.492687165737152, nan, nan, nan, nan, nan, nan, nan, nan, 5.67515230178833, nan, nan, nan, nan, nan, nan, nan, nan, 5.6941001415252686, nan, nan, nan, nan, nan, nan, nan, nan, 5.696463346481323, nan, nan, nan, nan, nan, nan, nan, 5.695788145065308, nan, nan, nan, nan, nan, nan, nan, nan, 5.673464298248291, nan, nan, nan, nan, nan, nan, nan, nan, 3.8033533096313477, nan, nan, nan, nan, nan, nan, nan, nan, 5.715073585510254, nan, nan, nan, nan, nan, nan, nan, nan, 5.702666759490967, nan, nan, nan, nan, nan, nan, nan, 5.72224760055542, nan, nan, nan, nan, nan, nan, nan, nan, 5.69633674621582, nan, nan, nan, nan, nan, nan, nan, nan, 5.695155143737793, nan, nan, nan, nan, nan, nan, nan, nan, 5.740562438964844, nan, nan, nan, nan, nan, nan, nan, nan, 5.7265520095825195, nan, nan, nan, nan, nan, nan, nan, nan, 5.7446136474609375, nan, nan, nan, nan, nan, nan, nan, nan, 5.706295967102051, nan, nan, nan, nan, nan, nan, nan, 5.695366144180298, nan, nan, nan, nan, nan, nan, nan, nan, 5.717858791351318, nan, nan, nan, nan, nan, nan, nan, nan, 5.763941287994385, nan, nan, nan, nan, nan, nan, nan, nan, 5.7427568435668945, nan, nan, nan, nan, nan, nan, nan, nan, 5.713427782058716, nan, nan, nan, nan, nan, nan, nan, 5.692791938781738, nan, nan, nan, nan, nan, nan, nan, nan, 5.703595161437988, nan, nan, nan, nan, nan, nan, nan, 5.700134754180908, nan, nan, nan, nan, nan, nan, nan, nan, 5.685660123825073, nan, nan, nan, nan, nan, nan, nan, nan, 5.726467609405518, nan, nan, nan, nan, nan, nan, nan, nan, 5.731700420379639, nan, nan, nan, nan, nan, nan, nan, nan, 5.750943660736084, nan, nan, nan, nan, nan, nan, nan, nan, 5.670299291610718, nan, nan, nan, nan, nan, nan, nan, nan, 5.77565985918045, nan, nan, nan, nan, nan, nan, nan, nan, 3.4766578674316406, 4.475473267691476, 4.461012840270996]\n"
     ]
    },
    {
     "data": {
      "image/png": "[encoded data removed]",
      "text/plain": [
       "<Figure size 1152x288 with 1 Axes>"
      ]
     },
     "metadata": {
      "needs_background": "light"
     },
     "output_type": "display_data"
    }
   ],
   "source": [
    "import math\n",
    "values = np.arange(0, math.ceil(job_time), time_step)\n",
    "values_int = range(len(values))\n",
    "timeline_ts = [0]*len(values_int)\n",
    "prev = 0\n",
    "values_str = []\n",
    "for i in values_int:\n",
    "    values_str.append(str(i))\n",
    "    contains = (io_ddf_read_write['tstart'] >=prev) & (io_ddf_read_write['tend'] <values[i]) & fread_condition\n",
    "    timeline_ts[i] = io_ddf_read_write[contains]['bandwidth'].mean()/1024.0\n",
    "    prev = values[i]\n",
    "plt.figure(figsize=(16,4))\n",
    "print(timeline_ts)\n",
    "plt.bar(values_str, timeline_ts)\n",
    "plt.show()"
   ]
  },
  {
   "cell_type": "code",
   "execution_count": 87,
   "metadata": {},
   "outputs": [
    {
     "name": "stdout",
     "output_type": "stream",
     "text": [
      "[nan, nan, nan, nan, 3.0267842610677085, 3.1549356829735538, 3.121373176574707, 3.121373176574707, 3.1907370249430342, 3.121373176574707, 3.121373176574707, 3.060169780955595, 3.3588741108908584, 3.119655132293701, 3.1196560859680176, 3.119656562805176, 3.26821163722447, 3.565321786063058, 3.565321786063058, 3.26821163722447, 3.565321786063058, 3.451015567779541, 3.130115032196045, 3.1301161448160806, 3.1301164627075195, 3.1301164627075195, 3.1301164627075195, 3.1301164627075195, 3.1301164627075195, 3.1301164627075195, 3.6449994520707563, 3.1196552912394204, 3.119656562805176, 3.119656562805176, 3.466285069783529, 3.639599323272705, 3.466285069783529, 3.119656562805176, 3.639599323272705, 3.6180049410053328, 3.1145289738972983, 3.114529609680176, 3.114529609680176, 3.114529609680176, 3.114529609680176, 3.114529609680176, 3.114529609680176, 3.4075615265790153, 3.14192533493042, 3.1419264475504556, 3.1419267654418945, 3.1419267654418945, 3.1419267654418945, 3.1419267654418945, 3.1419267654418945, 3.1419267654418945, 3.463647747039795, 3.132404327392578, 3.1324052810668945, 3.1324052810668945, 3.1324052810668945, 3.1324052810668945, 3.1324052810668945, 3.1324052810668945, 3.1324052810668945, 3.4195619134341966, 3.1359519958496094, 4.181270599365234, 3.135952949523926, 3.135952949523926, 4.703929424285889, 4.181270599365234, 3.135952949523926, 3.135952949523926, 3.4175910164328185, 3.118511517842611, 3.1185121536254883, 3.1185121536254883, 3.1185121536254883, 3.1185121536254883, 4.677768230438232, 3.1185121536254883, 3.360787522559072, 3.1320834159851074, 3.132084369659424, 3.132084846496582, 3.132084846496582, 3.132084846496582, 3.132084846496582, 3.132084846496582, 3.132084846496582, 2.250713348388672, 3.134143352508545, 3.1341443061828613, 3.1341447830200195, 3.1341447830200195, 3.1341447830200195, 3.1341447830200195, 3.1341447830200195, 3.1341447830200195, 2.2520008087158203, 3.130275249481201, 3.130276362101237, 3.130276679992676, 3.130276679992676, 3.130276679992676, 3.130276679992676, 3.130276679992676, 3.130276679992676, 2.3292853355407717, 3.1392478942871094, 3.139248847961426, 3.139248847961426, 3.139248847961426, 3.139248847961426, 3.139248847961426, 3.139248847961426, 3.139248847961426, 1.8769403457641602, 3.132953961690267, 3.1329545974731445, 3.1329545974731445, 3.1329545974731445, 3.1329545974731445, 3.1329545974731445, 3.1329545974731445, 2.3981884320576987, 3.1481738090515137, 3.14817476272583, 3.1481752395629883, 3.1481752395629883, 3.1481752395629883, 3.1481752395629883, 3.1481752395629883, 3.1481752395629883, 2.260710906982422, 3.1145968437194824, 3.114597956339518, 3.114598274230957, 1.5572991371154785, 3.114598274230957, 3.114598274230957, 3.114598274230957, 3.114598274230957, 2.319611072540283, 2.3439817428588867, 3.125309944152832, 3.125309944152832, 3.125309944152832, 2.343982458114624, 3.125309944152832, 3.125309944152832, 2.5118996302286782, 3.1204562187194824, 3.120457172393799, 3.120457649230957, 3.120457649230957, 3.120457649230957, 3.120457649230957, 3.120457649230957, 3.120457649230957, 2.3212170600891113, 3.1137728691101074, 3.113773822784424, 2.0758495330810547, 0.7784435749053955, 0.7784435749053955, 0.5189623832702637, 0.7784435749053955, 0.7784435749053955, 0.8830568313598632, 0.5214034716288248, 0.7821056842803955, 1.564211368560791, 0.5214037895202637, 0.7821056842803955, 0.7821056842803955, 0.5214037895202637, 0.7821056842803955, 1.010718822479248, 0.0, 0.5213656425476074, 1.5640969276428223, 1.5640969276428223, 0.0, 0.7820484638214111, 0.0, 0.7820484638214111, 1.2008870124816895, 0.5245126088460287, 0.0, 1.5735383033752441, 1.049025535583496, 0.0, 1.5735383033752441, 0.0, 1.266579230626424, 0.0, 0.0, 1.5701394081115723, 0.5233798027038574, 0.7850697040557861, 0.7850697040557861, 0.7850697040557861, 0.5233798027038574, 1.0145719528198243, 1.5561082363128662, 0.7780542373657227, 0.5187029838562012, 0.7780544757843018, 0.7780544757843018, 1.5561089515686035, 0.0, 0.7780544757843018, 1.505114459991455, 1.038984775543213, 0.7792389392852783, 0.0, 1.5584778785705566, 0.5194926261901855, 0.7792389392852783, 1.5584778785705566, 0.5194926261901855, 1.195168399810791, 1.5576305389404297, 0.778815507888794, 1.557631015777588, 0.778815507888794, 0.778815507888794, 1.557631015777588, 0.0, 1.557631015777588, 0.6949152946472168, 1.565103530883789, 1.0434026718139648, 0.7825520038604736, 0.7825520038604736, 0.0, 1.0434026718139648, 0.0, 0.7825520038604736, 1.3230218887329102, 0.5195382436116537, 1.5586152076721191, 0.7793076038360596, 0.519538402557373, 0.7793076038360596, 0.7793076038360596, 1.039076805114746, 0.8838586807250977, 0.0, 0.0, 0.0, 1.5661797523498535, 0.7830898761749268, 1.5661797523498535, 1.5661797523498535, 1.5661797523498535, 1.060651912689209, 0.0, 0.7805378437042236, 0.5203585624694824, 1.5610756874084473, 0.0, 1.0407171249389648, 1.5610756874084473, 0.7805378437042236, 1.0086806297302247, nan, nan, nan, nan, 0.7848861217498779, 0.5232575734456381, 0.7848865985870361, 0.0, 0.0, 1.5697731971740723, 0.0, 1.5697731971740723, 0.7003792762756348, 1.5540597438812256, 0.5180201530456543, 0.7770302295684814, 0.7770302295684814, 1.0360403060913086, 1.554060459136963, 0.7770302295684814, 0.5180201530456543, 1.0051481246948242, 0.7795991897583008, 0.7795994281768799, 1.0394659042358398, 1.5591988563537598, 0.0, 1.0394659042358398, 0.0, 1.5591988563537598, 1.507939052581787, 0.7799196243286133, 1.0398931503295898, 1.5598397254943848, 0.0, 0.5199465751647949, 1.5598397254943848, 0.7799198627471924, 1.4008358796437583, 0.0, 1.5596563816070557, 0.0, 0.5198855400085449, 0.7798283100128174, 0.7798283100128174, 0.5198855400085449, 0.7798283100128174, 1.0077582359313966, 0.0, 0.5178674062093099, 1.553602695465088, 0.0, 1.553602695465088, 0.776801347732544, 0.0, 1.0357351303100586, 0.6931025505065918, 0.7810811996459961, 0.0, 0.0, 0.0, 0.0, 0.3905407190322876, 0.0, 0.0, 0.6969546318054199, 0.0, 0.5216288566589355, 0.39122164249420166, 0.39122164249420166, 0.0, 0.5216288566589355, 0.0, 0.0, 0.8546689987182617, 0.2602536678314209, 0.39038050174713135, 0.0, 0.0, 0.0, 0.0, 0.0, 0.7892024517059326, 0.0, 0.2611385981241862, 0.0, 0.0, 0.2611386775970459, 0.39170801639556885, 0.0, 0.2611386775970459, 0.6990557670593261, 0.0, 0.38995134830474854, 0.0, 0.0, 0.0, 0.38995134830474854, 0.0, 0.38995134830474854, 0.8518743515014648, 0.7797421216964722, 0.2599140803019206, 0.7797424793243408, 0.3898712396621704, 0.2599141597747803, 0.3898712396621704, 0.0, 0.0, 1.0076466083526612, 0.0, 0.0, 0.0, 0.0, 0.0, 0.0, 0.3929497003555298, 0.0, 0.7012907981872558, 0.7839994430541992, 0.39199984073638916, 0.0, 0.39199984073638916, 0.0, 0.0, 0.2613332271575928, 0.0, 0.9505883693695069, 0.39322423934936523, 0.0, 0.3932243585586548, 0.3932243585586548, 0.0, 0.0, 0.3932243585586548, 0.0, 0.7017851829528808, 0.5208352406819662, 0.0, 0.39062654972076416, 0.0, 0.0, 0.39062654972076416, 0.39062654972076416, 0.7111331621805826, 0.0, 0.38988542556762695, 0.0, 0.5198473930358887, 0.3898855447769165, 0.0, 0.0, 0.0, 0.8517295837402343, 0.0, 0.39141035079956055, 0.2609403133392334, 0.0, 0.3914104700088501, 0.5218806266784668, 0.3914104700088501, 0.3914104700088501, 0.6985201835632324, 0.0, 0.0, 0.394534707069397, 0.0, 0.0, 0.0, 0.0, 0.0, 0.7983511447906494, 0.7861967086791992, 0.0, 0.2620656490325928, 0.0, 0.39309847354888916, 0.0, 0.39309847354888916, 0.39309847354888916, 0.7015585899353027, 0.5214800039927164, 0.0, 0.0, 0.0, 0.0, 0.0, 0.39111006259918213, 0.6979794502258301, 0.3897109031677246, 0.0, 0.0, 0.38971102237701416, 0.0, 0.0, 0.0, 0.2598073482513428, 0.9455873012542725, 0.0, 0.0, 0.2602956295013428, 0.0, 0.0, 0.0, 0.0, 0.5806496143341064, 0.0, 0.26013922691345215, 0.0, 0.0, 0.26013922691345215, 0.0, 0.7804176807403564, 0.0, 0.46423816680908203, 0.0, 0.0, 0.0, 0.7784550189971924, 0.3892275094985962, 0.3892275094985962, 0.25948500633239746, 0.0, 0.6945908546447754, 0.0, 0.26132941246032715, 0.0, 0.3919941186904907, 0.26132941246032715, 0.0, 0.3919941186904907, 0.3919941186904907, 0.9505714893341064, 0.0, 0.7846977710723877, 0.39234888553619385, 0.0, 0.0, 0.0, 0.39234888553619385, 0.0, 0.7002093315124511, 0.39365339279174805, 0.3936535120010376, 0.0, 0.2624356746673584, 0.0, 0.0, 0.2624356746673584, 0.3936535120010376, 0.7025576591491699, 0.388185977935791, 0.38818609714508057, 0.2587907314300537, 0.0, 0.0, 0.5175814628601074, 0.0, 0.0, 0.8658953905105591, 0.39224278926849365, 0.26149535179138184, 0.0, 0.39224302768707275, 0.0, 0.26149535179138184, 0.0, 0.39224302768707275, 0.7000187873840332, nan, nan]\n"
     ]
    },
    {
     "data": {
      "image/png": "[encoded data removed]",
      "text/plain": [
       "<Figure size 1152x288 with 1 Axes>"
      ]
     },
     "metadata": {
      "needs_background": "light"
     },
     "output_type": "display_data"
    }
   ],
   "source": [
    "import math\n",
    "values = np.arange(0, math.ceil(job_time), time_step)\n",
    "values_int = range(len(values))\n",
    "timeline_ts = [0]*len(values_int)\n",
    "prev = 0\n",
    "values_str = []\n",
    "for i in values_int:\n",
    "    values_str.append(str(i))\n",
    "    contains = (io_ddf_read_write['tstart'] >=prev) & (io_ddf_read_write['tend'] <values[i]) & fwrite_condition\n",
    "    timeline_ts[i] = io_ddf_read_write[contains]['bandwidth'].mean()/1024.0\n",
    "    prev = values[i]\n",
    "plt.figure(figsize=(16,4))\n",
    "print(timeline_ts)\n",
    "plt.bar(values_str, timeline_ts)\n",
    "plt.show()"
   ]
  },
  {
   "cell_type": "markdown",
   "metadata": {},
   "source": [
    "**This supports our previous observation as the bandwidth is the measure of I/O performance of the application.**"
   ]
  },
  {
   "cell_type": "markdown",
   "metadata": {},
   "source": [
    "#### Bandwidth Timeline Per Rank"
   ]
  },
  {
   "cell_type": "code",
   "execution_count": 88,
   "metadata": {},
   "outputs": [
    {
     "name": "stdout",
     "output_type": "stream",
     "text": [
      "app ddcMD_GPU\n"
     ]
    },
    {
     "data": {
      "image/png": "[encoded data removed]",
      "text/plain": [
       "<Figure size 1152x288 with 1 Axes>"
      ]
     },
     "metadata": {
      "needs_background": "light"
     },
     "output_type": "display_data"
    }
   ],
   "source": [
    "import math\n",
    "\n",
    "selected_app = io_ddf_read_write['app'].unique()\n",
    "\n",
    "plt.figure(figsize=(16,4))\n",
    "for app in selected_app:\n",
    "    io_df_rank = io_ddf_read_write[io_ddf_read_write['app'] == app]\n",
    "    values = np.arange(0, math.ceil(job_time), time_step)\n",
    "    values_int = range(len(values))\n",
    "    timeline_ts = [0]*len(values_int)\n",
    "    value_str = []\n",
    "    prev = 0\n",
    "    for i in values_int:\n",
    "        value_str.append(str(values[i]))\n",
    "        contains = (io_df_rank['tstart'] >=prev) & (io_df_rank['tend'] <values[i])\n",
    "        timeline_ts[i] = io_df_rank[contains]['bandwidth'].mean()\n",
    "        prev = values[i]\n",
    "    print(\"app {}\".format(app))\n",
    "    plt.bar(value_str, timeline_ts)\n",
    "    plt.show()"
   ]
  },
  {
   "cell_type": "markdown",
   "metadata": {
    "tags": [
     "Finding"
    ]
   },
   "source": [
    "**Most I/O happens in the first 40 sec and most bandwidth is achieved from PFS**"
   ]
  },
  {
   "cell_type": "markdown",
   "metadata": {},
   "source": [
    "#### Request Size Timeline per Rank"
   ]
  },
  {
   "cell_type": "code",
   "execution_count": 89,
   "metadata": {},
   "outputs": [
    {
     "name": "stdout",
     "output_type": "stream",
     "text": [
      "app ddcMD_GPU\n"
     ]
    },
    {
     "data": {
      "text/plain": [
       "<Figure size 1152x288 with 0 Axes>"
      ]
     },
     "metadata": {},
     "output_type": "display_data"
    },
    {
     "data": {
      "image/png": "[encoded data removed]",
      "text/plain": [
       "<Figure size 1152x288 with 1 Axes>"
      ]
     },
     "metadata": {
      "needs_background": "light"
     },
     "output_type": "display_data"
    }
   ],
   "source": [
    "import math\n",
    "selected_app = io_ddf_read_write['app'].unique()\n",
    "\n",
    "plt.figure(figsize=(16,4))\n",
    "for app in selected_app:\n",
    "    io_df_rank = io_ddf_read_write[io_ddf_read_write['app'] == app]\n",
    "    values = np.arange(0, math.ceil(job_time), time_step)\n",
    "    values_int = range(len(values))\n",
    "    timeline_ts = [0]*len(values_int)\n",
    "    value_str = []\n",
    "    prev = 0\n",
    "    for i in values_int:\n",
    "        value_str.append(str(i))\n",
    "        contains = (io_df_rank['tstart'] >=prev) & (io_df_rank['tend'] <values[i])\n",
    "        timeline_ts[i] = io_df_rank[contains]['size'].sum()/1024.0/1024.0\n",
    "        prev = values[i]\n",
    "    print(\"app {}\".format(app))\n",
    "    plt.figure(figsize=(16,4))\n",
    "    plt.bar(value_str, timeline_ts)\n",
    "    plt.show()"
   ]
  },
  {
   "cell_type": "markdown",
   "metadata": {
    "tags": [
     "Finding"
    ]
   },
   "source": [
    "**Only rank 0 does I/O throughout the time. Rest perform read in first 40 seconds and perform computations.** "
   ]
  },
  {
   "cell_type": "markdown",
   "metadata": {},
   "source": [
    "## Find file which are independent or shared\n",
    "- Make all thread id start from 0 and unique across ranks\n",
    "- Group by filename nunique thread_id\n",
    "- Find all filename with nunique > 1"
   ]
  },
  {
   "cell_type": "code",
   "execution_count": 90,
   "metadata": {},
   "outputs": [],
   "source": [
    "thread_index_series = io_ddf.groupby(['proc', 'thread_id'])['thread_id'].nunique().cumsum().compute()"
   ]
  },
  {
   "cell_type": "code",
   "execution_count": 91,
   "metadata": {},
   "outputs": [],
   "source": [
    "proc_index_series = io_ddf.groupby(['hostname','proc'])['thread_id'].nunique().cumsum().compute()"
   ]
  },
  {
   "cell_type": "code",
   "execution_count": 92,
   "metadata": {},
   "outputs": [],
   "source": [
    "#io_ddf['thread_index'] = 0\n",
    "#for index,item in thread_index_series.iteritems():\n",
    "#    condition = (io_ddf['proc'] == index[0]) & (io_ddf['thread_id'] == index[1])\n",
    "#    io_ddf['thread_index'] = io_ddf['thread_index'].mask(condition , item - 1)"
   ]
  },
  {
   "cell_type": "code",
   "execution_count": 93,
   "metadata": {},
   "outputs": [
    {
     "name": "stdout",
     "output_type": "stream",
     "text": [
      "We have 109 threads across 109 process\n"
     ]
    }
   ],
   "source": [
    "num_procs = proc_index_series.count()\n",
    "threads = thread_index_series.count()\n",
    "print(\"We have {} threads across {} process\".format(threads, num_procs))"
   ]
  },
  {
   "cell_type": "code",
   "execution_count": 94,
   "metadata": {},
   "outputs": [],
   "source": [
    "filename_series = io_ddf[io_ddf['filename'].str.contains('/p/gpfs1')].groupby(['filename'])['proc'].nunique().compute()"
   ]
  },
  {
   "cell_type": "code",
   "execution_count": 95,
   "metadata": {
    "tags": [
     "Finding"
    ]
   },
   "outputs": [
    {
     "name": "stdout",
     "output_type": "stream",
     "text": [
      "0 files that are accessed by application by only one rank\n"
     ]
    }
   ],
   "source": [
    "independent_files = filename_series[filename_series == 1]\n",
    "print(\"{} files that are accessed by application by only one rank\".format(len(independent_files)))"
   ]
  },
  {
   "cell_type": "code",
   "execution_count": 96,
   "metadata": {
    "tags": [
     "Finding"
    ]
   },
   "outputs": [
    {
     "name": "stdout",
     "output_type": "stream",
     "text": [
      "0 files that are accessed by application by more than one rank\n"
     ]
    }
   ],
   "source": [
    "shared_files = filename_series[filename_series > 1]\n",
    "print(\"{} files that are accessed by application by more than one rank\".format(len(shared_files)))"
   ]
  },
  {
   "cell_type": "markdown",
   "metadata": {
    "tags": [
     "Finding"
    ]
   },
   "source": [
    "This application doesnt share files. That is it follows a File per process pattern."
   ]
  },
  {
   "cell_type": "markdown",
   "metadata": {},
   "source": [
    "### Data Flow\n",
    "We plot how different ranks in the job are accessing data."
   ]
  },
  {
   "cell_type": "code",
   "execution_count": 97,
   "metadata": {},
   "outputs": [],
   "source": [
    "io_ddf_read_write['file_type'] = io_ddf_read_write['filename'] \n",
    "io_ddf_read_write['file_type'] = io_ddf_read_write['file_type'].apply(lambda x: x.split('/')[-1])\n",
    "io_ddf_read_write['file_type'] = io_ddf_read_write['file_type'].apply(lambda x: x.split('_')[0])\n",
    "io_ddf_read_write['file_type'] = io_ddf_read_write['file_type'].apply(lambda x: x.split('.')[0] + \"*\") # keep first part of dot\n",
    "io_ddf_read_write['file_type'] = io_ddf_read_write['file_type'].apply(lambda x: x.split('-')[1] if '-' in x else x)\n",
    "                              "
   ]
  },
  {
   "cell_type": "code",
   "execution_count": 98,
   "metadata": {},
   "outputs": [
    {
     "data": {
      "text/html": [
       "<div>\n",
       "<style scoped>\n",
       "    .dataframe tbody tr th:only-of-type {\n",
       "        vertical-align: middle;\n",
       "    }\n",
       "\n",
       "    .dataframe tbody tr th {\n",
       "        vertical-align: top;\n",
       "    }\n",
       "\n",
       "    .dataframe thead th {\n",
       "        text-align: right;\n",
       "    }\n",
       "</style>\n",
       "<table border=\"1\" class=\"dataframe\">\n",
       "  <thead>\n",
       "    <tr style=\"text-align: right;\">\n",
       "      <th></th>\n",
       "      <th>index</th>\n",
       "      <th>proc</th>\n",
       "      <th>rank</th>\n",
       "      <th>thread_id</th>\n",
       "      <th>cat</th>\n",
       "      <th>tstart</th>\n",
       "      <th>tend</th>\n",
       "      <th>func_id</th>\n",
       "      <th>level</th>\n",
       "      <th>hostname</th>\n",
       "      <th>...</th>\n",
       "      <th>args_7</th>\n",
       "      <th>args_8</th>\n",
       "      <th>args_9</th>\n",
       "      <th>args_10</th>\n",
       "      <th>duration</th>\n",
       "      <th>filename</th>\n",
       "      <th>size</th>\n",
       "      <th>count</th>\n",
       "      <th>bandwidth</th>\n",
       "      <th>file_type</th>\n",
       "    </tr>\n",
       "  </thead>\n",
       "  <tbody>\n",
       "    <tr>\n",
       "      <th>25731</th>\n",
       "      <td>25732</td>\n",
       "      <td>68209</td>\n",
       "      <td>0</td>\n",
       "      <td>-135550816</td>\n",
       "      <td>0</td>\n",
       "      <td>51732.671875</td>\n",
       "      <td>51732.675781</td>\n",
       "      <td>fread</td>\n",
       "      <td>0</td>\n",
       "      <td>lassen123</td>\n",
       "      <td>...</td>\n",
       "      <td></td>\n",
       "      <td></td>\n",
       "      <td></td>\n",
       "      <td></td>\n",
       "      <td>0.003906</td>\n",
       "      <td>/tmp/mummi/cg/mu12-1ras0raf-instance6_00000000...</td>\n",
       "      <td>23782959</td>\n",
       "      <td>23782959</td>\n",
       "      <td>5806.386475</td>\n",
       "      <td>atoms#000000*</td>\n",
       "    </tr>\n",
       "    <tr>\n",
       "      <th>259234</th>\n",
       "      <td>259235</td>\n",
       "      <td>68209</td>\n",
       "      <td>0</td>\n",
       "      <td>-135550816</td>\n",
       "      <td>0</td>\n",
       "      <td>51790.296875</td>\n",
       "      <td>51790.296875</td>\n",
       "      <td>fwrite</td>\n",
       "      <td>0</td>\n",
       "      <td>lassen123</td>\n",
       "      <td>...</td>\n",
       "      <td></td>\n",
       "      <td></td>\n",
       "      <td></td>\n",
       "      <td></td>\n",
       "      <td>0.000000</td>\n",
       "      <td>/tmp/mummi/cg/mu12-1ras0raf-instance6_00000000...</td>\n",
       "      <td>3256339</td>\n",
       "      <td>3256339</td>\n",
       "      <td>0.000000</td>\n",
       "      <td>subset#000000*</td>\n",
       "    </tr>\n",
       "    <tr>\n",
       "      <th>394317</th>\n",
       "      <td>394318</td>\n",
       "      <td>68209</td>\n",
       "      <td>0</td>\n",
       "      <td>-135550816</td>\n",
       "      <td>0</td>\n",
       "      <td>51833.453125</td>\n",
       "      <td>51833.457031</td>\n",
       "      <td>fwrite</td>\n",
       "      <td>0</td>\n",
       "      <td>lassen123</td>\n",
       "      <td>...</td>\n",
       "      <td></td>\n",
       "      <td></td>\n",
       "      <td></td>\n",
       "      <td></td>\n",
       "      <td>0.003906</td>\n",
       "      <td>/tmp/mummi/cg/mu12-1ras0raf-instance6_00000000...</td>\n",
       "      <td>3256340</td>\n",
       "      <td>3256340</td>\n",
       "      <td>795.004883</td>\n",
       "      <td>subset#000000*</td>\n",
       "    </tr>\n",
       "    <tr>\n",
       "      <th>529400</th>\n",
       "      <td>529401</td>\n",
       "      <td>68209</td>\n",
       "      <td>0</td>\n",
       "      <td>-135550816</td>\n",
       "      <td>0</td>\n",
       "      <td>51876.574219</td>\n",
       "      <td>51876.574219</td>\n",
       "      <td>fwrite</td>\n",
       "      <td>0</td>\n",
       "      <td>lassen123</td>\n",
       "      <td>...</td>\n",
       "      <td></td>\n",
       "      <td></td>\n",
       "      <td></td>\n",
       "      <td></td>\n",
       "      <td>0.000000</td>\n",
       "      <td>/tmp/mummi/cg/mu12-1ras0raf-instance6_00000000...</td>\n",
       "      <td>3256340</td>\n",
       "      <td>3256340</td>\n",
       "      <td>0.000000</td>\n",
       "      <td>subset#000000*</td>\n",
       "    </tr>\n",
       "    <tr>\n",
       "      <th>664483</th>\n",
       "      <td>664484</td>\n",
       "      <td>68209</td>\n",
       "      <td>0</td>\n",
       "      <td>-135550816</td>\n",
       "      <td>0</td>\n",
       "      <td>51919.804688</td>\n",
       "      <td>51919.808594</td>\n",
       "      <td>fwrite</td>\n",
       "      <td>0</td>\n",
       "      <td>lassen123</td>\n",
       "      <td>...</td>\n",
       "      <td></td>\n",
       "      <td></td>\n",
       "      <td></td>\n",
       "      <td></td>\n",
       "      <td>0.003906</td>\n",
       "      <td>/tmp/mummi/cg/mu12-1ras0raf-instance6_00000000...</td>\n",
       "      <td>3256341</td>\n",
       "      <td>3256341</td>\n",
       "      <td>795.005127</td>\n",
       "      <td>subset#000000*</td>\n",
       "    </tr>\n",
       "    <tr>\n",
       "      <th>...</th>\n",
       "      <td>...</td>\n",
       "      <td>...</td>\n",
       "      <td>...</td>\n",
       "      <td>...</td>\n",
       "      <td>...</td>\n",
       "      <td>...</td>\n",
       "      <td>...</td>\n",
       "      <td>...</td>\n",
       "      <td>...</td>\n",
       "      <td>...</td>\n",
       "      <td>...</td>\n",
       "      <td>...</td>\n",
       "      <td>...</td>\n",
       "      <td>...</td>\n",
       "      <td>...</td>\n",
       "      <td>...</td>\n",
       "      <td>...</td>\n",
       "      <td>...</td>\n",
       "      <td>...</td>\n",
       "      <td>...</td>\n",
       "      <td>...</td>\n",
       "    </tr>\n",
       "    <tr>\n",
       "      <th>2825769</th>\n",
       "      <td>2825770</td>\n",
       "      <td>87148</td>\n",
       "      <td>0</td>\n",
       "      <td>-135550816</td>\n",
       "      <td>0</td>\n",
       "      <td>1183.757202</td>\n",
       "      <td>1183.765381</td>\n",
       "      <td>fwrite</td>\n",
       "      <td>0</td>\n",
       "      <td>lassen647</td>\n",
       "      <td>...</td>\n",
       "      <td></td>\n",
       "      <td></td>\n",
       "      <td></td>\n",
       "      <td></td>\n",
       "      <td>0.008179</td>\n",
       "      <td>/tmp/mummi/cg/mu12-1ras0raf-instance10_0000000...</td>\n",
       "      <td>29204532</td>\n",
       "      <td>29204532</td>\n",
       "      <td>3405.379198</td>\n",
       "      <td>atoms#000000*</td>\n",
       "    </tr>\n",
       "    <tr>\n",
       "      <th>2830834</th>\n",
       "      <td>2830835</td>\n",
       "      <td>87148</td>\n",
       "      <td>0</td>\n",
       "      <td>-135550816</td>\n",
       "      <td>0</td>\n",
       "      <td>1184.130859</td>\n",
       "      <td>1184.131836</td>\n",
       "      <td>fwrite</td>\n",
       "      <td>0</td>\n",
       "      <td>lassen647</td>\n",
       "      <td>...</td>\n",
       "      <td></td>\n",
       "      <td></td>\n",
       "      <td></td>\n",
       "      <td></td>\n",
       "      <td>0.000977</td>\n",
       "      <td>/tmp/mummi/cg/mu12-1ras0raf-instance10_0000000...</td>\n",
       "      <td>3272998</td>\n",
       "      <td>3272998</td>\n",
       "      <td>3196.287109</td>\n",
       "      <td>subset#000000*</td>\n",
       "    </tr>\n",
       "    <tr>\n",
       "      <th>2830874</th>\n",
       "      <td>2830875</td>\n",
       "      <td>87148</td>\n",
       "      <td>0</td>\n",
       "      <td>-135550816</td>\n",
       "      <td>0</td>\n",
       "      <td>1184.158081</td>\n",
       "      <td>1184.158569</td>\n",
       "      <td>fwrite</td>\n",
       "      <td>0</td>\n",
       "      <td>lassen647</td>\n",
       "      <td>...</td>\n",
       "      <td></td>\n",
       "      <td></td>\n",
       "      <td></td>\n",
       "      <td></td>\n",
       "      <td>0.000488</td>\n",
       "      <td>/tmp/mummi/cg/mu12-1ras0raf-instance10_0000000...</td>\n",
       "      <td>1974861</td>\n",
       "      <td>1974861</td>\n",
       "      <td>3857.150391</td>\n",
       "      <td>profile#000000*</td>\n",
       "    </tr>\n",
       "    <tr>\n",
       "      <th>2830912</th>\n",
       "      <td>2830913</td>\n",
       "      <td>87148</td>\n",
       "      <td>0</td>\n",
       "      <td>-135550816</td>\n",
       "      <td>0</td>\n",
       "      <td>1184.184937</td>\n",
       "      <td>1184.185547</td>\n",
       "      <td>fwrite</td>\n",
       "      <td>0</td>\n",
       "      <td>lassen647</td>\n",
       "      <td>...</td>\n",
       "      <td></td>\n",
       "      <td></td>\n",
       "      <td></td>\n",
       "      <td></td>\n",
       "      <td>0.000610</td>\n",
       "      <td>/tmp/mummi/cg/mu12-1ras0raf-instance10_0000000...</td>\n",
       "      <td>1974861</td>\n",
       "      <td>1974861</td>\n",
       "      <td>3085.720313</td>\n",
       "      <td>profile#000000*</td>\n",
       "    </tr>\n",
       "    <tr>\n",
       "      <th>25822</th>\n",
       "      <td>25823</td>\n",
       "      <td>94386</td>\n",
       "      <td>0</td>\n",
       "      <td>-135550816</td>\n",
       "      <td>0</td>\n",
       "      <td>26663.527344</td>\n",
       "      <td>26663.535156</td>\n",
       "      <td>fread</td>\n",
       "      <td>0</td>\n",
       "      <td>lassen647</td>\n",
       "      <td>...</td>\n",
       "      <td></td>\n",
       "      <td></td>\n",
       "      <td></td>\n",
       "      <td></td>\n",
       "      <td>0.007812</td>\n",
       "      <td>/tmp/mummi/cg/mu12-1ras0raf-instance10_0000000...</td>\n",
       "      <td>29173176</td>\n",
       "      <td>29173176</td>\n",
       "      <td>3561.178711</td>\n",
       "      <td>atoms#000000*</td>\n",
       "    </tr>\n",
       "  </tbody>\n",
       "</table>\n",
       "<p>1488 rows × 28 columns</p>\n",
       "</div>"
      ],
      "text/plain": [
       "           index   proc  rank  thread_id  cat        tstart          tend  \\\n",
       "25731      25732  68209     0 -135550816    0  51732.671875  51732.675781   \n",
       "259234    259235  68209     0 -135550816    0  51790.296875  51790.296875   \n",
       "394317    394318  68209     0 -135550816    0  51833.453125  51833.457031   \n",
       "529400    529401  68209     0 -135550816    0  51876.574219  51876.574219   \n",
       "664483    664484  68209     0 -135550816    0  51919.804688  51919.808594   \n",
       "...          ...    ...   ...        ...  ...           ...           ...   \n",
       "2825769  2825770  87148     0 -135550816    0   1183.757202   1183.765381   \n",
       "2830834  2830835  87148     0 -135550816    0   1184.130859   1184.131836   \n",
       "2830874  2830875  87148     0 -135550816    0   1184.158081   1184.158569   \n",
       "2830912  2830913  87148     0 -135550816    0   1184.184937   1184.185547   \n",
       "25822      25823  94386     0 -135550816    0  26663.527344  26663.535156   \n",
       "\n",
       "        func_id  level   hostname  ...  args_7 args_8 args_9 args_10  \\\n",
       "25731     fread      0  lassen123  ...                                 \n",
       "259234   fwrite      0  lassen123  ...                                 \n",
       "394317   fwrite      0  lassen123  ...                                 \n",
       "529400   fwrite      0  lassen123  ...                                 \n",
       "664483   fwrite      0  lassen123  ...                                 \n",
       "...         ...    ...        ...  ...     ...    ...    ...     ...   \n",
       "2825769  fwrite      0  lassen647  ...                                 \n",
       "2830834  fwrite      0  lassen647  ...                                 \n",
       "2830874  fwrite      0  lassen647  ...                                 \n",
       "2830912  fwrite      0  lassen647  ...                                 \n",
       "25822     fread      0  lassen647  ...                                 \n",
       "\n",
       "         duration                                           filename  \\\n",
       "25731    0.003906  /tmp/mummi/cg/mu12-1ras0raf-instance6_00000000...   \n",
       "259234   0.000000  /tmp/mummi/cg/mu12-1ras0raf-instance6_00000000...   \n",
       "394317   0.003906  /tmp/mummi/cg/mu12-1ras0raf-instance6_00000000...   \n",
       "529400   0.000000  /tmp/mummi/cg/mu12-1ras0raf-instance6_00000000...   \n",
       "664483   0.003906  /tmp/mummi/cg/mu12-1ras0raf-instance6_00000000...   \n",
       "...           ...                                                ...   \n",
       "2825769  0.008179  /tmp/mummi/cg/mu12-1ras0raf-instance10_0000000...   \n",
       "2830834  0.000977  /tmp/mummi/cg/mu12-1ras0raf-instance10_0000000...   \n",
       "2830874  0.000488  /tmp/mummi/cg/mu12-1ras0raf-instance10_0000000...   \n",
       "2830912  0.000610  /tmp/mummi/cg/mu12-1ras0raf-instance10_0000000...   \n",
       "25822    0.007812  /tmp/mummi/cg/mu12-1ras0raf-instance10_0000000...   \n",
       "\n",
       "             size     count    bandwidth        file_type  \n",
       "25731    23782959  23782959  5806.386475    atoms#000000*  \n",
       "259234    3256339   3256339     0.000000   subset#000000*  \n",
       "394317    3256340   3256340   795.004883   subset#000000*  \n",
       "529400    3256340   3256340     0.000000   subset#000000*  \n",
       "664483    3256341   3256341   795.005127   subset#000000*  \n",
       "...           ...       ...          ...              ...  \n",
       "2825769  29204532  29204532  3405.379198    atoms#000000*  \n",
       "2830834   3272998   3272998  3196.287109   subset#000000*  \n",
       "2830874   1974861   1974861  3857.150391  profile#000000*  \n",
       "2830912   1974861   1974861  3085.720313  profile#000000*  \n",
       "25822    29173176  29173176  3561.178711    atoms#000000*  \n",
       "\n",
       "[1488 rows x 28 columns]"
      ]
     },
     "execution_count": 98,
     "metadata": {},
     "output_type": "execute_result"
    }
   ],
   "source": [
    "io_ddf_read_write"
   ]
  },
  {
   "cell_type": "code",
   "execution_count": 99,
   "metadata": {},
   "outputs": [],
   "source": [
    "#call_series = io_ddf_read_write.groupby(['hostname','app','proc','func_id','file_type']).agg({'size': ['sum','count']})\n",
    "call_series = io_ddf_read_write.groupby(['app','func_id','file_type']).agg({'size': ['sum','count'], 'proc':['nunique'], 'tstart':['min'], 'tend':['max'], 'duration':['sum']}).sort_values(by=[('tstart','min')])"
   ]
  },
  {
   "cell_type": "code",
   "execution_count": 100,
   "metadata": {},
   "outputs": [
    {
     "data": {
      "text/html": [
       "<div>\n",
       "<style scoped>\n",
       "    .dataframe tbody tr th:only-of-type {\n",
       "        vertical-align: middle;\n",
       "    }\n",
       "\n",
       "    .dataframe tbody tr th {\n",
       "        vertical-align: top;\n",
       "    }\n",
       "\n",
       "    .dataframe thead tr th {\n",
       "        text-align: left;\n",
       "    }\n",
       "\n",
       "    .dataframe thead tr:last-of-type th {\n",
       "        text-align: right;\n",
       "    }\n",
       "</style>\n",
       "<table border=\"1\" class=\"dataframe\">\n",
       "  <thead>\n",
       "    <tr>\n",
       "      <th></th>\n",
       "      <th></th>\n",
       "      <th></th>\n",
       "      <th colspan=\"2\" halign=\"left\">size</th>\n",
       "      <th>proc</th>\n",
       "      <th>tstart</th>\n",
       "      <th>tend</th>\n",
       "      <th>duration</th>\n",
       "    </tr>\n",
       "    <tr>\n",
       "      <th></th>\n",
       "      <th></th>\n",
       "      <th></th>\n",
       "      <th>sum</th>\n",
       "      <th>count</th>\n",
       "      <th>nunique</th>\n",
       "      <th>min</th>\n",
       "      <th>max</th>\n",
       "      <th>sum</th>\n",
       "    </tr>\n",
       "    <tr>\n",
       "      <th>app</th>\n",
       "      <th>func_id</th>\n",
       "      <th>file_type</th>\n",
       "      <th></th>\n",
       "      <th></th>\n",
       "      <th></th>\n",
       "      <th></th>\n",
       "      <th></th>\n",
       "      <th></th>\n",
       "    </tr>\n",
       "  </thead>\n",
       "  <tbody>\n",
       "    <tr>\n",
       "      <th rowspan=\"4\" valign=\"top\">ddcMD_GPU</th>\n",
       "      <th>fread</th>\n",
       "      <th>atoms#000000*</th>\n",
       "      <td>2.839776e+09</td>\n",
       "      <td>108</td>\n",
       "      <td>108</td>\n",
       "      <td>304.176544</td>\n",
       "      <td>53859.421875</td>\n",
       "      <td>0.535034</td>\n",
       "    </tr>\n",
       "    <tr>\n",
       "      <th rowspan=\"3\" valign=\"top\">fwrite</th>\n",
       "      <th>subset#000000*</th>\n",
       "      <td>3.935348e+09</td>\n",
       "      <td>1200</td>\n",
       "      <td>60</td>\n",
       "      <td>361.968140</td>\n",
       "      <td>53554.261719</td>\n",
       "      <td>1.126343</td>\n",
       "    </tr>\n",
       "    <tr>\n",
       "      <th>atoms#000000*</th>\n",
       "      <td>1.755760e+09</td>\n",
       "      <td>60</td>\n",
       "      <td>60</td>\n",
       "      <td>1183.757202</td>\n",
       "      <td>53553.898438</td>\n",
       "      <td>0.484497</td>\n",
       "    </tr>\n",
       "    <tr>\n",
       "      <th>profile#000000*</th>\n",
       "      <td>2.371333e+08</td>\n",
       "      <td>120</td>\n",
       "      <td>60</td>\n",
       "      <td>1184.158081</td>\n",
       "      <td>53554.316406</td>\n",
       "      <td>0.054810</td>\n",
       "    </tr>\n",
       "  </tbody>\n",
       "</table>\n",
       "</div>"
      ],
      "text/plain": [
       "                                           size          proc       tstart  \\\n",
       "                                            sum count nunique          min   \n",
       "app       func_id file_type                                                  \n",
       "ddcMD_GPU fread   atoms#000000*    2.839776e+09   108     108   304.176544   \n",
       "          fwrite  subset#000000*   3.935348e+09  1200      60   361.968140   \n",
       "                  atoms#000000*    1.755760e+09    60      60  1183.757202   \n",
       "                  profile#000000*  2.371333e+08   120      60  1184.158081   \n",
       "\n",
       "                                           tend  duration  \n",
       "                                            max       sum  \n",
       "app       func_id file_type                                \n",
       "ddcMD_GPU fread   atoms#000000*    53859.421875  0.535034  \n",
       "          fwrite  subset#000000*   53554.261719  1.126343  \n",
       "                  atoms#000000*    53553.898438  0.484497  \n",
       "                  profile#000000*  53554.316406  0.054810  "
      ]
     },
     "execution_count": 100,
     "metadata": {},
     "output_type": "execute_result"
    }
   ],
   "source": [
    "call_series"
   ]
  },
  {
   "cell_type": "code",
   "execution_count": 127,
   "metadata": {},
   "outputs": [
    {
     "data": {
      "image/svg+xml": [
       "<?xml version=\"1.0\" encoding=\"UTF-8\" standalone=\"no\"?>\n",
       "<!DOCTYPE svg PUBLIC \"-//W3C//DTD SVG 1.1//EN\"\n",
       " \"http://www.w3.org/Graphics/SVG/1.1/DTD/svg11.dtd\">\n",
       "<!-- Generated by graphviz version 2.42.3 (20191010.1750)\n",
       " -->\n",
       "<!-- Title: %3 Pages: 1 -->\n",
       "<svg width=\"608pt\" height=\"131pt\"\n",
       " viewBox=\"0.00 0.00 608.39 131.00\" xmlns=\"http://www.w3.org/2000/svg\" xmlns:xlink=\"http://www.w3.org/1999/xlink\">\n",
       "<g id=\"graph0\" class=\"graph\" transform=\"scale(1 1) rotate(0) translate(4 127)\">\n",
       "<title>%3</title>\n",
       "<polygon fill=\"white\" stroke=\"transparent\" points=\"-4,4 -4,-127 604.39,-127 604.39,4 -4,4\"/>\n",
       "<!-- ddcMD_GPU -->\n",
       "<g id=\"node1\" class=\"node\">\n",
       "<title>ddcMD_GPU</title>\n",
       "<ellipse fill=\"none\" stroke=\"black\" cx=\"234.34\" cy=\"-105\" rx=\"70.69\" ry=\"18\"/>\n",
       "<text text-anchor=\"middle\" x=\"234.34\" y=\"-101.3\" font-family=\"Times,serif\" font-size=\"14.00\">ddcMD_GPU</text>\n",
       "</g>\n",
       "<!-- atoms#000000* -->\n",
       "<g id=\"node2\" class=\"node\">\n",
       "<title>atoms#000000*</title>\n",
       "<ellipse fill=\"none\" stroke=\"black\" cx=\"317.34\" cy=\"-18\" rx=\"87.18\" ry=\"18\"/>\n",
       "<text text-anchor=\"middle\" x=\"317.34\" y=\"-14.3\" font-family=\"Times,serif\" font-size=\"14.00\">atoms#000000*</text>\n",
       "</g>\n",
       "<!-- ddcMD_GPU&#45;&gt;atoms#000000* -->\n",
       "<g id=\"edge1\" class=\"edge\">\n",
       "<title>ddcMD_GPU&#45;&gt;atoms#000000*</title>\n",
       "<path fill=\"none\" stroke=\"black\" d=\"M163.83,-103.06C103.68,-100.59 23.77,-92.76 3.34,-69 -1,-63.95 -1.17,-58.9 3.34,-54 19.81,-36.12 197.24,-39.12 221.34,-36 229.28,-34.97 237.56,-33.74 245.78,-32.42\"/>\n",
       "<polygon fill=\"black\" stroke=\"black\" points=\"246.47,-35.86 255.76,-30.78 245.33,-28.95 246.47,-35.86\"/>\n",
       "<text text-anchor=\"middle\" x=\"66.84\" y=\"-57.8\" font-family=\"Times,serif\" font-size=\"14.00\">fread 108 2.64GB</text>\n",
       "</g>\n",
       "<!-- ddcMD_GPU&#45;&gt;atoms#000000* -->\n",
       "<g id=\"edge3\" class=\"edge\">\n",
       "<title>ddcMD_GPU&#45;&gt;atoms#000000*</title>\n",
       "<path fill=\"none\" stroke=\"black\" d=\"M268.76,-89.24C278.28,-83.92 288,-77.17 295.34,-69 301.29,-62.38 305.84,-53.9 309.21,-45.8\"/>\n",
       "<polygon fill=\"black\" stroke=\"black\" points=\"312.55,-46.87 312.75,-36.28 305.98,-44.43 312.55,-46.87\"/>\n",
       "<text text-anchor=\"middle\" x=\"366.34\" y=\"-57.8\" font-family=\"Times,serif\" font-size=\"14.00\">fwrite 60 1.64GB</text>\n",
       "</g>\n",
       "<!-- subset#000000* -->\n",
       "<g id=\"node3\" class=\"node\">\n",
       "<title>subset#000000*</title>\n",
       "<ellipse fill=\"none\" stroke=\"black\" cx=\"123.34\" cy=\"-18\" rx=\"89.08\" ry=\"18\"/>\n",
       "<text text-anchor=\"middle\" x=\"123.34\" y=\"-14.3\" font-family=\"Times,serif\" font-size=\"14.00\">subset#000000*</text>\n",
       "</g>\n",
       "<!-- ddcMD_GPU&#45;&gt;subset#000000* -->\n",
       "<g id=\"edge2\" class=\"edge\">\n",
       "<title>ddcMD_GPU&#45;&gt;subset#000000*</title>\n",
       "<path fill=\"none\" stroke=\"black\" d=\"M187.28,-91.34C173.9,-86.06 160.06,-78.8 149.34,-69 142.32,-62.57 136.87,-53.8 132.83,-45.4\"/>\n",
       "<polygon fill=\"black\" stroke=\"black\" points=\"136.03,-43.99 128.84,-36.21 129.61,-46.78 136.03,-43.99\"/>\n",
       "<text text-anchor=\"middle\" x=\"220.34\" y=\"-57.8\" font-family=\"Times,serif\" font-size=\"14.00\">fwrite 1200 3.67GB</text>\n",
       "</g>\n",
       "<!-- profile#000000* -->\n",
       "<g id=\"node4\" class=\"node\">\n",
       "<title>profile#000000*</title>\n",
       "<ellipse fill=\"none\" stroke=\"black\" cx=\"511.34\" cy=\"-18\" rx=\"89.08\" ry=\"18\"/>\n",
       "<text text-anchor=\"middle\" x=\"511.34\" y=\"-14.3\" font-family=\"Times,serif\" font-size=\"14.00\">profile#000000*</text>\n",
       "</g>\n",
       "<!-- ddcMD_GPU&#45;&gt;profile#000000* -->\n",
       "<g id=\"edge4\" class=\"edge\">\n",
       "<title>ddcMD_GPU&#45;&gt;profile#000000*</title>\n",
       "<path fill=\"none\" stroke=\"black\" d=\"M301.18,-98.72C340.41,-94.03 390.35,-85.27 432.34,-69 449.77,-62.25 467.49,-51.46 481.73,-41.63\"/>\n",
       "<polygon fill=\"black\" stroke=\"black\" points=\"483.98,-44.32 490.11,-35.68 479.93,-38.62 483.98,-44.32\"/>\n",
       "<text text-anchor=\"middle\" x=\"482.84\" y=\"-57.8\" font-family=\"Times,serif\" font-size=\"14.00\">fwrite</text>\n",
       "</g>\n",
       "</g>\n",
       "</svg>\n"
      ],
      "text/plain": [
       "<graphviz.dot.Digraph at 0x20000fa8ce80>"
      ]
     },
     "execution_count": 127,
     "metadata": {},
     "output_type": "execute_result"
    }
   ],
   "source": [
    "import graphviz\n",
    "dot = graphviz.Digraph()\n",
    "dot.attr(ordering=\"out\")\n",
    "for index, value in call_series.iterrows():\n",
    "    #for v1, v2 in call_series.iteritems():\n",
    "    #print( value)\n",
    "    #value = v2.index[0]\n",
    "    #index = v2.index[0]\n",
    "    node_str = index[0] #+ \" \" + str(value[2])\n",
    "    file_node_str = index[2]\n",
    "    func_node_str = index[1]\n",
    "    dot.node(node_str)\n",
    "    dot.node(file_node_str)\n",
    "    #dot.node(func_node_str)\n",
    "    if value[0] > 1024.0 * 1024.0* 1024.0:\n",
    "        dot.edge(node_str, file_node_str, label=func_node_str + \" \"+ \"{}\".format(int(value[1])) + \" \" + \"{:0.2f}GB\".format(value[0]/1024.0/1024.0/1024.0))\n",
    "    else:\n",
    "        dot.edge(node_str, file_node_str, label=func_node_str)\n",
    "#     if \"read\" in func_node_str:\n",
    "#         dot.edge(file_node_str, func_node_str, label=str(value[0]/1024.0) + \"KB\")\n",
    "#     else:\n",
    "#         dot.edge(func_node_str,file_node_str, label=str(value[0]/1024.0)+ \"KB\")\n",
    "\n",
    "a = graphviz.Digraph('app')\n",
    "a.attr(rank='same')\n",
    "a.attr(ordering=\"out\")\n",
    "for index, value in call_series.iterrows():\n",
    "    node_str = index[0]\n",
    "    a.node(node_str)\n",
    "\n",
    "# o = graphviz.Digraph('func')\n",
    "# o.attr(rank='same')\n",
    "# for index, value in call_series.iterrows():\n",
    "#     node_str = index[1]\n",
    "#     o.node(node_str)\n",
    "    \n",
    "f = graphviz.Digraph('file')\n",
    "f.attr(rank='same')\n",
    "for index, value in call_series.iterrows():\n",
    "    node_str = index[2]\n",
    "    f.node(node_str)\n",
    "    \n",
    "dot.subgraph(a)\n",
    "# dot.subgraph(o)\n",
    "dot.subgraph(f)\n",
    "dot"
   ]
  },
  {
   "cell_type": "code",
   "execution_count": 125,
   "metadata": {},
   "outputs": [],
   "source": [
    "import graphviz\n",
    "dot = graphviz.Digraph()\n",
    "selected_indices = range(1)\n",
    "if len(shared_files) > len(selected_indices):\n",
    "    for selected_index in selected_indices:\n",
    "        selected_shared_file = shared_files.index[selected_index]\n",
    "        io_access_rank = io_ddf[io_ddf['filename'] == selected_shared_file].groupby(['app','func_id'])['func_id'].count().compute()\n",
    "        dot.node(selected_shared_file)\n",
    "        for index,item in io_access_rank.iteritems():\n",
    "            rank = index[0]\n",
    "            func_id = index[1]\n",
    "            count = item\n",
    "            dot.node(str(rank))\n",
    "            dot.node(func_id)\n",
    "            dot.edge(str(rank),func_id)\n",
    "            if \"read\" in func_id:\n",
    "                dot.edge(selected_shared_file, func_id, label=str(count))\n",
    "            else:\n",
    "                dot.edge(func_id,selected_shared_file, label=str(count))"
   ]
  },
  {
   "cell_type": "code",
   "execution_count": null,
   "metadata": {},
   "outputs": [],
   "source": []
  },
  {
   "cell_type": "code",
   "execution_count": 126,
   "metadata": {},
   "outputs": [
    {
     "data": {
      "image/svg+xml": [
       "<?xml version=\"1.0\" encoding=\"UTF-8\" standalone=\"no\"?>\n",
       "<!DOCTYPE svg PUBLIC \"-//W3C//DTD SVG 1.1//EN\"\n",
       " \"http://www.w3.org/Graphics/SVG/1.1/DTD/svg11.dtd\">\n",
       "<!-- Generated by graphviz version 2.42.3 (20191010.1750)\n",
       " -->\n",
       "<!-- Title: %3 Pages: 1 -->\n",
       "<svg width=\"8pt\" height=\"8pt\"\n",
       " viewBox=\"0.00 0.00 8.00 8.00\" xmlns=\"http://www.w3.org/2000/svg\" xmlns:xlink=\"http://www.w3.org/1999/xlink\">\n",
       "<g id=\"graph0\" class=\"graph\" transform=\"scale(1 1) rotate(0) translate(4 4)\">\n",
       "<title>%3</title>\n",
       "<polygon fill=\"white\" stroke=\"transparent\" points=\"-4,4 -4,-4 4,-4 4,4 -4,4\"/>\n",
       "</g>\n",
       "</svg>\n"
      ],
      "text/plain": [
       "<graphviz.dot.Digraph at 0x20000fc84400>"
      ]
     },
     "execution_count": 126,
     "metadata": {},
     "output_type": "execute_result"
    }
   ],
   "source": [
    "dot"
   ]
  },
  {
   "cell_type": "code",
   "execution_count": 103,
   "metadata": {
    "tags": []
   },
   "outputs": [],
   "source": [
    "import graphviz\n",
    "dot = graphviz.Digraph()\n",
    "selected_indices = [0]\n",
    "for selected_index in selected_indices:\n",
    "    if len(independent_files) > selected_index:\n",
    "        selected_file = independent_files.index[selected_index]\n",
    "        io_access_rank = io_ddf[io_ddf['filename'] == selected_file].groupby(['app','func_id'])['func_id'].count().compute()\n",
    "        dot.node(selected_file)\n",
    "        for index,item in io_access_rank.iteritems():\n",
    "            rank = index[0]\n",
    "            func_id = index[1]\n",
    "            count = item\n",
    "            dot.node(str(rank))\n",
    "            dot.node(func_id)\n",
    "            dot.edge(str(rank),func_id)\n",
    "            if \"read\" in func_id:\n",
    "                dot.edge(selected_file, func_id, label=str(count))\n",
    "            else:\n",
    "                dot.edge(func_id,selected_file, label=str(count))"
   ]
  },
  {
   "cell_type": "code",
   "execution_count": 104,
   "metadata": {},
   "outputs": [
    {
     "data": {
      "image/svg+xml": [
       "<?xml version=\"1.0\" encoding=\"UTF-8\" standalone=\"no\"?>\n",
       "<!DOCTYPE svg PUBLIC \"-//W3C//DTD SVG 1.1//EN\"\n",
       " \"http://www.w3.org/Graphics/SVG/1.1/DTD/svg11.dtd\">\n",
       "<!-- Generated by graphviz version 2.42.3 (20191010.1750)\n",
       " -->\n",
       "<!-- Title: %3 Pages: 1 -->\n",
       "<svg width=\"8pt\" height=\"8pt\"\n",
       " viewBox=\"0.00 0.00 8.00 8.00\" xmlns=\"http://www.w3.org/2000/svg\" xmlns:xlink=\"http://www.w3.org/1999/xlink\">\n",
       "<g id=\"graph0\" class=\"graph\" transform=\"scale(1 1) rotate(0) translate(4 4)\">\n",
       "<title>%3</title>\n",
       "<polygon fill=\"white\" stroke=\"transparent\" points=\"-4,4 -4,-4 4,-4 4,4 -4,4\"/>\n",
       "</g>\n",
       "</svg>\n"
      ],
      "text/plain": [
       "<graphviz.dot.Digraph at 0x20042e67c2e0>"
      ]
     },
     "execution_count": 104,
     "metadata": {},
     "output_type": "execute_result"
    }
   ],
   "source": [
    "dot"
   ]
  },
  {
   "cell_type": "markdown",
   "metadata": {},
   "source": [
    "## Calculate Access Pattern\n",
    "- Calculate segment_index\n",
    "  - select file_ptr based on open flag\n",
    "  - update file_ptr based on operation\n",
    "  - do a cum_sum on file_ptr to calculate final file_ptr\n",
    "  - assign segment_index based on granularity (median transfer size)\n",
    "- isolate segment index into\n",
    "  - sequential flag if segment index is increasing\n",
    "  - consequitive flag if segment index is increasing and one after the other"
   ]
  },
  {
   "cell_type": "markdown",
   "metadata": {},
   "source": [
    "#### Persist the current version of I/O dataframe."
   ]
  },
  {
   "cell_type": "code",
   "execution_count": 105,
   "metadata": {
    "tags": []
   },
   "outputs": [],
   "source": [
    "io_ddf = io_ddf.persist()\n",
    "result = wait(io_ddf)"
   ]
  },
  {
   "cell_type": "markdown",
   "metadata": {},
   "source": [
    "### Select files which have no seeks and those which have"
   ]
  },
  {
   "cell_type": "code",
   "execution_count": 106,
   "metadata": {},
   "outputs": [
    {
     "name": "stdout",
     "output_type": "stream",
     "text": [
      "0 files have seek operations\n"
     ]
    }
   ],
   "source": [
    "files_with_seek = io_ddf[io_ddf['func_id'].str.contains('seek') & io_ddf['filename'].str.contains('/p/gpfs')]['filename'].unique().compute()\n",
    "print(\"{} files have seek operations\".format(len(files_with_seek)))"
   ]
  },
  {
   "cell_type": "code",
   "execution_count": 107,
   "metadata": {},
   "outputs": [
    {
     "data": {
      "text/plain": [
       "Series([], Name: filename, dtype: object)"
      ]
     },
     "execution_count": 107,
     "metadata": {},
     "output_type": "execute_result"
    }
   ],
   "source": [
    "files_with_seek"
   ]
  },
  {
   "cell_type": "code",
   "execution_count": 108,
   "metadata": {},
   "outputs": [
    {
     "data": {
      "text/plain": [
       "Series([], Name: filename, dtype: object)"
      ]
     },
     "execution_count": 108,
     "metadata": {},
     "output_type": "execute_result"
    }
   ],
   "source": [
    "all_filenames"
   ]
  },
  {
   "cell_type": "code",
   "execution_count": 109,
   "metadata": {},
   "outputs": [
    {
     "name": "stdout",
     "output_type": "stream",
     "text": [
      "0 files have no seek operations and hence are sequential\n"
     ]
    }
   ],
   "source": [
    "files_without_seek = set(all_filenames) - set(files_with_seek)\n",
    "print(\"{} files have no seek operations and hence are sequential\".format(len(files_without_seek)))"
   ]
  },
  {
   "cell_type": "code",
   "execution_count": null,
   "metadata": {},
   "outputs": [],
   "source": []
  },
  {
   "cell_type": "markdown",
   "metadata": {
    "tags": []
   },
   "source": [
    "### Per File Analysis\n",
    "- Total I/O amount\n",
    "- Total I/O time (average per process)\n",
    "- Average Bandwidth\n",
    "- I/O Request Distribution"
   ]
  },
  {
   "cell_type": "code",
   "execution_count": 110,
   "metadata": {},
   "outputs": [
    {
     "data": {
      "text/plain": [
       "filename\n",
       "/tmp/mummi/cg/mu12-1ras0raf-instance4_000000000001_20220124-140115/snapshot.000000500000/atoms#000000    56.174709\n",
       "/tmp/mummi/cg/mu12-1ras0raf-instance4_000000000010_20220124-132205/snapshot.000000500000/atoms#000000    56.135983\n",
       "/tmp/mummi/cg/mu12-1ras0raf-instance2_000000000005_20220124-135342/snapshot.000000500000/atoms#000000    56.112911\n",
       "/tmp/mummi/cg/mu12-1ras0raf-instance9_000000000004_20220124-135503/snapshot.000000500000/atoms#000000    56.094784\n",
       "/tmp/mummi/cg/mu12-1ras0raf-instance5_000000000002_20220124-132221/snapshot.000000500000/atoms#000000    56.013622\n",
       "Name: size, dtype: float64"
      ]
     },
     "execution_count": 110,
     "metadata": {},
     "output_type": "execute_result"
    }
   ],
   "source": [
    "per_file_size = io_ddf_read_write.groupby(['filename'])['size'].sum()\n",
    "per_file_size = per_file_size / 1024.0/1024.0\n",
    "per_file_size = per_file_size.sort_values(ascending=False)\n",
    "per_file_size.head(5)"
   ]
  },
  {
   "cell_type": "code",
   "execution_count": 111,
   "metadata": {},
   "outputs": [
    {
     "data": {
      "text/plain": [
       "filename\n",
       "/tmp/mummi/cg/mu12-1ras0raf-instance1_000000000001_20220124-135707/snapshot.000000500000/atoms#000000     0.019531\n",
       "/tmp/mummi/cg/mu12-1ras0raf-instance9_000000000008_20220124-135536/snapshot.000000500000/atoms#000000     0.019531\n",
       "/tmp/mummi/cg/mu12-1ras0raf-instance10_000000000010_20220124-131655/snapshot.000000500000/atoms#000000    0.015991\n",
       "/tmp/mummi/cg/mu12-1ras0raf-instance5_000000000003_20220124-135758/snapshot.000000500000/atoms#000000     0.015625\n",
       "/tmp/mummi/cg/mu12-1ras0raf-instance8_000000000004_20220124-135349/snapshot.000000500000/atoms#000000     0.015625\n",
       "Name: duration, dtype: float32"
      ]
     },
     "execution_count": 111,
     "metadata": {},
     "output_type": "execute_result"
    }
   ],
   "source": [
    "per_file_time = io_ddf_read_write.groupby(['filename'])['duration'].sum().sort_values(ascending=False)\n",
    "per_file_time.head(5)"
   ]
  },
  {
   "cell_type": "code",
   "execution_count": 112,
   "metadata": {},
   "outputs": [
    {
     "data": {
      "text/plain": [
       "filename\n",
       "/tmp/mummi/cg/mu12-1ras0raf-instance10_000000000001_20220124-135055/snapshot.000000025000/subset#000000    0.0\n",
       "/tmp/mummi/cg/mu12-1ras0raf-instance5_000000000002_20220124-132221/snapshot.000000500000/subset#000000     0.0\n",
       "/tmp/mummi/cg/mu12-1ras0raf-instance5_000000000003_20220124-135758/snapshot.000000025000/subset#000000     0.0\n",
       "/tmp/mummi/cg/mu12-1ras0raf-instance5_000000000003_20220124-135758/snapshot.000000050000/subset#000000     0.0\n",
       "/tmp/mummi/cg/mu12-1ras0raf-instance5_000000000003_20220124-135758/snapshot.000000075000/subset#000000     0.0\n",
       "Name: bandwidth, dtype: float64"
      ]
     },
     "execution_count": 112,
     "metadata": {},
     "output_type": "execute_result"
    }
   ],
   "source": [
    "per_file_bw = io_ddf_read_write.groupby(['filename'])['bandwidth'].sum().sort_values(ascending=True)\n",
    "per_file_bw.head(5)"
   ]
  },
  {
   "cell_type": "code",
   "execution_count": 113,
   "metadata": {},
   "outputs": [],
   "source": [
    "import graphviz\n",
    "dot = graphviz.Digraph()\n",
    "selected_indices = [0]\n",
    "for selected_index in selected_indices:\n",
    "    selected_file = per_file_size.index[selected_index]\n",
    "    io_access_rank = io_ddf[io_ddf['filename'] == selected_file].groupby(['app','func_id'])['func_id'].count().compute()\n",
    "    dot.node(selected_file)\n",
    "    for index,item in io_access_rank.iteritems():\n",
    "        rank = index[0]\n",
    "        func_id = index[1]\n",
    "        count = item\n",
    "        if \"read\" in func_id or \"write\" in func_id:\n",
    "            dot.node(str(rank))\n",
    "            dot.node(func_id)\n",
    "            dot.edge(str(rank),func_id)\n",
    "            if \"read\" in func_id:\n",
    "                dot.edge(selected_file, func_id, label=str(count))\n",
    "            elif \"write\" in func_id:\n",
    "                dot.edge(func_id,selected_file, label=str(count))"
   ]
  },
  {
   "cell_type": "code",
   "execution_count": 114,
   "metadata": {},
   "outputs": [
    {
     "data": {
      "image/svg+xml": [
       "<?xml version=\"1.0\" encoding=\"UTF-8\" standalone=\"no\"?>\n",
       "<!DOCTYPE svg PUBLIC \"-//W3C//DTD SVG 1.1//EN\"\n",
       " \"http://www.w3.org/Graphics/SVG/1.1/DTD/svg11.dtd\">\n",
       "<!-- Generated by graphviz version 2.42.3 (20191010.1750)\n",
       " -->\n",
       "<!-- Title: %3 Pages: 1 -->\n",
       "<svg width=\"1196pt\" height=\"291pt\"\n",
       " viewBox=\"0.00 0.00 1195.74 291.00\" xmlns=\"http://www.w3.org/2000/svg\" xmlns:xlink=\"http://www.w3.org/1999/xlink\">\n",
       "<g id=\"graph0\" class=\"graph\" transform=\"scale(1 1) rotate(0) translate(4 287)\">\n",
       "<title>%3</title>\n",
       "<polygon fill=\"white\" stroke=\"transparent\" points=\"-4,4 -4,-287 1191.74,-287 1191.74,4 -4,4\"/>\n",
       "<!-- /tmp/mummi/cg/mu12&#45;1ras0raf&#45;instance4_000000000001_20220124&#45;140115/snapshot.000000500000/atoms#000000 -->\n",
       "<g id=\"node1\" class=\"node\">\n",
       "<title>/tmp/mummi/cg/mu12&#45;1ras0raf&#45;instance4_000000000001_20220124&#45;140115/snapshot.000000500000/atoms#000000</title>\n",
       "<ellipse fill=\"none\" stroke=\"black\" cx=\"560.9\" cy=\"-105\" rx=\"560.8\" ry=\"18\"/>\n",
       "<text text-anchor=\"middle\" x=\"560.9\" y=\"-101.3\" font-family=\"Times,serif\" font-size=\"14.00\">/tmp/mummi/cg/mu12&#45;1ras0raf&#45;instance4_000000000001_20220124&#45;140115/snapshot.000000500000/atoms#000000</text>\n",
       "</g>\n",
       "<!-- fread -->\n",
       "<g id=\"node4\" class=\"node\">\n",
       "<title>fread</title>\n",
       "<ellipse fill=\"none\" stroke=\"black\" cx=\"854.9\" cy=\"-18\" rx=\"35.19\" ry=\"18\"/>\n",
       "<text text-anchor=\"middle\" x=\"854.9\" y=\"-14.3\" font-family=\"Times,serif\" font-size=\"14.00\">fread</text>\n",
       "</g>\n",
       "<!-- /tmp/mummi/cg/mu12&#45;1ras0raf&#45;instance4_000000000001_20220124&#45;140115/snapshot.000000500000/atoms#000000&#45;&gt;fread -->\n",
       "<g id=\"edge4\" class=\"edge\">\n",
       "<title>/tmp/mummi/cg/mu12&#45;1ras0raf&#45;instance4_000000000001_20220124&#45;140115/snapshot.000000500000/atoms#000000&#45;&gt;fread</title>\n",
       "<path fill=\"none\" stroke=\"black\" d=\"M619.69,-87C677.69,-70.23 764.78,-45.06 815.11,-30.5\"/>\n",
       "<polygon fill=\"black\" stroke=\"black\" points=\"816.33,-33.79 824.97,-27.65 814.39,-27.07 816.33,-33.79\"/>\n",
       "<text text-anchor=\"middle\" x=\"729.9\" y=\"-57.8\" font-family=\"Times,serif\" font-size=\"14.00\">1</text>\n",
       "</g>\n",
       "<!-- ddcMD_GPU -->\n",
       "<g id=\"node2\" class=\"node\">\n",
       "<title>ddcMD_GPU</title>\n",
       "<ellipse fill=\"none\" stroke=\"black\" cx=\"1116.9\" cy=\"-265\" rx=\"70.69\" ry=\"18\"/>\n",
       "<text text-anchor=\"middle\" x=\"1116.9\" y=\"-261.3\" font-family=\"Times,serif\" font-size=\"14.00\">ddcMD_GPU</text>\n",
       "</g>\n",
       "<!-- fwrite -->\n",
       "<g id=\"node3\" class=\"node\">\n",
       "<title>fwrite</title>\n",
       "<ellipse fill=\"none\" stroke=\"black\" cx=\"952.9\" cy=\"-192\" rx=\"38.19\" ry=\"18\"/>\n",
       "<text text-anchor=\"middle\" x=\"952.9\" y=\"-188.3\" font-family=\"Times,serif\" font-size=\"14.00\">fwrite</text>\n",
       "</g>\n",
       "<!-- ddcMD_GPU&#45;&gt;fwrite -->\n",
       "<g id=\"edge1\" class=\"edge\">\n",
       "<title>ddcMD_GPU&#45;&gt;fwrite</title>\n",
       "<path fill=\"none\" stroke=\"black\" d=\"M1082.52,-249.12C1055.3,-237.33 1017.36,-220.91 989.56,-208.87\"/>\n",
       "<polygon fill=\"black\" stroke=\"black\" points=\"990.75,-205.57 980.19,-204.81 987.97,-212 990.75,-205.57\"/>\n",
       "</g>\n",
       "<!-- ddcMD_GPU&#45;&gt;fread -->\n",
       "<g id=\"edge3\" class=\"edge\">\n",
       "<title>ddcMD_GPU&#45;&gt;fread</title>\n",
       "<path fill=\"none\" stroke=\"black\" d=\"M1125.1,-246.96C1140.3,-212.65 1168.07,-134.44 1130.9,-87 1102.64,-50.93 970.13,-31.41 899.5,-23.41\"/>\n",
       "<polygon fill=\"black\" stroke=\"black\" points=\"899.45,-19.88 889.13,-22.26 898.69,-26.84 899.45,-19.88\"/>\n",
       "</g>\n",
       "<!-- fwrite&#45;&gt;/tmp/mummi/cg/mu12&#45;1ras0raf&#45;instance4_000000000001_20220124&#45;140115/snapshot.000000500000/atoms#000000 -->\n",
       "<g id=\"edge2\" class=\"edge\">\n",
       "<title>fwrite&#45;&gt;/tmp/mummi/cg/mu12&#45;1ras0raf&#45;instance4_000000000001_20220124&#45;140115/snapshot.000000500000/atoms#000000</title>\n",
       "<path fill=\"none\" stroke=\"black\" d=\"M918.8,-183.61C859.13,-170.67 734.04,-143.54 648.74,-125.05\"/>\n",
       "<polygon fill=\"black\" stroke=\"black\" points=\"649.32,-121.59 638.8,-122.89 647.83,-128.43 649.32,-121.59\"/>\n",
       "<text text-anchor=\"middle\" x=\"784.9\" y=\"-144.8\" font-family=\"Times,serif\" font-size=\"14.00\">1</text>\n",
       "</g>\n",
       "</g>\n",
       "</svg>\n"
      ],
      "text/plain": [
       "<graphviz.dot.Digraph at 0x2000cf12e3a0>"
      ]
     },
     "execution_count": 114,
     "metadata": {},
     "output_type": "execute_result"
    }
   ],
   "source": [
    "dot"
   ]
  },
  {
   "cell_type": "code",
   "execution_count": 115,
   "metadata": {},
   "outputs": [],
   "source": [
    "import graphviz\n",
    "dot = graphviz.Digraph()\n",
    "selected_indices = [0]\n",
    "for selected_index in selected_indices:\n",
    "    selected_file = per_file_time.index[selected_index]\n",
    "    io_access_rank = io_ddf[io_ddf['filename'] == selected_file].groupby(['app','func_id'])['func_id'].count().compute()\n",
    "    dot.node(selected_file)\n",
    "    for index,item in io_access_rank.iteritems():\n",
    "        rank = index[0]\n",
    "        func_id = index[1]\n",
    "        count = item\n",
    "        dot.node(str(rank))\n",
    "        dot.node(func_id)\n",
    "        dot.edge(str(rank),func_id)\n",
    "        if \"read\" in func_id:\n",
    "            dot.edge(selected_file, func_id, label=str(count))\n",
    "        else:\n",
    "            dot.edge(func_id,selected_file, label=str(count))"
   ]
  },
  {
   "cell_type": "code",
   "execution_count": 116,
   "metadata": {},
   "outputs": [
    {
     "data": {
      "image/svg+xml": [
       "<?xml version=\"1.0\" encoding=\"UTF-8\" standalone=\"no\"?>\n",
       "<!DOCTYPE svg PUBLIC \"-//W3C//DTD SVG 1.1//EN\"\n",
       " \"http://www.w3.org/Graphics/SVG/1.1/DTD/svg11.dtd\">\n",
       "<!-- Generated by graphviz version 2.42.3 (20191010.1750)\n",
       " -->\n",
       "<!-- Title: %3 Pages: 1 -->\n",
       "<svg width=\"1150pt\" height=\"291pt\"\n",
       " viewBox=\"0.00 0.00 1150.35 291.00\" xmlns=\"http://www.w3.org/2000/svg\" xmlns:xlink=\"http://www.w3.org/1999/xlink\">\n",
       "<g id=\"graph0\" class=\"graph\" transform=\"scale(1 1) rotate(0) translate(4 287)\">\n",
       "<title>%3</title>\n",
       "<polygon fill=\"white\" stroke=\"transparent\" points=\"-4,4 -4,-287 1146.35,-287 1146.35,4 -4,4\"/>\n",
       "<!-- /tmp/mummi/cg/mu12&#45;1ras0raf&#45;instance1_000000000001_20220124&#45;135707/snapshot.000000500000/atoms#000000 -->\n",
       "<g id=\"node1\" class=\"node\">\n",
       "<title>/tmp/mummi/cg/mu12&#45;1ras0raf&#45;instance1_000000000001_20220124&#45;135707/snapshot.000000500000/atoms#000000</title>\n",
       "<ellipse fill=\"none\" stroke=\"black\" cx=\"560.9\" cy=\"-105\" rx=\"560.8\" ry=\"18\"/>\n",
       "<text text-anchor=\"middle\" x=\"560.9\" y=\"-101.3\" font-family=\"Times,serif\" font-size=\"14.00\">/tmp/mummi/cg/mu12&#45;1ras0raf&#45;instance1_000000000001_20220124&#45;135707/snapshot.000000500000/atoms#000000</text>\n",
       "</g>\n",
       "<!-- fread -->\n",
       "<g id=\"node6\" class=\"node\">\n",
       "<title>fread</title>\n",
       "<ellipse fill=\"none\" stroke=\"black\" cx=\"854.9\" cy=\"-18\" rx=\"35.19\" ry=\"18\"/>\n",
       "<text text-anchor=\"middle\" x=\"854.9\" y=\"-14.3\" font-family=\"Times,serif\" font-size=\"14.00\">fread</text>\n",
       "</g>\n",
       "<!-- /tmp/mummi/cg/mu12&#45;1ras0raf&#45;instance1_000000000001_20220124&#45;135707/snapshot.000000500000/atoms#000000&#45;&gt;fread -->\n",
       "<g id=\"edge8\" class=\"edge\">\n",
       "<title>/tmp/mummi/cg/mu12&#45;1ras0raf&#45;instance1_000000000001_20220124&#45;135707/snapshot.000000500000/atoms#000000&#45;&gt;fread</title>\n",
       "<path fill=\"none\" stroke=\"black\" d=\"M619.69,-87C677.69,-70.23 764.78,-45.06 815.11,-30.5\"/>\n",
       "<polygon fill=\"black\" stroke=\"black\" points=\"816.33,-33.79 824.97,-27.65 814.39,-27.07 816.33,-33.79\"/>\n",
       "<text text-anchor=\"middle\" x=\"729.9\" y=\"-57.8\" font-family=\"Times,serif\" font-size=\"14.00\">1</text>\n",
       "</g>\n",
       "<!-- ddcMD_GPU -->\n",
       "<g id=\"node2\" class=\"node\">\n",
       "<title>ddcMD_GPU</title>\n",
       "<ellipse fill=\"none\" stroke=\"black\" cx=\"651.9\" cy=\"-265\" rx=\"70.69\" ry=\"18\"/>\n",
       "<text text-anchor=\"middle\" x=\"651.9\" y=\"-261.3\" font-family=\"Times,serif\" font-size=\"14.00\">ddcMD_GPU</text>\n",
       "</g>\n",
       "<!-- fclose -->\n",
       "<g id=\"node3\" class=\"node\">\n",
       "<title>fclose</title>\n",
       "<ellipse fill=\"none\" stroke=\"black\" cx=\"482.9\" cy=\"-192\" rx=\"38.19\" ry=\"18\"/>\n",
       "<text text-anchor=\"middle\" x=\"482.9\" y=\"-188.3\" font-family=\"Times,serif\" font-size=\"14.00\">fclose</text>\n",
       "</g>\n",
       "<!-- ddcMD_GPU&#45;&gt;fclose -->\n",
       "<g id=\"edge1\" class=\"edge\">\n",
       "<title>ddcMD_GPU&#45;&gt;fclose</title>\n",
       "<path fill=\"none\" stroke=\"black\" d=\"M616.88,-249.29C588.57,-237.39 548.8,-220.69 519.95,-208.57\"/>\n",
       "<polygon fill=\"black\" stroke=\"black\" points=\"521.2,-205.29 510.62,-204.65 518.48,-211.75 521.2,-205.29\"/>\n",
       "</g>\n",
       "<!-- fopen64 -->\n",
       "<g id=\"node4\" class=\"node\">\n",
       "<title>fopen64</title>\n",
       "<ellipse fill=\"none\" stroke=\"black\" cx=\"586.9\" cy=\"-192\" rx=\"48.19\" ry=\"18\"/>\n",
       "<text text-anchor=\"middle\" x=\"586.9\" y=\"-188.3\" font-family=\"Times,serif\" font-size=\"14.00\">fopen64</text>\n",
       "</g>\n",
       "<!-- ddcMD_GPU&#45;&gt;fopen64 -->\n",
       "<g id=\"edge3\" class=\"edge\">\n",
       "<title>ddcMD_GPU&#45;&gt;fopen64</title>\n",
       "<path fill=\"none\" stroke=\"black\" d=\"M636.5,-247.17C628.2,-238.11 617.83,-226.79 608.72,-216.83\"/>\n",
       "<polygon fill=\"black\" stroke=\"black\" points=\"611.08,-214.23 601.75,-209.22 605.92,-218.96 611.08,-214.23\"/>\n",
       "</g>\n",
       "<!-- fwrite -->\n",
       "<g id=\"node5\" class=\"node\">\n",
       "<title>fwrite</title>\n",
       "<ellipse fill=\"none\" stroke=\"black\" cx=\"690.9\" cy=\"-192\" rx=\"38.19\" ry=\"18\"/>\n",
       "<text text-anchor=\"middle\" x=\"690.9\" y=\"-188.3\" font-family=\"Times,serif\" font-size=\"14.00\">fwrite</text>\n",
       "</g>\n",
       "<!-- ddcMD_GPU&#45;&gt;fwrite -->\n",
       "<g id=\"edge5\" class=\"edge\">\n",
       "<title>ddcMD_GPU&#45;&gt;fwrite</title>\n",
       "<path fill=\"none\" stroke=\"black\" d=\"M661.34,-246.81C666.01,-238.32 671.73,-227.9 676.9,-218.49\"/>\n",
       "<polygon fill=\"black\" stroke=\"black\" points=\"680.07,-219.99 681.81,-209.54 673.93,-216.62 680.07,-219.99\"/>\n",
       "</g>\n",
       "<!-- ddcMD_GPU&#45;&gt;fread -->\n",
       "<g id=\"edge7\" class=\"edge\">\n",
       "<title>ddcMD_GPU&#45;&gt;fread</title>\n",
       "<path fill=\"none\" stroke=\"black\" d=\"M711.91,-255.33C828.85,-237.06 1080.27,-190.68 1130.9,-123 1191.67,-41.77 993.08,-23.98 900.17,-20.09\"/>\n",
       "<polygon fill=\"black\" stroke=\"black\" points=\"900.05,-16.58 889.92,-19.7 899.78,-23.58 900.05,-16.58\"/>\n",
       "</g>\n",
       "<!-- fclose&#45;&gt;/tmp/mummi/cg/mu12&#45;1ras0raf&#45;instance1_000000000001_20220124&#45;135707/snapshot.000000500000/atoms#000000 -->\n",
       "<g id=\"edge2\" class=\"edge\">\n",
       "<title>fclose&#45;&gt;/tmp/mummi/cg/mu12&#45;1ras0raf&#45;instance1_000000000001_20220124&#45;135707/snapshot.000000500000/atoms#000000</title>\n",
       "<path fill=\"none\" stroke=\"black\" d=\"M497.57,-175.01C509.04,-162.51 525.18,-144.92 538.3,-130.63\"/>\n",
       "<polygon fill=\"black\" stroke=\"black\" points=\"541.04,-132.82 545.22,-123.08 535.88,-128.08 541.04,-132.82\"/>\n",
       "<text text-anchor=\"middle\" x=\"531.9\" y=\"-144.8\" font-family=\"Times,serif\" font-size=\"14.00\">3</text>\n",
       "</g>\n",
       "<!-- fopen64&#45;&gt;/tmp/mummi/cg/mu12&#45;1ras0raf&#45;instance1_000000000001_20220124&#45;135707/snapshot.000000500000/atoms#000000 -->\n",
       "<g id=\"edge4\" class=\"edge\">\n",
       "<title>fopen64&#45;&gt;/tmp/mummi/cg/mu12&#45;1ras0raf&#45;instance1_000000000001_20220124&#45;135707/snapshot.000000500000/atoms#000000</title>\n",
       "<path fill=\"none\" stroke=\"black\" d=\"M581.64,-173.8C578.04,-162.05 573.21,-146.24 569.11,-132.84\"/>\n",
       "<polygon fill=\"black\" stroke=\"black\" points=\"572.43,-131.71 566.15,-123.18 565.73,-133.76 572.43,-131.71\"/>\n",
       "<text text-anchor=\"middle\" x=\"580.9\" y=\"-144.8\" font-family=\"Times,serif\" font-size=\"14.00\">3</text>\n",
       "</g>\n",
       "<!-- fwrite&#45;&gt;/tmp/mummi/cg/mu12&#45;1ras0raf&#45;instance1_000000000001_20220124&#45;135707/snapshot.000000500000/atoms#000000 -->\n",
       "<g id=\"edge6\" class=\"edge\">\n",
       "<title>fwrite&#45;&gt;/tmp/mummi/cg/mu12&#45;1ras0raf&#45;instance1_000000000001_20220124&#45;135707/snapshot.000000500000/atoms#000000</title>\n",
       "<path fill=\"none\" stroke=\"black\" d=\"M669.43,-176.96C649.35,-163.84 619.02,-144 595.52,-128.63\"/>\n",
       "<polygon fill=\"black\" stroke=\"black\" points=\"597.17,-125.53 586.88,-122.99 593.33,-131.39 597.17,-125.53\"/>\n",
       "<text text-anchor=\"middle\" x=\"637.9\" y=\"-144.8\" font-family=\"Times,serif\" font-size=\"14.00\">1</text>\n",
       "</g>\n",
       "</g>\n",
       "</svg>\n"
      ],
      "text/plain": [
       "<graphviz.dot.Digraph at 0x20005d43a3a0>"
      ]
     },
     "execution_count": 116,
     "metadata": {},
     "output_type": "execute_result"
    }
   ],
   "source": [
    "dot"
   ]
  },
  {
   "cell_type": "code",
   "execution_count": 117,
   "metadata": {},
   "outputs": [],
   "source": [
    "import graphviz\n",
    "dot = graphviz.Digraph()\n",
    "selected_indices = range(5)\n",
    "for selected_index in selected_indices:\n",
    "    selected_file = per_file_bw.index[selected_index]\n",
    "    io_access_rank = io_ddf[io_ddf['filename'] == selected_file].groupby(['app','func_id'])['func_id'].count().compute()\n",
    "    dot.node(selected_file)\n",
    "    for index,item in io_access_rank.iteritems():\n",
    "        rank = index[0]\n",
    "        func_id = index[1]\n",
    "        count = item\n",
    "        dot.node(str(rank))\n",
    "        dot.node(func_id)\n",
    "        dot.edge(str(rank),func_id)\n",
    "        if \"read\" in func_id:\n",
    "            dot.edge(selected_file, func_id, label=str(count))\n",
    "        else:\n",
    "            dot.edge(func_id,selected_file, label=str(count))"
   ]
  },
  {
   "cell_type": "code",
   "execution_count": 118,
   "metadata": {},
   "outputs": [
    {
     "data": {
      "image/svg+xml": [
       "<?xml version=\"1.0\" encoding=\"UTF-8\" standalone=\"no\"?>\n",
       "<!DOCTYPE svg PUBLIC \"-//W3C//DTD SVG 1.1//EN\"\n",
       " \"http://www.w3.org/Graphics/SVG/1.1/DTD/svg11.dtd\">\n",
       "<!-- Generated by graphviz version 2.42.3 (20191010.1750)\n",
       " -->\n",
       "<!-- Title: %3 Pages: 1 -->\n",
       "<svg width=\"5722pt\" height=\"204pt\"\n",
       " viewBox=\"0.00 0.00 5721.70 204.00\" xmlns=\"http://www.w3.org/2000/svg\" xmlns:xlink=\"http://www.w3.org/1999/xlink\">\n",
       "<g id=\"graph0\" class=\"graph\" transform=\"scale(1 1) rotate(0) translate(4 200)\">\n",
       "<title>%3</title>\n",
       "<polygon fill=\"white\" stroke=\"transparent\" points=\"-4,4 -4,-200 5717.7,-200 5717.7,4 -4,4\"/>\n",
       "<!-- /tmp/mummi/cg/mu12&#45;1ras0raf&#45;instance10_000000000001_20220124&#45;135055/snapshot.000000025000/subset#000000 -->\n",
       "<g id=\"node1\" class=\"node\">\n",
       "<title>/tmp/mummi/cg/mu12&#45;1ras0raf&#45;instance10_000000000001_20220124&#45;135055/snapshot.000000025000/subset#000000</title>\n",
       "<ellipse fill=\"none\" stroke=\"black\" cx=\"2856.85\" cy=\"-18\" rx=\"568.9\" ry=\"18\"/>\n",
       "<text text-anchor=\"middle\" x=\"2856.85\" y=\"-14.3\" font-family=\"Times,serif\" font-size=\"14.00\">/tmp/mummi/cg/mu12&#45;1ras0raf&#45;instance10_000000000001_20220124&#45;135055/snapshot.000000025000/subset#000000</text>\n",
       "</g>\n",
       "<!-- ddcMD_GPU -->\n",
       "<g id=\"node2\" class=\"node\">\n",
       "<title>ddcMD_GPU</title>\n",
       "<ellipse fill=\"none\" stroke=\"black\" cx=\"2884.85\" cy=\"-178\" rx=\"70.69\" ry=\"18\"/>\n",
       "<text text-anchor=\"middle\" x=\"2884.85\" y=\"-174.3\" font-family=\"Times,serif\" font-size=\"14.00\">ddcMD_GPU</text>\n",
       "</g>\n",
       "<!-- fclose -->\n",
       "<g id=\"node3\" class=\"node\">\n",
       "<title>fclose</title>\n",
       "<ellipse fill=\"none\" stroke=\"black\" cx=\"2780.85\" cy=\"-105\" rx=\"38.19\" ry=\"18\"/>\n",
       "<text text-anchor=\"middle\" x=\"2780.85\" y=\"-101.3\" font-family=\"Times,serif\" font-size=\"14.00\">fclose</text>\n",
       "</g>\n",
       "<!-- ddcMD_GPU&#45;&gt;fclose -->\n",
       "<g id=\"edge1\" class=\"edge\">\n",
       "<title>ddcMD_GPU&#45;&gt;fclose</title>\n",
       "<path fill=\"none\" stroke=\"black\" d=\"M2842.97,-163.31C2823.88,-153.83 2803.77,-140.97 2790.1,-129.83\"/>\n",
       "<polygon fill=\"black\" stroke=\"black\" points=\"2792.32,-127.12 2782.49,-123.16 2787.7,-132.39 2792.32,-127.12\"/>\n",
       "</g>\n",
       "<!-- ddcMD_GPU&#45;&gt;fclose -->\n",
       "<g id=\"edge7\" class=\"edge\">\n",
       "<title>ddcMD_GPU&#45;&gt;fclose</title>\n",
       "<path fill=\"none\" stroke=\"black\" d=\"M2851.52,-161.94C2834.87,-152.21 2815.6,-139.37 2801.07,-128.44\"/>\n",
       "<polygon fill=\"black\" stroke=\"black\" points=\"2803.17,-125.64 2793.13,-122.27 2798.88,-131.17 2803.17,-125.64\"/>\n",
       "</g>\n",
       "<!-- ddcMD_GPU&#45;&gt;fclose -->\n",
       "<g id=\"edge13\" class=\"edge\">\n",
       "<title>ddcMD_GPU&#45;&gt;fclose</title>\n",
       "<path fill=\"none\" stroke=\"black\" d=\"M2861.25,-160.89C2846.18,-150.6 2826.52,-137.18 2810.42,-126.19\"/>\n",
       "<polygon fill=\"black\" stroke=\"black\" points=\"2812.12,-123.11 2801.89,-120.36 2808.17,-128.89 2812.12,-123.11\"/>\n",
       "</g>\n",
       "<!-- ddcMD_GPU&#45;&gt;fclose -->\n",
       "<g id=\"edge19\" class=\"edge\">\n",
       "<title>ddcMD_GPU&#45;&gt;fclose</title>\n",
       "<path fill=\"none\" stroke=\"black\" d=\"M2871.88,-160.17C2857.82,-148.92 2836.2,-134.16 2817.28,-122.89\"/>\n",
       "<polygon fill=\"black\" stroke=\"black\" points=\"2818.94,-119.8 2808.53,-117.82 2815.43,-125.86 2818.94,-119.8\"/>\n",
       "</g>\n",
       "<!-- ddcMD_GPU&#45;&gt;fclose -->\n",
       "<g id=\"edge25\" class=\"edge\">\n",
       "<title>ddcMD_GPU&#45;&gt;fclose</title>\n",
       "<path fill=\"none\" stroke=\"black\" d=\"M2883.19,-159.81C2870.15,-147.35 2845.18,-130.74 2821.92,-119.29\"/>\n",
       "<polygon fill=\"black\" stroke=\"black\" points=\"2823.32,-116.08 2812.78,-115.02 2820.36,-122.42 2823.32,-116.08\"/>\n",
       "</g>\n",
       "<!-- fopen64 -->\n",
       "<g id=\"node4\" class=\"node\">\n",
       "<title>fopen64</title>\n",
       "<ellipse fill=\"none\" stroke=\"black\" cx=\"2884.85\" cy=\"-105\" rx=\"48.19\" ry=\"18\"/>\n",
       "<text text-anchor=\"middle\" x=\"2884.85\" y=\"-101.3\" font-family=\"Times,serif\" font-size=\"14.00\">fopen64</text>\n",
       "</g>\n",
       "<!-- ddcMD_GPU&#45;&gt;fopen64 -->\n",
       "<g id=\"edge3\" class=\"edge\">\n",
       "<title>ddcMD_GPU&#45;&gt;fopen64</title>\n",
       "<path fill=\"none\" stroke=\"black\" d=\"M2861.81,-160.89C2857.73,-151.93 2856.8,-140.59 2859.03,-130.55\"/>\n",
       "<polygon fill=\"black\" stroke=\"black\" points=\"2862.34,-131.67 2862.3,-121.08 2855.72,-129.39 2862.34,-131.67\"/>\n",
       "</g>\n",
       "<!-- ddcMD_GPU&#45;&gt;fopen64 -->\n",
       "<g id=\"edge9\" class=\"edge\">\n",
       "<title>ddcMD_GPU&#45;&gt;fopen64</title>\n",
       "<path fill=\"none\" stroke=\"black\" d=\"M2873.17,-160.17C2871.4,-151.95 2870.92,-141.86 2871.73,-132.62\"/>\n",
       "<polygon fill=\"black\" stroke=\"black\" points=\"2875.2,-133.11 2873.2,-122.71 2868.27,-132.09 2875.2,-133.11\"/>\n",
       "</g>\n",
       "<!-- ddcMD_GPU&#45;&gt;fopen64 -->\n",
       "<g id=\"edge15\" class=\"edge\">\n",
       "<title>ddcMD_GPU&#45;&gt;fopen64</title>\n",
       "<path fill=\"none\" stroke=\"black\" d=\"M2884.85,-159.81C2884.85,-151.79 2884.85,-142.05 2884.85,-133.07\"/>\n",
       "<polygon fill=\"black\" stroke=\"black\" points=\"2888.35,-133.03 2884.85,-123.03 2881.35,-133.03 2888.35,-133.03\"/>\n",
       "</g>\n",
       "<!-- ddcMD_GPU&#45;&gt;fopen64 -->\n",
       "<g id=\"edge21\" class=\"edge\">\n",
       "<title>ddcMD_GPU&#45;&gt;fopen64</title>\n",
       "<path fill=\"none\" stroke=\"black\" d=\"M2896.53,-160.17C2898.3,-151.95 2898.78,-141.86 2897.97,-132.62\"/>\n",
       "<polygon fill=\"black\" stroke=\"black\" points=\"2901.43,-132.09 2896.5,-122.71 2894.5,-133.11 2901.43,-132.09\"/>\n",
       "</g>\n",
       "<!-- ddcMD_GPU&#45;&gt;fopen64 -->\n",
       "<g id=\"edge27\" class=\"edge\">\n",
       "<title>ddcMD_GPU&#45;&gt;fopen64</title>\n",
       "<path fill=\"none\" stroke=\"black\" d=\"M2907.89,-160.89C2911.97,-151.93 2912.9,-140.59 2910.67,-130.55\"/>\n",
       "<polygon fill=\"black\" stroke=\"black\" points=\"2913.98,-129.39 2907.4,-121.08 2907.36,-131.67 2913.98,-129.39\"/>\n",
       "</g>\n",
       "<!-- fwrite -->\n",
       "<g id=\"node5\" class=\"node\">\n",
       "<title>fwrite</title>\n",
       "<ellipse fill=\"none\" stroke=\"black\" cx=\"2988.85\" cy=\"-105\" rx=\"38.19\" ry=\"18\"/>\n",
       "<text text-anchor=\"middle\" x=\"2988.85\" y=\"-101.3\" font-family=\"Times,serif\" font-size=\"14.00\">fwrite</text>\n",
       "</g>\n",
       "<!-- ddcMD_GPU&#45;&gt;fwrite -->\n",
       "<g id=\"edge5\" class=\"edge\">\n",
       "<title>ddcMD_GPU&#45;&gt;fwrite</title>\n",
       "<path fill=\"none\" stroke=\"black\" d=\"M2886.51,-159.81C2899.55,-147.35 2924.52,-130.74 2947.78,-119.29\"/>\n",
       "<polygon fill=\"black\" stroke=\"black\" points=\"2949.34,-122.42 2956.92,-115.02 2946.38,-116.08 2949.34,-122.42\"/>\n",
       "</g>\n",
       "<!-- ddcMD_GPU&#45;&gt;fwrite -->\n",
       "<g id=\"edge11\" class=\"edge\">\n",
       "<title>ddcMD_GPU&#45;&gt;fwrite</title>\n",
       "<path fill=\"none\" stroke=\"black\" d=\"M2897.82,-160.17C2911.88,-148.92 2933.5,-134.16 2952.42,-122.89\"/>\n",
       "<polygon fill=\"black\" stroke=\"black\" points=\"2954.27,-125.86 2961.17,-117.82 2950.76,-119.8 2954.27,-125.86\"/>\n",
       "</g>\n",
       "<!-- ddcMD_GPU&#45;&gt;fwrite -->\n",
       "<g id=\"edge17\" class=\"edge\">\n",
       "<title>ddcMD_GPU&#45;&gt;fwrite</title>\n",
       "<path fill=\"none\" stroke=\"black\" d=\"M2908.45,-160.89C2923.52,-150.6 2943.18,-137.18 2959.28,-126.19\"/>\n",
       "<polygon fill=\"black\" stroke=\"black\" points=\"2961.53,-128.89 2967.81,-120.36 2957.58,-123.11 2961.53,-128.89\"/>\n",
       "</g>\n",
       "<!-- ddcMD_GPU&#45;&gt;fwrite -->\n",
       "<g id=\"edge23\" class=\"edge\">\n",
       "<title>ddcMD_GPU&#45;&gt;fwrite</title>\n",
       "<path fill=\"none\" stroke=\"black\" d=\"M2918.18,-161.94C2934.83,-152.21 2954.1,-139.37 2968.63,-128.44\"/>\n",
       "<polygon fill=\"black\" stroke=\"black\" points=\"2970.82,-131.17 2976.57,-122.27 2966.53,-125.64 2970.82,-131.17\"/>\n",
       "</g>\n",
       "<!-- ddcMD_GPU&#45;&gt;fwrite -->\n",
       "<g id=\"edge29\" class=\"edge\">\n",
       "<title>ddcMD_GPU&#45;&gt;fwrite</title>\n",
       "<path fill=\"none\" stroke=\"black\" d=\"M2926.73,-163.31C2945.82,-153.83 2965.93,-140.97 2979.6,-129.83\"/>\n",
       "<polygon fill=\"black\" stroke=\"black\" points=\"2982,-132.39 2987.21,-123.16 2977.38,-127.12 2982,-132.39\"/>\n",
       "</g>\n",
       "<!-- fclose&#45;&gt;/tmp/mummi/cg/mu12&#45;1ras0raf&#45;instance10_000000000001_20220124&#45;135055/snapshot.000000025000/subset#000000 -->\n",
       "<g id=\"edge2\" class=\"edge\">\n",
       "<title>fclose&#45;&gt;/tmp/mummi/cg/mu12&#45;1ras0raf&#45;instance10_000000000001_20220124&#45;135055/snapshot.000000025000/subset#000000</title>\n",
       "<path fill=\"none\" stroke=\"black\" d=\"M2795.15,-88.01C2806.32,-75.51 2822.05,-57.92 2834.83,-43.63\"/>\n",
       "<polygon fill=\"black\" stroke=\"black\" points=\"2837.52,-45.87 2841.58,-36.08 2832.3,-41.2 2837.52,-45.87\"/>\n",
       "<text text-anchor=\"middle\" x=\"2827.85\" y=\"-57.8\" font-family=\"Times,serif\" font-size=\"14.00\">1</text>\n",
       "</g>\n",
       "<!-- /tmp/mummi/cg/mu12&#45;1ras0raf&#45;instance5_000000000002_20220124&#45;132221/snapshot.000000500000/subset#000000 -->\n",
       "<g id=\"node6\" class=\"node\">\n",
       "<title>/tmp/mummi/cg/mu12&#45;1ras0raf&#45;instance5_000000000002_20220124&#45;132221/snapshot.000000500000/subset#000000</title>\n",
       "<ellipse fill=\"none\" stroke=\"black\" cx=\"562.85\" cy=\"-18\" rx=\"562.7\" ry=\"18\"/>\n",
       "<text text-anchor=\"middle\" x=\"562.85\" y=\"-14.3\" font-family=\"Times,serif\" font-size=\"14.00\">/tmp/mummi/cg/mu12&#45;1ras0raf&#45;instance5_000000000002_20220124&#45;132221/snapshot.000000500000/subset#000000</text>\n",
       "</g>\n",
       "<!-- fclose&#45;&gt;/tmp/mummi/cg/mu12&#45;1ras0raf&#45;instance5_000000000002_20220124&#45;132221/snapshot.000000500000/subset#000000 -->\n",
       "<g id=\"edge8\" class=\"edge\">\n",
       "<title>fclose&#45;&gt;/tmp/mummi/cg/mu12&#45;1ras0raf&#45;instance5_000000000002_20220124&#45;132221/snapshot.000000500000/subset#000000</title>\n",
       "<path fill=\"none\" stroke=\"black\" d=\"M2742.55,-103.34C2586.67,-100.56 1984.68,-89.05 1489.85,-69 1263.72,-59.84 1006.77,-45.68 820.83,-34.77\"/>\n",
       "<polygon fill=\"black\" stroke=\"black\" points=\"820.83,-31.26 810.64,-34.17 820.42,-38.25 820.83,-31.26\"/>\n",
       "<text text-anchor=\"middle\" x=\"1494.85\" y=\"-57.8\" font-family=\"Times,serif\" font-size=\"14.00\">1</text>\n",
       "</g>\n",
       "<!-- /tmp/mummi/cg/mu12&#45;1ras0raf&#45;instance5_000000000003_20220124&#45;135758/snapshot.000000025000/subset#000000 -->\n",
       "<g id=\"node7\" class=\"node\">\n",
       "<title>/tmp/mummi/cg/mu12&#45;1ras0raf&#45;instance5_000000000003_20220124&#45;135758/snapshot.000000025000/subset#000000</title>\n",
       "<ellipse fill=\"none\" stroke=\"black\" cx=\"4006.85\" cy=\"-18\" rx=\"562.7\" ry=\"18\"/>\n",
       "<text text-anchor=\"middle\" x=\"4006.85\" y=\"-14.3\" font-family=\"Times,serif\" font-size=\"14.00\">/tmp/mummi/cg/mu12&#45;1ras0raf&#45;instance5_000000000003_20220124&#45;135758/snapshot.000000025000/subset#000000</text>\n",
       "</g>\n",
       "<!-- fclose&#45;&gt;/tmp/mummi/cg/mu12&#45;1ras0raf&#45;instance5_000000000003_20220124&#45;135758/snapshot.000000025000/subset#000000 -->\n",
       "<g id=\"edge14\" class=\"edge\">\n",
       "<title>fclose&#45;&gt;/tmp/mummi/cg/mu12&#45;1ras0raf&#45;instance5_000000000003_20220124&#45;135758/snapshot.000000025000/subset#000000</title>\n",
       "<path fill=\"none\" stroke=\"black\" d=\"M2809.77,-93C2815.71,-90.89 2821.95,-88.79 2827.85,-87 2859.83,-77.3 2870.34,-82.63 2900.85,-69 2911.66,-64.17 2911.6,-57.67 2922.85,-54 2927.05,-52.63 3299.02,-40.83 3606.03,-31.31\"/>\n",
       "<polygon fill=\"black\" stroke=\"black\" points=\"3606.58,-34.79 3616.46,-30.98 3606.36,-27.8 3606.58,-34.79\"/>\n",
       "<text text-anchor=\"middle\" x=\"2927.85\" y=\"-57.8\" font-family=\"Times,serif\" font-size=\"14.00\">1</text>\n",
       "</g>\n",
       "<!-- /tmp/mummi/cg/mu12&#45;1ras0raf&#45;instance5_000000000003_20220124&#45;135758/snapshot.000000050000/subset#000000 -->\n",
       "<g id=\"node8\" class=\"node\">\n",
       "<title>/tmp/mummi/cg/mu12&#45;1ras0raf&#45;instance5_000000000003_20220124&#45;135758/snapshot.000000050000/subset#000000</title>\n",
       "<ellipse fill=\"none\" stroke=\"black\" cx=\"1706.85\" cy=\"-18\" rx=\"562.7\" ry=\"18\"/>\n",
       "<text text-anchor=\"middle\" x=\"1706.85\" y=\"-14.3\" font-family=\"Times,serif\" font-size=\"14.00\">/tmp/mummi/cg/mu12&#45;1ras0raf&#45;instance5_000000000003_20220124&#45;135758/snapshot.000000050000/subset#000000</text>\n",
       "</g>\n",
       "<!-- fclose&#45;&gt;/tmp/mummi/cg/mu12&#45;1ras0raf&#45;instance5_000000000003_20220124&#45;135758/snapshot.000000050000/subset#000000 -->\n",
       "<g id=\"edge20\" class=\"edge\">\n",
       "<title>fclose&#45;&gt;/tmp/mummi/cg/mu12&#45;1ras0raf&#45;instance5_000000000003_20220124&#45;135758/snapshot.000000050000/subset#000000</title>\n",
       "<path fill=\"none\" stroke=\"black\" d=\"M2743.17,-101.07C2666.24,-95.08 2485.56,-80.99 2333.85,-69 2194.22,-57.97 2037.1,-45.44 1915.08,-35.68\"/>\n",
       "<polygon fill=\"black\" stroke=\"black\" points=\"1915.12,-32.17 1904.87,-34.86 1914.56,-39.15 1915.12,-32.17\"/>\n",
       "<text text-anchor=\"middle\" x=\"2338.85\" y=\"-57.8\" font-family=\"Times,serif\" font-size=\"14.00\">1</text>\n",
       "</g>\n",
       "<!-- /tmp/mummi/cg/mu12&#45;1ras0raf&#45;instance5_000000000003_20220124&#45;135758/snapshot.000000075000/subset#000000 -->\n",
       "<g id=\"node9\" class=\"node\">\n",
       "<title>/tmp/mummi/cg/mu12&#45;1ras0raf&#45;instance5_000000000003_20220124&#45;135758/snapshot.000000075000/subset#000000</title>\n",
       "<ellipse fill=\"none\" stroke=\"black\" cx=\"5150.85\" cy=\"-18\" rx=\"562.7\" ry=\"18\"/>\n",
       "<text text-anchor=\"middle\" x=\"5150.85\" y=\"-14.3\" font-family=\"Times,serif\" font-size=\"14.00\">/tmp/mummi/cg/mu12&#45;1ras0raf&#45;instance5_000000000003_20220124&#45;135758/snapshot.000000075000/subset#000000</text>\n",
       "</g>\n",
       "<!-- fclose&#45;&gt;/tmp/mummi/cg/mu12&#45;1ras0raf&#45;instance5_000000000003_20220124&#45;135758/snapshot.000000075000/subset#000000 -->\n",
       "<g id=\"edge26\" class=\"edge\">\n",
       "<title>fclose&#45;&gt;/tmp/mummi/cg/mu12&#45;1ras0raf&#45;instance5_000000000003_20220124&#45;135758/snapshot.000000075000/subset#000000</title>\n",
       "<path fill=\"none\" stroke=\"black\" d=\"M2808.54,-92.45C2814.79,-90.28 2821.47,-88.29 2827.85,-87 2899.07,-72.65 3408.24,-56.43 3480.85,-54 3968.64,-37.68 4090.91,-47.25 4578.85,-36 4636.01,-34.68 4696.37,-33.1 4755.61,-31.43\"/>\n",
       "<polygon fill=\"black\" stroke=\"black\" points=\"4755.98,-34.92 4765.88,-31.14 4755.78,-27.93 4755.98,-34.92\"/>\n",
       "<text text-anchor=\"middle\" x=\"3485.85\" y=\"-57.8\" font-family=\"Times,serif\" font-size=\"14.00\">1</text>\n",
       "</g>\n",
       "<!-- fopen64&#45;&gt;/tmp/mummi/cg/mu12&#45;1ras0raf&#45;instance10_000000000001_20220124&#45;135055/snapshot.000000025000/subset#000000 -->\n",
       "<g id=\"edge4\" class=\"edge\">\n",
       "<title>fopen64&#45;&gt;/tmp/mummi/cg/mu12&#45;1ras0raf&#45;instance10_000000000001_20220124&#45;135055/snapshot.000000025000/subset#000000</title>\n",
       "<path fill=\"none\" stroke=\"black\" d=\"M2868.98,-87.87C2864.52,-82.33 2860.25,-75.8 2857.85,-69 2855.34,-61.88 2854.42,-53.82 2854.3,-46.29\"/>\n",
       "<polygon fill=\"black\" stroke=\"black\" points=\"2857.81,-46.23 2854.58,-36.14 2850.81,-46.04 2857.81,-46.23\"/>\n",
       "<text text-anchor=\"middle\" x=\"2862.85\" y=\"-57.8\" font-family=\"Times,serif\" font-size=\"14.00\">1</text>\n",
       "</g>\n",
       "<!-- fopen64&#45;&gt;/tmp/mummi/cg/mu12&#45;1ras0raf&#45;instance5_000000000002_20220124&#45;132221/snapshot.000000500000/subset#000000 -->\n",
       "<g id=\"edge10\" class=\"edge\">\n",
       "<title>fopen64&#45;&gt;/tmp/mummi/cg/mu12&#45;1ras0raf&#45;instance5_000000000002_20220124&#45;132221/snapshot.000000500000/subset#000000</title>\n",
       "<path fill=\"none\" stroke=\"black\" d=\"M2850.83,-92.27C2843.34,-90.13 2835.4,-88.2 2827.85,-87 2678.57,-63.19 2298.95,-73.38 2147.85,-69 1738.81,-57.13 1270.44,-42.19 949.53,-31.75\"/>\n",
       "<polygon fill=\"black\" stroke=\"black\" points=\"949.23,-28.23 939.12,-31.41 949.01,-35.23 949.23,-28.23\"/>\n",
       "<text text-anchor=\"middle\" x=\"2152.85\" y=\"-57.8\" font-family=\"Times,serif\" font-size=\"14.00\">1</text>\n",
       "</g>\n",
       "<!-- fopen64&#45;&gt;/tmp/mummi/cg/mu12&#45;1ras0raf&#45;instance5_000000000003_20220124&#45;135758/snapshot.000000025000/subset#000000 -->\n",
       "<g id=\"edge16\" class=\"edge\">\n",
       "<title>fopen64&#45;&gt;/tmp/mummi/cg/mu12&#45;1ras0raf&#45;instance5_000000000003_20220124&#45;135758/snapshot.000000025000/subset#000000</title>\n",
       "<path fill=\"none\" stroke=\"black\" d=\"M2906.33,-88.65C2926.7,-74.13 2954.41,-54.48 2955.85,-54 2963.81,-51.33 3309.49,-40.18 3602.23,-31.17\"/>\n",
       "<polygon fill=\"black\" stroke=\"black\" points=\"3602.73,-34.66 3612.62,-30.85 3602.52,-27.66 3602.73,-34.66\"/>\n",
       "<text text-anchor=\"middle\" x=\"2960.85\" y=\"-57.8\" font-family=\"Times,serif\" font-size=\"14.00\">1</text>\n",
       "</g>\n",
       "<!-- fopen64&#45;&gt;/tmp/mummi/cg/mu12&#45;1ras0raf&#45;instance5_000000000003_20220124&#45;135758/snapshot.000000050000/subset#000000 -->\n",
       "<g id=\"edge22\" class=\"edge\">\n",
       "<title>fopen64&#45;&gt;/tmp/mummi/cg/mu12&#45;1ras0raf&#45;instance5_000000000003_20220124&#45;135758/snapshot.000000050000/subset#000000</title>\n",
       "<path fill=\"none\" stroke=\"black\" d=\"M2850.5,-92.33C2843.11,-90.22 2835.28,-88.28 2827.85,-87 2676.99,-60.94 2636.46,-81.16 2483.85,-69 2421.47,-64.03 2406.22,-59.05 2343.85,-54 2241.95,-45.75 2130.73,-38.9 2030.14,-33.51\"/>\n",
       "<polygon fill=\"black\" stroke=\"black\" points=\"2030.3,-30.01 2020.13,-32.97 2029.93,-37 2030.3,-30.01\"/>\n",
       "<text text-anchor=\"middle\" x=\"2488.85\" y=\"-57.8\" font-family=\"Times,serif\" font-size=\"14.00\">1</text>\n",
       "</g>\n",
       "<!-- fopen64&#45;&gt;/tmp/mummi/cg/mu12&#45;1ras0raf&#45;instance5_000000000003_20220124&#45;135758/snapshot.000000075000/subset#000000 -->\n",
       "<g id=\"edge28\" class=\"edge\">\n",
       "<title>fopen64&#45;&gt;/tmp/mummi/cg/mu12&#45;1ras0raf&#45;instance5_000000000003_20220124&#45;135758/snapshot.000000075000/subset#000000</title>\n",
       "<path fill=\"none\" stroke=\"black\" d=\"M2919.18,-92.21C2926.58,-90.11 2934.41,-88.21 2941.85,-87 3063.21,-67.27 3372.03,-74.7 3494.85,-69 3605.6,-63.86 3633.08,-58.53 3743.85,-54 4114.74,-38.84 4207.77,-45.51 4578.85,-36 4634.59,-34.57 4693.39,-32.95 4751.22,-31.29\"/>\n",
       "<polygon fill=\"black\" stroke=\"black\" points=\"4751.35,-34.79 4761.25,-31.01 4751.15,-27.79 4751.35,-34.79\"/>\n",
       "<text text-anchor=\"middle\" x=\"3748.85\" y=\"-57.8\" font-family=\"Times,serif\" font-size=\"14.00\">1</text>\n",
       "</g>\n",
       "<!-- fwrite&#45;&gt;/tmp/mummi/cg/mu12&#45;1ras0raf&#45;instance10_000000000001_20220124&#45;135055/snapshot.000000025000/subset#000000 -->\n",
       "<g id=\"edge6\" class=\"edge\">\n",
       "<title>fwrite&#45;&gt;/tmp/mummi/cg/mu12&#45;1ras0raf&#45;instance10_000000000001_20220124&#45;135055/snapshot.000000025000/subset#000000</title>\n",
       "<path fill=\"none\" stroke=\"black\" d=\"M2985.2,-87.02C2982.05,-76.19 2976.44,-62.62 2966.85,-54 2960.93,-48.68 2954.2,-44.16 2947.05,-40.34\"/>\n",
       "<polygon fill=\"black\" stroke=\"black\" points=\"2948.32,-37.07 2937.8,-35.85 2945.27,-43.36 2948.32,-37.07\"/>\n",
       "<text text-anchor=\"middle\" x=\"2981.85\" y=\"-57.8\" font-family=\"Times,serif\" font-size=\"14.00\">1</text>\n",
       "</g>\n",
       "<!-- fwrite&#45;&gt;/tmp/mummi/cg/mu12&#45;1ras0raf&#45;instance5_000000000002_20220124&#45;132221/snapshot.000000500000/subset#000000 -->\n",
       "<g id=\"edge12\" class=\"edge\">\n",
       "<title>fwrite&#45;&gt;/tmp/mummi/cg/mu12&#45;1ras0raf&#45;instance5_000000000002_20220124&#45;132221/snapshot.000000500000/subset#000000</title>\n",
       "<path fill=\"none\" stroke=\"black\" d=\"M2960.88,-92.47C2954.71,-90.33 2948.13,-88.34 2941.85,-87 2844.22,-66.16 2593.58,-58.33 2493.85,-54 1890.37,-27.8 1738.76,-48.97 1134.85,-36 1076.63,-34.75 1015.09,-33.18 954.8,-31.5\"/>\n",
       "<polygon fill=\"black\" stroke=\"black\" points=\"954.83,-28 944.74,-31.22 954.64,-35 954.83,-28\"/>\n",
       "<text text-anchor=\"middle\" x=\"2786.85\" y=\"-57.8\" font-family=\"Times,serif\" font-size=\"14.00\">1</text>\n",
       "</g>\n",
       "<!-- fwrite&#45;&gt;/tmp/mummi/cg/mu12&#45;1ras0raf&#45;instance5_000000000003_20220124&#45;135758/snapshot.000000025000/subset#000000 -->\n",
       "<g id=\"edge18\" class=\"edge\">\n",
       "<title>fwrite&#45;&gt;/tmp/mummi/cg/mu12&#45;1ras0raf&#45;instance5_000000000003_20220124&#45;135758/snapshot.000000025000/subset#000000</title>\n",
       "<path fill=\"none\" stroke=\"black\" d=\"M3027.43,-104.32C3140.27,-104.81 3479.28,-103.11 3757.85,-69 3815.17,-61.98 3879.02,-49.06 3927.71,-38.11\"/>\n",
       "<polygon fill=\"black\" stroke=\"black\" points=\"3928.57,-41.5 3937.55,-35.87 3927.02,-34.67 3928.57,-41.5\"/>\n",
       "<text text-anchor=\"middle\" x=\"3851.85\" y=\"-57.8\" font-family=\"Times,serif\" font-size=\"14.00\">1</text>\n",
       "</g>\n",
       "<!-- fwrite&#45;&gt;/tmp/mummi/cg/mu12&#45;1ras0raf&#45;instance5_000000000003_20220124&#45;135758/snapshot.000000050000/subset#000000 -->\n",
       "<g id=\"edge24\" class=\"edge\">\n",
       "<title>fwrite&#45;&gt;/tmp/mummi/cg/mu12&#45;1ras0raf&#45;instance5_000000000003_20220124&#45;135758/snapshot.000000050000/subset#000000</title>\n",
       "<path fill=\"none\" stroke=\"black\" d=\"M2959.54,-93.33C2953.68,-91.22 2947.58,-89.03 2941.85,-87 2918.79,-78.84 2911.7,-79.99 2889.85,-69 2879.28,-63.68 2879.1,-57.66 2867.85,-54 2866.7,-53.63 2447.98,-41.07 2113.78,-31.11\"/>\n",
       "<polygon fill=\"black\" stroke=\"black\" points=\"2113.52,-27.6 2103.42,-30.8 2113.32,-34.59 2113.52,-27.6\"/>\n",
       "<text text-anchor=\"middle\" x=\"2894.85\" y=\"-57.8\" font-family=\"Times,serif\" font-size=\"14.00\">1</text>\n",
       "</g>\n",
       "<!-- fwrite&#45;&gt;/tmp/mummi/cg/mu12&#45;1ras0raf&#45;instance5_000000000003_20220124&#45;135758/snapshot.000000075000/subset#000000 -->\n",
       "<g id=\"edge30\" class=\"edge\">\n",
       "<title>fwrite&#45;&gt;/tmp/mummi/cg/mu12&#45;1ras0raf&#45;instance5_000000000003_20220124&#45;135758/snapshot.000000075000/subset#000000</title>\n",
       "<path fill=\"none\" stroke=\"black\" d=\"M3026.83,-102.51C3235.57,-94.3 4253.67,-54.27 4801.02,-32.75\"/>\n",
       "<polygon fill=\"black\" stroke=\"black\" points=\"4801.19,-36.25 4811.05,-32.36 4800.92,-29.26 4801.19,-36.25\"/>\n",
       "<text text-anchor=\"middle\" x=\"4203.85\" y=\"-57.8\" font-family=\"Times,serif\" font-size=\"14.00\">1</text>\n",
       "</g>\n",
       "</g>\n",
       "</svg>\n"
      ],
      "text/plain": [
       "<graphviz.dot.Digraph at 0x2000cf164eb0>"
      ]
     },
     "execution_count": 118,
     "metadata": {},
     "output_type": "execute_result"
    }
   ],
   "source": [
    "dot"
   ]
  },
  {
   "cell_type": "code",
   "execution_count": 119,
   "metadata": {},
   "outputs": [
    {
     "name": "stdout",
     "output_type": "stream",
     "text": [
      "1320 files are written into.\n",
      "108 file are read from.\n",
      "0 files are write-only.\n",
      "0 file are read-only.\n"
     ]
    }
   ],
   "source": [
    "write_files = io_ddf_read_write[io_ddf_read_write['func_id'].str.contains('write')]['filename'].unique()\n",
    "read_files = io_ddf_read_write[io_ddf_read_write['func_id'].str.contains('read')]['filename'].unique()\n",
    "read_only_files = set(all_filenames) - set(write_files)\n",
    "write_only_files = set(all_filenames) - set(read_files)\n",
    "print(\"{} files are written into.\\n{} file are read from.\\n{} files are write-only.\\n{} file are read-only.\"\n",
    "      .format(len(write_files), len(read_files), len(write_only_files), len(read_only_files)))"
   ]
  },
  {
   "cell_type": "code",
   "execution_count": null,
   "metadata": {},
   "outputs": [],
   "source": []
  },
  {
   "cell_type": "code",
   "execution_count": 120,
   "metadata": {
    "tags": []
   },
   "outputs": [
    {
     "name": "stdout",
     "output_type": "stream",
     "text": [
      "set()\n"
     ]
    }
   ],
   "source": [
    "print(read_only_files)"
   ]
  },
  {
   "cell_type": "code",
   "execution_count": 124,
   "metadata": {},
   "outputs": [
    {
     "name": "stdout",
     "output_type": "stream",
     "text": [
      "filename\n",
      "/tmp/mummi/cg/mu12-1ras0raf-instance10_000000000001_20220124-135055/snapshot.000000500000/atoms#000000    55.726467\n",
      "/tmp/mummi/cg/mu12-1ras0raf-instance10_000000000001_20220124-135055/snapshot.mem/atoms#000000             22.820120\n",
      "/tmp/mummi/cg/mu12-1ras0raf-instance10_000000000002_20220124-132014/snapshot.000000500000/atoms#000000    55.551373\n",
      "/tmp/mummi/cg/mu12-1ras0raf-instance10_000000000002_20220124-132014/snapshot.mem/atoms#000000             22.748380\n",
      "/tmp/mummi/cg/mu12-1ras0raf-instance10_000000000006_20220124-132341/snapshot.000000500000/atoms#000000    55.563320\n",
      "                                                                                                            ...    \n",
      "/tmp/mummi/cg/mu12-1ras0raf-instance9_000000000007_20220124-135027/snapshot.mem/atoms#000000              22.783153\n",
      "/tmp/mummi/cg/mu12-1ras0raf-instance9_000000000008_20220124-135536/snapshot.000000500000/atoms#000000     55.606991\n",
      "/tmp/mummi/cg/mu12-1ras0raf-instance9_000000000008_20220124-135536/snapshot.mem/atoms#000000              22.771168\n",
      "/tmp/mummi/cg/mu12-1ras0raf-instance9_000000000012_20220124-131714/snapshot.000000500000/atoms#000000     55.642422\n",
      "/tmp/mummi/cg/mu12-1ras0raf-instance9_000000000012_20220124-131714/snapshot.mem/atoms#000000              22.785685\n",
      "Name: size, Length: 108, dtype: float64\n"
     ]
    }
   ],
   "source": [
    "io_per_file = io_ddf_read_write[io_ddf_read_write['filename'].isin(read_files)].groupby(['filename'])['size'].sum()\n",
    "io_per_file = io_per_file / 1024.0/1024.0\n",
    "print(io_per_file)"
   ]
  },
  {
   "cell_type": "code",
   "execution_count": 122,
   "metadata": {},
   "outputs": [
    {
     "name": "stdout",
     "output_type": "stream",
     "text": [
      "filename\n",
      "/tmp/mummi/cg/mu12-1ras0raf-instance10_000000000001_20220124-135055/snapshot.000000025000/subset#000000     3.124324\n",
      "/tmp/mummi/cg/mu12-1ras0raf-instance10_000000000001_20220124-135055/snapshot.000000050000/subset#000000     3.124325\n",
      "/tmp/mummi/cg/mu12-1ras0raf-instance10_000000000001_20220124-135055/snapshot.000000075000/subset#000000     3.124325\n",
      "/tmp/mummi/cg/mu12-1ras0raf-instance10_000000000001_20220124-135055/snapshot.000000100000/subset#000000     3.124326\n",
      "/tmp/mummi/cg/mu12-1ras0raf-instance10_000000000001_20220124-135055/snapshot.000000125000/subset#000000     3.124326\n",
      "/tmp/mummi/cg/mu12-1ras0raf-instance10_000000000001_20220124-135055/snapshot.000000150000/subset#000000     3.124326\n",
      "/tmp/mummi/cg/mu12-1ras0raf-instance10_000000000001_20220124-135055/snapshot.000000175000/subset#000000     3.124326\n",
      "/tmp/mummi/cg/mu12-1ras0raf-instance10_000000000001_20220124-135055/snapshot.000000200000/subset#000000     3.124326\n",
      "/tmp/mummi/cg/mu12-1ras0raf-instance10_000000000001_20220124-135055/snapshot.000000225000/subset#000000     3.124326\n",
      "/tmp/mummi/cg/mu12-1ras0raf-instance10_000000000001_20220124-135055/snapshot.000000250000/subset#000000     3.124326\n",
      "/tmp/mummi/cg/mu12-1ras0raf-instance10_000000000001_20220124-135055/snapshot.000000275000/subset#000000     3.124326\n",
      "/tmp/mummi/cg/mu12-1ras0raf-instance10_000000000001_20220124-135055/snapshot.000000300000/subset#000000     3.124326\n",
      "/tmp/mummi/cg/mu12-1ras0raf-instance10_000000000001_20220124-135055/snapshot.000000325000/subset#000000     3.124326\n",
      "/tmp/mummi/cg/mu12-1ras0raf-instance10_000000000001_20220124-135055/snapshot.000000350000/subset#000000     3.124326\n",
      "/tmp/mummi/cg/mu12-1ras0raf-instance10_000000000001_20220124-135055/snapshot.000000375000/subset#000000     3.124326\n",
      "/tmp/mummi/cg/mu12-1ras0raf-instance10_000000000001_20220124-135055/snapshot.000000400000/subset#000000     3.124326\n",
      "/tmp/mummi/cg/mu12-1ras0raf-instance10_000000000001_20220124-135055/snapshot.000000425000/subset#000000     3.124326\n",
      "/tmp/mummi/cg/mu12-1ras0raf-instance10_000000000001_20220124-135055/snapshot.000000450000/subset#000000     3.124326\n",
      "/tmp/mummi/cg/mu12-1ras0raf-instance10_000000000001_20220124-135055/snapshot.000000475000/subset#000000     3.124326\n",
      "/tmp/mummi/cg/mu12-1ras0raf-instance10_000000000001_20220124-135055/snapshot.000000500000/atoms#000000     27.878185\n",
      "Name: size, dtype: float64\n"
     ]
    }
   ],
   "source": [
    "io_per_file = io_ddf_read_write[io_ddf_read_write['filename'].isin(write_files) & io_ddf_read_write['func_id'].str.contains(\"write\")].groupby(['filename'])['size'].sum()\n",
    "io_per_file = io_per_file / 1024.0/1024.0\n",
    "print(io_per_file.head(20))"
   ]
  },
  {
   "cell_type": "code",
   "execution_count": null,
   "metadata": {},
   "outputs": [],
   "source": []
  },
  {
   "cell_type": "code",
   "execution_count": 123,
   "metadata": {},
   "outputs": [
    {
     "name": "stdout",
     "output_type": "stream",
     "text": [
      "Time spent on data: 2.20068359375 sec, metadata: 0.3256032466888428 sec\n"
     ]
    }
   ],
   "source": [
    "read_condition = io_ddf['func_id'].isin([\"read\", \"pread\", \"pread64\", \"readv\",\"fread\"])\n",
    "write_condition = io_ddf['func_id'].isin([\"write\", \"pwrite\", \"pwrite64\",\"writev\",\"fwrite\"])\n",
    "data_ops = ['read', 'write']\n",
    "total_time_io_data = io_ddf[ read_condition | write_condition ].groupby('rank')['duration'].sum().max().compute()\n",
    "total_time_io_metadata = io_ddf[~(read_condition | write_condition)].groupby('rank')['duration'].sum().max().compute()\n",
    "print(\"Time spent on data: {} sec, metadata: {} sec\".format(total_time_io_data, total_time_io_metadata))"
   ]
  },
  {
   "cell_type": "code",
   "execution_count": null,
   "metadata": {},
   "outputs": [],
   "source": []
  },
  {
   "cell_type": "code",
   "execution_count": null,
   "metadata": {},
   "outputs": [],
   "source": []
  },
  {
   "cell_type": "code",
   "execution_count": null,
   "metadata": {},
   "outputs": [],
   "source": []
  },
  {
   "cell_type": "code",
   "execution_count": null,
   "metadata": {},
   "outputs": [],
   "source": []
  },
  {
   "cell_type": "code",
   "execution_count": null,
   "metadata": {},
   "outputs": [],
   "source": []
  }
 ],
 "metadata": {
  "kernelspec": {
   "display_name": "iopp",
   "language": "python",
   "name": "iopp"
  },
  "language_info": {
   "codemirror_mode": {
    "name": "ipython",
    "version": 3
   },
   "file_extension": ".py",
   "mimetype": "text/x-python",
   "name": "python",
   "nbconvert_exporter": "python",
   "pygments_lexer": "ipython3",
   "version": "3.9.7"
  },
  "toc-showtags": false
 },
 "nbformat": 4,
 "nbformat_minor": 4
}
