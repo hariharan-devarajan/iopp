{
 "cells": [
  {
   "cell_type": "markdown",
   "id": "bc5435c1-732a-4910-89b7-f43f515fa954",
   "metadata": {},
   "source": [
    "# VANI"
   ]
  },
  {
   "cell_type": "markdown",
   "id": "569476c7-d3de-42a0-b9e2-1bdae2a37d3b",
   "metadata": {},
   "source": [
    "**Initial notebook configuration**"
   ]
  },
  {
   "cell_type": "code",
   "execution_count": 1,
   "id": "22f9e735-9736-4603-b4b9-207740614b6a",
   "metadata": {},
   "outputs": [],
   "source": [
    "%load_ext autoreload\n",
    "# %load_ext snakeviz\n",
    "# %load_ext jupyterflame"
   ]
  },
  {
   "cell_type": "code",
   "execution_count": 2,
   "id": "a49c5a6e-9862-41ba-b219-b00389cc3687",
   "metadata": {},
   "outputs": [
    {
     "name": "stdout",
     "output_type": "stream",
     "text": [
      "/usr/workspace/iopp/.conda/envs/jupyter/bin/python\n",
      "3.9.7 (default, Sep 16 2021, 16:03:39) \n",
      "[GCC 7.3.0]\n",
      "sys.version_info(major=3, minor=9, micro=7, releaselevel='final', serial=0)\n"
     ]
    }
   ],
   "source": [
    "import os\n",
    "import sys\n",
    "print(sys.executable)\n",
    "print(sys.version)\n",
    "print(sys.version_info)"
   ]
  },
  {
   "cell_type": "code",
   "execution_count": 3,
   "id": "06fe52a1-0a7c-4bc2-8992-0197d82beb24",
   "metadata": {},
   "outputs": [],
   "source": [
    "# Filter unnecessary warnings\n",
    "import warnings\n",
    "warnings.simplefilter(action='ignore', category=FutureWarning)"
   ]
  },
  {
   "cell_type": "markdown",
   "id": "9dc61e64-3fc5-4e15-86dd-8937201a9732",
   "metadata": {},
   "source": [
    "**Import libraries**"
   ]
  },
  {
   "cell_type": "code",
   "execution_count": 4,
   "id": "076b1f4f-7e8f-4a64-8e21-8efe9889fab7",
   "metadata": {},
   "outputs": [],
   "source": [
    "# Import VANI library\n",
    "import dask\n",
    "import numpy as np\n",
    "import pandas as pd\n",
    "from vani.vani.analyzer import Analyzer, ClusterOptions, ClusterType"
   ]
  },
  {
   "cell_type": "markdown",
   "id": "7c056dcd-e1ed-432d-9bfd-08f904dd4611",
   "metadata": {},
   "source": [
    "**Initialize VANI Analyzer**"
   ]
  },
  {
   "cell_type": "code",
   "execution_count": 5,
   "id": "a3e9af43-f87a-4e4b-889b-b430277010b3",
   "metadata": {},
   "outputs": [
    {
     "data": {
      "application/vnd.jupyter.widget-view+json": {
       "model_id": "9ad0f90eb4104d46af4bc163e7fc75ac",
       "version_major": 2,
       "version_minor": 0
      },
      "text/plain": [
       "  0%|          | 0/3 [00:00<?, ?it/s]"
      ]
     },
     "metadata": {},
     "output_type": "display_data"
    },
    {
     "name": "stdout",
     "output_type": "stream",
     "text": [
      "Dashboard link: http://127.0.0.1:8787/status\n"
     ]
    }
   ],
   "source": [
    "%autoreload 2\n",
    "\n",
    "# Initialize analyzer\n",
    "co = ClusterOptions(cluster_type=ClusterType.Local)\n",
    "vn = Analyzer(n_workers=8, cluster_options=co, debug=True)"
   ]
  },
  {
   "cell_type": "markdown",
   "id": "c1b19ba0-5305-48ad-889c-003181813b03",
   "metadata": {},
   "source": [
    "**Analyze logs**"
   ]
  },
  {
   "cell_type": "code",
   "execution_count": 6,
   "id": "9378d3ba-b1cb-418e-9a66-8927436dae98",
   "metadata": {},
   "outputs": [
    {
     "data": {
      "application/vnd.jupyter.widget-view+json": {
       "model_id": "adf6f2b30bc74eee8c566d21980ccf24",
       "version_major": 2,
       "version_minor": 0
      },
      "text/plain": [
       "  0%|          | 0/7 [00:00<?, ?it/s]"
      ]
     },
     "metadata": {},
     "output_type": "display_data"
    },
    {
     "name": "stdout",
     "output_type": "stream",
     "text": [
      "Logs read (6.427602633833885)\n",
      "Job time: 668.3056030273438 seconds (1.1794299762696028)\n",
      "Max duration: 0.006622314453125 (1.3841627165675163)\n",
      "---------------\n",
      "[0-668.3056030273438] root (21.17757113277912 1.0)\n",
      "bin                       size                      label      problematic    \n",
      "0.0                       1368.375553079269         10         x              \n",
      "297.02471245659723        0.6681342830370217        1                         \n",
      "594.0494249131945         0.579054658745703         1                         \n",
      "222.76853434244794        0.5451646512407893        1                         \n",
      "445.53706868489587        0.5355521165634495        1                         \n",
      "519.7932467990452         0.5075270092519725        1                         \n",
      "74.25617811414931         0.4807337526221424        1                         \n",
      "371.2808905707465         0.27852546968120045       1                         \n",
      "148.51235622829861        0.2647414492422967        1                         \n",
      "\t[0.0-74.25617811414931] root..10 (20.17100705485791 0.9524702775587315)\n",
      "\tbin                       size                      label      problematic    \n",
      "\t0.0                       598.6222674979314         10         x              \n",
      "\t8.250686457127701         0.27063256836164973       1                         \n",
      "\t49.50411874276621         0.26341324569178226       1                         \n",
      "\t74.25617811414931         0.2625421443565873        1                         \n",
      "\t33.002745828510804        0.24551275713221246       1                         \n",
      "\t57.75480519989391         0.24502226321688916       1                         \n",
      "\t24.752059371383105        0.2443789527760214        1                         \n",
      "\t41.2534322856385          0.24295317098963934       1                         \n",
      "\t66.00549165702161         0.23809619686135927       1                         \n",
      "\t16.501372914255402        0.23465498366404758       1                         \n",
      "\t\t[0.0-8.250686457127701] root..10..10 (21.173567921854556 0.9998109693080729)\n",
      "\t\tbin                       size                      label      problematic    \n",
      "\t\t2.750228819042567         1658.2740087446737        10         x              \n",
      "\t\t1.8334858793617113        1169.7074564343893        8          x              \n",
      "\t\t5.500457638085134         3.398771964421995         1                         \n",
      "\t\t0.0                       0.4712098044789088        1                         \n",
      "\t\t8.250686457127701         0.25460441898173625       1                         \n",
      "\t\t\t[2.750228819042567-3.6669717587234225] root..10..10..10 (16.781366330571473 0.7924122282652564)\n"
     ]
    }
   ],
   "source": [
    "%autoreload 2\n",
    "\n",
    "# Analysis configuration\n",
    "# log_dir = \"/p/gpfs1/iopp/parquet_app_logs/hacc/nodes-32/workflow-0\"\n",
    "log_dir = \"/p/gpfs1/iopp/parquet_app_logs/cm1/nodes-32/workflow-4\"\n",
    "# log_dir = \"/p/gpfs1/iopp/parquet_app_logs/lbann-cosmoflow/nodes-32\"\n",
    "# log_dir = \"/p/gpfs1/iopp/recorder_app_logs/montage_pegasus/nodes-32/_parquet\"\n",
    "# log_dir = \"/p/gpfs1/iopp/recorder_app_logs/genome_pegasus/nodes-32/_parquet\"\n",
    "\n",
    "# Do the analysis  \n",
    "io_df_read_write, job_time = vn.analyze_parquet_logs(log_dir, granularity=0.6622314453125) #, precision_level=1/2/3) "
   ]
  },
  {
   "cell_type": "code",
   "execution_count": 10,
   "id": "2d08daf6-e5b4-4264-9373-9cdea371f6b5",
   "metadata": {},
   "outputs": [
    {
     "data": {
      "text/plain": [
       "0.006622314453125"
      ]
     },
     "execution_count": 10,
     "metadata": {},
     "output_type": "execute_result"
    }
   ],
   "source": [
    "io_df_read_write[\"duration\"].max().compute()"
   ]
  },
  {
   "cell_type": "code",
   "execution_count": null,
   "id": "ce9f5783-87c4-44fe-8418-f34735a508de",
   "metadata": {},
   "outputs": [],
   "source": []
  }
 ],
 "metadata": {
  "kernelspec": {
   "display_name": "iopp",
   "language": "python",
   "name": "iopp"
  },
  "language_info": {
   "codemirror_mode": {
    "name": "ipython",
    "version": 3
   },
   "file_extension": ".py",
   "mimetype": "text/x-python",
   "name": "python",
   "nbconvert_exporter": "python",
   "pygments_lexer": "ipython3",
   "version": "3.9.7"
  }
 },
 "nbformat": 4,
 "nbformat_minor": 5
}
