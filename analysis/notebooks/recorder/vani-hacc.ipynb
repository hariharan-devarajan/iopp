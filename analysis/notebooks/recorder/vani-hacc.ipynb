{
 "cells": [
  {
   "cell_type": "code",
   "execution_count": 1,
   "id": "6e801231-9979-4d47-903b-ae6841ddfad8",
   "metadata": {},
   "outputs": [
    {
     "name": "stdout",
     "output_type": "stream",
     "text": [
      "/usr/workspace/iopp/.conda/envs/jupyter/bin/python\n",
      "3.9.7 (default, Sep 16 2021, 16:03:39) \n",
      "[GCC 7.3.0]\n",
      "sys.version_info(major=3, minor=9, micro=7, releaselevel='final', serial=0)\n"
     ]
    }
   ],
   "source": [
    "import os\n",
    "import sys\n",
    "print(sys.executable)\n",
    "print(sys.version)\n",
    "print(sys.version_info)\n",
    "sys.path.append(os.path.dirname(os.getcwd()))"
   ]
  },
  {
   "cell_type": "code",
   "execution_count": 2,
   "id": "1352cb14-9b48-4fa3-aef8-82dfd018355d",
   "metadata": {},
   "outputs": [
    {
     "name": "stdout",
     "output_type": "stream",
     "text": [
      "Requirement already satisfied: anytree in /usr/WS2/iopp/.conda/envs/jupyter/lib/python3.9/site-packages (2.8.0)\n",
      "Requirement already satisfied: six>=1.9.0 in /usr/WS2/iopp/.conda/envs/jupyter/lib/python3.9/site-packages (from anytree) (1.16.0)\n"
     ]
    }
   ],
   "source": [
    "import sys\n",
    "# !conda install --yes --prefix {sys.prefix} anytree\n",
    "# !conda install -c conda-forge --yes --prefix {sys.prefix} anytree\n",
    "!{sys.executable} -m pip install anytree"
   ]
  },
  {
   "cell_type": "code",
   "execution_count": 3,
   "id": "92e6ede5-b991-4a64-88f0-b0577a4251b9",
   "metadata": {},
   "outputs": [],
   "source": [
    "# Filter unnecessary warnings\n",
    "import warnings\n",
    "warnings.simplefilter(action='ignore', category=FutureWarning)"
   ]
  },
  {
   "cell_type": "code",
   "execution_count": 4,
   "id": "b7651651-a21d-45e9-9c3a-eb716c8dc30a",
   "metadata": {},
   "outputs": [],
   "source": [
    "%load_ext autoreload"
   ]
  },
  {
   "cell_type": "code",
   "execution_count": 5,
   "id": "e671a54a-f62e-4a02-8937-aae658e52849",
   "metadata": {},
   "outputs": [],
   "source": [
    "from IPython.display import HTML\n",
    "from vani.analyzer import Analyzer, ClusterOptions, ClusterType"
   ]
  },
  {
   "cell_type": "code",
   "execution_count": null,
   "id": "72d71086-c228-4b98-9d7c-ed149e9912d8",
   "metadata": {},
   "outputs": [
    {
     "name": "stdout",
     "output_type": "stream",
     "text": [
      "{'cls': <class 'distributed.scheduler.Scheduler'>, 'options': {'protocol': 'tcp://', 'interface': None, 'host': 'lassen490', 'dashboard_address': 'lassen490:8264', 'security': None}}\n",
      "Dashboard link: http://192.168.65.236:8264/status\n",
      "#!/usr/bin/env bash\n",
      "\n",
      "#BSUB -J dask-worker\n",
      "#BSUB -G asccasc\n",
      "#BSUB -q pdebug\n",
      "#BSUB -W 02:00\n",
      "#BSUB -o vani.log\n",
      "#BSUB -e vani.log\n",
      "JOB_ID=${LSB_JOBID%.*}\n",
      "\n",
      "/usr/workspace/iopp/.conda/envs/jupyter/bin/python -m distributed.cli.dask_worker tcp://192.168.65.236:46057 --nthreads 1 --nprocs 4 --memory-limit 29.80GiB --name name --nanny --death-timeout 300\n",
      "\n",
      "8/24 workers running\r"
     ]
    }
   ],
   "source": [
    "%autoreload 2\n",
    "\n",
    "co = ClusterOptions(cluster_type=ClusterType.LSF)\n",
    "vn = Analyzer(n_workers=24, cluster_options=co, debug=True)"
   ]
  },
  {
   "cell_type": "code",
   "execution_count": null,
   "id": "9051a5db-7b6a-4d6c-91bb-98e9a62dccb7",
   "metadata": {},
   "outputs": [],
   "source": [
    "%%time\n",
    "%autoreload 2\n",
    "\n",
    "# Analysis configuration\n",
    "# log_dir = \"/p/gpfs1/iopp/parquet_app_logs/hacc/nodes-32/workflow-0\"\n",
    "# log_dir = \"/p/gpfs1/iopp/parquet_app_logs/cm1/nodes-32/workflow-4\"\n",
    "# log_dir = \"/p/gpfs1/iopp/parquet_app_logs/lbann-cosmoflow/nodes-32\"\n",
    "log_dir = \"/p/gpfs1/iopp/recorder_app_logs/montage_pegasus/nodes-32/_parquet\"\n",
    "# log_dir = \"/p/gpfs1/iopp/recorder_app_logs/genome_pegasus/nodes-32/_parquet\"\n",
    "\n",
    "# log_dir = \"/p/lustre1/iopp/parquet_app_logs/hacc/nodes-32/workflow-0\"\n",
    "# log_dir = \"/p/lustre1/iopp/parquet_app_logs/cm1/nodes-32/workflow-4\"\n",
    "# log_dir = \"/p/lustre1/iopp/parquet_app_logs/lbann-cosmoflow/nodes-32\"\n",
    "# log_dir = \"/p/lustre1/iopp/recorder_app_logs/montage_pegasus/nodes-32/_parquet\"\n",
    "# log_dir = \"/p/lustre1/iopp/recorder_app_logs/genome_pegasus/nodes-32/_parquet\"\n",
    "\n",
    "# Do the analysis\n",
    "analysis = vn.analyze_parquet_logs(log_dir, max_depth=3) "
   ]
  },
  {
   "cell_type": "code",
   "execution_count": null,
   "id": "1858c1af-76b3-4d66-9858-8c1470e8969c",
   "metadata": {},
   "outputs": [],
   "source": [
    "%%time\n",
    "analysis.render_tree()"
   ]
  },
  {
   "cell_type": "code",
   "execution_count": null,
   "id": "ae4846fd-6df0-40d8-ac87-bd39c9129e38",
   "metadata": {},
   "outputs": [],
   "source": []
  }
 ],
 "metadata": {
  "kernelspec": {
   "display_name": "iopp",
   "language": "python",
   "name": "iopp"
  },
  "language_info": {
   "codemirror_mode": {
    "name": "ipython",
    "version": 3
   },
   "file_extension": ".py",
   "mimetype": "text/x-python",
   "name": "python",
   "nbconvert_exporter": "python",
   "pygments_lexer": "ipython3",
   "version": "3.9.7"
  }
 },
 "nbformat": 4,
 "nbformat_minor": 5
}
