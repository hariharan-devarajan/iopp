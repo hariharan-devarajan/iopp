{
 "cells": [
  {
   "cell_type": "code",
   "execution_count": 1,
   "metadata": {},
   "outputs": [],
   "source": [
    "import dask_jobqueue\n",
    "import socket\n",
    "from dask_jobqueue import LSFCluster\n",
    "import os"
   ]
  },
  {
   "cell_type": "code",
   "execution_count": 2,
   "metadata": {
    "ExecuteTime": {
     "end_time": "2021-09-16T21:37:00.088821Z",
     "start_time": "2021-09-16T21:37:00.076921Z"
    }
   },
   "outputs": [],
   "source": [
    "node_memory = 256\n",
    "n_workers_per_node = 4\n",
    "memory = '{}GB'.format(node_memory/n_workers_per_node)\n",
    "notebook_name = \"jag\""
   ]
  },
  {
   "cell_type": "code",
   "execution_count": 3,
   "metadata": {
    "ExecuteTime": {
     "end_time": "2021-09-16T21:37:00.580186Z",
     "start_time": "2021-09-16T21:37:00.574875Z"
    }
   },
   "outputs": [
    {
     "name": "stderr",
     "output_type": "stream",
     "text": [
      "/p/gpfs1/haridev/software/spack/opt/spack/linux-rhel7-power9le/gcc-8.3.1/anaconda3-2021.05-ou5c3s4g5b6ac7d3ielq2ysjqrbmyvaj/envs/jupyter/lib/python3.9/site-packages/distributed/node.py:160: UserWarning: Port 8787 is already in use.\n",
      "Perhaps you already have a cluster running?\n",
      "Hosting the HTTP server on port 46325 instead\n",
      "  warnings.warn(\n"
     ]
    }
   ],
   "source": [
    "cluster = LSFCluster(cores = n_workers_per_node,processes=n_workers_per_node, memory='{}GB'.format(node_memory), header_skip=['-n ','-R','-M', '-P', '-W'], \n",
    "                     job_extra = ['-nnodes 1', '-G asccasc', '-W 00:30', '-o {}.log'.format(notebook_name), '-e {}.log'.format(notebook_name)], use_stdin=True, scheduler_options={'host': socket.gethostname()})"
   ]
  },
  {
   "cell_type": "code",
   "execution_count": 4,
   "metadata": {},
   "outputs": [],
   "source": [
    "import dask.dataframe as dd\n",
    "from dask.distributed import wait, progress\n",
    "from dask.diagnostics import ProgressBar\n",
    "from dask.distributed import Client\n",
    "import matplotlib.pyplot as plt\n",
    "import numpy as np\n",
    "import time\n",
    "from time import sleep"
   ]
  },
  {
   "cell_type": "code",
   "execution_count": 5,
   "metadata": {},
   "outputs": [
    {
     "data": {
      "text/html": [
       "<div>\n",
       "    <div style=\"width: 24px; height: 24px; background-color: #e1e1e1; border: 3px solid #9D9D9D; border-radius: 5px; position: absolute;\"> </div>\n",
       "    <div style=\"margin-left: 48px;\">\n",
       "        <h3 style=\"margin-bottom: 0px;\">Client</h3>\n",
       "        <p style=\"color: #9D9D9D; margin-bottom: 0px;\">Client-cd115bd1-19be-11ec-9b3c-70e28414902c</p>\n",
       "        <table style=\"width: 100%; text-align: left;\">\n",
       "\n",
       "        <tr>\n",
       "        \n",
       "            <td style=\"text-align: left;\"><strong>Connection method:</strong> Cluster object</td>\n",
       "            <td style=\"text-align: left;\"><strong>Cluster type:</strong> dask_jobqueue.LSFCluster</td>\n",
       "        \n",
       "        </tr>\n",
       "\n",
       "        \n",
       "            <tr>\n",
       "                <td style=\"text-align: left;\">\n",
       "                    <strong>Dashboard: </strong> <a href=\"http://192.168.66.200:46325/status\" target=\"_blank\">http://192.168.66.200:46325/status</a>\n",
       "                </td>\n",
       "                <td style=\"text-align: left;\"></td>\n",
       "            </tr>\n",
       "        \n",
       "\n",
       "        </table>\n",
       "\n",
       "        \n",
       "            <details>\n",
       "            <summary style=\"margin-bottom: 20px;\"><h3 style=\"display: inline;\">Cluster Info</h3></summary>\n",
       "            <div class=\"jp-RenderedHTMLCommon jp-RenderedHTML jp-mod-trusted jp-OutputArea-output\">\n",
       "    <div style=\"width: 24px; height: 24px; background-color: #e1e1e1; border: 3px solid #9D9D9D; border-radius: 5px; position: absolute;\">\n",
       "    </div>\n",
       "    <div style=\"margin-left: 48px;\">\n",
       "        <h3 style=\"margin-bottom: 0px; margin-top: 0px;\">LSFCluster</h3>\n",
       "        <p style=\"color: #9D9D9D; margin-bottom: 0px;\">88e170f8</p>\n",
       "        <table style=\"width: 100%; text-align: left;\">\n",
       "            <tr>\n",
       "                <td style=\"text-align: left;\">\n",
       "                    <strong>Dashboard:</strong> <a href=\"http://192.168.66.200:46325/status\" target=\"_blank\">http://192.168.66.200:46325/status</a>\n",
       "                </td>\n",
       "                <td style=\"text-align: left;\">\n",
       "                    <strong>Workers:</strong> 0\n",
       "                </td>\n",
       "            </tr>\n",
       "            <tr>\n",
       "                <td style=\"text-align: left;\">\n",
       "                    <strong>Total threads:</strong> 0\n",
       "                </td>\n",
       "                <td style=\"text-align: left;\">\n",
       "                    <strong>Total memory:</strong> 0 B\n",
       "                </td>\n",
       "            </tr>\n",
       "            \n",
       "        </table>\n",
       "\n",
       "        <details>\n",
       "            <summary style=\"margin-bottom: 20px;\">\n",
       "                <h3 style=\"display: inline;\">Scheduler Info</h3>\n",
       "            </summary>\n",
       "\n",
       "            <div style=\"\">\n",
       "    <div>\n",
       "        <div style=\"width: 24px; height: 24px; background-color: #FFF7E5; border: 3px solid #FF6132; border-radius: 5px; position: absolute;\"> </div>\n",
       "        <div style=\"margin-left: 48px;\">\n",
       "            <h3 style=\"margin-bottom: 0px;\">Scheduler</h3>\n",
       "            <p style=\"color: #9D9D9D; margin-bottom: 0px;\">Scheduler-ef9ade00-ff03-4184-ae69-4cb7fa65252a</p>\n",
       "            <table style=\"width: 100%; text-align: left;\">\n",
       "                <tr>\n",
       "                    <td style=\"text-align: left;\">\n",
       "                        <strong>Comm:</strong> tcp://192.168.66.200:39777\n",
       "                    </td>\n",
       "                    <td style=\"text-align: left;\">\n",
       "                        <strong>Workers:</strong> 0\n",
       "                    </td>\n",
       "                </tr>\n",
       "                <tr>\n",
       "                    <td style=\"text-align: left;\">\n",
       "                        <strong>Dashboard:</strong> <a href=\"http://192.168.66.200:46325/status\" target=\"_blank\">http://192.168.66.200:46325/status</a>\n",
       "                    </td>\n",
       "                    <td style=\"text-align: left;\">\n",
       "                        <strong>Total threads:</strong> 0\n",
       "                    </td>\n",
       "                </tr>\n",
       "                <tr>\n",
       "                    <td style=\"text-align: left;\">\n",
       "                        <strong>Started:</strong> Just now\n",
       "                    </td>\n",
       "                    <td style=\"text-align: left;\">\n",
       "                        <strong>Total memory:</strong> 0 B\n",
       "                    </td>\n",
       "                </tr>\n",
       "            </table>\n",
       "        </div>\n",
       "    </div>\n",
       "\n",
       "    <details style=\"margin-left: 48px;\">\n",
       "        <summary style=\"margin-bottom: 20px;\">\n",
       "            <h3 style=\"display: inline;\">Workers</h3>\n",
       "        </summary>\n",
       "\n",
       "        \n",
       "\n",
       "    </details>\n",
       "</div>\n",
       "\n",
       "        </details>\n",
       "    </div>\n",
       "</div>\n",
       "            </details>\n",
       "        \n",
       "\n",
       "    </div>\n",
       "</div>"
      ],
      "text/plain": [
       "<Client: 'tcp://192.168.66.200:39777' processes=0 threads=0, memory=0 B>"
      ]
     },
     "execution_count": 5,
     "metadata": {},
     "output_type": "execute_result"
    }
   ],
   "source": [
    "client = Client(cluster)\n",
    "client"
   ]
  },
  {
   "cell_type": "code",
   "execution_count": 6,
   "metadata": {},
   "outputs": [],
   "source": [
    "n_workers = 16"
   ]
  },
  {
   "cell_type": "code",
   "execution_count": 7,
   "metadata": {
    "ExecuteTime": {
     "end_time": "2021-09-16T21:37:00.937949Z",
     "start_time": "2021-09-16T21:37:00.931813Z"
    }
   },
   "outputs": [],
   "source": [
    "cluster.scale(n_workers)"
   ]
  },
  {
   "cell_type": "code",
   "execution_count": 8,
   "metadata": {},
   "outputs": [
    {
     "name": "stdout",
     "output_type": "stream",
     "text": [
      "Waiting for workers completed 0 of 16\n",
      "16 workers started\n"
     ]
    }
   ],
   "source": [
    "val = len(client.scheduler_info()[\"workers\"])\n",
    "while ((client.status == \"running\") and ( val< n_workers)):\n",
    "    print(\"Waiting for workers completed {} of {}\".format(val, n_workers), end=\"\\r\")\n",
    "    sleep(1.0)\n",
    "    val = len(client.scheduler_info()[\"workers\"])\n",
    "print(\"\\n{} workers started\".format(len(client.scheduler_info()[\"workers\"])))"
   ]
  },
  {
   "cell_type": "code",
   "execution_count": 9,
   "metadata": {
    "ExecuteTime": {
     "end_time": "2021-09-16T21:44:25.856496Z",
     "start_time": "2021-09-16T21:44:25.849113Z"
    }
   },
   "outputs": [],
   "source": [
    "def timer(func):\n",
    "    @functools.wraps(func)\n",
    "    def wrapper_timer(*args, **kwargs):\n",
    "        tic = time.perf_counter()\n",
    "        value = func(*args, **kwargs)\n",
    "        toc = time.perf_counter()\n",
    "        elapsed_time = toc - tic\n",
    "        print(f\"Elapsed time: {elapsed_time:0.4f} seconds\")\n",
    "        return value\n",
    "    return wrapper_timer"
   ]
  },
  {
   "cell_type": "code",
   "execution_count": 10,
   "metadata": {
    "ExecuteTime": {
     "end_time": "2021-09-16T21:44:26.580383Z",
     "start_time": "2021-09-16T21:44:26.570029Z"
    }
   },
   "outputs": [],
   "source": [
    "def thread_print(string):\n",
    "    print(f'{string}\\n', end='')\n",
    "def thread_process( num_ranks, func, start=0, list_range=[], workers=40):\n",
    "    with ThreadPoolExecutor(max_workers = workers) as executor:\n",
    "        if len(list_range) == 0:\n",
    "            list_range = range(start, num_ranks) \n",
    "        future_gen = {executor.submit(func, rank): rank for rank in list_range}\n",
    "        for future in concurrent.futures.as_completed(future_gen):\n",
    "            rank = future_gen[future]\n",
    "            try:\n",
    "                data = future.result()\n",
    "            except Exception as exc:\n",
    "                thread_print('%r generated an exception: %s' % (rank, exc))\n",
    "            else:\n",
    "                thread_print('%r data computed' % (rank))"
   ]
  },
  {
   "cell_type": "code",
   "execution_count": 11,
   "metadata": {
    "ExecuteTime": {
     "end_time": "2021-09-16T21:44:27.037262Z",
     "start_time": "2021-09-16T21:44:27.033923Z"
    }
   },
   "outputs": [],
   "source": [
    "parquet_folder=\"/p/gpfs1/haridev/parquet/lbann-exagan-32-trace-3\""
   ]
  },
  {
   "cell_type": "code",
   "execution_count": 12,
   "metadata": {
    "ExecuteTime": {
     "end_time": "2021-09-16T21:44:28.361097Z",
     "start_time": "2021-09-16T21:44:28.356562Z"
    }
   },
   "outputs": [],
   "source": [
    "num_ranks = 128"
   ]
  },
  {
   "cell_type": "code",
   "execution_count": 13,
   "metadata": {
    "ExecuteTime": {
     "end_time": "2021-09-16T21:44:28.766382Z",
     "start_time": "2021-09-16T21:44:28.762432Z"
    }
   },
   "outputs": [],
   "source": [
    "#client.restart()"
   ]
  },
  {
   "cell_type": "markdown",
   "metadata": {},
   "source": [
    "### process dataset per rank"
   ]
  },
  {
   "cell_type": "code",
   "execution_count": 14,
   "metadata": {
    "ExecuteTime": {
     "end_time": "2021-09-16T21:44:32.812813Z",
     "start_time": "2021-09-16T21:44:31.634540Z"
    }
   },
   "outputs": [],
   "source": [
    "ddf = dd.read_parquet(\"{}/*.parquet\".format(parquet_folder), engine=\"pyarrow-dataset\")"
   ]
  },
  {
   "cell_type": "code",
   "execution_count": 15,
   "metadata": {
    "ExecuteTime": {
     "end_time": "2021-09-16T21:44:33.462433Z",
     "start_time": "2021-09-16T21:44:33.456132Z"
    }
   },
   "outputs": [
    {
     "data": {
      "text/plain": [
       "128"
      ]
     },
     "execution_count": 15,
     "metadata": {},
     "output_type": "execute_result"
    }
   ],
   "source": [
    "ddf.npartitions"
   ]
  },
  {
   "cell_type": "code",
   "execution_count": 16,
   "metadata": {
    "ExecuteTime": {
     "end_time": "2021-09-16T21:37:12.001757Z",
     "start_time": "2021-09-16T21:37:11.999009Z"
    }
   },
   "outputs": [],
   "source": [
    "#client.cancel(ddf)"
   ]
  },
  {
   "cell_type": "code",
   "execution_count": 17,
   "metadata": {
    "ExecuteTime": {
     "end_time": "2021-09-16T21:37:12.311012Z",
     "start_time": "2021-09-16T21:37:12.306571Z"
    }
   },
   "outputs": [
    {
     "data": {
      "text/plain": [
       "Index(['index', 'rank', 'thread_id', 'cat', 'tstart', 'tend', 'func_id',\n",
       "       'level', 'arg_count', 'args_1', 'args_2', 'args_3', 'args_4', 'args_5',\n",
       "       'args_6', 'args_7', 'args_8', 'args_9', 'args_10'],\n",
       "      dtype='object')"
      ]
     },
     "execution_count": 17,
     "metadata": {},
     "output_type": "execute_result"
    }
   ],
   "source": [
    "ddf.columns"
   ]
  },
  {
   "cell_type": "code",
   "execution_count": 18,
   "metadata": {
    "ExecuteTime": {
     "end_time": "2021-09-16T21:37:12.873991Z",
     "start_time": "2021-09-16T21:37:12.871121Z"
    }
   },
   "outputs": [],
   "source": [
    "#ddf[0].head()"
   ]
  },
  {
   "cell_type": "code",
   "execution_count": 19,
   "metadata": {
    "ExecuteTime": {
     "end_time": "2021-09-16T21:37:13.310962Z",
     "start_time": "2021-09-16T21:37:13.306458Z"
    }
   },
   "outputs": [],
   "source": [
    "ddf = ddf[ddf['level'] == 0]\n",
    "#ddf = ddf.persist()"
   ]
  },
  {
   "cell_type": "code",
   "execution_count": 20,
   "metadata": {},
   "outputs": [],
   "source": [
    "io_ddf = ddf[ddf['cat'].isin([0,1,3])]\n",
    "exclude_dirs = [\".pyc\", \"/usr\",\"/g/g92/haridev/.nccl.conf\"]\n",
    "for directory in exclude_dirs:\n",
    "    io_ddf = io_ddf[~io_ddf['args_1'].str.contains(directory)]\n",
    "#io_ddf[rank] = io_ddf[rank].persist()\n",
    "mpi_ddf = ddf[ddf['cat'] == 2]\n",
    "#mpi_ddf[rank] = mpi_ddf[rank].persist()\n",
    "trace_ddf = ddf[ddf['cat'] == 4]"
   ]
  },
  {
   "cell_type": "code",
   "execution_count": 21,
   "metadata": {},
   "outputs": [
    {
     "data": {
      "text/plain": [
       "Index(['index', 'rank', 'thread_id', 'cat', 'tstart', 'tend', 'func_id',\n",
       "       'level', 'arg_count', 'args_1', 'args_2', 'args_3', 'args_4', 'args_5',\n",
       "       'args_6', 'args_7', 'args_8', 'args_9', 'args_10'],\n",
       "      dtype='object')"
      ]
     },
     "execution_count": 21,
     "metadata": {},
     "output_type": "execute_result"
    }
   ],
   "source": [
    "io_ddf.columns"
   ]
  },
  {
   "cell_type": "code",
   "execution_count": 22,
   "metadata": {},
   "outputs": [],
   "source": [
    "open_condition = io_ddf['func_id'].str.contains(\"open\")\n",
    "mpi_condition = io_ddf['func_id'].str.contains(\"MPI\")\n",
    "read_condition = io_ddf['func_id'].isin([\"read\", \"pread\", \"pread64\", \"readv\"])\n",
    "fread_condition = io_ddf['func_id'].isin([\"fread\"])\n",
    "close_condition = io_ddf['func_id'].str.contains('close')\n",
    "write_condition = io_ddf['func_id'].isin([\"write\", \"pwrite\", \"pwrite64\",\"writev\"])\n",
    "fwrite_condition = io_ddf['func_id'].isin([\"fwrite\"])\n",
    "readdir_condition = io_ddf['func_id'].isin([\"readdir\"])"
   ]
  },
  {
   "cell_type": "code",
   "execution_count": 23,
   "metadata": {},
   "outputs": [],
   "source": [
    "io_ddf['filename'] = \"\"\n",
    "io_ddf['filename'] = io_ddf['filename'].mask(open_condition & ~mpi_condition, io_ddf['args_1'])\n",
    "io_ddf['filename'] = io_ddf['filename'].mask(open_condition & mpi_condition, io_ddf['args_2'])\n",
    "io_ddf['filename'] = io_ddf['filename'].mask(close_condition, io_ddf['args_1'])\n",
    "io_ddf['filename'] = io_ddf['filename'].mask(read_condition, io_ddf['args_1'])\n",
    "io_ddf['filename'] = io_ddf['filename'].mask(fread_condition, io_ddf['args_4'])\n",
    "io_ddf['filename'] = io_ddf['filename'].mask(write_condition, io_ddf['args_1'])\n",
    "io_ddf['filename'] = io_ddf['filename'].mask(fwrite_condition, io_ddf['args_4'])"
   ]
  },
  {
   "cell_type": "code",
   "execution_count": 24,
   "metadata": {},
   "outputs": [],
   "source": [
    "io_ddf['size'] = \"0\"\n",
    "io_ddf['count'] = \"1\"\n",
    "io_ddf['size'] = io_ddf['size'].mask(read_condition , io_ddf['args_3'])\n",
    "io_ddf['size'] = io_ddf['size'].mask(fread_condition, io_ddf['args_3'])\n",
    "io_ddf['count'] = io_ddf['count'].mask(fread_condition, io_ddf['args_2'])\n",
    "io_ddf['size'] = io_ddf['size'].mask(write_condition, io_ddf['args_3'])\n",
    "io_ddf['size'] = io_ddf['size'].mask(fwrite_condition, io_ddf['args_3'])\n",
    "io_ddf['count'] = io_ddf['count'].mask(fwrite_condition, io_ddf['args_2'])"
   ]
  },
  {
   "cell_type": "code",
   "execution_count": 25,
   "metadata": {},
   "outputs": [],
   "source": [
    "io_ddf['size'] = io_ddf['size'].mask(readdir_condition , \"0\")\n",
    "io_ddf['count'] = io_ddf['count'].mask(readdir_condition , \"1\")"
   ]
  },
  {
   "cell_type": "code",
   "execution_count": 26,
   "metadata": {},
   "outputs": [],
   "source": [
    "#dd.compute(io_ddf['size'].unique(),io_ddf['count'].unique())"
   ]
  },
  {
   "cell_type": "code",
   "execution_count": 27,
   "metadata": {},
   "outputs": [],
   "source": [
    "io_ddf = io_ddf.astype({'size': 'int32','count': 'int32'})"
   ]
  },
  {
   "cell_type": "code",
   "execution_count": 28,
   "metadata": {},
   "outputs": [],
   "source": [
    "io_ddf['size'] = io_ddf['size'] * io_ddf['count']"
   ]
  },
  {
   "cell_type": "code",
   "execution_count": 29,
   "metadata": {},
   "outputs": [],
   "source": [
    "io_ddf = io_ddf.persist()"
   ]
  },
  {
   "cell_type": "code",
   "execution_count": 30,
   "metadata": {
    "collapsed": true,
    "jupyter": {
     "outputs_hidden": true
    },
    "tags": []
   },
   "outputs": [
    {
     "data": {
      "text/plain": [
       "DoneAndNotDoneFutures(done={<Future: finished, type: pandas.core.frame.DataFrame, key: ('assign-51600c26084dc2bcc167a22790ad9c1b', 46)>, <Future: finished, type: pandas.core.frame.DataFrame, key: ('assign-51600c26084dc2bcc167a22790ad9c1b', 102)>, <Future: finished, type: pandas.core.frame.DataFrame, key: ('assign-51600c26084dc2bcc167a22790ad9c1b', 15)>, <Future: finished, type: pandas.core.frame.DataFrame, key: ('assign-51600c26084dc2bcc167a22790ad9c1b', 79)>, <Future: finished, type: pandas.core.frame.DataFrame, key: ('assign-51600c26084dc2bcc167a22790ad9c1b', 4)>, <Future: finished, type: pandas.core.frame.DataFrame, key: ('assign-51600c26084dc2bcc167a22790ad9c1b', 68)>, <Future: finished, type: pandas.core.frame.DataFrame, key: ('assign-51600c26084dc2bcc167a22790ad9c1b', 6)>, <Future: finished, type: pandas.core.frame.DataFrame, key: ('assign-51600c26084dc2bcc167a22790ad9c1b', 29)>, <Future: finished, type: pandas.core.frame.DataFrame, key: ('assign-51600c26084dc2bcc167a22790ad9c1b', 125)>, <Future: finished, type: pandas.core.frame.DataFrame, key: ('assign-51600c26084dc2bcc167a22790ad9c1b', 70)>, <Future: finished, type: pandas.core.frame.DataFrame, key: ('assign-51600c26084dc2bcc167a22790ad9c1b', 93)>, <Future: finished, type: pandas.core.frame.DataFrame, key: ('assign-51600c26084dc2bcc167a22790ad9c1b', 38)>, <Future: finished, type: pandas.core.frame.DataFrame, key: ('assign-51600c26084dc2bcc167a22790ad9c1b', 40)>, <Future: finished, type: pandas.core.frame.DataFrame, key: ('assign-51600c26084dc2bcc167a22790ad9c1b', 65)>, <Future: finished, type: pandas.core.frame.DataFrame, key: ('assign-51600c26084dc2bcc167a22790ad9c1b', 75)>, <Future: finished, type: pandas.core.frame.DataFrame, key: ('assign-51600c26084dc2bcc167a22790ad9c1b', 104)>, <Future: finished, type: pandas.core.frame.DataFrame, key: ('assign-51600c26084dc2bcc167a22790ad9c1b', 61)>, <Future: finished, type: pandas.core.frame.DataFrame, key: ('assign-51600c26084dc2bcc167a22790ad9c1b', 10)>, <Future: finished, type: pandas.core.frame.DataFrame, key: ('assign-51600c26084dc2bcc167a22790ad9c1b', 20)>, <Future: finished, type: pandas.core.frame.DataFrame, key: ('assign-51600c26084dc2bcc167a22790ad9c1b', 74)>, <Future: finished, type: pandas.core.frame.DataFrame, key: ('assign-51600c26084dc2bcc167a22790ad9c1b', 84)>, <Future: finished, type: pandas.core.frame.DataFrame, key: ('assign-51600c26084dc2bcc167a22790ad9c1b', 86)>, <Future: finished, type: pandas.core.frame.DataFrame, key: ('assign-51600c26084dc2bcc167a22790ad9c1b', 2)>, <Future: finished, type: pandas.core.frame.DataFrame, key: ('assign-51600c26084dc2bcc167a22790ad9c1b', 56)>, <Future: finished, type: pandas.core.frame.DataFrame, key: ('assign-51600c26084dc2bcc167a22790ad9c1b', 113)>, <Future: finished, type: pandas.core.frame.DataFrame, key: ('assign-51600c26084dc2bcc167a22790ad9c1b', 31)>, <Future: finished, type: pandas.core.frame.DataFrame, key: ('assign-51600c26084dc2bcc167a22790ad9c1b', 83)>, <Future: finished, type: pandas.core.frame.DataFrame, key: ('assign-51600c26084dc2bcc167a22790ad9c1b', 95)>, <Future: finished, type: pandas.core.frame.DataFrame, key: ('assign-51600c26084dc2bcc167a22790ad9c1b', 1)>, <Future: finished, type: pandas.core.frame.DataFrame, key: ('assign-51600c26084dc2bcc167a22790ad9c1b', 66)>, <Future: finished, type: pandas.core.frame.DataFrame, key: ('assign-51600c26084dc2bcc167a22790ad9c1b', 11)>, <Future: finished, type: pandas.core.frame.DataFrame, key: ('assign-51600c26084dc2bcc167a22790ad9c1b', 120)>, <Future: finished, type: pandas.core.frame.DataFrame, key: ('assign-51600c26084dc2bcc167a22790ad9c1b', 13)>, <Future: finished, type: pandas.core.frame.DataFrame, key: ('assign-51600c26084dc2bcc167a22790ad9c1b', 100)>, <Future: finished, type: pandas.core.frame.DataFrame, key: ('assign-51600c26084dc2bcc167a22790ad9c1b', 19)>, <Future: finished, type: pandas.core.frame.DataFrame, key: ('assign-51600c26084dc2bcc167a22790ad9c1b', 45)>, <Future: finished, type: pandas.core.frame.DataFrame, key: ('assign-51600c26084dc2bcc167a22790ad9c1b', 47)>, <Future: finished, type: pandas.core.frame.DataFrame, key: ('assign-51600c26084dc2bcc167a22790ad9c1b', 77)>, <Future: finished, type: pandas.core.frame.DataFrame, key: ('assign-51600c26084dc2bcc167a22790ad9c1b', 22)>, <Future: finished, type: pandas.core.frame.DataFrame, key: ('assign-51600c26084dc2bcc167a22790ad9c1b', 49)>, <Future: finished, type: pandas.core.frame.DataFrame, key: ('assign-51600c26084dc2bcc167a22790ad9c1b', 109)>, <Future: finished, type: pandas.core.frame.DataFrame, key: ('assign-51600c26084dc2bcc167a22790ad9c1b', 111)>, <Future: finished, type: pandas.core.frame.DataFrame, key: ('assign-51600c26084dc2bcc167a22790ad9c1b', 37)>, <Future: finished, type: pandas.core.frame.DataFrame, key: ('assign-51600c26084dc2bcc167a22790ad9c1b', 36)>, <Future: finished, type: pandas.core.frame.DataFrame, key: ('assign-51600c26084dc2bcc167a22790ad9c1b', 90)>, <Future: finished, type: pandas.core.frame.DataFrame, key: ('assign-51600c26084dc2bcc167a22790ad9c1b', 101)>, <Future: finished, type: pandas.core.frame.DataFrame, key: ('assign-51600c26084dc2bcc167a22790ad9c1b', 91)>, <Future: finished, type: pandas.core.frame.DataFrame, key: ('assign-51600c26084dc2bcc167a22790ad9c1b', 92)>, <Future: finished, type: pandas.core.frame.DataFrame, key: ('assign-51600c26084dc2bcc167a22790ad9c1b', 126)>, <Future: finished, type: pandas.core.frame.DataFrame, key: ('assign-51600c26084dc2bcc167a22790ad9c1b', 27)>, <Future: finished, type: pandas.core.frame.DataFrame, key: ('assign-51600c26084dc2bcc167a22790ad9c1b', 28)>, <Future: finished, type: pandas.core.frame.DataFrame, key: ('assign-51600c26084dc2bcc167a22790ad9c1b', 82)>, <Future: finished, type: pandas.core.frame.DataFrame, key: ('assign-51600c26084dc2bcc167a22790ad9c1b', 17)>, <Future: finished, type: pandas.core.frame.DataFrame, key: ('assign-51600c26084dc2bcc167a22790ad9c1b', 18)>, <Future: finished, type: pandas.core.frame.DataFrame, key: ('assign-51600c26084dc2bcc167a22790ad9c1b', 116)>, <Future: finished, type: pandas.core.frame.DataFrame, key: ('assign-51600c26084dc2bcc167a22790ad9c1b', 7)>, <Future: finished, type: pandas.core.frame.DataFrame, key: ('assign-51600c26084dc2bcc167a22790ad9c1b', 73)>, <Future: finished, type: pandas.core.frame.DataFrame, key: ('assign-51600c26084dc2bcc167a22790ad9c1b', 71)>, <Future: finished, type: pandas.core.frame.DataFrame, key: ('assign-51600c26084dc2bcc167a22790ad9c1b', 62)>, <Future: finished, type: pandas.core.frame.DataFrame, key: ('assign-51600c26084dc2bcc167a22790ad9c1b', 81)>, <Future: finished, type: pandas.core.frame.DataFrame, key: ('assign-51600c26084dc2bcc167a22790ad9c1b', 52)>, <Future: finished, type: pandas.core.frame.DataFrame, key: ('assign-51600c26084dc2bcc167a22790ad9c1b', 53)>, <Future: finished, type: pandas.core.frame.DataFrame, key: ('assign-51600c26084dc2bcc167a22790ad9c1b', 117)>, <Future: finished, type: pandas.core.frame.DataFrame, key: ('assign-51600c26084dc2bcc167a22790ad9c1b', 9)>, <Future: finished, type: pandas.core.frame.DataFrame, key: ('assign-51600c26084dc2bcc167a22790ad9c1b', 26)>, <Future: finished, type: pandas.core.frame.DataFrame, key: ('assign-51600c26084dc2bcc167a22790ad9c1b', 107)>, <Future: finished, type: pandas.core.frame.DataFrame, key: ('assign-51600c26084dc2bcc167a22790ad9c1b', 108)>, <Future: finished, type: pandas.core.frame.DataFrame, key: ('assign-51600c26084dc2bcc167a22790ad9c1b', 98)>, <Future: finished, type: pandas.core.frame.DataFrame, key: ('assign-51600c26084dc2bcc167a22790ad9c1b', 99)>, <Future: finished, type: pandas.core.frame.DataFrame, key: ('assign-51600c26084dc2bcc167a22790ad9c1b', 43)>, <Future: finished, type: pandas.core.frame.DataFrame, key: ('assign-51600c26084dc2bcc167a22790ad9c1b', 44)>, <Future: finished, type: pandas.core.frame.DataFrame, key: ('assign-51600c26084dc2bcc167a22790ad9c1b', 8)>, <Future: finished, type: pandas.core.frame.DataFrame, key: ('assign-51600c26084dc2bcc167a22790ad9c1b', 34)>, <Future: finished, type: pandas.core.frame.DataFrame, key: ('assign-51600c26084dc2bcc167a22790ad9c1b', 35)>, <Future: finished, type: pandas.core.frame.DataFrame, key: ('assign-51600c26084dc2bcc167a22790ad9c1b', 14)>, <Future: finished, type: pandas.core.frame.DataFrame, key: ('assign-51600c26084dc2bcc167a22790ad9c1b', 25)>, <Future: finished, type: pandas.core.frame.DataFrame, key: ('assign-51600c26084dc2bcc167a22790ad9c1b', 78)>, <Future: finished, type: pandas.core.frame.DataFrame, key: ('assign-51600c26084dc2bcc167a22790ad9c1b', 89)>, <Future: finished, type: pandas.core.frame.DataFrame, key: ('assign-51600c26084dc2bcc167a22790ad9c1b', 69)>, <Future: finished, type: pandas.core.frame.DataFrame, key: ('assign-51600c26084dc2bcc167a22790ad9c1b', 80)>, <Future: finished, type: pandas.core.frame.DataFrame, key: ('assign-51600c26084dc2bcc167a22790ad9c1b', 127)>, <Future: finished, type: pandas.core.frame.DataFrame, key: ('assign-51600c26084dc2bcc167a22790ad9c1b', 5)>, <Future: finished, type: pandas.core.frame.DataFrame, key: ('assign-51600c26084dc2bcc167a22790ad9c1b', 123)>, <Future: finished, type: pandas.core.frame.DataFrame, key: ('assign-51600c26084dc2bcc167a22790ad9c1b', 16)>, <Future: finished, type: pandas.core.frame.DataFrame, key: ('assign-51600c26084dc2bcc167a22790ad9c1b', 124)>, <Future: finished, type: pandas.core.frame.DataFrame, key: ('assign-51600c26084dc2bcc167a22790ad9c1b', 72)>, <Future: finished, type: pandas.core.frame.DataFrame, key: ('assign-51600c26084dc2bcc167a22790ad9c1b', 60)>, <Future: finished, type: pandas.core.frame.DataFrame, key: ('assign-51600c26084dc2bcc167a22790ad9c1b', 59)>, <Future: finished, type: pandas.core.frame.DataFrame, key: ('assign-51600c26084dc2bcc167a22790ad9c1b', 50)>, <Future: finished, type: pandas.core.frame.DataFrame, key: ('assign-51600c26084dc2bcc167a22790ad9c1b', 51)>, <Future: finished, type: pandas.core.frame.DataFrame, key: ('assign-51600c26084dc2bcc167a22790ad9c1b', 114)>, <Future: finished, type: pandas.core.frame.DataFrame, key: ('assign-51600c26084dc2bcc167a22790ad9c1b', 115)>, <Future: finished, type: pandas.core.frame.DataFrame, key: ('assign-51600c26084dc2bcc167a22790ad9c1b', 54)>, <Future: finished, type: pandas.core.frame.DataFrame, key: ('assign-51600c26084dc2bcc167a22790ad9c1b', 105)>, <Future: finished, type: pandas.core.frame.DataFrame, key: ('assign-51600c26084dc2bcc167a22790ad9c1b', 106)>, <Future: finished, type: pandas.core.frame.DataFrame, key: ('assign-51600c26084dc2bcc167a22790ad9c1b', 85)>, <Future: finished, type: pandas.core.frame.DataFrame, key: ('assign-51600c26084dc2bcc167a22790ad9c1b', 96)>, <Future: finished, type: pandas.core.frame.DataFrame, key: ('assign-51600c26084dc2bcc167a22790ad9c1b', 41)>, <Future: finished, type: pandas.core.frame.DataFrame, key: ('assign-51600c26084dc2bcc167a22790ad9c1b', 42)>, <Future: finished, type: pandas.core.frame.DataFrame, key: ('assign-51600c26084dc2bcc167a22790ad9c1b', 32)>, <Future: finished, type: pandas.core.frame.DataFrame, key: ('assign-51600c26084dc2bcc167a22790ad9c1b', 76)>, <Future: finished, type: pandas.core.frame.DataFrame, key: ('assign-51600c26084dc2bcc167a22790ad9c1b', 118)>, <Future: finished, type: pandas.core.frame.DataFrame, key: ('assign-51600c26084dc2bcc167a22790ad9c1b', 23)>, <Future: finished, type: pandas.core.frame.DataFrame, key: ('assign-51600c26084dc2bcc167a22790ad9c1b', 67)>, <Future: finished, type: pandas.core.frame.DataFrame, key: ('assign-51600c26084dc2bcc167a22790ad9c1b', 12)>, <Future: finished, type: pandas.core.frame.DataFrame, key: ('assign-51600c26084dc2bcc167a22790ad9c1b', 87)>, <Future: finished, type: pandas.core.frame.DataFrame, key: ('assign-51600c26084dc2bcc167a22790ad9c1b', 63)>, <Future: finished, type: pandas.core.frame.DataFrame, key: ('assign-51600c26084dc2bcc167a22790ad9c1b', 121)>, <Future: finished, type: pandas.core.frame.DataFrame, key: ('assign-51600c26084dc2bcc167a22790ad9c1b', 58)>, <Future: finished, type: pandas.core.frame.DataFrame, key: ('assign-51600c26084dc2bcc167a22790ad9c1b', 3)>, <Future: finished, type: pandas.core.frame.DataFrame, key: ('assign-51600c26084dc2bcc167a22790ad9c1b', 112)>, <Future: finished, type: pandas.core.frame.DataFrame, key: ('assign-51600c26084dc2bcc167a22790ad9c1b', 57)>, <Future: finished, type: pandas.core.frame.DataFrame, key: ('assign-51600c26084dc2bcc167a22790ad9c1b', 122)>, <Future: finished, type: pandas.core.frame.DataFrame, key: ('assign-51600c26084dc2bcc167a22790ad9c1b', 48)>, <Future: finished, type: pandas.core.frame.DataFrame, key: ('assign-51600c26084dc2bcc167a22790ad9c1b', 88)>, <Future: finished, type: pandas.core.frame.DataFrame, key: ('assign-51600c26084dc2bcc167a22790ad9c1b', 39)>, <Future: finished, type: pandas.core.frame.DataFrame, key: ('assign-51600c26084dc2bcc167a22790ad9c1b', 103)>, <Future: finished, type: pandas.core.frame.DataFrame, key: ('assign-51600c26084dc2bcc167a22790ad9c1b', 94)>, <Future: finished, type: pandas.core.frame.DataFrame, key: ('assign-51600c26084dc2bcc167a22790ad9c1b', 33)>, <Future: finished, type: pandas.core.frame.DataFrame, key: ('assign-51600c26084dc2bcc167a22790ad9c1b', 21)>, <Future: finished, type: pandas.core.frame.DataFrame, key: ('assign-51600c26084dc2bcc167a22790ad9c1b', 30)>, <Future: finished, type: pandas.core.frame.DataFrame, key: ('assign-51600c26084dc2bcc167a22790ad9c1b', 97)>, <Future: finished, type: pandas.core.frame.DataFrame, key: ('assign-51600c26084dc2bcc167a22790ad9c1b', 64)>, <Future: finished, type: pandas.core.frame.DataFrame, key: ('assign-51600c26084dc2bcc167a22790ad9c1b', 110)>, <Future: finished, type: pandas.core.frame.DataFrame, key: ('assign-51600c26084dc2bcc167a22790ad9c1b', 55)>, <Future: finished, type: pandas.core.frame.DataFrame, key: ('assign-51600c26084dc2bcc167a22790ad9c1b', 0)>, <Future: finished, type: pandas.core.frame.DataFrame, key: ('assign-51600c26084dc2bcc167a22790ad9c1b', 119)>, <Future: finished, type: pandas.core.frame.DataFrame, key: ('assign-51600c26084dc2bcc167a22790ad9c1b', 24)>}, not_done=set())"
      ]
     },
     "execution_count": 30,
     "metadata": {},
     "output_type": "execute_result"
    }
   ],
   "source": [
    "wait(io_ddf)"
   ]
  },
  {
   "cell_type": "code",
   "execution_count": 31,
   "metadata": {},
   "outputs": [],
   "source": [
    "filenames = dd.compute(io_ddf['filename'].unique())"
   ]
  },
  {
   "cell_type": "code",
   "execution_count": 32,
   "metadata": {},
   "outputs": [],
   "source": [
    "filenames = filenames[0].to_numpy()"
   ]
  },
  {
   "cell_type": "code",
   "execution_count": 33,
   "metadata": {},
   "outputs": [
    {
     "name": "stdout",
     "output_type": "stream",
     "text": [
      "\n",
      "%p\n",
      "/p/gpfs1/haridev/software/lbann/applications/physics/cosmology/ExaGAN/20210908_122541_lbann_cosmo3DGAN/experiment.prototext\n",
      "/collab/usr/gapps/python/build/spack-coralea.3/opt/spack/linux-rhel7-ppc64le/gcc-4.9.3/py-packaging-17.1-ynqnwxc5jorjislnkc7tw6viegxtkkbw/lib/python3.7/site-packages/packaging-17.1-py3.7.egg\n",
      "/p/gpfs1/haridev/software/lbann/applications/physics/cosmology/ExaGAN\n"
     ]
    }
   ],
   "source": [
    "for filename in filenames:\n",
    "    print(filename)"
   ]
  },
  {
   "cell_type": "code",
   "execution_count": 34,
   "metadata": {},
   "outputs": [
    {
     "name": "stdout",
     "output_type": "stream",
     "text": [
      "['/p/gpfs1/haridev/software/lbann/applications/physics/cosmology/ExaGAN/20210908_122541_lbann_cosmo3DGAN/experiment.prototext', '/p/gpfs1/haridev/software/lbann/applications/physics/cosmology/ExaGAN']\n"
     ]
    }
   ],
   "source": [
    "relevant_filenames = [k for k in filenames if '/p/gpfs1' in k]\n",
    "print(relevant_filenames)"
   ]
  },
  {
   "cell_type": "code",
   "execution_count": 35,
   "metadata": {},
   "outputs": [],
   "source": [
    "file_df = io_ddf[io_ddf['filename'].isin(relevant_filenames)][['rank','filename','size', 'tstart', 'tend']].compute()"
   ]
  },
  {
   "cell_type": "code",
   "execution_count": 36,
   "metadata": {},
   "outputs": [],
   "source": [
    "file_df['bandwidth'] = file_df['size']*1.0/(file_df['tend'] - file_df['tstart'])/1024.0/1024.0"
   ]
  },
  {
   "cell_type": "code",
   "execution_count": 37,
   "metadata": {},
   "outputs": [
    {
     "data": {
      "text/html": [
       "<div>\n",
       "<style scoped>\n",
       "    .dataframe tbody tr th:only-of-type {\n",
       "        vertical-align: middle;\n",
       "    }\n",
       "\n",
       "    .dataframe tbody tr th {\n",
       "        vertical-align: top;\n",
       "    }\n",
       "\n",
       "    .dataframe thead th {\n",
       "        text-align: right;\n",
       "    }\n",
       "</style>\n",
       "<table border=\"1\" class=\"dataframe\">\n",
       "  <thead>\n",
       "    <tr style=\"text-align: right;\">\n",
       "      <th></th>\n",
       "      <th>rank</th>\n",
       "      <th>filename</th>\n",
       "      <th>size</th>\n",
       "      <th>tstart</th>\n",
       "      <th>tend</th>\n",
       "      <th>bandwidth</th>\n",
       "    </tr>\n",
       "  </thead>\n",
       "  <tbody>\n",
       "    <tr>\n",
       "      <th>711</th>\n",
       "      <td>0</td>\n",
       "      <td>/p/gpfs1/haridev/software/lbann/applications/p...</td>\n",
       "      <td>0</td>\n",
       "      <td>21.090313</td>\n",
       "      <td>21.090349</td>\n",
       "      <td>0.000000</td>\n",
       "    </tr>\n",
       "    <tr>\n",
       "      <th>844</th>\n",
       "      <td>0</td>\n",
       "      <td>/p/gpfs1/haridev/software/lbann/applications/p...</td>\n",
       "      <td>8192</td>\n",
       "      <td>21.149174</td>\n",
       "      <td>21.173134</td>\n",
       "      <td>0.326063</td>\n",
       "    </tr>\n",
       "    <tr>\n",
       "      <th>13845</th>\n",
       "      <td>0</td>\n",
       "      <td>/p/gpfs1/haridev/software/lbann/applications/p...</td>\n",
       "      <td>8192</td>\n",
       "      <td>32.541481</td>\n",
       "      <td>32.541550</td>\n",
       "      <td>113.777778</td>\n",
       "    </tr>\n",
       "    <tr>\n",
       "      <th>17395</th>\n",
       "      <td>0</td>\n",
       "      <td>/p/gpfs1/haridev/software/lbann/applications/p...</td>\n",
       "      <td>8192</td>\n",
       "      <td>38.204075</td>\n",
       "      <td>38.204144</td>\n",
       "      <td>113.777778</td>\n",
       "    </tr>\n",
       "    <tr>\n",
       "      <th>21066</th>\n",
       "      <td>0</td>\n",
       "      <td>/p/gpfs1/haridev/software/lbann/applications/p...</td>\n",
       "      <td>8192</td>\n",
       "      <td>44.156246</td>\n",
       "      <td>44.156311</td>\n",
       "      <td>120.470588</td>\n",
       "    </tr>\n",
       "    <tr>\n",
       "      <th>...</th>\n",
       "      <td>...</td>\n",
       "      <td>...</td>\n",
       "      <td>...</td>\n",
       "      <td>...</td>\n",
       "      <td>...</td>\n",
       "      <td>...</td>\n",
       "    </tr>\n",
       "    <tr>\n",
       "      <th>21066</th>\n",
       "      <td>127</td>\n",
       "      <td>/p/gpfs1/haridev/software/lbann/applications/p...</td>\n",
       "      <td>8192</td>\n",
       "      <td>42.435043</td>\n",
       "      <td>42.435089</td>\n",
       "      <td>170.666667</td>\n",
       "    </tr>\n",
       "    <tr>\n",
       "      <th>26782</th>\n",
       "      <td>127</td>\n",
       "      <td>/p/gpfs1/haridev/software/lbann/applications/p...</td>\n",
       "      <td>8192</td>\n",
       "      <td>48.823280</td>\n",
       "      <td>48.823322</td>\n",
       "      <td>186.181818</td>\n",
       "    </tr>\n",
       "    <tr>\n",
       "      <th>31318</th>\n",
       "      <td>127</td>\n",
       "      <td>/p/gpfs1/haridev/software/lbann/applications/p...</td>\n",
       "      <td>8192</td>\n",
       "      <td>51.823044</td>\n",
       "      <td>51.823071</td>\n",
       "      <td>292.571429</td>\n",
       "    </tr>\n",
       "    <tr>\n",
       "      <th>31320</th>\n",
       "      <td>127</td>\n",
       "      <td>/p/gpfs1/haridev/software/lbann/applications/p...</td>\n",
       "      <td>0</td>\n",
       "      <td>51.823517</td>\n",
       "      <td>51.823536</td>\n",
       "      <td>0.000000</td>\n",
       "    </tr>\n",
       "    <tr>\n",
       "      <th>32162</th>\n",
       "      <td>127</td>\n",
       "      <td>/p/gpfs1/haridev/software/lbann/applications/p...</td>\n",
       "      <td>0</td>\n",
       "      <td>57.178204</td>\n",
       "      <td>57.178268</td>\n",
       "      <td>0.000000</td>\n",
       "    </tr>\n",
       "  </tbody>\n",
       "</table>\n",
       "<p>1152 rows × 6 columns</p>\n",
       "</div>"
      ],
      "text/plain": [
       "       rank                                           filename  size  \\\n",
       "711       0  /p/gpfs1/haridev/software/lbann/applications/p...     0   \n",
       "844       0  /p/gpfs1/haridev/software/lbann/applications/p...  8192   \n",
       "13845     0  /p/gpfs1/haridev/software/lbann/applications/p...  8192   \n",
       "17395     0  /p/gpfs1/haridev/software/lbann/applications/p...  8192   \n",
       "21066     0  /p/gpfs1/haridev/software/lbann/applications/p...  8192   \n",
       "...     ...                                                ...   ...   \n",
       "21066   127  /p/gpfs1/haridev/software/lbann/applications/p...  8192   \n",
       "26782   127  /p/gpfs1/haridev/software/lbann/applications/p...  8192   \n",
       "31318   127  /p/gpfs1/haridev/software/lbann/applications/p...  8192   \n",
       "31320   127  /p/gpfs1/haridev/software/lbann/applications/p...     0   \n",
       "32162   127  /p/gpfs1/haridev/software/lbann/applications/p...     0   \n",
       "\n",
       "          tstart       tend   bandwidth  \n",
       "711    21.090313  21.090349    0.000000  \n",
       "844    21.149174  21.173134    0.326063  \n",
       "13845  32.541481  32.541550  113.777778  \n",
       "17395  38.204075  38.204144  113.777778  \n",
       "21066  44.156246  44.156311  120.470588  \n",
       "...          ...        ...         ...  \n",
       "21066  42.435043  42.435089  170.666667  \n",
       "26782  48.823280  48.823322  186.181818  \n",
       "31318  51.823044  51.823071  292.571429  \n",
       "31320  51.823517  51.823536    0.000000  \n",
       "32162  57.178204  57.178268    0.000000  \n",
       "\n",
       "[1152 rows x 6 columns]"
      ]
     },
     "execution_count": 37,
     "metadata": {},
     "output_type": "execute_result"
    }
   ],
   "source": [
    "file_df"
   ]
  },
  {
   "cell_type": "code",
   "execution_count": 38,
   "metadata": {},
   "outputs": [
    {
     "name": "stdout",
     "output_type": "stream",
     "text": [
      "/p/gpfs1/haridev/software/lbann/applications/physics/cosmology/ExaGAN/20210908_122541_lbann_cosmo3DGAN/experiment.prototext\n"
     ]
    },
    {
     "data": {
      "image/png": "[encoded data removed]",
      "text/plain": [
       "<Figure size 432x288 with 1 Axes>"
      ]
     },
     "metadata": {
      "needs_background": "light"
     },
     "output_type": "display_data"
    },
    {
     "data": {
      "image/png": "[encoded data removed]",
      "text/plain": [
       "<Figure size 432x288 with 1 Axes>"
      ]
     },
     "metadata": {
      "needs_background": "light"
     },
     "output_type": "display_data"
    },
    {
     "name": "stdout",
     "output_type": "stream",
     "text": [
      "/p/gpfs1/haridev/software/lbann/applications/physics/cosmology/ExaGAN\n"
     ]
    },
    {
     "data": {
      "image/png": "[encoded data removed]",
      "text/plain": [
       "<Figure size 432x288 with 1 Axes>"
      ]
     },
     "metadata": {
      "needs_background": "light"
     },
     "output_type": "display_data"
    },
    {
     "data": {
      "image/png": "[encoded data removed]",
      "text/plain": [
       "<Figure size 432x288 with 1 Axes>"
      ]
     },
     "metadata": {
      "needs_background": "light"
     },
     "output_type": "display_data"
    }
   ],
   "source": [
    "for filename in relevant_filenames:\n",
    "    print(filename)\n",
    "    file_df_temp = file_df[file_df['filename'] == filename] \n",
    "    file_sizes = file_df_temp['size'].to_numpy() / 1024.0 /1024.0\n",
    "    plt.hist(file_sizes, bins=100)\n",
    "    plt.show()\n",
    "    plt.hist(file_df_temp['bandwidth'].to_numpy(), bins=100)\n",
    "    plt.show()"
   ]
  },
  {
   "cell_type": "code",
   "execution_count": null,
   "metadata": {},
   "outputs": [],
   "source": []
  },
  {
   "cell_type": "code",
   "execution_count": null,
   "metadata": {},
   "outputs": [],
   "source": []
  },
  {
   "cell_type": "code",
   "execution_count": null,
   "metadata": {},
   "outputs": [],
   "source": []
  }
 ],
 "metadata": {
  "kernelspec": {
   "display_name": "Python 3 (ipykernel)",
   "language": "python",
   "name": "python3"
  },
  "language_info": {
   "codemirror_mode": {
    "name": "ipython",
    "version": 3
   },
   "file_extension": ".py",
   "mimetype": "text/x-python",
   "name": "python",
   "nbconvert_exporter": "python",
   "pygments_lexer": "ipython3",
   "version": "3.9.7"
  }
 },
 "nbformat": 4,
 "nbformat_minor": 4
}
