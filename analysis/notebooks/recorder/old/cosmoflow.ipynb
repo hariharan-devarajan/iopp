{
 "cells": [
  {
   "cell_type": "code",
   "execution_count": 1,
   "metadata": {},
   "outputs": [],
   "source": [
    "import dask_jobqueue\n",
    "import socket\n",
    "from dask_jobqueue import LSFCluster\n",
    "import os"
   ]
  },
  {
   "cell_type": "code",
   "execution_count": 2,
   "metadata": {
    "ExecuteTime": {
     "end_time": "2021-09-16T21:37:00.088821Z",
     "start_time": "2021-09-16T21:37:00.076921Z"
    }
   },
   "outputs": [],
   "source": [
    "node_memory = 256\n",
    "n_workers_per_node = 4\n",
    "memory = '{}GB'.format(node_memory/n_workers_per_node)\n",
    "notebook_name = \"jag\""
   ]
  },
  {
   "cell_type": "code",
   "execution_count": 3,
   "metadata": {
    "ExecuteTime": {
     "end_time": "2021-09-16T21:37:00.580186Z",
     "start_time": "2021-09-16T21:37:00.574875Z"
    }
   },
   "outputs": [],
   "source": [
    "cluster = LSFCluster(cores = n_workers_per_node,processes=n_workers_per_node, memory='{}GB'.format(node_memory), header_skip=['-n ','-R','-M', '-P', '-W'], \n",
    "                     job_extra = ['-nnodes 1', '-G asccasc', '-W 00:30', '-o {}.log'.format(notebook_name), '-e {}.log'.format(notebook_name)], use_stdin=True, scheduler_options={'host': socket.gethostname()})"
   ]
  },
  {
   "cell_type": "code",
   "execution_count": 4,
   "metadata": {},
   "outputs": [],
   "source": [
    "import dask.dataframe as dd\n",
    "from dask.distributed import wait, progress\n",
    "from dask.diagnostics import ProgressBar\n",
    "from dask.distributed import Client\n",
    "import matplotlib.pyplot as plt\n",
    "import numpy as np\n",
    "import time\n",
    "from time import sleep"
   ]
  },
  {
   "cell_type": "code",
   "execution_count": 5,
   "metadata": {},
   "outputs": [
    {
     "data": {
      "text/html": [
       "<div>\n",
       "    <div style=\"width: 24px; height: 24px; background-color: #e1e1e1; border: 3px solid #9D9D9D; border-radius: 5px; position: absolute;\"> </div>\n",
       "    <div style=\"margin-left: 48px;\">\n",
       "        <h3 style=\"margin-bottom: 0px;\">Client</h3>\n",
       "        <p style=\"color: #9D9D9D; margin-bottom: 0px;\">Client-63bfc9d2-1b28-11ec-acfc-70e28414902c</p>\n",
       "        <table style=\"width: 100%; text-align: left;\">\n",
       "\n",
       "        <tr>\n",
       "        \n",
       "            <td style=\"text-align: left;\"><strong>Connection method:</strong> Cluster object</td>\n",
       "            <td style=\"text-align: left;\"><strong>Cluster type:</strong> dask_jobqueue.LSFCluster</td>\n",
       "        \n",
       "        </tr>\n",
       "\n",
       "        \n",
       "            <tr>\n",
       "                <td style=\"text-align: left;\">\n",
       "                    <strong>Dashboard: </strong> <a href=\"http://192.168.66.200:8787/status\" target=\"_blank\">http://192.168.66.200:8787/status</a>\n",
       "                </td>\n",
       "                <td style=\"text-align: left;\"></td>\n",
       "            </tr>\n",
       "        \n",
       "\n",
       "        </table>\n",
       "\n",
       "        \n",
       "            <details>\n",
       "            <summary style=\"margin-bottom: 20px;\"><h3 style=\"display: inline;\">Cluster Info</h3></summary>\n",
       "            <div class=\"jp-RenderedHTMLCommon jp-RenderedHTML jp-mod-trusted jp-OutputArea-output\">\n",
       "    <div style=\"width: 24px; height: 24px; background-color: #e1e1e1; border: 3px solid #9D9D9D; border-radius: 5px; position: absolute;\">\n",
       "    </div>\n",
       "    <div style=\"margin-left: 48px;\">\n",
       "        <h3 style=\"margin-bottom: 0px; margin-top: 0px;\">LSFCluster</h3>\n",
       "        <p style=\"color: #9D9D9D; margin-bottom: 0px;\">08fa26e0</p>\n",
       "        <table style=\"width: 100%; text-align: left;\">\n",
       "            <tr>\n",
       "                <td style=\"text-align: left;\">\n",
       "                    <strong>Dashboard:</strong> <a href=\"http://192.168.66.200:8787/status\" target=\"_blank\">http://192.168.66.200:8787/status</a>\n",
       "                </td>\n",
       "                <td style=\"text-align: left;\">\n",
       "                    <strong>Workers:</strong> 0\n",
       "                </td>\n",
       "            </tr>\n",
       "            <tr>\n",
       "                <td style=\"text-align: left;\">\n",
       "                    <strong>Total threads:</strong> 0\n",
       "                </td>\n",
       "                <td style=\"text-align: left;\">\n",
       "                    <strong>Total memory:</strong> 0 B\n",
       "                </td>\n",
       "            </tr>\n",
       "            \n",
       "        </table>\n",
       "\n",
       "        <details>\n",
       "            <summary style=\"margin-bottom: 20px;\">\n",
       "                <h3 style=\"display: inline;\">Scheduler Info</h3>\n",
       "            </summary>\n",
       "\n",
       "            <div style=\"\">\n",
       "    <div>\n",
       "        <div style=\"width: 24px; height: 24px; background-color: #FFF7E5; border: 3px solid #FF6132; border-radius: 5px; position: absolute;\"> </div>\n",
       "        <div style=\"margin-left: 48px;\">\n",
       "            <h3 style=\"margin-bottom: 0px;\">Scheduler</h3>\n",
       "            <p style=\"color: #9D9D9D; margin-bottom: 0px;\">Scheduler-aba67d5c-766e-4316-bc9c-68954ca0519c</p>\n",
       "            <table style=\"width: 100%; text-align: left;\">\n",
       "                <tr>\n",
       "                    <td style=\"text-align: left;\">\n",
       "                        <strong>Comm:</strong> tcp://192.168.66.200:40913\n",
       "                    </td>\n",
       "                    <td style=\"text-align: left;\">\n",
       "                        <strong>Workers:</strong> 0\n",
       "                    </td>\n",
       "                </tr>\n",
       "                <tr>\n",
       "                    <td style=\"text-align: left;\">\n",
       "                        <strong>Dashboard:</strong> <a href=\"http://192.168.66.200:8787/status\" target=\"_blank\">http://192.168.66.200:8787/status</a>\n",
       "                    </td>\n",
       "                    <td style=\"text-align: left;\">\n",
       "                        <strong>Total threads:</strong> 0\n",
       "                    </td>\n",
       "                </tr>\n",
       "                <tr>\n",
       "                    <td style=\"text-align: left;\">\n",
       "                        <strong>Started:</strong> Just now\n",
       "                    </td>\n",
       "                    <td style=\"text-align: left;\">\n",
       "                        <strong>Total memory:</strong> 0 B\n",
       "                    </td>\n",
       "                </tr>\n",
       "            </table>\n",
       "        </div>\n",
       "    </div>\n",
       "\n",
       "    <details style=\"margin-left: 48px;\">\n",
       "        <summary style=\"margin-bottom: 20px;\">\n",
       "            <h3 style=\"display: inline;\">Workers</h3>\n",
       "        </summary>\n",
       "\n",
       "        \n",
       "\n",
       "    </details>\n",
       "</div>\n",
       "\n",
       "        </details>\n",
       "    </div>\n",
       "</div>\n",
       "            </details>\n",
       "        \n",
       "\n",
       "    </div>\n",
       "</div>"
      ],
      "text/plain": [
       "<Client: 'tcp://192.168.66.200:40913' processes=0 threads=0, memory=0 B>"
      ]
     },
     "execution_count": 5,
     "metadata": {},
     "output_type": "execute_result"
    }
   ],
   "source": [
    "client = Client(cluster)\n",
    "client"
   ]
  },
  {
   "cell_type": "code",
   "execution_count": 6,
   "metadata": {},
   "outputs": [],
   "source": [
    "n_workers = 64"
   ]
  },
  {
   "cell_type": "code",
   "execution_count": 7,
   "metadata": {
    "ExecuteTime": {
     "end_time": "2021-09-16T21:37:00.937949Z",
     "start_time": "2021-09-16T21:37:00.931813Z"
    }
   },
   "outputs": [],
   "source": [
    "cluster.scale(n_workers)"
   ]
  },
  {
   "cell_type": "code",
   "execution_count": 8,
   "metadata": {},
   "outputs": [
    {
     "name": "stdout",
     "output_type": "stream",
     "text": [
      "Waiting for workers completed 60 of 64\n",
      "64 workers started\n"
     ]
    }
   ],
   "source": [
    "val = len(client.scheduler_info()[\"workers\"])\n",
    "while ((client.status == \"running\") and ( val< n_workers)):\n",
    "    print(\"Waiting for workers completed {} of {}\".format(val, n_workers), end=\"\\r\")\n",
    "    sleep(1.0)\n",
    "    val = len(client.scheduler_info()[\"workers\"])\n",
    "print(\"\\n{} workers started\".format(len(client.scheduler_info()[\"workers\"])))"
   ]
  },
  {
   "cell_type": "code",
   "execution_count": 9,
   "metadata": {
    "ExecuteTime": {
     "end_time": "2021-09-16T21:44:25.856496Z",
     "start_time": "2021-09-16T21:44:25.849113Z"
    }
   },
   "outputs": [],
   "source": [
    "def timer(func):\n",
    "    @functools.wraps(func)\n",
    "    def wrapper_timer(*args, **kwargs):\n",
    "        tic = time.perf_counter()\n",
    "        value = func(*args, **kwargs)\n",
    "        toc = time.perf_counter()\n",
    "        elapsed_time = toc - tic\n",
    "        print(f\"Elapsed time: {elapsed_time:0.4f} seconds\")\n",
    "        return value\n",
    "    return wrapper_timer"
   ]
  },
  {
   "cell_type": "code",
   "execution_count": 10,
   "metadata": {
    "ExecuteTime": {
     "end_time": "2021-09-16T21:44:26.580383Z",
     "start_time": "2021-09-16T21:44:26.570029Z"
    }
   },
   "outputs": [],
   "source": [
    "def thread_print(string):\n",
    "    print(f'{string}\\n', end='')\n",
    "def thread_process( num_ranks, func, start=0, list_range=[], workers=40):\n",
    "    with ThreadPoolExecutor(max_workers = workers) as executor:\n",
    "        if len(list_range) == 0:\n",
    "            list_range = range(start, num_ranks) \n",
    "        future_gen = {executor.submit(func, rank): rank for rank in list_range}\n",
    "        for future in concurrent.futures.as_completed(future_gen):\n",
    "            rank = future_gen[future]\n",
    "            try:\n",
    "                data = future.result()\n",
    "            except Exception as exc:\n",
    "                thread_print('%r generated an exception: %s' % (rank, exc))\n",
    "            else:\n",
    "                thread_print('%r data computed' % (rank))"
   ]
  },
  {
   "cell_type": "code",
   "execution_count": 11,
   "metadata": {
    "ExecuteTime": {
     "end_time": "2021-09-16T21:44:27.037262Z",
     "start_time": "2021-09-16T21:44:27.033923Z"
    }
   },
   "outputs": [],
   "source": [
    "parquet_folder=\"/p/gpfs1/haridev/parquet/lbann-cosmoflow-32-epoch-2\""
   ]
  },
  {
   "cell_type": "code",
   "execution_count": 12,
   "metadata": {
    "ExecuteTime": {
     "end_time": "2021-09-16T21:44:28.361097Z",
     "start_time": "2021-09-16T21:44:28.356562Z"
    }
   },
   "outputs": [],
   "source": [
    "num_ranks = 128"
   ]
  },
  {
   "cell_type": "code",
   "execution_count": 13,
   "metadata": {
    "ExecuteTime": {
     "end_time": "2021-09-16T21:44:28.766382Z",
     "start_time": "2021-09-16T21:44:28.762432Z"
    }
   },
   "outputs": [],
   "source": [
    "pbar = ProgressBar()\n",
    "pbar.register()"
   ]
  },
  {
   "cell_type": "markdown",
   "metadata": {},
   "source": [
    "### process dataset per rank"
   ]
  },
  {
   "cell_type": "code",
   "execution_count": 14,
   "metadata": {
    "ExecuteTime": {
     "end_time": "2021-09-16T21:44:32.812813Z",
     "start_time": "2021-09-16T21:44:31.634540Z"
    }
   },
   "outputs": [],
   "source": [
    "ddf = dd.read_parquet(\"{}/*.parquet\".format(parquet_folder), engine=\"pyarrow-dataset\")"
   ]
  },
  {
   "cell_type": "code",
   "execution_count": 15,
   "metadata": {
    "ExecuteTime": {
     "end_time": "2021-09-16T21:44:33.462433Z",
     "start_time": "2021-09-16T21:44:33.456132Z"
    }
   },
   "outputs": [
    {
     "data": {
      "text/plain": [
       "504"
      ]
     },
     "execution_count": 15,
     "metadata": {},
     "output_type": "execute_result"
    }
   ],
   "source": [
    "ddf.npartitions"
   ]
  },
  {
   "cell_type": "code",
   "execution_count": 16,
   "metadata": {
    "ExecuteTime": {
     "end_time": "2021-09-16T21:37:12.001757Z",
     "start_time": "2021-09-16T21:37:11.999009Z"
    }
   },
   "outputs": [],
   "source": [
    "#client.cancel(ddf)"
   ]
  },
  {
   "cell_type": "code",
   "execution_count": 17,
   "metadata": {
    "ExecuteTime": {
     "end_time": "2021-09-16T21:37:12.311012Z",
     "start_time": "2021-09-16T21:37:12.306571Z"
    }
   },
   "outputs": [
    {
     "data": {
      "text/plain": [
       "Index(['index', 'rank', 'thread_id', 'cat', 'tstart', 'tend', 'func_id',\n",
       "       'level', 'arg_count', 'args_1', 'args_2', 'args_3', 'args_4', 'args_5',\n",
       "       'args_6', 'args_7', 'args_8', 'args_9', 'args_10'],\n",
       "      dtype='object')"
      ]
     },
     "execution_count": 17,
     "metadata": {},
     "output_type": "execute_result"
    }
   ],
   "source": [
    "ddf.columns"
   ]
  },
  {
   "cell_type": "code",
   "execution_count": 18,
   "metadata": {
    "ExecuteTime": {
     "end_time": "2021-09-16T21:37:12.873991Z",
     "start_time": "2021-09-16T21:37:12.871121Z"
    }
   },
   "outputs": [],
   "source": [
    "#ddf[0].head()"
   ]
  },
  {
   "cell_type": "code",
   "execution_count": 19,
   "metadata": {
    "ExecuteTime": {
     "end_time": "2021-09-16T21:37:13.310962Z",
     "start_time": "2021-09-16T21:37:13.306458Z"
    }
   },
   "outputs": [],
   "source": [
    "ddf = ddf[(ddf['level'] == 0) | ddf['cat'].isin([0,1,3])]\n",
    "#ddf = ddf.persist()"
   ]
  },
  {
   "cell_type": "code",
   "execution_count": 20,
   "metadata": {},
   "outputs": [],
   "source": [
    "io_ddf = ddf[ddf['cat'].isin([0,1,3])]\n",
    "exclude_dirs = [\".pyc\", \"/usr\",\"/g/g92/haridev/.nccl.conf\"]\n",
    "for directory in exclude_dirs:\n",
    "    io_ddf = io_ddf[~io_ddf['args_1'].str.contains(directory)]\n",
    "#io_ddf[rank] = io_ddf[rank].persist()\n",
    "mpi_ddf = ddf[ddf['cat'] == 2]\n",
    "#mpi_ddf[rank] = mpi_ddf[rank].persist()\n",
    "trace_ddf = ddf[ddf['cat'] == 4]"
   ]
  },
  {
   "cell_type": "code",
   "execution_count": 21,
   "metadata": {},
   "outputs": [
    {
     "data": {
      "text/plain": [
       "Index(['index', 'rank', 'thread_id', 'cat', 'tstart', 'tend', 'func_id',\n",
       "       'level', 'arg_count', 'args_1', 'args_2', 'args_3', 'args_4', 'args_5',\n",
       "       'args_6', 'args_7', 'args_8', 'args_9', 'args_10'],\n",
       "      dtype='object')"
      ]
     },
     "execution_count": 21,
     "metadata": {},
     "output_type": "execute_result"
    }
   ],
   "source": [
    "io_ddf.columns"
   ]
  },
  {
   "cell_type": "code",
   "execution_count": 22,
   "metadata": {},
   "outputs": [],
   "source": [
    "open_condition = io_ddf['func_id'].str.contains(\"open\")\n",
    "mpi_condition = io_ddf['func_id'].str.contains(\"MPI\")\n",
    "read_condition = io_ddf['func_id'].isin([\"read\", \"pread\", \"pread64\", \"readv\"])\n",
    "fread_condition = io_ddf['func_id'].isin([\"fread\"])\n",
    "close_condition = io_ddf['func_id'].str.contains('close')\n",
    "write_condition = io_ddf['func_id'].isin([\"write\", \"pwrite\", \"pwrite64\",\"writev\"])\n",
    "fwrite_condition = io_ddf['func_id'].isin([\"fwrite\"])\n",
    "readdir_condition = io_ddf['func_id'].isin([\"readdir\"])"
   ]
  },
  {
   "cell_type": "code",
   "execution_count": 23,
   "metadata": {},
   "outputs": [],
   "source": [
    "io_ddf['filename'] = \"\"\n",
    "io_ddf['filename'] = io_ddf['filename'].mask(open_condition & ~mpi_condition, io_ddf['args_1'])\n",
    "io_ddf['filename'] = io_ddf['filename'].mask(open_condition & mpi_condition, io_ddf['args_2'])\n",
    "io_ddf['filename'] = io_ddf['filename'].mask(close_condition, io_ddf['args_1'])\n",
    "io_ddf['filename'] = io_ddf['filename'].mask(read_condition, io_ddf['args_1'])\n",
    "io_ddf['filename'] = io_ddf['filename'].mask(fread_condition, io_ddf['args_4'])\n",
    "io_ddf['filename'] = io_ddf['filename'].mask(write_condition, io_ddf['args_1'])\n",
    "io_ddf['filename'] = io_ddf['filename'].mask(fwrite_condition, io_ddf['args_4'])"
   ]
  },
  {
   "cell_type": "code",
   "execution_count": 24,
   "metadata": {},
   "outputs": [],
   "source": [
    "io_ddf['size'] = \"0\"\n",
    "io_ddf['count'] = \"1\"\n",
    "io_ddf['size'] = io_ddf['size'].mask(read_condition , io_ddf['args_3'])\n",
    "io_ddf['size'] = io_ddf['size'].mask(fread_condition, io_ddf['args_3'])\n",
    "io_ddf['count'] = io_ddf['count'].mask(fread_condition, io_ddf['args_2'])\n",
    "io_ddf['size'] = io_ddf['size'].mask(write_condition, io_ddf['args_3'])\n",
    "io_ddf['size'] = io_ddf['size'].mask(fwrite_condition, io_ddf['args_3'])\n",
    "io_ddf['count'] = io_ddf['count'].mask(fwrite_condition, io_ddf['args_2'])"
   ]
  },
  {
   "cell_type": "code",
   "execution_count": 25,
   "metadata": {},
   "outputs": [],
   "source": [
    "io_ddf['size'] = io_ddf['size'].mask(readdir_condition , \"0\")\n",
    "io_ddf['count'] = io_ddf['count'].mask(readdir_condition , \"1\")"
   ]
  },
  {
   "cell_type": "code",
   "execution_count": 26,
   "metadata": {},
   "outputs": [],
   "source": [
    "io_ddf = io_ddf.astype({'size': 'int32','count': 'int32'})"
   ]
  },
  {
   "cell_type": "code",
   "execution_count": 27,
   "metadata": {},
   "outputs": [],
   "source": [
    "io_ddf['size'] = io_ddf['size'] * io_ddf['count']"
   ]
  },
  {
   "cell_type": "code",
   "execution_count": 28,
   "metadata": {},
   "outputs": [],
   "source": [
    "io_ddf = io_ddf.persist()"
   ]
  },
  {
   "cell_type": "code",
   "execution_count": 29,
   "metadata": {},
   "outputs": [],
   "source": [
    "trace_ddf = trace_ddf.persist()"
   ]
  },
  {
   "cell_type": "code",
   "execution_count": 30,
   "metadata": {
    "collapsed": true,
    "jupyter": {
     "outputs_hidden": true,
     "source_hidden": true
    },
    "tags": []
   },
   "outputs": [
    {
     "data": {
      "text/plain": [
       "DoneAndNotDoneFutures(done={<Future: finished, type: pandas.core.frame.DataFrame, key: ('getitem-2db4419e4aa9cb0ed2840a8354f902ac', 310)>, <Future: finished, type: pandas.core.frame.DataFrame, key: ('getitem-2db4419e4aa9cb0ed2840a8354f902ac', 414)>, <Future: finished, type: pandas.core.frame.DataFrame, key: ('getitem-2db4419e4aa9cb0ed2840a8354f902ac', 81)>, <Future: finished, type: pandas.core.frame.DataFrame, key: ('getitem-2db4419e4aa9cb0ed2840a8354f902ac', 185)>, <Future: finished, type: pandas.core.frame.DataFrame, key: ('getitem-2db4419e4aa9cb0ed2840a8354f902ac', 200)>, <Future: finished, type: pandas.core.frame.DataFrame, key: ('getitem-2db4419e4aa9cb0ed2840a8354f902ac', 304)>, <Future: finished, type: pandas.core.frame.DataFrame, key: ('getitem-2db4419e4aa9cb0ed2840a8354f902ac', 483)>, <Future: finished, type: pandas.core.frame.DataFrame, key: ('getitem-2db4419e4aa9cb0ed2840a8354f902ac', 319)>, <Future: finished, type: pandas.core.frame.DataFrame, key: ('getitem-2db4419e4aa9cb0ed2840a8354f902ac', 423)>, <Future: finished, type: pandas.core.frame.DataFrame, key: ('getitem-2db4419e4aa9cb0ed2840a8354f902ac', 438)>, <Future: finished, type: pandas.core.frame.DataFrame, key: ('getitem-2db4419e4aa9cb0ed2840a8354f902ac', 90)>, <Future: finished, type: pandas.core.frame.DataFrame, key: ('getitem-2db4419e4aa9cb0ed2840a8354f902ac', 209)>, <Future: finished, type: pandas.core.frame.DataFrame, key: ('getitem-2db4419e4aa9cb0ed2840a8354f902ac', 328)>, <Future: finished, type: pandas.core.frame.DataFrame, key: ('getitem-2db4419e4aa9cb0ed2840a8354f902ac', 447)>, <Future: finished, type: pandas.core.frame.DataFrame, key: ('getitem-2db4419e4aa9cb0ed2840a8354f902ac', 218)>, <Future: finished, type: pandas.core.frame.DataFrame, key: ('getitem-2db4419e4aa9cb0ed2840a8354f902ac', 337)>, <Future: finished, type: pandas.core.frame.DataFrame, key: ('getitem-2db4419e4aa9cb0ed2840a8354f902ac', 456)>, <Future: finished, type: pandas.core.frame.DataFrame, key: ('getitem-2db4419e4aa9cb0ed2840a8354f902ac', 346)>, <Future: finished, type: pandas.core.frame.DataFrame, key: ('getitem-2db4419e4aa9cb0ed2840a8354f902ac', 465)>, <Future: finished, type: pandas.core.frame.DataFrame, key: ('getitem-2db4419e4aa9cb0ed2840a8354f902ac', 47)>, <Future: finished, type: pandas.core.frame.DataFrame, key: ('getitem-2db4419e4aa9cb0ed2840a8354f902ac', 474)>, <Future: finished, type: pandas.core.frame.DataFrame, key: ('getitem-2db4419e4aa9cb0ed2840a8354f902ac', 56)>, <Future: finished, type: pandas.core.frame.DataFrame, key: ('getitem-2db4419e4aa9cb0ed2840a8354f902ac', 175)>, <Future: finished, type: pandas.core.frame.DataFrame, key: ('getitem-2db4419e4aa9cb0ed2840a8354f902ac', 500)>, <Future: finished, type: pandas.core.frame.DataFrame, key: ('getitem-2db4419e4aa9cb0ed2840a8354f902ac', 65)>, <Future: finished, type: pandas.core.frame.DataFrame, key: ('getitem-2db4419e4aa9cb0ed2840a8354f902ac', 184)>, <Future: finished, type: pandas.core.frame.DataFrame, key: ('getitem-2db4419e4aa9cb0ed2840a8354f902ac', 303)>, <Future: finished, type: pandas.core.frame.DataFrame, key: ('getitem-2db4419e4aa9cb0ed2840a8354f902ac', 74)>, <Future: finished, type: pandas.core.frame.DataFrame, key: ('getitem-2db4419e4aa9cb0ed2840a8354f902ac', 193)>, <Future: finished, type: pandas.core.frame.DataFrame, key: ('getitem-2db4419e4aa9cb0ed2840a8354f902ac', 312)>, <Future: finished, type: pandas.core.frame.DataFrame, key: ('getitem-2db4419e4aa9cb0ed2840a8354f902ac', 83)>, <Future: finished, type: pandas.core.frame.DataFrame, key: ('getitem-2db4419e4aa9cb0ed2840a8354f902ac', 202)>, <Future: finished, type: pandas.core.frame.DataFrame, key: ('getitem-2db4419e4aa9cb0ed2840a8354f902ac', 321)>, <Future: finished, type: pandas.core.frame.DataFrame, key: ('getitem-2db4419e4aa9cb0ed2840a8354f902ac', 440)>, <Future: finished, type: pandas.core.frame.DataFrame, key: ('getitem-2db4419e4aa9cb0ed2840a8354f902ac', 211)>, <Future: finished, type: pandas.core.frame.DataFrame, key: ('getitem-2db4419e4aa9cb0ed2840a8354f902ac', 330)>, <Future: finished, type: pandas.core.frame.DataFrame, key: ('getitem-2db4419e4aa9cb0ed2840a8354f902ac', 449)>, <Future: finished, type: pandas.core.frame.DataFrame, key: ('getitem-2db4419e4aa9cb0ed2840a8354f902ac', 339)>, <Future: finished, type: pandas.core.frame.DataFrame, key: ('getitem-2db4419e4aa9cb0ed2840a8354f902ac', 458)>, <Future: finished, type: pandas.core.frame.DataFrame, key: ('getitem-2db4419e4aa9cb0ed2840a8354f902ac', 40)>, <Future: finished, type: pandas.core.frame.DataFrame, key: ('getitem-2db4419e4aa9cb0ed2840a8354f902ac', 467)>, <Future: finished, type: pandas.core.frame.DataFrame, key: ('getitem-2db4419e4aa9cb0ed2840a8354f902ac', 49)>, <Future: finished, type: pandas.core.frame.DataFrame, key: ('getitem-2db4419e4aa9cb0ed2840a8354f902ac', 14)>, <Future: finished, type: pandas.core.frame.DataFrame, key: ('getitem-2db4419e4aa9cb0ed2840a8354f902ac', 476)>, <Future: finished, type: pandas.core.frame.DataFrame, key: ('getitem-2db4419e4aa9cb0ed2840a8354f902ac', 168)>, <Future: finished, type: pandas.core.frame.DataFrame, key: ('getitem-2db4419e4aa9cb0ed2840a8354f902ac', 58)>, <Future: finished, type: pandas.core.frame.DataFrame, key: ('getitem-2db4419e4aa9cb0ed2840a8354f902ac', 177)>, <Future: finished, type: pandas.core.frame.DataFrame, key: ('getitem-2db4419e4aa9cb0ed2840a8354f902ac', 67)>, <Future: finished, type: pandas.core.frame.DataFrame, key: ('getitem-2db4419e4aa9cb0ed2840a8354f902ac', 186)>, <Future: finished, type: pandas.core.frame.DataFrame, key: ('getitem-2db4419e4aa9cb0ed2840a8354f902ac', 196)>, <Future: finished, type: pandas.core.frame.DataFrame, key: ('getitem-2db4419e4aa9cb0ed2840a8354f902ac', 86)>, <Future: finished, type: pandas.core.frame.DataFrame, key: ('getitem-2db4419e4aa9cb0ed2840a8354f902ac', 205)>, <Future: finished, type: pandas.core.frame.DataFrame, key: ('getitem-2db4419e4aa9cb0ed2840a8354f902ac', 324)>, <Future: finished, type: pandas.core.frame.DataFrame, key: ('getitem-2db4419e4aa9cb0ed2840a8354f902ac', 95)>, <Future: finished, type: pandas.core.frame.DataFrame, key: ('getitem-2db4419e4aa9cb0ed2840a8354f902ac', 214)>, <Future: finished, type: pandas.core.frame.DataFrame, key: ('getitem-2db4419e4aa9cb0ed2840a8354f902ac', 333)>, <Future: finished, type: pandas.core.frame.DataFrame, key: ('getitem-2db4419e4aa9cb0ed2840a8354f902ac', 23)>, <Future: finished, type: pandas.core.frame.DataFrame, key: ('getitem-2db4419e4aa9cb0ed2840a8354f902ac', 452)>, <Future: finished, type: pandas.core.frame.DataFrame, key: ('getitem-2db4419e4aa9cb0ed2840a8354f902ac', 441)>, <Future: finished, type: pandas.core.frame.DataFrame, key: ('getitem-2db4419e4aa9cb0ed2840a8354f902ac', 223)>, <Future: finished, type: pandas.core.frame.DataFrame, key: ('getitem-2db4419e4aa9cb0ed2840a8354f902ac', 450)>, <Future: finished, type: pandas.core.frame.DataFrame, key: ('getitem-2db4419e4aa9cb0ed2840a8354f902ac', 342)>, <Future: finished, type: pandas.core.frame.DataFrame, key: ('getitem-2db4419e4aa9cb0ed2840a8354f902ac', 32)>, <Future: finished, type: pandas.core.frame.DataFrame, key: ('getitem-2db4419e4aa9cb0ed2840a8354f902ac', 461)>, <Future: finished, type: pandas.core.frame.DataFrame, key: ('getitem-2db4419e4aa9cb0ed2840a8354f902ac', 151)>, <Future: finished, type: pandas.core.frame.DataFrame, key: ('getitem-2db4419e4aa9cb0ed2840a8354f902ac', 232)>, <Future: finished, type: pandas.core.frame.DataFrame, key: ('getitem-2db4419e4aa9cb0ed2840a8354f902ac', 41)>, <Future: finished, type: pandas.core.frame.DataFrame, key: ('getitem-2db4419e4aa9cb0ed2840a8354f902ac', 351)>, <Future: finished, type: pandas.core.frame.DataFrame, key: ('getitem-2db4419e4aa9cb0ed2840a8354f902ac', 160)>, <Future: finished, type: pandas.core.frame.DataFrame, key: ('getitem-2db4419e4aa9cb0ed2840a8354f902ac', 470)>, <Future: finished, type: pandas.core.frame.DataFrame, key: ('getitem-2db4419e4aa9cb0ed2840a8354f902ac', 279)>, <Future: finished, type: pandas.core.frame.DataFrame, key: ('getitem-2db4419e4aa9cb0ed2840a8354f902ac', 360)>, <Future: finished, type: pandas.core.frame.DataFrame, key: ('getitem-2db4419e4aa9cb0ed2840a8354f902ac', 50)>, <Future: finished, type: pandas.core.frame.DataFrame, key: ('getitem-2db4419e4aa9cb0ed2840a8354f902ac', 479)>, <Future: finished, type: pandas.core.frame.DataFrame, key: ('getitem-2db4419e4aa9cb0ed2840a8354f902ac', 61)>, <Future: finished, type: pandas.core.frame.DataFrame, key: ('getitem-2db4419e4aa9cb0ed2840a8354f902ac', 169)>, <Future: finished, type: pandas.core.frame.DataFrame, key: ('getitem-2db4419e4aa9cb0ed2840a8354f902ac', 288)>, <Future: finished, type: pandas.core.frame.DataFrame, key: ('getitem-2db4419e4aa9cb0ed2840a8354f902ac', 488)>, <Future: finished, type: pandas.core.frame.DataFrame, key: ('getitem-2db4419e4aa9cb0ed2840a8354f902ac', 70)>, <Future: finished, type: pandas.core.frame.DataFrame, key: ('getitem-2db4419e4aa9cb0ed2840a8354f902ac', 407)>, <Future: finished, type: pandas.core.frame.DataFrame, key: ('getitem-2db4419e4aa9cb0ed2840a8354f902ac', 178)>, <Future: finished, type: pandas.core.frame.DataFrame, key: ('getitem-2db4419e4aa9cb0ed2840a8354f902ac', 189)>, <Future: finished, type: pandas.core.frame.DataFrame, key: ('getitem-2db4419e4aa9cb0ed2840a8354f902ac', 79)>, <Future: finished, type: pandas.core.frame.DataFrame, key: ('getitem-2db4419e4aa9cb0ed2840a8354f902ac', 297)>, <Future: finished, type: pandas.core.frame.DataFrame, key: ('getitem-2db4419e4aa9cb0ed2840a8354f902ac', 198)>, <Future: finished, type: pandas.core.frame.DataFrame, key: ('getitem-2db4419e4aa9cb0ed2840a8354f902ac', 416)>, <Future: finished, type: pandas.core.frame.DataFrame, key: ('getitem-2db4419e4aa9cb0ed2840a8354f902ac', 187)>, <Future: finished, type: pandas.core.frame.DataFrame, key: ('getitem-2db4419e4aa9cb0ed2840a8354f902ac', 317)>, <Future: finished, type: pandas.core.frame.DataFrame, key: ('getitem-2db4419e4aa9cb0ed2840a8354f902ac', 306)>, <Future: finished, type: pandas.core.frame.DataFrame, key: ('getitem-2db4419e4aa9cb0ed2840a8354f902ac', 88)>, <Future: finished, type: pandas.core.frame.DataFrame, key: ('getitem-2db4419e4aa9cb0ed2840a8354f902ac', 207)>, <Future: finished, type: pandas.core.frame.DataFrame, key: ('getitem-2db4419e4aa9cb0ed2840a8354f902ac', 425)>, <Future: finished, type: pandas.core.frame.DataFrame, key: ('getitem-2db4419e4aa9cb0ed2840a8354f902ac', 315)>, <Future: finished, type: pandas.core.frame.DataFrame, key: ('getitem-2db4419e4aa9cb0ed2840a8354f902ac', 326)>, <Future: finished, type: pandas.core.frame.DataFrame, key: ('getitem-2db4419e4aa9cb0ed2840a8354f902ac', 434)>, <Future: finished, type: pandas.core.frame.DataFrame, key: ('getitem-2db4419e4aa9cb0ed2840a8354f902ac', 445)>, <Future: finished, type: pandas.core.frame.DataFrame, key: ('getitem-2db4419e4aa9cb0ed2840a8354f902ac', 16)>, <Future: finished, type: pandas.core.frame.DataFrame, key: ('getitem-2db4419e4aa9cb0ed2840a8354f902ac', 97)>, <Future: finished, type: pandas.core.frame.DataFrame, key: ('getitem-2db4419e4aa9cb0ed2840a8354f902ac', 216)>, <Future: finished, type: pandas.core.frame.DataFrame, key: ('getitem-2db4419e4aa9cb0ed2840a8354f902ac', 443)>, <Future: finished, type: pandas.core.frame.DataFrame, key: ('getitem-2db4419e4aa9cb0ed2840a8354f902ac', 25)>, <Future: finished, type: pandas.core.frame.DataFrame, key: ('getitem-2db4419e4aa9cb0ed2840a8354f902ac', 335)>, <Future: finished, type: pandas.core.frame.DataFrame, key: ('getitem-2db4419e4aa9cb0ed2840a8354f902ac', 144)>, <Future: finished, type: pandas.core.frame.DataFrame, key: ('getitem-2db4419e4aa9cb0ed2840a8354f902ac', 454)>, <Future: finished, type: pandas.core.frame.DataFrame, key: ('getitem-2db4419e4aa9cb0ed2840a8354f902ac', 34)>, <Future: finished, type: pandas.core.frame.DataFrame, key: ('getitem-2db4419e4aa9cb0ed2840a8354f902ac', 225)>, <Future: finished, type: pandas.core.frame.DataFrame, key: ('getitem-2db4419e4aa9cb0ed2840a8354f902ac', 153)>, <Future: finished, type: pandas.core.frame.DataFrame, key: ('getitem-2db4419e4aa9cb0ed2840a8354f902ac', 344)>, <Future: finished, type: pandas.core.frame.DataFrame, key: ('getitem-2db4419e4aa9cb0ed2840a8354f902ac', 272)>, <Future: finished, type: pandas.core.frame.DataFrame, key: ('getitem-2db4419e4aa9cb0ed2840a8354f902ac', 463)>, <Future: finished, type: pandas.core.frame.DataFrame, key: ('getitem-2db4419e4aa9cb0ed2840a8354f902ac', 43)>, <Future: finished, type: pandas.core.frame.DataFrame, key: ('getitem-2db4419e4aa9cb0ed2840a8354f902ac', 353)>, <Future: finished, type: pandas.core.frame.DataFrame, key: ('getitem-2db4419e4aa9cb0ed2840a8354f902ac', 162)>, <Future: finished, type: pandas.core.frame.DataFrame, key: ('getitem-2db4419e4aa9cb0ed2840a8354f902ac', 472)>, <Future: finished, type: pandas.core.frame.DataFrame, key: ('getitem-2db4419e4aa9cb0ed2840a8354f902ac', 54)>, <Future: finished, type: pandas.core.frame.DataFrame, key: ('getitem-2db4419e4aa9cb0ed2840a8354f902ac', 281)>, <Future: finished, type: pandas.core.frame.DataFrame, key: ('getitem-2db4419e4aa9cb0ed2840a8354f902ac', 400)>, <Future: finished, type: pandas.core.frame.DataFrame, key: ('getitem-2db4419e4aa9cb0ed2840a8354f902ac', 481)>, <Future: finished, type: pandas.core.frame.DataFrame, key: ('getitem-2db4419e4aa9cb0ed2840a8354f902ac', 52)>, <Future: finished, type: pandas.core.frame.DataFrame, key: ('getitem-2db4419e4aa9cb0ed2840a8354f902ac', 63)>, <Future: finished, type: pandas.core.frame.DataFrame, key: ('getitem-2db4419e4aa9cb0ed2840a8354f902ac', 171)>, <Future: finished, type: pandas.core.frame.DataFrame, key: ('getitem-2db4419e4aa9cb0ed2840a8354f902ac', 182)>, <Future: finished, type: pandas.core.frame.DataFrame, key: ('getitem-2db4419e4aa9cb0ed2840a8354f902ac', 290)>, <Future: finished, type: pandas.core.frame.DataFrame, key: ('getitem-2db4419e4aa9cb0ed2840a8354f902ac', 72)>, <Future: finished, type: pandas.core.frame.DataFrame, key: ('getitem-2db4419e4aa9cb0ed2840a8354f902ac', 191)>, <Future: finished, type: pandas.core.frame.DataFrame, key: ('getitem-2db4419e4aa9cb0ed2840a8354f902ac', 409)>, <Future: finished, type: pandas.core.frame.DataFrame, key: ('getitem-2db4419e4aa9cb0ed2840a8354f902ac', 305)>, <Future: finished, type: pandas.core.frame.DataFrame, key: ('getitem-2db4419e4aa9cb0ed2840a8354f902ac', 76)>, <Future: finished, type: pandas.core.frame.DataFrame, key: ('getitem-2db4419e4aa9cb0ed2840a8354f902ac', 195)>, <Future: finished, type: pandas.core.frame.DataFrame, key: ('getitem-2db4419e4aa9cb0ed2840a8354f902ac', 314)>, <Future: finished, type: pandas.core.frame.DataFrame, key: ('getitem-2db4419e4aa9cb0ed2840a8354f902ac', 433)>, <Future: finished, type: pandas.core.frame.DataFrame, key: ('getitem-2db4419e4aa9cb0ed2840a8354f902ac', 204)>, <Future: finished, type: pandas.core.frame.DataFrame, key: ('getitem-2db4419e4aa9cb0ed2840a8354f902ac', 313)>, <Future: finished, type: pandas.core.frame.DataFrame, key: ('getitem-2db4419e4aa9cb0ed2840a8354f902ac', 323)>, <Future: finished, type: pandas.core.frame.DataFrame, key: ('getitem-2db4419e4aa9cb0ed2840a8354f902ac', 442)>, <Future: finished, type: pandas.core.frame.DataFrame, key: ('getitem-2db4419e4aa9cb0ed2840a8354f902ac', 332)>, <Future: finished, type: pandas.core.frame.DataFrame, key: ('getitem-2db4419e4aa9cb0ed2840a8354f902ac', 451)>, <Future: finished, type: pandas.core.frame.DataFrame, key: ('getitem-2db4419e4aa9cb0ed2840a8354f902ac', 341)>, <Future: finished, type: pandas.core.frame.DataFrame, key: ('getitem-2db4419e4aa9cb0ed2840a8354f902ac', 33)>, <Future: finished, type: pandas.core.frame.DataFrame, key: ('getitem-2db4419e4aa9cb0ed2840a8354f902ac', 432)>, <Future: finished, type: pandas.core.frame.DataFrame, key: ('getitem-2db4419e4aa9cb0ed2840a8354f902ac', 460)>, <Future: finished, type: pandas.core.frame.DataFrame, key: ('getitem-2db4419e4aa9cb0ed2840a8354f902ac', 42)>, <Future: finished, type: pandas.core.frame.DataFrame, key: ('getitem-2db4419e4aa9cb0ed2840a8354f902ac', 469)>, <Future: finished, type: pandas.core.frame.DataFrame, key: ('getitem-2db4419e4aa9cb0ed2840a8354f902ac', 51)>, <Future: finished, type: pandas.core.frame.DataFrame, key: ('getitem-2db4419e4aa9cb0ed2840a8354f902ac', 170)>, <Future: finished, type: pandas.core.frame.DataFrame, key: ('getitem-2db4419e4aa9cb0ed2840a8354f902ac', 60)>, <Future: finished, type: pandas.core.frame.DataFrame, key: ('getitem-2db4419e4aa9cb0ed2840a8354f902ac', 179)>, <Future: finished, type: pandas.core.frame.DataFrame, key: ('getitem-2db4419e4aa9cb0ed2840a8354f902ac', 298)>, <Future: finished, type: pandas.core.frame.DataFrame, key: ('getitem-2db4419e4aa9cb0ed2840a8354f902ac', 69)>, <Future: finished, type: pandas.core.frame.DataFrame, key: ('getitem-2db4419e4aa9cb0ed2840a8354f902ac', 188)>, <Future: finished, type: pandas.core.frame.DataFrame, key: ('getitem-2db4419e4aa9cb0ed2840a8354f902ac', 307)>, <Future: finished, type: pandas.core.frame.DataFrame, key: ('getitem-2db4419e4aa9cb0ed2840a8354f902ac', 426)>, <Future: finished, type: pandas.core.frame.DataFrame, key: ('getitem-2db4419e4aa9cb0ed2840a8354f902ac', 197)>, <Future: finished, type: pandas.core.frame.DataFrame, key: ('getitem-2db4419e4aa9cb0ed2840a8354f902ac', 316)>, <Future: finished, type: pandas.core.frame.DataFrame, key: ('getitem-2db4419e4aa9cb0ed2840a8354f902ac', 435)>, <Future: finished, type: pandas.core.frame.DataFrame, key: ('getitem-2db4419e4aa9cb0ed2840a8354f902ac', 206)>, <Future: finished, type: pandas.core.frame.DataFrame, key: ('getitem-2db4419e4aa9cb0ed2840a8354f902ac', 325)>, <Future: finished, type: pandas.core.frame.DataFrame, key: ('getitem-2db4419e4aa9cb0ed2840a8354f902ac', 444)>, <Future: finished, type: pandas.core.frame.DataFrame, key: ('getitem-2db4419e4aa9cb0ed2840a8354f902ac', 334)>, <Future: finished, type: pandas.core.frame.DataFrame, key: ('getitem-2db4419e4aa9cb0ed2840a8354f902ac', 453)>, <Future: finished, type: pandas.core.frame.DataFrame, key: ('getitem-2db4419e4aa9cb0ed2840a8354f902ac', 35)>, <Future: finished, type: pandas.core.frame.DataFrame, key: ('getitem-2db4419e4aa9cb0ed2840a8354f902ac', 462)>, <Future: finished, type: pandas.core.frame.DataFrame, key: ('getitem-2db4419e4aa9cb0ed2840a8354f902ac', 44)>, <Future: finished, type: pandas.core.frame.DataFrame, key: ('getitem-2db4419e4aa9cb0ed2840a8354f902ac', 163)>, <Future: finished, type: pandas.core.frame.DataFrame, key: ('getitem-2db4419e4aa9cb0ed2840a8354f902ac', 53)>, <Future: finished, type: pandas.core.frame.DataFrame, key: ('getitem-2db4419e4aa9cb0ed2840a8354f902ac', 172)>, <Future: finished, type: pandas.core.frame.DataFrame, key: ('getitem-2db4419e4aa9cb0ed2840a8354f902ac', 291)>, <Future: finished, type: pandas.core.frame.DataFrame, key: ('getitem-2db4419e4aa9cb0ed2840a8354f902ac', 62)>, <Future: finished, type: pandas.core.frame.DataFrame, key: ('getitem-2db4419e4aa9cb0ed2840a8354f902ac', 181)>, <Future: finished, type: pandas.core.frame.DataFrame, key: ('getitem-2db4419e4aa9cb0ed2840a8354f902ac', 300)>, <Future: finished, type: pandas.core.frame.DataFrame, key: ('getitem-2db4419e4aa9cb0ed2840a8354f902ac', 8)>, <Future: finished, type: pandas.core.frame.DataFrame, key: ('getitem-2db4419e4aa9cb0ed2840a8354f902ac', 180)>, <Future: finished, type: pandas.core.frame.DataFrame, key: ('getitem-2db4419e4aa9cb0ed2840a8354f902ac', 127)>, <Future: finished, type: pandas.core.frame.DataFrame, key: ('getitem-2db4419e4aa9cb0ed2840a8354f902ac', 299)>, <Future: finished, type: pandas.core.frame.DataFrame, key: ('getitem-2db4419e4aa9cb0ed2840a8354f902ac', 246)>, <Future: finished, type: pandas.core.frame.DataFrame, key: ('getitem-2db4419e4aa9cb0ed2840a8354f902ac', 418)>, <Future: finished, type: pandas.core.frame.DataFrame, key: ('getitem-2db4419e4aa9cb0ed2840a8354f902ac', 17)>, <Future: finished, type: pandas.core.frame.DataFrame, key: ('getitem-2db4419e4aa9cb0ed2840a8354f902ac', 308)>, <Future: finished, type: pandas.core.frame.DataFrame, key: ('getitem-2db4419e4aa9cb0ed2840a8354f902ac', 136)>, <Future: finished, type: pandas.core.frame.DataFrame, key: ('getitem-2db4419e4aa9cb0ed2840a8354f902ac', 427)>, <Future: finished, type: pandas.core.frame.DataFrame, key: ('getitem-2db4419e4aa9cb0ed2840a8354f902ac', 9)>, <Future: finished, type: pandas.core.frame.DataFrame, key: ('getitem-2db4419e4aa9cb0ed2840a8354f902ac', 255)>, <Future: finished, type: pandas.core.frame.DataFrame, key: ('getitem-2db4419e4aa9cb0ed2840a8354f902ac', 374)>, <Future: finished, type: pandas.core.frame.DataFrame, key: ('getitem-2db4419e4aa9cb0ed2840a8354f902ac', 436)>, <Future: finished, type: pandas.core.frame.DataFrame, key: ('getitem-2db4419e4aa9cb0ed2840a8354f902ac', 18)>, <Future: finished, type: pandas.core.frame.DataFrame, key: ('getitem-2db4419e4aa9cb0ed2840a8354f902ac', 26)>, <Future: finished, type: pandas.core.frame.DataFrame, key: ('getitem-2db4419e4aa9cb0ed2840a8354f902ac', 137)>, <Future: finished, type: pandas.core.frame.DataFrame, key: ('getitem-2db4419e4aa9cb0ed2840a8354f902ac', 145)>, <Future: finished, type: pandas.core.frame.DataFrame, key: ('getitem-2db4419e4aa9cb0ed2840a8354f902ac', 27)>, <Future: finished, type: pandas.core.frame.DataFrame, key: ('getitem-2db4419e4aa9cb0ed2840a8354f902ac', 264)>, <Future: finished, type: pandas.core.frame.DataFrame, key: ('getitem-2db4419e4aa9cb0ed2840a8354f902ac', 146)>, <Future: finished, type: pandas.core.frame.DataFrame, key: ('getitem-2db4419e4aa9cb0ed2840a8354f902ac', 383)>, <Future: finished, type: pandas.core.frame.DataFrame, key: ('getitem-2db4419e4aa9cb0ed2840a8354f902ac', 265)>, <Future: finished, type: pandas.core.frame.DataFrame, key: ('getitem-2db4419e4aa9cb0ed2840a8354f902ac', 502)>, <Future: finished, type: pandas.core.frame.DataFrame, key: ('getitem-2db4419e4aa9cb0ed2840a8354f902ac', 36)>, <Future: finished, type: pandas.core.frame.DataFrame, key: ('getitem-2db4419e4aa9cb0ed2840a8354f902ac', 154)>, <Future: finished, type: pandas.core.frame.DataFrame, key: ('getitem-2db4419e4aa9cb0ed2840a8354f902ac', 155)>, <Future: finished, type: pandas.core.frame.DataFrame, key: ('getitem-2db4419e4aa9cb0ed2840a8354f902ac', 273)>, <Future: finished, type: pandas.core.frame.DataFrame, key: ('getitem-2db4419e4aa9cb0ed2840a8354f902ac', 274)>, <Future: finished, type: pandas.core.frame.DataFrame, key: ('getitem-2db4419e4aa9cb0ed2840a8354f902ac', 392)>, <Future: finished, type: pandas.core.frame.DataFrame, key: ('getitem-2db4419e4aa9cb0ed2840a8354f902ac', 282)>, <Future: finished, type: pandas.core.frame.DataFrame, key: ('getitem-2db4419e4aa9cb0ed2840a8354f902ac', 393)>, <Future: finished, type: pandas.core.frame.DataFrame, key: ('getitem-2db4419e4aa9cb0ed2840a8354f902ac', 45)>, <Future: finished, type: pandas.core.frame.DataFrame, key: ('getitem-2db4419e4aa9cb0ed2840a8354f902ac', 401)>, <Future: finished, type: pandas.core.frame.DataFrame, key: ('getitem-2db4419e4aa9cb0ed2840a8354f902ac', 164)>, <Future: finished, type: pandas.core.frame.DataFrame, key: ('getitem-2db4419e4aa9cb0ed2840a8354f902ac', 410)>, <Future: finished, type: pandas.core.frame.DataFrame, key: ('getitem-2db4419e4aa9cb0ed2840a8354f902ac', 111)>, <Future: finished, type: pandas.core.frame.DataFrame, key: ('getitem-2db4419e4aa9cb0ed2840a8354f902ac', 283)>, <Future: finished, type: pandas.core.frame.DataFrame, key: ('getitem-2db4419e4aa9cb0ed2840a8354f902ac', 1)>, <Future: finished, type: pandas.core.frame.DataFrame, key: ('getitem-2db4419e4aa9cb0ed2840a8354f902ac', 402)>, <Future: finished, type: pandas.core.frame.DataFrame, key: ('getitem-2db4419e4aa9cb0ed2840a8354f902ac', 120)>, <Future: finished, type: pandas.core.frame.DataFrame, key: ('getitem-2db4419e4aa9cb0ed2840a8354f902ac', 173)>, <Future: finished, type: pandas.core.frame.DataFrame, key: ('getitem-2db4419e4aa9cb0ed2840a8354f902ac', 239)>, <Future: finished, type: pandas.core.frame.DataFrame, key: ('getitem-2db4419e4aa9cb0ed2840a8354f902ac', 292)>, <Future: finished, type: pandas.core.frame.DataFrame, key: ('getitem-2db4419e4aa9cb0ed2840a8354f902ac', 10)>, <Future: finished, type: pandas.core.frame.DataFrame, key: ('getitem-2db4419e4aa9cb0ed2840a8354f902ac', 411)>, <Future: finished, type: pandas.core.frame.DataFrame, key: ('getitem-2db4419e4aa9cb0ed2840a8354f902ac', 129)>, <Future: finished, type: pandas.core.frame.DataFrame, key: ('getitem-2db4419e4aa9cb0ed2840a8354f902ac', 301)>, <Future: finished, type: pandas.core.frame.DataFrame, key: ('getitem-2db4419e4aa9cb0ed2840a8354f902ac', 248)>, <Future: finished, type: pandas.core.frame.DataFrame, key: ('getitem-2db4419e4aa9cb0ed2840a8354f902ac', 420)>, <Future: finished, type: pandas.core.frame.DataFrame, key: ('getitem-2db4419e4aa9cb0ed2840a8354f902ac', 2)>, <Future: finished, type: pandas.core.frame.DataFrame, key: ('getitem-2db4419e4aa9cb0ed2840a8354f902ac', 367)>, <Future: finished, type: pandas.core.frame.DataFrame, key: ('getitem-2db4419e4aa9cb0ed2840a8354f902ac', 19)>, <Future: finished, type: pandas.core.frame.DataFrame, key: ('getitem-2db4419e4aa9cb0ed2840a8354f902ac', 429)>, <Future: finished, type: pandas.core.frame.DataFrame, key: ('getitem-2db4419e4aa9cb0ed2840a8354f902ac', 11)>, <Future: finished, type: pandas.core.frame.DataFrame, key: ('getitem-2db4419e4aa9cb0ed2840a8354f902ac', 138)>, <Future: finished, type: pandas.core.frame.DataFrame, key: ('getitem-2db4419e4aa9cb0ed2840a8354f902ac', 130)>, <Future: finished, type: pandas.core.frame.DataFrame, key: ('getitem-2db4419e4aa9cb0ed2840a8354f902ac', 257)>, <Future: finished, type: pandas.core.frame.DataFrame, key: ('getitem-2db4419e4aa9cb0ed2840a8354f902ac', 20)>, <Future: finished, type: pandas.core.frame.DataFrame, key: ('getitem-2db4419e4aa9cb0ed2840a8354f902ac', 376)>, <Future: finished, type: pandas.core.frame.DataFrame, key: ('getitem-2db4419e4aa9cb0ed2840a8354f902ac', 139)>, <Future: finished, type: pandas.core.frame.DataFrame, key: ('getitem-2db4419e4aa9cb0ed2840a8354f902ac', 147)>, <Future: finished, type: pandas.core.frame.DataFrame, key: ('getitem-2db4419e4aa9cb0ed2840a8354f902ac', 266)>, <Future: finished, type: pandas.core.frame.DataFrame, key: ('getitem-2db4419e4aa9cb0ed2840a8354f902ac', 258)>, <Future: finished, type: pandas.core.frame.DataFrame, key: ('getitem-2db4419e4aa9cb0ed2840a8354f902ac', 29)>, <Future: finished, type: pandas.core.frame.DataFrame, key: ('getitem-2db4419e4aa9cb0ed2840a8354f902ac', 385)>, <Future: finished, type: pandas.core.frame.DataFrame, key: ('getitem-2db4419e4aa9cb0ed2840a8354f902ac', 148)>, <Future: finished, type: pandas.core.frame.DataFrame, key: ('getitem-2db4419e4aa9cb0ed2840a8354f902ac', 275)>, <Future: finished, type: pandas.core.frame.DataFrame, key: ('getitem-2db4419e4aa9cb0ed2840a8354f902ac', 267)>, <Future: finished, type: pandas.core.frame.DataFrame, key: ('getitem-2db4419e4aa9cb0ed2840a8354f902ac', 394)>, <Future: finished, type: pandas.core.frame.DataFrame, key: ('getitem-2db4419e4aa9cb0ed2840a8354f902ac', 38)>, <Future: finished, type: pandas.core.frame.DataFrame, key: ('getitem-2db4419e4aa9cb0ed2840a8354f902ac', 403)>, <Future: finished, type: pandas.core.frame.DataFrame, key: ('getitem-2db4419e4aa9cb0ed2840a8354f902ac', 104)>, <Future: finished, type: pandas.core.frame.DataFrame, key: ('getitem-2db4419e4aa9cb0ed2840a8354f902ac', 157)>, <Future: finished, type: pandas.core.frame.DataFrame, key: ('getitem-2db4419e4aa9cb0ed2840a8354f902ac', 113)>, <Future: finished, type: pandas.core.frame.DataFrame, key: ('getitem-2db4419e4aa9cb0ed2840a8354f902ac', 276)>, <Future: finished, type: pandas.core.frame.DataFrame, key: ('getitem-2db4419e4aa9cb0ed2840a8354f902ac', 3)>, <Future: finished, type: pandas.core.frame.DataFrame, key: ('getitem-2db4419e4aa9cb0ed2840a8354f902ac', 395)>, <Future: finished, type: pandas.core.frame.DataFrame, key: ('getitem-2db4419e4aa9cb0ed2840a8354f902ac', 122)>, <Future: finished, type: pandas.core.frame.DataFrame, key: ('getitem-2db4419e4aa9cb0ed2840a8354f902ac', 166)>, <Future: finished, type: pandas.core.frame.DataFrame, key: ('getitem-2db4419e4aa9cb0ed2840a8354f902ac', 285)>, <Future: finished, type: pandas.core.frame.DataFrame, key: ('getitem-2db4419e4aa9cb0ed2840a8354f902ac', 241)>, <Future: finished, type: pandas.core.frame.DataFrame, key: ('getitem-2db4419e4aa9cb0ed2840a8354f902ac', 12)>, <Future: finished, type: pandas.core.frame.DataFrame, key: ('getitem-2db4419e4aa9cb0ed2840a8354f902ac', 404)>, <Future: finished, type: pandas.core.frame.DataFrame, key: ('getitem-2db4419e4aa9cb0ed2840a8354f902ac', 82)>, <Future: finished, type: pandas.core.frame.DataFrame, key: ('getitem-2db4419e4aa9cb0ed2840a8354f902ac', 201)>, <Future: finished, type: pandas.core.frame.DataFrame, key: ('getitem-2db4419e4aa9cb0ed2840a8354f902ac', 91)>, <Future: finished, type: pandas.core.frame.DataFrame, key: ('getitem-2db4419e4aa9cb0ed2840a8354f902ac', 210)>, <Future: finished, type: pandas.core.frame.DataFrame, key: ('getitem-2db4419e4aa9cb0ed2840a8354f902ac', 329)>, <Future: finished, type: pandas.core.frame.DataFrame, key: ('getitem-2db4419e4aa9cb0ed2840a8354f902ac', 100)>, <Future: finished, type: pandas.core.frame.DataFrame, key: ('getitem-2db4419e4aa9cb0ed2840a8354f902ac', 219)>, <Future: finished, type: pandas.core.frame.DataFrame, key: ('getitem-2db4419e4aa9cb0ed2840a8354f902ac', 338)>, <Future: finished, type: pandas.core.frame.DataFrame, key: ('getitem-2db4419e4aa9cb0ed2840a8354f902ac', 457)>, <Future: finished, type: pandas.core.frame.DataFrame, key: ('getitem-2db4419e4aa9cb0ed2840a8354f902ac', 109)>, <Future: finished, type: pandas.core.frame.DataFrame, key: ('getitem-2db4419e4aa9cb0ed2840a8354f902ac', 228)>, <Future: finished, type: pandas.core.frame.DataFrame, key: ('getitem-2db4419e4aa9cb0ed2840a8354f902ac', 347)>, <Future: finished, type: pandas.core.frame.DataFrame, key: ('getitem-2db4419e4aa9cb0ed2840a8354f902ac', 466)>, <Future: finished, type: pandas.core.frame.DataFrame, key: ('getitem-2db4419e4aa9cb0ed2840a8354f902ac', 237)>, <Future: finished, type: pandas.core.frame.DataFrame, key: ('getitem-2db4419e4aa9cb0ed2840a8354f902ac', 356)>, <Future: finished, type: pandas.core.frame.DataFrame, key: ('getitem-2db4419e4aa9cb0ed2840a8354f902ac', 475)>, <Future: finished, type: pandas.core.frame.DataFrame, key: ('getitem-2db4419e4aa9cb0ed2840a8354f902ac', 365)>, <Future: finished, type: pandas.core.frame.DataFrame, key: ('getitem-2db4419e4aa9cb0ed2840a8354f902ac', 484)>, <Future: finished, type: pandas.core.frame.DataFrame, key: ('getitem-2db4419e4aa9cb0ed2840a8354f902ac', 66)>, <Future: finished, type: pandas.core.frame.DataFrame, key: ('getitem-2db4419e4aa9cb0ed2840a8354f902ac', 493)>, <Future: finished, type: pandas.core.frame.DataFrame, key: ('getitem-2db4419e4aa9cb0ed2840a8354f902ac', 75)>, <Future: finished, type: pandas.core.frame.DataFrame, key: ('getitem-2db4419e4aa9cb0ed2840a8354f902ac', 194)>, <Future: finished, type: pandas.core.frame.DataFrame, key: ('getitem-2db4419e4aa9cb0ed2840a8354f902ac', 84)>, <Future: finished, type: pandas.core.frame.DataFrame, key: ('getitem-2db4419e4aa9cb0ed2840a8354f902ac', 203)>, <Future: finished, type: pandas.core.frame.DataFrame, key: ('getitem-2db4419e4aa9cb0ed2840a8354f902ac', 322)>, <Future: finished, type: pandas.core.frame.DataFrame, key: ('getitem-2db4419e4aa9cb0ed2840a8354f902ac', 93)>, <Future: finished, type: pandas.core.frame.DataFrame, key: ('getitem-2db4419e4aa9cb0ed2840a8354f902ac', 212)>, <Future: finished, type: pandas.core.frame.DataFrame, key: ('getitem-2db4419e4aa9cb0ed2840a8354f902ac', 331)>, <Future: finished, type: pandas.core.frame.DataFrame, key: ('getitem-2db4419e4aa9cb0ed2840a8354f902ac', 102)>, <Future: finished, type: pandas.core.frame.DataFrame, key: ('getitem-2db4419e4aa9cb0ed2840a8354f902ac', 221)>, <Future: finished, type: pandas.core.frame.DataFrame, key: ('getitem-2db4419e4aa9cb0ed2840a8354f902ac', 340)>, <Future: finished, type: pandas.core.frame.DataFrame, key: ('getitem-2db4419e4aa9cb0ed2840a8354f902ac', 459)>, <Future: finished, type: pandas.core.frame.DataFrame, key: ('getitem-2db4419e4aa9cb0ed2840a8354f902ac', 230)>, <Future: finished, type: pandas.core.frame.DataFrame, key: ('getitem-2db4419e4aa9cb0ed2840a8354f902ac', 349)>, <Future: finished, type: pandas.core.frame.DataFrame, key: ('getitem-2db4419e4aa9cb0ed2840a8354f902ac', 468)>, <Future: finished, type: pandas.core.frame.DataFrame, key: ('getitem-2db4419e4aa9cb0ed2840a8354f902ac', 358)>, <Future: finished, type: pandas.core.frame.DataFrame, key: ('getitem-2db4419e4aa9cb0ed2840a8354f902ac', 477)>, <Future: finished, type: pandas.core.frame.DataFrame, key: ('getitem-2db4419e4aa9cb0ed2840a8354f902ac', 59)>, <Future: finished, type: pandas.core.frame.DataFrame, key: ('getitem-2db4419e4aa9cb0ed2840a8354f902ac', 486)>, <Future: finished, type: pandas.core.frame.DataFrame, key: ('getitem-2db4419e4aa9cb0ed2840a8354f902ac', 68)>, <Future: finished, type: pandas.core.frame.DataFrame, key: ('getitem-2db4419e4aa9cb0ed2840a8354f902ac', 495)>, <Future: finished, type: pandas.core.frame.DataFrame, key: ('getitem-2db4419e4aa9cb0ed2840a8354f902ac', 77)>, <Future: finished, type: pandas.core.frame.DataFrame, key: ('getitem-2db4419e4aa9cb0ed2840a8354f902ac', 254)>, <Future: finished, type: pandas.core.frame.DataFrame, key: ('getitem-2db4419e4aa9cb0ed2840a8354f902ac', 373)>, <Future: finished, type: pandas.core.frame.DataFrame, key: ('getitem-2db4419e4aa9cb0ed2840a8354f902ac', 492)>, <Future: finished, type: pandas.core.frame.DataFrame, key: ('getitem-2db4419e4aa9cb0ed2840a8354f902ac', 263)>, <Future: finished, type: pandas.core.frame.DataFrame, key: ('getitem-2db4419e4aa9cb0ed2840a8354f902ac', 382)>, <Future: finished, type: pandas.core.frame.DataFrame, key: ('getitem-2db4419e4aa9cb0ed2840a8354f902ac', 501)>, <Future: finished, type: pandas.core.frame.DataFrame, key: ('getitem-2db4419e4aa9cb0ed2840a8354f902ac', 391)>, <Future: finished, type: pandas.core.frame.DataFrame, key: ('getitem-2db4419e4aa9cb0ed2840a8354f902ac', 92)>, <Future: finished, type: pandas.core.frame.DataFrame, key: ('getitem-2db4419e4aa9cb0ed2840a8354f902ac', 101)>, <Future: finished, type: pandas.core.frame.DataFrame, key: ('getitem-2db4419e4aa9cb0ed2840a8354f902ac', 220)>, <Future: finished, type: pandas.core.frame.DataFrame, key: ('getitem-2db4419e4aa9cb0ed2840a8354f902ac', 110)>, <Future: finished, type: pandas.core.frame.DataFrame, key: ('getitem-2db4419e4aa9cb0ed2840a8354f902ac', 229)>, <Future: finished, type: pandas.core.frame.DataFrame, key: ('getitem-2db4419e4aa9cb0ed2840a8354f902ac', 348)>, <Future: finished, type: pandas.core.frame.DataFrame, key: ('getitem-2db4419e4aa9cb0ed2840a8354f902ac', 0)>, <Future: finished, type: pandas.core.frame.DataFrame, key: ('getitem-2db4419e4aa9cb0ed2840a8354f902ac', 119)>, <Future: finished, type: pandas.core.frame.DataFrame, key: ('getitem-2db4419e4aa9cb0ed2840a8354f902ac', 238)>, <Future: finished, type: pandas.core.frame.DataFrame, key: ('getitem-2db4419e4aa9cb0ed2840a8354f902ac', 357)>, <Future: finished, type: pandas.core.frame.DataFrame, key: ('getitem-2db4419e4aa9cb0ed2840a8354f902ac', 128)>, <Future: finished, type: pandas.core.frame.DataFrame, key: ('getitem-2db4419e4aa9cb0ed2840a8354f902ac', 247)>, <Future: finished, type: pandas.core.frame.DataFrame, key: ('getitem-2db4419e4aa9cb0ed2840a8354f902ac', 366)>, <Future: finished, type: pandas.core.frame.DataFrame, key: ('getitem-2db4419e4aa9cb0ed2840a8354f902ac', 485)>, <Future: finished, type: pandas.core.frame.DataFrame, key: ('getitem-2db4419e4aa9cb0ed2840a8354f902ac', 256)>, <Future: finished, type: pandas.core.frame.DataFrame, key: ('getitem-2db4419e4aa9cb0ed2840a8354f902ac', 375)>, <Future: finished, type: pandas.core.frame.DataFrame, key: ('getitem-2db4419e4aa9cb0ed2840a8354f902ac', 494)>, <Future: finished, type: pandas.core.frame.DataFrame, key: ('getitem-2db4419e4aa9cb0ed2840a8354f902ac', 384)>, <Future: finished, type: pandas.core.frame.DataFrame, key: ('getitem-2db4419e4aa9cb0ed2840a8354f902ac', 503)>, <Future: finished, type: pandas.core.frame.DataFrame, key: ('getitem-2db4419e4aa9cb0ed2840a8354f902ac', 85)>, <Future: finished, type: pandas.core.frame.DataFrame, key: ('getitem-2db4419e4aa9cb0ed2840a8354f902ac', 94)>, <Future: finished, type: pandas.core.frame.DataFrame, key: ('getitem-2db4419e4aa9cb0ed2840a8354f902ac', 213)>, <Future: finished, type: pandas.core.frame.DataFrame, key: ('getitem-2db4419e4aa9cb0ed2840a8354f902ac', 103)>, <Future: finished, type: pandas.core.frame.DataFrame, key: ('getitem-2db4419e4aa9cb0ed2840a8354f902ac', 222)>, <Future: finished, type: pandas.core.frame.DataFrame, key: ('getitem-2db4419e4aa9cb0ed2840a8354f902ac', 112)>, <Future: finished, type: pandas.core.frame.DataFrame, key: ('getitem-2db4419e4aa9cb0ed2840a8354f902ac', 231)>, <Future: finished, type: pandas.core.frame.DataFrame, key: ('getitem-2db4419e4aa9cb0ed2840a8354f902ac', 350)>, <Future: finished, type: pandas.core.frame.DataFrame, key: ('getitem-2db4419e4aa9cb0ed2840a8354f902ac', 121)>, <Future: finished, type: pandas.core.frame.DataFrame, key: ('getitem-2db4419e4aa9cb0ed2840a8354f902ac', 240)>, <Future: finished, type: pandas.core.frame.DataFrame, key: ('getitem-2db4419e4aa9cb0ed2840a8354f902ac', 359)>, <Future: finished, type: pandas.core.frame.DataFrame, key: ('getitem-2db4419e4aa9cb0ed2840a8354f902ac', 478)>, <Future: finished, type: pandas.core.frame.DataFrame, key: ('getitem-2db4419e4aa9cb0ed2840a8354f902ac', 249)>, <Future: finished, type: pandas.core.frame.DataFrame, key: ('getitem-2db4419e4aa9cb0ed2840a8354f902ac', 368)>, <Future: finished, type: pandas.core.frame.DataFrame, key: ('getitem-2db4419e4aa9cb0ed2840a8354f902ac', 487)>, <Future: finished, type: pandas.core.frame.DataFrame, key: ('getitem-2db4419e4aa9cb0ed2840a8354f902ac', 377)>, <Future: finished, type: pandas.core.frame.DataFrame, key: ('getitem-2db4419e4aa9cb0ed2840a8354f902ac', 419)>, <Future: finished, type: pandas.core.frame.DataFrame, key: ('getitem-2db4419e4aa9cb0ed2840a8354f902ac', 71)>, <Future: finished, type: pandas.core.frame.DataFrame, key: ('getitem-2db4419e4aa9cb0ed2840a8354f902ac', 190)>, <Future: finished, type: pandas.core.frame.DataFrame, key: ('getitem-2db4419e4aa9cb0ed2840a8354f902ac', 309)>, <Future: finished, type: pandas.core.frame.DataFrame, key: ('getitem-2db4419e4aa9cb0ed2840a8354f902ac', 428)>, <Future: finished, type: pandas.core.frame.DataFrame, key: ('getitem-2db4419e4aa9cb0ed2840a8354f902ac', 199)>, <Future: finished, type: pandas.core.frame.DataFrame, key: ('getitem-2db4419e4aa9cb0ed2840a8354f902ac', 318)>, <Future: finished, type: pandas.core.frame.DataFrame, key: ('getitem-2db4419e4aa9cb0ed2840a8354f902ac', 437)>, <Future: finished, type: pandas.core.frame.DataFrame, key: ('getitem-2db4419e4aa9cb0ed2840a8354f902ac', 327)>, <Future: finished, type: pandas.core.frame.DataFrame, key: ('getitem-2db4419e4aa9cb0ed2840a8354f902ac', 446)>, <Future: finished, type: pandas.core.frame.DataFrame, key: ('getitem-2db4419e4aa9cb0ed2840a8354f902ac', 28)>, <Future: finished, type: pandas.core.frame.DataFrame, key: ('getitem-2db4419e4aa9cb0ed2840a8354f902ac', 455)>, <Future: finished, type: pandas.core.frame.DataFrame, key: ('getitem-2db4419e4aa9cb0ed2840a8354f902ac', 37)>, <Future: finished, type: pandas.core.frame.DataFrame, key: ('getitem-2db4419e4aa9cb0ed2840a8354f902ac', 156)>, <Future: finished, type: pandas.core.frame.DataFrame, key: ('getitem-2db4419e4aa9cb0ed2840a8354f902ac', 46)>, <Future: finished, type: pandas.core.frame.DataFrame, key: ('getitem-2db4419e4aa9cb0ed2840a8354f902ac', 165)>, <Future: finished, type: pandas.core.frame.DataFrame, key: ('getitem-2db4419e4aa9cb0ed2840a8354f902ac', 284)>, <Future: finished, type: pandas.core.frame.DataFrame, key: ('getitem-2db4419e4aa9cb0ed2840a8354f902ac', 55)>, <Future: finished, type: pandas.core.frame.DataFrame, key: ('getitem-2db4419e4aa9cb0ed2840a8354f902ac', 174)>, <Future: finished, type: pandas.core.frame.DataFrame, key: ('getitem-2db4419e4aa9cb0ed2840a8354f902ac', 293)>, <Future: finished, type: pandas.core.frame.DataFrame, key: ('getitem-2db4419e4aa9cb0ed2840a8354f902ac', 412)>, <Future: finished, type: pandas.core.frame.DataFrame, key: ('getitem-2db4419e4aa9cb0ed2840a8354f902ac', 64)>, <Future: finished, type: pandas.core.frame.DataFrame, key: ('getitem-2db4419e4aa9cb0ed2840a8354f902ac', 183)>, <Future: finished, type: pandas.core.frame.DataFrame, key: ('getitem-2db4419e4aa9cb0ed2840a8354f902ac', 302)>, <Future: finished, type: pandas.core.frame.DataFrame, key: ('getitem-2db4419e4aa9cb0ed2840a8354f902ac', 421)>, <Future: finished, type: pandas.core.frame.DataFrame, key: ('getitem-2db4419e4aa9cb0ed2840a8354f902ac', 192)>, <Future: finished, type: pandas.core.frame.DataFrame, key: ('getitem-2db4419e4aa9cb0ed2840a8354f902ac', 311)>, <Future: finished, type: pandas.core.frame.DataFrame, key: ('getitem-2db4419e4aa9cb0ed2840a8354f902ac', 430)>, <Future: finished, type: pandas.core.frame.DataFrame, key: ('getitem-2db4419e4aa9cb0ed2840a8354f902ac', 320)>, <Future: finished, type: pandas.core.frame.DataFrame, key: ('getitem-2db4419e4aa9cb0ed2840a8354f902ac', 439)>, <Future: finished, type: pandas.core.frame.DataFrame, key: ('getitem-2db4419e4aa9cb0ed2840a8354f902ac', 21)>, <Future: finished, type: pandas.core.frame.DataFrame, key: ('getitem-2db4419e4aa9cb0ed2840a8354f902ac', 448)>, <Future: finished, type: pandas.core.frame.DataFrame, key: ('getitem-2db4419e4aa9cb0ed2840a8354f902ac', 30)>, <Future: finished, type: pandas.core.frame.DataFrame, key: ('getitem-2db4419e4aa9cb0ed2840a8354f902ac', 149)>, <Future: finished, type: pandas.core.frame.DataFrame, key: ('getitem-2db4419e4aa9cb0ed2840a8354f902ac', 39)>, <Future: finished, type: pandas.core.frame.DataFrame, key: ('getitem-2db4419e4aa9cb0ed2840a8354f902ac', 158)>, <Future: finished, type: pandas.core.frame.DataFrame, key: ('getitem-2db4419e4aa9cb0ed2840a8354f902ac', 48)>, <Future: finished, type: pandas.core.frame.DataFrame, key: ('getitem-2db4419e4aa9cb0ed2840a8354f902ac', 167)>, <Future: finished, type: pandas.core.frame.DataFrame, key: ('getitem-2db4419e4aa9cb0ed2840a8354f902ac', 286)>, <Future: finished, type: pandas.core.frame.DataFrame, key: ('getitem-2db4419e4aa9cb0ed2840a8354f902ac', 57)>, <Future: finished, type: pandas.core.frame.DataFrame, key: ('getitem-2db4419e4aa9cb0ed2840a8354f902ac', 176)>, <Future: finished, type: pandas.core.frame.DataFrame, key: ('getitem-2db4419e4aa9cb0ed2840a8354f902ac', 295)>, <Future: finished, type: pandas.core.frame.DataFrame, key: ('getitem-2db4419e4aa9cb0ed2840a8354f902ac', 131)>, <Future: finished, type: pandas.core.frame.DataFrame, key: ('getitem-2db4419e4aa9cb0ed2840a8354f902ac', 294)>, <Future: finished, type: pandas.core.frame.DataFrame, key: ('getitem-2db4419e4aa9cb0ed2840a8354f902ac', 496)>, <Future: finished, type: pandas.core.frame.DataFrame, key: ('getitem-2db4419e4aa9cb0ed2840a8354f902ac', 250)>, <Future: finished, type: pandas.core.frame.DataFrame, key: ('getitem-2db4419e4aa9cb0ed2840a8354f902ac', 386)>, <Future: finished, type: pandas.core.frame.DataFrame, key: ('getitem-2db4419e4aa9cb0ed2840a8354f902ac', 413)>, <Future: finished, type: pandas.core.frame.DataFrame, key: ('getitem-2db4419e4aa9cb0ed2840a8354f902ac', 78)>, <Future: finished, type: pandas.core.frame.DataFrame, key: ('getitem-2db4419e4aa9cb0ed2840a8354f902ac', 369)>, <Future: finished, type: pandas.core.frame.DataFrame, key: ('getitem-2db4419e4aa9cb0ed2840a8354f902ac', 422)>, <Future: finished, type: pandas.core.frame.DataFrame, key: ('getitem-2db4419e4aa9cb0ed2840a8354f902ac', 4)>, <Future: finished, type: pandas.core.frame.DataFrame, key: ('getitem-2db4419e4aa9cb0ed2840a8354f902ac', 87)>, <Future: finished, type: pandas.core.frame.DataFrame, key: ('getitem-2db4419e4aa9cb0ed2840a8354f902ac', 140)>, <Future: finished, type: pandas.core.frame.DataFrame, key: ('getitem-2db4419e4aa9cb0ed2840a8354f902ac', 96)>, <Future: finished, type: pandas.core.frame.DataFrame, key: ('getitem-2db4419e4aa9cb0ed2840a8354f902ac', 259)>, <Future: finished, type: pandas.core.frame.DataFrame, key: ('getitem-2db4419e4aa9cb0ed2840a8354f902ac', 431)>, <Future: finished, type: pandas.core.frame.DataFrame, key: ('getitem-2db4419e4aa9cb0ed2840a8354f902ac', 123)>, <Future: finished, type: pandas.core.frame.DataFrame, key: ('getitem-2db4419e4aa9cb0ed2840a8354f902ac', 215)>, <Future: finished, type: pandas.core.frame.DataFrame, key: ('getitem-2db4419e4aa9cb0ed2840a8354f902ac', 378)>, <Future: finished, type: pandas.core.frame.DataFrame, key: ('getitem-2db4419e4aa9cb0ed2840a8354f902ac', 13)>, <Future: finished, type: pandas.core.frame.DataFrame, key: ('getitem-2db4419e4aa9cb0ed2840a8354f902ac', 105)>, <Future: finished, type: pandas.core.frame.DataFrame, key: ('getitem-2db4419e4aa9cb0ed2840a8354f902ac', 497)>, <Future: finished, type: pandas.core.frame.DataFrame, key: ('getitem-2db4419e4aa9cb0ed2840a8354f902ac', 132)>, <Future: finished, type: pandas.core.frame.DataFrame, key: ('getitem-2db4419e4aa9cb0ed2840a8354f902ac', 224)>, <Future: finished, type: pandas.core.frame.DataFrame, key: ('getitem-2db4419e4aa9cb0ed2840a8354f902ac', 268)>, <Future: finished, type: pandas.core.frame.DataFrame, key: ('getitem-2db4419e4aa9cb0ed2840a8354f902ac', 22)>, <Future: finished, type: pandas.core.frame.DataFrame, key: ('getitem-2db4419e4aa9cb0ed2840a8354f902ac', 343)>, <Future: finished, type: pandas.core.frame.DataFrame, key: ('getitem-2db4419e4aa9cb0ed2840a8354f902ac', 387)>, <Future: finished, type: pandas.core.frame.DataFrame, key: ('getitem-2db4419e4aa9cb0ed2840a8354f902ac', 277)>, <Future: finished, type: pandas.core.frame.DataFrame, key: ('getitem-2db4419e4aa9cb0ed2840a8354f902ac', 114)>, <Future: finished, type: pandas.core.frame.DataFrame, key: ('getitem-2db4419e4aa9cb0ed2840a8354f902ac', 141)>, <Future: finished, type: pandas.core.frame.DataFrame, key: ('getitem-2db4419e4aa9cb0ed2840a8354f902ac', 233)>, <Future: finished, type: pandas.core.frame.DataFrame, key: ('getitem-2db4419e4aa9cb0ed2840a8354f902ac', 260)>, <Future: finished, type: pandas.core.frame.DataFrame, key: ('getitem-2db4419e4aa9cb0ed2840a8354f902ac', 396)>, <Future: finished, type: pandas.core.frame.DataFrame, key: ('getitem-2db4419e4aa9cb0ed2840a8354f902ac', 31)>, <Future: finished, type: pandas.core.frame.DataFrame, key: ('getitem-2db4419e4aa9cb0ed2840a8354f902ac', 352)>, <Future: finished, type: pandas.core.frame.DataFrame, key: ('getitem-2db4419e4aa9cb0ed2840a8354f902ac', 405)>, <Future: finished, type: pandas.core.frame.DataFrame, key: ('getitem-2db4419e4aa9cb0ed2840a8354f902ac', 106)>, <Future: finished, type: pandas.core.frame.DataFrame, key: ('getitem-2db4419e4aa9cb0ed2840a8354f902ac', 150)>, <Future: finished, type: pandas.core.frame.DataFrame, key: ('getitem-2db4419e4aa9cb0ed2840a8354f902ac', 471)>, <Future: finished, type: pandas.core.frame.DataFrame, key: ('getitem-2db4419e4aa9cb0ed2840a8354f902ac', 115)>, <Future: finished, type: pandas.core.frame.DataFrame, key: ('getitem-2db4419e4aa9cb0ed2840a8354f902ac', 242)>, <Future: finished, type: pandas.core.frame.DataFrame, key: ('getitem-2db4419e4aa9cb0ed2840a8354f902ac', 269)>, <Future: finished, type: pandas.core.frame.DataFrame, key: ('getitem-2db4419e4aa9cb0ed2840a8354f902ac', 234)>, <Future: finished, type: pandas.core.frame.DataFrame, key: ('getitem-2db4419e4aa9cb0ed2840a8354f902ac', 361)>, <Future: finished, type: pandas.core.frame.DataFrame, key: ('getitem-2db4419e4aa9cb0ed2840a8354f902ac', 388)>, <Future: finished, type: pandas.core.frame.DataFrame, key: ('getitem-2db4419e4aa9cb0ed2840a8354f902ac', 5)>, <Future: finished, type: pandas.core.frame.DataFrame, key: ('getitem-2db4419e4aa9cb0ed2840a8354f902ac', 159)>, <Future: finished, type: pandas.core.frame.DataFrame, key: ('getitem-2db4419e4aa9cb0ed2840a8354f902ac', 480)>, <Future: finished, type: pandas.core.frame.DataFrame, key: ('getitem-2db4419e4aa9cb0ed2840a8354f902ac', 124)>, <Future: finished, type: pandas.core.frame.DataFrame, key: ('getitem-2db4419e4aa9cb0ed2840a8354f902ac', 251)>, <Future: finished, type: pandas.core.frame.DataFrame, key: ('getitem-2db4419e4aa9cb0ed2840a8354f902ac', 278)>, <Future: finished, type: pandas.core.frame.DataFrame, key: ('getitem-2db4419e4aa9cb0ed2840a8354f902ac', 243)>, <Future: finished, type: pandas.core.frame.DataFrame, key: ('getitem-2db4419e4aa9cb0ed2840a8354f902ac', 370)>, <Future: finished, type: pandas.core.frame.DataFrame, key: ('getitem-2db4419e4aa9cb0ed2840a8354f902ac', 397)>, <Future: finished, type: pandas.core.frame.DataFrame, key: ('getitem-2db4419e4aa9cb0ed2840a8354f902ac', 287)>, <Future: finished, type: pandas.core.frame.DataFrame, key: ('getitem-2db4419e4aa9cb0ed2840a8354f902ac', 362)>, <Future: finished, type: pandas.core.frame.DataFrame, key: ('getitem-2db4419e4aa9cb0ed2840a8354f902ac', 489)>, <Future: finished, type: pandas.core.frame.DataFrame, key: ('getitem-2db4419e4aa9cb0ed2840a8354f902ac', 133)>, <Future: finished, type: pandas.core.frame.DataFrame, key: ('getitem-2db4419e4aa9cb0ed2840a8354f902ac', 379)>, <Future: finished, type: pandas.core.frame.DataFrame, key: ('getitem-2db4419e4aa9cb0ed2840a8354f902ac', 406)>, <Future: finished, type: pandas.core.frame.DataFrame, key: ('getitem-2db4419e4aa9cb0ed2840a8354f902ac', 252)>, <Future: finished, type: pandas.core.frame.DataFrame, key: ('getitem-2db4419e4aa9cb0ed2840a8354f902ac', 296)>, <Future: finished, type: pandas.core.frame.DataFrame, key: ('getitem-2db4419e4aa9cb0ed2840a8354f902ac', 498)>, <Future: finished, type: pandas.core.frame.DataFrame, key: ('getitem-2db4419e4aa9cb0ed2840a8354f902ac', 80)>, <Future: finished, type: pandas.core.frame.DataFrame, key: ('getitem-2db4419e4aa9cb0ed2840a8354f902ac', 371)>, <Future: finished, type: pandas.core.frame.DataFrame, key: ('getitem-2db4419e4aa9cb0ed2840a8354f902ac', 415)>, <Future: finished, type: pandas.core.frame.DataFrame, key: ('getitem-2db4419e4aa9cb0ed2840a8354f902ac', 89)>, <Future: finished, type: pandas.core.frame.DataFrame, key: ('getitem-2db4419e4aa9cb0ed2840a8354f902ac', 424)>, <Future: finished, type: pandas.core.frame.DataFrame, key: ('getitem-2db4419e4aa9cb0ed2840a8354f902ac', 490)>, <Future: finished, type: pandas.core.frame.DataFrame, key: ('getitem-2db4419e4aa9cb0ed2840a8354f902ac', 6)>, <Future: finished, type: pandas.core.frame.DataFrame, key: ('getitem-2db4419e4aa9cb0ed2840a8354f902ac', 142)>, <Future: finished, type: pandas.core.frame.DataFrame, key: ('getitem-2db4419e4aa9cb0ed2840a8354f902ac', 208)>, <Future: finished, type: pandas.core.frame.DataFrame, key: ('getitem-2db4419e4aa9cb0ed2840a8354f902ac', 98)>, <Future: finished, type: pandas.core.frame.DataFrame, key: ('getitem-2db4419e4aa9cb0ed2840a8354f902ac', 125)>, <Future: finished, type: pandas.core.frame.DataFrame, key: ('getitem-2db4419e4aa9cb0ed2840a8354f902ac', 261)>, <Future: finished, type: pandas.core.frame.DataFrame, key: ('getitem-2db4419e4aa9cb0ed2840a8354f902ac', 15)>, <Future: finished, type: pandas.core.frame.DataFrame, key: ('getitem-2db4419e4aa9cb0ed2840a8354f902ac', 217)>, <Future: finished, type: pandas.core.frame.DataFrame, key: ('getitem-2db4419e4aa9cb0ed2840a8354f902ac', 380)>, <Future: finished, type: pandas.core.frame.DataFrame, key: ('getitem-2db4419e4aa9cb0ed2840a8354f902ac', 134)>, <Future: finished, type: pandas.core.frame.DataFrame, key: ('getitem-2db4419e4aa9cb0ed2840a8354f902ac', 336)>, <Future: finished, type: pandas.core.frame.DataFrame, key: ('getitem-2db4419e4aa9cb0ed2840a8354f902ac', 499)>, <Future: finished, type: pandas.core.frame.DataFrame, key: ('getitem-2db4419e4aa9cb0ed2840a8354f902ac', 253)>, <Future: finished, type: pandas.core.frame.DataFrame, key: ('getitem-2db4419e4aa9cb0ed2840a8354f902ac', 270)>, <Future: finished, type: pandas.core.frame.DataFrame, key: ('getitem-2db4419e4aa9cb0ed2840a8354f902ac', 107)>, <Future: finished, type: pandas.core.frame.DataFrame, key: ('getitem-2db4419e4aa9cb0ed2840a8354f902ac', 24)>, <Future: finished, type: pandas.core.frame.DataFrame, key: ('getitem-2db4419e4aa9cb0ed2840a8354f902ac', 226)>, <Future: finished, type: pandas.core.frame.DataFrame, key: ('getitem-2db4419e4aa9cb0ed2840a8354f902ac', 389)>, <Future: finished, type: pandas.core.frame.DataFrame, key: ('getitem-2db4419e4aa9cb0ed2840a8354f902ac', 143)>, <Future: finished, type: pandas.core.frame.DataFrame, key: ('getitem-2db4419e4aa9cb0ed2840a8354f902ac', 345)>, <Future: finished, type: pandas.core.frame.DataFrame, key: ('getitem-2db4419e4aa9cb0ed2840a8354f902ac', 398)>, <Future: finished, type: pandas.core.frame.DataFrame, key: ('getitem-2db4419e4aa9cb0ed2840a8354f902ac', 99)>, <Future: finished, type: pandas.core.frame.DataFrame, key: ('getitem-2db4419e4aa9cb0ed2840a8354f902ac', 262)>, <Future: finished, type: pandas.core.frame.DataFrame, key: ('getitem-2db4419e4aa9cb0ed2840a8354f902ac', 464)>, <Future: finished, type: pandas.core.frame.DataFrame, key: ('getitem-2db4419e4aa9cb0ed2840a8354f902ac', 108)>, <Future: finished, type: pandas.core.frame.DataFrame, key: ('getitem-2db4419e4aa9cb0ed2840a8354f902ac', 116)>, <Future: finished, type: pandas.core.frame.DataFrame, key: ('getitem-2db4419e4aa9cb0ed2840a8354f902ac', 381)>, <Future: finished, type: pandas.core.frame.DataFrame, key: ('getitem-2db4419e4aa9cb0ed2840a8354f902ac', 152)>, <Future: finished, type: pandas.core.frame.DataFrame, key: ('getitem-2db4419e4aa9cb0ed2840a8354f902ac', 227)>, <Future: finished, type: pandas.core.frame.DataFrame, key: ('getitem-2db4419e4aa9cb0ed2840a8354f902ac', 235)>, <Future: finished, type: pandas.core.frame.DataFrame, key: ('getitem-2db4419e4aa9cb0ed2840a8354f902ac', 117)>, <Future: finished, type: pandas.core.frame.DataFrame, key: ('getitem-2db4419e4aa9cb0ed2840a8354f902ac', 271)>, <Future: finished, type: pandas.core.frame.DataFrame, key: ('getitem-2db4419e4aa9cb0ed2840a8354f902ac', 354)>, <Future: finished, type: pandas.core.frame.DataFrame, key: ('getitem-2db4419e4aa9cb0ed2840a8354f902ac', 236)>, <Future: finished, type: pandas.core.frame.DataFrame, key: ('getitem-2db4419e4aa9cb0ed2840a8354f902ac', 390)>, <Future: finished, type: pandas.core.frame.DataFrame, key: ('getitem-2db4419e4aa9cb0ed2840a8354f902ac', 417)>, <Future: finished, type: pandas.core.frame.DataFrame, key: ('getitem-2db4419e4aa9cb0ed2840a8354f902ac', 473)>, <Future: finished, type: pandas.core.frame.DataFrame, key: ('getitem-2db4419e4aa9cb0ed2840a8354f902ac', 161)>, <Future: finished, type: pandas.core.frame.DataFrame, key: ('getitem-2db4419e4aa9cb0ed2840a8354f902ac', 244)>, <Future: finished, type: pandas.core.frame.DataFrame, key: ('getitem-2db4419e4aa9cb0ed2840a8354f902ac', 355)>, <Future: finished, type: pandas.core.frame.DataFrame, key: ('getitem-2db4419e4aa9cb0ed2840a8354f902ac', 7)>, <Future: finished, type: pandas.core.frame.DataFrame, key: ('getitem-2db4419e4aa9cb0ed2840a8354f902ac', 280)>, <Future: finished, type: pandas.core.frame.DataFrame, key: ('getitem-2db4419e4aa9cb0ed2840a8354f902ac', 363)>, <Future: finished, type: pandas.core.frame.DataFrame, key: ('getitem-2db4419e4aa9cb0ed2840a8354f902ac', 126)>, <Future: finished, type: pandas.core.frame.DataFrame, key: ('getitem-2db4419e4aa9cb0ed2840a8354f902ac', 399)>, <Future: finished, type: pandas.core.frame.DataFrame, key: ('getitem-2db4419e4aa9cb0ed2840a8354f902ac', 482)>, <Future: finished, type: pandas.core.frame.DataFrame, key: ('getitem-2db4419e4aa9cb0ed2840a8354f902ac', 245)>, <Future: finished, type: pandas.core.frame.DataFrame, key: ('getitem-2db4419e4aa9cb0ed2840a8354f902ac', 289)>, <Future: finished, type: pandas.core.frame.DataFrame, key: ('getitem-2db4419e4aa9cb0ed2840a8354f902ac', 372)>, <Future: finished, type: pandas.core.frame.DataFrame, key: ('getitem-2db4419e4aa9cb0ed2840a8354f902ac', 118)>, <Future: finished, type: pandas.core.frame.DataFrame, key: ('getitem-2db4419e4aa9cb0ed2840a8354f902ac', 364)>, <Future: finished, type: pandas.core.frame.DataFrame, key: ('getitem-2db4419e4aa9cb0ed2840a8354f902ac', 408)>, <Future: finished, type: pandas.core.frame.DataFrame, key: ('getitem-2db4419e4aa9cb0ed2840a8354f902ac', 491)>, <Future: finished, type: pandas.core.frame.DataFrame, key: ('getitem-2db4419e4aa9cb0ed2840a8354f902ac', 73)>, <Future: finished, type: pandas.core.frame.DataFrame, key: ('getitem-2db4419e4aa9cb0ed2840a8354f902ac', 135)>}, not_done=set())"
      ]
     },
     "execution_count": 30,
     "metadata": {},
     "output_type": "execute_result"
    }
   ],
   "source": [
    "wait(io_ddf)\n",
    "wait(trace_ddf)"
   ]
  },
  {
   "cell_type": "code",
   "execution_count": 31,
   "metadata": {},
   "outputs": [],
   "source": [
    "all_filenames = io_ddf[io_ddf['filename'].str.contains('/p/gpfs1')]['filename'].unique().compute()"
   ]
  },
  {
   "cell_type": "code",
   "execution_count": 32,
   "metadata": {},
   "outputs": [
    {
     "data": {
      "text/plain": [
       "644773"
      ]
     },
     "execution_count": 32,
     "metadata": {},
     "output_type": "execute_result"
    }
   ],
   "source": [
    "len(all_filenames)"
   ]
  },
  {
   "cell_type": "code",
   "execution_count": 33,
   "metadata": {},
   "outputs": [],
   "source": [
    "relevant_filenames = all_filenames.to_numpy()"
   ]
  },
  {
   "cell_type": "code",
   "execution_count": 34,
   "metadata": {},
   "outputs": [],
   "source": [
    "file_df = io_ddf[io_ddf['filename'].isin(relevant_filenames)][['rank','filename', 'func_id','size', 'tstart', 'tend']].compute()"
   ]
  },
  {
   "cell_type": "code",
   "execution_count": 35,
   "metadata": {},
   "outputs": [],
   "source": [
    "correct_dur = ((file_df['tend'] - file_df['tstart']) > 0)\n",
    "file_df['bandwidth'] = -100\n",
    "file_df['bandwidth'] = file_df['bandwidth'].mask(correct_dur, file_df['size']*1.0/(file_df['tend'] - file_df['tstart'])/1024.0/1024.0)"
   ]
  },
  {
   "cell_type": "code",
   "execution_count": 36,
   "metadata": {},
   "outputs": [
    {
     "data": {
      "text/html": [
       "<div>\n",
       "<style scoped>\n",
       "    .dataframe tbody tr th:only-of-type {\n",
       "        vertical-align: middle;\n",
       "    }\n",
       "\n",
       "    .dataframe tbody tr th {\n",
       "        vertical-align: top;\n",
       "    }\n",
       "\n",
       "    .dataframe thead th {\n",
       "        text-align: right;\n",
       "    }\n",
       "</style>\n",
       "<table border=\"1\" class=\"dataframe\">\n",
       "  <thead>\n",
       "    <tr style=\"text-align: right;\">\n",
       "      <th></th>\n",
       "      <th>rank</th>\n",
       "      <th>filename</th>\n",
       "      <th>func_id</th>\n",
       "      <th>size</th>\n",
       "      <th>tstart</th>\n",
       "      <th>tend</th>\n",
       "      <th>bandwidth</th>\n",
       "    </tr>\n",
       "  </thead>\n",
       "  <tbody>\n",
       "    <tr>\n",
       "      <th>711</th>\n",
       "      <td>0</td>\n",
       "      <td>/p/gpfs1/haridev/software/lbann/applications/p...</td>\n",
       "      <td>open64</td>\n",
       "      <td>0</td>\n",
       "      <td>18.678453</td>\n",
       "      <td>18.679020</td>\n",
       "      <td>0.000000</td>\n",
       "    </tr>\n",
       "    <tr>\n",
       "      <th>844</th>\n",
       "      <td>0</td>\n",
       "      <td>/p/gpfs1/haridev/software/lbann/applications/p...</td>\n",
       "      <td>read</td>\n",
       "      <td>8192</td>\n",
       "      <td>18.814419</td>\n",
       "      <td>18.817913</td>\n",
       "      <td>2.235808</td>\n",
       "    </tr>\n",
       "    <tr>\n",
       "      <th>13312</th>\n",
       "      <td>0</td>\n",
       "      <td>/p/gpfs1/haridev/software/lbann/applications/p...</td>\n",
       "      <td>read</td>\n",
       "      <td>8192</td>\n",
       "      <td>35.612858</td>\n",
       "      <td>35.612926</td>\n",
       "      <td>113.777778</td>\n",
       "    </tr>\n",
       "    <tr>\n",
       "      <th>21344</th>\n",
       "      <td>0</td>\n",
       "      <td>/p/gpfs1/haridev/software/lbann/applications/p...</td>\n",
       "      <td>read</td>\n",
       "      <td>8192</td>\n",
       "      <td>50.504070</td>\n",
       "      <td>50.504166</td>\n",
       "      <td>81.920000</td>\n",
       "    </tr>\n",
       "    <tr>\n",
       "      <th>21346</th>\n",
       "      <td>0</td>\n",
       "      <td>/p/gpfs1/haridev/software/lbann/applications/p...</td>\n",
       "      <td>close</td>\n",
       "      <td>0</td>\n",
       "      <td>50.504601</td>\n",
       "      <td>50.504627</td>\n",
       "      <td>0.000000</td>\n",
       "    </tr>\n",
       "    <tr>\n",
       "      <th>...</th>\n",
       "      <td>...</td>\n",
       "      <td>...</td>\n",
       "      <td>...</td>\n",
       "      <td>...</td>\n",
       "      <td>...</td>\n",
       "      <td>...</td>\n",
       "      <td>...</td>\n",
       "    </tr>\n",
       "    <tr>\n",
       "      <th>7991540</th>\n",
       "      <td>127</td>\n",
       "      <td>/p/gpfs1/brainusr/datasets/cosmoflow/cosmoUniv...</td>\n",
       "      <td>pread</td>\n",
       "      <td>2097152</td>\n",
       "      <td>6446.874512</td>\n",
       "      <td>6446.875000</td>\n",
       "      <td>4096.000000</td>\n",
       "    </tr>\n",
       "    <tr>\n",
       "      <th>7991542</th>\n",
       "      <td>127</td>\n",
       "      <td>/p/gpfs1/brainusr/datasets/cosmoflow/cosmoUniv...</td>\n",
       "      <td>pread</td>\n",
       "      <td>2097152</td>\n",
       "      <td>6446.875000</td>\n",
       "      <td>6446.875488</td>\n",
       "      <td>4096.000000</td>\n",
       "    </tr>\n",
       "    <tr>\n",
       "      <th>7991546</th>\n",
       "      <td>127</td>\n",
       "      <td>/p/gpfs1/brainusr/datasets/cosmoflow/cosmoUniv...</td>\n",
       "      <td>pread</td>\n",
       "      <td>512</td>\n",
       "      <td>6446.875488</td>\n",
       "      <td>6446.875488</td>\n",
       "      <td>-100.000000</td>\n",
       "    </tr>\n",
       "    <tr>\n",
       "      <th>7991549</th>\n",
       "      <td>127</td>\n",
       "      <td>/p/gpfs1/brainusr/datasets/cosmoflow/cosmoUniv...</td>\n",
       "      <td>pread</td>\n",
       "      <td>16</td>\n",
       "      <td>6446.875488</td>\n",
       "      <td>6446.875488</td>\n",
       "      <td>-100.000000</td>\n",
       "    </tr>\n",
       "    <tr>\n",
       "      <th>7991553</th>\n",
       "      <td>127</td>\n",
       "      <td>/p/gpfs1/brainusr/datasets/cosmoflow/cosmoUniv...</td>\n",
       "      <td>close</td>\n",
       "      <td>0</td>\n",
       "      <td>6446.875977</td>\n",
       "      <td>6446.875977</td>\n",
       "      <td>-100.000000</td>\n",
       "    </tr>\n",
       "  </tbody>\n",
       "</table>\n",
       "<p>73056804 rows × 7 columns</p>\n",
       "</div>"
      ],
      "text/plain": [
       "         rank                                           filename func_id  \\\n",
       "711         0  /p/gpfs1/haridev/software/lbann/applications/p...  open64   \n",
       "844         0  /p/gpfs1/haridev/software/lbann/applications/p...    read   \n",
       "13312       0  /p/gpfs1/haridev/software/lbann/applications/p...    read   \n",
       "21344       0  /p/gpfs1/haridev/software/lbann/applications/p...    read   \n",
       "21346       0  /p/gpfs1/haridev/software/lbann/applications/p...   close   \n",
       "...       ...                                                ...     ...   \n",
       "7991540   127  /p/gpfs1/brainusr/datasets/cosmoflow/cosmoUniv...   pread   \n",
       "7991542   127  /p/gpfs1/brainusr/datasets/cosmoflow/cosmoUniv...   pread   \n",
       "7991546   127  /p/gpfs1/brainusr/datasets/cosmoflow/cosmoUniv...   pread   \n",
       "7991549   127  /p/gpfs1/brainusr/datasets/cosmoflow/cosmoUniv...   pread   \n",
       "7991553   127  /p/gpfs1/brainusr/datasets/cosmoflow/cosmoUniv...   close   \n",
       "\n",
       "            size       tstart         tend    bandwidth  \n",
       "711            0    18.678453    18.679020     0.000000  \n",
       "844         8192    18.814419    18.817913     2.235808  \n",
       "13312       8192    35.612858    35.612926   113.777778  \n",
       "21344       8192    50.504070    50.504166    81.920000  \n",
       "21346          0    50.504601    50.504627     0.000000  \n",
       "...          ...          ...          ...          ...  \n",
       "7991540  2097152  6446.874512  6446.875000  4096.000000  \n",
       "7991542  2097152  6446.875000  6446.875488  4096.000000  \n",
       "7991546      512  6446.875488  6446.875488  -100.000000  \n",
       "7991549       16  6446.875488  6446.875488  -100.000000  \n",
       "7991553        0  6446.875977  6446.875977  -100.000000  \n",
       "\n",
       "[73056804 rows x 7 columns]"
      ]
     },
     "execution_count": 36,
     "metadata": {},
     "output_type": "execute_result"
    }
   ],
   "source": [
    "file_df"
   ]
  },
  {
   "cell_type": "code",
   "execution_count": 37,
   "metadata": {},
   "outputs": [
    {
     "data": {
      "text/html": [
       "<div>\n",
       "<style scoped>\n",
       "    .dataframe tbody tr th:only-of-type {\n",
       "        vertical-align: middle;\n",
       "    }\n",
       "\n",
       "    .dataframe tbody tr th {\n",
       "        vertical-align: top;\n",
       "    }\n",
       "\n",
       "    .dataframe thead th {\n",
       "        text-align: right;\n",
       "    }\n",
       "</style>\n",
       "<table border=\"1\" class=\"dataframe\">\n",
       "  <thead>\n",
       "    <tr style=\"text-align: right;\">\n",
       "      <th></th>\n",
       "      <th>rank</th>\n",
       "      <th>filename</th>\n",
       "      <th>func_id</th>\n",
       "      <th>size</th>\n",
       "      <th>tstart</th>\n",
       "      <th>tend</th>\n",
       "      <th>bandwidth</th>\n",
       "    </tr>\n",
       "  </thead>\n",
       "  <tbody>\n",
       "    <tr>\n",
       "      <th>844</th>\n",
       "      <td>0</td>\n",
       "      <td>/p/gpfs1/haridev/software/lbann/applications/p...</td>\n",
       "      <td>read</td>\n",
       "      <td>8192</td>\n",
       "      <td>18.814419</td>\n",
       "      <td>18.817913</td>\n",
       "      <td>2.235808</td>\n",
       "    </tr>\n",
       "    <tr>\n",
       "      <th>13312</th>\n",
       "      <td>0</td>\n",
       "      <td>/p/gpfs1/haridev/software/lbann/applications/p...</td>\n",
       "      <td>read</td>\n",
       "      <td>8192</td>\n",
       "      <td>35.612858</td>\n",
       "      <td>35.612926</td>\n",
       "      <td>113.777778</td>\n",
       "    </tr>\n",
       "    <tr>\n",
       "      <th>21344</th>\n",
       "      <td>0</td>\n",
       "      <td>/p/gpfs1/haridev/software/lbann/applications/p...</td>\n",
       "      <td>read</td>\n",
       "      <td>8192</td>\n",
       "      <td>50.504070</td>\n",
       "      <td>50.504166</td>\n",
       "      <td>81.920000</td>\n",
       "    </tr>\n",
       "    <tr>\n",
       "      <th>24291</th>\n",
       "      <td>0</td>\n",
       "      <td>/p/gpfs1/brainusr/datasets/cosmoflow/cosmoUniv...</td>\n",
       "      <td>pread64</td>\n",
       "      <td>8</td>\n",
       "      <td>1001.773621</td>\n",
       "      <td>1001.793457</td>\n",
       "      <td>0.000385</td>\n",
       "    </tr>\n",
       "    <tr>\n",
       "      <th>24292</th>\n",
       "      <td>0</td>\n",
       "      <td>/p/gpfs1/brainusr/datasets/cosmoflow/cosmoUniv...</td>\n",
       "      <td>pread64</td>\n",
       "      <td>16</td>\n",
       "      <td>1001.793457</td>\n",
       "      <td>1001.793518</td>\n",
       "      <td>0.250000</td>\n",
       "    </tr>\n",
       "    <tr>\n",
       "      <th>...</th>\n",
       "      <td>...</td>\n",
       "      <td>...</td>\n",
       "      <td>...</td>\n",
       "      <td>...</td>\n",
       "      <td>...</td>\n",
       "      <td>...</td>\n",
       "      <td>...</td>\n",
       "    </tr>\n",
       "    <tr>\n",
       "      <th>7991538</th>\n",
       "      <td>127</td>\n",
       "      <td>/p/gpfs1/brainusr/datasets/cosmoflow/cosmoUniv...</td>\n",
       "      <td>pread</td>\n",
       "      <td>2097152</td>\n",
       "      <td>6446.874512</td>\n",
       "      <td>6446.874512</td>\n",
       "      <td>-100.000000</td>\n",
       "    </tr>\n",
       "    <tr>\n",
       "      <th>7991540</th>\n",
       "      <td>127</td>\n",
       "      <td>/p/gpfs1/brainusr/datasets/cosmoflow/cosmoUniv...</td>\n",
       "      <td>pread</td>\n",
       "      <td>2097152</td>\n",
       "      <td>6446.874512</td>\n",
       "      <td>6446.875000</td>\n",
       "      <td>4096.000000</td>\n",
       "    </tr>\n",
       "    <tr>\n",
       "      <th>7991542</th>\n",
       "      <td>127</td>\n",
       "      <td>/p/gpfs1/brainusr/datasets/cosmoflow/cosmoUniv...</td>\n",
       "      <td>pread</td>\n",
       "      <td>2097152</td>\n",
       "      <td>6446.875000</td>\n",
       "      <td>6446.875488</td>\n",
       "      <td>4096.000000</td>\n",
       "    </tr>\n",
       "    <tr>\n",
       "      <th>7991546</th>\n",
       "      <td>127</td>\n",
       "      <td>/p/gpfs1/brainusr/datasets/cosmoflow/cosmoUniv...</td>\n",
       "      <td>pread</td>\n",
       "      <td>512</td>\n",
       "      <td>6446.875488</td>\n",
       "      <td>6446.875488</td>\n",
       "      <td>-100.000000</td>\n",
       "    </tr>\n",
       "    <tr>\n",
       "      <th>7991549</th>\n",
       "      <td>127</td>\n",
       "      <td>/p/gpfs1/brainusr/datasets/cosmoflow/cosmoUniv...</td>\n",
       "      <td>pread</td>\n",
       "      <td>16</td>\n",
       "      <td>6446.875488</td>\n",
       "      <td>6446.875488</td>\n",
       "      <td>-100.000000</td>\n",
       "    </tr>\n",
       "  </tbody>\n",
       "</table>\n",
       "<p>53572224 rows × 7 columns</p>\n",
       "</div>"
      ],
      "text/plain": [
       "         rank                                           filename  func_id  \\\n",
       "844         0  /p/gpfs1/haridev/software/lbann/applications/p...     read   \n",
       "13312       0  /p/gpfs1/haridev/software/lbann/applications/p...     read   \n",
       "21344       0  /p/gpfs1/haridev/software/lbann/applications/p...     read   \n",
       "24291       0  /p/gpfs1/brainusr/datasets/cosmoflow/cosmoUniv...  pread64   \n",
       "24292       0  /p/gpfs1/brainusr/datasets/cosmoflow/cosmoUniv...  pread64   \n",
       "...       ...                                                ...      ...   \n",
       "7991538   127  /p/gpfs1/brainusr/datasets/cosmoflow/cosmoUniv...    pread   \n",
       "7991540   127  /p/gpfs1/brainusr/datasets/cosmoflow/cosmoUniv...    pread   \n",
       "7991542   127  /p/gpfs1/brainusr/datasets/cosmoflow/cosmoUniv...    pread   \n",
       "7991546   127  /p/gpfs1/brainusr/datasets/cosmoflow/cosmoUniv...    pread   \n",
       "7991549   127  /p/gpfs1/brainusr/datasets/cosmoflow/cosmoUniv...    pread   \n",
       "\n",
       "            size       tstart         tend    bandwidth  \n",
       "844         8192    18.814419    18.817913     2.235808  \n",
       "13312       8192    35.612858    35.612926   113.777778  \n",
       "21344       8192    50.504070    50.504166    81.920000  \n",
       "24291          8  1001.773621  1001.793457     0.000385  \n",
       "24292         16  1001.793457  1001.793518     0.250000  \n",
       "...          ...          ...          ...          ...  \n",
       "7991538  2097152  6446.874512  6446.874512  -100.000000  \n",
       "7991540  2097152  6446.874512  6446.875000  4096.000000  \n",
       "7991542  2097152  6446.875000  6446.875488  4096.000000  \n",
       "7991546      512  6446.875488  6446.875488  -100.000000  \n",
       "7991549       16  6446.875488  6446.875488  -100.000000  \n",
       "\n",
       "[53572224 rows x 7 columns]"
      ]
     },
     "execution_count": 37,
     "metadata": {},
     "output_type": "execute_result"
    }
   ],
   "source": [
    "file_df[file_df['func_id'].str.contains('read')]"
   ]
  },
  {
   "cell_type": "code",
   "execution_count": 38,
   "metadata": {},
   "outputs": [
    {
     "data": {
      "text/html": [
       "<div>\n",
       "<style scoped>\n",
       "    .dataframe tbody tr th:only-of-type {\n",
       "        vertical-align: middle;\n",
       "    }\n",
       "\n",
       "    .dataframe tbody tr th {\n",
       "        vertical-align: top;\n",
       "    }\n",
       "\n",
       "    .dataframe thead th {\n",
       "        text-align: right;\n",
       "    }\n",
       "</style>\n",
       "<table border=\"1\" class=\"dataframe\">\n",
       "  <thead>\n",
       "    <tr style=\"text-align: right;\">\n",
       "      <th></th>\n",
       "      <th>rank</th>\n",
       "      <th>filename</th>\n",
       "      <th>func_id</th>\n",
       "      <th>size</th>\n",
       "      <th>tstart</th>\n",
       "      <th>tend</th>\n",
       "      <th>bandwidth</th>\n",
       "    </tr>\n",
       "  </thead>\n",
       "  <tbody>\n",
       "    <tr>\n",
       "      <th>24299</th>\n",
       "      <td>0</td>\n",
       "      <td>/p/gpfs1/brainusr/datasets/cosmoflow/cosmoUniv...</td>\n",
       "      <td>pread64</td>\n",
       "      <td>512</td>\n",
       "      <td>1001.794922</td>\n",
       "      <td>1001.794922</td>\n",
       "      <td>-100.0</td>\n",
       "    </tr>\n",
       "    <tr>\n",
       "      <th>24300</th>\n",
       "      <td>0</td>\n",
       "      <td>/p/gpfs1/brainusr/datasets/cosmoflow/cosmoUniv...</td>\n",
       "      <td>pread64</td>\n",
       "      <td>544</td>\n",
       "      <td>1001.794922</td>\n",
       "      <td>1001.794922</td>\n",
       "      <td>-100.0</td>\n",
       "    </tr>\n",
       "    <tr>\n",
       "      <th>24301</th>\n",
       "      <td>0</td>\n",
       "      <td>/p/gpfs1/brainusr/datasets/cosmoflow/cosmoUniv...</td>\n",
       "      <td>pread64</td>\n",
       "      <td>328</td>\n",
       "      <td>1001.794983</td>\n",
       "      <td>1001.794983</td>\n",
       "      <td>-100.0</td>\n",
       "    </tr>\n",
       "    <tr>\n",
       "      <th>24322</th>\n",
       "      <td>0</td>\n",
       "      <td>/p/gpfs1/brainusr/datasets/cosmoflow/cosmoUniv...</td>\n",
       "      <td>pread64</td>\n",
       "      <td>512</td>\n",
       "      <td>1117.275146</td>\n",
       "      <td>1117.275146</td>\n",
       "      <td>-100.0</td>\n",
       "    </tr>\n",
       "    <tr>\n",
       "      <th>24328</th>\n",
       "      <td>0</td>\n",
       "      <td>/p/gpfs1/brainusr/datasets/cosmoflow/cosmoUniv...</td>\n",
       "      <td>pread64</td>\n",
       "      <td>544</td>\n",
       "      <td>1117.275879</td>\n",
       "      <td>1117.275879</td>\n",
       "      <td>-100.0</td>\n",
       "    </tr>\n",
       "    <tr>\n",
       "      <th>...</th>\n",
       "      <td>...</td>\n",
       "      <td>...</td>\n",
       "      <td>...</td>\n",
       "      <td>...</td>\n",
       "      <td>...</td>\n",
       "      <td>...</td>\n",
       "      <td>...</td>\n",
       "    </tr>\n",
       "    <tr>\n",
       "      <th>7991527</th>\n",
       "      <td>127</td>\n",
       "      <td>/p/gpfs1/brainusr/datasets/cosmoflow/cosmoUniv...</td>\n",
       "      <td>pread</td>\n",
       "      <td>328</td>\n",
       "      <td>6446.788086</td>\n",
       "      <td>6446.788086</td>\n",
       "      <td>-100.0</td>\n",
       "    </tr>\n",
       "    <tr>\n",
       "      <th>7991529</th>\n",
       "      <td>127</td>\n",
       "      <td>/p/gpfs1/brainusr/datasets/cosmoflow/cosmoUniv...</td>\n",
       "      <td>pread</td>\n",
       "      <td>512</td>\n",
       "      <td>6446.788086</td>\n",
       "      <td>6446.788086</td>\n",
       "      <td>-100.0</td>\n",
       "    </tr>\n",
       "    <tr>\n",
       "      <th>7991538</th>\n",
       "      <td>127</td>\n",
       "      <td>/p/gpfs1/brainusr/datasets/cosmoflow/cosmoUniv...</td>\n",
       "      <td>pread</td>\n",
       "      <td>2097152</td>\n",
       "      <td>6446.874512</td>\n",
       "      <td>6446.874512</td>\n",
       "      <td>-100.0</td>\n",
       "    </tr>\n",
       "    <tr>\n",
       "      <th>7991546</th>\n",
       "      <td>127</td>\n",
       "      <td>/p/gpfs1/brainusr/datasets/cosmoflow/cosmoUniv...</td>\n",
       "      <td>pread</td>\n",
       "      <td>512</td>\n",
       "      <td>6446.875488</td>\n",
       "      <td>6446.875488</td>\n",
       "      <td>-100.0</td>\n",
       "    </tr>\n",
       "    <tr>\n",
       "      <th>7991549</th>\n",
       "      <td>127</td>\n",
       "      <td>/p/gpfs1/brainusr/datasets/cosmoflow/cosmoUniv...</td>\n",
       "      <td>pread</td>\n",
       "      <td>16</td>\n",
       "      <td>6446.875488</td>\n",
       "      <td>6446.875488</td>\n",
       "      <td>-100.0</td>\n",
       "    </tr>\n",
       "  </tbody>\n",
       "</table>\n",
       "<p>34122138 rows × 7 columns</p>\n",
       "</div>"
      ],
      "text/plain": [
       "         rank                                           filename  func_id  \\\n",
       "24299       0  /p/gpfs1/brainusr/datasets/cosmoflow/cosmoUniv...  pread64   \n",
       "24300       0  /p/gpfs1/brainusr/datasets/cosmoflow/cosmoUniv...  pread64   \n",
       "24301       0  /p/gpfs1/brainusr/datasets/cosmoflow/cosmoUniv...  pread64   \n",
       "24322       0  /p/gpfs1/brainusr/datasets/cosmoflow/cosmoUniv...  pread64   \n",
       "24328       0  /p/gpfs1/brainusr/datasets/cosmoflow/cosmoUniv...  pread64   \n",
       "...       ...                                                ...      ...   \n",
       "7991527   127  /p/gpfs1/brainusr/datasets/cosmoflow/cosmoUniv...    pread   \n",
       "7991529   127  /p/gpfs1/brainusr/datasets/cosmoflow/cosmoUniv...    pread   \n",
       "7991538   127  /p/gpfs1/brainusr/datasets/cosmoflow/cosmoUniv...    pread   \n",
       "7991546   127  /p/gpfs1/brainusr/datasets/cosmoflow/cosmoUniv...    pread   \n",
       "7991549   127  /p/gpfs1/brainusr/datasets/cosmoflow/cosmoUniv...    pread   \n",
       "\n",
       "            size       tstart         tend  bandwidth  \n",
       "24299        512  1001.794922  1001.794922     -100.0  \n",
       "24300        544  1001.794922  1001.794922     -100.0  \n",
       "24301        328  1001.794983  1001.794983     -100.0  \n",
       "24322        512  1117.275146  1117.275146     -100.0  \n",
       "24328        544  1117.275879  1117.275879     -100.0  \n",
       "...          ...          ...          ...        ...  \n",
       "7991527      328  6446.788086  6446.788086     -100.0  \n",
       "7991529      512  6446.788086  6446.788086     -100.0  \n",
       "7991538  2097152  6446.874512  6446.874512     -100.0  \n",
       "7991546      512  6446.875488  6446.875488     -100.0  \n",
       "7991549       16  6446.875488  6446.875488     -100.0  \n",
       "\n",
       "[34122138 rows x 7 columns]"
      ]
     },
     "execution_count": 38,
     "metadata": {},
     "output_type": "execute_result"
    }
   ],
   "source": [
    "file_df[file_df['func_id'].str.contains('read') & (file_df['bandwidth'] == -100)]"
   ]
  },
  {
   "cell_type": "code",
   "execution_count": 39,
   "metadata": {},
   "outputs": [
    {
     "name": "stdout",
     "output_type": "stream",
     "text": [
      "/p/gpfs1/haridev/software/lbann/applications/physics/cosmology/cosmoflow/20210920_125715_lbann_cosmoflow/experiment.prototext\n"
     ]
    },
    {
     "data": {
      "image/png": "[encoded data removed]",
      "text/plain": [
       "<Figure size 432x288 with 1 Axes>"
      ]
     },
     "metadata": {
      "needs_background": "light"
     },
     "output_type": "display_data"
    },
    {
     "data": {
      "image/png": "[encoded data removed]",
      "text/plain": [
       "<Figure size 432x288 with 1 Axes>"
      ]
     },
     "metadata": {
      "needs_background": "light"
     },
     "output_type": "display_data"
    },
    {
     "name": "stdout",
     "output_type": "stream",
     "text": [
      "/p/gpfs1/brainusr/datasets/cosmoflow/cosmoUniverse_2019_05_4parE/hdf5_transposed_dim128_float/all/univ_ics_2019-03_a10000668_0_0_0_float.hdf5\n"
     ]
    },
    {
     "data": {
      "image/png": "[encoded data removed]",
      "text/plain": [
       "<Figure size 432x288 with 1 Axes>"
      ]
     },
     "metadata": {
      "needs_background": "light"
     },
     "output_type": "display_data"
    },
    {
     "data": {
      "image/png": "[encoded data removed]",
      "text/plain": [
       "<Figure size 432x288 with 1 Axes>"
      ]
     },
     "metadata": {
      "needs_background": "light"
     },
     "output_type": "display_data"
    },
    {
     "name": "stdout",
     "output_type": "stream",
     "text": [
      "/p/gpfs1/brainusr/datasets/cosmoflow/cosmoUniverse_2019_05_4parE/hdf5_transposed_dim128_float/all/univ_ics_2019-03_a6981523_0_0_0_float.hdf5\n"
     ]
    },
    {
     "data": {
      "image/png": "[encoded data removed]",
      "text/plain": [
       "<Figure size 432x288 with 1 Axes>"
      ]
     },
     "metadata": {
      "needs_background": "light"
     },
     "output_type": "display_data"
    },
    {
     "data": {
      "image/png": "[encoded data removed]",
      "text/plain": [
       "<Figure size 432x288 with 1 Axes>"
      ]
     },
     "metadata": {
      "needs_background": "light"
     },
     "output_type": "display_data"
    },
    {
     "name": "stdout",
     "output_type": "stream",
     "text": [
      "/p/gpfs1/brainusr/datasets/cosmoflow/cosmoUniverse_2019_05_4parE/hdf5_transposed_dim128_float/all/univ_ics_2019-03_a8515541_0_0_0_float.hdf5\n"
     ]
    },
    {
     "data": {
      "image/png": "[encoded data removed]",
      "text/plain": [
       "<Figure size 432x288 with 1 Axes>"
      ]
     },
     "metadata": {
      "needs_background": "light"
     },
     "output_type": "display_data"
    },
    {
     "data": {
      "image/png": "[encoded data removed]",
      "text/plain": [
       "<Figure size 432x288 with 1 Axes>"
      ]
     },
     "metadata": {
      "needs_background": "light"
     },
     "output_type": "display_data"
    }
   ],
   "source": [
    "for filename in relevant_filenames[:4]:\n",
    "    print(filename)\n",
    "    file_df_temp = file_df[file_df['filename'] == filename]\n",
    "    size_ranges = [0, 1024, 4*1024, 64*1024, 1024*1024]\n",
    "    size_ranges_str = []\n",
    "    for range_val in size_ranges:\n",
    "        size_ranges_str.append(str(range_val))\n",
    "    max_range = len(size_ranges)\n",
    "    request_size = [0]*len(size_ranges)\n",
    "    for i, val in enumerate(size_ranges):\n",
    "        #print(i, max_range)\n",
    "        if i < max_range - 1:\n",
    "            request_size[i] = file_df_temp[(file_df_temp['size'].ge(val)) & \n",
    "                                           (file_df_temp['size'].lt(size_ranges[i+1]))]['size'].count()\n",
    "        else:\n",
    "            request_size[i] = file_df_temp[(file_df_temp['size'] >=size_ranges[i])]['size'].count()\n",
    "     \n",
    "    #print(request_size)\n",
    "    plt.bar(size_ranges_str, request_size)\n",
    "    #file_sizes = file_df_temp['size'].to_numpy() / 1024.0 /1024.0\n",
    "    #plt.hist(file_sizes, bins=100)\n",
    "    plt.show()\n",
    "    \n",
    "    bw_ranges = [0, 1, 128, 1024, 1024*64]\n",
    "    bw_ranges_str = []\n",
    "    for range_val in bw_ranges:\n",
    "        bw_ranges_str.append(str(range_val))\n",
    "    max_range = len(bw_ranges)\n",
    "    request_bw = [0]*len(bw_ranges)\n",
    "    for i, val in enumerate(bw_ranges):\n",
    "        #print(i, max_range)\n",
    "        if i < max_range - 1:\n",
    "            request_bw[i] = file_df_temp[(file_df_temp['bandwidth'].ge(val)) & \n",
    "                                           (file_df_temp['bandwidth'].lt(bw_ranges[i+1]))]['size'].count()\n",
    "        else:\n",
    "            request_bw[i] = file_df_temp[(file_df_temp['bandwidth'] >=bw_ranges[i])]['size'].count()\n",
    "    plt.bar(bw_ranges_str, request_bw)\n",
    "    plt.show()"
   ]
  },
  {
   "cell_type": "code",
   "execution_count": 40,
   "metadata": {},
   "outputs": [],
   "source": [
    "file_df['dur'] = file_df['tend'] - file_df['tstart']"
   ]
  },
  {
   "cell_type": "code",
   "execution_count": 41,
   "metadata": {},
   "outputs": [
    {
     "name": "stdout",
     "output_type": "stream",
     "text": [
      "15399.915 3203.464111328125 0.005612666 73056804\n"
     ]
    }
   ],
   "source": [
    "print(file_df['tend'].max() - file_df['tstart'].min(),file_df['dur'].sum()/file_df['rank'].nunique(),file_df['dur'].mean(), file_df['dur'].count())"
   ]
  },
  {
   "cell_type": "code",
   "execution_count": 43,
   "metadata": {},
   "outputs": [],
   "source": [
    "trace_df = trace_ddf[['rank','func_id', 'tstart', 'tend', 'args_1']].compute()"
   ]
  },
  {
   "cell_type": "code",
   "execution_count": 44,
   "metadata": {},
   "outputs": [],
   "source": [
    "trace_df['interval'] = list(zip(trace_df.tstart, trace_df.tend))"
   ]
  },
  {
   "cell_type": "code",
   "execution_count": 45,
   "metadata": {},
   "outputs": [],
   "source": [
    "unique_intervals = trace_df['interval'].unique()"
   ]
  },
  {
   "cell_type": "code",
   "execution_count": 46,
   "metadata": {},
   "outputs": [
    {
     "data": {
      "text/plain": [
       "array([(18.633804321289062, 18.633987426757812),\n",
       "       (18.633804321289062, 18.63418197631836),\n",
       "       (18.634733200073242, 18.63491439819336), ...,\n",
       "       (6557.34375, 6557.34375), (6557.34375, 6557.34423828125),\n",
       "       (6557.34375, 6572.28662109375)], dtype=object)"
      ]
     },
     "execution_count": 46,
     "metadata": {},
     "output_type": "execute_result"
    }
   ],
   "source": [
    "unique_intervals"
   ]
  },
  {
   "cell_type": "code",
   "execution_count": null,
   "metadata": {},
   "outputs": [],
   "source": []
  }
 ],
 "metadata": {
  "kernelspec": {
   "display_name": "Python 3 (ipykernel)",
   "language": "python",
   "name": "python3"
  },
  "language_info": {
   "codemirror_mode": {
    "name": "ipython",
    "version": 3
   },
   "file_extension": ".py",
   "mimetype": "text/x-python",
   "name": "python",
   "nbconvert_exporter": "python",
   "pygments_lexer": "ipython3",
   "version": "3.9.7"
  }
 },
 "nbformat": 4,
 "nbformat_minor": 4
}
