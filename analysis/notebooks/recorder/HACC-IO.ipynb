{
 "cells": [
  {
   "cell_type": "markdown",
   "metadata": {},
   "source": [
    "# Analyze HACC IO"
   ]
  },
  {
   "cell_type": "markdown",
   "metadata": {},
   "source": [
    "## Global Configurations"
   ]
  },
  {
   "cell_type": "code",
   "execution_count": 1,
   "metadata": {},
   "outputs": [],
   "source": [
    "notebook_name = \"hacc\""
   ]
  },
  {
   "cell_type": "markdown",
   "metadata": {},
   "source": [
    "## System Imports"
   ]
  },
  {
   "cell_type": "code",
   "execution_count": 2,
   "metadata": {},
   "outputs": [],
   "source": [
    "import socket\n",
    "import os\n",
    "import time\n",
    "from time import sleep"
   ]
  },
  {
   "cell_type": "markdown",
   "metadata": {
    "tags": []
   },
   "source": [
    "## Create Dask Cluster for analysis"
   ]
  },
  {
   "cell_type": "markdown",
   "metadata": {},
   "source": [
    "### Dask Job Queue Imports"
   ]
  },
  {
   "cell_type": "code",
   "execution_count": 3,
   "metadata": {},
   "outputs": [
    {
     "name": "stderr",
     "output_type": "stream",
     "text": [
      "/usr/workspace/iopp/.conda/envs/jupyter/lib/python3.9/site-packages/dask_jobqueue/core.py:17: FutureWarning: format_bytes is deprecated and will be removed in a future release. Please use dask.utils.format_bytes instead.\n",
      "  from distributed.utils import format_bytes, parse_bytes, tmpfile, get_ip_interface\n",
      "/usr/workspace/iopp/.conda/envs/jupyter/lib/python3.9/site-packages/dask_jobqueue/core.py:17: FutureWarning: parse_bytes is deprecated and will be removed in a future release. Please use dask.utils.parse_bytes instead.\n",
      "  from distributed.utils import format_bytes, parse_bytes, tmpfile, get_ip_interface\n",
      "/usr/workspace/iopp/.conda/envs/jupyter/lib/python3.9/site-packages/dask_jobqueue/htcondor.py:6: FutureWarning: parse_bytes is deprecated and will be removed in a future release. Please use dask.utils.parse_bytes instead.\n",
      "  from distributed.utils import parse_bytes\n"
     ]
    }
   ],
   "source": [
    "import dask_jobqueue\n",
    "from dask_jobqueue import LSFCluster"
   ]
  },
  {
   "cell_type": "markdown",
   "metadata": {},
   "source": [
    "### Dask Worker configuration\n",
    "When we use dask for analysis, we need to consider the type of analysis. In this case we plan to utilize dask dataframes for analysis that is typically memory intensive. Therefore, we allocate the whole memory per node and use only 4 worker processes per node. More worker processes reduce memory available per worker resulting in frequent memory swap from filesystem."
   ]
  },
  {
   "cell_type": "code",
   "execution_count": 4,
   "metadata": {
    "ExecuteTime": {
     "end_time": "2021-09-16T21:37:00.088821Z",
     "start_time": "2021-09-16T21:37:00.076921Z"
    }
   },
   "outputs": [],
   "source": [
    "node_memory = 256 # node memory in GB\n",
    "n_workers_per_node = 4 # number of worker processes per node\n",
    "worker_time = \"02:00\" # job time per node for worker\n",
    "worker_queue = \"pdebug\" # queue to be used per worker\n",
    "n_workers = 4 # number of workers to be used for analysis"
   ]
  },
  {
   "cell_type": "markdown",
   "metadata": {},
   "source": [
    "Other configurations we can compute"
   ]
  },
  {
   "cell_type": "code",
   "execution_count": 5,
   "metadata": {},
   "outputs": [],
   "source": [
    "host = socket.gethostname()\n",
    "dashboard_address = '{}:8787'.format(socket.gethostname())\n",
    "memory = '{}GB'.format(node_memory/n_workers_per_node)\n",
    "job_extra = ['-nnodes 1', \n",
    "             '-G asccasc', \n",
    "             '-q {}'.format(worker_queue), \n",
    "             '-W {}'.format(worker_time), \n",
    "             '-o {}.log'.format(notebook_name), \n",
    "             '-e {}.log'.format(notebook_name)]"
   ]
  },
  {
   "cell_type": "markdown",
   "metadata": {},
   "source": [
    "### Create Dask Cluster "
   ]
  },
  {
   "cell_type": "code",
   "execution_count": 6,
   "metadata": {
    "ExecuteTime": {
     "end_time": "2021-09-16T21:37:00.580186Z",
     "start_time": "2021-09-16T21:37:00.574875Z"
    }
   },
   "outputs": [
    {
     "name": "stdout",
     "output_type": "stream",
     "text": [
      "{'cls': <class 'distributed.scheduler.Scheduler'>, 'options': {'protocol': 'tcp://', 'interface': None, 'host': 'lassen709', 'dashboard_address': 'lassen709:8787', 'security': None}}\n",
      "Created Cluster with job script\n",
      " #!/usr/bin/env bash\n",
      "\n",
      "#BSUB -J dask-worker\n",
      "#BSUB -nnodes 1\n",
      "#BSUB -G asccasc\n",
      "#BSUB -q pdebug\n",
      "#BSUB -W 02:00\n",
      "#BSUB -o hacc.log\n",
      "#BSUB -e hacc.log\n",
      "JOB_ID=${LSB_JOBID%.*}\n",
      "\n",
      "/usr/workspace/iopp/.conda/envs/jupyter/bin/python -m distributed.cli.dask_worker tcp://192.168.66.201:42799 --nthreads 1 --nprocs 4 --memory-limit 59.60GiB --name name --nanny --death-timeout 60\n",
      "\n"
     ]
    },
    {
     "name": "stderr",
     "output_type": "stream",
     "text": [
      "/usr/workspace/iopp/.conda/envs/jupyter/lib/python3.9/site-packages/distributed/node.py:160: UserWarning: Port 8787 is already in use.\n",
      "Perhaps you already have a cluster running?\n",
      "Hosting the HTTP server on port 46257 instead\n",
      "  warnings.warn(\n"
     ]
    }
   ],
   "source": [
    "cluster = LSFCluster(cores = n_workers_per_node,processes=n_workers_per_node, memory='{}GB'.format(node_memory), \n",
    "                     header_skip=['-n ','-R','-M', '-P', '-W 00:30'], \n",
    "                     job_extra = job_extra, \n",
    "                     use_stdin=True, host = host,dashboard_address = dashboard_address)\n",
    "if cluster:\n",
    "    print(\"Created Cluster with job script\\n {}\".format(cluster.job_script()))"
   ]
  },
  {
   "cell_type": "markdown",
   "metadata": {},
   "source": [
    "### Dask Analysis Imports"
   ]
  },
  {
   "cell_type": "code",
   "execution_count": 7,
   "metadata": {},
   "outputs": [],
   "source": [
    "import dask.dataframe as dd\n",
    "from dask.distributed import wait, progress\n",
    "from dask.diagnostics import ProgressBar\n",
    "from dask.distributed import Client\n",
    "import matplotlib.pyplot as plt\n",
    "import numpy as np\n",
    "import concurrent.futures\n",
    "from concurrent.futures import ThreadPoolExecutor"
   ]
  },
  {
   "cell_type": "markdown",
   "metadata": {},
   "source": [
    "### Create Dask Client"
   ]
  },
  {
   "cell_type": "code",
   "execution_count": 8,
   "metadata": {},
   "outputs": [
    {
     "data": {
      "text/html": [
       "<div>\n",
       "    <div style=\"width: 24px; height: 24px; background-color: #e1e1e1; border: 3px solid #9D9D9D; border-radius: 5px; position: absolute;\"> </div>\n",
       "    <div style=\"margin-left: 48px;\">\n",
       "        <h3 style=\"margin-bottom: 0px;\">Client</h3>\n",
       "        <p style=\"color: #9D9D9D; margin-bottom: 0px;\">Client-d789eaa0-431a-11ec-a970-70e28414505f</p>\n",
       "        <table style=\"width: 100%; text-align: left;\">\n",
       "\n",
       "        <tr>\n",
       "        \n",
       "            <td style=\"text-align: left;\"><strong>Connection method:</strong> Cluster object</td>\n",
       "            <td style=\"text-align: left;\"><strong>Cluster type:</strong> dask_jobqueue.LSFCluster</td>\n",
       "        \n",
       "        </tr>\n",
       "\n",
       "        \n",
       "            <tr>\n",
       "                <td style=\"text-align: left;\">\n",
       "                    <strong>Dashboard: </strong> <a href=\"http://192.168.66.201:46257/status\" target=\"_blank\">http://192.168.66.201:46257/status</a>\n",
       "                </td>\n",
       "                <td style=\"text-align: left;\"></td>\n",
       "            </tr>\n",
       "        \n",
       "\n",
       "        </table>\n",
       "\n",
       "        \n",
       "            <details>\n",
       "            <summary style=\"margin-bottom: 20px;\"><h3 style=\"display: inline;\">Cluster Info</h3></summary>\n",
       "            <div class=\"jp-RenderedHTMLCommon jp-RenderedHTML jp-mod-trusted jp-OutputArea-output\">\n",
       "    <div style=\"width: 24px; height: 24px; background-color: #e1e1e1; border: 3px solid #9D9D9D; border-radius: 5px; position: absolute;\">\n",
       "    </div>\n",
       "    <div style=\"margin-left: 48px;\">\n",
       "        <h3 style=\"margin-bottom: 0px; margin-top: 0px;\">LSFCluster</h3>\n",
       "        <p style=\"color: #9D9D9D; margin-bottom: 0px;\">44f84432</p>\n",
       "        <table style=\"width: 100%; text-align: left;\">\n",
       "            <tr>\n",
       "                <td style=\"text-align: left;\">\n",
       "                    <strong>Dashboard:</strong> <a href=\"http://192.168.66.201:46257/status\" target=\"_blank\">http://192.168.66.201:46257/status</a>\n",
       "                </td>\n",
       "                <td style=\"text-align: left;\">\n",
       "                    <strong>Workers:</strong> 0\n",
       "                </td>\n",
       "            </tr>\n",
       "            <tr>\n",
       "                <td style=\"text-align: left;\">\n",
       "                    <strong>Total threads:</strong> 0\n",
       "                </td>\n",
       "                <td style=\"text-align: left;\">\n",
       "                    <strong>Total memory:</strong> 0 B\n",
       "                </td>\n",
       "            </tr>\n",
       "            \n",
       "        </table>\n",
       "\n",
       "        <details>\n",
       "            <summary style=\"margin-bottom: 20px;\">\n",
       "                <h3 style=\"display: inline;\">Scheduler Info</h3>\n",
       "            </summary>\n",
       "\n",
       "            <div style=\"\">\n",
       "    <div>\n",
       "        <div style=\"width: 24px; height: 24px; background-color: #FFF7E5; border: 3px solid #FF6132; border-radius: 5px; position: absolute;\"> </div>\n",
       "        <div style=\"margin-left: 48px;\">\n",
       "            <h3 style=\"margin-bottom: 0px;\">Scheduler</h3>\n",
       "            <p style=\"color: #9D9D9D; margin-bottom: 0px;\">Scheduler-4de68588-be85-4653-b977-12150e0a36cc</p>\n",
       "            <table style=\"width: 100%; text-align: left;\">\n",
       "                <tr>\n",
       "                    <td style=\"text-align: left;\">\n",
       "                        <strong>Comm:</strong> tcp://192.168.66.201:42799\n",
       "                    </td>\n",
       "                    <td style=\"text-align: left;\">\n",
       "                        <strong>Workers:</strong> 0\n",
       "                    </td>\n",
       "                </tr>\n",
       "                <tr>\n",
       "                    <td style=\"text-align: left;\">\n",
       "                        <strong>Dashboard:</strong> <a href=\"http://192.168.66.201:46257/status\" target=\"_blank\">http://192.168.66.201:46257/status</a>\n",
       "                    </td>\n",
       "                    <td style=\"text-align: left;\">\n",
       "                        <strong>Total threads:</strong> 0\n",
       "                    </td>\n",
       "                </tr>\n",
       "                <tr>\n",
       "                    <td style=\"text-align: left;\">\n",
       "                        <strong>Started:</strong> Just now\n",
       "                    </td>\n",
       "                    <td style=\"text-align: left;\">\n",
       "                        <strong>Total memory:</strong> 0 B\n",
       "                    </td>\n",
       "                </tr>\n",
       "            </table>\n",
       "        </div>\n",
       "    </div>\n",
       "\n",
       "    <details style=\"margin-left: 48px;\">\n",
       "        <summary style=\"margin-bottom: 20px;\">\n",
       "            <h3 style=\"display: inline;\">Workers</h3>\n",
       "        </summary>\n",
       "\n",
       "        \n",
       "\n",
       "    </details>\n",
       "</div>\n",
       "\n",
       "        </details>\n",
       "    </div>\n",
       "</div>\n",
       "            </details>\n",
       "        \n",
       "\n",
       "    </div>\n",
       "</div>"
      ],
      "text/plain": [
       "<Client: 'tcp://192.168.66.201:42799' processes=0 threads=0, memory=0 B>"
      ]
     },
     "execution_count": 8,
     "metadata": {},
     "output_type": "execute_result"
    }
   ],
   "source": [
    "client = Client(cluster)\n",
    "client"
   ]
  },
  {
   "cell_type": "markdown",
   "metadata": {},
   "source": [
    "### Spawn cluster nodes"
   ]
  },
  {
   "cell_type": "code",
   "execution_count": 9,
   "metadata": {
    "ExecuteTime": {
     "end_time": "2021-09-16T21:37:00.937949Z",
     "start_time": "2021-09-16T21:37:00.931813Z"
    }
   },
   "outputs": [],
   "source": [
    "cluster.scale(n_workers)"
   ]
  },
  {
   "cell_type": "code",
   "execution_count": 10,
   "metadata": {},
   "outputs": [
    {
     "name": "stdout",
     "output_type": "stream",
     "text": [
      "Waiting for workers completed 3 of 4\n",
      "4 workers started\n"
     ]
    }
   ],
   "source": [
    "val = len(client.scheduler_info()[\"workers\"])\n",
    "while ((client.status == \"running\") and ( val< n_workers)):\n",
    "    print(\"Waiting for workers completed {} of {}\".format(val, n_workers), end=\"\\r\")\n",
    "    sleep(1.0)\n",
    "    val = len(client.scheduler_info()[\"workers\"])\n",
    "print(\"\\n{} workers started\".format(len(client.scheduler_info()[\"workers\"])))"
   ]
  },
  {
   "cell_type": "markdown",
   "metadata": {},
   "source": [
    "## Analysis Utility Functions"
   ]
  },
  {
   "cell_type": "markdown",
   "metadata": {},
   "source": [
    "### Progress Bars"
   ]
  },
  {
   "cell_type": "code",
   "execution_count": 11,
   "metadata": {},
   "outputs": [],
   "source": [
    "pbar = ProgressBar()\n",
    "pbar.register()"
   ]
  },
  {
   "cell_type": "markdown",
   "metadata": {},
   "source": [
    "### Timer functions"
   ]
  },
  {
   "cell_type": "code",
   "execution_count": 12,
   "metadata": {
    "ExecuteTime": {
     "end_time": "2021-09-16T21:44:25.856496Z",
     "start_time": "2021-09-16T21:44:25.849113Z"
    }
   },
   "outputs": [],
   "source": [
    "def timer(func):\n",
    "    @functools.wraps(func)\n",
    "    def wrapper_timer(*args, **kwargs):\n",
    "        tic = time.perf_counter()\n",
    "        value = func(*args, **kwargs)\n",
    "        toc = time.perf_counter()\n",
    "        elapsed_time = toc - tic\n",
    "        print(f\"Elapsed time: {elapsed_time:0.4f} seconds\")\n",
    "        return value\n",
    "    return wrapper_timer"
   ]
  },
  {
   "cell_type": "markdown",
   "metadata": {},
   "source": [
    "### Threading process "
   ]
  },
  {
   "cell_type": "code",
   "execution_count": 13,
   "metadata": {
    "ExecuteTime": {
     "end_time": "2021-09-16T21:44:26.580383Z",
     "start_time": "2021-09-16T21:44:26.570029Z"
    }
   },
   "outputs": [],
   "source": [
    "def thread_print(string):\n",
    "    print(f'{string}\\n', end='')\n",
    "def thread_process( num_ranks, func, start=0, list_range=[], workers=40):\n",
    "    with ThreadPoolExecutor(max_workers = workers) as executor:\n",
    "        if len(list_range) == 0:\n",
    "            list_range = range(start, num_ranks) \n",
    "        future_gen = {executor.submit(func, rank): rank for rank in list_range}\n",
    "        for future in concurrent.futures.as_completed(future_gen):\n",
    "            rank = future_gen[future]\n",
    "            try:\n",
    "                data = future.result()\n",
    "            except Exception as exc:\n",
    "                thread_print('%r generated an exception: %s' % (rank, exc))\n",
    "            else:\n",
    "                thread_print('%r data computed' % (rank))"
   ]
  },
  {
   "cell_type": "markdown",
   "metadata": {},
   "source": [
    "### Application Logs in Parquet format"
   ]
  },
  {
   "cell_type": "code",
   "execution_count": 14,
   "metadata": {
    "ExecuteTime": {
     "end_time": "2021-09-16T21:44:27.037262Z",
     "start_time": "2021-09-16T21:44:27.033923Z"
    }
   },
   "outputs": [],
   "source": [
    "parquet_folder=\"/p/gpfs1/iopp/parquet_app_logs/hacc/nodes-32/workflow-0\""
   ]
  },
  {
   "cell_type": "code",
   "execution_count": 15,
   "metadata": {
    "ExecuteTime": {
     "end_time": "2021-09-16T21:44:28.361097Z",
     "start_time": "2021-09-16T21:44:28.356562Z"
    }
   },
   "outputs": [],
   "source": [
    "num_ranks = 160"
   ]
  },
  {
   "cell_type": "markdown",
   "metadata": {},
   "source": [
    "## Initial Boostrapping"
   ]
  },
  {
   "cell_type": "markdown",
   "metadata": {},
   "source": [
    "### Read Application logs into dask dataframe"
   ]
  },
  {
   "cell_type": "code",
   "execution_count": 16,
   "metadata": {
    "ExecuteTime": {
     "end_time": "2021-09-16T21:44:32.812813Z",
     "start_time": "2021-09-16T21:44:31.634540Z"
    }
   },
   "outputs": [],
   "source": [
    "ddf = dd.read_parquet(\"{}/*.parquet\".format(parquet_folder), engine=\"pyarrow-dataset\")"
   ]
  },
  {
   "cell_type": "code",
   "execution_count": 17,
   "metadata": {
    "ExecuteTime": {
     "end_time": "2021-09-16T21:44:33.462433Z",
     "start_time": "2021-09-16T21:44:33.456132Z"
    }
   },
   "outputs": [
    {
     "name": "stdout",
     "output_type": "stream",
     "text": [
      "Dask dataframe is split into 160 partitions\n"
     ]
    }
   ],
   "source": [
    "print(\"Dask dataframe is split into {} partitions\".format(ddf.npartitions))"
   ]
  },
  {
   "cell_type": "code",
   "execution_count": 18,
   "metadata": {
    "ExecuteTime": {
     "end_time": "2021-09-16T21:37:12.311012Z",
     "start_time": "2021-09-16T21:37:12.306571Z"
    }
   },
   "outputs": [
    {
     "name": "stdout",
     "output_type": "stream",
     "text": [
      "Columns present in dataset\n",
      "Index(['index', 'rank', 'thread_id', 'cat', 'tstart', 'tend', 'func_id',\n",
      "       'level', 'arg_count', 'args_1', 'args_2', 'args_3', 'args_4', 'args_5',\n",
      "       'args_6', 'args_7', 'args_8', 'args_9', 'args_10'],\n",
      "      dtype='object')\n"
     ]
    }
   ],
   "source": [
    "print(\"Columns present in dataset\")\n",
    "print(ddf.columns)"
   ]
  },
  {
   "cell_type": "code",
   "execution_count": 19,
   "metadata": {
    "ExecuteTime": {
     "end_time": "2021-09-16T21:37:12.873991Z",
     "start_time": "2021-09-16T21:37:12.871121Z"
    }
   },
   "outputs": [
    {
     "data": {
      "text/html": [
       "<div>\n",
       "<style scoped>\n",
       "    .dataframe tbody tr th:only-of-type {\n",
       "        vertical-align: middle;\n",
       "    }\n",
       "\n",
       "    .dataframe tbody tr th {\n",
       "        vertical-align: top;\n",
       "    }\n",
       "\n",
       "    .dataframe thead th {\n",
       "        text-align: right;\n",
       "    }\n",
       "</style>\n",
       "<table border=\"1\" class=\"dataframe\">\n",
       "  <thead>\n",
       "    <tr style=\"text-align: right;\">\n",
       "      <th></th>\n",
       "      <th>index</th>\n",
       "      <th>rank</th>\n",
       "      <th>thread_id</th>\n",
       "      <th>cat</th>\n",
       "      <th>tstart</th>\n",
       "      <th>tend</th>\n",
       "      <th>func_id</th>\n",
       "      <th>level</th>\n",
       "      <th>arg_count</th>\n",
       "      <th>args_1</th>\n",
       "      <th>args_2</th>\n",
       "      <th>args_3</th>\n",
       "      <th>args_4</th>\n",
       "      <th>args_5</th>\n",
       "      <th>args_6</th>\n",
       "      <th>args_7</th>\n",
       "      <th>args_8</th>\n",
       "      <th>args_9</th>\n",
       "      <th>args_10</th>\n",
       "    </tr>\n",
       "  </thead>\n",
       "  <tbody>\n",
       "    <tr>\n",
       "      <th>0</th>\n",
       "      <td>1</td>\n",
       "      <td>0</td>\n",
       "      <td>312784</td>\n",
       "      <td>2</td>\n",
       "      <td>0.968866</td>\n",
       "      <td>0.968892</td>\n",
       "      <td>MPI_Comm_size</td>\n",
       "      <td>0</td>\n",
       "      <td>2</td>\n",
       "      <td>MPI_COMM_WORLD</td>\n",
       "      <td>1280</td>\n",
       "      <td></td>\n",
       "      <td></td>\n",
       "      <td></td>\n",
       "      <td></td>\n",
       "      <td></td>\n",
       "      <td></td>\n",
       "      <td></td>\n",
       "      <td></td>\n",
       "    </tr>\n",
       "    <tr>\n",
       "      <th>1</th>\n",
       "      <td>2</td>\n",
       "      <td>0</td>\n",
       "      <td>312784</td>\n",
       "      <td>2</td>\n",
       "      <td>0.968923</td>\n",
       "      <td>0.968924</td>\n",
       "      <td>MPI_Comm_rank</td>\n",
       "      <td>0</td>\n",
       "      <td>2</td>\n",
       "      <td>MPI_COMM_WORLD</td>\n",
       "      <td>0</td>\n",
       "      <td></td>\n",
       "      <td></td>\n",
       "      <td></td>\n",
       "      <td></td>\n",
       "      <td></td>\n",
       "      <td></td>\n",
       "      <td></td>\n",
       "      <td></td>\n",
       "    </tr>\n",
       "    <tr>\n",
       "      <th>2</th>\n",
       "      <td>3</td>\n",
       "      <td>0</td>\n",
       "      <td>312784</td>\n",
       "      <td>4</td>\n",
       "      <td>1.127011</td>\n",
       "      <td>1.127014</td>\n",
       "      <td>/usr/workspace/iopp/applications/hacc-io.1.0/i...</td>\n",
       "      <td>0</td>\n",
       "      <td>0</td>\n",
       "      <td></td>\n",
       "      <td></td>\n",
       "      <td></td>\n",
       "      <td></td>\n",
       "      <td></td>\n",
       "      <td></td>\n",
       "      <td></td>\n",
       "      <td></td>\n",
       "      <td></td>\n",
       "      <td></td>\n",
       "    </tr>\n",
       "    <tr>\n",
       "      <th>3</th>\n",
       "      <td>4</td>\n",
       "      <td>0</td>\n",
       "      <td>312784</td>\n",
       "      <td>2</td>\n",
       "      <td>1.127036</td>\n",
       "      <td>4.299232</td>\n",
       "      <td>MPI_Comm_dup</td>\n",
       "      <td>0</td>\n",
       "      <td>3</td>\n",
       "      <td>MPI_COMM_WORLD</td>\n",
       "      <td>0-0</td>\n",
       "      <td>0</td>\n",
       "      <td></td>\n",
       "      <td></td>\n",
       "      <td></td>\n",
       "      <td></td>\n",
       "      <td></td>\n",
       "      <td></td>\n",
       "      <td></td>\n",
       "    </tr>\n",
       "    <tr>\n",
       "      <th>4</th>\n",
       "      <td>5</td>\n",
       "      <td>0</td>\n",
       "      <td>312784</td>\n",
       "      <td>0</td>\n",
       "      <td>4.298360</td>\n",
       "      <td>4.298391</td>\n",
       "      <td>open</td>\n",
       "      <td>1</td>\n",
       "      <td>3</td>\n",
       "      <td>/dev/shm/job2154496201-35619-OMPI_COLL_IBM-0-c...</td>\n",
       "      <td>557250</td>\n",
       "      <td>384</td>\n",
       "      <td></td>\n",
       "      <td></td>\n",
       "      <td></td>\n",
       "      <td></td>\n",
       "      <td></td>\n",
       "      <td></td>\n",
       "      <td></td>\n",
       "    </tr>\n",
       "  </tbody>\n",
       "</table>\n",
       "</div>"
      ],
      "text/plain": [
       "   index  rank  thread_id  cat    tstart      tend  \\\n",
       "0      1     0     312784    2  0.968866  0.968892   \n",
       "1      2     0     312784    2  0.968923  0.968924   \n",
       "2      3     0     312784    4  1.127011  1.127014   \n",
       "3      4     0     312784    2  1.127036  4.299232   \n",
       "4      5     0     312784    0  4.298360  4.298391   \n",
       "\n",
       "                                             func_id  level  arg_count  \\\n",
       "0                                      MPI_Comm_size      0          2   \n",
       "1                                      MPI_Comm_rank      0          2   \n",
       "2  /usr/workspace/iopp/applications/hacc-io.1.0/i...      0          0   \n",
       "3                                       MPI_Comm_dup      0          3   \n",
       "4                                               open      1          3   \n",
       "\n",
       "                                              args_1  args_2 args_3 args_4  \\\n",
       "0                                     MPI_COMM_WORLD    1280                 \n",
       "1                                     MPI_COMM_WORLD       0                 \n",
       "2                                                                            \n",
       "3                                     MPI_COMM_WORLD     0-0      0          \n",
       "4  /dev/shm/job2154496201-35619-OMPI_COLL_IBM-0-c...  557250    384          \n",
       "\n",
       "  args_5 args_6 args_7 args_8 args_9 args_10  \n",
       "0                                             \n",
       "1                                             \n",
       "2                                             \n",
       "3                                             \n",
       "4                                             "
      ]
     },
     "execution_count": 19,
     "metadata": {},
     "output_type": "execute_result"
    }
   ],
   "source": [
    "ddf.head()"
   ]
  },
  {
   "cell_type": "markdown",
   "metadata": {},
   "source": [
    "#### Only keep level zero from MPI and FTRACE but keep all levels for I/O"
   ]
  },
  {
   "cell_type": "code",
   "execution_count": 20,
   "metadata": {
    "ExecuteTime": {
     "end_time": "2021-09-16T21:37:13.310962Z",
     "start_time": "2021-09-16T21:37:13.306458Z"
    }
   },
   "outputs": [],
   "source": [
    "ddf = ddf[(ddf['level'] == 0) | ddf['cat'].isin([0,1,3])]\n",
    "#ddf = ddf.persist()"
   ]
  },
  {
   "cell_type": "markdown",
   "metadata": {},
   "source": [
    "### Split dataframe into I/O, MPI, and trace"
   ]
  },
  {
   "cell_type": "code",
   "execution_count": 21,
   "metadata": {},
   "outputs": [],
   "source": [
    "io_ddf = ddf[ddf['cat'].isin([0,1,3])]\n",
    "exclude_dirs = [\".pyc\", \"/usr\",\"/g/g92/haridev/.nccl.conf\"]\n",
    "for directory in exclude_dirs:\n",
    "    io_ddf = io_ddf[~io_ddf['args_1'].str.contains(directory)]\n",
    "#io_ddf[rank] = io_ddf[rank].persist()\n",
    "mpi_ddf = ddf[ddf['cat'] == 2]\n",
    "#mpi_ddf[rank] = mpi_ddf[rank].persist()\n",
    "trace_ddf = ddf[ddf['cat'] == 4]"
   ]
  },
  {
   "cell_type": "markdown",
   "metadata": {},
   "source": [
    "### Check I/O interfaces used by application"
   ]
  },
  {
   "cell_type": "code",
   "execution_count": 22,
   "metadata": {},
   "outputs": [
    {
     "name": "stdout",
     "output_type": "stream",
     "text": [
      "0         open\n",
      "1    ftruncate\n",
      "2        close\n",
      "3       unlink\n",
      "4       open64\n",
      "5      lseek64\n",
      "6        write\n",
      "7         read\n",
      "Name: func_id, dtype: object\n"
     ]
    }
   ],
   "source": [
    "interfaces = io_ddf['func_id'].unique().compute()\n",
    "print(interfaces)"
   ]
  },
  {
   "cell_type": "markdown",
   "metadata": {
    "tags": [
     "Finding"
    ]
   },
   "source": [
    "Only POSIX interface is used in this application"
   ]
  },
  {
   "cell_type": "markdown",
   "metadata": {},
   "source": [
    "### Set duration of I/O events"
   ]
  },
  {
   "cell_type": "code",
   "execution_count": 23,
   "metadata": {},
   "outputs": [],
   "source": [
    "io_ddf['duration'] = io_ddf['tend'] - io_ddf['tstart']"
   ]
  },
  {
   "cell_type": "code",
   "execution_count": 24,
   "metadata": {},
   "outputs": [
    {
     "name": "stdout",
     "output_type": "stream",
     "text": [
      "Application Profiler has stored 0 negetive values\n"
     ]
    }
   ],
   "source": [
    "negetive_duration = io_ddf[io_ddf['duration'] < 0]['duration'].count().compute()\n",
    "print(\"Application Profiler has stored {} negetive values\".format(negetive_duration))"
   ]
  },
  {
   "cell_type": "markdown",
   "metadata": {},
   "source": [
    "### Create conditions for filtering\n",
    "Even though this application doesnt have MPI or STDIO we have all the conditions here. This is to make sure we cover other apps as well."
   ]
  },
  {
   "cell_type": "code",
   "execution_count": 25,
   "metadata": {},
   "outputs": [],
   "source": [
    "open_condition = io_ddf['func_id'].str.contains(\"open\")\n",
    "mpi_condition = io_ddf['func_id'].str.contains(\"MPI\")\n",
    "read_condition = io_ddf['func_id'].isin([\"read\", \"pread\", \"pread64\", \"readv\"])\n",
    "fread_condition = io_ddf['func_id'].isin([\"fread\"])\n",
    "close_condition = io_ddf['func_id'].str.contains('close')\n",
    "write_condition = io_ddf['func_id'].isin([\"write\", \"pwrite\", \"pwrite64\",\"writev\"])\n",
    "fwrite_condition = io_ddf['func_id'].isin([\"fwrite\"])\n",
    "readdir_condition = io_ddf['func_id'].isin([\"readdir\"])"
   ]
  },
  {
   "cell_type": "markdown",
   "metadata": {},
   "source": [
    "### Extract Filename from each row.\n",
    "This simplifies analysis later on as we can filter recorder per rank and per file to understand access pattern information."
   ]
  },
  {
   "cell_type": "code",
   "execution_count": 26,
   "metadata": {},
   "outputs": [],
   "source": [
    "io_ddf['filename'] = \"\"\n",
    "io_ddf['filename'] = io_ddf['filename'].mask(open_condition & ~mpi_condition, io_ddf['args_1'])\n",
    "io_ddf['filename'] = io_ddf['filename'].mask(open_condition & mpi_condition, io_ddf['args_2'])\n",
    "io_ddf['filename'] = io_ddf['filename'].mask(close_condition, io_ddf['args_1'])\n",
    "io_ddf['filename'] = io_ddf['filename'].mask(read_condition, io_ddf['args_1'])\n",
    "io_ddf['filename'] = io_ddf['filename'].mask(fread_condition, io_ddf['args_4'])\n",
    "io_ddf['filename'] = io_ddf['filename'].mask(write_condition, io_ddf['args_1'])\n",
    "io_ddf['filename'] = io_ddf['filename'].mask(fwrite_condition, io_ddf['args_4'])"
   ]
  },
  {
   "cell_type": "markdown",
   "metadata": {},
   "source": [
    "Some filename has redundent forward slashes"
   ]
  },
  {
   "cell_type": "code",
   "execution_count": 27,
   "metadata": {},
   "outputs": [],
   "source": [
    "io_ddf['filename'] = io_ddf['filename'].str.replace('//','/')"
   ]
  },
  {
   "cell_type": "markdown",
   "metadata": {},
   "source": [
    "### Filter recorder which have read and write operations and which have metadata.\n",
    "We assume that there is only two types of operation in I/O read/write and metadata."
   ]
  },
  {
   "cell_type": "code",
   "execution_count": 28,
   "metadata": {},
   "outputs": [],
   "source": [
    "io_ddf_read_write = io_ddf[read_condition | write_condition].compute()\n",
    "io_ddf_metadata = io_ddf[~read_condition & ~write_condition].compute()"
   ]
  },
  {
   "cell_type": "markdown",
   "metadata": {},
   "source": [
    "### Build size and count to understand I/O on the io_ddf_read_write dataframe"
   ]
  },
  {
   "cell_type": "code",
   "execution_count": 29,
   "metadata": {},
   "outputs": [],
   "source": [
    "open_condition = io_ddf_read_write['func_id'].str.contains(\"open\")\n",
    "mpi_condition = io_ddf_read_write['func_id'].str.contains(\"MPI\")\n",
    "read_condition = io_ddf_read_write['func_id'].isin([\"read\", \"pread\", \"pread64\", \"readv\"])\n",
    "fread_condition = io_ddf_read_write['func_id'].isin([\"fread\"])\n",
    "close_condition = io_ddf_read_write['func_id'].str.contains('close')\n",
    "write_condition = io_ddf_read_write['func_id'].isin([\"write\", \"pwrite\", \"pwrite64\",\"writev\"])\n",
    "fwrite_condition = io_ddf_read_write['func_id'].isin([\"fwrite\"])\n",
    "readdir_condition = io_ddf_read_write['func_id'].isin([\"readdir\"])"
   ]
  },
  {
   "cell_type": "code",
   "execution_count": 30,
   "metadata": {},
   "outputs": [],
   "source": [
    "io_ddf_read_write['size'] = 0\n",
    "io_ddf_read_write['count'] = 1\n",
    "io_ddf_read_write['size'] = io_ddf_read_write['size'].mask(read_condition , io_ddf_read_write['args_3'])\n",
    "io_ddf_read_write['size'] = io_ddf_read_write['size'].mask(fread_condition, io_ddf_read_write['args_3'])\n",
    "io_ddf_read_write['count'] = io_ddf_read_write['count'].mask(fread_condition, io_ddf_read_write['args_2'])\n",
    "io_ddf_read_write['size'] = io_ddf_read_write['size'].mask(write_condition, io_ddf_read_write['args_3'])\n",
    "io_ddf_read_write['size'] = io_ddf_read_write['size'].mask(fwrite_condition, io_ddf_read_write['args_3'])\n",
    "io_ddf_read_write['count'] = io_ddf_read_write['count'].mask(fwrite_condition, io_ddf_read_write['args_2'])"
   ]
  },
  {
   "cell_type": "markdown",
   "metadata": {},
   "source": [
    "#### Corner cases"
   ]
  },
  {
   "cell_type": "code",
   "execution_count": 31,
   "metadata": {},
   "outputs": [],
   "source": [
    "io_ddf_read_write['size'] = io_ddf_read_write['size'].mask(readdir_condition , \"0\")\n",
    "io_ddf_read_write['count'] = io_ddf_read_write['count'].mask(readdir_condition , \"1\")"
   ]
  },
  {
   "cell_type": "markdown",
   "metadata": {},
   "source": [
    "#### Set Datatypes\n",
    "This is needed as by default args are string from which they are set."
   ]
  },
  {
   "cell_type": "code",
   "execution_count": 32,
   "metadata": {},
   "outputs": [],
   "source": [
    "io_ddf_read_write = io_ddf_read_write.astype({'size': 'int32','count': 'int32'})"
   ]
  },
  {
   "cell_type": "markdown",
   "metadata": {},
   "source": [
    "#### Compute Final Size\n",
    "After this point we do not use count field."
   ]
  },
  {
   "cell_type": "code",
   "execution_count": 33,
   "metadata": {},
   "outputs": [],
   "source": [
    "io_ddf_read_write['size'] = io_ddf_read_write['size'] * io_ddf_read_write['count']"
   ]
  },
  {
   "cell_type": "markdown",
   "metadata": {},
   "source": [
    "### Calculate Bandwidth in MB/s for I/O operations.\n",
    "Durations might be incorrect or equal to zero due to profilers resolution issues. Therefore, we do bandwidth calculations for only correct durations."
   ]
  },
  {
   "cell_type": "code",
   "execution_count": 34,
   "metadata": {},
   "outputs": [],
   "source": [
    "correct_dur = ((io_ddf_read_write['tend'] - io_ddf_read_write['tstart']) > 0)\n",
    "io_ddf_read_write['bandwidth'] = 0\n",
    "io_ddf_read_write['bandwidth'] = io_ddf_read_write['bandwidth'].mask(correct_dur, io_ddf_read_write['size']*1.0/(io_ddf_read_write['tend'] - io_ddf_read_write['tstart'])/1024.0/1024.0)"
   ]
  },
  {
   "cell_type": "markdown",
   "metadata": {
    "tags": [
     "Finding"
    ]
   },
   "source": [
    "### Calculate all relevent filenames in the application\n",
    "The profiler might see jsrun files and other irrelevant internal files which we filter here."
   ]
  },
  {
   "cell_type": "code",
   "execution_count": 35,
   "metadata": {},
   "outputs": [],
   "source": [
    "all_filenames = io_ddf[io_ddf['filename'].str.contains('/p/gpfs1')]['filename'].unique().compute()"
   ]
  },
  {
   "cell_type": "code",
   "execution_count": 36,
   "metadata": {
    "tags": [
     "Finding"
    ]
   },
   "outputs": [
    {
     "name": "stdout",
     "output_type": "stream",
     "text": [
      "The application accesses 1280 files across all ranks\n"
     ]
    }
   ],
   "source": [
    "print(\"The application accesses {} files across all ranks\".format(len(all_filenames)))"
   ]
  },
  {
   "cell_type": "markdown",
   "metadata": {
    "tags": [
     "Finding"
    ]
   },
   "source": [
    "### Distribution of Transfer Size and Bandwidth in the application\n",
    "The transfer size is given by the size column in bytes and the bandwidth is shown in MB/s"
   ]
  },
  {
   "cell_type": "code",
   "execution_count": 37,
   "metadata": {
    "tags": [
     "Finding"
    ]
   },
   "outputs": [
    {
     "data": {
      "text/html": [
       "<div>\n",
       "<style scoped>\n",
       "    .dataframe tbody tr th:only-of-type {\n",
       "        vertical-align: middle;\n",
       "    }\n",
       "\n",
       "    .dataframe tbody tr th {\n",
       "        vertical-align: top;\n",
       "    }\n",
       "\n",
       "    .dataframe thead th {\n",
       "        text-align: right;\n",
       "    }\n",
       "</style>\n",
       "<table border=\"1\" class=\"dataframe\">\n",
       "  <thead>\n",
       "    <tr style=\"text-align: right;\">\n",
       "      <th></th>\n",
       "      <th>size</th>\n",
       "      <th>bandwidth</th>\n",
       "    </tr>\n",
       "  </thead>\n",
       "  <tbody>\n",
       "    <tr>\n",
       "      <th>count</th>\n",
       "      <td>2.560000e+04</td>\n",
       "      <td>25600.000000</td>\n",
       "    </tr>\n",
       "    <tr>\n",
       "      <th>mean</th>\n",
       "      <td>6.627000e+07</td>\n",
       "      <td>3156.667067</td>\n",
       "    </tr>\n",
       "    <tr>\n",
       "      <th>std</th>\n",
       "      <td>2.716978e+07</td>\n",
       "      <td>2674.335676</td>\n",
       "    </tr>\n",
       "    <tr>\n",
       "      <th>min</th>\n",
       "      <td>2.516582e+07</td>\n",
       "      <td>17.803329</td>\n",
       "    </tr>\n",
       "    <tr>\n",
       "      <th>25%</th>\n",
       "      <td>6.710886e+07</td>\n",
       "      <td>856.953229</td>\n",
       "    </tr>\n",
       "    <tr>\n",
       "      <th>50%</th>\n",
       "      <td>6.710886e+07</td>\n",
       "      <td>2708.842514</td>\n",
       "    </tr>\n",
       "    <tr>\n",
       "      <th>75%</th>\n",
       "      <td>6.710886e+07</td>\n",
       "      <td>4141.116546</td>\n",
       "    </tr>\n",
       "    <tr>\n",
       "      <th>max</th>\n",
       "      <td>1.342177e+08</td>\n",
       "      <td>10253.455157</td>\n",
       "    </tr>\n",
       "  </tbody>\n",
       "</table>\n",
       "</div>"
      ],
      "text/plain": [
       "               size     bandwidth\n",
       "count  2.560000e+04  25600.000000\n",
       "mean   6.627000e+07   3156.667067\n",
       "std    2.716978e+07   2674.335676\n",
       "min    2.516582e+07     17.803329\n",
       "25%    6.710886e+07    856.953229\n",
       "50%    6.710886e+07   2708.842514\n",
       "75%    6.710886e+07   4141.116546\n",
       "max    1.342177e+08  10253.455157"
      ]
     },
     "execution_count": 37,
     "metadata": {},
     "output_type": "execute_result"
    }
   ],
   "source": [
    "io_ddf_read_write[['size', 'bandwidth']].describe()"
   ]
  },
  {
   "cell_type": "markdown",
   "metadata": {},
   "source": [
    "### Preload the I/O dataframe for faster analysis"
   ]
  },
  {
   "cell_type": "code",
   "execution_count": 38,
   "metadata": {
    "tags": []
   },
   "outputs": [],
   "source": [
    "io_ddf = io_ddf.persist()\n",
    "result = wait(io_ddf)"
   ]
  },
  {
   "cell_type": "markdown",
   "metadata": {
    "tags": [
     "Finding"
    ]
   },
   "source": [
    "## Application Analysis"
   ]
  },
  {
   "cell_type": "markdown",
   "metadata": {},
   "source": [
    "### Num Ranks"
   ]
  },
  {
   "cell_type": "code",
   "execution_count": 39,
   "metadata": {
    "tags": [
     "Finding"
    ]
   },
   "outputs": [
    {
     "name": "stdout",
     "output_type": "stream",
     "text": [
      "Number of ranks in application 1280\n"
     ]
    }
   ],
   "source": [
    "num_ranks = io_ddf_read_write['rank'].nunique()\n",
    "print(\"Number of ranks in application {}\".format(num_ranks))"
   ]
  },
  {
   "cell_type": "markdown",
   "metadata": {},
   "source": [
    "### Total I/O amount"
   ]
  },
  {
   "cell_type": "code",
   "execution_count": 40,
   "metadata": {
    "tags": [
     "Finding"
    ]
   },
   "outputs": [
    {
     "name": "stdout",
     "output_type": "stream",
     "text": [
      "Total I/O in application 1580.0 GB\n",
      "Total I/O per operation in application func_id\n",
      "read     790.0\n",
      "write    790.0\n",
      "Name: size, dtype: float64 GB\n"
     ]
    }
   ],
   "source": [
    "total_io = io_ddf_read_write.groupby('func_id')['size'].sum()/1024.0/1024.0/1024.0\n",
    "print(\"Total I/O in application {} GB\".format(total_io.sum()))\n",
    "print(\"Total I/O per operation in application {} GB\".format(total_io))"
   ]
  },
  {
   "cell_type": "markdown",
   "metadata": {},
   "source": [
    "### I/O per rank"
   ]
  },
  {
   "cell_type": "code",
   "execution_count": 41,
   "metadata": {},
   "outputs": [
    {
     "data": {
      "text/plain": [
       "rank  func_id\n",
       "0     read       662700032\n",
       "      write      662700032\n",
       "1     read       662700032\n",
       "      write      662700032\n",
       "2     read       662700032\n",
       "                   ...    \n",
       "1277  write      662700032\n",
       "1278  read       662700032\n",
       "      write      662700032\n",
       "1279  read       662700032\n",
       "      write      662700032\n",
       "Name: size, Length: 2560, dtype: int32"
      ]
     },
     "execution_count": 41,
     "metadata": {},
     "output_type": "execute_result"
    }
   ],
   "source": [
    "io_ddf_read_write.groupby(['rank', 'func_id'])['size'].sum()"
   ]
  },
  {
   "cell_type": "markdown",
   "metadata": {
    "tags": [
     "Finding"
    ]
   },
   "source": [
    "Every rank performs the same amount of I/O and is evenly distributed amoung the read and write operations"
   ]
  },
  {
   "cell_type": "code",
   "execution_count": 42,
   "metadata": {},
   "outputs": [
    {
     "data": {
      "text/plain": [
       "<AxesSubplot:xlabel='rank'>"
      ]
     },
     "execution_count": 42,
     "metadata": {},
     "output_type": "execute_result"
    },
    {
     "data": {
      "image/png": "[encoded data removed]",
      "text/plain": [
       "<Figure size 288x288 with 1 Axes>"
      ]
     },
     "metadata": {
      "needs_background": "light"
     },
     "output_type": "display_data"
    }
   ],
   "source": [
    "io_per_rank_gb = io_ddf_read_write.groupby(['rank'])['size'].sum()/1024.0/1024.0/1024.0\n",
    "io_per_rank_gb.plot(kind='line',figsize=(4,4))"
   ]
  },
  {
   "cell_type": "markdown",
   "metadata": {},
   "source": [
    "### Operations Per Rank"
   ]
  },
  {
   "cell_type": "code",
   "execution_count": 43,
   "metadata": {},
   "outputs": [
    {
     "data": {
      "text/plain": [
       "<AxesSubplot:xlabel='rank'>"
      ]
     },
     "execution_count": 43,
     "metadata": {},
     "output_type": "execute_result"
    },
    {
     "data": {
      "image/png": "[encoded data removed]",
      "text/plain": [
       "<Figure size 288x288 with 1 Axes>"
      ]
     },
     "metadata": {
      "needs_background": "light"
     },
     "output_type": "display_data"
    }
   ],
   "source": [
    "io_per_rank_gb = io_ddf_read_write.groupby('rank')['count'].sum()\n",
    "io_per_rank_gb.plot(kind='line',figsize=(4,4))"
   ]
  },
  {
   "cell_type": "markdown",
   "metadata": {},
   "source": [
    "### Average I/O Time per process"
   ]
  },
  {
   "cell_type": "code",
   "execution_count": 44,
   "metadata": {},
   "outputs": [],
   "source": [
    "time_per_rank = io_ddf_read_write.groupby('rank')['duration'].sum()"
   ]
  },
  {
   "cell_type": "code",
   "execution_count": 45,
   "metadata": {},
   "outputs": [
    {
     "name": "stdout",
     "output_type": "stream",
     "text": [
      "time per process: Average 1.406298279762268 sec, Max 3.7613401412963867 sec, and Min 0.23242568969726562 sec\n"
     ]
    }
   ],
   "source": [
    "print(\"time per process: Average {} sec, Max {} sec, and Min {} sec\".format(time_per_rank.mean(), time_per_rank.max(), time_per_rank.min()))"
   ]
  },
  {
   "cell_type": "code",
   "execution_count": 46,
   "metadata": {},
   "outputs": [
    {
     "data": {
      "text/plain": [
       "<AxesSubplot:xlabel='rank'>"
      ]
     },
     "execution_count": 46,
     "metadata": {},
     "output_type": "execute_result"
    },
    {
     "data": {
      "image/png": "[encoded data removed]",
      "text/plain": [
       "<Figure size 288x288 with 1 Axes>"
      ]
     },
     "metadata": {
      "needs_background": "light"
     },
     "output_type": "display_data"
    }
   ],
   "source": [
    "time_per_rank.plot(kind='line',figsize=(4,4))"
   ]
  },
  {
   "cell_type": "markdown",
   "metadata": {
    "tags": [
     "Finding"
    ]
   },
   "source": [
    "Even though every rank has identical I/O (operations and amount), they have a variable performance.\n",
    "- **Possible Reason:**\n",
    "  - Overwelming of PFS from I/O parallelism.\n",
    "  - Transfer size doesnt match Stripe size."
   ]
  },
  {
   "cell_type": "markdown",
   "metadata": {},
   "source": [
    "### Compute Time"
   ]
  },
  {
   "cell_type": "markdown",
   "metadata": {},
   "source": [
    "#### Convert trace dataframe into memory."
   ]
  },
  {
   "cell_type": "code",
   "execution_count": 47,
   "metadata": {},
   "outputs": [],
   "source": [
    "trace_ddf_local = trace_ddf.compute()"
   ]
  },
  {
   "cell_type": "markdown",
   "metadata": {},
   "source": [
    "#### Calculate duration for trace values"
   ]
  },
  {
   "cell_type": "code",
   "execution_count": 48,
   "metadata": {},
   "outputs": [],
   "source": [
    "trace_ddf_local['duration'] = trace_ddf_local['tend']-trace_ddf_local['tstart']"
   ]
  },
  {
   "cell_type": "code",
   "execution_count": 49,
   "metadata": {
    "tags": [
     "Finding"
    ]
   },
   "outputs": [
    {
     "name": "stdout",
     "output_type": "stream",
     "text": [
      "Profiler stored 0 negetive rows\n"
     ]
    }
   ],
   "source": [
    "negetive_durations = trace_ddf_local[trace_ddf_local['duration'] < 0]['duration'].count()\n",
    "print(\"Profiler stored {} negetive rows\".format(negetive_durations))"
   ]
  },
  {
   "cell_type": "code",
   "execution_count": 50,
   "metadata": {},
   "outputs": [],
   "source": [
    "time_per_rank = trace_ddf_local.groupby('rank')['duration'].sum()"
   ]
  },
  {
   "cell_type": "code",
   "execution_count": 51,
   "metadata": {
    "tags": [
     "Finding"
    ]
   },
   "outputs": [
    {
     "name": "stdout",
     "output_type": "stream",
     "text": [
      "Time per process: Average 6.418972015380859 sec, Max 10.984901428222656 sec, and Min 1.9412412643432617 sec\n"
     ]
    }
   ],
   "source": [
    "print(\"Time per process: Average {} sec, Max {} sec, and Min {} sec\".format(time_per_rank.mean(), time_per_rank.max(), time_per_rank.min()))"
   ]
  },
  {
   "cell_type": "code",
   "execution_count": 52,
   "metadata": {},
   "outputs": [
    {
     "data": {
      "text/plain": [
       "<AxesSubplot:xlabel='rank'>"
      ]
     },
     "execution_count": 52,
     "metadata": {},
     "output_type": "execute_result"
    },
    {
     "data": {
      "image/png": "[encoded data removed]",
      "text/plain": [
       "<Figure size 288x288 with 1 Axes>"
      ]
     },
     "metadata": {
      "needs_background": "light"
     },
     "output_type": "display_data"
    }
   ],
   "source": [
    "time_per_rank.plot(kind='line',figsize=(4,4))"
   ]
  },
  {
   "cell_type": "markdown",
   "metadata": {},
   "source": [
    "## Job Time"
   ]
  },
  {
   "cell_type": "code",
   "execution_count": 53,
   "metadata": {},
   "outputs": [],
   "source": [
    "job_time = ddf['tend'].max().compute()"
   ]
  },
  {
   "cell_type": "code",
   "execution_count": 54,
   "metadata": {},
   "outputs": [
    {
     "name": "stdout",
     "output_type": "stream",
     "text": [
      "Job Time in Application 33.702091217041016 sec\n"
     ]
    }
   ],
   "source": [
    "print(\"Job Time in Application {} sec\".format(job_time))"
   ]
  },
  {
   "cell_type": "markdown",
   "metadata": {},
   "source": [
    "The application run for a long time includes initialization."
   ]
  },
  {
   "cell_type": "markdown",
   "metadata": {},
   "source": [
    "## Job Intensity"
   ]
  },
  {
   "cell_type": "code",
   "execution_count": 55,
   "metadata": {},
   "outputs": [],
   "source": [
    "total_compute = trace_ddf_local.groupby('rank')['duration'].sum().max()\n",
    "total_io = io_ddf.groupby('rank')['duration'].sum().max().compute()"
   ]
  },
  {
   "cell_type": "code",
   "execution_count": 56,
   "metadata": {},
   "outputs": [],
   "source": [
    "io_intensity=total_io/(total_io + total_compute)\n",
    "comp_intensity=total_compute/(total_io + total_compute)"
   ]
  },
  {
   "cell_type": "code",
   "execution_count": 57,
   "metadata": {},
   "outputs": [
    {
     "name": "stdout",
     "output_type": "stream",
     "text": [
      "I/O intensity: 0.4855409292837764, Compute intensity: 0.5144590707162237\n"
     ]
    }
   ],
   "source": [
    "print(\"I/O intensity: {}, Compute intensity: {}\".format(io_intensity, comp_intensity))"
   ]
  },
  {
   "cell_type": "markdown",
   "metadata": {},
   "source": [
    "### I/O Transfer Size Distribution"
   ]
  },
  {
   "cell_type": "code",
   "execution_count": 58,
   "metadata": {},
   "outputs": [
    {
     "data": {
      "image/png": "[encoded data removed]",
      "text/plain": [
       "<Figure size 432x288 with 1 Axes>"
      ]
     },
     "metadata": {
      "needs_background": "light"
     },
     "output_type": "display_data"
    }
   ],
   "source": [
    "file_df_temp = io_ddf_read_write\n",
    "size_ranges = [0, 4*1024, 64*1024, 1024*1024, 16*1024*1024]\n",
    "size_ranges_str = []\n",
    "for range_val in size_ranges:\n",
    "    size_ranges_str.append(str(range_val))\n",
    "max_range = len(size_ranges)\n",
    "request_size = [0]*len(size_ranges)\n",
    "for i, val in enumerate(size_ranges):\n",
    "    #print(i, max_range)\n",
    "    if i < max_range - 1:\n",
    "        request_size[i] = file_df_temp[(file_df_temp['size'].ge(val)) & \n",
    "                                       (file_df_temp['size'].lt(size_ranges[i+1]))]['size'].count()\n",
    "    else:\n",
    "        request_size[i] = file_df_temp[(file_df_temp['size'] >=size_ranges[i])]['size'].count()\n",
    "\n",
    "#print(request_size)\n",
    "plt.bar(size_ranges_str, request_size)\n",
    "#file_sizes = file_df_temp['size'].to_numpy() / 1024.0 /1024.0\n",
    "#plt.hist(file_sizes, bins=100)\n",
    "plt.show()"
   ]
  },
  {
   "cell_type": "markdown",
   "metadata": {
    "tags": [
     "Finding"
    ]
   },
   "source": [
    "The application uses a constant transfer size of 16MB"
   ]
  },
  {
   "cell_type": "markdown",
   "metadata": {},
   "source": [
    "### Distribution of Bandwidth achived by application"
   ]
  },
  {
   "cell_type": "code",
   "execution_count": 59,
   "metadata": {},
   "outputs": [
    {
     "data": {
      "image/png": "[encoded data removed]",
      "text/plain": [
       "<Figure size 432x288 with 1 Axes>"
      ]
     },
     "metadata": {
      "needs_background": "light"
     },
     "output_type": "display_data"
    }
   ],
   "source": [
    "bw_ranges = [1, 128, 1024, 1024*64]\n",
    "bw_ranges_str = []\n",
    "for range_val in bw_ranges:\n",
    "    bw_ranges_str.append(str(range_val))\n",
    "max_range = len(bw_ranges)\n",
    "request_bw = [0]*len(bw_ranges)\n",
    "for i, val in enumerate(bw_ranges):\n",
    "    #print(i, max_range)\n",
    "    if i < max_range - 1:\n",
    "        request_bw[i] = file_df_temp[(file_df_temp['bandwidth'].ge(val)) & \n",
    "                                       (file_df_temp['bandwidth'].lt(bw_ranges[i+1]))]['size'].count()\n",
    "    else:\n",
    "        request_bw[i] = file_df_temp[(file_df_temp['bandwidth'] >=bw_ranges[i])]['size'].count()\n",
    "fig, ax = plt.subplots()\n",
    "ax.barh(bw_ranges_str, request_bw)\n",
    "for i, v in enumerate(request_bw):\n",
    "    ax.text(v + 3, i + .25, str(v), color='blue', fontweight='bold')\n",
    "plt.show()"
   ]
  },
  {
   "cell_type": "code",
   "execution_count": 60,
   "metadata": {},
   "outputs": [
    {
     "data": {
      "text/plain": [
       "[356, 6835, 18409, 0]"
      ]
     },
     "execution_count": 60,
     "metadata": {},
     "output_type": "execute_result"
    }
   ],
   "source": [
    "request_bw"
   ]
  },
  {
   "cell_type": "code",
   "execution_count": 61,
   "metadata": {},
   "outputs": [
    {
     "data": {
      "text/plain": [
       "array([ 1.390625  , 26.69921875, 71.91015625,  0.        ])"
      ]
     },
     "execution_count": 61,
     "metadata": {},
     "output_type": "execute_result"
    }
   ],
   "source": [
    "percentage_bw = np.array(request_bw)*100/np.sum(request_bw)\n",
    "percentage_bw"
   ]
  },
  {
   "cell_type": "markdown",
   "metadata": {
    "tags": [
     "Finding"
    ]
   },
   "source": [
    "- 71% of the overall I/O got a bandwidth of 1 GB/s per process.\n",
    "- 27% achieve a low bandwidth of 128MB/s"
   ]
  },
  {
   "cell_type": "markdown",
   "metadata": {},
   "source": [
    "### Number of files read/written"
   ]
  },
  {
   "cell_type": "code",
   "execution_count": 62,
   "metadata": {
    "tags": [
     "Finding"
    ]
   },
   "outputs": [
    {
     "name": "stdout",
     "output_type": "stream",
     "text": [
      "The application accesses 1280 files\n"
     ]
    }
   ],
   "source": [
    "all_filenames = io_ddf[io_ddf['filename'].str.contains('/p/gpfs1')]['filename'].unique().compute()\n",
    "print(\"The application accesses {} files\".format(len(all_filenames)))\n",
    "#print(all_filenames[:8],all_filenames[-8:])"
   ]
  },
  {
   "cell_type": "markdown",
   "metadata": {},
   "source": [
    "### I/O Operations by Application"
   ]
  },
  {
   "cell_type": "code",
   "execution_count": 63,
   "metadata": {},
   "outputs": [
    {
     "data": {
      "text/plain": [
       "func_id\n",
       "close         7680\n",
       "ftruncate     2560\n",
       "lseek64      25600\n",
       "open          3808\n",
       "open64        5120\n",
       "read         12800\n",
       "unlink        2560\n",
       "write        12800\n",
       "Name: func_id, dtype: int64"
      ]
     },
     "execution_count": 63,
     "metadata": {},
     "output_type": "execute_result"
    }
   ],
   "source": [
    "io_ddf.groupby('func_id')['func_id'].count().compute()"
   ]
  },
  {
   "cell_type": "markdown",
   "metadata": {},
   "source": [
    "As there are 1280 ranks in total, the distribution of operations is even among the processes.\n",
    "We will confirm it with random inspections next."
   ]
  },
  {
   "cell_type": "markdown",
   "metadata": {},
   "source": [
    "### IO Operations per rank"
   ]
  },
  {
   "cell_type": "code",
   "execution_count": 64,
   "metadata": {},
   "outputs": [
    {
     "data": {
      "text/plain": [
       "rank  func_id  \n",
       "0     close         6\n",
       "      ftruncate     2\n",
       "      lseek64      20\n",
       "      open          3\n",
       "      open64        4\n",
       "      read         10\n",
       "      unlink        2\n",
       "      write        10\n",
       "Name: func_id, dtype: int64"
      ]
     },
     "execution_count": 64,
     "metadata": {},
     "output_type": "execute_result"
    }
   ],
   "source": [
    "io_ddf.groupby(['rank','func_id'])['func_id'].count().compute()[:8]"
   ]
  },
  {
   "cell_type": "code",
   "execution_count": 65,
   "metadata": {},
   "outputs": [
    {
     "data": {
      "text/plain": [
       "rank  func_id  \n",
       "4     close         6\n",
       "      ftruncate     2\n",
       "      lseek64      20\n",
       "      open          3\n",
       "      open64        4\n",
       "      read         10\n",
       "      unlink        2\n",
       "      write        10\n",
       "Name: func_id, dtype: int64"
      ]
     },
     "execution_count": 65,
     "metadata": {},
     "output_type": "execute_result"
    }
   ],
   "source": [
    "io_ddf.groupby(['rank','func_id'])['func_id'].count().compute()[32:40]"
   ]
  },
  {
   "cell_type": "markdown",
   "metadata": {
    "tags": [
     "Finding"
    ]
   },
   "source": [
    "These confirm our hypothesis that HACC-IO performs same operations per process."
   ]
  },
  {
   "cell_type": "markdown",
   "metadata": {},
   "source": [
    "### Bandwidth per request distribution\n",
    "We calculate the achived bandwidth per request size."
   ]
  },
  {
   "cell_type": "code",
   "execution_count": 66,
   "metadata": {},
   "outputs": [
    {
     "data": {
      "image/png": "[encoded data removed]",
      "text/plain": [
       "<Figure size 432x288 with 1 Axes>"
      ]
     },
     "metadata": {
      "needs_background": "light"
     },
     "output_type": "display_data"
    },
    {
     "name": "stderr",
     "output_type": "stream",
     "text": [
      "/var/tmp/ipykernel_92528/3804279530.py:21: UserWarning: Creating legend with loc=\"best\" can be slow with large amounts of data.\n",
      "  fig.tight_layout()\n"
     ]
    }
   ],
   "source": [
    "ranks = range(num_ranks)\n",
    "size_ranges = [0, 4*1024, 64*1024, 1024*1024, 16*1024*1024]\n",
    "request_size = [[]]*len(size_ranges)\n",
    "for i, val in enumerate(size_ranges):\n",
    "    request_size[i] = [0]*num_ranks\n",
    "    for rank in range(num_ranks):\n",
    "        file_df_temp = io_ddf_read_write[io_ddf_read_write['rank'] == rank]\n",
    "        max_range = len(size_ranges)\n",
    "        if i < max_range - 1:\n",
    "            request_size[i][rank] = file_df_temp[(file_df_temp['size'].ge(val)) & \n",
    "                                           (file_df_temp['size'].lt(size_ranges[i+1]))]['bandwidth'].mean()\n",
    "        else:\n",
    "            request_size[i][rank] = file_df_temp[(file_df_temp['size'] >=size_ranges[i])]['bandwidth'].mean()\n",
    "fig, ax = plt.subplots()\n",
    "width = 0.35\n",
    "for i, val in enumerate(size_ranges):\n",
    "    rects1 = ax.bar(ranks, request_size[i], width, label=str(i))\n",
    "plt.show()\n",
    "ax.legend()\n",
    "\n",
    "fig.tight_layout()\n",
    "\n",
    "plt.show()"
   ]
  },
  {
   "cell_type": "markdown",
   "metadata": {},
   "source": [
    "As the application has only one request size 16MB, we see a single line. However, we see variation of upto 10x between bandwidth from few ranks."
   ]
  },
  {
   "cell_type": "markdown",
   "metadata": {},
   "source": [
    "### Overlapping of Compute and I/O"
   ]
  },
  {
   "cell_type": "code",
   "execution_count": 67,
   "metadata": {},
   "outputs": [
    {
     "data": {
      "text/plain": [
       "count    1280.0\n",
       "mean        1.0\n",
       "std         0.0\n",
       "min         1.0\n",
       "25%         1.0\n",
       "50%         1.0\n",
       "75%         1.0\n",
       "max         1.0\n",
       "Name: thread_id, dtype: float64"
      ]
     },
     "execution_count": 67,
     "metadata": {},
     "output_type": "execute_result"
    }
   ],
   "source": [
    "io_ddf.groupby('rank')['thread_id'].nunique().describe().compute()"
   ]
  },
  {
   "cell_type": "markdown",
   "metadata": {},
   "source": [
    "#### No additional threads means I/O is synchronous to compute. I.e. all I/O is unoverlapped."
   ]
  },
  {
   "cell_type": "markdown",
   "metadata": {},
   "source": [
    "### Timeline\n",
    "The timeline analysis shows how each rank performs I/O over the runtime of the applications"
   ]
  },
  {
   "cell_type": "code",
   "execution_count": 68,
   "metadata": {},
   "outputs": [],
   "source": [
    "time_step=1 # in seconds"
   ]
  },
  {
   "cell_type": "markdown",
   "metadata": {},
   "source": [
    "#### Request Size Timeline"
   ]
  },
  {
   "cell_type": "code",
   "execution_count": 69,
   "metadata": {},
   "outputs": [
    {
     "data": {
      "text/plain": [
       "<BarContainer object of 34 artists>"
      ]
     },
     "execution_count": 69,
     "metadata": {},
     "output_type": "execute_result"
    },
    {
     "data": {
      "image/png": "[encoded data removed]",
      "text/plain": [
       "<Figure size 432x288 with 1 Axes>"
      ]
     },
     "metadata": {
      "needs_background": "light"
     },
     "output_type": "display_data"
    }
   ],
   "source": [
    "import math\n",
    "values = np.arange(0, math.ceil(job_time), time_step)\n",
    "values_int = range(len(values))\n",
    "timeline_ts = [0]*len(values_int)\n",
    "prev = 0\n",
    "for i in values_int:\n",
    "    contains = (io_ddf_read_write['tstart'] >=prev) & (io_ddf_read_write['tend'] <values[i])\n",
    "    timeline_ts[i] = io_ddf_read_write[contains]['size'].sum()\n",
    "    prev = i\n",
    "plt.bar(values, timeline_ts)"
   ]
  },
  {
   "cell_type": "markdown",
   "metadata": {
    "tags": [
     "Finding"
    ]
   },
   "source": [
    "The initial part of the application is spent on init. Based on code inspection this is memory allocation. Then we have I/O operations. Also, as the application has same number of ops a variatic graph depicts that the I/O performance is not consistant during the runtime. Specifically, the I/O performance can reduce 2x-10x during runtime of application."
   ]
  },
  {
   "cell_type": "markdown",
   "metadata": {},
   "source": [
    "#### Bandwidth Timeline"
   ]
  },
  {
   "cell_type": "code",
   "execution_count": 70,
   "metadata": {},
   "outputs": [
    {
     "data": {
      "text/plain": [
       "<BarContainer object of 34 artists>"
      ]
     },
     "execution_count": 70,
     "metadata": {},
     "output_type": "execute_result"
    },
    {
     "data": {
      "image/png": "[encoded data removed]",
      "text/plain": [
       "<Figure size 432x288 with 1 Axes>"
      ]
     },
     "metadata": {
      "needs_background": "light"
     },
     "output_type": "display_data"
    }
   ],
   "source": [
    "import math\n",
    "values = np.arange(0, math.ceil(job_time), time_step)\n",
    "values_int = range(len(values))\n",
    "timeline_ts = [0]*len(values_int)\n",
    "prev = 0\n",
    "for i in values_int:\n",
    "    contains = (io_ddf_read_write['tstart'] >=prev) & (io_ddf_read_write['tend'] <values[i])\n",
    "    timeline_ts[i] = io_ddf_read_write[contains]['bandwidth'].mean()\n",
    "    prev = i\n",
    "plt.bar(values, timeline_ts)"
   ]
  },
  {
   "cell_type": "markdown",
   "metadata": {},
   "source": [
    "This supports our previous observation as the bandwidth is the measure of I/O performance of the application."
   ]
  },
  {
   "cell_type": "markdown",
   "metadata": {},
   "source": [
    "#### Bandwidth Timeline Per Rank"
   ]
  },
  {
   "cell_type": "code",
   "execution_count": 71,
   "metadata": {},
   "outputs": [
    {
     "data": {
      "image/png": "[encoded data removed]",
      "text/plain": [
       "<Figure size 432x288 with 1 Axes>"
      ]
     },
     "metadata": {
      "needs_background": "light"
     },
     "output_type": "display_data"
    },
    {
     "data": {
      "image/png": "[encoded data removed]",
      "text/plain": [
       "<Figure size 432x288 with 1 Axes>"
      ]
     },
     "metadata": {
      "needs_background": "light"
     },
     "output_type": "display_data"
    },
    {
     "data": {
      "image/png": "[encoded data removed]",
      "text/plain": [
       "<Figure size 432x288 with 1 Axes>"
      ]
     },
     "metadata": {
      "needs_background": "light"
     },
     "output_type": "display_data"
    },
    {
     "data": {
      "image/png": "[encoded data removed]",
      "text/plain": [
       "<Figure size 432x288 with 1 Axes>"
      ]
     },
     "metadata": {
      "needs_background": "light"
     },
     "output_type": "display_data"
    },
    {
     "data": {
      "image/png": "[encoded data removed]",
      "text/plain": [
       "<Figure size 432x288 with 1 Axes>"
      ]
     },
     "metadata": {
      "needs_background": "light"
     },
     "output_type": "display_data"
    }
   ],
   "source": [
    "import math\n",
    "\n",
    "selected_rank = [0, 4, 8, 12, 20]\n",
    "for rank in selected_rank:\n",
    "    io_df_rank = io_ddf_read_write[io_ddf_read_write['rank'] == rank]\n",
    "    values = np.arange(0, math.ceil(job_time), time_step)\n",
    "    values_int = range(len(values))\n",
    "    timeline_ts = [0]*len(values_int)\n",
    "    prev = 0\n",
    "    for i in values_int:\n",
    "        contains = (io_df_rank['tstart'] >=prev) & (io_df_rank['tend'] <values[i])\n",
    "        timeline_ts[i] = io_df_rank[contains]['bandwidth'].mean()\n",
    "        prev = i\n",
    "    plt.bar(values, timeline_ts)\n",
    "    plt.show()"
   ]
  },
  {
   "cell_type": "markdown",
   "metadata": {
    "tags": [
     "Finding"
    ]
   },
   "source": [
    "As each of the processes in the job perform the same work, the variation in bandwidth means we can optimize the workflow with buffering and caching to reduce the stress and network congestions on the PFS."
   ]
  },
  {
   "cell_type": "markdown",
   "metadata": {},
   "source": [
    "#### Request Size Timeline per Rank"
   ]
  },
  {
   "cell_type": "code",
   "execution_count": 72,
   "metadata": {},
   "outputs": [
    {
     "data": {
      "image/png": "[encoded data removed]",
      "text/plain": [
       "<Figure size 432x288 with 1 Axes>"
      ]
     },
     "metadata": {
      "needs_background": "light"
     },
     "output_type": "display_data"
    },
    {
     "data": {
      "image/png": "[encoded data removed]",
      "text/plain": [
       "<Figure size 432x288 with 1 Axes>"
      ]
     },
     "metadata": {
      "needs_background": "light"
     },
     "output_type": "display_data"
    },
    {
     "data": {
      "image/png": "[encoded data removed]",
      "text/plain": [
       "<Figure size 432x288 with 1 Axes>"
      ]
     },
     "metadata": {
      "needs_background": "light"
     },
     "output_type": "display_data"
    },
    {
     "data": {
      "image/png": "[encoded data removed]",
      "text/plain": [
       "<Figure size 432x288 with 1 Axes>"
      ]
     },
     "metadata": {
      "needs_background": "light"
     },
     "output_type": "display_data"
    },
    {
     "data": {
      "image/png": "[encoded data removed]",
      "text/plain": [
       "<Figure size 432x288 with 1 Axes>"
      ]
     },
     "metadata": {
      "needs_background": "light"
     },
     "output_type": "display_data"
    }
   ],
   "source": [
    "import math\n",
    "\n",
    "selected_rank = [0, 4, 8, 12, 20]\n",
    "for rank in selected_rank:\n",
    "    io_df_rank = io_ddf_read_write[io_ddf_read_write['rank'] == rank]\n",
    "    values = np.arange(0, math.ceil(job_time), time_step)\n",
    "    values_int = range(len(values))\n",
    "    timeline_ts = [0]*len(values_int)\n",
    "    prev = 0\n",
    "    for i in values_int:\n",
    "        contains = (io_df_rank['tstart'] >=prev) & (io_df_rank['tend'] <values[i])\n",
    "        timeline_ts[i] = io_df_rank[contains]['size'].sum()\n",
    "        prev = i\n",
    "    plt.bar(values, timeline_ts)\n",
    "    plt.show()"
   ]
  },
  {
   "cell_type": "markdown",
   "metadata": {},
   "source": [
    "### Data Flow\n",
    "We plot how different ranks in the job are accessing data."
   ]
  },
  {
   "cell_type": "code",
   "execution_count": 73,
   "metadata": {},
   "outputs": [],
   "source": [
    "dependency_graph = {}\n",
    "for filename in all_filenames:\n",
    "    dependency_graph[filename]={}"
   ]
  },
  {
   "cell_type": "code",
   "execution_count": 74,
   "metadata": {},
   "outputs": [],
   "source": [
    "import graphviz\n",
    "dot = graphviz.Digraph()\n",
    "for rank in [0,21,45,64]:\n",
    "    dot.node(str(rank))\n",
    "    io_access_rank = io_ddf[io_ddf['rank'] == rank].groupby(['filename','func_id'])['func_id'].count().compute()\n",
    "    #print(io_access_rank)\n",
    "    for index,item in io_access_rank.iteritems():\n",
    "        filename = index[0]\n",
    "        func_id = \"{}-{}\".format(rank,index[1])\n",
    "        count = item\n",
    "        #print(filename,func_id,count)\n",
    "        if \"/p/gpfs1\" in filename:\n",
    "            #if filename not in dependency_graph:\n",
    "            #    dependency_graph[filename]={}\n",
    "            #if rank not in dependency_graph[filename]:\n",
    "            #    dependency_graph[filename][rank] = {}\n",
    "            #if index[1] not in dependency_graph[filename][rank]:\n",
    "            #    dependency_graph[filename][rank][index[1]] = 0\n",
    "            #dependency_graph[filename][rank][index[1]] += count\n",
    "            dot.node(func_id)\n",
    "            dot.node(filename)\n",
    "            dot.edge(str(rank),func_id)\n",
    "            if \"read\" in func_id:\n",
    "                dot.edge(filename, func_id, label=str(count))\n",
    "            else:\n",
    "                dot.edge(func_id,filename, label=str(count))\n",
    "        "
   ]
  },
  {
   "cell_type": "code",
   "execution_count": 75,
   "metadata": {},
   "outputs": [
    {
     "data": {
      "image/svg+xml": [
       "<?xml version=\"1.0\" encoding=\"UTF-8\" standalone=\"no\"?>\n",
       "<!DOCTYPE svg PUBLIC \"-//W3C//DTD SVG 1.1//EN\"\n",
       " \"http://www.w3.org/Graphics/SVG/1.1/DTD/svg11.dtd\">\n",
       "<!-- Generated by graphviz version 2.42.3 (20191010.1750)\n",
       " -->\n",
       "<!-- Title: %3 Pages: 1 -->\n",
       "<svg width=\"2710pt\" height=\"291pt\"\n",
       " viewBox=\"0.00 0.00 2709.96 291.00\" xmlns=\"http://www.w3.org/2000/svg\" xmlns:xlink=\"http://www.w3.org/1999/xlink\">\n",
       "<g id=\"graph0\" class=\"graph\" transform=\"scale(1 1) rotate(0) translate(4 287)\">\n",
       "<title>%3</title>\n",
       "<polygon fill=\"white\" stroke=\"transparent\" points=\"-4,4 -4,-287 2705.96,-287 2705.96,4 -4,4\"/>\n",
       "<!-- 0 -->\n",
       "<g id=\"node1\" class=\"node\">\n",
       "<title>0</title>\n",
       "<ellipse fill=\"none\" stroke=\"black\" cx=\"413.22\" cy=\"-265\" rx=\"27\" ry=\"18\"/>\n",
       "<text text-anchor=\"middle\" x=\"413.22\" y=\"-261.3\" font-family=\"Times,serif\" font-size=\"14.00\">0</text>\n",
       "</g>\n",
       "<!-- 0&#45;close -->\n",
       "<g id=\"node2\" class=\"node\">\n",
       "<title>0&#45;close</title>\n",
       "<ellipse fill=\"none\" stroke=\"black\" cx=\"359.22\" cy=\"-192\" rx=\"43.59\" ry=\"18\"/>\n",
       "<text text-anchor=\"middle\" x=\"359.22\" y=\"-188.3\" font-family=\"Times,serif\" font-size=\"14.00\">0&#45;close</text>\n",
       "</g>\n",
       "<!-- 0&#45;&gt;0&#45;close -->\n",
       "<g id=\"edge1\" class=\"edge\">\n",
       "<title>0&#45;&gt;0&#45;close</title>\n",
       "<path fill=\"none\" stroke=\"black\" d=\"M401.5,-248.59C394.62,-239.54 385.76,-227.9 377.94,-217.61\"/>\n",
       "<polygon fill=\"black\" stroke=\"black\" points=\"380.51,-215.2 371.67,-209.36 374.94,-219.44 380.51,-215.2\"/>\n",
       "</g>\n",
       "<!-- 0&#45;open64 -->\n",
       "<g id=\"node4\" class=\"node\">\n",
       "<title>0&#45;open64</title>\n",
       "<ellipse fill=\"none\" stroke=\"black\" cx=\"244.22\" cy=\"-192\" rx=\"53.89\" ry=\"18\"/>\n",
       "<text text-anchor=\"middle\" x=\"244.22\" y=\"-188.3\" font-family=\"Times,serif\" font-size=\"14.00\">0&#45;open64</text>\n",
       "</g>\n",
       "<!-- 0&#45;&gt;0&#45;open64 -->\n",
       "<g id=\"edge3\" class=\"edge\">\n",
       "<title>0&#45;&gt;0&#45;open64</title>\n",
       "<path fill=\"none\" stroke=\"black\" d=\"M390.78,-254.57C364.06,-243.35 318.88,-224.37 285.73,-210.44\"/>\n",
       "<polygon fill=\"black\" stroke=\"black\" points=\"286.87,-207.12 276.3,-206.48 284.16,-213.58 286.87,-207.12\"/>\n",
       "</g>\n",
       "<!-- 0&#45;read -->\n",
       "<g id=\"node5\" class=\"node\">\n",
       "<title>0&#45;read</title>\n",
       "<ellipse fill=\"none\" stroke=\"black\" cx=\"641.22\" cy=\"-18\" rx=\"40.09\" ry=\"18\"/>\n",
       "<text text-anchor=\"middle\" x=\"641.22\" y=\"-14.3\" font-family=\"Times,serif\" font-size=\"14.00\">0&#45;read</text>\n",
       "</g>\n",
       "<!-- 0&#45;&gt;0&#45;read -->\n",
       "<g id=\"edge5\" class=\"edge\">\n",
       "<title>0&#45;&gt;0&#45;read</title>\n",
       "<path fill=\"none\" stroke=\"black\" d=\"M438.08,-257.51C487.56,-243.07 597.21,-203.05 639.22,-123 651.7,-99.23 650.36,-67.99 647.04,-45.98\"/>\n",
       "<polygon fill=\"black\" stroke=\"black\" points=\"650.47,-45.24 645.31,-35.98 643.57,-46.44 650.47,-45.24\"/>\n",
       "</g>\n",
       "<!-- 0&#45;write -->\n",
       "<g id=\"node6\" class=\"node\">\n",
       "<title>0&#45;write</title>\n",
       "<ellipse fill=\"none\" stroke=\"black\" cx=\"465.22\" cy=\"-192\" rx=\"44.39\" ry=\"18\"/>\n",
       "<text text-anchor=\"middle\" x=\"465.22\" y=\"-188.3\" font-family=\"Times,serif\" font-size=\"14.00\">0&#45;write</text>\n",
       "</g>\n",
       "<!-- 0&#45;&gt;0&#45;write -->\n",
       "<g id=\"edge7\" class=\"edge\">\n",
       "<title>0&#45;&gt;0&#45;write</title>\n",
       "<path fill=\"none\" stroke=\"black\" d=\"M424.51,-248.59C431.13,-239.54 439.66,-227.9 447.2,-217.61\"/>\n",
       "<polygon fill=\"black\" stroke=\"black\" points=\"450.15,-219.5 453.24,-209.36 444.5,-215.36 450.15,-219.5\"/>\n",
       "</g>\n",
       "<!-- /p/gpfs1/iopp/temp/hacc_dir/test&#45;Part00000000&#45;of&#45;00001280.data -->\n",
       "<g id=\"node3\" class=\"node\">\n",
       "<title>/p/gpfs1/iopp/temp/hacc_dir/test&#45;Part00000000&#45;of&#45;00001280.data</title>\n",
       "<ellipse fill=\"none\" stroke=\"black\" cx=\"315.22\" cy=\"-105\" rx=\"315.44\" ry=\"18\"/>\n",
       "<text text-anchor=\"middle\" x=\"315.22\" y=\"-101.3\" font-family=\"Times,serif\" font-size=\"14.00\">/p/gpfs1/iopp/temp/hacc_dir/test&#45;Part00000000&#45;of&#45;00001280.data</text>\n",
       "</g>\n",
       "<!-- 0&#45;close&#45;&gt;/p/gpfs1/iopp/temp/hacc_dir/test&#45;Part00000000&#45;of&#45;00001280.data -->\n",
       "<g id=\"edge2\" class=\"edge\">\n",
       "<title>0&#45;close&#45;&gt;/p/gpfs1/iopp/temp/hacc_dir/test&#45;Part00000000&#45;of&#45;00001280.data</title>\n",
       "<path fill=\"none\" stroke=\"black\" d=\"M350.53,-174.21C344.3,-162.18 335.8,-145.75 328.7,-132.03\"/>\n",
       "<polygon fill=\"black\" stroke=\"black\" points=\"331.75,-130.32 324.05,-123.05 325.54,-133.54 331.75,-130.32\"/>\n",
       "<text text-anchor=\"middle\" x=\"345.22\" y=\"-144.8\" font-family=\"Times,serif\" font-size=\"14.00\">4</text>\n",
       "</g>\n",
       "<!-- /p/gpfs1/iopp/temp/hacc_dir/test&#45;Part00000000&#45;of&#45;00001280.data&#45;&gt;0&#45;read -->\n",
       "<g id=\"edge6\" class=\"edge\">\n",
       "<title>/p/gpfs1/iopp/temp/hacc_dir/test&#45;Part00000000&#45;of&#45;00001280.data&#45;&gt;0&#45;read</title>\n",
       "<path fill=\"none\" stroke=\"black\" d=\"M379.24,-87.31C443.65,-70.51 541.26,-45.06 597.37,-30.44\"/>\n",
       "<polygon fill=\"black\" stroke=\"black\" points=\"598.55,-33.74 607.34,-27.83 596.78,-26.97 598.55,-33.74\"/>\n",
       "<text text-anchor=\"middle\" x=\"507.72\" y=\"-57.8\" font-family=\"Times,serif\" font-size=\"14.00\">10</text>\n",
       "</g>\n",
       "<!-- 0&#45;open64&#45;&gt;/p/gpfs1/iopp/temp/hacc_dir/test&#45;Part00000000&#45;of&#45;00001280.data -->\n",
       "<g id=\"edge4\" class=\"edge\">\n",
       "<title>0&#45;open64&#45;&gt;/p/gpfs1/iopp/temp/hacc_dir/test&#45;Part00000000&#45;of&#45;00001280.data</title>\n",
       "<path fill=\"none\" stroke=\"black\" d=\"M258.25,-174.21C268.59,-161.83 282.82,-144.8 294.47,-130.85\"/>\n",
       "<polygon fill=\"black\" stroke=\"black\" points=\"297.26,-132.97 300.98,-123.05 291.88,-128.48 297.26,-132.97\"/>\n",
       "<text text-anchor=\"middle\" x=\"289.22\" y=\"-144.8\" font-family=\"Times,serif\" font-size=\"14.00\">4</text>\n",
       "</g>\n",
       "<!-- 0&#45;write&#45;&gt;/p/gpfs1/iopp/temp/hacc_dir/test&#45;Part00000000&#45;of&#45;00001280.data -->\n",
       "<g id=\"edge8\" class=\"edge\">\n",
       "<title>0&#45;write&#45;&gt;/p/gpfs1/iopp/temp/hacc_dir/test&#45;Part00000000&#45;of&#45;00001280.data</title>\n",
       "<path fill=\"none\" stroke=\"black\" d=\"M440.45,-176.96C416.98,-163.66 381.35,-143.47 354.09,-128.03\"/>\n",
       "<polygon fill=\"black\" stroke=\"black\" points=\"355.63,-124.87 345.2,-122.99 352.17,-130.96 355.63,-124.87\"/>\n",
       "<text text-anchor=\"middle\" x=\"408.72\" y=\"-144.8\" font-family=\"Times,serif\" font-size=\"14.00\">10</text>\n",
       "</g>\n",
       "<!-- 21 -->\n",
       "<g id=\"node7\" class=\"node\">\n",
       "<title>21</title>\n",
       "<ellipse fill=\"none\" stroke=\"black\" cx=\"1147.22\" cy=\"-265\" rx=\"27\" ry=\"18\"/>\n",
       "<text text-anchor=\"middle\" x=\"1147.22\" y=\"-261.3\" font-family=\"Times,serif\" font-size=\"14.00\">21</text>\n",
       "</g>\n",
       "<!-- 21&#45;close -->\n",
       "<g id=\"node8\" class=\"node\">\n",
       "<title>21&#45;close</title>\n",
       "<ellipse fill=\"none\" stroke=\"black\" cx=\"1088.22\" cy=\"-192\" rx=\"49.29\" ry=\"18\"/>\n",
       "<text text-anchor=\"middle\" x=\"1088.22\" y=\"-188.3\" font-family=\"Times,serif\" font-size=\"14.00\">21&#45;close</text>\n",
       "</g>\n",
       "<!-- 21&#45;&gt;21&#45;close -->\n",
       "<g id=\"edge9\" class=\"edge\">\n",
       "<title>21&#45;&gt;21&#45;close</title>\n",
       "<path fill=\"none\" stroke=\"black\" d=\"M1134.71,-248.94C1127.13,-239.82 1117.28,-227.97 1108.6,-217.52\"/>\n",
       "<polygon fill=\"black\" stroke=\"black\" points=\"1111.04,-214.98 1101.95,-209.52 1105.65,-219.45 1111.04,-214.98\"/>\n",
       "</g>\n",
       "<!-- 21&#45;open64 -->\n",
       "<g id=\"node10\" class=\"node\">\n",
       "<title>21&#45;open64</title>\n",
       "<ellipse fill=\"none\" stroke=\"black\" cx=\"961.22\" cy=\"-192\" rx=\"59.59\" ry=\"18\"/>\n",
       "<text text-anchor=\"middle\" x=\"961.22\" y=\"-188.3\" font-family=\"Times,serif\" font-size=\"14.00\">21&#45;open64</text>\n",
       "</g>\n",
       "<!-- 21&#45;&gt;21&#45;open64 -->\n",
       "<g id=\"edge11\" class=\"edge\">\n",
       "<title>21&#45;&gt;21&#45;open64</title>\n",
       "<path fill=\"none\" stroke=\"black\" d=\"M1124.41,-255.29C1095.12,-244.11 1043.6,-224.45 1006.27,-210.2\"/>\n",
       "<polygon fill=\"black\" stroke=\"black\" points=\"1007.22,-206.81 996.63,-206.52 1004.73,-213.35 1007.22,-206.81\"/>\n",
       "</g>\n",
       "<!-- 21&#45;read -->\n",
       "<g id=\"node11\" class=\"node\">\n",
       "<title>21&#45;read</title>\n",
       "<ellipse fill=\"none\" stroke=\"black\" cx=\"1250.22\" cy=\"-18\" rx=\"46.29\" ry=\"18\"/>\n",
       "<text text-anchor=\"middle\" x=\"1250.22\" y=\"-14.3\" font-family=\"Times,serif\" font-size=\"14.00\">21&#45;read</text>\n",
       "</g>\n",
       "<!-- 21&#45;&gt;21&#45;read -->\n",
       "<g id=\"edge13\" class=\"edge\">\n",
       "<title>21&#45;&gt;21&#45;read</title>\n",
       "<path fill=\"none\" stroke=\"black\" d=\"M1171.71,-256.9C1196.94,-248.69 1236.41,-233.23 1264.22,-210 1300.47,-179.73 1311.01,-168.03 1325.22,-123 1330.04,-107.74 1331.7,-101.63 1325.22,-87 1316.57,-67.48 1299.24,-51.17 1283.41,-39.42\"/>\n",
       "<polygon fill=\"black\" stroke=\"black\" points=\"1285.03,-36.28 1274.84,-33.37 1280.99,-42 1285.03,-36.28\"/>\n",
       "</g>\n",
       "<!-- 21&#45;write -->\n",
       "<g id=\"node12\" class=\"node\">\n",
       "<title>21&#45;write</title>\n",
       "<ellipse fill=\"none\" stroke=\"black\" cx=\"1205.22\" cy=\"-192\" rx=\"50.09\" ry=\"18\"/>\n",
       "<text text-anchor=\"middle\" x=\"1205.22\" y=\"-188.3\" font-family=\"Times,serif\" font-size=\"14.00\">21&#45;write</text>\n",
       "</g>\n",
       "<!-- 21&#45;&gt;21&#45;write -->\n",
       "<g id=\"edge15\" class=\"edge\">\n",
       "<title>21&#45;&gt;21&#45;write</title>\n",
       "<path fill=\"none\" stroke=\"black\" d=\"M1159.52,-248.94C1166.97,-239.82 1176.66,-227.97 1185.19,-217.52\"/>\n",
       "<polygon fill=\"black\" stroke=\"black\" points=\"1188.11,-219.48 1191.72,-209.52 1182.69,-215.05 1188.11,-219.48\"/>\n",
       "</g>\n",
       "<!-- /p/gpfs1/iopp/temp/hacc_dir/test&#45;Part00000021&#45;of&#45;00001280.data -->\n",
       "<g id=\"node9\" class=\"node\">\n",
       "<title>/p/gpfs1/iopp/temp/hacc_dir/test&#45;Part00000021&#45;of&#45;00001280.data</title>\n",
       "<ellipse fill=\"none\" stroke=\"black\" cx=\"1001.22\" cy=\"-105\" rx=\"315.44\" ry=\"18\"/>\n",
       "<text text-anchor=\"middle\" x=\"1001.22\" y=\"-101.3\" font-family=\"Times,serif\" font-size=\"14.00\">/p/gpfs1/iopp/temp/hacc_dir/test&#45;Part00000021&#45;of&#45;00001280.data</text>\n",
       "</g>\n",
       "<!-- 21&#45;close&#45;&gt;/p/gpfs1/iopp/temp/hacc_dir/test&#45;Part00000021&#45;of&#45;00001280.data -->\n",
       "<g id=\"edge10\" class=\"edge\">\n",
       "<title>21&#45;close&#45;&gt;/p/gpfs1/iopp/temp/hacc_dir/test&#45;Part00000021&#45;of&#45;00001280.data</title>\n",
       "<path fill=\"none\" stroke=\"black\" d=\"M1071.86,-175.01C1058.95,-162.4 1040.73,-144.6 1026.03,-130.23\"/>\n",
       "<polygon fill=\"black\" stroke=\"black\" points=\"1028.31,-127.57 1018.71,-123.08 1023.41,-132.57 1028.31,-127.57\"/>\n",
       "<text text-anchor=\"middle\" x=\"1055.22\" y=\"-144.8\" font-family=\"Times,serif\" font-size=\"14.00\">4</text>\n",
       "</g>\n",
       "<!-- /p/gpfs1/iopp/temp/hacc_dir/test&#45;Part00000021&#45;of&#45;00001280.data&#45;&gt;21&#45;read -->\n",
       "<g id=\"edge14\" class=\"edge\">\n",
       "<title>/p/gpfs1/iopp/temp/hacc_dir/test&#45;Part00000021&#45;of&#45;00001280.data&#45;&gt;21&#45;read</title>\n",
       "<path fill=\"none\" stroke=\"black\" d=\"M1050.42,-87.21C1096.14,-71.6 1163.57,-48.58 1207.2,-33.69\"/>\n",
       "<polygon fill=\"black\" stroke=\"black\" points=\"1208.33,-37 1216.67,-30.45 1206.07,-30.37 1208.33,-37\"/>\n",
       "<text text-anchor=\"middle\" x=\"1150.72\" y=\"-57.8\" font-family=\"Times,serif\" font-size=\"14.00\">10</text>\n",
       "</g>\n",
       "<!-- 21&#45;open64&#45;&gt;/p/gpfs1/iopp/temp/hacc_dir/test&#45;Part00000021&#45;of&#45;00001280.data -->\n",
       "<g id=\"edge12\" class=\"edge\">\n",
       "<title>21&#45;open64&#45;&gt;/p/gpfs1/iopp/temp/hacc_dir/test&#45;Part00000021&#45;of&#45;00001280.data</title>\n",
       "<path fill=\"none\" stroke=\"black\" d=\"M969.32,-173.8C974.9,-161.93 982.43,-145.93 988.78,-132.45\"/>\n",
       "<polygon fill=\"black\" stroke=\"black\" points=\"992.05,-133.71 993.14,-123.18 985.71,-130.73 992.05,-133.71\"/>\n",
       "<text text-anchor=\"middle\" x=\"989.22\" y=\"-144.8\" font-family=\"Times,serif\" font-size=\"14.00\">4</text>\n",
       "</g>\n",
       "<!-- 21&#45;write&#45;&gt;/p/gpfs1/iopp/temp/hacc_dir/test&#45;Part00000021&#45;of&#45;00001280.data -->\n",
       "<g id=\"edge16\" class=\"edge\">\n",
       "<title>21&#45;write&#45;&gt;/p/gpfs1/iopp/temp/hacc_dir/test&#45;Part00000021&#45;of&#45;00001280.data</title>\n",
       "<path fill=\"none\" stroke=\"black\" d=\"M1173.79,-177.91C1141.13,-164.3 1089.54,-142.8 1051.26,-126.85\"/>\n",
       "<polygon fill=\"black\" stroke=\"black\" points=\"1052.41,-123.54 1041.83,-122.92 1049.72,-130 1052.41,-123.54\"/>\n",
       "<text text-anchor=\"middle\" x=\"1125.72\" y=\"-144.8\" font-family=\"Times,serif\" font-size=\"14.00\">10</text>\n",
       "</g>\n",
       "<!-- 45 -->\n",
       "<g id=\"node13\" class=\"node\">\n",
       "<title>45</title>\n",
       "<ellipse fill=\"none\" stroke=\"black\" cx=\"1813.22\" cy=\"-265\" rx=\"27\" ry=\"18\"/>\n",
       "<text text-anchor=\"middle\" x=\"1813.22\" y=\"-261.3\" font-family=\"Times,serif\" font-size=\"14.00\">45</text>\n",
       "</g>\n",
       "<!-- 45&#45;close -->\n",
       "<g id=\"node14\" class=\"node\">\n",
       "<title>45&#45;close</title>\n",
       "<ellipse fill=\"none\" stroke=\"black\" cx=\"1754.22\" cy=\"-192\" rx=\"49.29\" ry=\"18\"/>\n",
       "<text text-anchor=\"middle\" x=\"1754.22\" y=\"-188.3\" font-family=\"Times,serif\" font-size=\"14.00\">45&#45;close</text>\n",
       "</g>\n",
       "<!-- 45&#45;&gt;45&#45;close -->\n",
       "<g id=\"edge17\" class=\"edge\">\n",
       "<title>45&#45;&gt;45&#45;close</title>\n",
       "<path fill=\"none\" stroke=\"black\" d=\"M1800.71,-248.94C1793.13,-239.82 1783.28,-227.97 1774.6,-217.52\"/>\n",
       "<polygon fill=\"black\" stroke=\"black\" points=\"1777.04,-214.98 1767.95,-209.52 1771.65,-219.45 1777.04,-214.98\"/>\n",
       "</g>\n",
       "<!-- 45&#45;open64 -->\n",
       "<g id=\"node16\" class=\"node\">\n",
       "<title>45&#45;open64</title>\n",
       "<ellipse fill=\"none\" stroke=\"black\" cx=\"1627.22\" cy=\"-192\" rx=\"59.59\" ry=\"18\"/>\n",
       "<text text-anchor=\"middle\" x=\"1627.22\" y=\"-188.3\" font-family=\"Times,serif\" font-size=\"14.00\">45&#45;open64</text>\n",
       "</g>\n",
       "<!-- 45&#45;&gt;45&#45;open64 -->\n",
       "<g id=\"edge19\" class=\"edge\">\n",
       "<title>45&#45;&gt;45&#45;open64</title>\n",
       "<path fill=\"none\" stroke=\"black\" d=\"M1790.41,-255.29C1761.12,-244.11 1709.6,-224.45 1672.27,-210.2\"/>\n",
       "<polygon fill=\"black\" stroke=\"black\" points=\"1673.22,-206.81 1662.63,-206.52 1670.73,-213.35 1673.22,-206.81\"/>\n",
       "</g>\n",
       "<!-- 45&#45;read -->\n",
       "<g id=\"node17\" class=\"node\">\n",
       "<title>45&#45;read</title>\n",
       "<ellipse fill=\"none\" stroke=\"black\" cx=\"1936.22\" cy=\"-18\" rx=\"46.29\" ry=\"18\"/>\n",
       "<text text-anchor=\"middle\" x=\"1936.22\" y=\"-14.3\" font-family=\"Times,serif\" font-size=\"14.00\">45&#45;read</text>\n",
       "</g>\n",
       "<!-- 45&#45;&gt;45&#45;read -->\n",
       "<g id=\"edge21\" class=\"edge\">\n",
       "<title>45&#45;&gt;45&#45;read</title>\n",
       "<path fill=\"none\" stroke=\"black\" d=\"M1837.16,-256.6C1883,-240.88 1981.25,-199.18 2011.22,-123 2017.08,-108.11 2017.7,-101.63 2011.22,-87 2002.57,-67.48 1985.24,-51.17 1969.41,-39.42\"/>\n",
       "<polygon fill=\"black\" stroke=\"black\" points=\"1971.03,-36.28 1960.84,-33.37 1966.99,-42 1971.03,-36.28\"/>\n",
       "</g>\n",
       "<!-- 45&#45;write -->\n",
       "<g id=\"node18\" class=\"node\">\n",
       "<title>45&#45;write</title>\n",
       "<ellipse fill=\"none\" stroke=\"black\" cx=\"1871.22\" cy=\"-192\" rx=\"50.09\" ry=\"18\"/>\n",
       "<text text-anchor=\"middle\" x=\"1871.22\" y=\"-188.3\" font-family=\"Times,serif\" font-size=\"14.00\">45&#45;write</text>\n",
       "</g>\n",
       "<!-- 45&#45;&gt;45&#45;write -->\n",
       "<g id=\"edge23\" class=\"edge\">\n",
       "<title>45&#45;&gt;45&#45;write</title>\n",
       "<path fill=\"none\" stroke=\"black\" d=\"M1825.52,-248.94C1832.97,-239.82 1842.66,-227.97 1851.19,-217.52\"/>\n",
       "<polygon fill=\"black\" stroke=\"black\" points=\"1854.11,-219.48 1857.72,-209.52 1848.69,-215.05 1854.11,-219.48\"/>\n",
       "</g>\n",
       "<!-- /p/gpfs1/iopp/temp/hacc_dir/test&#45;Part00000045&#45;of&#45;00001280.data -->\n",
       "<g id=\"node15\" class=\"node\">\n",
       "<title>/p/gpfs1/iopp/temp/hacc_dir/test&#45;Part00000045&#45;of&#45;00001280.data</title>\n",
       "<ellipse fill=\"none\" stroke=\"black\" cx=\"1687.22\" cy=\"-105\" rx=\"315.44\" ry=\"18\"/>\n",
       "<text text-anchor=\"middle\" x=\"1687.22\" y=\"-101.3\" font-family=\"Times,serif\" font-size=\"14.00\">/p/gpfs1/iopp/temp/hacc_dir/test&#45;Part00000045&#45;of&#45;00001280.data</text>\n",
       "</g>\n",
       "<!-- 45&#45;close&#45;&gt;/p/gpfs1/iopp/temp/hacc_dir/test&#45;Part00000045&#45;of&#45;00001280.data -->\n",
       "<g id=\"edge18\" class=\"edge\">\n",
       "<title>45&#45;close&#45;&gt;/p/gpfs1/iopp/temp/hacc_dir/test&#45;Part00000045&#45;of&#45;00001280.data</title>\n",
       "<path fill=\"none\" stroke=\"black\" d=\"M1741.3,-174.61C1731.58,-162.27 1718.07,-145.14 1706.99,-131.08\"/>\n",
       "<polygon fill=\"black\" stroke=\"black\" points=\"1709.73,-128.9 1700.79,-123.21 1704.23,-133.23 1709.73,-128.9\"/>\n",
       "<text text-anchor=\"middle\" x=\"1730.22\" y=\"-144.8\" font-family=\"Times,serif\" font-size=\"14.00\">4</text>\n",
       "</g>\n",
       "<!-- /p/gpfs1/iopp/temp/hacc_dir/test&#45;Part00000045&#45;of&#45;00001280.data&#45;&gt;45&#45;read -->\n",
       "<g id=\"edge22\" class=\"edge\">\n",
       "<title>/p/gpfs1/iopp/temp/hacc_dir/test&#45;Part00000045&#45;of&#45;00001280.data&#45;&gt;45&#45;read</title>\n",
       "<path fill=\"none\" stroke=\"black\" d=\"M1736.42,-87.21C1782.14,-71.6 1849.57,-48.58 1893.2,-33.69\"/>\n",
       "<polygon fill=\"black\" stroke=\"black\" points=\"1894.33,-37 1902.67,-30.45 1892.07,-30.37 1894.33,-37\"/>\n",
       "<text text-anchor=\"middle\" x=\"1836.72\" y=\"-57.8\" font-family=\"Times,serif\" font-size=\"14.00\">10</text>\n",
       "</g>\n",
       "<!-- 45&#45;open64&#45;&gt;/p/gpfs1/iopp/temp/hacc_dir/test&#45;Part00000045&#45;of&#45;00001280.data -->\n",
       "<g id=\"edge20\" class=\"edge\">\n",
       "<title>45&#45;open64&#45;&gt;/p/gpfs1/iopp/temp/hacc_dir/test&#45;Part00000045&#45;of&#45;00001280.data</title>\n",
       "<path fill=\"none\" stroke=\"black\" d=\"M1639.08,-174.21C1647.73,-161.95 1659.61,-145.11 1669.41,-131.24\"/>\n",
       "<polygon fill=\"black\" stroke=\"black\" points=\"1672.28,-133.24 1675.19,-123.05 1666.56,-129.2 1672.28,-133.24\"/>\n",
       "<text text-anchor=\"middle\" x=\"1666.22\" y=\"-144.8\" font-family=\"Times,serif\" font-size=\"14.00\">4</text>\n",
       "</g>\n",
       "<!-- 45&#45;write&#45;&gt;/p/gpfs1/iopp/temp/hacc_dir/test&#45;Part00000045&#45;of&#45;00001280.data -->\n",
       "<g id=\"edge24\" class=\"edge\">\n",
       "<title>45&#45;write&#45;&gt;/p/gpfs1/iopp/temp/hacc_dir/test&#45;Part00000045&#45;of&#45;00001280.data</title>\n",
       "<path fill=\"none\" stroke=\"black\" d=\"M1841.66,-177.34C1812.41,-163.83 1767.22,-142.95 1733.26,-127.27\"/>\n",
       "<polygon fill=\"black\" stroke=\"black\" points=\"1734.55,-124.01 1724.01,-122.99 1731.62,-130.36 1734.55,-124.01\"/>\n",
       "<text text-anchor=\"middle\" x=\"1800.72\" y=\"-144.8\" font-family=\"Times,serif\" font-size=\"14.00\">10</text>\n",
       "</g>\n",
       "<!-- 64 -->\n",
       "<g id=\"node19\" class=\"node\">\n",
       "<title>64</title>\n",
       "<ellipse fill=\"none\" stroke=\"black\" cx=\"2495.22\" cy=\"-265\" rx=\"27\" ry=\"18\"/>\n",
       "<text text-anchor=\"middle\" x=\"2495.22\" y=\"-261.3\" font-family=\"Times,serif\" font-size=\"14.00\">64</text>\n",
       "</g>\n",
       "<!-- 64&#45;close -->\n",
       "<g id=\"node20\" class=\"node\">\n",
       "<title>64&#45;close</title>\n",
       "<ellipse fill=\"none\" stroke=\"black\" cx=\"2437.22\" cy=\"-192\" rx=\"49.29\" ry=\"18\"/>\n",
       "<text text-anchor=\"middle\" x=\"2437.22\" y=\"-188.3\" font-family=\"Times,serif\" font-size=\"14.00\">64&#45;close</text>\n",
       "</g>\n",
       "<!-- 64&#45;&gt;64&#45;close -->\n",
       "<g id=\"edge25\" class=\"edge\">\n",
       "<title>64&#45;&gt;64&#45;close</title>\n",
       "<path fill=\"none\" stroke=\"black\" d=\"M2482.92,-248.94C2475.47,-239.82 2465.79,-227.97 2457.25,-217.52\"/>\n",
       "<polygon fill=\"black\" stroke=\"black\" points=\"2459.76,-215.05 2450.72,-209.52 2454.34,-219.48 2459.76,-215.05\"/>\n",
       "</g>\n",
       "<!-- 64&#45;open64 -->\n",
       "<g id=\"node22\" class=\"node\">\n",
       "<title>64&#45;open64</title>\n",
       "<ellipse fill=\"none\" stroke=\"black\" cx=\"2310.22\" cy=\"-192\" rx=\"59.59\" ry=\"18\"/>\n",
       "<text text-anchor=\"middle\" x=\"2310.22\" y=\"-188.3\" font-family=\"Times,serif\" font-size=\"14.00\">64&#45;open64</text>\n",
       "</g>\n",
       "<!-- 64&#45;&gt;64&#45;open64 -->\n",
       "<g id=\"edge27\" class=\"edge\">\n",
       "<title>64&#45;&gt;64&#45;open64</title>\n",
       "<path fill=\"none\" stroke=\"black\" d=\"M2472.17,-255.15C2443,-243.96 2392.13,-224.44 2355.17,-210.25\"/>\n",
       "<polygon fill=\"black\" stroke=\"black\" points=\"2356.22,-206.9 2345.63,-206.59 2353.71,-213.44 2356.22,-206.9\"/>\n",
       "</g>\n",
       "<!-- 64&#45;read -->\n",
       "<g id=\"node23\" class=\"node\">\n",
       "<title>64&#45;read</title>\n",
       "<ellipse fill=\"none\" stroke=\"black\" cx=\"2622.22\" cy=\"-18\" rx=\"46.29\" ry=\"18\"/>\n",
       "<text text-anchor=\"middle\" x=\"2622.22\" y=\"-14.3\" font-family=\"Times,serif\" font-size=\"14.00\">64&#45;read</text>\n",
       "</g>\n",
       "<!-- 64&#45;&gt;64&#45;read -->\n",
       "<g id=\"edge29\" class=\"edge\">\n",
       "<title>64&#45;&gt;64&#45;read</title>\n",
       "<path fill=\"none\" stroke=\"black\" d=\"M2519.56,-256.73C2566.16,-241.24 2666.14,-199.93 2697.22,-123 2703.22,-108.16 2703.7,-101.63 2697.22,-87 2688.57,-67.48 2671.24,-51.17 2655.41,-39.42\"/>\n",
       "<polygon fill=\"black\" stroke=\"black\" points=\"2657.03,-36.28 2646.84,-33.37 2652.99,-42 2657.03,-36.28\"/>\n",
       "</g>\n",
       "<!-- 64&#45;write -->\n",
       "<g id=\"node24\" class=\"node\">\n",
       "<title>64&#45;write</title>\n",
       "<ellipse fill=\"none\" stroke=\"black\" cx=\"2554.22\" cy=\"-192\" rx=\"50.09\" ry=\"18\"/>\n",
       "<text text-anchor=\"middle\" x=\"2554.22\" y=\"-188.3\" font-family=\"Times,serif\" font-size=\"14.00\">64&#45;write</text>\n",
       "</g>\n",
       "<!-- 64&#45;&gt;64&#45;write -->\n",
       "<g id=\"edge31\" class=\"edge\">\n",
       "<title>64&#45;&gt;64&#45;write</title>\n",
       "<path fill=\"none\" stroke=\"black\" d=\"M2507.73,-248.94C2515.31,-239.82 2525.16,-227.97 2533.85,-217.52\"/>\n",
       "<polygon fill=\"black\" stroke=\"black\" points=\"2536.79,-219.45 2540.49,-209.52 2531.41,-214.98 2536.79,-219.45\"/>\n",
       "</g>\n",
       "<!-- /p/gpfs1/iopp/temp/hacc_dir/test&#45;Part00000064&#45;of&#45;00001280.data -->\n",
       "<g id=\"node21\" class=\"node\">\n",
       "<title>/p/gpfs1/iopp/temp/hacc_dir/test&#45;Part00000064&#45;of&#45;00001280.data</title>\n",
       "<ellipse fill=\"none\" stroke=\"black\" cx=\"2373.22\" cy=\"-105\" rx=\"315.44\" ry=\"18\"/>\n",
       "<text text-anchor=\"middle\" x=\"2373.22\" y=\"-101.3\" font-family=\"Times,serif\" font-size=\"14.00\">/p/gpfs1/iopp/temp/hacc_dir/test&#45;Part00000064&#45;of&#45;00001280.data</text>\n",
       "</g>\n",
       "<!-- 64&#45;close&#45;&gt;/p/gpfs1/iopp/temp/hacc_dir/test&#45;Part00000064&#45;of&#45;00001280.data -->\n",
       "<g id=\"edge26\" class=\"edge\">\n",
       "<title>64&#45;close&#45;&gt;/p/gpfs1/iopp/temp/hacc_dir/test&#45;Part00000064&#45;of&#45;00001280.data</title>\n",
       "<path fill=\"none\" stroke=\"black\" d=\"M2424.58,-174.21C2415.35,-161.95 2402.67,-145.11 2392.23,-131.24\"/>\n",
       "<polygon fill=\"black\" stroke=\"black\" points=\"2394.87,-128.93 2386.06,-123.05 2389.28,-133.14 2394.87,-128.93\"/>\n",
       "<text text-anchor=\"middle\" x=\"2414.22\" y=\"-144.8\" font-family=\"Times,serif\" font-size=\"14.00\">4</text>\n",
       "</g>\n",
       "<!-- /p/gpfs1/iopp/temp/hacc_dir/test&#45;Part00000064&#45;of&#45;00001280.data&#45;&gt;64&#45;read -->\n",
       "<g id=\"edge30\" class=\"edge\">\n",
       "<title>/p/gpfs1/iopp/temp/hacc_dir/test&#45;Part00000064&#45;of&#45;00001280.data&#45;&gt;64&#45;read</title>\n",
       "<path fill=\"none\" stroke=\"black\" d=\"M2422.42,-87.21C2468.14,-71.6 2535.57,-48.58 2579.2,-33.69\"/>\n",
       "<polygon fill=\"black\" stroke=\"black\" points=\"2580.33,-37 2588.67,-30.45 2578.07,-30.37 2580.33,-37\"/>\n",
       "<text text-anchor=\"middle\" x=\"2522.72\" y=\"-57.8\" font-family=\"Times,serif\" font-size=\"14.00\">10</text>\n",
       "</g>\n",
       "<!-- 64&#45;open64&#45;&gt;/p/gpfs1/iopp/temp/hacc_dir/test&#45;Part00000064&#45;of&#45;00001280.data -->\n",
       "<g id=\"edge28\" class=\"edge\">\n",
       "<title>64&#45;open64&#45;&gt;/p/gpfs1/iopp/temp/hacc_dir/test&#45;Part00000064&#45;of&#45;00001280.data</title>\n",
       "<path fill=\"none\" stroke=\"black\" d=\"M2322.67,-174.21C2331.76,-161.95 2344.23,-145.11 2354.52,-131.24\"/>\n",
       "<polygon fill=\"black\" stroke=\"black\" points=\"2357.44,-133.17 2360.59,-123.05 2351.82,-129 2357.44,-133.17\"/>\n",
       "<text text-anchor=\"middle\" x=\"2351.22\" y=\"-144.8\" font-family=\"Times,serif\" font-size=\"14.00\">4</text>\n",
       "</g>\n",
       "<!-- 64&#45;write&#45;&gt;/p/gpfs1/iopp/temp/hacc_dir/test&#45;Part00000064&#45;of&#45;00001280.data -->\n",
       "<g id=\"edge32\" class=\"edge\">\n",
       "<title>64&#45;write&#45;&gt;/p/gpfs1/iopp/temp/hacc_dir/test&#45;Part00000064&#45;of&#45;00001280.data</title>\n",
       "<path fill=\"none\" stroke=\"black\" d=\"M2525.14,-177.34C2496.37,-163.83 2451.91,-142.95 2418.51,-127.27\"/>\n",
       "<polygon fill=\"black\" stroke=\"black\" points=\"2419.95,-124.08 2409.41,-122.99 2416.97,-130.41 2419.95,-124.08\"/>\n",
       "<text text-anchor=\"middle\" x=\"2484.72\" y=\"-144.8\" font-family=\"Times,serif\" font-size=\"14.00\">10</text>\n",
       "</g>\n",
       "</g>\n",
       "</svg>\n"
      ],
      "text/plain": [
       "<graphviz.dot.Digraph at 0x200171c21ca0>"
      ]
     },
     "execution_count": 75,
     "metadata": {},
     "output_type": "execute_result"
    }
   ],
   "source": [
    "dot"
   ]
  },
  {
   "cell_type": "markdown",
   "metadata": {
    "tags": [
     "Finding"
    ]
   },
   "source": [
    "Through this we can hypothesize that each process is independently reading and writing data."
   ]
  },
  {
   "cell_type": "markdown",
   "metadata": {},
   "source": [
    "## Find file which are independent or shared\n",
    "- Make all thread id start from 0 and unique across ranks\n",
    "- Group by filename nunique thread_id\n",
    "- Find all filename with nunique > 1"
   ]
  },
  {
   "cell_type": "code",
   "execution_count": 76,
   "metadata": {},
   "outputs": [],
   "source": [
    "thread_index_series = io_ddf.groupby(['rank', 'thread_id'])['thread_id'].nunique().cumsum().compute()"
   ]
  },
  {
   "cell_type": "code",
   "execution_count": 77,
   "metadata": {},
   "outputs": [],
   "source": [
    "io_ddf['thread_index'] = 0\n",
    "for index,item in thread_index_series.iteritems():\n",
    "    condition = (io_ddf['rank'] == index[0]) & (io_ddf['thread_id'] == index[1])\n",
    "    io_ddf['thread_index'] = io_ddf['thread_index'].mask(condition , item - 1)"
   ]
  },
  {
   "cell_type": "code",
   "execution_count": 78,
   "metadata": {},
   "outputs": [
    {
     "name": "stdout",
     "output_type": "stream",
     "text": [
      "We have 1280 threads across 1280 ranks\n"
     ]
    }
   ],
   "source": [
    "threads = io_ddf['thread_index'].nunique().compute()\n",
    "print(\"We have {} threads across {} ranks\".format(threads, num_ranks))"
   ]
  },
  {
   "cell_type": "code",
   "execution_count": 79,
   "metadata": {},
   "outputs": [],
   "source": [
    "filename_series = io_ddf[io_ddf['filename'].str.contains('/p/gpfs1')].groupby(['filename'])['thread_index'].nunique().compute()"
   ]
  },
  {
   "cell_type": "code",
   "execution_count": 80,
   "metadata": {
    "tags": [
     "Finding"
    ]
   },
   "outputs": [
    {
     "name": "stdout",
     "output_type": "stream",
     "text": [
      "1280 files that are accessed by application by only one rank\n"
     ]
    }
   ],
   "source": [
    "independent_files = filename_series[filename_series == 1]\n",
    "print(\"{} files that are accessed by application by only one rank\".format(len(independent_files)))"
   ]
  },
  {
   "cell_type": "code",
   "execution_count": 81,
   "metadata": {
    "tags": [
     "Finding"
    ]
   },
   "outputs": [
    {
     "name": "stdout",
     "output_type": "stream",
     "text": [
      "0 files that are accessed by application by more than one rank\n"
     ]
    }
   ],
   "source": [
    "shared_files = filename_series[filename_series > 1]\n",
    "print(\"{} files that are accessed by application by more than one rank\".format(len(shared_files)))"
   ]
  },
  {
   "cell_type": "markdown",
   "metadata": {
    "tags": [
     "Finding"
    ]
   },
   "source": [
    "This application doesnt share files. That is it follows a File per process pattern."
   ]
  },
  {
   "cell_type": "markdown",
   "metadata": {},
   "source": [
    "## Calculate Access Pattern\n",
    "- Calculate segment_index\n",
    "  - select file_ptr based on open flag\n",
    "  - update file_ptr based on operation\n",
    "  - do a cum_sum on file_ptr to calculate final file_ptr\n",
    "  - assign segment_index based on granularity (median transfer size)\n",
    "- isolate segment index into\n",
    "  - sequential flag if segment index is increasing\n",
    "  - consequitive flag if segment index is increasing and one after the other"
   ]
  },
  {
   "cell_type": "markdown",
   "metadata": {},
   "source": [
    "#### Persist the current version of I/O dataframe."
   ]
  },
  {
   "cell_type": "code",
   "execution_count": 82,
   "metadata": {
    "tags": []
   },
   "outputs": [],
   "source": [
    "io_ddf = io_ddf.persist()\n",
    "result = wait(io_ddf)"
   ]
  },
  {
   "cell_type": "markdown",
   "metadata": {},
   "source": [
    "### Get File operations per rank and per file from the dataframe"
   ]
  },
  {
   "cell_type": "code",
   "execution_count": 83,
   "metadata": {},
   "outputs": [],
   "source": [
    "selected_ranks = [0]#range(num_ranks)##\n",
    "file_per_rank_df = [{}]*len(selected_ranks)\n",
    "for rank in selected_ranks:\n",
    "    file_per_rank_df[rank]={}\n",
    "    io_ddf_rank = io_ddf[io_ddf['rank'] == rank]\n",
    "    unique_files = io_ddf_rank['filename'].unique().compute()\n",
    "    for filename in unique_files:\n",
    "        if filename != '' and '/p/gpfs1' in filename:\n",
    "            file_per_rank_df[rank][filename] = io_ddf_rank[io_ddf_rank['filename'] == filename].compute()\n",
    "        "
   ]
  },
  {
   "cell_type": "markdown",
   "metadata": {},
   "source": [
    "### Check Pattern\n",
    "We just check if seeks are used. If not it uses a sequential pattern."
   ]
  },
  {
   "cell_type": "code",
   "execution_count": 84,
   "metadata": {},
   "outputs": [
    {
     "name": "stdout",
     "output_type": "stream",
     "text": [
      "file /p/gpfs1/iopp/temp/hacc_dir/test-Part00000000-of-00001280.data is acessed sequentially by rank 0\n"
     ]
    }
   ],
   "source": [
    "for rank, file_per_rank_df_single in enumerate(file_per_rank_df):\n",
    "    for filename in file_per_rank_df_single:\n",
    "        file_df = file_per_rank_df_single[filename]\n",
    "        ops = file_df['func_id'].unique()\n",
    "        if \"seek\" not in ops:\n",
    "            print(\"file {} is acessed sequentially by rank {}\".format(filename, rank))"
   ]
  },
  {
   "cell_type": "markdown",
   "metadata": {
    "tags": [
     "Finding"
    ]
   },
   "source": [
    "There is no seek in any of the file access hence they are sequentially accessed overall."
   ]
  },
  {
   "cell_type": "markdown",
   "metadata": {
    "tags": []
   },
   "source": [
    "### Per File Analysis\n",
    "- Total I/O amount\n",
    "- Total I/O time (average per process)\n",
    "- Average Bandwidth\n",
    "- I/O Request Distribution"
   ]
  },
  {
   "cell_type": "code",
   "execution_count": 96,
   "metadata": {},
   "outputs": [
    {
     "name": "stdout",
     "output_type": "stream",
     "text": [
      "35     1264.0\n",
      "679    1264.0\n",
      "728    1264.0\n",
      "725    1264.0\n",
      "722    1264.0\n",
      "Name: size_sum, dtype: float64\n",
      "63     3.76134\n",
      "59     3.76134\n",
      "105    3.76134\n",
      "102    3.76134\n",
      "99     3.76134\n",
      "Name: time_sum, dtype: float32\n",
      "47    6480.453861\n",
      "75    6480.453861\n",
      "44    6480.453861\n",
      "41    6480.453861\n",
      "35    6480.453861\n",
      "Name: bw_sum, dtype: float64\n"
     ]
    }
   ],
   "source": [
    "temp_df = io_ddf_read_write\n",
    "per_file_df = io_ddf_read_write.groupby(['filename'])\n",
    "temp_df['size_sum'] = per_file_df[[\"size\"]].transform(sum)\n",
    "temp_df['size_sum'] = temp_df['size_sum'] / 1024.0 / 1024.0\n",
    "temp_df['time_sum'] = per_file_df[[\"duration\"]].transform(sum)\n",
    "temp_df['bw_sum'] = per_file_df[[\"bandwidth\"]].transform(np.mean)\n",
    "\n",
    "per_file_size = temp_df.sort_values(\"size_sum\", ascending=False)[\"size_sum\"]\n",
    "per_file_time = temp_df.sort_values(\"time_sum\", ascending=False)[\"time_sum\"]\n",
    "per_file_bw = temp_df.sort_values(\"bw_sum\", ascending=False)[\"bw_sum\"]\n",
    "print(per_file_size.head())\n",
    "print(per_file_time.head())\n",
    "print(per_file_bw.head())"
   ]
  },
  {
   "cell_type": "code",
   "execution_count": null,
   "metadata": {},
   "outputs": [],
   "source": []
  }
 ],
 "metadata": {
  "kernelspec": {
   "display_name": "iopp",
   "language": "python",
   "name": "iopp"
  },
  "language_info": {
   "codemirror_mode": {
    "name": "ipython",
    "version": 3
   },
   "file_extension": ".py",
   "mimetype": "text/x-python",
   "name": "python",
   "nbconvert_exporter": "python",
   "pygments_lexer": "ipython3",
   "version": "3.9.7"
  },
  "toc-showtags": false
 },
 "nbformat": 4,
 "nbformat_minor": 4
}
