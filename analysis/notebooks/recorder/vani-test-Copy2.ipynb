{
 "cells": [
  {
   "cell_type": "markdown",
   "id": "bc5435c1-732a-4910-89b7-f43f515fa954",
   "metadata": {},
   "source": [
    "# VANI"
   ]
  },
  {
   "cell_type": "markdown",
   "id": "569476c7-d3de-42a0-b9e2-1bdae2a37d3b",
   "metadata": {},
   "source": [
    "**Initial notebook configuration**"
   ]
  },
  {
   "cell_type": "code",
   "execution_count": 1,
   "id": "22f9e735-9736-4603-b4b9-207740614b6a",
   "metadata": {},
   "outputs": [],
   "source": [
    "%load_ext autoreload\n",
    "# %load_ext snakeviz\n",
    "# %load_ext jupyterflame"
   ]
  },
  {
   "cell_type": "code",
   "execution_count": 2,
   "id": "a49c5a6e-9862-41ba-b219-b00389cc3687",
   "metadata": {},
   "outputs": [
    {
     "name": "stdout",
     "output_type": "stream",
     "text": [
      "/usr/workspace/iopp/.conda/envs/jupyter/bin/python\n",
      "3.9.7 (default, Sep 16 2021, 16:03:39) \n",
      "[GCC 7.3.0]\n",
      "sys.version_info(major=3, minor=9, micro=7, releaselevel='final', serial=0)\n"
     ]
    }
   ],
   "source": [
    "import os\n",
    "import sys\n",
    "print(sys.executable)\n",
    "print(sys.version)\n",
    "print(sys.version_info)"
   ]
  },
  {
   "cell_type": "code",
   "execution_count": 3,
   "id": "06fe52a1-0a7c-4bc2-8992-0197d82beb24",
   "metadata": {},
   "outputs": [],
   "source": [
    "# Filter unnecessary warnings\n",
    "import warnings\n",
    "warnings.simplefilter(action='ignore', category=FutureWarning)"
   ]
  },
  {
   "cell_type": "markdown",
   "id": "9dc61e64-3fc5-4e15-86dd-8937201a9732",
   "metadata": {},
   "source": [
    "**Import libraries**"
   ]
  },
  {
   "cell_type": "code",
   "execution_count": 4,
   "id": "076b1f4f-7e8f-4a64-8e21-8efe9889fab7",
   "metadata": {},
   "outputs": [],
   "source": [
    "# Import VANI library\n",
    "import dask\n",
    "import numpy as np\n",
    "import pandas as pd\n",
    "from vani.vani.analyzer import Analyzer, ClusterOptions, ClusterType"
   ]
  },
  {
   "cell_type": "markdown",
   "id": "7c056dcd-e1ed-432d-9bfd-08f904dd4611",
   "metadata": {},
   "source": [
    "**Initialize VANI Analyzer**"
   ]
  },
  {
   "cell_type": "code",
   "execution_count": 5,
   "id": "a3e9af43-f87a-4e4b-889b-b430277010b3",
   "metadata": {},
   "outputs": [
    {
     "data": {
      "application/vnd.jupyter.widget-view+json": {
       "model_id": "f2a999a6e8d64dd7bff93ee0f97462ce",
       "version_major": 2,
       "version_minor": 0
      },
      "text/plain": [
       "  0%|          | 0/3 [00:00<?, ?it/s]"
      ]
     },
     "metadata": {},
     "output_type": "display_data"
    },
    {
     "name": "stderr",
     "output_type": "stream",
     "text": [
      "/usr/workspace/iopp/.conda/envs/jupyter/lib/python3.9/site-packages/distributed/node.py:160: UserWarning: Port 8787 is already in use.\n",
      "Perhaps you already have a cluster running?\n",
      "Hosting the HTTP server on port 45527 instead\n",
      "  warnings.warn(\n"
     ]
    },
    {
     "name": "stdout",
     "output_type": "stream",
     "text": [
      "Dashboard link: http://127.0.0.1:45527/status\n"
     ]
    }
   ],
   "source": [
    "%autoreload 2\n",
    "\n",
    "# Initialize analyzer\n",
    "co = ClusterOptions(cluster_type=ClusterType.Local)\n",
    "vn = Analyzer(n_workers=8, cluster_options=co, debug=True)"
   ]
  },
  {
   "cell_type": "markdown",
   "id": "c1b19ba0-5305-48ad-889c-003181813b03",
   "metadata": {},
   "source": [
    "**Analyze logs**"
   ]
  },
  {
   "cell_type": "code",
   "execution_count": 12,
   "id": "9378d3ba-b1cb-418e-9a66-8927436dae98",
   "metadata": {},
   "outputs": [
    {
     "data": {
      "application/vnd.jupyter.widget-view+json": {
       "model_id": "9d987887ae49422096139c26e640ebae",
       "version_major": 2,
       "version_minor": 0
      },
      "text/plain": [
       "  0%|          | 0/7 [00:00<?, ?it/s]"
      ]
     },
     "metadata": {},
     "output_type": "display_data"
    },
    {
     "name": "stdout",
     "output_type": "stream",
     "text": [
      "Logs read (0.03451642766594887)\n",
      "Job time: 33.702091217041016 seconds (0.19889768678694963)\n",
      "Max duration: 1.5205373764038086 (1.4509001905098557)\n",
      "---------------\n",
      "[0-33.702091217041016] root (1580.0 1.0)\n",
      "bin                       size                      label      problematic    \n",
      "14.978707207573784        3.881369141153605         10         x              \n",
      "11.234030405680338        3.5624963657028332        10         x              \n",
      "18.72338400946723         3.342765798432728         9          x              \n",
      "26.21273761325412         2.657062477682787         7          x              \n",
      "22.468060811360676        2.3583242297373874        7          x              \n",
      "7.489353603786892         2.239111758181178         6          x              \n",
      "29.957414415147568        2.094487939580025         6          x              \n",
      "3.744676801893446         1.497905556830035         4                         \n",
      "0                         0.0                       1                         \n",
      "\t[11.234030405680338-14.978707207573784] root..6 (271.5859375 0.17188983386075948)\n",
      "\tbin                       size                      label      problematic    \n",
      "\t14.146556807153019        4.49669336336534          10         x              \n",
      "\t14.562632007363401        4.332769106689328         10         x              \n",
      "\t13.730481606942636        4.082209295007886         8          x              \n",
      "\t13.314406406732253        4.050669315756014         8          x              \n",
      "\t12.482256006311486        3.5092984345267983        5                         \n",
      "\t11.234030405680338        3.3615698680357493        4                         \n",
      "\t12.89833120652187         3.1413635036876366        2                         \n",
      "\t12.066180806101103        3.0760224392758024        2                         \n",
      "\t11.65010560589072         2.8308352382382207        1                         \n",
      "\t\t[12.89833120652187-13.314406406732253] root..6..6 (36.8125 0.02329905063291139)\n",
      "\t\t[11.234030405680338-11.65010560589072] root..6..10 (54.265625 0.034345332278481015)\n",
      "\t[22.468060811360676-26.21273761325412] root..8 (368.46875 0.23320806962025317)\n",
      "\tbin                       size                      label      problematic    \n",
      "\t25.796662413043737        5.5469041190750605        10         x              \n",
      "\t22.468060811360676        3.4917544519976165        5                         \n",
      "\t25.380587212833355        2.8084725059894873        3                         \n",
      "\t23.716286411991824        2.3893139664669905        2                         \n",
      "\t24.54843681241259         2.2837305266039616        1                         \n",
      "\t24.132361612202207        2.224666276647427         1                         \n",
      "\t23.30021121178144         2.199870941821904         1                         \n",
      "\t24.964512012622972        2.1160112754157394        1                         \n",
      "\t22.88413601157106         2.0133203536442497        1                         \n",
      "\t\t[22.88413601157106-23.30021121178144] root..8..7 (77.3125 0.04893196202531645)\n",
      "\t\t[23.716286411991824-24.132361612202207] root..8..7 (78.3671875 0.04959948575949367)\n",
      "\t\t[23.30021121178144-23.716286411991824] root..8..10 (120.5859375 0.07632021360759493)\n",
      "\t[18.72338400946723-22.46806081136068] root..10 (484.3046875 0.3065219541139241)\n",
      "\tbin                       size                      label      problematic    \n",
      "\t22.051985611150297        4.002423467634284         10         x              \n",
      "\t19.555534409887997        3.916371232082065         10         x              \n",
      "\t20.80376001051915         3.461299817261743         5                         \n",
      "\t21.21983521072953         3.452442982181065         5                         \n",
      "\t21.635910410939914        3.3718058573157093        5                         \n",
      "\t19.97160961009838         3.291839656714966         4                         \n",
      "\t18.72338400946723         3.0849678867741335        2                         \n",
      "\t20.387684810308762        3.0377263623467776        1                         \n",
      "\t19.139459209677614        2.93947220616175          1                         \n",
      "\t\t[18.72338400946723-19.139459209677614] root..10..8 (69.3203125 0.043873615506329115)\n",
      "\t\t[20.80376001051915-21.21983521072953] root..10..9 (74.734375 0.047300237341772154)\n",
      "\t\t[20.387684810308762-20.803760010519145] root..10..10 (86.0625 0.05446993670886076)\n"
     ]
    }
   ],
   "source": [
    "%autoreload 2\n",
    "\n",
    "# Analysis configuration\n",
    "log_dir = \"/p/gpfs1/iopp/parquet_app_logs/hacc/nodes-32/workflow-0\"\n",
    "# log_dir = \"/p/gpfs1/iopp/parquet_app_logs/cm1/nodes-32/workflow-4\"\n",
    "# log_dir = \"/p/gpfs1/iopp/parquet_app_logs/lbann-cosmoflow/nodes-32\"\n",
    "# log_dir = \"/p/gpfs1/iopp/recorder_app_logs/montage_pegasus/nodes-32/_parquet\"\n",
    "# log_dir = \"/p/gpfs1/iopp/recorder_app_logs/genome_pegasus/nodes-32/_parquet\"\n",
    "\n",
    "# Do the analysis  \n",
    "io_df_read_write, job_time = vn.analyze_parquet_logs(log_dir, granularity=0.15205373764038086) "
   ]
  },
  {
   "cell_type": "code",
   "execution_count": null,
   "id": "2d08daf6-e5b4-4264-9373-9cdea371f6b5",
   "metadata": {},
   "outputs": [],
   "source": []
  }
 ],
 "metadata": {
  "kernelspec": {
   "display_name": "iopp",
   "language": "python",
   "name": "iopp"
  },
  "language_info": {
   "codemirror_mode": {
    "name": "ipython",
    "version": 3
   },
   "file_extension": ".py",
   "mimetype": "text/x-python",
   "name": "python",
   "nbconvert_exporter": "python",
   "pygments_lexer": "ipython3",
   "version": "3.9.7"
  }
 },
 "nbformat": 4,
 "nbformat_minor": 5
}
