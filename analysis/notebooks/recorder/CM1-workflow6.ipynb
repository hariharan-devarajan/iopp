{
 "cells": [
  {
   "cell_type": "markdown",
   "metadata": {},
   "source": [
    "# Analyze CM1 Workflow 6"
   ]
  },
  {
   "cell_type": "markdown",
   "metadata": {},
   "source": [
    "## Global Configurations"
   ]
  },
  {
   "cell_type": "code",
   "execution_count": 1,
   "metadata": {},
   "outputs": [],
   "source": [
    "notebook_name = \"cm1-workflow-6\""
   ]
  },
  {
   "cell_type": "code",
   "execution_count": 2,
   "metadata": {
    "ExecuteTime": {
     "end_time": "2021-09-16T21:44:28.361097Z",
     "start_time": "2021-09-16T21:44:28.356562Z"
    }
   },
   "outputs": [],
   "source": [
    "parquet_folder=\"/p/gpfs1/iopp/parquet_app_logs/cm1/nodes-32/workflow-6\""
   ]
  },
  {
   "cell_type": "code",
   "execution_count": 3,
   "metadata": {},
   "outputs": [],
   "source": [
    "num_nodes = 32"
   ]
  },
  {
   "cell_type": "markdown",
   "metadata": {},
   "source": [
    "## System Imports"
   ]
  },
  {
   "cell_type": "code",
   "execution_count": 4,
   "metadata": {},
   "outputs": [],
   "source": [
    "import socket\n",
    "import os\n",
    "import time\n",
    "from time import sleep"
   ]
  },
  {
   "cell_type": "markdown",
   "metadata": {
    "tags": []
   },
   "source": [
    "## Create Dask Cluster for analysis"
   ]
  },
  {
   "cell_type": "markdown",
   "metadata": {},
   "source": [
    "### Dask Job Queue Imports"
   ]
  },
  {
   "cell_type": "code",
   "execution_count": 5,
   "metadata": {},
   "outputs": [
    {
     "name": "stderr",
     "output_type": "stream",
     "text": [
      "/usr/workspace/iopp/.conda/envs/jupyter/lib/python3.9/site-packages/dask_jobqueue/core.py:17: FutureWarning: format_bytes is deprecated and will be removed in a future release. Please use dask.utils.format_bytes instead.\n",
      "  from distributed.utils import format_bytes, parse_bytes, tmpfile, get_ip_interface\n",
      "/usr/workspace/iopp/.conda/envs/jupyter/lib/python3.9/site-packages/dask_jobqueue/core.py:17: FutureWarning: parse_bytes is deprecated and will be removed in a future release. Please use dask.utils.parse_bytes instead.\n",
      "  from distributed.utils import format_bytes, parse_bytes, tmpfile, get_ip_interface\n",
      "/usr/workspace/iopp/.conda/envs/jupyter/lib/python3.9/site-packages/dask_jobqueue/htcondor.py:6: FutureWarning: parse_bytes is deprecated and will be removed in a future release. Please use dask.utils.parse_bytes instead.\n",
      "  from distributed.utils import parse_bytes\n"
     ]
    }
   ],
   "source": [
    "import dask_jobqueue\n",
    "from dask_jobqueue import LSFCluster"
   ]
  },
  {
   "cell_type": "markdown",
   "metadata": {},
   "source": [
    "### Dask Worker configuration\n",
    "When we use dask for analysis, we need to consider the type of analysis. In this case we plan to utilize dask dataframes for analysis that is typically memory intensive. Therefore, we allocate the whole memory per node and use only 4 worker processes per node. More worker processes reduce memory available per worker resulting in frequent memory swap from filesystem."
   ]
  },
  {
   "cell_type": "code",
   "execution_count": 6,
   "metadata": {
    "ExecuteTime": {
     "end_time": "2021-09-16T21:37:00.088821Z",
     "start_time": "2021-09-16T21:37:00.076921Z"
    }
   },
   "outputs": [],
   "source": [
    "node_memory = 256 # node memory in GB\n",
    "n_workers_per_node = 4 # number of worker processes per node\n",
    "worker_time = \"02:00\" # job time per node for worker\n",
    "worker_queue = \"pdebug\" # queue to be used per worker\n",
    "n_workers = 4 # number of workers to be used for analysis"
   ]
  },
  {
   "cell_type": "markdown",
   "metadata": {},
   "source": [
    "Other configurations we can compute"
   ]
  },
  {
   "cell_type": "code",
   "execution_count": 7,
   "metadata": {},
   "outputs": [],
   "source": [
    "host = socket.gethostname()\n",
    "dashboard_address = '{}:8787'.format(socket.gethostname())\n",
    "memory = '{}GB'.format(node_memory/n_workers_per_node)\n",
    "job_extra = ['-nnodes 1', \n",
    "             '-G asccasc', \n",
    "             '-q {}'.format(worker_queue), \n",
    "             '-W {}'.format(worker_time), \n",
    "             '-o {}.log'.format(notebook_name), \n",
    "             '-e {}.log'.format(notebook_name)]"
   ]
  },
  {
   "cell_type": "markdown",
   "metadata": {},
   "source": [
    "### Create Dask Cluster "
   ]
  },
  {
   "cell_type": "code",
   "execution_count": 8,
   "metadata": {
    "ExecuteTime": {
     "end_time": "2021-09-16T21:37:00.580186Z",
     "start_time": "2021-09-16T21:37:00.574875Z"
    }
   },
   "outputs": [
    {
     "name": "stdout",
     "output_type": "stream",
     "text": [
      "{'cls': <class 'distributed.scheduler.Scheduler'>, 'options': {'protocol': 'tcp://', 'interface': None, 'host': 'lassen709', 'dashboard_address': 'lassen709:8787', 'security': None}}\n",
      "Created Cluster with job script\n",
      " #!/usr/bin/env bash\n",
      "\n",
      "#BSUB -J dask-worker\n",
      "#BSUB -nnodes 1\n",
      "#BSUB -G asccasc\n",
      "#BSUB -q pdebug\n",
      "#BSUB -W 02:00\n",
      "#BSUB -o cm1-workflow-6.log\n",
      "#BSUB -e cm1-workflow-6.log\n",
      "JOB_ID=${LSB_JOBID%.*}\n",
      "\n",
      "/usr/workspace/iopp/.conda/envs/jupyter/bin/python -m distributed.cli.dask_worker tcp://192.168.66.201:41227 --nthreads 1 --nprocs 4 --memory-limit 59.60GiB --name name --nanny --death-timeout 60\n",
      "\n"
     ]
    }
   ],
   "source": [
    "cluster = LSFCluster(cores = n_workers_per_node,processes=n_workers_per_node, memory='{}GB'.format(node_memory), \n",
    "                     header_skip=['-n ','-R','-M', '-P', '-W 00:30'], \n",
    "                     job_extra = job_extra, \n",
    "                     use_stdin=True, host = host,dashboard_address = dashboard_address)\n",
    "if cluster:\n",
    "    print(\"Created Cluster with job script\\n {}\".format(cluster.job_script()))"
   ]
  },
  {
   "cell_type": "markdown",
   "metadata": {},
   "source": [
    "### Dask Analysis Imports"
   ]
  },
  {
   "cell_type": "code",
   "execution_count": 9,
   "metadata": {},
   "outputs": [],
   "source": [
    "import dask.dataframe as dd\n",
    "from dask.distributed import wait, progress\n",
    "from dask.diagnostics import ProgressBar\n",
    "from dask.distributed import Client\n",
    "import matplotlib.pyplot as plt\n",
    "import numpy as np\n",
    "import concurrent.futures\n",
    "from concurrent.futures import ThreadPoolExecutor"
   ]
  },
  {
   "cell_type": "markdown",
   "metadata": {},
   "source": [
    "### Create Dask Client"
   ]
  },
  {
   "cell_type": "code",
   "execution_count": 10,
   "metadata": {},
   "outputs": [
    {
     "data": {
      "text/html": [
       "<div>\n",
       "    <div style=\"width: 24px; height: 24px; background-color: #e1e1e1; border: 3px solid #9D9D9D; border-radius: 5px; position: absolute;\"> </div>\n",
       "    <div style=\"margin-left: 48px;\">\n",
       "        <h3 style=\"margin-bottom: 0px;\">Client</h3>\n",
       "        <p style=\"color: #9D9D9D; margin-bottom: 0px;\">Client-b69b1a30-4273-11ec-844d-70e28414505f</p>\n",
       "        <table style=\"width: 100%; text-align: left;\">\n",
       "\n",
       "        <tr>\n",
       "        \n",
       "            <td style=\"text-align: left;\"><strong>Connection method:</strong> Cluster object</td>\n",
       "            <td style=\"text-align: left;\"><strong>Cluster type:</strong> dask_jobqueue.LSFCluster</td>\n",
       "        \n",
       "        </tr>\n",
       "\n",
       "        \n",
       "            <tr>\n",
       "                <td style=\"text-align: left;\">\n",
       "                    <strong>Dashboard: </strong> <a href=\"http://192.168.66.201:8787/status\" target=\"_blank\">http://192.168.66.201:8787/status</a>\n",
       "                </td>\n",
       "                <td style=\"text-align: left;\"></td>\n",
       "            </tr>\n",
       "        \n",
       "\n",
       "        </table>\n",
       "\n",
       "        \n",
       "            <details>\n",
       "            <summary style=\"margin-bottom: 20px;\"><h3 style=\"display: inline;\">Cluster Info</h3></summary>\n",
       "            <div class=\"jp-RenderedHTMLCommon jp-RenderedHTML jp-mod-trusted jp-OutputArea-output\">\n",
       "    <div style=\"width: 24px; height: 24px; background-color: #e1e1e1; border: 3px solid #9D9D9D; border-radius: 5px; position: absolute;\">\n",
       "    </div>\n",
       "    <div style=\"margin-left: 48px;\">\n",
       "        <h3 style=\"margin-bottom: 0px; margin-top: 0px;\">LSFCluster</h3>\n",
       "        <p style=\"color: #9D9D9D; margin-bottom: 0px;\">bd1b6c98</p>\n",
       "        <table style=\"width: 100%; text-align: left;\">\n",
       "            <tr>\n",
       "                <td style=\"text-align: left;\">\n",
       "                    <strong>Dashboard:</strong> <a href=\"http://192.168.66.201:8787/status\" target=\"_blank\">http://192.168.66.201:8787/status</a>\n",
       "                </td>\n",
       "                <td style=\"text-align: left;\">\n",
       "                    <strong>Workers:</strong> 0\n",
       "                </td>\n",
       "            </tr>\n",
       "            <tr>\n",
       "                <td style=\"text-align: left;\">\n",
       "                    <strong>Total threads:</strong> 0\n",
       "                </td>\n",
       "                <td style=\"text-align: left;\">\n",
       "                    <strong>Total memory:</strong> 0 B\n",
       "                </td>\n",
       "            </tr>\n",
       "            \n",
       "        </table>\n",
       "\n",
       "        <details>\n",
       "            <summary style=\"margin-bottom: 20px;\">\n",
       "                <h3 style=\"display: inline;\">Scheduler Info</h3>\n",
       "            </summary>\n",
       "\n",
       "            <div style=\"\">\n",
       "    <div>\n",
       "        <div style=\"width: 24px; height: 24px; background-color: #FFF7E5; border: 3px solid #FF6132; border-radius: 5px; position: absolute;\"> </div>\n",
       "        <div style=\"margin-left: 48px;\">\n",
       "            <h3 style=\"margin-bottom: 0px;\">Scheduler</h3>\n",
       "            <p style=\"color: #9D9D9D; margin-bottom: 0px;\">Scheduler-bd3e8732-cb49-4190-8ebb-2afebe11250e</p>\n",
       "            <table style=\"width: 100%; text-align: left;\">\n",
       "                <tr>\n",
       "                    <td style=\"text-align: left;\">\n",
       "                        <strong>Comm:</strong> tcp://192.168.66.201:41227\n",
       "                    </td>\n",
       "                    <td style=\"text-align: left;\">\n",
       "                        <strong>Workers:</strong> 0\n",
       "                    </td>\n",
       "                </tr>\n",
       "                <tr>\n",
       "                    <td style=\"text-align: left;\">\n",
       "                        <strong>Dashboard:</strong> <a href=\"http://192.168.66.201:8787/status\" target=\"_blank\">http://192.168.66.201:8787/status</a>\n",
       "                    </td>\n",
       "                    <td style=\"text-align: left;\">\n",
       "                        <strong>Total threads:</strong> 0\n",
       "                    </td>\n",
       "                </tr>\n",
       "                <tr>\n",
       "                    <td style=\"text-align: left;\">\n",
       "                        <strong>Started:</strong> 1 minute ago\n",
       "                    </td>\n",
       "                    <td style=\"text-align: left;\">\n",
       "                        <strong>Total memory:</strong> 0 B\n",
       "                    </td>\n",
       "                </tr>\n",
       "            </table>\n",
       "        </div>\n",
       "    </div>\n",
       "\n",
       "    <details style=\"margin-left: 48px;\">\n",
       "        <summary style=\"margin-bottom: 20px;\">\n",
       "            <h3 style=\"display: inline;\">Workers</h3>\n",
       "        </summary>\n",
       "\n",
       "        \n",
       "\n",
       "    </details>\n",
       "</div>\n",
       "\n",
       "        </details>\n",
       "    </div>\n",
       "</div>\n",
       "            </details>\n",
       "        \n",
       "\n",
       "    </div>\n",
       "</div>"
      ],
      "text/plain": [
       "<Client: 'tcp://192.168.66.201:41227' processes=0 threads=0, memory=0 B>"
      ]
     },
     "execution_count": 10,
     "metadata": {},
     "output_type": "execute_result"
    }
   ],
   "source": [
    "client = Client(cluster)\n",
    "client"
   ]
  },
  {
   "cell_type": "markdown",
   "metadata": {},
   "source": [
    "### Spawn cluster nodes"
   ]
  },
  {
   "cell_type": "code",
   "execution_count": 11,
   "metadata": {
    "ExecuteTime": {
     "end_time": "2021-09-16T21:37:00.937949Z",
     "start_time": "2021-09-16T21:37:00.931813Z"
    }
   },
   "outputs": [],
   "source": [
    "cluster.scale(n_workers)"
   ]
  },
  {
   "cell_type": "code",
   "execution_count": 12,
   "metadata": {},
   "outputs": [
    {
     "name": "stdout",
     "output_type": "stream",
     "text": [
      "Waiting for workers completed 3 of 4\n",
      "4 workers started\n"
     ]
    }
   ],
   "source": [
    "val = len(client.scheduler_info()[\"workers\"])\n",
    "while ((client.status == \"running\") and ( val< n_workers)):\n",
    "    print(\"Waiting for workers completed {} of {}\".format(val, n_workers), end=\"\\r\")\n",
    "    sleep(1.0)\n",
    "    val = len(client.scheduler_info()[\"workers\"])\n",
    "print(\"\\n{} workers started\".format(len(client.scheduler_info()[\"workers\"])))"
   ]
  },
  {
   "cell_type": "markdown",
   "metadata": {},
   "source": [
    "## Analysis Utility Functions"
   ]
  },
  {
   "cell_type": "markdown",
   "metadata": {},
   "source": [
    "### Progress Bars"
   ]
  },
  {
   "cell_type": "code",
   "execution_count": 13,
   "metadata": {},
   "outputs": [],
   "source": [
    "pbar = ProgressBar()\n",
    "pbar.register()"
   ]
  },
  {
   "cell_type": "markdown",
   "metadata": {},
   "source": [
    "### Timer functions"
   ]
  },
  {
   "cell_type": "code",
   "execution_count": 14,
   "metadata": {
    "ExecuteTime": {
     "end_time": "2021-09-16T21:44:25.856496Z",
     "start_time": "2021-09-16T21:44:25.849113Z"
    }
   },
   "outputs": [],
   "source": [
    "def timer(func):\n",
    "    @functools.wraps(func)\n",
    "    def wrapper_timer(*args, **kwargs):\n",
    "        tic = time.perf_counter()\n",
    "        value = func(*args, **kwargs)\n",
    "        toc = time.perf_counter()\n",
    "        elapsed_time = toc - tic\n",
    "        print(f\"Elapsed time: {elapsed_time:0.4f} seconds\")\n",
    "        return value\n",
    "    return wrapper_timer"
   ]
  },
  {
   "cell_type": "markdown",
   "metadata": {},
   "source": [
    "### Threading process "
   ]
  },
  {
   "cell_type": "code",
   "execution_count": 15,
   "metadata": {
    "ExecuteTime": {
     "end_time": "2021-09-16T21:44:26.580383Z",
     "start_time": "2021-09-16T21:44:26.570029Z"
    }
   },
   "outputs": [],
   "source": [
    "def thread_print(string):\n",
    "    print(f'{string}\\n', end='')\n",
    "def thread_process( num_ranks, func, start=0, list_range=[], workers=40):\n",
    "    with ThreadPoolExecutor(max_workers = workers) as executor:\n",
    "        if len(list_range) == 0:\n",
    "            list_range = range(start, num_ranks) \n",
    "        future_gen = {executor.submit(func, rank): rank for rank in list_range}\n",
    "        for future in concurrent.futures.as_completed(future_gen):\n",
    "            rank = future_gen[future]\n",
    "            try:\n",
    "                data = future.result()\n",
    "            except Exception as exc:\n",
    "                thread_print('%r generated an exception: %s' % (rank, exc))\n",
    "            else:\n",
    "                thread_print('%r data computed' % (rank))"
   ]
  },
  {
   "cell_type": "markdown",
   "metadata": {},
   "source": [
    "### Application Logs in Parquet format"
   ]
  },
  {
   "cell_type": "markdown",
   "metadata": {},
   "source": [
    "## Initial Boostrapping"
   ]
  },
  {
   "cell_type": "markdown",
   "metadata": {},
   "source": [
    "### Read Application logs into dask dataframe"
   ]
  },
  {
   "cell_type": "code",
   "execution_count": 16,
   "metadata": {
    "ExecuteTime": {
     "end_time": "2021-09-16T21:44:32.812813Z",
     "start_time": "2021-09-16T21:44:31.634540Z"
    }
   },
   "outputs": [],
   "source": [
    "ddf = dd.read_parquet(\"{}/*.parquet\".format(parquet_folder), engine=\"pyarrow-dataset\")"
   ]
  },
  {
   "cell_type": "code",
   "execution_count": 17,
   "metadata": {
    "ExecuteTime": {
     "end_time": "2021-09-16T21:44:33.462433Z",
     "start_time": "2021-09-16T21:44:33.456132Z"
    }
   },
   "outputs": [
    {
     "name": "stdout",
     "output_type": "stream",
     "text": [
      "Dask dataframe is split into 160 partitions\n"
     ]
    }
   ],
   "source": [
    "print(\"Dask dataframe is split into {} partitions\".format(ddf.npartitions))"
   ]
  },
  {
   "cell_type": "code",
   "execution_count": 18,
   "metadata": {
    "ExecuteTime": {
     "end_time": "2021-09-16T21:37:12.311012Z",
     "start_time": "2021-09-16T21:37:12.306571Z"
    }
   },
   "outputs": [
    {
     "name": "stdout",
     "output_type": "stream",
     "text": [
      "Columns present in dataset\n",
      "Index(['index', 'rank', 'thread_id', 'cat', 'tstart', 'tend', 'func_id',\n",
      "       'level', 'arg_count', 'args_1', 'args_2', 'args_3', 'args_4', 'args_5',\n",
      "       'args_6', 'args_7', 'args_8', 'args_9', 'args_10'],\n",
      "      dtype='object')\n"
     ]
    }
   ],
   "source": [
    "print(\"Columns present in dataset\")\n",
    "print(ddf.columns)"
   ]
  },
  {
   "cell_type": "code",
   "execution_count": 19,
   "metadata": {
    "ExecuteTime": {
     "end_time": "2021-09-16T21:37:12.873991Z",
     "start_time": "2021-09-16T21:37:12.871121Z"
    }
   },
   "outputs": [
    {
     "data": {
      "text/html": [
       "<div>\n",
       "<style scoped>\n",
       "    .dataframe tbody tr th:only-of-type {\n",
       "        vertical-align: middle;\n",
       "    }\n",
       "\n",
       "    .dataframe tbody tr th {\n",
       "        vertical-align: top;\n",
       "    }\n",
       "\n",
       "    .dataframe thead th {\n",
       "        text-align: right;\n",
       "    }\n",
       "</style>\n",
       "<table border=\"1\" class=\"dataframe\">\n",
       "  <thead>\n",
       "    <tr style=\"text-align: right;\">\n",
       "      <th></th>\n",
       "      <th>index</th>\n",
       "      <th>rank</th>\n",
       "      <th>thread_id</th>\n",
       "      <th>cat</th>\n",
       "      <th>tstart</th>\n",
       "      <th>tend</th>\n",
       "      <th>func_id</th>\n",
       "      <th>level</th>\n",
       "      <th>arg_count</th>\n",
       "      <th>args_1</th>\n",
       "      <th>args_2</th>\n",
       "      <th>args_3</th>\n",
       "      <th>args_4</th>\n",
       "      <th>args_5</th>\n",
       "      <th>args_6</th>\n",
       "      <th>args_7</th>\n",
       "      <th>args_8</th>\n",
       "      <th>args_9</th>\n",
       "      <th>args_10</th>\n",
       "    </tr>\n",
       "  </thead>\n",
       "  <tbody>\n",
       "    <tr>\n",
       "      <th>0</th>\n",
       "      <td>1</td>\n",
       "      <td>0</td>\n",
       "      <td>322192</td>\n",
       "      <td>0</td>\n",
       "      <td>3.182336</td>\n",
       "      <td>3.182343</td>\n",
       "      <td>__xstat</td>\n",
       "      <td>0</td>\n",
       "      <td>3</td>\n",
       "      <td>1</td>\n",
       "      <td>/p/gpfs1/iopp/temp/cm1r20.3.2846829/config_fil...</td>\n",
       "      <td>%p</td>\n",
       "      <td></td>\n",
       "      <td></td>\n",
       "      <td></td>\n",
       "      <td></td>\n",
       "      <td></td>\n",
       "      <td></td>\n",
       "      <td></td>\n",
       "    </tr>\n",
       "    <tr>\n",
       "      <th>1</th>\n",
       "      <td>2</td>\n",
       "      <td>0</td>\n",
       "      <td>322192</td>\n",
       "      <td>0</td>\n",
       "      <td>3.182371</td>\n",
       "      <td>3.182384</td>\n",
       "      <td>open</td>\n",
       "      <td>0</td>\n",
       "      <td>2</td>\n",
       "      <td>/p/gpfs1/iopp/temp/cm1r20.3.2846829/config_fil...</td>\n",
       "      <td>2</td>\n",
       "      <td></td>\n",
       "      <td></td>\n",
       "      <td></td>\n",
       "      <td></td>\n",
       "      <td></td>\n",
       "      <td></td>\n",
       "      <td></td>\n",
       "      <td></td>\n",
       "    </tr>\n",
       "    <tr>\n",
       "      <th>2</th>\n",
       "      <td>3</td>\n",
       "      <td>0</td>\n",
       "      <td>322192</td>\n",
       "      <td>0</td>\n",
       "      <td>3.182450</td>\n",
       "      <td>3.182452</td>\n",
       "      <td>__fxstat</td>\n",
       "      <td>0</td>\n",
       "      <td>3</td>\n",
       "      <td>1</td>\n",
       "      <td>/p/gpfs1/iopp/temp/cm1r20.3.2846829/config_fil...</td>\n",
       "      <td>%p</td>\n",
       "      <td></td>\n",
       "      <td></td>\n",
       "      <td></td>\n",
       "      <td></td>\n",
       "      <td></td>\n",
       "      <td></td>\n",
       "      <td></td>\n",
       "    </tr>\n",
       "    <tr>\n",
       "      <th>3</th>\n",
       "      <td>4</td>\n",
       "      <td>0</td>\n",
       "      <td>322192</td>\n",
       "      <td>0</td>\n",
       "      <td>3.182468</td>\n",
       "      <td>3.182477</td>\n",
       "      <td>read</td>\n",
       "      <td>0</td>\n",
       "      <td>3</td>\n",
       "      <td>/p/gpfs1/iopp/temp/cm1r20.3.2846829/config_fil...</td>\n",
       "      <td>%p</td>\n",
       "      <td>16777216</td>\n",
       "      <td></td>\n",
       "      <td></td>\n",
       "      <td></td>\n",
       "      <td></td>\n",
       "      <td></td>\n",
       "      <td></td>\n",
       "      <td></td>\n",
       "    </tr>\n",
       "    <tr>\n",
       "      <th>4</th>\n",
       "      <td>5</td>\n",
       "      <td>0</td>\n",
       "      <td>322192</td>\n",
       "      <td>0</td>\n",
       "      <td>3.182571</td>\n",
       "      <td>3.182575</td>\n",
       "      <td>close</td>\n",
       "      <td>0</td>\n",
       "      <td>1</td>\n",
       "      <td>/p/gpfs1/iopp/temp/cm1r20.3.2846829/config_fil...</td>\n",
       "      <td></td>\n",
       "      <td></td>\n",
       "      <td></td>\n",
       "      <td></td>\n",
       "      <td></td>\n",
       "      <td></td>\n",
       "      <td></td>\n",
       "      <td></td>\n",
       "      <td></td>\n",
       "    </tr>\n",
       "  </tbody>\n",
       "</table>\n",
       "</div>"
      ],
      "text/plain": [
       "   index  rank  thread_id  cat    tstart      tend   func_id  level  \\\n",
       "0      1     0     322192    0  3.182336  3.182343   __xstat      0   \n",
       "1      2     0     322192    0  3.182371  3.182384      open      0   \n",
       "2      3     0     322192    0  3.182450  3.182452  __fxstat      0   \n",
       "3      4     0     322192    0  3.182468  3.182477      read      0   \n",
       "4      5     0     322192    0  3.182571  3.182575     close      0   \n",
       "\n",
       "   arg_count                                             args_1  \\\n",
       "0          3                                                  1   \n",
       "1          2  /p/gpfs1/iopp/temp/cm1r20.3.2846829/config_fil...   \n",
       "2          3                                                  1   \n",
       "3          3  /p/gpfs1/iopp/temp/cm1r20.3.2846829/config_fil...   \n",
       "4          1  /p/gpfs1/iopp/temp/cm1r20.3.2846829/config_fil...   \n",
       "\n",
       "                                              args_2    args_3 args_4 args_5  \\\n",
       "0  /p/gpfs1/iopp/temp/cm1r20.3.2846829/config_fil...        %p                 \n",
       "1                                                  2                           \n",
       "2  /p/gpfs1/iopp/temp/cm1r20.3.2846829/config_fil...        %p                 \n",
       "3                                                 %p  16777216                 \n",
       "4                                                                              \n",
       "\n",
       "  args_6 args_7 args_8 args_9 args_10  \n",
       "0                                      \n",
       "1                                      \n",
       "2                                      \n",
       "3                                      \n",
       "4                                      "
      ]
     },
     "execution_count": 19,
     "metadata": {},
     "output_type": "execute_result"
    }
   ],
   "source": [
    "ddf.head()"
   ]
  },
  {
   "cell_type": "markdown",
   "metadata": {},
   "source": [
    "#### Only keep level zero from MPI and FTRACE but keep all levels for I/O"
   ]
  },
  {
   "cell_type": "code",
   "execution_count": 20,
   "metadata": {
    "ExecuteTime": {
     "end_time": "2021-09-16T21:37:13.310962Z",
     "start_time": "2021-09-16T21:37:13.306458Z"
    }
   },
   "outputs": [],
   "source": [
    "ddf = ddf[(ddf['level'] == 0) | ddf['cat'].isin([0,1,3])]\n",
    "#ddf = ddf.persist()"
   ]
  },
  {
   "cell_type": "markdown",
   "metadata": {},
   "source": [
    "### Split dataframe into I/O, MPI, and trace"
   ]
  },
  {
   "cell_type": "code",
   "execution_count": 21,
   "metadata": {},
   "outputs": [],
   "source": [
    "io_ddf = ddf[ddf['cat'].isin([0,1,3])]\n",
    "exclude_dirs = [\".pyc\", \"/usr\",\"/g/g92/haridev/.nccl.conf\"]\n",
    "for directory in exclude_dirs:\n",
    "    io_ddf = io_ddf[~io_ddf['args_1'].str.contains(directory)]\n",
    "#io_ddf[rank] = io_ddf[rank].persist()\n",
    "mpi_ddf = ddf[ddf['cat'] == 2]\n",
    "#mpi_ddf[rank] = mpi_ddf[rank].persist()\n",
    "trace_ddf = ddf[ddf['cat'] == 4]"
   ]
  },
  {
   "cell_type": "markdown",
   "metadata": {},
   "source": [
    "### Check I/O interfaces used by application"
   ]
  },
  {
   "cell_type": "code",
   "execution_count": 22,
   "metadata": {},
   "outputs": [
    {
     "name": "stdout",
     "output_type": "stream",
     "text": [
      "0      __xstat\n",
      "1         open\n",
      "2     __fxstat\n",
      "3         read\n",
      "4        close\n",
      "5        lseek\n",
      "6    ftruncate\n",
      "7        write\n",
      "Name: func_id, dtype: object\n"
     ]
    }
   ],
   "source": [
    "interfaces = io_ddf['func_id'].unique().compute()\n",
    "print(interfaces)"
   ]
  },
  {
   "cell_type": "markdown",
   "metadata": {
    "tags": [
     "Finding"
    ]
   },
   "source": [
    "Only POSIX interface is used in this application"
   ]
  },
  {
   "cell_type": "markdown",
   "metadata": {},
   "source": [
    "### Set duration of I/O events"
   ]
  },
  {
   "cell_type": "code",
   "execution_count": 23,
   "metadata": {},
   "outputs": [],
   "source": [
    "io_ddf['duration'] = io_ddf['tend'] - io_ddf['tstart']"
   ]
  },
  {
   "cell_type": "code",
   "execution_count": 24,
   "metadata": {},
   "outputs": [
    {
     "name": "stdout",
     "output_type": "stream",
     "text": [
      "Application Profiler has stored 0 negetive values\n"
     ]
    }
   ],
   "source": [
    "negetive_duration = io_ddf[io_ddf['duration'] < 0]['duration'].count().compute()\n",
    "print(\"Application Profiler has stored {} negetive values\".format(negetive_duration))"
   ]
  },
  {
   "cell_type": "markdown",
   "metadata": {},
   "source": [
    "### Create conditions for filtering\n",
    "Even though this application doesnt have MPI or STDIO we have all the conditions here. This is to make sure we cover other apps as well."
   ]
  },
  {
   "cell_type": "code",
   "execution_count": 25,
   "metadata": {},
   "outputs": [],
   "source": [
    "open_condition = io_ddf['func_id'].str.contains(\"open\")\n",
    "mpi_condition = io_ddf['func_id'].str.contains(\"MPI\")\n",
    "read_condition = io_ddf['func_id'].isin([\"read\", \"pread\", \"pread64\", \"readv\"])\n",
    "fread_condition = io_ddf['func_id'].isin([\"fread\"])\n",
    "close_condition = io_ddf['func_id'].str.contains('close')\n",
    "write_condition = io_ddf['func_id'].isin([\"write\", \"pwrite\", \"pwrite64\",\"writev\"])\n",
    "fwrite_condition = io_ddf['func_id'].isin([\"fwrite\"])\n",
    "readdir_condition = io_ddf['func_id'].isin([\"readdir\"])"
   ]
  },
  {
   "cell_type": "markdown",
   "metadata": {},
   "source": [
    "### Extract Filename from each row.\n",
    "This simplifies analysis later on as we can filter recorder per rank and per file to understand access pattern information."
   ]
  },
  {
   "cell_type": "code",
   "execution_count": 26,
   "metadata": {},
   "outputs": [],
   "source": [
    "io_ddf['filename'] = \"\"\n",
    "io_ddf['filename'] = io_ddf['filename'].mask(open_condition & ~mpi_condition, io_ddf['args_1'])\n",
    "io_ddf['filename'] = io_ddf['filename'].mask(open_condition & mpi_condition, io_ddf['args_2'])\n",
    "io_ddf['filename'] = io_ddf['filename'].mask(close_condition, io_ddf['args_1'])\n",
    "io_ddf['filename'] = io_ddf['filename'].mask(read_condition, io_ddf['args_1'])\n",
    "io_ddf['filename'] = io_ddf['filename'].mask(fread_condition, io_ddf['args_4'])\n",
    "io_ddf['filename'] = io_ddf['filename'].mask(write_condition, io_ddf['args_1'])\n",
    "io_ddf['filename'] = io_ddf['filename'].mask(fwrite_condition, io_ddf['args_4'])"
   ]
  },
  {
   "cell_type": "markdown",
   "metadata": {},
   "source": [
    "Some filename has redundent forward slashes"
   ]
  },
  {
   "cell_type": "code",
   "execution_count": 27,
   "metadata": {},
   "outputs": [],
   "source": [
    "io_ddf['filename'] = io_ddf['filename'].str.replace('//','/')"
   ]
  },
  {
   "cell_type": "markdown",
   "metadata": {},
   "source": [
    "### Filter recorder which have read and write operations and which have metadata.\n",
    "We assume that there is only two types of operation in I/O read/write and metadata."
   ]
  },
  {
   "cell_type": "code",
   "execution_count": 28,
   "metadata": {},
   "outputs": [],
   "source": [
    "io_ddf_read_write = io_ddf[read_condition | write_condition].compute()\n",
    "io_ddf_metadata = io_ddf[~read_condition & ~write_condition].compute()"
   ]
  },
  {
   "cell_type": "markdown",
   "metadata": {},
   "source": [
    "### Build size and count to understand I/O on the io_ddf_read_write dataframe"
   ]
  },
  {
   "cell_type": "code",
   "execution_count": 29,
   "metadata": {},
   "outputs": [],
   "source": [
    "open_condition = io_ddf_read_write['func_id'].str.contains(\"open\")\n",
    "mpi_condition = io_ddf_read_write['func_id'].str.contains(\"MPI\")\n",
    "read_condition = io_ddf_read_write['func_id'].isin([\"read\", \"pread\", \"pread64\", \"readv\"])\n",
    "fread_condition = io_ddf_read_write['func_id'].isin([\"fread\"])\n",
    "close_condition = io_ddf_read_write['func_id'].str.contains('close')\n",
    "write_condition = io_ddf_read_write['func_id'].isin([\"write\", \"pwrite\", \"pwrite64\",\"writev\"])\n",
    "fwrite_condition = io_ddf_read_write['func_id'].isin([\"fwrite\"])\n",
    "readdir_condition = io_ddf_read_write['func_id'].isin([\"readdir\"])"
   ]
  },
  {
   "cell_type": "code",
   "execution_count": 30,
   "metadata": {},
   "outputs": [],
   "source": [
    "io_ddf_read_write['size'] = 0\n",
    "io_ddf_read_write['count'] = 1\n",
    "io_ddf_read_write['size'] = io_ddf_read_write['size'].mask(read_condition , io_ddf_read_write['args_3'])\n",
    "io_ddf_read_write['size'] = io_ddf_read_write['size'].mask(fread_condition, io_ddf_read_write['args_3'])\n",
    "io_ddf_read_write['count'] = io_ddf_read_write['count'].mask(fread_condition, io_ddf_read_write['args_2'])\n",
    "io_ddf_read_write['size'] = io_ddf_read_write['size'].mask(write_condition, io_ddf_read_write['args_3'])\n",
    "io_ddf_read_write['size'] = io_ddf_read_write['size'].mask(fwrite_condition, io_ddf_read_write['args_3'])\n",
    "io_ddf_read_write['count'] = io_ddf_read_write['count'].mask(fwrite_condition, io_ddf_read_write['args_2'])"
   ]
  },
  {
   "cell_type": "markdown",
   "metadata": {},
   "source": [
    "#### Corner cases"
   ]
  },
  {
   "cell_type": "code",
   "execution_count": 31,
   "metadata": {},
   "outputs": [],
   "source": [
    "io_ddf_read_write['size'] = io_ddf_read_write['size'].mask(readdir_condition , \"0\")\n",
    "io_ddf_read_write['count'] = io_ddf_read_write['count'].mask(readdir_condition , \"1\")"
   ]
  },
  {
   "cell_type": "markdown",
   "metadata": {},
   "source": [
    "#### Set Datatypes\n",
    "This is needed as by default args are string from which they are set."
   ]
  },
  {
   "cell_type": "code",
   "execution_count": 32,
   "metadata": {},
   "outputs": [],
   "source": [
    "io_ddf_read_write = io_ddf_read_write.astype({'size': 'int32','count': 'int32'})"
   ]
  },
  {
   "cell_type": "markdown",
   "metadata": {},
   "source": [
    "#### Compute Final Size\n",
    "After this point we do not use count field."
   ]
  },
  {
   "cell_type": "code",
   "execution_count": 33,
   "metadata": {},
   "outputs": [],
   "source": [
    "io_ddf_read_write['size'] = io_ddf_read_write['size'] * io_ddf_read_write['count']"
   ]
  },
  {
   "cell_type": "markdown",
   "metadata": {},
   "source": [
    "### Calculate Bandwidth in MB/s for I/O operations.\n",
    "Durations might be incorrect or equal to zero due to profilers resolution issues. Therefore, we do bandwidth calculations for only correct durations."
   ]
  },
  {
   "cell_type": "code",
   "execution_count": 34,
   "metadata": {},
   "outputs": [],
   "source": [
    "correct_dur = ((io_ddf_read_write['tend'] - io_ddf_read_write['tstart']) > 0)\n",
    "io_ddf_read_write['bandwidth'] = 0\n",
    "io_ddf_read_write['bandwidth'] = io_ddf_read_write['bandwidth'].mask(correct_dur, io_ddf_read_write['size']*1.0/(io_ddf_read_write['tend'] - io_ddf_read_write['tstart'])/1024.0/1024.0)"
   ]
  },
  {
   "cell_type": "markdown",
   "metadata": {
    "tags": [
     "Finding"
    ]
   },
   "source": [
    "### Calculate all relevent filenames in the application\n",
    "The profiler might see jsrun files and other irrelevant internal files which we filter here."
   ]
  },
  {
   "cell_type": "code",
   "execution_count": 35,
   "metadata": {},
   "outputs": [],
   "source": [
    "all_filenames = io_ddf[io_ddf['filename'].str.contains('/p/gpfs1')]['filename'].unique().compute()"
   ]
  },
  {
   "cell_type": "code",
   "execution_count": 36,
   "metadata": {
    "tags": [
     "Finding"
    ]
   },
   "outputs": [
    {
     "name": "stdout",
     "output_type": "stream",
     "text": [
      "The application accesses 774 files across all ranks\n"
     ]
    }
   ],
   "source": [
    "print(\"The application accesses {} files across all ranks\".format(len(all_filenames)))"
   ]
  },
  {
   "cell_type": "markdown",
   "metadata": {
    "tags": [
     "Finding"
    ]
   },
   "source": [
    "### Distribution of Transfer Size and Bandwidth in the application\n",
    "The transfer size is given by the size column in bytes and the bandwidth is shown in MB/s"
   ]
  },
  {
   "cell_type": "code",
   "execution_count": 37,
   "metadata": {
    "tags": [
     "Finding"
    ]
   },
   "outputs": [
    {
     "data": {
      "text/html": [
       "<div>\n",
       "<style scoped>\n",
       "    .dataframe tbody tr th:only-of-type {\n",
       "        vertical-align: middle;\n",
       "    }\n",
       "\n",
       "    .dataframe tbody tr th {\n",
       "        vertical-align: top;\n",
       "    }\n",
       "\n",
       "    .dataframe thead th {\n",
       "        text-align: right;\n",
       "    }\n",
       "</style>\n",
       "<table border=\"1\" class=\"dataframe\">\n",
       "  <thead>\n",
       "    <tr style=\"text-align: right;\">\n",
       "      <th></th>\n",
       "      <th>size</th>\n",
       "      <th>bandwidth</th>\n",
       "    </tr>\n",
       "  </thead>\n",
       "  <tbody>\n",
       "    <tr>\n",
       "      <th>count</th>\n",
       "      <td>3.585000e+03</td>\n",
       "      <td>3.585000e+03</td>\n",
       "    </tr>\n",
       "    <tr>\n",
       "      <th>mean</th>\n",
       "      <td>6.343107e+06</td>\n",
       "      <td>5.576541e+05</td>\n",
       "    </tr>\n",
       "    <tr>\n",
       "      <th>std</th>\n",
       "      <td>8.090363e+06</td>\n",
       "      <td>7.911374e+05</td>\n",
       "    </tr>\n",
       "    <tr>\n",
       "      <th>min</th>\n",
       "      <td>2.000000e+01</td>\n",
       "      <td>0.000000e+00</td>\n",
       "    </tr>\n",
       "    <tr>\n",
       "      <th>25%</th>\n",
       "      <td>1.370300e+04</td>\n",
       "      <td>4.320312e+01</td>\n",
       "    </tr>\n",
       "    <tr>\n",
       "      <th>50%</th>\n",
       "      <td>4.714000e+04</td>\n",
       "      <td>4.014375e+02</td>\n",
       "    </tr>\n",
       "    <tr>\n",
       "      <th>75%</th>\n",
       "      <td>1.677722e+07</td>\n",
       "      <td>1.458888e+06</td>\n",
       "    </tr>\n",
       "    <tr>\n",
       "      <th>max</th>\n",
       "      <td>1.677722e+07</td>\n",
       "      <td>2.314099e+06</td>\n",
       "    </tr>\n",
       "  </tbody>\n",
       "</table>\n",
       "</div>"
      ],
      "text/plain": [
       "               size     bandwidth\n",
       "count  3.585000e+03  3.585000e+03\n",
       "mean   6.343107e+06  5.576541e+05\n",
       "std    8.090363e+06  7.911374e+05\n",
       "min    2.000000e+01  0.000000e+00\n",
       "25%    1.370300e+04  4.320312e+01\n",
       "50%    4.714000e+04  4.014375e+02\n",
       "75%    1.677722e+07  1.458888e+06\n",
       "max    1.677722e+07  2.314099e+06"
      ]
     },
     "execution_count": 37,
     "metadata": {},
     "output_type": "execute_result"
    }
   ],
   "source": [
    "io_ddf_read_write[['size', 'bandwidth']].describe()"
   ]
  },
  {
   "cell_type": "markdown",
   "metadata": {},
   "source": [
    "### Preload the I/O dataframe for faster analysis"
   ]
  },
  {
   "cell_type": "code",
   "execution_count": 38,
   "metadata": {
    "tags": []
   },
   "outputs": [],
   "source": [
    "io_ddf = io_ddf.persist()\n",
    "result = wait(io_ddf)"
   ]
  },
  {
   "cell_type": "markdown",
   "metadata": {
    "tags": [
     "Finding"
    ]
   },
   "source": [
    "## Application Analysis"
   ]
  },
  {
   "cell_type": "markdown",
   "metadata": {},
   "source": [
    "### Num Ranks"
   ]
  },
  {
   "cell_type": "code",
   "execution_count": 39,
   "metadata": {
    "tags": [
     "Finding"
    ]
   },
   "outputs": [
    {
     "name": "stdout",
     "output_type": "stream",
     "text": [
      "Number of ranks in application 1280\n"
     ]
    }
   ],
   "source": [
    "num_ranks = io_ddf_read_write['rank'].nunique()\n",
    "print(\"Number of ranks in application {}\".format(num_ranks))"
   ]
  },
  {
   "cell_type": "markdown",
   "metadata": {},
   "source": [
    "### Total I/O amount"
   ]
  },
  {
   "cell_type": "code",
   "execution_count": 40,
   "metadata": {
    "tags": [
     "Finding"
    ]
   },
   "outputs": [
    {
     "name": "stdout",
     "output_type": "stream",
     "text": [
      "Total I/O in application 21.17831213399768 GB\n",
      "Total I/O per operation in application func_id\n",
      "read     20.031250\n",
      "write     1.147062\n",
      "Name: size, dtype: float64 GB\n"
     ]
    }
   ],
   "source": [
    "total_io = io_ddf_read_write.groupby('func_id')['size'].sum()/1024.0/1024.0/1024.0\n",
    "print(\"Total I/O in application {} GB\".format(total_io.sum()))\n",
    "print(\"Total I/O per operation in application {} GB\".format(total_io))"
   ]
  },
  {
   "cell_type": "markdown",
   "metadata": {},
   "source": [
    "### I/O per rank"
   ]
  },
  {
   "cell_type": "code",
   "execution_count": 41,
   "metadata": {},
   "outputs": [
    {
     "data": {
      "text/plain": [
       "rank  func_id\n",
       "0     read         50331648\n",
       "      write      1231648588\n",
       "1     read         16777216\n",
       "2     read         16777216\n",
       "3     read         16777216\n",
       "                    ...    \n",
       "1275  read         16777216\n",
       "1276  read         16777216\n",
       "1277  read         16777216\n",
       "1278  read         16777216\n",
       "1279  read         16777216\n",
       "Name: size, Length: 1281, dtype: int32"
      ]
     },
     "execution_count": 41,
     "metadata": {},
     "output_type": "execute_result"
    }
   ],
   "source": [
    "io_ddf_read_write.groupby(['rank', 'func_id'])['size'].sum()"
   ]
  },
  {
   "cell_type": "markdown",
   "metadata": {
    "tags": [
     "Finding"
    ]
   },
   "source": [
    "**rank 0 performs 100x more I/O than others. Also every other process reads data where as only rank 0 writes it.**"
   ]
  },
  {
   "cell_type": "code",
   "execution_count": 42,
   "metadata": {},
   "outputs": [
    {
     "data": {
      "text/plain": [
       "<AxesSubplot:xlabel='rank'>"
      ]
     },
     "execution_count": 42,
     "metadata": {},
     "output_type": "execute_result"
    },
    {
     "data": {
      "image/png": "[encoded data removed]",
      "text/plain": [
       "<Figure size 288x288 with 1 Axes>"
      ]
     },
     "metadata": {
      "needs_background": "light"
     },
     "output_type": "display_data"
    }
   ],
   "source": [
    "io_per_rank_gb = io_ddf_read_write.groupby(['rank'])['size'].sum()\n",
    "io_per_rank_gb.plot(kind='line',figsize=(4,4))"
   ]
  },
  {
   "cell_type": "markdown",
   "metadata": {},
   "source": [
    "### Operations Per Rank"
   ]
  },
  {
   "cell_type": "code",
   "execution_count": 43,
   "metadata": {},
   "outputs": [
    {
     "data": {
      "text/plain": [
       "<AxesSubplot:xlabel='rank'>"
      ]
     },
     "execution_count": 43,
     "metadata": {},
     "output_type": "execute_result"
    },
    {
     "data": {
      "image/png": "[encoded data removed]",
      "text/plain": [
       "<Figure size 288x288 with 1 Axes>"
      ]
     },
     "metadata": {
      "needs_background": "light"
     },
     "output_type": "display_data"
    }
   ],
   "source": [
    "io_per_rank_gb = io_ddf_read_write.groupby('rank')['count'].sum()\n",
    "io_per_rank_gb.plot(kind='line',figsize=(4,4))"
   ]
  },
  {
   "cell_type": "markdown",
   "metadata": {},
   "source": [
    "**Also rank 0 performs 2000x more operations than other ranks.**"
   ]
  },
  {
   "cell_type": "markdown",
   "metadata": {},
   "source": [
    "### Average I/O Time per process"
   ]
  },
  {
   "cell_type": "code",
   "execution_count": 44,
   "metadata": {},
   "outputs": [],
   "source": [
    "time_per_rank = io_ddf_read_write.groupby('rank')['duration'].sum()"
   ]
  },
  {
   "cell_type": "code",
   "execution_count": 45,
   "metadata": {},
   "outputs": [
    {
     "name": "stdout",
     "output_type": "stream",
     "text": [
      "time per process: Average 0.0009825623128563166 sec, Max 1.153048038482666 sec, and Min 6.9141387939453125e-06 sec\n"
     ]
    }
   ],
   "source": [
    "print(\"time per process: Average {} sec, Max {} sec, and Min {} sec\".format(time_per_rank.mean(), time_per_rank.max(), time_per_rank.min()))"
   ]
  },
  {
   "cell_type": "code",
   "execution_count": 46,
   "metadata": {},
   "outputs": [
    {
     "data": {
      "text/plain": [
       "<AxesSubplot:xlabel='rank'>"
      ]
     },
     "execution_count": 46,
     "metadata": {},
     "output_type": "execute_result"
    },
    {
     "data": {
      "image/png": "[encoded data removed]",
      "text/plain": [
       "<Figure size 288x288 with 1 Axes>"
      ]
     },
     "metadata": {
      "needs_background": "light"
     },
     "output_type": "display_data"
    }
   ],
   "source": [
    "time_per_rank.plot(kind='line',figsize=(4,4))"
   ]
  },
  {
   "cell_type": "markdown",
   "metadata": {
    "tags": [
     "Finding"
    ]
   },
   "source": [
    "Most time is spent by rank 0."
   ]
  },
  {
   "cell_type": "markdown",
   "metadata": {},
   "source": [
    "### Compute Time"
   ]
  },
  {
   "cell_type": "markdown",
   "metadata": {},
   "source": [
    "#### Convert trace dataframe into memory."
   ]
  },
  {
   "cell_type": "code",
   "execution_count": 47,
   "metadata": {},
   "outputs": [],
   "source": [
    "trace_ddf_local = trace_ddf.compute()"
   ]
  },
  {
   "cell_type": "markdown",
   "metadata": {},
   "source": [
    "#### Calculate duration for trace values"
   ]
  },
  {
   "cell_type": "code",
   "execution_count": 48,
   "metadata": {},
   "outputs": [],
   "source": [
    "trace_ddf_local['duration'] = trace_ddf_local['tend'] - trace_ddf_local['tstart']"
   ]
  },
  {
   "cell_type": "code",
   "execution_count": 49,
   "metadata": {},
   "outputs": [
    {
     "data": {
      "text/plain": [
       "count    0.0\n",
       "mean     NaN\n",
       "std      NaN\n",
       "min      NaN\n",
       "25%      NaN\n",
       "50%      NaN\n",
       "75%      NaN\n",
       "max      NaN\n",
       "Name: duration, dtype: float64"
      ]
     },
     "execution_count": 49,
     "metadata": {},
     "output_type": "execute_result"
    }
   ],
   "source": [
    "trace_ddf_local['duration'].describe()"
   ]
  },
  {
   "cell_type": "code",
   "execution_count": 50,
   "metadata": {
    "tags": [
     "Finding"
    ]
   },
   "outputs": [
    {
     "name": "stdout",
     "output_type": "stream",
     "text": [
      "Profiler stored 0 negetive rows\n"
     ]
    }
   ],
   "source": [
    "negetive_durations = trace_ddf_local[trace_ddf_local['duration'] < 0]['duration'].count()\n",
    "print(\"Profiler stored {} negetive rows\".format(negetive_durations))"
   ]
  },
  {
   "cell_type": "code",
   "execution_count": 51,
   "metadata": {},
   "outputs": [],
   "source": [
    "time_per_rank = trace_ddf_local.groupby('rank')['duration'].sum()"
   ]
  },
  {
   "cell_type": "code",
   "execution_count": 52,
   "metadata": {
    "tags": [
     "Finding"
    ]
   },
   "outputs": [
    {
     "name": "stdout",
     "output_type": "stream",
     "text": [
      "Time per process: Average nan sec, Max nan sec, and Min nan sec\n"
     ]
    }
   ],
   "source": [
    "print(\"Time per process: Average {} sec, Max {} sec, and Min {} sec\".format(time_per_rank.mean(), time_per_rank.max(), time_per_rank.min()))"
   ]
  },
  {
   "cell_type": "code",
   "execution_count": 53,
   "metadata": {},
   "outputs": [
    {
     "data": {
      "text/plain": [
       "<AxesSubplot:xlabel='rank'>"
      ]
     },
     "execution_count": 53,
     "metadata": {},
     "output_type": "execute_result"
    },
    {
     "data": {
      "image/png": "[encoded data removed]",
      "text/plain": [
       "<Figure size 288x288 with 1 Axes>"
      ]
     },
     "metadata": {
      "needs_background": "light"
     },
     "output_type": "display_data"
    }
   ],
   "source": [
    "time_per_rank.plot(kind='line',figsize=(4,4))"
   ]
  },
  {
   "cell_type": "markdown",
   "metadata": {},
   "source": [
    "**No compute trace available**"
   ]
  },
  {
   "cell_type": "markdown",
   "metadata": {},
   "source": [
    "## Job Time"
   ]
  },
  {
   "cell_type": "code",
   "execution_count": 54,
   "metadata": {},
   "outputs": [],
   "source": [
    "job_time = ddf['tend'].max().compute()"
   ]
  },
  {
   "cell_type": "code",
   "execution_count": 55,
   "metadata": {},
   "outputs": [
    {
     "name": "stdout",
     "output_type": "stream",
     "text": [
      "Job Time in Application 1151.345458984375 sec\n"
     ]
    }
   ],
   "source": [
    "print(\"Job Time in Application {} sec\".format(job_time))"
   ]
  },
  {
   "cell_type": "markdown",
   "metadata": {},
   "source": [
    "The application run for a long time includes initialization."
   ]
  },
  {
   "cell_type": "markdown",
   "metadata": {},
   "source": [
    "## Job Intensity"
   ]
  },
  {
   "cell_type": "code",
   "execution_count": 56,
   "metadata": {},
   "outputs": [
    {
     "name": "stdout",
     "output_type": "stream",
     "text": [
      "I/O Time: 5.794830322265625 sec Compute Time: nan sec\n"
     ]
    }
   ],
   "source": [
    "total_compute = trace_ddf_local.groupby('rank')['duration'].sum().max()\n",
    "total_io = io_ddf.groupby('rank')['duration'].sum().max().compute()\n",
    "print(\"I/O Time: {} sec Compute Time: {} sec\".format(total_io, total_compute))"
   ]
  },
  {
   "cell_type": "code",
   "execution_count": 57,
   "metadata": {},
   "outputs": [],
   "source": [
    "io_intensity=total_io/(total_io + total_compute)\n",
    "comp_intensity=total_compute/(total_io + total_compute)"
   ]
  },
  {
   "cell_type": "code",
   "execution_count": 58,
   "metadata": {},
   "outputs": [
    {
     "name": "stdout",
     "output_type": "stream",
     "text": [
      "I/O intensity: nan, Compute intensity: nan\n"
     ]
    }
   ],
   "source": [
    "print(\"I/O intensity: {}, Compute intensity: {}\".format(io_intensity, comp_intensity))"
   ]
  },
  {
   "cell_type": "markdown",
   "metadata": {
    "tags": [
     "Finding"
    ]
   },
   "source": [
    "**Application is not compute intensive as only 4 second of the overall time (i.e. 668 sec) is spent on I/O**"
   ]
  },
  {
   "cell_type": "markdown",
   "metadata": {},
   "source": [
    "### I/O Transfer Size Distribution"
   ]
  },
  {
   "cell_type": "code",
   "execution_count": 59,
   "metadata": {},
   "outputs": [
    {
     "data": {
      "image/png": "[encoded data removed]",
      "text/plain": [
       "<Figure size 432x288 with 1 Axes>"
      ]
     },
     "metadata": {
      "needs_background": "light"
     },
     "output_type": "display_data"
    }
   ],
   "source": [
    "file_df_temp = io_ddf_read_write\n",
    "size_ranges = [0, 4*1024, 64*1024, 1024*1024, 16*1024*1024]\n",
    "size_ranges_str = []\n",
    "for range_val in size_ranges:\n",
    "    size_ranges_str.append(str(range_val))\n",
    "max_range = len(size_ranges)\n",
    "request_size = [0]*len(size_ranges)\n",
    "for i, val in enumerate(size_ranges):\n",
    "    #print(i, max_range)\n",
    "    if i < max_range - 1:\n",
    "        request_size[i] = file_df_temp[(file_df_temp['size'].ge(val)) & \n",
    "                                       (file_df_temp['size'].lt(size_ranges[i+1]))]['size'].count()\n",
    "    else:\n",
    "        request_size[i] = file_df_temp[(file_df_temp['size'] >=size_ranges[i])]['size'].count()\n",
    "\n",
    "#print(request_size)\n",
    "plt.bar(size_ranges_str, request_size)\n",
    "#file_sizes = file_df_temp['size'].to_numpy() / 1024.0 /1024.0\n",
    "#plt.hist(file_sizes, bins=100)\n",
    "plt.show()"
   ]
  },
  {
   "cell_type": "markdown",
   "metadata": {},
   "source": [
    "**Application performs a lot of small I/O <=4 KB and reads 16MB**"
   ]
  },
  {
   "cell_type": "markdown",
   "metadata": {},
   "source": [
    "### Distribution of request sizes per rank\n",
    "We need this as we see most I/O occurs by rank 0"
   ]
  },
  {
   "cell_type": "code",
   "execution_count": 60,
   "metadata": {},
   "outputs": [
    {
     "data": {
      "image/png": "[encoded data removed]",
      "text/plain": [
       "<Figure size 432x288 with 1 Axes>"
      ]
     },
     "metadata": {
      "needs_background": "light"
     },
     "output_type": "display_data"
    },
    {
     "data": {
      "image/png": "[encoded data removed]",
      "text/plain": [
       "<Figure size 432x288 with 1 Axes>"
      ]
     },
     "metadata": {
      "needs_background": "light"
     },
     "output_type": "display_data"
    },
    {
     "data": {
      "image/png": "[encoded data removed]",
      "text/plain": [
       "<Figure size 432x288 with 1 Axes>"
      ]
     },
     "metadata": {
      "needs_background": "light"
     },
     "output_type": "display_data"
    },
    {
     "data": {
      "image/png": "[encoded data removed]",
      "text/plain": [
       "<Figure size 432x288 with 1 Axes>"
      ]
     },
     "metadata": {
      "needs_background": "light"
     },
     "output_type": "display_data"
    },
    {
     "data": {
      "image/png": "[encoded data removed]",
      "text/plain": [
       "<Figure size 432x288 with 1 Axes>"
      ]
     },
     "metadata": {
      "needs_background": "light"
     },
     "output_type": "display_data"
    },
    {
     "data": {
      "image/png": "[encoded data removed]",
      "text/plain": [
       "<Figure size 432x288 with 1 Axes>"
      ]
     },
     "metadata": {
      "needs_background": "light"
     },
     "output_type": "display_data"
    },
    {
     "data": {
      "image/png": "[encoded data removed]",
      "text/plain": [
       "<Figure size 432x288 with 1 Axes>"
      ]
     },
     "metadata": {
      "needs_background": "light"
     },
     "output_type": "display_data"
    }
   ],
   "source": [
    "selected_ranks = [0,1,2,3,4,5,6]\n",
    "for rank in selected_ranks:\n",
    "    file_df_temp = io_ddf_read_write[io_ddf_read_write['rank'] == rank]\n",
    "    size_ranges = [0, 4*1024, 64*1024, 1024*1024, 16*1024*1024]\n",
    "    size_ranges_str = []\n",
    "    for range_val in size_ranges:\n",
    "        size_ranges_str.append(str(range_val))\n",
    "    max_range = len(size_ranges)\n",
    "    request_size = [0]*len(size_ranges)\n",
    "    for i, val in enumerate(size_ranges):\n",
    "        #print(i, max_range)\n",
    "        if i < max_range - 1:\n",
    "            request_size[i] = file_df_temp[(file_df_temp['size'].ge(val)) & \n",
    "                                           (file_df_temp['size'].lt(size_ranges[i+1]))]['size'].count()\n",
    "        else:\n",
    "            request_size[i] = file_df_temp[(file_df_temp['size'] >=size_ranges[i])]['size'].count()\n",
    "\n",
    "    #print(request_size)\n",
    "    plt.bar(size_ranges_str, request_size)\n",
    "    #file_sizes = file_df_temp['size'].to_numpy() / 1024.0 /1024.0\n",
    "    #plt.hist(file_sizes, bins=100)\n",
    "    plt.show()"
   ]
  },
  {
   "cell_type": "markdown",
   "metadata": {
    "tags": [
     "Finding"
    ]
   },
   "source": [
    "**The application uses a transfer size of 4K (used by rank 0) and 16MB (used by other ranks)**"
   ]
  },
  {
   "cell_type": "markdown",
   "metadata": {},
   "source": [
    "### Distribution of Bandwidth achived by application"
   ]
  },
  {
   "cell_type": "code",
   "execution_count": 61,
   "metadata": {},
   "outputs": [
    {
     "data": {
      "image/png": "[encoded data removed]",
      "text/plain": [
       "<Figure size 432x288 with 1 Axes>"
      ]
     },
     "metadata": {
      "needs_background": "light"
     },
     "output_type": "display_data"
    }
   ],
   "source": [
    "bw_ranges = [1, 128, 1024, 1024*64]\n",
    "bw_ranges_str = []\n",
    "for range_val in bw_ranges:\n",
    "    bw_ranges_str.append(str(range_val))\n",
    "max_range = len(bw_ranges)\n",
    "request_bw = [0]*len(bw_ranges)\n",
    "for i, val in enumerate(bw_ranges):\n",
    "    #print(i, max_range)\n",
    "    if i < max_range - 1:\n",
    "        request_bw[i] = file_df_temp[(file_df_temp['bandwidth'].ge(val)) & \n",
    "                                       (file_df_temp['bandwidth'].lt(bw_ranges[i+1]))]['size'].count()\n",
    "    else:\n",
    "        request_bw[i] = file_df_temp[(file_df_temp['bandwidth'] >=bw_ranges[i])]['size'].count()\n",
    "fig, ax = plt.subplots()\n",
    "ax.barh(bw_ranges_str, request_bw)\n",
    "for i, v in enumerate(request_bw):\n",
    "    ax.text(v + 3, i + .25, str(v), color='blue', fontweight='bold')\n",
    "plt.show()"
   ]
  },
  {
   "cell_type": "code",
   "execution_count": 62,
   "metadata": {},
   "outputs": [
    {
     "data": {
      "text/plain": [
       "[0, 0, 1, 0]"
      ]
     },
     "execution_count": 62,
     "metadata": {},
     "output_type": "execute_result"
    }
   ],
   "source": [
    "request_bw"
   ]
  },
  {
   "cell_type": "code",
   "execution_count": 63,
   "metadata": {},
   "outputs": [
    {
     "data": {
      "text/plain": [
       "array([  0.,   0., 100.,   0.])"
      ]
     },
     "execution_count": 63,
     "metadata": {},
     "output_type": "execute_result"
    }
   ],
   "source": [
    "percentage_bw = np.array(request_bw)*100/np.sum(request_bw)\n",
    "percentage_bw"
   ]
  },
  {
   "cell_type": "markdown",
   "metadata": {
    "tags": [
     "Finding"
    ]
   },
   "source": [
    "- 40% of the overall I/O got a bandwidth of 128 MB/s per process.\n",
    "- 35% achieve a low bandwidth of 64GB/s"
   ]
  },
  {
   "cell_type": "markdown",
   "metadata": {},
   "source": [
    "### Number of files read/written"
   ]
  },
  {
   "cell_type": "code",
   "execution_count": 64,
   "metadata": {
    "tags": [
     "Finding"
    ]
   },
   "outputs": [
    {
     "name": "stdout",
     "output_type": "stream",
     "text": [
      "The application accesses 774 files\n"
     ]
    }
   ],
   "source": [
    "all_filenames = io_ddf[io_ddf['filename'].str.contains('/p/gpfs1')]['filename'].unique().compute()\n",
    "print(\"The application accesses {} files\".format(len(all_filenames)))\n",
    "#print(all_filenames[:8],all_filenames[-8:])"
   ]
  },
  {
   "cell_type": "markdown",
   "metadata": {},
   "source": [
    "### I/O Operations by Application"
   ]
  },
  {
   "cell_type": "code",
   "execution_count": 65,
   "metadata": {},
   "outputs": [
    {
     "data": {
      "text/plain": [
       "func_id\n",
       "__fxstat     5734\n",
       "__xstat      5925\n",
       "close        4646\n",
       "ftruncate    1122\n",
       "lseek        1854\n",
       "open         4646\n",
       "read         1282\n",
       "write        2303\n",
       "Name: func_id, dtype: int64"
      ]
     },
     "execution_count": 65,
     "metadata": {},
     "output_type": "execute_result"
    }
   ],
   "source": [
    "io_ddf.groupby('func_id')['func_id'].count().compute()"
   ]
  },
  {
   "cell_type": "markdown",
   "metadata": {},
   "source": [
    "**As there are 1280 ranks in total, Most I/O is performed by rank 0 rest of them do less I/O**"
   ]
  },
  {
   "cell_type": "markdown",
   "metadata": {},
   "source": [
    "### IO Operations per rank"
   ]
  },
  {
   "cell_type": "code",
   "execution_count": 66,
   "metadata": {},
   "outputs": [
    {
     "data": {
      "text/plain": [
       "rank  func_id  \n",
       "0     __fxstat     2993\n",
       "      __xstat      2251\n",
       "      close        2251\n",
       "      ftruncate    1122\n",
       "      lseek        1854\n",
       "      open         2251\n",
       "      read            3\n",
       "      write        2303\n",
       "Name: func_id, dtype: int64"
      ]
     },
     "execution_count": 66,
     "metadata": {},
     "output_type": "execute_result"
    }
   ],
   "source": [
    "io_ddf.groupby(['rank','func_id'])['func_id'].count().compute()[:8]"
   ]
  },
  {
   "cell_type": "code",
   "execution_count": 67,
   "metadata": {},
   "outputs": [
    {
     "data": {
      "text/plain": [
       "rank  func_id \n",
       "5     read        1\n",
       "6     __fxstat    1\n",
       "      __xstat     2\n",
       "      close       1\n",
       "      open        1\n",
       "      read        1\n",
       "7     __fxstat    1\n",
       "      __xstat     2\n",
       "Name: func_id, dtype: int64"
      ]
     },
     "execution_count": 67,
     "metadata": {},
     "output_type": "execute_result"
    }
   ],
   "source": [
    "io_ddf.groupby(['rank','func_id'])['func_id'].count().compute()[32:40]"
   ]
  },
  {
   "cell_type": "markdown",
   "metadata": {
    "tags": [
     "Finding"
    ]
   },
   "source": [
    "**These confirm our hypothesis that most I/O is performed by rank 0 rest of them do less I/O**"
   ]
  },
  {
   "cell_type": "markdown",
   "metadata": {},
   "source": [
    "### Bandwidth per request distribution\n",
    "We calculate the achived bandwidth per request size."
   ]
  },
  {
   "cell_type": "code",
   "execution_count": 68,
   "metadata": {},
   "outputs": [
    {
     "data": {
      "image/png": "[encoded data removed]",
      "text/plain": [
       "<Figure size 1152x288 with 1 Axes>"
      ]
     },
     "metadata": {
      "needs_background": "light"
     },
     "output_type": "display_data"
    },
    {
     "data": {
      "image/png": "[encoded data removed]",
      "text/plain": [
       "<Figure size 1152x288 with 1 Axes>"
      ]
     },
     "metadata": {
      "needs_background": "light"
     },
     "output_type": "display_data"
    },
    {
     "data": {
      "image/png": "[encoded data removed]",
      "text/plain": [
       "<Figure size 1152x288 with 1 Axes>"
      ]
     },
     "metadata": {
      "needs_background": "light"
     },
     "output_type": "display_data"
    },
    {
     "data": {
      "image/png": "[encoded data removed]",
      "text/plain": [
       "<Figure size 1152x288 with 1 Axes>"
      ]
     },
     "metadata": {
      "needs_background": "light"
     },
     "output_type": "display_data"
    },
    {
     "data": {
      "image/png": "[encoded data removed]",
      "text/plain": [
       "<Figure size 1152x288 with 1 Axes>"
      ]
     },
     "metadata": {
      "needs_background": "light"
     },
     "output_type": "display_data"
    },
    {
     "name": "stderr",
     "output_type": "stream",
     "text": [
      "No handles with labels found to put in legend.\n",
      "/var/tmp/ipykernel_83021/1534957091.py:27: UserWarning: Tight layout not applied. The left and right margins cannot be made large enough to accommodate all axes decorations. \n",
      "  fig.tight_layout()\n"
     ]
    }
   ],
   "source": [
    "ranks = range(40)\n",
    "ranks_str = []\n",
    "for rank in ranks:\n",
    "    ranks_str.append(str(rank))\n",
    "size_ranges = [0, 4*1024, 64*1024, 1024*1024, 16*1024*1024]\n",
    "request_size = [[]]*len(size_ranges)\n",
    "for i, val in enumerate(size_ranges):\n",
    "    request_size[i] = [0]*len(ranks)\n",
    "    for j,rank in enumerate(ranks):\n",
    "        \n",
    "        file_df_temp = io_ddf_read_write[io_ddf_read_write['rank'] == rank]\n",
    "        max_range = len(size_ranges)\n",
    "        if i < max_range - 1:\n",
    "            request_size[i][j] = file_df_temp[(file_df_temp['size'].ge(val)) & \n",
    "                                           (file_df_temp['size'].lt(size_ranges[i+1]))]['bandwidth'].mean()\n",
    "        else:\n",
    "            request_size[i][j] = file_df_temp[(file_df_temp['size'] >=size_ranges[i])]['bandwidth'].mean()\n",
    "#fig, ax = plt.subplots(figsize=(16,4))\n",
    "#width = 0.35\n",
    "#plt.figure()\n",
    "for i, val in enumerate(size_ranges):\n",
    "    plt.figure(figsize=(16,4))\n",
    "    rects1 = plt.bar(ranks_str, request_size[i], 0.35, label=str(i))\n",
    "    plt.show()\n",
    "ax.legend()\n",
    "\n",
    "fig.tight_layout()\n",
    "\n",
    "plt.show()"
   ]
  },
  {
   "cell_type": "markdown",
   "metadata": {},
   "source": [
    "**Larger Request sizes have larger bandwidth. However as 4KB write dominates the application I/O we see small bandwidth overall**"
   ]
  },
  {
   "cell_type": "markdown",
   "metadata": {},
   "source": [
    "### Overlapping of Compute and I/O"
   ]
  },
  {
   "cell_type": "code",
   "execution_count": 69,
   "metadata": {},
   "outputs": [
    {
     "data": {
      "text/plain": [
       "count    1280.0\n",
       "mean        1.0\n",
       "std         0.0\n",
       "min         1.0\n",
       "25%         1.0\n",
       "50%         1.0\n",
       "75%         1.0\n",
       "max         1.0\n",
       "Name: thread_id, dtype: float64"
      ]
     },
     "execution_count": 69,
     "metadata": {},
     "output_type": "execute_result"
    }
   ],
   "source": [
    "io_ddf.groupby('rank')['thread_id'].nunique().describe().compute()"
   ]
  },
  {
   "cell_type": "markdown",
   "metadata": {},
   "source": [
    "#### No additional threads means I/O is synchronous to compute. I.e. all I/O is unoverlapped."
   ]
  },
  {
   "cell_type": "markdown",
   "metadata": {},
   "source": [
    "### Timeline\n",
    "The timeline analysis shows how each rank performs I/O over the runtime of the applications"
   ]
  },
  {
   "cell_type": "code",
   "execution_count": 70,
   "metadata": {},
   "outputs": [],
   "source": [
    "time_step=10 # in seconds"
   ]
  },
  {
   "cell_type": "markdown",
   "metadata": {},
   "source": [
    "#### Request Size Timeline"
   ]
  },
  {
   "cell_type": "code",
   "execution_count": 71,
   "metadata": {},
   "outputs": [
    {
     "data": {
      "image/png": "[encoded data removed]",
      "text/plain": [
       "<Figure size 432x288 with 1 Axes>"
      ]
     },
     "metadata": {
      "needs_background": "light"
     },
     "output_type": "display_data"
    },
    {
     "data": {
      "text/plain": [
       "<BarContainer object of 112 artists>"
      ]
     },
     "execution_count": 71,
     "metadata": {},
     "output_type": "execute_result"
    },
    {
     "data": {
      "image/png": "[encoded data removed]",
      "text/plain": [
       "<Figure size 1152x288 with 1 Axes>"
      ]
     },
     "metadata": {
      "needs_background": "light"
     },
     "output_type": "display_data"
    }
   ],
   "source": [
    "import math\n",
    "values = np.arange(0, math.ceil(job_time), time_step)\n",
    "values_int = range(len(values))\n",
    "values_str = []\n",
    "timeline_ts = [0]*len(values_int)\n",
    "prev = 0\n",
    "for i in values_int:\n",
    "    values_str.append(str(i))\n",
    "    contains = (io_ddf_read_write['tstart'] >=prev) & (io_ddf_read_write['tend'] <values[i])\n",
    "    timeline_ts[i] = io_ddf_read_write[contains]['size'].sum()/1024.0/1024.0\n",
    "    prev = i\n",
    "plt.bar(values_str[:4], timeline_ts[:4])\n",
    "plt.show()\n",
    "plt.figure(figsize=(16,4))\n",
    "plt.bar(values_str[4:], timeline_ts[4:])"
   ]
  },
  {
   "cell_type": "markdown",
   "metadata": {
    "tags": [
     "Finding"
    ]
   },
   "source": [
    "**Most of the I/O (20GB) is performed in first 40 seconds and rest 1GB happens in the rest of the time**"
   ]
  },
  {
   "cell_type": "markdown",
   "metadata": {},
   "source": [
    "### Time Timeline"
   ]
  },
  {
   "cell_type": "code",
   "execution_count": 72,
   "metadata": {},
   "outputs": [
    {
     "data": {
      "image/png": "[encoded data removed]",
      "text/plain": [
       "<Figure size 432x288 with 1 Axes>"
      ]
     },
     "metadata": {
      "needs_background": "light"
     },
     "output_type": "display_data"
    },
    {
     "data": {
      "text/plain": [
       "<BarContainer object of 111 artists>"
      ]
     },
     "execution_count": 72,
     "metadata": {},
     "output_type": "execute_result"
    },
    {
     "data": {
      "image/png": "[encoded data removed]",
      "text/plain": [
       "<Figure size 1152x288 with 1 Axes>"
      ]
     },
     "metadata": {
      "needs_background": "light"
     },
     "output_type": "display_data"
    }
   ],
   "source": [
    "import math\n",
    "values = np.arange(0, math.ceil(job_time), time_step)\n",
    "values_int = range(len(values))\n",
    "timeline_ts = [0]*len(values_int)\n",
    "prev = 0\n",
    "values_str = []\n",
    "for i in values_int:\n",
    "    values_str.append(str(i))\n",
    "    contains = (io_ddf_read_write['tstart'] >=prev) & (io_ddf_read_write['tend'] <values[i])\n",
    "    timeline_ts[i] = io_ddf_read_write[contains]['duration'].sum()\n",
    "    prev = i\n",
    "plt.bar(values_str[:5], timeline_ts[:5])\n",
    "plt.show()\n",
    "plt.figure(figsize=(16,4))\n",
    "plt.bar(values_str[5:], timeline_ts[5:])"
   ]
  },
  {
   "cell_type": "markdown",
   "metadata": {},
   "source": [
    "#### Bandwidth Timeline"
   ]
  },
  {
   "cell_type": "code",
   "execution_count": 73,
   "metadata": {},
   "outputs": [
    {
     "data": {
      "image/png": "[encoded data removed]",
      "text/plain": [
       "<Figure size 432x288 with 1 Axes>"
      ]
     },
     "metadata": {
      "needs_background": "light"
     },
     "output_type": "display_data"
    },
    {
     "data": {
      "text/plain": [
       "<BarContainer object of 111 artists>"
      ]
     },
     "execution_count": 73,
     "metadata": {},
     "output_type": "execute_result"
    },
    {
     "data": {
      "image/png": "[encoded data removed]",
      "text/plain": [
       "<Figure size 1152x288 with 1 Axes>"
      ]
     },
     "metadata": {
      "needs_background": "light"
     },
     "output_type": "display_data"
    }
   ],
   "source": [
    "import math\n",
    "values = np.arange(0, math.ceil(job_time), time_step)\n",
    "values_int = range(len(values))\n",
    "timeline_ts = [0]*len(values_int)\n",
    "prev = 0\n",
    "values_str = []\n",
    "for i in values_int:\n",
    "    values_str.append(str(i))\n",
    "    contains = (io_ddf_read_write['tstart'] >=prev) & (io_ddf_read_write['tend'] <values[i])\n",
    "    timeline_ts[i] = io_ddf_read_write[contains]['bandwidth'].mean()/10.0\n",
    "    prev = i\n",
    "plt.bar(values_str[:5], timeline_ts[:5])\n",
    "plt.show()\n",
    "plt.figure(figsize=(16,4))\n",
    "plt.bar(values_str[5:], timeline_ts[5:])"
   ]
  },
  {
   "cell_type": "markdown",
   "metadata": {},
   "source": [
    "**This supports our previous observation as the bandwidth is the measure of I/O performance of the application.**"
   ]
  },
  {
   "cell_type": "markdown",
   "metadata": {},
   "source": [
    "#### Bandwidth Timeline Per Rank"
   ]
  },
  {
   "cell_type": "code",
   "execution_count": 74,
   "metadata": {},
   "outputs": [
    {
     "name": "stdout",
     "output_type": "stream",
     "text": [
      "rank 0\n"
     ]
    },
    {
     "data": {
      "image/png": "[encoded data removed]",
      "text/plain": [
       "<Figure size 1152x288 with 1 Axes>"
      ]
     },
     "metadata": {
      "needs_background": "light"
     },
     "output_type": "display_data"
    },
    {
     "name": "stdout",
     "output_type": "stream",
     "text": [
      "rank 4\n"
     ]
    },
    {
     "data": {
      "image/png": "[encoded data removed]",
      "text/plain": [
       "<Figure size 432x288 with 1 Axes>"
      ]
     },
     "metadata": {
      "needs_background": "light"
     },
     "output_type": "display_data"
    },
    {
     "name": "stdout",
     "output_type": "stream",
     "text": [
      "rank 8\n"
     ]
    },
    {
     "data": {
      "image/png": "[encoded data removed]",
      "text/plain": [
       "<Figure size 432x288 with 1 Axes>"
      ]
     },
     "metadata": {
      "needs_background": "light"
     },
     "output_type": "display_data"
    },
    {
     "name": "stdout",
     "output_type": "stream",
     "text": [
      "rank 12\n"
     ]
    },
    {
     "data": {
      "image/png": "[encoded data removed]",
      "text/plain": [
       "<Figure size 432x288 with 1 Axes>"
      ]
     },
     "metadata": {
      "needs_background": "light"
     },
     "output_type": "display_data"
    },
    {
     "name": "stdout",
     "output_type": "stream",
     "text": [
      "rank 20\n"
     ]
    },
    {
     "data": {
      "image/png": "[encoded data removed]",
      "text/plain": [
       "<Figure size 432x288 with 1 Axes>"
      ]
     },
     "metadata": {
      "needs_background": "light"
     },
     "output_type": "display_data"
    }
   ],
   "source": [
    "import math\n",
    "\n",
    "selected_rank = [0, 4, 8, 12, 20]\n",
    "\n",
    "plt.figure(figsize=(16,4))\n",
    "for rank in selected_rank:\n",
    "    io_df_rank = io_ddf_read_write[io_ddf_read_write['rank'] == rank]\n",
    "    values = np.arange(0, math.ceil(job_time), time_step)\n",
    "    values_int = range(len(values))\n",
    "    timeline_ts = [0]*len(values_int)\n",
    "    value_str = []\n",
    "    prev = 0\n",
    "    for i in values_int:\n",
    "        value_str.append(str(values[i]))\n",
    "        contains = (io_df_rank['tstart'] >=prev) & (io_df_rank['tend'] <values[i])\n",
    "        timeline_ts[i] = io_df_rank[contains]['bandwidth'].mean()\n",
    "        prev = i\n",
    "    print(\"rank {}\".format(rank))\n",
    "    plt.bar(value_str, timeline_ts)\n",
    "    plt.show()"
   ]
  },
  {
   "cell_type": "markdown",
   "metadata": {
    "tags": [
     "Finding"
    ]
   },
   "source": [
    "**Most I/O happens in the first 40 sec and most bandwidth is achieved from PFS**"
   ]
  },
  {
   "cell_type": "markdown",
   "metadata": {},
   "source": [
    "#### Request Size Timeline per Rank"
   ]
  },
  {
   "cell_type": "code",
   "execution_count": 75,
   "metadata": {},
   "outputs": [
    {
     "name": "stdout",
     "output_type": "stream",
     "text": [
      "rank 0\n"
     ]
    },
    {
     "data": {
      "image/png": "[encoded data removed]",
      "text/plain": [
       "<Figure size 1152x288 with 1 Axes>"
      ]
     },
     "metadata": {
      "needs_background": "light"
     },
     "output_type": "display_data"
    },
    {
     "name": "stdout",
     "output_type": "stream",
     "text": [
      "rank 4\n"
     ]
    },
    {
     "data": {
      "image/png": "[encoded data removed]",
      "text/plain": [
       "<Figure size 1152x288 with 1 Axes>"
      ]
     },
     "metadata": {
      "needs_background": "light"
     },
     "output_type": "display_data"
    },
    {
     "name": "stdout",
     "output_type": "stream",
     "text": [
      "rank 8\n"
     ]
    },
    {
     "data": {
      "image/png": "[encoded data removed]",
      "text/plain": [
       "<Figure size 1152x288 with 1 Axes>"
      ]
     },
     "metadata": {
      "needs_background": "light"
     },
     "output_type": "display_data"
    },
    {
     "name": "stdout",
     "output_type": "stream",
     "text": [
      "rank 12\n"
     ]
    },
    {
     "data": {
      "image/png": "[encoded data removed]",
      "text/plain": [
       "<Figure size 1152x288 with 1 Axes>"
      ]
     },
     "metadata": {
      "needs_background": "light"
     },
     "output_type": "display_data"
    },
    {
     "name": "stdout",
     "output_type": "stream",
     "text": [
      "rank 20\n"
     ]
    },
    {
     "data": {
      "image/png": "[encoded data removed]",
      "text/plain": [
       "<Figure size 1152x288 with 1 Axes>"
      ]
     },
     "metadata": {
      "needs_background": "light"
     },
     "output_type": "display_data"
    }
   ],
   "source": [
    "import math\n",
    "selected_rank = [0, 4, 8, 12, 20]\n",
    "for rank in selected_rank:\n",
    "    io_df_rank = io_ddf_read_write[io_ddf_read_write['rank'] == rank]\n",
    "    values = np.arange(0, math.ceil(job_time), time_step)\n",
    "    values_int = range(len(values))\n",
    "    timeline_ts = [0]*len(values_int)\n",
    "    value_str = []\n",
    "    prev = 0\n",
    "    for i in values_int:\n",
    "        value_str.append(str(i))\n",
    "        contains = (io_df_rank['tstart'] >=prev) & (io_df_rank['tend'] <values[i])\n",
    "        timeline_ts[i] = io_df_rank[contains]['size'].sum()/1024.0/1024.0\n",
    "        prev = i\n",
    "    print(\"rank {}\".format(rank))\n",
    "    plt.figure(figsize=(16,4))\n",
    "    plt.bar(value_str, timeline_ts)\n",
    "    plt.show()"
   ]
  },
  {
   "cell_type": "markdown",
   "metadata": {
    "tags": [
     "Finding"
    ]
   },
   "source": [
    "**Only rank 0 does I/O throughout the time. Rest perform read in first 40 seconds and perform computations.** "
   ]
  },
  {
   "cell_type": "markdown",
   "metadata": {},
   "source": [
    "## Find file which are independent or shared\n",
    "- Make all thread id start from 0 and unique across ranks\n",
    "- Group by filename nunique thread_id\n",
    "- Find all filename with nunique > 1"
   ]
  },
  {
   "cell_type": "code",
   "execution_count": 76,
   "metadata": {},
   "outputs": [],
   "source": [
    "thread_index_series = io_ddf.groupby(['rank', 'thread_id'])['thread_id'].nunique().cumsum().compute()"
   ]
  },
  {
   "cell_type": "code",
   "execution_count": 77,
   "metadata": {},
   "outputs": [],
   "source": [
    "io_ddf['thread_index'] = 0\n",
    "for index,item in thread_index_series.iteritems():\n",
    "    condition = (io_ddf['rank'] == index[0]) & (io_ddf['thread_id'] == index[1])\n",
    "    io_ddf['thread_index'] = io_ddf['thread_index'].mask(condition , item - 1)"
   ]
  },
  {
   "cell_type": "code",
   "execution_count": 78,
   "metadata": {},
   "outputs": [
    {
     "name": "stdout",
     "output_type": "stream",
     "text": [
      "We have 1280 threads across 1280 ranks\n"
     ]
    }
   ],
   "source": [
    "threads = io_ddf['thread_index'].nunique().compute()\n",
    "print(\"We have {} threads across {} ranks\".format(threads, num_ranks))"
   ]
  },
  {
   "cell_type": "code",
   "execution_count": 79,
   "metadata": {},
   "outputs": [],
   "source": [
    "filename_series = io_ddf[io_ddf['filename'].str.contains('/p/gpfs1')].groupby(['filename'])['thread_index'].nunique().compute()"
   ]
  },
  {
   "cell_type": "code",
   "execution_count": 80,
   "metadata": {
    "tags": [
     "Finding"
    ]
   },
   "outputs": [
    {
     "name": "stdout",
     "output_type": "stream",
     "text": [
      "737 files that are accessed by application by only one rank\n"
     ]
    }
   ],
   "source": [
    "independent_files = filename_series[filename_series == 1]\n",
    "print(\"{} files that are accessed by application by only one rank\".format(len(independent_files)))"
   ]
  },
  {
   "cell_type": "code",
   "execution_count": 81,
   "metadata": {
    "tags": [
     "Finding"
    ]
   },
   "outputs": [
    {
     "name": "stdout",
     "output_type": "stream",
     "text": [
      "37 files that are accessed by application by more than one rank\n"
     ]
    }
   ],
   "source": [
    "shared_files = filename_series[filename_series > 1]\n",
    "print(\"{} files that are accessed by application by more than one rank\".format(len(shared_files)))"
   ]
  },
  {
   "cell_type": "markdown",
   "metadata": {
    "tags": [
     "Finding"
    ]
   },
   "source": [
    "This application doesnt share files. That is it follows a File per process pattern."
   ]
  },
  {
   "cell_type": "markdown",
   "metadata": {},
   "source": [
    "### Data Flow\n",
    "We plot how different ranks in the job are accessing data."
   ]
  },
  {
   "cell_type": "code",
   "execution_count": 82,
   "metadata": {},
   "outputs": [],
   "source": [
    "import graphviz\n",
    "dot = graphviz.Digraph()\n",
    "selected_indices = range(4)\n",
    "for selected_index in selected_indices:\n",
    "    selected_shared_file = shared_files.index[selected_index]\n",
    "    io_access_rank = io_ddf[io_ddf['filename'] == selected_shared_file].groupby(['rank','func_id'])['func_id'].count().compute()\n",
    "    dot.node(selected_shared_file)\n",
    "    for index,item in io_access_rank.iteritems():\n",
    "        rank = index[0]\n",
    "        func_id = index[1]\n",
    "        count = item\n",
    "        dot.node(str(rank))\n",
    "        dot.node(func_id)\n",
    "        dot.edge(str(rank),func_id)\n",
    "        if \"read\" in func_id:\n",
    "            dot.edge(selected_shared_file, func_id, label=str(count))\n",
    "        else:\n",
    "            dot.edge(func_id,selected_shared_file, label=str(count))"
   ]
  },
  {
   "cell_type": "code",
   "execution_count": 83,
   "metadata": {},
   "outputs": [
    {
     "data": {
      "image/svg+xml": [
       "<?xml version=\"1.0\" encoding=\"UTF-8\" standalone=\"no\"?>\n",
       "<!DOCTYPE svg PUBLIC \"-//W3C//DTD SVG 1.1//EN\"\n",
       " \"http://www.w3.org/Graphics/SVG/1.1/DTD/svg11.dtd\">\n",
       "<!-- Generated by graphviz version 2.42.3 (20191010.1750)\n",
       " -->\n",
       "<!-- Title: %3 Pages: 1 -->\n",
       "<svg width=\"7888pt\" height=\"204pt\"\n",
       " viewBox=\"0.00 0.00 7888.49 204.00\" xmlns=\"http://www.w3.org/2000/svg\" xmlns:xlink=\"http://www.w3.org/1999/xlink\">\n",
       "<g id=\"graph0\" class=\"graph\" transform=\"scale(1 1) rotate(0) translate(4 200)\">\n",
       "<title>%3</title>\n",
       "<polygon fill=\"white\" stroke=\"transparent\" points=\"-4,4 -4,-200 7884.49,-200 7884.49,4 -4,4\"/>\n",
       "<!-- /p/gpfs1/iopp/temp/cm1r20.3.2846829/config_files/les_HurrBoundLayer/cm1out_000001_s.dat -->\n",
       "<g id=\"node1\" class=\"node\">\n",
       "<title>/p/gpfs1/iopp/temp/cm1r20.3.2846829/config_files/les_HurrBoundLayer/cm1out_000001_s.dat</title>\n",
       "<ellipse fill=\"none\" stroke=\"black\" cx=\"778.49\" cy=\"-18\" rx=\"451.92\" ry=\"18\"/>\n",
       "<text text-anchor=\"middle\" x=\"778.49\" y=\"-14.3\" font-family=\"Times,serif\" font-size=\"14.00\">/p/gpfs1/iopp/temp/cm1r20.3.2846829/config_files/les_HurrBoundLayer/cm1out_000001_s.dat</text>\n",
       "</g>\n",
       "<!-- 0 -->\n",
       "<g id=\"node2\" class=\"node\">\n",
       "<title>0</title>\n",
       "<ellipse fill=\"none\" stroke=\"black\" cx=\"6213.49\" cy=\"-178\" rx=\"27\" ry=\"18\"/>\n",
       "<text text-anchor=\"middle\" x=\"6213.49\" y=\"-174.3\" font-family=\"Times,serif\" font-size=\"14.00\">0</text>\n",
       "</g>\n",
       "<!-- close -->\n",
       "<g id=\"node3\" class=\"node\">\n",
       "<title>close</title>\n",
       "<ellipse fill=\"none\" stroke=\"black\" cx=\"2978.49\" cy=\"-105\" rx=\"34.39\" ry=\"18\"/>\n",
       "<text text-anchor=\"middle\" x=\"2978.49\" y=\"-101.3\" font-family=\"Times,serif\" font-size=\"14.00\">close</text>\n",
       "</g>\n",
       "<!-- 0&#45;&gt;close -->\n",
       "<g id=\"edge1\" class=\"edge\">\n",
       "<title>0&#45;&gt;close</title>\n",
       "<path fill=\"none\" stroke=\"black\" d=\"M6186.67,-175.32C6148.13,-171.8 6084.83,-163.67 6031.49,-160 5732.97,-139.45 5657.66,-147.4 5358.49,-141 4414.65,-120.82 3262.36,-109 3022.93,-106.5\"/>\n",
       "<polygon fill=\"black\" stroke=\"black\" points=\"3022.9,-103 3012.86,-106.4 3022.82,-110 3022.9,-103\"/>\n",
       "</g>\n",
       "<!-- 0&#45;&gt;close -->\n",
       "<g id=\"edge97\" class=\"edge\">\n",
       "<title>0&#45;&gt;close</title>\n",
       "<path fill=\"none\" stroke=\"black\" d=\"M6187.06,-174.21C6154.36,-170.31 6097.84,-163.33 6049.49,-160 5750.97,-139.45 5675.66,-147.4 5376.49,-141 4425.44,-120.66 3262.76,-108.82 3022.95,-106.45\"/>\n",
       "<polygon fill=\"black\" stroke=\"black\" points=\"3022.91,-102.94 3012.87,-106.35 3022.84,-109.94 3022.91,-102.94\"/>\n",
       "</g>\n",
       "<!-- 0&#45;&gt;close -->\n",
       "<g id=\"edge225\" class=\"edge\">\n",
       "<title>0&#45;&gt;close</title>\n",
       "<path fill=\"none\" stroke=\"black\" d=\"M6187.55,-172.61C6158.28,-168.62 6109.76,-162.91 6067.49,-160 5768.97,-139.45 5693.66,-147.4 5394.49,-141 4436.75,-120.52 3264.39,-108.65 3023.11,-106.4\"/>\n",
       "<polygon fill=\"black\" stroke=\"black\" points=\"3023,-102.9 3012.97,-106.3 3022.94,-109.9 3023,-102.9\"/>\n",
       "</g>\n",
       "<!-- 0&#45;&gt;close -->\n",
       "<g id=\"edge353\" class=\"edge\">\n",
       "<title>0&#45;&gt;close</title>\n",
       "<path fill=\"none\" stroke=\"black\" d=\"M6188.62,-170.71C6161.85,-166.96 6121.41,-162.47 6085.49,-160 5786.97,-139.45 5711.66,-147.4 5412.49,-141 4448.58,-120.39 3267.26,-108.5 3023.39,-106.35\"/>\n",
       "<polygon fill=\"black\" stroke=\"black\" points=\"3023.16,-102.85 3013.13,-106.26 3023.1,-109.85 3023.16,-102.85\"/>\n",
       "</g>\n",
       "<!-- open -->\n",
       "<g id=\"node4\" class=\"node\">\n",
       "<title>open</title>\n",
       "<ellipse fill=\"none\" stroke=\"black\" cx=\"5166.49\" cy=\"-105\" rx=\"33.29\" ry=\"18\"/>\n",
       "<text text-anchor=\"middle\" x=\"5166.49\" y=\"-101.3\" font-family=\"Times,serif\" font-size=\"14.00\">open</text>\n",
       "</g>\n",
       "<!-- 0&#45;&gt;open -->\n",
       "<g id=\"edge3\" class=\"edge\">\n",
       "<title>0&#45;&gt;open</title>\n",
       "<path fill=\"none\" stroke=\"black\" d=\"M6189.23,-169.86C6173.94,-161.19 6160.64,-147.01 6145.49,-141 6056.9,-105.85 5388.76,-105.19 5209.85,-105.76\"/>\n",
       "<polygon fill=\"black\" stroke=\"black\" points=\"5209.74,-102.26 5199.75,-105.8 5209.76,-109.26 5209.74,-102.26\"/>\n",
       "</g>\n",
       "<!-- 0&#45;&gt;open -->\n",
       "<g id=\"edge99\" class=\"edge\">\n",
       "<title>0&#45;&gt;open</title>\n",
       "<path fill=\"none\" stroke=\"black\" d=\"M6195.55,-164.18C6186.61,-155.9 6175.65,-145.82 6163.49,-141 6073.81,-105.42 5390.15,-105.18 5209.89,-105.79\"/>\n",
       "<polygon fill=\"black\" stroke=\"black\" points=\"5209.71,-102.29 5199.72,-105.82 5209.74,-109.29 5209.71,-102.29\"/>\n",
       "</g>\n",
       "<!-- 0&#45;&gt;open -->\n",
       "<g id=\"edge227\" class=\"edge\">\n",
       "<title>0&#45;&gt;open</title>\n",
       "<path fill=\"none\" stroke=\"black\" d=\"M6207.45,-160.11C6201.08,-152.82 6191.71,-145.05 6181.49,-141 6090.77,-105.01 5392.21,-105.18 5209.85,-105.81\"/>\n",
       "<polygon fill=\"black\" stroke=\"black\" points=\"5209.81,-102.31 5199.83,-105.84 5209.84,-109.31 5209.81,-102.31\"/>\n",
       "</g>\n",
       "<!-- 0&#45;&gt;open -->\n",
       "<g id=\"edge355\" class=\"edge\">\n",
       "<title>0&#45;&gt;open</title>\n",
       "<path fill=\"none\" stroke=\"black\" d=\"M6224.67,-161.61C6220.37,-153.91 6210.41,-145.33 6199.49,-141 6107.82,-104.63 5395.57,-105.19 5209.98,-105.83\"/>\n",
       "<polygon fill=\"black\" stroke=\"black\" points=\"5209.76,-102.33 5199.77,-105.86 5209.78,-109.33 5209.76,-102.33\"/>\n",
       "</g>\n",
       "<!-- write -->\n",
       "<g id=\"node5\" class=\"node\">\n",
       "<title>write</title>\n",
       "<ellipse fill=\"none\" stroke=\"black\" cx=\"7041.49\" cy=\"-105\" rx=\"35.19\" ry=\"18\"/>\n",
       "<text text-anchor=\"middle\" x=\"7041.49\" y=\"-101.3\" font-family=\"Times,serif\" font-size=\"14.00\">write</text>\n",
       "</g>\n",
       "<!-- 0&#45;&gt;write -->\n",
       "<g id=\"edge5\" class=\"edge\">\n",
       "<title>0&#45;&gt;write</title>\n",
       "<path fill=\"none\" stroke=\"black\" d=\"M6237.45,-169.38C6256.94,-166.15 6282.96,-162.56 6306.49,-160 6565.83,-131.77 6880.19,-113.31 6996.66,-107.76\"/>\n",
       "<polygon fill=\"black\" stroke=\"black\" points=\"6996.83,-111.26 7006.66,-107.29 6996.51,-104.26 6996.83,-111.26\"/>\n",
       "</g>\n",
       "<!-- 0&#45;&gt;write -->\n",
       "<g id=\"edge101\" class=\"edge\">\n",
       "<title>0&#45;&gt;write</title>\n",
       "<path fill=\"none\" stroke=\"black\" d=\"M6239.03,-171.73C6261.59,-168.04 6295,-163.21 6324.49,-160 6577.62,-132.45 6883.19,-114.2 6996.51,-108.18\"/>\n",
       "<polygon fill=\"black\" stroke=\"black\" points=\"6996.75,-111.67 7006.56,-107.65 6996.39,-104.68 6996.75,-111.67\"/>\n",
       "</g>\n",
       "<!-- 0&#45;&gt;write -->\n",
       "<g id=\"edge229\" class=\"edge\">\n",
       "<title>0&#45;&gt;write</title>\n",
       "<path fill=\"none\" stroke=\"black\" d=\"M6239.81,-173.78C6266.17,-170.02 6307.14,-163.85 6342.49,-160 6589.14,-133.15 6885.56,-115.14 6996.68,-108.67\"/>\n",
       "<polygon fill=\"black\" stroke=\"black\" points=\"6997.07,-112.15 7006.85,-108.08 6996.66,-105.16 6997.07,-112.15\"/>\n",
       "</g>\n",
       "<!-- 0&#45;&gt;write -->\n",
       "<g id=\"edge357\" class=\"edge\">\n",
       "<title>0&#45;&gt;write</title>\n",
       "<path fill=\"none\" stroke=\"black\" d=\"M6240.32,-175.16C6272.91,-171.75 6320.33,-164.37 6360.49,-160 6600.31,-133.9 6887.19,-116.15 6996.99,-109.23\"/>\n",
       "<polygon fill=\"black\" stroke=\"black\" points=\"6997.3,-112.72 7007.06,-108.6 6996.86,-105.73 6997.3,-112.72\"/>\n",
       "</g>\n",
       "<!-- close&#45;&gt;/p/gpfs1/iopp/temp/cm1r20.3.2846829/config_files/les_HurrBoundLayer/cm1out_000001_s.dat -->\n",
       "<g id=\"edge2\" class=\"edge\">\n",
       "<title>close&#45;&gt;/p/gpfs1/iopp/temp/cm1r20.3.2846829/config_files/les_HurrBoundLayer/cm1out_000001_s.dat</title>\n",
       "<path fill=\"none\" stroke=\"black\" d=\"M2943.87,-103.92C2617.7,-103.1 96.06,-95.88 69.49,-69 64.81,-64.26 64.9,-58.83 69.49,-54 81.67,-41.21 225.04,-32.86 379.71,-27.53\"/>\n",
       "<polygon fill=\"black\" stroke=\"black\" points=\"380.03,-31.02 389.91,-27.19 379.8,-24.03 380.03,-31.02\"/>\n",
       "<text text-anchor=\"middle\" x=\"74.49\" y=\"-57.8\" font-family=\"Times,serif\" font-size=\"14.00\">1</text>\n",
       "</g>\n",
       "<!-- close&#45;&gt;/p/gpfs1/iopp/temp/cm1r20.3.2846829/config_files/les_HurrBoundLayer/cm1out_000001_s.dat -->\n",
       "<g id=\"edge8\" class=\"edge\">\n",
       "<title>close&#45;&gt;/p/gpfs1/iopp/temp/cm1r20.3.2846829/config_files/les_HurrBoundLayer/cm1out_000001_s.dat</title>\n",
       "<path fill=\"none\" stroke=\"black\" d=\"M2944.01,-103.91C2620.49,-103.05 128.75,-95.57 102.49,-69 97.81,-64.26 97.9,-58.83 102.49,-54 113.92,-41.97 246.75,-33.75 391.69,-28.31\"/>\n",
       "<polygon fill=\"black\" stroke=\"black\" points=\"391.83,-31.81 401.7,-27.94 391.57,-24.81 391.83,-31.81\"/>\n",
       "<text text-anchor=\"middle\" x=\"107.49\" y=\"-57.8\" font-family=\"Times,serif\" font-size=\"14.00\">1</text>\n",
       "</g>\n",
       "<!-- close&#45;&gt;/p/gpfs1/iopp/temp/cm1r20.3.2846829/config_files/les_HurrBoundLayer/cm1out_000001_s.dat -->\n",
       "<g id=\"edge12\" class=\"edge\">\n",
       "<title>close&#45;&gt;/p/gpfs1/iopp/temp/cm1r20.3.2846829/config_files/les_HurrBoundLayer/cm1out_000001_s.dat</title>\n",
       "<path fill=\"none\" stroke=\"black\" d=\"M2943.91,-103.91C2622.03,-103.01 161.43,-95.26 135.49,-69 130.81,-64.26 130.91,-58.84 135.49,-54 146.18,-42.72 268.94,-34.63 404.38,-29.09\"/>\n",
       "<polygon fill=\"black\" stroke=\"black\" points=\"404.72,-32.58 414.57,-28.68 404.44,-25.59 404.72,-32.58\"/>\n",
       "<text text-anchor=\"middle\" x=\"140.49\" y=\"-57.8\" font-family=\"Times,serif\" font-size=\"14.00\">1</text>\n",
       "</g>\n",
       "<!-- close&#45;&gt;/p/gpfs1/iopp/temp/cm1r20.3.2846829/config_files/les_HurrBoundLayer/cm1out_000001_s.dat -->\n",
       "<g id=\"edge16\" class=\"edge\">\n",
       "<title>close&#45;&gt;/p/gpfs1/iopp/temp/cm1r20.3.2846829/config_files/les_HurrBoundLayer/cm1out_000001_s.dat</title>\n",
       "<path fill=\"none\" stroke=\"black\" d=\"M2944.06,-103.9C2624.89,-102.96 194.12,-94.95 168.49,-69 163.81,-64.26 163.92,-58.85 168.49,-54 178.49,-43.42 292.08,-35.47 418.58,-29.85\"/>\n",
       "<polygon fill=\"black\" stroke=\"black\" points=\"419.05,-33.34 428.89,-29.4 418.74,-26.34 419.05,-33.34\"/>\n",
       "<text text-anchor=\"middle\" x=\"173.49\" y=\"-57.8\" font-family=\"Times,serif\" font-size=\"14.00\">1</text>\n",
       "</g>\n",
       "<!-- close&#45;&gt;/p/gpfs1/iopp/temp/cm1r20.3.2846829/config_files/les_HurrBoundLayer/cm1out_000001_s.dat -->\n",
       "<g id=\"edge20\" class=\"edge\">\n",
       "<title>close&#45;&gt;/p/gpfs1/iopp/temp/cm1r20.3.2846829/config_files/les_HurrBoundLayer/cm1out_000001_s.dat</title>\n",
       "<path fill=\"none\" stroke=\"black\" d=\"M2943.72,-103.9C2625.28,-102.91 226.8,-94.62 201.49,-69 196.81,-64.26 196.93,-58.85 201.49,-54 210.82,-44.09 315.82,-36.3 433.75,-30.6\"/>\n",
       "<polygon fill=\"black\" stroke=\"black\" points=\"434.27,-34.08 444.09,-30.11 433.94,-27.09 434.27,-34.08\"/>\n",
       "<text text-anchor=\"middle\" x=\"206.49\" y=\"-57.8\" font-family=\"Times,serif\" font-size=\"14.00\">1</text>\n",
       "</g>\n",
       "<!-- close&#45;&gt;/p/gpfs1/iopp/temp/cm1r20.3.2846829/config_files/les_HurrBoundLayer/cm1out_000001_s.dat -->\n",
       "<g id=\"edge22\" class=\"edge\">\n",
       "<title>close&#45;&gt;/p/gpfs1/iopp/temp/cm1r20.3.2846829/config_files/les_HurrBoundLayer/cm1out_000001_s.dat</title>\n",
       "<path fill=\"none\" stroke=\"black\" d=\"M2943.64,-103.89C2627,-102.86 259.48,-94.31 234.49,-69 229.81,-64.26 229.93,-58.86 234.49,-54 246.8,-40.88 299.75,-32.47 368.14,-27.12\"/>\n",
       "<polygon fill=\"black\" stroke=\"black\" points=\"368.63,-30.59 378.34,-26.35 368.1,-23.61 368.63,-30.59\"/>\n",
       "<text text-anchor=\"middle\" x=\"239.49\" y=\"-57.8\" font-family=\"Times,serif\" font-size=\"14.00\">1</text>\n",
       "</g>\n",
       "<!-- close&#45;&gt;/p/gpfs1/iopp/temp/cm1r20.3.2846829/config_files/les_HurrBoundLayer/cm1out_000001_s.dat -->\n",
       "<g id=\"edge24\" class=\"edge\">\n",
       "<title>close&#45;&gt;/p/gpfs1/iopp/temp/cm1r20.3.2846829/config_files/les_HurrBoundLayer/cm1out_000001_s.dat</title>\n",
       "<path fill=\"none\" stroke=\"black\" d=\"M2944.05,-103.89C2631.23,-102.82 292.18,-94.01 267.49,-69 262.81,-64.26 262.94,-58.87 267.49,-54 278.78,-41.91 326.66,-33.89 388.92,-28.6\"/>\n",
       "<polygon fill=\"black\" stroke=\"black\" points=\"389.35,-32.08 399.03,-27.78 388.78,-25.1 389.35,-32.08\"/>\n",
       "<text text-anchor=\"middle\" x=\"272.49\" y=\"-57.8\" font-family=\"Times,serif\" font-size=\"14.00\">1</text>\n",
       "</g>\n",
       "<!-- close&#45;&gt;/p/gpfs1/iopp/temp/cm1r20.3.2846829/config_files/les_HurrBoundLayer/cm1out_000001_s.dat -->\n",
       "<g id=\"edge28\" class=\"edge\">\n",
       "<title>close&#45;&gt;/p/gpfs1/iopp/temp/cm1r20.3.2846829/config_files/les_HurrBoundLayer/cm1out_000001_s.dat</title>\n",
       "<path fill=\"none\" stroke=\"black\" d=\"M2943.99,-103.88C2633.04,-102.77 324.86,-93.69 300.49,-69 295.81,-64.26 295.96,-58.88 300.49,-54 310.89,-42.82 354.6,-35.17 411.67,-29.95\"/>\n",
       "<polygon fill=\"black\" stroke=\"black\" points=\"412.05,-33.43 421.7,-29.07 411.43,-26.46 412.05,-33.43\"/>\n",
       "<text text-anchor=\"middle\" x=\"305.49\" y=\"-57.8\" font-family=\"Times,serif\" font-size=\"14.00\">1</text>\n",
       "</g>\n",
       "<!-- close&#45;&gt;/p/gpfs1/iopp/temp/cm1r20.3.2846829/config_files/les_HurrBoundLayer/cm1out_000001_s.dat -->\n",
       "<g id=\"edge32\" class=\"edge\">\n",
       "<title>close&#45;&gt;/p/gpfs1/iopp/temp/cm1r20.3.2846829/config_files/les_HurrBoundLayer/cm1out_000001_s.dat</title>\n",
       "<path fill=\"none\" stroke=\"black\" d=\"M2943.93,-103.88C2634.91,-102.72 357.55,-93.38 333.49,-69 328.81,-64.25 328.97,-58.9 333.49,-54 343.11,-43.6 383.49,-36.29 436.3,-31.15\"/>\n",
       "<polygon fill=\"black\" stroke=\"black\" points=\"436.67,-34.63 446.3,-30.21 436.01,-27.66 436.67,-34.63\"/>\n",
       "<text text-anchor=\"middle\" x=\"338.49\" y=\"-57.8\" font-family=\"Times,serif\" font-size=\"14.00\">1</text>\n",
       "</g>\n",
       "<!-- close&#45;&gt;/p/gpfs1/iopp/temp/cm1r20.3.2846829/config_files/les_HurrBoundLayer/cm1out_000001_s.dat -->\n",
       "<g id=\"edge34\" class=\"edge\">\n",
       "<title>close&#45;&gt;/p/gpfs1/iopp/temp/cm1r20.3.2846829/config_files/les_HurrBoundLayer/cm1out_000001_s.dat</title>\n",
       "<path fill=\"none\" stroke=\"black\" d=\"M2943.88,-103.87C2636.84,-102.67 390.23,-93.06 366.49,-69 361.81,-64.25 361.98,-58.91 366.49,-54 375.4,-44.3 413.04,-37.29 462.2,-32.22\"/>\n",
       "<polygon fill=\"black\" stroke=\"black\" points=\"462.58,-35.7 472.18,-31.23 461.89,-28.73 462.58,-35.7\"/>\n",
       "<text text-anchor=\"middle\" x=\"371.49\" y=\"-57.8\" font-family=\"Times,serif\" font-size=\"14.00\">1</text>\n",
       "</g>\n",
       "<!-- close&#45;&gt;/p/gpfs1/iopp/temp/cm1r20.3.2846829/config_files/les_HurrBoundLayer/cm1out_000001_s.dat -->\n",
       "<g id=\"edge36\" class=\"edge\">\n",
       "<title>close&#45;&gt;/p/gpfs1/iopp/temp/cm1r20.3.2846829/config_files/les_HurrBoundLayer/cm1out_000001_s.dat</title>\n",
       "<path fill=\"none\" stroke=\"black\" d=\"M2943.84,-103.86C2638.83,-102.62 422.92,-92.75 399.49,-69 382.32,-51.59 406.43,-40.07 449.48,-32.47\"/>\n",
       "<polygon fill=\"black\" stroke=\"black\" points=\"450.26,-35.89 459.56,-30.82 449.12,-28.99 450.26,-35.89\"/>\n",
       "<text text-anchor=\"middle\" x=\"404.49\" y=\"-57.8\" font-family=\"Times,serif\" font-size=\"14.00\">1</text>\n",
       "</g>\n",
       "<!-- close&#45;&gt;/p/gpfs1/iopp/temp/cm1r20.3.2846829/config_files/les_HurrBoundLayer/cm1out_000001_s.dat -->\n",
       "<g id=\"edge38\" class=\"edge\">\n",
       "<title>close&#45;&gt;/p/gpfs1/iopp/temp/cm1r20.3.2846829/config_files/les_HurrBoundLayer/cm1out_000001_s.dat</title>\n",
       "<path fill=\"none\" stroke=\"black\" d=\"M2943.81,-103.86C2640.88,-102.56 455.61,-92.43 432.49,-69 416,-52.28 441.11,-41.1 484.16,-33.64\"/>\n",
       "<polygon fill=\"black\" stroke=\"black\" points=\"484.92,-37.06 494.23,-32.01 483.8,-30.15 484.92,-37.06\"/>\n",
       "<text text-anchor=\"middle\" x=\"437.49\" y=\"-57.8\" font-family=\"Times,serif\" font-size=\"14.00\">1</text>\n",
       "</g>\n",
       "<!-- close&#45;&gt;/p/gpfs1/iopp/temp/cm1r20.3.2846829/config_files/les_HurrBoundLayer/cm1out_000001_s.dat -->\n",
       "<g id=\"edge42\" class=\"edge\">\n",
       "<title>close&#45;&gt;/p/gpfs1/iopp/temp/cm1r20.3.2846829/config_files/les_HurrBoundLayer/cm1out_000001_s.dat</title>\n",
       "<path fill=\"none\" stroke=\"black\" d=\"M2943.78,-103.85C2642.99,-102.51 488.29,-92.12 465.49,-69 449.69,-52.97 475.95,-42.08 519.01,-34.68\"/>\n",
       "<polygon fill=\"black\" stroke=\"black\" points=\"519.74,-38.11 529.06,-33.06 518.63,-31.2 519.74,-38.11\"/>\n",
       "<text text-anchor=\"middle\" x=\"470.49\" y=\"-57.8\" font-family=\"Times,serif\" font-size=\"14.00\">1</text>\n",
       "</g>\n",
       "<!-- close&#45;&gt;/p/gpfs1/iopp/temp/cm1r20.3.2846829/config_files/les_HurrBoundLayer/cm1out_000001_s.dat -->\n",
       "<g id=\"edge44\" class=\"edge\">\n",
       "<title>close&#45;&gt;/p/gpfs1/iopp/temp/cm1r20.3.2846829/config_files/les_HurrBoundLayer/cm1out_000001_s.dat</title>\n",
       "<path fill=\"none\" stroke=\"black\" d=\"M2943.77,-103.84C2645.17,-102.46 520.98,-91.8 498.49,-69 483.35,-53.64 511.17,-42.93 554.39,-35.5\"/>\n",
       "<polygon fill=\"black\" stroke=\"black\" points=\"555.14,-38.93 564.45,-33.87 554.02,-32.02 555.14,-38.93\"/>\n",
       "<text text-anchor=\"middle\" x=\"503.49\" y=\"-57.8\" font-family=\"Times,serif\" font-size=\"14.00\">1</text>\n",
       "</g>\n",
       "<!-- close&#45;&gt;/p/gpfs1/iopp/temp/cm1r20.3.2846829/config_files/les_HurrBoundLayer/cm1out_000001_s.dat -->\n",
       "<g id=\"edge46\" class=\"edge\">\n",
       "<title>close&#45;&gt;/p/gpfs1/iopp/temp/cm1r20.3.2846829/config_files/les_HurrBoundLayer/cm1out_000001_s.dat</title>\n",
       "<path fill=\"none\" stroke=\"black\" d=\"M2943.77,-103.84C2647.4,-102.4 553.67,-91.49 531.49,-69 526.81,-64.25 527.12,-59.03 531.49,-54 537.49,-47.09 548.24,-41.51 562,-37.01\"/>\n",
       "<polygon fill=\"black\" stroke=\"black\" points=\"563.39,-40.24 571.99,-34.06 561.41,-33.53 563.39,-40.24\"/>\n",
       "<text text-anchor=\"middle\" x=\"536.49\" y=\"-57.8\" font-family=\"Times,serif\" font-size=\"14.00\">1</text>\n",
       "</g>\n",
       "<!-- close&#45;&gt;/p/gpfs1/iopp/temp/cm1r20.3.2846829/config_files/les_HurrBoundLayer/cm1out_000001_s.dat -->\n",
       "<g id=\"edge48\" class=\"edge\">\n",
       "<title>close&#45;&gt;/p/gpfs1/iopp/temp/cm1r20.3.2846829/config_files/les_HurrBoundLayer/cm1out_000001_s.dat</title>\n",
       "<path fill=\"none\" stroke=\"black\" d=\"M2943.77,-103.83C2649.7,-102.35 586.35,-91.18 564.49,-69 559.81,-64.25 560.18,-59.08 564.49,-54 570.19,-47.3 580.93,-41.88 594.69,-37.49\"/>\n",
       "<polygon fill=\"black\" stroke=\"black\" points=\"596.03,-40.75 604.67,-34.62 594.1,-34.02 596.03,-40.75\"/>\n",
       "<text text-anchor=\"middle\" x=\"569.49\" y=\"-57.8\" font-family=\"Times,serif\" font-size=\"14.00\">1</text>\n",
       "</g>\n",
       "<!-- close&#45;&gt;/p/gpfs1/iopp/temp/cm1r20.3.2846829/config_files/les_HurrBoundLayer/cm1out_000001_s.dat -->\n",
       "<g id=\"edge52\" class=\"edge\">\n",
       "<title>close&#45;&gt;/p/gpfs1/iopp/temp/cm1r20.3.2846829/config_files/les_HurrBoundLayer/cm1out_000001_s.dat</title>\n",
       "<path fill=\"none\" stroke=\"black\" d=\"M2943.79,-103.82C2652.05,-102.29 619.04,-90.87 597.49,-69 585.22,-56.54 586.04,-47.11 595,-39.98\"/>\n",
       "<polygon fill=\"black\" stroke=\"black\" points=\"597.03,-42.85 603.85,-34.74 593.46,-36.83 597.03,-42.85\"/>\n",
       "<text text-anchor=\"middle\" x=\"602.49\" y=\"-57.8\" font-family=\"Times,serif\" font-size=\"14.00\">1</text>\n",
       "</g>\n",
       "<!-- close&#45;&gt;/p/gpfs1/iopp/temp/cm1r20.3.2846829/config_files/les_HurrBoundLayer/cm1out_000001_s.dat -->\n",
       "<g id=\"edge54\" class=\"edge\">\n",
       "<title>close&#45;&gt;/p/gpfs1/iopp/temp/cm1r20.3.2846829/config_files/les_HurrBoundLayer/cm1out_000001_s.dat</title>\n",
       "<path fill=\"none\" stroke=\"black\" d=\"M2943.81,-103.82C2654.47,-102.24 651.73,-90.55 630.49,-69 617.73,-56.04 621.81,-46.44 634.79,-39.33\"/>\n",
       "<polygon fill=\"black\" stroke=\"black\" points=\"636.27,-42.5 643.95,-35.21 633.4,-36.12 636.27,-42.5\"/>\n",
       "<text text-anchor=\"middle\" x=\"635.49\" y=\"-57.8\" font-family=\"Times,serif\" font-size=\"14.00\">1</text>\n",
       "</g>\n",
       "<!-- close&#45;&gt;/p/gpfs1/iopp/temp/cm1r20.3.2846829/config_files/les_HurrBoundLayer/cm1out_000001_s.dat -->\n",
       "<g id=\"edge56\" class=\"edge\">\n",
       "<title>close&#45;&gt;/p/gpfs1/iopp/temp/cm1r20.3.2846829/config_files/les_HurrBoundLayer/cm1out_000001_s.dat</title>\n",
       "<path fill=\"none\" stroke=\"black\" d=\"M2943.85,-103.81C2656.94,-102.18 684.42,-90.24 663.49,-69 651.06,-56.37 658.16,-46.72 673.64,-39.42\"/>\n",
       "<polygon fill=\"black\" stroke=\"black\" points=\"675.08,-42.62 683.03,-35.61 672.45,-36.13 675.08,-42.62\"/>\n",
       "<text text-anchor=\"middle\" x=\"668.49\" y=\"-57.8\" font-family=\"Times,serif\" font-size=\"14.00\">1</text>\n",
       "</g>\n",
       "<!-- close&#45;&gt;/p/gpfs1/iopp/temp/cm1r20.3.2846829/config_files/les_HurrBoundLayer/cm1out_000001_s.dat -->\n",
       "<g id=\"edge58\" class=\"edge\">\n",
       "<title>close&#45;&gt;/p/gpfs1/iopp/temp/cm1r20.3.2846829/config_files/les_HurrBoundLayer/cm1out_000001_s.dat</title>\n",
       "<path fill=\"none\" stroke=\"black\" d=\"M2943.78,-104.14C2660.47,-105.2 737.7,-110.84 696.49,-69 685.49,-57.83 693.64,-48.12 708.35,-40.3\"/>\n",
       "<polygon fill=\"black\" stroke=\"black\" points=\"710.11,-43.34 717.68,-35.92 707.14,-37 710.11,-43.34\"/>\n",
       "<text text-anchor=\"middle\" x=\"701.49\" y=\"-57.8\" font-family=\"Times,serif\" font-size=\"14.00\">1</text>\n",
       "</g>\n",
       "<!-- close&#45;&gt;/p/gpfs1/iopp/temp/cm1r20.3.2846829/config_files/les_HurrBoundLayer/cm1out_000001_s.dat -->\n",
       "<g id=\"edge60\" class=\"edge\">\n",
       "<title>close&#45;&gt;/p/gpfs1/iopp/temp/cm1r20.3.2846829/config_files/les_HurrBoundLayer/cm1out_000001_s.dat</title>\n",
       "<path fill=\"none\" stroke=\"black\" d=\"M2943.84,-104.13C2663.07,-105.12 770.08,-110.22 729.49,-69 720.85,-60.22 726.74,-50.55 737,-42.07\"/>\n",
       "<polygon fill=\"black\" stroke=\"black\" points=\"739.11,-44.87 745.11,-36.14 734.97,-39.23 739.11,-44.87\"/>\n",
       "<text text-anchor=\"middle\" x=\"734.49\" y=\"-57.8\" font-family=\"Times,serif\" font-size=\"14.00\">1</text>\n",
       "</g>\n",
       "<!-- close&#45;&gt;/p/gpfs1/iopp/temp/cm1r20.3.2846829/config_files/les_HurrBoundLayer/cm1out_000001_s.dat -->\n",
       "<g id=\"edge62\" class=\"edge\">\n",
       "<title>close&#45;&gt;/p/gpfs1/iopp/temp/cm1r20.3.2846829/config_files/les_HurrBoundLayer/cm1out_000001_s.dat</title>\n",
       "<path fill=\"none\" stroke=\"black\" d=\"M2943.91,-104.12C2665.73,-105.03 802.46,-109.6 762.49,-69 756.2,-62.61 757.11,-53.74 760.62,-45.25\"/>\n",
       "<polygon fill=\"black\" stroke=\"black\" points=\"763.75,-46.81 765.22,-36.31 757.53,-43.6 763.75,-46.81\"/>\n",
       "<text text-anchor=\"middle\" x=\"767.49\" y=\"-57.8\" font-family=\"Times,serif\" font-size=\"14.00\">1</text>\n",
       "</g>\n",
       "<!-- close&#45;&gt;/p/gpfs1/iopp/temp/cm1r20.3.2846829/config_files/les_HurrBoundLayer/cm1out_000001_s.dat -->\n",
       "<g id=\"edge66\" class=\"edge\">\n",
       "<title>close&#45;&gt;/p/gpfs1/iopp/temp/cm1r20.3.2846829/config_files/les_HurrBoundLayer/cm1out_000001_s.dat</title>\n",
       "<path fill=\"none\" stroke=\"black\" d=\"M2944.09,-104C2669.35,-103.9 840.83,-102.02 795.49,-69 788.14,-63.65 783.94,-54.93 781.54,-46.27\"/>\n",
       "<polygon fill=\"black\" stroke=\"black\" points=\"784.94,-45.41 779.48,-36.33 778.08,-46.83 784.94,-45.41\"/>\n",
       "<text text-anchor=\"middle\" x=\"800.49\" y=\"-57.8\" font-family=\"Times,serif\" font-size=\"14.00\">1</text>\n",
       "</g>\n",
       "<!-- close&#45;&gt;/p/gpfs1/iopp/temp/cm1r20.3.2846829/config_files/les_HurrBoundLayer/cm1out_000001_s.dat -->\n",
       "<g id=\"edge68\" class=\"edge\">\n",
       "<title>close&#45;&gt;/p/gpfs1/iopp/temp/cm1r20.3.2846829/config_files/les_HurrBoundLayer/cm1out_000001_s.dat</title>\n",
       "<path fill=\"none\" stroke=\"black\" d=\"M2943.86,-103.8C2671.17,-102.15 879.3,-90.53 828.49,-69 816.13,-63.76 805.21,-53.87 796.75,-44.26\"/>\n",
       "<polygon fill=\"black\" stroke=\"black\" points=\"799.3,-41.86 790.24,-36.36 793.9,-46.31 799.3,-41.86\"/>\n",
       "<text text-anchor=\"middle\" x=\"833.49\" y=\"-57.8\" font-family=\"Times,serif\" font-size=\"14.00\">1</text>\n",
       "</g>\n",
       "<!-- close&#45;&gt;/p/gpfs1/iopp/temp/cm1r20.3.2846829/config_files/les_HurrBoundLayer/cm1out_000001_s.dat -->\n",
       "<g id=\"edge72\" class=\"edge\">\n",
       "<title>close&#45;&gt;/p/gpfs1/iopp/temp/cm1r20.3.2846829/config_files/les_HurrBoundLayer/cm1out_000001_s.dat</title>\n",
       "<path fill=\"none\" stroke=\"black\" d=\"M2944.07,-103.97C2678.65,-103.71 965.23,-100.77 861.49,-69 849.83,-65.43 848.88,-60.41 838.49,-54 831.64,-49.77 824.28,-45.36 817.14,-41.16\"/>\n",
       "<polygon fill=\"black\" stroke=\"black\" points=\"818.67,-38 808.27,-35.98 815.14,-44.05 818.67,-38\"/>\n",
       "<text text-anchor=\"middle\" x=\"866.49\" y=\"-57.8\" font-family=\"Times,serif\" font-size=\"14.00\">1</text>\n",
       "</g>\n",
       "<!-- close&#45;&gt;/p/gpfs1/iopp/temp/cm1r20.3.2846829/config_files/les_HurrBoundLayer/cm1out_000001_s.dat -->\n",
       "<g id=\"edge76\" class=\"edge\">\n",
       "<title>close&#45;&gt;/p/gpfs1/iopp/temp/cm1r20.3.2846829/config_files/les_HurrBoundLayer/cm1out_000001_s.dat</title>\n",
       "<path fill=\"none\" stroke=\"black\" d=\"M2943.77,-103.96C2679.75,-103.63 996.5,-100.26 894.49,-69 882.83,-65.42 882.38,-59.52 871.49,-54 861.26,-48.81 850.06,-43.96 839.1,-39.62\"/>\n",
       "<polygon fill=\"black\" stroke=\"black\" points=\"840.14,-36.27 829.55,-35.93 837.62,-42.8 840.14,-36.27\"/>\n",
       "<text text-anchor=\"middle\" x=\"899.49\" y=\"-57.8\" font-family=\"Times,serif\" font-size=\"14.00\">1</text>\n",
       "</g>\n",
       "<!-- close&#45;&gt;/p/gpfs1/iopp/temp/cm1r20.3.2846829/config_files/les_HurrBoundLayer/cm1out_000001_s.dat -->\n",
       "<g id=\"edge78\" class=\"edge\">\n",
       "<title>close&#45;&gt;/p/gpfs1/iopp/temp/cm1r20.3.2846829/config_files/les_HurrBoundLayer/cm1out_000001_s.dat</title>\n",
       "<path fill=\"none\" stroke=\"black\" d=\"M2943.91,-103.96C2682.73,-103.55 1027.83,-99.76 927.49,-69 915.83,-65.42 915.62,-59.03 904.49,-54 891.47,-48.11 877.23,-43 863.15,-38.65\"/>\n",
       "<polygon fill=\"black\" stroke=\"black\" points=\"864.04,-35.26 853.46,-35.75 862.04,-41.97 864.04,-35.26\"/>\n",
       "<text text-anchor=\"middle\" x=\"932.49\" y=\"-57.8\" font-family=\"Times,serif\" font-size=\"14.00\">1</text>\n",
       "</g>\n",
       "<!-- close&#45;&gt;/p/gpfs1/iopp/temp/cm1r20.3.2846829/config_files/les_HurrBoundLayer/cm1out_000001_s.dat -->\n",
       "<g id=\"edge82\" class=\"edge\">\n",
       "<title>close&#45;&gt;/p/gpfs1/iopp/temp/cm1r20.3.2846829/config_files/les_HurrBoundLayer/cm1out_000001_s.dat</title>\n",
       "<path fill=\"none\" stroke=\"black\" d=\"M2944.06,-103.95C2685.76,-103.47 1059.16,-99.26 960.49,-69 948.83,-65.42 948.75,-58.72 937.49,-54 922.49,-47.71 906.2,-42.47 889.96,-38.14\"/>\n",
       "<polygon fill=\"black\" stroke=\"black\" points=\"890.41,-34.65 879.86,-35.56 888.68,-41.43 890.41,-34.65\"/>\n",
       "<text text-anchor=\"middle\" x=\"965.49\" y=\"-57.8\" font-family=\"Times,serif\" font-size=\"14.00\">1</text>\n",
       "</g>\n",
       "<!-- close&#45;&gt;/p/gpfs1/iopp/temp/cm1r20.3.2846829/config_files/les_HurrBoundLayer/cm1out_000001_s.dat -->\n",
       "<g id=\"edge84\" class=\"edge\">\n",
       "<title>close&#45;&gt;/p/gpfs1/iopp/temp/cm1r20.3.2846829/config_files/les_HurrBoundLayer/cm1out_000001_s.dat</title>\n",
       "<path fill=\"none\" stroke=\"black\" d=\"M2943.81,-103.93C2687.15,-103.38 1090.44,-98.75 993.49,-69 981.83,-65.42 981.83,-58.52 970.49,-54 953.75,-47.33 935.68,-41.92 917.55,-37.54\"/>\n",
       "<polygon fill=\"black\" stroke=\"black\" points=\"918.31,-34.12 907.78,-35.27 916.73,-40.94 918.31,-34.12\"/>\n",
       "<text text-anchor=\"middle\" x=\"998.49\" y=\"-57.8\" font-family=\"Times,serif\" font-size=\"14.00\">1</text>\n",
       "</g>\n",
       "<!-- close&#45;&gt;/p/gpfs1/iopp/temp/cm1r20.3.2846829/config_files/les_HurrBoundLayer/cm1out_000001_s.dat -->\n",
       "<g id=\"edge88\" class=\"edge\">\n",
       "<title>close&#45;&gt;/p/gpfs1/iopp/temp/cm1r20.3.2846829/config_files/les_HurrBoundLayer/cm1out_000001_s.dat</title>\n",
       "<path fill=\"none\" stroke=\"black\" d=\"M2943.92,-104.1C2699.45,-104.71 1235.93,-106.73 1042.49,-69 1024.27,-65.44 1021.44,-58.79 1003.49,-54 977.81,-47.15 950.1,-41.48 923.19,-36.85\"/>\n",
       "<polygon fill=\"black\" stroke=\"black\" points=\"923.76,-33.39 913.32,-35.19 922.6,-40.3 923.76,-33.39\"/>\n",
       "<text text-anchor=\"middle\" x=\"1047.49\" y=\"-57.8\" font-family=\"Times,serif\" font-size=\"14.00\">1</text>\n",
       "</g>\n",
       "<!-- close&#45;&gt;/p/gpfs1/iopp/temp/cm1r20.3.2846829/config_files/les_HurrBoundLayer/cm1out_000001_s.dat -->\n",
       "<g id=\"edge92\" class=\"edge\">\n",
       "<title>close&#45;&gt;/p/gpfs1/iopp/temp/cm1r20.3.2846829/config_files/les_HurrBoundLayer/cm1out_000001_s.dat</title>\n",
       "<path fill=\"none\" stroke=\"black\" d=\"M2943.87,-103.93C2613.55,-103.19 30.68,-96.51 3.49,-69 -1.19,-64.26 -1.11,-58.82 3.49,-54 17.27,-39.58 184.22,-31.02 359.65,-25.97\"/>\n",
       "<polygon fill=\"black\" stroke=\"black\" points=\"359.97,-29.46 369.87,-25.68 359.77,-22.46 359.97,-29.46\"/>\n",
       "<text text-anchor=\"middle\" x=\"8.49\" y=\"-57.8\" font-family=\"Times,serif\" font-size=\"14.00\">1</text>\n",
       "</g>\n",
       "<!-- close&#45;&gt;/p/gpfs1/iopp/temp/cm1r20.3.2846829/config_files/les_HurrBoundLayer/cm1out_000001_s.dat -->\n",
       "<g id=\"edge94\" class=\"edge\">\n",
       "<title>close&#45;&gt;/p/gpfs1/iopp/temp/cm1r20.3.2846829/config_files/les_HurrBoundLayer/cm1out_000001_s.dat</title>\n",
       "<path fill=\"none\" stroke=\"black\" d=\"M2943.93,-103.92C2616.92,-103.12 79.22,-96.05 52.49,-69 47.81,-64.26 47.9,-58.83 52.49,-54 65.07,-40.8 214.28,-32.39 374.18,-27.13\"/>\n",
       "<polygon fill=\"black\" stroke=\"black\" points=\"374.35,-30.62 384.24,-26.8 374.13,-23.63 374.35,-30.62\"/>\n",
       "<text text-anchor=\"middle\" x=\"57.49\" y=\"-57.8\" font-family=\"Times,serif\" font-size=\"14.00\">1</text>\n",
       "</g>\n",
       "<!-- /p/gpfs1/iopp/temp/cm1r20.3.2846829/config_files/les_HurrBoundLayer/cm1out_000001_u.dat -->\n",
       "<g id=\"node37\" class=\"node\">\n",
       "<title>/p/gpfs1/iopp/temp/cm1r20.3.2846829/config_files/les_HurrBoundLayer/cm1out_000001_u.dat</title>\n",
       "<ellipse fill=\"none\" stroke=\"black\" cx=\"5463.49\" cy=\"-18\" rx=\"453.02\" ry=\"18\"/>\n",
       "<text text-anchor=\"middle\" x=\"5463.49\" y=\"-14.3\" font-family=\"Times,serif\" font-size=\"14.00\">/p/gpfs1/iopp/temp/cm1r20.3.2846829/config_files/les_HurrBoundLayer/cm1out_000001_u.dat</text>\n",
       "</g>\n",
       "<!-- close&#45;&gt;/p/gpfs1/iopp/temp/cm1r20.3.2846829/config_files/les_HurrBoundLayer/cm1out_000001_u.dat -->\n",
       "<g id=\"edge98\" class=\"edge\">\n",
       "<title>close&#45;&gt;/p/gpfs1/iopp/temp/cm1r20.3.2846829/config_files/les_HurrBoundLayer/cm1out_000001_u.dat</title>\n",
       "<path fill=\"none\" stroke=\"black\" d=\"M3013.16,-104.07C3194.4,-104.28 4028.92,-103.38 4138.49,-69 4150.14,-65.35 4149.84,-57.61 4161.49,-54 4243.77,-28.5 4850.39,-38.39 4936.49,-36 4995.87,-34.35 5059,-32.45 5120.18,-30.52\"/>\n",
       "<polygon fill=\"black\" stroke=\"black\" points=\"5120.49,-34.02 5130.37,-30.2 5120.27,-27.02 5120.49,-34.02\"/>\n",
       "<text text-anchor=\"middle\" x=\"4166.49\" y=\"-57.8\" font-family=\"Times,serif\" font-size=\"14.00\">1</text>\n",
       "</g>\n",
       "<!-- close&#45;&gt;/p/gpfs1/iopp/temp/cm1r20.3.2846829/config_files/les_HurrBoundLayer/cm1out_000001_u.dat -->\n",
       "<g id=\"edge104\" class=\"edge\">\n",
       "<title>close&#45;&gt;/p/gpfs1/iopp/temp/cm1r20.3.2846829/config_files/les_HurrBoundLayer/cm1out_000001_u.dat</title>\n",
       "<path fill=\"none\" stroke=\"black\" d=\"M3012.93,-104.1C3196.77,-104.49 4058.54,-104.39 4171.49,-69 4183.14,-65.35 4182.84,-57.62 4194.49,-54 4273.25,-29.54 4854.06,-38.33 4936.49,-36 4995.65,-34.33 5058.54,-32.42 5119.5,-30.49\"/>\n",
       "<polygon fill=\"black\" stroke=\"black\" points=\"5119.78,-33.99 5129.67,-30.17 5119.56,-26.99 5119.78,-33.99\"/>\n",
       "<text text-anchor=\"middle\" x=\"4199.49\" y=\"-57.8\" font-family=\"Times,serif\" font-size=\"14.00\">1</text>\n",
       "</g>\n",
       "<!-- close&#45;&gt;/p/gpfs1/iopp/temp/cm1r20.3.2846829/config_files/les_HurrBoundLayer/cm1out_000001_u.dat -->\n",
       "<g id=\"edge108\" class=\"edge\">\n",
       "<title>close&#45;&gt;/p/gpfs1/iopp/temp/cm1r20.3.2846829/config_files/les_HurrBoundLayer/cm1out_000001_u.dat</title>\n",
       "<path fill=\"none\" stroke=\"black\" d=\"M3012.17,-100.82C3047.27,-96.66 3103.35,-87.58 3148.49,-69 3159.78,-64.35 3159.81,-57.54 3171.49,-54 3218.42,-39.79 4887.48,-37.04 4936.49,-36 4998.72,-34.68 5065.06,-32.86 5128.95,-30.9\"/>\n",
       "<polygon fill=\"black\" stroke=\"black\" points=\"5129.29,-34.39 5139.18,-30.59 5129.07,-27.4 5129.29,-34.39\"/>\n",
       "<text text-anchor=\"middle\" x=\"3176.49\" y=\"-57.8\" font-family=\"Times,serif\" font-size=\"14.00\">1</text>\n",
       "</g>\n",
       "<!-- close&#45;&gt;/p/gpfs1/iopp/temp/cm1r20.3.2846829/config_files/les_HurrBoundLayer/cm1out_000001_u.dat -->\n",
       "<g id=\"edge110\" class=\"edge\">\n",
       "<title>close&#45;&gt;/p/gpfs1/iopp/temp/cm1r20.3.2846829/config_files/les_HurrBoundLayer/cm1out_000001_u.dat</title>\n",
       "<path fill=\"none\" stroke=\"black\" d=\"M3012.67,-102.33C3053.96,-99.37 3124.91,-91.23 3181.49,-69 3192.85,-64.54 3192.81,-57.54 3204.49,-54 3250.54,-40.05 4888.39,-37.03 4936.49,-36 4998.72,-34.67 5065.06,-32.85 5128.95,-30.89\"/>\n",
       "<polygon fill=\"black\" stroke=\"black\" points=\"5129.29,-34.38 5139.18,-30.58 5129.07,-27.39 5129.29,-34.38\"/>\n",
       "<text text-anchor=\"middle\" x=\"3209.49\" y=\"-57.8\" font-family=\"Times,serif\" font-size=\"14.00\">1</text>\n",
       "</g>\n",
       "<!-- close&#45;&gt;/p/gpfs1/iopp/temp/cm1r20.3.2846829/config_files/les_HurrBoundLayer/cm1out_000001_u.dat -->\n",
       "<g id=\"edge114\" class=\"edge\">\n",
       "<title>close&#45;&gt;/p/gpfs1/iopp/temp/cm1r20.3.2846829/config_files/les_HurrBoundLayer/cm1out_000001_u.dat</title>\n",
       "<path fill=\"none\" stroke=\"black\" d=\"M3012.86,-103.47C3059.86,-101.74 3146.14,-94.93 3214.49,-69 3225.91,-64.67 3225.82,-57.54 3237.49,-54 3282.66,-40.31 4889.31,-37.01 4936.49,-36 4998.61,-34.67 5064.83,-32.85 5128.61,-30.89\"/>\n",
       "<polygon fill=\"black\" stroke=\"black\" points=\"5128.94,-34.38 5138.83,-30.58 5128.72,-27.39 5128.94,-34.38\"/>\n",
       "<text text-anchor=\"middle\" x=\"3242.49\" y=\"-57.8\" font-family=\"Times,serif\" font-size=\"14.00\">1</text>\n",
       "</g>\n",
       "<!-- close&#45;&gt;/p/gpfs1/iopp/temp/cm1r20.3.2846829/config_files/les_HurrBoundLayer/cm1out_000001_u.dat -->\n",
       "<g id=\"edge118\" class=\"edge\">\n",
       "<title>close&#45;&gt;/p/gpfs1/iopp/temp/cm1r20.3.2846829/config_files/les_HurrBoundLayer/cm1out_000001_u.dat</title>\n",
       "<path fill=\"none\" stroke=\"black\" d=\"M3013.21,-104.35C3065.61,-103.82 3167.31,-98.6 3247.49,-69 3258.94,-64.77 3258.82,-57.54 3270.49,-54 3314.78,-40.57 4890.22,-37 4936.49,-36 4998.61,-34.66 5064.83,-32.84 5128.61,-30.88\"/>\n",
       "<polygon fill=\"black\" stroke=\"black\" points=\"5128.94,-34.37 5138.83,-30.57 5128.72,-27.38 5128.94,-34.37\"/>\n",
       "<text text-anchor=\"middle\" x=\"3275.49\" y=\"-57.8\" font-family=\"Times,serif\" font-size=\"14.00\">1</text>\n",
       "</g>\n",
       "<!-- close&#45;&gt;/p/gpfs1/iopp/temp/cm1r20.3.2846829/config_files/les_HurrBoundLayer/cm1out_000001_u.dat -->\n",
       "<g id=\"edge122\" class=\"edge\">\n",
       "<title>close&#45;&gt;/p/gpfs1/iopp/temp/cm1r20.3.2846829/config_files/les_HurrBoundLayer/cm1out_000001_u.dat</title>\n",
       "<path fill=\"none\" stroke=\"black\" d=\"M3012.47,-102.03C3080.66,-97.75 3231.85,-86.57 3280.49,-69 3291.97,-64.85 3291.82,-57.54 3303.49,-54 3346.91,-40.83 4891.14,-36.98 4936.49,-36 4998.61,-34.66 5064.83,-32.83 5128.61,-30.87\"/>\n",
       "<polygon fill=\"black\" stroke=\"black\" points=\"5128.94,-34.36 5138.83,-30.56 5128.72,-27.37 5128.94,-34.36\"/>\n",
       "<text text-anchor=\"middle\" x=\"3308.49\" y=\"-57.8\" font-family=\"Times,serif\" font-size=\"14.00\">1</text>\n",
       "</g>\n",
       "<!-- close&#45;&gt;/p/gpfs1/iopp/temp/cm1r20.3.2846829/config_files/les_HurrBoundLayer/cm1out_000001_u.dat -->\n",
       "<g id=\"edge126\" class=\"edge\">\n",
       "<title>close&#45;&gt;/p/gpfs1/iopp/temp/cm1r20.3.2846829/config_files/les_HurrBoundLayer/cm1out_000001_u.dat</title>\n",
       "<path fill=\"none\" stroke=\"black\" d=\"M3012.77,-102.46C3086.65,-98.81 3258.66,-88.46 3313.49,-69 3325,-64.92 3324.82,-57.54 3336.49,-54 3379.03,-41.1 4892.06,-36.97 4936.49,-36 4998.5,-34.65 5064.6,-32.83 5128.28,-30.87\"/>\n",
       "<polygon fill=\"black\" stroke=\"black\" points=\"5128.59,-34.36 5138.47,-30.56 5128.37,-27.37 5128.59,-34.36\"/>\n",
       "<text text-anchor=\"middle\" x=\"3341.49\" y=\"-57.8\" font-family=\"Times,serif\" font-size=\"14.00\">1</text>\n",
       "</g>\n",
       "<!-- close&#45;&gt;/p/gpfs1/iopp/temp/cm1r20.3.2846829/config_files/les_HurrBoundLayer/cm1out_000001_u.dat -->\n",
       "<g id=\"edge130\" class=\"edge\">\n",
       "<title>close&#45;&gt;/p/gpfs1/iopp/temp/cm1r20.3.2846829/config_files/les_HurrBoundLayer/cm1out_000001_u.dat</title>\n",
       "<path fill=\"none\" stroke=\"black\" d=\"M3012.84,-102.83C3092.04,-99.79 3285.38,-90.37 3346.49,-69 3358.01,-64.97 3357.82,-57.54 3369.49,-54 3411.15,-41.36 4892.97,-36.95 4936.49,-36 4998.5,-34.64 5064.6,-32.81 5128.28,-30.86\"/>\n",
       "<polygon fill=\"black\" stroke=\"black\" points=\"5128.59,-34.35 5138.47,-30.54 5128.37,-27.35 5128.59,-34.35\"/>\n",
       "<text text-anchor=\"middle\" x=\"3374.49\" y=\"-57.8\" font-family=\"Times,serif\" font-size=\"14.00\">1</text>\n",
       "</g>\n",
       "<!-- close&#45;&gt;/p/gpfs1/iopp/temp/cm1r20.3.2846829/config_files/les_HurrBoundLayer/cm1out_000001_u.dat -->\n",
       "<g id=\"edge134\" class=\"edge\">\n",
       "<title>close&#45;&gt;/p/gpfs1/iopp/temp/cm1r20.3.2846829/config_files/les_HurrBoundLayer/cm1out_000001_u.dat</title>\n",
       "<path fill=\"none\" stroke=\"black\" d=\"M3012.76,-103.14C3096.96,-100.7 3312.04,-92.29 3379.49,-69 3391.03,-65.02 3390.82,-57.55 3402.49,-54 3443.27,-41.62 4893.89,-36.94 4936.49,-36 4998.39,-34.64 5064.36,-32.81 5127.94,-30.86\"/>\n",
       "<polygon fill=\"black\" stroke=\"black\" points=\"5128.24,-34.35 5138.12,-30.54 5128.02,-27.35 5128.24,-34.35\"/>\n",
       "<text text-anchor=\"middle\" x=\"3407.49\" y=\"-57.8\" font-family=\"Times,serif\" font-size=\"14.00\">1</text>\n",
       "</g>\n",
       "<!-- close&#45;&gt;/p/gpfs1/iopp/temp/cm1r20.3.2846829/config_files/les_HurrBoundLayer/cm1out_000001_u.dat -->\n",
       "<g id=\"edge138\" class=\"edge\">\n",
       "<title>close&#45;&gt;/p/gpfs1/iopp/temp/cm1r20.3.2846829/config_files/les_HurrBoundLayer/cm1out_000001_u.dat</title>\n",
       "<path fill=\"none\" stroke=\"black\" d=\"M3012.94,-103.4C3102.12,-101.51 3338.73,-94.2 3412.49,-69 3424.04,-65.05 3423.82,-57.55 3435.49,-54 3515.29,-29.76 4853.12,-37.84 4936.49,-36 4998.39,-34.63 5064.36,-32.8 5127.94,-30.84\"/>\n",
       "<polygon fill=\"black\" stroke=\"black\" points=\"5128.24,-34.34 5138.12,-30.53 5128.02,-27.34 5128.24,-34.34\"/>\n",
       "<text text-anchor=\"middle\" x=\"3440.49\" y=\"-57.8\" font-family=\"Times,serif\" font-size=\"14.00\">1</text>\n",
       "</g>\n",
       "<!-- close&#45;&gt;/p/gpfs1/iopp/temp/cm1r20.3.2846829/config_files/les_HurrBoundLayer/cm1out_000001_u.dat -->\n",
       "<g id=\"edge142\" class=\"edge\">\n",
       "<title>close&#45;&gt;/p/gpfs1/iopp/temp/cm1r20.3.2846829/config_files/les_HurrBoundLayer/cm1out_000001_u.dat</title>\n",
       "<path fill=\"none\" stroke=\"black\" d=\"M3013.14,-103.63C3107.17,-102.27 3365.4,-96.11 3445.49,-69 3457.05,-65.09 3456.82,-57.55 3468.49,-54 3546.53,-30.28 4854.95,-37.81 4936.49,-36 4998.28,-34.62 5064.13,-32.79 5127.61,-30.84\"/>\n",
       "<polygon fill=\"black\" stroke=\"black\" points=\"5127.88,-34.33 5137.77,-30.53 5127.67,-27.34 5127.88,-34.33\"/>\n",
       "<text text-anchor=\"middle\" x=\"3473.49\" y=\"-57.8\" font-family=\"Times,serif\" font-size=\"14.00\">1</text>\n",
       "</g>\n",
       "<!-- close&#45;&gt;/p/gpfs1/iopp/temp/cm1r20.3.2846829/config_files/les_HurrBoundLayer/cm1out_000001_u.dat -->\n",
       "<g id=\"edge146\" class=\"edge\">\n",
       "<title>close&#45;&gt;/p/gpfs1/iopp/temp/cm1r20.3.2846829/config_files/les_HurrBoundLayer/cm1out_000001_u.dat</title>\n",
       "<path fill=\"none\" stroke=\"black\" d=\"M3013.09,-103.83C3111.58,-102.99 3391.98,-98.04 3478.49,-69 3490.06,-65.12 3489.82,-57.55 3501.49,-54 3577.77,-30.8 4856.79,-37.79 4936.49,-36 4998.28,-34.62 5064.13,-32.78 5127.6,-30.83\"/>\n",
       "<polygon fill=\"black\" stroke=\"black\" points=\"5127.88,-34.32 5137.77,-30.51 5127.67,-27.32 5127.88,-34.32\"/>\n",
       "<text text-anchor=\"middle\" x=\"3506.49\" y=\"-57.8\" font-family=\"Times,serif\" font-size=\"14.00\">1</text>\n",
       "</g>\n",
       "<!-- close&#45;&gt;/p/gpfs1/iopp/temp/cm1r20.3.2846829/config_files/les_HurrBoundLayer/cm1out_000001_u.dat -->\n",
       "<g id=\"edge150\" class=\"edge\">\n",
       "<title>close&#45;&gt;/p/gpfs1/iopp/temp/cm1r20.3.2846829/config_files/les_HurrBoundLayer/cm1out_000001_u.dat</title>\n",
       "<path fill=\"none\" stroke=\"black\" d=\"M3013.14,-104C3116.06,-103.66 3418.57,-99.97 3511.49,-69 3523.07,-65.14 3522.82,-57.55 3534.49,-54 3609.02,-31.33 4858.62,-37.76 4936.49,-36 4998.17,-34.61 5063.9,-32.77 5127.27,-30.82\"/>\n",
       "<polygon fill=\"black\" stroke=\"black\" points=\"5127.53,-34.31 5137.42,-30.51 5127.32,-27.32 5127.53,-34.31\"/>\n",
       "<text text-anchor=\"middle\" x=\"3539.49\" y=\"-57.8\" font-family=\"Times,serif\" font-size=\"14.00\">1</text>\n",
       "</g>\n",
       "<!-- close&#45;&gt;/p/gpfs1/iopp/temp/cm1r20.3.2846829/config_files/les_HurrBoundLayer/cm1out_000001_u.dat -->\n",
       "<g id=\"edge154\" class=\"edge\">\n",
       "<title>close&#45;&gt;/p/gpfs1/iopp/temp/cm1r20.3.2846829/config_files/les_HurrBoundLayer/cm1out_000001_u.dat</title>\n",
       "<path fill=\"none\" stroke=\"black\" d=\"M3012.99,-104.16C3119.99,-104.3 3445.08,-101.93 3544.49,-69 3556.08,-65.16 3555.82,-57.55 3567.49,-54 3640.26,-31.85 4860.45,-37.73 4936.49,-36 4998.06,-34.6 5063.67,-32.77 5126.93,-30.82\"/>\n",
       "<polygon fill=\"black\" stroke=\"black\" points=\"5127.18,-34.31 5137.07,-30.5 5126.96,-27.31 5127.18,-34.31\"/>\n",
       "<text text-anchor=\"middle\" x=\"3572.49\" y=\"-57.8\" font-family=\"Times,serif\" font-size=\"14.00\">1</text>\n",
       "</g>\n",
       "<!-- close&#45;&gt;/p/gpfs1/iopp/temp/cm1r20.3.2846829/config_files/les_HurrBoundLayer/cm1out_000001_u.dat -->\n",
       "<g id=\"edge158\" class=\"edge\">\n",
       "<title>close&#45;&gt;/p/gpfs1/iopp/temp/cm1r20.3.2846829/config_files/les_HurrBoundLayer/cm1out_000001_u.dat</title>\n",
       "<path fill=\"none\" stroke=\"black\" d=\"M3013.02,-104.3C3124.18,-104.9 3471.63,-103.86 3577.49,-69 3589.09,-65.18 3588.82,-57.56 3600.49,-54 3671.5,-32.37 4862.29,-37.7 4936.49,-36 4998.06,-34.59 5063.67,-32.75 5126.93,-30.8\"/>\n",
       "<polygon fill=\"black\" stroke=\"black\" points=\"5127.18,-34.29 5137.07,-30.49 5126.96,-27.3 5127.18,-34.29\"/>\n",
       "<text text-anchor=\"middle\" x=\"3605.49\" y=\"-57.8\" font-family=\"Times,serif\" font-size=\"14.00\">1</text>\n",
       "</g>\n",
       "<!-- close&#45;&gt;/p/gpfs1/iopp/temp/cm1r20.3.2846829/config_files/les_HurrBoundLayer/cm1out_000001_u.dat -->\n",
       "<g id=\"edge162\" class=\"edge\">\n",
       "<title>close&#45;&gt;/p/gpfs1/iopp/temp/cm1r20.3.2846829/config_files/les_HurrBoundLayer/cm1out_000001_u.dat</title>\n",
       "<path fill=\"none\" stroke=\"black\" d=\"M3013.3,-104.42C3128.76,-105.47 3498.23,-105.78 3610.49,-69 3622.09,-65.2 3621.82,-57.56 3633.49,-54 3702.75,-32.89 4864.12,-37.67 4936.49,-36 4997.95,-34.58 5063.44,-32.74 5126.6,-30.79\"/>\n",
       "<polygon fill=\"black\" stroke=\"black\" points=\"5126.83,-34.29 5136.72,-30.48 5126.61,-27.29 5126.83,-34.29\"/>\n",
       "<text text-anchor=\"middle\" x=\"3638.49\" y=\"-57.8\" font-family=\"Times,serif\" font-size=\"14.00\">1</text>\n",
       "</g>\n",
       "<!-- close&#45;&gt;/p/gpfs1/iopp/temp/cm1r20.3.2846829/config_files/les_HurrBoundLayer/cm1out_000001_u.dat -->\n",
       "<g id=\"edge166\" class=\"edge\">\n",
       "<title>close&#45;&gt;/p/gpfs1/iopp/temp/cm1r20.3.2846829/config_files/les_HurrBoundLayer/cm1out_000001_u.dat</title>\n",
       "<path fill=\"none\" stroke=\"black\" d=\"M3012.82,-103.24C3140.45,-100.26 3583.39,-88.6 3643.49,-69 3655.1,-65.22 3654.82,-57.56 3666.49,-54 3733.99,-33.41 4865.95,-37.64 4936.49,-36 4997.85,-34.58 5063.2,-32.73 5126.26,-30.79\"/>\n",
       "<polygon fill=\"black\" stroke=\"black\" points=\"5126.48,-34.28 5136.36,-30.47 5126.26,-27.28 5126.48,-34.28\"/>\n",
       "<text text-anchor=\"middle\" x=\"3671.49\" y=\"-57.8\" font-family=\"Times,serif\" font-size=\"14.00\">1</text>\n",
       "</g>\n",
       "<!-- close&#45;&gt;/p/gpfs1/iopp/temp/cm1r20.3.2846829/config_files/les_HurrBoundLayer/cm1out_000001_u.dat -->\n",
       "<g id=\"edge170\" class=\"edge\">\n",
       "<title>close&#45;&gt;/p/gpfs1/iopp/temp/cm1r20.3.2846829/config_files/les_HurrBoundLayer/cm1out_000001_u.dat</title>\n",
       "<path fill=\"none\" stroke=\"black\" d=\"M3013.15,-103.32C3145.29,-100.6 3613.17,-89.56 3676.49,-69 3688.1,-65.23 3687.82,-57.56 3699.49,-54 3765.23,-33.94 4867.78,-37.61 4936.49,-36 4997.85,-34.56 5063.2,-32.71 5126.26,-30.77\"/>\n",
       "<polygon fill=\"black\" stroke=\"black\" points=\"5126.48,-34.26 5136.36,-30.45 5126.26,-27.26 5126.48,-34.26\"/>\n",
       "<text text-anchor=\"middle\" x=\"3704.49\" y=\"-57.8\" font-family=\"Times,serif\" font-size=\"14.00\">1</text>\n",
       "</g>\n",
       "<!-- close&#45;&gt;/p/gpfs1/iopp/temp/cm1r20.3.2846829/config_files/les_HurrBoundLayer/cm1out_000001_u.dat -->\n",
       "<g id=\"edge174\" class=\"edge\">\n",
       "<title>close&#45;&gt;/p/gpfs1/iopp/temp/cm1r20.3.2846829/config_files/les_HurrBoundLayer/cm1out_000001_u.dat</title>\n",
       "<path fill=\"none\" stroke=\"black\" d=\"M3012.92,-103.41C3148.69,-100.94 3642.86,-90.56 3709.49,-69 3721.11,-65.24 3720.82,-57.56 3732.49,-54 3796.47,-34.46 4869.62,-37.58 4936.49,-36 4997.74,-34.55 5062.97,-32.7 5125.93,-30.76\"/>\n",
       "<polygon fill=\"black\" stroke=\"black\" points=\"5126.13,-34.25 5136.01,-30.44 5125.91,-27.26 5126.13,-34.25\"/>\n",
       "<text text-anchor=\"middle\" x=\"3737.49\" y=\"-57.8\" font-family=\"Times,serif\" font-size=\"14.00\">1</text>\n",
       "</g>\n",
       "<!-- close&#45;&gt;/p/gpfs1/iopp/temp/cm1r20.3.2846829/config_files/les_HurrBoundLayer/cm1out_000001_u.dat -->\n",
       "<g id=\"edge178\" class=\"edge\">\n",
       "<title>close&#45;&gt;/p/gpfs1/iopp/temp/cm1r20.3.2846829/config_files/les_HurrBoundLayer/cm1out_000001_u.dat</title>\n",
       "<path fill=\"none\" stroke=\"black\" d=\"M3013.04,-103.49C3152.85,-101.26 3672.59,-91.53 3742.49,-69 3754.11,-65.26 3753.82,-57.57 3765.49,-54 3827.72,-34.98 4871.45,-37.55 4936.49,-36 4997.63,-34.54 5062.74,-32.69 5125.59,-30.75\"/>\n",
       "<polygon fill=\"black\" stroke=\"black\" points=\"5125.77,-34.24 5135.66,-30.43 5125.56,-27.25 5125.77,-34.24\"/>\n",
       "<text text-anchor=\"middle\" x=\"3770.49\" y=\"-57.8\" font-family=\"Times,serif\" font-size=\"14.00\">1</text>\n",
       "</g>\n",
       "<!-- close&#45;&gt;/p/gpfs1/iopp/temp/cm1r20.3.2846829/config_files/les_HurrBoundLayer/cm1out_000001_u.dat -->\n",
       "<g id=\"edge182\" class=\"edge\">\n",
       "<title>close&#45;&gt;/p/gpfs1/iopp/temp/cm1r20.3.2846829/config_files/les_HurrBoundLayer/cm1out_000001_u.dat</title>\n",
       "<path fill=\"none\" stroke=\"black\" d=\"M3013.06,-103.56C3156.7,-101.57 3702.31,-92.51 3775.49,-69 3787.11,-65.27 3786.82,-57.57 3798.49,-54 3858.96,-35.5 4873.28,-37.52 4936.49,-36 4997.52,-34.53 5062.51,-32.68 5125.26,-30.73\"/>\n",
       "<polygon fill=\"black\" stroke=\"black\" points=\"5125.42,-34.23 5135.31,-30.42 5125.2,-27.23 5125.42,-34.23\"/>\n",
       "<text text-anchor=\"middle\" x=\"3803.49\" y=\"-57.8\" font-family=\"Times,serif\" font-size=\"14.00\">1</text>\n",
       "</g>\n",
       "<!-- close&#45;&gt;/p/gpfs1/iopp/temp/cm1r20.3.2846829/config_files/les_HurrBoundLayer/cm1out_000001_u.dat -->\n",
       "<g id=\"edge186\" class=\"edge\">\n",
       "<title>close&#45;&gt;/p/gpfs1/iopp/temp/cm1r20.3.2846829/config_files/les_HurrBoundLayer/cm1out_000001_u.dat</title>\n",
       "<path fill=\"none\" stroke=\"black\" d=\"M3012.99,-103.62C3160.23,-101.86 3732.01,-93.5 3808.49,-69 3820.12,-65.28 3819.83,-57.57 3831.49,-54 3890.2,-36.03 4875.12,-37.49 4936.49,-36 4997.41,-34.52 5062.28,-32.66 5124.92,-30.72\"/>\n",
       "<polygon fill=\"black\" stroke=\"black\" points=\"5125.07,-34.22 5134.96,-30.41 5124.85,-27.22 5125.07,-34.22\"/>\n",
       "<text text-anchor=\"middle\" x=\"3836.49\" y=\"-57.8\" font-family=\"Times,serif\" font-size=\"14.00\">1</text>\n",
       "</g>\n",
       "<!-- close&#45;&gt;/p/gpfs1/iopp/temp/cm1r20.3.2846829/config_files/les_HurrBoundLayer/cm1out_000001_u.dat -->\n",
       "<g id=\"edge190\" class=\"edge\">\n",
       "<title>close&#45;&gt;/p/gpfs1/iopp/temp/cm1r20.3.2846829/config_files/les_HurrBoundLayer/cm1out_000001_u.dat</title>\n",
       "<path fill=\"none\" stroke=\"black\" d=\"M3013.08,-103.68C3164.11,-102.14 3761.73,-94.48 3841.49,-69 3853.12,-65.29 3852.83,-57.58 3864.49,-54 3921.44,-36.55 4876.95,-37.46 4936.49,-36 4997.3,-34.51 5062.04,-32.65 5124.59,-30.71\"/>\n",
       "<polygon fill=\"black\" stroke=\"black\" points=\"5124.72,-34.2 5134.6,-30.39 5124.5,-27.21 5124.72,-34.2\"/>\n",
       "<text text-anchor=\"middle\" x=\"3869.49\" y=\"-57.8\" font-family=\"Times,serif\" font-size=\"14.00\">1</text>\n",
       "</g>\n",
       "<!-- close&#45;&gt;/p/gpfs1/iopp/temp/cm1r20.3.2846829/config_files/les_HurrBoundLayer/cm1out_000001_u.dat -->\n",
       "<g id=\"edge194\" class=\"edge\">\n",
       "<title>close&#45;&gt;/p/gpfs1/iopp/temp/cm1r20.3.2846829/config_files/les_HurrBoundLayer/cm1out_000001_u.dat</title>\n",
       "<path fill=\"none\" stroke=\"black\" d=\"M3013.1,-103.74C3167.73,-102.41 3791.43,-95.47 3874.49,-69 3886.12,-65.29 3885.83,-57.58 3897.49,-54 3952.69,-37.07 4878.78,-37.43 4936.49,-36 4997.19,-34.5 5061.81,-32.63 5124.25,-30.69\"/>\n",
       "<polygon fill=\"black\" stroke=\"black\" points=\"5124.37,-34.19 5134.25,-30.38 5124.15,-27.19 5124.37,-34.19\"/>\n",
       "<text text-anchor=\"middle\" x=\"3902.49\" y=\"-57.8\" font-family=\"Times,serif\" font-size=\"14.00\">1</text>\n",
       "</g>\n",
       "<!-- close&#45;&gt;/p/gpfs1/iopp/temp/cm1r20.3.2846829/config_files/les_HurrBoundLayer/cm1out_000001_u.dat -->\n",
       "<g id=\"edge198\" class=\"edge\">\n",
       "<title>close&#45;&gt;/p/gpfs1/iopp/temp/cm1r20.3.2846829/config_files/les_HurrBoundLayer/cm1out_000001_u.dat</title>\n",
       "<path fill=\"none\" stroke=\"black\" d=\"M3013.04,-103.79C3171.08,-102.68 3821.12,-96.46 3907.49,-69 3919.13,-65.3 3918.83,-57.58 3930.49,-54 3983.93,-37.59 4880.61,-37.4 4936.49,-36 4996.96,-34.48 5061.32,-32.62 5123.53,-30.68\"/>\n",
       "<polygon fill=\"black\" stroke=\"black\" points=\"5124.01,-34.17 5133.9,-30.36 5123.79,-27.17 5124.01,-34.17\"/>\n",
       "<text text-anchor=\"middle\" x=\"3935.49\" y=\"-57.8\" font-family=\"Times,serif\" font-size=\"14.00\">1</text>\n",
       "</g>\n",
       "<!-- close&#45;&gt;/p/gpfs1/iopp/temp/cm1r20.3.2846829/config_files/les_HurrBoundLayer/cm1out_000001_u.dat -->\n",
       "<g id=\"edge202\" class=\"edge\">\n",
       "<title>close&#45;&gt;/p/gpfs1/iopp/temp/cm1r20.3.2846829/config_files/les_HurrBoundLayer/cm1out_000001_u.dat</title>\n",
       "<path fill=\"none\" stroke=\"black\" d=\"M3012.92,-103.84C3174.17,-102.93 3850.79,-97.45 3940.49,-69 3952.13,-65.31 3951.83,-57.59 3963.49,-54 4015.17,-38.12 4882.45,-37.37 4936.49,-36 4996.85,-34.47 5061.08,-32.6 5123.19,-30.66\"/>\n",
       "<polygon fill=\"black\" stroke=\"black\" points=\"5123.66,-34.15 5133.55,-30.34 5123.44,-27.15 5123.66,-34.15\"/>\n",
       "<text text-anchor=\"middle\" x=\"3968.49\" y=\"-57.8\" font-family=\"Times,serif\" font-size=\"14.00\">1</text>\n",
       "</g>\n",
       "<!-- close&#45;&gt;/p/gpfs1/iopp/temp/cm1r20.3.2846829/config_files/les_HurrBoundLayer/cm1out_000001_u.dat -->\n",
       "<g id=\"edge206\" class=\"edge\">\n",
       "<title>close&#45;&gt;/p/gpfs1/iopp/temp/cm1r20.3.2846829/config_files/les_HurrBoundLayer/cm1out_000001_u.dat</title>\n",
       "<path fill=\"none\" stroke=\"black\" d=\"M3012.99,-103.88C3177.77,-103.17 3880.49,-98.44 3973.49,-69 3985.13,-65.32 3984.83,-57.59 3996.49,-54 4046.42,-38.64 4884.28,-37.34 4936.49,-36 4996.63,-34.45 5060.62,-32.58 5122.52,-30.65\"/>\n",
       "<polygon fill=\"black\" stroke=\"black\" points=\"5122.96,-34.14 5132.84,-30.33 5122.74,-27.14 5122.96,-34.14\"/>\n",
       "<text text-anchor=\"middle\" x=\"4001.49\" y=\"-57.8\" font-family=\"Times,serif\" font-size=\"14.00\">1</text>\n",
       "</g>\n",
       "<!-- close&#45;&gt;/p/gpfs1/iopp/temp/cm1r20.3.2846829/config_files/les_HurrBoundLayer/cm1out_000001_u.dat -->\n",
       "<g id=\"edge210\" class=\"edge\">\n",
       "<title>close&#45;&gt;/p/gpfs1/iopp/temp/cm1r20.3.2846829/config_files/les_HurrBoundLayer/cm1out_000001_u.dat</title>\n",
       "<path fill=\"none\" stroke=\"black\" d=\"M3013.02,-103.92C3181.16,-103.41 3910.18,-99.42 4006.49,-69 4018.13,-65.32 4017.83,-57.59 4029.49,-54 4077.66,-39.16 4886.11,-37.31 4936.49,-36 4996.52,-34.44 5060.39,-32.56 5122.19,-30.63\"/>\n",
       "<polygon fill=\"black\" stroke=\"black\" points=\"5122.6,-34.12 5132.49,-30.31 5122.39,-27.12 5122.6,-34.12\"/>\n",
       "<text text-anchor=\"middle\" x=\"4034.49\" y=\"-57.8\" font-family=\"Times,serif\" font-size=\"14.00\">1</text>\n",
       "</g>\n",
       "<!-- close&#45;&gt;/p/gpfs1/iopp/temp/cm1r20.3.2846829/config_files/les_HurrBoundLayer/cm1out_000001_u.dat -->\n",
       "<g id=\"edge214\" class=\"edge\">\n",
       "<title>close&#45;&gt;/p/gpfs1/iopp/temp/cm1r20.3.2846829/config_files/les_HurrBoundLayer/cm1out_000001_u.dat</title>\n",
       "<path fill=\"none\" stroke=\"black\" d=\"M3012.98,-103.96C3184.33,-103.64 3939.85,-100.42 4039.49,-69 4051.13,-65.33 4050.83,-57.6 4062.49,-54 4108.9,-39.68 4887.95,-37.28 4936.49,-36 4996.41,-34.42 5060.16,-32.53 5121.85,-30.6\"/>\n",
       "<polygon fill=\"black\" stroke=\"black\" points=\"5122.25,-34.09 5132.14,-30.28 5122.03,-27.09 5122.25,-34.09\"/>\n",
       "<text text-anchor=\"middle\" x=\"4067.49\" y=\"-57.8\" font-family=\"Times,serif\" font-size=\"14.00\">1</text>\n",
       "</g>\n",
       "<!-- close&#45;&gt;/p/gpfs1/iopp/temp/cm1r20.3.2846829/config_files/les_HurrBoundLayer/cm1out_000001_u.dat -->\n",
       "<g id=\"edge218\" class=\"edge\">\n",
       "<title>close&#45;&gt;/p/gpfs1/iopp/temp/cm1r20.3.2846829/config_files/les_HurrBoundLayer/cm1out_000001_u.dat</title>\n",
       "<path fill=\"none\" stroke=\"black\" d=\"M3012.89,-104C3187.29,-103.86 3969.52,-101.41 4072.49,-69 4084.14,-65.34 4083.83,-57.6 4095.49,-54 4140.15,-40.21 4889.78,-37.25 4936.49,-36 4996.2,-34.4 5059.7,-32.51 5121.18,-30.58\"/>\n",
       "<polygon fill=\"black\" stroke=\"black\" points=\"5121.55,-34.07 5131.43,-30.26 5121.33,-27.08 5121.55,-34.07\"/>\n",
       "<text text-anchor=\"middle\" x=\"4100.49\" y=\"-57.8\" font-family=\"Times,serif\" font-size=\"14.00\">1</text>\n",
       "</g>\n",
       "<!-- close&#45;&gt;/p/gpfs1/iopp/temp/cm1r20.3.2846829/config_files/les_HurrBoundLayer/cm1out_000001_u.dat -->\n",
       "<g id=\"edge222\" class=\"edge\">\n",
       "<title>close&#45;&gt;/p/gpfs1/iopp/temp/cm1r20.3.2846829/config_files/les_HurrBoundLayer/cm1out_000001_u.dat</title>\n",
       "<path fill=\"none\" stroke=\"black\" d=\"M3013.06,-104.08C3191,-104.32 3999.57,-103.48 4105.49,-69 4116.75,-65.34 4116.23,-57.61 4127.49,-54 4170.3,-40.27 4891.56,-37.22 4936.49,-36 4995.98,-34.38 5059.24,-32.48 5120.51,-30.56\"/>\n",
       "<polygon fill=\"black\" stroke=\"black\" points=\"5120.84,-34.05 5130.73,-30.24 5120.62,-27.06 5120.84,-34.05\"/>\n",
       "<text text-anchor=\"middle\" x=\"4132.49\" y=\"-57.8\" font-family=\"Times,serif\" font-size=\"14.00\">1</text>\n",
       "</g>\n",
       "<!-- /p/gpfs1/iopp/temp/cm1r20.3.2846829/config_files/les_HurrBoundLayer/cm1out_000001_v.dat -->\n",
       "<g id=\"node38\" class=\"node\">\n",
       "<title>/p/gpfs1/iopp/temp/cm1r20.3.2846829/config_files/les_HurrBoundLayer/cm1out_000001_v.dat</title>\n",
       "<ellipse fill=\"none\" stroke=\"black\" cx=\"3418.49\" cy=\"-18\" rx=\"451.92\" ry=\"18\"/>\n",
       "<text text-anchor=\"middle\" x=\"3418.49\" y=\"-14.3\" font-family=\"Times,serif\" font-size=\"14.00\">/p/gpfs1/iopp/temp/cm1r20.3.2846829/config_files/les_HurrBoundLayer/cm1out_000001_v.dat</text>\n",
       "</g>\n",
       "<!-- close&#45;&gt;/p/gpfs1/iopp/temp/cm1r20.3.2846829/config_files/les_HurrBoundLayer/cm1out_000001_v.dat -->\n",
       "<g id=\"edge226\" class=\"edge\">\n",
       "<title>close&#45;&gt;/p/gpfs1/iopp/temp/cm1r20.3.2846829/config_files/les_HurrBoundLayer/cm1out_000001_v.dat</title>\n",
       "<path fill=\"none\" stroke=\"black\" d=\"M2943.8,-104.04C2687.27,-104.22 1093.84,-103.98 1059.49,-69 1054.82,-64.24 1054.82,-58.75 1059.49,-54 1076.01,-37.24 2285.57,-26.5 2965.99,-21.78\"/>\n",
       "<polygon fill=\"black\" stroke=\"black\" points=\"2966.24,-25.28 2976.21,-21.71 2966.19,-18.28 2966.24,-25.28\"/>\n",
       "<text text-anchor=\"middle\" x=\"1064.49\" y=\"-57.8\" font-family=\"Times,serif\" font-size=\"14.00\">1</text>\n",
       "</g>\n",
       "<!-- close&#45;&gt;/p/gpfs1/iopp/temp/cm1r20.3.2846829/config_files/les_HurrBoundLayer/cm1out_000001_v.dat -->\n",
       "<g id=\"edge232\" class=\"edge\">\n",
       "<title>close&#45;&gt;/p/gpfs1/iopp/temp/cm1r20.3.2846829/config_files/les_HurrBoundLayer/cm1out_000001_v.dat</title>\n",
       "<path fill=\"none\" stroke=\"black\" d=\"M2944,-104.02C2690.62,-104.13 1126.23,-103.36 1092.49,-69 1087.82,-64.24 1087.82,-58.75 1092.49,-54 1108.73,-37.52 2294.68,-26.69 2966.61,-21.87\"/>\n",
       "<polygon fill=\"black\" stroke=\"black\" points=\"2966.98,-25.37 2976.96,-21.8 2966.93,-18.37 2966.98,-25.37\"/>\n",
       "<text text-anchor=\"middle\" x=\"1097.49\" y=\"-57.8\" font-family=\"Times,serif\" font-size=\"14.00\">1</text>\n",
       "</g>\n",
       "<!-- close&#45;&gt;/p/gpfs1/iopp/temp/cm1r20.3.2846829/config_files/les_HurrBoundLayer/cm1out_000001_v.dat -->\n",
       "<g id=\"edge236\" class=\"edge\">\n",
       "<title>close&#45;&gt;/p/gpfs1/iopp/temp/cm1r20.3.2846829/config_files/les_HurrBoundLayer/cm1out_000001_v.dat</title>\n",
       "<path fill=\"none\" stroke=\"black\" d=\"M2943.8,-104.01C2692.39,-104.03 1158.59,-102.73 1125.49,-69 1120.83,-64.24 1120.82,-58.75 1125.49,-54 1141.45,-37.79 2303.89,-26.89 2967.28,-21.97\"/>\n",
       "<polygon fill=\"black\" stroke=\"black\" points=\"2967.52,-25.47 2977.5,-21.9 2967.47,-18.47 2967.52,-25.47\"/>\n",
       "<text text-anchor=\"middle\" x=\"1130.49\" y=\"-57.8\" font-family=\"Times,serif\" font-size=\"14.00\">1</text>\n",
       "</g>\n",
       "<!-- close&#45;&gt;/p/gpfs1/iopp/temp/cm1r20.3.2846829/config_files/les_HurrBoundLayer/cm1out_000001_v.dat -->\n",
       "<g id=\"edge238\" class=\"edge\">\n",
       "<title>close&#45;&gt;/p/gpfs1/iopp/temp/cm1r20.3.2846829/config_files/les_HurrBoundLayer/cm1out_000001_v.dat</title>\n",
       "<path fill=\"none\" stroke=\"black\" d=\"M2944.02,-104C2695.88,-103.93 1190.98,-102.12 1158.49,-69 1153.83,-64.24 1153.82,-58.75 1158.49,-54 1189.61,-22.39 2304.64,-17.98 2956.61,-18.11\"/>\n",
       "<polygon fill=\"black\" stroke=\"black\" points=\"2956.65,-21.61 2966.65,-18.11 2956.65,-14.61 2956.65,-21.61\"/>\n",
       "<text text-anchor=\"middle\" x=\"1163.49\" y=\"-57.8\" font-family=\"Times,serif\" font-size=\"14.00\">1</text>\n",
       "</g>\n",
       "<!-- close&#45;&gt;/p/gpfs1/iopp/temp/cm1r20.3.2846829/config_files/les_HurrBoundLayer/cm1out_000001_v.dat -->\n",
       "<g id=\"edge242\" class=\"edge\">\n",
       "<title>close&#45;&gt;/p/gpfs1/iopp/temp/cm1r20.3.2846829/config_files/les_HurrBoundLayer/cm1out_000001_v.dat</title>\n",
       "<path fill=\"none\" stroke=\"black\" d=\"M2943.87,-103.99C2697.86,-103.82 1223.35,-101.49 1191.49,-69 1186.83,-64.24 1186.82,-58.75 1191.49,-54 1222.04,-22.97 2312.83,-18.28 2956.24,-18.23\"/>\n",
       "<polygon fill=\"black\" stroke=\"black\" points=\"2956.62,-21.73 2966.62,-18.23 2956.62,-14.73 2956.62,-21.73\"/>\n",
       "<text text-anchor=\"middle\" x=\"1196.49\" y=\"-57.8\" font-family=\"Times,serif\" font-size=\"14.00\">1</text>\n",
       "</g>\n",
       "<!-- close&#45;&gt;/p/gpfs1/iopp/temp/cm1r20.3.2846829/config_files/les_HurrBoundLayer/cm1out_000001_v.dat -->\n",
       "<g id=\"edge246\" class=\"edge\">\n",
       "<title>close&#45;&gt;/p/gpfs1/iopp/temp/cm1r20.3.2846829/config_files/les_HurrBoundLayer/cm1out_000001_v.dat</title>\n",
       "<path fill=\"none\" stroke=\"black\" d=\"M2943.73,-103.97C2699.96,-103.72 1255.73,-100.86 1224.49,-69 1219.83,-64.24 1219.82,-58.75 1224.49,-54 1254.48,-23.53 2321.81,-18.58 2956.51,-18.35\"/>\n",
       "<polygon fill=\"black\" stroke=\"black\" points=\"2956.76,-21.85 2966.76,-18.34 2956.75,-14.85 2956.76,-21.85\"/>\n",
       "<text text-anchor=\"middle\" x=\"1229.49\" y=\"-57.8\" font-family=\"Times,serif\" font-size=\"14.00\">1</text>\n",
       "</g>\n",
       "<!-- close&#45;&gt;/p/gpfs1/iopp/temp/cm1r20.3.2846829/config_files/les_HurrBoundLayer/cm1out_000001_v.dat -->\n",
       "<g id=\"edge250\" class=\"edge\">\n",
       "<title>close&#45;&gt;/p/gpfs1/iopp/temp/cm1r20.3.2846829/config_files/les_HurrBoundLayer/cm1out_000001_v.dat</title>\n",
       "<path fill=\"none\" stroke=\"black\" d=\"M2944,-103.96C2703.69,-103.62 1288.12,-100.25 1257.49,-69 1252.83,-64.24 1252.82,-58.75 1257.49,-54 1286.92,-24.09 2330.67,-18.89 2956.62,-18.47\"/>\n",
       "<polygon fill=\"black\" stroke=\"black\" points=\"2956.73,-21.97 2966.73,-18.47 2956.73,-14.97 2956.73,-21.97\"/>\n",
       "<text text-anchor=\"middle\" x=\"1262.49\" y=\"-57.8\" font-family=\"Times,serif\" font-size=\"14.00\">1</text>\n",
       "</g>\n",
       "<!-- close&#45;&gt;/p/gpfs1/iopp/temp/cm1r20.3.2846829/config_files/les_HurrBoundLayer/cm1out_000001_v.dat -->\n",
       "<g id=\"edge254\" class=\"edge\">\n",
       "<title>close&#45;&gt;/p/gpfs1/iopp/temp/cm1r20.3.2846829/config_files/les_HurrBoundLayer/cm1out_000001_v.dat</title>\n",
       "<path fill=\"none\" stroke=\"black\" d=\"M2943.9,-103.95C2705.99,-103.51 1320.49,-99.63 1290.49,-69 1285.83,-64.24 1285.82,-58.75 1290.49,-54 1319.36,-24.66 2339.29,-19.21 2956.46,-18.6\"/>\n",
       "<polygon fill=\"black\" stroke=\"black\" points=\"2956.88,-22.1 2966.88,-18.59 2956.87,-15.1 2956.88,-22.1\"/>\n",
       "<text text-anchor=\"middle\" x=\"1295.49\" y=\"-57.8\" font-family=\"Times,serif\" font-size=\"14.00\">1</text>\n",
       "</g>\n",
       "<!-- close&#45;&gt;/p/gpfs1/iopp/temp/cm1r20.3.2846829/config_files/les_HurrBoundLayer/cm1out_000001_v.dat -->\n",
       "<g id=\"edge258\" class=\"edge\">\n",
       "<title>close&#45;&gt;/p/gpfs1/iopp/temp/cm1r20.3.2846829/config_files/les_HurrBoundLayer/cm1out_000001_v.dat</title>\n",
       "<path fill=\"none\" stroke=\"black\" d=\"M2943.83,-103.93C2708.42,-103.4 1352.87,-99 1323.49,-69 1318.83,-64.24 1318.82,-58.75 1323.49,-54 1351.8,-25.22 2348.34,-19.53 2956.61,-18.74\"/>\n",
       "<polygon fill=\"black\" stroke=\"black\" points=\"2956.89,-22.24 2966.88,-18.73 2956.88,-15.24 2956.89,-22.24\"/>\n",
       "<text text-anchor=\"middle\" x=\"1328.49\" y=\"-57.8\" font-family=\"Times,serif\" font-size=\"14.00\">1</text>\n",
       "</g>\n",
       "<!-- close&#45;&gt;/p/gpfs1/iopp/temp/cm1r20.3.2846829/config_files/les_HurrBoundLayer/cm1out_000001_v.dat -->\n",
       "<g id=\"edge262\" class=\"edge\">\n",
       "<title>close&#45;&gt;/p/gpfs1/iopp/temp/cm1r20.3.2846829/config_files/les_HurrBoundLayer/cm1out_000001_v.dat</title>\n",
       "<path fill=\"none\" stroke=\"black\" d=\"M2943.77,-103.92C2710.96,-103.28 1385.25,-98.38 1356.49,-69 1351.83,-64.24 1351.82,-58.75 1356.49,-54 1384.24,-25.78 2357.65,-19.85 2956.95,-18.88\"/>\n",
       "<polygon fill=\"black\" stroke=\"black\" points=\"2957.08,-22.38 2967.07,-18.86 2957.07,-15.38 2957.08,-22.38\"/>\n",
       "<text text-anchor=\"middle\" x=\"1361.49\" y=\"-57.8\" font-family=\"Times,serif\" font-size=\"14.00\">1</text>\n",
       "</g>\n",
       "<!-- close&#45;&gt;/p/gpfs1/iopp/temp/cm1r20.3.2846829/config_files/les_HurrBoundLayer/cm1out_000001_v.dat -->\n",
       "<g id=\"edge266\" class=\"edge\">\n",
       "<title>close&#45;&gt;/p/gpfs1/iopp/temp/cm1r20.3.2846829/config_files/les_HurrBoundLayer/cm1out_000001_v.dat</title>\n",
       "<path fill=\"none\" stroke=\"black\" d=\"M2943.74,-103.9C2713.62,-103.17 1417.62,-97.76 1389.49,-69 1384.83,-64.23 1384.82,-58.75 1389.49,-54 1416.68,-26.34 2366.77,-20.17 2957.05,-19.02\"/>\n",
       "<polygon fill=\"black\" stroke=\"black\" points=\"2957.46,-22.52 2967.45,-19 2957.44,-15.52 2957.46,-22.52\"/>\n",
       "<text text-anchor=\"middle\" x=\"1394.49\" y=\"-57.8\" font-family=\"Times,serif\" font-size=\"14.00\">1</text>\n",
       "</g>\n",
       "<!-- close&#45;&gt;/p/gpfs1/iopp/temp/cm1r20.3.2846829/config_files/les_HurrBoundLayer/cm1out_000001_v.dat -->\n",
       "<g id=\"edge270\" class=\"edge\">\n",
       "<title>close&#45;&gt;/p/gpfs1/iopp/temp/cm1r20.3.2846829/config_files/les_HurrBoundLayer/cm1out_000001_v.dat</title>\n",
       "<path fill=\"none\" stroke=\"black\" d=\"M2944.1,-103.89C2717.76,-103.06 1450.02,-97.15 1422.49,-69 1417.83,-64.23 1417.82,-58.76 1422.49,-54 1449.12,-26.9 2375.97,-20.51 2957.16,-19.17\"/>\n",
       "<polygon fill=\"black\" stroke=\"black\" points=\"2957.41,-22.66 2967.4,-19.14 2957.39,-15.66 2957.41,-22.66\"/>\n",
       "<text text-anchor=\"middle\" x=\"1427.49\" y=\"-57.8\" font-family=\"Times,serif\" font-size=\"14.00\">1</text>\n",
       "</g>\n",
       "<!-- close&#45;&gt;/p/gpfs1/iopp/temp/cm1r20.3.2846829/config_files/les_HurrBoundLayer/cm1out_000001_v.dat -->\n",
       "<g id=\"edge274\" class=\"edge\">\n",
       "<title>close&#45;&gt;/p/gpfs1/iopp/temp/cm1r20.3.2846829/config_files/les_HurrBoundLayer/cm1out_000001_v.dat</title>\n",
       "<path fill=\"none\" stroke=\"black\" d=\"M2943.76,-103.87C2719.3,-102.93 1482.39,-96.52 1455.49,-69 1450.84,-64.23 1450.82,-58.76 1455.49,-54 1481.57,-27.46 2385.79,-20.84 2957.78,-19.32\"/>\n",
       "<polygon fill=\"black\" stroke=\"black\" points=\"2957.87,-22.82 2967.86,-19.29 2957.85,-15.82 2957.87,-22.82\"/>\n",
       "<text text-anchor=\"middle\" x=\"1460.49\" y=\"-57.8\" font-family=\"Times,serif\" font-size=\"14.00\">1</text>\n",
       "</g>\n",
       "<!-- close&#45;&gt;/p/gpfs1/iopp/temp/cm1r20.3.2846829/config_files/les_HurrBoundLayer/cm1out_000001_v.dat -->\n",
       "<g id=\"edge278\" class=\"edge\">\n",
       "<title>close&#45;&gt;/p/gpfs1/iopp/temp/cm1r20.3.2846829/config_files/les_HurrBoundLayer/cm1out_000001_v.dat</title>\n",
       "<path fill=\"none\" stroke=\"black\" d=\"M2943.8,-103.85C2722.32,-102.81 1514.77,-95.9 1488.49,-69 1483.84,-64.23 1483.82,-58.76 1488.49,-54 1514.01,-28.02 2395.14,-21.18 2957.89,-19.47\"/>\n",
       "<polygon fill=\"black\" stroke=\"black\" points=\"2958.23,-22.97 2968.22,-19.44 2958.21,-15.97 2958.23,-22.97\"/>\n",
       "<text text-anchor=\"middle\" x=\"1493.49\" y=\"-57.8\" font-family=\"Times,serif\" font-size=\"14.00\">1</text>\n",
       "</g>\n",
       "<!-- close&#45;&gt;/p/gpfs1/iopp/temp/cm1r20.3.2846829/config_files/les_HurrBoundLayer/cm1out_000001_v.dat -->\n",
       "<g id=\"edge282\" class=\"edge\">\n",
       "<title>close&#45;&gt;/p/gpfs1/iopp/temp/cm1r20.3.2846829/config_files/les_HurrBoundLayer/cm1out_000001_v.dat</title>\n",
       "<path fill=\"none\" stroke=\"black\" d=\"M2943.86,-103.83C2725.45,-102.68 1547.15,-95.28 1521.49,-69 1516.84,-64.23 1516.82,-58.76 1521.49,-54 1546.46,-28.57 2404.92,-21.53 2958.34,-19.63\"/>\n",
       "<polygon fill=\"black\" stroke=\"black\" points=\"2958.51,-23.13 2968.5,-19.6 2958.49,-16.13 2958.51,-23.13\"/>\n",
       "<text text-anchor=\"middle\" x=\"1526.49\" y=\"-57.8\" font-family=\"Times,serif\" font-size=\"14.00\">1</text>\n",
       "</g>\n",
       "<!-- close&#45;&gt;/p/gpfs1/iopp/temp/cm1r20.3.2846829/config_files/les_HurrBoundLayer/cm1out_000001_v.dat -->\n",
       "<g id=\"edge286\" class=\"edge\">\n",
       "<title>close&#45;&gt;/p/gpfs1/iopp/temp/cm1r20.3.2846829/config_files/les_HurrBoundLayer/cm1out_000001_v.dat</title>\n",
       "<path fill=\"none\" stroke=\"black\" d=\"M2943.95,-103.81C2728.71,-102.56 1579.54,-94.67 1554.49,-69 1549.84,-64.23 1549.83,-58.76 1554.49,-54 1578.9,-29.13 2414.29,-21.88 2958.31,-19.8\"/>\n",
       "<polygon fill=\"black\" stroke=\"black\" points=\"2958.71,-23.3 2968.7,-19.76 2958.69,-16.3 2958.71,-23.3\"/>\n",
       "<text text-anchor=\"middle\" x=\"1559.49\" y=\"-57.8\" font-family=\"Times,serif\" font-size=\"14.00\">1</text>\n",
       "</g>\n",
       "<!-- close&#45;&gt;/p/gpfs1/iopp/temp/cm1r20.3.2846829/config_files/les_HurrBoundLayer/cm1out_000001_v.dat -->\n",
       "<g id=\"edge290\" class=\"edge\">\n",
       "<title>close&#45;&gt;/p/gpfs1/iopp/temp/cm1r20.3.2846829/config_files/les_HurrBoundLayer/cm1out_000001_v.dat</title>\n",
       "<path fill=\"none\" stroke=\"black\" d=\"M2944.07,-103.79C2732.08,-102.43 1611.92,-94.05 1587.49,-69 1582.84,-64.23 1582.83,-58.76 1587.49,-54 1611.35,-29.68 2424.39,-22.24 2958.92,-19.97\"/>\n",
       "<polygon fill=\"black\" stroke=\"black\" points=\"2959.15,-23.47 2969.13,-19.93 2959.12,-16.47 2959.15,-23.47\"/>\n",
       "<text text-anchor=\"middle\" x=\"1592.49\" y=\"-57.8\" font-family=\"Times,serif\" font-size=\"14.00\">1</text>\n",
       "</g>\n",
       "<!-- close&#45;&gt;/p/gpfs1/iopp/temp/cm1r20.3.2846829/config_files/les_HurrBoundLayer/cm1out_000001_v.dat -->\n",
       "<g id=\"edge294\" class=\"edge\">\n",
       "<title>close&#45;&gt;/p/gpfs1/iopp/temp/cm1r20.3.2846829/config_files/les_HurrBoundLayer/cm1out_000001_v.dat</title>\n",
       "<path fill=\"none\" stroke=\"black\" d=\"M2943.88,-103.77C2734.38,-102.29 1644.3,-93.42 1620.49,-69 1615.84,-64.23 1615.83,-58.76 1620.49,-54 1643.81,-30.23 2434.8,-22.6 2959.77,-20.15\"/>\n",
       "<polygon fill=\"black\" stroke=\"black\" points=\"2959.81,-23.65 2969.8,-20.1 2959.78,-16.65 2959.81,-23.65\"/>\n",
       "<text text-anchor=\"middle\" x=\"1625.49\" y=\"-57.8\" font-family=\"Times,serif\" font-size=\"14.00\">1</text>\n",
       "</g>\n",
       "<!-- close&#45;&gt;/p/gpfs1/iopp/temp/cm1r20.3.2846829/config_files/les_HurrBoundLayer/cm1out_000001_v.dat -->\n",
       "<g id=\"edge298\" class=\"edge\">\n",
       "<title>close&#45;&gt;/p/gpfs1/iopp/temp/cm1r20.3.2846829/config_files/les_HurrBoundLayer/cm1out_000001_v.dat</title>\n",
       "<path fill=\"none\" stroke=\"black\" d=\"M2944.05,-103.75C2738.02,-102.16 1676.69,-92.81 1653.49,-69 1648.84,-64.22 1648.83,-58.76 1653.49,-54 1676.26,-30.78 2444.86,-22.97 2960.19,-20.33\"/>\n",
       "<polygon fill=\"black\" stroke=\"black\" points=\"2960.43,-23.83 2970.42,-20.28 2960.4,-16.83 2960.43,-23.83\"/>\n",
       "<text text-anchor=\"middle\" x=\"1658.49\" y=\"-57.8\" font-family=\"Times,serif\" font-size=\"14.00\">1</text>\n",
       "</g>\n",
       "<!-- close&#45;&gt;/p/gpfs1/iopp/temp/cm1r20.3.2846829/config_files/les_HurrBoundLayer/cm1out_000001_v.dat -->\n",
       "<g id=\"edge302\" class=\"edge\">\n",
       "<title>close&#45;&gt;/p/gpfs1/iopp/temp/cm1r20.3.2846829/config_files/les_HurrBoundLayer/cm1out_000001_v.dat</title>\n",
       "<path fill=\"none\" stroke=\"black\" d=\"M2943.93,-103.72C2740.65,-102.01 1709.07,-92.19 1686.49,-69 1681.84,-64.22 1681.83,-58.76 1686.49,-54 1708.71,-31.33 2455.36,-23.34 2960.97,-20.52\"/>\n",
       "<polygon fill=\"black\" stroke=\"black\" points=\"2961.02,-24.02 2971,-20.47 2960.99,-17.02 2961.02,-24.02\"/>\n",
       "<text text-anchor=\"middle\" x=\"1691.49\" y=\"-57.8\" font-family=\"Times,serif\" font-size=\"14.00\">1</text>\n",
       "</g>\n",
       "<!-- close&#45;&gt;/p/gpfs1/iopp/temp/cm1r20.3.2846829/config_files/les_HurrBoundLayer/cm1out_000001_v.dat -->\n",
       "<g id=\"edge306\" class=\"edge\">\n",
       "<title>close&#45;&gt;/p/gpfs1/iopp/temp/cm1r20.3.2846829/config_files/les_HurrBoundLayer/cm1out_000001_v.dat</title>\n",
       "<path fill=\"none\" stroke=\"black\" d=\"M2943.84,-103.7C2743.46,-101.86 1741.45,-91.57 1719.49,-69 1714.85,-64.22 1714.83,-58.76 1719.49,-54 1741.16,-31.88 2465.56,-23.72 2961.37,-20.72\"/>\n",
       "<polygon fill=\"black\" stroke=\"black\" points=\"2961.6,-24.22 2971.57,-20.66 2961.55,-17.22 2961.6,-24.22\"/>\n",
       "<text text-anchor=\"middle\" x=\"1724.49\" y=\"-57.8\" font-family=\"Times,serif\" font-size=\"14.00\">1</text>\n",
       "</g>\n",
       "<!-- close&#45;&gt;/p/gpfs1/iopp/temp/cm1r20.3.2846829/config_files/les_HurrBoundLayer/cm1out_000001_v.dat -->\n",
       "<g id=\"edge310\" class=\"edge\">\n",
       "<title>close&#45;&gt;/p/gpfs1/iopp/temp/cm1r20.3.2846829/config_files/les_HurrBoundLayer/cm1out_000001_v.dat</title>\n",
       "<path fill=\"none\" stroke=\"black\" d=\"M2944.11,-103.67C2747.5,-101.72 1773.84,-90.96 1752.49,-69 1747.85,-64.22 1747.83,-58.76 1752.49,-54 1773.63,-32.42 2476.47,-24.1 2962.41,-20.92\"/>\n",
       "<polygon fill=\"black\" stroke=\"black\" points=\"2962.44,-24.42 2972.41,-20.86 2962.39,-17.42 2962.44,-24.42\"/>\n",
       "<text text-anchor=\"middle\" x=\"1757.49\" y=\"-57.8\" font-family=\"Times,serif\" font-size=\"14.00\">1</text>\n",
       "</g>\n",
       "<!-- close&#45;&gt;/p/gpfs1/iopp/temp/cm1r20.3.2846829/config_files/les_HurrBoundLayer/cm1out_000001_v.dat -->\n",
       "<g id=\"edge314\" class=\"edge\">\n",
       "<title>close&#45;&gt;/p/gpfs1/iopp/temp/cm1r20.3.2846829/config_files/les_HurrBoundLayer/cm1out_000001_v.dat</title>\n",
       "<path fill=\"none\" stroke=\"black\" d=\"M2944.09,-103.64C2750.63,-101.57 1806.22,-90.35 1785.49,-69 1780.85,-64.22 1780.83,-58.76 1785.49,-54 1806.08,-32.97 2487.13,-24.49 2963.11,-21.14\"/>\n",
       "<polygon fill=\"black\" stroke=\"black\" points=\"2963.28,-24.64 2973.26,-21.07 2963.23,-17.64 2963.28,-24.64\"/>\n",
       "<text text-anchor=\"middle\" x=\"1790.49\" y=\"-57.8\" font-family=\"Times,serif\" font-size=\"14.00\">1</text>\n",
       "</g>\n",
       "<!-- close&#45;&gt;/p/gpfs1/iopp/temp/cm1r20.3.2846829/config_files/les_HurrBoundLayer/cm1out_000001_v.dat -->\n",
       "<g id=\"edge318\" class=\"edge\">\n",
       "<title>close&#45;&gt;/p/gpfs1/iopp/temp/cm1r20.3.2846829/config_files/les_HurrBoundLayer/cm1out_000001_v.dat</title>\n",
       "<path fill=\"none\" stroke=\"black\" d=\"M2944.11,-103.62C2753.94,-101.41 1838.61,-89.73 1818.49,-69 1813.85,-64.22 1813.83,-58.77 1818.49,-54 1838.54,-33.51 2497.92,-24.89 2963.84,-21.36\"/>\n",
       "<polygon fill=\"black\" stroke=\"black\" points=\"2964.15,-24.85 2974.12,-21.28 2964.1,-17.85 2964.15,-24.85\"/>\n",
       "<text text-anchor=\"middle\" x=\"1823.49\" y=\"-57.8\" font-family=\"Times,serif\" font-size=\"14.00\">1</text>\n",
       "</g>\n",
       "<!-- close&#45;&gt;/p/gpfs1/iopp/temp/cm1r20.3.2846829/config_files/les_HurrBoundLayer/cm1out_000001_v.dat -->\n",
       "<g id=\"edge322\" class=\"edge\">\n",
       "<title>close&#45;&gt;/p/gpfs1/iopp/temp/cm1r20.3.2846829/config_files/les_HurrBoundLayer/cm1out_000001_v.dat</title>\n",
       "<path fill=\"none\" stroke=\"black\" d=\"M2943.93,-104.26C2758.68,-105.51 1890.43,-109.17 1851.49,-69 1846.85,-64.21 1846.83,-58.77 1851.49,-54 1871.01,-34.05 2509.4,-25.29 2965.22,-21.58\"/>\n",
       "<polygon fill=\"black\" stroke=\"black\" points=\"2965.31,-25.08 2975.28,-21.5 2965.25,-18.08 2965.31,-25.08\"/>\n",
       "<text text-anchor=\"middle\" x=\"1856.49\" y=\"-57.8\" font-family=\"Times,serif\" font-size=\"14.00\">1</text>\n",
       "</g>\n",
       "<!-- close&#45;&gt;/p/gpfs1/iopp/temp/cm1r20.3.2846829/config_files/les_HurrBoundLayer/cm1out_000001_v.dat -->\n",
       "<g id=\"edge326\" class=\"edge\">\n",
       "<title>close&#45;&gt;/p/gpfs1/iopp/temp/cm1r20.3.2846829/config_files/les_HurrBoundLayer/cm1out_000001_v.dat</title>\n",
       "<path fill=\"none\" stroke=\"black\" d=\"M2944.05,-104.23C2762.35,-105.27 1922.21,-107.95 1884.49,-69 1879.86,-64.21 1879.83,-58.77 1884.49,-54 1903.47,-34.58 2520.7,-25.7 2966.32,-21.81\"/>\n",
       "<polygon fill=\"black\" stroke=\"black\" points=\"2966.52,-25.31 2976.48,-21.72 2966.45,-18.31 2966.52,-25.31\"/>\n",
       "<text text-anchor=\"middle\" x=\"1889.49\" y=\"-57.8\" font-family=\"Times,serif\" font-size=\"14.00\">1</text>\n",
       "</g>\n",
       "<!-- close&#45;&gt;/p/gpfs1/iopp/temp/cm1r20.3.2846829/config_files/les_HurrBoundLayer/cm1out_000001_v.dat -->\n",
       "<g id=\"edge330\" class=\"edge\">\n",
       "<title>close&#45;&gt;/p/gpfs1/iopp/temp/cm1r20.3.2846829/config_files/les_HurrBoundLayer/cm1out_000001_v.dat</title>\n",
       "<path fill=\"none\" stroke=\"black\" d=\"M2943.92,-104.19C2765.3,-105.02 1953.98,-106.71 1917.49,-69 1912.86,-64.21 1912.84,-58.77 1917.49,-54 1935.94,-35.12 2532.16,-26.12 2967.49,-22.06\"/>\n",
       "<polygon fill=\"black\" stroke=\"black\" points=\"2967.78,-25.55 2977.75,-21.96 2967.72,-18.55 2967.78,-25.55\"/>\n",
       "<text text-anchor=\"middle\" x=\"1922.49\" y=\"-57.8\" font-family=\"Times,serif\" font-size=\"14.00\">1</text>\n",
       "</g>\n",
       "<!-- close&#45;&gt;/p/gpfs1/iopp/temp/cm1r20.3.2846829/config_files/les_HurrBoundLayer/cm1out_000001_v.dat -->\n",
       "<g id=\"edge334\" class=\"edge\">\n",
       "<title>close&#45;&gt;/p/gpfs1/iopp/temp/cm1r20.3.2846829/config_files/les_HurrBoundLayer/cm1out_000001_v.dat</title>\n",
       "<path fill=\"none\" stroke=\"black\" d=\"M2943.84,-104.15C2768.48,-104.77 1985.75,-105.47 1950.49,-69 1945.86,-64.21 1945.84,-58.77 1950.49,-54 1968.41,-35.65 2543.85,-26.54 2968.83,-22.31\"/>\n",
       "<polygon fill=\"black\" stroke=\"black\" points=\"2968.88,-25.81 2978.84,-22.21 2968.81,-18.81 2968.88,-25.81\"/>\n",
       "<text text-anchor=\"middle\" x=\"1955.49\" y=\"-57.8\" font-family=\"Times,serif\" font-size=\"14.00\">1</text>\n",
       "</g>\n",
       "<!-- close&#45;&gt;/p/gpfs1/iopp/temp/cm1r20.3.2846829/config_files/les_HurrBoundLayer/cm1out_000001_v.dat -->\n",
       "<g id=\"edge338\" class=\"edge\">\n",
       "<title>close&#45;&gt;/p/gpfs1/iopp/temp/cm1r20.3.2846829/config_files/les_HurrBoundLayer/cm1out_000001_v.dat</title>\n",
       "<path fill=\"none\" stroke=\"black\" d=\"M2943.83,-104.11C2771.89,-104.51 2017.52,-104.25 1983.49,-69 1978.86,-64.2 1978.84,-58.77 1983.49,-54 2000.88,-36.18 2555.89,-26.97 2970.45,-22.56\"/>\n",
       "<polygon fill=\"black\" stroke=\"black\" points=\"2970.56,-26.06 2980.52,-22.46 2970.48,-19.06 2970.56,-26.06\"/>\n",
       "<text text-anchor=\"middle\" x=\"1988.49\" y=\"-57.8\" font-family=\"Times,serif\" font-size=\"14.00\">1</text>\n",
       "</g>\n",
       "<!-- close&#45;&gt;/p/gpfs1/iopp/temp/cm1r20.3.2846829/config_files/les_HurrBoundLayer/cm1out_000001_v.dat -->\n",
       "<g id=\"edge342\" class=\"edge\">\n",
       "<title>close&#45;&gt;/p/gpfs1/iopp/temp/cm1r20.3.2846829/config_files/les_HurrBoundLayer/cm1out_000001_v.dat</title>\n",
       "<path fill=\"none\" stroke=\"black\" d=\"M2943.87,-104.07C2775.52,-104.25 2049.3,-103.02 2016.49,-69 2011.87,-64.2 2011.84,-58.77 2016.49,-54 2033.36,-36.71 2568.33,-27.4 2972.42,-22.83\"/>\n",
       "<polygon fill=\"black\" stroke=\"black\" points=\"2972.58,-26.33 2982.54,-22.72 2972.5,-19.33 2972.58,-26.33\"/>\n",
       "<text text-anchor=\"middle\" x=\"2021.49\" y=\"-57.8\" font-family=\"Times,serif\" font-size=\"14.00\">1</text>\n",
       "</g>\n",
       "<!-- close&#45;&gt;/p/gpfs1/iopp/temp/cm1r20.3.2846829/config_files/les_HurrBoundLayer/cm1out_000001_v.dat -->\n",
       "<g id=\"edge346\" class=\"edge\">\n",
       "<title>close&#45;&gt;/p/gpfs1/iopp/temp/cm1r20.3.2846829/config_files/les_HurrBoundLayer/cm1out_000001_v.dat</title>\n",
       "<path fill=\"none\" stroke=\"black\" d=\"M2943.97,-104.02C2779.38,-103.97 2081.09,-101.81 2049.49,-69 2044.87,-64.2 2044.84,-58.77 2049.49,-54 2065.84,-37.23 2580.77,-27.85 2974.29,-23.11\"/>\n",
       "<polygon fill=\"black\" stroke=\"black\" points=\"2974.48,-26.6 2984.44,-22.99 2974.4,-19.61 2974.48,-26.6\"/>\n",
       "<text text-anchor=\"middle\" x=\"2054.49\" y=\"-57.8\" font-family=\"Times,serif\" font-size=\"14.00\">1</text>\n",
       "</g>\n",
       "<!-- close&#45;&gt;/p/gpfs1/iopp/temp/cm1r20.3.2846829/config_files/les_HurrBoundLayer/cm1out_000001_v.dat -->\n",
       "<g id=\"edge350\" class=\"edge\">\n",
       "<title>close&#45;&gt;/p/gpfs1/iopp/temp/cm1r20.3.2846829/config_files/les_HurrBoundLayer/cm1out_000001_v.dat</title>\n",
       "<path fill=\"none\" stroke=\"black\" d=\"M2943.86,-103.97C2782.73,-103.68 2112.86,-100.58 2082.49,-69 2077.87,-64.19 2077.84,-58.78 2082.49,-54 2098.32,-37.76 2593.23,-28.3 2976.08,-23.4\"/>\n",
       "<polygon fill=\"black\" stroke=\"black\" points=\"2976.29,-26.9 2986.24,-23.27 2976.2,-19.9 2976.29,-26.9\"/>\n",
       "<text text-anchor=\"middle\" x=\"2087.49\" y=\"-57.8\" font-family=\"Times,serif\" font-size=\"14.00\">1</text>\n",
       "</g>\n",
       "<!-- /p/gpfs1/iopp/temp/cm1r20.3.2846829/config_files/les_HurrBoundLayer/cm1out_000001_w.dat -->\n",
       "<g id=\"node39\" class=\"node\">\n",
       "<title>/p/gpfs1/iopp/temp/cm1r20.3.2846829/config_files/les_HurrBoundLayer/cm1out_000001_w.dat</title>\n",
       "<ellipse fill=\"none\" stroke=\"black\" cx=\"4473.49\" cy=\"-18\" rx=\"453.82\" ry=\"18\"/>\n",
       "<text text-anchor=\"middle\" x=\"4473.49\" y=\"-14.3\" font-family=\"Times,serif\" font-size=\"14.00\">/p/gpfs1/iopp/temp/cm1r20.3.2846829/config_files/les_HurrBoundLayer/cm1out_000001_w.dat</text>\n",
       "</g>\n",
       "<!-- close&#45;&gt;/p/gpfs1/iopp/temp/cm1r20.3.2846829/config_files/les_HurrBoundLayer/cm1out_000001_w.dat -->\n",
       "<g id=\"edge354\" class=\"edge\">\n",
       "<title>close&#45;&gt;/p/gpfs1/iopp/temp/cm1r20.3.2846829/config_files/les_HurrBoundLayer/cm1out_000001_w.dat</title>\n",
       "<path fill=\"none\" stroke=\"black\" d=\"M2944.1,-103.92C2787.07,-103.39 2144.66,-99.37 2115.49,-69 2110.88,-64.19 2110.8,-58.74 2115.49,-54 2132.73,-36.59 3855,-36.48 3879.49,-36 3957.89,-34.48 4042.08,-32.36 4121.73,-30.14\"/>\n",
       "<polygon fill=\"black\" stroke=\"black\" points=\"4122.03,-33.63 4131.93,-29.85 4121.83,-26.63 4122.03,-33.63\"/>\n",
       "<text text-anchor=\"middle\" x=\"2120.49\" y=\"-57.8\" font-family=\"Times,serif\" font-size=\"14.00\">1</text>\n",
       "</g>\n",
       "<!-- close&#45;&gt;/p/gpfs1/iopp/temp/cm1r20.3.2846829/config_files/les_HurrBoundLayer/cm1out_000001_w.dat -->\n",
       "<g id=\"edge360\" class=\"edge\">\n",
       "<title>close&#45;&gt;/p/gpfs1/iopp/temp/cm1r20.3.2846829/config_files/les_HurrBoundLayer/cm1out_000001_w.dat</title>\n",
       "<path fill=\"none\" stroke=\"black\" d=\"M2943.88,-103.86C2790.26,-103.08 2176.43,-98.13 2148.49,-69 2143.88,-64.19 2143.81,-58.74 2148.49,-54 2165.41,-36.91 3855.46,-36.47 3879.49,-36 3957.76,-34.47 4041.82,-32.36 4121.36,-30.14\"/>\n",
       "<polygon fill=\"black\" stroke=\"black\" points=\"4121.64,-33.63 4131.54,-29.85 4121.44,-26.63 4121.64,-33.63\"/>\n",
       "<text text-anchor=\"middle\" x=\"2153.49\" y=\"-57.8\" font-family=\"Times,serif\" font-size=\"14.00\">1</text>\n",
       "</g>\n",
       "<!-- close&#45;&gt;/p/gpfs1/iopp/temp/cm1r20.3.2846829/config_files/les_HurrBoundLayer/cm1out_000001_w.dat -->\n",
       "<g id=\"edge364\" class=\"edge\">\n",
       "<title>close&#45;&gt;/p/gpfs1/iopp/temp/cm1r20.3.2846829/config_files/les_HurrBoundLayer/cm1out_000001_w.dat</title>\n",
       "<path fill=\"none\" stroke=\"black\" d=\"M2944.01,-103.8C2794.46,-102.76 2208.22,-96.92 2181.49,-69 2176.89,-64.18 2176.81,-58.74 2181.49,-54 2198.08,-37.23 3855.91,-36.46 3879.49,-36 3957.76,-34.47 4041.82,-32.35 4121.36,-30.13\"/>\n",
       "<polygon fill=\"black\" stroke=\"black\" points=\"4121.64,-33.62 4131.54,-29.84 4121.44,-26.62 4121.64,-33.62\"/>\n",
       "<text text-anchor=\"middle\" x=\"2186.49\" y=\"-57.8\" font-family=\"Times,serif\" font-size=\"14.00\">1</text>\n",
       "</g>\n",
       "<!-- close&#45;&gt;/p/gpfs1/iopp/temp/cm1r20.3.2846829/config_files/les_HurrBoundLayer/cm1out_000001_w.dat -->\n",
       "<g id=\"edge366\" class=\"edge\">\n",
       "<title>close&#45;&gt;/p/gpfs1/iopp/temp/cm1r20.3.2846829/config_files/les_HurrBoundLayer/cm1out_000001_w.dat</title>\n",
       "<path fill=\"none\" stroke=\"black\" d=\"M2943.98,-103.73C2798.3,-102.43 2240,-95.7 2214.49,-69 2209.89,-64.18 2209.81,-58.74 2214.49,-54 2230.76,-37.56 3856.37,-36.46 3879.49,-36 3957.64,-34.46 4041.55,-32.34 4120.98,-30.12\"/>\n",
       "<polygon fill=\"black\" stroke=\"black\" points=\"4121.25,-33.62 4131.14,-29.84 4121.05,-26.62 4121.25,-33.62\"/>\n",
       "<text text-anchor=\"middle\" x=\"2219.49\" y=\"-57.8\" font-family=\"Times,serif\" font-size=\"14.00\">1</text>\n",
       "</g>\n",
       "<!-- close&#45;&gt;/p/gpfs1/iopp/temp/cm1r20.3.2846829/config_files/les_HurrBoundLayer/cm1out_000001_w.dat -->\n",
       "<g id=\"edge370\" class=\"edge\">\n",
       "<title>close&#45;&gt;/p/gpfs1/iopp/temp/cm1r20.3.2846829/config_files/les_HurrBoundLayer/cm1out_000001_w.dat</title>\n",
       "<path fill=\"none\" stroke=\"black\" d=\"M2944.05,-103.66C2802.48,-102.08 2271.79,-94.49 2247.49,-69 2242.89,-64.17 2242.81,-58.74 2247.49,-54 2263.43,-37.88 3856.83,-36.45 3879.49,-36 3957.64,-34.45 4041.55,-32.33 4120.98,-30.11\"/>\n",
       "<polygon fill=\"black\" stroke=\"black\" points=\"4121.25,-33.61 4131.14,-29.83 4121.05,-26.61 4121.25,-33.61\"/>\n",
       "<text text-anchor=\"middle\" x=\"2252.49\" y=\"-57.8\" font-family=\"Times,serif\" font-size=\"14.00\">1</text>\n",
       "</g>\n",
       "<!-- close&#45;&gt;/p/gpfs1/iopp/temp/cm1r20.3.2846829/config_files/les_HurrBoundLayer/cm1out_000001_w.dat -->\n",
       "<g id=\"edge374\" class=\"edge\">\n",
       "<title>close&#45;&gt;/p/gpfs1/iopp/temp/cm1r20.3.2846829/config_files/les_HurrBoundLayer/cm1out_000001_w.dat</title>\n",
       "<path fill=\"none\" stroke=\"black\" d=\"M2943.75,-103.57C2805.86,-101.71 2303.57,-93.26 2280.49,-69 2275.9,-64.17 2275.81,-58.74 2280.49,-54 2296.11,-38.21 3857.29,-36.44 3879.49,-36 3957.64,-34.44 4041.55,-32.32 4120.98,-30.1\"/>\n",
       "<polygon fill=\"black\" stroke=\"black\" points=\"4121.25,-33.59 4131.14,-29.81 4121.05,-26.59 4121.25,-33.59\"/>\n",
       "<text text-anchor=\"middle\" x=\"2285.49\" y=\"-57.8\" font-family=\"Times,serif\" font-size=\"14.00\">1</text>\n",
       "</g>\n",
       "<!-- close&#45;&gt;/p/gpfs1/iopp/temp/cm1r20.3.2846829/config_files/les_HurrBoundLayer/cm1out_000001_w.dat -->\n",
       "<g id=\"edge378\" class=\"edge\">\n",
       "<title>close&#45;&gt;/p/gpfs1/iopp/temp/cm1r20.3.2846829/config_files/les_HurrBoundLayer/cm1out_000001_w.dat</title>\n",
       "<path fill=\"none\" stroke=\"black\" d=\"M2944.04,-103.49C2810.77,-101.34 2335.38,-92.06 2313.49,-69 2308.91,-64.16 2308.81,-58.74 2313.49,-54 2328.79,-38.53 3857.75,-36.44 3879.49,-36 3957.51,-34.44 4041.29,-32.31 4120.6,-30.09\"/>\n",
       "<polygon fill=\"black\" stroke=\"black\" points=\"4120.85,-33.59 4130.75,-29.81 4120.66,-26.59 4120.85,-33.59\"/>\n",
       "<text text-anchor=\"middle\" x=\"2318.49\" y=\"-57.8\" font-family=\"Times,serif\" font-size=\"14.00\">1</text>\n",
       "</g>\n",
       "<!-- close&#45;&gt;/p/gpfs1/iopp/temp/cm1r20.3.2846829/config_files/les_HurrBoundLayer/cm1out_000001_w.dat -->\n",
       "<g id=\"edge382\" class=\"edge\">\n",
       "<title>close&#45;&gt;/p/gpfs1/iopp/temp/cm1r20.3.2846829/config_files/les_HurrBoundLayer/cm1out_000001_w.dat</title>\n",
       "<path fill=\"none\" stroke=\"black\" d=\"M2944,-103.39C2814.99,-100.93 2367.17,-90.85 2346.49,-69 2341.91,-64.16 2341.81,-58.74 2346.49,-54 2361.46,-38.86 3858.21,-36.43 3879.49,-36 3957.51,-34.43 4041.29,-32.3 4120.6,-30.08\"/>\n",
       "<polygon fill=\"black\" stroke=\"black\" points=\"4120.85,-33.57 4130.75,-29.8 4120.66,-26.58 4120.85,-33.57\"/>\n",
       "<text text-anchor=\"middle\" x=\"2351.49\" y=\"-57.8\" font-family=\"Times,serif\" font-size=\"14.00\">1</text>\n",
       "</g>\n",
       "<!-- close&#45;&gt;/p/gpfs1/iopp/temp/cm1r20.3.2846829/config_files/les_HurrBoundLayer/cm1out_000001_w.dat -->\n",
       "<g id=\"edge386\" class=\"edge\">\n",
       "<title>close&#45;&gt;/p/gpfs1/iopp/temp/cm1r20.3.2846829/config_files/les_HurrBoundLayer/cm1out_000001_w.dat</title>\n",
       "<path fill=\"none\" stroke=\"black\" d=\"M2944.11,-103.28C2819.65,-100.51 2398.97,-89.65 2379.49,-69 2374.92,-64.15 2374.81,-58.74 2379.49,-54 2394.14,-39.18 3858.66,-36.42 3879.49,-36 3957.39,-34.42 4041.02,-32.29 4120.22,-30.08\"/>\n",
       "<polygon fill=\"black\" stroke=\"black\" points=\"4120.46,-33.57 4130.36,-29.79 4120.27,-26.57 4120.46,-33.57\"/>\n",
       "<text text-anchor=\"middle\" x=\"2384.49\" y=\"-57.8\" font-family=\"Times,serif\" font-size=\"14.00\">1</text>\n",
       "</g>\n",
       "<!-- close&#45;&gt;/p/gpfs1/iopp/temp/cm1r20.3.2846829/config_files/les_HurrBoundLayer/cm1out_000001_w.dat -->\n",
       "<g id=\"edge390\" class=\"edge\">\n",
       "<title>close&#45;&gt;/p/gpfs1/iopp/temp/cm1r20.3.2846829/config_files/les_HurrBoundLayer/cm1out_000001_w.dat</title>\n",
       "<path fill=\"none\" stroke=\"black\" d=\"M2943.95,-103.15C2823.84,-100.05 2430.76,-88.43 2412.49,-69 2407.93,-64.14 2407.81,-58.74 2412.49,-54 2426.81,-39.5 3859.12,-36.42 3879.49,-36 3957.39,-34.41 4041.02,-32.28 4120.22,-30.06\"/>\n",
       "<polygon fill=\"black\" stroke=\"black\" points=\"4120.46,-33.55 4130.36,-29.78 4120.27,-26.56 4120.46,-33.55\"/>\n",
       "<text text-anchor=\"middle\" x=\"2417.49\" y=\"-57.8\" font-family=\"Times,serif\" font-size=\"14.00\">1</text>\n",
       "</g>\n",
       "<!-- close&#45;&gt;/p/gpfs1/iopp/temp/cm1r20.3.2846829/config_files/les_HurrBoundLayer/cm1out_000001_w.dat -->\n",
       "<g id=\"edge394\" class=\"edge\">\n",
       "<title>close&#45;&gt;/p/gpfs1/iopp/temp/cm1r20.3.2846829/config_files/les_HurrBoundLayer/cm1out_000001_w.dat</title>\n",
       "<path fill=\"none\" stroke=\"black\" d=\"M2943.7,-104.4C2830.71,-105.34 2479.49,-105.3 2445.49,-69 2440.94,-64.13 2440.81,-58.74 2445.49,-54 2459.49,-39.83 3859.58,-36.41 3879.49,-36 3957.27,-34.4 4040.75,-32.27 4119.85,-30.05\"/>\n",
       "<polygon fill=\"black\" stroke=\"black\" points=\"4120.07,-33.55 4129.97,-29.77 4119.87,-26.55 4120.07,-33.55\"/>\n",
       "<text text-anchor=\"middle\" x=\"2450.49\" y=\"-57.8\" font-family=\"Times,serif\" font-size=\"14.00\">1</text>\n",
       "</g>\n",
       "<!-- close&#45;&gt;/p/gpfs1/iopp/temp/cm1r20.3.2846829/config_files/les_HurrBoundLayer/cm1out_000001_w.dat -->\n",
       "<g id=\"edge398\" class=\"edge\">\n",
       "<title>close&#45;&gt;/p/gpfs1/iopp/temp/cm1r20.3.2846829/config_files/les_HurrBoundLayer/cm1out_000001_w.dat</title>\n",
       "<path fill=\"none\" stroke=\"black\" d=\"M2943.97,-104.24C2836.01,-104.62 2510.13,-102.93 2478.49,-69 2473.95,-64.12 2473.81,-58.74 2478.49,-54 2492.17,-40.15 3860.04,-36.4 3879.49,-36 3957.14,-34.39 4040.49,-32.26 4119.47,-30.05\"/>\n",
       "<polygon fill=\"black\" stroke=\"black\" points=\"4119.68,-33.54 4129.58,-29.76 4119.48,-26.55 4119.68,-33.54\"/>\n",
       "<text text-anchor=\"middle\" x=\"2483.49\" y=\"-57.8\" font-family=\"Times,serif\" font-size=\"14.00\">1</text>\n",
       "</g>\n",
       "<!-- close&#45;&gt;/p/gpfs1/iopp/temp/cm1r20.3.2846829/config_files/les_HurrBoundLayer/cm1out_000001_w.dat -->\n",
       "<g id=\"edge402\" class=\"edge\">\n",
       "<title>close&#45;&gt;/p/gpfs1/iopp/temp/cm1r20.3.2846829/config_files/les_HurrBoundLayer/cm1out_000001_w.dat</title>\n",
       "<path fill=\"none\" stroke=\"black\" d=\"M2944.08,-104.05C2841.12,-103.85 2540.77,-100.55 2511.49,-69 2506.96,-64.11 2506.81,-58.74 2511.49,-54 2524.84,-40.48 3860.5,-36.4 3879.49,-36 3957.14,-34.38 4040.49,-32.24 4119.47,-30.03\"/>\n",
       "<polygon fill=\"black\" stroke=\"black\" points=\"4119.68,-33.53 4129.58,-29.75 4119.48,-26.53 4119.68,-33.53\"/>\n",
       "<text text-anchor=\"middle\" x=\"2516.49\" y=\"-57.8\" font-family=\"Times,serif\" font-size=\"14.00\">1</text>\n",
       "</g>\n",
       "<!-- close&#45;&gt;/p/gpfs1/iopp/temp/cm1r20.3.2846829/config_files/les_HurrBoundLayer/cm1out_000001_w.dat -->\n",
       "<g id=\"edge406\" class=\"edge\">\n",
       "<title>close&#45;&gt;/p/gpfs1/iopp/temp/cm1r20.3.2846829/config_files/les_HurrBoundLayer/cm1out_000001_w.dat</title>\n",
       "<path fill=\"none\" stroke=\"black\" d=\"M2944.1,-103.84C2846.21,-103.03 2571.41,-98.17 2544.49,-69 2539.97,-64.1 2539.81,-58.75 2544.49,-54 2557.52,-40.8 3860.96,-36.39 3879.49,-36 3957.02,-34.37 4040.22,-32.23 4119.09,-30.02\"/>\n",
       "<polygon fill=\"black\" stroke=\"black\" points=\"4119.29,-33.52 4129.18,-29.74 4119.09,-26.52 4119.29,-33.52\"/>\n",
       "<text text-anchor=\"middle\" x=\"2549.49\" y=\"-57.8\" font-family=\"Times,serif\" font-size=\"14.00\">1</text>\n",
       "</g>\n",
       "<!-- close&#45;&gt;/p/gpfs1/iopp/temp/cm1r20.3.2846829/config_files/les_HurrBoundLayer/cm1out_000001_w.dat -->\n",
       "<g id=\"edge410\" class=\"edge\">\n",
       "<title>close&#45;&gt;/p/gpfs1/iopp/temp/cm1r20.3.2846829/config_files/les_HurrBoundLayer/cm1out_000001_w.dat</title>\n",
       "<path fill=\"none\" stroke=\"black\" d=\"M2944.08,-103.6C2851.42,-102.15 2602.05,-95.79 2577.49,-69 2572.99,-64.09 2572.81,-58.75 2577.49,-54 2590.19,-41.12 3861.41,-36.38 3879.49,-36 3956.89,-34.36 4039.96,-32.22 4118.71,-30.01\"/>\n",
       "<polygon fill=\"black\" stroke=\"black\" points=\"4118.89,-33.51 4128.79,-29.73 4118.7,-26.51 4118.89,-33.51\"/>\n",
       "<text text-anchor=\"middle\" x=\"2582.49\" y=\"-57.8\" font-family=\"Times,serif\" font-size=\"14.00\">1</text>\n",
       "</g>\n",
       "<!-- close&#45;&gt;/p/gpfs1/iopp/temp/cm1r20.3.2846829/config_files/les_HurrBoundLayer/cm1out_000001_w.dat -->\n",
       "<g id=\"edge414\" class=\"edge\">\n",
       "<title>close&#45;&gt;/p/gpfs1/iopp/temp/cm1r20.3.2846829/config_files/les_HurrBoundLayer/cm1out_000001_w.dat</title>\n",
       "<path fill=\"none\" stroke=\"black\" d=\"M2943.95,-104.4C2843.7,-105 2562.74,-102.44 2610.49,-54 2622.87,-41.45 3861.87,-36.38 3879.49,-36 3956.89,-34.34 4039.96,-32.2 4118.71,-29.99\"/>\n",
       "<polygon fill=\"black\" stroke=\"black\" points=\"4118.89,-33.49 4128.79,-29.71 4118.7,-26.49 4118.89,-33.49\"/>\n",
       "<text text-anchor=\"middle\" x=\"2615.49\" y=\"-57.8\" font-family=\"Times,serif\" font-size=\"14.00\">1</text>\n",
       "</g>\n",
       "<!-- close&#45;&gt;/p/gpfs1/iopp/temp/cm1r20.3.2846829/config_files/les_HurrBoundLayer/cm1out_000001_w.dat -->\n",
       "<g id=\"edge418\" class=\"edge\">\n",
       "<title>close&#45;&gt;/p/gpfs1/iopp/temp/cm1r20.3.2846829/config_files/les_HurrBoundLayer/cm1out_000001_w.dat</title>\n",
       "<path fill=\"none\" stroke=\"black\" d=\"M2944.07,-103.99C2850.34,-103.38 2600.41,-97.71 2643.49,-54 2655.55,-41.77 3862.33,-36.37 3879.49,-36 3956.77,-34.33 4039.69,-32.18 4118.33,-29.98\"/>\n",
       "<polygon fill=\"black\" stroke=\"black\" points=\"4118.5,-33.48 4128.4,-29.7 4118.31,-26.48 4118.5,-33.48\"/>\n",
       "<text text-anchor=\"middle\" x=\"2648.49\" y=\"-57.8\" font-family=\"Times,serif\" font-size=\"14.00\">1</text>\n",
       "</g>\n",
       "<!-- close&#45;&gt;/p/gpfs1/iopp/temp/cm1r20.3.2846829/config_files/les_HurrBoundLayer/cm1out_000001_w.dat -->\n",
       "<g id=\"edge422\" class=\"edge\">\n",
       "<title>close&#45;&gt;/p/gpfs1/iopp/temp/cm1r20.3.2846829/config_files/les_HurrBoundLayer/cm1out_000001_w.dat</title>\n",
       "<path fill=\"none\" stroke=\"black\" d=\"M2944.04,-103.49C2857.04,-101.61 2638.08,-92.99 2676.49,-54 2688.22,-42.1 3862.79,-36.36 3879.49,-36 3956.65,-34.32 4039.42,-32.17 4117.96,-29.97\"/>\n",
       "<polygon fill=\"black\" stroke=\"black\" points=\"4118.11,-33.46 4128.01,-29.68 4117.91,-26.47 4118.11,-33.46\"/>\n",
       "<text text-anchor=\"middle\" x=\"2681.49\" y=\"-57.8\" font-family=\"Times,serif\" font-size=\"14.00\">1</text>\n",
       "</g>\n",
       "<!-- close&#45;&gt;/p/gpfs1/iopp/temp/cm1r20.3.2846829/config_files/les_HurrBoundLayer/cm1out_000001_w.dat -->\n",
       "<g id=\"edge426\" class=\"edge\">\n",
       "<title>close&#45;&gt;/p/gpfs1/iopp/temp/cm1r20.3.2846829/config_files/les_HurrBoundLayer/cm1out_000001_w.dat</title>\n",
       "<path fill=\"none\" stroke=\"black\" d=\"M2944.03,-102.86C2864.17,-99.64 2675.71,-88.31 2709.49,-54 2720.9,-42.42 3863.25,-36.36 3879.49,-36 3956.52,-34.31 4039.16,-32.15 4117.58,-29.95\"/>\n",
       "<polygon fill=\"black\" stroke=\"black\" points=\"4117.72,-33.45 4127.62,-29.67 4117.52,-26.45 4117.72,-33.45\"/>\n",
       "<text text-anchor=\"middle\" x=\"2714.49\" y=\"-57.8\" font-family=\"Times,serif\" font-size=\"14.00\">1</text>\n",
       "</g>\n",
       "<!-- close&#45;&gt;/p/gpfs1/iopp/temp/cm1r20.3.2846829/config_files/les_HurrBoundLayer/cm1out_000001_w.dat -->\n",
       "<g id=\"edge430\" class=\"edge\">\n",
       "<title>close&#45;&gt;/p/gpfs1/iopp/temp/cm1r20.3.2846829/config_files/les_HurrBoundLayer/cm1out_000001_w.dat</title>\n",
       "<path fill=\"none\" stroke=\"black\" d=\"M2943.71,-104.15C2884.51,-103.59 2768.06,-98.64 2742.49,-69 2738.14,-63.95 2737.82,-58.75 2742.49,-54 2753.57,-42.74 3863.7,-36.35 3879.49,-36 3956.4,-34.29 4038.89,-32.14 4117.2,-29.94\"/>\n",
       "<polygon fill=\"black\" stroke=\"black\" points=\"4117.33,-33.44 4127.22,-29.66 4117.13,-26.44 4117.33,-33.44\"/>\n",
       "<text text-anchor=\"middle\" x=\"2747.49\" y=\"-57.8\" font-family=\"Times,serif\" font-size=\"14.00\">1</text>\n",
       "</g>\n",
       "<!-- close&#45;&gt;/p/gpfs1/iopp/temp/cm1r20.3.2846829/config_files/les_HurrBoundLayer/cm1out_000001_w.dat -->\n",
       "<g id=\"edge434\" class=\"edge\">\n",
       "<title>close&#45;&gt;/p/gpfs1/iopp/temp/cm1r20.3.2846829/config_files/les_HurrBoundLayer/cm1out_000001_w.dat</title>\n",
       "<path fill=\"none\" stroke=\"black\" d=\"M2943.96,-103.21C2891.77,-101.2 2796.63,-94.1 2775.49,-69 2771.2,-63.9 2770.82,-58.75 2775.49,-54 2797,-32.14 3848.83,-36.69 3879.49,-36 3956.27,-34.28 4038.63,-32.12 4116.82,-29.92\"/>\n",
       "<polygon fill=\"black\" stroke=\"black\" points=\"4116.93,-33.42 4126.83,-29.64 4116.74,-26.42 4116.93,-33.42\"/>\n",
       "<text text-anchor=\"middle\" x=\"2780.49\" y=\"-57.8\" font-family=\"Times,serif\" font-size=\"14.00\">1</text>\n",
       "</g>\n",
       "<!-- close&#45;&gt;/p/gpfs1/iopp/temp/cm1r20.3.2846829/config_files/les_HurrBoundLayer/cm1out_000001_w.dat -->\n",
       "<g id=\"edge438\" class=\"edge\">\n",
       "<title>close&#45;&gt;/p/gpfs1/iopp/temp/cm1r20.3.2846829/config_files/les_HurrBoundLayer/cm1out_000001_w.dat</title>\n",
       "<path fill=\"none\" stroke=\"black\" d=\"M2943.69,-104.08C2882.81,-103.15 2767.19,-96.01 2808.49,-54 2829.36,-32.78 3849.75,-36.68 3879.49,-36 3955.99,-34.26 4038.03,-32.1 4115.97,-29.92\"/>\n",
       "<polygon fill=\"black\" stroke=\"black\" points=\"4116.54,-33.4 4126.44,-29.62 4116.34,-26.4 4116.54,-33.4\"/>\n",
       "<text text-anchor=\"middle\" x=\"2813.49\" y=\"-57.8\" font-family=\"Times,serif\" font-size=\"14.00\">1</text>\n",
       "</g>\n",
       "<!-- close&#45;&gt;/p/gpfs1/iopp/temp/cm1r20.3.2846829/config_files/les_HurrBoundLayer/cm1out_000001_w.dat -->\n",
       "<g id=\"edge442\" class=\"edge\">\n",
       "<title>close&#45;&gt;/p/gpfs1/iopp/temp/cm1r20.3.2846829/config_files/les_HurrBoundLayer/cm1out_000001_w.dat</title>\n",
       "<path fill=\"none\" stroke=\"black\" d=\"M2944.33,-102.24C2893.9,-98.52 2808.84,-87.23 2841.49,-54 2861.71,-33.43 3850.66,-36.66 3879.49,-36 3955.87,-34.24 4037.76,-32.08 4115.59,-29.9\"/>\n",
       "<polygon fill=\"black\" stroke=\"black\" points=\"4116.15,-33.38 4126.04,-29.6 4115.95,-26.38 4116.15,-33.38\"/>\n",
       "<text text-anchor=\"middle\" x=\"2846.49\" y=\"-57.8\" font-family=\"Times,serif\" font-size=\"14.00\">1</text>\n",
       "</g>\n",
       "<!-- close&#45;&gt;/p/gpfs1/iopp/temp/cm1r20.3.2846829/config_files/les_HurrBoundLayer/cm1out_000001_w.dat -->\n",
       "<g id=\"edge446\" class=\"edge\">\n",
       "<title>close&#45;&gt;/p/gpfs1/iopp/temp/cm1r20.3.2846829/config_files/les_HurrBoundLayer/cm1out_000001_w.dat</title>\n",
       "<path fill=\"none\" stroke=\"black\" d=\"M2945.46,-99.49C2906.57,-92.95 2850.14,-78.8 2874.49,-54 2894.06,-34.08 3851.58,-36.65 3879.49,-36 3955.75,-34.23 4037.5,-32.06 4115.21,-29.87\"/>\n",
       "<polygon fill=\"black\" stroke=\"black\" points=\"4115.75,-33.36 4125.65,-29.58 4115.56,-26.36 4115.75,-33.36\"/>\n",
       "<text text-anchor=\"middle\" x=\"2879.49\" y=\"-57.8\" font-family=\"Times,serif\" font-size=\"14.00\">1</text>\n",
       "</g>\n",
       "<!-- close&#45;&gt;/p/gpfs1/iopp/temp/cm1r20.3.2846829/config_files/les_HurrBoundLayer/cm1out_000001_w.dat -->\n",
       "<g id=\"edge450\" class=\"edge\">\n",
       "<title>close&#45;&gt;/p/gpfs1/iopp/temp/cm1r20.3.2846829/config_files/les_HurrBoundLayer/cm1out_000001_w.dat</title>\n",
       "<path fill=\"none\" stroke=\"black\" d=\"M2948.9,-95.44C2922.56,-86.44 2890.6,-71.21 2907.49,-54 2926.41,-34.73 3852.5,-36.64 3879.49,-36 3955.62,-34.21 4037.23,-32.03 4114.83,-29.85\"/>\n",
       "<polygon fill=\"black\" stroke=\"black\" points=\"4115.36,-33.34 4125.26,-29.55 4115.16,-26.34 4115.36,-33.34\"/>\n",
       "<text text-anchor=\"middle\" x=\"2912.49\" y=\"-57.8\" font-family=\"Times,serif\" font-size=\"14.00\">1</text>\n",
       "</g>\n",
       "<!-- close&#45;&gt;/p/gpfs1/iopp/temp/cm1r20.3.2846829/config_files/les_HurrBoundLayer/cm1out_000001_w.dat -->\n",
       "<g id=\"edge454\" class=\"edge\">\n",
       "<title>close&#45;&gt;/p/gpfs1/iopp/temp/cm1r20.3.2846829/config_files/les_HurrBoundLayer/cm1out_000001_w.dat</title>\n",
       "<path fill=\"none\" stroke=\"black\" d=\"M2957.3,-90.53C2943.27,-80.03 2929.35,-65.36 2940.49,-54 2958.76,-35.38 3853.41,-36.62 3879.49,-36 3955.5,-34.18 4036.97,-32 4114.45,-29.82\"/>\n",
       "<polygon fill=\"black\" stroke=\"black\" points=\"4114.97,-33.31 4124.87,-29.53 4114.77,-26.31 4114.97,-33.31\"/>\n",
       "<text text-anchor=\"middle\" x=\"2945.49\" y=\"-57.8\" font-family=\"Times,serif\" font-size=\"14.00\">1</text>\n",
       "</g>\n",
       "<!-- close&#45;&gt;/p/gpfs1/iopp/temp/cm1r20.3.2846829/config_files/les_HurrBoundLayer/cm1out_000001_w.dat -->\n",
       "<g id=\"edge458\" class=\"edge\">\n",
       "<title>close&#45;&gt;/p/gpfs1/iopp/temp/cm1r20.3.2846829/config_files/les_HurrBoundLayer/cm1out_000001_w.dat</title>\n",
       "<path fill=\"none\" stroke=\"black\" d=\"M2970.92,-87.4C2967.18,-76.45 2965.07,-62.6 2973.49,-54 2991.12,-36.03 3854.33,-36.61 3879.49,-36 3955.25,-34.16 4036.44,-31.98 4113.7,-29.8\"/>\n",
       "<polygon fill=\"black\" stroke=\"black\" points=\"4114.18,-33.29 4124.08,-29.51 4113.98,-26.29 4114.18,-33.29\"/>\n",
       "<text text-anchor=\"middle\" x=\"2978.49\" y=\"-57.8\" font-family=\"Times,serif\" font-size=\"14.00\">1</text>\n",
       "</g>\n",
       "<!-- close&#45;&gt;/p/gpfs1/iopp/temp/cm1r20.3.2846829/config_files/les_HurrBoundLayer/cm1out_000001_w.dat -->\n",
       "<g id=\"edge462\" class=\"edge\">\n",
       "<title>close&#45;&gt;/p/gpfs1/iopp/temp/cm1r20.3.2846829/config_files/les_HurrBoundLayer/cm1out_000001_w.dat</title>\n",
       "<path fill=\"none\" stroke=\"black\" d=\"M2983.18,-86.92C2987.3,-75.45 2994.55,-61.17 3006.49,-54 3027.29,-41.52 3855.25,-36.6 3879.49,-36 3955.13,-34.14 4036.17,-31.95 4113.32,-29.77\"/>\n",
       "<polygon fill=\"black\" stroke=\"black\" points=\"4113.79,-33.26 4123.69,-29.48 4113.59,-26.26 4113.79,-33.26\"/>\n",
       "<text text-anchor=\"middle\" x=\"3011.49\" y=\"-57.8\" font-family=\"Times,serif\" font-size=\"14.00\">1</text>\n",
       "</g>\n",
       "<!-- close&#45;&gt;/p/gpfs1/iopp/temp/cm1r20.3.2846829/config_files/les_HurrBoundLayer/cm1out_000001_w.dat -->\n",
       "<g id=\"edge466\" class=\"edge\">\n",
       "<title>close&#45;&gt;/p/gpfs1/iopp/temp/cm1r20.3.2846829/config_files/les_HurrBoundLayer/cm1out_000001_w.dat</title>\n",
       "<path fill=\"none\" stroke=\"black\" d=\"M2994.56,-88.77C3009.02,-75.46 3029.48,-57.7 3039.49,-54 3083.28,-37.82 3832.83,-37.17 3879.49,-36 3954.88,-34.11 4035.64,-31.92 4112.56,-29.74\"/>\n",
       "<polygon fill=\"black\" stroke=\"black\" points=\"4113,-33.23 4122.9,-29.45 4112.8,-26.24 4113,-33.23\"/>\n",
       "<text text-anchor=\"middle\" x=\"3044.49\" y=\"-57.8\" font-family=\"Times,serif\" font-size=\"14.00\">1</text>\n",
       "</g>\n",
       "<!-- close&#45;&gt;/p/gpfs1/iopp/temp/cm1r20.3.2846829/config_files/les_HurrBoundLayer/cm1out_000001_w.dat -->\n",
       "<g id=\"edge470\" class=\"edge\">\n",
       "<title>close&#45;&gt;/p/gpfs1/iopp/temp/cm1r20.3.2846829/config_files/les_HurrBoundLayer/cm1out_000001_w.dat</title>\n",
       "<path fill=\"none\" stroke=\"black\" d=\"M3003.52,-92.57C3017.29,-86.05 3034.57,-77.51 3049.49,-69 3060.1,-62.96 3060.84,-57.61 3072.49,-54 3115.33,-40.74 3834.66,-37.14 3879.49,-36 3954.76,-34.08 4035.37,-31.88 4112.18,-29.7\"/>\n",
       "<polygon fill=\"black\" stroke=\"black\" points=\"4112.61,-33.19 4122.5,-29.41 4112.41,-26.2 4112.61,-33.19\"/>\n",
       "<text text-anchor=\"middle\" x=\"3077.49\" y=\"-57.8\" font-family=\"Times,serif\" font-size=\"14.00\">1</text>\n",
       "</g>\n",
       "<!-- close&#45;&gt;/p/gpfs1/iopp/temp/cm1r20.3.2846829/config_files/les_HurrBoundLayer/cm1out_000001_w.dat -->\n",
       "<g id=\"edge474\" class=\"edge\">\n",
       "<title>close&#45;&gt;/p/gpfs1/iopp/temp/cm1r20.3.2846829/config_files/les_HurrBoundLayer/cm1out_000001_w.dat</title>\n",
       "<path fill=\"none\" stroke=\"black\" d=\"M3008.88,-95.99C3030.05,-89.87 3058.67,-80.55 3082.49,-69 3093.48,-63.68 3093.84,-57.61 3105.49,-54 3146.58,-41.27 3836.5,-37.12 3879.49,-36 3954.51,-34.05 4034.84,-31.84 4111.43,-29.67\"/>\n",
       "<polygon fill=\"black\" stroke=\"black\" points=\"4111.82,-33.16 4121.72,-29.38 4111.62,-26.16 4111.82,-33.16\"/>\n",
       "<text text-anchor=\"middle\" x=\"3110.49\" y=\"-57.8\" font-family=\"Times,serif\" font-size=\"14.00\">1</text>\n",
       "</g>\n",
       "<!-- close&#45;&gt;/p/gpfs1/iopp/temp/cm1r20.3.2846829/config_files/les_HurrBoundLayer/cm1out_000001_w.dat -->\n",
       "<g id=\"edge478\" class=\"edge\">\n",
       "<title>close&#45;&gt;/p/gpfs1/iopp/temp/cm1r20.3.2846829/config_files/les_HurrBoundLayer/cm1out_000001_w.dat</title>\n",
       "<path fill=\"none\" stroke=\"black\" d=\"M3011.04,-98.8C3039.44,-93.54 3081.33,-84.01 3115.49,-69 3126.67,-64.09 3126.84,-57.62 3138.49,-54 3217.15,-29.58 3797.17,-38.18 3879.49,-36 3954.26,-34.02 4034.32,-31.8 4110.67,-29.63\"/>\n",
       "<polygon fill=\"black\" stroke=\"black\" points=\"4111.03,-33.12 4120.93,-29.34 4110.83,-26.13 4111.03,-33.12\"/>\n",
       "<text text-anchor=\"middle\" x=\"3143.49\" y=\"-57.8\" font-family=\"Times,serif\" font-size=\"14.00\">1</text>\n",
       "</g>\n",
       "<!-- open&#45;&gt;/p/gpfs1/iopp/temp/cm1r20.3.2846829/config_files/les_HurrBoundLayer/cm1out_000001_s.dat -->\n",
       "<g id=\"edge4\" class=\"edge\">\n",
       "<title>open&#45;&gt;/p/gpfs1/iopp/temp/cm1r20.3.2846829/config_files/les_HurrBoundLayer/cm1out_000001_s.dat</title>\n",
       "<path fill=\"none\" stroke=\"black\" d=\"M5133.04,-104.06C5030,-103.88 4718.73,-100.68 4623.49,-69 4611.91,-65.15 4612.18,-57.53 4600.49,-54 4590.5,-50.98 2232.81,-31.07 1225.9,-22.7\"/>\n",
       "<polygon fill=\"black\" stroke=\"black\" points=\"1225.62,-19.19 1215.59,-22.61 1225.56,-26.19 1225.62,-19.19\"/>\n",
       "<text text-anchor=\"middle\" x=\"4628.49\" y=\"-57.8\" font-family=\"Times,serif\" font-size=\"14.00\">1</text>\n",
       "</g>\n",
       "<!-- open&#45;&gt;/p/gpfs1/iopp/temp/cm1r20.3.2846829/config_files/les_HurrBoundLayer/cm1out_000001_s.dat -->\n",
       "<g id=\"edge10\" class=\"edge\">\n",
       "<title>open&#45;&gt;/p/gpfs1/iopp/temp/cm1r20.3.2846829/config_files/les_HurrBoundLayer/cm1out_000001_s.dat</title>\n",
       "<path fill=\"none\" stroke=\"black\" d=\"M5133.34,-103.89C5034.85,-103.24 4745.38,-98.77 4656.49,-69 4644.92,-65.12 4645.18,-57.53 4633.49,-54 4623.4,-50.95 2238.9,-31 1225.63,-22.66\"/>\n",
       "<polygon fill=\"black\" stroke=\"black\" points=\"1225.65,-19.16 1215.62,-22.58 1225.59,-26.16 1225.65,-19.16\"/>\n",
       "<text text-anchor=\"middle\" x=\"4661.49\" y=\"-57.8\" font-family=\"Times,serif\" font-size=\"14.00\">1</text>\n",
       "</g>\n",
       "<!-- open&#45;&gt;/p/gpfs1/iopp/temp/cm1r20.3.2846829/config_files/les_HurrBoundLayer/cm1out_000001_s.dat -->\n",
       "<g id=\"edge14\" class=\"edge\">\n",
       "<title>open&#45;&gt;/p/gpfs1/iopp/temp/cm1r20.3.2846829/config_files/les_HurrBoundLayer/cm1out_000001_s.dat</title>\n",
       "<path fill=\"none\" stroke=\"black\" d=\"M5133.31,-103.76C4980.08,-102.54 4344.82,-95.85 4260.49,-69 4248.87,-65.3 4249.18,-57.54 4237.49,-54 4219.7,-48.61 2156.54,-30.59 1225.45,-22.73\"/>\n",
       "<polygon fill=\"black\" stroke=\"black\" points=\"1225.26,-19.22 1215.23,-22.64 1225.2,-26.22 1225.26,-19.22\"/>\n",
       "<text text-anchor=\"middle\" x=\"4265.49\" y=\"-57.8\" font-family=\"Times,serif\" font-size=\"14.00\">1</text>\n",
       "</g>\n",
       "<!-- open&#45;&gt;/p/gpfs1/iopp/temp/cm1r20.3.2846829/config_files/les_HurrBoundLayer/cm1out_000001_s.dat -->\n",
       "<g id=\"edge18\" class=\"edge\">\n",
       "<title>open&#45;&gt;/p/gpfs1/iopp/temp/cm1r20.3.2846829/config_files/les_HurrBoundLayer/cm1out_000001_s.dat</title>\n",
       "<path fill=\"none\" stroke=\"black\" d=\"M5133.28,-103.71C4983.47,-102.27 4374.51,-94.86 4293.49,-69 4281.87,-65.29 4282.18,-57.54 4270.49,-54 4252.5,-48.55 2163.8,-30.52 1225.73,-22.68\"/>\n",
       "<polygon fill=\"black\" stroke=\"black\" points=\"1225.47,-19.18 1215.44,-22.6 1225.41,-26.18 1225.47,-19.18\"/>\n",
       "<text text-anchor=\"middle\" x=\"4298.49\" y=\"-57.8\" font-family=\"Times,serif\" font-size=\"14.00\">1</text>\n",
       "</g>\n",
       "<!-- open&#45;&gt;/p/gpfs1/iopp/temp/cm1r20.3.2846829/config_files/les_HurrBoundLayer/cm1out_000001_s.dat -->\n",
       "<g id=\"edge26\" class=\"edge\">\n",
       "<title>open&#45;&gt;/p/gpfs1/iopp/temp/cm1r20.3.2846829/config_files/les_HurrBoundLayer/cm1out_000001_s.dat</title>\n",
       "<path fill=\"none\" stroke=\"black\" d=\"M5133.39,-103.8C5039.15,-102.88 4770.89,-97.75 4688.49,-69 4677.32,-65.1 4677.79,-57.54 4666.49,-54 4656.34,-50.82 2246.21,-30.9 1226.15,-22.61\"/>\n",
       "<polygon fill=\"black\" stroke=\"black\" points=\"1226.1,-19.11 1216.07,-22.53 1226.05,-26.11 1226.1,-19.11\"/>\n",
       "<text text-anchor=\"middle\" x=\"4693.49\" y=\"-57.8\" font-family=\"Times,serif\" font-size=\"14.00\">1</text>\n",
       "</g>\n",
       "<!-- open&#45;&gt;/p/gpfs1/iopp/temp/cm1r20.3.2846829/config_files/les_HurrBoundLayer/cm1out_000001_s.dat -->\n",
       "<g id=\"edge30\" class=\"edge\">\n",
       "<title>open&#45;&gt;/p/gpfs1/iopp/temp/cm1r20.3.2846829/config_files/les_HurrBoundLayer/cm1out_000001_s.dat</title>\n",
       "<path fill=\"none\" stroke=\"black\" d=\"M5133.37,-103.85C4976.69,-103.01 4313.95,-97.77 4226.49,-69 4215.25,-65.3 4215.79,-57.55 4204.49,-54 4186.95,-48.49 2149.2,-30.58 1225.11,-22.74\"/>\n",
       "<polygon fill=\"black\" stroke=\"black\" points=\"1225,-19.24 1214.97,-22.65 1224.94,-26.24 1225,-19.24\"/>\n",
       "<text text-anchor=\"middle\" x=\"4231.49\" y=\"-57.8\" font-family=\"Times,serif\" font-size=\"14.00\">1</text>\n",
       "</g>\n",
       "<!-- open&#45;&gt;/p/gpfs1/iopp/temp/cm1r20.3.2846829/config_files/les_HurrBoundLayer/cm1out_000001_s.dat -->\n",
       "<g id=\"edge40\" class=\"edge\">\n",
       "<title>open&#45;&gt;/p/gpfs1/iopp/temp/cm1r20.3.2846829/config_files/les_HurrBoundLayer/cm1out_000001_s.dat</title>\n",
       "<path fill=\"none\" stroke=\"black\" d=\"M5133.07,-103.65C4986.47,-101.99 4404.17,-93.86 4326.49,-69 4314.87,-65.28 4315.18,-57.54 4303.49,-54 4285.3,-48.49 2170.41,-30.44 1225.61,-22.64\"/>\n",
       "<polygon fill=\"black\" stroke=\"black\" points=\"1225.61,-19.14 1215.58,-22.56 1225.56,-26.14 1225.61,-19.14\"/>\n",
       "<text text-anchor=\"middle\" x=\"4331.49\" y=\"-57.8\" font-family=\"Times,serif\" font-size=\"14.00\">1</text>\n",
       "</g>\n",
       "<!-- open&#45;&gt;/p/gpfs1/iopp/temp/cm1r20.3.2846829/config_files/les_HurrBoundLayer/cm1out_000001_s.dat -->\n",
       "<g id=\"edge50\" class=\"edge\">\n",
       "<title>open&#45;&gt;/p/gpfs1/iopp/temp/cm1r20.3.2846829/config_files/les_HurrBoundLayer/cm1out_000001_s.dat</title>\n",
       "<path fill=\"none\" stroke=\"black\" d=\"M5133.43,-103.6C4991.04,-101.72 4433.93,-92.9 4359.49,-69 4347.87,-65.27 4348.18,-57.53 4336.49,-54 4318.11,-48.44 2178.09,-30.37 1226.22,-22.6\"/>\n",
       "<polygon fill=\"black\" stroke=\"black\" points=\"1226.14,-19.1 1216.12,-22.52 1226.09,-26.1 1226.14,-19.1\"/>\n",
       "<text text-anchor=\"middle\" x=\"4364.49\" y=\"-57.8\" font-family=\"Times,serif\" font-size=\"14.00\">1</text>\n",
       "</g>\n",
       "<!-- open&#45;&gt;/p/gpfs1/iopp/temp/cm1r20.3.2846829/config_files/les_HurrBoundLayer/cm1out_000001_s.dat -->\n",
       "<g id=\"edge64\" class=\"edge\">\n",
       "<title>open&#45;&gt;/p/gpfs1/iopp/temp/cm1r20.3.2846829/config_files/les_HurrBoundLayer/cm1out_000001_s.dat</title>\n",
       "<path fill=\"none\" stroke=\"black\" d=\"M5133.39,-103.53C4994.62,-101.42 4463.64,-91.91 4392.49,-69 4380.88,-65.26 4381.18,-57.53 4369.49,-54 4350.91,-48.38 2184.98,-30.3 1226.32,-22.56\"/>\n",
       "<polygon fill=\"black\" stroke=\"black\" points=\"1226.17,-19.06 1216.14,-22.48 1226.12,-26.06 1226.17,-19.06\"/>\n",
       "<text text-anchor=\"middle\" x=\"4397.49\" y=\"-57.8\" font-family=\"Times,serif\" font-size=\"14.00\">1</text>\n",
       "</g>\n",
       "<!-- open&#45;&gt;/p/gpfs1/iopp/temp/cm1r20.3.2846829/config_files/les_HurrBoundLayer/cm1out_000001_s.dat -->\n",
       "<g id=\"edge70\" class=\"edge\">\n",
       "<title>open&#45;&gt;/p/gpfs1/iopp/temp/cm1r20.3.2846829/config_files/les_HurrBoundLayer/cm1out_000001_s.dat</title>\n",
       "<path fill=\"none\" stroke=\"black\" d=\"M5133.45,-103.46C4998.52,-101.11 4493.36,-90.93 4425.49,-69 4413.88,-65.25 4414.18,-57.53 4402.49,-54 4383.72,-48.32 2192.44,-30.23 1226.81,-22.53\"/>\n",
       "<polygon fill=\"black\" stroke=\"black\" points=\"1226.59,-19.03 1216.56,-22.45 1226.54,-26.03 1226.59,-19.03\"/>\n",
       "<text text-anchor=\"middle\" x=\"4430.49\" y=\"-57.8\" font-family=\"Times,serif\" font-size=\"14.00\">1</text>\n",
       "</g>\n",
       "<!-- open&#45;&gt;/p/gpfs1/iopp/temp/cm1r20.3.2846829/config_files/les_HurrBoundLayer/cm1out_000001_s.dat -->\n",
       "<g id=\"edge74\" class=\"edge\">\n",
       "<title>open&#45;&gt;/p/gpfs1/iopp/temp/cm1r20.3.2846829/config_files/les_HurrBoundLayer/cm1out_000001_s.dat</title>\n",
       "<path fill=\"none\" stroke=\"black\" d=\"M5133.15,-103.38C5001.65,-100.77 4523.03,-89.93 4458.49,-69 4446.89,-65.23 4447.18,-57.53 4435.49,-54 4416.52,-48.26 2199.1,-30.16 1226.79,-22.49\"/>\n",
       "<polygon fill=\"black\" stroke=\"black\" points=\"1226.51,-18.99 1216.48,-22.41 1226.45,-25.99 1226.51,-18.99\"/>\n",
       "<text text-anchor=\"middle\" x=\"4463.49\" y=\"-57.8\" font-family=\"Times,serif\" font-size=\"14.00\">1</text>\n",
       "</g>\n",
       "<!-- open&#45;&gt;/p/gpfs1/iopp/temp/cm1r20.3.2846829/config_files/les_HurrBoundLayer/cm1out_000001_s.dat -->\n",
       "<g id=\"edge80\" class=\"edge\">\n",
       "<title>open&#45;&gt;/p/gpfs1/iopp/temp/cm1r20.3.2846829/config_files/les_HurrBoundLayer/cm1out_000001_s.dat</title>\n",
       "<path fill=\"none\" stroke=\"black\" d=\"M5133.41,-103.29C5006.23,-100.44 4552.79,-88.96 4491.49,-69 4479.89,-65.22 4480.18,-57.53 4468.49,-54 4449.32,-48.2 2205.78,-30.08 1226.82,-22.45\"/>\n",
       "<polygon fill=\"black\" stroke=\"black\" points=\"1226.81,-18.95 1216.79,-22.37 1226.76,-25.95 1226.81,-18.95\"/>\n",
       "<text text-anchor=\"middle\" x=\"4496.49\" y=\"-57.8\" font-family=\"Times,serif\" font-size=\"14.00\">1</text>\n",
       "</g>\n",
       "<!-- open&#45;&gt;/p/gpfs1/iopp/temp/cm1r20.3.2846829/config_files/les_HurrBoundLayer/cm1out_000001_s.dat -->\n",
       "<g id=\"edge86\" class=\"edge\">\n",
       "<title>open&#45;&gt;/p/gpfs1/iopp/temp/cm1r20.3.2846829/config_files/les_HurrBoundLayer/cm1out_000001_s.dat</title>\n",
       "<path fill=\"none\" stroke=\"black\" d=\"M5133.16,-104.44C5018.23,-105.63 4639.21,-106.53 4524.49,-69 4512.9,-65.21 4513.18,-57.53 4501.49,-54 4482.13,-48.14 2212.91,-30.02 1227.14,-22.41\"/>\n",
       "<polygon fill=\"black\" stroke=\"black\" points=\"1227.07,-18.91 1217.04,-22.34 1227.02,-25.91 1227.07,-18.91\"/>\n",
       "<text text-anchor=\"middle\" x=\"4529.49\" y=\"-57.8\" font-family=\"Times,serif\" font-size=\"14.00\">1</text>\n",
       "</g>\n",
       "<!-- open&#45;&gt;/p/gpfs1/iopp/temp/cm1r20.3.2846829/config_files/les_HurrBoundLayer/cm1out_000001_s.dat -->\n",
       "<g id=\"edge90\" class=\"edge\">\n",
       "<title>open&#45;&gt;/p/gpfs1/iopp/temp/cm1r20.3.2846829/config_files/les_HurrBoundLayer/cm1out_000001_s.dat</title>\n",
       "<path fill=\"none\" stroke=\"black\" d=\"M5133.35,-104.33C5022.52,-105.08 4665.77,-104.6 4557.49,-69 4545.9,-65.19 4546.18,-57.53 4534.49,-54 4514.93,-48.08 2219.92,-29.95 1227.41,-22.38\"/>\n",
       "<polygon fill=\"black\" stroke=\"black\" points=\"1227.27,-18.88 1217.25,-22.3 1227.22,-25.88 1227.27,-18.88\"/>\n",
       "<text text-anchor=\"middle\" x=\"4562.49\" y=\"-57.8\" font-family=\"Times,serif\" font-size=\"14.00\">1</text>\n",
       "</g>\n",
       "<!-- open&#45;&gt;/p/gpfs1/iopp/temp/cm1r20.3.2846829/config_files/les_HurrBoundLayer/cm1out_000001_s.dat -->\n",
       "<g id=\"edge96\" class=\"edge\">\n",
       "<title>open&#45;&gt;/p/gpfs1/iopp/temp/cm1r20.3.2846829/config_files/les_HurrBoundLayer/cm1out_000001_s.dat</title>\n",
       "<path fill=\"none\" stroke=\"black\" d=\"M5133.2,-104.29C5026.04,-104.86 4691.1,-103.75 4589.49,-69 4578.3,-65.17 4578.79,-57.54 4567.49,-54 4557.63,-50.91 2225.33,-31.08 1225.29,-22.71\"/>\n",
       "<polygon fill=\"black\" stroke=\"black\" points=\"1225.08,-19.21 1215.05,-22.63 1225.02,-26.21 1225.08,-19.21\"/>\n",
       "<text text-anchor=\"middle\" x=\"4594.49\" y=\"-57.8\" font-family=\"Times,serif\" font-size=\"14.00\">1</text>\n",
       "</g>\n",
       "<!-- open&#45;&gt;/p/gpfs1/iopp/temp/cm1r20.3.2846829/config_files/les_HurrBoundLayer/cm1out_000001_u.dat -->\n",
       "<g id=\"edge100\" class=\"edge\">\n",
       "<title>open&#45;&gt;/p/gpfs1/iopp/temp/cm1r20.3.2846829/config_files/les_HurrBoundLayer/cm1out_000001_u.dat</title>\n",
       "<path fill=\"none\" stroke=\"black\" d=\"M5199.6,-104C5442.78,-103.9 6944.14,-101.99 6976.49,-69 6981.16,-64.24 6981.15,-58.77 6976.49,-54 6957.87,-34.94 6355.01,-25.98 5916.01,-21.98\"/>\n",
       "<polygon fill=\"black\" stroke=\"black\" points=\"5916.03,-18.48 5906,-21.88 5915.97,-25.48 5916.03,-18.48\"/>\n",
       "<text text-anchor=\"middle\" x=\"6984.49\" y=\"-57.8\" font-family=\"Times,serif\" font-size=\"14.00\">1</text>\n",
       "</g>\n",
       "<!-- open&#45;&gt;/p/gpfs1/iopp/temp/cm1r20.3.2846829/config_files/les_HurrBoundLayer/cm1out_000001_u.dat -->\n",
       "<g id=\"edge106\" class=\"edge\">\n",
       "<title>open&#45;&gt;/p/gpfs1/iopp/temp/cm1r20.3.2846829/config_files/les_HurrBoundLayer/cm1out_000001_u.dat</title>\n",
       "<path fill=\"none\" stroke=\"black\" d=\"M5199.91,-104C5445.37,-103.95 6960.83,-102.3 6993.49,-69 6998.16,-64.24 6998.15,-58.77 6993.49,-54 6974.6,-34.67 6361.06,-25.77 5916.77,-21.85\"/>\n",
       "<polygon fill=\"black\" stroke=\"black\" points=\"5916.67,-18.35 5906.64,-21.76 5916.61,-25.35 5916.67,-18.35\"/>\n",
       "<text text-anchor=\"middle\" x=\"7001.49\" y=\"-57.8\" font-family=\"Times,serif\" font-size=\"14.00\">1</text>\n",
       "</g>\n",
       "<!-- open&#45;&gt;/p/gpfs1/iopp/temp/cm1r20.3.2846829/config_files/les_HurrBoundLayer/cm1out_000001_u.dat -->\n",
       "<g id=\"edge112\" class=\"edge\">\n",
       "<title>open&#45;&gt;/p/gpfs1/iopp/temp/cm1r20.3.2846829/config_files/les_HurrBoundLayer/cm1out_000001_u.dat</title>\n",
       "<path fill=\"none\" stroke=\"black\" d=\"M5199.83,-104.01C5446.34,-104.01 6977.5,-102.62 7010.49,-69 7015.16,-64.24 7015.16,-58.77 7010.49,-54 6991.33,-34.39 6367,-25.56 5917.45,-21.73\"/>\n",
       "<polygon fill=\"black\" stroke=\"black\" points=\"5917.23,-18.23 5907.2,-21.64 5917.17,-25.23 5917.23,-18.23\"/>\n",
       "<text text-anchor=\"middle\" x=\"7018.49\" y=\"-57.8\" font-family=\"Times,serif\" font-size=\"14.00\">1</text>\n",
       "</g>\n",
       "<!-- open&#45;&gt;/p/gpfs1/iopp/temp/cm1r20.3.2846829/config_files/les_HurrBoundLayer/cm1out_000001_u.dat -->\n",
       "<g id=\"edge116\" class=\"edge\">\n",
       "<title>open&#45;&gt;/p/gpfs1/iopp/temp/cm1r20.3.2846829/config_files/les_HurrBoundLayer/cm1out_000001_u.dat</title>\n",
       "<path fill=\"none\" stroke=\"black\" d=\"M5199.74,-104.02C5447.28,-104.06 6994.18,-102.95 7027.49,-69 7032.16,-64.24 7032.16,-58.77 7027.49,-54 7008.05,-34.11 6372.78,-25.35 5917.97,-21.61\"/>\n",
       "<polygon fill=\"black\" stroke=\"black\" points=\"5917.96,-18.11 5907.93,-21.53 5917.9,-25.11 5917.96,-18.11\"/>\n",
       "<text text-anchor=\"middle\" x=\"7035.49\" y=\"-57.8\" font-family=\"Times,serif\" font-size=\"14.00\">1</text>\n",
       "</g>\n",
       "<!-- open&#45;&gt;/p/gpfs1/iopp/temp/cm1r20.3.2846829/config_files/les_HurrBoundLayer/cm1out_000001_u.dat -->\n",
       "<g id=\"edge120\" class=\"edge\">\n",
       "<title>open&#45;&gt;/p/gpfs1/iopp/temp/cm1r20.3.2846829/config_files/les_HurrBoundLayer/cm1out_000001_u.dat</title>\n",
       "<path fill=\"none\" stroke=\"black\" d=\"M5199.65,-104.02C5448.18,-104.11 7010.86,-103.27 7044.49,-69 7049.16,-64.24 7049.16,-58.77 7044.49,-54 7024.77,-33.84 6378.52,-25.14 5918.47,-21.49\"/>\n",
       "<polygon fill=\"black\" stroke=\"black\" points=\"5918.35,-17.99 5908.32,-21.41 5918.29,-24.99 5918.35,-17.99\"/>\n",
       "<text text-anchor=\"middle\" x=\"7052.49\" y=\"-57.8\" font-family=\"Times,serif\" font-size=\"14.00\">1</text>\n",
       "</g>\n",
       "<!-- open&#45;&gt;/p/gpfs1/iopp/temp/cm1r20.3.2846829/config_files/les_HurrBoundLayer/cm1out_000001_u.dat -->\n",
       "<g id=\"edge124\" class=\"edge\">\n",
       "<title>open&#45;&gt;/p/gpfs1/iopp/temp/cm1r20.3.2846829/config_files/les_HurrBoundLayer/cm1out_000001_u.dat</title>\n",
       "<path fill=\"none\" stroke=\"black\" d=\"M5199.95,-104.03C5450.73,-104.15 7027.55,-103.58 7061.49,-69 7066.17,-64.24 7066.16,-58.77 7061.49,-54 7041.5,-33.56 6384.4,-24.93 5919.16,-21.38\"/>\n",
       "<polygon fill=\"black\" stroke=\"black\" points=\"5918.91,-17.88 5908.89,-21.3 5918.86,-24.88 5918.91,-17.88\"/>\n",
       "<text text-anchor=\"middle\" x=\"7069.49\" y=\"-57.8\" font-family=\"Times,serif\" font-size=\"14.00\">1</text>\n",
       "</g>\n",
       "<!-- open&#45;&gt;/p/gpfs1/iopp/temp/cm1r20.3.2846829/config_files/les_HurrBoundLayer/cm1out_000001_u.dat -->\n",
       "<g id=\"edge128\" class=\"edge\">\n",
       "<title>open&#45;&gt;/p/gpfs1/iopp/temp/cm1r20.3.2846829/config_files/les_HurrBoundLayer/cm1out_000001_u.dat</title>\n",
       "<path fill=\"none\" stroke=\"black\" d=\"M5199.85,-104.03C5451.59,-104.2 7044.22,-103.91 7078.49,-69 7083.17,-64.24 7083.16,-58.76 7078.49,-54 7058.22,-33.28 6389.87,-24.72 5919.41,-21.26\"/>\n",
       "<polygon fill=\"black\" stroke=\"black\" points=\"5919.41,-17.76 5909.38,-21.19 5919.35,-24.76 5919.41,-17.76\"/>\n",
       "<text text-anchor=\"middle\" x=\"7086.49\" y=\"-57.8\" font-family=\"Times,serif\" font-size=\"14.00\">1</text>\n",
       "</g>\n",
       "<!-- open&#45;&gt;/p/gpfs1/iopp/temp/cm1r20.3.2846829/config_files/les_HurrBoundLayer/cm1out_000001_u.dat -->\n",
       "<g id=\"edge132\" class=\"edge\">\n",
       "<title>open&#45;&gt;/p/gpfs1/iopp/temp/cm1r20.3.2846829/config_files/les_HurrBoundLayer/cm1out_000001_u.dat</title>\n",
       "<path fill=\"none\" stroke=\"black\" d=\"M5199.74,-104.04C5452.42,-104.25 7060.9,-104.23 7095.49,-69 7100.17,-64.24 7100.16,-58.76 7095.49,-54 7074.94,-33 6395.81,-24.52 5920.2,-21.15\"/>\n",
       "<polygon fill=\"black\" stroke=\"black\" points=\"5920.09,-17.65 5910.06,-21.08 5920.04,-24.65 5920.09,-17.65\"/>\n",
       "<text text-anchor=\"middle\" x=\"7103.49\" y=\"-57.8\" font-family=\"Times,serif\" font-size=\"14.00\">1</text>\n",
       "</g>\n",
       "<!-- open&#45;&gt;/p/gpfs1/iopp/temp/cm1r20.3.2846829/config_files/les_HurrBoundLayer/cm1out_000001_u.dat -->\n",
       "<g id=\"edge136\" class=\"edge\">\n",
       "<title>open&#45;&gt;/p/gpfs1/iopp/temp/cm1r20.3.2846829/config_files/les_HurrBoundLayer/cm1out_000001_u.dat</title>\n",
       "<path fill=\"none\" stroke=\"black\" d=\"M5199.63,-104.04C5453.22,-104.3 7077.57,-104.56 7112.49,-69 7117.17,-64.24 7117.16,-58.76 7112.49,-54 7091.66,-32.72 6401.41,-24.32 5920.65,-21.04\"/>\n",
       "<polygon fill=\"black\" stroke=\"black\" points=\"5920.42,-17.54 5910.4,-20.97 5920.38,-24.54 5920.42,-17.54\"/>\n",
       "<text text-anchor=\"middle\" x=\"7120.49\" y=\"-57.8\" font-family=\"Times,serif\" font-size=\"14.00\">1</text>\n",
       "</g>\n",
       "<!-- open&#45;&gt;/p/gpfs1/iopp/temp/cm1r20.3.2846829/config_files/les_HurrBoundLayer/cm1out_000001_u.dat -->\n",
       "<g id=\"edge140\" class=\"edge\">\n",
       "<title>open&#45;&gt;/p/gpfs1/iopp/temp/cm1r20.3.2846829/config_files/les_HurrBoundLayer/cm1out_000001_u.dat</title>\n",
       "<path fill=\"none\" stroke=\"black\" d=\"M5199.92,-104.05C5455.73,-104.35 7094.26,-104.87 7129.49,-69 7134.17,-64.24 7134.16,-58.76 7129.49,-54 7108.38,-32.44 6406.82,-24.12 5920.93,-20.93\"/>\n",
       "<polygon fill=\"black\" stroke=\"black\" points=\"5920.95,-17.43 5910.93,-20.87 5920.91,-24.43 5920.95,-17.43\"/>\n",
       "<text text-anchor=\"middle\" x=\"7137.49\" y=\"-57.8\" font-family=\"Times,serif\" font-size=\"14.00\">1</text>\n",
       "</g>\n",
       "<!-- open&#45;&gt;/p/gpfs1/iopp/temp/cm1r20.3.2846829/config_files/les_HurrBoundLayer/cm1out_000001_u.dat -->\n",
       "<g id=\"edge144\" class=\"edge\">\n",
       "<title>open&#45;&gt;/p/gpfs1/iopp/temp/cm1r20.3.2846829/config_files/les_HurrBoundLayer/cm1out_000001_u.dat</title>\n",
       "<path fill=\"none\" stroke=\"black\" d=\"M5199.8,-104.05C5456.48,-104.4 7110.94,-105.19 7146.49,-69 7151.17,-64.24 7151.16,-58.76 7146.49,-54 7125.11,-32.16 6412.49,-23.92 5921.5,-20.83\"/>\n",
       "<polygon fill=\"black\" stroke=\"black\" points=\"5921.41,-17.33 5911.39,-20.77 5921.37,-24.33 5921.41,-17.33\"/>\n",
       "<text text-anchor=\"middle\" x=\"7154.49\" y=\"-57.8\" font-family=\"Times,serif\" font-size=\"14.00\">1</text>\n",
       "</g>\n",
       "<!-- open&#45;&gt;/p/gpfs1/iopp/temp/cm1r20.3.2846829/config_files/les_HurrBoundLayer/cm1out_000001_u.dat -->\n",
       "<g id=\"edge148\" class=\"edge\">\n",
       "<title>open&#45;&gt;/p/gpfs1/iopp/temp/cm1r20.3.2846829/config_files/les_HurrBoundLayer/cm1out_000001_u.dat</title>\n",
       "<path fill=\"none\" stroke=\"black\" d=\"M5199.68,-104.06C5457.2,-104.44 7127.61,-105.52 7163.49,-69 7168.17,-64.24 7168.16,-58.76 7163.49,-54 7141.83,-31.88 6418.06,-23.72 5921.99,-20.72\"/>\n",
       "<polygon fill=\"black\" stroke=\"black\" points=\"5921.8,-17.22 5911.78,-20.66 5921.76,-24.22 5921.8,-17.22\"/>\n",
       "<text text-anchor=\"middle\" x=\"7171.49\" y=\"-57.8\" font-family=\"Times,serif\" font-size=\"14.00\">1</text>\n",
       "</g>\n",
       "<!-- open&#45;&gt;/p/gpfs1/iopp/temp/cm1r20.3.2846829/config_files/les_HurrBoundLayer/cm1out_000001_u.dat -->\n",
       "<g id=\"edge152\" class=\"edge\">\n",
       "<title>open&#45;&gt;/p/gpfs1/iopp/temp/cm1r20.3.2846829/config_files/les_HurrBoundLayer/cm1out_000001_u.dat</title>\n",
       "<path fill=\"none\" stroke=\"black\" d=\"M5199.96,-104.06C5459.68,-104.49 7144.3,-105.83 7180.49,-69 7185.17,-64.25 7185.16,-58.76 7180.49,-54 7158.55,-31.6 6423.54,-23.53 5922.41,-20.62\"/>\n",
       "<polygon fill=\"black\" stroke=\"black\" points=\"5922.11,-17.12 5912.09,-20.56 5922.07,-24.12 5922.11,-17.12\"/>\n",
       "<text text-anchor=\"middle\" x=\"7188.49\" y=\"-57.8\" font-family=\"Times,serif\" font-size=\"14.00\">1</text>\n",
       "</g>\n",
       "<!-- open&#45;&gt;/p/gpfs1/iopp/temp/cm1r20.3.2846829/config_files/les_HurrBoundLayer/cm1out_000001_u.dat -->\n",
       "<g id=\"edge156\" class=\"edge\">\n",
       "<title>open&#45;&gt;/p/gpfs1/iopp/temp/cm1r20.3.2846829/config_files/les_HurrBoundLayer/cm1out_000001_u.dat</title>\n",
       "<path fill=\"none\" stroke=\"black\" d=\"M5199.73,-103.75C5461.34,-101.7 7179.22,-87.59 7197.49,-69 7202.17,-64.25 7202.16,-58.76 7197.49,-54 7175.26,-31.31 6428.57,-23.33 5922.38,-20.52\"/>\n",
       "<polygon fill=\"black\" stroke=\"black\" points=\"5922.36,-17.02 5912.34,-20.46 5922.32,-24.02 5922.36,-17.02\"/>\n",
       "<text text-anchor=\"middle\" x=\"7205.49\" y=\"-57.8\" font-family=\"Times,serif\" font-size=\"14.00\">1</text>\n",
       "</g>\n",
       "<!-- open&#45;&gt;/p/gpfs1/iopp/temp/cm1r20.3.2846829/config_files/les_HurrBoundLayer/cm1out_000001_u.dat -->\n",
       "<g id=\"edge160\" class=\"edge\">\n",
       "<title>open&#45;&gt;/p/gpfs1/iopp/temp/cm1r20.3.2846829/config_files/les_HurrBoundLayer/cm1out_000001_u.dat</title>\n",
       "<path fill=\"none\" stroke=\"black\" d=\"M5199.6,-103.75C5461.97,-101.74 7196.06,-87.75 7214.49,-69 7219.17,-64.25 7219.16,-58.76 7214.49,-54 7191.98,-31.04 6434.14,-23.14 5922.94,-20.42\"/>\n",
       "<polygon fill=\"black\" stroke=\"black\" points=\"5922.81,-16.92 5912.79,-20.37 5922.78,-23.92 5922.81,-16.92\"/>\n",
       "<text text-anchor=\"middle\" x=\"7222.49\" y=\"-57.8\" font-family=\"Times,serif\" font-size=\"14.00\">1</text>\n",
       "</g>\n",
       "<!-- open&#45;&gt;/p/gpfs1/iopp/temp/cm1r20.3.2846829/config_files/les_HurrBoundLayer/cm1out_000001_u.dat -->\n",
       "<g id=\"edge164\" class=\"edge\">\n",
       "<title>open&#45;&gt;/p/gpfs1/iopp/temp/cm1r20.3.2846829/config_files/les_HurrBoundLayer/cm1out_000001_u.dat</title>\n",
       "<path fill=\"none\" stroke=\"black\" d=\"M5199.87,-103.75C5464.43,-101.76 7212.91,-87.91 7231.49,-69 7236.17,-64.25 7236.16,-58.76 7231.49,-54 7208.7,-30.75 6439.35,-22.94 5923.14,-20.32\"/>\n",
       "<polygon fill=\"black\" stroke=\"black\" points=\"5922.92,-16.82 5912.9,-20.27 5922.88,-23.82 5922.92,-16.82\"/>\n",
       "<text text-anchor=\"middle\" x=\"7239.49\" y=\"-57.8\" font-family=\"Times,serif\" font-size=\"14.00\">1</text>\n",
       "</g>\n",
       "<!-- open&#45;&gt;/p/gpfs1/iopp/temp/cm1r20.3.2846829/config_files/les_HurrBoundLayer/cm1out_000001_u.dat -->\n",
       "<g id=\"edge168\" class=\"edge\">\n",
       "<title>open&#45;&gt;/p/gpfs1/iopp/temp/cm1r20.3.2846829/config_files/les_HurrBoundLayer/cm1out_000001_u.dat</title>\n",
       "<path fill=\"none\" stroke=\"black\" d=\"M5199.72,-103.76C5465.02,-101.8 7229.74,-88.07 7248.49,-69 7253.17,-64.25 7253.16,-58.76 7248.49,-54 7225.42,-30.47 6444.74,-22.76 5923.56,-20.23\"/>\n",
       "<polygon fill=\"black\" stroke=\"black\" points=\"5923.24,-16.73 5913.22,-20.18 5923.2,-23.73 5923.24,-16.73\"/>\n",
       "<text text-anchor=\"middle\" x=\"7256.49\" y=\"-57.8\" font-family=\"Times,serif\" font-size=\"14.00\">1</text>\n",
       "</g>\n",
       "<!-- open&#45;&gt;/p/gpfs1/iopp/temp/cm1r20.3.2846829/config_files/les_HurrBoundLayer/cm1out_000001_u.dat -->\n",
       "<g id=\"edge172\" class=\"edge\">\n",
       "<title>open&#45;&gt;/p/gpfs1/iopp/temp/cm1r20.3.2846829/config_files/les_HurrBoundLayer/cm1out_000001_u.dat</title>\n",
       "<path fill=\"none\" stroke=\"black\" d=\"M5199.57,-103.77C5465.57,-101.84 7246.58,-88.24 7265.49,-69 7270.17,-64.25 7270.16,-58.76 7265.49,-54 7242.13,-30.18 6449.67,-22.56 5923.53,-20.13\"/>\n",
       "<polygon fill=\"black\" stroke=\"black\" points=\"5923.49,-16.63 5913.48,-20.09 5923.46,-23.63 5923.49,-16.63\"/>\n",
       "<text text-anchor=\"middle\" x=\"7273.49\" y=\"-57.8\" font-family=\"Times,serif\" font-size=\"14.00\">1</text>\n",
       "</g>\n",
       "<!-- open&#45;&gt;/p/gpfs1/iopp/temp/cm1r20.3.2846829/config_files/les_HurrBoundLayer/cm1out_000001_u.dat -->\n",
       "<g id=\"edge176\" class=\"edge\">\n",
       "<title>open&#45;&gt;/p/gpfs1/iopp/temp/cm1r20.3.2846829/config_files/les_HurrBoundLayer/cm1out_000001_u.dat</title>\n",
       "<path fill=\"none\" stroke=\"black\" d=\"M5199.84,-103.77C5468,-101.86 7263.42,-88.39 7282.49,-69 7287.17,-64.25 7287.16,-58.76 7282.49,-54 7258.86,-29.9 6455.18,-22.38 5924.1,-20.04\"/>\n",
       "<polygon fill=\"black\" stroke=\"black\" points=\"5923.97,-16.54 5913.96,-20 5923.94,-23.54 5923.97,-16.54\"/>\n",
       "<text text-anchor=\"middle\" x=\"7290.49\" y=\"-57.8\" font-family=\"Times,serif\" font-size=\"14.00\">1</text>\n",
       "</g>\n",
       "<!-- open&#45;&gt;/p/gpfs1/iopp/temp/cm1r20.3.2846829/config_files/les_HurrBoundLayer/cm1out_000001_u.dat -->\n",
       "<g id=\"edge180\" class=\"edge\">\n",
       "<title>open&#45;&gt;/p/gpfs1/iopp/temp/cm1r20.3.2846829/config_files/les_HurrBoundLayer/cm1out_000001_u.dat</title>\n",
       "<path fill=\"none\" stroke=\"black\" d=\"M5199.68,-103.77C5468.51,-101.9 7280.26,-88.55 7299.49,-69 7304.17,-64.25 7304.16,-58.76 7299.49,-54 7275.57,-29.62 6460.32,-22.19 5924.32,-19.95\"/>\n",
       "<polygon fill=\"black\" stroke=\"black\" points=\"5924.1,-16.45 5914.09,-19.91 5924.07,-23.45 5924.1,-16.45\"/>\n",
       "<text text-anchor=\"middle\" x=\"7307.49\" y=\"-57.8\" font-family=\"Times,serif\" font-size=\"14.00\">1</text>\n",
       "</g>\n",
       "<!-- open&#45;&gt;/p/gpfs1/iopp/temp/cm1r20.3.2846829/config_files/les_HurrBoundLayer/cm1out_000001_u.dat -->\n",
       "<g id=\"edge184\" class=\"edge\">\n",
       "<title>open&#45;&gt;/p/gpfs1/iopp/temp/cm1r20.3.2846829/config_files/les_HurrBoundLayer/cm1out_000001_u.dat</title>\n",
       "<path fill=\"none\" stroke=\"black\" d=\"M5199.95,-103.78C5470.91,-101.92 7297.1,-88.71 7316.49,-69 7321.17,-64.25 7321.16,-58.76 7316.49,-54 7292.29,-29.33 6465.66,-22.01 5924.77,-19.86\"/>\n",
       "<polygon fill=\"black\" stroke=\"black\" points=\"5924.46,-16.36 5914.44,-19.82 5924.43,-23.36 5924.46,-16.36\"/>\n",
       "<text text-anchor=\"middle\" x=\"7324.49\" y=\"-57.8\" font-family=\"Times,serif\" font-size=\"14.00\">1</text>\n",
       "</g>\n",
       "<!-- open&#45;&gt;/p/gpfs1/iopp/temp/cm1r20.3.2846829/config_files/les_HurrBoundLayer/cm1out_000001_u.dat -->\n",
       "<g id=\"edge188\" class=\"edge\">\n",
       "<title>open&#45;&gt;/p/gpfs1/iopp/temp/cm1r20.3.2846829/config_files/les_HurrBoundLayer/cm1out_000001_u.dat</title>\n",
       "<path fill=\"none\" stroke=\"black\" d=\"M5199.78,-103.78C5471.38,-101.96 7313.94,-88.87 7333.49,-69 7338.17,-64.25 7338.16,-58.76 7333.49,-54 7309,-29.04 6470.22,-21.83 5924.46,-19.77\"/>\n",
       "<polygon fill=\"black\" stroke=\"black\" points=\"5924.46,-16.27 5914.44,-19.74 5924.43,-23.27 5924.46,-16.27\"/>\n",
       "<text text-anchor=\"middle\" x=\"7341.49\" y=\"-57.8\" font-family=\"Times,serif\" font-size=\"14.00\">1</text>\n",
       "</g>\n",
       "<!-- open&#45;&gt;/p/gpfs1/iopp/temp/cm1r20.3.2846829/config_files/les_HurrBoundLayer/cm1out_000001_u.dat -->\n",
       "<g id=\"edge192\" class=\"edge\">\n",
       "<title>open&#45;&gt;/p/gpfs1/iopp/temp/cm1r20.3.2846829/config_files/les_HurrBoundLayer/cm1out_000001_u.dat</title>\n",
       "<path fill=\"none\" stroke=\"black\" d=\"M5199.61,-103.79C5471.81,-102 7330.77,-89.04 7350.49,-69 7355.17,-64.25 7355.16,-58.76 7350.49,-54 7325.72,-28.76 6475.4,-21.64 5924.79,-19.69\"/>\n",
       "<polygon fill=\"black\" stroke=\"black\" points=\"5924.69,-16.19 5914.68,-19.65 5924.67,-23.19 5924.69,-16.19\"/>\n",
       "<text text-anchor=\"middle\" x=\"7358.49\" y=\"-57.8\" font-family=\"Times,serif\" font-size=\"14.00\">1</text>\n",
       "</g>\n",
       "<!-- open&#45;&gt;/p/gpfs1/iopp/temp/cm1r20.3.2846829/config_files/les_HurrBoundLayer/cm1out_000001_u.dat -->\n",
       "<g id=\"edge196\" class=\"edge\">\n",
       "<title>open&#45;&gt;/p/gpfs1/iopp/temp/cm1r20.3.2846829/config_files/les_HurrBoundLayer/cm1out_000001_u.dat</title>\n",
       "<path fill=\"none\" stroke=\"black\" d=\"M5199.87,-103.79C5474.19,-102.02 7347.62,-89.19 7367.49,-69 7372.17,-64.25 7372.17,-58.76 7367.49,-54 7342.43,-28.47 6480.5,-21.47 5925.05,-19.6\"/>\n",
       "<polygon fill=\"black\" stroke=\"black\" points=\"5924.87,-16.1 5914.85,-19.57 5924.84,-23.1 5924.87,-16.1\"/>\n",
       "<text text-anchor=\"middle\" x=\"7375.49\" y=\"-57.8\" font-family=\"Times,serif\" font-size=\"14.00\">1</text>\n",
       "</g>\n",
       "<!-- open&#45;&gt;/p/gpfs1/iopp/temp/cm1r20.3.2846829/config_files/les_HurrBoundLayer/cm1out_000001_u.dat -->\n",
       "<g id=\"edge200\" class=\"edge\">\n",
       "<title>open&#45;&gt;/p/gpfs1/iopp/temp/cm1r20.3.2846829/config_files/les_HurrBoundLayer/cm1out_000001_u.dat</title>\n",
       "<path fill=\"none\" stroke=\"black\" d=\"M5199.93,-103.9C5425.56,-103.15 6717.5,-97.62 6745.49,-69 6750.16,-64.23 6750.14,-58.78 6745.49,-54 6730.53,-38.62 6268.2,-29.07 5903.03,-23.9\"/>\n",
       "<polygon fill=\"black\" stroke=\"black\" points=\"5902.85,-20.4 5892.8,-23.76 5902.75,-27.4 5902.85,-20.4\"/>\n",
       "<text text-anchor=\"middle\" x=\"6753.49\" y=\"-57.8\" font-family=\"Times,serif\" font-size=\"14.00\">1</text>\n",
       "</g>\n",
       "<!-- open&#45;&gt;/p/gpfs1/iopp/temp/cm1r20.3.2846829/config_files/les_HurrBoundLayer/cm1out_000001_u.dat -->\n",
       "<g id=\"edge204\" class=\"edge\">\n",
       "<title>open&#45;&gt;/p/gpfs1/iopp/temp/cm1r20.3.2846829/config_files/les_HurrBoundLayer/cm1out_000001_u.dat</title>\n",
       "<path fill=\"none\" stroke=\"black\" d=\"M5199.93,-103.91C5426.95,-103.21 6734.18,-97.94 6762.49,-69 6767.16,-64.23 6767.14,-58.78 6762.49,-54 6747.26,-38.35 6274.87,-28.82 5904.13,-23.74\"/>\n",
       "<polygon fill=\"black\" stroke=\"black\" points=\"5904.07,-20.24 5894.02,-23.6 5903.97,-27.24 5904.07,-20.24\"/>\n",
       "<text text-anchor=\"middle\" x=\"6770.49\" y=\"-57.8\" font-family=\"Times,serif\" font-size=\"14.00\">1</text>\n",
       "</g>\n",
       "<!-- open&#45;&gt;/p/gpfs1/iopp/temp/cm1r20.3.2846829/config_files/les_HurrBoundLayer/cm1out_000001_u.dat -->\n",
       "<g id=\"edge208\" class=\"edge\">\n",
       "<title>open&#45;&gt;/p/gpfs1/iopp/temp/cm1r20.3.2846829/config_files/les_HurrBoundLayer/cm1out_000001_u.dat</title>\n",
       "<path fill=\"none\" stroke=\"black\" d=\"M5199.92,-103.92C5428.31,-103.27 6750.86,-98.26 6779.49,-69 6784.16,-64.24 6784.15,-58.78 6779.49,-54 6764,-38.09 6282.04,-28.6 5905.85,-23.59\"/>\n",
       "<polygon fill=\"black\" stroke=\"black\" points=\"5905.63,-20.09 5895.59,-23.46 5905.54,-27.09 5905.63,-20.09\"/>\n",
       "<text text-anchor=\"middle\" x=\"6787.49\" y=\"-57.8\" font-family=\"Times,serif\" font-size=\"14.00\">1</text>\n",
       "</g>\n",
       "<!-- open&#45;&gt;/p/gpfs1/iopp/temp/cm1r20.3.2846829/config_files/les_HurrBoundLayer/cm1out_000001_u.dat -->\n",
       "<g id=\"edge212\" class=\"edge\">\n",
       "<title>open&#45;&gt;/p/gpfs1/iopp/temp/cm1r20.3.2846829/config_files/les_HurrBoundLayer/cm1out_000001_u.dat</title>\n",
       "<path fill=\"none\" stroke=\"black\" d=\"M5199.9,-103.92C5429.64,-103.33 6767.54,-98.58 6796.49,-69 6801.16,-64.24 6801.15,-58.78 6796.49,-54 6780.73,-37.82 6288.47,-28.36 5906.73,-23.44\"/>\n",
       "<polygon fill=\"black\" stroke=\"black\" points=\"5906.64,-19.94 5896.6,-23.31 5906.56,-26.94 5906.64,-19.94\"/>\n",
       "<text text-anchor=\"middle\" x=\"6804.49\" y=\"-57.8\" font-family=\"Times,serif\" font-size=\"14.00\">1</text>\n",
       "</g>\n",
       "<!-- open&#45;&gt;/p/gpfs1/iopp/temp/cm1r20.3.2846829/config_files/les_HurrBoundLayer/cm1out_000001_u.dat -->\n",
       "<g id=\"edge216\" class=\"edge\">\n",
       "<title>open&#45;&gt;/p/gpfs1/iopp/temp/cm1r20.3.2846829/config_files/les_HurrBoundLayer/cm1out_000001_u.dat</title>\n",
       "<path fill=\"none\" stroke=\"black\" d=\"M5199.88,-103.93C5430.94,-103.38 6784.22,-98.91 6813.49,-69 6818.16,-64.24 6818.15,-58.77 6813.49,-54 6797.47,-37.55 6295.02,-28.12 5907.78,-23.29\"/>\n",
       "<polygon fill=\"black\" stroke=\"black\" points=\"5907.55,-19.78 5897.51,-23.16 5907.47,-26.78 5907.55,-19.78\"/>\n",
       "<text text-anchor=\"middle\" x=\"6821.49\" y=\"-57.8\" font-family=\"Times,serif\" font-size=\"14.00\">1</text>\n",
       "</g>\n",
       "<!-- open&#45;&gt;/p/gpfs1/iopp/temp/cm1r20.3.2846829/config_files/les_HurrBoundLayer/cm1out_000001_u.dat -->\n",
       "<g id=\"edge220\" class=\"edge\">\n",
       "<title>open&#45;&gt;/p/gpfs1/iopp/temp/cm1r20.3.2846829/config_files/les_HurrBoundLayer/cm1out_000001_u.dat</title>\n",
       "<path fill=\"none\" stroke=\"black\" d=\"M5199.85,-103.94C5432.2,-103.44 6800.9,-99.23 6830.49,-69 6835.16,-64.24 6835.15,-58.77 6830.49,-54 6814.2,-37.28 6301.61,-27.89 5908.91,-23.14\"/>\n",
       "<polygon fill=\"black\" stroke=\"black\" points=\"5908.82,-19.64 5898.78,-23.02 5908.74,-26.64 5908.82,-19.64\"/>\n",
       "<text text-anchor=\"middle\" x=\"6838.49\" y=\"-57.8\" font-family=\"Times,serif\" font-size=\"14.00\">1</text>\n",
       "</g>\n",
       "<!-- open&#45;&gt;/p/gpfs1/iopp/temp/cm1r20.3.2846829/config_files/les_HurrBoundLayer/cm1out_000001_u.dat -->\n",
       "<g id=\"edge224\" class=\"edge\">\n",
       "<title>open&#45;&gt;/p/gpfs1/iopp/temp/cm1r20.3.2846829/config_files/les_HurrBoundLayer/cm1out_000001_u.dat</title>\n",
       "<path fill=\"none\" stroke=\"black\" d=\"M5199.81,-103.95C5433.44,-103.5 6817.58,-99.55 6847.49,-69 6852.16,-64.24 6852.15,-58.77 6847.49,-54 6830.94,-37.02 6308.35,-27.67 5910.22,-23\"/>\n",
       "<polygon fill=\"black\" stroke=\"black\" points=\"5910,-19.5 5899.96,-22.88 5909.91,-26.5 5910,-19.5\"/>\n",
       "<text text-anchor=\"middle\" x=\"6855.49\" y=\"-57.8\" font-family=\"Times,serif\" font-size=\"14.00\">1</text>\n",
       "</g>\n",
       "<!-- open&#45;&gt;/p/gpfs1/iopp/temp/cm1r20.3.2846829/config_files/les_HurrBoundLayer/cm1out_000001_v.dat -->\n",
       "<g id=\"edge228\" class=\"edge\">\n",
       "<title>open&#45;&gt;/p/gpfs1/iopp/temp/cm1r20.3.2846829/config_files/les_HurrBoundLayer/cm1out_000001_v.dat</title>\n",
       "<path fill=\"none\" stroke=\"black\" d=\"M5199.96,-104.18C5305.39,-104.41 5625.47,-102.32 5656.49,-69 5661.04,-64.12 5661.18,-58.74 5656.49,-54 5640.42,-37.75 4033.35,-36.45 4010.49,-36 3932.49,-34.45 3848.72,-32.33 3769.45,-30.11\"/>\n",
       "<polygon fill=\"black\" stroke=\"black\" points=\"3769.4,-26.61 3759.3,-29.82 3769.2,-33.6 3769.4,-26.61\"/>\n",
       "<text text-anchor=\"middle\" x=\"5664.49\" y=\"-57.8\" font-family=\"Times,serif\" font-size=\"14.00\">1</text>\n",
       "</g>\n",
       "<!-- open&#45;&gt;/p/gpfs1/iopp/temp/cm1r20.3.2846829/config_files/les_HurrBoundLayer/cm1out_000001_v.dat -->\n",
       "<g id=\"edge234\" class=\"edge\">\n",
       "<title>open&#45;&gt;/p/gpfs1/iopp/temp/cm1r20.3.2846829/config_files/les_HurrBoundLayer/cm1out_000001_v.dat</title>\n",
       "<path fill=\"none\" stroke=\"black\" d=\"M5199.98,-104.27C5307.86,-104.78 5641.25,-103.55 5673.49,-69 5678.04,-64.13 5678.18,-58.74 5673.49,-54 5657.25,-37.58 4033.59,-36.46 4010.49,-36 3932.49,-34.46 3848.72,-32.34 3769.45,-30.11\"/>\n",
       "<polygon fill=\"black\" stroke=\"black\" points=\"3769.4,-26.61 3759.3,-29.83 3769.2,-33.61 3769.4,-26.61\"/>\n",
       "<text text-anchor=\"middle\" x=\"5681.49\" y=\"-57.8\" font-family=\"Times,serif\" font-size=\"14.00\">1</text>\n",
       "</g>\n",
       "<!-- open&#45;&gt;/p/gpfs1/iopp/temp/cm1r20.3.2846829/config_files/les_HurrBoundLayer/cm1out_000001_v.dat -->\n",
       "<g id=\"edge240\" class=\"edge\">\n",
       "<title>open&#45;&gt;/p/gpfs1/iopp/temp/cm1r20.3.2846829/config_files/les_HurrBoundLayer/cm1out_000001_v.dat</title>\n",
       "<path fill=\"none\" stroke=\"black\" d=\"M5133.23,-103.5C5043.56,-101.81 4798.52,-94.9 4722.49,-69 4710.94,-65.07 4711.15,-57.63 4699.49,-54 4626.38,-31.22 4087.05,-38.1 4010.49,-36 3936.35,-33.97 3856.99,-31.73 3781.23,-29.57\"/>\n",
       "<polygon fill=\"black\" stroke=\"black\" points=\"3781.15,-26.06 3771.05,-29.27 3780.95,-33.06 3781.15,-26.06\"/>\n",
       "<text text-anchor=\"middle\" x=\"4727.49\" y=\"-57.8\" font-family=\"Times,serif\" font-size=\"14.00\">1</text>\n",
       "</g>\n",
       "<!-- open&#45;&gt;/p/gpfs1/iopp/temp/cm1r20.3.2846829/config_files/les_HurrBoundLayer/cm1out_000001_v.dat -->\n",
       "<g id=\"edge244\" class=\"edge\">\n",
       "<title>open&#45;&gt;/p/gpfs1/iopp/temp/cm1r20.3.2846829/config_files/les_HurrBoundLayer/cm1out_000001_v.dat</title>\n",
       "<path fill=\"none\" stroke=\"black\" d=\"M5133.26,-103.25C5048.33,-101.02 4825.16,-92.97 4755.49,-69 4743.95,-65.03 4744.15,-57.62 4732.49,-54 4655.87,-30.18 4090.71,-38.15 4010.49,-36 3936.1,-34 3856.46,-31.78 3780.48,-29.61\"/>\n",
       "<polygon fill=\"black\" stroke=\"black\" points=\"3780.36,-26.11 3770.27,-29.32 3780.16,-33.1 3780.36,-26.11\"/>\n",
       "<text text-anchor=\"middle\" x=\"4760.49\" y=\"-57.8\" font-family=\"Times,serif\" font-size=\"14.00\">1</text>\n",
       "</g>\n",
       "<!-- open&#45;&gt;/p/gpfs1/iopp/temp/cm1r20.3.2846829/config_files/les_HurrBoundLayer/cm1out_000001_v.dat -->\n",
       "<g id=\"edge248\" class=\"edge\">\n",
       "<title>open&#45;&gt;/p/gpfs1/iopp/temp/cm1r20.3.2846829/config_files/les_HurrBoundLayer/cm1out_000001_v.dat</title>\n",
       "<path fill=\"none\" stroke=\"black\" d=\"M5133.31,-102.97C5053.33,-100.16 4851.82,-91.05 4788.49,-69 4776.97,-64.99 4777.15,-57.62 4765.49,-54 4685.35,-29.13 4094.38,-38.2 4010.49,-36 3935.73,-34.04 3855.67,-31.81 3779.34,-29.64\"/>\n",
       "<polygon fill=\"black\" stroke=\"black\" points=\"3779.18,-26.14 3769.09,-29.35 3778.98,-33.13 3779.18,-26.14\"/>\n",
       "<text text-anchor=\"middle\" x=\"4793.49\" y=\"-57.8\" font-family=\"Times,serif\" font-size=\"14.00\">1</text>\n",
       "</g>\n",
       "<!-- open&#45;&gt;/p/gpfs1/iopp/temp/cm1r20.3.2846829/config_files/les_HurrBoundLayer/cm1out_000001_v.dat -->\n",
       "<g id=\"edge252\" class=\"edge\">\n",
       "<title>open&#45;&gt;/p/gpfs1/iopp/temp/cm1r20.3.2846829/config_files/les_HurrBoundLayer/cm1out_000001_v.dat</title>\n",
       "<path fill=\"none\" stroke=\"black\" d=\"M5133.46,-102.64C5058.69,-99.23 4878.55,-89.15 4821.49,-69 4809.99,-64.94 4810.15,-57.61 4798.49,-54 4756.67,-41.04 4054.27,-37.13 4010.49,-36 3935.61,-34.07 3855.4,-31.86 3778.97,-29.69\"/>\n",
       "<polygon fill=\"black\" stroke=\"black\" points=\"3778.79,-26.18 3768.7,-29.4 3778.59,-33.18 3778.79,-26.18\"/>\n",
       "<text text-anchor=\"middle\" x=\"4826.49\" y=\"-57.8\" font-family=\"Times,serif\" font-size=\"14.00\">1</text>\n",
       "</g>\n",
       "<!-- open&#45;&gt;/p/gpfs1/iopp/temp/cm1r20.3.2846829/config_files/les_HurrBoundLayer/cm1out_000001_v.dat -->\n",
       "<g id=\"edge256\" class=\"edge\">\n",
       "<title>open&#45;&gt;/p/gpfs1/iopp/temp/cm1r20.3.2846829/config_files/les_HurrBoundLayer/cm1out_000001_v.dat</title>\n",
       "<path fill=\"none\" stroke=\"black\" d=\"M5133.53,-102.23C5064.15,-98.2 4905.28,-87.24 4854.49,-69 4843.01,-64.87 4843.15,-57.61 4831.49,-54 4787.91,-40.52 4056.1,-37.15 4010.49,-36 3935.36,-34.1 3854.88,-31.9 3778.21,-29.72\"/>\n",
       "<polygon fill=\"black\" stroke=\"black\" points=\"3778.01,-26.21 3767.91,-29.43 3777.81,-33.21 3778.01,-26.21\"/>\n",
       "<text text-anchor=\"middle\" x=\"4859.49\" y=\"-57.8\" font-family=\"Times,serif\" font-size=\"14.00\">1</text>\n",
       "</g>\n",
       "<!-- open&#45;&gt;/p/gpfs1/iopp/temp/cm1r20.3.2846829/config_files/les_HurrBoundLayer/cm1out_000001_v.dat -->\n",
       "<g id=\"edge260\" class=\"edge\">\n",
       "<title>open&#45;&gt;/p/gpfs1/iopp/temp/cm1r20.3.2846829/config_files/les_HurrBoundLayer/cm1out_000001_v.dat</title>\n",
       "<path fill=\"none\" stroke=\"black\" d=\"M5133.15,-104.59C5079.65,-104.49 4972.06,-100 4887.49,-69 4876.04,-64.8 4876.16,-57.6 4864.49,-54 4819.15,-40 4057.94,-37.18 4010.49,-36 3935.12,-34.12 3854.35,-31.93 3777.46,-29.75\"/>\n",
       "<polygon fill=\"black\" stroke=\"black\" points=\"3777.22,-26.24 3767.13,-29.45 3777.02,-33.24 3777.22,-26.24\"/>\n",
       "<text text-anchor=\"middle\" x=\"4892.49\" y=\"-57.8\" font-family=\"Times,serif\" font-size=\"14.00\">1</text>\n",
       "</g>\n",
       "<!-- open&#45;&gt;/p/gpfs1/iopp/temp/cm1r20.3.2846829/config_files/les_HurrBoundLayer/cm1out_000001_v.dat -->\n",
       "<g id=\"edge264\" class=\"edge\">\n",
       "<title>open&#45;&gt;/p/gpfs1/iopp/temp/cm1r20.3.2846829/config_files/les_HurrBoundLayer/cm1out_000001_v.dat</title>\n",
       "<path fill=\"none\" stroke=\"black\" d=\"M5133.14,-103.79C5084.76,-102.49 4992.97,-96.25 4920.49,-69 4909.07,-64.71 4909.16,-57.6 4897.49,-54 4850.4,-39.48 4059.77,-37.21 4010.49,-36 3934.99,-34.15 3854.08,-31.96 3777.08,-29.78\"/>\n",
       "<polygon fill=\"black\" stroke=\"black\" points=\"3776.83,-26.27 3766.73,-29.49 3776.63,-33.27 3776.83,-26.27\"/>\n",
       "<text text-anchor=\"middle\" x=\"4925.49\" y=\"-57.8\" font-family=\"Times,serif\" font-size=\"14.00\">1</text>\n",
       "</g>\n",
       "<!-- open&#45;&gt;/p/gpfs1/iopp/temp/cm1r20.3.2846829/config_files/les_HurrBoundLayer/cm1out_000001_v.dat -->\n",
       "<g id=\"edge268\" class=\"edge\">\n",
       "<title>open&#45;&gt;/p/gpfs1/iopp/temp/cm1r20.3.2846829/config_files/les_HurrBoundLayer/cm1out_000001_v.dat</title>\n",
       "<path fill=\"none\" stroke=\"black\" d=\"M5133.27,-102.77C5090.4,-100.25 5014.1,-92.54 4953.49,-69 4942.12,-64.58 4942.16,-57.59 4930.49,-54 4881.64,-38.95 4061.6,-37.23 4010.49,-36 3934.75,-34.17 3853.55,-31.99 3776.33,-29.8\"/>\n",
       "<polygon fill=\"black\" stroke=\"black\" points=\"3776.05,-26.29 3765.95,-29.51 3775.85,-33.29 3776.05,-26.29\"/>\n",
       "<text text-anchor=\"middle\" x=\"4958.49\" y=\"-57.8\" font-family=\"Times,serif\" font-size=\"14.00\">1</text>\n",
       "</g>\n",
       "<!-- open&#45;&gt;/p/gpfs1/iopp/temp/cm1r20.3.2846829/config_files/les_HurrBoundLayer/cm1out_000001_v.dat -->\n",
       "<g id=\"edge272\" class=\"edge\">\n",
       "<title>open&#45;&gt;/p/gpfs1/iopp/temp/cm1r20.3.2846829/config_files/les_HurrBoundLayer/cm1out_000001_v.dat</title>\n",
       "<path fill=\"none\" stroke=\"black\" d=\"M5133.89,-101.46C5096.99,-97.72 5035.62,-88.91 4986.49,-69 4975.18,-64.42 4975.16,-57.59 4963.49,-54 4912.88,-38.43 4063.43,-37.26 4010.49,-36 3934.62,-34.19 3853.29,-32.02 3775.95,-29.83\"/>\n",
       "<polygon fill=\"black\" stroke=\"black\" points=\"3775.65,-26.32 3765.56,-29.54 3775.46,-33.32 3775.65,-26.32\"/>\n",
       "<text text-anchor=\"middle\" x=\"4991.49\" y=\"-57.8\" font-family=\"Times,serif\" font-size=\"14.00\">1</text>\n",
       "</g>\n",
       "<!-- open&#45;&gt;/p/gpfs1/iopp/temp/cm1r20.3.2846829/config_files/les_HurrBoundLayer/cm1out_000001_v.dat -->\n",
       "<g id=\"edge276\" class=\"edge\">\n",
       "<title>open&#45;&gt;/p/gpfs1/iopp/temp/cm1r20.3.2846829/config_files/les_HurrBoundLayer/cm1out_000001_v.dat</title>\n",
       "<path fill=\"none\" stroke=\"black\" d=\"M5134.81,-99.69C5104.35,-94.8 5057.46,-85.31 5019.49,-69 5008.28,-64.18 5008.16,-57.58 4996.49,-54 4944.12,-37.91 4065.27,-37.29 4010.49,-36 3934.5,-34.22 3853.03,-32.04 3775.57,-29.86\"/>\n",
       "<polygon fill=\"black\" stroke=\"black\" points=\"3775.26,-26.35 3765.17,-29.56 3775.06,-33.34 3775.26,-26.35\"/>\n",
       "<text text-anchor=\"middle\" x=\"5024.49\" y=\"-57.8\" font-family=\"Times,serif\" font-size=\"14.00\">1</text>\n",
       "</g>\n",
       "<!-- open&#45;&gt;/p/gpfs1/iopp/temp/cm1r20.3.2846829/config_files/les_HurrBoundLayer/cm1out_000001_v.dat -->\n",
       "<g id=\"edge280\" class=\"edge\">\n",
       "<title>open&#45;&gt;/p/gpfs1/iopp/temp/cm1r20.3.2846829/config_files/les_HurrBoundLayer/cm1out_000001_v.dat</title>\n",
       "<path fill=\"none\" stroke=\"black\" d=\"M5136.12,-97.15C5112.64,-91.27 5079.68,-81.73 5052.49,-69 5041.44,-63.83 5041.16,-57.58 5029.49,-54 4975.37,-37.39 4067.1,-37.31 4010.49,-36 3934.38,-34.23 3852.76,-32.07 3775.2,-29.88\"/>\n",
       "<polygon fill=\"black\" stroke=\"black\" points=\"3774.87,-26.37 3764.78,-29.59 3774.67,-33.37 3774.87,-26.37\"/>\n",
       "<text text-anchor=\"middle\" x=\"5057.49\" y=\"-57.8\" font-family=\"Times,serif\" font-size=\"14.00\">1</text>\n",
       "</g>\n",
       "<!-- open&#45;&gt;/p/gpfs1/iopp/temp/cm1r20.3.2846829/config_files/les_HurrBoundLayer/cm1out_000001_v.dat -->\n",
       "<g id=\"edge284\" class=\"edge\">\n",
       "<title>open&#45;&gt;/p/gpfs1/iopp/temp/cm1r20.3.2846829/config_files/les_HurrBoundLayer/cm1out_000001_v.dat</title>\n",
       "<path fill=\"none\" stroke=\"black\" d=\"M5140.06,-93.91C5123.97,-87.44 5103.17,-78.5 5085.49,-69 5074.74,-63.23 5074.16,-57.58 5062.49,-54 5006.61,-36.87 4068.93,-37.34 4010.49,-36 3934.13,-34.25 3852.23,-32.08 3774.44,-29.89\"/>\n",
       "<polygon fill=\"black\" stroke=\"black\" points=\"3774.09,-26.38 3763.99,-29.6 3773.89,-33.38 3774.09,-26.38\"/>\n",
       "<text text-anchor=\"middle\" x=\"5090.49\" y=\"-57.8\" font-family=\"Times,serif\" font-size=\"14.00\">1</text>\n",
       "</g>\n",
       "<!-- open&#45;&gt;/p/gpfs1/iopp/temp/cm1r20.3.2846829/config_files/les_HurrBoundLayer/cm1out_000001_v.dat -->\n",
       "<g id=\"edge288\" class=\"edge\">\n",
       "<title>open&#45;&gt;/p/gpfs1/iopp/temp/cm1r20.3.2846829/config_files/les_HurrBoundLayer/cm1out_000001_v.dat</title>\n",
       "<path fill=\"none\" stroke=\"black\" d=\"M5147.44,-90.17C5127.44,-75.71 5098.47,-54.97 5095.49,-54 5038.18,-35.32 4070.77,-37.37 4010.49,-36 3934.01,-34.27 3851.97,-32.11 3774.07,-29.91\"/>\n",
       "<polygon fill=\"black\" stroke=\"black\" points=\"3773.7,-26.4 3763.6,-29.62 3773.5,-33.4 3773.7,-26.4\"/>\n",
       "<text text-anchor=\"middle\" x=\"5122.49\" y=\"-57.8\" font-family=\"Times,serif\" font-size=\"14.00\">1</text>\n",
       "</g>\n",
       "<!-- open&#45;&gt;/p/gpfs1/iopp/temp/cm1r20.3.2846829/config_files/les_HurrBoundLayer/cm1out_000001_v.dat -->\n",
       "<g id=\"edge292\" class=\"edge\">\n",
       "<title>open&#45;&gt;/p/gpfs1/iopp/temp/cm1r20.3.2846829/config_files/les_HurrBoundLayer/cm1out_000001_v.dat</title>\n",
       "<path fill=\"none\" stroke=\"black\" d=\"M5158.82,-87.24C5152.49,-75.61 5142.31,-60.99 5128.49,-54 5100.78,-39.97 4041.55,-36.7 4010.49,-36 3933.73,-34.28 3851.37,-32.12 3773.21,-29.92\"/>\n",
       "<polygon fill=\"black\" stroke=\"black\" points=\"3773.31,-26.42 3763.21,-29.63 3773.11,-33.41 3773.31,-26.42\"/>\n",
       "<text text-anchor=\"middle\" x=\"5151.49\" y=\"-57.8\" font-family=\"Times,serif\" font-size=\"14.00\">1</text>\n",
       "</g>\n",
       "<!-- open&#45;&gt;/p/gpfs1/iopp/temp/cm1r20.3.2846829/config_files/les_HurrBoundLayer/cm1out_000001_v.dat -->\n",
       "<g id=\"edge296\" class=\"edge\">\n",
       "<title>open&#45;&gt;/p/gpfs1/iopp/temp/cm1r20.3.2846829/config_files/les_HurrBoundLayer/cm1out_000001_v.dat</title>\n",
       "<path fill=\"none\" stroke=\"black\" d=\"M5169.56,-87.07C5170.5,-75.98 5169.46,-62.08 5160.49,-54 5136.76,-32.61 4042.44,-36.71 4010.49,-36 3933.73,-34.3 3851.37,-32.14 3773.21,-29.94\"/>\n",
       "<polygon fill=\"black\" stroke=\"black\" points=\"3773.3,-26.44 3763.21,-29.66 3773.11,-33.44 3773.3,-26.44\"/>\n",
       "<text text-anchor=\"middle\" x=\"5174.49\" y=\"-57.8\" font-family=\"Times,serif\" font-size=\"14.00\">1</text>\n",
       "</g>\n",
       "<!-- open&#45;&gt;/p/gpfs1/iopp/temp/cm1r20.3.2846829/config_files/les_HurrBoundLayer/cm1out_000001_v.dat -->\n",
       "<g id=\"edge300\" class=\"edge\">\n",
       "<title>open&#45;&gt;/p/gpfs1/iopp/temp/cm1r20.3.2846829/config_files/les_HurrBoundLayer/cm1out_000001_v.dat</title>\n",
       "<path fill=\"none\" stroke=\"black\" d=\"M5179.35,-88.14C5186.57,-77.24 5192.5,-63.15 5183.49,-54 5172.06,-42.39 4026.78,-36.36 4010.49,-36 3933.6,-34.31 3851.1,-32.15 3772.84,-29.95\"/>\n",
       "<polygon fill=\"black\" stroke=\"black\" points=\"3772.91,-26.45 3762.82,-29.67 3772.72,-33.45 3772.91,-26.45\"/>\n",
       "<text text-anchor=\"middle\" x=\"5193.49\" y=\"-57.8\" font-family=\"Times,serif\" font-size=\"14.00\">1</text>\n",
       "</g>\n",
       "<!-- open&#45;&gt;/p/gpfs1/iopp/temp/cm1r20.3.2846829/config_files/les_HurrBoundLayer/cm1out_000001_v.dat -->\n",
       "<g id=\"edge304\" class=\"edge\">\n",
       "<title>open&#45;&gt;/p/gpfs1/iopp/temp/cm1r20.3.2846829/config_files/les_HurrBoundLayer/cm1out_000001_v.dat</title>\n",
       "<path fill=\"none\" stroke=\"black\" d=\"M5186.52,-90.62C5200.02,-80.03 5213.53,-65.2 5202.49,-54 5190.88,-42.2 4027.05,-36.36 4010.49,-36 3933.6,-34.32 3851.1,-32.16 3772.84,-29.96\"/>\n",
       "<polygon fill=\"black\" stroke=\"black\" points=\"3772.91,-26.46 3762.82,-29.68 3772.72,-33.46 3772.91,-26.46\"/>\n",
       "<text text-anchor=\"middle\" x=\"5212.49\" y=\"-57.8\" font-family=\"Times,serif\" font-size=\"14.00\">1</text>\n",
       "</g>\n",
       "<!-- open&#45;&gt;/p/gpfs1/iopp/temp/cm1r20.3.2846829/config_files/les_HurrBoundLayer/cm1out_000001_v.dat -->\n",
       "<g id=\"edge308\" class=\"edge\">\n",
       "<title>open&#45;&gt;/p/gpfs1/iopp/temp/cm1r20.3.2846829/config_files/les_HurrBoundLayer/cm1out_000001_v.dat</title>\n",
       "<path fill=\"none\" stroke=\"black\" d=\"M5191.98,-93.45C5212.41,-83.57 5235.53,-68.25 5221.49,-54 5209.69,-42.02 4027.31,-36.37 4010.49,-36 3933.48,-34.32 3850.84,-32.17 3772.46,-29.97\"/>\n",
       "<polygon fill=\"black\" stroke=\"black\" points=\"3772.52,-26.47 3762.43,-29.68 3772.33,-33.46 3772.52,-26.47\"/>\n",
       "<text text-anchor=\"middle\" x=\"5231.49\" y=\"-57.8\" font-family=\"Times,serif\" font-size=\"14.00\">1</text>\n",
       "</g>\n",
       "<!-- open&#45;&gt;/p/gpfs1/iopp/temp/cm1r20.3.2846829/config_files/les_HurrBoundLayer/cm1out_000001_v.dat -->\n",
       "<g id=\"edge312\" class=\"edge\">\n",
       "<title>open&#45;&gt;/p/gpfs1/iopp/temp/cm1r20.3.2846829/config_files/les_HurrBoundLayer/cm1out_000001_v.dat</title>\n",
       "<path fill=\"none\" stroke=\"black\" d=\"M5195.47,-96.21C5223.17,-87.44 5258.29,-72.06 5240.49,-54 5228.5,-41.83 4027.58,-36.37 4010.49,-36 3933.48,-34.33 3850.84,-32.18 3772.46,-29.98\"/>\n",
       "<polygon fill=\"black\" stroke=\"black\" points=\"3772.52,-26.48 3762.43,-29.7 3772.32,-33.48 3772.52,-26.48\"/>\n",
       "<text text-anchor=\"middle\" x=\"5249.49\" y=\"-57.8\" font-family=\"Times,serif\" font-size=\"14.00\">1</text>\n",
       "</g>\n",
       "<!-- open&#45;&gt;/p/gpfs1/iopp/temp/cm1r20.3.2846829/config_files/les_HurrBoundLayer/cm1out_000001_v.dat -->\n",
       "<g id=\"edge316\" class=\"edge\">\n",
       "<title>open&#45;&gt;/p/gpfs1/iopp/temp/cm1r20.3.2846829/config_files/les_HurrBoundLayer/cm1out_000001_v.dat</title>\n",
       "<path fill=\"none\" stroke=\"black\" d=\"M5197.4,-98.45C5231.94,-91.01 5280.32,-76.14 5258.49,-54 5246.33,-41.65 4027.83,-36.37 4010.49,-36 3933.36,-34.34 3850.57,-32.19 3772.08,-29.98\"/>\n",
       "<polygon fill=\"black\" stroke=\"black\" points=\"3772.13,-26.48 3762.04,-29.7 3771.93,-33.48 3772.13,-26.48\"/>\n",
       "<text text-anchor=\"middle\" x=\"5268.49\" y=\"-57.8\" font-family=\"Times,serif\" font-size=\"14.00\">1</text>\n",
       "</g>\n",
       "<!-- open&#45;&gt;/p/gpfs1/iopp/temp/cm1r20.3.2846829/config_files/les_HurrBoundLayer/cm1out_000001_v.dat -->\n",
       "<g id=\"edge320\" class=\"edge\">\n",
       "<title>open&#45;&gt;/p/gpfs1/iopp/temp/cm1r20.3.2846829/config_files/les_HurrBoundLayer/cm1out_000001_v.dat</title>\n",
       "<path fill=\"none\" stroke=\"black\" d=\"M5198.84,-100.32C5240.28,-94.42 5303.83,-80.72 5277.49,-54 5265.14,-41.47 4028.09,-36.38 4010.49,-36 3933.36,-34.34 3850.57,-32.2 3772.08,-29.99\"/>\n",
       "<polygon fill=\"black\" stroke=\"black\" points=\"3772.13,-26.49 3762.04,-29.71 3771.93,-33.49 3772.13,-26.49\"/>\n",
       "<text text-anchor=\"middle\" x=\"5288.49\" y=\"-57.8\" font-family=\"Times,serif\" font-size=\"14.00\">1</text>\n",
       "</g>\n",
       "<!-- open&#45;&gt;/p/gpfs1/iopp/temp/cm1r20.3.2846829/config_files/les_HurrBoundLayer/cm1out_000001_v.dat -->\n",
       "<g id=\"edge324\" class=\"edge\">\n",
       "<title>open&#45;&gt;/p/gpfs1/iopp/temp/cm1r20.3.2846829/config_files/les_HurrBoundLayer/cm1out_000001_v.dat</title>\n",
       "<path fill=\"none\" stroke=\"black\" d=\"M5199.22,-101.93C5247.51,-97.77 5328.95,-85.89 5297.49,-54 5284.94,-41.27 4028.37,-36.38 4010.49,-36 3933.23,-34.35 3850.31,-32.2 3771.71,-29.99\"/>\n",
       "<polygon fill=\"black\" stroke=\"black\" points=\"3771.74,-26.49 3761.65,-29.71 3771.54,-33.49 3771.74,-26.49\"/>\n",
       "<text text-anchor=\"middle\" x=\"5308.49\" y=\"-57.8\" font-family=\"Times,serif\" font-size=\"14.00\">1</text>\n",
       "</g>\n",
       "<!-- open&#45;&gt;/p/gpfs1/iopp/temp/cm1r20.3.2846829/config_files/les_HurrBoundLayer/cm1out_000001_v.dat -->\n",
       "<g id=\"edge328\" class=\"edge\">\n",
       "<title>open&#45;&gt;/p/gpfs1/iopp/temp/cm1r20.3.2846829/config_files/les_HurrBoundLayer/cm1out_000001_v.dat</title>\n",
       "<path fill=\"none\" stroke=\"black\" d=\"M5199.64,-103.15C5254.38,-100.7 5354.15,-91.16 5317.49,-54 5304.75,-41.07 4028.65,-36.39 4010.49,-36 3933.23,-34.36 3850.31,-32.22 3771.71,-30.01\"/>\n",
       "<polygon fill=\"black\" stroke=\"black\" points=\"3771.74,-26.51 3761.65,-29.72 3771.54,-33.5 3771.74,-26.51\"/>\n",
       "<text text-anchor=\"middle\" x=\"5329.49\" y=\"-57.8\" font-family=\"Times,serif\" font-size=\"14.00\">1</text>\n",
       "</g>\n",
       "<!-- open&#45;&gt;/p/gpfs1/iopp/temp/cm1r20.3.2846829/config_files/les_HurrBoundLayer/cm1out_000001_v.dat -->\n",
       "<g id=\"edge332\" class=\"edge\">\n",
       "<title>open&#45;&gt;/p/gpfs1/iopp/temp/cm1r20.3.2846829/config_files/les_HurrBoundLayer/cm1out_000001_v.dat</title>\n",
       "<path fill=\"none\" stroke=\"black\" d=\"M5199.8,-104.17C5260.86,-103.48 5380.75,-96.84 5338.49,-54 5325.54,-40.87 4028.94,-36.39 4010.49,-36 3933.11,-34.36 3850.04,-32.22 3771.33,-30.01\"/>\n",
       "<polygon fill=\"black\" stroke=\"black\" points=\"3771.35,-26.51 3761.26,-29.73 3771.15,-33.51 3771.35,-26.51\"/>\n",
       "<text text-anchor=\"middle\" x=\"5351.49\" y=\"-57.8\" font-family=\"Times,serif\" font-size=\"14.00\">1</text>\n",
       "</g>\n",
       "<!-- open&#45;&gt;/p/gpfs1/iopp/temp/cm1r20.3.2846829/config_files/les_HurrBoundLayer/cm1out_000001_v.dat -->\n",
       "<g id=\"edge336\" class=\"edge\">\n",
       "<title>open&#45;&gt;/p/gpfs1/iopp/temp/cm1r20.3.2846829/config_files/les_HurrBoundLayer/cm1out_000001_v.dat</title>\n",
       "<path fill=\"none\" stroke=\"black\" d=\"M5199.52,-102.97C5249.41,-100.63 5340.36,-93.09 5360.49,-69 5364.77,-63.88 5365.18,-58.75 5360.49,-54 5347.32,-40.65 4029.24,-36.39 4010.49,-36 3933.11,-34.37 3850.04,-32.23 3771.33,-30.02\"/>\n",
       "<polygon fill=\"black\" stroke=\"black\" points=\"3771.35,-26.52 3761.26,-29.74 3771.15,-33.52 3771.35,-26.52\"/>\n",
       "<text text-anchor=\"middle\" x=\"5368.49\" y=\"-57.8\" font-family=\"Times,serif\" font-size=\"14.00\">1</text>\n",
       "</g>\n",
       "<!-- open&#45;&gt;/p/gpfs1/iopp/temp/cm1r20.3.2846829/config_files/les_HurrBoundLayer/cm1out_000001_v.dat -->\n",
       "<g id=\"edge340\" class=\"edge\">\n",
       "<title>open&#45;&gt;/p/gpfs1/iopp/temp/cm1r20.3.2846829/config_files/les_HurrBoundLayer/cm1out_000001_v.dat</title>\n",
       "<path fill=\"none\" stroke=\"black\" d=\"M5199.75,-103.5C5253.35,-101.92 5355.1,-95.41 5377.49,-69 5381.81,-63.91 5382.18,-58.74 5377.49,-54 5364.16,-40.49 4029.48,-36.4 4010.49,-36 3933.11,-34.38 3850.04,-32.24 3771.33,-30.03\"/>\n",
       "<polygon fill=\"black\" stroke=\"black\" points=\"3771.35,-26.53 3761.26,-29.75 3771.15,-33.53 3771.35,-26.53\"/>\n",
       "<text text-anchor=\"middle\" x=\"5385.49\" y=\"-57.8\" font-family=\"Times,serif\" font-size=\"14.00\">1</text>\n",
       "</g>\n",
       "<!-- open&#45;&gt;/p/gpfs1/iopp/temp/cm1r20.3.2846829/config_files/les_HurrBoundLayer/cm1out_000001_v.dat -->\n",
       "<g id=\"edge344\" class=\"edge\">\n",
       "<title>open&#45;&gt;/p/gpfs1/iopp/temp/cm1r20.3.2846829/config_files/les_HurrBoundLayer/cm1out_000001_v.dat</title>\n",
       "<path fill=\"none\" stroke=\"black\" d=\"M5199.65,-103.97C5256.72,-103.14 5369.78,-97.79 5394.49,-69 5398.84,-63.94 5399.18,-58.74 5394.49,-54 5380.99,-40.32 4029.71,-36.4 4010.49,-36 3932.99,-34.38 3849.78,-32.24 3770.95,-30.03\"/>\n",
       "<polygon fill=\"black\" stroke=\"black\" points=\"3770.96,-26.53 3760.86,-29.75 3770.76,-33.53 3770.96,-26.53\"/>\n",
       "<text text-anchor=\"middle\" x=\"5402.49\" y=\"-57.8\" font-family=\"Times,serif\" font-size=\"14.00\">1</text>\n",
       "</g>\n",
       "<!-- open&#45;&gt;/p/gpfs1/iopp/temp/cm1r20.3.2846829/config_files/les_HurrBoundLayer/cm1out_000001_v.dat -->\n",
       "<g id=\"edge348\" class=\"edge\">\n",
       "<title>open&#45;&gt;/p/gpfs1/iopp/temp/cm1r20.3.2846829/config_files/les_HurrBoundLayer/cm1out_000001_v.dat</title>\n",
       "<path fill=\"none\" stroke=\"black\" d=\"M5199.71,-104.37C5260.17,-104.27 5384.47,-100.16 5411.49,-69 5415.86,-63.96 5416.18,-58.74 5411.49,-54 5397.82,-40.15 4029.95,-36.4 4010.49,-36 3932.98,-34.39 3849.78,-32.25 3770.95,-30.04\"/>\n",
       "<polygon fill=\"black\" stroke=\"black\" points=\"3770.96,-26.54 3760.86,-29.76 3770.76,-33.54 3770.96,-26.54\"/>\n",
       "<text text-anchor=\"middle\" x=\"5419.49\" y=\"-57.8\" font-family=\"Times,serif\" font-size=\"14.00\">1</text>\n",
       "</g>\n",
       "<!-- open&#45;&gt;/p/gpfs1/iopp/temp/cm1r20.3.2846829/config_files/les_HurrBoundLayer/cm1out_000001_v.dat -->\n",
       "<g id=\"edge352\" class=\"edge\">\n",
       "<title>open&#45;&gt;/p/gpfs1/iopp/temp/cm1r20.3.2846829/config_files/les_HurrBoundLayer/cm1out_000001_v.dat</title>\n",
       "<path fill=\"none\" stroke=\"black\" d=\"M5199.99,-104.73C5263.83,-105.32 5399.18,-102.49 5428.49,-69 5432.89,-63.98 5433.18,-58.74 5428.49,-54 5414.66,-39.98 4030.19,-36.41 4010.49,-36 3932.98,-34.4 3849.78,-32.26 3770.95,-30.05\"/>\n",
       "<polygon fill=\"black\" stroke=\"black\" points=\"3770.96,-26.55 3760.86,-29.76 3770.76,-33.54 3770.96,-26.55\"/>\n",
       "<text text-anchor=\"middle\" x=\"5436.49\" y=\"-57.8\" font-family=\"Times,serif\" font-size=\"14.00\">1</text>\n",
       "</g>\n",
       "<!-- open&#45;&gt;/p/gpfs1/iopp/temp/cm1r20.3.2846829/config_files/les_HurrBoundLayer/cm1out_000001_w.dat -->\n",
       "<g id=\"edge356\" class=\"edge\">\n",
       "<title>open&#45;&gt;/p/gpfs1/iopp/temp/cm1r20.3.2846829/config_files/les_HurrBoundLayer/cm1out_000001_w.dat</title>\n",
       "<path fill=\"none\" stroke=\"black\" d=\"M5199.66,-103.79C5407.54,-102.42 6523.2,-93.91 6547.49,-69 6552.15,-64.23 6552.18,-58.74 6547.49,-54 6532.4,-38.73 5022.96,-36.47 5001.49,-36 4939.37,-34.64 4873.15,-32.81 4809.35,-30.85\"/>\n",
       "<polygon fill=\"black\" stroke=\"black\" points=\"4809.24,-27.34 4799.13,-30.53 4809.02,-34.34 4809.24,-27.34\"/>\n",
       "<text text-anchor=\"middle\" x=\"6555.49\" y=\"-57.8\" font-family=\"Times,serif\" font-size=\"14.00\">1</text>\n",
       "</g>\n",
       "<!-- open&#45;&gt;/p/gpfs1/iopp/temp/cm1r20.3.2846829/config_files/les_HurrBoundLayer/cm1out_000001_w.dat -->\n",
       "<g id=\"edge362\" class=\"edge\">\n",
       "<title>open&#45;&gt;/p/gpfs1/iopp/temp/cm1r20.3.2846829/config_files/les_HurrBoundLayer/cm1out_000001_w.dat</title>\n",
       "<path fill=\"none\" stroke=\"black\" d=\"M5199.72,-103.8C5409.29,-102.49 6539.89,-94.23 6564.49,-69 6569.15,-64.23 6569.18,-58.74 6564.49,-54 6549.23,-38.56 5023.2,-36.47 5001.49,-36 4939.37,-34.64 4873.15,-32.81 4809.35,-30.86\"/>\n",
       "<polygon fill=\"black\" stroke=\"black\" points=\"4809.24,-27.35 4799.13,-30.54 4809.02,-34.35 4809.24,-27.35\"/>\n",
       "<text text-anchor=\"middle\" x=\"6572.49\" y=\"-57.8\" font-family=\"Times,serif\" font-size=\"14.00\">1</text>\n",
       "</g>\n",
       "<!-- open&#45;&gt;/p/gpfs1/iopp/temp/cm1r20.3.2846829/config_files/les_HurrBoundLayer/cm1out_000001_w.dat -->\n",
       "<g id=\"edge368\" class=\"edge\">\n",
       "<title>open&#45;&gt;/p/gpfs1/iopp/temp/cm1r20.3.2846829/config_files/les_HurrBoundLayer/cm1out_000001_w.dat</title>\n",
       "<path fill=\"none\" stroke=\"black\" d=\"M5199.79,-103.81C5411.01,-102.55 6556.57,-94.55 6581.49,-69 6586.15,-64.23 6586.18,-58.74 6581.49,-54 6566.07,-38.39 5023.44,-36.48 5001.49,-36 4939.37,-34.65 4873.15,-32.82 4809.35,-30.86\"/>\n",
       "<polygon fill=\"black\" stroke=\"black\" points=\"4809.24,-27.36 4799.13,-30.55 4809.02,-34.35 4809.24,-27.36\"/>\n",
       "<text text-anchor=\"middle\" x=\"6589.49\" y=\"-57.8\" font-family=\"Times,serif\" font-size=\"14.00\">1</text>\n",
       "</g>\n",
       "<!-- open&#45;&gt;/p/gpfs1/iopp/temp/cm1r20.3.2846829/config_files/les_HurrBoundLayer/cm1out_000001_w.dat -->\n",
       "<g id=\"edge372\" class=\"edge\">\n",
       "<title>open&#45;&gt;/p/gpfs1/iopp/temp/cm1r20.3.2846829/config_files/les_HurrBoundLayer/cm1out_000001_w.dat</title>\n",
       "<path fill=\"none\" stroke=\"black\" d=\"M5199.59,-103.89C5421.5,-103.04 6685.11,-97.02 6712.49,-69 6717.16,-64.23 6717.18,-58.74 6712.49,-54 6695.78,-37.11 5025.25,-36.51 5001.49,-36 4939.15,-34.67 4872.69,-32.85 4808.68,-30.89\"/>\n",
       "<polygon fill=\"black\" stroke=\"black\" points=\"4808.53,-27.38 4798.43,-30.57 4808.32,-34.38 4808.53,-27.38\"/>\n",
       "<text text-anchor=\"middle\" x=\"6720.49\" y=\"-57.8\" font-family=\"Times,serif\" font-size=\"14.00\">1</text>\n",
       "</g>\n",
       "<!-- open&#45;&gt;/p/gpfs1/iopp/temp/cm1r20.3.2846829/config_files/les_HurrBoundLayer/cm1out_000001_w.dat -->\n",
       "<g id=\"edge376\" class=\"edge\">\n",
       "<title>open&#45;&gt;/p/gpfs1/iopp/temp/cm1r20.3.2846829/config_files/les_HurrBoundLayer/cm1out_000001_w.dat</title>\n",
       "<path fill=\"none\" stroke=\"black\" d=\"M5199.96,-104.49C5314.64,-105.81 5686.7,-107.12 5722.49,-69 5727.06,-64.14 5727.15,-58.77 5722.49,-54 5708.51,-39.66 5021.52,-36.57 5001.49,-36 4942.44,-34.31 4879.68,-32.4 4818.81,-30.48\"/>\n",
       "<polygon fill=\"black\" stroke=\"black\" points=\"4818.77,-26.97 4808.66,-30.16 4818.55,-33.97 4818.77,-26.97\"/>\n",
       "<text text-anchor=\"middle\" x=\"5730.49\" y=\"-57.8\" font-family=\"Times,serif\" font-size=\"14.00\">1</text>\n",
       "</g>\n",
       "<!-- open&#45;&gt;/p/gpfs1/iopp/temp/cm1r20.3.2846829/config_files/les_HurrBoundLayer/cm1out_000001_w.dat -->\n",
       "<g id=\"edge380\" class=\"edge\">\n",
       "<title>open&#45;&gt;/p/gpfs1/iopp/temp/cm1r20.3.2846829/config_files/les_HurrBoundLayer/cm1out_000001_w.dat</title>\n",
       "<path fill=\"none\" stroke=\"black\" d=\"M5199.8,-103.21C5319.38,-100.23 5720.91,-88.76 5739.49,-69 5744.06,-64.14 5744.15,-58.77 5739.49,-54 5725.17,-39.32 5021.99,-36.58 5001.49,-36 4942.22,-34.32 4879.22,-32.41 4818.14,-30.48\"/>\n",
       "<polygon fill=\"black\" stroke=\"black\" points=\"4818.06,-26.98 4807.96,-30.16 4817.84,-33.98 4818.06,-26.98\"/>\n",
       "<text text-anchor=\"middle\" x=\"5747.49\" y=\"-57.8\" font-family=\"Times,serif\" font-size=\"14.00\">1</text>\n",
       "</g>\n",
       "<!-- open&#45;&gt;/p/gpfs1/iopp/temp/cm1r20.3.2846829/config_files/les_HurrBoundLayer/cm1out_000001_w.dat -->\n",
       "<g id=\"edge384\" class=\"edge\">\n",
       "<title>open&#45;&gt;/p/gpfs1/iopp/temp/cm1r20.3.2846829/config_files/les_HurrBoundLayer/cm1out_000001_w.dat</title>\n",
       "<path fill=\"none\" stroke=\"black\" d=\"M5199.53,-103.28C5321.06,-100.47 5737.27,-89.4 5756.49,-69 5761.07,-64.15 5761.15,-58.77 5756.49,-54 5741.84,-38.99 5022.46,-36.59 5001.49,-36 4942.12,-34.34 4878.98,-32.43 4817.8,-30.5\"/>\n",
       "<polygon fill=\"black\" stroke=\"black\" points=\"4817.71,-27 4807.6,-30.18 4817.49,-33.99 4817.71,-27\"/>\n",
       "<text text-anchor=\"middle\" x=\"5764.49\" y=\"-57.8\" font-family=\"Times,serif\" font-size=\"14.00\">1</text>\n",
       "</g>\n",
       "<!-- open&#45;&gt;/p/gpfs1/iopp/temp/cm1r20.3.2846829/config_files/les_HurrBoundLayer/cm1out_000001_w.dat -->\n",
       "<g id=\"edge388\" class=\"edge\">\n",
       "<title>open&#45;&gt;/p/gpfs1/iopp/temp/cm1r20.3.2846829/config_files/les_HurrBoundLayer/cm1out_000001_w.dat</title>\n",
       "<path fill=\"none\" stroke=\"black\" d=\"M5199.63,-103.33C5323.54,-100.69 5753.66,-90.01 5773.49,-69 5778.07,-64.15 5778.15,-58.77 5773.49,-54 5758.5,-38.66 5022.94,-36.6 5001.49,-36 4942.01,-34.35 4878.75,-32.44 4817.47,-30.52\"/>\n",
       "<polygon fill=\"black\" stroke=\"black\" points=\"4817.35,-27.01 4807.25,-30.19 4817.13,-34.01 4817.35,-27.01\"/>\n",
       "<text text-anchor=\"middle\" x=\"5781.49\" y=\"-57.8\" font-family=\"Times,serif\" font-size=\"14.00\">1</text>\n",
       "</g>\n",
       "<!-- open&#45;&gt;/p/gpfs1/iopp/temp/cm1r20.3.2846829/config_files/les_HurrBoundLayer/cm1out_000001_w.dat -->\n",
       "<g id=\"edge392\" class=\"edge\">\n",
       "<title>open&#45;&gt;/p/gpfs1/iopp/temp/cm1r20.3.2846829/config_files/les_HurrBoundLayer/cm1out_000001_w.dat</title>\n",
       "<path fill=\"none\" stroke=\"black\" d=\"M5199.69,-103.39C5325.91,-100.9 5770.04,-90.63 5790.49,-69 5795.07,-64.16 5795.15,-58.77 5790.49,-54 5775.17,-38.32 5023.41,-36.6 5001.49,-36 4941.9,-34.36 4878.52,-32.46 4817.13,-30.53\"/>\n",
       "<polygon fill=\"black\" stroke=\"black\" points=\"4817,-27.03 4806.9,-30.21 4816.78,-34.02 4817,-27.03\"/>\n",
       "<text text-anchor=\"middle\" x=\"5798.49\" y=\"-57.8\" font-family=\"Times,serif\" font-size=\"14.00\">1</text>\n",
       "</g>\n",
       "<!-- open&#45;&gt;/p/gpfs1/iopp/temp/cm1r20.3.2846829/config_files/les_HurrBoundLayer/cm1out_000001_w.dat -->\n",
       "<g id=\"edge396\" class=\"edge\">\n",
       "<title>open&#45;&gt;/p/gpfs1/iopp/temp/cm1r20.3.2846829/config_files/les_HurrBoundLayer/cm1out_000001_w.dat</title>\n",
       "<path fill=\"none\" stroke=\"black\" d=\"M5199.71,-103.44C5328.17,-101.11 5786.42,-91.25 5807.49,-69 5812.08,-64.16 5812.16,-58.77 5807.49,-54 5791.84,-37.99 5023.88,-36.61 5001.49,-36 4941.79,-34.37 4878.29,-32.47 4816.79,-30.54\"/>\n",
       "<polygon fill=\"black\" stroke=\"black\" points=\"4816.65,-27.04 4806.54,-30.22 4816.43,-34.03 4816.65,-27.04\"/>\n",
       "<text text-anchor=\"middle\" x=\"5815.49\" y=\"-57.8\" font-family=\"Times,serif\" font-size=\"14.00\">1</text>\n",
       "</g>\n",
       "<!-- open&#45;&gt;/p/gpfs1/iopp/temp/cm1r20.3.2846829/config_files/les_HurrBoundLayer/cm1out_000001_w.dat -->\n",
       "<g id=\"edge400\" class=\"edge\">\n",
       "<title>open&#45;&gt;/p/gpfs1/iopp/temp/cm1r20.3.2846829/config_files/les_HurrBoundLayer/cm1out_000001_w.dat</title>\n",
       "<path fill=\"none\" stroke=\"black\" d=\"M5199.69,-103.49C5330.32,-101.31 5802.8,-91.88 5824.49,-69 5829.08,-64.16 5829.16,-58.77 5824.49,-54 5808.5,-37.66 5024.35,-36.62 5001.49,-36 4941.79,-34.39 4878.29,-32.49 4816.79,-30.57\"/>\n",
       "<polygon fill=\"black\" stroke=\"black\" points=\"4816.65,-27.06 4806.54,-30.25 4816.43,-34.06 4816.65,-27.06\"/>\n",
       "<text text-anchor=\"middle\" x=\"5832.49\" y=\"-57.8\" font-family=\"Times,serif\" font-size=\"14.00\">1</text>\n",
       "</g>\n",
       "<!-- open&#45;&gt;/p/gpfs1/iopp/temp/cm1r20.3.2846829/config_files/les_HurrBoundLayer/cm1out_000001_w.dat -->\n",
       "<g id=\"edge404\" class=\"edge\">\n",
       "<title>open&#45;&gt;/p/gpfs1/iopp/temp/cm1r20.3.2846829/config_files/les_HurrBoundLayer/cm1out_000001_w.dat</title>\n",
       "<path fill=\"none\" stroke=\"black\" d=\"M5199.64,-103.53C5332.34,-101.51 5819.17,-92.51 5841.49,-69 5846.09,-64.17 5846.16,-58.76 5841.49,-54 5825.17,-37.32 5024.83,-36.63 5001.49,-36 4941.68,-34.4 4878.06,-32.51 4816.46,-30.58\"/>\n",
       "<polygon fill=\"black\" stroke=\"black\" points=\"4816.29,-27.07 4806.19,-30.26 4816.07,-34.07 4816.29,-27.07\"/>\n",
       "<text text-anchor=\"middle\" x=\"5849.49\" y=\"-57.8\" font-family=\"Times,serif\" font-size=\"14.00\">1</text>\n",
       "</g>\n",
       "<!-- open&#45;&gt;/p/gpfs1/iopp/temp/cm1r20.3.2846829/config_files/les_HurrBoundLayer/cm1out_000001_w.dat -->\n",
       "<g id=\"edge408\" class=\"edge\">\n",
       "<title>open&#45;&gt;/p/gpfs1/iopp/temp/cm1r20.3.2846829/config_files/les_HurrBoundLayer/cm1out_000001_w.dat</title>\n",
       "<path fill=\"none\" stroke=\"black\" d=\"M5199.56,-103.58C5334.26,-101.71 5835.55,-93.14 5858.49,-69 5863.09,-64.17 5863.16,-58.76 5858.49,-54 5841.84,-36.99 5025.3,-36.63 5001.49,-36 4941.57,-34.41 4877.83,-32.52 4816.12,-30.59\"/>\n",
       "<polygon fill=\"black\" stroke=\"black\" points=\"4815.94,-27.08 4805.83,-30.27 4815.72,-34.08 4815.94,-27.08\"/>\n",
       "<text text-anchor=\"middle\" x=\"5866.49\" y=\"-57.8\" font-family=\"Times,serif\" font-size=\"14.00\">1</text>\n",
       "</g>\n",
       "<!-- open&#45;&gt;/p/gpfs1/iopp/temp/cm1r20.3.2846829/config_files/les_HurrBoundLayer/cm1out_000001_w.dat -->\n",
       "<g id=\"edge412\" class=\"edge\">\n",
       "<title>open&#45;&gt;/p/gpfs1/iopp/temp/cm1r20.3.2846829/config_files/les_HurrBoundLayer/cm1out_000001_w.dat</title>\n",
       "<path fill=\"none\" stroke=\"black\" d=\"M5199.91,-103.62C5337.21,-101.88 5851.94,-93.74 5875.49,-69 5880.09,-64.17 5880.16,-58.76 5875.49,-54 5858.5,-36.65 5025.77,-36.64 5001.49,-36 4941.46,-34.42 4877.6,-32.53 4815.78,-30.6\"/>\n",
       "<polygon fill=\"black\" stroke=\"black\" points=\"4815.59,-27.09 4805.48,-30.28 4815.37,-34.09 4815.59,-27.09\"/>\n",
       "<text text-anchor=\"middle\" x=\"5883.49\" y=\"-57.8\" font-family=\"Times,serif\" font-size=\"14.00\">1</text>\n",
       "</g>\n",
       "<!-- open&#45;&gt;/p/gpfs1/iopp/temp/cm1r20.3.2846829/config_files/les_HurrBoundLayer/cm1out_000001_w.dat -->\n",
       "<g id=\"edge416\" class=\"edge\">\n",
       "<title>open&#45;&gt;/p/gpfs1/iopp/temp/cm1r20.3.2846829/config_files/les_HurrBoundLayer/cm1out_000001_w.dat</title>\n",
       "<path fill=\"none\" stroke=\"black\" d=\"M5199.76,-103.66C5338.93,-102.07 5868.31,-94.38 5892.49,-69 5897.09,-64.17 5897.16,-58.76 5892.49,-54 5875.17,-36.32 5026.24,-36.65 5001.49,-36 4941.35,-34.42 4877.36,-32.54 4815.45,-30.61\"/>\n",
       "<polygon fill=\"black\" stroke=\"black\" points=\"4815.23,-27.1 4805.13,-30.29 4815.01,-34.1 4815.23,-27.1\"/>\n",
       "<text text-anchor=\"middle\" x=\"5900.49\" y=\"-57.8\" font-family=\"Times,serif\" font-size=\"14.00\">1</text>\n",
       "</g>\n",
       "<!-- open&#45;&gt;/p/gpfs1/iopp/temp/cm1r20.3.2846829/config_files/les_HurrBoundLayer/cm1out_000001_w.dat -->\n",
       "<g id=\"edge420\" class=\"edge\">\n",
       "<title>open&#45;&gt;/p/gpfs1/iopp/temp/cm1r20.3.2846829/config_files/les_HurrBoundLayer/cm1out_000001_w.dat</title>\n",
       "<path fill=\"none\" stroke=\"black\" d=\"M5199.58,-103.7C5340.52,-102.26 5884.68,-95.02 5909.49,-69 5914.1,-64.18 5914.16,-58.76 5909.49,-54 5891.83,-35.99 5026.71,-36.66 5001.49,-36 4941.35,-34.44 4877.36,-32.56 4815.45,-30.63\"/>\n",
       "<polygon fill=\"black\" stroke=\"black\" points=\"4815.23,-27.12 4805.13,-30.3 4815.01,-34.12 4815.23,-27.12\"/>\n",
       "<text text-anchor=\"middle\" x=\"5917.49\" y=\"-57.8\" font-family=\"Times,serif\" font-size=\"14.00\">1</text>\n",
       "</g>\n",
       "<!-- open&#45;&gt;/p/gpfs1/iopp/temp/cm1r20.3.2846829/config_files/les_HurrBoundLayer/cm1out_000001_w.dat -->\n",
       "<g id=\"edge424\" class=\"edge\">\n",
       "<title>open&#45;&gt;/p/gpfs1/iopp/temp/cm1r20.3.2846829/config_files/les_HurrBoundLayer/cm1out_000001_w.dat</title>\n",
       "<path fill=\"none\" stroke=\"black\" d=\"M5199.86,-103.73C5343.25,-102.42 5901.07,-95.63 5926.49,-69 5931.1,-64.18 5931.16,-58.76 5926.49,-54 5908.5,-35.65 5027.19,-36.66 5001.49,-36 4941.24,-34.44 4877.13,-32.57 4815.11,-30.64\"/>\n",
       "<polygon fill=\"black\" stroke=\"black\" points=\"4814.88,-27.13 4804.77,-30.31 4814.66,-34.12 4814.88,-27.13\"/>\n",
       "<text text-anchor=\"middle\" x=\"5934.49\" y=\"-57.8\" font-family=\"Times,serif\" font-size=\"14.00\">1</text>\n",
       "</g>\n",
       "<!-- open&#45;&gt;/p/gpfs1/iopp/temp/cm1r20.3.2846829/config_files/les_HurrBoundLayer/cm1out_000001_w.dat -->\n",
       "<g id=\"edge428\" class=\"edge\">\n",
       "<title>open&#45;&gt;/p/gpfs1/iopp/temp/cm1r20.3.2846829/config_files/les_HurrBoundLayer/cm1out_000001_w.dat</title>\n",
       "<path fill=\"none\" stroke=\"black\" d=\"M5199.62,-103.77C5344.64,-102.6 5917.43,-96.27 5943.49,-69 5948.1,-64.18 5948.16,-58.76 5943.49,-54 5925.17,-35.32 5027.66,-36.67 5001.49,-36 4941.13,-34.45 4876.9,-32.58 4814.78,-30.64\"/>\n",
       "<polygon fill=\"black\" stroke=\"black\" points=\"4814.53,-27.13 4804.42,-30.32 4814.31,-34.13 4814.53,-27.13\"/>\n",
       "<text text-anchor=\"middle\" x=\"5951.49\" y=\"-57.8\" font-family=\"Times,serif\" font-size=\"14.00\">1</text>\n",
       "</g>\n",
       "<!-- open&#45;&gt;/p/gpfs1/iopp/temp/cm1r20.3.2846829/config_files/les_HurrBoundLayer/cm1out_000001_w.dat -->\n",
       "<g id=\"edge432\" class=\"edge\">\n",
       "<title>open&#45;&gt;/p/gpfs1/iopp/temp/cm1r20.3.2846829/config_files/les_HurrBoundLayer/cm1out_000001_w.dat</title>\n",
       "<path fill=\"none\" stroke=\"black\" d=\"M5199.85,-103.8C5347.22,-102.76 5933.81,-96.88 5960.49,-69 5965.1,-64.18 5965.16,-58.76 5960.49,-54 5941.83,-34.98 5028.13,-36.68 5001.49,-36 4941.13,-34.46 4876.9,-32.59 4814.78,-30.66\"/>\n",
       "<polygon fill=\"black\" stroke=\"black\" points=\"4814.53,-27.15 4804.42,-30.34 4814.31,-34.15 4814.53,-27.15\"/>\n",
       "<text text-anchor=\"middle\" x=\"5968.49\" y=\"-57.8\" font-family=\"Times,serif\" font-size=\"14.00\">1</text>\n",
       "</g>\n",
       "<!-- open&#45;&gt;/p/gpfs1/iopp/temp/cm1r20.3.2846829/config_files/les_HurrBoundLayer/cm1out_000001_w.dat -->\n",
       "<g id=\"edge436\" class=\"edge\">\n",
       "<title>open&#45;&gt;/p/gpfs1/iopp/temp/cm1r20.3.2846829/config_files/les_HurrBoundLayer/cm1out_000001_w.dat</title>\n",
       "<path fill=\"none\" stroke=\"black\" d=\"M5200.06,-103.83C5349.75,-102.92 5950.2,-97.5 5977.49,-69 5982.11,-64.19 5982.17,-58.76 5977.49,-54 5958.5,-34.65 5028.6,-36.69 5001.49,-36 4941.03,-34.47 4876.67,-32.6 4814.44,-30.67\"/>\n",
       "<polygon fill=\"black\" stroke=\"black\" points=\"4814.17,-27.16 4804.07,-30.34 4813.95,-34.15 4814.17,-27.16\"/>\n",
       "<text text-anchor=\"middle\" x=\"5985.49\" y=\"-57.8\" font-family=\"Times,serif\" font-size=\"14.00\">1</text>\n",
       "</g>\n",
       "<!-- open&#45;&gt;/p/gpfs1/iopp/temp/cm1r20.3.2846829/config_files/les_HurrBoundLayer/cm1out_000001_w.dat -->\n",
       "<g id=\"edge440\" class=\"edge\">\n",
       "<title>open&#45;&gt;/p/gpfs1/iopp/temp/cm1r20.3.2846829/config_files/les_HurrBoundLayer/cm1out_000001_w.dat</title>\n",
       "<path fill=\"none\" stroke=\"black\" d=\"M5199.75,-103.86C5350.85,-103.09 5966.55,-98.15 5994.49,-69 5999.11,-64.19 5999.17,-58.76 5994.49,-54 5975.16,-34.32 5029.07,-36.69 5001.49,-36 4940.79,-34.47 4876.17,-32.6 4813.72,-30.66\"/>\n",
       "<polygon fill=\"black\" stroke=\"black\" points=\"4813.82,-27.16 4803.72,-30.35 4813.6,-34.16 4813.82,-27.16\"/>\n",
       "<text text-anchor=\"middle\" x=\"6002.49\" y=\"-57.8\" font-family=\"Times,serif\" font-size=\"14.00\">1</text>\n",
       "</g>\n",
       "<!-- open&#45;&gt;/p/gpfs1/iopp/temp/cm1r20.3.2846829/config_files/les_HurrBoundLayer/cm1out_000001_w.dat -->\n",
       "<g id=\"edge444\" class=\"edge\">\n",
       "<title>open&#45;&gt;/p/gpfs1/iopp/temp/cm1r20.3.2846829/config_files/les_HurrBoundLayer/cm1out_000001_w.dat</title>\n",
       "<path fill=\"none\" stroke=\"black\" d=\"M5199.66,-103.89C5352.53,-103.25 5982.92,-98.78 6011.49,-69 6016.11,-64.19 6016.17,-58.76 6011.49,-54 5991.83,-33.98 5029.55,-36.7 5001.49,-36 4940.79,-34.48 4876.17,-32.61 4813.72,-30.67\"/>\n",
       "<polygon fill=\"black\" stroke=\"black\" points=\"4813.82,-27.18 4803.72,-30.36 4813.6,-34.17 4813.82,-27.18\"/>\n",
       "<text text-anchor=\"middle\" x=\"6019.49\" y=\"-57.8\" font-family=\"Times,serif\" font-size=\"14.00\">1</text>\n",
       "</g>\n",
       "<!-- open&#45;&gt;/p/gpfs1/iopp/temp/cm1r20.3.2846829/config_files/les_HurrBoundLayer/cm1out_000001_w.dat -->\n",
       "<g id=\"edge448\" class=\"edge\">\n",
       "<title>open&#45;&gt;/p/gpfs1/iopp/temp/cm1r20.3.2846829/config_files/les_HurrBoundLayer/cm1out_000001_w.dat</title>\n",
       "<path fill=\"none\" stroke=\"black\" d=\"M5199.81,-103.92C5354.84,-103.4 5999.3,-99.4 6028.49,-69 6033.11,-64.19 6033.17,-58.76 6028.49,-54 6008.5,-33.65 5030.02,-36.71 5001.49,-36 4940.68,-34.49 4875.94,-32.62 4813.38,-30.68\"/>\n",
       "<polygon fill=\"black\" stroke=\"black\" points=\"4813.47,-27.18 4803.36,-30.37 4813.25,-34.18 4813.47,-27.18\"/>\n",
       "<text text-anchor=\"middle\" x=\"6036.49\" y=\"-57.8\" font-family=\"Times,serif\" font-size=\"14.00\">1</text>\n",
       "</g>\n",
       "<!-- open&#45;&gt;/p/gpfs1/iopp/temp/cm1r20.3.2846829/config_files/les_HurrBoundLayer/cm1out_000001_w.dat -->\n",
       "<g id=\"edge452\" class=\"edge\">\n",
       "<title>open&#45;&gt;/p/gpfs1/iopp/temp/cm1r20.3.2846829/config_files/les_HurrBoundLayer/cm1out_000001_w.dat</title>\n",
       "<path fill=\"none\" stroke=\"black\" d=\"M5199.68,-103.95C5356.36,-103.55 6015.67,-100.04 6045.49,-69 6050.11,-64.19 6050.17,-58.75 6045.49,-54 6025.16,-33.31 5030.49,-36.72 5001.49,-36 4940.68,-34.5 4875.94,-32.63 4813.38,-30.69\"/>\n",
       "<polygon fill=\"black\" stroke=\"black\" points=\"4813.47,-27.19 4803.36,-30.38 4813.25,-34.19 4813.47,-27.19\"/>\n",
       "<text text-anchor=\"middle\" x=\"6053.49\" y=\"-57.8\" font-family=\"Times,serif\" font-size=\"14.00\">1</text>\n",
       "</g>\n",
       "<!-- open&#45;&gt;/p/gpfs1/iopp/temp/cm1r20.3.2846829/config_files/les_HurrBoundLayer/cm1out_000001_w.dat -->\n",
       "<g id=\"edge456\" class=\"edge\">\n",
       "<title>open&#45;&gt;/p/gpfs1/iopp/temp/cm1r20.3.2846829/config_files/les_HurrBoundLayer/cm1out_000001_w.dat</title>\n",
       "<path fill=\"none\" stroke=\"black\" d=\"M5199.79,-103.98C5358.54,-103.7 6032.04,-100.66 6062.49,-69 6067.12,-64.19 6067.17,-58.75 6062.49,-54 6041.83,-32.98 5030.96,-36.72 5001.49,-36 4940.57,-34.5 4875.71,-32.64 4813.05,-30.7\"/>\n",
       "<polygon fill=\"black\" stroke=\"black\" points=\"4813.11,-27.2 4803.01,-30.38 4812.9,-34.19 4813.11,-27.2\"/>\n",
       "<text text-anchor=\"middle\" x=\"6070.49\" y=\"-57.8\" font-family=\"Times,serif\" font-size=\"14.00\">1</text>\n",
       "</g>\n",
       "<!-- open&#45;&gt;/p/gpfs1/iopp/temp/cm1r20.3.2846829/config_files/les_HurrBoundLayer/cm1out_000001_w.dat -->\n",
       "<g id=\"edge460\" class=\"edge\">\n",
       "<title>open&#45;&gt;/p/gpfs1/iopp/temp/cm1r20.3.2846829/config_files/les_HurrBoundLayer/cm1out_000001_w.dat</title>\n",
       "<path fill=\"none\" stroke=\"black\" d=\"M5199.62,-104C5359.9,-103.85 6048.4,-101.31 6079.49,-69 6084.12,-64.2 6084.17,-58.75 6079.49,-54 6058.5,-32.65 5031.43,-36.73 5001.49,-36 4940.57,-34.51 4875.71,-32.65 4813.05,-30.71\"/>\n",
       "<polygon fill=\"black\" stroke=\"black\" points=\"4813.11,-27.21 4803.01,-30.4 4812.9,-34.21 4813.11,-27.21\"/>\n",
       "<text text-anchor=\"middle\" x=\"6087.49\" y=\"-57.8\" font-family=\"Times,serif\" font-size=\"14.00\">1</text>\n",
       "</g>\n",
       "<!-- open&#45;&gt;/p/gpfs1/iopp/temp/cm1r20.3.2846829/config_files/les_HurrBoundLayer/cm1out_000001_w.dat -->\n",
       "<g id=\"edge464\" class=\"edge\">\n",
       "<title>open&#45;&gt;/p/gpfs1/iopp/temp/cm1r20.3.2846829/config_files/les_HurrBoundLayer/cm1out_000001_w.dat</title>\n",
       "<path fill=\"none\" stroke=\"black\" d=\"M5199.7,-104.03C5361.94,-103.99 6064.78,-101.93 6096.49,-69 6101.12,-64.2 6101.17,-58.75 6096.49,-54 6075.16,-32.31 5031.91,-36.74 5001.49,-36 4940.46,-34.52 4875.47,-32.65 4812.71,-30.71\"/>\n",
       "<polygon fill=\"black\" stroke=\"black\" points=\"4812.76,-27.21 4802.66,-30.4 4812.54,-34.21 4812.76,-27.21\"/>\n",
       "<text text-anchor=\"middle\" x=\"6104.49\" y=\"-57.8\" font-family=\"Times,serif\" font-size=\"14.00\">1</text>\n",
       "</g>\n",
       "<!-- open&#45;&gt;/p/gpfs1/iopp/temp/cm1r20.3.2846829/config_files/les_HurrBoundLayer/cm1out_000001_w.dat -->\n",
       "<g id=\"edge468\" class=\"edge\">\n",
       "<title>open&#45;&gt;/p/gpfs1/iopp/temp/cm1r20.3.2846829/config_files/les_HurrBoundLayer/cm1out_000001_w.dat</title>\n",
       "<path fill=\"none\" stroke=\"black\" d=\"M5199.76,-104.05C5363.93,-104.13 6081.15,-102.56 6113.49,-69 6118.12,-64.2 6118.17,-58.75 6113.49,-54 6091.83,-31.98 5032.38,-36.75 5001.49,-36 4940.46,-34.52 4875.47,-32.67 4812.71,-30.72\"/>\n",
       "<polygon fill=\"black\" stroke=\"black\" points=\"4812.76,-27.22 4802.66,-30.41 4812.54,-34.22 4812.76,-27.22\"/>\n",
       "<text text-anchor=\"middle\" x=\"6121.49\" y=\"-57.8\" font-family=\"Times,serif\" font-size=\"14.00\">1</text>\n",
       "</g>\n",
       "<!-- open&#45;&gt;/p/gpfs1/iopp/temp/cm1r20.3.2846829/config_files/les_HurrBoundLayer/cm1out_000001_w.dat -->\n",
       "<g id=\"edge472\" class=\"edge\">\n",
       "<title>open&#45;&gt;/p/gpfs1/iopp/temp/cm1r20.3.2846829/config_files/les_HurrBoundLayer/cm1out_000001_w.dat</title>\n",
       "<path fill=\"none\" stroke=\"black\" d=\"M5199.81,-104.07C5365.86,-104.27 6097.53,-103.19 6130.49,-69 6135.12,-64.2 6135.17,-58.75 6130.49,-54 6119.49,-42.82 5017.17,-36.38 5001.49,-36 4940.36,-34.53 4875.24,-32.67 4812.37,-30.73\"/>\n",
       "<polygon fill=\"black\" stroke=\"black\" points=\"4812.41,-27.23 4802.3,-30.41 4812.19,-34.22 4812.41,-27.23\"/>\n",
       "<text text-anchor=\"middle\" x=\"6138.49\" y=\"-57.8\" font-family=\"Times,serif\" font-size=\"14.00\">1</text>\n",
       "</g>\n",
       "<!-- open&#45;&gt;/p/gpfs1/iopp/temp/cm1r20.3.2846829/config_files/les_HurrBoundLayer/cm1out_000001_w.dat -->\n",
       "<g id=\"edge476\" class=\"edge\">\n",
       "<title>open&#45;&gt;/p/gpfs1/iopp/temp/cm1r20.3.2846829/config_files/les_HurrBoundLayer/cm1out_000001_w.dat</title>\n",
       "<path fill=\"none\" stroke=\"black\" d=\"M5199.84,-103.82C5412.7,-102.62 6573.26,-94.86 6598.49,-69 6603.15,-64.23 6603.18,-58.74 6598.49,-54 6582.9,-38.23 5023.67,-36.48 5001.49,-36 4939.37,-34.65 4873.15,-32.82 4809.35,-30.87\"/>\n",
       "<polygon fill=\"black\" stroke=\"black\" points=\"4809.24,-27.36 4799.13,-30.55 4809.02,-34.36 4809.24,-27.36\"/>\n",
       "<text text-anchor=\"middle\" x=\"6606.49\" y=\"-57.8\" font-family=\"Times,serif\" font-size=\"14.00\">1</text>\n",
       "</g>\n",
       "<!-- open&#45;&gt;/p/gpfs1/iopp/temp/cm1r20.3.2846829/config_files/les_HurrBoundLayer/cm1out_000001_w.dat -->\n",
       "<g id=\"edge480\" class=\"edge\">\n",
       "<title>open&#45;&gt;/p/gpfs1/iopp/temp/cm1r20.3.2846829/config_files/les_HurrBoundLayer/cm1out_000001_w.dat</title>\n",
       "<path fill=\"none\" stroke=\"black\" d=\"M5199.89,-103.83C5414.36,-102.68 6589.94,-95.18 6615.49,-69 6620.15,-64.23 6620.18,-58.74 6615.49,-54 6599.73,-38.06 5023.91,-36.49 5001.49,-36 4939.26,-34.65 4872.92,-32.82 4809.01,-30.86\"/>\n",
       "<polygon fill=\"black\" stroke=\"black\" points=\"4808.88,-27.36 4798.78,-30.55 4808.67,-34.35 4808.88,-27.36\"/>\n",
       "<text text-anchor=\"middle\" x=\"6623.49\" y=\"-57.8\" font-family=\"Times,serif\" font-size=\"14.00\">1</text>\n",
       "</g>\n",
       "<!-- write&#45;&gt;/p/gpfs1/iopp/temp/cm1r20.3.2846829/config_files/les_HurrBoundLayer/cm1out_000001_s.dat -->\n",
       "<g id=\"edge6\" class=\"edge\">\n",
       "<title>write&#45;&gt;/p/gpfs1/iopp/temp/cm1r20.3.2846829/config_files/les_HurrBoundLayer/cm1out_000001_s.dat</title>\n",
       "<path fill=\"none\" stroke=\"black\" d=\"M7076.77,-104.07C7172.79,-103.67 7428.82,-98.5 7384.49,-54 7373.65,-43.11 2972.87,-36.09 2957.49,-36 2357.14,-32.44 1663.76,-26.76 1223.39,-22.96\"/>\n",
       "<polygon fill=\"black\" stroke=\"black\" points=\"1223.39,-19.46 1213.36,-22.87 1223.33,-26.46 1223.39,-19.46\"/>\n",
       "<text text-anchor=\"middle\" x=\"7394.49\" y=\"-57.8\" font-family=\"Times,serif\" font-size=\"14.00\">3</text>\n",
       "</g>\n",
       "<!-- write&#45;&gt;/p/gpfs1/iopp/temp/cm1r20.3.2846829/config_files/les_HurrBoundLayer/cm1out_000001_u.dat -->\n",
       "<g id=\"edge102\" class=\"edge\">\n",
       "<title>write&#45;&gt;/p/gpfs1/iopp/temp/cm1r20.3.2846829/config_files/les_HurrBoundLayer/cm1out_000001_u.dat</title>\n",
       "<path fill=\"none\" stroke=\"black\" d=\"M7076.71,-103.85C7230.86,-103.03 7839.75,-97.95 7867.49,-69 7872.11,-64.19 7872.17,-58.75 7867.49,-54 7850.6,-36.86 6609.8,-26.25 5917.71,-21.66\"/>\n",
       "<polygon fill=\"black\" stroke=\"black\" points=\"5917.59,-18.16 5907.57,-21.59 5917.54,-25.16 5917.59,-18.16\"/>\n",
       "<text text-anchor=\"middle\" x=\"7875.49\" y=\"-57.8\" font-family=\"Times,serif\" font-size=\"14.00\">1</text>\n",
       "</g>\n",
       "<!-- write&#45;&gt;/p/gpfs1/iopp/temp/cm1r20.3.2846829/config_files/les_HurrBoundLayer/cm1out_000001_v.dat -->\n",
       "<g id=\"edge230\" class=\"edge\">\n",
       "<title>write&#45;&gt;/p/gpfs1/iopp/temp/cm1r20.3.2846829/config_files/les_HurrBoundLayer/cm1out_000001_v.dat</title>\n",
       "<path fill=\"none\" stroke=\"black\" d=\"M7076.81,-103.71C7223.24,-102.36 7776.18,-95.51 7801.49,-69 7806.1,-64.18 7806.2,-58.73 7801.49,-54 7782.92,-35.34 4036.82,-36.44 4010.49,-36 3931.01,-34.67 3845.53,-32.59 3764.94,-30.34\"/>\n",
       "<polygon fill=\"black\" stroke=\"black\" points=\"3764.72,-26.83 3754.62,-30.05 3764.52,-33.83 3764.72,-26.83\"/>\n",
       "<text text-anchor=\"middle\" x=\"7809.49\" y=\"-57.8\" font-family=\"Times,serif\" font-size=\"14.00\">1</text>\n",
       "</g>\n",
       "<!-- write&#45;&gt;/p/gpfs1/iopp/temp/cm1r20.3.2846829/config_files/les_HurrBoundLayer/cm1out_000001_w.dat -->\n",
       "<g id=\"edge358\" class=\"edge\">\n",
       "<title>write&#45;&gt;/p/gpfs1/iopp/temp/cm1r20.3.2846829/config_files/les_HurrBoundLayer/cm1out_000001_w.dat</title>\n",
       "<path fill=\"none\" stroke=\"black\" d=\"M7076.56,-103.79C7226.57,-102.71 7807.95,-96.74 7834.49,-69 7839.1,-64.18 7839.19,-58.73 7834.49,-54 7820.63,-40.04 5021.17,-36.38 5001.49,-36 4938.28,-34.78 4870.83,-32.99 4806,-31.01\"/>\n",
       "<polygon fill=\"black\" stroke=\"black\" points=\"4805.72,-27.5 4795.61,-30.7 4805.5,-34.5 4805.72,-27.5\"/>\n",
       "<text text-anchor=\"middle\" x=\"7842.49\" y=\"-57.8\" font-family=\"Times,serif\" font-size=\"14.00\">6</text>\n",
       "</g>\n",
       "<!-- 40 -->\n",
       "<g id=\"node6\" class=\"node\">\n",
       "<title>40</title>\n",
       "<ellipse fill=\"none\" stroke=\"black\" cx=\"2719.49\" cy=\"-178\" rx=\"27\" ry=\"18\"/>\n",
       "<text text-anchor=\"middle\" x=\"2719.49\" y=\"-174.3\" font-family=\"Times,serif\" font-size=\"14.00\">40</text>\n",
       "</g>\n",
       "<!-- 40&#45;&gt;close -->\n",
       "<g id=\"edge7\" class=\"edge\">\n",
       "<title>40&#45;&gt;close</title>\n",
       "<path fill=\"none\" stroke=\"black\" d=\"M2696.55,-168.41C2688.6,-160.28 2687.79,-148.27 2694.49,-141 2724.52,-108.48 2859.98,-105.27 2933.46,-105.53\"/>\n",
       "<polygon fill=\"black\" stroke=\"black\" points=\"2933.82,-109.03 2943.84,-105.59 2933.86,-102.03 2933.82,-109.03\"/>\n",
       "</g>\n",
       "<!-- 40&#45;&gt;close -->\n",
       "<g id=\"edge103\" class=\"edge\">\n",
       "<title>40&#45;&gt;close</title>\n",
       "<path fill=\"none\" stroke=\"black\" d=\"M2708.13,-161.63C2706.67,-154.5 2707.48,-146.43 2712.49,-141 2741.11,-110 2865.53,-105.63 2933.7,-105.51\"/>\n",
       "<polygon fill=\"black\" stroke=\"black\" points=\"2933.73,-109.01 2943.73,-105.53 2933.73,-102.01 2933.73,-109.01\"/>\n",
       "</g>\n",
       "<!-- 40&#45;&gt;close -->\n",
       "<g id=\"edge231\" class=\"edge\">\n",
       "<title>40&#45;&gt;close</title>\n",
       "<path fill=\"none\" stroke=\"black\" d=\"M2724.43,-160.16C2724.8,-153.42 2725.82,-146.06 2730.49,-141 2757.48,-111.77 2869.61,-106.22 2933.56,-105.58\"/>\n",
       "<polygon fill=\"black\" stroke=\"black\" points=\"2933.79,-109.08 2943.77,-105.52 2933.75,-102.08 2933.79,-109.08\"/>\n",
       "</g>\n",
       "<!-- 40&#45;&gt;close -->\n",
       "<g id=\"edge359\" class=\"edge\">\n",
       "<title>40&#45;&gt;close</title>\n",
       "<path fill=\"none\" stroke=\"black\" d=\"M2739.28,-165.49C2742.51,-157.6 2742.55,-147.44 2748.49,-141 2773.76,-113.63 2873.69,-107.02 2933.95,-105.77\"/>\n",
       "<polygon fill=\"black\" stroke=\"black\" points=\"2934.05,-109.27 2943.99,-105.6 2933.93,-102.27 2934.05,-109.27\"/>\n",
       "</g>\n",
       "<!-- 40&#45;&gt;open -->\n",
       "<g id=\"edge9\" class=\"edge\">\n",
       "<title>40&#45;&gt;open</title>\n",
       "<path fill=\"none\" stroke=\"black\" d=\"M2739.76,-165.89C2750.21,-163.58 2762.23,-161.42 2773.49,-160 2964.17,-135.96 3013.4,-146.96 3205.49,-141 3972.53,-117.2 4911.23,-108 5123.14,-106.3\"/>\n",
       "<polygon fill=\"black\" stroke=\"black\" points=\"5123.27,-109.8 5133.24,-106.22 5123.22,-102.8 5123.27,-109.8\"/>\n",
       "</g>\n",
       "<!-- 40&#45;&gt;open -->\n",
       "<g id=\"edge105\" class=\"edge\">\n",
       "<title>40&#45;&gt;open</title>\n",
       "<path fill=\"none\" stroke=\"black\" d=\"M2743.04,-169.09C2757.09,-165.71 2775.1,-162.07 2791.49,-160 2982.17,-135.96 3031.4,-146.96 3223.49,-141 3983.96,-117.4 4913.17,-108.16 5123.06,-106.35\"/>\n",
       "<polygon fill=\"black\" stroke=\"black\" points=\"5123.38,-109.84 5133.35,-106.26 5123.32,-102.84 5123.38,-109.84\"/>\n",
       "</g>\n",
       "<!-- 40&#45;&gt;open -->\n",
       "<g id=\"edge233\" class=\"edge\">\n",
       "<title>40&#45;&gt;open</title>\n",
       "<path fill=\"none\" stroke=\"black\" d=\"M2745.12,-172.22C2763.33,-168.21 2787.83,-162.73 2809.49,-160 3000.17,-135.96 3049.4,-146.96 3241.49,-141 3994.95,-117.62 4914.05,-108.33 5122.94,-106.4\"/>\n",
       "<polygon fill=\"black\" stroke=\"black\" points=\"5123.22,-109.9 5133.18,-106.3 5123.15,-102.9 5123.22,-109.9\"/>\n",
       "</g>\n",
       "<!-- 40&#45;&gt;open -->\n",
       "<g id=\"edge361\" class=\"edge\">\n",
       "<title>40&#45;&gt;open</title>\n",
       "<path fill=\"none\" stroke=\"black\" d=\"M2746.27,-174.44C2771.22,-170.56 2801.41,-163.29 2827.49,-160 3018.17,-135.96 3067.4,-146.96 3259.49,-141 4005.94,-117.83 4914.96,-108.5 5123.12,-106.45\"/>\n",
       "<polygon fill=\"black\" stroke=\"black\" points=\"5123.37,-109.95 5133.34,-106.35 5123.31,-102.95 5123.37,-109.95\"/>\n",
       "</g>\n",
       "<!-- 80 -->\n",
       "<g id=\"node7\" class=\"node\">\n",
       "<title>80</title>\n",
       "<ellipse fill=\"none\" stroke=\"black\" cx=\"2156.49\" cy=\"-178\" rx=\"27\" ry=\"18\"/>\n",
       "<text text-anchor=\"middle\" x=\"2156.49\" y=\"-174.3\" font-family=\"Times,serif\" font-size=\"14.00\">80</text>\n",
       "</g>\n",
       "<!-- 80&#45;&gt;close -->\n",
       "<g id=\"edge11\" class=\"edge\">\n",
       "<title>80&#45;&gt;close</title>\n",
       "<path fill=\"none\" stroke=\"black\" d=\"M2145.55,-161.28C2149.96,-153.69 2159.77,-145.32 2170.49,-141 2240.18,-112.95 2773.43,-107.24 2933.81,-106.21\"/>\n",
       "<polygon fill=\"black\" stroke=\"black\" points=\"2933.85,-109.71 2943.83,-106.15 2933.81,-102.71 2933.85,-109.71\"/>\n",
       "</g>\n",
       "<!-- 80&#45;&gt;close -->\n",
       "<g id=\"edge107\" class=\"edge\">\n",
       "<title>80&#45;&gt;close</title>\n",
       "<path fill=\"none\" stroke=\"black\" d=\"M2162.56,-160.16C2168.93,-152.88 2178.3,-145.1 2188.49,-141 2257.19,-113.35 2776.34,-107.41 2933.58,-106.26\"/>\n",
       "<polygon fill=\"black\" stroke=\"black\" points=\"2933.86,-109.75 2943.84,-106.18 2933.81,-102.75 2933.86,-109.75\"/>\n",
       "</g>\n",
       "<!-- 80&#45;&gt;close -->\n",
       "<g id=\"edge235\" class=\"edge\">\n",
       "<title>80&#45;&gt;close</title>\n",
       "<path fill=\"none\" stroke=\"black\" d=\"M2174.46,-164.22C2183.4,-155.96 2194.37,-145.88 2206.49,-141 2274.19,-113.75 2779.32,-107.58 2933.82,-106.31\"/>\n",
       "<polygon fill=\"black\" stroke=\"black\" points=\"2933.93,-109.81 2943.9,-106.23 2933.87,-102.81 2933.93,-109.81\"/>\n",
       "</g>\n",
       "<!-- 80&#45;&gt;close -->\n",
       "<g id=\"edge363\" class=\"edge\">\n",
       "<title>80&#45;&gt;close</title>\n",
       "<path fill=\"none\" stroke=\"black\" d=\"M2180.77,-169.88C2196.07,-161.24 2209.38,-147.08 2224.49,-141 2291.05,-114.21 2780.38,-107.8 2933.55,-106.38\"/>\n",
       "<polygon fill=\"black\" stroke=\"black\" points=\"2934.02,-109.87 2943.99,-106.28 2933.96,-102.87 2934.02,-109.87\"/>\n",
       "</g>\n",
       "<!-- 80&#45;&gt;open -->\n",
       "<g id=\"edge13\" class=\"edge\">\n",
       "<title>80&#45;&gt;open</title>\n",
       "<path fill=\"none\" stroke=\"black\" d=\"M2180.39,-169.56C2192.81,-166.02 2208.33,-162.11 2222.49,-160 2413.9,-131.49 2464.06,-146.57 2657.49,-141 3656.16,-112.23 4879.14,-106.92 5123.02,-106.12\"/>\n",
       "<polygon fill=\"black\" stroke=\"black\" points=\"5123.26,-109.62 5133.25,-106.09 5123.24,-102.62 5123.26,-109.62\"/>\n",
       "</g>\n",
       "<!-- 120 -->\n",
       "<g id=\"node8\" class=\"node\">\n",
       "<title>120</title>\n",
       "<ellipse fill=\"none\" stroke=\"black\" cx=\"5105.49\" cy=\"-178\" rx=\"28.7\" ry=\"18\"/>\n",
       "<text text-anchor=\"middle\" x=\"5105.49\" y=\"-174.3\" font-family=\"Times,serif\" font-size=\"14.00\">120</text>\n",
       "</g>\n",
       "<!-- 120&#45;&gt;close -->\n",
       "<g id=\"edge15\" class=\"edge\">\n",
       "<title>120&#45;&gt;close</title>\n",
       "<path fill=\"none\" stroke=\"black\" d=\"M5077.16,-174.74C5045.6,-170.92 5001.29,-163.3 4963.49,-160 4653.89,-133.01 4575.16,-149.36 4264.49,-141 3777.4,-127.89 3188.66,-112.28 3023.04,-107.48\"/>\n",
       "<polygon fill=\"black\" stroke=\"black\" points=\"3022.84,-103.97 3012.75,-107.18 3022.64,-110.97 3022.84,-103.97\"/>\n",
       "</g>\n",
       "<!-- 120&#45;&gt;close -->\n",
       "<g id=\"edge109\" class=\"edge\">\n",
       "<title>120&#45;&gt;close</title>\n",
       "<path fill=\"none\" stroke=\"black\" d=\"M5077.75,-173.11C5052.39,-169.04 5014.47,-162.87 4981.49,-160 4671.89,-133.01 4593.16,-149.36 4282.49,-141 3788.43,-127.7 3189.79,-111.83 3023.26,-107.28\"/>\n",
       "<polygon fill=\"black\" stroke=\"black\" points=\"3023.02,-103.77 3012.93,-107 3022.83,-110.77 3023.02,-103.77\"/>\n",
       "</g>\n",
       "<!-- 120&#45;&gt;close -->\n",
       "<g id=\"edge237\" class=\"edge\">\n",
       "<title>120&#45;&gt;close</title>\n",
       "<path fill=\"none\" stroke=\"black\" d=\"M5079.05,-170.87C5057.59,-167.03 5026.84,-162.38 4999.49,-160 4689.89,-133.01 4611.16,-149.36 4300.49,-141 3799.49,-127.51 3190.95,-111.39 3023.11,-107.09\"/>\n",
       "<polygon fill=\"black\" stroke=\"black\" points=\"3023.01,-103.59 3012.93,-106.83 3022.83,-110.59 3023.01,-103.59\"/>\n",
       "</g>\n",
       "<!-- 120&#45;&gt;close -->\n",
       "<g id=\"edge365\" class=\"edge\">\n",
       "<title>120&#45;&gt;close</title>\n",
       "<path fill=\"none\" stroke=\"black\" d=\"M5081.12,-168.38C5062.85,-165.18 5039.11,-161.88 5017.49,-160 4707.89,-133.01 4629.16,-149.36 4318.49,-141 3811.1,-127.34 3193.41,-110.97 3023.07,-106.93\"/>\n",
       "<polygon fill=\"black\" stroke=\"black\" points=\"3023.05,-103.43 3012.97,-106.7 3022.88,-110.43 3023.05,-103.43\"/>\n",
       "</g>\n",
       "<!-- 120&#45;&gt;open -->\n",
       "<g id=\"edge17\" class=\"edge\">\n",
       "<title>120&#45;&gt;open</title>\n",
       "<path fill=\"none\" stroke=\"black\" d=\"M5102.63,-159.81C5108.63,-148.8 5120.84,-134.55 5133.75,-123.48\"/>\n",
       "<polygon fill=\"black\" stroke=\"black\" points=\"5136.18,-126.02 5141.82,-117.06 5131.82,-120.55 5136.18,-126.02\"/>\n",
       "</g>\n",
       "<!-- 120&#45;&gt;open -->\n",
       "<g id=\"edge111\" class=\"edge\">\n",
       "<title>120&#45;&gt;open</title>\n",
       "<path fill=\"none\" stroke=\"black\" d=\"M5113.84,-160.53C5121.15,-150.78 5131.71,-138.29 5141.54,-127.74\"/>\n",
       "<polygon fill=\"black\" stroke=\"black\" points=\"5144.13,-130.1 5148.52,-120.45 5139.07,-125.25 5144.13,-130.1\"/>\n",
       "</g>\n",
       "<!-- 120&#45;&gt;open -->\n",
       "<g id=\"edge239\" class=\"edge\">\n",
       "<title>120&#45;&gt;open</title>\n",
       "<path fill=\"none\" stroke=\"black\" d=\"M5122.71,-163.31C5131.93,-154.06 5142.98,-141.59 5151.78,-130.64\"/>\n",
       "<polygon fill=\"black\" stroke=\"black\" points=\"5154.63,-132.69 5158.01,-122.65 5149.11,-128.38 5154.63,-132.69\"/>\n",
       "</g>\n",
       "<!-- 120&#45;&gt;open -->\n",
       "<g id=\"edge367\" class=\"edge\">\n",
       "<title>120&#45;&gt;open</title>\n",
       "<path fill=\"none\" stroke=\"black\" d=\"M5128.51,-167.13C5141.5,-157.99 5155.19,-144 5163.95,-131.71\"/>\n",
       "<polygon fill=\"black\" stroke=\"black\" points=\"5166.98,-133.48 5169.38,-123.16 5161.07,-129.73 5166.98,-133.48\"/>\n",
       "</g>\n",
       "<!-- 160 -->\n",
       "<g id=\"node9\" class=\"node\">\n",
       "<title>160</title>\n",
       "<ellipse fill=\"none\" stroke=\"black\" cx=\"2016.49\" cy=\"-178\" rx=\"28.7\" ry=\"18\"/>\n",
       "<text text-anchor=\"middle\" x=\"2016.49\" y=\"-174.3\" font-family=\"Times,serif\" font-size=\"14.00\">160</text>\n",
       "</g>\n",
       "<!-- 160&#45;&gt;close -->\n",
       "<g id=\"edge19\" class=\"edge\">\n",
       "<title>160&#45;&gt;close</title>\n",
       "<path fill=\"none\" stroke=\"black\" d=\"M2005.53,-161.25C2009.94,-153.66 2019.76,-145.28 2030.49,-141 2113.75,-107.82 2756.66,-105.91 2934,-105.95\"/>\n",
       "<polygon fill=\"black\" stroke=\"black\" points=\"2934.03,-109.45 2944.03,-105.95 2934.04,-102.45 2934.03,-109.45\"/>\n",
       "</g>\n",
       "<!-- 160&#45;&gt;close -->\n",
       "<g id=\"edge113\" class=\"edge\">\n",
       "<title>160&#45;&gt;close</title>\n",
       "<path fill=\"none\" stroke=\"black\" d=\"M2022.55,-160.13C2028.91,-152.84 2038.29,-145.07 2048.49,-141 2130.75,-108.22 2759.33,-105.96 2933.79,-105.95\"/>\n",
       "<polygon fill=\"black\" stroke=\"black\" points=\"2933.9,-109.45 2943.9,-105.95 2933.91,-102.45 2933.9,-109.45\"/>\n",
       "</g>\n",
       "<!-- 160&#45;&gt;close -->\n",
       "<g id=\"edge241\" class=\"edge\">\n",
       "<title>160&#45;&gt;close</title>\n",
       "<path fill=\"none\" stroke=\"black\" d=\"M2034.84,-163.83C2043.7,-155.63 2054.53,-145.77 2066.49,-141 2147.71,-108.63 2761.5,-106.02 2933.74,-105.95\"/>\n",
       "<polygon fill=\"black\" stroke=\"black\" points=\"2933.97,-109.45 2943.97,-105.95 2933.97,-102.45 2933.97,-109.45\"/>\n",
       "</g>\n",
       "<!-- 160&#45;&gt;close -->\n",
       "<g id=\"edge369\" class=\"edge\">\n",
       "<title>160&#45;&gt;close</title>\n",
       "<path fill=\"none\" stroke=\"black\" d=\"M2041.83,-169.25C2056.67,-160.55 2069.71,-146.89 2084.49,-141 2164.62,-109.07 2763.09,-106.1 2933.81,-105.95\"/>\n",
       "<polygon fill=\"black\" stroke=\"black\" points=\"2933.96,-109.45 2943.96,-105.95 2933.96,-102.45 2933.96,-109.45\"/>\n",
       "</g>\n",
       "<!-- 160&#45;&gt;open -->\n",
       "<g id=\"edge115\" class=\"edge\">\n",
       "<title>160&#45;&gt;open</title>\n",
       "<path fill=\"none\" stroke=\"black\" d=\"M2041.91,-169.17C2059.28,-165.89 2081.95,-162.31 2102.49,-160 2238.79,-144.7 2273.44,-146.1 2410.49,-141 3512.2,-100 4864.79,-104.56 5122.97,-105.78\"/>\n",
       "<polygon fill=\"black\" stroke=\"black\" points=\"5123.06,-109.28 5133.07,-105.83 5123.09,-102.28 5123.06,-109.28\"/>\n",
       "</g>\n",
       "<!-- 160&#45;&gt;open -->\n",
       "<g id=\"edge243\" class=\"edge\">\n",
       "<title>160&#45;&gt;open</title>\n",
       "<path fill=\"none\" stroke=\"black\" d=\"M2043.76,-171.77C2064.68,-167.95 2094.31,-162.94 2120.49,-160 2256.79,-144.7 2291.44,-146.1 2428.49,-141 3523.76,-100.24 4866.98,-104.51 5123.18,-105.76\"/>\n",
       "<polygon fill=\"black\" stroke=\"black\" points=\"5123.19,-109.26 5133.21,-105.81 5123.22,-102.26 5123.19,-109.26\"/>\n",
       "</g>\n",
       "<!-- 160&#45;&gt;open -->\n",
       "<g id=\"edge371\" class=\"edge\">\n",
       "<title>160&#45;&gt;open</title>\n",
       "<path fill=\"none\" stroke=\"black\" d=\"M2044.73,-173.91C2070.6,-170.05 2107.04,-163.53 2138.49,-160 2274.79,-144.7 2309.44,-146.1 2446.49,-141 3534.19,-100.52 4866.43,-104.45 5122.84,-105.73\"/>\n",
       "<polygon fill=\"black\" stroke=\"black\" points=\"5123.2,-109.24 5133.22,-105.79 5123.24,-102.24 5123.2,-109.24\"/>\n",
       "</g>\n",
       "<!-- 200 -->\n",
       "<g id=\"node10\" class=\"node\">\n",
       "<title>200</title>\n",
       "<ellipse fill=\"none\" stroke=\"black\" cx=\"2400.49\" cy=\"-178\" rx=\"28.7\" ry=\"18\"/>\n",
       "<text text-anchor=\"middle\" x=\"2400.49\" y=\"-174.3\" font-family=\"Times,serif\" font-size=\"14.00\">200</text>\n",
       "</g>\n",
       "<!-- 200&#45;&gt;close -->\n",
       "<g id=\"edge21\" class=\"edge\">\n",
       "<title>200&#45;&gt;close</title>\n",
       "<path fill=\"none\" stroke=\"black\" d=\"M2389.8,-161C2394.33,-153.53 2403.99,-145.35 2414.49,-141 2460.88,-121.78 2807.98,-110.16 2934.07,-106.93\"/>\n",
       "<polygon fill=\"black\" stroke=\"black\" points=\"2934.26,-110.42 2944.17,-106.68 2934.09,-103.43 2934.26,-110.42\"/>\n",
       "</g>\n",
       "<!-- 200&#45;&gt;close -->\n",
       "<g id=\"edge117\" class=\"edge\">\n",
       "<title>200&#45;&gt;close</title>\n",
       "<path fill=\"none\" stroke=\"black\" d=\"M2406.6,-160.25C2412.97,-152.99 2422.34,-145.21 2432.49,-141 2477.89,-122.19 2811.3,-110.66 2933.71,-107.15\"/>\n",
       "<polygon fill=\"black\" stroke=\"black\" points=\"2933.97,-110.64 2943.87,-106.86 2933.77,-103.64 2933.97,-110.64\"/>\n",
       "</g>\n",
       "<!-- 200&#45;&gt;close -->\n",
       "<g id=\"edge245\" class=\"edge\">\n",
       "<title>200&#45;&gt;close</title>\n",
       "<path fill=\"none\" stroke=\"black\" d=\"M2418.88,-163.94C2427.77,-155.78 2438.59,-145.93 2450.49,-141 2494.85,-122.62 2814.17,-111.19 2933.65,-107.4\"/>\n",
       "<polygon fill=\"black\" stroke=\"black\" points=\"2934.03,-110.89 2943.91,-107.08 2933.81,-103.89 2934.03,-110.89\"/>\n",
       "</g>\n",
       "<!-- 200&#45;&gt;close -->\n",
       "<g id=\"edge373\" class=\"edge\">\n",
       "<title>200&#45;&gt;close</title>\n",
       "<path fill=\"none\" stroke=\"black\" d=\"M2425.86,-169.32C2440.73,-160.69 2453.79,-147.09 2468.49,-141 2511.8,-123.06 2817.24,-111.74 2934.19,-107.68\"/>\n",
       "<polygon fill=\"black\" stroke=\"black\" points=\"2934.37,-111.18 2944.25,-107.34 2934.13,-104.18 2934.37,-111.18\"/>\n",
       "</g>\n",
       "<!-- 200&#45;&gt;open -->\n",
       "<g id=\"edge119\" class=\"edge\">\n",
       "<title>200&#45;&gt;open</title>\n",
       "<path fill=\"none\" stroke=\"black\" d=\"M2425.52,-168.76C2442.46,-165.44 2464.48,-161.95 2484.49,-160 2777.9,-131.48 2852.79,-147.8 3147.49,-141 3939.56,-122.72 4908.17,-109.24 5123.13,-106.51\"/>\n",
       "<polygon fill=\"black\" stroke=\"black\" points=\"5123.41,-110 5133.37,-106.38 5123.32,-103.01 5123.41,-110\"/>\n",
       "</g>\n",
       "<!-- 200&#45;&gt;open -->\n",
       "<g id=\"edge247\" class=\"edge\">\n",
       "<title>200&#45;&gt;open</title>\n",
       "<path fill=\"none\" stroke=\"black\" d=\"M2427.21,-171.52C2447.71,-167.57 2476.76,-162.5 2502.49,-160 2795.9,-131.48 2870.79,-147.8 3165.49,-141 3950.72,-122.88 4909.48,-109.47 5123.01,-106.58\"/>\n",
       "<polygon fill=\"black\" stroke=\"black\" points=\"5123.23,-110.08 5133.18,-106.44 5123.13,-103.08 5123.23,-110.08\"/>\n",
       "</g>\n",
       "<!-- 200&#45;&gt;open -->\n",
       "<g id=\"edge375\" class=\"edge\">\n",
       "<title>200&#45;&gt;open</title>\n",
       "<path fill=\"none\" stroke=\"black\" d=\"M2428.4,-173.75C2453.87,-169.71 2489.58,-163 2520.49,-160 2813.9,-131.48 2888.79,-147.8 3183.49,-141 3961.89,-123.04 4910.81,-109.7 5123.19,-106.66\"/>\n",
       "<polygon fill=\"black\" stroke=\"black\" points=\"5123.36,-110.16 5133.31,-106.51 5123.26,-103.16 5123.36,-110.16\"/>\n",
       "</g>\n",
       "<!-- 240 -->\n",
       "<g id=\"node11\" class=\"node\">\n",
       "<title>240</title>\n",
       "<ellipse fill=\"none\" stroke=\"black\" cx=\"4489.49\" cy=\"-178\" rx=\"28.7\" ry=\"18\"/>\n",
       "<text text-anchor=\"middle\" x=\"4489.49\" y=\"-174.3\" font-family=\"Times,serif\" font-size=\"14.00\">240</text>\n",
       "</g>\n",
       "<!-- 240&#45;&gt;close -->\n",
       "<g id=\"edge23\" class=\"edge\">\n",
       "<title>240&#45;&gt;close</title>\n",
       "<path fill=\"none\" stroke=\"black\" d=\"M4460.98,-175.09C4424.69,-171.53 4368.8,-163.87 4321.49,-160 3812.01,-118.35 3193.22,-108.58 3022.99,-106.51\"/>\n",
       "<polygon fill=\"black\" stroke=\"black\" points=\"3022.93,-103.01 3012.89,-106.39 3022.85,-110.01 3022.93,-103.01\"/>\n",
       "</g>\n",
       "<!-- 240&#45;&gt;close -->\n",
       "<g id=\"edge121\" class=\"edge\">\n",
       "<title>240&#45;&gt;close</title>\n",
       "<path fill=\"none\" stroke=\"black\" d=\"M4461.56,-173.86C4431.17,-169.98 4381.89,-163.47 4339.49,-160 3823.04,-117.78 3194.27,-108.32 3023.19,-106.43\"/>\n",
       "<polygon fill=\"black\" stroke=\"black\" points=\"3023.08,-102.93 3013.05,-106.32 3023.01,-109.93 3023.08,-102.93\"/>\n",
       "</g>\n",
       "<!-- 240&#45;&gt;close -->\n",
       "<g id=\"edge249\" class=\"edge\">\n",
       "<title>240&#45;&gt;close</title>\n",
       "<path fill=\"none\" stroke=\"black\" d=\"M4462.33,-172.1C4435.59,-168.23 4393.99,-162.98 4357.49,-160 3834.36,-117.23 3195.98,-108.08 3023.27,-106.36\"/>\n",
       "<polygon fill=\"black\" stroke=\"black\" points=\"3023.08,-102.86 3013.04,-106.26 3023.01,-109.86 3023.08,-102.86\"/>\n",
       "</g>\n",
       "<!-- 240&#45;&gt;close -->\n",
       "<g id=\"edge377\" class=\"edge\">\n",
       "<title>240&#45;&gt;close</title>\n",
       "<path fill=\"none\" stroke=\"black\" d=\"M4463.64,-170.05C4439.73,-166.52 4405.84,-162.48 4375.49,-160 3846,-116.71 3198.43,-107.86 3023.25,-106.3\"/>\n",
       "<polygon fill=\"black\" stroke=\"black\" points=\"3023.14,-102.8 3013.11,-106.21 3023.08,-109.8 3023.14,-102.8\"/>\n",
       "</g>\n",
       "<!-- 240&#45;&gt;open -->\n",
       "<g id=\"edge25\" class=\"edge\">\n",
       "<title>240&#45;&gt;open</title>\n",
       "<path fill=\"none\" stroke=\"black\" d=\"M4510.3,-165.43C4519.22,-163.39 4529.14,-161.46 4538.49,-160 4755.15,-126.18 5019.29,-111.57 5123.19,-107.36\"/>\n",
       "<polygon fill=\"black\" stroke=\"black\" points=\"5123.47,-110.85 5133.32,-106.96 5123.19,-103.86 5123.47,-110.85\"/>\n",
       "</g>\n",
       "<!-- 240&#45;&gt;open -->\n",
       "<g id=\"edge123\" class=\"edge\">\n",
       "<title>240&#45;&gt;open</title>\n",
       "<path fill=\"none\" stroke=\"black\" d=\"M4514.25,-168.61C4526.87,-165.5 4542.33,-162.21 4556.49,-160 4767.43,-127.08 5023.38,-112.35 5123.56,-107.71\"/>\n",
       "<polygon fill=\"black\" stroke=\"black\" points=\"5123.77,-111.21 5133.6,-107.26 5123.45,-104.22 5123.77,-111.21\"/>\n",
       "</g>\n",
       "<!-- 240&#45;&gt;open -->\n",
       "<g id=\"edge251\" class=\"edge\">\n",
       "<title>240&#45;&gt;open</title>\n",
       "<path fill=\"none\" stroke=\"black\" d=\"M4516.41,-171.89C4533.32,-168.08 4555.12,-163.02 4574.49,-160 4778.73,-128.12 5025.16,-113.31 5123.3,-108.19\"/>\n",
       "<polygon fill=\"black\" stroke=\"black\" points=\"5123.62,-111.68 5133.42,-107.67 5123.26,-104.68 5123.62,-111.68\"/>\n",
       "</g>\n",
       "<!-- 240&#45;&gt;open -->\n",
       "<g id=\"edge379\" class=\"edge\">\n",
       "<title>240&#45;&gt;open</title>\n",
       "<path fill=\"none\" stroke=\"black\" d=\"M4517.66,-174.26C4541.26,-170.48 4568.72,-163.71 4592.49,-160 4789.98,-129.17 5026.94,-114.3 5123.65,-108.73\"/>\n",
       "<polygon fill=\"black\" stroke=\"black\" points=\"5123.87,-112.22 5133.65,-108.15 5123.47,-105.23 5123.87,-112.22\"/>\n",
       "</g>\n",
       "<!-- 280 -->\n",
       "<g id=\"node12\" class=\"node\">\n",
       "<title>280</title>\n",
       "<ellipse fill=\"none\" stroke=\"black\" cx=\"3298.49\" cy=\"-178\" rx=\"28.7\" ry=\"18\"/>\n",
       "<text text-anchor=\"middle\" x=\"3298.49\" y=\"-174.3\" font-family=\"Times,serif\" font-size=\"14.00\">280</text>\n",
       "</g>\n",
       "<!-- 280&#45;&gt;close -->\n",
       "<g id=\"edge27\" class=\"edge\">\n",
       "<title>280&#45;&gt;close</title>\n",
       "<path fill=\"none\" stroke=\"black\" d=\"M3270.93,-173.08C3212.79,-162.73 3082.95,-134.35 3016.99,-118.01\"/>\n",
       "<polygon fill=\"black\" stroke=\"black\" points=\"3017.53,-114.54 3006.98,-115.5 3015.82,-121.33 3017.53,-114.54\"/>\n",
       "</g>\n",
       "<!-- 280&#45;&gt;close -->\n",
       "<g id=\"edge125\" class=\"edge\">\n",
       "<title>280&#45;&gt;close</title>\n",
       "<path fill=\"none\" stroke=\"black\" d=\"M3271.5,-171.84C3215.2,-160.14 3085.58,-131.47 3019.16,-116.11\"/>\n",
       "<polygon fill=\"black\" stroke=\"black\" points=\"3019.6,-112.62 3009.07,-113.76 3018.01,-119.43 3019.6,-112.62\"/>\n",
       "</g>\n",
       "<!-- 280&#45;&gt;close -->\n",
       "<g id=\"edge253\" class=\"edge\">\n",
       "<title>280&#45;&gt;close</title>\n",
       "<path fill=\"none\" stroke=\"black\" d=\"M3272.54,-170.32C3217.13,-157.29 3087.47,-128.49 3020.3,-114.27\"/>\n",
       "<polygon fill=\"black\" stroke=\"black\" points=\"3020.98,-110.84 3010.47,-112.2 3019.54,-117.69 3020.98,-110.84\"/>\n",
       "</g>\n",
       "<!-- 280&#45;&gt;close -->\n",
       "<g id=\"edge381\" class=\"edge\">\n",
       "<title>280&#45;&gt;close</title>\n",
       "<path fill=\"none\" stroke=\"black\" d=\"M3273.92,-168.51C3218.66,-154.22 3089.61,-125.68 3021.16,-112.7\"/>\n",
       "<polygon fill=\"black\" stroke=\"black\" points=\"3021.58,-109.22 3011.11,-110.83 3020.3,-116.1 3021.58,-109.22\"/>\n",
       "</g>\n",
       "<!-- 280&#45;&gt;open -->\n",
       "<g id=\"edge29\" class=\"edge\">\n",
       "<title>280&#45;&gt;open</title>\n",
       "<path fill=\"none\" stroke=\"black\" d=\"M3319.36,-165.61C3329.39,-163.39 3340.79,-161.35 3351.49,-160 3554.95,-134.38 3607.55,-147.93 3812.49,-141 4326.88,-123.62 4953.67,-109.93 5123.22,-106.72\"/>\n",
       "<polygon fill=\"black\" stroke=\"black\" points=\"5123.33,-110.21 5133.26,-106.53 5123.2,-103.22 5123.33,-110.21\"/>\n",
       "</g>\n",
       "<!-- 280&#45;&gt;open -->\n",
       "<g id=\"edge127\" class=\"edge\">\n",
       "<title>280&#45;&gt;open</title>\n",
       "<path fill=\"none\" stroke=\"black\" d=\"M3323.1,-168.71C3336.74,-165.43 3353.86,-161.97 3369.49,-160 3572.95,-134.38 3625.55,-147.93 3830.49,-141 4338.42,-123.84 4955.95,-110.27 5123.12,-106.84\"/>\n",
       "<polygon fill=\"black\" stroke=\"black\" points=\"5123.32,-110.34 5133.24,-106.63 5123.17,-103.34 5123.32,-110.34\"/>\n",
       "</g>\n",
       "<!-- 280&#45;&gt;open -->\n",
       "<g id=\"edge255\" class=\"edge\">\n",
       "<title>280&#45;&gt;open</title>\n",
       "<path fill=\"none\" stroke=\"black\" d=\"M3325.69,-171.8C3343.48,-167.83 3366.79,-162.61 3387.49,-160 3590.95,-134.38 3643.55,-147.93 3848.49,-141 4349.69,-124.06 4957.6,-110.63 5123.18,-106.98\"/>\n",
       "<polygon fill=\"black\" stroke=\"black\" points=\"5123.52,-110.48 5133.44,-106.76 5123.36,-103.48 5123.52,-110.48\"/>\n",
       "</g>\n",
       "<!-- 280&#45;&gt;open -->\n",
       "<g id=\"edge383\" class=\"edge\">\n",
       "<title>280&#45;&gt;open</title>\n",
       "<path fill=\"none\" stroke=\"black\" d=\"M3326.78,-174.17C3351.21,-170.22 3380.28,-163.18 3405.49,-160 3608.95,-134.38 3661.55,-147.93 3866.49,-141 4360.36,-124.31 4957.85,-111.03 5123.06,-107.15\"/>\n",
       "<polygon fill=\"black\" stroke=\"black\" points=\"5123.4,-110.64 5133.31,-106.91 5123.23,-103.64 5123.4,-110.64\"/>\n",
       "</g>\n",
       "<!-- 320 -->\n",
       "<g id=\"node13\" class=\"node\">\n",
       "<title>320</title>\n",
       "<ellipse fill=\"none\" stroke=\"black\" cx=\"6371.49\" cy=\"-178\" rx=\"28.7\" ry=\"18\"/>\n",
       "<text text-anchor=\"middle\" x=\"6371.49\" y=\"-174.3\" font-family=\"Times,serif\" font-size=\"14.00\">320</text>\n",
       "</g>\n",
       "<!-- 320&#45;&gt;close -->\n",
       "<g id=\"edge31\" class=\"edge\">\n",
       "<title>320&#45;&gt;close</title>\n",
       "<path fill=\"none\" stroke=\"black\" d=\"M6343.2,-174.82C6310.33,-171.02 6262.89,-163.28 6222.49,-160 5865.35,-131 5774.75,-147.77 5416.49,-141 4448.81,-122.72 3267.27,-109.43 3023.4,-106.57\"/>\n",
       "<polygon fill=\"black\" stroke=\"black\" points=\"3023.19,-103.07 3013.15,-106.45 3023.11,-110.07 3023.19,-103.07\"/>\n",
       "</g>\n",
       "<!-- 320&#45;&gt;close -->\n",
       "<g id=\"edge129\" class=\"edge\">\n",
       "<title>320&#45;&gt;close</title>\n",
       "<path fill=\"none\" stroke=\"black\" d=\"M6343.43,-173.24C6316.67,-169.17 6275.88,-162.87 6240.49,-160 5883.35,-131 5792.75,-147.77 5434.49,-141 4459.43,-122.59 3267.24,-109.22 3023.29,-106.51\"/>\n",
       "<polygon fill=\"black\" stroke=\"black\" points=\"3023.08,-103.01 3013.05,-106.39 3023.01,-110.01 3023.08,-103.01\"/>\n",
       "</g>\n",
       "<!-- 320&#45;&gt;close -->\n",
       "<g id=\"edge257\" class=\"edge\">\n",
       "<title>320&#45;&gt;close</title>\n",
       "<path fill=\"none\" stroke=\"black\" d=\"M6344.96,-171.18C6322.03,-167.28 6288.34,-162.42 6258.49,-160 5901.35,-131 5810.75,-147.77 5452.49,-141 4470.58,-122.46 3268.47,-109.04 3023.33,-106.45\"/>\n",
       "<polygon fill=\"black\" stroke=\"black\" points=\"3023.07,-102.95 3013.03,-106.34 3023,-109.95 3023.07,-102.95\"/>\n",
       "</g>\n",
       "<!-- 320&#45;&gt;close -->\n",
       "<g id=\"edge385\" class=\"edge\">\n",
       "<title>320&#45;&gt;close</title>\n",
       "<path fill=\"none\" stroke=\"black\" d=\"M6346.78,-168.8C6326.94,-165.47 6300.47,-161.95 6276.49,-160 5919.35,-131 5828.75,-147.77 5470.49,-141 4481.76,-122.33 3269.78,-108.85 3023.13,-106.4\"/>\n",
       "<polygon fill=\"black\" stroke=\"black\" points=\"3023.14,-102.9 3013.1,-106.3 3023.07,-109.9 3023.14,-102.9\"/>\n",
       "</g>\n",
       "<!-- 320&#45;&gt;open -->\n",
       "<g id=\"edge131\" class=\"edge\">\n",
       "<title>320&#45;&gt;open</title>\n",
       "<path fill=\"none\" stroke=\"black\" d=\"M6385.12,-161.87C6392.64,-155.54 6398.34,-148.04 6391.49,-141 6370.33,-119.23 5425.64,-108.69 5209.87,-106.46\"/>\n",
       "<polygon fill=\"black\" stroke=\"black\" points=\"5209.89,-102.96 5199.86,-106.35 5209.82,-109.96 5209.89,-102.96\"/>\n",
       "</g>\n",
       "<!-- 320&#45;&gt;open -->\n",
       "<g id=\"edge259\" class=\"edge\">\n",
       "<title>320&#45;&gt;open</title>\n",
       "<path fill=\"none\" stroke=\"black\" d=\"M6394.12,-166.68C6406.68,-159.61 6418.17,-149.93 6409.49,-141 6388.14,-119.04 5427.05,-108.5 5209.82,-106.4\"/>\n",
       "<polygon fill=\"black\" stroke=\"black\" points=\"5209.79,-102.9 5199.75,-106.3 5209.72,-109.9 5209.79,-102.9\"/>\n",
       "</g>\n",
       "<!-- 320&#45;&gt;open -->\n",
       "<g id=\"edge387\" class=\"edge\">\n",
       "<title>320&#45;&gt;open</title>\n",
       "<path fill=\"none\" stroke=\"black\" d=\"M6398.21,-171.17C6418.21,-164.17 6438.2,-152.01 6427.49,-141 6405.97,-118.86 5429.37,-108.33 5209.81,-106.35\"/>\n",
       "<polygon fill=\"black\" stroke=\"black\" points=\"5209.67,-102.85 5199.64,-106.26 5209.61,-109.85 5209.67,-102.85\"/>\n",
       "</g>\n",
       "<!-- 360 -->\n",
       "<g id=\"node14\" class=\"node\">\n",
       "<title>360</title>\n",
       "<ellipse fill=\"none\" stroke=\"black\" cx=\"3416.49\" cy=\"-178\" rx=\"28.7\" ry=\"18\"/>\n",
       "<text text-anchor=\"middle\" x=\"3416.49\" y=\"-174.3\" font-family=\"Times,serif\" font-size=\"14.00\">360</text>\n",
       "</g>\n",
       "<!-- 360&#45;&gt;close -->\n",
       "<g id=\"edge33\" class=\"edge\">\n",
       "<title>360&#45;&gt;close</title>\n",
       "<path fill=\"none\" stroke=\"black\" d=\"M3388.15,-174.54C3363.65,-171.04 3334.5,-164.54 3309.49,-160 3205.51,-141.13 3083.68,-123.75 3019.96,-114.05\"/>\n",
       "<polygon fill=\"black\" stroke=\"black\" points=\"3020.29,-110.56 3009.87,-112.5 3019.22,-117.47 3020.29,-110.56\"/>\n",
       "</g>\n",
       "<!-- 360&#45;&gt;close -->\n",
       "<g id=\"edge133\" class=\"edge\">\n",
       "<title>360&#45;&gt;close</title>\n",
       "<path fill=\"none\" stroke=\"black\" d=\"M3389.21,-172.41C3371.36,-168.78 3348.03,-163.73 3327.49,-160 3217.42,-140.02 3087.36,-121.72 3021.34,-112.42\"/>\n",
       "<polygon fill=\"black\" stroke=\"black\" points=\"3021.69,-108.94 3011.3,-111.01 3020.72,-115.87 3021.69,-108.94\"/>\n",
       "</g>\n",
       "<!-- 360&#45;&gt;close -->\n",
       "<g id=\"edge261\" class=\"edge\">\n",
       "<title>360&#45;&gt;close</title>\n",
       "<path fill=\"none\" stroke=\"black\" d=\"M3391.02,-169.36C3377.49,-166.26 3360.72,-162.76 3345.49,-160 3229.31,-138.91 3090.87,-119.7 3021.84,-110.96\"/>\n",
       "<polygon fill=\"black\" stroke=\"black\" points=\"3022.12,-107.47 3011.77,-109.7 3021.25,-114.41 3022.12,-107.47\"/>\n",
       "</g>\n",
       "<!-- 360&#45;&gt;close -->\n",
       "<g id=\"edge389\" class=\"edge\">\n",
       "<title>360&#45;&gt;close</title>\n",
       "<path fill=\"none\" stroke=\"black\" d=\"M3394.71,-166.29C3384.88,-164.09 3373.83,-161.88 3363.49,-160 3241.92,-137.93 3095.96,-117.91 3022.53,-109.81\"/>\n",
       "<polygon fill=\"black\" stroke=\"black\" points=\"3022.55,-106.29 3012.23,-108.7 3021.8,-113.25 3022.55,-106.29\"/>\n",
       "</g>\n",
       "<!-- 360&#45;&gt;open -->\n",
       "<g id=\"edge135\" class=\"edge\">\n",
       "<title>360&#45;&gt;open</title>\n",
       "<path fill=\"none\" stroke=\"black\" d=\"M3443.07,-171.04C3468.57,-167.25 3506.7,-162.59 3540.49,-160 4167.13,-112.06 4934.38,-106.67 5123.25,-106.07\"/>\n",
       "<polygon fill=\"black\" stroke=\"black\" points=\"5123.34,-109.57 5133.33,-106.05 5123.32,-102.57 5123.34,-109.57\"/>\n",
       "</g>\n",
       "<!-- 360&#45;&gt;open -->\n",
       "<g id=\"edge263\" class=\"edge\">\n",
       "<title>360&#45;&gt;open</title>\n",
       "<path fill=\"none\" stroke=\"black\" d=\"M3444.18,-172.97C3472.75,-168.99 3518.64,-163.05 3558.49,-160 4178.33,-112.58 4935.74,-106.8 5123.07,-106.1\"/>\n",
       "<polygon fill=\"black\" stroke=\"black\" points=\"5123.34,-109.6 5133.33,-106.06 5123.31,-102.6 5123.34,-109.6\"/>\n",
       "</g>\n",
       "<!-- 360&#45;&gt;open -->\n",
       "<g id=\"edge391\" class=\"edge\">\n",
       "<title>360&#45;&gt;open</title>\n",
       "<path fill=\"none\" stroke=\"black\" d=\"M3444.65,-174.52C3477.8,-170.7 3531.07,-163.48 3576.49,-160 4189.16,-113.13 4936.23,-106.94 5122.92,-106.12\"/>\n",
       "<polygon fill=\"black\" stroke=\"black\" points=\"5123.16,-109.62 5133.15,-106.08 5123.14,-102.62 5123.16,-109.62\"/>\n",
       "</g>\n",
       "<!-- 400 -->\n",
       "<g id=\"node15\" class=\"node\">\n",
       "<title>400</title>\n",
       "<ellipse fill=\"none\" stroke=\"black\" cx=\"3872.49\" cy=\"-178\" rx=\"28.7\" ry=\"18\"/>\n",
       "<text text-anchor=\"middle\" x=\"3872.49\" y=\"-174.3\" font-family=\"Times,serif\" font-size=\"14.00\">400</text>\n",
       "</g>\n",
       "<!-- 400&#45;&gt;close -->\n",
       "<g id=\"edge35\" class=\"edge\">\n",
       "<title>400&#45;&gt;close</title>\n",
       "<path fill=\"none\" stroke=\"black\" d=\"M3844.2,-174.26C3819.75,-170.41 3790.67,-163.49 3765.49,-160 3484.35,-121.01 3144.53,-109.97 3023.16,-107.02\"/>\n",
       "<polygon fill=\"black\" stroke=\"black\" points=\"3023.19,-103.52 3013.11,-106.78 3023.02,-110.51 3023.19,-103.52\"/>\n",
       "</g>\n",
       "<!-- 400&#45;&gt;close -->\n",
       "<g id=\"edge137\" class=\"edge\">\n",
       "<title>400&#45;&gt;close</title>\n",
       "<path fill=\"none\" stroke=\"black\" d=\"M3845.28,-171.94C3827.48,-168.05 3804.17,-162.87 3783.49,-160 3495.19,-120.01 3145.19,-109.43 3023.01,-106.81\"/>\n",
       "<polygon fill=\"black\" stroke=\"black\" points=\"3022.98,-103.31 3012.91,-106.6 3022.84,-110.3 3022.98,-103.31\"/>\n",
       "</g>\n",
       "<!-- 400&#45;&gt;close -->\n",
       "<g id=\"edge265\" class=\"edge\">\n",
       "<title>400&#45;&gt;close</title>\n",
       "<path fill=\"none\" stroke=\"black\" d=\"M3847.49,-168.81C3833.91,-165.59 3816.97,-162.15 3801.49,-160 3506.72,-119.12 3147.44,-108.97 3023.17,-106.64\"/>\n",
       "<polygon fill=\"black\" stroke=\"black\" points=\"3022.97,-103.14 3012.91,-106.46 3022.84,-110.14 3022.97,-103.14\"/>\n",
       "</g>\n",
       "<!-- 400&#45;&gt;close -->\n",
       "<g id=\"edge393\" class=\"edge\">\n",
       "<title>400&#45;&gt;close</title>\n",
       "<path fill=\"none\" stroke=\"black\" d=\"M3851.21,-165.72C3841.28,-163.53 3830.04,-161.46 3819.49,-160 3518.62,-118.27 3150.56,-108.56 3023.18,-106.51\"/>\n",
       "<polygon fill=\"black\" stroke=\"black\" points=\"3023.07,-103.01 3013.01,-106.35 3022.96,-110 3023.07,-103.01\"/>\n",
       "</g>\n",
       "<!-- 400&#45;&gt;open -->\n",
       "<g id=\"edge139\" class=\"edge\">\n",
       "<title>400&#45;&gt;open</title>\n",
       "<path fill=\"none\" stroke=\"black\" d=\"M3897.54,-168.94C3914.48,-165.66 3936.5,-162.14 3956.49,-160 4410.05,-111.55 4965.23,-106.5 5123.13,-106.03\"/>\n",
       "<polygon fill=\"black\" stroke=\"black\" points=\"5123.38,-109.53 5133.38,-106 5123.37,-102.53 5123.38,-109.53\"/>\n",
       "</g>\n",
       "<!-- 400&#45;&gt;open -->\n",
       "<g id=\"edge267\" class=\"edge\">\n",
       "<title>400&#45;&gt;open</title>\n",
       "<path fill=\"none\" stroke=\"black\" d=\"M3899.65,-171.58C3920.13,-167.71 3948.97,-162.73 3974.49,-160 4421.51,-112.25 4967.23,-106.65 5123.08,-106.05\"/>\n",
       "<polygon fill=\"black\" stroke=\"black\" points=\"5123.21,-109.55 5133.2,-106.02 5123.19,-102.55 5123.21,-109.55\"/>\n",
       "</g>\n",
       "<!-- 400&#45;&gt;open -->\n",
       "<g id=\"edge395\" class=\"edge\">\n",
       "<title>400&#45;&gt;open</title>\n",
       "<path fill=\"none\" stroke=\"black\" d=\"M3900.41,-173.84C3925.89,-169.9 3961.61,-163.3 3992.49,-160 4432.46,-113 4968.05,-106.84 5122.97,-106.09\"/>\n",
       "<polygon fill=\"black\" stroke=\"black\" points=\"5123.05,-109.58 5133.04,-106.04 5123.02,-102.59 5123.05,-109.58\"/>\n",
       "</g>\n",
       "<!-- 440 -->\n",
       "<g id=\"node16\" class=\"node\">\n",
       "<title>440</title>\n",
       "<ellipse fill=\"none\" stroke=\"black\" cx=\"3754.49\" cy=\"-178\" rx=\"28.7\" ry=\"18\"/>\n",
       "<text text-anchor=\"middle\" x=\"3754.49\" y=\"-174.3\" font-family=\"Times,serif\" font-size=\"14.00\">440</text>\n",
       "</g>\n",
       "<!-- 440&#45;&gt;close -->\n",
       "<g id=\"edge37\" class=\"edge\">\n",
       "<title>440&#45;&gt;close</title>\n",
       "<path fill=\"none\" stroke=\"black\" d=\"M3726.12,-175.02C3693.59,-171.58 3647.02,-164.42 3607.49,-160 3387.91,-135.43 3125.79,-117.17 3022.3,-109.7\"/>\n",
       "<polygon fill=\"black\" stroke=\"black\" points=\"3022.43,-106.2 3012.2,-108.97 3021.92,-113.19 3022.43,-106.2\"/>\n",
       "</g>\n",
       "<!-- 440&#45;&gt;close -->\n",
       "<g id=\"edge141\" class=\"edge\">\n",
       "<title>440&#45;&gt;close</title>\n",
       "<path fill=\"none\" stroke=\"black\" d=\"M3726.75,-173.61C3700.36,-169.88 3660.21,-163.88 3625.49,-160 3399.04,-134.66 3127.36,-116.03 3022.56,-109.04\"/>\n",
       "<polygon fill=\"black\" stroke=\"black\" points=\"3022.57,-105.53 3012.36,-108.36 3022.1,-112.51 3022.57,-105.53\"/>\n",
       "</g>\n",
       "<!-- 440&#45;&gt;close -->\n",
       "<g id=\"edge269\" class=\"edge\">\n",
       "<title>440&#45;&gt;close</title>\n",
       "<path fill=\"none\" stroke=\"black\" d=\"M3727.5,-171.55C3704.97,-167.92 3672.35,-163.23 3643.49,-160 3410.49,-133.93 3129.61,-114.96 3022.62,-108.46\"/>\n",
       "<polygon fill=\"black\" stroke=\"black\" points=\"3022.71,-104.96 3012.52,-107.85 3022.29,-111.94 3022.71,-104.96\"/>\n",
       "</g>\n",
       "<!-- 440&#45;&gt;close -->\n",
       "<g id=\"edge397\" class=\"edge\">\n",
       "<title>440&#45;&gt;close</title>\n",
       "<path fill=\"none\" stroke=\"black\" d=\"M3729.22,-169.23C3709.89,-166.07 3684.5,-162.57 3661.49,-160 3422.76,-133.29 3133.76,-114.03 3023.07,-108\"/>\n",
       "<polygon fill=\"black\" stroke=\"black\" points=\"3023.1,-104.5 3012.93,-107.46 3022.73,-111.49 3023.1,-104.5\"/>\n",
       "</g>\n",
       "<!-- 440&#45;&gt;open -->\n",
       "<g id=\"edge39\" class=\"edge\">\n",
       "<title>440&#45;&gt;open</title>\n",
       "<path fill=\"none\" stroke=\"black\" d=\"M3775.77,-165.64C3785.7,-163.45 3796.94,-161.41 3807.49,-160 3957.07,-140.04 3995.75,-147.88 4146.49,-141 4523.5,-123.79 4981.35,-110.43 5123.38,-106.91\"/>\n",
       "<polygon fill=\"black\" stroke=\"black\" points=\"5123.53,-110.41 5133.44,-106.67 5123.36,-103.41 5123.53,-110.41\"/>\n",
       "</g>\n",
       "<!-- 440&#45;&gt;open -->\n",
       "<g id=\"edge143\" class=\"edge\">\n",
       "<title>440&#45;&gt;open</title>\n",
       "<path fill=\"none\" stroke=\"black\" d=\"M3779.11,-168.82C3792.76,-165.56 3809.87,-162.09 3825.49,-160 3975.07,-140.04 4013.75,-147.88 4164.49,-141 4534.82,-124.1 4983.16,-110.91 5122.89,-107.11\"/>\n",
       "<polygon fill=\"black\" stroke=\"black\" points=\"5123.27,-110.6 5133.18,-106.83 5123.09,-103.6 5123.27,-110.6\"/>\n",
       "</g>\n",
       "<!-- 440&#45;&gt;open -->\n",
       "<g id=\"edge271\" class=\"edge\">\n",
       "<title>440&#45;&gt;open</title>\n",
       "<path fill=\"none\" stroke=\"black\" d=\"M3781.7,-171.88C3799.5,-167.96 3822.81,-162.76 3843.49,-160 3993.07,-140.04 4031.75,-147.88 4182.49,-141 4546.52,-124.39 4985.93,-111.36 5123.38,-107.31\"/>\n",
       "<polygon fill=\"black\" stroke=\"black\" points=\"5123.61,-110.81 5133.5,-107.01 5123.4,-103.81 5123.61,-110.81\"/>\n",
       "</g>\n",
       "<!-- 440&#45;&gt;open -->\n",
       "<g id=\"edge399\" class=\"edge\">\n",
       "<title>440&#45;&gt;open</title>\n",
       "<path fill=\"none\" stroke=\"black\" d=\"M3782.79,-174.22C3807.23,-170.33 3836.3,-163.36 3861.49,-160 4011.07,-140.04 4049.75,-147.88 4200.49,-141 4557.38,-124.71 4986.73,-111.87 5123.42,-107.56\"/>\n",
       "<polygon fill=\"black\" stroke=\"black\" points=\"5123.62,-111.06 5133.5,-107.24 5123.4,-104.06 5123.62,-111.06\"/>\n",
       "</g>\n",
       "<!-- 480 -->\n",
       "<g id=\"node17\" class=\"node\">\n",
       "<title>480</title>\n",
       "<ellipse fill=\"none\" stroke=\"black\" cx=\"4310.49\" cy=\"-178\" rx=\"28.7\" ry=\"18\"/>\n",
       "<text text-anchor=\"middle\" x=\"4310.49\" y=\"-174.3\" font-family=\"Times,serif\" font-size=\"14.00\">480</text>\n",
       "</g>\n",
       "<!-- 480&#45;&gt;close -->\n",
       "<g id=\"edge41\" class=\"edge\">\n",
       "<title>480&#45;&gt;close</title>\n",
       "<path fill=\"none\" stroke=\"black\" d=\"M4282.21,-174.21C4257.77,-170.3 4228.7,-163.3 4203.49,-160 4038.91,-138.46 3996.32,-148.52 3830.49,-141 3521.09,-126.96 3150.28,-113.2 3022.94,-108.09\"/>\n",
       "<polygon fill=\"black\" stroke=\"black\" points=\"3022.92,-104.58 3012.78,-107.68 3022.63,-111.58 3022.92,-104.58\"/>\n",
       "</g>\n",
       "<!-- 480&#45;&gt;close -->\n",
       "<g id=\"edge145\" class=\"edge\">\n",
       "<title>480&#45;&gt;close</title>\n",
       "<path fill=\"none\" stroke=\"black\" d=\"M4283.3,-171.85C4265.5,-167.91 4242.19,-162.71 4221.49,-160 4056.91,-138.46 4014.32,-148.52 3848.49,-141 3532.04,-126.64 3151.35,-112.57 3023.04,-107.75\"/>\n",
       "<polygon fill=\"black\" stroke=\"black\" points=\"3022.95,-104.25 3012.83,-107.37 3022.69,-111.24 3022.95,-104.25\"/>\n",
       "</g>\n",
       "<!-- 480&#45;&gt;close -->\n",
       "<g id=\"edge273\" class=\"edge\">\n",
       "<title>480&#45;&gt;close</title>\n",
       "<path fill=\"none\" stroke=\"black\" d=\"M4285.88,-168.79C4272.24,-165.51 4255.12,-162.05 4239.49,-160 4074.91,-138.46 4032.32,-148.52 3866.49,-141 3543.36,-126.34 3153.25,-111.98 3023.07,-107.46\"/>\n",
       "<polygon fill=\"black\" stroke=\"black\" points=\"3022.83,-103.95 3012.71,-107.1 3022.59,-110.94 3022.83,-103.95\"/>\n",
       "</g>\n",
       "<!-- 480&#45;&gt;close -->\n",
       "<g id=\"edge401\" class=\"edge\">\n",
       "<title>480&#45;&gt;close</title>\n",
       "<path fill=\"none\" stroke=\"black\" d=\"M4289.62,-165.68C4279.59,-163.47 4268.19,-161.4 4257.49,-160 4092.91,-138.46 4050.32,-148.52 3884.49,-141 3555.1,-126.05 3156.1,-111.42 3022.99,-107.21\"/>\n",
       "<polygon fill=\"black\" stroke=\"black\" points=\"3022.87,-103.7 3012.77,-106.89 3022.66,-110.7 3022.87,-103.7\"/>\n",
       "</g>\n",
       "<!-- 480&#45;&gt;open -->\n",
       "<g id=\"edge147\" class=\"edge\">\n",
       "<title>480&#45;&gt;open</title>\n",
       "<path fill=\"none\" stroke=\"black\" d=\"M4337.37,-171.42C4362.69,-167.84 4400.25,-163.27 4433.49,-160 4694.2,-134.39 5009.41,-114.4 5123.37,-108.09\"/>\n",
       "<polygon fill=\"black\" stroke=\"black\" points=\"5123.66,-111.58 5133.45,-107.54 5123.27,-104.59 5123.66,-111.58\"/>\n",
       "</g>\n",
       "<!-- 480&#45;&gt;open -->\n",
       "<g id=\"edge275\" class=\"edge\">\n",
       "<title>480&#45;&gt;open</title>\n",
       "<path fill=\"none\" stroke=\"black\" d=\"M4338.28,-173.28C4366.69,-169.57 4412.11,-163.87 4451.49,-160 4705.93,-135.01 5012.3,-115.36 5123.52,-108.57\"/>\n",
       "<polygon fill=\"black\" stroke=\"black\" points=\"5123.9,-112.05 5133.67,-107.95 5123.47,-105.06 5123.9,-112.05\"/>\n",
       "</g>\n",
       "<!-- 480&#45;&gt;open -->\n",
       "<g id=\"edge403\" class=\"edge\">\n",
       "<title>480&#45;&gt;open</title>\n",
       "<path fill=\"none\" stroke=\"black\" d=\"M4338.82,-174.72C4371.83,-171.2 4424.59,-164.41 4469.49,-160 4717.33,-135.65 5014.44,-116.38 5123.89,-109.12\"/>\n",
       "<polygon fill=\"black\" stroke=\"black\" points=\"5124.14,-112.61 5133.88,-108.46 5123.67,-105.63 5124.14,-112.61\"/>\n",
       "</g>\n",
       "<!-- 520 -->\n",
       "<g id=\"node18\" class=\"node\">\n",
       "<title>520</title>\n",
       "<ellipse fill=\"none\" stroke=\"black\" cx=\"3118.49\" cy=\"-178\" rx=\"28.7\" ry=\"18\"/>\n",
       "<text text-anchor=\"middle\" x=\"3118.49\" y=\"-174.3\" font-family=\"Times,serif\" font-size=\"14.00\">520</text>\n",
       "</g>\n",
       "<!-- 520&#45;&gt;close -->\n",
       "<g id=\"edge43\" class=\"edge\">\n",
       "<title>520&#45;&gt;close</title>\n",
       "<path fill=\"none\" stroke=\"black\" d=\"M3092.53,-170.19C3065.53,-160.3 3026.49,-141.53 3000.94,-126.83\"/>\n",
       "<polygon fill=\"black\" stroke=\"black\" points=\"3002.58,-123.73 2992.19,-121.63 2999,-129.75 3002.58,-123.73\"/>\n",
       "</g>\n",
       "<!-- 520&#45;&gt;close -->\n",
       "<g id=\"edge149\" class=\"edge\">\n",
       "<title>520&#45;&gt;close</title>\n",
       "<path fill=\"none\" stroke=\"black\" d=\"M3095.14,-167.57C3071.26,-156.55 3034.4,-138.06 3008.43,-124.22\"/>\n",
       "<polygon fill=\"black\" stroke=\"black\" points=\"3009.87,-121.01 2999.4,-119.35 3006.54,-127.17 3009.87,-121.01\"/>\n",
       "</g>\n",
       "<!-- 520&#45;&gt;close -->\n",
       "<g id=\"edge277\" class=\"edge\">\n",
       "<title>520&#45;&gt;close</title>\n",
       "<path fill=\"none\" stroke=\"black\" d=\"M3099.08,-164.47C3077.02,-152.36 3040.95,-134.01 3013.91,-121.1\"/>\n",
       "<polygon fill=\"black\" stroke=\"black\" points=\"3015.3,-117.88 3004.76,-116.78 3012.31,-124.21 3015.3,-117.88\"/>\n",
       "</g>\n",
       "<!-- 520&#45;&gt;close -->\n",
       "<g id=\"edge405\" class=\"edge\">\n",
       "<title>520&#45;&gt;close</title>\n",
       "<path fill=\"none\" stroke=\"black\" d=\"M3105.43,-161.77C3084.43,-148.7 3047.36,-130.12 3017.94,-118.06\"/>\n",
       "<polygon fill=\"black\" stroke=\"black\" points=\"3018.87,-114.67 3008.29,-114.24 3016.29,-121.18 3018.87,-114.67\"/>\n",
       "</g>\n",
       "<!-- 520&#45;&gt;open -->\n",
       "<g id=\"edge151\" class=\"edge\">\n",
       "<title>520&#45;&gt;open</title>\n",
       "<path fill=\"none\" stroke=\"black\" d=\"M3145.07,-171.04C3170.58,-167.26 3208.7,-162.6 3242.49,-160 3487.25,-141.17 3549.13,-148.39 3794.49,-141 4317.1,-125.25 4953.3,-110.46 5123.33,-106.84\"/>\n",
       "<polygon fill=\"black\" stroke=\"black\" points=\"5123.47,-110.34 5133.4,-106.63 5123.32,-103.34 5123.47,-110.34\"/>\n",
       "</g>\n",
       "<!-- 520&#45;&gt;open -->\n",
       "<g id=\"edge279\" class=\"edge\">\n",
       "<title>520&#45;&gt;open</title>\n",
       "<path fill=\"none\" stroke=\"black\" d=\"M3146.18,-172.98C3174.75,-169 3220.64,-163.07 3260.49,-160 3505.25,-141.17 3567.13,-148.39 3812.49,-141 4328.51,-125.45 4955.27,-110.83 5123.33,-106.98\"/>\n",
       "<polygon fill=\"black\" stroke=\"black\" points=\"5123.58,-110.48 5133.5,-106.75 5123.42,-103.48 5123.58,-110.48\"/>\n",
       "</g>\n",
       "<!-- 520&#45;&gt;open -->\n",
       "<g id=\"edge407\" class=\"edge\">\n",
       "<title>520&#45;&gt;open</title>\n",
       "<path fill=\"none\" stroke=\"black\" d=\"M3146.65,-174.52C3179.81,-170.71 3233.07,-163.49 3278.49,-160 3523.25,-141.17 3585.13,-148.39 3830.49,-141 4339.32,-125.67 4955.83,-111.24 5123.15,-107.15\"/>\n",
       "<polygon fill=\"black\" stroke=\"black\" points=\"5123.38,-110.64 5133.29,-106.9 5123.21,-103.65 5123.38,-110.64\"/>\n",
       "</g>\n",
       "<!-- 560 -->\n",
       "<g id=\"node19\" class=\"node\">\n",
       "<title>560</title>\n",
       "<ellipse fill=\"none\" stroke=\"black\" cx=\"4012.49\" cy=\"-178\" rx=\"28.7\" ry=\"18\"/>\n",
       "<text text-anchor=\"middle\" x=\"4012.49\" y=\"-174.3\" font-family=\"Times,serif\" font-size=\"14.00\">560</text>\n",
       "</g>\n",
       "<!-- 560&#45;&gt;close -->\n",
       "<g id=\"edge45\" class=\"edge\">\n",
       "<title>560&#45;&gt;close</title>\n",
       "<path fill=\"none\" stroke=\"black\" d=\"M3984.1,-174.75C3955.04,-171.15 3916.45,-164.09 3883.49,-160 3781.27,-147.3 3755.28,-147.79 3652.49,-141 3415.1,-125.31 3132.05,-113.2 3023.06,-108.33\"/>\n",
       "<polygon fill=\"black\" stroke=\"black\" points=\"3022.91,-104.82 3012.76,-107.87 3022.59,-111.81 3022.91,-104.82\"/>\n",
       "</g>\n",
       "<!-- 560&#45;&gt;close -->\n",
       "<g id=\"edge153\" class=\"edge\">\n",
       "<title>560&#45;&gt;close</title>\n",
       "<path fill=\"none\" stroke=\"black\" d=\"M3984.59,-172.97C3961.9,-169.15 3929.64,-163.5 3901.49,-160 3799.27,-147.3 3773.28,-147.79 3670.49,-141 3425.79,-124.83 3132.59,-112.45 3022.75,-107.9\"/>\n",
       "<polygon fill=\"black\" stroke=\"black\" points=\"3022.84,-104.4 3012.7,-107.48 3022.55,-111.39 3022.84,-104.4\"/>\n",
       "</g>\n",
       "<!-- 560&#45;&gt;close -->\n",
       "<g id=\"edge281\" class=\"edge\">\n",
       "<title>560&#45;&gt;close</title>\n",
       "<path fill=\"none\" stroke=\"black\" d=\"M3986.03,-170.54C3967.4,-167.02 3942.12,-162.81 3919.49,-160 3817.27,-147.3 3791.28,-147.79 3688.49,-141 3437.31,-124.4 3135.03,-111.8 3022.96,-107.55\"/>\n",
       "<polygon fill=\"black\" stroke=\"black\" points=\"3022.84,-104.05 3012.72,-107.17 3022.58,-111.04 3022.84,-104.05\"/>\n",
       "</g>\n",
       "<!-- 560&#45;&gt;close -->\n",
       "<g id=\"edge409\" class=\"edge\">\n",
       "<title>560&#45;&gt;close</title>\n",
       "<path fill=\"none\" stroke=\"black\" d=\"M3988.39,-167.87C3973.22,-165.05 3954.6,-162.12 3937.49,-160 3835.27,-147.3 3809.28,-147.79 3706.49,-141 3449.46,-124.02 3138.91,-111.22 3023.3,-107.27\"/>\n",
       "<polygon fill=\"black\" stroke=\"black\" points=\"3023.16,-103.76 3013.05,-106.93 3022.93,-110.76 3023.16,-103.76\"/>\n",
       "</g>\n",
       "<!-- 560&#45;&gt;open -->\n",
       "<g id=\"edge155\" class=\"edge\">\n",
       "<title>560&#45;&gt;open</title>\n",
       "<path fill=\"none\" stroke=\"black\" d=\"M4039.39,-171.39C4064.9,-167.78 4102.88,-163.18 4136.49,-160 4517.14,-123.94 4980.78,-110.19 5123.23,-106.86\"/>\n",
       "<polygon fill=\"black\" stroke=\"black\" points=\"5123.4,-110.35 5133.32,-106.63 5123.24,-103.36 5123.4,-110.35\"/>\n",
       "</g>\n",
       "<!-- 560&#45;&gt;open -->\n",
       "<g id=\"edge283\" class=\"edge\">\n",
       "<title>560&#45;&gt;open</title>\n",
       "<path fill=\"none\" stroke=\"black\" d=\"M4040.2,-173.27C4068.79,-169.52 4114.7,-163.77 4154.49,-160 4528.36,-124.59 4982.28,-110.69 5122.88,-107.04\"/>\n",
       "<polygon fill=\"black\" stroke=\"black\" points=\"5123.32,-110.53 5133.23,-106.78 5123.14,-103.54 5123.32,-110.53\"/>\n",
       "</g>\n",
       "<!-- 560&#45;&gt;open -->\n",
       "<g id=\"edge411\" class=\"edge\">\n",
       "<title>560&#45;&gt;open</title>\n",
       "<path fill=\"none\" stroke=\"black\" d=\"M4040.67,-174.72C4073.84,-171.17 4127.14,-164.3 4172.49,-160 4539.53,-125.23 4983.73,-111.2 5123,-107.25\"/>\n",
       "<polygon fill=\"black\" stroke=\"black\" points=\"5123.35,-110.75 5133.25,-106.97 5123.16,-103.75 5123.35,-110.75\"/>\n",
       "</g>\n",
       "<!-- 600 -->\n",
       "<g id=\"node20\" class=\"node\">\n",
       "<title>600</title>\n",
       "<ellipse fill=\"none\" stroke=\"black\" cx=\"4788.49\" cy=\"-178\" rx=\"28.7\" ry=\"18\"/>\n",
       "<text text-anchor=\"middle\" x=\"4788.49\" y=\"-174.3\" font-family=\"Times,serif\" font-size=\"14.00\">600</text>\n",
       "</g>\n",
       "<!-- 600&#45;&gt;close -->\n",
       "<g id=\"edge47\" class=\"edge\">\n",
       "<title>600&#45;&gt;close</title>\n",
       "<path fill=\"none\" stroke=\"black\" d=\"M4760.08,-175.05C4724.49,-171.44 4670.36,-163.76 4624.49,-160 4415.69,-142.86 4362.87,-148.27 4153.49,-141 3712.44,-125.68 3180.18,-111.8 3023.29,-107.42\"/>\n",
       "<polygon fill=\"black\" stroke=\"black\" points=\"3023.17,-103.92 3013.08,-107.14 3022.97,-110.92 3023.17,-103.92\"/>\n",
       "</g>\n",
       "<!-- 600&#45;&gt;close -->\n",
       "<g id=\"edge157\" class=\"edge\">\n",
       "<title>600&#45;&gt;close</title>\n",
       "<path fill=\"none\" stroke=\"black\" d=\"M4760.67,-173.77C4731.02,-169.85 4683.46,-163.36 4642.49,-160 4433.69,-142.86 4380.87,-148.27 4171.49,-141 3723.3,-125.44 3180.93,-111.35 3023.33,-107.22\"/>\n",
       "<polygon fill=\"black\" stroke=\"black\" points=\"3023.17,-103.71 3013.09,-106.95 3022.99,-110.71 3023.17,-103.71\"/>\n",
       "</g>\n",
       "<!-- 600&#45;&gt;close -->\n",
       "<g id=\"edge285\" class=\"edge\">\n",
       "<title>600&#45;&gt;close</title>\n",
       "<path fill=\"none\" stroke=\"black\" d=\"M4761.53,-171.95C4735.57,-168.06 4695.61,-162.88 4660.49,-160 4451.69,-142.86 4398.87,-148.27 4189.49,-141 3734.67,-125.2 3182.87,-110.93 3023.48,-107.04\"/>\n",
       "<polygon fill=\"black\" stroke=\"black\" points=\"3023.2,-103.53 3013.12,-106.79 3023.03,-110.53 3023.2,-103.53\"/>\n",
       "</g>\n",
       "<!-- 600&#45;&gt;close -->\n",
       "<g id=\"edge413\" class=\"edge\">\n",
       "<title>600&#45;&gt;close</title>\n",
       "<path fill=\"none\" stroke=\"black\" d=\"M4762.93,-169.83C4739.85,-166.33 4707.52,-162.38 4678.49,-160 4469.69,-142.86 4416.87,-148.27 4207.49,-141 3746.09,-124.98 3184.88,-110.52 3023.21,-106.88\"/>\n",
       "<polygon fill=\"black\" stroke=\"black\" points=\"3023.22,-103.38 3013.14,-106.65 3023.06,-110.38 3023.22,-103.38\"/>\n",
       "</g>\n",
       "<!-- 600&#45;&gt;open -->\n",
       "<g id=\"edge49\" class=\"edge\">\n",
       "<title>600&#45;&gt;open</title>\n",
       "<path fill=\"none\" stroke=\"black\" d=\"M4813.99,-169.8C4878.98,-155.66 5045.1,-124.54 5124.49,-111.7\"/>\n",
       "<polygon fill=\"black\" stroke=\"black\" points=\"5125.31,-115.12 5134.64,-110.09 5124.21,-108.2 5125.31,-115.12\"/>\n",
       "</g>\n",
       "<!-- 600&#45;&gt;open -->\n",
       "<g id=\"edge159\" class=\"edge\">\n",
       "<title>600&#45;&gt;open</title>\n",
       "<path fill=\"none\" stroke=\"black\" d=\"M4815.21,-171.25C4880.4,-158.31 5047.26,-126.95 5125.28,-112.95\"/>\n",
       "<polygon fill=\"black\" stroke=\"black\" points=\"5126,-116.38 5135.23,-111.17 5124.77,-109.49 5126,-116.38\"/>\n",
       "</g>\n",
       "<!-- 600&#45;&gt;open -->\n",
       "<g id=\"edge287\" class=\"edge\">\n",
       "<title>600&#45;&gt;open</title>\n",
       "<path fill=\"none\" stroke=\"black\" d=\"M4815.93,-172.5C4881.93,-160.85 5049.09,-129.52 5126.36,-114.39\"/>\n",
       "<polygon fill=\"black\" stroke=\"black\" points=\"5127.07,-117.82 5136.2,-112.46 5125.72,-110.95 5127.07,-117.82\"/>\n",
       "</g>\n",
       "<!-- 600&#45;&gt;open -->\n",
       "<g id=\"edge415\" class=\"edge\">\n",
       "<title>600&#45;&gt;open</title>\n",
       "<path fill=\"none\" stroke=\"black\" d=\"M4816.37,-173.53C4884.01,-163.16 5050.76,-132.17 5127.74,-116.03\"/>\n",
       "<polygon fill=\"black\" stroke=\"black\" points=\"5128.49,-119.44 5137.55,-113.94 5127.04,-112.6 5128.49,-119.44\"/>\n",
       "</g>\n",
       "<!-- 640 -->\n",
       "<g id=\"node21\" class=\"node\">\n",
       "<title>640</title>\n",
       "<ellipse fill=\"none\" stroke=\"black\" cx=\"1736.49\" cy=\"-178\" rx=\"28.7\" ry=\"18\"/>\n",
       "<text text-anchor=\"middle\" x=\"1736.49\" y=\"-174.3\" font-family=\"Times,serif\" font-size=\"14.00\">640</text>\n",
       "</g>\n",
       "<!-- 640&#45;&gt;close -->\n",
       "<g id=\"edge51\" class=\"edge\">\n",
       "<title>640&#45;&gt;close</title>\n",
       "<path fill=\"none\" stroke=\"black\" d=\"M1725.52,-161.21C1729.92,-153.61 1739.74,-145.23 1750.49,-141 1805.91,-119.2 2718.39,-108.44 2933.72,-106.37\"/>\n",
       "<polygon fill=\"black\" stroke=\"black\" points=\"2934.05,-109.87 2944.02,-106.28 2933.99,-102.87 2934.05,-109.87\"/>\n",
       "</g>\n",
       "<!-- 640&#45;&gt;close -->\n",
       "<g id=\"edge161\" class=\"edge\">\n",
       "<title>640&#45;&gt;close</title>\n",
       "<path fill=\"none\" stroke=\"black\" d=\"M1742.53,-160.09C1748.89,-152.79 1758.27,-145.02 1768.49,-141 1823.46,-119.37 2721.72,-108.61 2933.89,-106.42\"/>\n",
       "<polygon fill=\"black\" stroke=\"black\" points=\"2934.08,-109.92 2944.04,-106.32 2934.01,-102.92 2934.08,-109.92\"/>\n",
       "</g>\n",
       "<!-- 640&#45;&gt;close -->\n",
       "<g id=\"edge289\" class=\"edge\">\n",
       "<title>640&#45;&gt;close</title>\n",
       "<path fill=\"none\" stroke=\"black\" d=\"M1754.82,-163.79C1763.68,-155.58 1774.51,-145.72 1786.49,-141 1840.99,-119.56 2724.18,-108.8 2934.06,-106.48\"/>\n",
       "<polygon fill=\"black\" stroke=\"black\" points=\"2934.14,-109.98 2944.1,-106.37 2934.07,-102.98 2934.14,-109.98\"/>\n",
       "</g>\n",
       "<!-- 640&#45;&gt;close -->\n",
       "<g id=\"edge417\" class=\"edge\">\n",
       "<title>640&#45;&gt;close</title>\n",
       "<path fill=\"none\" stroke=\"black\" d=\"M1761.82,-169.23C1776.66,-160.51 1789.69,-146.83 1804.49,-141 1858.45,-119.77 2724.86,-109.01 2933.86,-106.55\"/>\n",
       "<polygon fill=\"black\" stroke=\"black\" points=\"2933.92,-110.05 2943.88,-106.44 2933.84,-103.05 2933.92,-110.05\"/>\n",
       "</g>\n",
       "<!-- 640&#45;&gt;open -->\n",
       "<g id=\"edge163\" class=\"edge\">\n",
       "<title>640&#45;&gt;open</title>\n",
       "<path fill=\"none\" stroke=\"black\" d=\"M1761.53,-168.83C1778.47,-165.53 1800.49,-162.02 1820.49,-160 2053.68,-136.46 2113.19,-146.69 2347.49,-141 3476.19,-113.61 4861.29,-107.11 5122.93,-106.14\"/>\n",
       "<polygon fill=\"black\" stroke=\"black\" points=\"5123.17,-109.64 5133.16,-106.1 5123.14,-102.64 5123.17,-109.64\"/>\n",
       "</g>\n",
       "<!-- 640&#45;&gt;open -->\n",
       "<g id=\"edge291\" class=\"edge\">\n",
       "<title>640&#45;&gt;open</title>\n",
       "<path fill=\"none\" stroke=\"black\" d=\"M1763.21,-171.58C1783.72,-167.65 1812.77,-162.6 1838.49,-160 2071.68,-136.46 2131.19,-146.69 2365.49,-141 3487.6,-113.77 4863.11,-107.19 5123.04,-106.16\"/>\n",
       "<polygon fill=\"black\" stroke=\"black\" points=\"5123.21,-109.66 5133.2,-106.12 5123.18,-102.66 5123.21,-109.66\"/>\n",
       "</g>\n",
       "<!-- 640&#45;&gt;open -->\n",
       "<g id=\"edge419\" class=\"edge\">\n",
       "<title>640&#45;&gt;open</title>\n",
       "<path fill=\"none\" stroke=\"black\" d=\"M1764.41,-173.78C1789.88,-169.79 1825.59,-163.12 1856.49,-160 2089.68,-136.46 2149.19,-146.69 2383.49,-141 3498.41,-113.94 4863.49,-107.27 5122.96,-106.18\"/>\n",
       "<polygon fill=\"black\" stroke=\"black\" points=\"5123.13,-109.68 5133.11,-106.14 5123.1,-102.68 5123.13,-109.68\"/>\n",
       "</g>\n",
       "<!-- 680 -->\n",
       "<g id=\"node22\" class=\"node\">\n",
       "<title>680</title>\n",
       "<ellipse fill=\"none\" stroke=\"black\" cx=\"1876.49\" cy=\"-178\" rx=\"28.7\" ry=\"18\"/>\n",
       "<text text-anchor=\"middle\" x=\"1876.49\" y=\"-174.3\" font-family=\"Times,serif\" font-size=\"14.00\">680</text>\n",
       "</g>\n",
       "<!-- 680&#45;&gt;close -->\n",
       "<g id=\"edge53\" class=\"edge\">\n",
       "<title>680&#45;&gt;close</title>\n",
       "<path fill=\"none\" stroke=\"black\" d=\"M1865.52,-161.23C1869.93,-153.63 1879.75,-145.25 1890.49,-141 1987.31,-102.69 2739.87,-104.74 2933.68,-105.75\"/>\n",
       "<polygon fill=\"black\" stroke=\"black\" points=\"2933.78,-109.25 2943.8,-105.8 2933.82,-102.25 2933.78,-109.25\"/>\n",
       "</g>\n",
       "<!-- 680&#45;&gt;close -->\n",
       "<g id=\"edge165\" class=\"edge\">\n",
       "<title>680&#45;&gt;close</title>\n",
       "<path fill=\"none\" stroke=\"black\" d=\"M1882.54,-160.1C1888.9,-152.81 1898.28,-145.04 1908.49,-141 2004.37,-103.07 2743.29,-104.71 2933.85,-105.72\"/>\n",
       "<polygon fill=\"black\" stroke=\"black\" points=\"2934.04,-109.22 2944.06,-105.78 2934.08,-102.22 2934.04,-109.22\"/>\n",
       "</g>\n",
       "<!-- 680&#45;&gt;close -->\n",
       "<g id=\"edge293\" class=\"edge\">\n",
       "<title>680&#45;&gt;close</title>\n",
       "<path fill=\"none\" stroke=\"black\" d=\"M1894.83,-163.81C1903.69,-155.6 1914.52,-145.74 1926.49,-141 2021.31,-103.48 2745.17,-104.68 2933.75,-105.69\"/>\n",
       "<polygon fill=\"black\" stroke=\"black\" points=\"2933.85,-109.19 2943.87,-105.74 2933.89,-102.19 2933.85,-109.19\"/>\n",
       "</g>\n",
       "<!-- 680&#45;&gt;close -->\n",
       "<g id=\"edge421\" class=\"edge\">\n",
       "<title>680&#45;&gt;close</title>\n",
       "<path fill=\"none\" stroke=\"black\" d=\"M1901.82,-169.24C1916.66,-160.53 1929.7,-146.85 1944.49,-141 2038.26,-103.9 2747.19,-104.65 2934.04,-105.65\"/>\n",
       "<polygon fill=\"black\" stroke=\"black\" points=\"2934.05,-109.15 2944.06,-105.71 2934.08,-102.15 2934.05,-109.15\"/>\n",
       "</g>\n",
       "<!-- 680&#45;&gt;open -->\n",
       "<g id=\"edge167\" class=\"edge\">\n",
       "<title>680&#45;&gt;open</title>\n",
       "<path fill=\"none\" stroke=\"black\" d=\"M1901.53,-168.92C1918.48,-165.63 1940.5,-162.11 1960.49,-160 2147.65,-140.27 2195.38,-146.41 2383.49,-141 3496.97,-108.95 4863.5,-106.25 5123.01,-106.02\"/>\n",
       "<polygon fill=\"black\" stroke=\"black\" points=\"5123.16,-109.52 5133.16,-106.01 5123.16,-102.52 5123.16,-109.52\"/>\n",
       "</g>\n",
       "<!-- 680&#45;&gt;open -->\n",
       "<g id=\"edge295\" class=\"edge\">\n",
       "<title>680&#45;&gt;open</title>\n",
       "<path fill=\"none\" stroke=\"black\" d=\"M1903.65,-171.56C1924.13,-167.68 1952.96,-162.69 1978.49,-160 2165.65,-140.27 2213.38,-146.41 2401.49,-141 3508.46,-109.14 4865.54,-106.28 5123.18,-106.02\"/>\n",
       "<polygon fill=\"black\" stroke=\"black\" points=\"5123.26,-109.52 5133.25,-106.02 5123.25,-102.52 5123.26,-109.52\"/>\n",
       "</g>\n",
       "<!-- 680&#45;&gt;open -->\n",
       "<g id=\"edge423\" class=\"edge\">\n",
       "<title>680&#45;&gt;open</title>\n",
       "<path fill=\"none\" stroke=\"black\" d=\"M1904.41,-173.82C1929.89,-169.87 1965.61,-163.26 1996.49,-160 2183.65,-140.27 2231.38,-146.41 2419.49,-141 3519.36,-109.35 4866.14,-106.32 5123.17,-106.03\"/>\n",
       "<polygon fill=\"black\" stroke=\"black\" points=\"5123.23,-109.53 5133.22,-106.02 5123.22,-102.53 5123.23,-109.53\"/>\n",
       "</g>\n",
       "<!-- 720 -->\n",
       "<g id=\"node23\" class=\"node\">\n",
       "<title>720</title>\n",
       "<ellipse fill=\"none\" stroke=\"black\" cx=\"2838.49\" cy=\"-178\" rx=\"28.7\" ry=\"18\"/>\n",
       "<text text-anchor=\"middle\" x=\"2838.49\" y=\"-174.3\" font-family=\"Times,serif\" font-size=\"14.00\">720</text>\n",
       "</g>\n",
       "<!-- 720&#45;&gt;close -->\n",
       "<g id=\"edge55\" class=\"edge\">\n",
       "<title>720&#45;&gt;close</title>\n",
       "<path fill=\"none\" stroke=\"black\" d=\"M2829.39,-160.74C2834.35,-153.93 2843.34,-146.37 2852.49,-141 2876.9,-126.69 2908.09,-116.87 2934.89,-111.35\"/>\n",
       "<polygon fill=\"black\" stroke=\"black\" points=\"2935.75,-114.75 2944.92,-109.45 2934.45,-107.88 2935.75,-114.75\"/>\n",
       "</g>\n",
       "<!-- 720&#45;&gt;close -->\n",
       "<g id=\"edge169\" class=\"edge\">\n",
       "<title>720&#45;&gt;close</title>\n",
       "<path fill=\"none\" stroke=\"black\" d=\"M2846.23,-160.37C2852.67,-153.66 2861.51,-146.27 2870.49,-141 2890.77,-129.12 2915.73,-120.33 2936.66,-114.53\"/>\n",
       "<polygon fill=\"black\" stroke=\"black\" points=\"2937.79,-117.85 2946.58,-111.92 2936.01,-111.08 2937.79,-117.85\"/>\n",
       "</g>\n",
       "<!-- 720&#45;&gt;close -->\n",
       "<g id=\"edge297\" class=\"edge\">\n",
       "<title>720&#45;&gt;close</title>\n",
       "<path fill=\"none\" stroke=\"black\" d=\"M2857.8,-164.64C2866.82,-156.98 2877.54,-147.42 2888.49,-141 2904.51,-131.61 2923.46,-124.15 2939.9,-118.57\"/>\n",
       "<polygon fill=\"black\" stroke=\"black\" points=\"2941.35,-121.78 2949.76,-115.34 2939.17,-115.13 2941.35,-121.78\"/>\n",
       "</g>\n",
       "<!-- 720&#45;&gt;close -->\n",
       "<g id=\"edge425\" class=\"edge\">\n",
       "<title>720&#45;&gt;close</title>\n",
       "<path fill=\"none\" stroke=\"black\" d=\"M2864.2,-170.02C2879.4,-162.04 2892.77,-149.05 2906.49,-141 2919.03,-133.65 2933.35,-127.49 2946.32,-122.48\"/>\n",
       "<polygon fill=\"black\" stroke=\"black\" points=\"2947.79,-125.67 2955.92,-118.88 2945.33,-119.12 2947.79,-125.67\"/>\n",
       "</g>\n",
       "<!-- 720&#45;&gt;open -->\n",
       "<g id=\"edge171\" class=\"edge\">\n",
       "<title>720&#45;&gt;open</title>\n",
       "<path fill=\"none\" stroke=\"black\" d=\"M2863.51,-168.72C2880.45,-165.39 2902.48,-161.9 2922.49,-160 3371.09,-117.39 4848.75,-107.6 5122.73,-106.2\"/>\n",
       "<polygon fill=\"black\" stroke=\"black\" points=\"5123.07,-109.69 5133.06,-106.14 5123.04,-102.69 5123.07,-109.69\"/>\n",
       "</g>\n",
       "<!-- 720&#45;&gt;open -->\n",
       "<g id=\"edge299\" class=\"edge\">\n",
       "<title>720&#45;&gt;open</title>\n",
       "<path fill=\"none\" stroke=\"black\" d=\"M2865.2,-171.49C2885.7,-167.52 2914.76,-162.44 2940.49,-160 3386.72,-117.62 4851.15,-107.71 5122.9,-106.22\"/>\n",
       "<polygon fill=\"black\" stroke=\"black\" points=\"5123.16,-109.72 5133.14,-106.16 5123.12,-102.72 5123.16,-109.72\"/>\n",
       "</g>\n",
       "<!-- 720&#45;&gt;open -->\n",
       "<g id=\"edge427\" class=\"edge\">\n",
       "<title>720&#45;&gt;open</title>\n",
       "<path fill=\"none\" stroke=\"black\" d=\"M2866.4,-173.72C2891.86,-169.67 2927.58,-162.94 2958.49,-160 3402.11,-117.86 4852.05,-107.83 5122.86,-106.25\"/>\n",
       "<polygon fill=\"black\" stroke=\"black\" points=\"5123.09,-109.74 5133.07,-106.19 5123.05,-102.74 5123.09,-109.74\"/>\n",
       "</g>\n",
       "<!-- 760 -->\n",
       "<g id=\"node24\" class=\"node\">\n",
       "<title>760</title>\n",
       "<ellipse fill=\"none\" stroke=\"black\" cx=\"2260.49\" cy=\"-178\" rx=\"28.7\" ry=\"18\"/>\n",
       "<text text-anchor=\"middle\" x=\"2260.49\" y=\"-174.3\" font-family=\"Times,serif\" font-size=\"14.00\">760</text>\n",
       "</g>\n",
       "<!-- 760&#45;&gt;close -->\n",
       "<g id=\"edge57\" class=\"edge\">\n",
       "<title>760&#45;&gt;close</title>\n",
       "<path fill=\"none\" stroke=\"black\" d=\"M2249.56,-161.31C2253.98,-153.73 2263.79,-145.35 2274.49,-141 2334.19,-116.74 2787.17,-108.37 2933.79,-106.46\"/>\n",
       "<polygon fill=\"black\" stroke=\"black\" points=\"2933.85,-109.96 2943.81,-106.33 2933.76,-102.96 2933.85,-109.96\"/>\n",
       "</g>\n",
       "<!-- 760&#45;&gt;close -->\n",
       "<g id=\"edge173\" class=\"edge\">\n",
       "<title>760&#45;&gt;close</title>\n",
       "<path fill=\"none\" stroke=\"black\" d=\"M2266.57,-160.19C2272.94,-152.92 2282.32,-145.14 2292.49,-141 2351.2,-117.14 2790.25,-108.65 2933.52,-106.56\"/>\n",
       "<polygon fill=\"black\" stroke=\"black\" points=\"2933.77,-110.06 2943.71,-106.42 2933.67,-103.06 2933.77,-110.06\"/>\n",
       "</g>\n",
       "<!-- 760&#45;&gt;close -->\n",
       "<g id=\"edge301\" class=\"edge\">\n",
       "<title>760&#45;&gt;close</title>\n",
       "<path fill=\"none\" stroke=\"black\" d=\"M2278.86,-163.88C2287.74,-155.71 2298.56,-145.85 2310.49,-141 2368.14,-117.57 2792.59,-108.96 2933.37,-106.68\"/>\n",
       "<polygon fill=\"black\" stroke=\"black\" points=\"2933.84,-110.17 2943.78,-106.52 2933.73,-103.17 2933.84,-110.17\"/>\n",
       "</g>\n",
       "<!-- 760&#45;&gt;close -->\n",
       "<g id=\"edge429\" class=\"edge\">\n",
       "<title>760&#45;&gt;close</title>\n",
       "<path fill=\"none\" stroke=\"black\" d=\"M2285.84,-169.29C2300.7,-160.62 2313.75,-146.99 2328.49,-141 2385.08,-118 2795.07,-109.29 2933.7,-106.81\"/>\n",
       "<polygon fill=\"black\" stroke=\"black\" points=\"2934.03,-110.31 2943.97,-106.63 2933.91,-103.31 2934.03,-110.31\"/>\n",
       "</g>\n",
       "<!-- 760&#45;&gt;open -->\n",
       "<g id=\"edge175\" class=\"edge\">\n",
       "<title>760&#45;&gt;open</title>\n",
       "<path fill=\"none\" stroke=\"black\" d=\"M2285.52,-168.73C2302.45,-165.41 2324.48,-161.91 2344.49,-160 2675.98,-128.33 2760.57,-148.06 3093.49,-141 3908.24,-123.73 4904.83,-109.42 5123.14,-106.53\"/>\n",
       "<polygon fill=\"black\" stroke=\"black\" points=\"5123.28,-110.03 5133.23,-106.4 5123.19,-103.03 5123.28,-110.03\"/>\n",
       "</g>\n",
       "<!-- 760&#45;&gt;open -->\n",
       "<g id=\"edge303\" class=\"edge\">\n",
       "<title>760&#45;&gt;open</title>\n",
       "<path fill=\"none\" stroke=\"black\" d=\"M2287.2,-171.5C2307.7,-167.53 2336.76,-162.46 2362.49,-160 2693.98,-128.33 2778.57,-148.06 3111.49,-141 3919.66,-123.87 4906.74,-109.65 5123.22,-106.6\"/>\n",
       "<polygon fill=\"black\" stroke=\"black\" points=\"5123.28,-110.1 5133.23,-106.46 5123.19,-103.1 5123.28,-110.1\"/>\n",
       "</g>\n",
       "<!-- 760&#45;&gt;open -->\n",
       "<g id=\"edge431\" class=\"edge\">\n",
       "<title>760&#45;&gt;open</title>\n",
       "<path fill=\"none\" stroke=\"black\" d=\"M2288.4,-173.73C2313.87,-169.68 2349.58,-162.95 2380.49,-160 2711.98,-128.33 2796.57,-148.06 3129.49,-141 3930.24,-124.02 4906.64,-109.91 5122.93,-106.69\"/>\n",
       "<polygon fill=\"black\" stroke=\"black\" points=\"5123.29,-110.19 5133.23,-106.54 5123.18,-103.19 5123.29,-110.19\"/>\n",
       "</g>\n",
       "<!-- 800 -->\n",
       "<g id=\"node25\" class=\"node\">\n",
       "<title>800</title>\n",
       "<ellipse fill=\"none\" stroke=\"black\" cx=\"2540.49\" cy=\"-178\" rx=\"28.7\" ry=\"18\"/>\n",
       "<text text-anchor=\"middle\" x=\"2540.49\" y=\"-174.3\" font-family=\"Times,serif\" font-size=\"14.00\">800</text>\n",
       "</g>\n",
       "<!-- 800&#45;&gt;close -->\n",
       "<g id=\"edge59\" class=\"edge\">\n",
       "<title>800&#45;&gt;close</title>\n",
       "<path fill=\"none\" stroke=\"black\" d=\"M2529.85,-161.1C2534.38,-153.66 2544.04,-145.47 2554.49,-141 2620.09,-112.94 2837.65,-107.37 2933.87,-106.27\"/>\n",
       "<polygon fill=\"black\" stroke=\"black\" points=\"2933.93,-109.77 2943.9,-106.17 2933.86,-102.77 2933.93,-109.77\"/>\n",
       "</g>\n",
       "<!-- 800&#45;&gt;close -->\n",
       "<g id=\"edge177\" class=\"edge\">\n",
       "<title>800&#45;&gt;close</title>\n",
       "<path fill=\"none\" stroke=\"black\" d=\"M2546.64,-160.35C2553.03,-153.12 2562.39,-145.32 2572.49,-141 2636.05,-113.81 2842.22,-107.74 2933.96,-106.39\"/>\n",
       "<polygon fill=\"black\" stroke=\"black\" points=\"2934.09,-109.89 2944.05,-106.25 2934,-102.89 2934.09,-109.89\"/>\n",
       "</g>\n",
       "<!-- 800&#45;&gt;close -->\n",
       "<g id=\"edge305\" class=\"edge\">\n",
       "<title>800&#45;&gt;close</title>\n",
       "<path fill=\"none\" stroke=\"black\" d=\"M2558.92,-164.03C2567.82,-155.91 2578.65,-146.07 2590.49,-141 2651.7,-114.82 2845.2,-108.22 2933.71,-106.56\"/>\n",
       "<polygon fill=\"black\" stroke=\"black\" points=\"2934.03,-110.05 2943.97,-106.38 2933.91,-103.06 2934.03,-110.05\"/>\n",
       "</g>\n",
       "<!-- 800&#45;&gt;close -->\n",
       "<g id=\"edge433\" class=\"edge\">\n",
       "<title>800&#45;&gt;close</title>\n",
       "<path fill=\"none\" stroke=\"black\" d=\"M2565.88,-169.38C2580.78,-160.81 2593.86,-147.26 2608.49,-141 2667.27,-115.85 2848.05,-108.77 2933.92,-106.78\"/>\n",
       "<polygon fill=\"black\" stroke=\"black\" points=\"2934.23,-110.28 2944.16,-106.56 2934.08,-103.28 2934.23,-110.28\"/>\n",
       "</g>\n",
       "<!-- 800&#45;&gt;open -->\n",
       "<g id=\"edge179\" class=\"edge\">\n",
       "<title>800&#45;&gt;open</title>\n",
       "<path fill=\"none\" stroke=\"black\" d=\"M2567.09,-171.12C2592.79,-167.34 2631.35,-162.66 2665.49,-160 2892.52,-142.32 2949.87,-147.24 3177.49,-141 3956.76,-119.62 4909.7,-108.58 5123.01,-106.4\"/>\n",
       "<polygon fill=\"black\" stroke=\"black\" points=\"5123.21,-109.9 5133.18,-106.3 5123.14,-102.9 5123.21,-109.9\"/>\n",
       "</g>\n",
       "<!-- 800&#45;&gt;open -->\n",
       "<g id=\"edge307\" class=\"edge\">\n",
       "<title>800&#45;&gt;open</title>\n",
       "<path fill=\"none\" stroke=\"black\" d=\"M2568.11,-173.04C2596.86,-169.08 2643.24,-163.13 2683.49,-160 2910.52,-142.32 2967.87,-147.24 3195.49,-141 3968.45,-119.8 4912.29,-108.76 5123.31,-106.46\"/>\n",
       "<polygon fill=\"black\" stroke=\"black\" points=\"5123.41,-109.96 5133.37,-106.35 5123.33,-102.96 5123.41,-109.96\"/>\n",
       "</g>\n",
       "<!-- 800&#45;&gt;open -->\n",
       "<g id=\"edge435\" class=\"edge\">\n",
       "<title>800&#45;&gt;open</title>\n",
       "<path fill=\"none\" stroke=\"black\" d=\"M2568.77,-174.54C2602.11,-170.75 2655.76,-163.56 2701.49,-160 2928.52,-142.32 2985.87,-147.24 3213.49,-141 3979.3,-119.99 4912.84,-108.96 5123.23,-106.52\"/>\n",
       "<polygon fill=\"black\" stroke=\"black\" points=\"5123.31,-110.02 5133.27,-106.41 5123.23,-103.02 5123.31,-110.02\"/>\n",
       "</g>\n",
       "<!-- 840 -->\n",
       "<g id=\"node26\" class=\"node\">\n",
       "<title>840</title>\n",
       "<ellipse fill=\"none\" stroke=\"black\" cx=\"5261.49\" cy=\"-178\" rx=\"28.7\" ry=\"18\"/>\n",
       "<text text-anchor=\"middle\" x=\"5261.49\" y=\"-174.3\" font-family=\"Times,serif\" font-size=\"14.00\">840</text>\n",
       "</g>\n",
       "<!-- 840&#45;&gt;close -->\n",
       "<g id=\"edge61\" class=\"edge\">\n",
       "<title>840&#45;&gt;close</title>\n",
       "<path fill=\"none\" stroke=\"black\" d=\"M5233.35,-174.79C5201.22,-170.98 5155.48,-163.28 5116.49,-160 4687.16,-123.85 3291.31,-109.15 3023.01,-106.46\"/>\n",
       "<polygon fill=\"black\" stroke=\"black\" points=\"3022.9,-102.96 3012.87,-106.36 3022.83,-109.96 3022.9,-102.96\"/>\n",
       "</g>\n",
       "<!-- 840&#45;&gt;close -->\n",
       "<g id=\"edge181\" class=\"edge\">\n",
       "<title>840&#45;&gt;close</title>\n",
       "<path fill=\"none\" stroke=\"black\" d=\"M5233.67,-173.17C5207.71,-169.1 5168.53,-162.87 5134.49,-160 4702.62,-123.63 3292.75,-108.97 3023.22,-106.42\"/>\n",
       "<polygon fill=\"black\" stroke=\"black\" points=\"3023.06,-102.92 3013.03,-106.32 3023,-109.91 3023.06,-102.92\"/>\n",
       "</g>\n",
       "<!-- 840&#45;&gt;close -->\n",
       "<g id=\"edge309\" class=\"edge\">\n",
       "<title>840&#45;&gt;close</title>\n",
       "<path fill=\"none\" stroke=\"black\" d=\"M5235.13,-171.02C5213.02,-167.15 5180.96,-162.4 5152.49,-160 4718.07,-123.42 3294.12,-108.8 3023.2,-106.37\"/>\n",
       "<polygon fill=\"black\" stroke=\"black\" points=\"3022.99,-102.87 3012.96,-106.28 3022.93,-109.87 3022.99,-102.87\"/>\n",
       "</g>\n",
       "<!-- 840&#45;&gt;close -->\n",
       "<g id=\"edge437\" class=\"edge\">\n",
       "<title>840&#45;&gt;close</title>\n",
       "<path fill=\"none\" stroke=\"black\" d=\"M5236.87,-168.54C5217.93,-165.29 5193.08,-161.9 5170.49,-160 4733.76,-123.22 3296.94,-108.65 3023.38,-106.34\"/>\n",
       "<polygon fill=\"black\" stroke=\"black\" points=\"3023.07,-102.83 3013.04,-106.25 3023.01,-109.83 3023.07,-102.83\"/>\n",
       "</g>\n",
       "<!-- 840&#45;&gt;open -->\n",
       "<g id=\"edge63\" class=\"edge\">\n",
       "<title>840&#45;&gt;open</title>\n",
       "<path fill=\"none\" stroke=\"black\" d=\"M5241.22,-164.91C5238.42,-157.36 5238.37,-147.81 5233.49,-141 5226.13,-130.71 5215.38,-123.44 5204.37,-118.31\"/>\n",
       "<polygon fill=\"black\" stroke=\"black\" points=\"5205.7,-115.07 5195.12,-114.48 5203.02,-121.54 5205.7,-115.07\"/>\n",
       "</g>\n",
       "<!-- 840&#45;&gt;open -->\n",
       "<g id=\"edge183\" class=\"edge\">\n",
       "<title>840&#45;&gt;open</title>\n",
       "<path fill=\"none\" stroke=\"black\" d=\"M5256.48,-159.96C5256.19,-153.49 5255.35,-146.39 5251.49,-141 5241.17,-126.57 5224.18,-118.09 5208.03,-113.1\"/>\n",
       "<polygon fill=\"black\" stroke=\"black\" points=\"5208.72,-109.66 5198.15,-110.42 5206.89,-116.41 5208.72,-109.66\"/>\n",
       "</g>\n",
       "<!-- 840&#45;&gt;open -->\n",
       "<g id=\"edge311\" class=\"edge\">\n",
       "<title>840&#45;&gt;open</title>\n",
       "<path fill=\"none\" stroke=\"black\" d=\"M5272.95,-161.41C5274.29,-154.57 5273.64,-146.8 5269.49,-141 5256.11,-122.29 5231.51,-113.57 5209.6,-109.51\"/>\n",
       "<polygon fill=\"black\" stroke=\"black\" points=\"5209.87,-106.01 5199.45,-107.92 5208.78,-112.93 5209.87,-106.01\"/>\n",
       "</g>\n",
       "<!-- 840&#45;&gt;open -->\n",
       "<g id=\"edge439\" class=\"edge\">\n",
       "<title>840&#45;&gt;open</title>\n",
       "<path fill=\"none\" stroke=\"black\" d=\"M5285.22,-167.83C5292.34,-159.97 5293.02,-148.73 5287.49,-141 5271.27,-118.32 5238.57,-110.32 5209.74,-107.51\"/>\n",
       "<polygon fill=\"black\" stroke=\"black\" points=\"5209.98,-104.02 5199.74,-106.71 5209.43,-110.99 5209.98,-104.02\"/>\n",
       "</g>\n",
       "<!-- 880 -->\n",
       "<g id=\"node27\" class=\"node\">\n",
       "<title>880</title>\n",
       "<ellipse fill=\"none\" stroke=\"black\" cx=\"2978.49\" cy=\"-178\" rx=\"28.7\" ry=\"18\"/>\n",
       "<text text-anchor=\"middle\" x=\"2978.49\" y=\"-174.3\" font-family=\"Times,serif\" font-size=\"14.00\">880</text>\n",
       "</g>\n",
       "<!-- 880&#45;&gt;close -->\n",
       "<g id=\"edge65\" class=\"edge\">\n",
       "<title>880&#45;&gt;close</title>\n",
       "<path fill=\"none\" stroke=\"black\" d=\"M2961.98,-162.97C2958.3,-153.78 2957.34,-141.52 2959.1,-130.73\"/>\n",
       "<polygon fill=\"black\" stroke=\"black\" points=\"2962.5,-131.54 2961.62,-120.98 2955.73,-129.79 2962.5,-131.54\"/>\n",
       "</g>\n",
       "<!-- 880&#45;&gt;close -->\n",
       "<g id=\"edge185\" class=\"edge\">\n",
       "<title>880&#45;&gt;close</title>\n",
       "<path fill=\"none\" stroke=\"black\" d=\"M2972.65,-160.17C2971.79,-152.16 2971.54,-142.36 2971.91,-133.32\"/>\n",
       "<polygon fill=\"black\" stroke=\"black\" points=\"2975.41,-133.42 2972.62,-123.2 2968.43,-132.93 2975.41,-133.42\"/>\n",
       "</g>\n",
       "<!-- 880&#45;&gt;close -->\n",
       "<g id=\"edge313\" class=\"edge\">\n",
       "<title>880&#45;&gt;close</title>\n",
       "<path fill=\"none\" stroke=\"black\" d=\"M2984.33,-160.17C2985.2,-152.16 2985.45,-142.36 2985.08,-133.32\"/>\n",
       "<polygon fill=\"black\" stroke=\"black\" points=\"2988.56,-132.93 2984.37,-123.2 2981.58,-133.42 2988.56,-132.93\"/>\n",
       "</g>\n",
       "<!-- 880&#45;&gt;close -->\n",
       "<g id=\"edge441\" class=\"edge\">\n",
       "<title>880&#45;&gt;close</title>\n",
       "<path fill=\"none\" stroke=\"black\" d=\"M2995.01,-162.97C2998.69,-153.78 2999.65,-141.52 2997.89,-130.73\"/>\n",
       "<polygon fill=\"black\" stroke=\"black\" points=\"3001.26,-129.79 2995.37,-120.98 2994.49,-131.54 3001.26,-129.79\"/>\n",
       "</g>\n",
       "<!-- 880&#45;&gt;open -->\n",
       "<g id=\"edge187\" class=\"edge\">\n",
       "<title>880&#45;&gt;open</title>\n",
       "<path fill=\"none\" stroke=\"black\" d=\"M3003.52,-168.75C3020.46,-165.43 3042.48,-161.93 3062.49,-160 3372.28,-130.12 3451.38,-149.15 3762.49,-141 4298.09,-126.97 4950.13,-110.88 5123.03,-106.92\"/>\n",
       "<polygon fill=\"black\" stroke=\"black\" points=\"5123.34,-110.41 5133.26,-106.68 5123.18,-103.41 5123.34,-110.41\"/>\n",
       "</g>\n",
       "<!-- 880&#45;&gt;open -->\n",
       "<g id=\"edge315\" class=\"edge\">\n",
       "<title>880&#45;&gt;open</title>\n",
       "<path fill=\"none\" stroke=\"black\" d=\"M3005.21,-171.51C3025.71,-167.55 3054.76,-162.48 3080.49,-160 3390.28,-130.12 3469.38,-149.15 3780.49,-141 4309.9,-127.13 4953.08,-111.25 5123.43,-107.06\"/>\n",
       "<polygon fill=\"black\" stroke=\"black\" points=\"5123.59,-110.56 5133.5,-106.81 5123.41,-103.56 5123.59,-110.56\"/>\n",
       "</g>\n",
       "<!-- 880&#45;&gt;open -->\n",
       "<g id=\"edge443\" class=\"edge\">\n",
       "<title>880&#45;&gt;open</title>\n",
       "<path fill=\"none\" stroke=\"black\" d=\"M3006.4,-173.74C3031.87,-169.7 3067.58,-162.98 3098.49,-160 3408.28,-130.12 3487.38,-149.15 3798.49,-141 4320.83,-127.32 4953.92,-111.67 5123.37,-107.23\"/>\n",
       "<polygon fill=\"black\" stroke=\"black\" points=\"5123.5,-110.73 5133.4,-106.97 5123.31,-103.73 5123.5,-110.73\"/>\n",
       "</g>\n",
       "<!-- 920 -->\n",
       "<g id=\"node28\" class=\"node\">\n",
       "<title>920</title>\n",
       "<ellipse fill=\"none\" stroke=\"black\" cx=\"3596.49\" cy=\"-178\" rx=\"28.7\" ry=\"18\"/>\n",
       "<text text-anchor=\"middle\" x=\"3596.49\" y=\"-174.3\" font-family=\"Times,serif\" font-size=\"14.00\">920</text>\n",
       "</g>\n",
       "<!-- 920&#45;&gt;close -->\n",
       "<g id=\"edge67\" class=\"edge\">\n",
       "<title>920&#45;&gt;close</title>\n",
       "<path fill=\"none\" stroke=\"black\" d=\"M3568.15,-175.43C3531.63,-172.39 3475.09,-165.55 3427.49,-160 3277.87,-142.56 3101.7,-122.77 3021.01,-112.68\"/>\n",
       "<polygon fill=\"black\" stroke=\"black\" points=\"3021.08,-109.16 3010.72,-111.38 3020.21,-116.11 3021.08,-109.16\"/>\n",
       "</g>\n",
       "<!-- 920&#45;&gt;close -->\n",
       "<g id=\"edge189\" class=\"edge\">\n",
       "<title>920&#45;&gt;close</title>\n",
       "<path fill=\"none\" stroke=\"black\" d=\"M3568.36,-174.34C3537.72,-170.95 3488.04,-164.96 3445.49,-160 3289.23,-141.78 3104.01,-121 3021.57,-111.4\"/>\n",
       "<polygon fill=\"black\" stroke=\"black\" points=\"3021.91,-107.91 3011.57,-110.23 3021.09,-114.86 3021.91,-107.91\"/>\n",
       "</g>\n",
       "<!-- 920&#45;&gt;close -->\n",
       "<g id=\"edge317\" class=\"edge\">\n",
       "<title>920&#45;&gt;close</title>\n",
       "<path fill=\"none\" stroke=\"black\" d=\"M3569.02,-172.78C3542.03,-169.31 3500.12,-164.27 3463.49,-160 3301.12,-141.07 3107.49,-119.38 3022.24,-110.32\"/>\n",
       "<polygon fill=\"black\" stroke=\"black\" points=\"3022.46,-106.83 3012.15,-109.26 3021.72,-113.79 3022.46,-106.83\"/>\n",
       "</g>\n",
       "<!-- 920&#45;&gt;close -->\n",
       "<g id=\"edge445\" class=\"edge\">\n",
       "<title>920&#45;&gt;close</title>\n",
       "<path fill=\"none\" stroke=\"black\" d=\"M3570.2,-170.91C3546.07,-167.63 3511.95,-163.55 3481.49,-160 3313.43,-140.41 3111.87,-117.85 3022.64,-109.42\"/>\n",
       "<polygon fill=\"black\" stroke=\"black\" points=\"3022.86,-105.92 3012.58,-108.48 3022.21,-112.89 3022.86,-105.92\"/>\n",
       "</g>\n",
       "<!-- 920&#45;&gt;open -->\n",
       "<g id=\"edge69\" class=\"edge\">\n",
       "<title>920&#45;&gt;open</title>\n",
       "<path fill=\"none\" stroke=\"black\" d=\"M3621.2,-168.88C3640.59,-165.63 3666.24,-162.15 3689.49,-160 3882.63,-142.15 3931.68,-148.57 4125.49,-141 4511,-125.95 4979.07,-111.03 5123.17,-107.04\"/>\n",
       "<polygon fill=\"black\" stroke=\"black\" points=\"5123.47,-110.53 5133.37,-106.76 5123.28,-103.53 5123.47,-110.53\"/>\n",
       "</g>\n",
       "<!-- 920&#45;&gt;open -->\n",
       "<g id=\"edge191\" class=\"edge\">\n",
       "<title>920&#45;&gt;open</title>\n",
       "<path fill=\"none\" stroke=\"black\" d=\"M3623.46,-171.2C3645.97,-167.4 3678.58,-162.67 3707.49,-160 3900.63,-142.15 3949.68,-148.57 4143.49,-141 4522.61,-126.2 4981.58,-111.53 5123.02,-107.25\"/>\n",
       "<polygon fill=\"black\" stroke=\"black\" points=\"5123.53,-110.73 5133.42,-106.93 5123.32,-103.73 5123.53,-110.73\"/>\n",
       "</g>\n",
       "<!-- 920&#45;&gt;open -->\n",
       "<g id=\"edge319\" class=\"edge\">\n",
       "<title>920&#45;&gt;open</title>\n",
       "<path fill=\"none\" stroke=\"black\" d=\"M3624.21,-173.37C3650.58,-169.41 3690.71,-163.21 3725.49,-160 3918.63,-142.15 3967.68,-148.57 4161.49,-141 4533.74,-126.46 4982.99,-112.06 5122.88,-107.49\"/>\n",
       "<polygon fill=\"black\" stroke=\"black\" points=\"5123.3,-110.98 5133.18,-107.15 5123.07,-103.98 5123.3,-110.98\"/>\n",
       "</g>\n",
       "<!-- 920&#45;&gt;open -->\n",
       "<g id=\"edge447\" class=\"edge\">\n",
       "<title>920&#45;&gt;open</title>\n",
       "<path fill=\"none\" stroke=\"black\" d=\"M3624.85,-174.87C3657.36,-171.18 3703.9,-163.66 3743.49,-160 3936.63,-142.15 3985.68,-148.57 4179.49,-141 4544.88,-126.73 4984.45,-112.59 5123.23,-107.75\"/>\n",
       "<polygon fill=\"black\" stroke=\"black\" points=\"5123.59,-111.24 5133.46,-107.39 5123.34,-104.24 5123.59,-111.24\"/>\n",
       "</g>\n",
       "<!-- 960 -->\n",
       "<g id=\"node29\" class=\"node\">\n",
       "<title>960</title>\n",
       "<ellipse fill=\"none\" stroke=\"black\" cx=\"4192.49\" cy=\"-178\" rx=\"28.7\" ry=\"18\"/>\n",
       "<text text-anchor=\"middle\" x=\"4192.49\" y=\"-174.3\" font-family=\"Times,serif\" font-size=\"14.00\">960</text>\n",
       "</g>\n",
       "<!-- 960&#45;&gt;close -->\n",
       "<g id=\"edge71\" class=\"edge\">\n",
       "<title>960&#45;&gt;close</title>\n",
       "<path fill=\"none\" stroke=\"black\" d=\"M4164.17,-175.19C4127.7,-171.76 4071.23,-164.25 4023.49,-160 3636.44,-125.51 3168.65,-111.38 3023.07,-107.32\"/>\n",
       "<polygon fill=\"black\" stroke=\"black\" points=\"3022.84,-103.82 3012.75,-107.04 3022.65,-110.81 3022.84,-103.82\"/>\n",
       "</g>\n",
       "<!-- 960&#45;&gt;close -->\n",
       "<g id=\"edge193\" class=\"edge\">\n",
       "<title>960&#45;&gt;close</title>\n",
       "<path fill=\"none\" stroke=\"black\" d=\"M4164.4,-173.97C4133.8,-170.2 4084.16,-163.8 4041.49,-160 3647.65,-124.91 3170.21,-110.89 3023.46,-107.12\"/>\n",
       "<polygon fill=\"black\" stroke=\"black\" points=\"3023.15,-103.61 3013.07,-106.86 3022.97,-110.61 3023.15,-103.61\"/>\n",
       "</g>\n",
       "<!-- 960&#45;&gt;close -->\n",
       "<g id=\"edge321\" class=\"edge\">\n",
       "<title>960&#45;&gt;close</title>\n",
       "<path fill=\"none\" stroke=\"black\" d=\"M4165.35,-172.29C4138.4,-168.5 4096.34,-163.28 4059.49,-160 3658.45,-124.27 3170.74,-110.39 3022.93,-106.92\"/>\n",
       "<polygon fill=\"black\" stroke=\"black\" points=\"3022.96,-103.42 3012.88,-106.69 3022.8,-110.42 3022.96,-103.42\"/>\n",
       "</g>\n",
       "<!-- 960&#45;&gt;close -->\n",
       "<g id=\"edge449\" class=\"edge\">\n",
       "<title>960&#45;&gt;close</title>\n",
       "<path fill=\"none\" stroke=\"black\" d=\"M4166.56,-170.28C4142.44,-166.81 4108.16,-162.73 4077.49,-160 3670.56,-123.74 3174.4,-109.98 3023.33,-106.78\"/>\n",
       "<polygon fill=\"black\" stroke=\"black\" points=\"3023.13,-103.27 3013.06,-106.57 3022.98,-110.27 3023.13,-103.27\"/>\n",
       "</g>\n",
       "<!-- 960&#45;&gt;open -->\n",
       "<g id=\"edge73\" class=\"edge\">\n",
       "<title>960&#45;&gt;open</title>\n",
       "<path fill=\"none\" stroke=\"black\" d=\"M4213.77,-165.67C4223.71,-163.48 4234.94,-161.43 4245.49,-160 4579.66,-114.66 4989.26,-107.39 5123.07,-106.22\"/>\n",
       "<polygon fill=\"black\" stroke=\"black\" points=\"5123.35,-109.72 5133.32,-106.14 5123.3,-102.72 5123.35,-109.72\"/>\n",
       "</g>\n",
       "<!-- 960&#45;&gt;open -->\n",
       "<g id=\"edge195\" class=\"edge\">\n",
       "<title>960&#45;&gt;open</title>\n",
       "<path fill=\"none\" stroke=\"black\" d=\"M4217.49,-168.77C4231.07,-165.53 4248.02,-162.1 4263.49,-160 4591.66,-115.47 4992.57,-107.66 5123.23,-106.29\"/>\n",
       "<polygon fill=\"black\" stroke=\"black\" points=\"5123.28,-109.79 5133.24,-106.19 5123.21,-102.79 5123.28,-109.79\"/>\n",
       "</g>\n",
       "<!-- 960&#45;&gt;open -->\n",
       "<g id=\"edge323\" class=\"edge\">\n",
       "<title>960&#45;&gt;open</title>\n",
       "<path fill=\"none\" stroke=\"black\" d=\"M4219.7,-171.9C4237.5,-168 4260.81,-162.81 4281.49,-160 4602.96,-116.38 4994.24,-107.99 5123.15,-106.38\"/>\n",
       "<polygon fill=\"black\" stroke=\"black\" points=\"5123.43,-109.88 5133.39,-106.26 5123.35,-102.88 5123.43,-109.88\"/>\n",
       "</g>\n",
       "<!-- 960&#45;&gt;open -->\n",
       "<g id=\"edge451\" class=\"edge\">\n",
       "<title>960&#45;&gt;open</title>\n",
       "<path fill=\"none\" stroke=\"black\" d=\"M4220.79,-174.24C4245.23,-170.37 4274.31,-163.42 4299.49,-160 4613.84,-117.35 4994.94,-108.38 5123.09,-106.5\"/>\n",
       "<polygon fill=\"black\" stroke=\"black\" points=\"5123.34,-110 5133.29,-106.36 5123.25,-103 5123.34,-110\"/>\n",
       "</g>\n",
       "<!-- 1000 -->\n",
       "<g id=\"node30\" class=\"node\">\n",
       "<title>1000</title>\n",
       "<ellipse fill=\"none\" stroke=\"black\" cx=\"4608.49\" cy=\"-178\" rx=\"34.39\" ry=\"18\"/>\n",
       "<text text-anchor=\"middle\" x=\"4608.49\" y=\"-174.3\" font-family=\"Times,serif\" font-size=\"14.00\">1000</text>\n",
       "</g>\n",
       "<!-- 1000&#45;&gt;close -->\n",
       "<g id=\"edge75\" class=\"edge\">\n",
       "<title>1000&#45;&gt;close</title>\n",
       "<path fill=\"none\" stroke=\"black\" d=\"M4575.06,-173.37C4551.51,-169.35 4524.3,-163.04 4500.49,-160 4324.4,-137.47 4278.89,-147.92 4101.49,-141 3681.94,-124.63 3176.03,-111.54 3023.4,-107.39\"/>\n",
       "<polygon fill=\"black\" stroke=\"black\" points=\"3023.12,-103.88 3013.03,-107.1 3022.93,-110.88 3023.12,-103.88\"/>\n",
       "</g>\n",
       "<!-- 1000&#45;&gt;close -->\n",
       "<g id=\"edge197\" class=\"edge\">\n",
       "<title>1000&#45;&gt;close</title>\n",
       "<path fill=\"none\" stroke=\"black\" d=\"M4576.53,-170.85C4559.21,-167.05 4537.74,-162.46 4518.49,-160 4342.4,-137.47 4296.89,-147.92 4119.49,-141 3692.63,-124.34 3176.37,-111.09 3023.25,-107.18\"/>\n",
       "<polygon fill=\"black\" stroke=\"black\" points=\"3022.95,-103.67 3012.86,-106.91 3022.77,-110.67 3022.95,-103.67\"/>\n",
       "</g>\n",
       "<!-- 1000&#45;&gt;close -->\n",
       "<g id=\"edge325\" class=\"edge\">\n",
       "<title>1000&#45;&gt;close</title>\n",
       "<path fill=\"none\" stroke=\"black\" d=\"M4579.65,-167.88C4566.53,-164.88 4550.89,-161.84 4536.49,-160 4360.4,-137.47 4314.89,-147.92 4137.49,-141 3703.86,-124.08 3177.98,-110.67 3023.24,-107\"/>\n",
       "<polygon fill=\"black\" stroke=\"black\" points=\"3023.25,-103.5 3013.17,-106.76 3023.08,-110.5 3023.25,-103.5\"/>\n",
       "</g>\n",
       "<!-- 1000&#45;&gt;close -->\n",
       "<g id=\"edge453\" class=\"edge\">\n",
       "<title>1000&#45;&gt;close</title>\n",
       "<path fill=\"none\" stroke=\"black\" d=\"M4584.19,-165.05C4574.75,-163.07 4564.33,-161.26 4554.49,-160 4378.4,-137.47 4332.89,-147.92 4155.49,-141 3715.52,-123.83 3180.58,-110.28 3023.2,-106.84\"/>\n",
       "<polygon fill=\"black\" stroke=\"black\" points=\"3023.03,-103.34 3012.96,-106.62 3022.88,-110.34 3023.03,-103.34\"/>\n",
       "</g>\n",
       "<!-- 1000&#45;&gt;open -->\n",
       "<g id=\"edge199\" class=\"edge\">\n",
       "<title>1000&#45;&gt;open</title>\n",
       "<path fill=\"none\" stroke=\"black\" d=\"M4641.22,-171.89C4737.44,-158.6 5016.72,-123.08 5124.14,-110.5\"/>\n",
       "<polygon fill=\"black\" stroke=\"black\" points=\"5124.76,-113.95 5134.29,-109.32 5123.95,-107 5124.76,-113.95\"/>\n",
       "</g>\n",
       "<!-- 1000&#45;&gt;open -->\n",
       "<g id=\"edge327\" class=\"edge\">\n",
       "<title>1000&#45;&gt;open</title>\n",
       "<path fill=\"none\" stroke=\"black\" d=\"M4641.73,-172.77C4738.12,-160.51 5017.68,-124.94 5124.41,-111.36\"/>\n",
       "<polygon fill=\"black\" stroke=\"black\" points=\"5125,-114.81 5134.48,-110.07 5124.12,-107.86 5125,-114.81\"/>\n",
       "</g>\n",
       "<!-- 1000&#45;&gt;open -->\n",
       "<g id=\"edge455\" class=\"edge\">\n",
       "<title>1000&#45;&gt;open</title>\n",
       "<path fill=\"none\" stroke=\"black\" d=\"M4642.04,-173.53C4739.35,-162.29 5018.77,-126.82 5125.13,-112.29\"/>\n",
       "<polygon fill=\"black\" stroke=\"black\" points=\"5125.74,-115.74 5135.17,-110.91 5124.79,-108.81 5125.74,-115.74\"/>\n",
       "</g>\n",
       "<!-- 1040 -->\n",
       "<g id=\"node31\" class=\"node\">\n",
       "<title>1040</title>\n",
       "<ellipse fill=\"none\" stroke=\"black\" cx=\"4947.49\" cy=\"-178\" rx=\"34.39\" ry=\"18\"/>\n",
       "<text text-anchor=\"middle\" x=\"4947.49\" y=\"-174.3\" font-family=\"Times,serif\" font-size=\"14.00\">1040</text>\n",
       "</g>\n",
       "<!-- 1040&#45;&gt;close -->\n",
       "<g id=\"edge77\" class=\"edge\">\n",
       "<title>1040&#45;&gt;close</title>\n",
       "<path fill=\"none\" stroke=\"black\" d=\"M4913.74,-174.19C4881.41,-170.27 4837.33,-163.26 4799.49,-160 4537.22,-137.43 4470.62,-148.89 4207.49,-141 3743.71,-127.1 3183.53,-112.13 3022.81,-107.47\"/>\n",
       "<polygon fill=\"black\" stroke=\"black\" points=\"3022.9,-103.97 3012.8,-107.18 3022.7,-110.97 3022.9,-103.97\"/>\n",
       "</g>\n",
       "<!-- 1040&#45;&gt;close -->\n",
       "<g id=\"edge201\" class=\"edge\">\n",
       "<title>1040&#45;&gt;close</title>\n",
       "<path fill=\"none\" stroke=\"black\" d=\"M4914.66,-172.54C4888.19,-168.53 4850.47,-162.84 4817.49,-160 4555.22,-137.43 4488.62,-148.89 4225.49,-141 3754.51,-126.88 3184.11,-111.67 3022.8,-107.26\"/>\n",
       "<polygon fill=\"black\" stroke=\"black\" points=\"3022.86,-103.76 3012.77,-106.99 3022.67,-110.76 3022.86,-103.76\"/>\n",
       "</g>\n",
       "<!-- 1040&#45;&gt;close -->\n",
       "<g id=\"edge329\" class=\"edge\">\n",
       "<title>1040&#45;&gt;close</title>\n",
       "<path fill=\"none\" stroke=\"black\" d=\"M4916.2,-170.42C4893.74,-166.71 4862.97,-162.36 4835.49,-160 4573.22,-137.43 4506.62,-148.89 4243.49,-141 3766.11,-126.69 3186.59,-111.26 3023.19,-107.09\"/>\n",
       "<polygon fill=\"black\" stroke=\"black\" points=\"3023.12,-103.59 3013.03,-106.83 3022.94,-110.58 3023.12,-103.59\"/>\n",
       "</g>\n",
       "<!-- 1040&#45;&gt;close -->\n",
       "<g id=\"edge457\" class=\"edge\">\n",
       "<title>1040&#45;&gt;close</title>\n",
       "<path fill=\"none\" stroke=\"black\" d=\"M4918.62,-168.14C4899.57,-165.05 4875.48,-161.89 4853.49,-160 4591.22,-137.43 4524.62,-148.89 4261.49,-141 3777.71,-126.5 3189.03,-110.84 3023.12,-106.93\"/>\n",
       "<polygon fill=\"black\" stroke=\"black\" points=\"3022.89,-103.42 3012.81,-106.69 3022.73,-110.42 3022.89,-103.42\"/>\n",
       "</g>\n",
       "<!-- 1040&#45;&gt;open -->\n",
       "<g id=\"edge79\" class=\"edge\">\n",
       "<title>1040&#45;&gt;open</title>\n",
       "<path fill=\"none\" stroke=\"black\" d=\"M4970.27,-164.47C5007.97,-150.15 5079.76,-127.1 5126,-114.65\"/>\n",
       "<polygon fill=\"black\" stroke=\"black\" points=\"5126.97,-118.02 5135.75,-112.09 5125.19,-111.25 5126.97,-118.02\"/>\n",
       "</g>\n",
       "<!-- 1040&#45;&gt;open -->\n",
       "<g id=\"edge203\" class=\"edge\">\n",
       "<title>1040&#45;&gt;open</title>\n",
       "<path fill=\"none\" stroke=\"black\" d=\"M4974.41,-166.68C5012.96,-153.4 5083.71,-130.45 5127.83,-116.91\"/>\n",
       "<polygon fill=\"black\" stroke=\"black\" points=\"5129.08,-120.18 5137.62,-113.92 5127.04,-113.49 5129.08,-120.18\"/>\n",
       "</g>\n",
       "<!-- 1040&#45;&gt;open -->\n",
       "<g id=\"edge331\" class=\"edge\">\n",
       "<title>1040&#45;&gt;open</title>\n",
       "<path fill=\"none\" stroke=\"black\" d=\"M4977.57,-168.72C5017.49,-156.63 5087.54,-134.01 5130.29,-119.5\"/>\n",
       "<polygon fill=\"black\" stroke=\"black\" points=\"5131.69,-122.72 5140.02,-116.17 5129.42,-116.1 5131.69,-122.72\"/>\n",
       "</g>\n",
       "<!-- 1040&#45;&gt;open -->\n",
       "<g id=\"edge459\" class=\"edge\">\n",
       "<title>1040&#45;&gt;open</title>\n",
       "<path fill=\"none\" stroke=\"black\" d=\"M4979.07,-170.7C5021.21,-159.86 5092.29,-137.37 5134.45,-121.98\"/>\n",
       "<polygon fill=\"black\" stroke=\"black\" points=\"5135.85,-125.19 5144,-118.42 5133.41,-118.63 5135.85,-125.19\"/>\n",
       "</g>\n",
       "<!-- 1080 -->\n",
       "<g id=\"node32\" class=\"node\">\n",
       "<title>1080</title>\n",
       "<ellipse fill=\"none\" stroke=\"black\" cx=\"5380.49\" cy=\"-178\" rx=\"34.39\" ry=\"18\"/>\n",
       "<text text-anchor=\"middle\" x=\"5380.49\" y=\"-174.3\" font-family=\"Times,serif\" font-size=\"14.00\">1080</text>\n",
       "</g>\n",
       "<!-- 1080&#45;&gt;close -->\n",
       "<g id=\"edge81\" class=\"edge\">\n",
       "<title>1080&#45;&gt;close</title>\n",
       "<path fill=\"none\" stroke=\"black\" d=\"M5347.06,-173.35C5323.52,-169.31 5296.3,-162.98 5272.49,-160 5074.31,-135.18 5023.14,-147.09 4823.49,-141 4104.55,-119.07 3229.84,-108.9 3023.23,-106.55\"/>\n",
       "<polygon fill=\"black\" stroke=\"black\" points=\"3023.1,-103.05 3013.06,-106.43 3023.02,-110.04 3023.1,-103.05\"/>\n",
       "</g>\n",
       "<!-- 1080&#45;&gt;close -->\n",
       "<g id=\"edge205\" class=\"edge\">\n",
       "<title>1080&#45;&gt;close</title>\n",
       "<path fill=\"none\" stroke=\"black\" d=\"M5348.53,-170.81C5331.22,-167.01 5309.74,-162.41 5290.49,-160 5092.31,-135.18 5041.14,-147.09 4841.49,-141 4115.37,-118.85 3230.34,-108.7 3023.26,-106.48\"/>\n",
       "<polygon fill=\"black\" stroke=\"black\" points=\"3023.11,-102.98 3013.07,-106.37 3023.04,-109.98 3023.11,-102.98\"/>\n",
       "</g>\n",
       "<!-- 1080&#45;&gt;close -->\n",
       "<g id=\"edge333\" class=\"edge\">\n",
       "<title>1080&#45;&gt;close</title>\n",
       "<path fill=\"none\" stroke=\"black\" d=\"M5351.65,-167.83C5338.54,-164.83 5322.89,-161.8 5308.49,-160 5110.31,-135.18 5059.14,-147.09 4859.49,-141 4126.58,-118.64 3231.79,-108.51 3023.31,-106.42\"/>\n",
       "<polygon fill=\"black\" stroke=\"black\" points=\"3023.1,-102.92 3013.07,-106.32 3023.03,-109.92 3023.1,-102.92\"/>\n",
       "</g>\n",
       "<!-- 1080&#45;&gt;close -->\n",
       "<g id=\"edge461\" class=\"edge\">\n",
       "<title>1080&#45;&gt;close</title>\n",
       "<path fill=\"none\" stroke=\"black\" d=\"M5356.19,-165.01C5346.75,-163.03 5336.33,-161.23 5326.49,-160 5128.31,-135.18 5077.14,-147.09 4877.49,-141 4137.83,-118.44 3233.28,-108.33 3023.07,-106.36\"/>\n",
       "<polygon fill=\"black\" stroke=\"black\" points=\"3023.05,-102.86 3013.02,-106.27 3022.98,-109.86 3023.05,-102.86\"/>\n",
       "</g>\n",
       "<!-- 1080&#45;&gt;open -->\n",
       "<g id=\"edge207\" class=\"edge\">\n",
       "<title>1080&#45;&gt;open</title>\n",
       "<path fill=\"none\" stroke=\"black\" d=\"M5394.55,-161.54C5401.59,-155.41 5406.7,-148.13 5400.49,-141 5375.61,-112.42 5270.89,-106.43 5209.94,-105.58\"/>\n",
       "<polygon fill=\"black\" stroke=\"black\" points=\"5209.86,-102.08 5199.83,-105.49 5209.79,-109.08 5209.86,-102.08\"/>\n",
       "</g>\n",
       "<!-- 1080&#45;&gt;open -->\n",
       "<g id=\"edge335\" class=\"edge\">\n",
       "<title>1080&#45;&gt;open</title>\n",
       "<path fill=\"none\" stroke=\"black\" d=\"M5405.49,-165.42C5416.78,-158.63 5426.07,-149.7 5418.49,-141 5391.98,-110.55 5274.81,-105.74 5210,-105.48\"/>\n",
       "<polygon fill=\"black\" stroke=\"black\" points=\"5209.68,-101.98 5199.68,-105.48 5209.68,-108.98 5209.68,-101.98\"/>\n",
       "</g>\n",
       "<!-- 1080&#45;&gt;open -->\n",
       "<g id=\"edge463\" class=\"edge\">\n",
       "<title>1080&#45;&gt;open</title>\n",
       "<path fill=\"none\" stroke=\"black\" d=\"M5411.2,-169.84C5429.45,-162.86 5445.86,-151.76 5436.49,-141 5408.49,-108.84 5279.37,-105.28 5209.87,-105.48\"/>\n",
       "<polygon fill=\"black\" stroke=\"black\" points=\"5209.65,-101.98 5199.67,-105.53 5209.68,-108.98 5209.65,-101.98\"/>\n",
       "</g>\n",
       "<!-- 1120 -->\n",
       "<g id=\"node33\" class=\"node\">\n",
       "<title>1120</title>\n",
       "<ellipse fill=\"none\" stroke=\"black\" cx=\"5555.49\" cy=\"-178\" rx=\"34.39\" ry=\"18\"/>\n",
       "<text text-anchor=\"middle\" x=\"5555.49\" y=\"-174.3\" font-family=\"Times,serif\" font-size=\"14.00\">1120</text>\n",
       "</g>\n",
       "<!-- 1120&#45;&gt;close -->\n",
       "<g id=\"edge83\" class=\"edge\">\n",
       "<title>1120&#45;&gt;close</title>\n",
       "<path fill=\"none\" stroke=\"black\" d=\"M5521.7,-174.4C5487.17,-170.56 5438.29,-163.46 5396.49,-160 5168.67,-141.16 5111.01,-147.29 4882.49,-141 4138.41,-120.51 3232.69,-109.24 3022.86,-106.6\"/>\n",
       "<polygon fill=\"black\" stroke=\"black\" points=\"3022.87,-103.1 3012.83,-106.48 3022.78,-110.1 3022.87,-103.1\"/>\n",
       "</g>\n",
       "<!-- 1120&#45;&gt;close -->\n",
       "<g id=\"edge209\" class=\"edge\">\n",
       "<title>1120&#45;&gt;close</title>\n",
       "<path fill=\"none\" stroke=\"black\" d=\"M5522.2,-172.87C5493.43,-168.89 5451.22,-163.04 5414.49,-160 5186.67,-141.16 5129.01,-147.29 4900.49,-141 4149.4,-120.31 3233.63,-109.02 3023.04,-106.53\"/>\n",
       "<polygon fill=\"black\" stroke=\"black\" points=\"3023.03,-103.03 3012.99,-106.41 3022.94,-110.03 3023.03,-103.03\"/>\n",
       "</g>\n",
       "<!-- 1120&#45;&gt;close -->\n",
       "<g id=\"edge337\" class=\"edge\">\n",
       "<title>1120&#45;&gt;close</title>\n",
       "<path fill=\"none\" stroke=\"black\" d=\"M5523.69,-170.96C5498.85,-167.19 5463.7,-162.58 5432.49,-160 5204.67,-141.16 5147.01,-147.29 4918.49,-141 4160.81,-120.13 3235.54,-108.83 3023.27,-106.47\"/>\n",
       "<polygon fill=\"black\" stroke=\"black\" points=\"3023.17,-102.97 3013.13,-106.36 3023.09,-109.97 3023.17,-102.97\"/>\n",
       "</g>\n",
       "<!-- 1120&#45;&gt;close -->\n",
       "<g id=\"edge465\" class=\"edge\">\n",
       "<title>1120&#45;&gt;close</title>\n",
       "<path fill=\"none\" stroke=\"black\" d=\"M5525.82,-168.85C5504.27,-165.59 5476.06,-162.11 5450.49,-160 5222.67,-141.16 5165.01,-147.29 4936.49,-141 4172.22,-119.95 3237.42,-108.63 3023.17,-106.41\"/>\n",
       "<polygon fill=\"black\" stroke=\"black\" points=\"3022.98,-102.91 3012.94,-106.3 3022.9,-109.91 3022.98,-102.91\"/>\n",
       "</g>\n",
       "<!-- 1120&#45;&gt;open -->\n",
       "<g id=\"edge85\" class=\"edge\">\n",
       "<title>1120&#45;&gt;open</title>\n",
       "<path fill=\"none\" stroke=\"black\" d=\"M5537.27,-162.38C5536.22,-155.09 5536.66,-146.65 5531.49,-141 5509.51,-116.97 5302.86,-109.32 5209.94,-106.98\"/>\n",
       "<polygon fill=\"black\" stroke=\"black\" points=\"5209.8,-103.48 5199.72,-106.73 5209.63,-110.47 5209.8,-103.48\"/>\n",
       "</g>\n",
       "<!-- 1120&#45;&gt;open -->\n",
       "<g id=\"edge211\" class=\"edge\">\n",
       "<title>1120&#45;&gt;open</title>\n",
       "<path fill=\"none\" stroke=\"black\" d=\"M5553.6,-159.83C5554.25,-153.19 5554.07,-146 5549.49,-141 5526.71,-116.1 5305.57,-108.78 5209.98,-106.75\"/>\n",
       "<polygon fill=\"black\" stroke=\"black\" points=\"5209.85,-103.24 5199.78,-106.54 5209.7,-110.24 5209.85,-103.24\"/>\n",
       "</g>\n",
       "<!-- 1120&#45;&gt;open -->\n",
       "<g id=\"edge339\" class=\"edge\">\n",
       "<title>1120&#45;&gt;open</title>\n",
       "<path fill=\"none\" stroke=\"black\" d=\"M5569.77,-161.29C5572.25,-154.26 5572.4,-146.37 5567.49,-141 5543.97,-115.28 5308.87,-108.32 5209.89,-106.56\"/>\n",
       "<polygon fill=\"black\" stroke=\"black\" points=\"5209.68,-103.06 5199.63,-106.39 5209.57,-110.06 5209.68,-103.06\"/>\n",
       "</g>\n",
       "<!-- 1120&#45;&gt;open -->\n",
       "<g id=\"edge467\" class=\"edge\">\n",
       "<title>1120&#45;&gt;open</title>\n",
       "<path fill=\"none\" stroke=\"black\" d=\"M5582.1,-166.51C5589.83,-158.52 5591.67,-147.76 5585.49,-141 5561.31,-114.56 5313.5,-107.95 5209.97,-106.42\"/>\n",
       "<polygon fill=\"black\" stroke=\"black\" points=\"5209.88,-102.92 5199.83,-106.29 5209.78,-109.92 5209.88,-102.92\"/>\n",
       "</g>\n",
       "<!-- 1160 -->\n",
       "<g id=\"node34\" class=\"node\">\n",
       "<title>1160</title>\n",
       "<ellipse fill=\"none\" stroke=\"black\" cx=\"5713.49\" cy=\"-178\" rx=\"34.39\" ry=\"18\"/>\n",
       "<text text-anchor=\"middle\" x=\"5713.49\" y=\"-174.3\" font-family=\"Times,serif\" font-size=\"14.00\">1160</text>\n",
       "</g>\n",
       "<!-- 1160&#45;&gt;close -->\n",
       "<g id=\"edge87\" class=\"edge\">\n",
       "<title>1160&#45;&gt;close</title>\n",
       "<path fill=\"none\" stroke=\"black\" d=\"M5679.75,-174.08C5648.66,-170.11 5607.18,-163.16 5571.49,-160 5290.69,-135.12 5219.32,-147.71 4937.49,-141 4170.88,-122.76 3237.59,-109.8 3023.31,-106.71\"/>\n",
       "<polygon fill=\"black\" stroke=\"black\" points=\"3023.13,-103.21 3013.08,-106.56 3023.03,-110.21 3023.13,-103.21\"/>\n",
       "</g>\n",
       "<!-- 1160&#45;&gt;close -->\n",
       "<g id=\"edge213\" class=\"edge\">\n",
       "<title>1160&#45;&gt;close</title>\n",
       "<path fill=\"none\" stroke=\"black\" d=\"M5680.49,-172.28C5655.32,-168.27 5620.25,-162.72 5589.49,-160 5308.69,-135.12 5237.32,-147.71 4955.49,-141 4181.67,-122.59 3238.03,-109.56 3023.33,-106.62\"/>\n",
       "<polygon fill=\"black\" stroke=\"black\" points=\"3023.13,-103.12 3013.08,-106.48 3023.04,-110.12 3023.13,-103.12\"/>\n",
       "</g>\n",
       "<!-- 1160&#45;&gt;close -->\n",
       "<g id=\"edge341\" class=\"edge\">\n",
       "<title>1160&#45;&gt;close</title>\n",
       "<path fill=\"none\" stroke=\"black\" d=\"M5682.42,-170.08C5661.3,-166.43 5632.93,-162.25 5607.49,-160 5326.69,-135.12 5255.32,-147.71 4973.49,-141 4192.89,-122.43 3239.48,-109.33 3023.4,-106.55\"/>\n",
       "<polygon fill=\"black\" stroke=\"black\" points=\"3023.14,-103.05 3013.09,-106.42 3023.05,-110.05 3023.14,-103.05\"/>\n",
       "</g>\n",
       "<!-- 1160&#45;&gt;close -->\n",
       "<g id=\"edge469\" class=\"edge\">\n",
       "<title>1160&#45;&gt;close</title>\n",
       "<path fill=\"none\" stroke=\"black\" d=\"M5684.95,-167.69C5667.32,-164.73 5645.5,-161.77 5625.49,-160 5344.69,-135.12 5273.32,-147.71 4991.49,-141 4204.14,-122.26 3240.99,-109.1 3023.18,-106.48\"/>\n",
       "<polygon fill=\"black\" stroke=\"black\" points=\"3023.13,-102.98 3013.08,-106.36 3023.04,-109.98 3023.13,-102.98\"/>\n",
       "</g>\n",
       "<!-- 1160&#45;&gt;open -->\n",
       "<g id=\"edge89\" class=\"edge\">\n",
       "<title>1160&#45;&gt;open</title>\n",
       "<path fill=\"none\" stroke=\"black\" d=\"M5695.38,-162.68C5694.28,-155.29 5694.82,-146.67 5689.49,-141 5656.33,-105.66 5331.07,-104.34 5210.3,-105.32\"/>\n",
       "<polygon fill=\"black\" stroke=\"black\" points=\"5209.9,-101.82 5199.94,-105.42 5209.97,-108.82 5209.9,-101.82\"/>\n",
       "</g>\n",
       "<!-- 1160&#45;&gt;open -->\n",
       "<g id=\"edge215\" class=\"edge\">\n",
       "<title>1160&#45;&gt;open</title>\n",
       "<path fill=\"none\" stroke=\"black\" d=\"M5711.67,-159.77C5712.32,-153.12 5712.13,-145.94 5707.49,-141 5673.5,-104.77 5332.64,-104.29 5210.02,-105.4\"/>\n",
       "<polygon fill=\"black\" stroke=\"black\" points=\"5209.84,-101.9 5199.87,-105.5 5209.91,-108.9 5209.84,-101.9\"/>\n",
       "</g>\n",
       "<!-- 1160&#45;&gt;open -->\n",
       "<g id=\"edge343\" class=\"edge\">\n",
       "<title>1160&#45;&gt;open</title>\n",
       "<path fill=\"none\" stroke=\"black\" d=\"M5727.7,-161.6C5730.32,-154.47 5730.56,-146.4 5725.49,-141 5690.75,-103.97 5335.44,-104.29 5209.96,-105.47\"/>\n",
       "<polygon fill=\"black\" stroke=\"black\" points=\"5209.9,-101.97 5199.94,-105.58 5209.97,-108.97 5209.9,-101.97\"/>\n",
       "</g>\n",
       "<!-- 1160&#45;&gt;open -->\n",
       "<g id=\"edge471\" class=\"edge\">\n",
       "<title>1160&#45;&gt;open</title>\n",
       "<path fill=\"none\" stroke=\"black\" d=\"M5740.14,-166.47C5747.9,-158.45 5749.76,-147.68 5743.49,-141 5708.07,-103.25 5339.48,-104.31 5210.02,-105.54\"/>\n",
       "<polygon fill=\"black\" stroke=\"black\" points=\"5209.65,-102.05 5199.69,-105.65 5209.72,-109.05 5209.65,-102.05\"/>\n",
       "</g>\n",
       "<!-- 1200 -->\n",
       "<g id=\"node35\" class=\"node\">\n",
       "<title>1200</title>\n",
       "<ellipse fill=\"none\" stroke=\"black\" cx=\"5836.49\" cy=\"-178\" rx=\"34.39\" ry=\"18\"/>\n",
       "<text text-anchor=\"middle\" x=\"5836.49\" y=\"-174.3\" font-family=\"Times,serif\" font-size=\"14.00\">1200</text>\n",
       "</g>\n",
       "<!-- 1200&#45;&gt;close -->\n",
       "<g id=\"edge91\" class=\"edge\">\n",
       "<title>1200&#45;&gt;close</title>\n",
       "<path fill=\"none\" stroke=\"black\" d=\"M5803.24,-173.27C5779.91,-169.17 5753.04,-162.78 5729.49,-160 5405.42,-121.7 5321.75,-148.02 4995.49,-141 4204.32,-123.99 3240.73,-110.06 3023.11,-106.75\"/>\n",
       "<polygon fill=\"black\" stroke=\"black\" points=\"3023.08,-103.25 3013.02,-106.59 3022.97,-110.25 3023.08,-103.25\"/>\n",
       "</g>\n",
       "<!-- 1200&#45;&gt;close -->\n",
       "<g id=\"edge217\" class=\"edge\">\n",
       "<title>1200&#45;&gt;close</title>\n",
       "<path fill=\"none\" stroke=\"black\" d=\"M5804.85,-170.7C5787.74,-166.85 5766.53,-162.25 5747.49,-160 5423.42,-121.7 5339.75,-148.02 5013.49,-141 4214.9,-123.83 3240.64,-109.8 3022.96,-106.66\"/>\n",
       "<polygon fill=\"black\" stroke=\"black\" points=\"3022.92,-103.16 3012.87,-106.51 3022.82,-110.16 3022.92,-103.16\"/>\n",
       "</g>\n",
       "<!-- 1200&#45;&gt;close -->\n",
       "<g id=\"edge345\" class=\"edge\">\n",
       "<title>1200&#45;&gt;close</title>\n",
       "<path fill=\"none\" stroke=\"black\" d=\"M5808.14,-167.7C5795.19,-164.68 5779.74,-161.68 5765.49,-160 5441.42,-121.7 5357.75,-148.02 5031.49,-141 4226.35,-123.69 3242.66,-109.57 3023.22,-106.58\"/>\n",
       "<polygon fill=\"black\" stroke=\"black\" points=\"3023.11,-103.08 3013.06,-106.44 3023.01,-110.08 3023.11,-103.08\"/>\n",
       "</g>\n",
       "<!-- 1200&#45;&gt;close -->\n",
       "<g id=\"edge473\" class=\"edge\">\n",
       "<title>1200&#45;&gt;close</title>\n",
       "<path fill=\"none\" stroke=\"black\" d=\"M5812.84,-164.88C5803.52,-162.91 5793.22,-161.15 5783.49,-160 5459.42,-121.7 5375.75,-148.02 5049.49,-141 4237.81,-123.55 3244.65,-109.34 3023.18,-106.51\"/>\n",
       "<polygon fill=\"black\" stroke=\"black\" points=\"3022.97,-103.01 3012.92,-106.38 3022.88,-110.01 3022.97,-103.01\"/>\n",
       "</g>\n",
       "<!-- 1200&#45;&gt;open -->\n",
       "<g id=\"edge219\" class=\"edge\">\n",
       "<title>1200&#45;&gt;open</title>\n",
       "<path fill=\"none\" stroke=\"black\" d=\"M5850.87,-161.24C5857.96,-155.07 5863.01,-147.85 5856.49,-141 5833.89,-117.25 5358.17,-108.79 5209.88,-106.62\"/>\n",
       "<polygon fill=\"black\" stroke=\"black\" points=\"5209.83,-103.12 5199.78,-106.47 5209.73,-110.12 5209.83,-103.12\"/>\n",
       "</g>\n",
       "<!-- 1200&#45;&gt;open -->\n",
       "<g id=\"edge347\" class=\"edge\">\n",
       "<title>1200&#45;&gt;open</title>\n",
       "<path fill=\"none\" stroke=\"black\" d=\"M5861.51,-165.32C5873.01,-158.43 5882.51,-149.43 5874.49,-141 5851.53,-116.87 5360.8,-108.52 5210.11,-106.52\"/>\n",
       "<polygon fill=\"black\" stroke=\"black\" points=\"5209.9,-103.02 5199.86,-106.38 5209.81,-110.01 5209.9,-103.02\"/>\n",
       "</g>\n",
       "<!-- 1200&#45;&gt;open -->\n",
       "<g id=\"edge475\" class=\"edge\">\n",
       "<title>1200&#45;&gt;open</title>\n",
       "<path fill=\"none\" stroke=\"black\" d=\"M5867.41,-169.65C5885.81,-162.53 5902.33,-151.33 5892.49,-141 5869.17,-116.49 5363.3,-108.26 5209.86,-106.43\"/>\n",
       "<polygon fill=\"black\" stroke=\"black\" points=\"5209.9,-102.93 5199.86,-106.31 5209.81,-109.93 5209.9,-102.93\"/>\n",
       "</g>\n",
       "<!-- 1240 -->\n",
       "<g id=\"node36\" class=\"node\">\n",
       "<title>1240</title>\n",
       "<ellipse fill=\"none\" stroke=\"black\" cx=\"6015.49\" cy=\"-178\" rx=\"34.39\" ry=\"18\"/>\n",
       "<text text-anchor=\"middle\" x=\"6015.49\" y=\"-174.3\" font-family=\"Times,serif\" font-size=\"14.00\">1240</text>\n",
       "</g>\n",
       "<!-- 1240&#45;&gt;close -->\n",
       "<g id=\"edge93\" class=\"edge\">\n",
       "<title>1240&#45;&gt;close</title>\n",
       "<path fill=\"none\" stroke=\"black\" d=\"M5981.5,-174.42C5946.19,-170.57 5895.67,-163.43 5852.49,-160 5606.02,-140.42 5543.68,-147.07 5296.49,-141 4379.48,-118.49 3260.38,-108.49 3023.46,-106.42\"/>\n",
       "<polygon fill=\"black\" stroke=\"black\" points=\"3023.19,-102.92 3013.16,-106.33 3023.13,-109.92 3023.19,-102.92\"/>\n",
       "</g>\n",
       "<!-- 1240&#45;&gt;close -->\n",
       "<g id=\"edge221\" class=\"edge\">\n",
       "<title>1240&#45;&gt;close</title>\n",
       "<path fill=\"none\" stroke=\"black\" d=\"M5982.22,-172.97C5952.63,-168.98 5908.68,-163.03 5870.49,-160 5624.02,-140.42 5561.68,-147.07 5314.49,-141 4389.97,-118.31 3260.02,-108.33 3023.24,-106.37\"/>\n",
       "<polygon fill=\"black\" stroke=\"black\" points=\"3022.99,-102.87 3012.96,-106.28 3022.93,-109.87 3022.99,-102.87\"/>\n",
       "</g>\n",
       "<!-- 1240&#45;&gt;close -->\n",
       "<g id=\"edge349\" class=\"edge\">\n",
       "<title>1240&#45;&gt;close</title>\n",
       "<path fill=\"none\" stroke=\"black\" d=\"M5983.62,-171.11C5957.92,-167.3 5921.11,-162.59 5888.49,-160 5642.02,-140.42 5579.68,-147.07 5332.49,-141 4400.99,-118.13 3260.95,-108.18 3023.17,-106.33\"/>\n",
       "<polygon fill=\"black\" stroke=\"black\" points=\"3023.2,-102.83 3013.17,-106.25 3023.14,-109.83 3023.2,-102.83\"/>\n",
       "</g>\n",
       "<!-- 1240&#45;&gt;close -->\n",
       "<g id=\"edge477\" class=\"edge\">\n",
       "<title>1240&#45;&gt;close</title>\n",
       "<path fill=\"none\" stroke=\"black\" d=\"M5985.36,-169.01C5962.94,-165.69 5933.3,-162.13 5906.49,-160 5660.02,-140.42 5597.68,-147.07 5350.49,-141 4412.47,-117.97 3262.99,-108.04 3023.18,-106.29\"/>\n",
       "<polygon fill=\"black\" stroke=\"black\" points=\"3023.12,-102.79 3013.1,-106.22 3023.07,-109.79 3023.12,-102.79\"/>\n",
       "</g>\n",
       "<!-- 1240&#45;&gt;open -->\n",
       "<g id=\"edge95\" class=\"edge\">\n",
       "<title>1240&#45;&gt;open</title>\n",
       "<path fill=\"none\" stroke=\"black\" d=\"M5995.59,-163.27C5993.37,-155.7 5993.12,-146.7 5987.49,-141 5959.6,-112.73 5377,-107.25 5210.14,-106.23\"/>\n",
       "<polygon fill=\"black\" stroke=\"black\" points=\"5209.78,-102.73 5199.76,-106.17 5209.74,-109.73 5209.78,-102.73\"/>\n",
       "</g>\n",
       "<!-- 1240&#45;&gt;open -->\n",
       "<g id=\"edge223\" class=\"edge\">\n",
       "<title>1240&#45;&gt;open</title>\n",
       "<path fill=\"none\" stroke=\"black\" d=\"M6011.32,-160.01C6011.19,-153.23 6010.33,-145.9 6005.49,-141 5977.19,-112.31 5377.77,-107.1 5209.82,-106.19\"/>\n",
       "<polygon fill=\"black\" stroke=\"black\" points=\"5209.64,-102.68 5199.62,-106.13 5209.6,-109.68 5209.64,-102.68\"/>\n",
       "</g>\n",
       "<!-- 1240&#45;&gt;open -->\n",
       "<g id=\"edge351\" class=\"edge\">\n",
       "<title>1240&#45;&gt;open</title>\n",
       "<path fill=\"none\" stroke=\"black\" d=\"M6027.66,-161.11C6029.27,-154.04 6028.59,-146.16 6023.49,-141 5994.83,-111.94 5380.32,-106.97 5209.9,-106.15\"/>\n",
       "<polygon fill=\"black\" stroke=\"black\" points=\"5209.81,-102.65 5199.79,-106.11 5209.78,-109.65 5209.81,-102.65\"/>\n",
       "</g>\n",
       "<!-- 1240&#45;&gt;open -->\n",
       "<g id=\"edge479\" class=\"edge\">\n",
       "<title>1240&#45;&gt;open</title>\n",
       "<path fill=\"none\" stroke=\"black\" d=\"M6041.18,-165.7C6047.36,-157.71 6047.73,-147.32 6041.49,-141 6012.48,-111.59 5383.36,-106.85 5209.8,-106.12\"/>\n",
       "<polygon fill=\"black\" stroke=\"black\" points=\"5209.76,-102.62 5199.75,-106.08 5209.73,-109.62 5209.76,-102.62\"/>\n",
       "</g>\n",
       "</g>\n",
       "</svg>\n"
      ],
      "text/plain": [
       "<graphviz.dot.Digraph at 0x2008792d5f10>"
      ]
     },
     "execution_count": 83,
     "metadata": {},
     "output_type": "execute_result"
    }
   ],
   "source": [
    "dot"
   ]
  },
  {
   "cell_type": "code",
   "execution_count": 84,
   "metadata": {
    "tags": []
   },
   "outputs": [],
   "source": [
    "import graphviz\n",
    "dot = graphviz.Digraph()\n",
    "selected_indices = [0]\n",
    "for selected_index in selected_indices:\n",
    "    selected_file = independent_files.index[selected_index]\n",
    "    io_access_rank = io_ddf[io_ddf['filename'] == selected_file].groupby(['rank','func_id'])['func_id'].count().compute()\n",
    "    dot.node(selected_file)\n",
    "    for index,item in io_access_rank.iteritems():\n",
    "        rank = index[0]\n",
    "        func_id = index[1]\n",
    "        count = item\n",
    "        dot.node(str(rank))\n",
    "        dot.node(func_id)\n",
    "        dot.edge(str(rank),func_id)\n",
    "        if \"read\" in func_id:\n",
    "            dot.edge(selected_file, func_id, label=str(count))\n",
    "        else:\n",
    "            dot.edge(func_id,selected_file, label=str(count))"
   ]
  },
  {
   "cell_type": "code",
   "execution_count": 85,
   "metadata": {},
   "outputs": [
    {
     "data": {
      "image/svg+xml": [
       "<?xml version=\"1.0\" encoding=\"UTF-8\" standalone=\"no\"?>\n",
       "<!DOCTYPE svg PUBLIC \"-//W3C//DTD SVG 1.1//EN\"\n",
       " \"http://www.w3.org/Graphics/SVG/1.1/DTD/svg11.dtd\">\n",
       "<!-- Generated by graphviz version 2.42.3 (20191010.1750)\n",
       " -->\n",
       "<!-- Title: %3 Pages: 1 -->\n",
       "<svg width=\"867pt\" height=\"291pt\"\n",
       " viewBox=\"0.00 0.00 867.38 291.00\" xmlns=\"http://www.w3.org/2000/svg\" xmlns:xlink=\"http://www.w3.org/1999/xlink\">\n",
       "<g id=\"graph0\" class=\"graph\" transform=\"scale(1 1) rotate(0) translate(4 287)\">\n",
       "<title>%3</title>\n",
       "<polygon fill=\"white\" stroke=\"transparent\" points=\"-4,4 -4,-287 863.38,-287 863.38,4 -4,4\"/>\n",
       "<!-- /p/gpfs1/iopp/temp/cm1r20.3.2846829/config_files/les_HurrBoundLayer/LANDUSE.TBL -->\n",
       "<g id=\"node1\" class=\"node\">\n",
       "<title>/p/gpfs1/iopp/temp/cm1r20.3.2846829/config_files/les_HurrBoundLayer/LANDUSE.TBL</title>\n",
       "<ellipse fill=\"none\" stroke=\"black\" cx=\"421.16\" cy=\"-105\" rx=\"421.33\" ry=\"18\"/>\n",
       "<text text-anchor=\"middle\" x=\"421.16\" y=\"-101.3\" font-family=\"Times,serif\" font-size=\"14.00\">/p/gpfs1/iopp/temp/cm1r20.3.2846829/config_files/les_HurrBoundLayer/LANDUSE.TBL</text>\n",
       "</g>\n",
       "<!-- read -->\n",
       "<g id=\"node5\" class=\"node\">\n",
       "<title>read</title>\n",
       "<ellipse fill=\"none\" stroke=\"black\" cx=\"645.16\" cy=\"-18\" rx=\"31.7\" ry=\"18\"/>\n",
       "<text text-anchor=\"middle\" x=\"645.16\" y=\"-14.3\" font-family=\"Times,serif\" font-size=\"14.00\">read</text>\n",
       "</g>\n",
       "<!-- /p/gpfs1/iopp/temp/cm1r20.3.2846829/config_files/les_HurrBoundLayer/LANDUSE.TBL&#45;&gt;read -->\n",
       "<g id=\"edge6\" class=\"edge\">\n",
       "<title>/p/gpfs1/iopp/temp/cm1r20.3.2846829/config_files/les_HurrBoundLayer/LANDUSE.TBL&#45;&gt;read</title>\n",
       "<path fill=\"none\" stroke=\"black\" d=\"M465.95,-87C508.15,-70.99 570.53,-47.32 609.47,-32.55\"/>\n",
       "<polygon fill=\"black\" stroke=\"black\" points=\"611.2,-35.63 619.31,-28.81 608.72,-29.09 611.2,-35.63\"/>\n",
       "<text text-anchor=\"middle\" x=\"551.16\" y=\"-57.8\" font-family=\"Times,serif\" font-size=\"14.00\">1</text>\n",
       "</g>\n",
       "<!-- 0 -->\n",
       "<g id=\"node2\" class=\"node\">\n",
       "<title>0</title>\n",
       "<ellipse fill=\"none\" stroke=\"black\" cx=\"507.16\" cy=\"-265\" rx=\"27\" ry=\"18\"/>\n",
       "<text text-anchor=\"middle\" x=\"507.16\" y=\"-261.3\" font-family=\"Times,serif\" font-size=\"14.00\">0</text>\n",
       "</g>\n",
       "<!-- close -->\n",
       "<g id=\"node3\" class=\"node\">\n",
       "<title>close</title>\n",
       "<ellipse fill=\"none\" stroke=\"black\" cx=\"421.16\" cy=\"-192\" rx=\"34.39\" ry=\"18\"/>\n",
       "<text text-anchor=\"middle\" x=\"421.16\" y=\"-188.3\" font-family=\"Times,serif\" font-size=\"14.00\">close</text>\n",
       "</g>\n",
       "<!-- 0&#45;&gt;close -->\n",
       "<g id=\"edge1\" class=\"edge\">\n",
       "<title>0&#45;&gt;close</title>\n",
       "<path fill=\"none\" stroke=\"black\" d=\"M490.58,-250.31C478.18,-240.07 460.99,-225.88 446.81,-214.18\"/>\n",
       "<polygon fill=\"black\" stroke=\"black\" points=\"448.82,-211.29 438.88,-207.63 444.36,-216.69 448.82,-211.29\"/>\n",
       "</g>\n",
       "<!-- open -->\n",
       "<g id=\"node4\" class=\"node\">\n",
       "<title>open</title>\n",
       "<ellipse fill=\"none\" stroke=\"black\" cx=\"507.16\" cy=\"-192\" rx=\"33.29\" ry=\"18\"/>\n",
       "<text text-anchor=\"middle\" x=\"507.16\" y=\"-188.3\" font-family=\"Times,serif\" font-size=\"14.00\">open</text>\n",
       "</g>\n",
       "<!-- 0&#45;&gt;open -->\n",
       "<g id=\"edge3\" class=\"edge\">\n",
       "<title>0&#45;&gt;open</title>\n",
       "<path fill=\"none\" stroke=\"black\" d=\"M507.16,-246.81C507.16,-238.79 507.16,-229.05 507.16,-220.07\"/>\n",
       "<polygon fill=\"black\" stroke=\"black\" points=\"510.66,-220.03 507.16,-210.03 503.66,-220.03 510.66,-220.03\"/>\n",
       "</g>\n",
       "<!-- 0&#45;&gt;read -->\n",
       "<g id=\"edge5\" class=\"edge\">\n",
       "<title>0&#45;&gt;read</title>\n",
       "<path fill=\"none\" stroke=\"black\" d=\"M534.4,-262.49C602.06,-257.08 777.63,-232.61 851.16,-123 893.82,-59.42 758,-32.81 686.39,-23.4\"/>\n",
       "<polygon fill=\"black\" stroke=\"black\" points=\"686.68,-19.91 676.32,-22.14 685.81,-26.86 686.68,-19.91\"/>\n",
       "</g>\n",
       "<!-- close&#45;&gt;/p/gpfs1/iopp/temp/cm1r20.3.2846829/config_files/les_HurrBoundLayer/LANDUSE.TBL -->\n",
       "<g id=\"edge2\" class=\"edge\">\n",
       "<title>close&#45;&gt;/p/gpfs1/iopp/temp/cm1r20.3.2846829/config_files/les_HurrBoundLayer/LANDUSE.TBL</title>\n",
       "<path fill=\"none\" stroke=\"black\" d=\"M421.16,-173.8C421.16,-162.16 421.16,-146.55 421.16,-133.24\"/>\n",
       "<polygon fill=\"black\" stroke=\"black\" points=\"424.66,-133.18 421.16,-123.18 417.66,-133.18 424.66,-133.18\"/>\n",
       "<text text-anchor=\"middle\" x=\"426.16\" y=\"-144.8\" font-family=\"Times,serif\" font-size=\"14.00\">1</text>\n",
       "</g>\n",
       "<!-- open&#45;&gt;/p/gpfs1/iopp/temp/cm1r20.3.2846829/config_files/les_HurrBoundLayer/LANDUSE.TBL -->\n",
       "<g id=\"edge4\" class=\"edge\">\n",
       "<title>open&#45;&gt;/p/gpfs1/iopp/temp/cm1r20.3.2846829/config_files/les_HurrBoundLayer/LANDUSE.TBL</title>\n",
       "<path fill=\"none\" stroke=\"black\" d=\"M491.79,-175.8C479.03,-163.2 460.66,-145.03 445.85,-130.4\"/>\n",
       "<polygon fill=\"black\" stroke=\"black\" points=\"448.05,-127.65 438.47,-123.11 443.13,-132.63 448.05,-127.65\"/>\n",
       "<text text-anchor=\"middle\" x=\"474.16\" y=\"-144.8\" font-family=\"Times,serif\" font-size=\"14.00\">1</text>\n",
       "</g>\n",
       "</g>\n",
       "</svg>\n"
      ],
      "text/plain": [
       "<graphviz.dot.Digraph at 0x200878cbd8e0>"
      ]
     },
     "execution_count": 85,
     "metadata": {},
     "output_type": "execute_result"
    }
   ],
   "source": [
    "dot"
   ]
  },
  {
   "cell_type": "markdown",
   "metadata": {},
   "source": [
    "## Calculate Access Pattern\n",
    "- Calculate segment_index\n",
    "  - select file_ptr based on open flag\n",
    "  - update file_ptr based on operation\n",
    "  - do a cum_sum on file_ptr to calculate final file_ptr\n",
    "  - assign segment_index based on granularity (median transfer size)\n",
    "- isolate segment index into\n",
    "  - sequential flag if segment index is increasing\n",
    "  - consequitive flag if segment index is increasing and one after the other"
   ]
  },
  {
   "cell_type": "markdown",
   "metadata": {},
   "source": [
    "#### Persist the current version of I/O dataframe."
   ]
  },
  {
   "cell_type": "code",
   "execution_count": 86,
   "metadata": {
    "tags": []
   },
   "outputs": [],
   "source": [
    "io_ddf = io_ddf.persist()\n",
    "result = wait(io_ddf)"
   ]
  },
  {
   "cell_type": "markdown",
   "metadata": {},
   "source": [
    "### Select files which have no seeks and those which have"
   ]
  },
  {
   "cell_type": "code",
   "execution_count": 87,
   "metadata": {},
   "outputs": [
    {
     "name": "stdout",
     "output_type": "stream",
     "text": [
      "0 files have seek operations\n"
     ]
    }
   ],
   "source": [
    "files_with_seek = io_ddf[io_ddf['func_id'].str.contains('seek') & io_ddf['filename'].str.contains('/p/gpfs')]['filename'].unique().compute()\n",
    "print(\"{} files have seek operations\".format(len(files_with_seek)))"
   ]
  },
  {
   "cell_type": "code",
   "execution_count": 88,
   "metadata": {},
   "outputs": [
    {
     "data": {
      "text/plain": [
       "Series([], Name: filename, dtype: object)"
      ]
     },
     "execution_count": 88,
     "metadata": {},
     "output_type": "execute_result"
    }
   ],
   "source": [
    "files_with_seek"
   ]
  },
  {
   "cell_type": "code",
   "execution_count": 89,
   "metadata": {},
   "outputs": [
    {
     "data": {
      "text/plain": [
       "0      /p/gpfs1/iopp/temp/cm1r20.3.2846829/config_fil...\n",
       "1      /p/gpfs1/iopp/temp/cm1r20.3.2846829/config_fil...\n",
       "2      /p/gpfs1/iopp/temp/cm1r20.3.2846829/config_fil...\n",
       "3      /p/gpfs1/iopp/temp/cm1r20.3.2846829/config_fil...\n",
       "4      /p/gpfs1/iopp/temp/cm1r20.3.2846829/config_fil...\n",
       "                             ...                        \n",
       "769    /p/gpfs1/iopp/temp/cm1r20.3.2846829/config_fil...\n",
       "770    /p/gpfs1/iopp/temp/cm1r20.3.2846829/config_fil...\n",
       "771    /p/gpfs1/iopp/temp/cm1r20.3.2846829/config_fil...\n",
       "772    /p/gpfs1/iopp/temp/cm1r20.3.2846829/config_fil...\n",
       "773    /p/gpfs1/iopp/temp/cm1r20.3.2846829/config_fil...\n",
       "Name: filename, Length: 774, dtype: object"
      ]
     },
     "execution_count": 89,
     "metadata": {},
     "output_type": "execute_result"
    }
   ],
   "source": [
    "all_filenames"
   ]
  },
  {
   "cell_type": "code",
   "execution_count": 90,
   "metadata": {},
   "outputs": [
    {
     "name": "stdout",
     "output_type": "stream",
     "text": [
      "774 files have no seek operations and hence are sequential\n"
     ]
    }
   ],
   "source": [
    "files_without_seek = set(all_filenames) - set(files_with_seek)\n",
    "print(\"{} files have no seek operations and hence are sequential\".format(len(files_without_seek)))"
   ]
  },
  {
   "cell_type": "code",
   "execution_count": null,
   "metadata": {},
   "outputs": [],
   "source": []
  }
 ],
 "metadata": {
  "kernelspec": {
   "display_name": "iopp",
   "language": "python",
   "name": "iopp"
  },
  "language_info": {
   "codemirror_mode": {
    "name": "ipython",
    "version": 3
   },
   "file_extension": ".py",
   "mimetype": "text/x-python",
   "name": "python",
   "nbconvert_exporter": "python",
   "pygments_lexer": "ipython3",
   "version": "3.9.7"
  },
  "toc-showtags": false
 },
 "nbformat": 4,
 "nbformat_minor": 4
}
