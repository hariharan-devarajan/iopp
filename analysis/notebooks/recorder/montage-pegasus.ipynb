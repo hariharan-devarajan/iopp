{
 "cells": [
  {
   "cell_type": "markdown",
   "metadata": {},
   "source": [
    "# Analyze Montage Pegasus"
   ]
  },
  {
   "cell_type": "markdown",
   "metadata": {},
   "source": [
    "## Global Configurations"
   ]
  },
  {
   "cell_type": "code",
   "execution_count": 1,
   "metadata": {},
   "outputs": [],
   "source": [
    "notebook_name = \"montage-pegasus\""
   ]
  },
  {
   "cell_type": "code",
   "execution_count": 21,
   "metadata": {
    "ExecuteTime": {
     "end_time": "2021-09-16T21:44:28.361097Z",
     "start_time": "2021-09-16T21:44:28.356562Z"
    }
   },
   "outputs": [],
   "source": [
    "parquet_folder=\"/p/gpfs1/iopp/parquet_app_logs/montage_pegasus/nodes-1\""
   ]
  },
  {
   "cell_type": "code",
   "execution_count": 22,
   "metadata": {},
   "outputs": [],
   "source": [
    "num_nodes = 32"
   ]
  },
  {
   "cell_type": "markdown",
   "metadata": {},
   "source": [
    "## System Imports"
   ]
  },
  {
   "cell_type": "code",
   "execution_count": 4,
   "metadata": {},
   "outputs": [],
   "source": [
    "import socket\n",
    "import os\n",
    "import time\n",
    "from time import sleep"
   ]
  },
  {
   "cell_type": "markdown",
   "metadata": {
    "tags": []
   },
   "source": [
    "## Create Dask Cluster for analysis"
   ]
  },
  {
   "cell_type": "markdown",
   "metadata": {},
   "source": [
    "### Dask Job Queue Imports"
   ]
  },
  {
   "cell_type": "code",
   "execution_count": 5,
   "metadata": {},
   "outputs": [
    {
     "name": "stderr",
     "output_type": "stream",
     "text": [
      "/usr/workspace/iopp/.conda/envs/jupyter/lib/python3.9/site-packages/dask_jobqueue/core.py:17: FutureWarning: format_bytes is deprecated and will be removed in a future release. Please use dask.utils.format_bytes instead.\n",
      "  from distributed.utils import format_bytes, parse_bytes, tmpfile, get_ip_interface\n",
      "/usr/workspace/iopp/.conda/envs/jupyter/lib/python3.9/site-packages/dask_jobqueue/core.py:17: FutureWarning: parse_bytes is deprecated and will be removed in a future release. Please use dask.utils.parse_bytes instead.\n",
      "  from distributed.utils import format_bytes, parse_bytes, tmpfile, get_ip_interface\n",
      "/usr/workspace/iopp/.conda/envs/jupyter/lib/python3.9/site-packages/dask_jobqueue/htcondor.py:6: FutureWarning: parse_bytes is deprecated and will be removed in a future release. Please use dask.utils.parse_bytes instead.\n",
      "  from distributed.utils import parse_bytes\n"
     ]
    }
   ],
   "source": [
    "import dask_jobqueue\n",
    "from dask_jobqueue import LSFCluster"
   ]
  },
  {
   "cell_type": "markdown",
   "metadata": {},
   "source": [
    "### Dask Worker configuration\n",
    "When we use dask for analysis, we need to consider the type of analysis. In this case we plan to utilize dask dataframes for analysis that is typically memory intensive. Therefore, we allocate the whole memory per node and use only 4 worker processes per node. More worker processes reduce memory available per worker resulting in frequent memory swap from filesystem."
   ]
  },
  {
   "cell_type": "code",
   "execution_count": 6,
   "metadata": {
    "ExecuteTime": {
     "end_time": "2021-09-16T21:37:00.088821Z",
     "start_time": "2021-09-16T21:37:00.076921Z"
    }
   },
   "outputs": [],
   "source": [
    "node_memory = 256 # node memory in GB\n",
    "n_workers_per_node = 4 # number of worker processes per node\n",
    "worker_time = \"01:00\" # job time per node for worker\n",
    "worker_queue = \"pbatch\" # queue to be used per worker\n",
    "n_workers = 32 # number of workers to be used for analysis"
   ]
  },
  {
   "cell_type": "markdown",
   "metadata": {},
   "source": [
    "Other configurations we can compute"
   ]
  },
  {
   "cell_type": "code",
   "execution_count": 7,
   "metadata": {},
   "outputs": [],
   "source": [
    "host = socket.gethostname()\n",
    "dashboard_address = '{}:8787'.format(socket.gethostname())\n",
    "memory = '{}GB'.format(node_memory/n_workers_per_node)\n",
    "job_extra = ['-nnodes 1', \n",
    "             '-G asccasc', \n",
    "             '-q {}'.format(worker_queue), \n",
    "             '-W {}'.format(worker_time), \n",
    "             '-o {}.log'.format(notebook_name), \n",
    "             '-e {}.log'.format(notebook_name)]"
   ]
  },
  {
   "cell_type": "markdown",
   "metadata": {},
   "source": [
    "### Create Dask Cluster "
   ]
  },
  {
   "cell_type": "code",
   "execution_count": 8,
   "metadata": {
    "ExecuteTime": {
     "end_time": "2021-09-16T21:37:00.580186Z",
     "start_time": "2021-09-16T21:37:00.574875Z"
    }
   },
   "outputs": [
    {
     "name": "stdout",
     "output_type": "stream",
     "text": [
      "{'cls': <class 'distributed.scheduler.Scheduler'>, 'options': {'protocol': 'tcp://', 'interface': None, 'host': 'lassen708', 'dashboard_address': 'lassen708:8787', 'security': None}}\n",
      "Created Cluster with job script\n",
      " #!/usr/bin/env bash\n",
      "\n",
      "#BSUB -J dask-worker\n",
      "#BSUB -nnodes 1\n",
      "#BSUB -G asccasc\n",
      "#BSUB -q pbatch\n",
      "#BSUB -W 01:00\n",
      "#BSUB -o montage-pegasus.log\n",
      "#BSUB -e montage-pegasus.log\n",
      "JOB_ID=${LSB_JOBID%.*}\n",
      "\n",
      "/usr/workspace/iopp/.conda/envs/jupyter/bin/python -m distributed.cli.dask_worker tcp://192.168.66.200:40457 --nthreads 1 --nprocs 4 --memory-limit 59.60GiB --name name --nanny --death-timeout 60\n",
      "\n"
     ]
    }
   ],
   "source": [
    "cluster = LSFCluster(cores = n_workers_per_node,processes=n_workers_per_node, memory='{}GB'.format(node_memory), \n",
    "                     header_skip=['-n ','-R','-M', '-P', '-W 00:30'], \n",
    "                     job_extra = job_extra, \n",
    "                     use_stdin=True, host = host,dashboard_address = dashboard_address)\n",
    "if cluster:\n",
    "    print(\"Created Cluster with job script\\n {}\".format(cluster.job_script()))"
   ]
  },
  {
   "cell_type": "markdown",
   "metadata": {},
   "source": [
    "### Dask Analysis Imports"
   ]
  },
  {
   "cell_type": "code",
   "execution_count": 9,
   "metadata": {},
   "outputs": [],
   "source": [
    "import dask.dataframe as dd\n",
    "from dask.distributed import wait, progress\n",
    "from dask.diagnostics import ProgressBar\n",
    "from dask.distributed import Client\n",
    "import matplotlib.pyplot as plt\n",
    "import numpy as np\n",
    "import concurrent.futures\n",
    "from concurrent.futures import ThreadPoolExecutor"
   ]
  },
  {
   "cell_type": "markdown",
   "metadata": {},
   "source": [
    "### Create Dask Client"
   ]
  },
  {
   "cell_type": "code",
   "execution_count": 10,
   "metadata": {},
   "outputs": [
    {
     "data": {
      "text/html": [
       "<div>\n",
       "    <div style=\"width: 24px; height: 24px; background-color: #e1e1e1; border: 3px solid #9D9D9D; border-radius: 5px; position: absolute;\"> </div>\n",
       "    <div style=\"margin-left: 48px;\">\n",
       "        <h3 style=\"margin-bottom: 0px;\">Client</h3>\n",
       "        <p style=\"color: #9D9D9D; margin-bottom: 0px;\">Client-d267ede2-4639-11ec-80db-70e28414902c</p>\n",
       "        <table style=\"width: 100%; text-align: left;\">\n",
       "\n",
       "        <tr>\n",
       "        \n",
       "            <td style=\"text-align: left;\"><strong>Connection method:</strong> Cluster object</td>\n",
       "            <td style=\"text-align: left;\"><strong>Cluster type:</strong> dask_jobqueue.LSFCluster</td>\n",
       "        \n",
       "        </tr>\n",
       "\n",
       "        \n",
       "            <tr>\n",
       "                <td style=\"text-align: left;\">\n",
       "                    <strong>Dashboard: </strong> <a href=\"http://192.168.66.200:8787/status\" target=\"_blank\">http://192.168.66.200:8787/status</a>\n",
       "                </td>\n",
       "                <td style=\"text-align: left;\"></td>\n",
       "            </tr>\n",
       "        \n",
       "\n",
       "        </table>\n",
       "\n",
       "        \n",
       "            <details>\n",
       "            <summary style=\"margin-bottom: 20px;\"><h3 style=\"display: inline;\">Cluster Info</h3></summary>\n",
       "            <div class=\"jp-RenderedHTMLCommon jp-RenderedHTML jp-mod-trusted jp-OutputArea-output\">\n",
       "    <div style=\"width: 24px; height: 24px; background-color: #e1e1e1; border: 3px solid #9D9D9D; border-radius: 5px; position: absolute;\">\n",
       "    </div>\n",
       "    <div style=\"margin-left: 48px;\">\n",
       "        <h3 style=\"margin-bottom: 0px; margin-top: 0px;\">LSFCluster</h3>\n",
       "        <p style=\"color: #9D9D9D; margin-bottom: 0px;\">09956f30</p>\n",
       "        <table style=\"width: 100%; text-align: left;\">\n",
       "            <tr>\n",
       "                <td style=\"text-align: left;\">\n",
       "                    <strong>Dashboard:</strong> <a href=\"http://192.168.66.200:8787/status\" target=\"_blank\">http://192.168.66.200:8787/status</a>\n",
       "                </td>\n",
       "                <td style=\"text-align: left;\">\n",
       "                    <strong>Workers:</strong> 0\n",
       "                </td>\n",
       "            </tr>\n",
       "            <tr>\n",
       "                <td style=\"text-align: left;\">\n",
       "                    <strong>Total threads:</strong> 0\n",
       "                </td>\n",
       "                <td style=\"text-align: left;\">\n",
       "                    <strong>Total memory:</strong> 0 B\n",
       "                </td>\n",
       "            </tr>\n",
       "            \n",
       "        </table>\n",
       "\n",
       "        <details>\n",
       "            <summary style=\"margin-bottom: 20px;\">\n",
       "                <h3 style=\"display: inline;\">Scheduler Info</h3>\n",
       "            </summary>\n",
       "\n",
       "            <div style=\"\">\n",
       "    <div>\n",
       "        <div style=\"width: 24px; height: 24px; background-color: #FFF7E5; border: 3px solid #FF6132; border-radius: 5px; position: absolute;\"> </div>\n",
       "        <div style=\"margin-left: 48px;\">\n",
       "            <h3 style=\"margin-bottom: 0px;\">Scheduler</h3>\n",
       "            <p style=\"color: #9D9D9D; margin-bottom: 0px;\">Scheduler-b335d3ca-c94a-4029-a609-f79e68fabddc</p>\n",
       "            <table style=\"width: 100%; text-align: left;\">\n",
       "                <tr>\n",
       "                    <td style=\"text-align: left;\">\n",
       "                        <strong>Comm:</strong> tcp://192.168.66.200:40457\n",
       "                    </td>\n",
       "                    <td style=\"text-align: left;\">\n",
       "                        <strong>Workers:</strong> 0\n",
       "                    </td>\n",
       "                </tr>\n",
       "                <tr>\n",
       "                    <td style=\"text-align: left;\">\n",
       "                        <strong>Dashboard:</strong> <a href=\"http://192.168.66.200:8787/status\" target=\"_blank\">http://192.168.66.200:8787/status</a>\n",
       "                    </td>\n",
       "                    <td style=\"text-align: left;\">\n",
       "                        <strong>Total threads:</strong> 0\n",
       "                    </td>\n",
       "                </tr>\n",
       "                <tr>\n",
       "                    <td style=\"text-align: left;\">\n",
       "                        <strong>Started:</strong> Just now\n",
       "                    </td>\n",
       "                    <td style=\"text-align: left;\">\n",
       "                        <strong>Total memory:</strong> 0 B\n",
       "                    </td>\n",
       "                </tr>\n",
       "            </table>\n",
       "        </div>\n",
       "    </div>\n",
       "\n",
       "    <details style=\"margin-left: 48px;\">\n",
       "        <summary style=\"margin-bottom: 20px;\">\n",
       "            <h3 style=\"display: inline;\">Workers</h3>\n",
       "        </summary>\n",
       "\n",
       "        \n",
       "\n",
       "    </details>\n",
       "</div>\n",
       "\n",
       "        </details>\n",
       "    </div>\n",
       "</div>\n",
       "            </details>\n",
       "        \n",
       "\n",
       "    </div>\n",
       "</div>"
      ],
      "text/plain": [
       "<Client: 'tcp://192.168.66.200:40457' processes=0 threads=0, memory=0 B>"
      ]
     },
     "execution_count": 10,
     "metadata": {},
     "output_type": "execute_result"
    }
   ],
   "source": [
    "client = Client(cluster)\n",
    "client"
   ]
  },
  {
   "cell_type": "markdown",
   "metadata": {},
   "source": [
    "### Spawn cluster nodes"
   ]
  },
  {
   "cell_type": "code",
   "execution_count": 11,
   "metadata": {
    "ExecuteTime": {
     "end_time": "2021-09-16T21:37:00.937949Z",
     "start_time": "2021-09-16T21:37:00.931813Z"
    }
   },
   "outputs": [],
   "source": [
    "cluster.scale(n_workers)"
   ]
  },
  {
   "cell_type": "code",
   "execution_count": 12,
   "metadata": {},
   "outputs": [
    {
     "name": "stdout",
     "output_type": "stream",
     "text": [
      "Waiting for workers completed 0 of 32\n",
      "4 workers started\n"
     ]
    }
   ],
   "source": [
    "val = len(client.scheduler_info()[\"workers\"])\n",
    "while ((client.status == \"running\") and ( val < n_workers_per_node)):\n",
    "    print(\"Waiting for workers completed {} of {}\".format(val, n_workers), end=\"\\r\")\n",
    "    sleep(1.0)\n",
    "    val = len(client.scheduler_info()[\"workers\"])\n",
    "print(\"\\n{} workers started\".format(len(client.scheduler_info()[\"workers\"])))"
   ]
  },
  {
   "cell_type": "markdown",
   "metadata": {},
   "source": [
    "## Analysis Utility Functions"
   ]
  },
  {
   "cell_type": "markdown",
   "metadata": {},
   "source": [
    "### Progress Bars"
   ]
  },
  {
   "cell_type": "code",
   "execution_count": 13,
   "metadata": {},
   "outputs": [],
   "source": [
    "pbar = ProgressBar()\n",
    "pbar.register()"
   ]
  },
  {
   "cell_type": "markdown",
   "metadata": {},
   "source": [
    "### Timer functions"
   ]
  },
  {
   "cell_type": "code",
   "execution_count": 14,
   "metadata": {
    "ExecuteTime": {
     "end_time": "2021-09-16T21:44:25.856496Z",
     "start_time": "2021-09-16T21:44:25.849113Z"
    }
   },
   "outputs": [],
   "source": [
    "def timer(func):\n",
    "    @functools.wraps(func)\n",
    "    def wrapper_timer(*args, **kwargs):\n",
    "        tic = time.perf_counter()\n",
    "        value = func(*args, **kwargs)\n",
    "        toc = time.perf_counter()\n",
    "        elapsed_time = toc - tic\n",
    "        print(f\"Elapsed time: {elapsed_time:0.4f} seconds\")\n",
    "        return value\n",
    "    return wrapper_timer"
   ]
  },
  {
   "cell_type": "markdown",
   "metadata": {},
   "source": [
    "### Threading process "
   ]
  },
  {
   "cell_type": "code",
   "execution_count": 15,
   "metadata": {
    "ExecuteTime": {
     "end_time": "2021-09-16T21:44:26.580383Z",
     "start_time": "2021-09-16T21:44:26.570029Z"
    }
   },
   "outputs": [],
   "source": [
    "def thread_print(string):\n",
    "    print(f'{string}\\n', end='')\n",
    "def thread_process( num_ranks, func, start=0, list_range=[], workers=40):\n",
    "    with ThreadPoolExecutor(max_workers = workers) as executor:\n",
    "        if len(list_range) == 0:\n",
    "            list_range = range(start, num_ranks) \n",
    "        future_gen = {executor.submit(func, rank): rank for rank in list_range}\n",
    "        for future in concurrent.futures.as_completed(future_gen):\n",
    "            rank = future_gen[future]\n",
    "            try:\n",
    "                data = future.result()\n",
    "            except Exception as exc:\n",
    "                thread_print('%r generated an exception: %s' % (rank, exc))\n",
    "            else:\n",
    "                thread_print('%r data computed' % (rank))"
   ]
  },
  {
   "cell_type": "markdown",
   "metadata": {},
   "source": [
    "### Application Logs in Parquet format"
   ]
  },
  {
   "cell_type": "markdown",
   "metadata": {},
   "source": [
    "## Initial Boostrapping"
   ]
  },
  {
   "cell_type": "markdown",
   "metadata": {},
   "source": [
    "### Read Application logs into dask dataframe"
   ]
  },
  {
   "cell_type": "code",
   "execution_count": 23,
   "metadata": {
    "ExecuteTime": {
     "end_time": "2021-09-16T21:44:32.812813Z",
     "start_time": "2021-09-16T21:44:31.634540Z"
    }
   },
   "outputs": [],
   "source": [
    "ddf = dd.read_parquet(\"{}/*.parquet\".format(parquet_folder), engine=\"pyarrow-dataset\")"
   ]
  },
  {
   "cell_type": "code",
   "execution_count": 24,
   "metadata": {
    "ExecuteTime": {
     "end_time": "2021-09-16T21:44:33.462433Z",
     "start_time": "2021-09-16T21:44:33.456132Z"
    }
   },
   "outputs": [
    {
     "name": "stdout",
     "output_type": "stream",
     "text": [
      "Dask dataframe is split into 1 partitions\n"
     ]
    }
   ],
   "source": [
    "print(\"Dask dataframe is split into {} partitions\".format(ddf.npartitions))"
   ]
  },
  {
   "cell_type": "code",
   "execution_count": 25,
   "metadata": {
    "ExecuteTime": {
     "end_time": "2021-09-16T21:37:12.311012Z",
     "start_time": "2021-09-16T21:37:12.306571Z"
    }
   },
   "outputs": [
    {
     "name": "stdout",
     "output_type": "stream",
     "text": [
      "Columns present in dataset\n",
      "Index(['index', 'rank', 'thread_id', 'cat', 'tstart', 'tend', 'func_id',\n",
      "       'level', 'hostname', 'arg_count', 'app', 'args_1', 'args_2', 'args_3',\n",
      "       'args_4', 'args_5', 'args_6', 'args_7', 'args_8', 'args_9', 'args_10'],\n",
      "      dtype='object')\n"
     ]
    }
   ],
   "source": [
    "print(\"Columns present in dataset\")\n",
    "print(ddf.columns)"
   ]
  },
  {
   "cell_type": "code",
   "execution_count": 26,
   "metadata": {
    "ExecuteTime": {
     "end_time": "2021-09-16T21:37:12.873991Z",
     "start_time": "2021-09-16T21:37:12.871121Z"
    }
   },
   "outputs": [
    {
     "data": {
      "text/html": [
       "<div>\n",
       "<style scoped>\n",
       "    .dataframe tbody tr th:only-of-type {\n",
       "        vertical-align: middle;\n",
       "    }\n",
       "\n",
       "    .dataframe tbody tr th {\n",
       "        vertical-align: top;\n",
       "    }\n",
       "\n",
       "    .dataframe thead th {\n",
       "        text-align: right;\n",
       "    }\n",
       "</style>\n",
       "<table border=\"1\" class=\"dataframe\">\n",
       "  <thead>\n",
       "    <tr style=\"text-align: right;\">\n",
       "      <th></th>\n",
       "      <th>index</th>\n",
       "      <th>rank</th>\n",
       "      <th>thread_id</th>\n",
       "      <th>cat</th>\n",
       "      <th>tstart</th>\n",
       "      <th>tend</th>\n",
       "      <th>func_id</th>\n",
       "      <th>level</th>\n",
       "      <th>hostname</th>\n",
       "      <th>arg_count</th>\n",
       "      <th>...</th>\n",
       "      <th>args_1</th>\n",
       "      <th>args_2</th>\n",
       "      <th>args_3</th>\n",
       "      <th>args_4</th>\n",
       "      <th>args_5</th>\n",
       "      <th>args_6</th>\n",
       "      <th>args_7</th>\n",
       "      <th>args_8</th>\n",
       "      <th>args_9</th>\n",
       "      <th>args_10</th>\n",
       "    </tr>\n",
       "  </thead>\n",
       "  <tbody>\n",
       "    <tr>\n",
       "      <th>0</th>\n",
       "      <td>1</td>\n",
       "      <td>0</td>\n",
       "      <td>310224</td>\n",
       "      <td>0</td>\n",
       "      <td>1297.683594</td>\n",
       "      <td>1297.683594</td>\n",
       "      <td>__xstat</td>\n",
       "      <td>0</td>\n",
       "      <td>lassen17</td>\n",
       "      <td>3</td>\n",
       "      <td>...</td>\n",
       "      <td>1</td>\n",
       "      <td>/usr/WS2/iopp/config/htcondor-V9.0.6/haridev/l...</td>\n",
       "      <td>%p</td>\n",
       "      <td></td>\n",
       "      <td></td>\n",
       "      <td></td>\n",
       "      <td></td>\n",
       "      <td></td>\n",
       "      <td></td>\n",
       "      <td></td>\n",
       "    </tr>\n",
       "    <tr>\n",
       "      <th>1</th>\n",
       "      <td>2</td>\n",
       "      <td>0</td>\n",
       "      <td>310224</td>\n",
       "      <td>0</td>\n",
       "      <td>1297.683594</td>\n",
       "      <td>1297.683594</td>\n",
       "      <td>umask</td>\n",
       "      <td>0</td>\n",
       "      <td>lassen17</td>\n",
       "      <td>1</td>\n",
       "      <td>...</td>\n",
       "      <td>0</td>\n",
       "      <td></td>\n",
       "      <td></td>\n",
       "      <td></td>\n",
       "      <td></td>\n",
       "      <td></td>\n",
       "      <td></td>\n",
       "      <td></td>\n",
       "      <td></td>\n",
       "      <td></td>\n",
       "    </tr>\n",
       "    <tr>\n",
       "      <th>2</th>\n",
       "      <td>3</td>\n",
       "      <td>0</td>\n",
       "      <td>310224</td>\n",
       "      <td>0</td>\n",
       "      <td>1297.683594</td>\n",
       "      <td>1297.683594</td>\n",
       "      <td>umask</td>\n",
       "      <td>0</td>\n",
       "      <td>lassen17</td>\n",
       "      <td>1</td>\n",
       "      <td>...</td>\n",
       "      <td>18</td>\n",
       "      <td></td>\n",
       "      <td></td>\n",
       "      <td></td>\n",
       "      <td></td>\n",
       "      <td></td>\n",
       "      <td></td>\n",
       "      <td></td>\n",
       "      <td></td>\n",
       "      <td></td>\n",
       "    </tr>\n",
       "    <tr>\n",
       "      <th>3</th>\n",
       "      <td>4</td>\n",
       "      <td>0</td>\n",
       "      <td>310224</td>\n",
       "      <td>0</td>\n",
       "      <td>1297.683960</td>\n",
       "      <td>1297.683960</td>\n",
       "      <td>fopen64</td>\n",
       "      <td>0</td>\n",
       "      <td>lassen17</td>\n",
       "      <td>2</td>\n",
       "      <td>...</td>\n",
       "      <td>/proc/loadavg</td>\n",
       "      <td>r</td>\n",
       "      <td></td>\n",
       "      <td></td>\n",
       "      <td></td>\n",
       "      <td></td>\n",
       "      <td></td>\n",
       "      <td></td>\n",
       "      <td></td>\n",
       "      <td></td>\n",
       "    </tr>\n",
       "    <tr>\n",
       "      <th>4</th>\n",
       "      <td>5</td>\n",
       "      <td>0</td>\n",
       "      <td>310224</td>\n",
       "      <td>0</td>\n",
       "      <td>1297.683960</td>\n",
       "      <td>1297.684082</td>\n",
       "      <td>fclose</td>\n",
       "      <td>0</td>\n",
       "      <td>lassen17</td>\n",
       "      <td>1</td>\n",
       "      <td>...</td>\n",
       "      <td>/proc/loadavg</td>\n",
       "      <td></td>\n",
       "      <td></td>\n",
       "      <td></td>\n",
       "      <td></td>\n",
       "      <td></td>\n",
       "      <td></td>\n",
       "      <td></td>\n",
       "      <td></td>\n",
       "      <td></td>\n",
       "    </tr>\n",
       "  </tbody>\n",
       "</table>\n",
       "<p>5 rows × 21 columns</p>\n",
       "</div>"
      ],
      "text/plain": [
       "   index  rank  thread_id  cat       tstart         tend  func_id  level  \\\n",
       "0      1     0     310224    0  1297.683594  1297.683594  __xstat      0   \n",
       "1      2     0     310224    0  1297.683594  1297.683594    umask      0   \n",
       "2      3     0     310224    0  1297.683594  1297.683594    umask      0   \n",
       "3      4     0     310224    0  1297.683960  1297.683960  fopen64      0   \n",
       "4      5     0     310224    0  1297.683960  1297.684082   fclose      0   \n",
       "\n",
       "   hostname  arg_count  ...         args_1  \\\n",
       "0  lassen17          3  ...              1   \n",
       "1  lassen17          1  ...              0   \n",
       "2  lassen17          1  ...             18   \n",
       "3  lassen17          2  ...  /proc/loadavg   \n",
       "4  lassen17          1  ...  /proc/loadavg   \n",
       "\n",
       "                                              args_2 args_3 args_4 args_5  \\\n",
       "0  /usr/WS2/iopp/config/htcondor-V9.0.6/haridev/l...     %p                 \n",
       "1                                                                           \n",
       "2                                                                           \n",
       "3                                                  r                        \n",
       "4                                                                           \n",
       "\n",
       "  args_6 args_7 args_8 args_9 args_10  \n",
       "0                                      \n",
       "1                                      \n",
       "2                                      \n",
       "3                                      \n",
       "4                                      \n",
       "\n",
       "[5 rows x 21 columns]"
      ]
     },
     "execution_count": 26,
     "metadata": {},
     "output_type": "execute_result"
    }
   ],
   "source": [
    "ddf.head()"
   ]
  },
  {
   "cell_type": "markdown",
   "metadata": {},
   "source": [
    "#### Only keep level zero from MPI and FTRACE but keep all levels for I/O"
   ]
  },
  {
   "cell_type": "code",
   "execution_count": 27,
   "metadata": {
    "ExecuteTime": {
     "end_time": "2021-09-16T21:37:13.310962Z",
     "start_time": "2021-09-16T21:37:13.306458Z"
    }
   },
   "outputs": [],
   "source": [
    "ddf = ddf[(ddf['level'] == 0) | ddf['cat'].isin([0,1,3])]\n",
    "#ddf = ddf.persist()"
   ]
  },
  {
   "cell_type": "markdown",
   "metadata": {},
   "source": [
    "### Split dataframe into I/O, MPI, and trace"
   ]
  },
  {
   "cell_type": "code",
   "execution_count": 28,
   "metadata": {},
   "outputs": [],
   "source": [
    "io_ddf = ddf[ddf['cat'].isin([0,1,3])]\n",
    "exclude_dirs = [\".pyc\", \"/usr\",\"/g/g92/haridev/.nccl.conf\"]\n",
    "for directory in exclude_dirs:\n",
    "    io_ddf = io_ddf[~io_ddf['args_1'].str.contains(directory)]\n",
    "#io_ddf[rank] = io_ddf[rank].persist()\n",
    "mpi_ddf = ddf[ddf['cat'] == 2]\n",
    "#mpi_ddf[rank] = mpi_ddf[rank].persist()\n",
    "trace_ddf = ddf[ddf['cat'] == 4]"
   ]
  },
  {
   "cell_type": "markdown",
   "metadata": {},
   "source": [
    "### Preload the I/O dataframe for faster analysis"
   ]
  },
  {
   "cell_type": "code",
   "execution_count": 29,
   "metadata": {
    "tags": []
   },
   "outputs": [],
   "source": [
    "io_ddf = io_ddf.persist()\n",
    "result = wait(io_ddf)"
   ]
  },
  {
   "cell_type": "markdown",
   "metadata": {},
   "source": [
    "### Check I/O interfaces used by application"
   ]
  },
  {
   "cell_type": "code",
   "execution_count": 30,
   "metadata": {},
   "outputs": [
    {
     "name": "stdout",
     "output_type": "stream",
     "text": [
      "0      __xstat\n",
      "1        umask\n",
      "2      fopen64\n",
      "3       fclose\n",
      "4      opendir\n",
      "5      readdir\n",
      "6     closedir\n",
      "7       access\n",
      "8         open\n",
      "9         read\n",
      "10       close\n",
      "11      getcwd\n",
      "12       fread\n",
      "Name: func_id, dtype: object\n"
     ]
    }
   ],
   "source": [
    "interfaces = io_ddf['func_id'].unique().compute()\n",
    "print(interfaces)"
   ]
  },
  {
   "cell_type": "markdown",
   "metadata": {
    "tags": [
     "Finding"
    ]
   },
   "source": [
    "Only POSIX interface is used in this application"
   ]
  },
  {
   "cell_type": "markdown",
   "metadata": {},
   "source": [
    "### Set duration of I/O events"
   ]
  },
  {
   "cell_type": "code",
   "execution_count": 31,
   "metadata": {},
   "outputs": [],
   "source": [
    "io_ddf['duration'] = io_ddf['tend'] - io_ddf['tstart']"
   ]
  },
  {
   "cell_type": "code",
   "execution_count": 32,
   "metadata": {},
   "outputs": [
    {
     "name": "stdout",
     "output_type": "stream",
     "text": [
      "Application Profiler has stored 0 negetive values\n"
     ]
    }
   ],
   "source": [
    "negetive_duration = io_ddf[io_ddf['duration'] < 0]['duration'].count().compute()\n",
    "print(\"Application Profiler has stored {} negetive values\".format(negetive_duration))"
   ]
  },
  {
   "cell_type": "markdown",
   "metadata": {},
   "source": [
    "### Create conditions for filtering\n",
    "Even though this application doesnt have MPI or STDIO we have all the conditions here. This is to make sure we cover other apps as well."
   ]
  },
  {
   "cell_type": "code",
   "execution_count": 33,
   "metadata": {},
   "outputs": [],
   "source": [
    "open_condition = io_ddf['func_id'].str.contains(\"open\")\n",
    "mpi_condition = io_ddf['func_id'].str.contains(\"MPI\")\n",
    "read_condition = io_ddf['func_id'].isin([\"read\", \"pread\", \"pread64\", \"readv\"])\n",
    "fread_condition = io_ddf['func_id'].isin([\"fread\"])\n",
    "close_condition = io_ddf['func_id'].str.contains('close')\n",
    "write_condition = io_ddf['func_id'].isin([\"write\", \"pwrite\", \"pwrite64\",\"writev\"])\n",
    "fwrite_condition = io_ddf['func_id'].isin([\"fwrite\"])\n",
    "readdir_condition = io_ddf['func_id'].isin([\"readdir\"])"
   ]
  },
  {
   "cell_type": "markdown",
   "metadata": {},
   "source": [
    "### Extract Filename from each row.\n",
    "This simplifies analysis later on as we can filter recorder per rank and per file to understand access pattern information."
   ]
  },
  {
   "cell_type": "code",
   "execution_count": 34,
   "metadata": {},
   "outputs": [],
   "source": [
    "io_ddf['filename'] = \"\"\n",
    "io_ddf['filename'] = io_ddf['filename'].mask(open_condition & ~mpi_condition, io_ddf['args_1'])\n",
    "io_ddf['filename'] = io_ddf['filename'].mask(open_condition & mpi_condition, io_ddf['args_2'])\n",
    "io_ddf['filename'] = io_ddf['filename'].mask(close_condition, io_ddf['args_1'])\n",
    "io_ddf['filename'] = io_ddf['filename'].mask(read_condition, io_ddf['args_1'])\n",
    "io_ddf['filename'] = io_ddf['filename'].mask(fread_condition, io_ddf['args_4'])\n",
    "io_ddf['filename'] = io_ddf['filename'].mask(write_condition, io_ddf['args_1'])\n",
    "io_ddf['filename'] = io_ddf['filename'].mask(fwrite_condition, io_ddf['args_4'])"
   ]
  },
  {
   "cell_type": "markdown",
   "metadata": {},
   "source": [
    "Some filename has redundent forward slashes"
   ]
  },
  {
   "cell_type": "code",
   "execution_count": 35,
   "metadata": {},
   "outputs": [],
   "source": [
    "io_ddf['filename'] = io_ddf['filename'].str.replace('//','/')"
   ]
  },
  {
   "cell_type": "markdown",
   "metadata": {},
   "source": [
    "### Filter recorder which have read and write operations and which have metadata.\n",
    "We assume that there is only two types of operation in I/O read/write and metadata."
   ]
  },
  {
   "cell_type": "code",
   "execution_count": 36,
   "metadata": {},
   "outputs": [],
   "source": [
    "io_ddf_read_write = io_ddf[read_condition | write_condition | fread_condition | fwrite_condition].compute()\n",
    "io_ddf_metadata = io_ddf[~read_condition & ~write_condition & ~read_condition & ~fwrite_condition].compute()"
   ]
  },
  {
   "cell_type": "markdown",
   "metadata": {},
   "source": [
    "### Build size and count to understand I/O on the io_ddf_read_write dataframe"
   ]
  },
  {
   "cell_type": "code",
   "execution_count": 37,
   "metadata": {},
   "outputs": [],
   "source": [
    "open_condition = io_ddf_read_write['func_id'].str.contains(\"open\")\n",
    "mpi_condition = io_ddf_read_write['func_id'].str.contains(\"MPI\")\n",
    "read_condition = io_ddf_read_write['func_id'].isin([\"read\", \"pread\", \"pread64\", \"readv\"])\n",
    "fread_condition = io_ddf_read_write['func_id'].isin([\"fread\"])\n",
    "close_condition = io_ddf_read_write['func_id'].str.contains('close')\n",
    "write_condition = io_ddf_read_write['func_id'].isin([\"write\", \"pwrite\", \"pwrite64\",\"writev\"])\n",
    "fwrite_condition = io_ddf_read_write['func_id'].isin([\"fwrite\"])\n",
    "readdir_condition = io_ddf_read_write['func_id'].isin([\"readdir\"])"
   ]
  },
  {
   "cell_type": "code",
   "execution_count": 38,
   "metadata": {},
   "outputs": [],
   "source": [
    "io_ddf_read_write['size'] = 0\n",
    "io_ddf_read_write['count'] = 1\n",
    "io_ddf_read_write['size'] = io_ddf_read_write['size'].mask(read_condition , io_ddf_read_write['args_3'])\n",
    "io_ddf_read_write['size'] = io_ddf_read_write['size'].mask(fread_condition, io_ddf_read_write['args_3'])\n",
    "io_ddf_read_write['count'] = io_ddf_read_write['count'].mask(fread_condition, io_ddf_read_write['args_2'])\n",
    "io_ddf_read_write['size'] = io_ddf_read_write['size'].mask(write_condition, io_ddf_read_write['args_3'])\n",
    "io_ddf_read_write['size'] = io_ddf_read_write['size'].mask(fwrite_condition, io_ddf_read_write['args_3'])\n",
    "io_ddf_read_write['count'] = io_ddf_read_write['count'].mask(fwrite_condition, io_ddf_read_write['args_2'])"
   ]
  },
  {
   "cell_type": "markdown",
   "metadata": {},
   "source": [
    "#### Corner cases"
   ]
  },
  {
   "cell_type": "code",
   "execution_count": 39,
   "metadata": {},
   "outputs": [],
   "source": [
    "io_ddf_read_write['size'] = io_ddf_read_write['size'].mask(readdir_condition , \"0\")\n",
    "io_ddf_read_write['count'] = io_ddf_read_write['count'].mask(readdir_condition , \"1\")"
   ]
  },
  {
   "cell_type": "markdown",
   "metadata": {},
   "source": [
    "#### Set Datatypes\n",
    "This is needed as by default args are string from which they are set."
   ]
  },
  {
   "cell_type": "code",
   "execution_count": 40,
   "metadata": {},
   "outputs": [],
   "source": [
    "io_ddf_read_write = io_ddf_read_write.astype({'size': 'int32','count': 'int32'})"
   ]
  },
  {
   "cell_type": "markdown",
   "metadata": {},
   "source": [
    "#### Compute Final Size\n",
    "After this point we do not use count field."
   ]
  },
  {
   "cell_type": "code",
   "execution_count": 41,
   "metadata": {},
   "outputs": [],
   "source": [
    "io_ddf_read_write['size'] = io_ddf_read_write['size'] * io_ddf_read_write['count']"
   ]
  },
  {
   "cell_type": "markdown",
   "metadata": {},
   "source": [
    "### Calculate Bandwidth in MB/s for I/O operations.\n",
    "Durations might be incorrect or equal to zero due to profilers resolution issues. Therefore, we do bandwidth calculations for only correct durations."
   ]
  },
  {
   "cell_type": "code",
   "execution_count": 42,
   "metadata": {},
   "outputs": [],
   "source": [
    "correct_dur = ((io_ddf_read_write['tend'] - io_ddf_read_write['tstart']) > 0)\n",
    "io_ddf_read_write['bandwidth'] = 0\n",
    "io_ddf_read_write['bandwidth'] = io_ddf_read_write['bandwidth'].mask(correct_dur, io_ddf_read_write['size']*1.0/(io_ddf_read_write['tend'] - io_ddf_read_write['tstart'])/1024.0/1024.0)"
   ]
  },
  {
   "cell_type": "markdown",
   "metadata": {
    "tags": [
     "Finding"
    ]
   },
   "source": [
    "### Calculate all relevent filenames in the application\n",
    "The profiler might see jsrun files and other irrelevant internal files which we filter here."
   ]
  },
  {
   "cell_type": "code",
   "execution_count": 43,
   "metadata": {},
   "outputs": [],
   "source": [
    "all_filenames = io_ddf[io_ddf['filename'].str.contains('/p/gpfs1')]['filename'].unique().compute()"
   ]
  },
  {
   "cell_type": "code",
   "execution_count": 44,
   "metadata": {
    "tags": [
     "Finding"
    ]
   },
   "outputs": [
    {
     "name": "stdout",
     "output_type": "stream",
     "text": [
      "The application accesses 3 files across all ranks\n"
     ]
    }
   ],
   "source": [
    "print(\"The application accesses {} files across all ranks\".format(len(all_filenames)))"
   ]
  },
  {
   "cell_type": "markdown",
   "metadata": {
    "tags": [
     "Finding"
    ]
   },
   "source": [
    "### Distribution of Transfer Size and Bandwidth in the application\n",
    "The transfer size is given by the size column in bytes and the bandwidth is shown in MB/s"
   ]
  },
  {
   "cell_type": "code",
   "execution_count": 45,
   "metadata": {
    "tags": [
     "Finding"
    ]
   },
   "outputs": [
    {
     "data": {
      "text/html": [
       "<div>\n",
       "<style scoped>\n",
       "    .dataframe tbody tr th:only-of-type {\n",
       "        vertical-align: middle;\n",
       "    }\n",
       "\n",
       "    .dataframe tbody tr th {\n",
       "        vertical-align: top;\n",
       "    }\n",
       "\n",
       "    .dataframe thead th {\n",
       "        text-align: right;\n",
       "    }\n",
       "</style>\n",
       "<table border=\"1\" class=\"dataframe\">\n",
       "  <thead>\n",
       "    <tr style=\"text-align: right;\">\n",
       "      <th></th>\n",
       "      <th>size</th>\n",
       "      <th>bandwidth</th>\n",
       "    </tr>\n",
       "  </thead>\n",
       "  <tbody>\n",
       "    <tr>\n",
       "      <th>count</th>\n",
       "      <td>25669.000000</td>\n",
       "      <td>25669.000000</td>\n",
       "    </tr>\n",
       "    <tr>\n",
       "      <th>mean</th>\n",
       "      <td>4095.523160</td>\n",
       "      <td>1.790175</td>\n",
       "    </tr>\n",
       "    <tr>\n",
       "      <th>std</th>\n",
       "      <td>44.106175</td>\n",
       "      <td>7.354113</td>\n",
       "    </tr>\n",
       "    <tr>\n",
       "      <th>min</th>\n",
       "      <td>16.000000</td>\n",
       "      <td>0.000000</td>\n",
       "    </tr>\n",
       "    <tr>\n",
       "      <th>25%</th>\n",
       "      <td>4096.000000</td>\n",
       "      <td>0.000000</td>\n",
       "    </tr>\n",
       "    <tr>\n",
       "      <th>50%</th>\n",
       "      <td>4096.000000</td>\n",
       "      <td>0.000000</td>\n",
       "    </tr>\n",
       "    <tr>\n",
       "      <th>75%</th>\n",
       "      <td>4096.000000</td>\n",
       "      <td>0.000000</td>\n",
       "    </tr>\n",
       "    <tr>\n",
       "      <th>max</th>\n",
       "      <td>4096.000000</td>\n",
       "      <td>32.000000</td>\n",
       "    </tr>\n",
       "  </tbody>\n",
       "</table>\n",
       "</div>"
      ],
      "text/plain": [
       "               size     bandwidth\n",
       "count  25669.000000  25669.000000\n",
       "mean    4095.523160      1.790175\n",
       "std       44.106175      7.354113\n",
       "min       16.000000      0.000000\n",
       "25%     4096.000000      0.000000\n",
       "50%     4096.000000      0.000000\n",
       "75%     4096.000000      0.000000\n",
       "max     4096.000000     32.000000"
      ]
     },
     "execution_count": 45,
     "metadata": {},
     "output_type": "execute_result"
    }
   ],
   "source": [
    "io_ddf_read_write[['size', 'bandwidth']].describe()"
   ]
  },
  {
   "cell_type": "markdown",
   "metadata": {},
   "source": [
    "### Preload the I/O dataframe for faster analysis"
   ]
  },
  {
   "cell_type": "code",
   "execution_count": 46,
   "metadata": {
    "tags": []
   },
   "outputs": [],
   "source": [
    "io_ddf = io_ddf.persist()\n",
    "result = wait(io_ddf)"
   ]
  },
  {
   "cell_type": "markdown",
   "metadata": {
    "tags": [
     "Finding"
    ]
   },
   "source": [
    "## Application Analysis"
   ]
  },
  {
   "cell_type": "markdown",
   "metadata": {},
   "source": [
    "### Num Ranks"
   ]
  },
  {
   "cell_type": "code",
   "execution_count": 47,
   "metadata": {
    "tags": [
     "Finding"
    ]
   },
   "outputs": [
    {
     "name": "stdout",
     "output_type": "stream",
     "text": [
      "Number of ranks in application 1\n"
     ]
    }
   ],
   "source": [
    "num_ranks = io_ddf_read_write['rank'].nunique()\n",
    "print(\"Number of ranks in application {}\".format(num_ranks))"
   ]
  },
  {
   "cell_type": "markdown",
   "metadata": {},
   "source": [
    "### Total I/O amount"
   ]
  },
  {
   "cell_type": "code",
   "execution_count": 48,
   "metadata": {
    "tags": [
     "Finding"
    ]
   },
   "outputs": [
    {
     "name": "stdout",
     "output_type": "stream",
     "text": [
      "Total I/O in application 0.09790806472301483 GB\n",
      "Total I/O per operation in application func_id\n",
      "fread    9.790802e-02\n",
      "read     4.470348e-08\n",
      "Name: size, dtype: float64 GB\n"
     ]
    }
   ],
   "source": [
    "total_io = io_ddf_read_write.groupby('func_id')['size'].sum()/1024.0/1024.0/1024.0\n",
    "print(\"Total I/O in application {} GB\".format(total_io.sum()))\n",
    "print(\"Total I/O per operation in application {} GB\".format(total_io))"
   ]
  },
  {
   "cell_type": "markdown",
   "metadata": {},
   "source": [
    "### I/O per rank"
   ]
  },
  {
   "cell_type": "code",
   "execution_count": 49,
   "metadata": {},
   "outputs": [
    {
     "data": {
      "text/plain": [
       "rank  func_id\n",
       "0     fread      105127936\n",
       "      read              48\n",
       "Name: size, dtype: int32"
      ]
     },
     "execution_count": 49,
     "metadata": {},
     "output_type": "execute_result"
    }
   ],
   "source": [
    "io_ddf_read_write.groupby(['rank', 'func_id'])['size'].sum()"
   ]
  },
  {
   "cell_type": "markdown",
   "metadata": {
    "tags": [
     "Finding"
    ]
   },
   "source": [
    "**rank 0 performs 100x more I/O than others. Also every other process reads data where as only rank 0 writes it.**"
   ]
  },
  {
   "cell_type": "code",
   "execution_count": 50,
   "metadata": {},
   "outputs": [
    {
     "data": {
      "text/plain": [
       "<AxesSubplot:xlabel='rank'>"
      ]
     },
     "execution_count": 50,
     "metadata": {},
     "output_type": "execute_result"
    },
    {
     "data": {
      "image/png": "[encoded data removed]",
      "text/plain": [
       "<Figure size 288x288 with 1 Axes>"
      ]
     },
     "metadata": {
      "needs_background": "light"
     },
     "output_type": "display_data"
    }
   ],
   "source": [
    "io_per_rank_gb = io_ddf_read_write.groupby(['rank'])['size'].sum()\n",
    "io_per_rank_gb.plot(kind='line',figsize=(4,4))"
   ]
  },
  {
   "cell_type": "markdown",
   "metadata": {},
   "source": [
    "### Operations Per Rank"
   ]
  },
  {
   "cell_type": "code",
   "execution_count": 51,
   "metadata": {},
   "outputs": [
    {
     "data": {
      "text/plain": [
       "<AxesSubplot:xlabel='rank'>"
      ]
     },
     "execution_count": 51,
     "metadata": {},
     "output_type": "execute_result"
    },
    {
     "data": {
      "image/png": "[encoded data removed]",
      "text/plain": [
       "<Figure size 288x288 with 1 Axes>"
      ]
     },
     "metadata": {
      "needs_background": "light"
     },
     "output_type": "display_data"
    }
   ],
   "source": [
    "io_per_rank_gb = io_ddf_read_write.groupby('rank')['count'].sum()\n",
    "io_per_rank_gb.plot(kind='line',figsize=(4,4))"
   ]
  },
  {
   "cell_type": "markdown",
   "metadata": {},
   "source": [
    "**Also rank 0 performs 2000x more operations than other ranks.**"
   ]
  },
  {
   "cell_type": "markdown",
   "metadata": {},
   "source": [
    "### Average I/O Time per process"
   ]
  },
  {
   "cell_type": "code",
   "execution_count": 52,
   "metadata": {},
   "outputs": [],
   "source": [
    "time_per_rank = io_ddf_read_write.groupby('rank')['duration'].sum()"
   ]
  },
  {
   "cell_type": "code",
   "execution_count": 53,
   "metadata": {},
   "outputs": [
    {
     "name": "stdout",
     "output_type": "stream",
     "text": [
      "time per process: Average 0.17529296875 sec, Max 0.17529296875 sec, and Min 0.17529296875 sec\n"
     ]
    }
   ],
   "source": [
    "print(\"time per process: Average {} sec, Max {} sec, and Min {} sec\".format(time_per_rank.mean(), time_per_rank.max(), time_per_rank.min()))"
   ]
  },
  {
   "cell_type": "code",
   "execution_count": 54,
   "metadata": {},
   "outputs": [
    {
     "data": {
      "text/plain": [
       "<AxesSubplot:xlabel='rank'>"
      ]
     },
     "execution_count": 54,
     "metadata": {},
     "output_type": "execute_result"
    },
    {
     "data": {
      "image/png": "[encoded data removed]",
      "text/plain": [
       "<Figure size 288x288 with 1 Axes>"
      ]
     },
     "metadata": {
      "needs_background": "light"
     },
     "output_type": "display_data"
    }
   ],
   "source": [
    "time_per_rank.plot(kind='line',figsize=(4,4))"
   ]
  },
  {
   "cell_type": "markdown",
   "metadata": {
    "tags": [
     "Finding"
    ]
   },
   "source": [
    "Most time is spent by rank 0."
   ]
  },
  {
   "cell_type": "markdown",
   "metadata": {},
   "source": [
    "### Compute Time"
   ]
  },
  {
   "cell_type": "markdown",
   "metadata": {},
   "source": [
    "#### Convert trace dataframe into memory."
   ]
  },
  {
   "cell_type": "code",
   "execution_count": 55,
   "metadata": {},
   "outputs": [
    {
     "data": {
      "text/html": [
       "<div>\n",
       "<style scoped>\n",
       "    .dataframe tbody tr th:only-of-type {\n",
       "        vertical-align: middle;\n",
       "    }\n",
       "\n",
       "    .dataframe tbody tr th {\n",
       "        vertical-align: top;\n",
       "    }\n",
       "\n",
       "    .dataframe thead th {\n",
       "        text-align: right;\n",
       "    }\n",
       "</style>\n",
       "<table border=\"1\" class=\"dataframe\">\n",
       "  <thead>\n",
       "    <tr style=\"text-align: right;\">\n",
       "      <th></th>\n",
       "      <th>index</th>\n",
       "      <th>rank</th>\n",
       "      <th>thread_id</th>\n",
       "      <th>cat</th>\n",
       "      <th>tstart</th>\n",
       "      <th>tend</th>\n",
       "      <th>func_id</th>\n",
       "      <th>level</th>\n",
       "      <th>hostname</th>\n",
       "      <th>arg_count</th>\n",
       "      <th>...</th>\n",
       "      <th>args_1</th>\n",
       "      <th>args_2</th>\n",
       "      <th>args_3</th>\n",
       "      <th>args_4</th>\n",
       "      <th>args_5</th>\n",
       "      <th>args_6</th>\n",
       "      <th>args_7</th>\n",
       "      <th>args_8</th>\n",
       "      <th>args_9</th>\n",
       "      <th>args_10</th>\n",
       "    </tr>\n",
       "  </thead>\n",
       "  <tbody>\n",
       "  </tbody>\n",
       "</table>\n",
       "<p>0 rows × 21 columns</p>\n",
       "</div>"
      ],
      "text/plain": [
       "Empty DataFrame\n",
       "Columns: [index, rank, thread_id, cat, tstart, tend, func_id, level, hostname, arg_count, app, args_1, args_2, args_3, args_4, args_5, args_6, args_7, args_8, args_9, args_10]\n",
       "Index: []\n",
       "\n",
       "[0 rows x 21 columns]"
      ]
     },
     "execution_count": 55,
     "metadata": {},
     "output_type": "execute_result"
    }
   ],
   "source": [
    "trace_ddf.head()"
   ]
  },
  {
   "cell_type": "code",
   "execution_count": 56,
   "metadata": {},
   "outputs": [],
   "source": [
    "trace_ddf_local = trace_ddf"
   ]
  },
  {
   "cell_type": "markdown",
   "metadata": {},
   "source": [
    "#### Calculate duration for trace values"
   ]
  },
  {
   "cell_type": "code",
   "execution_count": 57,
   "metadata": {},
   "outputs": [],
   "source": [
    "trace_ddf_local['duration'] = trace_ddf_local['tend'] - trace_ddf_local['tstart']"
   ]
  },
  {
   "cell_type": "code",
   "execution_count": 58,
   "metadata": {},
   "outputs": [],
   "source": [
    "#trace_ddf_local['duration'].describe().compute()"
   ]
  },
  {
   "cell_type": "code",
   "execution_count": 59,
   "metadata": {
    "tags": [
     "Finding"
    ]
   },
   "outputs": [
    {
     "name": "stdout",
     "output_type": "stream",
     "text": [
      "Profiler stored 0 negetive rows\n"
     ]
    }
   ],
   "source": [
    "negetive_durations = trace_ddf_local[trace_ddf_local['duration'] < 0]['duration'].count().compute()\n",
    "print(\"Profiler stored {} negetive rows\".format(negetive_durations))"
   ]
  },
  {
   "cell_type": "code",
   "execution_count": 60,
   "metadata": {},
   "outputs": [],
   "source": [
    "time_per_rank = trace_ddf_local.groupby('rank')['duration'].sum().compute()"
   ]
  },
  {
   "cell_type": "code",
   "execution_count": 61,
   "metadata": {
    "tags": [
     "Finding"
    ]
   },
   "outputs": [
    {
     "name": "stdout",
     "output_type": "stream",
     "text": [
      "Time per process: Average nan sec, Max nan sec, and Min nan sec\n"
     ]
    }
   ],
   "source": [
    "print(\"Time per process: Average {} sec, Max {} sec, and Min {} sec\".format(time_per_rank.mean(), time_per_rank.max(), time_per_rank.min()))"
   ]
  },
  {
   "cell_type": "code",
   "execution_count": 62,
   "metadata": {},
   "outputs": [
    {
     "data": {
      "text/plain": [
       "<AxesSubplot:xlabel='rank'>"
      ]
     },
     "execution_count": 62,
     "metadata": {},
     "output_type": "execute_result"
    },
    {
     "data": {
      "image/png": "[encoded data removed]",
      "text/plain": [
       "<Figure size 288x288 with 1 Axes>"
      ]
     },
     "metadata": {
      "needs_background": "light"
     },
     "output_type": "display_data"
    }
   ],
   "source": [
    "time_per_rank.plot(kind='line',figsize=(4,4))"
   ]
  },
  {
   "cell_type": "markdown",
   "metadata": {},
   "source": [
    "**No compute trace available**"
   ]
  },
  {
   "cell_type": "markdown",
   "metadata": {},
   "source": [
    "## Job Time"
   ]
  },
  {
   "cell_type": "code",
   "execution_count": 63,
   "metadata": {},
   "outputs": [],
   "source": [
    "job_time = ddf['tend'].max().compute()"
   ]
  },
  {
   "cell_type": "code",
   "execution_count": 64,
   "metadata": {},
   "outputs": [
    {
     "name": "stdout",
     "output_type": "stream",
     "text": [
      "Job Time in Application 1730.009521484375 sec\n"
     ]
    }
   ],
   "source": [
    "print(\"Job Time in Application {} sec\".format(job_time))"
   ]
  },
  {
   "cell_type": "markdown",
   "metadata": {},
   "source": [
    "The application run for a long time includes initialization."
   ]
  },
  {
   "cell_type": "markdown",
   "metadata": {},
   "source": [
    "## Job Intensity"
   ]
  },
  {
   "cell_type": "code",
   "execution_count": 65,
   "metadata": {},
   "outputs": [
    {
     "name": "stdout",
     "output_type": "stream",
     "text": [
      "I/O Time: 0.495849609375 sec Compute Time: nan sec\n"
     ]
    }
   ],
   "source": [
    "total_compute = trace_ddf_local.groupby('rank')['duration'].sum().max().compute()\n",
    "total_io = io_ddf.groupby('rank')['duration'].sum().max().compute()\n",
    "print(\"I/O Time: {} sec Compute Time: {} sec\".format(total_io, total_compute))"
   ]
  },
  {
   "cell_type": "code",
   "execution_count": 66,
   "metadata": {},
   "outputs": [],
   "source": [
    "io_intensity=total_io/(total_io + total_compute)\n",
    "comp_intensity=total_compute/(total_io + total_compute)"
   ]
  },
  {
   "cell_type": "code",
   "execution_count": 67,
   "metadata": {},
   "outputs": [
    {
     "name": "stdout",
     "output_type": "stream",
     "text": [
      "I/O intensity: nan, Compute intensity: nan\n"
     ]
    }
   ],
   "source": [
    "print(\"I/O intensity: {}, Compute intensity: {}\".format(io_intensity, comp_intensity))"
   ]
  },
  {
   "cell_type": "markdown",
   "metadata": {
    "tags": [
     "Finding"
    ]
   },
   "source": [
    "**Application is not compute intensive as only 4 second of the overall time (i.e. 668 sec) is spent on I/O**"
   ]
  },
  {
   "cell_type": "markdown",
   "metadata": {},
   "source": [
    "### I/O Transfer Size Distribution"
   ]
  },
  {
   "cell_type": "code",
   "execution_count": 68,
   "metadata": {},
   "outputs": [
    {
     "data": {
      "image/png": "[encoded data removed]",
      "text/plain": [
       "<Figure size 432x288 with 1 Axes>"
      ]
     },
     "metadata": {
      "needs_background": "light"
     },
     "output_type": "display_data"
    }
   ],
   "source": [
    "file_df_temp = io_ddf_read_write\n",
    "size_ranges = [0, 4*1024, 64*1024, 1024*1024, 16*1024*1024]\n",
    "size_ranges_str = []\n",
    "for range_val in size_ranges:\n",
    "    size_ranges_str.append(str(range_val))\n",
    "max_range = len(size_ranges)\n",
    "request_size = [0]*len(size_ranges)\n",
    "for i, val in enumerate(size_ranges):\n",
    "    #print(i, max_range)\n",
    "    if i < max_range - 1:\n",
    "        request_size[i] = file_df_temp[(file_df_temp['size'].ge(val)) & \n",
    "                                       (file_df_temp['size'].lt(size_ranges[i+1]))]['size'].count()\n",
    "    else:\n",
    "        request_size[i] = file_df_temp[(file_df_temp['size'] >=size_ranges[i])]['size'].count()\n",
    "\n",
    "#print(request_size)\n",
    "plt.bar(size_ranges_str, request_size)\n",
    "#file_sizes = file_df_temp['size'].to_numpy() / 1024.0 /1024.0\n",
    "#plt.hist(file_sizes, bins=100)\n",
    "plt.show()"
   ]
  },
  {
   "cell_type": "markdown",
   "metadata": {},
   "source": [
    "**Application performs a lot of small I/O <=4 KB and reads 16MB**"
   ]
  },
  {
   "cell_type": "markdown",
   "metadata": {},
   "source": [
    "### Distribution of request sizes per rank\n",
    "We need this as we see most I/O occurs by rank 0"
   ]
  },
  {
   "cell_type": "code",
   "execution_count": 69,
   "metadata": {},
   "outputs": [
    {
     "data": {
      "image/png": "[encoded data removed]",
      "text/plain": [
       "<Figure size 432x288 with 1 Axes>"
      ]
     },
     "metadata": {
      "needs_background": "light"
     },
     "output_type": "display_data"
    },
    {
     "data": {
      "image/png": "[encoded data removed]",
      "text/plain": [
       "<Figure size 432x288 with 1 Axes>"
      ]
     },
     "metadata": {
      "needs_background": "light"
     },
     "output_type": "display_data"
    },
    {
     "data": {
      "image/png": "[encoded data removed]",
      "text/plain": [
       "<Figure size 432x288 with 1 Axes>"
      ]
     },
     "metadata": {
      "needs_background": "light"
     },
     "output_type": "display_data"
    },
    {
     "data": {
      "image/png": "[encoded data removed]",
      "text/plain": [
       "<Figure size 432x288 with 1 Axes>"
      ]
     },
     "metadata": {
      "needs_background": "light"
     },
     "output_type": "display_data"
    },
    {
     "data": {
      "image/png": "[encoded data removed]",
      "text/plain": [
       "<Figure size 432x288 with 1 Axes>"
      ]
     },
     "metadata": {
      "needs_background": "light"
     },
     "output_type": "display_data"
    },
    {
     "data": {
      "image/png": "[encoded data removed]",
      "text/plain": [
       "<Figure size 432x288 with 1 Axes>"
      ]
     },
     "metadata": {
      "needs_background": "light"
     },
     "output_type": "display_data"
    },
    {
     "data": {
      "image/png": "[encoded data removed]",
      "text/plain": [
       "<Figure size 432x288 with 1 Axes>"
      ]
     },
     "metadata": {
      "needs_background": "light"
     },
     "output_type": "display_data"
    }
   ],
   "source": [
    "selected_ranks = [0,1,2,3,4,5,6]\n",
    "for rank in selected_ranks:\n",
    "    file_df_temp = io_ddf_read_write[io_ddf_read_write['rank'] == rank]\n",
    "    size_ranges = [0, 4*1024, 64*1024, 1024*1024, 16*1024*1024]\n",
    "    size_ranges_str = []\n",
    "    for range_val in size_ranges:\n",
    "        size_ranges_str.append(str(range_val))\n",
    "    max_range = len(size_ranges)\n",
    "    request_size = [0]*len(size_ranges)\n",
    "    for i, val in enumerate(size_ranges):\n",
    "        #print(i, max_range)\n",
    "        if i < max_range - 1:\n",
    "            request_size[i] = file_df_temp[(file_df_temp['size'].ge(val)) & \n",
    "                                           (file_df_temp['size'].lt(size_ranges[i+1]))]['size'].count()\n",
    "        else:\n",
    "            request_size[i] = file_df_temp[(file_df_temp['size'] >=size_ranges[i])]['size'].count()\n",
    "\n",
    "    #print(request_size)\n",
    "    plt.bar(size_ranges_str, request_size)\n",
    "    #file_sizes = file_df_temp['size'].to_numpy() / 1024.0 /1024.0\n",
    "    #plt.hist(file_sizes, bins=100)\n",
    "    plt.show()"
   ]
  },
  {
   "cell_type": "markdown",
   "metadata": {
    "tags": [
     "Finding"
    ]
   },
   "source": [
    "**The application uses a transfer size of 4K (used by rank 0) and 16MB (used by other ranks)**"
   ]
  },
  {
   "cell_type": "markdown",
   "metadata": {},
   "source": [
    "### Distribution of Bandwidth achived by application"
   ]
  },
  {
   "cell_type": "code",
   "execution_count": 70,
   "metadata": {},
   "outputs": [
    {
     "data": {
      "image/png": "[encoded data removed]",
      "text/plain": [
       "<Figure size 432x288 with 1 Axes>"
      ]
     },
     "metadata": {
      "needs_background": "light"
     },
     "output_type": "display_data"
    }
   ],
   "source": [
    "bw_ranges = [1, 128, 1024, 1024*64]\n",
    "bw_ranges_str = []\n",
    "for range_val in bw_ranges:\n",
    "    bw_ranges_str.append(str(range_val))\n",
    "max_range = len(bw_ranges)\n",
    "request_bw = [0]*len(bw_ranges)\n",
    "for i, val in enumerate(bw_ranges):\n",
    "    #print(i, max_range)\n",
    "    if i < max_range - 1:\n",
    "        request_bw[i] = file_df_temp[(file_df_temp['bandwidth'].ge(val)) & \n",
    "                                       (file_df_temp['bandwidth'].lt(bw_ranges[i+1]))]['size'].count()\n",
    "    else:\n",
    "        request_bw[i] = file_df_temp[(file_df_temp['bandwidth'] >=bw_ranges[i])]['size'].count()\n",
    "fig, ax = plt.subplots()\n",
    "ax.barh(bw_ranges_str, request_bw)\n",
    "for i, v in enumerate(request_bw):\n",
    "    ax.text(v + 3, i + .25, str(v), color='blue', fontweight='bold')\n",
    "plt.show()"
   ]
  },
  {
   "cell_type": "code",
   "execution_count": 71,
   "metadata": {},
   "outputs": [
    {
     "data": {
      "text/plain": [
       "[0, 0, 0, 0]"
      ]
     },
     "execution_count": 71,
     "metadata": {},
     "output_type": "execute_result"
    }
   ],
   "source": [
    "request_bw"
   ]
  },
  {
   "cell_type": "code",
   "execution_count": 72,
   "metadata": {},
   "outputs": [
    {
     "name": "stderr",
     "output_type": "stream",
     "text": [
      "/var/tmp/ipykernel_32987/3083809502.py:1: RuntimeWarning: invalid value encountered in true_divide\n",
      "  percentage_bw = np.array(request_bw)*100/np.sum(request_bw)\n"
     ]
    },
    {
     "data": {
      "text/plain": [
       "array([nan, nan, nan, nan])"
      ]
     },
     "execution_count": 72,
     "metadata": {},
     "output_type": "execute_result"
    }
   ],
   "source": [
    "percentage_bw = np.array(request_bw)*100/np.sum(request_bw)\n",
    "percentage_bw"
   ]
  },
  {
   "cell_type": "markdown",
   "metadata": {
    "tags": [
     "Finding"
    ]
   },
   "source": [
    "- 40% of the overall I/O got a bandwidth of 128 MB/s per process.\n",
    "- 35% achieve a low bandwidth of 64GB/s"
   ]
  },
  {
   "cell_type": "markdown",
   "metadata": {},
   "source": [
    "### Number of files read/written"
   ]
  },
  {
   "cell_type": "code",
   "execution_count": 73,
   "metadata": {
    "tags": [
     "Finding"
    ]
   },
   "outputs": [
    {
     "name": "stdout",
     "output_type": "stream",
     "text": [
      "The application accesses 3 files\n"
     ]
    }
   ],
   "source": [
    "all_filenames = io_ddf[io_ddf['filename'].str.contains('/p/gpfs1')]['filename'].unique().compute()\n",
    "print(\"The application accesses {} files\".format(len(all_filenames)))\n",
    "#print(all_filenames[:8],all_filenames[-8:])"
   ]
  },
  {
   "cell_type": "markdown",
   "metadata": {},
   "source": [
    "### I/O Operations by Application"
   ]
  },
  {
   "cell_type": "code",
   "execution_count": 74,
   "metadata": {},
   "outputs": [
    {
     "data": {
      "text/plain": [
       "func_id\n",
       "__xstat         9\n",
       "access          1\n",
       "close           3\n",
       "closedir     2303\n",
       "fclose       6575\n",
       "fopen64      6575\n",
       "fread       25666\n",
       "getcwd          1\n",
       "open            3\n",
       "opendir      2303\n",
       "read            3\n",
       "readdir     13519\n",
       "umask           2\n",
       "Name: func_id, dtype: int64"
      ]
     },
     "execution_count": 74,
     "metadata": {},
     "output_type": "execute_result"
    }
   ],
   "source": [
    "io_ddf.groupby('func_id')['func_id'].count().compute()"
   ]
  },
  {
   "cell_type": "markdown",
   "metadata": {},
   "source": [
    "**As there are 1280 ranks in total, Most I/O is performed by rank 0 rest of them do less I/O**"
   ]
  },
  {
   "cell_type": "markdown",
   "metadata": {},
   "source": [
    "### IO Operations per rank"
   ]
  },
  {
   "cell_type": "code",
   "execution_count": 75,
   "metadata": {},
   "outputs": [
    {
     "data": {
      "text/plain": [
       "rank  func_id \n",
       "0     __xstat         9\n",
       "      access          1\n",
       "      close           3\n",
       "      closedir     2303\n",
       "      fclose       6575\n",
       "      fopen64      6575\n",
       "      fread       25666\n",
       "      getcwd          1\n",
       "Name: func_id, dtype: int64"
      ]
     },
     "execution_count": 75,
     "metadata": {},
     "output_type": "execute_result"
    }
   ],
   "source": [
    "io_ddf.groupby(['rank','func_id'])['func_id'].count().compute()[:8]"
   ]
  },
  {
   "cell_type": "code",
   "execution_count": 76,
   "metadata": {},
   "outputs": [
    {
     "data": {
      "text/plain": [
       "Series([], Name: func_id, dtype: int64)"
      ]
     },
     "execution_count": 76,
     "metadata": {},
     "output_type": "execute_result"
    }
   ],
   "source": [
    "io_ddf.groupby(['rank','func_id'])['func_id'].count().compute()[32:40]"
   ]
  },
  {
   "cell_type": "markdown",
   "metadata": {
    "tags": [
     "Finding"
    ]
   },
   "source": [
    "**These confirm our hypothesis that most I/O is performed by rank 0 rest of them do less I/O**"
   ]
  },
  {
   "cell_type": "markdown",
   "metadata": {},
   "source": [
    "### Bandwidth per request distribution\n",
    "We calculate the achived bandwidth per request size."
   ]
  },
  {
   "cell_type": "code",
   "execution_count": 77,
   "metadata": {},
   "outputs": [
    {
     "data": {
      "image/png": "[encoded data removed]",
      "text/plain": [
       "<Figure size 1152x288 with 1 Axes>"
      ]
     },
     "metadata": {
      "needs_background": "light"
     },
     "output_type": "display_data"
    },
    {
     "data": {
      "image/png": "[encoded data removed]",
      "text/plain": [
       "<Figure size 1152x288 with 1 Axes>"
      ]
     },
     "metadata": {
      "needs_background": "light"
     },
     "output_type": "display_data"
    },
    {
     "data": {
      "image/png": "[encoded data removed]",
      "text/plain": [
       "<Figure size 1152x288 with 1 Axes>"
      ]
     },
     "metadata": {
      "needs_background": "light"
     },
     "output_type": "display_data"
    },
    {
     "data": {
      "image/png": "[encoded data removed]",
      "text/plain": [
       "<Figure size 1152x288 with 1 Axes>"
      ]
     },
     "metadata": {
      "needs_background": "light"
     },
     "output_type": "display_data"
    },
    {
     "data": {
      "image/png": "[encoded data removed]",
      "text/plain": [
       "<Figure size 1152x288 with 1 Axes>"
      ]
     },
     "metadata": {
      "needs_background": "light"
     },
     "output_type": "display_data"
    },
    {
     "name": "stderr",
     "output_type": "stream",
     "text": [
      "No handles with labels found to put in legend.\n",
      "/var/tmp/ipykernel_32987/1534957091.py:27: UserWarning: Tight layout not applied. The left and right margins cannot be made large enough to accommodate all axes decorations. \n",
      "  fig.tight_layout()\n"
     ]
    }
   ],
   "source": [
    "ranks = range(40)\n",
    "ranks_str = []\n",
    "for rank in ranks:\n",
    "    ranks_str.append(str(rank))\n",
    "size_ranges = [0, 4*1024, 64*1024, 1024*1024, 16*1024*1024]\n",
    "request_size = [[]]*len(size_ranges)\n",
    "for i, val in enumerate(size_ranges):\n",
    "    request_size[i] = [0]*len(ranks)\n",
    "    for j,rank in enumerate(ranks):\n",
    "        \n",
    "        file_df_temp = io_ddf_read_write[io_ddf_read_write['rank'] == rank]\n",
    "        max_range = len(size_ranges)\n",
    "        if i < max_range - 1:\n",
    "            request_size[i][j] = file_df_temp[(file_df_temp['size'].ge(val)) & \n",
    "                                           (file_df_temp['size'].lt(size_ranges[i+1]))]['bandwidth'].mean()\n",
    "        else:\n",
    "            request_size[i][j] = file_df_temp[(file_df_temp['size'] >=size_ranges[i])]['bandwidth'].mean()\n",
    "#fig, ax = plt.subplots(figsize=(16,4))\n",
    "#width = 0.35\n",
    "#plt.figure()\n",
    "for i, val in enumerate(size_ranges):\n",
    "    plt.figure(figsize=(16,4))\n",
    "    rects1 = plt.bar(ranks_str, request_size[i], 0.35, label=str(i))\n",
    "    plt.show()\n",
    "ax.legend()\n",
    "\n",
    "fig.tight_layout()\n",
    "\n",
    "plt.show()"
   ]
  },
  {
   "cell_type": "markdown",
   "metadata": {},
   "source": [
    "**Larger Request sizes have larger bandwidth. However as 4KB write dominates the application I/O we see small bandwidth overall**"
   ]
  },
  {
   "cell_type": "markdown",
   "metadata": {},
   "source": [
    "### Overlapping of Compute and I/O"
   ]
  },
  {
   "cell_type": "code",
   "execution_count": 78,
   "metadata": {},
   "outputs": [
    {
     "data": {
      "text/plain": [
       "count    1.0\n",
       "mean     1.0\n",
       "std      NaN\n",
       "min      1.0\n",
       "25%      1.0\n",
       "50%      1.0\n",
       "75%      1.0\n",
       "max      1.0\n",
       "Name: thread_id, dtype: float64"
      ]
     },
     "execution_count": 78,
     "metadata": {},
     "output_type": "execute_result"
    }
   ],
   "source": [
    "io_ddf.groupby('rank')['thread_id'].nunique().describe().compute()"
   ]
  },
  {
   "cell_type": "markdown",
   "metadata": {},
   "source": [
    "#### No additional threads means I/O is synchronous to compute. I.e. all I/O is unoverlapped."
   ]
  },
  {
   "cell_type": "markdown",
   "metadata": {},
   "source": [
    "### Timeline\n",
    "The timeline analysis shows how each rank performs I/O over the runtime of the applications"
   ]
  },
  {
   "cell_type": "code",
   "execution_count": 79,
   "metadata": {},
   "outputs": [],
   "source": [
    "time_step=200 # in seconds"
   ]
  },
  {
   "cell_type": "markdown",
   "metadata": {},
   "source": [
    "#### Request Size Timeline"
   ]
  },
  {
   "cell_type": "code",
   "execution_count": 80,
   "metadata": {},
   "outputs": [
    {
     "data": {
      "image/png": "[encoded data removed]",
      "text/plain": [
       "<Figure size 432x288 with 1 Axes>"
      ]
     },
     "metadata": {
      "needs_background": "light"
     },
     "output_type": "display_data"
    },
    {
     "data": {
      "text/plain": [
       "<BarContainer object of 5 artists>"
      ]
     },
     "execution_count": 80,
     "metadata": {},
     "output_type": "execute_result"
    },
    {
     "data": {
      "image/png": "[encoded data removed]",
      "text/plain": [
       "<Figure size 1152x288 with 1 Axes>"
      ]
     },
     "metadata": {
      "needs_background": "light"
     },
     "output_type": "display_data"
    }
   ],
   "source": [
    "import math\n",
    "values = np.arange(0, math.ceil(job_time), time_step)\n",
    "values_int = range(len(values))\n",
    "values_str = []\n",
    "timeline_ts = [0]*len(values_int)\n",
    "prev = 0\n",
    "for i in values_int:\n",
    "    values_str.append(str(i))\n",
    "    contains = (io_ddf_read_write['tstart'] >=prev) & (io_ddf_read_write['tend'] <values[i])\n",
    "    timeline_ts[i] = io_ddf_read_write[contains]['size'].sum()/1024.0/1024.0\n",
    "    prev = i\n",
    "plt.bar(values_str[:4], timeline_ts[:4])\n",
    "plt.show()\n",
    "plt.figure(figsize=(16,4))\n",
    "plt.bar(values_str[4:], timeline_ts[4:])"
   ]
  },
  {
   "cell_type": "markdown",
   "metadata": {
    "tags": [
     "Finding"
    ]
   },
   "source": [
    "**Most of the I/O (20GB) is performed in first 40 seconds and rest 1GB happens in the rest of the time**"
   ]
  },
  {
   "cell_type": "markdown",
   "metadata": {},
   "source": [
    "### Time Timeline"
   ]
  },
  {
   "cell_type": "code",
   "execution_count": 81,
   "metadata": {},
   "outputs": [
    {
     "data": {
      "image/png": "[encoded data removed]",
      "text/plain": [
       "<Figure size 432x288 with 1 Axes>"
      ]
     },
     "metadata": {
      "needs_background": "light"
     },
     "output_type": "display_data"
    },
    {
     "data": {
      "text/plain": [
       "<BarContainer object of 4 artists>"
      ]
     },
     "execution_count": 81,
     "metadata": {},
     "output_type": "execute_result"
    },
    {
     "data": {
      "image/png": "[encoded data removed]",
      "text/plain": [
       "<Figure size 1152x288 with 1 Axes>"
      ]
     },
     "metadata": {
      "needs_background": "light"
     },
     "output_type": "display_data"
    }
   ],
   "source": [
    "import math\n",
    "values = np.arange(0, math.ceil(job_time), time_step)\n",
    "values_int = range(len(values))\n",
    "timeline_ts = [0]*len(values_int)\n",
    "prev = 0\n",
    "values_str = []\n",
    "for i in values_int:\n",
    "    values_str.append(str(i))\n",
    "    contains = (io_ddf_read_write['tstart'] >=prev) & (io_ddf_read_write['tend'] <values[i])\n",
    "    timeline_ts[i] = io_ddf_read_write[contains]['duration'].sum()\n",
    "    prev = i\n",
    "plt.bar(values_str[:5], timeline_ts[:5])\n",
    "plt.show()\n",
    "plt.figure(figsize=(16,4))\n",
    "plt.bar(values_str[5:], timeline_ts[5:])"
   ]
  },
  {
   "cell_type": "markdown",
   "metadata": {},
   "source": [
    "#### Bandwidth Timeline"
   ]
  },
  {
   "cell_type": "code",
   "execution_count": 82,
   "metadata": {},
   "outputs": [
    {
     "data": {
      "image/png": "[encoded data removed]",
      "text/plain": [
       "<Figure size 432x288 with 1 Axes>"
      ]
     },
     "metadata": {
      "needs_background": "light"
     },
     "output_type": "display_data"
    },
    {
     "data": {
      "text/plain": [
       "<BarContainer object of 4 artists>"
      ]
     },
     "execution_count": 82,
     "metadata": {},
     "output_type": "execute_result"
    },
    {
     "data": {
      "image/png": "[encoded data removed]",
      "text/plain": [
       "<Figure size 1152x288 with 1 Axes>"
      ]
     },
     "metadata": {
      "needs_background": "light"
     },
     "output_type": "display_data"
    }
   ],
   "source": [
    "import math\n",
    "values = np.arange(0, math.ceil(job_time), time_step)\n",
    "values_int = range(len(values))\n",
    "timeline_ts = [0]*len(values_int)\n",
    "prev = 0\n",
    "values_str = []\n",
    "for i in values_int:\n",
    "    values_str.append(str(i))\n",
    "    contains = (io_ddf_read_write['tstart'] >=prev) & (io_ddf_read_write['tend'] <values[i])\n",
    "    timeline_ts[i] = io_ddf_read_write[contains]['bandwidth'].mean()/10.0\n",
    "    prev = i\n",
    "plt.bar(values_str[:5], timeline_ts[:5])\n",
    "plt.show()\n",
    "plt.figure(figsize=(16,4))\n",
    "plt.bar(values_str[5:], timeline_ts[5:])"
   ]
  },
  {
   "cell_type": "markdown",
   "metadata": {},
   "source": [
    "**This supports our previous observation as the bandwidth is the measure of I/O performance of the application.**"
   ]
  },
  {
   "cell_type": "markdown",
   "metadata": {},
   "source": [
    "#### Bandwidth Timeline Per Rank"
   ]
  },
  {
   "cell_type": "code",
   "execution_count": 83,
   "metadata": {},
   "outputs": [
    {
     "name": "stdout",
     "output_type": "stream",
     "text": [
      "rank 0\n"
     ]
    },
    {
     "data": {
      "image/png": "[encoded data removed]",
      "text/plain": [
       "<Figure size 1152x288 with 1 Axes>"
      ]
     },
     "metadata": {
      "needs_background": "light"
     },
     "output_type": "display_data"
    },
    {
     "name": "stdout",
     "output_type": "stream",
     "text": [
      "rank 4\n"
     ]
    },
    {
     "data": {
      "image/png": "[encoded data removed]",
      "text/plain": [
       "<Figure size 432x288 with 1 Axes>"
      ]
     },
     "metadata": {
      "needs_background": "light"
     },
     "output_type": "display_data"
    },
    {
     "name": "stdout",
     "output_type": "stream",
     "text": [
      "rank 8\n"
     ]
    },
    {
     "data": {
      "image/png": "[encoded data removed]",
      "text/plain": [
       "<Figure size 432x288 with 1 Axes>"
      ]
     },
     "metadata": {
      "needs_background": "light"
     },
     "output_type": "display_data"
    },
    {
     "name": "stdout",
     "output_type": "stream",
     "text": [
      "rank 12\n"
     ]
    },
    {
     "data": {
      "image/png": "[encoded data removed]",
      "text/plain": [
       "<Figure size 432x288 with 1 Axes>"
      ]
     },
     "metadata": {
      "needs_background": "light"
     },
     "output_type": "display_data"
    },
    {
     "name": "stdout",
     "output_type": "stream",
     "text": [
      "rank 20\n"
     ]
    },
    {
     "data": {
      "image/png": "[encoded data removed]",
      "text/plain": [
       "<Figure size 432x288 with 1 Axes>"
      ]
     },
     "metadata": {
      "needs_background": "light"
     },
     "output_type": "display_data"
    }
   ],
   "source": [
    "import math\n",
    "\n",
    "selected_rank = [0, 4, 8, 12, 20]\n",
    "\n",
    "plt.figure(figsize=(16,4))\n",
    "for rank in selected_rank:\n",
    "    io_df_rank = io_ddf_read_write[io_ddf_read_write['rank'] == rank]\n",
    "    values = np.arange(0, math.ceil(job_time), time_step)\n",
    "    values_int = range(len(values))\n",
    "    timeline_ts = [0]*len(values_int)\n",
    "    value_str = []\n",
    "    prev = 0\n",
    "    for i in values_int:\n",
    "        value_str.append(str(values[i]))\n",
    "        contains = (io_df_rank['tstart'] >=prev) & (io_df_rank['tend'] <values[i])\n",
    "        timeline_ts[i] = io_df_rank[contains]['bandwidth'].mean()\n",
    "        prev = i\n",
    "    print(\"rank {}\".format(rank))\n",
    "    plt.bar(value_str, timeline_ts)\n",
    "    plt.show()"
   ]
  },
  {
   "cell_type": "markdown",
   "metadata": {
    "tags": [
     "Finding"
    ]
   },
   "source": [
    "**Most I/O happens in the first 40 sec and most bandwidth is achieved from PFS**"
   ]
  },
  {
   "cell_type": "markdown",
   "metadata": {},
   "source": [
    "#### Request Size Timeline per Rank"
   ]
  },
  {
   "cell_type": "code",
   "execution_count": 84,
   "metadata": {},
   "outputs": [
    {
     "name": "stdout",
     "output_type": "stream",
     "text": [
      "rank 0\n"
     ]
    },
    {
     "data": {
      "image/png": "[encoded data removed]",
      "text/plain": [
       "<Figure size 1152x288 with 1 Axes>"
      ]
     },
     "metadata": {
      "needs_background": "light"
     },
     "output_type": "display_data"
    },
    {
     "name": "stdout",
     "output_type": "stream",
     "text": [
      "rank 4\n"
     ]
    },
    {
     "data": {
      "image/png": "[encoded data removed]",
      "text/plain": [
       "<Figure size 1152x288 with 1 Axes>"
      ]
     },
     "metadata": {
      "needs_background": "light"
     },
     "output_type": "display_data"
    },
    {
     "name": "stdout",
     "output_type": "stream",
     "text": [
      "rank 8\n"
     ]
    },
    {
     "data": {
      "image/png": "[encoded data removed]",
      "text/plain": [
       "<Figure size 1152x288 with 1 Axes>"
      ]
     },
     "metadata": {
      "needs_background": "light"
     },
     "output_type": "display_data"
    },
    {
     "name": "stdout",
     "output_type": "stream",
     "text": [
      "rank 12\n"
     ]
    },
    {
     "data": {
      "image/png": "[encoded data removed]",
      "text/plain": [
       "<Figure size 1152x288 with 1 Axes>"
      ]
     },
     "metadata": {
      "needs_background": "light"
     },
     "output_type": "display_data"
    },
    {
     "name": "stdout",
     "output_type": "stream",
     "text": [
      "rank 20\n"
     ]
    },
    {
     "data": {
      "image/png": "[encoded data removed]",
      "text/plain": [
       "<Figure size 1152x288 with 1 Axes>"
      ]
     },
     "metadata": {
      "needs_background": "light"
     },
     "output_type": "display_data"
    }
   ],
   "source": [
    "import math\n",
    "selected_rank = [0, 4, 8, 12, 20]\n",
    "for rank in selected_rank:\n",
    "    io_df_rank = io_ddf_read_write[io_ddf_read_write['rank'] == rank]\n",
    "    values = np.arange(0, math.ceil(job_time), time_step)\n",
    "    values_int = range(len(values))\n",
    "    timeline_ts = [0]*len(values_int)\n",
    "    value_str = []\n",
    "    prev = 0\n",
    "    for i in values_int:\n",
    "        value_str.append(str(i))\n",
    "        contains = (io_df_rank['tstart'] >=prev) & (io_df_rank['tend'] <values[i])\n",
    "        timeline_ts[i] = io_df_rank[contains]['size'].sum()/1024.0/1024.0\n",
    "        prev = i\n",
    "    print(\"rank {}\".format(rank))\n",
    "    plt.figure(figsize=(16,4))\n",
    "    plt.bar(value_str, timeline_ts)\n",
    "    plt.show()"
   ]
  },
  {
   "cell_type": "markdown",
   "metadata": {
    "tags": [
     "Finding"
    ]
   },
   "source": [
    "**Only rank 0 does I/O throughout the time. Rest perform read in first 40 seconds and perform computations.** "
   ]
  },
  {
   "cell_type": "markdown",
   "metadata": {},
   "source": [
    "## Find file which are independent or shared\n",
    "- Make all thread id start from 0 and unique across ranks\n",
    "- Group by filename nunique thread_id\n",
    "- Find all filename with nunique > 1"
   ]
  },
  {
   "cell_type": "code",
   "execution_count": 85,
   "metadata": {},
   "outputs": [],
   "source": [
    "thread_index_series = io_ddf.groupby(['rank', 'thread_id'])['thread_id'].nunique().cumsum().compute()"
   ]
  },
  {
   "cell_type": "code",
   "execution_count": 86,
   "metadata": {},
   "outputs": [],
   "source": [
    "io_ddf['thread_index'] = 0\n",
    "for index,item in thread_index_series.iteritems():\n",
    "    condition = (io_ddf['rank'] == index[0]) & (io_ddf['thread_id'] == index[1])\n",
    "    io_ddf['thread_index'] = io_ddf['thread_index'].mask(condition , item - 1)"
   ]
  },
  {
   "cell_type": "code",
   "execution_count": 87,
   "metadata": {},
   "outputs": [
    {
     "name": "stdout",
     "output_type": "stream",
     "text": [
      "We have 1 threads across 1 ranks\n"
     ]
    }
   ],
   "source": [
    "threads = io_ddf['thread_index'].nunique().compute()\n",
    "print(\"We have {} threads across {} ranks\".format(threads, num_ranks))"
   ]
  },
  {
   "cell_type": "code",
   "execution_count": 88,
   "metadata": {},
   "outputs": [],
   "source": [
    "filename_series = io_ddf[io_ddf['filename'].str.contains('/p/gpfs1')].groupby(['filename'])['thread_index'].nunique().compute()"
   ]
  },
  {
   "cell_type": "code",
   "execution_count": 89,
   "metadata": {
    "tags": [
     "Finding"
    ]
   },
   "outputs": [
    {
     "name": "stdout",
     "output_type": "stream",
     "text": [
      "3 files that are accessed by application by only one rank\n"
     ]
    }
   ],
   "source": [
    "independent_files = filename_series[filename_series == 1]\n",
    "print(\"{} files that are accessed by application by only one rank\".format(len(independent_files)))"
   ]
  },
  {
   "cell_type": "code",
   "execution_count": 90,
   "metadata": {
    "tags": [
     "Finding"
    ]
   },
   "outputs": [
    {
     "name": "stdout",
     "output_type": "stream",
     "text": [
      "0 files that are accessed by application by more than one rank\n"
     ]
    }
   ],
   "source": [
    "shared_files = filename_series[filename_series > 1]\n",
    "print(\"{} files that are accessed by application by more than one rank\".format(len(shared_files)))"
   ]
  },
  {
   "cell_type": "markdown",
   "metadata": {
    "tags": [
     "Finding"
    ]
   },
   "source": [
    "This application doesnt share files. That is it follows a File per process pattern."
   ]
  },
  {
   "cell_type": "markdown",
   "metadata": {},
   "source": [
    "### Data Flow\n",
    "We plot how different ranks in the job are accessing data."
   ]
  },
  {
   "cell_type": "code",
   "execution_count": 91,
   "metadata": {},
   "outputs": [
    {
     "ename": "IndexError",
     "evalue": "index 0 is out of bounds for axis 0 with size 0",
     "output_type": "error",
     "traceback": [
      "\u001b[0;31m---------------------------------------------------------------------------\u001b[0m",
      "\u001b[0;31mIndexError\u001b[0m                                Traceback (most recent call last)",
      "\u001b[0;32m/var/tmp/ipykernel_32987/1387019383.py\u001b[0m in \u001b[0;36m<module>\u001b[0;34m\u001b[0m\n\u001b[1;32m      3\u001b[0m \u001b[0mselected_indices\u001b[0m \u001b[0;34m=\u001b[0m \u001b[0mrange\u001b[0m\u001b[0;34m(\u001b[0m\u001b[0;36m1\u001b[0m\u001b[0;34m)\u001b[0m\u001b[0;34m\u001b[0m\u001b[0;34m\u001b[0m\u001b[0m\n\u001b[1;32m      4\u001b[0m \u001b[0;32mfor\u001b[0m \u001b[0mselected_index\u001b[0m \u001b[0;32min\u001b[0m \u001b[0mselected_indices\u001b[0m\u001b[0;34m:\u001b[0m\u001b[0;34m\u001b[0m\u001b[0;34m\u001b[0m\u001b[0m\n\u001b[0;32m----> 5\u001b[0;31m     \u001b[0mselected_shared_file\u001b[0m \u001b[0;34m=\u001b[0m \u001b[0mshared_files\u001b[0m\u001b[0;34m.\u001b[0m\u001b[0mindex\u001b[0m\u001b[0;34m[\u001b[0m\u001b[0mselected_index\u001b[0m\u001b[0;34m]\u001b[0m\u001b[0;34m\u001b[0m\u001b[0;34m\u001b[0m\u001b[0m\n\u001b[0m\u001b[1;32m      6\u001b[0m     \u001b[0mio_access_rank\u001b[0m \u001b[0;34m=\u001b[0m \u001b[0mio_ddf\u001b[0m\u001b[0;34m[\u001b[0m\u001b[0mio_ddf\u001b[0m\u001b[0;34m[\u001b[0m\u001b[0;34m'filename'\u001b[0m\u001b[0;34m]\u001b[0m \u001b[0;34m==\u001b[0m \u001b[0mselected_shared_file\u001b[0m\u001b[0;34m]\u001b[0m\u001b[0;34m.\u001b[0m\u001b[0mgroupby\u001b[0m\u001b[0;34m(\u001b[0m\u001b[0;34m[\u001b[0m\u001b[0;34m'rank'\u001b[0m\u001b[0;34m,\u001b[0m\u001b[0;34m'func_id'\u001b[0m\u001b[0;34m]\u001b[0m\u001b[0;34m)\u001b[0m\u001b[0;34m[\u001b[0m\u001b[0;34m'func_id'\u001b[0m\u001b[0;34m]\u001b[0m\u001b[0;34m.\u001b[0m\u001b[0mcount\u001b[0m\u001b[0;34m(\u001b[0m\u001b[0;34m)\u001b[0m\u001b[0;34m.\u001b[0m\u001b[0mcompute\u001b[0m\u001b[0;34m(\u001b[0m\u001b[0;34m)\u001b[0m\u001b[0;34m\u001b[0m\u001b[0;34m\u001b[0m\u001b[0m\n\u001b[1;32m      7\u001b[0m     \u001b[0mdot\u001b[0m\u001b[0;34m.\u001b[0m\u001b[0mnode\u001b[0m\u001b[0;34m(\u001b[0m\u001b[0mselected_shared_file\u001b[0m\u001b[0;34m)\u001b[0m\u001b[0;34m\u001b[0m\u001b[0;34m\u001b[0m\u001b[0m\n",
      "\u001b[0;32m/usr/workspace/iopp/.conda/envs/jupyter/lib/python3.9/site-packages/pandas/core/indexes/base.py\u001b[0m in \u001b[0;36m__getitem__\u001b[0;34m(self, key)\u001b[0m\n\u001b[1;32m   4602\u001b[0m         \u001b[0;32mif\u001b[0m \u001b[0mis_scalar\u001b[0m\u001b[0;34m(\u001b[0m\u001b[0mkey\u001b[0m\u001b[0;34m)\u001b[0m\u001b[0;34m:\u001b[0m\u001b[0;34m\u001b[0m\u001b[0;34m\u001b[0m\u001b[0m\n\u001b[1;32m   4603\u001b[0m             \u001b[0mkey\u001b[0m \u001b[0;34m=\u001b[0m \u001b[0mcom\u001b[0m\u001b[0;34m.\u001b[0m\u001b[0mcast_scalar_indexer\u001b[0m\u001b[0;34m(\u001b[0m\u001b[0mkey\u001b[0m\u001b[0;34m,\u001b[0m \u001b[0mwarn_float\u001b[0m\u001b[0;34m=\u001b[0m\u001b[0;32mTrue\u001b[0m\u001b[0;34m)\u001b[0m\u001b[0;34m\u001b[0m\u001b[0;34m\u001b[0m\u001b[0m\n\u001b[0;32m-> 4604\u001b[0;31m             \u001b[0;32mreturn\u001b[0m \u001b[0mgetitem\u001b[0m\u001b[0;34m(\u001b[0m\u001b[0mkey\u001b[0m\u001b[0;34m)\u001b[0m\u001b[0;34m\u001b[0m\u001b[0;34m\u001b[0m\u001b[0m\n\u001b[0m\u001b[1;32m   4605\u001b[0m \u001b[0;34m\u001b[0m\u001b[0m\n\u001b[1;32m   4606\u001b[0m         \u001b[0;32mif\u001b[0m \u001b[0misinstance\u001b[0m\u001b[0;34m(\u001b[0m\u001b[0mkey\u001b[0m\u001b[0;34m,\u001b[0m \u001b[0mslice\u001b[0m\u001b[0;34m)\u001b[0m\u001b[0;34m:\u001b[0m\u001b[0;34m\u001b[0m\u001b[0;34m\u001b[0m\u001b[0m\n",
      "\u001b[0;31mIndexError\u001b[0m: index 0 is out of bounds for axis 0 with size 0"
     ]
    }
   ],
   "source": [
    "import graphviz\n",
    "dot = graphviz.Digraph()\n",
    "selected_indices = range(1)\n",
    "for selected_index in selected_indices:\n",
    "    selected_shared_file = shared_files.index[selected_index]\n",
    "    io_access_rank = io_ddf[io_ddf['filename'] == selected_shared_file].groupby(['rank','func_id'])['func_id'].count().compute()\n",
    "    dot.node(selected_shared_file)\n",
    "    for index,item in io_access_rank.iteritems():\n",
    "        rank = index[0]\n",
    "        func_id = index[1]\n",
    "        count = item\n",
    "        dot.node(str(rank))\n",
    "        dot.node(func_id)\n",
    "        dot.edge(str(rank),func_id)\n",
    "        if \"read\" in func_id:\n",
    "            dot.edge(selected_shared_file, func_id, label=str(count))\n",
    "        else:\n",
    "            dot.edge(func_id,selected_shared_file, label=str(count))"
   ]
  },
  {
   "cell_type": "code",
   "execution_count": 92,
   "metadata": {},
   "outputs": [
    {
     "data": {
      "image/svg+xml": [
       "<?xml version=\"1.0\" encoding=\"UTF-8\" standalone=\"no\"?>\n",
       "<!DOCTYPE svg PUBLIC \"-//W3C//DTD SVG 1.1//EN\"\n",
       " \"http://www.w3.org/Graphics/SVG/1.1/DTD/svg11.dtd\">\n",
       "<!-- Generated by graphviz version 2.42.3 (20191010.1750)\n",
       " -->\n",
       "<!-- Title: %3 Pages: 1 -->\n",
       "<svg width=\"8pt\" height=\"8pt\"\n",
       " viewBox=\"0.00 0.00 8.00 8.00\" xmlns=\"http://www.w3.org/2000/svg\" xmlns:xlink=\"http://www.w3.org/1999/xlink\">\n",
       "<g id=\"graph0\" class=\"graph\" transform=\"scale(1 1) rotate(0) translate(4 4)\">\n",
       "<title>%3</title>\n",
       "<polygon fill=\"white\" stroke=\"transparent\" points=\"-4,4 -4,-4 4,-4 4,4 -4,4\"/>\n",
       "</g>\n",
       "</svg>\n"
      ],
      "text/plain": [
       "<graphviz.dot.Digraph at 0x20008e348130>"
      ]
     },
     "execution_count": 92,
     "metadata": {},
     "output_type": "execute_result"
    }
   ],
   "source": [
    "dot"
   ]
  },
  {
   "cell_type": "code",
   "execution_count": 93,
   "metadata": {
    "tags": []
   },
   "outputs": [],
   "source": [
    "import graphviz\n",
    "dot = graphviz.Digraph()\n",
    "selected_indices = [0]\n",
    "for selected_index in selected_indices:\n",
    "    if len(independent_files) > selected_index:\n",
    "        selected_file = independent_files.index[selected_index]\n",
    "        io_access_rank = io_ddf[io_ddf['filename'] == selected_file].groupby(['rank','func_id'])['func_id'].count().compute()\n",
    "        dot.node(selected_file)\n",
    "        for index,item in io_access_rank.iteritems():\n",
    "            rank = index[0]\n",
    "            func_id = index[1]\n",
    "            count = item\n",
    "            dot.node(str(rank))\n",
    "            dot.node(func_id)\n",
    "            dot.edge(str(rank),func_id)\n",
    "            if \"read\" in func_id:\n",
    "                dot.edge(selected_file, func_id, label=str(count))\n",
    "            else:\n",
    "                dot.edge(func_id,selected_file, label=str(count))"
   ]
  },
  {
   "cell_type": "code",
   "execution_count": 94,
   "metadata": {},
   "outputs": [
    {
     "data": {
      "image/svg+xml": [
       "<?xml version=\"1.0\" encoding=\"UTF-8\" standalone=\"no\"?>\n",
       "<!DOCTYPE svg PUBLIC \"-//W3C//DTD SVG 1.1//EN\"\n",
       " \"http://www.w3.org/Graphics/SVG/1.1/DTD/svg11.dtd\">\n",
       "<!-- Generated by graphviz version 2.42.3 (20191010.1750)\n",
       " -->\n",
       "<!-- Title: %3 Pages: 1 -->\n",
       "<svg width=\"637pt\" height=\"291pt\"\n",
       " viewBox=\"0.00 0.00 637.06 291.00\" xmlns=\"http://www.w3.org/2000/svg\" xmlns:xlink=\"http://www.w3.org/1999/xlink\">\n",
       "<g id=\"graph0\" class=\"graph\" transform=\"scale(1 1) rotate(0) translate(4 287)\">\n",
       "<title>%3</title>\n",
       "<polygon fill=\"white\" stroke=\"transparent\" points=\"-4,4 -4,-287 633.06,-287 633.06,4 -4,4\"/>\n",
       "<!-- /p/gpfs1/iopp/temp/montage&#45;workflow/scratch/run_dir/mProject -->\n",
       "<g id=\"node1\" class=\"node\">\n",
       "<title>/p/gpfs1/iopp/temp/montage&#45;workflow/scratch/run_dir/mProject</title>\n",
       "<ellipse fill=\"none\" stroke=\"black\" cx=\"307.42\" cy=\"-105\" rx=\"307.35\" ry=\"18\"/>\n",
       "<text text-anchor=\"middle\" x=\"307.42\" y=\"-101.3\" font-family=\"Times,serif\" font-size=\"14.00\">/p/gpfs1/iopp/temp/montage&#45;workflow/scratch/run_dir/mProject</text>\n",
       "</g>\n",
       "<!-- read -->\n",
       "<g id=\"node5\" class=\"node\">\n",
       "<title>read</title>\n",
       "<ellipse fill=\"none\" stroke=\"black\" cx=\"474.42\" cy=\"-18\" rx=\"31.7\" ry=\"18\"/>\n",
       "<text text-anchor=\"middle\" x=\"474.42\" y=\"-14.3\" font-family=\"Times,serif\" font-size=\"14.00\">read</text>\n",
       "</g>\n",
       "<!-- /p/gpfs1/iopp/temp/montage&#45;workflow/scratch/run_dir/mProject&#45;&gt;read -->\n",
       "<g id=\"edge6\" class=\"edge\">\n",
       "<title>/p/gpfs1/iopp/temp/montage&#45;workflow/scratch/run_dir/mProject&#45;&gt;read</title>\n",
       "<path fill=\"none\" stroke=\"black\" d=\"M340.82,-87C370.36,-71.96 413.19,-50.17 442.34,-35.33\"/>\n",
       "<polygon fill=\"black\" stroke=\"black\" points=\"443.96,-38.43 451.28,-30.78 440.78,-32.19 443.96,-38.43\"/>\n",
       "<text text-anchor=\"middle\" x=\"405.42\" y=\"-57.8\" font-family=\"Times,serif\" font-size=\"14.00\">1</text>\n",
       "</g>\n",
       "<!-- 0 -->\n",
       "<g id=\"node2\" class=\"node\">\n",
       "<title>0</title>\n",
       "<ellipse fill=\"none\" stroke=\"black\" cx=\"393.42\" cy=\"-265\" rx=\"27\" ry=\"18\"/>\n",
       "<text text-anchor=\"middle\" x=\"393.42\" y=\"-261.3\" font-family=\"Times,serif\" font-size=\"14.00\">0</text>\n",
       "</g>\n",
       "<!-- close -->\n",
       "<g id=\"node3\" class=\"node\">\n",
       "<title>close</title>\n",
       "<ellipse fill=\"none\" stroke=\"black\" cx=\"307.42\" cy=\"-192\" rx=\"34.39\" ry=\"18\"/>\n",
       "<text text-anchor=\"middle\" x=\"307.42\" y=\"-188.3\" font-family=\"Times,serif\" font-size=\"14.00\">close</text>\n",
       "</g>\n",
       "<!-- 0&#45;&gt;close -->\n",
       "<g id=\"edge1\" class=\"edge\">\n",
       "<title>0&#45;&gt;close</title>\n",
       "<path fill=\"none\" stroke=\"black\" d=\"M376.84,-250.31C364.44,-240.07 347.25,-225.88 333.07,-214.18\"/>\n",
       "<polygon fill=\"black\" stroke=\"black\" points=\"335.08,-211.29 325.14,-207.63 330.62,-216.69 335.08,-211.29\"/>\n",
       "</g>\n",
       "<!-- open -->\n",
       "<g id=\"node4\" class=\"node\">\n",
       "<title>open</title>\n",
       "<ellipse fill=\"none\" stroke=\"black\" cx=\"393.42\" cy=\"-192\" rx=\"33.29\" ry=\"18\"/>\n",
       "<text text-anchor=\"middle\" x=\"393.42\" y=\"-188.3\" font-family=\"Times,serif\" font-size=\"14.00\">open</text>\n",
       "</g>\n",
       "<!-- 0&#45;&gt;open -->\n",
       "<g id=\"edge3\" class=\"edge\">\n",
       "<title>0&#45;&gt;open</title>\n",
       "<path fill=\"none\" stroke=\"black\" d=\"M393.42,-246.81C393.42,-238.79 393.42,-229.05 393.42,-220.07\"/>\n",
       "<polygon fill=\"black\" stroke=\"black\" points=\"396.92,-220.03 393.42,-210.03 389.92,-220.03 396.92,-220.03\"/>\n",
       "</g>\n",
       "<!-- 0&#45;&gt;read -->\n",
       "<g id=\"edge5\" class=\"edge\">\n",
       "<title>0&#45;&gt;read</title>\n",
       "<path fill=\"none\" stroke=\"black\" d=\"M418.39,-257.48C468.14,-242.99 578.69,-202.89 623.42,-123 651.15,-73.48 566.32,-42.2 513.44,-27.98\"/>\n",
       "<polygon fill=\"black\" stroke=\"black\" points=\"514.21,-24.56 503.65,-25.44 512.45,-31.34 514.21,-24.56\"/>\n",
       "</g>\n",
       "<!-- close&#45;&gt;/p/gpfs1/iopp/temp/montage&#45;workflow/scratch/run_dir/mProject -->\n",
       "<g id=\"edge2\" class=\"edge\">\n",
       "<title>close&#45;&gt;/p/gpfs1/iopp/temp/montage&#45;workflow/scratch/run_dir/mProject</title>\n",
       "<path fill=\"none\" stroke=\"black\" d=\"M307.42,-173.8C307.42,-162.16 307.42,-146.55 307.42,-133.24\"/>\n",
       "<polygon fill=\"black\" stroke=\"black\" points=\"310.92,-133.18 307.42,-123.18 303.92,-133.18 310.92,-133.18\"/>\n",
       "<text text-anchor=\"middle\" x=\"312.42\" y=\"-144.8\" font-family=\"Times,serif\" font-size=\"14.00\">1</text>\n",
       "</g>\n",
       "<!-- open&#45;&gt;/p/gpfs1/iopp/temp/montage&#45;workflow/scratch/run_dir/mProject -->\n",
       "<g id=\"edge4\" class=\"edge\">\n",
       "<title>open&#45;&gt;/p/gpfs1/iopp/temp/montage&#45;workflow/scratch/run_dir/mProject</title>\n",
       "<path fill=\"none\" stroke=\"black\" d=\"M378.05,-175.8C365.29,-163.2 346.92,-145.03 332.11,-130.4\"/>\n",
       "<polygon fill=\"black\" stroke=\"black\" points=\"334.31,-127.65 324.73,-123.11 329.39,-132.63 334.31,-127.65\"/>\n",
       "<text text-anchor=\"middle\" x=\"360.42\" y=\"-144.8\" font-family=\"Times,serif\" font-size=\"14.00\">1</text>\n",
       "</g>\n",
       "</g>\n",
       "</svg>\n"
      ],
      "text/plain": [
       "<graphviz.dot.Digraph at 0x20006d89f550>"
      ]
     },
     "execution_count": 94,
     "metadata": {},
     "output_type": "execute_result"
    }
   ],
   "source": [
    "dot"
   ]
  },
  {
   "cell_type": "markdown",
   "metadata": {},
   "source": [
    "## Calculate Access Pattern\n",
    "- Calculate segment_index\n",
    "  - select file_ptr based on open flag\n",
    "  - update file_ptr based on operation\n",
    "  - do a cum_sum on file_ptr to calculate final file_ptr\n",
    "  - assign segment_index based on granularity (median transfer size)\n",
    "- isolate segment index into\n",
    "  - sequential flag if segment index is increasing\n",
    "  - consequitive flag if segment index is increasing and one after the other"
   ]
  },
  {
   "cell_type": "markdown",
   "metadata": {},
   "source": [
    "#### Persist the current version of I/O dataframe."
   ]
  },
  {
   "cell_type": "code",
   "execution_count": 95,
   "metadata": {
    "tags": []
   },
   "outputs": [],
   "source": [
    "io_ddf = io_ddf.persist()\n",
    "result = wait(io_ddf)"
   ]
  },
  {
   "cell_type": "markdown",
   "metadata": {},
   "source": [
    "### Select files which have no seeks and those which have"
   ]
  },
  {
   "cell_type": "code",
   "execution_count": 96,
   "metadata": {},
   "outputs": [
    {
     "name": "stdout",
     "output_type": "stream",
     "text": [
      "0 files have seek operations\n"
     ]
    }
   ],
   "source": [
    "files_with_seek = io_ddf[io_ddf['func_id'].str.contains('seek') & io_ddf['filename'].str.contains('/p/gpfs')]['filename'].unique().compute()\n",
    "print(\"{} files have seek operations\".format(len(files_with_seek)))"
   ]
  },
  {
   "cell_type": "code",
   "execution_count": 97,
   "metadata": {},
   "outputs": [
    {
     "data": {
      "text/plain": [
       "Series([], Name: filename, dtype: object)"
      ]
     },
     "execution_count": 97,
     "metadata": {},
     "output_type": "execute_result"
    }
   ],
   "source": [
    "files_with_seek"
   ]
  },
  {
   "cell_type": "code",
   "execution_count": 98,
   "metadata": {},
   "outputs": [
    {
     "data": {
      "text/plain": [
       "0    /p/gpfs1/iopp/temp/montage-workflow/scratch/ru...\n",
       "1    /p/gpfs1/iopp/temp/montage-workflow/scratch/ru...\n",
       "2    /p/gpfs1/iopp/temp/montage-workflow/scratch/ru...\n",
       "Name: filename, dtype: object"
      ]
     },
     "execution_count": 98,
     "metadata": {},
     "output_type": "execute_result"
    }
   ],
   "source": [
    "all_filenames"
   ]
  },
  {
   "cell_type": "code",
   "execution_count": 99,
   "metadata": {},
   "outputs": [
    {
     "name": "stdout",
     "output_type": "stream",
     "text": [
      "3 files have no seek operations and hence are sequential\n"
     ]
    }
   ],
   "source": [
    "files_without_seek = set(all_filenames) - set(files_with_seek)\n",
    "print(\"{} files have no seek operations and hence are sequential\".format(len(files_without_seek)))"
   ]
  },
  {
   "cell_type": "code",
   "execution_count": null,
   "metadata": {},
   "outputs": [],
   "source": []
  },
  {
   "cell_type": "markdown",
   "metadata": {
    "tags": []
   },
   "source": [
    "### Per File Analysis\n",
    "- Total I/O amount\n",
    "- Total I/O time (average per process)\n",
    "- Average Bandwidth\n",
    "- I/O Request Distribution"
   ]
  },
  {
   "cell_type": "code",
   "execution_count": 100,
   "metadata": {},
   "outputs": [
    {
     "data": {
      "text/plain": [
       "filename\n",
       "/p/gpfs1/iopp/temp/montage-workflow/scratch/run_dir/pposs2ukstu_red_002_003.fits         50.128922\n",
       "/p/gpfs1/iopp/temp/montage-workflow/scratch/run_dir/pposs2ukstu_red_002_003_area.fits    50.128922\n",
       "/p/gpfs1/iopp/temp/montage-workflow/scratch/run_dir/mProject                              0.000015\n",
       "Name: size, dtype: float64"
      ]
     },
     "execution_count": 100,
     "metadata": {},
     "output_type": "execute_result"
    }
   ],
   "source": [
    "per_file_size = io_ddf_read_write.groupby(['filename'])['size'].sum()\n",
    "per_file_size = per_file_size / 1024.0/1024.0\n",
    "per_file_size = per_file_size.sort_values(ascending=False)\n",
    "per_file_size.head(5)"
   ]
  },
  {
   "cell_type": "code",
   "execution_count": 101,
   "metadata": {},
   "outputs": [
    {
     "data": {
      "text/plain": [
       "filename\n",
       "/p/gpfs1/iopp/temp/montage-workflow/scratch/run_dir/pposs2ukstu_red_002_003.fits         0.088623\n",
       "/p/gpfs1/iopp/temp/montage-workflow/scratch/run_dir/pposs2ukstu_red_002_003_area.fits    0.086670\n",
       "/p/gpfs1/iopp/temp/montage-workflow/scratch/run_dir/mProject                             0.000000\n",
       "Name: duration, dtype: float32"
      ]
     },
     "execution_count": 101,
     "metadata": {},
     "output_type": "execute_result"
    }
   ],
   "source": [
    "per_file_time = io_ddf_read_write.groupby(['filename'])['duration'].sum().sort_values(ascending=False)\n",
    "per_file_time.head(5)"
   ]
  },
  {
   "cell_type": "code",
   "execution_count": 102,
   "metadata": {},
   "outputs": [
    {
     "data": {
      "text/plain": [
       "filename\n",
       "/p/gpfs1/iopp/temp/montage-workflow/scratch/run_dir/mProject                                 0\n",
       "/p/gpfs1/iopp/temp/montage-workflow/scratch/run_dir/pposs2ukstu_red_002_003_area.fits    22720\n",
       "/p/gpfs1/iopp/temp/montage-workflow/scratch/run_dir/pposs2ukstu_red_002_003.fits         23232\n",
       "Name: bandwidth, dtype: int64"
      ]
     },
     "execution_count": 102,
     "metadata": {},
     "output_type": "execute_result"
    }
   ],
   "source": [
    "per_file_bw = io_ddf_read_write.groupby(['filename'])['bandwidth'].sum().sort_values(ascending=True)\n",
    "per_file_bw.head(5)"
   ]
  },
  {
   "cell_type": "code",
   "execution_count": 103,
   "metadata": {},
   "outputs": [],
   "source": [
    "import graphviz\n",
    "dot = graphviz.Digraph()\n",
    "selected_indices = [0]\n",
    "for selected_index in selected_indices:\n",
    "    selected_file = per_file_size.index[selected_index]\n",
    "    io_access_rank = io_ddf[io_ddf['filename'] == selected_file].groupby(['rank','func_id'])['func_id'].count().compute()\n",
    "    dot.node(selected_file)\n",
    "    for index,item in io_access_rank.iteritems():\n",
    "        rank = index[0]\n",
    "        func_id = index[1]\n",
    "        count = item\n",
    "        if \"read\" in func_id or \"write\" in func_id:\n",
    "            dot.node(str(rank))\n",
    "            dot.node(func_id)\n",
    "            dot.edge(str(rank),func_id)\n",
    "            if \"read\" in func_id:\n",
    "                dot.edge(selected_file, func_id, label=str(count))\n",
    "            elif \"write\" in func_id:\n",
    "                dot.edge(func_id,selected_file, label=str(count))"
   ]
  },
  {
   "cell_type": "code",
   "execution_count": 104,
   "metadata": {},
   "outputs": [
    {
     "data": {
      "image/svg+xml": [
       "<?xml version=\"1.0\" encoding=\"UTF-8\" standalone=\"no\"?>\n",
       "<!DOCTYPE svg PUBLIC \"-//W3C//DTD SVG 1.1//EN\"\n",
       " \"http://www.w3.org/Graphics/SVG/1.1/DTD/svg11.dtd\">\n",
       "<!-- Generated by graphviz version 2.42.3 (20191010.1750)\n",
       " -->\n",
       "<!-- Title: %3 Pages: 1 -->\n",
       "<svg width=\"896pt\" height=\"131pt\"\n",
       " viewBox=\"0.00 0.00 895.51 131.00\" xmlns=\"http://www.w3.org/2000/svg\" xmlns:xlink=\"http://www.w3.org/1999/xlink\">\n",
       "<g id=\"graph0\" class=\"graph\" transform=\"scale(1 1) rotate(0) translate(4 127)\">\n",
       "<title>%3</title>\n",
       "<polygon fill=\"white\" stroke=\"transparent\" points=\"-4,4 -4,-127 891.51,-127 891.51,4 -4,4\"/>\n",
       "<!-- /p/gpfs1/iopp/temp/montage&#45;workflow/scratch/run_dir/pposs2ukstu_red_002_003.fits -->\n",
       "<g id=\"node1\" class=\"node\">\n",
       "<title>/p/gpfs1/iopp/temp/montage&#45;workflow/scratch/run_dir/pposs2ukstu_red_002_003.fits</title>\n",
       "<ellipse fill=\"none\" stroke=\"black\" cx=\"407.51\" cy=\"-105\" rx=\"407.53\" ry=\"18\"/>\n",
       "<text text-anchor=\"middle\" x=\"407.51\" y=\"-101.3\" font-family=\"Times,serif\" font-size=\"14.00\">/p/gpfs1/iopp/temp/montage&#45;workflow/scratch/run_dir/pposs2ukstu_red_002_003.fits</text>\n",
       "</g>\n",
       "<!-- fread -->\n",
       "<g id=\"node3\" class=\"node\">\n",
       "<title>fread</title>\n",
       "<ellipse fill=\"none\" stroke=\"black\" cx=\"591.51\" cy=\"-18\" rx=\"35.19\" ry=\"18\"/>\n",
       "<text text-anchor=\"middle\" x=\"591.51\" y=\"-14.3\" font-family=\"Times,serif\" font-size=\"14.00\">fread</text>\n",
       "</g>\n",
       "<!-- /p/gpfs1/iopp/temp/montage&#45;workflow/scratch/run_dir/pposs2ukstu_red_002_003.fits&#45;&gt;fread -->\n",
       "<g id=\"edge2\" class=\"edge\">\n",
       "<title>/p/gpfs1/iopp/temp/montage&#45;workflow/scratch/run_dir/pposs2ukstu_red_002_003.fits&#45;&gt;fread</title>\n",
       "<path fill=\"none\" stroke=\"black\" d=\"M444.31,-87C477.1,-71.86 524.73,-49.85 556.86,-35.01\"/>\n",
       "<polygon fill=\"black\" stroke=\"black\" points=\"558.68,-38.02 566.29,-30.65 555.75,-31.67 558.68,-38.02\"/>\n",
       "<text text-anchor=\"middle\" x=\"534.51\" y=\"-57.8\" font-family=\"Times,serif\" font-size=\"14.00\">12833</text>\n",
       "</g>\n",
       "<!-- read -->\n",
       "<g id=\"node4\" class=\"node\">\n",
       "<title>read</title>\n",
       "<ellipse fill=\"none\" stroke=\"black\" cx=\"749.51\" cy=\"-18\" rx=\"31.7\" ry=\"18\"/>\n",
       "<text text-anchor=\"middle\" x=\"749.51\" y=\"-14.3\" font-family=\"Times,serif\" font-size=\"14.00\">read</text>\n",
       "</g>\n",
       "<!-- /p/gpfs1/iopp/temp/montage&#45;workflow/scratch/run_dir/pposs2ukstu_red_002_003.fits&#45;&gt;read -->\n",
       "<g id=\"edge4\" class=\"edge\">\n",
       "<title>/p/gpfs1/iopp/temp/montage&#45;workflow/scratch/run_dir/pposs2ukstu_red_002_003.fits&#45;&gt;read</title>\n",
       "<path fill=\"none\" stroke=\"black\" d=\"M483.62,-87.28C508.5,-81.66 536.22,-75.23 561.51,-69 613.67,-56.14 673.58,-39.96 711.48,-29.55\"/>\n",
       "<polygon fill=\"black\" stroke=\"black\" points=\"712.85,-32.8 721.57,-26.77 711,-26.05 712.85,-32.8\"/>\n",
       "<text text-anchor=\"middle\" x=\"624.51\" y=\"-57.8\" font-family=\"Times,serif\" font-size=\"14.00\">1</text>\n",
       "</g>\n",
       "<!-- 0 -->\n",
       "<g id=\"node2\" class=\"node\">\n",
       "<title>0</title>\n",
       "<ellipse fill=\"none\" stroke=\"black\" cx=\"860.51\" cy=\"-105\" rx=\"27\" ry=\"18\"/>\n",
       "<text text-anchor=\"middle\" x=\"860.51\" y=\"-101.3\" font-family=\"Times,serif\" font-size=\"14.00\">0</text>\n",
       "</g>\n",
       "<!-- 0&#45;&gt;fread -->\n",
       "<g id=\"edge1\" class=\"edge\">\n",
       "<title>0&#45;&gt;fread</title>\n",
       "<path fill=\"none\" stroke=\"black\" d=\"M839.43,-93.37C834.59,-91.12 829.43,-88.86 824.51,-87 758.81,-62.08 679.83,-40.77 632.76,-28.94\"/>\n",
       "<polygon fill=\"black\" stroke=\"black\" points=\"633.48,-25.51 622.93,-26.49 631.79,-32.31 633.48,-25.51\"/>\n",
       "</g>\n",
       "<!-- 0&#45;&gt;read -->\n",
       "<g id=\"edge3\" class=\"edge\">\n",
       "<title>0&#45;&gt;read</title>\n",
       "<path fill=\"none\" stroke=\"black\" d=\"M843.17,-90.72C825.16,-76.93 796.77,-55.19 775.96,-39.25\"/>\n",
       "<polygon fill=\"black\" stroke=\"black\" points=\"777.91,-36.34 767.84,-33.04 773.65,-41.89 777.91,-36.34\"/>\n",
       "</g>\n",
       "</g>\n",
       "</svg>\n"
      ],
      "text/plain": [
       "<graphviz.dot.Digraph at 0x20009e36da30>"
      ]
     },
     "execution_count": 104,
     "metadata": {},
     "output_type": "execute_result"
    }
   ],
   "source": [
    "dot"
   ]
  },
  {
   "cell_type": "code",
   "execution_count": 105,
   "metadata": {},
   "outputs": [],
   "source": [
    "import graphviz\n",
    "dot = graphviz.Digraph()\n",
    "selected_indices = [0]\n",
    "for selected_index in selected_indices:\n",
    "    selected_file = per_file_time.index[selected_index]\n",
    "    io_access_rank = io_ddf[io_ddf['filename'] == selected_file].groupby(['rank','func_id'])['func_id'].count().compute()\n",
    "    dot.node(selected_file)\n",
    "    for index,item in io_access_rank.iteritems():\n",
    "        rank = index[0]\n",
    "        func_id = index[1]\n",
    "        count = item\n",
    "        dot.node(str(rank))\n",
    "        dot.node(func_id)\n",
    "        dot.edge(str(rank),func_id)\n",
    "        if \"read\" in func_id:\n",
    "            dot.edge(selected_file, func_id, label=str(count))\n",
    "        else:\n",
    "            dot.edge(func_id,selected_file, label=str(count))"
   ]
  },
  {
   "cell_type": "code",
   "execution_count": 106,
   "metadata": {},
   "outputs": [
    {
     "data": {
      "image/svg+xml": [
       "<?xml version=\"1.0\" encoding=\"UTF-8\" standalone=\"no\"?>\n",
       "<!DOCTYPE svg PUBLIC \"-//W3C//DTD SVG 1.1//EN\"\n",
       " \"http://www.w3.org/Graphics/SVG/1.1/DTD/svg11.dtd\">\n",
       "<!-- Generated by graphviz version 2.42.3 (20191010.1750)\n",
       " -->\n",
       "<!-- Title: %3 Pages: 1 -->\n",
       "<svg width=\"863pt\" height=\"291pt\"\n",
       " viewBox=\"0.00 0.00 863.46 291.00\" xmlns=\"http://www.w3.org/2000/svg\" xmlns:xlink=\"http://www.w3.org/1999/xlink\">\n",
       "<g id=\"graph0\" class=\"graph\" transform=\"scale(1 1) rotate(0) translate(4 287)\">\n",
       "<title>%3</title>\n",
       "<polygon fill=\"white\" stroke=\"transparent\" points=\"-4,4 -4,-287 859.46,-287 859.46,4 -4,4\"/>\n",
       "<!-- /p/gpfs1/iopp/temp/montage&#45;workflow/scratch/run_dir/pposs2ukstu_red_002_003.fits -->\n",
       "<g id=\"node1\" class=\"node\">\n",
       "<title>/p/gpfs1/iopp/temp/montage&#45;workflow/scratch/run_dir/pposs2ukstu_red_002_003.fits</title>\n",
       "<ellipse fill=\"none\" stroke=\"black\" cx=\"427.56\" cy=\"-105\" rx=\"407.53\" ry=\"18\"/>\n",
       "<text text-anchor=\"middle\" x=\"427.56\" y=\"-101.3\" font-family=\"Times,serif\" font-size=\"14.00\">/p/gpfs1/iopp/temp/montage&#45;workflow/scratch/run_dir/pposs2ukstu_red_002_003.fits</text>\n",
       "</g>\n",
       "<!-- fread -->\n",
       "<g id=\"node6\" class=\"node\">\n",
       "<title>fread</title>\n",
       "<ellipse fill=\"none\" stroke=\"black\" cx=\"297.56\" cy=\"-18\" rx=\"35.19\" ry=\"18\"/>\n",
       "<text text-anchor=\"middle\" x=\"297.56\" y=\"-14.3\" font-family=\"Times,serif\" font-size=\"14.00\">fread</text>\n",
       "</g>\n",
       "<!-- /p/gpfs1/iopp/temp/montage&#45;workflow/scratch/run_dir/pposs2ukstu_red_002_003.fits&#45;&gt;fread -->\n",
       "<g id=\"edge8\" class=\"edge\">\n",
       "<title>/p/gpfs1/iopp/temp/montage&#45;workflow/scratch/run_dir/pposs2ukstu_red_002_003.fits&#45;&gt;fread</title>\n",
       "<path fill=\"none\" stroke=\"black\" d=\"M401.56,-87C379.98,-72.89 349.28,-52.82 326.84,-38.14\"/>\n",
       "<polygon fill=\"black\" stroke=\"black\" points=\"328.66,-35.15 318.37,-32.61 324.83,-41.01 328.66,-35.15\"/>\n",
       "<text text-anchor=\"middle\" x=\"393.56\" y=\"-57.8\" font-family=\"Times,serif\" font-size=\"14.00\">12833</text>\n",
       "</g>\n",
       "<!-- read -->\n",
       "<g id=\"node8\" class=\"node\">\n",
       "<title>read</title>\n",
       "<ellipse fill=\"none\" stroke=\"black\" cx=\"557.56\" cy=\"-18\" rx=\"31.7\" ry=\"18\"/>\n",
       "<text text-anchor=\"middle\" x=\"557.56\" y=\"-14.3\" font-family=\"Times,serif\" font-size=\"14.00\">read</text>\n",
       "</g>\n",
       "<!-- /p/gpfs1/iopp/temp/montage&#45;workflow/scratch/run_dir/pposs2ukstu_red_002_003.fits&#45;&gt;read -->\n",
       "<g id=\"edge12\" class=\"edge\">\n",
       "<title>/p/gpfs1/iopp/temp/montage&#45;workflow/scratch/run_dir/pposs2ukstu_red_002_003.fits&#45;&gt;read</title>\n",
       "<path fill=\"none\" stroke=\"black\" d=\"M453.55,-87C475.4,-72.72 506.58,-52.33 529.09,-37.61\"/>\n",
       "<polygon fill=\"black\" stroke=\"black\" points=\"531.11,-40.48 537.56,-32.08 527.28,-34.62 531.11,-40.48\"/>\n",
       "<text text-anchor=\"middle\" x=\"505.56\" y=\"-57.8\" font-family=\"Times,serif\" font-size=\"14.00\">1</text>\n",
       "</g>\n",
       "<!-- 0 -->\n",
       "<g id=\"node2\" class=\"node\">\n",
       "<title>0</title>\n",
       "<ellipse fill=\"none\" stroke=\"black\" cx=\"426.56\" cy=\"-265\" rx=\"27\" ry=\"18\"/>\n",
       "<text text-anchor=\"middle\" x=\"426.56\" y=\"-261.3\" font-family=\"Times,serif\" font-size=\"14.00\">0</text>\n",
       "</g>\n",
       "<!-- close -->\n",
       "<g id=\"node3\" class=\"node\">\n",
       "<title>close</title>\n",
       "<ellipse fill=\"none\" stroke=\"black\" cx=\"470.56\" cy=\"-192\" rx=\"34.39\" ry=\"18\"/>\n",
       "<text text-anchor=\"middle\" x=\"470.56\" y=\"-188.3\" font-family=\"Times,serif\" font-size=\"14.00\">close</text>\n",
       "</g>\n",
       "<!-- 0&#45;&gt;close -->\n",
       "<g id=\"edge1\" class=\"edge\">\n",
       "<title>0&#45;&gt;close</title>\n",
       "<path fill=\"none\" stroke=\"black\" d=\"M436.54,-247.89C441.98,-239.12 448.83,-228.07 454.95,-218.19\"/>\n",
       "<polygon fill=\"black\" stroke=\"black\" points=\"458.02,-219.88 460.31,-209.54 452.07,-216.2 458.02,-219.88\"/>\n",
       "</g>\n",
       "<!-- fclose -->\n",
       "<g id=\"node4\" class=\"node\">\n",
       "<title>fclose</title>\n",
       "<ellipse fill=\"none\" stroke=\"black\" cx=\"561.56\" cy=\"-192\" rx=\"38.19\" ry=\"18\"/>\n",
       "<text text-anchor=\"middle\" x=\"561.56\" y=\"-188.3\" font-family=\"Times,serif\" font-size=\"14.00\">fclose</text>\n",
       "</g>\n",
       "<!-- 0&#45;&gt;fclose -->\n",
       "<g id=\"edge3\" class=\"edge\">\n",
       "<title>0&#45;&gt;fclose</title>\n",
       "<path fill=\"none\" stroke=\"black\" d=\"M447.06,-253.22C468.48,-241.95 502.42,-224.1 527.8,-210.75\"/>\n",
       "<polygon fill=\"black\" stroke=\"black\" points=\"529.51,-213.81 536.73,-206.06 526.25,-207.62 529.51,-213.81\"/>\n",
       "</g>\n",
       "<!-- fopen64 -->\n",
       "<g id=\"node5\" class=\"node\">\n",
       "<title>fopen64</title>\n",
       "<ellipse fill=\"none\" stroke=\"black\" cx=\"285.56\" cy=\"-192\" rx=\"48.19\" ry=\"18\"/>\n",
       "<text text-anchor=\"middle\" x=\"285.56\" y=\"-188.3\" font-family=\"Times,serif\" font-size=\"14.00\">fopen64</text>\n",
       "</g>\n",
       "<!-- 0&#45;&gt;fopen64 -->\n",
       "<g id=\"edge5\" class=\"edge\">\n",
       "<title>0&#45;&gt;fopen64</title>\n",
       "<path fill=\"none\" stroke=\"black\" d=\"M405.75,-253.52C383.76,-242.45 348.63,-224.76 322.02,-211.36\"/>\n",
       "<polygon fill=\"black\" stroke=\"black\" points=\"323.5,-208.19 312.99,-206.81 320.35,-214.44 323.5,-208.19\"/>\n",
       "</g>\n",
       "<!-- 0&#45;&gt;fread -->\n",
       "<g id=\"edge7\" class=\"edge\">\n",
       "<title>0&#45;&gt;fread</title>\n",
       "<path fill=\"none\" stroke=\"black\" d=\"M399.52,-264.82C322.24,-265.5 100.28,-255.41 10.56,-123 -48.54,-35.78 157.22,-21.31 252.12,-19.19\"/>\n",
       "<polygon fill=\"black\" stroke=\"black\" points=\"252.37,-22.69 262.31,-19 252.24,-15.69 252.37,-22.69\"/>\n",
       "</g>\n",
       "<!-- open -->\n",
       "<g id=\"node7\" class=\"node\">\n",
       "<title>open</title>\n",
       "<ellipse fill=\"none\" stroke=\"black\" cx=\"384.56\" cy=\"-192\" rx=\"33.29\" ry=\"18\"/>\n",
       "<text text-anchor=\"middle\" x=\"384.56\" y=\"-188.3\" font-family=\"Times,serif\" font-size=\"14.00\">open</text>\n",
       "</g>\n",
       "<!-- 0&#45;&gt;open -->\n",
       "<g id=\"edge9\" class=\"edge\">\n",
       "<title>0&#45;&gt;open</title>\n",
       "<path fill=\"none\" stroke=\"black\" d=\"M417.03,-247.89C411.84,-239.12 405.3,-228.07 399.46,-218.19\"/>\n",
       "<polygon fill=\"black\" stroke=\"black\" points=\"402.45,-216.36 394.34,-209.54 396.42,-219.93 402.45,-216.36\"/>\n",
       "</g>\n",
       "<!-- 0&#45;&gt;read -->\n",
       "<g id=\"edge11\" class=\"edge\">\n",
       "<title>0&#45;&gt;read</title>\n",
       "<path fill=\"none\" stroke=\"black\" d=\"M453.56,-264.76C530.76,-265.27 752.69,-254.78 844.56,-123 905.55,-35.51 693.29,-21.3 599.7,-19.23\"/>\n",
       "<polygon fill=\"black\" stroke=\"black\" points=\"599.5,-15.73 589.43,-19.04 599.37,-22.72 599.5,-15.73\"/>\n",
       "</g>\n",
       "<!-- close&#45;&gt;/p/gpfs1/iopp/temp/montage&#45;workflow/scratch/run_dir/pposs2ukstu_red_002_003.fits -->\n",
       "<g id=\"edge2\" class=\"edge\">\n",
       "<title>close&#45;&gt;/p/gpfs1/iopp/temp/montage&#45;workflow/scratch/run_dir/pposs2ukstu_red_002_003.fits</title>\n",
       "<path fill=\"none\" stroke=\"black\" d=\"M462.06,-174.21C455.98,-162.18 447.67,-145.75 440.73,-132.03\"/>\n",
       "<polygon fill=\"black\" stroke=\"black\" points=\"443.82,-130.39 436.18,-123.05 437.57,-133.55 443.82,-130.39\"/>\n",
       "<text text-anchor=\"middle\" x=\"457.56\" y=\"-144.8\" font-family=\"Times,serif\" font-size=\"14.00\">1</text>\n",
       "</g>\n",
       "<!-- fclose&#45;&gt;/p/gpfs1/iopp/temp/montage&#45;workflow/scratch/run_dir/pposs2ukstu_red_002_003.fits -->\n",
       "<g id=\"edge4\" class=\"edge\">\n",
       "<title>fclose&#45;&gt;/p/gpfs1/iopp/temp/montage&#45;workflow/scratch/run_dir/pposs2ukstu_red_002_003.fits</title>\n",
       "<path fill=\"none\" stroke=\"black\" d=\"M539.73,-177.15C518.99,-164 487.44,-143.99 463.08,-128.53\"/>\n",
       "<polygon fill=\"black\" stroke=\"black\" points=\"464.78,-125.47 454.46,-123.07 461.03,-131.38 464.78,-125.47\"/>\n",
       "<text text-anchor=\"middle\" x=\"508.56\" y=\"-144.8\" font-family=\"Times,serif\" font-size=\"14.00\">1</text>\n",
       "</g>\n",
       "<!-- fopen64&#45;&gt;/p/gpfs1/iopp/temp/montage&#45;workflow/scratch/run_dir/pposs2ukstu_red_002_003.fits -->\n",
       "<g id=\"edge6\" class=\"edge\">\n",
       "<title>fopen64&#45;&gt;/p/gpfs1/iopp/temp/montage&#45;workflow/scratch/run_dir/pposs2ukstu_red_002_003.fits</title>\n",
       "<path fill=\"none\" stroke=\"black\" d=\"M309.97,-176.39C332.1,-163.14 365.04,-143.42 390.44,-128.22\"/>\n",
       "<polygon fill=\"black\" stroke=\"black\" points=\"392.29,-131.19 399.07,-123.05 388.7,-125.18 392.29,-131.19\"/>\n",
       "<text text-anchor=\"middle\" x=\"370.56\" y=\"-144.8\" font-family=\"Times,serif\" font-size=\"14.00\">1</text>\n",
       "</g>\n",
       "<!-- open&#45;&gt;/p/gpfs1/iopp/temp/montage&#45;workflow/scratch/run_dir/pposs2ukstu_red_002_003.fits -->\n",
       "<g id=\"edge10\" class=\"edge\">\n",
       "<title>open&#45;&gt;/p/gpfs1/iopp/temp/montage&#45;workflow/scratch/run_dir/pposs2ukstu_red_002_003.fits</title>\n",
       "<path fill=\"none\" stroke=\"black\" d=\"M393.05,-174.21C399.14,-162.18 407.45,-145.75 414.39,-132.03\"/>\n",
       "<polygon fill=\"black\" stroke=\"black\" points=\"417.54,-133.55 418.93,-123.05 411.3,-130.39 417.54,-133.55\"/>\n",
       "<text text-anchor=\"middle\" x=\"414.56\" y=\"-144.8\" font-family=\"Times,serif\" font-size=\"14.00\">1</text>\n",
       "</g>\n",
       "</g>\n",
       "</svg>\n"
      ],
      "text/plain": [
       "<graphviz.dot.Digraph at 0x20008e284c70>"
      ]
     },
     "execution_count": 106,
     "metadata": {},
     "output_type": "execute_result"
    }
   ],
   "source": [
    "dot"
   ]
  },
  {
   "cell_type": "code",
   "execution_count": 107,
   "metadata": {},
   "outputs": [],
   "source": [
    "import graphviz\n",
    "dot = graphviz.Digraph()\n",
    "selected_indices = range(5)\n",
    "for selected_index in selected_indices:\n",
    "    if len(per_file_bw) > selected_index:\n",
    "        selected_file = per_file_bw.index[selected_index]\n",
    "        io_access_rank = io_ddf[io_ddf['filename'] == selected_file].groupby(['rank','func_id'])['func_id'].count().compute()\n",
    "        dot.node(selected_file)\n",
    "        for index,item in io_access_rank.iteritems():\n",
    "            rank = index[0]\n",
    "            func_id = index[1]\n",
    "            count = item\n",
    "            dot.node(str(rank))\n",
    "            dot.node(func_id)\n",
    "            dot.edge(str(rank),func_id)\n",
    "            if \"read\" in func_id:\n",
    "                dot.edge(selected_file, func_id, label=str(count))\n",
    "            else:\n",
    "                dot.edge(func_id,selected_file, label=str(count))"
   ]
  },
  {
   "cell_type": "code",
   "execution_count": 108,
   "metadata": {},
   "outputs": [
    {
     "data": {
      "image/svg+xml": [
       "<?xml version=\"1.0\" encoding=\"UTF-8\" standalone=\"no\"?>\n",
       "<!DOCTYPE svg PUBLIC \"-//W3C//DTD SVG 1.1//EN\"\n",
       " \"http://www.w3.org/Graphics/SVG/1.1/DTD/svg11.dtd\">\n",
       "<!-- Generated by graphviz version 2.42.3 (20191010.1750)\n",
       " -->\n",
       "<!-- Title: %3 Pages: 1 -->\n",
       "<svg width=\"2400pt\" height=\"291pt\"\n",
       " viewBox=\"0.00 0.00 2400.04 291.00\" xmlns=\"http://www.w3.org/2000/svg\" xmlns:xlink=\"http://www.w3.org/1999/xlink\">\n",
       "<g id=\"graph0\" class=\"graph\" transform=\"scale(1 1) rotate(0) translate(4 287)\">\n",
       "<title>%3</title>\n",
       "<polygon fill=\"white\" stroke=\"transparent\" points=\"-4,4 -4,-287 2396.04,-287 2396.04,4 -4,4\"/>\n",
       "<!-- /p/gpfs1/iopp/temp/montage&#45;workflow/scratch/run_dir/mProject -->\n",
       "<g id=\"node1\" class=\"node\">\n",
       "<title>/p/gpfs1/iopp/temp/montage&#45;workflow/scratch/run_dir/mProject</title>\n",
       "<ellipse fill=\"none\" stroke=\"black\" cx=\"341.92\" cy=\"-105\" rx=\"307.35\" ry=\"18\"/>\n",
       "<text text-anchor=\"middle\" x=\"341.92\" y=\"-101.3\" font-family=\"Times,serif\" font-size=\"14.00\">/p/gpfs1/iopp/temp/montage&#45;workflow/scratch/run_dir/mProject</text>\n",
       "</g>\n",
       "<!-- read -->\n",
       "<g id=\"node5\" class=\"node\">\n",
       "<title>read</title>\n",
       "<ellipse fill=\"none\" stroke=\"black\" cx=\"89.92\" cy=\"-18\" rx=\"31.7\" ry=\"18\"/>\n",
       "<text text-anchor=\"middle\" x=\"89.92\" y=\"-14.3\" font-family=\"Times,serif\" font-size=\"14.00\">read</text>\n",
       "</g>\n",
       "<!-- /p/gpfs1/iopp/temp/montage&#45;workflow/scratch/run_dir/mProject&#45;&gt;read -->\n",
       "<g id=\"edge6\" class=\"edge\">\n",
       "<title>/p/gpfs1/iopp/temp/montage&#45;workflow/scratch/run_dir/mProject&#45;&gt;read</title>\n",
       "<path fill=\"none\" stroke=\"black\" d=\"M292.14,-87.21C243.3,-70.73 169.99,-46.01 126.36,-31.29\"/>\n",
       "<polygon fill=\"black\" stroke=\"black\" points=\"127.32,-27.92 116.73,-28.04 125.08,-34.55 127.32,-27.92\"/>\n",
       "<text text-anchor=\"middle\" x=\"236.92\" y=\"-57.8\" font-family=\"Times,serif\" font-size=\"14.00\">1</text>\n",
       "</g>\n",
       "<!-- 0 -->\n",
       "<g id=\"node2\" class=\"node\">\n",
       "<title>0</title>\n",
       "<ellipse fill=\"none\" stroke=\"black\" cx=\"1099.92\" cy=\"-265\" rx=\"27\" ry=\"18\"/>\n",
       "<text text-anchor=\"middle\" x=\"1099.92\" y=\"-261.3\" font-family=\"Times,serif\" font-size=\"14.00\">0</text>\n",
       "</g>\n",
       "<!-- close -->\n",
       "<g id=\"node3\" class=\"node\">\n",
       "<title>close</title>\n",
       "<ellipse fill=\"none\" stroke=\"black\" cx=\"1013.92\" cy=\"-192\" rx=\"34.39\" ry=\"18\"/>\n",
       "<text text-anchor=\"middle\" x=\"1013.92\" y=\"-188.3\" font-family=\"Times,serif\" font-size=\"14.00\">close</text>\n",
       "</g>\n",
       "<!-- 0&#45;&gt;close -->\n",
       "<g id=\"edge1\" class=\"edge\">\n",
       "<title>0&#45;&gt;close</title>\n",
       "<path fill=\"none\" stroke=\"black\" d=\"M1078.28,-254.13C1063.02,-244.51 1043.81,-229.51 1029.91,-216.78\"/>\n",
       "<polygon fill=\"black\" stroke=\"black\" points=\"1032.05,-213.99 1022.41,-209.61 1027.21,-219.05 1032.05,-213.99\"/>\n",
       "</g>\n",
       "<!-- 0&#45;&gt;close -->\n",
       "<g id=\"edge7\" class=\"edge\">\n",
       "<title>0&#45;&gt;close</title>\n",
       "<path fill=\"none\" stroke=\"black\" d=\"M1083.34,-250.31C1070.94,-240.07 1053.75,-225.88 1039.58,-214.18\"/>\n",
       "<polygon fill=\"black\" stroke=\"black\" points=\"1041.58,-211.29 1031.64,-207.63 1037.12,-216.69 1041.58,-211.29\"/>\n",
       "</g>\n",
       "<!-- 0&#45;&gt;close -->\n",
       "<g id=\"edge19\" class=\"edge\">\n",
       "<title>0&#45;&gt;close</title>\n",
       "<path fill=\"none\" stroke=\"black\" d=\"M1091.58,-247.53C1080.63,-236.47 1063.07,-221.91 1047.11,-210.62\"/>\n",
       "<polygon fill=\"black\" stroke=\"black\" points=\"1048.69,-207.46 1038.46,-204.72 1044.75,-213.25 1048.69,-207.46\"/>\n",
       "</g>\n",
       "<!-- open -->\n",
       "<g id=\"node4\" class=\"node\">\n",
       "<title>open</title>\n",
       "<ellipse fill=\"none\" stroke=\"black\" cx=\"1099.92\" cy=\"-192\" rx=\"33.29\" ry=\"18\"/>\n",
       "<text text-anchor=\"middle\" x=\"1099.92\" y=\"-188.3\" font-family=\"Times,serif\" font-size=\"14.00\">open</text>\n",
       "</g>\n",
       "<!-- 0&#45;&gt;open -->\n",
       "<g id=\"edge3\" class=\"edge\">\n",
       "<title>0&#45;&gt;open</title>\n",
       "<path fill=\"none\" stroke=\"black\" d=\"M1088.57,-248.59C1086.51,-240.03 1085.93,-229.13 1086.84,-219.26\"/>\n",
       "<polygon fill=\"black\" stroke=\"black\" points=\"1090.34,-219.53 1088.4,-209.12 1083.42,-218.47 1090.34,-219.53\"/>\n",
       "</g>\n",
       "<!-- 0&#45;&gt;open -->\n",
       "<g id=\"edge15\" class=\"edge\">\n",
       "<title>0&#45;&gt;open</title>\n",
       "<path fill=\"none\" stroke=\"black\" d=\"M1099.92,-246.81C1099.92,-238.79 1099.92,-229.05 1099.92,-220.07\"/>\n",
       "<polygon fill=\"black\" stroke=\"black\" points=\"1103.42,-220.03 1099.92,-210.03 1096.42,-220.03 1103.42,-220.03\"/>\n",
       "</g>\n",
       "<!-- 0&#45;&gt;open -->\n",
       "<g id=\"edge27\" class=\"edge\">\n",
       "<title>0&#45;&gt;open</title>\n",
       "<path fill=\"none\" stroke=\"black\" d=\"M1111.28,-248.59C1113.34,-240.03 1113.91,-229.13 1113.01,-219.26\"/>\n",
       "<polygon fill=\"black\" stroke=\"black\" points=\"1116.43,-218.47 1111.45,-209.12 1109.51,-219.53 1116.43,-218.47\"/>\n",
       "</g>\n",
       "<!-- 0&#45;&gt;read -->\n",
       "<g id=\"edge5\" class=\"edge\">\n",
       "<title>0&#45;&gt;read</title>\n",
       "<path fill=\"none\" stroke=\"black\" d=\"M1073.06,-262.8C911.48,-254.65 80.21,-205.39 7.92,-123 -16.78,-94.84 23.11,-56 56.12,-34.65\"/>\n",
       "<polygon fill=\"black\" stroke=\"black\" points=\"58.05,-37.57 64.75,-29.36 54.39,-31.6 58.05,-37.57\"/>\n",
       "</g>\n",
       "<!-- 0&#45;&gt;read -->\n",
       "<g id=\"edge17\" class=\"edge\">\n",
       "<title>0&#45;&gt;read</title>\n",
       "<path fill=\"none\" stroke=\"black\" d=\"M1072.99,-262.55C913.51,-253.7 97.51,-204.6 25.92,-123 2.86,-96.71 36.09,-61.13 62.64,-39.14\"/>\n",
       "<polygon fill=\"black\" stroke=\"black\" points=\"64.97,-41.75 70.59,-32.78 60.6,-36.29 64.97,-41.75\"/>\n",
       "</g>\n",
       "<!-- 0&#45;&gt;read -->\n",
       "<g id=\"edge29\" class=\"edge\">\n",
       "<title>0&#45;&gt;read</title>\n",
       "<path fill=\"none\" stroke=\"black\" d=\"M1073.06,-262.26C914.8,-252.68 114.77,-203.76 43.92,-123 22.04,-98.05 50.85,-64.73 72.42,-42.6\"/>\n",
       "<polygon fill=\"black\" stroke=\"black\" points=\"75.12,-44.85 79.66,-35.27 70.14,-39.93 75.12,-44.85\"/>\n",
       "</g>\n",
       "<!-- fclose -->\n",
       "<g id=\"node7\" class=\"node\">\n",
       "<title>fclose</title>\n",
       "<ellipse fill=\"none\" stroke=\"black\" cx=\"1188.92\" cy=\"-192\" rx=\"38.19\" ry=\"18\"/>\n",
       "<text text-anchor=\"middle\" x=\"1188.92\" y=\"-188.3\" font-family=\"Times,serif\" font-size=\"14.00\">fclose</text>\n",
       "</g>\n",
       "<!-- 0&#45;&gt;fclose -->\n",
       "<g id=\"edge9\" class=\"edge\">\n",
       "<title>0&#45;&gt;fclose</title>\n",
       "<path fill=\"none\" stroke=\"black\" d=\"M1113.16,-248.94C1125.12,-238.36 1142.83,-224.11 1158.19,-212.64\"/>\n",
       "<polygon fill=\"black\" stroke=\"black\" points=\"1160.44,-215.33 1166.44,-206.6 1156.3,-209.69 1160.44,-215.33\"/>\n",
       "</g>\n",
       "<!-- 0&#45;&gt;fclose -->\n",
       "<g id=\"edge21\" class=\"edge\">\n",
       "<title>0&#45;&gt;fclose</title>\n",
       "<path fill=\"none\" stroke=\"black\" d=\"M1119.79,-252.28C1133.75,-242.4 1152.23,-227.98 1166.66,-215.83\"/>\n",
       "<polygon fill=\"black\" stroke=\"black\" points=\"1169.31,-218.16 1174.62,-208.99 1164.75,-212.85 1169.31,-218.16\"/>\n",
       "</g>\n",
       "<!-- fopen64 -->\n",
       "<g id=\"node8\" class=\"node\">\n",
       "<title>fopen64</title>\n",
       "<ellipse fill=\"none\" stroke=\"black\" cx=\"1292.92\" cy=\"-192\" rx=\"48.19\" ry=\"18\"/>\n",
       "<text text-anchor=\"middle\" x=\"1292.92\" y=\"-188.3\" font-family=\"Times,serif\" font-size=\"14.00\">fopen64</text>\n",
       "</g>\n",
       "<!-- 0&#45;&gt;fopen64 -->\n",
       "<g id=\"edge11\" class=\"edge\">\n",
       "<title>0&#45;&gt;fopen64</title>\n",
       "<path fill=\"none\" stroke=\"black\" d=\"M1121.92,-254.13C1152.49,-242.04 1208.16,-221.48 1247.73,-207.57\"/>\n",
       "<polygon fill=\"black\" stroke=\"black\" points=\"1249.14,-210.79 1257.42,-204.19 1246.83,-204.18 1249.14,-210.79\"/>\n",
       "</g>\n",
       "<!-- 0&#45;&gt;fopen64 -->\n",
       "<g id=\"edge23\" class=\"edge\">\n",
       "<title>0&#45;&gt;fopen64</title>\n",
       "<path fill=\"none\" stroke=\"black\" d=\"M1124.16,-256.67C1156.71,-245.66 1214.55,-224.57 1253.39,-209.69\"/>\n",
       "<polygon fill=\"black\" stroke=\"black\" points=\"1254.76,-212.91 1262.83,-206.05 1252.24,-206.38 1254.76,-212.91\"/>\n",
       "</g>\n",
       "<!-- fread -->\n",
       "<g id=\"node9\" class=\"node\">\n",
       "<title>fread</title>\n",
       "<ellipse fill=\"none\" stroke=\"black\" cx=\"2286.92\" cy=\"-18\" rx=\"35.19\" ry=\"18\"/>\n",
       "<text text-anchor=\"middle\" x=\"2286.92\" y=\"-14.3\" font-family=\"Times,serif\" font-size=\"14.00\">fread</text>\n",
       "</g>\n",
       "<!-- 0&#45;&gt;fread -->\n",
       "<g id=\"edge13\" class=\"edge\">\n",
       "<title>0&#45;&gt;fread</title>\n",
       "<path fill=\"none\" stroke=\"black\" d=\"M1126.87,-263.05C1302.62,-256.84 2279.75,-219.22 2365.92,-123 2391.81,-94.09 2348.37,-59.52 2316.2,-38.42\"/>\n",
       "<polygon fill=\"black\" stroke=\"black\" points=\"2317.8,-35.29 2307.49,-32.84 2314.02,-41.18 2317.8,-35.29\"/>\n",
       "</g>\n",
       "<!-- 0&#45;&gt;fread -->\n",
       "<g id=\"edge25\" class=\"edge\">\n",
       "<title>0&#45;&gt;fread</title>\n",
       "<path fill=\"none\" stroke=\"black\" d=\"M1127.04,-263.2C1304.77,-257.45 2297.06,-220 2383.92,-123 2411.34,-92.38 2360.99,-55.41 2323,-34.82\"/>\n",
       "<polygon fill=\"black\" stroke=\"black\" points=\"2324.15,-31.47 2313.66,-29.95 2320.91,-37.68 2324.15,-31.47\"/>\n",
       "</g>\n",
       "<!-- close&#45;&gt;/p/gpfs1/iopp/temp/montage&#45;workflow/scratch/run_dir/mProject -->\n",
       "<g id=\"edge2\" class=\"edge\">\n",
       "<title>close&#45;&gt;/p/gpfs1/iopp/temp/montage&#45;workflow/scratch/run_dir/mProject</title>\n",
       "<path fill=\"none\" stroke=\"black\" d=\"M980.6,-186.78C889.77,-175.3 634.04,-142.95 475.09,-122.84\"/>\n",
       "<polygon fill=\"black\" stroke=\"black\" points=\"475.13,-119.32 464.77,-121.54 474.25,-126.27 475.13,-119.32\"/>\n",
       "<text text-anchor=\"middle\" x=\"723.92\" y=\"-144.8\" font-family=\"Times,serif\" font-size=\"14.00\">1</text>\n",
       "</g>\n",
       "<!-- /p/gpfs1/iopp/temp/montage&#45;workflow/scratch/run_dir/pposs2ukstu_red_002_003_area.fits -->\n",
       "<g id=\"node6\" class=\"node\">\n",
       "<title>/p/gpfs1/iopp/temp/montage&#45;workflow/scratch/run_dir/pposs2ukstu_red_002_003_area.fits</title>\n",
       "<ellipse fill=\"none\" stroke=\"black\" cx=\"1099.92\" cy=\"-105\" rx=\"432.72\" ry=\"18\"/>\n",
       "<text text-anchor=\"middle\" x=\"1099.92\" y=\"-101.3\" font-family=\"Times,serif\" font-size=\"14.00\">/p/gpfs1/iopp/temp/montage&#45;workflow/scratch/run_dir/pposs2ukstu_red_002_003_area.fits</text>\n",
       "</g>\n",
       "<!-- close&#45;&gt;/p/gpfs1/iopp/temp/montage&#45;workflow/scratch/run_dir/pposs2ukstu_red_002_003_area.fits -->\n",
       "<g id=\"edge8\" class=\"edge\">\n",
       "<title>close&#45;&gt;/p/gpfs1/iopp/temp/montage&#45;workflow/scratch/run_dir/pposs2ukstu_red_002_003_area.fits</title>\n",
       "<path fill=\"none\" stroke=\"black\" d=\"M1016.04,-173.6C1018.09,-163.14 1022.1,-150.14 1029.92,-141 1034.04,-136.19 1038.98,-131.98 1044.31,-128.29\"/>\n",
       "<polygon fill=\"black\" stroke=\"black\" points=\"1046.28,-131.19 1052.92,-122.94 1042.58,-125.24 1046.28,-131.19\"/>\n",
       "<text text-anchor=\"middle\" x=\"1034.92\" y=\"-144.8\" font-family=\"Times,serif\" font-size=\"14.00\">1</text>\n",
       "</g>\n",
       "<!-- /p/gpfs1/iopp/temp/montage&#45;workflow/scratch/run_dir/pposs2ukstu_red_002_003.fits -->\n",
       "<g id=\"node10\" class=\"node\">\n",
       "<title>/p/gpfs1/iopp/temp/montage&#45;workflow/scratch/run_dir/pposs2ukstu_red_002_003.fits</title>\n",
       "<ellipse fill=\"none\" stroke=\"black\" cx=\"1957.92\" cy=\"-105\" rx=\"407.53\" ry=\"18\"/>\n",
       "<text text-anchor=\"middle\" x=\"1957.92\" y=\"-101.3\" font-family=\"Times,serif\" font-size=\"14.00\">/p/gpfs1/iopp/temp/montage&#45;workflow/scratch/run_dir/pposs2ukstu_red_002_003.fits</text>\n",
       "</g>\n",
       "<!-- close&#45;&gt;/p/gpfs1/iopp/temp/montage&#45;workflow/scratch/run_dir/pposs2ukstu_red_002_003.fits -->\n",
       "<g id=\"edge20\" class=\"edge\">\n",
       "<title>close&#45;&gt;/p/gpfs1/iopp/temp/montage&#45;workflow/scratch/run_dir/pposs2ukstu_red_002_003.fits</title>\n",
       "<path fill=\"none\" stroke=\"black\" d=\"M1039.69,-180.05C1045.61,-177.82 1051.92,-175.65 1057.92,-174 1104,-161.33 1119.43,-173.42 1163.92,-156 1175.29,-151.55 1175.31,-144.74 1186.92,-141 1192.82,-139.1 1449.47,-127.7 1665.03,-118.42\"/>\n",
       "<polygon fill=\"black\" stroke=\"black\" points=\"1665.43,-121.91 1675.27,-117.98 1665.12,-114.92 1665.43,-121.91\"/>\n",
       "<text text-anchor=\"middle\" x=\"1191.92\" y=\"-144.8\" font-family=\"Times,serif\" font-size=\"14.00\">1</text>\n",
       "</g>\n",
       "<!-- open&#45;&gt;/p/gpfs1/iopp/temp/montage&#45;workflow/scratch/run_dir/mProject -->\n",
       "<g id=\"edge4\" class=\"edge\">\n",
       "<title>open&#45;&gt;/p/gpfs1/iopp/temp/montage&#45;workflow/scratch/run_dir/mProject</title>\n",
       "<path fill=\"none\" stroke=\"black\" d=\"M1086.43,-175.21C1075.3,-163.43 1058.38,-148.18 1039.92,-141 1000.32,-125.6 700.36,-125.14 657.92,-123 628.96,-121.54 598.51,-119.96 568.41,-118.37\"/>\n",
       "<polygon fill=\"black\" stroke=\"black\" points=\"568.39,-114.86 558.22,-117.83 568.02,-121.85 568.39,-114.86\"/>\n",
       "<text text-anchor=\"middle\" x=\"1068.92\" y=\"-144.8\" font-family=\"Times,serif\" font-size=\"14.00\">1</text>\n",
       "</g>\n",
       "<!-- open&#45;&gt;/p/gpfs1/iopp/temp/montage&#45;workflow/scratch/run_dir/pposs2ukstu_red_002_003_area.fits -->\n",
       "<g id=\"edge16\" class=\"edge\">\n",
       "<title>open&#45;&gt;/p/gpfs1/iopp/temp/montage&#45;workflow/scratch/run_dir/pposs2ukstu_red_002_003_area.fits</title>\n",
       "<path fill=\"none\" stroke=\"black\" d=\"M1099.92,-173.8C1099.92,-162.16 1099.92,-146.55 1099.92,-133.24\"/>\n",
       "<polygon fill=\"black\" stroke=\"black\" points=\"1103.42,-133.18 1099.92,-123.18 1096.42,-133.18 1103.42,-133.18\"/>\n",
       "<text text-anchor=\"middle\" x=\"1104.92\" y=\"-144.8\" font-family=\"Times,serif\" font-size=\"14.00\">1</text>\n",
       "</g>\n",
       "<!-- open&#45;&gt;/p/gpfs1/iopp/temp/montage&#45;workflow/scratch/run_dir/pposs2ukstu_red_002_003.fits -->\n",
       "<g id=\"edge28\" class=\"edge\">\n",
       "<title>open&#45;&gt;/p/gpfs1/iopp/temp/montage&#45;workflow/scratch/run_dir/pposs2ukstu_red_002_003.fits</title>\n",
       "<path fill=\"none\" stroke=\"black\" d=\"M1125.55,-180.21C1130.93,-178.06 1136.59,-175.89 1141.92,-174 1167.77,-164.85 1176.09,-167.6 1200.92,-156 1211.98,-150.83 1212.31,-144.76 1223.92,-141 1234.8,-137.48 1463.78,-126.92 1663.12,-118.32\"/>\n",
       "<polygon fill=\"black\" stroke=\"black\" points=\"1663.35,-121.81 1673.19,-117.88 1663.04,-114.82 1663.35,-121.81\"/>\n",
       "<text text-anchor=\"middle\" x=\"1228.92\" y=\"-144.8\" font-family=\"Times,serif\" font-size=\"14.00\">1</text>\n",
       "</g>\n",
       "<!-- /p/gpfs1/iopp/temp/montage&#45;workflow/scratch/run_dir/pposs2ukstu_red_002_003_area.fits&#45;&gt;read -->\n",
       "<g id=\"edge18\" class=\"edge\">\n",
       "<title>/p/gpfs1/iopp/temp/montage&#45;workflow/scratch/run_dir/pposs2ukstu_red_002_003_area.fits&#45;&gt;read</title>\n",
       "<path fill=\"none\" stroke=\"black\" d=\"M917.61,-88.66C675.3,-68.26 262.43,-33.52 131.23,-22.48\"/>\n",
       "<polygon fill=\"black\" stroke=\"black\" points=\"131.46,-18.98 121.2,-21.63 130.87,-25.96 131.46,-18.98\"/>\n",
       "<text text-anchor=\"middle\" x=\"660.92\" y=\"-57.8\" font-family=\"Times,serif\" font-size=\"14.00\">1</text>\n",
       "</g>\n",
       "<!-- /p/gpfs1/iopp/temp/montage&#45;workflow/scratch/run_dir/pposs2ukstu_red_002_003_area.fits&#45;&gt;fread -->\n",
       "<g id=\"edge14\" class=\"edge\">\n",
       "<title>/p/gpfs1/iopp/temp/montage&#45;workflow/scratch/run_dir/pposs2ukstu_red_002_003_area.fits&#45;&gt;fread</title>\n",
       "<path fill=\"none\" stroke=\"black\" d=\"M1301.26,-89.06C1437.28,-79.02 1620.9,-65.56 1782.92,-54 1952.54,-41.9 2154.3,-28.06 2242.25,-22.05\"/>\n",
       "<polygon fill=\"black\" stroke=\"black\" points=\"2242.66,-25.53 2252.4,-21.35 2242.18,-18.54 2242.66,-25.53\"/>\n",
       "<text text-anchor=\"middle\" x=\"1805.92\" y=\"-57.8\" font-family=\"Times,serif\" font-size=\"14.00\">12833</text>\n",
       "</g>\n",
       "<!-- fclose&#45;&gt;/p/gpfs1/iopp/temp/montage&#45;workflow/scratch/run_dir/pposs2ukstu_red_002_003_area.fits -->\n",
       "<g id=\"edge10\" class=\"edge\">\n",
       "<title>fclose&#45;&gt;/p/gpfs1/iopp/temp/montage&#45;workflow/scratch/run_dir/pposs2ukstu_red_002_003_area.fits</title>\n",
       "<path fill=\"none\" stroke=\"black\" d=\"M1172.6,-175.41C1159.44,-162.84 1140.69,-144.93 1125.53,-130.46\"/>\n",
       "<polygon fill=\"black\" stroke=\"black\" points=\"1127.63,-127.62 1117.98,-123.25 1122.8,-132.68 1127.63,-127.62\"/>\n",
       "<text text-anchor=\"middle\" x=\"1154.92\" y=\"-144.8\" font-family=\"Times,serif\" font-size=\"14.00\">1</text>\n",
       "</g>\n",
       "<!-- fclose&#45;&gt;/p/gpfs1/iopp/temp/montage&#45;workflow/scratch/run_dir/pposs2ukstu_red_002_003.fits -->\n",
       "<g id=\"edge22\" class=\"edge\">\n",
       "<title>fclose&#45;&gt;/p/gpfs1/iopp/temp/montage&#45;workflow/scratch/run_dir/pposs2ukstu_red_002_003.fits</title>\n",
       "<path fill=\"none\" stroke=\"black\" d=\"M1208.5,-176.39C1227.89,-162 1255.08,-142 1257.92,-141 1268.07,-137.43 1480.77,-127.11 1669.06,-118.6\"/>\n",
       "<polygon fill=\"black\" stroke=\"black\" points=\"1669.31,-122.1 1679.14,-118.15 1668.99,-115.1 1669.31,-122.1\"/>\n",
       "<text text-anchor=\"middle\" x=\"1262.92\" y=\"-144.8\" font-family=\"Times,serif\" font-size=\"14.00\">1</text>\n",
       "</g>\n",
       "<!-- fopen64&#45;&gt;/p/gpfs1/iopp/temp/montage&#45;workflow/scratch/run_dir/pposs2ukstu_red_002_003_area.fits -->\n",
       "<g id=\"edge12\" class=\"edge\">\n",
       "<title>fopen64&#45;&gt;/p/gpfs1/iopp/temp/montage&#45;workflow/scratch/run_dir/pposs2ukstu_red_002_003_area.fits</title>\n",
       "<path fill=\"none\" stroke=\"black\" d=\"M1289.21,-173.67C1285.95,-162.69 1280.1,-149.08 1269.92,-141 1261.9,-134.63 1246.14,-129.17 1227.33,-124.59\"/>\n",
       "<polygon fill=\"black\" stroke=\"black\" points=\"1228.08,-121.17 1217.55,-122.35 1226.51,-127.99 1228.08,-121.17\"/>\n",
       "<text text-anchor=\"middle\" x=\"1287.92\" y=\"-144.8\" font-family=\"Times,serif\" font-size=\"14.00\">1</text>\n",
       "</g>\n",
       "<!-- fopen64&#45;&gt;/p/gpfs1/iopp/temp/montage&#45;workflow/scratch/run_dir/pposs2ukstu_red_002_003.fits -->\n",
       "<g id=\"edge24\" class=\"edge\">\n",
       "<title>fopen64&#45;&gt;/p/gpfs1/iopp/temp/montage&#45;workflow/scratch/run_dir/pposs2ukstu_red_002_003.fits</title>\n",
       "<path fill=\"none\" stroke=\"black\" d=\"M1337.59,-185.29C1435.09,-172.83 1670.34,-142.76 1821.49,-123.44\"/>\n",
       "<polygon fill=\"black\" stroke=\"black\" points=\"1822.3,-126.86 1831.77,-122.12 1821.41,-119.92 1822.3,-126.86\"/>\n",
       "<text text-anchor=\"middle\" x=\"1669.92\" y=\"-144.8\" font-family=\"Times,serif\" font-size=\"14.00\">1</text>\n",
       "</g>\n",
       "<!-- /p/gpfs1/iopp/temp/montage&#45;workflow/scratch/run_dir/pposs2ukstu_red_002_003.fits&#45;&gt;read -->\n",
       "<g id=\"edge30\" class=\"edge\">\n",
       "<title>/p/gpfs1/iopp/temp/montage&#45;workflow/scratch/run_dir/pposs2ukstu_red_002_003.fits&#45;&gt;read</title>\n",
       "<path fill=\"none\" stroke=\"black\" d=\"M1923.87,-87.02C1898.42,-75.27 1862.39,-60.61 1828.92,-54 1657.98,-20.25 381.68,-18.91 132.16,-18.97\"/>\n",
       "<polygon fill=\"black\" stroke=\"black\" points=\"132.05,-15.47 122.05,-18.97 132.05,-22.47 132.05,-15.47\"/>\n",
       "<text text-anchor=\"middle\" x=\"1883.92\" y=\"-57.8\" font-family=\"Times,serif\" font-size=\"14.00\">1</text>\n",
       "</g>\n",
       "<!-- /p/gpfs1/iopp/temp/montage&#45;workflow/scratch/run_dir/pposs2ukstu_red_002_003.fits&#45;&gt;fread -->\n",
       "<g id=\"edge26\" class=\"edge\">\n",
       "<title>/p/gpfs1/iopp/temp/montage&#45;workflow/scratch/run_dir/pposs2ukstu_red_002_003.fits&#45;&gt;fread</title>\n",
       "<path fill=\"none\" stroke=\"black\" d=\"M2022.92,-87.21C2089.39,-70.04 2190.56,-43.9 2246.39,-29.47\"/>\n",
       "<polygon fill=\"black\" stroke=\"black\" points=\"2247.46,-32.81 2256.27,-26.92 2245.71,-26.03 2247.46,-32.81\"/>\n",
       "<text text-anchor=\"middle\" x=\"2164.92\" y=\"-57.8\" font-family=\"Times,serif\" font-size=\"14.00\">12833</text>\n",
       "</g>\n",
       "</g>\n",
       "</svg>\n"
      ],
      "text/plain": [
       "<graphviz.dot.Digraph at 0x20008e2ec940>"
      ]
     },
     "execution_count": 108,
     "metadata": {},
     "output_type": "execute_result"
    }
   ],
   "source": [
    "dot"
   ]
  },
  {
   "cell_type": "code",
   "execution_count": 109,
   "metadata": {},
   "outputs": [
    {
     "name": "stdout",
     "output_type": "stream",
     "text": [
      "0 files are written into.\n",
      "3 file are read from.\n",
      "0 files are write-only.\n",
      "3 file are read-only.\n"
     ]
    }
   ],
   "source": [
    "write_files = io_ddf_read_write[io_ddf_read_write['func_id'].str.contains('write')]['filename'].unique()\n",
    "read_files = io_ddf_read_write[io_ddf_read_write['func_id'].str.contains('read')]['filename'].unique()\n",
    "read_only_files = set(all_filenames) - set(write_files)\n",
    "write_only_files = set(all_filenames) - set(read_files)\n",
    "print(\"{} files are written into.\\n{} file are read from.\\n{} files are write-only.\\n{} file are read-only.\"\n",
    "      .format(len(write_files), len(read_files), len(write_only_files), len(read_only_files)))"
   ]
  },
  {
   "cell_type": "code",
   "execution_count": null,
   "metadata": {},
   "outputs": [],
   "source": []
  },
  {
   "cell_type": "code",
   "execution_count": null,
   "metadata": {},
   "outputs": [],
   "source": []
  },
  {
   "cell_type": "code",
   "execution_count": null,
   "metadata": {},
   "outputs": [],
   "source": []
  },
  {
   "cell_type": "code",
   "execution_count": null,
   "metadata": {},
   "outputs": [],
   "source": []
  }
 ],
 "metadata": {
  "kernelspec": {
   "display_name": "iopp",
   "language": "python",
   "name": "iopp"
  },
  "language_info": {
   "codemirror_mode": {
    "name": "ipython",
    "version": 3
   },
   "file_extension": ".py",
   "mimetype": "text/x-python",
   "name": "python",
   "nbconvert_exporter": "python",
   "pygments_lexer": "ipython3",
   "version": "3.9.7"
  },
  "toc-showtags": false
 },
 "nbformat": 4,
 "nbformat_minor": 4
}
