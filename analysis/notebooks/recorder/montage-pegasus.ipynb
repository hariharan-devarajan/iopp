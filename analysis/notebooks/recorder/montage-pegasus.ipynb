{
 "cells": [
  {
   "cell_type": "markdown",
   "metadata": {},
   "source": [
    "# Analyze Montage Pegasus workflow expansion"
   ]
  },
  {
   "cell_type": "markdown",
   "metadata": {},
   "source": [
    "## Global Configurations"
   ]
  },
  {
   "cell_type": "code",
   "execution_count": 2,
   "metadata": {},
   "outputs": [],
   "source": [
    "notebook_name = \"montage-pegasus\""
   ]
  },
  {
   "cell_type": "code",
   "execution_count": 3,
   "metadata": {
    "ExecuteTime": {
     "end_time": "2021-09-16T21:44:28.361097Z",
     "start_time": "2021-09-16T21:44:28.356562Z"
    }
   },
   "outputs": [],
   "source": [
    "parquet_folder=\"/p/gpfs1/iopp/recorder_app_logs/montage_pegasus/nodes-32/_parquet\""
   ]
  },
  {
   "cell_type": "code",
   "execution_count": 4,
   "metadata": {},
   "outputs": [],
   "source": [
    "num_nodes = 32"
   ]
  },
  {
   "cell_type": "markdown",
   "metadata": {},
   "source": [
    "## System Imports"
   ]
  },
  {
   "cell_type": "code",
   "execution_count": 5,
   "metadata": {},
   "outputs": [],
   "source": [
    "import socket\n",
    "import os\n",
    "import time\n",
    "from time import sleep"
   ]
  },
  {
   "cell_type": "markdown",
   "metadata": {
    "tags": []
   },
   "source": [
    "## Create Dask Cluster for analysis"
   ]
  },
  {
   "cell_type": "markdown",
   "metadata": {},
   "source": [
    "### Dask Job Queue Imports"
   ]
  },
  {
   "cell_type": "code",
   "execution_count": 6,
   "metadata": {},
   "outputs": [
    {
     "name": "stderr",
     "output_type": "stream",
     "text": [
      "/usr/workspace/iopp/.conda/envs/jupyter/lib/python3.9/site-packages/dask_jobqueue/core.py:17: FutureWarning: format_bytes is deprecated and will be removed in a future release. Please use dask.utils.format_bytes instead.\n",
      "  from distributed.utils import format_bytes, parse_bytes, tmpfile, get_ip_interface\n",
      "/usr/workspace/iopp/.conda/envs/jupyter/lib/python3.9/site-packages/dask_jobqueue/core.py:17: FutureWarning: parse_bytes is deprecated and will be removed in a future release. Please use dask.utils.parse_bytes instead.\n",
      "  from distributed.utils import format_bytes, parse_bytes, tmpfile, get_ip_interface\n",
      "/usr/workspace/iopp/.conda/envs/jupyter/lib/python3.9/site-packages/dask_jobqueue/htcondor.py:6: FutureWarning: parse_bytes is deprecated and will be removed in a future release. Please use dask.utils.parse_bytes instead.\n",
      "  from distributed.utils import parse_bytes\n"
     ]
    }
   ],
   "source": [
    "import dask_jobqueue\n",
    "from dask_jobqueue import LSFCluster"
   ]
  },
  {
   "cell_type": "markdown",
   "metadata": {},
   "source": [
    "### Dask Worker configuration\n",
    "When we use dask for analysis, we need to consider the type of analysis. In this case we plan to utilize dask dataframes for analysis that is typically memory intensive. Therefore, we allocate the whole memory per node and use only 4 worker processes per node. More worker processes reduce memory available per worker resulting in frequent memory swap from filesystem."
   ]
  },
  {
   "cell_type": "code",
   "execution_count": 7,
   "metadata": {
    "ExecuteTime": {
     "end_time": "2021-09-16T21:37:00.088821Z",
     "start_time": "2021-09-16T21:37:00.076921Z"
    }
   },
   "outputs": [],
   "source": [
    "node_memory = 256 # node memory in GB\n",
    "n_workers_per_node = 4 # number of worker processes per node\n",
    "worker_time = \"02:00\" # job time per node for worker\n",
    "worker_queue = \"pdebug\" # queue to be used per worker\n",
    "n_workers = 8 # number of workers to be used for analysis"
   ]
  },
  {
   "cell_type": "code",
   "execution_count": 8,
   "metadata": {},
   "outputs": [
    {
     "name": "stdout",
     "output_type": "stream",
     "text": [
      "/usr/workspace/iopp/.conda/envs/jupyter/bin/python\n"
     ]
    }
   ],
   "source": [
    "import sys\n",
    "python_exe=sys.executable\n",
    "print(python_exe)"
   ]
  },
  {
   "cell_type": "markdown",
   "metadata": {},
   "source": [
    "Other configurations we can compute"
   ]
  },
  {
   "cell_type": "code",
   "execution_count": 9,
   "metadata": {},
   "outputs": [],
   "source": [
    "import math\n",
    "num_nodes = math.ceil(n_workers / n_workers_per_node)\n",
    "host = socket.gethostname()\n",
    "dashboard_address = '{}:9787'.format(socket.gethostname())\n",
    "memory = '{}GB'.format(node_memory/n_workers_per_node)\n",
    "executable = f\"{python_exe}\"\n",
    "job_extra = [f'-nnodes 1', \n",
    "             '-G asccasc', \n",
    "             '-q {}'.format(worker_queue), \n",
    "             '-W {}'.format(worker_time), \n",
    "             '-o {}.log'.format(notebook_name), \n",
    "             '-e {}.log'.format(notebook_name)]"
   ]
  },
  {
   "cell_type": "markdown",
   "metadata": {},
   "source": [
    "### Create Dask Cluster "
   ]
  },
  {
   "cell_type": "code",
   "execution_count": 10,
   "metadata": {
    "ExecuteTime": {
     "end_time": "2021-09-16T21:37:00.580186Z",
     "start_time": "2021-09-16T21:37:00.574875Z"
    }
   },
   "outputs": [
    {
     "name": "stdout",
     "output_type": "stream",
     "text": [
      "{'cls': <class 'distributed.scheduler.Scheduler'>, 'options': {'protocol': 'tcp://', 'interface': None, 'host': 'lassen709', 'dashboard_address': 'lassen709:9787', 'security': None}}\n",
      "Created Cluster with job script\n",
      " #!/usr/bin/env bash\n",
      "\n",
      "#BSUB -J dask-worker\n",
      "#BSUB -nnodes 1\n",
      "#BSUB -G asccasc\n",
      "#BSUB -q pdebug\n",
      "#BSUB -W 02:00\n",
      "#BSUB -o montage-pegasus.log\n",
      "#BSUB -e montage-pegasus.log\n",
      "JOB_ID=${LSB_JOBID%.*}\n",
      "\n",
      "/usr/workspace/iopp/.conda/envs/jupyter/bin/python -m distributed.cli.dask_worker tcp://192.168.66.201:40589 --nthreads 1 --nprocs 4 --memory-limit 59.60GiB --name name --nanny --death-timeout 500 --local-directory /dev/shm\n",
      "\n"
     ]
    }
   ],
   "source": [
    "cluster = LSFCluster(cores = n_workers_per_node,processes=n_workers_per_node, memory='{}GB'.format(node_memory), \n",
    "                     header_skip=['-n ','-R','-M', '-P', '-W 00:30'], \n",
    "                     job_extra = job_extra, \n",
    "                     local_directory=\"/dev/shm\",\n",
    "                     death_timeout = 500,\n",
    "                     use_stdin=True, host = host,dashboard_address = dashboard_address,\n",
    "                     python=executable)\n",
    "if cluster:\n",
    "    print(\"Created Cluster with job script\\n {}\".format(cluster.job_script()))"
   ]
  },
  {
   "cell_type": "markdown",
   "metadata": {},
   "source": [
    "### Dask Analysis Imports"
   ]
  },
  {
   "cell_type": "code",
   "execution_count": 11,
   "metadata": {},
   "outputs": [],
   "source": [
    "import dask.dataframe as dd\n",
    "from dask.distributed import wait, progress\n",
    "from dask.diagnostics import ProgressBar\n",
    "from dask.distributed import Client\n",
    "import matplotlib.pyplot as plt\n",
    "import numpy as np\n",
    "import concurrent.futures\n",
    "from concurrent.futures import ThreadPoolExecutor"
   ]
  },
  {
   "cell_type": "markdown",
   "metadata": {},
   "source": [
    "### Create Dask Client"
   ]
  },
  {
   "cell_type": "code",
   "execution_count": 12,
   "metadata": {},
   "outputs": [],
   "source": [
    "#from dask.distributed import Client, LocalCluster\n",
    "#cluster = LocalCluster()\n",
    "client = Client(cluster)"
   ]
  },
  {
   "cell_type": "code",
   "execution_count": 13,
   "metadata": {},
   "outputs": [
    {
     "data": {
      "text/html": [
       "<div>\n",
       "    <div style=\"width: 24px; height: 24px; background-color: #e1e1e1; border: 3px solid #9D9D9D; border-radius: 5px; position: absolute;\"> </div>\n",
       "    <div style=\"margin-left: 48px;\">\n",
       "        <h3 style=\"margin-bottom: 0px;\">Client</h3>\n",
       "        <p style=\"color: #9D9D9D; margin-bottom: 0px;\">Client-e919e013-a550-11ec-9769-70e28414505f</p>\n",
       "        <table style=\"width: 100%; text-align: left;\">\n",
       "\n",
       "        <tr>\n",
       "        \n",
       "            <td style=\"text-align: left;\"><strong>Connection method:</strong> Cluster object</td>\n",
       "            <td style=\"text-align: left;\"><strong>Cluster type:</strong> dask_jobqueue.LSFCluster</td>\n",
       "        \n",
       "        </tr>\n",
       "\n",
       "        \n",
       "            <tr>\n",
       "                <td style=\"text-align: left;\">\n",
       "                    <strong>Dashboard: </strong> <a href=\"http://192.168.66.201:9787/status\" target=\"_blank\">http://192.168.66.201:9787/status</a>\n",
       "                </td>\n",
       "                <td style=\"text-align: left;\"></td>\n",
       "            </tr>\n",
       "        \n",
       "\n",
       "        </table>\n",
       "\n",
       "        \n",
       "            <details>\n",
       "            <summary style=\"margin-bottom: 20px;\"><h3 style=\"display: inline;\">Cluster Info</h3></summary>\n",
       "            <div class=\"jp-RenderedHTMLCommon jp-RenderedHTML jp-mod-trusted jp-OutputArea-output\">\n",
       "    <div style=\"width: 24px; height: 24px; background-color: #e1e1e1; border: 3px solid #9D9D9D; border-radius: 5px; position: absolute;\">\n",
       "    </div>\n",
       "    <div style=\"margin-left: 48px;\">\n",
       "        <h3 style=\"margin-bottom: 0px; margin-top: 0px;\">LSFCluster</h3>\n",
       "        <p style=\"color: #9D9D9D; margin-bottom: 0px;\">cb770a63</p>\n",
       "        <table style=\"width: 100%; text-align: left;\">\n",
       "            <tr>\n",
       "                <td style=\"text-align: left;\">\n",
       "                    <strong>Dashboard:</strong> <a href=\"http://192.168.66.201:9787/status\" target=\"_blank\">http://192.168.66.201:9787/status</a>\n",
       "                </td>\n",
       "                <td style=\"text-align: left;\">\n",
       "                    <strong>Workers:</strong> 0\n",
       "                </td>\n",
       "            </tr>\n",
       "            <tr>\n",
       "                <td style=\"text-align: left;\">\n",
       "                    <strong>Total threads:</strong> 0\n",
       "                </td>\n",
       "                <td style=\"text-align: left;\">\n",
       "                    <strong>Total memory:</strong> 0 B\n",
       "                </td>\n",
       "            </tr>\n",
       "            \n",
       "        </table>\n",
       "\n",
       "        <details>\n",
       "            <summary style=\"margin-bottom: 20px;\">\n",
       "                <h3 style=\"display: inline;\">Scheduler Info</h3>\n",
       "            </summary>\n",
       "\n",
       "            <div style=\"\">\n",
       "    <div>\n",
       "        <div style=\"width: 24px; height: 24px; background-color: #FFF7E5; border: 3px solid #FF6132; border-radius: 5px; position: absolute;\"> </div>\n",
       "        <div style=\"margin-left: 48px;\">\n",
       "            <h3 style=\"margin-bottom: 0px;\">Scheduler</h3>\n",
       "            <p style=\"color: #9D9D9D; margin-bottom: 0px;\">Scheduler-6c08b41d-f36f-4291-9952-b5c4c1e89343</p>\n",
       "            <table style=\"width: 100%; text-align: left;\">\n",
       "                <tr>\n",
       "                    <td style=\"text-align: left;\">\n",
       "                        <strong>Comm:</strong> tcp://192.168.66.201:40589\n",
       "                    </td>\n",
       "                    <td style=\"text-align: left;\">\n",
       "                        <strong>Workers:</strong> 0\n",
       "                    </td>\n",
       "                </tr>\n",
       "                <tr>\n",
       "                    <td style=\"text-align: left;\">\n",
       "                        <strong>Dashboard:</strong> <a href=\"http://192.168.66.201:9787/status\" target=\"_blank\">http://192.168.66.201:9787/status</a>\n",
       "                    </td>\n",
       "                    <td style=\"text-align: left;\">\n",
       "                        <strong>Total threads:</strong> 0\n",
       "                    </td>\n",
       "                </tr>\n",
       "                <tr>\n",
       "                    <td style=\"text-align: left;\">\n",
       "                        <strong>Started:</strong> Just now\n",
       "                    </td>\n",
       "                    <td style=\"text-align: left;\">\n",
       "                        <strong>Total memory:</strong> 0 B\n",
       "                    </td>\n",
       "                </tr>\n",
       "            </table>\n",
       "        </div>\n",
       "    </div>\n",
       "\n",
       "    <details style=\"margin-left: 48px;\">\n",
       "        <summary style=\"margin-bottom: 20px;\">\n",
       "            <h3 style=\"display: inline;\">Workers</h3>\n",
       "        </summary>\n",
       "\n",
       "        \n",
       "\n",
       "    </details>\n",
       "</div>\n",
       "\n",
       "        </details>\n",
       "    </div>\n",
       "</div>\n",
       "            </details>\n",
       "        \n",
       "\n",
       "    </div>\n",
       "</div>"
      ],
      "text/plain": [
       "<Client: 'tcp://192.168.66.201:40589' processes=0 threads=0, memory=0 B>"
      ]
     },
     "execution_count": 13,
     "metadata": {},
     "output_type": "execute_result"
    }
   ],
   "source": [
    "client"
   ]
  },
  {
   "cell_type": "markdown",
   "metadata": {},
   "source": [
    "### Spawn cluster nodes"
   ]
  },
  {
   "cell_type": "code",
   "execution_count": 14,
   "metadata": {
    "ExecuteTime": {
     "end_time": "2021-09-16T21:37:00.937949Z",
     "start_time": "2021-09-16T21:37:00.931813Z"
    }
   },
   "outputs": [],
   "source": [
    "cluster.scale(n_workers)"
   ]
  },
  {
   "cell_type": "code",
   "execution_count": 15,
   "metadata": {},
   "outputs": [
    {
     "name": "stdout",
     "output_type": "stream",
     "text": [
      "Waiting for workers completed 4 of 8\n",
      "8 workers started\n"
     ]
    }
   ],
   "source": [
    "val = len(client.scheduler_info()[\"workers\"])\n",
    "while ((client.status == \"running\") and ( val < n_workers)):\n",
    "    print(\"Waiting for workers completed {} of {}\".format(val, n_workers), end=\"\\r\")\n",
    "    sleep(1.0)\n",
    "    val = len(client.scheduler_info()[\"workers\"])\n",
    "print(\"\\n{} workers started\".format(len(client.scheduler_info()[\"workers\"])))"
   ]
  },
  {
   "cell_type": "markdown",
   "metadata": {},
   "source": [
    "## Analysis Utility Functions"
   ]
  },
  {
   "cell_type": "markdown",
   "metadata": {},
   "source": [
    "### Progress Bars"
   ]
  },
  {
   "cell_type": "code",
   "execution_count": 16,
   "metadata": {},
   "outputs": [],
   "source": [
    "pbar = ProgressBar()\n",
    "pbar.register()"
   ]
  },
  {
   "cell_type": "markdown",
   "metadata": {},
   "source": [
    "### Timer functions"
   ]
  },
  {
   "cell_type": "code",
   "execution_count": 17,
   "metadata": {
    "ExecuteTime": {
     "end_time": "2021-09-16T21:44:25.856496Z",
     "start_time": "2021-09-16T21:44:25.849113Z"
    }
   },
   "outputs": [],
   "source": [
    "def timer(func):\n",
    "    @functools.wraps(func)\n",
    "    def wrapper_timer(*args, **kwargs):\n",
    "        tic = time.perf_counter()\n",
    "        value = func(*args, **kwargs)\n",
    "        toc = time.perf_counter()\n",
    "        elapsed_time = toc - tic\n",
    "        print(f\"Elapsed time: {elapsed_time:0.4f} seconds\")\n",
    "        return value\n",
    "    return wrapper_timer"
   ]
  },
  {
   "cell_type": "markdown",
   "metadata": {},
   "source": [
    "### Threading process "
   ]
  },
  {
   "cell_type": "code",
   "execution_count": 18,
   "metadata": {
    "ExecuteTime": {
     "end_time": "2021-09-16T21:44:26.580383Z",
     "start_time": "2021-09-16T21:44:26.570029Z"
    }
   },
   "outputs": [],
   "source": [
    "def thread_print(string):\n",
    "    print(f'{string}\\n', end='')\n",
    "def thread_process( num_ranks, func, start=0, list_range=[], workers=40):\n",
    "    with ThreadPoolExecutor(max_workers = workers) as executor:\n",
    "        if len(list_range) == 0:\n",
    "            list_range = range(start, num_ranks) \n",
    "        future_gen = {executor.submit(func, rank): rank for rank in list_range}\n",
    "        for future in concurrent.futures.as_completed(future_gen):\n",
    "            rank = future_gen[future]\n",
    "            try:\n",
    "                data = future.result()\n",
    "            except Exception as exc:\n",
    "                thread_print('%r generated an exception: %s' % (rank, exc))\n",
    "            else:\n",
    "                thread_print('%r data computed' % (rank))"
   ]
  },
  {
   "cell_type": "markdown",
   "metadata": {},
   "source": [
    "### Application Logs in Parquet format"
   ]
  },
  {
   "cell_type": "markdown",
   "metadata": {},
   "source": [
    "## Initial Boostrapping"
   ]
  },
  {
   "cell_type": "markdown",
   "metadata": {},
   "source": [
    "### Read Application logs into dask dataframe"
   ]
  },
  {
   "cell_type": "code",
   "execution_count": 19,
   "metadata": {
    "ExecuteTime": {
     "end_time": "2021-09-16T21:44:32.812813Z",
     "start_time": "2021-09-16T21:44:31.634540Z"
    }
   },
   "outputs": [],
   "source": [
    "ddf = dd.read_parquet(\"{}/*.parquet\".format(parquet_folder), engine=\"pyarrow-dataset\")"
   ]
  },
  {
   "cell_type": "code",
   "execution_count": 20,
   "metadata": {
    "ExecuteTime": {
     "end_time": "2021-09-16T21:44:33.462433Z",
     "start_time": "2021-09-16T21:44:33.456132Z"
    }
   },
   "outputs": [
    {
     "name": "stdout",
     "output_type": "stream",
     "text": [
      "Dask dataframe is split into 11360 partitions\n"
     ]
    }
   ],
   "source": [
    "print(\"Dask dataframe is split into {} partitions\".format(ddf.npartitions))"
   ]
  },
  {
   "cell_type": "code",
   "execution_count": 21,
   "metadata": {
    "ExecuteTime": {
     "end_time": "2021-09-16T21:37:12.311012Z",
     "start_time": "2021-09-16T21:37:12.306571Z"
    }
   },
   "outputs": [
    {
     "name": "stdout",
     "output_type": "stream",
     "text": [
      "Columns present in dataset\n",
      "Index(['index', 'proc', 'rank', 'thread_id', 'cat', 'tstart', 'tend',\n",
      "       'func_id', 'level', 'hostname', 'arg_count', 'app', 'args_1', 'args_2',\n",
      "       'args_3', 'args_4', 'args_5', 'args_6', 'args_7', 'args_8', 'args_9',\n",
      "       'args_10'],\n",
      "      dtype='object')\n"
     ]
    }
   ],
   "source": [
    "print(\"Columns present in dataset\")\n",
    "print(ddf.columns)"
   ]
  },
  {
   "cell_type": "code",
   "execution_count": 22,
   "metadata": {},
   "outputs": [
    {
     "data": {
      "text/plain": [
       "index          int64\n",
       "proc           int64\n",
       "rank           int32\n",
       "thread_id      int32\n",
       "cat            int32\n",
       "tstart       float32\n",
       "tend         float32\n",
       "func_id       object\n",
       "level          int32\n",
       "hostname      object\n",
       "arg_count      int32\n",
       "app           object\n",
       "args_1        object\n",
       "args_2        object\n",
       "args_3        object\n",
       "args_4        object\n",
       "args_5        object\n",
       "args_6        object\n",
       "args_7        object\n",
       "args_8        object\n",
       "args_9        object\n",
       "args_10       object\n",
       "dtype: object"
      ]
     },
     "execution_count": 22,
     "metadata": {},
     "output_type": "execute_result"
    }
   ],
   "source": [
    "ddf.dtypes"
   ]
  },
  {
   "cell_type": "code",
   "execution_count": 23,
   "metadata": {
    "ExecuteTime": {
     "end_time": "2021-09-16T21:37:12.873991Z",
     "start_time": "2021-09-16T21:37:12.871121Z"
    }
   },
   "outputs": [
    {
     "data": {
      "text/html": [
       "<div>\n",
       "<style scoped>\n",
       "    .dataframe tbody tr th:only-of-type {\n",
       "        vertical-align: middle;\n",
       "    }\n",
       "\n",
       "    .dataframe tbody tr th {\n",
       "        vertical-align: top;\n",
       "    }\n",
       "\n",
       "    .dataframe thead th {\n",
       "        text-align: right;\n",
       "    }\n",
       "</style>\n",
       "<table border=\"1\" class=\"dataframe\">\n",
       "  <thead>\n",
       "    <tr style=\"text-align: right;\">\n",
       "      <th></th>\n",
       "      <th>index</th>\n",
       "      <th>proc</th>\n",
       "      <th>rank</th>\n",
       "      <th>thread_id</th>\n",
       "      <th>cat</th>\n",
       "      <th>tstart</th>\n",
       "      <th>tend</th>\n",
       "      <th>func_id</th>\n",
       "      <th>level</th>\n",
       "      <th>hostname</th>\n",
       "      <th>...</th>\n",
       "      <th>args_1</th>\n",
       "      <th>args_2</th>\n",
       "      <th>args_3</th>\n",
       "      <th>args_4</th>\n",
       "      <th>args_5</th>\n",
       "      <th>args_6</th>\n",
       "      <th>args_7</th>\n",
       "      <th>args_8</th>\n",
       "      <th>args_9</th>\n",
       "      <th>args_10</th>\n",
       "    </tr>\n",
       "  </thead>\n",
       "  <tbody>\n",
       "    <tr>\n",
       "      <th>0</th>\n",
       "      <td>1</td>\n",
       "      <td>120324</td>\n",
       "      <td>0</td>\n",
       "      <td>321552</td>\n",
       "      <td>0</td>\n",
       "      <td>434.451355</td>\n",
       "      <td>434.451477</td>\n",
       "      <td>fopen64</td>\n",
       "      <td>0</td>\n",
       "      <td>lassen76</td>\n",
       "      <td>...</td>\n",
       "      <td>/p/gpfs1/haridev/iopp/montage-workflow/scratch...</td>\n",
       "      <td>rb</td>\n",
       "      <td></td>\n",
       "      <td></td>\n",
       "      <td></td>\n",
       "      <td></td>\n",
       "      <td></td>\n",
       "      <td></td>\n",
       "      <td></td>\n",
       "      <td></td>\n",
       "    </tr>\n",
       "    <tr>\n",
       "      <th>1</th>\n",
       "      <td>2</td>\n",
       "      <td>120324</td>\n",
       "      <td>0</td>\n",
       "      <td>321552</td>\n",
       "      <td>0</td>\n",
       "      <td>434.451538</td>\n",
       "      <td>434.451752</td>\n",
       "      <td>fread</td>\n",
       "      <td>0</td>\n",
       "      <td>lassen76</td>\n",
       "      <td>...</td>\n",
       "      <td>%p</td>\n",
       "      <td>1</td>\n",
       "      <td>2</td>\n",
       "      <td>/p/gpfs1/haridev/iopp/montage-workflow/scratch...</td>\n",
       "      <td></td>\n",
       "      <td></td>\n",
       "      <td></td>\n",
       "      <td></td>\n",
       "      <td></td>\n",
       "      <td></td>\n",
       "    </tr>\n",
       "    <tr>\n",
       "      <th>2</th>\n",
       "      <td>3</td>\n",
       "      <td>120324</td>\n",
       "      <td>0</td>\n",
       "      <td>321552</td>\n",
       "      <td>0</td>\n",
       "      <td>434.451752</td>\n",
       "      <td>434.451782</td>\n",
       "      <td>fclose</td>\n",
       "      <td>0</td>\n",
       "      <td>lassen76</td>\n",
       "      <td>...</td>\n",
       "      <td>/p/gpfs1/haridev/iopp/montage-workflow/scratch...</td>\n",
       "      <td></td>\n",
       "      <td></td>\n",
       "      <td></td>\n",
       "      <td></td>\n",
       "      <td></td>\n",
       "      <td></td>\n",
       "      <td></td>\n",
       "      <td></td>\n",
       "      <td></td>\n",
       "    </tr>\n",
       "    <tr>\n",
       "      <th>3</th>\n",
       "      <td>4</td>\n",
       "      <td>120324</td>\n",
       "      <td>0</td>\n",
       "      <td>321552</td>\n",
       "      <td>0</td>\n",
       "      <td>434.451782</td>\n",
       "      <td>434.451813</td>\n",
       "      <td>fopen64</td>\n",
       "      <td>0</td>\n",
       "      <td>lassen76</td>\n",
       "      <td>...</td>\n",
       "      <td>/p/gpfs1/haridev/iopp/montage-workflow/scratch...</td>\n",
       "      <td>rb</td>\n",
       "      <td></td>\n",
       "      <td></td>\n",
       "      <td></td>\n",
       "      <td></td>\n",
       "      <td></td>\n",
       "      <td></td>\n",
       "      <td></td>\n",
       "      <td></td>\n",
       "    </tr>\n",
       "    <tr>\n",
       "      <th>4</th>\n",
       "      <td>5</td>\n",
       "      <td>120324</td>\n",
       "      <td>0</td>\n",
       "      <td>321552</td>\n",
       "      <td>0</td>\n",
       "      <td>434.451874</td>\n",
       "      <td>434.451904</td>\n",
       "      <td>fread</td>\n",
       "      <td>0</td>\n",
       "      <td>lassen76</td>\n",
       "      <td>...</td>\n",
       "      <td>%p</td>\n",
       "      <td>1</td>\n",
       "      <td>2</td>\n",
       "      <td>/p/gpfs1/haridev/iopp/montage-workflow/scratch...</td>\n",
       "      <td></td>\n",
       "      <td></td>\n",
       "      <td></td>\n",
       "      <td></td>\n",
       "      <td></td>\n",
       "      <td></td>\n",
       "    </tr>\n",
       "  </tbody>\n",
       "</table>\n",
       "<p>5 rows × 22 columns</p>\n",
       "</div>"
      ],
      "text/plain": [
       "   index    proc  rank  thread_id  cat      tstart        tend  func_id  \\\n",
       "0      1  120324     0     321552    0  434.451355  434.451477  fopen64   \n",
       "1      2  120324     0     321552    0  434.451538  434.451752    fread   \n",
       "2      3  120324     0     321552    0  434.451752  434.451782   fclose   \n",
       "3      4  120324     0     321552    0  434.451782  434.451813  fopen64   \n",
       "4      5  120324     0     321552    0  434.451874  434.451904    fread   \n",
       "\n",
       "   level  hostname  ...                                             args_1  \\\n",
       "0      0  lassen76  ...  /p/gpfs1/haridev/iopp/montage-workflow/scratch...   \n",
       "1      0  lassen76  ...                                                 %p   \n",
       "2      0  lassen76  ...  /p/gpfs1/haridev/iopp/montage-workflow/scratch...   \n",
       "3      0  lassen76  ...  /p/gpfs1/haridev/iopp/montage-workflow/scratch...   \n",
       "4      0  lassen76  ...                                                 %p   \n",
       "\n",
       "  args_2 args_3                                             args_4 args_5  \\\n",
       "0     rb                                                                    \n",
       "1      1      2  /p/gpfs1/haridev/iopp/montage-workflow/scratch...          \n",
       "2                                                                           \n",
       "3     rb                                                                    \n",
       "4      1      2  /p/gpfs1/haridev/iopp/montage-workflow/scratch...          \n",
       "\n",
       "  args_6 args_7 args_8 args_9 args_10  \n",
       "0                                      \n",
       "1                                      \n",
       "2                                      \n",
       "3                                      \n",
       "4                                      \n",
       "\n",
       "[5 rows x 22 columns]"
      ]
     },
     "execution_count": 23,
     "metadata": {},
     "output_type": "execute_result"
    }
   ],
   "source": [
    "ddf.head()"
   ]
  },
  {
   "cell_type": "markdown",
   "metadata": {},
   "source": [
    "#### Only keep level zero from MPI and FTRACE but keep all levels for I/O"
   ]
  },
  {
   "cell_type": "code",
   "execution_count": 24,
   "metadata": {
    "ExecuteTime": {
     "end_time": "2021-09-16T21:37:13.310962Z",
     "start_time": "2021-09-16T21:37:13.306458Z"
    }
   },
   "outputs": [],
   "source": [
    "ddf = ddf[(ddf['level'] == 0) | ddf['cat'].isin([0,1,3])]\n",
    "#ddf = ddf.persist()"
   ]
  },
  {
   "cell_type": "markdown",
   "metadata": {},
   "source": [
    "### Split dataframe into I/O, MPI, and trace"
   ]
  },
  {
   "cell_type": "code",
   "execution_count": 25,
   "metadata": {},
   "outputs": [],
   "source": [
    "io_ddf = ddf[ddf['cat'].isin([0,1,3])]\n",
    "exclude_dirs = [\".pyc\", \"/usr\",\"/g/g92/haridev/.nccl.conf\"]\n",
    "for directory in exclude_dirs:\n",
    "    io_ddf = io_ddf[~io_ddf['args_1'].str.contains(directory)]\n",
    "#io_ddf[rank] = io_ddf[rank].persist()\n",
    "mpi_ddf = ddf[ddf['cat'] == 2]\n",
    "#mpi_ddf[rank] = mpi_ddf[rank].persist()\n",
    "trace_ddf = ddf[ddf['cat'] == 4]"
   ]
  },
  {
   "cell_type": "code",
   "execution_count": 26,
   "metadata": {},
   "outputs": [],
   "source": [
    "io_ddf = io_ddf.persist()\n",
    "result = wait(io_ddf)"
   ]
  },
  {
   "cell_type": "markdown",
   "metadata": {},
   "source": [
    "### Preload the I/O dataframe for faster analysis"
   ]
  },
  {
   "cell_type": "code",
   "execution_count": 27,
   "metadata": {},
   "outputs": [],
   "source": [
    "io_ddf = io_ddf.persist()\n",
    "result = wait(io_ddf)"
   ]
  },
  {
   "cell_type": "markdown",
   "metadata": {},
   "source": [
    "### Check I/O interfaces used by application"
   ]
  },
  {
   "cell_type": "code",
   "execution_count": 28,
   "metadata": {},
   "outputs": [
    {
     "name": "stdout",
     "output_type": "stream",
     "text": [
      "0      fopen64\n",
      "1        fread\n",
      "2       fclose\n",
      "3        fseek\n",
      "4       remove\n",
      "5       fwrite\n",
      "6         pipe\n",
      "7     vfprintf\n",
      "8    __xstat64\n",
      "9       unlink\n",
      "Name: func_id, dtype: object\n"
     ]
    }
   ],
   "source": [
    "interfaces = io_ddf['func_id'].unique().compute()\n",
    "print(interfaces)"
   ]
  },
  {
   "cell_type": "markdown",
   "metadata": {
    "tags": [
     "Finding"
    ]
   },
   "source": [
    "Only POSIX interface is used in this application"
   ]
  },
  {
   "cell_type": "markdown",
   "metadata": {},
   "source": [
    "### Set duration of I/O events"
   ]
  },
  {
   "cell_type": "code",
   "execution_count": 29,
   "metadata": {},
   "outputs": [],
   "source": [
    "io_ddf['duration'] = io_ddf['tend'] - io_ddf['tstart']"
   ]
  },
  {
   "cell_type": "code",
   "execution_count": 30,
   "metadata": {},
   "outputs": [
    {
     "name": "stdout",
     "output_type": "stream",
     "text": [
      "Application Profiler has stored 0 negetive values\n"
     ]
    }
   ],
   "source": [
    "negetive_duration = io_ddf[io_ddf['duration'] < 0]['duration'].count().compute()\n",
    "print(\"Application Profiler has stored {} negetive values\".format(negetive_duration))"
   ]
  },
  {
   "cell_type": "markdown",
   "metadata": {},
   "source": [
    "### Create conditions for filtering\n",
    "Even though this application doesnt have MPI or STDIO we have all the conditions here. This is to make sure we cover other apps as well."
   ]
  },
  {
   "cell_type": "code",
   "execution_count": 31,
   "metadata": {},
   "outputs": [],
   "source": [
    "open_condition = io_ddf['func_id'].str.contains(\"open\")\n",
    "mpi_condition = io_ddf['func_id'].str.contains(\"MPI\")\n",
    "read_condition = io_ddf['func_id'].isin([\"read\", \"pread\", \"pread64\", \"readv\"])\n",
    "fread_condition = io_ddf['func_id'].isin([\"fread\"])\n",
    "close_condition = io_ddf['func_id'].str.contains('close')\n",
    "write_condition = io_ddf['func_id'].isin([\"write\", \"pwrite\", \"pwrite64\",\"writev\"])\n",
    "fwrite_condition = io_ddf['func_id'].isin([\"fwrite\"])\n",
    "readdir_condition = io_ddf['func_id'].isin([\"readdir\"])"
   ]
  },
  {
   "cell_type": "markdown",
   "metadata": {},
   "source": [
    "### Extract Filename from each row.\n",
    "This simplifies analysis later on as we can filter recorder per rank and per file to understand access pattern information."
   ]
  },
  {
   "cell_type": "code",
   "execution_count": 32,
   "metadata": {},
   "outputs": [],
   "source": [
    "io_ddf['filename'] = \"\"\n",
    "io_ddf['filename'] = io_ddf['filename'].mask(open_condition & ~mpi_condition, io_ddf['args_1'])\n",
    "io_ddf['filename'] = io_ddf['filename'].mask(open_condition & mpi_condition, io_ddf['args_2'])\n",
    "io_ddf['filename'] = io_ddf['filename'].mask(close_condition, io_ddf['args_1'])\n",
    "io_ddf['filename'] = io_ddf['filename'].mask(read_condition, io_ddf['args_1'])\n",
    "io_ddf['filename'] = io_ddf['filename'].mask(fread_condition, io_ddf['args_4'])\n",
    "io_ddf['filename'] = io_ddf['filename'].mask(write_condition, io_ddf['args_1'])\n",
    "io_ddf['filename'] = io_ddf['filename'].mask(fwrite_condition, io_ddf['args_4'])"
   ]
  },
  {
   "cell_type": "markdown",
   "metadata": {},
   "source": [
    "Some filename has redundent forward slashes"
   ]
  },
  {
   "cell_type": "code",
   "execution_count": 33,
   "metadata": {},
   "outputs": [],
   "source": [
    "io_ddf['filename'] = io_ddf['filename'].str.replace('//','/')"
   ]
  },
  {
   "cell_type": "code",
   "execution_count": 34,
   "metadata": {},
   "outputs": [],
   "source": [
    "relevent_io_ddf = io_ddf[io_ddf['filename'].str.contains('/p/gpfs1')]"
   ]
  },
  {
   "cell_type": "code",
   "execution_count": 35,
   "metadata": {},
   "outputs": [
    {
     "name": "stdout",
     "output_type": "stream",
     "text": [
      "0    fopen64\n",
      "1      fread\n",
      "2     fclose\n",
      "3     fwrite\n",
      "Name: func_id, dtype: object\n"
     ]
    }
   ],
   "source": [
    "interfaces = relevent_io_ddf['func_id'].unique().compute()\n",
    "print(interfaces)"
   ]
  },
  {
   "cell_type": "markdown",
   "metadata": {},
   "source": [
    "### Filter recorder which have read and write operations and which have metadata.\n",
    "We assume that there is only two types of operation in I/O read/write and metadata."
   ]
  },
  {
   "cell_type": "code",
   "execution_count": 35,
   "metadata": {},
   "outputs": [],
   "source": [
    "io_ddf_read_write = io_ddf[read_condition | write_condition | fread_condition | fwrite_condition].compute()\n",
    "io_ddf_metadata = io_ddf[~(read_condition | write_condition | fread_condition | fwrite_condition)].compute()"
   ]
  },
  {
   "cell_type": "markdown",
   "metadata": {},
   "source": [
    "### Build size and count to understand I/O on the io_ddf_read_write dataframe"
   ]
  },
  {
   "cell_type": "code",
   "execution_count": 36,
   "metadata": {},
   "outputs": [],
   "source": [
    "open_condition = io_ddf_read_write['func_id'].str.contains(\"open\")\n",
    "mpi_condition = io_ddf_read_write['func_id'].str.contains(\"MPI\")\n",
    "read_condition = io_ddf_read_write['func_id'].isin([\"read\", \"pread\", \"pread64\", \"readv\"])\n",
    "fread_condition = io_ddf_read_write['func_id'].isin([\"fread\"])\n",
    "close_condition = io_ddf_read_write['func_id'].str.contains('close')\n",
    "write_condition = io_ddf_read_write['func_id'].isin([\"write\", \"pwrite\", \"pwrite64\",\"writev\"])\n",
    "fwrite_condition = io_ddf_read_write['func_id'].isin([\"fwrite\"])\n",
    "readdir_condition = io_ddf_read_write['func_id'].isin([\"readdir\"])"
   ]
  },
  {
   "cell_type": "code",
   "execution_count": 37,
   "metadata": {
    "jupyter": {
     "source_hidden": true
    },
    "tags": []
   },
   "outputs": [],
   "source": [
    "io_ddf_read_write['size'] = 0\n",
    "io_ddf_read_write['count'] = 1\n",
    "io_ddf_read_write['size'] = io_ddf_read_write['size'].mask(read_condition , io_ddf_read_write['args_3'])\n",
    "io_ddf_read_write['size'] = io_ddf_read_write['size'].mask(fread_condition, io_ddf_read_write['args_3'])\n",
    "io_ddf_read_write['count'] = io_ddf_read_write['count'].mask(fread_condition, io_ddf_read_write['args_2'])\n",
    "io_ddf_read_write['size'] = io_ddf_read_write['size'].mask(write_condition, io_ddf_read_write['args_3'])\n",
    "io_ddf_read_write['size'] = io_ddf_read_write['size'].mask(fwrite_condition, io_ddf_read_write['args_3'])\n",
    "io_ddf_read_write['count'] = io_ddf_read_write['count'].mask(fwrite_condition, io_ddf_read_write['args_2'])"
   ]
  },
  {
   "cell_type": "markdown",
   "metadata": {},
   "source": [
    "#### Corner cases"
   ]
  },
  {
   "cell_type": "code",
   "execution_count": 38,
   "metadata": {},
   "outputs": [],
   "source": [
    "io_ddf_read_write['size'] = io_ddf_read_write['size'].mask(readdir_condition , \"0\")\n",
    "io_ddf_read_write['count'] = io_ddf_read_write['count'].mask(readdir_condition , \"1\")"
   ]
  },
  {
   "cell_type": "markdown",
   "metadata": {},
   "source": [
    "#### Set Datatypes\n",
    "This is needed as by default args are string from which they are set."
   ]
  },
  {
   "cell_type": "code",
   "execution_count": 39,
   "metadata": {},
   "outputs": [],
   "source": [
    "io_ddf_read_write = io_ddf_read_write.astype({'size': 'int32','count': 'int32'})"
   ]
  },
  {
   "cell_type": "markdown",
   "metadata": {},
   "source": [
    "#### Compute Final Size\n",
    "After this point we do not use count field."
   ]
  },
  {
   "cell_type": "code",
   "execution_count": 40,
   "metadata": {},
   "outputs": [],
   "source": [
    "io_ddf_read_write['size'] = io_ddf_read_write['size'] * io_ddf_read_write['count']"
   ]
  },
  {
   "cell_type": "markdown",
   "metadata": {},
   "source": [
    "### Calculate Bandwidth in MB/s for I/O operations.\n",
    "Durations might be incorrect or equal to zero due to profilers resolution issues. Therefore, we do bandwidth calculations for only correct durations."
   ]
  },
  {
   "cell_type": "code",
   "execution_count": 41,
   "metadata": {},
   "outputs": [],
   "source": [
    "correct_dur = ((io_ddf_read_write['tend'] - io_ddf_read_write['tstart']) > 0)\n",
    "io_ddf_read_write['bandwidth'] = 0\n",
    "io_ddf_read_write['bandwidth'] = io_ddf_read_write['bandwidth'].mask(correct_dur, io_ddf_read_write['size']*1.0/(io_ddf_read_write['tend'] - io_ddf_read_write['tstart'])/1024.0/1024.0)"
   ]
  },
  {
   "cell_type": "markdown",
   "metadata": {
    "tags": [
     "Finding"
    ]
   },
   "source": [
    "### Calculate all relevent filenames in the application\n",
    "The profiler might see jsrun files and other irrelevant internal files which we filter here."
   ]
  },
  {
   "cell_type": "code",
   "execution_count": 42,
   "metadata": {},
   "outputs": [],
   "source": [
    "all_filenames = io_ddf[io_ddf['filename'].str.contains('/p/gpfs1')]['filename'].unique().compute()"
   ]
  },
  {
   "cell_type": "code",
   "execution_count": 43,
   "metadata": {
    "tags": [
     "Finding"
    ]
   },
   "outputs": [
    {
     "name": "stdout",
     "output_type": "stream",
     "text": [
      "The application accesses 5738 files across all ranks\n"
     ]
    }
   ],
   "source": [
    "print(\"The application accesses {} files across all ranks\".format(len(all_filenames)))"
   ]
  },
  {
   "cell_type": "code",
   "execution_count": 44,
   "metadata": {},
   "outputs": [
    {
     "data": {
      "text/html": [
       "<div>\n",
       "<style scoped>\n",
       "    .dataframe tbody tr th:only-of-type {\n",
       "        vertical-align: middle;\n",
       "    }\n",
       "\n",
       "    .dataframe tbody tr th {\n",
       "        vertical-align: top;\n",
       "    }\n",
       "\n",
       "    .dataframe thead th {\n",
       "        text-align: right;\n",
       "    }\n",
       "</style>\n",
       "<table border=\"1\" class=\"dataframe\">\n",
       "  <thead>\n",
       "    <tr style=\"text-align: right;\">\n",
       "      <th></th>\n",
       "      <th>index</th>\n",
       "      <th>proc</th>\n",
       "      <th>rank</th>\n",
       "      <th>thread_id</th>\n",
       "      <th>cat</th>\n",
       "      <th>tstart</th>\n",
       "      <th>tend</th>\n",
       "      <th>func_id</th>\n",
       "      <th>level</th>\n",
       "      <th>hostname</th>\n",
       "      <th>...</th>\n",
       "      <th>args_6</th>\n",
       "      <th>args_7</th>\n",
       "      <th>args_8</th>\n",
       "      <th>args_9</th>\n",
       "      <th>args_10</th>\n",
       "      <th>duration</th>\n",
       "      <th>filename</th>\n",
       "      <th>size</th>\n",
       "      <th>count</th>\n",
       "      <th>bandwidth</th>\n",
       "    </tr>\n",
       "  </thead>\n",
       "  <tbody>\n",
       "    <tr>\n",
       "      <th>1</th>\n",
       "      <td>2</td>\n",
       "      <td>120324</td>\n",
       "      <td>0</td>\n",
       "      <td>321552</td>\n",
       "      <td>0</td>\n",
       "      <td>434.451538</td>\n",
       "      <td>434.451752</td>\n",
       "      <td>fread</td>\n",
       "      <td>0</td>\n",
       "      <td>lassen76</td>\n",
       "      <td>...</td>\n",
       "      <td></td>\n",
       "      <td></td>\n",
       "      <td></td>\n",
       "      <td></td>\n",
       "      <td></td>\n",
       "      <td>0.000214</td>\n",
       "      <td>/p/gpfs1/haridev/iopp/montage-workflow/scratch...</td>\n",
       "      <td>2</td>\n",
       "      <td>1</td>\n",
       "      <td>0.008929</td>\n",
       "    </tr>\n",
       "    <tr>\n",
       "      <th>4</th>\n",
       "      <td>5</td>\n",
       "      <td>120324</td>\n",
       "      <td>0</td>\n",
       "      <td>321552</td>\n",
       "      <td>0</td>\n",
       "      <td>434.451874</td>\n",
       "      <td>434.451904</td>\n",
       "      <td>fread</td>\n",
       "      <td>0</td>\n",
       "      <td>lassen76</td>\n",
       "      <td>...</td>\n",
       "      <td></td>\n",
       "      <td></td>\n",
       "      <td></td>\n",
       "      <td></td>\n",
       "      <td></td>\n",
       "      <td>0.000031</td>\n",
       "      <td>/p/gpfs1/haridev/iopp/montage-workflow/scratch...</td>\n",
       "      <td>2</td>\n",
       "      <td>1</td>\n",
       "      <td>0.062500</td>\n",
       "    </tr>\n",
       "    <tr>\n",
       "      <th>7</th>\n",
       "      <td>8</td>\n",
       "      <td>120324</td>\n",
       "      <td>0</td>\n",
       "      <td>321552</td>\n",
       "      <td>0</td>\n",
       "      <td>434.454681</td>\n",
       "      <td>434.454681</td>\n",
       "      <td>fread</td>\n",
       "      <td>0</td>\n",
       "      <td>lassen76</td>\n",
       "      <td>...</td>\n",
       "      <td></td>\n",
       "      <td></td>\n",
       "      <td></td>\n",
       "      <td></td>\n",
       "      <td></td>\n",
       "      <td>0.000000</td>\n",
       "      <td>/p/gpfs1/haridev/iopp/montage-workflow/scratch...</td>\n",
       "      <td>4</td>\n",
       "      <td>1</td>\n",
       "      <td>0.000000</td>\n",
       "    </tr>\n",
       "    <tr>\n",
       "      <th>9</th>\n",
       "      <td>10</td>\n",
       "      <td>120324</td>\n",
       "      <td>0</td>\n",
       "      <td>321552</td>\n",
       "      <td>0</td>\n",
       "      <td>434.454742</td>\n",
       "      <td>434.454773</td>\n",
       "      <td>fread</td>\n",
       "      <td>0</td>\n",
       "      <td>lassen76</td>\n",
       "      <td>...</td>\n",
       "      <td></td>\n",
       "      <td></td>\n",
       "      <td></td>\n",
       "      <td></td>\n",
       "      <td></td>\n",
       "      <td>0.000031</td>\n",
       "      <td>/p/gpfs1/haridev/iopp/montage-workflow/scratch...</td>\n",
       "      <td>32768</td>\n",
       "      <td>1</td>\n",
       "      <td>1024.000000</td>\n",
       "    </tr>\n",
       "    <tr>\n",
       "      <th>10</th>\n",
       "      <td>11</td>\n",
       "      <td>120324</td>\n",
       "      <td>0</td>\n",
       "      <td>321552</td>\n",
       "      <td>0</td>\n",
       "      <td>434.455536</td>\n",
       "      <td>434.455566</td>\n",
       "      <td>fread</td>\n",
       "      <td>0</td>\n",
       "      <td>lassen76</td>\n",
       "      <td>...</td>\n",
       "      <td></td>\n",
       "      <td></td>\n",
       "      <td></td>\n",
       "      <td></td>\n",
       "      <td></td>\n",
       "      <td>0.000031</td>\n",
       "      <td>/p/gpfs1/haridev/iopp/montage-workflow/scratch...</td>\n",
       "      <td>32768</td>\n",
       "      <td>1</td>\n",
       "      <td>1024.000000</td>\n",
       "    </tr>\n",
       "  </tbody>\n",
       "</table>\n",
       "<p>5 rows × 27 columns</p>\n",
       "</div>"
      ],
      "text/plain": [
       "    index    proc  rank  thread_id  cat      tstart        tend func_id  \\\n",
       "1       2  120324     0     321552    0  434.451538  434.451752   fread   \n",
       "4       5  120324     0     321552    0  434.451874  434.451904   fread   \n",
       "7       8  120324     0     321552    0  434.454681  434.454681   fread   \n",
       "9      10  120324     0     321552    0  434.454742  434.454773   fread   \n",
       "10     11  120324     0     321552    0  434.455536  434.455566   fread   \n",
       "\n",
       "    level  hostname  ...  args_6 args_7 args_8 args_9 args_10  duration  \\\n",
       "1       0  lassen76  ...                                       0.000214   \n",
       "4       0  lassen76  ...                                       0.000031   \n",
       "7       0  lassen76  ...                                       0.000000   \n",
       "9       0  lassen76  ...                                       0.000031   \n",
       "10      0  lassen76  ...                                       0.000031   \n",
       "\n",
       "                                             filename   size count  \\\n",
       "1   /p/gpfs1/haridev/iopp/montage-workflow/scratch...      2     1   \n",
       "4   /p/gpfs1/haridev/iopp/montage-workflow/scratch...      2     1   \n",
       "7   /p/gpfs1/haridev/iopp/montage-workflow/scratch...      4     1   \n",
       "9   /p/gpfs1/haridev/iopp/montage-workflow/scratch...  32768     1   \n",
       "10  /p/gpfs1/haridev/iopp/montage-workflow/scratch...  32768     1   \n",
       "\n",
       "      bandwidth  \n",
       "1      0.008929  \n",
       "4      0.062500  \n",
       "7      0.000000  \n",
       "9   1024.000000  \n",
       "10  1024.000000  \n",
       "\n",
       "[5 rows x 27 columns]"
      ]
     },
     "execution_count": 44,
     "metadata": {},
     "output_type": "execute_result"
    }
   ],
   "source": [
    "io_ddf_read_write.head()"
   ]
  },
  {
   "cell_type": "markdown",
   "metadata": {
    "tags": [
     "Finding"
    ]
   },
   "source": [
    "### Distribution of Transfer Size and Bandwidth in the application\n",
    "The transfer size is given by the size column in bytes and the bandwidth is shown in MB/s"
   ]
  },
  {
   "cell_type": "code",
   "execution_count": 46,
   "metadata": {
    "tags": [
     "Finding"
    ]
   },
   "outputs": [
    {
     "data": {
      "text/html": [
       "<div>\n",
       "<style scoped>\n",
       "    .dataframe tbody tr th:only-of-type {\n",
       "        vertical-align: middle;\n",
       "    }\n",
       "\n",
       "    .dataframe tbody tr th {\n",
       "        vertical-align: top;\n",
       "    }\n",
       "\n",
       "    .dataframe thead th {\n",
       "        text-align: right;\n",
       "    }\n",
       "</style>\n",
       "<table border=\"1\" class=\"dataframe\">\n",
       "  <thead>\n",
       "    <tr style=\"text-align: right;\">\n",
       "      <th></th>\n",
       "      <th>size</th>\n",
       "      <th>bandwidth</th>\n",
       "    </tr>\n",
       "  </thead>\n",
       "  <tbody>\n",
       "    <tr>\n",
       "      <th>count</th>\n",
       "      <td>1.100839e+07</td>\n",
       "      <td>1.100839e+07</td>\n",
       "    </tr>\n",
       "    <tr>\n",
       "      <th>mean</th>\n",
       "      <td>1.356242e+04</td>\n",
       "      <td>5.171620e+02</td>\n",
       "    </tr>\n",
       "    <tr>\n",
       "      <th>std</th>\n",
       "      <td>1.604083e+04</td>\n",
       "      <td>6.582878e+02</td>\n",
       "    </tr>\n",
       "    <tr>\n",
       "      <th>min</th>\n",
       "      <td>2.000000e+00</td>\n",
       "      <td>0.000000e+00</td>\n",
       "    </tr>\n",
       "    <tr>\n",
       "      <th>25%</th>\n",
       "      <td>2.880000e+03</td>\n",
       "      <td>0.000000e+00</td>\n",
       "    </tr>\n",
       "    <tr>\n",
       "      <th>50%</th>\n",
       "      <td>1.728000e+04</td>\n",
       "      <td>5.487805e-01</td>\n",
       "    </tr>\n",
       "    <tr>\n",
       "      <th>75%</th>\n",
       "      <td>2.060000e+04</td>\n",
       "      <td>1.080000e+03</td>\n",
       "    </tr>\n",
       "    <tr>\n",
       "      <th>max</th>\n",
       "      <td>3.291618e+07</td>\n",
       "      <td>1.028371e+04</td>\n",
       "    </tr>\n",
       "  </tbody>\n",
       "</table>\n",
       "</div>"
      ],
      "text/plain": [
       "               size     bandwidth\n",
       "count  1.100839e+07  1.100839e+07\n",
       "mean   1.356242e+04  5.171620e+02\n",
       "std    1.604083e+04  6.582878e+02\n",
       "min    2.000000e+00  0.000000e+00\n",
       "25%    2.880000e+03  0.000000e+00\n",
       "50%    1.728000e+04  5.487805e-01\n",
       "75%    2.060000e+04  1.080000e+03\n",
       "max    3.291618e+07  1.028371e+04"
      ]
     },
     "execution_count": 46,
     "metadata": {},
     "output_type": "execute_result"
    }
   ],
   "source": [
    "io_ddf_read_write[['size', 'bandwidth']].describe()"
   ]
  },
  {
   "cell_type": "markdown",
   "metadata": {},
   "source": [
    "### Preload the I/O dataframe for faster analysis"
   ]
  },
  {
   "cell_type": "code",
   "execution_count": 45,
   "metadata": {
    "tags": []
   },
   "outputs": [],
   "source": [
    "io_ddf = io_ddf.persist()\n",
    "result = wait(io_ddf)"
   ]
  },
  {
   "cell_type": "markdown",
   "metadata": {},
   "source": [
    "### Operations Per Application"
   ]
  },
  {
   "cell_type": "code",
   "execution_count": 186,
   "metadata": {},
   "outputs": [
    {
     "data": {
      "text/plain": [
       "app          func_id  \n",
       "mProject     fclose          2197\n",
       "             fopen64         2535\n",
       "             fread          69984\n",
       "             fseek           1014\n",
       "             fwrite       1661266\n",
       "             remove           338\n",
       "mDiffFit     fopen64        10221\n",
       "             pipe           11484\n",
       "             vfprintf        5321\n",
       "mDiff        fclose         69088\n",
       "             fopen64        69928\n",
       "             fread        4401056\n",
       "             fwrite       1907844\n",
       "             remove           840\n",
       "mFitplane    fclose           832\n",
       "             fopen64          832\n",
       "             fread         857791\n",
       "mBackground  __xstat64        216\n",
       "             fclose          1296\n",
       "             fopen64         1512\n",
       "             fread         518306\n",
       "             fseek            216\n",
       "             fwrite       1046902\n",
       "             remove           216\n",
       "mConcatFit   __xstat64       4034\n",
       "             fclose          4032\n",
       "             fopen64         4036\n",
       "             fseek              2\n",
       "             fwrite             2\n",
       "             vfprintf         309\n",
       "mViewer      fclose            10\n",
       "             fopen64           10\n",
       "             fread          43208\n",
       "             fwrite             2\n",
       "mImgtbl      __xstat64        260\n",
       "             fclose           266\n",
       "             fopen64          268\n",
       "             fread            256\n",
       "             fseek              2\n",
       "             fwrite            14\n",
       "             unlink             2\n",
       "             vfprintf        3748\n",
       "mAdd         __xstat64          2\n",
       "             fclose           306\n",
       "             fopen64          342\n",
       "             fread         328950\n",
       "             fseek              2\n",
       "             fwrite        172804\n",
       "             remove             4\n",
       "mBgModel     __xstat64          4\n",
       "             fclose             2\n",
       "             fopen64            6\n",
       "             fseek              4\n",
       "             fwrite             2\n",
       "             vfprintf          98\n",
       "Name: func_id, dtype: int64"
      ]
     },
     "execution_count": 186,
     "metadata": {},
     "output_type": "execute_result"
    }
   ],
   "source": [
    "io_ddf.groupby(['app','func_id'])['func_id'].count().compute()"
   ]
  },
  {
   "cell_type": "code",
   "execution_count": 187,
   "metadata": {},
   "outputs": [
    {
     "data": {
      "text/plain": [
       "app          func_id\n",
       "mAdd         fread       6074.015217\n",
       "             fwrite      1582.042236\n",
       "mBackground  fread       9547.493118\n",
       "             fwrite      9547.058716\n",
       "mBgModel     fwrite         0.000107\n",
       "mConcatFit   fwrite         0.000399\n",
       "mDiff        fread      85396.764038\n",
       "             fwrite      7024.828491\n",
       "mFitplane    fread       3412.809341\n",
       "mImgtbl      fread          0.351807\n",
       "             fwrite         0.000982\n",
       "mProject     fread       2137.361164\n",
       "             fwrite     15228.347168\n",
       "mViewer      fread       2373.057869\n",
       "             fwrite        59.754055\n",
       "Name: size, dtype: float64"
      ]
     },
     "execution_count": 187,
     "metadata": {},
     "output_type": "execute_result"
    }
   ],
   "source": [
    "io_ddf_read_write.groupby(['app','func_id'])['size'].sum() /1024.0/1024.0"
   ]
  },
  {
   "cell_type": "code",
   "execution_count": 188,
   "metadata": {},
   "outputs": [
    {
     "data": {
      "text/plain": [
       "app\n",
       "mAdd              2\n",
       "mBackground     108\n",
       "mBgModel          2\n",
       "mConcatFit        2\n",
       "mDiff          5271\n",
       "mFitplane       415\n",
       "mImgtbl           2\n",
       "mProject        169\n",
       "mViewer           2\n",
       "Name: proc, dtype: int64"
      ]
     },
     "execution_count": 188,
     "metadata": {},
     "output_type": "execute_result"
    }
   ],
   "source": [
    "io_ddf_read_write.groupby(['app'])['proc'].nunique() "
   ]
  },
  {
   "cell_type": "markdown",
   "metadata": {
    "tags": [
     "Finding"
    ]
   },
   "source": [
    "## Application Analysis"
   ]
  },
  {
   "cell_type": "code",
   "execution_count": null,
   "metadata": {},
   "outputs": [],
   "source": [
    "rank_index_series = io_ddf_read_write.groupby(['hostname','app','proc','rank', 'thread_id'])['thread_id'].nunique().cumsum()\n",
    "#io_ddf_read_write['rank_index'] = 0\n",
    "#for index,item in rank_index_series.iteritems():\n",
    "#    condition = (io_ddf_read_write['hostname'] == index[0]) & (io_ddf_read_write['app'] == index[1]) & (io_ddf_read_write['proc'] == index[2]) & (io_ddf_read_write['rank'] == index[3]) & (io_ddf_read_write['thread_id'] == index[4])\n",
    "#    io_ddf_read_write['rank_index'] = io_ddf_read_write['rank_index'].mask(condition , item - 1)"
   ]
  },
  {
   "cell_type": "markdown",
   "metadata": {},
   "source": [
    "### Num Ranks"
   ]
  },
  {
   "cell_type": "code",
   "execution_count": null,
   "metadata": {
    "tags": [
     "Finding"
    ]
   },
   "outputs": [],
   "source": [
    "num_ranks = rank_index_series.nunique()\n",
    "print(\"Number of ranks in application {}\".format(num_ranks))"
   ]
  },
  {
   "cell_type": "markdown",
   "metadata": {},
   "source": [
    "### Total I/O amount"
   ]
  },
  {
   "cell_type": "code",
   "execution_count": null,
   "metadata": {
    "tags": [
     "Finding"
    ]
   },
   "outputs": [],
   "source": [
    "total_io = io_ddf_read_write.groupby('func_id')['size'].sum()/1024.0/1024.0/1024.0\n",
    "print(\"Total I/O in application {} GB\".format(total_io.sum()))\n",
    "print(\"Total I/O per operation in application {} GB\".format(total_io))"
   ]
  },
  {
   "cell_type": "markdown",
   "metadata": {},
   "source": [
    "### I/O per rank"
   ]
  },
  {
   "cell_type": "code",
   "execution_count": null,
   "metadata": {},
   "outputs": [],
   "source": [
    "io_ddf_read_write.groupby(['rank', 'func_id'])['size'].sum()"
   ]
  },
  {
   "cell_type": "markdown",
   "metadata": {
    "tags": [
     "Finding"
    ]
   },
   "source": [
    "**rank 0 performs 100x more I/O than others. Also every other process reads data where as only rank 0 writes it.**"
   ]
  },
  {
   "cell_type": "code",
   "execution_count": null,
   "metadata": {},
   "outputs": [],
   "source": [
    "io_per_rank_gb = io_ddf_read_write.groupby(['app'])['size'].sum()/1024.0/1024.0/1024.0\n",
    "io_per_rank_gb.plot(kind='line',figsize=(12,4))"
   ]
  },
  {
   "cell_type": "markdown",
   "metadata": {},
   "source": [
    "### Operations Per Rank"
   ]
  },
  {
   "cell_type": "code",
   "execution_count": 55,
   "metadata": {},
   "outputs": [
    {
     "data": {
      "text/plain": [
       "<AxesSubplot:xlabel='app'>"
      ]
     },
     "execution_count": 55,
     "metadata": {},
     "output_type": "execute_result"
    },
    {
     "data": {
      "image/png": "[encoded data removed]",
      "text/plain": [
       "<Figure size 288x288 with 1 Axes>"
      ]
     },
     "metadata": {
      "needs_background": "light"
     },
     "output_type": "display_data"
    }
   ],
   "source": [
    "io_per_rank_gb = io_ddf_read_write.groupby(['app'])['count'].sum()\n",
    "io_per_rank_gb.plot(kind='line',figsize=(4,4))"
   ]
  },
  {
   "cell_type": "markdown",
   "metadata": {},
   "source": [
    "**Also rank 0 performs 2000x more operations than other ranks.**"
   ]
  },
  {
   "cell_type": "markdown",
   "metadata": {},
   "source": [
    "### Average I/O Time per process"
   ]
  },
  {
   "cell_type": "code",
   "execution_count": 56,
   "metadata": {},
   "outputs": [],
   "source": [
    "time_per_rank = io_ddf.groupby('app')['duration'].sum().compute()"
   ]
  },
  {
   "cell_type": "code",
   "execution_count": 57,
   "metadata": {},
   "outputs": [
    {
     "name": "stdout",
     "output_type": "stream",
     "text": [
      "time per process: Average 21.83269691467285 sec, Max 136.9674072265625 sec, and Min 0.00235748291015625 sec\n"
     ]
    }
   ],
   "source": [
    "print(\"time per process: Average {} sec, Max {} sec, and Min {} sec\".format(time_per_rank.mean(), time_per_rank.max(), time_per_rank.min()))"
   ]
  },
  {
   "cell_type": "code",
   "execution_count": 58,
   "metadata": {},
   "outputs": [
    {
     "data": {
      "text/plain": [
       "<AxesSubplot:xlabel='app'>"
      ]
     },
     "execution_count": 58,
     "metadata": {},
     "output_type": "execute_result"
    },
    {
     "data": {
      "image/png": "[encoded data removed]",
      "text/plain": [
       "<Figure size 576x288 with 1 Axes>"
      ]
     },
     "metadata": {
      "needs_background": "light"
     },
     "output_type": "display_data"
    }
   ],
   "source": [
    "time_per_rank.plot(kind='line',figsize=(8,4))"
   ]
  },
  {
   "cell_type": "markdown",
   "metadata": {
    "tags": [
     "Finding"
    ]
   },
   "source": [
    "Most time is spent by rank 0."
   ]
  },
  {
   "cell_type": "markdown",
   "metadata": {},
   "source": [
    "### Compute Time"
   ]
  },
  {
   "cell_type": "markdown",
   "metadata": {},
   "source": [
    "#### Convert trace dataframe into memory."
   ]
  },
  {
   "cell_type": "code",
   "execution_count": 59,
   "metadata": {},
   "outputs": [],
   "source": [
    "trace_ddf_local = trace_ddf"
   ]
  },
  {
   "cell_type": "markdown",
   "metadata": {},
   "source": [
    "#### Calculate duration for trace values"
   ]
  },
  {
   "cell_type": "code",
   "execution_count": 60,
   "metadata": {},
   "outputs": [],
   "source": [
    "trace_ddf_local['duration'] = trace_ddf_local['tend'] - trace_ddf_local['tstart']"
   ]
  },
  {
   "cell_type": "code",
   "execution_count": 62,
   "metadata": {
    "tags": []
   },
   "outputs": [],
   "source": [
    "#trace_ddf_local['duration'].describe().compute()"
   ]
  },
  {
   "cell_type": "code",
   "execution_count": 64,
   "metadata": {
    "tags": [
     "Finding"
    ]
   },
   "outputs": [
    {
     "ename": "KeyboardInterrupt",
     "evalue": "",
     "output_type": "error",
     "traceback": [
      "\u001b[0;31m---------------------------------------------------------------------------\u001b[0m",
      "\u001b[0;31mKeyboardInterrupt\u001b[0m                         Traceback (most recent call last)",
      "\u001b[0;32m/var/tmp/ipykernel_67339/2619246726.py\u001b[0m in \u001b[0;36m<module>\u001b[0;34m\u001b[0m\n\u001b[0;32m----> 1\u001b[0;31m \u001b[0mnegetive_durations\u001b[0m \u001b[0;34m=\u001b[0m \u001b[0mtrace_ddf_local\u001b[0m\u001b[0;34m[\u001b[0m\u001b[0mtrace_ddf_local\u001b[0m\u001b[0;34m[\u001b[0m\u001b[0;34m'duration'\u001b[0m\u001b[0;34m]\u001b[0m \u001b[0;34m<\u001b[0m \u001b[0;36m0\u001b[0m\u001b[0;34m]\u001b[0m\u001b[0;34m[\u001b[0m\u001b[0;34m'duration'\u001b[0m\u001b[0;34m]\u001b[0m\u001b[0;34m.\u001b[0m\u001b[0mcount\u001b[0m\u001b[0;34m(\u001b[0m\u001b[0;34m)\u001b[0m\u001b[0;34m.\u001b[0m\u001b[0mcompute\u001b[0m\u001b[0;34m(\u001b[0m\u001b[0;34m)\u001b[0m\u001b[0;34m\u001b[0m\u001b[0;34m\u001b[0m\u001b[0m\n\u001b[0m\u001b[1;32m      2\u001b[0m \u001b[0mprint\u001b[0m\u001b[0;34m(\u001b[0m\u001b[0;34m\"Profiler stored {} negetive rows\"\u001b[0m\u001b[0;34m.\u001b[0m\u001b[0mformat\u001b[0m\u001b[0;34m(\u001b[0m\u001b[0mnegetive_durations\u001b[0m\u001b[0;34m)\u001b[0m\u001b[0;34m)\u001b[0m\u001b[0;34m\u001b[0m\u001b[0;34m\u001b[0m\u001b[0m\n",
      "\u001b[0;32m/usr/workspace/iopp/.conda/envs/jupyter/lib/python3.9/site-packages/dask/base.py\u001b[0m in \u001b[0;36mcompute\u001b[0;34m(self, **kwargs)\u001b[0m\n\u001b[1;32m    284\u001b[0m         \u001b[0mdask\u001b[0m\u001b[0;34m.\u001b[0m\u001b[0mbase\u001b[0m\u001b[0;34m.\u001b[0m\u001b[0mcompute\u001b[0m\u001b[0;34m\u001b[0m\u001b[0;34m\u001b[0m\u001b[0m\n\u001b[1;32m    285\u001b[0m         \"\"\"\n\u001b[0;32m--> 286\u001b[0;31m         \u001b[0;34m(\u001b[0m\u001b[0mresult\u001b[0m\u001b[0;34m,\u001b[0m\u001b[0;34m)\u001b[0m \u001b[0;34m=\u001b[0m \u001b[0mcompute\u001b[0m\u001b[0;34m(\u001b[0m\u001b[0mself\u001b[0m\u001b[0;34m,\u001b[0m \u001b[0mtraverse\u001b[0m\u001b[0;34m=\u001b[0m\u001b[0;32mFalse\u001b[0m\u001b[0;34m,\u001b[0m \u001b[0;34m**\u001b[0m\u001b[0mkwargs\u001b[0m\u001b[0;34m)\u001b[0m\u001b[0;34m\u001b[0m\u001b[0;34m\u001b[0m\u001b[0m\n\u001b[0m\u001b[1;32m    287\u001b[0m         \u001b[0;32mreturn\u001b[0m \u001b[0mresult\u001b[0m\u001b[0;34m\u001b[0m\u001b[0;34m\u001b[0m\u001b[0m\n\u001b[1;32m    288\u001b[0m \u001b[0;34m\u001b[0m\u001b[0m\n",
      "\u001b[0;32m/usr/workspace/iopp/.conda/envs/jupyter/lib/python3.9/site-packages/dask/base.py\u001b[0m in \u001b[0;36mcompute\u001b[0;34m(*args, **kwargs)\u001b[0m\n\u001b[1;32m    566\u001b[0m         \u001b[0mpostcomputes\u001b[0m\u001b[0;34m.\u001b[0m\u001b[0mappend\u001b[0m\u001b[0;34m(\u001b[0m\u001b[0mx\u001b[0m\u001b[0;34m.\u001b[0m\u001b[0m__dask_postcompute__\u001b[0m\u001b[0;34m(\u001b[0m\u001b[0;34m)\u001b[0m\u001b[0;34m)\u001b[0m\u001b[0;34m\u001b[0m\u001b[0;34m\u001b[0m\u001b[0m\n\u001b[1;32m    567\u001b[0m \u001b[0;34m\u001b[0m\u001b[0m\n\u001b[0;32m--> 568\u001b[0;31m     \u001b[0mresults\u001b[0m \u001b[0;34m=\u001b[0m \u001b[0mschedule\u001b[0m\u001b[0;34m(\u001b[0m\u001b[0mdsk\u001b[0m\u001b[0;34m,\u001b[0m \u001b[0mkeys\u001b[0m\u001b[0;34m,\u001b[0m \u001b[0;34m**\u001b[0m\u001b[0mkwargs\u001b[0m\u001b[0;34m)\u001b[0m\u001b[0;34m\u001b[0m\u001b[0;34m\u001b[0m\u001b[0m\n\u001b[0m\u001b[1;32m    569\u001b[0m     \u001b[0;32mreturn\u001b[0m \u001b[0mrepack\u001b[0m\u001b[0;34m(\u001b[0m\u001b[0;34m[\u001b[0m\u001b[0mf\u001b[0m\u001b[0;34m(\u001b[0m\u001b[0mr\u001b[0m\u001b[0;34m,\u001b[0m \u001b[0;34m*\u001b[0m\u001b[0ma\u001b[0m\u001b[0;34m)\u001b[0m \u001b[0;32mfor\u001b[0m \u001b[0mr\u001b[0m\u001b[0;34m,\u001b[0m \u001b[0;34m(\u001b[0m\u001b[0mf\u001b[0m\u001b[0;34m,\u001b[0m \u001b[0ma\u001b[0m\u001b[0;34m)\u001b[0m \u001b[0;32min\u001b[0m \u001b[0mzip\u001b[0m\u001b[0;34m(\u001b[0m\u001b[0mresults\u001b[0m\u001b[0;34m,\u001b[0m \u001b[0mpostcomputes\u001b[0m\u001b[0;34m)\u001b[0m\u001b[0;34m]\u001b[0m\u001b[0;34m)\u001b[0m\u001b[0;34m\u001b[0m\u001b[0;34m\u001b[0m\u001b[0m\n\u001b[1;32m    570\u001b[0m \u001b[0;34m\u001b[0m\u001b[0m\n",
      "\u001b[0;32m/usr/workspace/iopp/.conda/envs/jupyter/lib/python3.9/site-packages/distributed/client.py\u001b[0m in \u001b[0;36mget\u001b[0;34m(self, dsk, keys, workers, allow_other_workers, resources, sync, asynchronous, direct, retries, priority, fifo_timeout, actors, **kwargs)\u001b[0m\n\u001b[1;32m   2669\u001b[0m                     \u001b[0mshould_rejoin\u001b[0m \u001b[0;34m=\u001b[0m \u001b[0;32mFalse\u001b[0m\u001b[0;34m\u001b[0m\u001b[0;34m\u001b[0m\u001b[0m\n\u001b[1;32m   2670\u001b[0m             \u001b[0;32mtry\u001b[0m\u001b[0;34m:\u001b[0m\u001b[0;34m\u001b[0m\u001b[0;34m\u001b[0m\u001b[0m\n\u001b[0;32m-> 2671\u001b[0;31m                 \u001b[0mresults\u001b[0m \u001b[0;34m=\u001b[0m \u001b[0mself\u001b[0m\u001b[0;34m.\u001b[0m\u001b[0mgather\u001b[0m\u001b[0;34m(\u001b[0m\u001b[0mpacked\u001b[0m\u001b[0;34m,\u001b[0m \u001b[0masynchronous\u001b[0m\u001b[0;34m=\u001b[0m\u001b[0masynchronous\u001b[0m\u001b[0;34m,\u001b[0m \u001b[0mdirect\u001b[0m\u001b[0;34m=\u001b[0m\u001b[0mdirect\u001b[0m\u001b[0;34m)\u001b[0m\u001b[0;34m\u001b[0m\u001b[0;34m\u001b[0m\u001b[0m\n\u001b[0m\u001b[1;32m   2672\u001b[0m             \u001b[0;32mfinally\u001b[0m\u001b[0;34m:\u001b[0m\u001b[0;34m\u001b[0m\u001b[0;34m\u001b[0m\u001b[0m\n\u001b[1;32m   2673\u001b[0m                 \u001b[0;32mfor\u001b[0m \u001b[0mf\u001b[0m \u001b[0;32min\u001b[0m \u001b[0mfutures\u001b[0m\u001b[0;34m.\u001b[0m\u001b[0mvalues\u001b[0m\u001b[0;34m(\u001b[0m\u001b[0;34m)\u001b[0m\u001b[0;34m:\u001b[0m\u001b[0;34m\u001b[0m\u001b[0;34m\u001b[0m\u001b[0m\n",
      "\u001b[0;32m/usr/workspace/iopp/.conda/envs/jupyter/lib/python3.9/site-packages/distributed/client.py\u001b[0m in \u001b[0;36mgather\u001b[0;34m(self, futures, errors, direct, asynchronous)\u001b[0m\n\u001b[1;32m   1946\u001b[0m             \u001b[0;32melse\u001b[0m\u001b[0;34m:\u001b[0m\u001b[0;34m\u001b[0m\u001b[0;34m\u001b[0m\u001b[0m\n\u001b[1;32m   1947\u001b[0m                 \u001b[0mlocal_worker\u001b[0m \u001b[0;34m=\u001b[0m \u001b[0;32mNone\u001b[0m\u001b[0;34m\u001b[0m\u001b[0;34m\u001b[0m\u001b[0m\n\u001b[0;32m-> 1948\u001b[0;31m             return self.sync(\n\u001b[0m\u001b[1;32m   1949\u001b[0m                 \u001b[0mself\u001b[0m\u001b[0;34m.\u001b[0m\u001b[0m_gather\u001b[0m\u001b[0;34m,\u001b[0m\u001b[0;34m\u001b[0m\u001b[0;34m\u001b[0m\u001b[0m\n\u001b[1;32m   1950\u001b[0m                 \u001b[0mfutures\u001b[0m\u001b[0;34m,\u001b[0m\u001b[0;34m\u001b[0m\u001b[0;34m\u001b[0m\u001b[0m\n",
      "\u001b[0;32m/usr/workspace/iopp/.conda/envs/jupyter/lib/python3.9/site-packages/distributed/client.py\u001b[0m in \u001b[0;36msync\u001b[0;34m(self, func, asynchronous, callback_timeout, *args, **kwargs)\u001b[0m\n\u001b[1;32m    843\u001b[0m             \u001b[0;32mreturn\u001b[0m \u001b[0mfuture\u001b[0m\u001b[0;34m\u001b[0m\u001b[0;34m\u001b[0m\u001b[0m\n\u001b[1;32m    844\u001b[0m         \u001b[0;32melse\u001b[0m\u001b[0;34m:\u001b[0m\u001b[0;34m\u001b[0m\u001b[0;34m\u001b[0m\u001b[0m\n\u001b[0;32m--> 845\u001b[0;31m             return sync(\n\u001b[0m\u001b[1;32m    846\u001b[0m                 \u001b[0mself\u001b[0m\u001b[0;34m.\u001b[0m\u001b[0mloop\u001b[0m\u001b[0;34m,\u001b[0m \u001b[0mfunc\u001b[0m\u001b[0;34m,\u001b[0m \u001b[0;34m*\u001b[0m\u001b[0margs\u001b[0m\u001b[0;34m,\u001b[0m \u001b[0mcallback_timeout\u001b[0m\u001b[0;34m=\u001b[0m\u001b[0mcallback_timeout\u001b[0m\u001b[0;34m,\u001b[0m \u001b[0;34m**\u001b[0m\u001b[0mkwargs\u001b[0m\u001b[0;34m\u001b[0m\u001b[0;34m\u001b[0m\u001b[0m\n\u001b[1;32m    847\u001b[0m             )\n",
      "\u001b[0;32m/usr/workspace/iopp/.conda/envs/jupyter/lib/python3.9/site-packages/distributed/utils.py\u001b[0m in \u001b[0;36msync\u001b[0;34m(loop, func, callback_timeout, *args, **kwargs)\u001b[0m\n\u001b[1;32m    321\u001b[0m     \u001b[0;32melse\u001b[0m\u001b[0;34m:\u001b[0m\u001b[0;34m\u001b[0m\u001b[0;34m\u001b[0m\u001b[0m\n\u001b[1;32m    322\u001b[0m         \u001b[0;32mwhile\u001b[0m \u001b[0;32mnot\u001b[0m \u001b[0me\u001b[0m\u001b[0;34m.\u001b[0m\u001b[0mis_set\u001b[0m\u001b[0;34m(\u001b[0m\u001b[0;34m)\u001b[0m\u001b[0;34m:\u001b[0m\u001b[0;34m\u001b[0m\u001b[0;34m\u001b[0m\u001b[0m\n\u001b[0;32m--> 323\u001b[0;31m             \u001b[0me\u001b[0m\u001b[0;34m.\u001b[0m\u001b[0mwait\u001b[0m\u001b[0;34m(\u001b[0m\u001b[0;36m10\u001b[0m\u001b[0;34m)\u001b[0m\u001b[0;34m\u001b[0m\u001b[0;34m\u001b[0m\u001b[0m\n\u001b[0m\u001b[1;32m    324\u001b[0m     \u001b[0;32mif\u001b[0m \u001b[0merror\u001b[0m\u001b[0;34m[\u001b[0m\u001b[0;36m0\u001b[0m\u001b[0;34m]\u001b[0m\u001b[0;34m:\u001b[0m\u001b[0;34m\u001b[0m\u001b[0;34m\u001b[0m\u001b[0m\n\u001b[1;32m    325\u001b[0m         \u001b[0mtyp\u001b[0m\u001b[0;34m,\u001b[0m \u001b[0mexc\u001b[0m\u001b[0;34m,\u001b[0m \u001b[0mtb\u001b[0m \u001b[0;34m=\u001b[0m \u001b[0merror\u001b[0m\u001b[0;34m[\u001b[0m\u001b[0;36m0\u001b[0m\u001b[0;34m]\u001b[0m\u001b[0;34m\u001b[0m\u001b[0;34m\u001b[0m\u001b[0m\n",
      "\u001b[0;32m/usr/workspace/iopp/.conda/envs/jupyter/lib/python3.9/threading.py\u001b[0m in \u001b[0;36mwait\u001b[0;34m(self, timeout)\u001b[0m\n\u001b[1;32m    572\u001b[0m             \u001b[0msignaled\u001b[0m \u001b[0;34m=\u001b[0m \u001b[0mself\u001b[0m\u001b[0;34m.\u001b[0m\u001b[0m_flag\u001b[0m\u001b[0;34m\u001b[0m\u001b[0;34m\u001b[0m\u001b[0m\n\u001b[1;32m    573\u001b[0m             \u001b[0;32mif\u001b[0m \u001b[0;32mnot\u001b[0m \u001b[0msignaled\u001b[0m\u001b[0;34m:\u001b[0m\u001b[0;34m\u001b[0m\u001b[0;34m\u001b[0m\u001b[0m\n\u001b[0;32m--> 574\u001b[0;31m                 \u001b[0msignaled\u001b[0m \u001b[0;34m=\u001b[0m \u001b[0mself\u001b[0m\u001b[0;34m.\u001b[0m\u001b[0m_cond\u001b[0m\u001b[0;34m.\u001b[0m\u001b[0mwait\u001b[0m\u001b[0;34m(\u001b[0m\u001b[0mtimeout\u001b[0m\u001b[0;34m)\u001b[0m\u001b[0;34m\u001b[0m\u001b[0;34m\u001b[0m\u001b[0m\n\u001b[0m\u001b[1;32m    575\u001b[0m             \u001b[0;32mreturn\u001b[0m \u001b[0msignaled\u001b[0m\u001b[0;34m\u001b[0m\u001b[0;34m\u001b[0m\u001b[0m\n\u001b[1;32m    576\u001b[0m \u001b[0;34m\u001b[0m\u001b[0m\n",
      "\u001b[0;32m/usr/workspace/iopp/.conda/envs/jupyter/lib/python3.9/threading.py\u001b[0m in \u001b[0;36mwait\u001b[0;34m(self, timeout)\u001b[0m\n\u001b[1;32m    314\u001b[0m             \u001b[0;32melse\u001b[0m\u001b[0;34m:\u001b[0m\u001b[0;34m\u001b[0m\u001b[0;34m\u001b[0m\u001b[0m\n\u001b[1;32m    315\u001b[0m                 \u001b[0;32mif\u001b[0m \u001b[0mtimeout\u001b[0m \u001b[0;34m>\u001b[0m \u001b[0;36m0\u001b[0m\u001b[0;34m:\u001b[0m\u001b[0;34m\u001b[0m\u001b[0;34m\u001b[0m\u001b[0m\n\u001b[0;32m--> 316\u001b[0;31m                     \u001b[0mgotit\u001b[0m \u001b[0;34m=\u001b[0m \u001b[0mwaiter\u001b[0m\u001b[0;34m.\u001b[0m\u001b[0macquire\u001b[0m\u001b[0;34m(\u001b[0m\u001b[0;32mTrue\u001b[0m\u001b[0;34m,\u001b[0m \u001b[0mtimeout\u001b[0m\u001b[0;34m)\u001b[0m\u001b[0;34m\u001b[0m\u001b[0;34m\u001b[0m\u001b[0m\n\u001b[0m\u001b[1;32m    317\u001b[0m                 \u001b[0;32melse\u001b[0m\u001b[0;34m:\u001b[0m\u001b[0;34m\u001b[0m\u001b[0;34m\u001b[0m\u001b[0m\n\u001b[1;32m    318\u001b[0m                     \u001b[0mgotit\u001b[0m \u001b[0;34m=\u001b[0m \u001b[0mwaiter\u001b[0m\u001b[0;34m.\u001b[0m\u001b[0macquire\u001b[0m\u001b[0;34m(\u001b[0m\u001b[0;32mFalse\u001b[0m\u001b[0;34m)\u001b[0m\u001b[0;34m\u001b[0m\u001b[0;34m\u001b[0m\u001b[0m\n",
      "\u001b[0;31mKeyboardInterrupt\u001b[0m: "
     ]
    }
   ],
   "source": [
    "negetive_durations = trace_ddf_local[trace_ddf_local['duration'] < 0]['duration'].count().compute()\n",
    "print(\"Profiler stored {} negetive rows\".format(negetive_durations))"
   ]
  },
  {
   "cell_type": "code",
   "execution_count": null,
   "metadata": {},
   "outputs": [],
   "source": [
    "time_per_rank = trace_ddf_local.groupby('app')['duration'].sum().compute()"
   ]
  },
  {
   "cell_type": "code",
   "execution_count": null,
   "metadata": {
    "tags": [
     "Finding"
    ]
   },
   "outputs": [],
   "source": [
    "print(\"Time per process: Average {} sec, Max {} sec, and Min {} sec\".format(time_per_rank.mean(), time_per_rank.max(), time_per_rank.min()))"
   ]
  },
  {
   "cell_type": "code",
   "execution_count": null,
   "metadata": {},
   "outputs": [],
   "source": [
    "time_per_rank.plot(kind='line',figsize=(4,4))"
   ]
  },
  {
   "cell_type": "markdown",
   "metadata": {},
   "source": [
    "**No compute trace available**"
   ]
  },
  {
   "cell_type": "markdown",
   "metadata": {},
   "source": [
    "## Job Time"
   ]
  },
  {
   "cell_type": "code",
   "execution_count": null,
   "metadata": {},
   "outputs": [],
   "source": [
    "job_time = ddf['tend'].max().compute()"
   ]
  },
  {
   "cell_type": "code",
   "execution_count": null,
   "metadata": {},
   "outputs": [],
   "source": [
    "print(\"Job Time in Application {} sec\".format(job_time))"
   ]
  },
  {
   "cell_type": "markdown",
   "metadata": {},
   "source": [
    "The application run for a long time includes initialization."
   ]
  },
  {
   "cell_type": "markdown",
   "metadata": {},
   "source": [
    "## Job Intensity"
   ]
  },
  {
   "cell_type": "code",
   "execution_count": null,
   "metadata": {},
   "outputs": [],
   "source": [
    "total_compute = trace_ddf_local['duration'].sum().compute()\n",
    "total_io = io_ddf['duration'].sum().compute()\n",
    "print(\"I/O Time: {} sec Compute Time: {} sec\".format(total_io, total_compute))"
   ]
  },
  {
   "cell_type": "code",
   "execution_count": null,
   "metadata": {},
   "outputs": [],
   "source": [
    "io_intensity=total_io/(total_io + total_compute)\n",
    "comp_intensity=total_compute/(total_io + total_compute)"
   ]
  },
  {
   "cell_type": "code",
   "execution_count": null,
   "metadata": {},
   "outputs": [],
   "source": [
    "print(\"I/O intensity: {}, Compute intensity: {}\".format(io_intensity, comp_intensity))"
   ]
  },
  {
   "cell_type": "markdown",
   "metadata": {
    "tags": [
     "Finding"
    ]
   },
   "source": [
    "**Application is not compute intensive as only 4 second of the overall time (i.e. 668 sec) is spent on I/O**"
   ]
  },
  {
   "cell_type": "markdown",
   "metadata": {},
   "source": [
    "### I/O Transfer Size Distribution"
   ]
  },
  {
   "cell_type": "code",
   "execution_count": null,
   "metadata": {},
   "outputs": [],
   "source": [
    "file_df_temp = io_ddf_read_write\n",
    "size_ranges = [0, 4*1024, 64*1024, 1024*1024, 16*1024*1024]\n",
    "size_ranges_str = []\n",
    "for range_val in size_ranges:\n",
    "    size_ranges_str.append(str(range_val))\n",
    "max_range = len(size_ranges)\n",
    "request_size = [0]*len(size_ranges)\n",
    "for i, val in enumerate(size_ranges):\n",
    "    #print(i, max_range)\n",
    "    if i < max_range - 1:\n",
    "        request_size[i] = file_df_temp[(file_df_temp['size'].ge(val)) & \n",
    "                                       (file_df_temp['size'].lt(size_ranges[i+1]))]['size'].count()\n",
    "    else:\n",
    "        request_size[i] = file_df_temp[(file_df_temp['size'] >=size_ranges[i])]['size'].count()\n",
    "\n",
    "print(request_size)\n",
    "plt.bar(size_ranges_str, request_size)\n",
    "#file_sizes = file_df_temp['size'].to_numpy() / 1024.0 /1024.0\n",
    "#plt.hist(file_sizes, bins=100)\n",
    "plt.show()"
   ]
  },
  {
   "cell_type": "markdown",
   "metadata": {},
   "source": [
    "**Application performs a lot of small I/O <=4 KB and reads 16MB**"
   ]
  },
  {
   "cell_type": "markdown",
   "metadata": {},
   "source": [
    "### Distribution of request sizes per rank\n",
    "We need this as we see most I/O occurs by rank 0"
   ]
  },
  {
   "cell_type": "code",
   "execution_count": null,
   "metadata": {},
   "outputs": [],
   "source": [
    "selected_ranks = [0,1,2,3,4,5,6]\n",
    "for rank in selected_ranks:\n",
    "    file_df_temp = io_ddf_read_write[io_ddf_read_write['rank'] == rank]\n",
    "    size_ranges = [0, 4*1024, 64*1024, 1024*1024, 16*1024*1024]\n",
    "    size_ranges_str = []\n",
    "    for range_val in size_ranges:\n",
    "        size_ranges_str.append(str(range_val))\n",
    "    max_range = len(size_ranges)\n",
    "    request_size = [0]*len(size_ranges)\n",
    "    for i, val in enumerate(size_ranges):\n",
    "        #print(i, max_range)\n",
    "        if i < max_range - 1:\n",
    "            request_size[i] = file_df_temp[(file_df_temp['size'].ge(val)) & \n",
    "                                           (file_df_temp['size'].lt(size_ranges[i+1]))]['size'].count()\n",
    "        else:\n",
    "            request_size[i] = file_df_temp[(file_df_temp['size'] >=size_ranges[i])]['size'].count()\n",
    "\n",
    "    #print(request_size)\n",
    "    plt.bar(size_ranges_str, request_size)\n",
    "    #file_sizes = file_df_temp['size'].to_numpy() / 1024.0 /1024.0\n",
    "    #plt.hist(file_sizes, bins=100)\n",
    "    plt.show()"
   ]
  },
  {
   "cell_type": "markdown",
   "metadata": {
    "tags": [
     "Finding"
    ]
   },
   "source": [
    "**The application uses a transfer size of 4K (used by rank 0) and 16MB (used by other ranks)**"
   ]
  },
  {
   "cell_type": "markdown",
   "metadata": {},
   "source": [
    "### Distribution of Bandwidth achived by application"
   ]
  },
  {
   "cell_type": "code",
   "execution_count": null,
   "metadata": {},
   "outputs": [],
   "source": [
    "bw_ranges = [1, 128, 1024, 1024*64]\n",
    "bw_ranges_str = []\n",
    "for range_val in bw_ranges:\n",
    "    bw_ranges_str.append(str(range_val))\n",
    "max_range = len(bw_ranges)\n",
    "request_bw = [0]*len(bw_ranges)\n",
    "file_df_temp = io_ddf_read_write\n",
    "for i, val in enumerate(bw_ranges):\n",
    "    #print(i, max_range)\n",
    "    if i < max_range - 1:\n",
    "        request_bw[i] = file_df_temp[(file_df_temp['bandwidth'].ge(val)) & \n",
    "                                       (file_df_temp['bandwidth'].lt(bw_ranges[i+1]))]['size'].count()\n",
    "    else:\n",
    "        request_bw[i] = file_df_temp[(file_df_temp['bandwidth'] >=bw_ranges[i])]['size'].count()\n",
    "fig, ax = plt.subplots()\n",
    "ax.barh(bw_ranges_str, request_bw)\n",
    "for i, v in enumerate(request_bw):\n",
    "    ax.text(v + 3, i + .25, str(v), color='blue', fontweight='bold')\n",
    "plt.show()"
   ]
  },
  {
   "cell_type": "code",
   "execution_count": null,
   "metadata": {},
   "outputs": [],
   "source": [
    "request_bw"
   ]
  },
  {
   "cell_type": "code",
   "execution_count": null,
   "metadata": {},
   "outputs": [],
   "source": [
    "percentage_bw = np.array(request_bw)*100/np.sum(request_bw)\n",
    "percentage_bw"
   ]
  },
  {
   "cell_type": "markdown",
   "metadata": {
    "tags": [
     "Finding"
    ]
   },
   "source": [
    "- 40% of the overall I/O got a bandwidth of 128 MB/s per process.\n",
    "- 35% achieve a low bandwidth of 64GB/s"
   ]
  },
  {
   "cell_type": "code",
   "execution_count": null,
   "metadata": {},
   "outputs": [],
   "source": [
    "app_str = io_ddf_read_write['app'].unique()\n",
    "size_ranges = [0, 4*1024, 64*1024, 1024*1024, 16*1024*1024]\n",
    "request_size = [[]]*len(size_ranges)\n",
    "for i, val in enumerate(size_ranges):\n",
    "    request_size[i] = [0]*len(app_str)\n",
    "    for j,app in enumerate(app_str):\n",
    "        \n",
    "        file_df_temp = io_ddf_read_write[io_ddf_read_write['app'] == app]\n",
    "        max_range = len(size_ranges)\n",
    "        if i < max_range - 1:\n",
    "            request_size[i][j] = file_df_temp[(file_df_temp['size'].ge(val)) & \n",
    "                                           (file_df_temp['size'].lt(size_ranges[i+1]))]['bandwidth'].mean()\n",
    "        else:\n",
    "            request_size[i][j] = file_df_temp[(file_df_temp['size'] >=size_ranges[i])]['bandwidth'].mean()\n",
    "#fig, ax = plt.subplots(figsize=(16,4))\n",
    "#width = 0.35\n",
    "#plt.figure()\n",
    "for i, val in enumerate(size_ranges):\n",
    "    plt.figure(figsize=(16,4))\n",
    "    print(request_size[i][0],np.median(request_size[i]))\n",
    "    rects1 = plt.bar(app_str, request_size[i], 0.35, label=str(i))\n",
    "    plt.show()\n",
    "ax.legend()\n",
    "\n",
    "fig.tight_layout()\n",
    "\n",
    "plt.show()"
   ]
  },
  {
   "cell_type": "markdown",
   "metadata": {},
   "source": [
    "### Number of files read/written"
   ]
  },
  {
   "cell_type": "code",
   "execution_count": null,
   "metadata": {
    "tags": [
     "Finding"
    ]
   },
   "outputs": [],
   "source": [
    "all_filenames = io_ddf[io_ddf['filename'].str.contains('/p/gpfs1')]['filename'].unique().compute()\n",
    "print(\"The application accesses {} files\".format(len(all_filenames)))\n",
    "#print(all_filenames[:8],all_filenames[-8:])"
   ]
  },
  {
   "cell_type": "markdown",
   "metadata": {},
   "source": [
    "### I/O Operations by Application"
   ]
  },
  {
   "cell_type": "code",
   "execution_count": null,
   "metadata": {},
   "outputs": [],
   "source": [
    "io_ddf.groupby('func_id')['func_id'].count().compute()"
   ]
  },
  {
   "cell_type": "markdown",
   "metadata": {},
   "source": [
    "**As there are 1280 ranks in total, Most I/O is performed by rank 0 rest of them do less I/O**"
   ]
  },
  {
   "cell_type": "markdown",
   "metadata": {},
   "source": [
    "### IO Operations per rank"
   ]
  },
  {
   "cell_type": "code",
   "execution_count": null,
   "metadata": {},
   "outputs": [],
   "source": [
    "io_ddf.groupby(['rank','func_id'])['func_id'].count().compute()[:32]"
   ]
  },
  {
   "cell_type": "code",
   "execution_count": null,
   "metadata": {},
   "outputs": [],
   "source": [
    "io_ddf.groupby(['rank','func_id'])['func_id'].count().compute()[128:160]"
   ]
  },
  {
   "cell_type": "markdown",
   "metadata": {
    "tags": [
     "Finding"
    ]
   },
   "source": [
    "**These confirm our hypothesis that most I/O is performed by rank 0 rest of them do less I/O**"
   ]
  },
  {
   "cell_type": "markdown",
   "metadata": {},
   "source": [
    "### Bandwidth per request distribution\n",
    "We calculate the achived bandwidth per request size."
   ]
  },
  {
   "cell_type": "code",
   "execution_count": null,
   "metadata": {},
   "outputs": [],
   "source": [
    "app_str = io_ddf_read_write['app'].unique()\n",
    "size_ranges = [0, 4*1024, 64*1024, 1024*1024, 16*1024*1024]\n",
    "request_size = [[]]*len(size_ranges)\n",
    "for i, val in enumerate(size_ranges):\n",
    "    request_size[i] = [0]*len(app_str)\n",
    "    for j,app in enumerate(app_str):\n",
    "        \n",
    "        file_df_temp = io_ddf_read_write[io_ddf_read_write['app'] == app]\n",
    "        max_range = len(size_ranges)\n",
    "        if i < max_range - 1:\n",
    "            request_size[i][j] = file_df_temp[(file_df_temp['size'].ge(val)) & \n",
    "                                           (file_df_temp['size'].lt(size_ranges[i+1]))]['bandwidth'].mean()\n",
    "        else:\n",
    "            request_size[i][j] = file_df_temp[(file_df_temp['size'] >=size_ranges[i])]['bandwidth'].mean()\n",
    "#fig, ax = plt.subplots(figsize=(16,4))\n",
    "#width = 0.35\n",
    "#plt.figure()\n",
    "for i, val in enumerate(size_ranges):\n",
    "    plt.figure(figsize=(16,4))\n",
    "    print(np.sum(request_size[i]))\n",
    "    rects1 = plt.bar(app_str, request_size[i], 0.35, label=str(i))\n",
    "    plt.show()\n",
    "ax.legend()\n",
    "\n",
    "fig.tight_layout()\n",
    "\n",
    "plt.show()"
   ]
  },
  {
   "cell_type": "markdown",
   "metadata": {},
   "source": [
    "**Larger Request sizes have larger bandwidth. However as 4KB write dominates the application I/O we see small bandwidth overall**"
   ]
  },
  {
   "cell_type": "markdown",
   "metadata": {},
   "source": [
    "### Overlapping of Compute and I/O"
   ]
  },
  {
   "cell_type": "code",
   "execution_count": null,
   "metadata": {},
   "outputs": [],
   "source": [
    "io_ddf.groupby('proc')['thread_id'].nunique().describe().compute()"
   ]
  },
  {
   "cell_type": "markdown",
   "metadata": {},
   "source": [
    "#### No additional threads means I/O is synchronous to compute. I.e. all I/O is unoverlapped."
   ]
  },
  {
   "cell_type": "markdown",
   "metadata": {},
   "source": [
    "### Timeline\n",
    "The timeline analysis shows how each rank performs I/O over the runtime of the applications"
   ]
  },
  {
   "cell_type": "code",
   "execution_count": null,
   "metadata": {},
   "outputs": [],
   "source": [
    "time_step=100 # in seconds"
   ]
  },
  {
   "cell_type": "markdown",
   "metadata": {},
   "source": [
    "#### Request Size Timeline"
   ]
  },
  {
   "cell_type": "code",
   "execution_count": null,
   "metadata": {},
   "outputs": [],
   "source": [
    "import math\n",
    "values = np.arange(0, math.ceil(job_time), time_step)\n",
    "values_int = range(len(values))\n",
    "values_str = []\n",
    "timeline_ts = [0]*len(values_int)\n",
    "prev = 0\n",
    "for i in values_int:\n",
    "    values_str.append(str(i))\n",
    "    contains = (io_ddf_read_write['tstart'] >=prev) & (io_ddf_read_write['tend'] <values[i])\n",
    "    timeline_ts[i] = io_ddf_read_write[contains]['size'].sum()/1024.0/1024.0/1024.0\n",
    "    prev = values[i]\n",
    "plt.figure(figsize=(16,4))\n",
    "print(timeline_ts)\n",
    "plt.bar(values_str, timeline_ts)\n",
    "plt.show()"
   ]
  },
  {
   "cell_type": "code",
   "execution_count": null,
   "metadata": {},
   "outputs": [],
   "source": [
    "import math\n",
    "values = np.arange(0, math.ceil(job_time), time_step)\n",
    "values_int = range(len(values))\n",
    "values_str = []\n",
    "timeline_ts = [0]*len(values_int)\n",
    "prev = 0\n",
    "for i in values_int:\n",
    "    values_str.append(str(i))\n",
    "    contains = (io_ddf_read_write['tstart'] >=prev) & (io_ddf_read_write['tend'] <values[i]) & fread_condition\n",
    "    timeline_ts[i] = io_ddf_read_write[contains]['size'].sum()/1024.0/1024.0/1024.0\n",
    "    prev = values[i]\n",
    "plt.figure(figsize=(16,4))\n",
    "print(timeline_ts)\n",
    "plt.bar(values_str, timeline_ts)\n",
    "plt.show()"
   ]
  },
  {
   "cell_type": "code",
   "execution_count": null,
   "metadata": {},
   "outputs": [],
   "source": [
    "import math\n",
    "values = np.arange(0, math.ceil(job_time), time_step)\n",
    "values_int = range(len(values))\n",
    "values_str = []\n",
    "timeline_ts = [0]*len(values_int)\n",
    "prev = 0\n",
    "for i in values_int:\n",
    "    values_str.append(str(i))\n",
    "    contains = (io_ddf_read_write['tstart'] >=prev) & (io_ddf_read_write['tend'] <values[i]) & fwrite_condition\n",
    "    timeline_ts[i] = io_ddf_read_write[contains]['size'].sum()/1024.0/1024.0/1024.0\n",
    "    prev = values[i]\n",
    "plt.figure(figsize=(16,4))\n",
    "print(timeline_ts)\n",
    "plt.bar(values_str, timeline_ts)\n",
    "plt.show()"
   ]
  },
  {
   "cell_type": "markdown",
   "metadata": {
    "tags": [
     "Finding"
    ]
   },
   "source": [
    "**Most of the I/O (20GB) is performed in first 40 seconds and rest 1GB happens in the rest of the time**"
   ]
  },
  {
   "cell_type": "markdown",
   "metadata": {},
   "source": [
    "### Time Timeline"
   ]
  },
  {
   "cell_type": "code",
   "execution_count": null,
   "metadata": {},
   "outputs": [],
   "source": [
    "import math\n",
    "values = np.arange(0, math.ceil(job_time), time_step)\n",
    "values_int = range(len(values))\n",
    "timeline_ts = [0]*len(values_int)\n",
    "prev = 0\n",
    "values_str = []\n",
    "for i in values_int:\n",
    "    values_str.append(str(i))\n",
    "    contains = (io_ddf_read_write['tstart'] >=prev) & (io_ddf_read_write['tend'] <values[i])\n",
    "    timeline_ts[i] = io_ddf_read_write[contains]['duration'].sum()\n",
    "    prev = values[i]\n",
    "plt.figure(figsize=(16,4))\n",
    "print(timeline_ts)\n",
    "plt.bar(values_str, timeline_ts)\n",
    "plt.show()"
   ]
  },
  {
   "cell_type": "markdown",
   "metadata": {},
   "source": [
    "#### Bandwidth Timeline"
   ]
  },
  {
   "cell_type": "code",
   "execution_count": null,
   "metadata": {},
   "outputs": [],
   "source": [
    "import math\n",
    "values = np.arange(0, math.ceil(job_time), time_step)\n",
    "values_int = range(len(values))\n",
    "timeline_ts = [0]*len(values_int)\n",
    "prev = 0\n",
    "values_str = []\n",
    "for i in values_int:\n",
    "    values_str.append(str(i))\n",
    "    contains = (io_ddf_read_write['tstart'] >=prev) & (io_ddf_read_write['tend'] <values[i])\n",
    "    timeline_ts[i] = io_ddf_read_write[contains]['bandwidth'].mean()/1024.0\n",
    "    prev = values[i]\n",
    "plt.figure(figsize=(16,4))\n",
    "print(timeline_ts)\n",
    "plt.bar(values_str, timeline_ts)\n",
    "plt.show()"
   ]
  },
  {
   "cell_type": "code",
   "execution_count": null,
   "metadata": {},
   "outputs": [],
   "source": [
    "import math\n",
    "values = np.arange(0, math.ceil(job_time), time_step)\n",
    "values_int = range(len(values))\n",
    "timeline_ts = [0]*len(values_int)\n",
    "prev = 0\n",
    "values_str = []\n",
    "for i in values_int:\n",
    "    values_str.append(str(i))\n",
    "    contains = (io_ddf_read_write['tstart'] >=prev) & (io_ddf_read_write['tend'] <values[i]) & fread_condition\n",
    "    timeline_ts[i] = io_ddf_read_write[contains]['bandwidth'].mean()/1024.0\n",
    "    prev = values[i]\n",
    "plt.figure(figsize=(16,4))\n",
    "print(timeline_ts)\n",
    "plt.bar(values_str, timeline_ts)\n",
    "plt.show()"
   ]
  },
  {
   "cell_type": "code",
   "execution_count": null,
   "metadata": {},
   "outputs": [],
   "source": [
    "import math\n",
    "values = np.arange(0, math.ceil(job_time), time_step)\n",
    "values_int = range(len(values))\n",
    "timeline_ts = [0]*len(values_int)\n",
    "prev = 0\n",
    "values_str = []\n",
    "for i in values_int:\n",
    "    values_str.append(str(i))\n",
    "    contains = (io_ddf_read_write['tstart'] >=prev) & (io_ddf_read_write['tend'] <values[i]) & fwrite_condition\n",
    "    timeline_ts[i] = io_ddf_read_write[contains]['bandwidth'].mean()/1024.0\n",
    "    prev = values[i]\n",
    "plt.figure(figsize=(16,4))\n",
    "print(timeline_ts)\n",
    "plt.bar(values_str, timeline_ts)\n",
    "plt.show()"
   ]
  },
  {
   "cell_type": "markdown",
   "metadata": {},
   "source": [
    "**This supports our previous observation as the bandwidth is the measure of I/O performance of the application.**"
   ]
  },
  {
   "cell_type": "markdown",
   "metadata": {},
   "source": [
    "#### Bandwidth Timeline Per Rank"
   ]
  },
  {
   "cell_type": "code",
   "execution_count": null,
   "metadata": {},
   "outputs": [],
   "source": [
    "import math\n",
    "\n",
    "selected_app = io_ddf_read_write['app'].unique()\n",
    "\n",
    "plt.figure(figsize=(16,4))\n",
    "for app in selected_app:\n",
    "    io_df_rank = io_ddf_read_write[io_ddf_read_write['app'] == app]\n",
    "    values = np.arange(0, math.ceil(job_time), time_step)\n",
    "    values_int = range(len(values))\n",
    "    timeline_ts = [0]*len(values_int)\n",
    "    value_str = []\n",
    "    prev = 0\n",
    "    for i in values_int:\n",
    "        value_str.append(str(values[i]))\n",
    "        contains = (io_df_rank['tstart'] >=prev) & (io_df_rank['tend'] <values[i])\n",
    "        timeline_ts[i] = io_df_rank[contains]['bandwidth'].mean()\n",
    "        prev = values[i]\n",
    "    print(\"app {}\".format(app))\n",
    "    plt.bar(value_str, timeline_ts)\n",
    "    plt.show()"
   ]
  },
  {
   "cell_type": "markdown",
   "metadata": {
    "tags": [
     "Finding"
    ]
   },
   "source": [
    "**Most I/O happens in the first 40 sec and most bandwidth is achieved from PFS**"
   ]
  },
  {
   "cell_type": "markdown",
   "metadata": {},
   "source": [
    "#### Request Size Timeline per Rank"
   ]
  },
  {
   "cell_type": "code",
   "execution_count": null,
   "metadata": {},
   "outputs": [],
   "source": [
    "import math\n",
    "selected_app = io_ddf_read_write['app'].unique()\n",
    "\n",
    "plt.figure(figsize=(16,4))\n",
    "for app in selected_app:\n",
    "    io_df_rank = io_ddf_read_write[io_ddf_read_write['app'] == app]\n",
    "    values = np.arange(0, math.ceil(job_time), time_step)\n",
    "    values_int = range(len(values))\n",
    "    timeline_ts = [0]*len(values_int)\n",
    "    value_str = []\n",
    "    prev = 0\n",
    "    for i in values_int:\n",
    "        value_str.append(str(i))\n",
    "        contains = (io_df_rank['tstart'] >=prev) & (io_df_rank['tend'] <values[i])\n",
    "        timeline_ts[i] = io_df_rank[contains]['size'].sum()/1024.0/1024.0\n",
    "        prev = values[i]\n",
    "    print(\"app {}\".format(app))\n",
    "    plt.figure(figsize=(16,4))\n",
    "    plt.bar(value_str, timeline_ts)\n",
    "    plt.show()"
   ]
  },
  {
   "cell_type": "markdown",
   "metadata": {
    "tags": [
     "Finding"
    ]
   },
   "source": [
    "**Only rank 0 does I/O throughout the time. Rest perform read in first 40 seconds and perform computations.** "
   ]
  },
  {
   "cell_type": "markdown",
   "metadata": {},
   "source": [
    "## Find file which are independent or shared\n",
    "- Make all thread id start from 0 and unique across ranks\n",
    "- Group by filename nunique thread_id\n",
    "- Find all filename with nunique > 1"
   ]
  },
  {
   "cell_type": "code",
   "execution_count": 46,
   "metadata": {},
   "outputs": [],
   "source": [
    "thread_index_series = io_ddf.groupby(['proc', 'thread_id'])['thread_id'].nunique().cumsum().compute()"
   ]
  },
  {
   "cell_type": "code",
   "execution_count": 47,
   "metadata": {},
   "outputs": [],
   "source": [
    "proc_index_series = io_ddf.groupby(['hostname','proc'])['thread_id'].nunique().cumsum().compute()"
   ]
  },
  {
   "cell_type": "code",
   "execution_count": 48,
   "metadata": {},
   "outputs": [],
   "source": [
    "#io_ddf['thread_index'] = 0\n",
    "#for index,item in thread_index_series.iteritems():\n",
    "#    condition = (io_ddf['proc'] == index[0]) & (io_ddf['thread_id'] == index[1])\n",
    "#    io_ddf['thread_index'] = io_ddf['thread_index'].mask(condition , item - 1)"
   ]
  },
  {
   "cell_type": "code",
   "execution_count": 49,
   "metadata": {},
   "outputs": [
    {
     "name": "stdout",
     "output_type": "stream",
     "text": [
      "We have 11231 threads across 11360 process\n"
     ]
    }
   ],
   "source": [
    "num_procs = proc_index_series.count()\n",
    "threads = thread_index_series.count()\n",
    "print(\"We have {} threads across {} process\".format(threads, num_procs))"
   ]
  },
  {
   "cell_type": "code",
   "execution_count": 50,
   "metadata": {},
   "outputs": [],
   "source": [
    "filename_series = io_ddf[io_ddf['filename'].str.contains('/p/gpfs1')].groupby(['filename'])['proc'].nunique().compute()"
   ]
  },
  {
   "cell_type": "code",
   "execution_count": 51,
   "metadata": {
    "tags": [
     "Finding"
    ]
   },
   "outputs": [
    {
     "name": "stdout",
     "output_type": "stream",
     "text": [
      "4778 files that are accessed by application by only one rank\n"
     ]
    }
   ],
   "source": [
    "independent_files = filename_series[filename_series == 1]\n",
    "print(\"{} files that are accessed by application by only one rank\".format(len(independent_files)))"
   ]
  },
  {
   "cell_type": "code",
   "execution_count": 52,
   "metadata": {
    "tags": [
     "Finding"
    ]
   },
   "outputs": [
    {
     "name": "stdout",
     "output_type": "stream",
     "text": [
      "960 files that are accessed by application by more than one rank\n"
     ]
    }
   ],
   "source": [
    "shared_files = filename_series[filename_series > 1]\n",
    "print(\"{} files that are accessed by application by more than one rank\".format(len(shared_files)))"
   ]
  },
  {
   "cell_type": "markdown",
   "metadata": {
    "tags": [
     "Finding"
    ]
   },
   "source": [
    "This application doesnt share files. That is it follows a File per process pattern."
   ]
  },
  {
   "cell_type": "markdown",
   "metadata": {},
   "source": [
    "### Data Flow\n",
    "We plot how different ranks in the job are accessing data."
   ]
  },
  {
   "cell_type": "code",
   "execution_count": 55,
   "metadata": {},
   "outputs": [],
   "source": [
    "io_ddf_read_write['file_type'] = io_ddf_read_write['filename'] \n",
    "io_ddf_read_write['file_type'] = io_ddf_read_write['file_type'].apply(lambda x: x.split('/')[-1])\n",
    "io_ddf_read_write['file_type'] = io_ddf_read_write['file_type'].apply(lambda x: x.split('_')[0])\n",
    "io_ddf_read_write['file_type'] = io_ddf_read_write['file_type'].apply(lambda x: x.split('.')[0] + \"*\") # keep first part of dot\n",
    "io_ddf_read_write['file_type'] = io_ddf_read_write['file_type'].apply(lambda x: x.split('-')[1] if '-' in x else x)\n",
    "                              "
   ]
  },
  {
   "cell_type": "code",
   "execution_count": 56,
   "metadata": {},
   "outputs": [
    {
     "data": {
      "text/html": [
       "<div>\n",
       "<style scoped>\n",
       "    .dataframe tbody tr th:only-of-type {\n",
       "        vertical-align: middle;\n",
       "    }\n",
       "\n",
       "    .dataframe tbody tr th {\n",
       "        vertical-align: top;\n",
       "    }\n",
       "\n",
       "    .dataframe thead th {\n",
       "        text-align: right;\n",
       "    }\n",
       "</style>\n",
       "<table border=\"1\" class=\"dataframe\">\n",
       "  <thead>\n",
       "    <tr style=\"text-align: right;\">\n",
       "      <th></th>\n",
       "      <th>index</th>\n",
       "      <th>proc</th>\n",
       "      <th>rank</th>\n",
       "      <th>thread_id</th>\n",
       "      <th>cat</th>\n",
       "      <th>tstart</th>\n",
       "      <th>tend</th>\n",
       "      <th>func_id</th>\n",
       "      <th>level</th>\n",
       "      <th>hostname</th>\n",
       "      <th>...</th>\n",
       "      <th>args_7</th>\n",
       "      <th>args_8</th>\n",
       "      <th>args_9</th>\n",
       "      <th>args_10</th>\n",
       "      <th>duration</th>\n",
       "      <th>filename</th>\n",
       "      <th>size</th>\n",
       "      <th>count</th>\n",
       "      <th>bandwidth</th>\n",
       "      <th>file_type</th>\n",
       "    </tr>\n",
       "  </thead>\n",
       "  <tbody>\n",
       "    <tr>\n",
       "      <th>1</th>\n",
       "      <td>2</td>\n",
       "      <td>120324</td>\n",
       "      <td>0</td>\n",
       "      <td>321552</td>\n",
       "      <td>0</td>\n",
       "      <td>434.451538</td>\n",
       "      <td>434.451752</td>\n",
       "      <td>fread</td>\n",
       "      <td>0</td>\n",
       "      <td>lassen76</td>\n",
       "      <td>...</td>\n",
       "      <td></td>\n",
       "      <td></td>\n",
       "      <td></td>\n",
       "      <td></td>\n",
       "      <td>0.000214</td>\n",
       "      <td>/p/gpfs1/haridev/iopp/montage-workflow/scratch...</td>\n",
       "      <td>2</td>\n",
       "      <td>1</td>\n",
       "      <td>0.008929</td>\n",
       "      <td>poss2ukstu*</td>\n",
       "    </tr>\n",
       "    <tr>\n",
       "      <th>4</th>\n",
       "      <td>5</td>\n",
       "      <td>120324</td>\n",
       "      <td>0</td>\n",
       "      <td>321552</td>\n",
       "      <td>0</td>\n",
       "      <td>434.451874</td>\n",
       "      <td>434.451904</td>\n",
       "      <td>fread</td>\n",
       "      <td>0</td>\n",
       "      <td>lassen76</td>\n",
       "      <td>...</td>\n",
       "      <td></td>\n",
       "      <td></td>\n",
       "      <td></td>\n",
       "      <td></td>\n",
       "      <td>0.000031</td>\n",
       "      <td>/p/gpfs1/haridev/iopp/montage-workflow/scratch...</td>\n",
       "      <td>2</td>\n",
       "      <td>1</td>\n",
       "      <td>0.062500</td>\n",
       "      <td>poss2ukstu*</td>\n",
       "    </tr>\n",
       "    <tr>\n",
       "      <th>7</th>\n",
       "      <td>8</td>\n",
       "      <td>120324</td>\n",
       "      <td>0</td>\n",
       "      <td>321552</td>\n",
       "      <td>0</td>\n",
       "      <td>434.454681</td>\n",
       "      <td>434.454681</td>\n",
       "      <td>fread</td>\n",
       "      <td>0</td>\n",
       "      <td>lassen76</td>\n",
       "      <td>...</td>\n",
       "      <td></td>\n",
       "      <td></td>\n",
       "      <td></td>\n",
       "      <td></td>\n",
       "      <td>0.000000</td>\n",
       "      <td>/p/gpfs1/haridev/iopp/montage-workflow/scratch...</td>\n",
       "      <td>4</td>\n",
       "      <td>1</td>\n",
       "      <td>0.000000</td>\n",
       "      <td>poss2ukstu*</td>\n",
       "    </tr>\n",
       "    <tr>\n",
       "      <th>9</th>\n",
       "      <td>10</td>\n",
       "      <td>120324</td>\n",
       "      <td>0</td>\n",
       "      <td>321552</td>\n",
       "      <td>0</td>\n",
       "      <td>434.454742</td>\n",
       "      <td>434.454773</td>\n",
       "      <td>fread</td>\n",
       "      <td>0</td>\n",
       "      <td>lassen76</td>\n",
       "      <td>...</td>\n",
       "      <td></td>\n",
       "      <td></td>\n",
       "      <td></td>\n",
       "      <td></td>\n",
       "      <td>0.000031</td>\n",
       "      <td>/p/gpfs1/haridev/iopp/montage-workflow/scratch...</td>\n",
       "      <td>32768</td>\n",
       "      <td>1</td>\n",
       "      <td>1024.000000</td>\n",
       "      <td>poss2ukstu*</td>\n",
       "    </tr>\n",
       "    <tr>\n",
       "      <th>10</th>\n",
       "      <td>11</td>\n",
       "      <td>120324</td>\n",
       "      <td>0</td>\n",
       "      <td>321552</td>\n",
       "      <td>0</td>\n",
       "      <td>434.455536</td>\n",
       "      <td>434.455566</td>\n",
       "      <td>fread</td>\n",
       "      <td>0</td>\n",
       "      <td>lassen76</td>\n",
       "      <td>...</td>\n",
       "      <td></td>\n",
       "      <td></td>\n",
       "      <td></td>\n",
       "      <td></td>\n",
       "      <td>0.000031</td>\n",
       "      <td>/p/gpfs1/haridev/iopp/montage-workflow/scratch...</td>\n",
       "      <td>32768</td>\n",
       "      <td>1</td>\n",
       "      <td>1024.000000</td>\n",
       "      <td>poss2ukstu*</td>\n",
       "    </tr>\n",
       "    <tr>\n",
       "      <th>...</th>\n",
       "      <td>...</td>\n",
       "      <td>...</td>\n",
       "      <td>...</td>\n",
       "      <td>...</td>\n",
       "      <td>...</td>\n",
       "      <td>...</td>\n",
       "      <td>...</td>\n",
       "      <td>...</td>\n",
       "      <td>...</td>\n",
       "      <td>...</td>\n",
       "      <td>...</td>\n",
       "      <td>...</td>\n",
       "      <td>...</td>\n",
       "      <td>...</td>\n",
       "      <td>...</td>\n",
       "      <td>...</td>\n",
       "      <td>...</td>\n",
       "      <td>...</td>\n",
       "      <td>...</td>\n",
       "      <td>...</td>\n",
       "      <td>...</td>\n",
       "    </tr>\n",
       "    <tr>\n",
       "      <th>19</th>\n",
       "      <td>20</td>\n",
       "      <td>63543</td>\n",
       "      <td>0</td>\n",
       "      <td>321552</td>\n",
       "      <td>0</td>\n",
       "      <td>67.868149</td>\n",
       "      <td>67.868156</td>\n",
       "      <td>fread</td>\n",
       "      <td>0</td>\n",
       "      <td>lassen734</td>\n",
       "      <td>...</td>\n",
       "      <td></td>\n",
       "      <td></td>\n",
       "      <td></td>\n",
       "      <td></td>\n",
       "      <td>0.000008</td>\n",
       "      <td>/p/gpfs1/haridev/iopp/montage-workflow/scratch...</td>\n",
       "      <td>2880</td>\n",
       "      <td>1</td>\n",
       "      <td>360.000000</td>\n",
       "      <td>pposs2ukstu*</td>\n",
       "    </tr>\n",
       "    <tr>\n",
       "      <th>23</th>\n",
       "      <td>24</td>\n",
       "      <td>63543</td>\n",
       "      <td>0</td>\n",
       "      <td>321552</td>\n",
       "      <td>0</td>\n",
       "      <td>67.868301</td>\n",
       "      <td>67.868324</td>\n",
       "      <td>fread</td>\n",
       "      <td>0</td>\n",
       "      <td>lassen734</td>\n",
       "      <td>...</td>\n",
       "      <td></td>\n",
       "      <td></td>\n",
       "      <td></td>\n",
       "      <td></td>\n",
       "      <td>0.000023</td>\n",
       "      <td>/p/gpfs1/haridev/iopp/montage-workflow/scratch...</td>\n",
       "      <td>2</td>\n",
       "      <td>1</td>\n",
       "      <td>0.083333</td>\n",
       "      <td>pposs2ukstu*</td>\n",
       "    </tr>\n",
       "    <tr>\n",
       "      <th>26</th>\n",
       "      <td>27</td>\n",
       "      <td>63543</td>\n",
       "      <td>0</td>\n",
       "      <td>321552</td>\n",
       "      <td>0</td>\n",
       "      <td>67.868439</td>\n",
       "      <td>67.868446</td>\n",
       "      <td>fread</td>\n",
       "      <td>0</td>\n",
       "      <td>lassen734</td>\n",
       "      <td>...</td>\n",
       "      <td></td>\n",
       "      <td></td>\n",
       "      <td></td>\n",
       "      <td></td>\n",
       "      <td>0.000008</td>\n",
       "      <td>/p/gpfs1/haridev/iopp/montage-workflow/scratch...</td>\n",
       "      <td>2880</td>\n",
       "      <td>1</td>\n",
       "      <td>360.000000</td>\n",
       "      <td>pposs2ukstu*</td>\n",
       "    </tr>\n",
       "    <tr>\n",
       "      <th>28</th>\n",
       "      <td>29</td>\n",
       "      <td>63543</td>\n",
       "      <td>0</td>\n",
       "      <td>321552</td>\n",
       "      <td>0</td>\n",
       "      <td>67.868546</td>\n",
       "      <td>67.868561</td>\n",
       "      <td>fread</td>\n",
       "      <td>0</td>\n",
       "      <td>lassen734</td>\n",
       "      <td>...</td>\n",
       "      <td></td>\n",
       "      <td></td>\n",
       "      <td></td>\n",
       "      <td></td>\n",
       "      <td>0.000015</td>\n",
       "      <td>/p/gpfs1/haridev/iopp/montage-workflow/scratch...</td>\n",
       "      <td>2</td>\n",
       "      <td>1</td>\n",
       "      <td>0.125000</td>\n",
       "      <td>pposs2ukstu*</td>\n",
       "    </tr>\n",
       "    <tr>\n",
       "      <th>31</th>\n",
       "      <td>32</td>\n",
       "      <td>63543</td>\n",
       "      <td>0</td>\n",
       "      <td>321552</td>\n",
       "      <td>0</td>\n",
       "      <td>67.868698</td>\n",
       "      <td>67.868706</td>\n",
       "      <td>fread</td>\n",
       "      <td>0</td>\n",
       "      <td>lassen734</td>\n",
       "      <td>...</td>\n",
       "      <td></td>\n",
       "      <td></td>\n",
       "      <td></td>\n",
       "      <td></td>\n",
       "      <td>0.000008</td>\n",
       "      <td>/p/gpfs1/haridev/iopp/montage-workflow/scratch...</td>\n",
       "      <td>2880</td>\n",
       "      <td>1</td>\n",
       "      <td>360.000000</td>\n",
       "      <td>pposs2ukstu*</td>\n",
       "    </tr>\n",
       "  </tbody>\n",
       "</table>\n",
       "<p>11008387 rows × 28 columns</p>\n",
       "</div>"
      ],
      "text/plain": [
       "    index    proc  rank  thread_id  cat      tstart        tend func_id  \\\n",
       "1       2  120324     0     321552    0  434.451538  434.451752   fread   \n",
       "4       5  120324     0     321552    0  434.451874  434.451904   fread   \n",
       "7       8  120324     0     321552    0  434.454681  434.454681   fread   \n",
       "9      10  120324     0     321552    0  434.454742  434.454773   fread   \n",
       "10     11  120324     0     321552    0  434.455536  434.455566   fread   \n",
       "..    ...     ...   ...        ...  ...         ...         ...     ...   \n",
       "19     20   63543     0     321552    0   67.868149   67.868156   fread   \n",
       "23     24   63543     0     321552    0   67.868301   67.868324   fread   \n",
       "26     27   63543     0     321552    0   67.868439   67.868446   fread   \n",
       "28     29   63543     0     321552    0   67.868546   67.868561   fread   \n",
       "31     32   63543     0     321552    0   67.868698   67.868706   fread   \n",
       "\n",
       "    level   hostname  ...  args_7 args_8 args_9 args_10  duration  \\\n",
       "1       0   lassen76  ...                                0.000214   \n",
       "4       0   lassen76  ...                                0.000031   \n",
       "7       0   lassen76  ...                                0.000000   \n",
       "9       0   lassen76  ...                                0.000031   \n",
       "10      0   lassen76  ...                                0.000031   \n",
       "..    ...        ...  ...     ...    ...    ...     ...       ...   \n",
       "19      0  lassen734  ...                                0.000008   \n",
       "23      0  lassen734  ...                                0.000023   \n",
       "26      0  lassen734  ...                                0.000008   \n",
       "28      0  lassen734  ...                                0.000015   \n",
       "31      0  lassen734  ...                                0.000008   \n",
       "\n",
       "                                             filename   size count  \\\n",
       "1   /p/gpfs1/haridev/iopp/montage-workflow/scratch...      2     1   \n",
       "4   /p/gpfs1/haridev/iopp/montage-workflow/scratch...      2     1   \n",
       "7   /p/gpfs1/haridev/iopp/montage-workflow/scratch...      4     1   \n",
       "9   /p/gpfs1/haridev/iopp/montage-workflow/scratch...  32768     1   \n",
       "10  /p/gpfs1/haridev/iopp/montage-workflow/scratch...  32768     1   \n",
       "..                                                ...    ...   ...   \n",
       "19  /p/gpfs1/haridev/iopp/montage-workflow/scratch...   2880     1   \n",
       "23  /p/gpfs1/haridev/iopp/montage-workflow/scratch...      2     1   \n",
       "26  /p/gpfs1/haridev/iopp/montage-workflow/scratch...   2880     1   \n",
       "28  /p/gpfs1/haridev/iopp/montage-workflow/scratch...      2     1   \n",
       "31  /p/gpfs1/haridev/iopp/montage-workflow/scratch...   2880     1   \n",
       "\n",
       "      bandwidth     file_type  \n",
       "1      0.008929   poss2ukstu*  \n",
       "4      0.062500   poss2ukstu*  \n",
       "7      0.000000   poss2ukstu*  \n",
       "9   1024.000000   poss2ukstu*  \n",
       "10  1024.000000   poss2ukstu*  \n",
       "..          ...           ...  \n",
       "19   360.000000  pposs2ukstu*  \n",
       "23     0.083333  pposs2ukstu*  \n",
       "26   360.000000  pposs2ukstu*  \n",
       "28     0.125000  pposs2ukstu*  \n",
       "31   360.000000  pposs2ukstu*  \n",
       "\n",
       "[11008387 rows x 28 columns]"
      ]
     },
     "execution_count": 56,
     "metadata": {},
     "output_type": "execute_result"
    }
   ],
   "source": [
    "io_ddf_read_write"
   ]
  },
  {
   "cell_type": "code",
   "execution_count": 198,
   "metadata": {},
   "outputs": [],
   "source": [
    "#call_series = io_ddf_read_write.groupby(['hostname','app','proc','func_id','file_type']).agg({'size': ['sum','count']})\n",
    "call_series = io_ddf_read_write.groupby(['app','func_id','file_type']).agg({'size': ['sum','count'], 'proc':['nunique'], 'tstart':['min'], 'tend':['max'], 'duration':['sum']}).sort_values(by=[('tstart','min')])"
   ]
  },
  {
   "cell_type": "code",
   "execution_count": 199,
   "metadata": {},
   "outputs": [
    {
     "data": {
      "text/html": [
       "<div>\n",
       "<style scoped>\n",
       "    .dataframe tbody tr th:only-of-type {\n",
       "        vertical-align: middle;\n",
       "    }\n",
       "\n",
       "    .dataframe tbody tr th {\n",
       "        vertical-align: top;\n",
       "    }\n",
       "\n",
       "    .dataframe thead tr th {\n",
       "        text-align: left;\n",
       "    }\n",
       "\n",
       "    .dataframe thead tr:last-of-type th {\n",
       "        text-align: right;\n",
       "    }\n",
       "</style>\n",
       "<table border=\"1\" class=\"dataframe\">\n",
       "  <thead>\n",
       "    <tr>\n",
       "      <th></th>\n",
       "      <th></th>\n",
       "      <th></th>\n",
       "      <th colspan=\"2\" halign=\"left\">size</th>\n",
       "      <th>proc</th>\n",
       "      <th>tstart</th>\n",
       "      <th>tend</th>\n",
       "      <th>duration</th>\n",
       "    </tr>\n",
       "    <tr>\n",
       "      <th></th>\n",
       "      <th></th>\n",
       "      <th></th>\n",
       "      <th>sum</th>\n",
       "      <th>count</th>\n",
       "      <th>nunique</th>\n",
       "      <th>min</th>\n",
       "      <th>max</th>\n",
       "      <th>sum</th>\n",
       "    </tr>\n",
       "    <tr>\n",
       "      <th>app</th>\n",
       "      <th>func_id</th>\n",
       "      <th>file_type</th>\n",
       "      <th></th>\n",
       "      <th></th>\n",
       "      <th></th>\n",
       "      <th></th>\n",
       "      <th></th>\n",
       "      <th></th>\n",
       "    </tr>\n",
       "  </thead>\n",
       "  <tbody>\n",
       "    <tr>\n",
       "      <th>mDiff</th>\n",
       "      <th>fread</th>\n",
       "      <th>oversized*</th>\n",
       "      <td>1.537835e+07</td>\n",
       "      <td>10672</td>\n",
       "      <td>5271</td>\n",
       "      <td>0.002796</td>\n",
       "      <td>10714.381836</td>\n",
       "      <td>0.159741</td>\n",
       "    </tr>\n",
       "    <tr>\n",
       "      <th>mFitplane</th>\n",
       "      <th>fread</th>\n",
       "      <th>diff*</th>\n",
       "      <td>3.578590e+09</td>\n",
       "      <td>857791</td>\n",
       "      <td>415</td>\n",
       "      <td>0.003119</td>\n",
       "      <td>1530.981323</td>\n",
       "      <td>3.913514</td>\n",
       "    </tr>\n",
       "    <tr>\n",
       "      <th rowspan=\"3\" valign=\"top\">mDiff</th>\n",
       "      <th>fread</th>\n",
       "      <th>pposs2ukstu*</th>\n",
       "      <td>8.952759e+10</td>\n",
       "      <td>4389680</td>\n",
       "      <td>5271</td>\n",
       "      <td>0.007973</td>\n",
       "      <td>10714.601562</td>\n",
       "      <td>119.634918</td>\n",
       "    </tr>\n",
       "    <tr>\n",
       "      <th>fwrite</th>\n",
       "      <th>diff*</th>\n",
       "      <td>7.366067e+09</td>\n",
       "      <td>1907844</td>\n",
       "      <td>420</td>\n",
       "      <td>0.850141</td>\n",
       "      <td>1686.419922</td>\n",
       "      <td>8.417613</td>\n",
       "    </tr>\n",
       "    <tr>\n",
       "      <th>fread</th>\n",
       "      <th>diff*</th>\n",
       "      <td>2.027520e+06</td>\n",
       "      <td>704</td>\n",
       "      <td>352</td>\n",
       "      <td>0.865736</td>\n",
       "      <td>1686.419678</td>\n",
       "      <td>0.014008</td>\n",
       "    </tr>\n",
       "    <tr>\n",
       "      <th>mProject</th>\n",
       "      <th>fread</th>\n",
       "      <th>poss2ukstu*</th>\n",
       "      <td>2.240434e+09</td>\n",
       "      <td>69554</td>\n",
       "      <td>169</td>\n",
       "      <td>1.292803</td>\n",
       "      <td>28853.498047</td>\n",
       "      <td>1.379301</td>\n",
       "    </tr>\n",
       "    <tr>\n",
       "      <th>mBackground</th>\n",
       "      <th>fread</th>\n",
       "      <th>pposs2ukstu*</th>\n",
       "      <td>1.001111e+10</td>\n",
       "      <td>518248</td>\n",
       "      <td>108</td>\n",
       "      <td>1.494784</td>\n",
       "      <td>76.672821</td>\n",
       "      <td>9.040470</td>\n",
       "    </tr>\n",
       "    <tr>\n",
       "      <th>mProject</th>\n",
       "      <th>fread</th>\n",
       "      <th>oversized*</th>\n",
       "      <td>4.870580e+05</td>\n",
       "      <td>338</td>\n",
       "      <td>169</td>\n",
       "      <td>1.536754</td>\n",
       "      <td>28853.287109</td>\n",
       "      <td>0.004238</td>\n",
       "    </tr>\n",
       "    <tr>\n",
       "      <th>mConcatFit</th>\n",
       "      <th>fwrite</th>\n",
       "      <th>fits*</th>\n",
       "      <td>4.180000e+02</td>\n",
       "      <td>2</td>\n",
       "      <td>2</td>\n",
       "      <td>1.543194</td>\n",
       "      <td>45.283974</td>\n",
       "      <td>0.000023</td>\n",
       "    </tr>\n",
       "    <tr>\n",
       "      <th>mBackground</th>\n",
       "      <th>fwrite</th>\n",
       "      <th>cposs2ukstu*</th>\n",
       "      <td>1.001082e+10</td>\n",
       "      <td>1046902</td>\n",
       "      <td>108</td>\n",
       "      <td>1.939872</td>\n",
       "      <td>76.810860</td>\n",
       "      <td>9.039318</td>\n",
       "    </tr>\n",
       "    <tr>\n",
       "      <th>mViewer</th>\n",
       "      <th>fread</th>\n",
       "      <th>mosaic*</th>\n",
       "      <td>2.488332e+09</td>\n",
       "      <td>43208</td>\n",
       "      <td>2</td>\n",
       "      <td>5.482609</td>\n",
       "      <td>136.107468</td>\n",
       "      <td>0.861781</td>\n",
       "    </tr>\n",
       "    <tr>\n",
       "      <th>mBackground</th>\n",
       "      <th>fread</th>\n",
       "      <th>cposs2ukstu*</th>\n",
       "      <td>1.670400e+05</td>\n",
       "      <td>58</td>\n",
       "      <td>29</td>\n",
       "      <td>8.023874</td>\n",
       "      <td>76.810829</td>\n",
       "      <td>0.672439</td>\n",
       "    </tr>\n",
       "    <tr>\n",
       "      <th>mBgModel</th>\n",
       "      <th>fwrite</th>\n",
       "      <th>corrections*</th>\n",
       "      <td>1.120000e+02</td>\n",
       "      <td>2</td>\n",
       "      <td>2</td>\n",
       "      <td>18.638039</td>\n",
       "      <td>62.156467</td>\n",
       "      <td>0.000025</td>\n",
       "    </tr>\n",
       "    <tr>\n",
       "      <th>mViewer</th>\n",
       "      <th>fwrite</th>\n",
       "      <th>mosaic*</th>\n",
       "      <td>6.265667e+07</td>\n",
       "      <td>2</td>\n",
       "      <td>2</td>\n",
       "      <td>59.857700</td>\n",
       "      <td>165.738556</td>\n",
       "      <td>0.006008</td>\n",
       "    </tr>\n",
       "    <tr>\n",
       "      <th rowspan=\"2\" valign=\"top\">mImgtbl</th>\n",
       "      <th>fread</th>\n",
       "      <th>cposs2ukstu*</th>\n",
       "      <td>3.688960e+05</td>\n",
       "      <td>256</td>\n",
       "      <td>2</td>\n",
       "      <td>73.618073</td>\n",
       "      <td>84.625183</td>\n",
       "      <td>0.759651</td>\n",
       "    </tr>\n",
       "    <tr>\n",
       "      <th>fwrite</th>\n",
       "      <th>updated</th>\n",
       "      <td>1.030000e+03</td>\n",
       "      <td>14</td>\n",
       "      <td>2</td>\n",
       "      <td>73.635490</td>\n",
       "      <td>77.110229</td>\n",
       "      <td>0.000023</td>\n",
       "    </tr>\n",
       "    <tr>\n",
       "      <th rowspan=\"4\" valign=\"top\">mAdd</th>\n",
       "      <th rowspan=\"2\" valign=\"top\">fread</th>\n",
       "      <th>region*</th>\n",
       "      <td>5.764000e+03</td>\n",
       "      <td>4</td>\n",
       "      <td>2</td>\n",
       "      <td>80.607735</td>\n",
       "      <td>84.686432</td>\n",
       "      <td>0.000053</td>\n",
       "    </tr>\n",
       "    <tr>\n",
       "      <th>cposs2ukstu*</th>\n",
       "      <td>6.369049e+09</td>\n",
       "      <td>328942</td>\n",
       "      <td>2</td>\n",
       "      <td>80.766029</td>\n",
       "      <td>102.467842</td>\n",
       "      <td>6.026588</td>\n",
       "    </tr>\n",
       "    <tr>\n",
       "      <th>fwrite</th>\n",
       "      <th>mosaic*</th>\n",
       "      <td>1.658892e+09</td>\n",
       "      <td>172804</td>\n",
       "      <td>2</td>\n",
       "      <td>82.015450</td>\n",
       "      <td>102.479713</td>\n",
       "      <td>1.218849</td>\n",
       "    </tr>\n",
       "    <tr>\n",
       "      <th>fread</th>\n",
       "      <th>mosaic*</th>\n",
       "      <td>1.152000e+04</td>\n",
       "      <td>4</td>\n",
       "      <td>2</td>\n",
       "      <td>98.151169</td>\n",
       "      <td>102.479698</td>\n",
       "      <td>0.010742</td>\n",
       "    </tr>\n",
       "    <tr>\n",
       "      <th rowspan=\"2\" valign=\"top\">mProject</th>\n",
       "      <th>fwrite</th>\n",
       "      <th>pposs2ukstu*</th>\n",
       "      <td>1.596808e+10</td>\n",
       "      <td>1661266</td>\n",
       "      <td>169</td>\n",
       "      <td>431.298096</td>\n",
       "      <td>29283.226562</td>\n",
       "      <td>14.225494</td>\n",
       "    </tr>\n",
       "    <tr>\n",
       "      <th>fread</th>\n",
       "      <th>pposs2ukstu*</th>\n",
       "      <td>2.649600e+05</td>\n",
       "      <td>92</td>\n",
       "      <td>46</td>\n",
       "      <td>748.552246</td>\n",
       "      <td>28851.638672</td>\n",
       "      <td>1.052856</td>\n",
       "    </tr>\n",
       "  </tbody>\n",
       "</table>\n",
       "</div>"
      ],
      "text/plain": [
       "                                          size             proc      tstart  \\\n",
       "                                           sum    count nunique         min   \n",
       "app         func_id file_type                                                 \n",
       "mDiff       fread   oversized*    1.537835e+07    10672    5271    0.002796   \n",
       "mFitplane   fread   diff*         3.578590e+09   857791     415    0.003119   \n",
       "mDiff       fread   pposs2ukstu*  8.952759e+10  4389680    5271    0.007973   \n",
       "            fwrite  diff*         7.366067e+09  1907844     420    0.850141   \n",
       "            fread   diff*         2.027520e+06      704     352    0.865736   \n",
       "mProject    fread   poss2ukstu*   2.240434e+09    69554     169    1.292803   \n",
       "mBackground fread   pposs2ukstu*  1.001111e+10   518248     108    1.494784   \n",
       "mProject    fread   oversized*    4.870580e+05      338     169    1.536754   \n",
       "mConcatFit  fwrite  fits*         4.180000e+02        2       2    1.543194   \n",
       "mBackground fwrite  cposs2ukstu*  1.001082e+10  1046902     108    1.939872   \n",
       "mViewer     fread   mosaic*       2.488332e+09    43208       2    5.482609   \n",
       "mBackground fread   cposs2ukstu*  1.670400e+05       58      29    8.023874   \n",
       "mBgModel    fwrite  corrections*  1.120000e+02        2       2   18.638039   \n",
       "mViewer     fwrite  mosaic*       6.265667e+07        2       2   59.857700   \n",
       "mImgtbl     fread   cposs2ukstu*  3.688960e+05      256       2   73.618073   \n",
       "            fwrite  updated       1.030000e+03       14       2   73.635490   \n",
       "mAdd        fread   region*       5.764000e+03        4       2   80.607735   \n",
       "                    cposs2ukstu*  6.369049e+09   328942       2   80.766029   \n",
       "            fwrite  mosaic*       1.658892e+09   172804       2   82.015450   \n",
       "            fread   mosaic*       1.152000e+04        4       2   98.151169   \n",
       "mProject    fwrite  pposs2ukstu*  1.596808e+10  1661266     169  431.298096   \n",
       "            fread   pposs2ukstu*  2.649600e+05       92      46  748.552246   \n",
       "\n",
       "                                          tend    duration  \n",
       "                                           max         sum  \n",
       "app         func_id file_type                               \n",
       "mDiff       fread   oversized*    10714.381836    0.159741  \n",
       "mFitplane   fread   diff*          1530.981323    3.913514  \n",
       "mDiff       fread   pposs2ukstu*  10714.601562  119.634918  \n",
       "            fwrite  diff*          1686.419922    8.417613  \n",
       "            fread   diff*          1686.419678    0.014008  \n",
       "mProject    fread   poss2ukstu*   28853.498047    1.379301  \n",
       "mBackground fread   pposs2ukstu*     76.672821    9.040470  \n",
       "mProject    fread   oversized*    28853.287109    0.004238  \n",
       "mConcatFit  fwrite  fits*            45.283974    0.000023  \n",
       "mBackground fwrite  cposs2ukstu*     76.810860    9.039318  \n",
       "mViewer     fread   mosaic*         136.107468    0.861781  \n",
       "mBackground fread   cposs2ukstu*     76.810829    0.672439  \n",
       "mBgModel    fwrite  corrections*     62.156467    0.000025  \n",
       "mViewer     fwrite  mosaic*         165.738556    0.006008  \n",
       "mImgtbl     fread   cposs2ukstu*     84.625183    0.759651  \n",
       "            fwrite  updated          77.110229    0.000023  \n",
       "mAdd        fread   region*          84.686432    0.000053  \n",
       "                    cposs2ukstu*    102.467842    6.026588  \n",
       "            fwrite  mosaic*         102.479713    1.218849  \n",
       "            fread   mosaic*         102.479698    0.010742  \n",
       "mProject    fwrite  pposs2ukstu*  29283.226562   14.225494  \n",
       "            fread   pposs2ukstu*  28851.638672    1.052856  "
      ]
     },
     "execution_count": 199,
     "metadata": {},
     "output_type": "execute_result"
    }
   ],
   "source": [
    "call_series"
   ]
  },
  {
   "cell_type": "code",
   "execution_count": null,
   "metadata": {},
   "outputs": [],
   "source": [
    "import graphviz\n",
    "dot = graphviz.Digraph()\n",
    "dot.attr(ordering=\"out\")\n",
    "for index, value in call_series.iterrows():\n",
    "    #for v1, v2 in call_series.iteritems():\n",
    "    #print( value)\n",
    "    #value = v2.index[0]\n",
    "    #index = v2.index[0]\n",
    "    node_str = index[0] #+ \" \" + str(value[2])\n",
    "    file_node_str = index[2]\n",
    "    func_node_str = index[1]\n",
    "    dot.node(node_str)\n",
    "    dot.node(file_node_str)\n",
    "    #dot.node(func_node_str)\n",
    "    if value[0] > 1024.0 * 1024.0* 1024.0:\n",
    "        dot.edge(node_str, file_node_str, label=func_node_str + \" \"+ \"{}K\".format(int(value[1]/1000.0)) + \" \" + \"{:0.2f}GB\".format(value[0]/1024.0/1024.0/1024.0))\n",
    "    else:\n",
    "        dot.edge(node_str, file_node_str, label=func_node_str)\n",
    "#     if \"read\" in func_node_str:\n",
    "#         dot.edge(file_node_str, func_node_str, label=str(value[0]/1024.0) + \"KB\")\n",
    "#     else:\n",
    "#         dot.edge(func_node_str,file_node_str, label=str(value[0]/1024.0)+ \"KB\")\n",
    "\n",
    "a = graphviz.Digraph('app')\n",
    "a.attr(rank='same')\n",
    "a.attr(ordering=\"out\")\n",
    "for index, value in call_series.iterrows():\n",
    "    node_str = index[0]\n",
    "    a.node(node_str)\n",
    "\n",
    "# o = graphviz.Digraph('func')\n",
    "# o.attr(rank='same')\n",
    "# for index, value in call_series.iterrows():\n",
    "#     node_str = index[1]\n",
    "#     o.node(node_str)\n",
    "    \n",
    "f = graphviz.Digraph('file')\n",
    "f.attr(rank='same')\n",
    "for index, value in call_series.iterrows():\n",
    "    node_str = index[2]\n",
    "    f.node(node_str)\n",
    "    \n",
    "dot.subgraph(a)\n",
    "# dot.subgraph(o)\n",
    "dot.subgraph(f)\n",
    "dot"
   ]
  },
  {
   "cell_type": "code",
   "execution_count": null,
   "metadata": {},
   "outputs": [],
   "source": [
    "import graphviz\n",
    "dot = graphviz.Digraph()\n",
    "selected_indices = range(1)\n",
    "for selected_index in selected_indices:\n",
    "    selected_shared_file = shared_files.index[selected_index]\n",
    "    io_access_rank = io_ddf[io_ddf['filename'] == selected_shared_file].groupby(['app','func_id'])['func_id'].count().compute()\n",
    "    dot.node(selected_shared_file)\n",
    "    for index,item in io_access_rank.iteritems():\n",
    "        rank = index[0]\n",
    "        func_id = index[1]\n",
    "        count = item\n",
    "        dot.node(str(rank))\n",
    "        dot.node(func_id)\n",
    "        dot.edge(str(rank),func_id)\n",
    "        if \"read\" in func_id:\n",
    "            dot.edge(selected_shared_file, func_id, label=str(count))\n",
    "        else:\n",
    "            dot.edge(func_id,selected_shared_file, label=str(count))"
   ]
  },
  {
   "cell_type": "code",
   "execution_count": null,
   "metadata": {},
   "outputs": [],
   "source": []
  },
  {
   "cell_type": "code",
   "execution_count": null,
   "metadata": {},
   "outputs": [],
   "source": [
    "dot"
   ]
  },
  {
   "cell_type": "code",
   "execution_count": null,
   "metadata": {
    "tags": []
   },
   "outputs": [],
   "source": [
    "import graphviz\n",
    "dot = graphviz.Digraph()\n",
    "selected_indices = [0]\n",
    "for selected_index in selected_indices:\n",
    "    if len(independent_files) > selected_index:\n",
    "        selected_file = independent_files.index[selected_index]\n",
    "        io_access_rank = io_ddf[io_ddf['filename'] == selected_file].groupby(['app','func_id'])['func_id'].count().compute()\n",
    "        dot.node(selected_file)\n",
    "        for index,item in io_access_rank.iteritems():\n",
    "            rank = index[0]\n",
    "            func_id = index[1]\n",
    "            count = item\n",
    "            dot.node(str(rank))\n",
    "            dot.node(func_id)\n",
    "            dot.edge(str(rank),func_id)\n",
    "            if \"read\" in func_id:\n",
    "                dot.edge(selected_file, func_id, label=str(count))\n",
    "            else:\n",
    "                dot.edge(func_id,selected_file, label=str(count))"
   ]
  },
  {
   "cell_type": "code",
   "execution_count": null,
   "metadata": {},
   "outputs": [],
   "source": [
    "dot"
   ]
  },
  {
   "cell_type": "markdown",
   "metadata": {},
   "source": [
    "## Calculate Access Pattern\n",
    "- Calculate segment_index\n",
    "  - select file_ptr based on open flag\n",
    "  - update file_ptr based on operation\n",
    "  - do a cum_sum on file_ptr to calculate final file_ptr\n",
    "  - assign segment_index based on granularity (median transfer size)\n",
    "- isolate segment index into\n",
    "  - sequential flag if segment index is increasing\n",
    "  - consequitive flag if segment index is increasing and one after the other"
   ]
  },
  {
   "cell_type": "markdown",
   "metadata": {},
   "source": [
    "#### Persist the current version of I/O dataframe."
   ]
  },
  {
   "cell_type": "code",
   "execution_count": 200,
   "metadata": {
    "tags": []
   },
   "outputs": [],
   "source": [
    "io_ddf = io_ddf.persist()\n",
    "result = wait(io_ddf)"
   ]
  },
  {
   "cell_type": "markdown",
   "metadata": {},
   "source": [
    "### Select files which have no seeks and those which have"
   ]
  },
  {
   "cell_type": "code",
   "execution_count": 53,
   "metadata": {},
   "outputs": [
    {
     "name": "stdout",
     "output_type": "stream",
     "text": [
      "0 files have seek operations\n"
     ]
    }
   ],
   "source": [
    "files_with_seek = io_ddf[io_ddf['func_id'].str.contains('seek') & io_ddf['filename'].str.contains('/p/gpfs')]['filename'].unique().compute()\n",
    "print(\"{} files have seek operations\".format(len(files_with_seek)))"
   ]
  },
  {
   "cell_type": "code",
   "execution_count": 54,
   "metadata": {},
   "outputs": [
    {
     "data": {
      "text/plain": [
       "Series([], Name: filename, dtype: object)"
      ]
     },
     "execution_count": 54,
     "metadata": {},
     "output_type": "execute_result"
    }
   ],
   "source": [
    "files_with_seek"
   ]
  },
  {
   "cell_type": "code",
   "execution_count": 55,
   "metadata": {},
   "outputs": [
    {
     "data": {
      "text/plain": [
       "0       /p/gpfs1/haridev/iopp/montage-workflow/scratch...\n",
       "1       /p/gpfs1/haridev/iopp/montage-workflow/scratch...\n",
       "2       /p/gpfs1/haridev/iopp/montage-workflow/scratch...\n",
       "3       /p/gpfs1/haridev/iopp/montage-workflow/scratch...\n",
       "4       /p/gpfs1/haridev/iopp/montage-workflow/scratch...\n",
       "                              ...                        \n",
       "5733    /p/gpfs1/haridev/iopp/montage-workflow/scratch...\n",
       "5734    /p/gpfs1/haridev/iopp/montage-workflow/scratch...\n",
       "5735    /p/gpfs1/haridev/iopp/montage-workflow/scratch...\n",
       "5736    /p/gpfs1/haridev/iopp/montage-workflow/scratch...\n",
       "5737    /p/gpfs1/haridev/iopp/montage-workflow/scratch...\n",
       "Name: filename, Length: 5738, dtype: object"
      ]
     },
     "execution_count": 55,
     "metadata": {},
     "output_type": "execute_result"
    }
   ],
   "source": [
    "all_filenames"
   ]
  },
  {
   "cell_type": "code",
   "execution_count": 56,
   "metadata": {},
   "outputs": [
    {
     "name": "stdout",
     "output_type": "stream",
     "text": [
      "5738 files have no seek operations and hence are sequential\n"
     ]
    }
   ],
   "source": [
    "files_without_seek = set(all_filenames) - set(files_with_seek)\n",
    "print(\"{} files have no seek operations and hence are sequential\".format(len(files_without_seek)))"
   ]
  },
  {
   "cell_type": "code",
   "execution_count": null,
   "metadata": {},
   "outputs": [],
   "source": []
  },
  {
   "cell_type": "markdown",
   "metadata": {
    "tags": []
   },
   "source": [
    "### Per File Analysis\n",
    "- Total I/O amount\n",
    "- Total I/O time (average per process)\n",
    "- Average Bandwidth\n",
    "- I/O Request Distribution"
   ]
  },
  {
   "cell_type": "code",
   "execution_count": 57,
   "metadata": {},
   "outputs": [
    {
     "data": {
      "text/plain": [
       "filename\n",
       "/p/gpfs1/haridev/iopp/montage-workflow/scratch/run_dir/3-mosaic.fits                       1582.042240\n",
       "/p/gpfs1/haridev/iopp/montage-workflow/scratch/run_dir/2-mosaic.fits                       1582.042240\n",
       "/p/gpfs1/haridev/iopp/montage-workflow/scratch/run_dir/pposs2ukstu_ir_002_006_area.fits     506.465397\n",
       "/p/gpfs1/haridev/iopp/montage-workflow/scratch/run_dir/pposs2ukstu_ir_002_006.fits          506.465397\n",
       "/p/gpfs1/haridev/iopp/montage-workflow/scratch/run_dir/pposs2ukstu_ir_002_005.fits          506.076000\n",
       "Name: size, dtype: float64"
      ]
     },
     "execution_count": 57,
     "metadata": {},
     "output_type": "execute_result"
    }
   ],
   "source": [
    "per_file_size = io_ddf_read_write.groupby(['filename'])['size'].sum()\n",
    "per_file_size = per_file_size / 1024.0/1024.0\n",
    "per_file_size = per_file_size.sort_values(ascending=False)\n",
    "per_file_size.head(5)"
   ]
  },
  {
   "cell_type": "code",
   "execution_count": 58,
   "metadata": {},
   "outputs": [
    {
     "data": {
      "text/plain": [
       "filename\n",
       "/p/gpfs1/haridev/iopp/montage-workflow/scratch/run_dir/3-mosaic.fits                       0.815249\n",
       "/p/gpfs1/haridev/iopp/montage-workflow/scratch/run_dir/pposs2ukstu_ir_002_006.fits         0.713469\n",
       "/p/gpfs1/haridev/iopp/montage-workflow/scratch/run_dir/pposs2ukstu_ir_002_005.fits         0.684066\n",
       "/p/gpfs1/haridev/iopp/montage-workflow/scratch/run_dir/pposs2ukstu_ir_002_006_area.fits    0.683456\n",
       "/p/gpfs1/haridev/iopp/montage-workflow/scratch/run_dir/pposs2ukstu_red_003_004.fits        0.677725\n",
       "Name: duration, dtype: float32"
      ]
     },
     "execution_count": 58,
     "metadata": {},
     "output_type": "execute_result"
    }
   ],
   "source": [
    "per_file_time = io_ddf_read_write.groupby(['filename'])['duration'].sum().sort_values(ascending=False)\n",
    "per_file_time.head(5)"
   ]
  },
  {
   "cell_type": "code",
   "execution_count": 59,
   "metadata": {},
   "outputs": [
    {
     "data": {
      "text/plain": [
       "filename\n",
       "/p/gpfs1/haridev/iopp/montage-workflow/scratch/run_dir/poss2ukstu_red_008_005.fits     0.000000\n",
       "/p/gpfs1/haridev/iopp/montage-workflow/scratch/run_dir/poss2ukstu_blue_001_003.fits    0.000977\n",
       "/p/gpfs1/haridev/iopp/montage-workflow/scratch/run_dir/cposs2ukstu_ir_001_001.fits     0.422069\n",
       "/p/gpfs1/haridev/iopp/montage-workflow/scratch/run_dir/cposs2ukstu_ir_007_007.fits     0.456013\n",
       "/p/gpfs1/haridev/iopp/montage-workflow/scratch/run_dir/cposs2ukstu_ir_005_001.fits     0.519952\n",
       "Name: bandwidth, dtype: float64"
      ]
     },
     "execution_count": 59,
     "metadata": {},
     "output_type": "execute_result"
    }
   ],
   "source": [
    "per_file_bw = io_ddf_read_write.groupby(['filename'])['bandwidth'].sum().sort_values(ascending=True)\n",
    "per_file_bw.head(5)"
   ]
  },
  {
   "cell_type": "code",
   "execution_count": 60,
   "metadata": {},
   "outputs": [],
   "source": [
    "import graphviz\n",
    "dot = graphviz.Digraph()\n",
    "selected_indices = [0]\n",
    "for selected_index in selected_indices:\n",
    "    selected_file = per_file_size.index[selected_index]\n",
    "    io_access_rank = io_ddf[io_ddf['filename'] == selected_file].groupby(['app','func_id'])['func_id'].count().compute()\n",
    "    dot.node(selected_file)\n",
    "    for index,item in io_access_rank.iteritems():\n",
    "        rank = index[0]\n",
    "        func_id = index[1]\n",
    "        count = item\n",
    "        if \"read\" in func_id or \"write\" in func_id:\n",
    "            dot.node(str(rank))\n",
    "            dot.node(func_id)\n",
    "            dot.edge(str(rank),func_id)\n",
    "            if \"read\" in func_id:\n",
    "                dot.edge(selected_file, func_id, label=str(count))\n",
    "            elif \"write\" in func_id:\n",
    "                dot.edge(func_id,selected_file, label=str(count))"
   ]
  },
  {
   "cell_type": "code",
   "execution_count": 61,
   "metadata": {},
   "outputs": [
    {
     "data": {
      "image/svg+xml": [
       "<?xml version=\"1.0\" encoding=\"UTF-8\" standalone=\"no\"?>\n",
       "<!DOCTYPE svg PUBLIC \"-//W3C//DTD SVG 1.1//EN\"\n",
       " \"http://www.w3.org/Graphics/SVG/1.1/DTD/svg11.dtd\">\n",
       "<!-- Generated by graphviz version 2.42.3 (20191010.1750)\n",
       " -->\n",
       "<!-- Title: %3 Pages: 1 -->\n",
       "<svg width=\"840pt\" height=\"291pt\"\n",
       " viewBox=\"0.00 0.00 840.02 291.00\" xmlns=\"http://www.w3.org/2000/svg\" xmlns:xlink=\"http://www.w3.org/1999/xlink\">\n",
       "<g id=\"graph0\" class=\"graph\" transform=\"scale(1 1) rotate(0) translate(4 287)\">\n",
       "<title>%3</title>\n",
       "<polygon fill=\"white\" stroke=\"transparent\" points=\"-4,4 -4,-287 836.02,-287 836.02,4 -4,4\"/>\n",
       "<!-- /p/gpfs1/haridev/iopp/montage&#45;workflow/scratch/run_dir/3&#45;mosaic.fits -->\n",
       "<g id=\"node1\" class=\"node\">\n",
       "<title>/p/gpfs1/haridev/iopp/montage&#45;workflow/scratch/run_dir/3&#45;mosaic.fits</title>\n",
       "<ellipse fill=\"none\" stroke=\"black\" cx=\"496\" cy=\"-105\" rx=\"336.04\" ry=\"18\"/>\n",
       "<text text-anchor=\"middle\" x=\"496\" y=\"-101.3\" font-family=\"Times,serif\" font-size=\"14.00\">/p/gpfs1/haridev/iopp/montage&#45;workflow/scratch/run_dir/3&#45;mosaic.fits</text>\n",
       "</g>\n",
       "<!-- fread -->\n",
       "<g id=\"node3\" class=\"node\">\n",
       "<title>fread</title>\n",
       "<ellipse fill=\"none\" stroke=\"black\" cx=\"148\" cy=\"-18\" rx=\"35.19\" ry=\"18\"/>\n",
       "<text text-anchor=\"middle\" x=\"148\" y=\"-14.3\" font-family=\"Times,serif\" font-size=\"14.00\">fread</text>\n",
       "</g>\n",
       "<!-- /p/gpfs1/haridev/iopp/montage&#45;workflow/scratch/run_dir/3&#45;mosaic.fits&#45;&gt;fread -->\n",
       "<g id=\"edge2\" class=\"edge\">\n",
       "<title>/p/gpfs1/haridev/iopp/montage&#45;workflow/scratch/run_dir/3&#45;mosaic.fits&#45;&gt;fread</title>\n",
       "<path fill=\"none\" stroke=\"black\" d=\"M427.66,-87.31C356.7,-69.98 248.01,-43.43 189.21,-29.07\"/>\n",
       "<polygon fill=\"black\" stroke=\"black\" points=\"189.72,-25.59 179.18,-26.62 188.06,-32.39 189.72,-25.59\"/>\n",
       "<text text-anchor=\"middle\" x=\"366\" y=\"-57.8\" font-family=\"Times,serif\" font-size=\"14.00\">21604</text>\n",
       "</g>\n",
       "<!-- /p/gpfs1/haridev/iopp/montage&#45;workflow/scratch/run_dir/3&#45;mosaic.fits&#45;&gt;fread -->\n",
       "<g id=\"edge4\" class=\"edge\">\n",
       "<title>/p/gpfs1/haridev/iopp/montage&#45;workflow/scratch/run_dir/3&#45;mosaic.fits&#45;&gt;fread</title>\n",
       "<path fill=\"none\" stroke=\"black\" d=\"M467.24,-87.04C447.11,-75.93 419.23,-62.03 393,-54 325.1,-33.23 242.78,-24.69 192.94,-21.25\"/>\n",
       "<polygon fill=\"black\" stroke=\"black\" points=\"193.02,-17.74 182.81,-20.59 192.56,-24.73 193.02,-17.74\"/>\n",
       "<text text-anchor=\"middle\" x=\"436\" y=\"-57.8\" font-family=\"Times,serif\" font-size=\"14.00\">1</text>\n",
       "</g>\n",
       "<!-- mViewer -->\n",
       "<g id=\"node2\" class=\"node\">\n",
       "<title>mViewer</title>\n",
       "<ellipse fill=\"none\" stroke=\"black\" cx=\"52\" cy=\"-105\" rx=\"51.99\" ry=\"18\"/>\n",
       "<text text-anchor=\"middle\" x=\"52\" y=\"-101.3\" font-family=\"Times,serif\" font-size=\"14.00\">mViewer</text>\n",
       "</g>\n",
       "<!-- mViewer&#45;&gt;fread -->\n",
       "<g id=\"edge1\" class=\"edge\">\n",
       "<title>mViewer&#45;&gt;fread</title>\n",
       "<path fill=\"none\" stroke=\"black\" d=\"M70.05,-88.01C85.08,-74.7 106.63,-55.62 123.27,-40.9\"/>\n",
       "<polygon fill=\"black\" stroke=\"black\" points=\"125.82,-43.31 130.99,-34.06 121.18,-38.07 125.82,-43.31\"/>\n",
       "</g>\n",
       "<!-- mAdd -->\n",
       "<g id=\"node4\" class=\"node\">\n",
       "<title>mAdd</title>\n",
       "<ellipse fill=\"none\" stroke=\"black\" cx=\"144\" cy=\"-265\" rx=\"38.19\" ry=\"18\"/>\n",
       "<text text-anchor=\"middle\" x=\"144\" y=\"-261.3\" font-family=\"Times,serif\" font-size=\"14.00\">mAdd</text>\n",
       "</g>\n",
       "<!-- mAdd&#45;&gt;fread -->\n",
       "<g id=\"edge3\" class=\"edge\">\n",
       "<title>mAdd&#45;&gt;fread</title>\n",
       "<path fill=\"none\" stroke=\"black\" d=\"M144.28,-246.77C144.96,-204.86 146.72,-97.31 147.55,-46.44\"/>\n",
       "<polygon fill=\"black\" stroke=\"black\" points=\"151.05,-46.26 147.71,-36.21 144.05,-46.15 151.05,-46.26\"/>\n",
       "</g>\n",
       "<!-- fwrite -->\n",
       "<g id=\"node5\" class=\"node\">\n",
       "<title>fwrite</title>\n",
       "<ellipse fill=\"none\" stroke=\"black\" cx=\"347\" cy=\"-192\" rx=\"38.19\" ry=\"18\"/>\n",
       "<text text-anchor=\"middle\" x=\"347\" y=\"-188.3\" font-family=\"Times,serif\" font-size=\"14.00\">fwrite</text>\n",
       "</g>\n",
       "<!-- mAdd&#45;&gt;fwrite -->\n",
       "<g id=\"edge5\" class=\"edge\">\n",
       "<title>mAdd&#45;&gt;fwrite</title>\n",
       "<path fill=\"none\" stroke=\"black\" d=\"M173.95,-253.52C209.43,-241.11 268.65,-220.4 307.77,-206.72\"/>\n",
       "<polygon fill=\"black\" stroke=\"black\" points=\"308.97,-210.01 317.25,-203.4 306.65,-203.4 308.97,-210.01\"/>\n",
       "</g>\n",
       "<!-- fwrite&#45;&gt;/p/gpfs1/haridev/iopp/montage&#45;workflow/scratch/run_dir/3&#45;mosaic.fits -->\n",
       "<g id=\"edge6\" class=\"edge\">\n",
       "<title>fwrite&#45;&gt;/p/gpfs1/haridev/iopp/montage&#45;workflow/scratch/run_dir/3&#45;mosaic.fits</title>\n",
       "<path fill=\"none\" stroke=\"black\" d=\"M370.6,-177.53C393.83,-164.28 429.69,-143.83 457.12,-128.18\"/>\n",
       "<polygon fill=\"black\" stroke=\"black\" points=\"459.12,-131.07 466.07,-123.07 455.65,-124.99 459.12,-131.07\"/>\n",
       "<text text-anchor=\"middle\" x=\"453\" y=\"-144.8\" font-family=\"Times,serif\" font-size=\"14.00\">43201</text>\n",
       "</g>\n",
       "</g>\n",
       "</svg>\n"
      ],
      "text/plain": [
       "<graphviz.dot.Digraph at 0x20086ce171f0>"
      ]
     },
     "execution_count": 61,
     "metadata": {},
     "output_type": "execute_result"
    }
   ],
   "source": [
    "dot"
   ]
  },
  {
   "cell_type": "code",
   "execution_count": 62,
   "metadata": {},
   "outputs": [],
   "source": [
    "import graphviz\n",
    "dot = graphviz.Digraph()\n",
    "selected_indices = [0]\n",
    "for selected_index in selected_indices:\n",
    "    selected_file = per_file_time.index[selected_index]\n",
    "    io_access_rank = io_ddf[io_ddf['filename'] == selected_file].groupby(['app','func_id'])['func_id'].count().compute()\n",
    "    dot.node(selected_file)\n",
    "    for index,item in io_access_rank.iteritems():\n",
    "        rank = index[0]\n",
    "        func_id = index[1]\n",
    "        count = item\n",
    "        dot.node(str(rank))\n",
    "        dot.node(func_id)\n",
    "        dot.edge(str(rank),func_id)\n",
    "        if \"read\" in func_id:\n",
    "            dot.edge(selected_file, func_id, label=str(count))\n",
    "        else:\n",
    "            dot.edge(func_id,selected_file, label=str(count))"
   ]
  },
  {
   "cell_type": "code",
   "execution_count": null,
   "metadata": {},
   "outputs": [],
   "source": [
    "dot"
   ]
  },
  {
   "cell_type": "code",
   "execution_count": null,
   "metadata": {},
   "outputs": [],
   "source": [
    "import graphviz\n",
    "dot = graphviz.Digraph()\n",
    "selected_indices = range(5)\n",
    "for selected_index in selected_indices:\n",
    "    selected_file = per_file_bw.index[selected_index]\n",
    "    io_access_rank = io_ddf[io_ddf['filename'] == selected_file].groupby(['app','func_id'])['func_id'].count().compute()\n",
    "    dot.node(selected_file)\n",
    "    for index,item in io_access_rank.iteritems():\n",
    "        rank = index[0]\n",
    "        func_id = index[1]\n",
    "        count = item\n",
    "        dot.node(str(rank))\n",
    "        dot.node(func_id)\n",
    "        dot.edge(str(rank),func_id)\n",
    "        if \"read\" in func_id:\n",
    "            dot.edge(selected_file, func_id, label=str(count))\n",
    "        else:\n",
    "            dot.edge(func_id,selected_file, label=str(count))"
   ]
  },
  {
   "cell_type": "code",
   "execution_count": null,
   "metadata": {},
   "outputs": [],
   "source": [
    "dot"
   ]
  },
  {
   "cell_type": "code",
   "execution_count": 63,
   "metadata": {},
   "outputs": [
    {
     "name": "stdout",
     "output_type": "stream",
     "text": [
      "1406 files are written into.\n",
      "1581 file are read from.\n",
      "4157 files are write-only.\n",
      "4332 file are read-only.\n"
     ]
    }
   ],
   "source": [
    "write_files = io_ddf_read_write[io_ddf_read_write['func_id'].str.contains('write')]['filename'].unique()\n",
    "read_files = io_ddf_read_write[io_ddf_read_write['func_id'].str.contains('read')]['filename'].unique()\n",
    "read_only_files = set(all_filenames) - set(write_files)\n",
    "write_only_files = set(all_filenames) - set(read_files)\n",
    "print(\"{} files are written into.\\n{} file are read from.\\n{} files are write-only.\\n{} file are read-only.\"\n",
    "      .format(len(write_files), len(read_files), len(write_only_files), len(read_only_files)))"
   ]
  },
  {
   "cell_type": "code",
   "execution_count": 64,
   "metadata": {},
   "outputs": [
    {
     "name": "stdout",
     "output_type": "stream",
     "text": [
      "1406 files are written into.\n",
      "1581 file are read from.\n",
      "115 files are write-only.\n",
      "290 file are read-only.\n"
     ]
    }
   ],
   "source": [
    "write_files = np.sort(write_files)\n",
    "read_files = np.sort(read_files)\n",
    "all_filenames = np.sort(all_filenames)\n",
    "write_only_files = np.setdiff1d(write_files, read_files)\n",
    "read_only_files = np.setdiff1d(read_files, write_files)\n",
    "print(\"{} files are written into.\\n{} file are read from.\\n{} files are write-only.\\n{} file are read-only.\"\n",
    "      .format(len(write_files), len(read_files), len(write_only_files), len(read_only_files)))"
   ]
  },
  {
   "cell_type": "code",
   "execution_count": 65,
   "metadata": {
    "tags": []
   },
   "outputs": [
    {
     "name": "stdout",
     "output_type": "stream",
     "text": [
      "['/p/gpfs1/haridev/iopp/montage-workflow/scratch/run_dir/1-diff.000001.000002.fits'\n",
      " '/p/gpfs1/haridev/iopp/montage-workflow/scratch/run_dir/1-diff.000001.000002_area.fits'\n",
      " '/p/gpfs1/haridev/iopp/montage-workflow/scratch/run_dir/1-diff.000001.000009.fits'\n",
      " '/p/gpfs1/haridev/iopp/montage-workflow/scratch/run_dir/1-diff.000001.000009_area.fits'\n",
      " '/p/gpfs1/haridev/iopp/montage-workflow/scratch/run_dir/1-diff.000001.000010.fits']\n",
      "['/p/gpfs1/haridev/iopp/montage-workflow/scratch/run_dir/1-diff.000001.000002.fits'\n",
      " '/p/gpfs1/haridev/iopp/montage-workflow/scratch/run_dir/1-diff.000001.000009.fits'\n",
      " '/p/gpfs1/haridev/iopp/montage-workflow/scratch/run_dir/1-diff.000001.000009_area.fits'\n",
      " '/p/gpfs1/haridev/iopp/montage-workflow/scratch/run_dir/1-diff.000001.000010.fits'\n",
      " '/p/gpfs1/haridev/iopp/montage-workflow/scratch/run_dir/1-diff.000001.000010_area.fits']\n",
      "['/p/gpfs1/haridev/iopp/montage-workflow/scratch/run_dir/1-diff.000001.000002_area.fits'\n",
      " '/p/gpfs1/haridev/iopp/montage-workflow/scratch/run_dir/1-diff.000002.000003_area.fits'\n",
      " '/p/gpfs1/haridev/iopp/montage-workflow/scratch/run_dir/1-diff.000003.000004.fits'\n",
      " '/p/gpfs1/haridev/iopp/montage-workflow/scratch/run_dir/1-diff.000003.000004_area.fits'\n",
      " '/p/gpfs1/haridev/iopp/montage-workflow/scratch/run_dir/1-diff.000004.000005_area.fits']\n",
      "['/p/gpfs1/haridev/iopp/montage-workflow/scratch/run_dir/1-diff.000004.000012.fits'\n",
      " '/p/gpfs1/haridev/iopp/montage-workflow/scratch/run_dir/1-diff.000014.000021.fits'\n",
      " '/p/gpfs1/haridev/iopp/montage-workflow/scratch/run_dir/1-diff.000020.000029.fits'\n",
      " '/p/gpfs1/haridev/iopp/montage-workflow/scratch/run_dir/1-diff.000022.000029.fits'\n",
      " '/p/gpfs1/haridev/iopp/montage-workflow/scratch/run_dir/1-diff.000036.000043.fits']\n"
     ]
    }
   ],
   "source": [
    "print(write_files[:5])\n",
    "print(read_files[:5])\n",
    "print(write_only_files[:5])\n",
    "print(read_only_files[:5])"
   ]
  },
  {
   "cell_type": "code",
   "execution_count": 66,
   "metadata": {},
   "outputs": [
    {
     "name": "stdout",
     "output_type": "stream",
     "text": [
      "filename\n",
      "/p/gpfs1/haridev/iopp/montage-workflow/scratch/run_dir/1-diff.000004.000012.fits             15.136415\n",
      "/p/gpfs1/haridev/iopp/montage-workflow/scratch/run_dir/1-diff.000014.000021.fits              4.430239\n",
      "/p/gpfs1/haridev/iopp/montage-workflow/scratch/run_dir/1-diff.000020.000029.fits              4.419252\n",
      "/p/gpfs1/haridev/iopp/montage-workflow/scratch/run_dir/1-diff.000022.000029.fits              4.424746\n",
      "/p/gpfs1/haridev/iopp/montage-workflow/scratch/run_dir/1-diff.000036.000043.fits              4.427492\n",
      "                                                                                               ...    \n",
      "/p/gpfs1/haridev/iopp/montage-workflow/scratch/run_dir/pposs2ukstu_red_007_001_area.fits    208.300962\n",
      "/p/gpfs1/haridev/iopp/montage-workflow/scratch/run_dir/pposs2ukstu_red_007_005.fits         300.966532\n",
      "/p/gpfs1/haridev/iopp/montage-workflow/scratch/run_dir/pposs2ukstu_red_007_005_area.fits    300.966532\n",
      "/p/gpfs1/haridev/iopp/montage-workflow/scratch/run_dir/region-oversized.hdr                  15.130434\n",
      "/p/gpfs1/haridev/iopp/montage-workflow/scratch/run_dir/region.hdr                             0.005497\n",
      "Name: size, Length: 290, dtype: float64\n"
     ]
    }
   ],
   "source": [
    "io_per_file = io_ddf_read_write[io_ddf_read_write['filename'].isin(read_only_files)].groupby(['filename'])['size'].sum()\n",
    "io_per_file = io_per_file / 1024.0/1024.0\n",
    "print(io_per_file)"
   ]
  },
  {
   "cell_type": "code",
   "execution_count": 67,
   "metadata": {},
   "outputs": [
    {
     "name": "stdout",
     "output_type": "stream",
     "text": [
      "filename\n",
      "/p/gpfs1/haridev/iopp/montage-workflow/scratch/run_dir/1-diff.000001.000002.fits          7.709656\n",
      "/p/gpfs1/haridev/iopp/montage-workflow/scratch/run_dir/1-diff.000001.000002_area.fits     7.709656\n",
      "/p/gpfs1/haridev/iopp/montage-workflow/scratch/run_dir/1-diff.000001.000009.fits          7.728882\n",
      "/p/gpfs1/haridev/iopp/montage-workflow/scratch/run_dir/1-diff.000001.000009_area.fits     7.728882\n",
      "/p/gpfs1/haridev/iopp/montage-workflow/scratch/run_dir/1-diff.000001.000010.fits          4.427490\n",
      "/p/gpfs1/haridev/iopp/montage-workflow/scratch/run_dir/1-diff.000001.000010_area.fits     4.427490\n",
      "/p/gpfs1/haridev/iopp/montage-workflow/scratch/run_dir/1-diff.000002.000003.fits          7.720642\n",
      "/p/gpfs1/haridev/iopp/montage-workflow/scratch/run_dir/1-diff.000002.000003_area.fits     7.720642\n",
      "/p/gpfs1/haridev/iopp/montage-workflow/scratch/run_dir/1-diff.000002.000009.fits          4.441223\n",
      "/p/gpfs1/haridev/iopp/montage-workflow/scratch/run_dir/1-diff.000002.000009_area.fits     4.441223\n",
      "/p/gpfs1/haridev/iopp/montage-workflow/scratch/run_dir/1-diff.000002.000010.fits         15.150146\n",
      "/p/gpfs1/haridev/iopp/montage-workflow/scratch/run_dir/1-diff.000002.000010_area.fits    15.150146\n",
      "/p/gpfs1/haridev/iopp/montage-workflow/scratch/run_dir/1-diff.000002.000011.fits          4.427490\n",
      "/p/gpfs1/haridev/iopp/montage-workflow/scratch/run_dir/1-diff.000002.000011_area.fits     4.427490\n",
      "/p/gpfs1/haridev/iopp/montage-workflow/scratch/run_dir/1-diff.000003.000004.fits          7.728882\n",
      "/p/gpfs1/haridev/iopp/montage-workflow/scratch/run_dir/1-diff.000003.000004_area.fits     7.728882\n",
      "/p/gpfs1/haridev/iopp/montage-workflow/scratch/run_dir/1-diff.000003.000010.fits          4.424744\n",
      "/p/gpfs1/haridev/iopp/montage-workflow/scratch/run_dir/1-diff.000003.000010_area.fits     4.424744\n",
      "/p/gpfs1/haridev/iopp/montage-workflow/scratch/run_dir/1-diff.000003.000011.fits         15.130920\n",
      "/p/gpfs1/haridev/iopp/montage-workflow/scratch/run_dir/1-diff.000003.000011_area.fits    15.130920\n",
      "Name: size, dtype: float64\n"
     ]
    }
   ],
   "source": [
    "io_per_file = io_ddf_read_write[io_ddf_read_write['filename'].isin(write_files) & io_ddf_read_write['func_id'].str.contains(\"write\")].groupby(['filename'])['size'].sum()\n",
    "io_per_file = io_per_file / 1024.0/1024.0\n",
    "print(io_per_file.head(20))"
   ]
  },
  {
   "cell_type": "code",
   "execution_count": null,
   "metadata": {},
   "outputs": [],
   "source": []
  },
  {
   "cell_type": "code",
   "execution_count": 68,
   "metadata": {},
   "outputs": [
    {
     "name": "stdout",
     "output_type": "stream",
     "text": [
      "Time spent on data: 176.43765258789062 sec, metadata: 41.88929748535156 sec\n"
     ]
    }
   ],
   "source": [
    "read_condition = io_ddf['func_id'].isin([\"read\", \"pread\", \"pread64\", \"readv\",\"fread\"])\n",
    "write_condition = io_ddf['func_id'].isin([\"write\", \"pwrite\", \"pwrite64\",\"writev\",\"fwrite\"])\n",
    "data_ops = ['read', 'write']\n",
    "total_time_io_data = io_ddf[ read_condition | write_condition ].groupby('rank')['duration'].sum().max().compute()\n",
    "io_metadata = io_ddf[~(read_condition | write_condition)].compute()\n",
    "total_time_io_metadata = io_metadata.groupby('rank')['duration'].sum().max()\n",
    "print(\"Time spent on data: {} sec, metadata: {} sec\".format(total_time_io_data, total_time_io_metadata))"
   ]
  },
  {
   "cell_type": "code",
   "execution_count": 69,
   "metadata": {},
   "outputs": [],
   "source": [
    "from collections.abc import Mapping, Sequence\n",
    "import json\n",
    "from enum import Enum"
   ]
  },
  {
   "cell_type": "code",
   "execution_count": 70,
   "metadata": {},
   "outputs": [],
   "source": [
    "def convert2serialize(obj):\n",
    "    if isinstance(obj, dict):\n",
    "        return { k: convert2serialize(v) for k, v in obj.items() }\n",
    "    elif hasattr(obj, \"_ast\"):\n",
    "        return convert2serialize(obj._ast())\n",
    "    elif not isinstance(obj, str) and hasattr(obj, \"__iter__\"):\n",
    "        return [ convert2serialize(v) for v in obj ]\n",
    "    elif hasattr(obj, \"__dict__\"):\n",
    "        return {\n",
    "            k: convert2serialize(v)\n",
    "            for k, v in obj.__dict__.items()\n",
    "            if not callable(v) and not k.startswith('_')\n",
    "        }\n",
    "    else:\n",
    "        return obj"
   ]
  },
  {
   "cell_type": "code",
   "execution_count": 71,
   "metadata": {},
   "outputs": [],
   "source": [
    "class Format(Enum):\n",
    "    FORMAT_BINARY = 0\n",
    "    FORMAT_HDF5 = 1\n",
    "    def _ast(self):\n",
    "        return self.value\n",
    "\n",
    "class PrimaryAdviceType(Enum):\n",
    "    ADVICE_NONE = 0\n",
    "    JOB_CONFIGURATION = 1\n",
    "    JOB_WORKFLOW = 2\n",
    "    JOB_APPLICATION = 3\n",
    "    JOB_IO_PHASE = 4\n",
    "    JOB_IO_OPERATION = 5\n",
    "    SOFTWARE_HLIO_LIB = 6\n",
    "    SOFTWARE_EXECUTION_ENGINE = 7\n",
    "    SOFTWARE_MIDDLEWARE_LIBRARY = 8\n",
    "    SOFTWARE_NODE_LOCAL_FS = 9\n",
    "    SOFTWARE_SHARED_FS = 10\n",
    "    DATA_DATASET = 11\n",
    "    DATA_FILE = 12\n",
    "    DATA_SAMPLE = 13\n",
    "    def _ast(self):\n",
    "        return self.value\n",
    "\n",
    "\n",
    "class OperationAdviceType(Enum):\n",
    "    NO_OP = 0\n",
    "    TMP_FILE = 1\n",
    "    INDEPENDENT_FILE = 2\n",
    "    SHARED_FILE = 3\n",
    "    INPUT_FILE = 4\n",
    "    OUTPUT_FILE = 5\n",
    "    IO_PHASE_START = 6\n",
    "    IO_PHASE_END = 7\n",
    "    FILE_OPEN_COUNT = 8\n",
    "    WRITE_ONLY_FILE = 9\n",
    "    READ_ONLY_FILE = 10\n",
    "    EVENTUAL_CONSISTENCY = 11\n",
    "    STRONG_CONSISTENCY = 12\n",
    "    PLACEMENT_FILE = 13\n",
    "    def _ast(self):\n",
    "        return self.value\n",
    "    def __repl__(self):\n",
    "        return self.value\n",
    "\n",
    "class AdviceType:\n",
    "    primary:PrimaryAdviceType\n",
    "    secondary:OperationAdviceType\n",
    "    def __init__(self, primary:PrimaryAdviceType, secondary:OperationAdviceType):\n",
    "        self.primary = primary\n",
    "        self.secondary = secondary\n",
    "\n",
    "class Storage:\n",
    "    mount_point:str\n",
    "    capacity_mb:int\n",
    "    used_capacity_mb:int\n",
    "    def __init__(self, mount_point: str, capacity_mb: int, used_capacity_mb: int) -> None:\n",
    "        self.mount_point = mount_point\n",
    "        self.capacity_mb = capacity_mb\n",
    "        self.used_capacity_mb = used_capacity_mb\n",
    "\n",
    "class TransferSizeDistribution:\n",
    "    per_0_4kb:float\n",
    "    per_4_64kb:float\n",
    "    per_64kb_1mb:float\n",
    "    per_1mb_16mb:float\n",
    "        \n",
    "class Advice:\n",
    "    index : int\n",
    "    priority : int\n",
    "    type : AdviceType\n",
    "\n",
    "\n",
    "class JobConfigurationAdvice(Advice):\n",
    "    job_id:int\n",
    "    num_nodes:int\n",
    "    num_cores_per_node:int\n",
    "    num_gpus_per_node:int\n",
    "    devices:Sequence[Storage]\n",
    "    job_time_minutes:int\n",
    "    node_names:Sequence[str]\n",
    "    network_protocol:str\n",
    "    rpc_port:int\n",
    "    rpc_threads:int\n",
    "\n",
    "class FileAdvice(Advice):\n",
    "    format:Format\n",
    "    size_mb:int\n",
    "    name:str\n",
    "    io_amount_mb:int\n",
    "    read_distribution:TransferSizeDistribution\n",
    "    write_distribution:TransferSizeDistribution\n",
    "    current_device:int\n",
    "    placement_device:int\n",
    "    per_io_data:float\n",
    "    per_io_metadata:float\n",
    "    prefetch:int\n",
    "class AdviceConfiguration:\n",
    "    job: JobConfigurationAdvice\n",
    "    files_repo: Sequence[FileAdvice]\n",
    "    file_advices: Mapping[int, Sequence[AdviceType]]"
   ]
  },
  {
   "cell_type": "code",
   "execution_count": 72,
   "metadata": {},
   "outputs": [],
   "source": [
    "job = JobConfigurationAdvice()\n",
    "job.index = 0\n",
    "job.type = AdviceType(PrimaryAdviceType.JOB_CONFIGURATION, OperationAdviceType.NO_OP)\n",
    "job.job_id = 2\n",
    "job.num_cores_per_node = 40\n",
    "job.num_gpus_per_node = 4\n",
    "job.devices = [Storage(\"/dev/shm/mimir\", 1024*128, 0), Storage(\"/p/gpfs1/iopp/temp/mimir\", 1024*1024, 0)]\n",
    "job.job_time_minutes = 30\n",
    "job.node_names = [\"localhost\", \"localhost\"]\n",
    "job.network_protocol = \"tcp\"\n",
    "job.rpc_port = 9999\n",
    "job.rpc_threads = 1"
   ]
  },
  {
   "cell_type": "code",
   "execution_count": 73,
   "metadata": {
    "tags": []
   },
   "outputs": [],
   "source": [
    "file_characteristics: Mapping[int, Sequence[OperationAdviceType]] = {}\n",
    "for idx, filename in enumerate(all_filenames):\n",
    "    advices:Sequence[AdviceType] = []\n",
    "    if filename in write_only_files:\n",
    "        advices.append(OperationAdviceType.WRITE_ONLY_FILE)\n",
    "    if filename in read_only_files:\n",
    "        advices.append(OperationAdviceType.READ_ONLY_FILE)\n",
    "    if filename in independent_files:\n",
    "        advices.append(OperationAdviceType.INDEPENDENT_FILE)\n",
    "    if filename in shared_files:\n",
    "        advices.append(OperationAdviceType.SHARED_FILE)\n",
    "    file_characteristics[idx] = advices"
   ]
  },
  {
   "cell_type": "code",
   "execution_count": 74,
   "metadata": {},
   "outputs": [],
   "source": [
    "\n",
    "io_amount = io_ddf_read_write.groupby('filename')['size'].sum()\n",
    "read_io_amount_4K = io_ddf_read_write[(io_ddf_read_write['func_id'].str.contains('read')) & (io_ddf_read_write['size'] > 0) & (io_ddf_read_write['size'] <= 4*1024)].groupby('filename')['size'].count()\n",
    "read_io_amount_64K = io_ddf_read_write[(io_ddf_read_write['func_id'].str.contains('read')) & (io_ddf_read_write['size'] > 4*1024) & (io_ddf_read_write['size'] <= 64*1024)].groupby('filename')['size'].count()\n",
    "read_io_amount_1M = io_ddf_read_write[(io_ddf_read_write['func_id'].str.contains('read')) & (io_ddf_read_write['size'] > 64*1024) & (io_ddf_read_write['size'] <= 1024*1024)].groupby('filename')['size'].count()\n",
    "read_io_amount_16M = io_ddf_read_write[(io_ddf_read_write['func_id'].str.contains('read')) & (io_ddf_read_write['size'] > 1024*1024) & (io_ddf_read_write['size'] <= 16*1024*1024)].groupby('filename')['size'].count()\n",
    "read_io_amount_16MG = io_ddf_read_write[(io_ddf_read_write['func_id'].str.contains('read')) & (io_ddf_read_write['size'] > 16*1024*1024)].groupby('filename')['size'].count()\n",
    "\n",
    "\n",
    "write_io_amount_4K = io_ddf_read_write[(io_ddf_read_write['func_id'].str.contains('write')) & (io_ddf_read_write['size'] > 0) & (io_ddf_read_write['size'] <= 4*1024)].groupby('filename')['size'].count()\n",
    "write_io_amount_64K = io_ddf_read_write[(io_ddf_read_write['func_id'].str.contains('write')) & (io_ddf_read_write['size'] > 4*1024) & (io_ddf_read_write['size'] <= 64*1024)].groupby('filename')['size'].count()\n",
    "write_io_amount_1M = io_ddf_read_write[(io_ddf_read_write['func_id'].str.contains('write')) & (io_ddf_read_write['size'] > 64*1024) & (io_ddf_read_write['size'] <= 1024*1024)].groupby('filename')['size'].count()\n",
    "write_io_amount_16M = io_ddf_read_write[(io_ddf_read_write['func_id'].str.contains('write')) & (io_ddf_read_write['size'] > 1024*1024) & (io_ddf_read_write['size'] <= 16*1024*1024)].groupby('filename')['size'].count()\n",
    "write_io_amount_16MG = io_ddf_read_write[(io_ddf_read_write['func_id'].str.contains('write')) & (io_ddf_read_write['size'] > 16*1024*1024)].groupby('filename')['size'].count()\n",
    "\n",
    "io_metadata_filename = io_metadata.groupby('filename')['filename'].count()"
   ]
  },
  {
   "cell_type": "code",
   "execution_count": 75,
   "metadata": {},
   "outputs": [
    {
     "name": "stdout",
     "output_type": "stream",
     "text": [
      "filename\n",
      "/p/gpfs1/haridev/iopp/montage-workflow/scratch/run_dir/1-diff.000001.000002.fits                2\n",
      "/p/gpfs1/haridev/iopp/montage-workflow/scratch/run_dir/1-diff.000001.000009.fits             2816\n",
      "/p/gpfs1/haridev/iopp/montage-workflow/scratch/run_dir/1-diff.000001.000009_area.fits           1\n",
      "/p/gpfs1/haridev/iopp/montage-workflow/scratch/run_dir/1-diff.000001.000010.fits             1614\n",
      "/p/gpfs1/haridev/iopp/montage-workflow/scratch/run_dir/1-diff.000001.000010_area.fits           1\n",
      "                                                                                            ...  \n",
      "/p/gpfs1/haridev/iopp/montage-workflow/scratch/run_dir/pposs2ukstu_red_008_007_area.fits      106\n",
      "/p/gpfs1/haridev/iopp/montage-workflow/scratch/run_dir/pposs2ukstu_red_008_008.fits           102\n",
      "/p/gpfs1/haridev/iopp/montage-workflow/scratch/run_dir/pposs2ukstu_red_008_008_area.fits      102\n",
      "/p/gpfs1/haridev/iopp/montage-workflow/scratch/run_dir/region-oversized.hdr                 11010\n",
      "/p/gpfs1/haridev/iopp/montage-workflow/scratch/run_dir/region.hdr                               4\n",
      "Name: size, Length: 1581, dtype: int64\n"
     ]
    }
   ],
   "source": [
    "print(read_io_amount_4K)"
   ]
  },
  {
   "cell_type": "code",
   "execution_count": 76,
   "metadata": {},
   "outputs": [
    {
     "data": {
      "text/plain": [
       "2"
      ]
     },
     "execution_count": 76,
     "metadata": {},
     "output_type": "execute_result"
    }
   ],
   "source": [
    "read_io_amount_4K['/p/gpfs1/haridev/iopp/montage-workflow/scratch/run_dir/1-diff.000001.000002.fits']"
   ]
  },
  {
   "cell_type": "code",
   "execution_count": 89,
   "metadata": {},
   "outputs": [],
   "source": [
    "files_repo: Sequence[FileAdvice] = []\n",
    "file_advices: Sequence[Sequence[AdviceType]] = []\n",
    "total_io_ops = 0.0\n",
    "read_only_ops = 0.0\n",
    "independent_write_ops = 0.0\n",
    "independent_read_ops = 0.0\n",
    "shared_write_ops = 0.0\n",
    "shared_read_ops = 0.0\n",
    "for idx, filename in enumerate(all_filenames):\n",
    "    advices = file_characteristics[idx]\n",
    "    file_advice = FileAdvice()\n",
    "    file_advice.index = idx + 1\n",
    "    file_advice.type = AdviceType(PrimaryAdviceType.DATA_FILE, OperationAdviceType.NO_OP)\n",
    "    file_advice.format = Format.FORMAT_BINARY\n",
    "    file_advice.name =  filename\n",
    "    if filename in io_amount:\n",
    "        file_advice.size_mb = io_amount.loc[filename]\n",
    "        file_advice.io_amount_mb = io_amount.loc[filename]\n",
    "    else:\n",
    "        file_advice.size_mb = 0\n",
    "        file_advice.io_amount_mb = 0\n",
    "        \n",
    "    read_num_ops = 0.0\n",
    "    if filename in read_io_amount_4K:\n",
    "        read_num_ops += read_io_amount_4K.loc[filename] * 1.0\n",
    "    if filename in read_io_amount_64K:\n",
    "        read_num_ops += read_io_amount_64K.loc[filename] * 1.0\n",
    "    if filename in read_io_amount_1M:\n",
    "        read_num_ops += read_io_amount_1M.loc[filename] * 1.0\n",
    "    if filename in read_io_amount_16M:\n",
    "        read_num_ops += read_io_amount_16M.loc[filename] * 1.0\n",
    "    if filename in read_io_amount_16MG:\n",
    "        read_num_ops += read_io_amount_16MG.loc[filename] * 1.0\n",
    "    file_advice.read_distribution = TransferSizeDistribution()\n",
    "    if filename in read_io_amount_4K:\n",
    "        file_advice.read_distribution.per_0_4kb = read_io_amount_4K.loc[filename] / read_num_ops\n",
    "    if filename in read_io_amount_64K:\n",
    "        file_advice.read_distribution.per_4_64kb = read_io_amount_64K.loc[filename] / read_num_ops\n",
    "    if filename in read_io_amount_1M:\n",
    "        file_advice.read_distribution.per_64kb_1mb = read_io_amount_1M.loc[filename] / read_num_ops\n",
    "    if filename in read_io_amount_16M:\n",
    "        file_advice.read_distribution.per_1mb_16mb = read_io_amount_16M.loc[filename] / read_num_ops\n",
    "    if filename in read_io_amount_16MG:\n",
    "        file_advice.read_distribution.per_16mb = read_io_amount_16MG.loc[filename] / read_num_ops\n",
    "        \n",
    "    \n",
    "    write_num_ops = 0.0\n",
    "    if filename in write_io_amount_4K:\n",
    "        write_num_ops += write_io_amount_4K.loc[filename] * 1.0\n",
    "    if filename in write_io_amount_64K:\n",
    "        write_num_ops += write_io_amount_64K.loc[filename] * 1.0\n",
    "    if filename in write_io_amount_1M:\n",
    "        write_num_ops += write_io_amount_1M.loc[filename] * 1.0\n",
    "    if filename in write_io_amount_16M:\n",
    "        write_num_ops += write_io_amount_16M.loc[filename] * 1.0\n",
    "    if filename in read_io_amount_16MG:\n",
    "        write_num_ops += write_io_amount_16MG.loc[filename] * 1.0\n",
    "    file_advice.write_distribution = TransferSizeDistribution()\n",
    "    if filename in write_io_amount_4K:\n",
    "        file_advice.write_distribution.per_0_4kb = write_io_amount_4K.loc[filename] / write_num_ops\n",
    "    if filename in write_io_amount_64K:\n",
    "        file_advice.write_distribution.per_4_64kb = write_io_amount_64K.loc[filename] / write_num_ops\n",
    "    if filename in write_io_amount_1M:\n",
    "        file_advice.write_distribution.per_64kb_1mb = write_io_amount_1M.loc[filename] / write_num_ops\n",
    "    if filename in write_io_amount_16M:\n",
    "        file_advice.write_distribution.per_1mb_16mb = write_io_amount_16M.loc[filename] / write_num_ops\n",
    "    if filename in read_io_amount_16MG:\n",
    "        file_advice.write_distribution.per_16mb = write_io_amount_16MG.loc[filename] / write_num_ops\n",
    "    \n",
    "    \n",
    "    io_ops = read_num_ops + write_num_ops\n",
    "    total_io_ops += io_ops\n",
    "    is_set = False\n",
    "    \n",
    "    if not is_set and write_num_ops == 0.0:\n",
    "        read_only_ops += io_ops\n",
    "        is_set = True\n",
    "    for advice in advices:\n",
    "        if not is_set and advice == OperationAdviceType.INDEPENDENT_FILE:\n",
    "            independent_write_ops += write_num_ops\n",
    "            independent_read_ops += read_num_ops\n",
    "            is_set = True\n",
    "        elif not is_set and advice == OperationAdviceType.SHARED_FILE:\n",
    "            shared_write_ops += write_num_ops\n",
    "            shared_read_ops += read_num_ops\n",
    "            is_set = True\n",
    "    \n",
    "    metadata_ops = io_metadata_filename[filename]\n",
    "    file_advice.current_device = 1\n",
    "    file_advice.placement_device = 1;\n",
    "    file_advice.per_io_data = io_ops / (io_ops + metadata_ops)\n",
    "    file_advice.per_io_metadata = metadata_ops / (io_ops + metadata_ops)\n",
    "    file_advice.prefetch = 0\n",
    "    files_repo.append(file_advice)\n",
    "    file_advices.append(advices)"
   ]
  },
  {
   "cell_type": "code",
   "execution_count": 90,
   "metadata": {
    "tags": []
   },
   "outputs": [],
   "source": [
    "x = AdviceConfiguration()\n",
    "x.job = job\n",
    "x.files_repo = files_repo;\n",
    "x.file_advices = file_advices\n",
    "config = convert2serialize(x)\n",
    "class npEncoder(json.JSONEncoder):\n",
    "    def default(self, obj):\n",
    "        if isinstance(obj, np.int32):\n",
    "            return int(obj)\n",
    "        return json.JSONEncoder.default(self, obj)\n",
    "with open(f\"{notebook_name}.json\", 'w') as outfile:\n",
    "    json.dump(config, outfile, cls=npEncoder, indent=4)\n",
    "\n"
   ]
  },
  {
   "cell_type": "code",
   "execution_count": 91,
   "metadata": {},
   "outputs": [],
   "source": [
    "read_only_speedup = 2.33135607\n",
    "independent_write_speedup = 1.215583229\n",
    "independent_read_speedup = 4.003555312\n",
    "shared_write_speedup = 9.35151\n",
    "shared_read_speedup = 1.663865546"
   ]
  },
  {
   "cell_type": "code",
   "execution_count": 92,
   "metadata": {},
   "outputs": [
    {
     "name": "stdout",
     "output_type": "stream",
     "text": [
      "0.07588015862453938 0.12029257697655014 3.63359384687218e-05 0.31472436692575706 0.4890665615346847 0.0 \n"
     ]
    }
   ],
   "source": [
    "\n",
    "per_ops_read_only_files = read_only_ops/total_io_ops\n",
    "per_independent_write_ops = independent_write_ops/total_io_ops\n",
    "per_independent_read_ops = independent_read_ops/total_io_ops\n",
    "per_shared_write_ops = shared_write_ops/total_io_ops\n",
    "per_shared_read_ops = shared_read_ops/total_io_ops\n",
    "per_unoptimized = 1 - (per_ops_read_only_files + per_independent_write_ops + per_independent_read_ops + per_shared_write_ops + per_shared_read_ops)\n",
    "print(f\"{per_ops_read_only_files} {per_independent_write_ops} {per_independent_read_ops} {per_shared_write_ops} {per_shared_read_ops} {per_unoptimized} \")"
   ]
  },
  {
   "cell_type": "code",
   "execution_count": 96,
   "metadata": {},
   "outputs": [
    {
     "name": "stdout",
     "output_type": "stream",
     "text": [
      "176.43765258789062 81.00328972714814 41.88929748535156\n"
     ]
    }
   ],
   "source": [
    "total_io_time = total_time_io_data\n",
    "baseline_io_time = total_io_time\n",
    "optimized_io_time = total_time_io_data * per_unoptimized +\\\n",
    "                    total_time_io_data * per_ops_read_only_files / read_only_speedup +\\\n",
    "                    total_time_io_data * per_independent_write_ops / independent_write_speedup +\\\n",
    "                    total_time_io_data * per_independent_read_ops / independent_read_speedup +\\\n",
    "                    total_time_io_data * per_shared_write_ops / shared_write_speedup +\\\n",
    "                    total_time_io_data * per_shared_read_ops / shared_read_speedup\n",
    "print(f\"{baseline_io_time} {optimized_io_time} {total_time_io_metadata}\")\n",
    "                    "
   ]
  },
  {
   "cell_type": "code",
   "execution_count": null,
   "metadata": {},
   "outputs": [],
   "source": []
  }
 ],
 "metadata": {
  "kernelspec": {
   "display_name": "iopp",
   "language": "python",
   "name": "iopp"
  },
  "language_info": {
   "codemirror_mode": {
    "name": "ipython",
    "version": 3
   },
   "file_extension": ".py",
   "mimetype": "text/x-python",
   "name": "python",
   "nbconvert_exporter": "python",
   "pygments_lexer": "ipython3",
   "version": "3.9.7"
  },
  "toc-showtags": false
 },
 "nbformat": 4,
 "nbformat_minor": 4
}
