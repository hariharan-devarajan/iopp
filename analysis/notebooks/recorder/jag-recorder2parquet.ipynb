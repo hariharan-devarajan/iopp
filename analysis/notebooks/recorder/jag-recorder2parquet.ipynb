{
 "cells": [
  {
   "cell_type": "code",
   "execution_count": 22,
   "metadata": {},
   "outputs": [],
   "source": [
    "import struct\n",
    "import math\n",
    "import pyarrow as pa\n",
    "import pyarrow.parquet as pq\n",
    "import sys, os\n",
    "from pathlib import Path\n",
    "import dask.dataframe as dd\n",
    "from time import sleep\n",
    "import pandas as pd\n",
    "pd.options.display.max_columns = 2000\n",
    "pd.set_option('display.width', 10000)\n",
    "pd.set_option('display.max_colwidth', 10000)"
   ]
  },
  {
   "cell_type": "code",
   "execution_count": 2,
   "metadata": {},
   "outputs": [],
   "source": [
    "parquet_folder=\"/p/gpfs1/haridev/recorder_logs/lbann_jag_32/_parquet\""
   ]
  },
  {
   "cell_type": "code",
   "execution_count": 3,
   "metadata": {},
   "outputs": [],
   "source": [
    "ddf = dd.read_parquet(\"{}/*.parquet\".format(parquet_folder), engine=\"pyarrow\")"
   ]
  },
  {
   "cell_type": "code",
   "execution_count": 4,
   "metadata": {},
   "outputs": [
    {
     "data": {
      "text/html": [
       "<div>\n",
       "<style scoped>\n",
       "    .dataframe tbody tr th:only-of-type {\n",
       "        vertical-align: middle;\n",
       "    }\n",
       "\n",
       "    .dataframe tbody tr th {\n",
       "        vertical-align: top;\n",
       "    }\n",
       "\n",
       "    .dataframe thead th {\n",
       "        text-align: right;\n",
       "    }\n",
       "</style>\n",
       "<table border=\"1\" class=\"dataframe\">\n",
       "  <thead>\n",
       "    <tr style=\"text-align: right;\">\n",
       "      <th></th>\n",
       "      <th>rank</th>\n",
       "      <th>tstart</th>\n",
       "      <th>tend</th>\n",
       "      <th>func_id</th>\n",
       "      <th>res</th>\n",
       "      <th>arg_count</th>\n",
       "      <th>args_1</th>\n",
       "      <th>args_2</th>\n",
       "      <th>args_3</th>\n",
       "      <th>args_4</th>\n",
       "      <th>args_5</th>\n",
       "      <th>args_6</th>\n",
       "      <th>args_7</th>\n",
       "      <th>args_8</th>\n",
       "      <th>args_9</th>\n",
       "      <th>args_10</th>\n",
       "    </tr>\n",
       "  </thead>\n",
       "  <tbody>\n",
       "    <tr>\n",
       "      <th>0</th>\n",
       "      <td>0</td>\n",
       "      <td>0.005714</td>\n",
       "      <td>2.339396</td>\n",
       "      <td>MPI_Comm_dup</td>\n",
       "      <td>0</td>\n",
       "      <td>3</td>\n",
       "      <td>MPI_COMM_WORLD</td>\n",
       "      <td>0-0</td>\n",
       "      <td>0</td>\n",
       "      <td></td>\n",
       "      <td></td>\n",
       "      <td></td>\n",
       "      <td></td>\n",
       "      <td></td>\n",
       "      <td></td>\n",
       "      <td></td>\n",
       "    </tr>\n",
       "    <tr>\n",
       "      <th>1</th>\n",
       "      <td>0</td>\n",
       "      <td>2.338808</td>\n",
       "      <td>2.338814</td>\n",
       "      <td>open</td>\n",
       "      <td>-1</td>\n",
       "      <td>3</td>\n",
       "      <td>/dev/shm/job2154496201-35619-OMPI_COLL_IBM-0-c...</td>\n",
       "      <td>557250</td>\n",
       "      <td>384</td>\n",
       "      <td></td>\n",
       "      <td></td>\n",
       "      <td></td>\n",
       "      <td></td>\n",
       "      <td></td>\n",
       "      <td></td>\n",
       "      <td></td>\n",
       "    </tr>\n",
       "    <tr>\n",
       "      <th>2</th>\n",
       "      <td>0</td>\n",
       "      <td>2.338852</td>\n",
       "      <td>2.338855</td>\n",
       "      <td>open</td>\n",
       "      <td>53</td>\n",
       "      <td>2</td>\n",
       "      <td>/dev/shm/job2154496201-35619-OMPI_COLL_IBM-0-c...</td>\n",
       "      <td>557058</td>\n",
       "      <td></td>\n",
       "      <td></td>\n",
       "      <td></td>\n",
       "      <td></td>\n",
       "      <td></td>\n",
       "      <td></td>\n",
       "      <td></td>\n",
       "      <td></td>\n",
       "    </tr>\n",
       "    <tr>\n",
       "      <th>3</th>\n",
       "      <td>0</td>\n",
       "      <td>2.338871</td>\n",
       "      <td>2.338876</td>\n",
       "      <td>ftruncate</td>\n",
       "      <td>0</td>\n",
       "      <td>2</td>\n",
       "      <td>53</td>\n",
       "      <td>2691072</td>\n",
       "      <td></td>\n",
       "      <td></td>\n",
       "      <td></td>\n",
       "      <td></td>\n",
       "      <td></td>\n",
       "      <td></td>\n",
       "      <td></td>\n",
       "      <td></td>\n",
       "    </tr>\n",
       "    <tr>\n",
       "      <th>4</th>\n",
       "      <td>0</td>\n",
       "      <td>2.338878</td>\n",
       "      <td>2.338881</td>\n",
       "      <td>mmap</td>\n",
       "      <td>0</td>\n",
       "      <td>6</td>\n",
       "      <td>%p</td>\n",
       "      <td>2691072</td>\n",
       "      <td>3</td>\n",
       "      <td>1</td>\n",
       "      <td>53</td>\n",
       "      <td>0</td>\n",
       "      <td></td>\n",
       "      <td></td>\n",
       "      <td></td>\n",
       "      <td></td>\n",
       "    </tr>\n",
       "  </tbody>\n",
       "</table>\n",
       "</div>"
      ],
      "text/plain": [
       "   rank    tstart      tend       func_id  res  arg_count  \\\n",
       "0     0  0.005714  2.339396  MPI_Comm_dup    0          3   \n",
       "1     0  2.338808  2.338814          open   -1          3   \n",
       "2     0  2.338852  2.338855          open   53          2   \n",
       "3     0  2.338871  2.338876     ftruncate    0          2   \n",
       "4     0  2.338878  2.338881          mmap    0          6   \n",
       "\n",
       "                                              args_1   args_2 args_3 args_4  \\\n",
       "0                                     MPI_COMM_WORLD      0-0      0          \n",
       "1  /dev/shm/job2154496201-35619-OMPI_COLL_IBM-0-c...   557250    384          \n",
       "2  /dev/shm/job2154496201-35619-OMPI_COLL_IBM-0-c...   557058                 \n",
       "3                                                 53  2691072                 \n",
       "4                                                 %p  2691072      3      1   \n",
       "\n",
       "  args_5 args_6 args_7 args_8 args_9 args_10  \n",
       "0                                             \n",
       "1                                             \n",
       "2                                             \n",
       "3                                             \n",
       "4     53      0                               "
      ]
     },
     "execution_count": 4,
     "metadata": {},
     "output_type": "execute_result"
    }
   ],
   "source": [
    "ddf.head()"
   ]
  },
  {
   "cell_type": "code",
   "execution_count": 5,
   "metadata": {},
   "outputs": [],
   "source": [
    "ddf_rank_0 = ddf[ddf[\"rank\"] ==0]"
   ]
  },
  {
   "cell_type": "code",
   "execution_count": 6,
   "metadata": {},
   "outputs": [
    {
     "data": {
      "text/html": [
       "<div>\n",
       "<style scoped>\n",
       "    .dataframe tbody tr th:only-of-type {\n",
       "        vertical-align: middle;\n",
       "    }\n",
       "\n",
       "    .dataframe tbody tr th {\n",
       "        vertical-align: top;\n",
       "    }\n",
       "\n",
       "    .dataframe thead th {\n",
       "        text-align: right;\n",
       "    }\n",
       "</style>\n",
       "<table border=\"1\" class=\"dataframe\">\n",
       "  <thead>\n",
       "    <tr style=\"text-align: right;\">\n",
       "      <th></th>\n",
       "      <th>rank</th>\n",
       "      <th>tstart</th>\n",
       "      <th>tend</th>\n",
       "      <th>func_id</th>\n",
       "      <th>res</th>\n",
       "      <th>arg_count</th>\n",
       "      <th>args_1</th>\n",
       "      <th>args_2</th>\n",
       "      <th>args_3</th>\n",
       "      <th>args_4</th>\n",
       "      <th>args_5</th>\n",
       "      <th>args_6</th>\n",
       "      <th>args_7</th>\n",
       "      <th>args_8</th>\n",
       "      <th>args_9</th>\n",
       "      <th>args_10</th>\n",
       "    </tr>\n",
       "  </thead>\n",
       "  <tbody>\n",
       "    <tr>\n",
       "      <th>0</th>\n",
       "      <td>0</td>\n",
       "      <td>0.005714</td>\n",
       "      <td>2.339396</td>\n",
       "      <td>MPI_Comm_dup</td>\n",
       "      <td>0</td>\n",
       "      <td>3</td>\n",
       "      <td>MPI_COMM_WORLD</td>\n",
       "      <td>0-0</td>\n",
       "      <td>0</td>\n",
       "      <td></td>\n",
       "      <td></td>\n",
       "      <td></td>\n",
       "      <td></td>\n",
       "      <td></td>\n",
       "      <td></td>\n",
       "      <td></td>\n",
       "    </tr>\n",
       "    <tr>\n",
       "      <th>1</th>\n",
       "      <td>0</td>\n",
       "      <td>2.338808</td>\n",
       "      <td>2.338814</td>\n",
       "      <td>open</td>\n",
       "      <td>-1</td>\n",
       "      <td>3</td>\n",
       "      <td>/dev/shm/job2154496201-35619-OMPI_COLL_IBM-0-c...</td>\n",
       "      <td>557250</td>\n",
       "      <td>384</td>\n",
       "      <td></td>\n",
       "      <td></td>\n",
       "      <td></td>\n",
       "      <td></td>\n",
       "      <td></td>\n",
       "      <td></td>\n",
       "      <td></td>\n",
       "    </tr>\n",
       "    <tr>\n",
       "      <th>2</th>\n",
       "      <td>0</td>\n",
       "      <td>2.338852</td>\n",
       "      <td>2.338855</td>\n",
       "      <td>open</td>\n",
       "      <td>53</td>\n",
       "      <td>2</td>\n",
       "      <td>/dev/shm/job2154496201-35619-OMPI_COLL_IBM-0-c...</td>\n",
       "      <td>557058</td>\n",
       "      <td></td>\n",
       "      <td></td>\n",
       "      <td></td>\n",
       "      <td></td>\n",
       "      <td></td>\n",
       "      <td></td>\n",
       "      <td></td>\n",
       "      <td></td>\n",
       "    </tr>\n",
       "    <tr>\n",
       "      <th>3</th>\n",
       "      <td>0</td>\n",
       "      <td>2.338871</td>\n",
       "      <td>2.338876</td>\n",
       "      <td>ftruncate</td>\n",
       "      <td>0</td>\n",
       "      <td>2</td>\n",
       "      <td>53</td>\n",
       "      <td>2691072</td>\n",
       "      <td></td>\n",
       "      <td></td>\n",
       "      <td></td>\n",
       "      <td></td>\n",
       "      <td></td>\n",
       "      <td></td>\n",
       "      <td></td>\n",
       "      <td></td>\n",
       "    </tr>\n",
       "    <tr>\n",
       "      <th>4</th>\n",
       "      <td>0</td>\n",
       "      <td>2.338878</td>\n",
       "      <td>2.338881</td>\n",
       "      <td>mmap</td>\n",
       "      <td>0</td>\n",
       "      <td>6</td>\n",
       "      <td>%p</td>\n",
       "      <td>2691072</td>\n",
       "      <td>3</td>\n",
       "      <td>1</td>\n",
       "      <td>53</td>\n",
       "      <td>0</td>\n",
       "      <td></td>\n",
       "      <td></td>\n",
       "      <td></td>\n",
       "      <td></td>\n",
       "    </tr>\n",
       "  </tbody>\n",
       "</table>\n",
       "</div>"
      ],
      "text/plain": [
       "   rank    tstart      tend       func_id  res  arg_count  \\\n",
       "0     0  0.005714  2.339396  MPI_Comm_dup    0          3   \n",
       "1     0  2.338808  2.338814          open   -1          3   \n",
       "2     0  2.338852  2.338855          open   53          2   \n",
       "3     0  2.338871  2.338876     ftruncate    0          2   \n",
       "4     0  2.338878  2.338881          mmap    0          6   \n",
       "\n",
       "                                              args_1   args_2 args_3 args_4  \\\n",
       "0                                     MPI_COMM_WORLD      0-0      0          \n",
       "1  /dev/shm/job2154496201-35619-OMPI_COLL_IBM-0-c...   557250    384          \n",
       "2  /dev/shm/job2154496201-35619-OMPI_COLL_IBM-0-c...   557058                 \n",
       "3                                                 53  2691072                 \n",
       "4                                                 %p  2691072      3      1   \n",
       "\n",
       "  args_5 args_6 args_7 args_8 args_9 args_10  \n",
       "0                                             \n",
       "1                                             \n",
       "2                                             \n",
       "3                                             \n",
       "4     53      0                               "
      ]
     },
     "execution_count": 6,
     "metadata": {},
     "output_type": "execute_result"
    }
   ],
   "source": [
    "ddf_rank_0.head()"
   ]
  },
  {
   "cell_type": "code",
   "execution_count": 7,
   "metadata": {},
   "outputs": [],
   "source": [
    "ddf_rank_0_open = ddf_rank_0[(ddf_rank_0[\"func_id\"] == \"open\") &\n",
    "                             (ddf_rank_0[\"arg_count\"] == 2) &\n",
    "                             (~ddf_rank_0[\"res\"].isin([-1,0]))]"
   ]
  },
  {
   "cell_type": "code",
   "execution_count": 16,
   "metadata": {},
   "outputs": [],
   "source": [
    "filenames = ddf[(ddf[\"args_1\"].str.contains(\"/p/gpfs1/\"))]['args_1'].unique().compute()"
   ]
  },
  {
   "cell_type": "code",
   "execution_count": 23,
   "metadata": {},
   "outputs": [
    {
     "name": "stdout",
     "output_type": "stream",
     "text": [
      "0    /p/gpfs1/haridev/software/lbann/applications/physics/ICF/20210824_103242_jag_wae/experiment.prototext\n",
      "1                                                      /p/gpfs1/brainusr/datasets/jag/jag100K1vw_train.npy\n",
      "Name: args_1, dtype: object\n"
     ]
    }
   ],
   "source": [
    "print(filenames)"
   ]
  },
  {
   "cell_type": "code",
   "execution_count": 74,
   "metadata": {},
   "outputs": [],
   "source": [
    "selected_rows = []\n",
    "for rank in range(128):\n",
    "    selected_rows.append(ddf[(ddf[\"args_1\"].isin(filenames)) & (ddf[\"rank\"] ==rank)])"
   ]
  },
  {
   "cell_type": "code",
   "execution_count": 76,
   "metadata": {},
   "outputs": [],
   "source": [
    "selected_rank = 0"
   ]
  },
  {
   "cell_type": "code",
   "execution_count": 77,
   "metadata": {},
   "outputs": [
    {
     "data": {
      "text/html": [
       "<div>\n",
       "<style scoped>\n",
       "    .dataframe tbody tr th:only-of-type {\n",
       "        vertical-align: middle;\n",
       "    }\n",
       "\n",
       "    .dataframe tbody tr th {\n",
       "        vertical-align: top;\n",
       "    }\n",
       "\n",
       "    .dataframe thead th {\n",
       "        text-align: right;\n",
       "    }\n",
       "</style>\n",
       "<table border=\"1\" class=\"dataframe\">\n",
       "  <thead>\n",
       "    <tr style=\"text-align: right;\">\n",
       "      <th></th>\n",
       "      <th>rank</th>\n",
       "      <th>tstart</th>\n",
       "      <th>tend</th>\n",
       "      <th>func_id</th>\n",
       "      <th>res</th>\n",
       "      <th>arg_count</th>\n",
       "      <th>args_1</th>\n",
       "      <th>args_2</th>\n",
       "      <th>args_3</th>\n",
       "      <th>args_4</th>\n",
       "      <th>args_5</th>\n",
       "      <th>args_6</th>\n",
       "      <th>args_7</th>\n",
       "      <th>args_8</th>\n",
       "      <th>args_9</th>\n",
       "      <th>args_10</th>\n",
       "    </tr>\n",
       "  </thead>\n",
       "  <tbody>\n",
       "    <tr>\n",
       "      <th>10089</th>\n",
       "      <td>0</td>\n",
       "      <td>20.513746</td>\n",
       "      <td>20.517872</td>\n",
       "      <td>open64</td>\n",
       "      <td>83</td>\n",
       "      <td>2</td>\n",
       "      <td>/p/gpfs1/haridev/software/lbann/applications/physics/ICF/20210824_103242_jag_wae/experiment.prototext</td>\n",
       "      <td>0</td>\n",
       "      <td></td>\n",
       "      <td></td>\n",
       "      <td></td>\n",
       "      <td></td>\n",
       "      <td></td>\n",
       "      <td></td>\n",
       "      <td></td>\n",
       "      <td></td>\n",
       "    </tr>\n",
       "    <tr>\n",
       "      <th>17393</th>\n",
       "      <td>0</td>\n",
       "      <td>20.715036</td>\n",
       "      <td>20.737030</td>\n",
       "      <td>fopen64</td>\n",
       "      <td>83</td>\n",
       "      <td>2</td>\n",
       "      <td>/p/gpfs1/brainusr/datasets/jag/jag100K1vw_train.npy</td>\n",
       "      <td>r</td>\n",
       "      <td></td>\n",
       "      <td></td>\n",
       "      <td></td>\n",
       "      <td></td>\n",
       "      <td></td>\n",
       "      <td></td>\n",
       "      <td></td>\n",
       "      <td></td>\n",
       "    </tr>\n",
       "    <tr>\n",
       "      <th>17395</th>\n",
       "      <td>0</td>\n",
       "      <td>20.737125</td>\n",
       "      <td>20.737143</td>\n",
       "      <td>fopen</td>\n",
       "      <td>83</td>\n",
       "      <td>2</td>\n",
       "      <td>/p/gpfs1/brainusr/datasets/jag/jag100K1vw_train.npy</td>\n",
       "      <td>rb</td>\n",
       "      <td></td>\n",
       "      <td></td>\n",
       "      <td></td>\n",
       "      <td></td>\n",
       "      <td></td>\n",
       "      <td></td>\n",
       "      <td></td>\n",
       "      <td></td>\n",
       "    </tr>\n",
       "  </tbody>\n",
       "</table>\n",
       "</div>"
      ],
      "text/plain": [
       "       rank     tstart       tend  func_id  res  arg_count                                                                                                 args_1 args_2 args_3 args_4 args_5 args_6 args_7 args_8 args_9 args_10\n",
       "10089     0  20.513746  20.517872   open64   83          2  /p/gpfs1/haridev/software/lbann/applications/physics/ICF/20210824_103242_jag_wae/experiment.prototext      0                                                         \n",
       "17393     0  20.715036  20.737030  fopen64   83          2                                                    /p/gpfs1/brainusr/datasets/jag/jag100K1vw_train.npy      r                                                         \n",
       "17395     0  20.737125  20.737143    fopen   83          2                                                    /p/gpfs1/brainusr/datasets/jag/jag100K1vw_train.npy     rb                                                         "
      ]
     },
     "execution_count": 77,
     "metadata": {},
     "output_type": "execute_result"
    }
   ],
   "source": [
    "selected_rows[selected_rank].compute()"
   ]
  },
  {
   "cell_type": "code",
   "execution_count": 79,
   "metadata": {},
   "outputs": [],
   "source": [
    "interested_functions = selected_rows[selected_rank]['func_id'].unique().compute()"
   ]
  },
  {
   "cell_type": "code",
   "execution_count": 80,
   "metadata": {},
   "outputs": [],
   "source": [
    "interested_res = selected_rows[selected_rank]['res'].unique().compute()"
   ]
  },
  {
   "cell_type": "code",
   "execution_count": 81,
   "metadata": {},
   "outputs": [],
   "source": [
    "operations_expected = selected_rows[selected_rank]['args_2'].unique().compute()"
   ]
  },
  {
   "cell_type": "code",
   "execution_count": 82,
   "metadata": {},
   "outputs": [],
   "source": [
    "posix_open = [\"creat\",        \"creat64\",      \"open\",         \"open64\"]\n",
    "posix_read = [\"read\", \"pread\", \"pread64\", \"readv\"]\n",
    "posix_write = [\"write\", \"pwrite\", \"pwrite64\",\"writev\"]\n",
    "stdio_open = [\"fopen\", \"fopen64\"]\n",
    "stdio_read = [\"fread\"]\n",
    "stdio_write = [\"fwrite\"]\n",
    "MPI_open = [\"PMPI_File_open\"]\n",
    "MPI_read = [\"PMPI_File_iread_at\", \"PMPI_File_iread\", \"PMPI_File_iread_shared\", \"PMPI_File_read_all_begin\",     \"PMPI_File_read_all\",       \"PMPI_File_read_at_all\",\n",
    "    \"PMPI_File_read_at_all_begin\",  \"PMPI_File_read_at\",        \"PMPI_File_read\",\n",
    "    \"PMPI_File_read_ordered_begin\", \"PMPI_File_read_ordered\",   \"PMPI_File_read_shared\"]\n",
    "MPI_write = [\"PMPI_File_iwrite_at\", \"PMPI_File_iwrite\",             \"PMPI_File_iwrite_shared\",\"PMPI_File_write_all_begin\",\n",
    "    \"PMPI_File_write_all\",          \"PMPI_File_write_at_all_begin\", \"PMPI_File_write_at_all\",\n",
    "    \"PMPI_File_write_at\",           \"PMPI_File_write\",          \"PMPI_File_write_ordered_begin\",\n",
    "    \"PMPI_File_write_ordered\",      \"PMPI_File_write_shared\"]\n",
    "HDF5_open = [\"H5Fcreate\",            \"H5Fopen\"]\n",
    "HDF5_read = [\"H5Dread\"]\n",
    "HDF5_read = [\"H5Dwrite\"]"
   ]
  },
  {
   "cell_type": "code",
   "execution_count": 83,
   "metadata": {},
   "outputs": [
    {
     "data": {
      "text/plain": [
       "0     open64\n",
       "1    fopen64\n",
       "2      fopen\n",
       "Name: func_id, dtype: object"
      ]
     },
     "execution_count": 83,
     "metadata": {},
     "output_type": "execute_result"
    }
   ],
   "source": [
    "interested_functions"
   ]
  },
  {
   "cell_type": "code",
   "execution_count": 84,
   "metadata": {},
   "outputs": [
    {
     "name": "stdout",
     "output_type": "stream",
     "text": [
      "0    83\n",
      "Name: res, dtype: object\n"
     ]
    }
   ],
   "source": [
    "interested_res = interested_res.apply(str)\n",
    "print(interested_res)"
   ]
  },
  {
   "cell_type": "code",
   "execution_count": 85,
   "metadata": {},
   "outputs": [
    {
     "name": "stdout",
     "output_type": "stream",
     "text": [
      "{'read'}\n"
     ]
    }
   ],
   "source": [
    "operations_expected_str = set()\n",
    "for ops in operations_expected:\n",
    "    if \"r\" in ops or \"0\" in ops:\n",
    "        operations_expected_str.add(\"read\")\n",
    "    elif \"w\" in ops or \"1\" in ops:\n",
    "        operations_expected_str.add(\"write\")\n",
    "print(operations_expected_str)"
   ]
  },
  {
   "cell_type": "code",
   "execution_count": 86,
   "metadata": {},
   "outputs": [
    {
     "name": "stdout",
     "output_type": "stream",
     "text": [
      "['read', 'pread', 'pread64', 'readv', 'fread']\n"
     ]
    }
   ],
   "source": [
    "read_funcs = posix_read\n",
    "read_funcs.extend(stdio_read)\n",
    "print(read_funcs)"
   ]
  },
  {
   "cell_type": "code",
   "execution_count": 90,
   "metadata": {},
   "outputs": [],
   "source": [
    "operation_rows = ddf[(ddf[\"rank\"] == selected_rank) & (ddf[\"func_id\"].isin(stdio_read)) & (ddf['args_4'].isin(interested_res))]"
   ]
  },
  {
   "cell_type": "code",
   "execution_count": 91,
   "metadata": {},
   "outputs": [
    {
     "data": {
      "text/html": [
       "<div>\n",
       "<style scoped>\n",
       "    .dataframe tbody tr th:only-of-type {\n",
       "        vertical-align: middle;\n",
       "    }\n",
       "\n",
       "    .dataframe tbody tr th {\n",
       "        vertical-align: top;\n",
       "    }\n",
       "\n",
       "    .dataframe thead th {\n",
       "        text-align: right;\n",
       "    }\n",
       "</style>\n",
       "<table border=\"1\" class=\"dataframe\">\n",
       "  <thead>\n",
       "    <tr style=\"text-align: right;\">\n",
       "      <th></th>\n",
       "      <th>rank</th>\n",
       "      <th>tstart</th>\n",
       "      <th>tend</th>\n",
       "      <th>func_id</th>\n",
       "      <th>res</th>\n",
       "      <th>arg_count</th>\n",
       "      <th>args_1</th>\n",
       "      <th>args_2</th>\n",
       "      <th>args_3</th>\n",
       "      <th>args_4</th>\n",
       "      <th>args_5</th>\n",
       "      <th>args_6</th>\n",
       "      <th>args_7</th>\n",
       "      <th>args_8</th>\n",
       "      <th>args_9</th>\n",
       "      <th>args_10</th>\n",
       "    </tr>\n",
       "  </thead>\n",
       "  <tbody>\n",
       "    <tr>\n",
       "      <th>17396</th>\n",
       "      <td>0</td>\n",
       "      <td>20.737194</td>\n",
       "      <td>20.796473</td>\n",
       "      <td>fread</td>\n",
       "      <td>0</td>\n",
       "      <td>4</td>\n",
       "      <td>%p</td>\n",
       "      <td>1</td>\n",
       "      <td>11</td>\n",
       "      <td>83</td>\n",
       "      <td></td>\n",
       "      <td></td>\n",
       "      <td></td>\n",
       "      <td></td>\n",
       "      <td></td>\n",
       "      <td></td>\n",
       "    </tr>\n",
       "    <tr>\n",
       "      <th>17397</th>\n",
       "      <td>0</td>\n",
       "      <td>21.974136</td>\n",
       "      <td>28.470678</td>\n",
       "      <td>fread</td>\n",
       "      <td>0</td>\n",
       "      <td>4</td>\n",
       "      <td>%p</td>\n",
       "      <td>1</td>\n",
       "      <td>13405611264</td>\n",
       "      <td>83</td>\n",
       "      <td></td>\n",
       "      <td></td>\n",
       "      <td></td>\n",
       "      <td></td>\n",
       "      <td></td>\n",
       "      <td></td>\n",
       "    </tr>\n",
       "  </tbody>\n",
       "</table>\n",
       "</div>"
      ],
      "text/plain": [
       "       rank     tstart       tend func_id  res  arg_count args_1 args_2       args_3 args_4 args_5 args_6 args_7 args_8 args_9 args_10\n",
       "17396     0  20.737194  20.796473   fread    0          4     %p      1           11     83                                           \n",
       "17397     0  21.974136  28.470678   fread    0          4     %p      1  13405611264     83                                           "
      ]
     },
     "execution_count": 91,
     "metadata": {},
     "output_type": "execute_result"
    }
   ],
   "source": [
    "operation_rows.compute()"
   ]
  },
  {
   "cell_type": "code",
   "execution_count": null,
   "metadata": {},
   "outputs": [],
   "source": []
  }
 ],
 "metadata": {
  "kernelspec": {
   "display_name": "Python 3",
   "language": "python",
   "name": "other-env"
  },
  "language_info": {
   "codemirror_mode": {
    "name": "ipython",
    "version": 3
   },
   "file_extension": ".py",
   "mimetype": "text/x-python",
   "name": "python",
   "nbconvert_exporter": "python",
   "pygments_lexer": "ipython3",
   "version": "3.7.9"
  }
 },
 "nbformat": 4,
 "nbformat_minor": 4
}
