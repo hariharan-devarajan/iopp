{
 "cells": [
  {
   "cell_type": "markdown",
   "id": "bc5435c1-732a-4910-89b7-f43f515fa954",
   "metadata": {},
   "source": [
    "# VANI"
   ]
  },
  {
   "cell_type": "markdown",
   "id": "569476c7-d3de-42a0-b9e2-1bdae2a37d3b",
   "metadata": {},
   "source": [
    "**Initial notebook configuration**"
   ]
  },
  {
   "cell_type": "code",
   "execution_count": 1,
   "id": "22f9e735-9736-4603-b4b9-207740614b6a",
   "metadata": {},
   "outputs": [],
   "source": [
    "%load_ext autoreload\n",
    "# %load_ext snakeviz\n",
    "# %load_ext jupyterflame"
   ]
  },
  {
   "cell_type": "code",
   "execution_count": 2,
   "id": "a49c5a6e-9862-41ba-b219-b00389cc3687",
   "metadata": {},
   "outputs": [
    {
     "name": "stdout",
     "output_type": "stream",
     "text": [
      "/usr/workspace/iopp/.conda/envs/jupyter/bin/python\n",
      "3.9.7 (default, Sep 16 2021, 16:03:39) \n",
      "[GCC 7.3.0]\n",
      "sys.version_info(major=3, minor=9, micro=7, releaselevel='final', serial=0)\n"
     ]
    }
   ],
   "source": [
    "import os\n",
    "import sys\n",
    "print(sys.executable)\n",
    "print(sys.version)\n",
    "print(sys.version_info)"
   ]
  },
  {
   "cell_type": "code",
   "execution_count": 3,
   "id": "06fe52a1-0a7c-4bc2-8992-0197d82beb24",
   "metadata": {},
   "outputs": [],
   "source": [
    "# Filter unnecessary warnings\n",
    "import warnings\n",
    "warnings.simplefilter(action='ignore', category=FutureWarning)"
   ]
  },
  {
   "cell_type": "markdown",
   "id": "9dc61e64-3fc5-4e15-86dd-8937201a9732",
   "metadata": {},
   "source": [
    "**Import libraries**"
   ]
  },
  {
   "cell_type": "code",
   "execution_count": 4,
   "id": "076b1f4f-7e8f-4a64-8e21-8efe9889fab7",
   "metadata": {},
   "outputs": [],
   "source": [
    "# Import VANI library\n",
    "import dask\n",
    "import numpy as np\n",
    "import pandas as pd\n",
    "from vani.vani.analyzer import Analyzer, ClusterOptions, ClusterType"
   ]
  },
  {
   "cell_type": "markdown",
   "id": "7c056dcd-e1ed-432d-9bfd-08f904dd4611",
   "metadata": {},
   "source": [
    "**Initialize VANI Analyzer**"
   ]
  },
  {
   "cell_type": "code",
   "execution_count": 5,
   "id": "a3e9af43-f87a-4e4b-889b-b430277010b3",
   "metadata": {},
   "outputs": [
    {
     "data": {
      "application/vnd.jupyter.widget-view+json": {
       "model_id": "9f3a0c58e8f3414084fe87bbd6a41373",
       "version_major": 2,
       "version_minor": 0
      },
      "text/plain": [
       "  0%|          | 0/3 [00:00<?, ?it/s]"
      ]
     },
     "metadata": {},
     "output_type": "display_data"
    },
    {
     "name": "stdout",
     "output_type": "stream",
     "text": [
      "Dashboard link: http://127.0.0.1:8787/status\n"
     ]
    }
   ],
   "source": [
    "%autoreload 2\n",
    "\n",
    "# Initialize analyzer\n",
    "co = ClusterOptions(cluster_type=ClusterType.Local)\n",
    "vn = Analyzer(n_workers=8, cluster_options=co, debug=True)"
   ]
  },
  {
   "cell_type": "markdown",
   "id": "c1b19ba0-5305-48ad-889c-003181813b03",
   "metadata": {},
   "source": [
    "**Analyze logs**"
   ]
  },
  {
   "cell_type": "code",
   "execution_count": 28,
   "id": "9378d3ba-b1cb-418e-9a66-8927436dae98",
   "metadata": {},
   "outputs": [
    {
     "data": {
      "application/vnd.jupyter.widget-view+json": {
       "model_id": "4c10277c929b4a9aabf171191472828e",
       "version_major": 2,
       "version_minor": 0
      },
      "text/plain": [
       "  0%|          | 0/7 [00:00<?, ?it/s]"
      ]
     },
     "metadata": {},
     "output_type": "display_data"
    },
    {
     "name": "stdout",
     "output_type": "stream",
     "text": [
      "Logs read (0.030877497047185898)\n",
      "Job time: 668.3056030273438 seconds (0.23324604146182537)\n",
      "====================================================================================================\n",
      "Finding problematic sizes by bin - depth: 0\n",
      "====================================================================================================\n",
      "fixed_sizes_by_bin\n",
      " 0.000000      20.171007\n",
      " 594.049425     0.216297\n",
      " 297.024712     0.215934\n",
      " 74.256178      0.141096\n",
      " 222.768534     0.141096\n",
      " 445.537069     0.141091\n",
      " 519.793247     0.140733\n",
      " 148.512356     0.005216\n",
      " 371.280891     0.005100\n",
      "-1.000000       0.000000\n",
      "dtype: float64\n",
      "labeled_sizes_by_bin\n",
      " 0.000000      10\n",
      " 594.049425     1\n",
      " 297.024712     1\n",
      " 74.256178      1\n",
      " 222.768534     1\n",
      " 445.537069     1\n",
      " 519.793247     1\n",
      " 148.512356     1\n",
      " 371.280891     1\n",
      "-1.000000       1\n",
      "dtype: category\n",
      "Categories (10, int64): [1 < 2 < 3 < 4 ... 7 < 8 < 9 < 10]\n",
      "labeled_sizes_by_bin.index.values\n",
      "[  0.         594.04942491 297.02471246  74.25617811 222.76853434\n",
      " 445.53706868 519.7932468  148.51235623 371.28089057  -1.        ]\n",
      "problematic_sizes_by_bin.index.values\n",
      "[0.]\n",
      "problematic_sizes_by_bin flagged\n",
      "0.0    10\n",
      "dtype: category\n",
      "Categories (10, int64): [1 < 2 < 3 < 4 ... 7 < 8 < 9 < 10]\n",
      "problematic_sizes_by_bin.index.values flagged\n",
      "[0.]\n",
      "bin                       size                      label      problematic    \n",
      "index, labeled_size\n",
      "0 <class 'int'> 10 <class 'int'>\n",
      "0.0                       20.17100705485791         10         x              \n",
      "index, labeled_size\n",
      "1 <class 'int'> 1 <class 'int'>\n"
     ]
    },
    {
     "ename": "KeyError",
     "evalue": "1",
     "output_type": "error",
     "traceback": [
      "\u001b[0;31m---------------------------------------------------------------------------\u001b[0m",
      "\u001b[0;31mKeyError\u001b[0m                                  Traceback (most recent call last)",
      "\u001b[0;32m/usr/workspace/iopp/.conda/envs/jupyter/lib/python3.9/site-packages/pandas/core/indexes/base.py\u001b[0m in \u001b[0;36mget_loc\u001b[0;34m(self, key, method, tolerance)\u001b[0m\n\u001b[1;32m   3360\u001b[0m             \u001b[0;32mtry\u001b[0m\u001b[0;34m:\u001b[0m\u001b[0;34m\u001b[0m\u001b[0;34m\u001b[0m\u001b[0m\n\u001b[0;32m-> 3361\u001b[0;31m                 \u001b[0;32mreturn\u001b[0m \u001b[0mself\u001b[0m\u001b[0;34m.\u001b[0m\u001b[0m_engine\u001b[0m\u001b[0;34m.\u001b[0m\u001b[0mget_loc\u001b[0m\u001b[0;34m(\u001b[0m\u001b[0mcasted_key\u001b[0m\u001b[0;34m)\u001b[0m\u001b[0;34m\u001b[0m\u001b[0;34m\u001b[0m\u001b[0m\n\u001b[0m\u001b[1;32m   3362\u001b[0m             \u001b[0;32mexcept\u001b[0m \u001b[0mKeyError\u001b[0m \u001b[0;32mas\u001b[0m \u001b[0merr\u001b[0m\u001b[0;34m:\u001b[0m\u001b[0;34m\u001b[0m\u001b[0;34m\u001b[0m\u001b[0m\n",
      "\u001b[0;32m/usr/workspace/iopp/.conda/envs/jupyter/lib/python3.9/site-packages/pandas/_libs/index.pyx\u001b[0m in \u001b[0;36mpandas._libs.index.IndexEngine.get_loc\u001b[0;34m()\u001b[0m\n",
      "\u001b[0;32m/usr/workspace/iopp/.conda/envs/jupyter/lib/python3.9/site-packages/pandas/_libs/index.pyx\u001b[0m in \u001b[0;36mpandas._libs.index.IndexEngine.get_loc\u001b[0;34m()\u001b[0m\n",
      "\u001b[0;32mpandas/_libs/hashtable_class_helper.pxi\u001b[0m in \u001b[0;36mpandas._libs.hashtable.Float64HashTable.get_item\u001b[0;34m()\u001b[0m\n",
      "\u001b[0;32mpandas/_libs/hashtable_class_helper.pxi\u001b[0m in \u001b[0;36mpandas._libs.hashtable.Float64HashTable.get_item\u001b[0;34m()\u001b[0m\n",
      "\u001b[0;31mKeyError\u001b[0m: 1.0",
      "\nThe above exception was the direct cause of the following exception:\n",
      "\u001b[0;31mKeyError\u001b[0m                                  Traceback (most recent call last)",
      "\u001b[0;32m/var/tmp/ipykernel_55335/1182365725.py\u001b[0m in \u001b[0;36m<module>\u001b[0;34m\u001b[0m\n\u001b[1;32m      9\u001b[0m \u001b[0;34m\u001b[0m\u001b[0m\n\u001b[1;32m     10\u001b[0m \u001b[0;31m# Do the analysis\u001b[0m\u001b[0;34m\u001b[0m\u001b[0;34m\u001b[0m\u001b[0m\n\u001b[0;32m---> 11\u001b[0;31m \u001b[0mio_df_read_write\u001b[0m\u001b[0;34m,\u001b[0m \u001b[0mjob_time\u001b[0m \u001b[0;34m=\u001b[0m \u001b[0mvn\u001b[0m\u001b[0;34m.\u001b[0m\u001b[0manalyze_parquet_logs\u001b[0m\u001b[0;34m(\u001b[0m\u001b[0mlog_dir\u001b[0m\u001b[0;34m)\u001b[0m\u001b[0;34m\u001b[0m\u001b[0;34m\u001b[0m\u001b[0m\n\u001b[0m",
      "\u001b[0;32m/usr/WS2/iopp/software/iopp/analysis/notebooks/recorder/vani/vani/analyzer.py\u001b[0m in \u001b[0;36manalyze_parquet_logs\u001b[0;34m(self, log_dir)\u001b[0m\n\u001b[1;32m    122\u001b[0m             \u001b[0;32melse\u001b[0m\u001b[0;34m:\u001b[0m\u001b[0;34m\u001b[0m\u001b[0;34m\u001b[0m\u001b[0m\n\u001b[1;32m    123\u001b[0m                 \u001b[0mproblematic_size_bin_task_result\u001b[0m \u001b[0;34m=\u001b[0m \u001b[0mproblematic_size_bin_task\u001b[0m\u001b[0;34m.\u001b[0m\u001b[0mcompute\u001b[0m\u001b[0;34m(\u001b[0m\u001b[0;34m)\u001b[0m\u001b[0;34m\u001b[0m\u001b[0;34m\u001b[0m\u001b[0m\n\u001b[0;32m--> 124\u001b[0;31m                 \u001b[0mproblematic_sizes_by_bin\u001b[0m \u001b[0;34m=\u001b[0m \u001b[0mself\u001b[0m\u001b[0;34m.\u001b[0m\u001b[0m_extract_problematic_sizes_by_bin\u001b[0m\u001b[0;34m(\u001b[0m\u001b[0mproblematic_size_bin_task_result\u001b[0m\u001b[0;34m,\u001b[0m \u001b[0mdepth\u001b[0m\u001b[0;34m)\u001b[0m\u001b[0;34m\u001b[0m\u001b[0;34m\u001b[0m\u001b[0m\n\u001b[0m\u001b[1;32m    125\u001b[0m                 \u001b[0;32mfor\u001b[0m \u001b[0mproblematic_size_bin\u001b[0m \u001b[0;32min\u001b[0m \u001b[0mproblematic_sizes_by_bin\u001b[0m\u001b[0;34m:\u001b[0m\u001b[0;34m\u001b[0m\u001b[0;34m\u001b[0m\u001b[0m\n\u001b[1;32m    126\u001b[0m                     \u001b[0mproblematic_size_bin_tasks\u001b[0m\u001b[0;34m.\u001b[0m\u001b[0mappend\u001b[0m\u001b[0;34m(\u001b[0m\u001b[0;34m(\u001b[0m\u001b[0mproblematic_size_bin_df\u001b[0m\u001b[0;34m,\u001b[0m \u001b[0mproblematic_size_bin\u001b[0m\u001b[0;34m,\u001b[0m \u001b[0mproblematic_size_bin_step\u001b[0m\u001b[0;34m,\u001b[0m \u001b[0mdepth\u001b[0m \u001b[0;34m+\u001b[0m \u001b[0;36m1\u001b[0m\u001b[0;34m)\u001b[0m\u001b[0;34m)\u001b[0m\u001b[0;34m\u001b[0m\u001b[0;34m\u001b[0m\u001b[0m\n",
      "\u001b[0;32m/usr/WS2/iopp/software/iopp/analysis/notebooks/recorder/vani/vani/analyzer.py\u001b[0m in \u001b[0;36m_extract_problematic_sizes_by_bin\u001b[0;34m(self, sizes_by_bin, depth)\u001b[0m\n\u001b[1;32m    175\u001b[0m                 \u001b[0mprint\u001b[0m\u001b[0;34m(\u001b[0m\u001b[0mindex\u001b[0m\u001b[0;34m,\u001b[0m \u001b[0mtype\u001b[0m\u001b[0;34m(\u001b[0m\u001b[0mindex\u001b[0m\u001b[0;34m)\u001b[0m\u001b[0;34m,\u001b[0m \u001b[0mlabeled_size\u001b[0m\u001b[0;34m,\u001b[0m \u001b[0mtype\u001b[0m\u001b[0;34m(\u001b[0m\u001b[0mlabeled_size\u001b[0m\u001b[0;34m)\u001b[0m\u001b[0;34m)\u001b[0m\u001b[0;34m\u001b[0m\u001b[0;34m\u001b[0m\u001b[0m\n\u001b[1;32m    176\u001b[0m                 print_tabbed(\"{:<25} {:<25} {:<10} {:<15}\".format(labeled_sizes_by_bin.index.values[index],\n\u001b[0;32m--> 177\u001b[0;31m                                                                   \u001b[0mfixed_sizes_by_bin\u001b[0m\u001b[0;34m[\u001b[0m\u001b[0mindex\u001b[0m\u001b[0;34m]\u001b[0m\u001b[0;34m,\u001b[0m\u001b[0;34m\u001b[0m\u001b[0;34m\u001b[0m\u001b[0m\n\u001b[0m\u001b[1;32m    178\u001b[0m                                                                   \u001b[0mlabeled_size\u001b[0m\u001b[0;34m,\u001b[0m\u001b[0;34m\u001b[0m\u001b[0;34m\u001b[0m\u001b[0m\n\u001b[1;32m    179\u001b[0m                                                                   \u001b[0;34m'x'\u001b[0m \u001b[0;32mif\u001b[0m \u001b[0mint\u001b[0m\u001b[0;34m(\u001b[0m\u001b[0mlabeled_size\u001b[0m\u001b[0;34m)\u001b[0m \u001b[0;34m!=\u001b[0m \u001b[0;36m0\u001b[0m\u001b[0;34m\u001b[0m\u001b[0;34m\u001b[0m\u001b[0m\n",
      "\u001b[0;32m/usr/workspace/iopp/.conda/envs/jupyter/lib/python3.9/site-packages/pandas/core/series.py\u001b[0m in \u001b[0;36m__getitem__\u001b[0;34m(self, key)\u001b[0m\n\u001b[1;32m    940\u001b[0m \u001b[0;34m\u001b[0m\u001b[0m\n\u001b[1;32m    941\u001b[0m         \u001b[0;32melif\u001b[0m \u001b[0mkey_is_scalar\u001b[0m\u001b[0;34m:\u001b[0m\u001b[0;34m\u001b[0m\u001b[0;34m\u001b[0m\u001b[0m\n\u001b[0;32m--> 942\u001b[0;31m             \u001b[0;32mreturn\u001b[0m \u001b[0mself\u001b[0m\u001b[0;34m.\u001b[0m\u001b[0m_get_value\u001b[0m\u001b[0;34m(\u001b[0m\u001b[0mkey\u001b[0m\u001b[0;34m)\u001b[0m\u001b[0;34m\u001b[0m\u001b[0;34m\u001b[0m\u001b[0m\n\u001b[0m\u001b[1;32m    943\u001b[0m \u001b[0;34m\u001b[0m\u001b[0m\n\u001b[1;32m    944\u001b[0m         \u001b[0;32mif\u001b[0m \u001b[0mis_hashable\u001b[0m\u001b[0;34m(\u001b[0m\u001b[0mkey\u001b[0m\u001b[0;34m)\u001b[0m\u001b[0;34m:\u001b[0m\u001b[0;34m\u001b[0m\u001b[0;34m\u001b[0m\u001b[0m\n",
      "\u001b[0;32m/usr/workspace/iopp/.conda/envs/jupyter/lib/python3.9/site-packages/pandas/core/series.py\u001b[0m in \u001b[0;36m_get_value\u001b[0;34m(self, label, takeable)\u001b[0m\n\u001b[1;32m   1049\u001b[0m \u001b[0;34m\u001b[0m\u001b[0m\n\u001b[1;32m   1050\u001b[0m         \u001b[0;31m# Similar to Index.get_value, but we do not fall back to positional\u001b[0m\u001b[0;34m\u001b[0m\u001b[0;34m\u001b[0m\u001b[0m\n\u001b[0;32m-> 1051\u001b[0;31m         \u001b[0mloc\u001b[0m \u001b[0;34m=\u001b[0m \u001b[0mself\u001b[0m\u001b[0;34m.\u001b[0m\u001b[0mindex\u001b[0m\u001b[0;34m.\u001b[0m\u001b[0mget_loc\u001b[0m\u001b[0;34m(\u001b[0m\u001b[0mlabel\u001b[0m\u001b[0;34m)\u001b[0m\u001b[0;34m\u001b[0m\u001b[0;34m\u001b[0m\u001b[0m\n\u001b[0m\u001b[1;32m   1052\u001b[0m         \u001b[0;32mreturn\u001b[0m \u001b[0mself\u001b[0m\u001b[0;34m.\u001b[0m\u001b[0mindex\u001b[0m\u001b[0;34m.\u001b[0m\u001b[0m_get_values_for_loc\u001b[0m\u001b[0;34m(\u001b[0m\u001b[0mself\u001b[0m\u001b[0;34m,\u001b[0m \u001b[0mloc\u001b[0m\u001b[0;34m,\u001b[0m \u001b[0mlabel\u001b[0m\u001b[0;34m)\u001b[0m\u001b[0;34m\u001b[0m\u001b[0;34m\u001b[0m\u001b[0m\n\u001b[1;32m   1053\u001b[0m \u001b[0;34m\u001b[0m\u001b[0m\n",
      "\u001b[0;32m/usr/workspace/iopp/.conda/envs/jupyter/lib/python3.9/site-packages/pandas/core/indexes/base.py\u001b[0m in \u001b[0;36mget_loc\u001b[0;34m(self, key, method, tolerance)\u001b[0m\n\u001b[1;32m   3361\u001b[0m                 \u001b[0;32mreturn\u001b[0m \u001b[0mself\u001b[0m\u001b[0;34m.\u001b[0m\u001b[0m_engine\u001b[0m\u001b[0;34m.\u001b[0m\u001b[0mget_loc\u001b[0m\u001b[0;34m(\u001b[0m\u001b[0mcasted_key\u001b[0m\u001b[0;34m)\u001b[0m\u001b[0;34m\u001b[0m\u001b[0;34m\u001b[0m\u001b[0m\n\u001b[1;32m   3362\u001b[0m             \u001b[0;32mexcept\u001b[0m \u001b[0mKeyError\u001b[0m \u001b[0;32mas\u001b[0m \u001b[0merr\u001b[0m\u001b[0;34m:\u001b[0m\u001b[0;34m\u001b[0m\u001b[0;34m\u001b[0m\u001b[0m\n\u001b[0;32m-> 3363\u001b[0;31m                 \u001b[0;32mraise\u001b[0m \u001b[0mKeyError\u001b[0m\u001b[0;34m(\u001b[0m\u001b[0mkey\u001b[0m\u001b[0;34m)\u001b[0m \u001b[0;32mfrom\u001b[0m \u001b[0merr\u001b[0m\u001b[0;34m\u001b[0m\u001b[0;34m\u001b[0m\u001b[0m\n\u001b[0m\u001b[1;32m   3364\u001b[0m \u001b[0;34m\u001b[0m\u001b[0m\n\u001b[1;32m   3365\u001b[0m         \u001b[0;32mif\u001b[0m \u001b[0mis_scalar\u001b[0m\u001b[0;34m(\u001b[0m\u001b[0mkey\u001b[0m\u001b[0;34m)\u001b[0m \u001b[0;32mand\u001b[0m \u001b[0misna\u001b[0m\u001b[0;34m(\u001b[0m\u001b[0mkey\u001b[0m\u001b[0;34m)\u001b[0m \u001b[0;32mand\u001b[0m \u001b[0;32mnot\u001b[0m \u001b[0mself\u001b[0m\u001b[0;34m.\u001b[0m\u001b[0mhasnans\u001b[0m\u001b[0;34m:\u001b[0m\u001b[0;34m\u001b[0m\u001b[0;34m\u001b[0m\u001b[0m\n",
      "\u001b[0;31mKeyError\u001b[0m: 1"
     ]
    }
   ],
   "source": [
    "%autoreload 2\n",
    "\n",
    "# Analysis configuration\n",
    "# log_dir = \"/p/gpfs1/iopp/parquet_app_logs/hacc/nodes-32/workflow-0\"\n",
    "log_dir = \"/p/gpfs1/iopp/parquet_app_logs/cm1/nodes-32/workflow-4\"\n",
    "# log_dir = \"/p/gpfs1/iopp/parquet_app_logs/lbann-cosmoflow/nodes-32\"\n",
    "# log_dir = \"/p/gpfs1/iopp/recorder_app_logs/montage_pegasus/nodes-32/_parquet\"\n",
    "# log_dir = \"/p/gpfs1/iopp/recorder_app_logs/genome_pegasus/nodes-32/_parquet\"\n",
    "\n",
    "# Do the analysis  \n",
    "io_df_read_write, job_time = vn.analyze_parquet_logs(log_dir)    "
   ]
  },
  {
   "cell_type": "code",
   "execution_count": 43,
   "id": "6536a323-fd6b-4a01-87ed-6c2f4d47f503",
   "metadata": {},
   "outputs": [
    {
     "data": {
      "text/plain": [
       "index        4451\n",
       "rank         4451\n",
       "thread_id    4451\n",
       "cat          4451\n",
       "tstart       4451\n",
       "tend         4451\n",
       "func_id      4451\n",
       "level        4451\n",
       "arg_count    4451\n",
       "args_1       4451\n",
       "args_2       4451\n",
       "args_3       4451\n",
       "args_4       4451\n",
       "args_5       4451\n",
       "args_6       4451\n",
       "args_7       4451\n",
       "args_8       4451\n",
       "args_9       4451\n",
       "args_10      4451\n",
       "duration     4451\n",
       "tmid         4451\n",
       "filename     4451\n",
       "size         4451\n",
       "count        4451\n",
       "bandwidth    4451\n",
       "tbin         4451\n",
       "dtype: int64"
      ]
     },
     "execution_count": 43,
     "metadata": {},
     "output_type": "execute_result"
    }
   ],
   "source": [
    "# 18.72338400946723 7760\n",
    "# 22.468060811360676 5960\n",
    "# 11.234030405680338 4451\n",
    "io_df_read_write[io_df_read_write[\"tbin\"]==11.234030405680338].count().compute()"
   ]
  },
  {
   "cell_type": "code",
   "execution_count": 45,
   "id": "921d5606-7128-4713-8966-70aef735aa39",
   "metadata": {},
   "outputs": [
    {
     "data": {
      "text/plain": [
       "5"
      ]
     },
     "execution_count": 45,
     "metadata": {},
     "output_type": "execute_result"
    }
   ],
   "source": [
    "int(10/2)"
   ]
  },
  {
   "cell_type": "code",
   "execution_count": 5,
   "id": "b6396f3c-759b-40db-b586-b705e552aa25",
   "metadata": {},
   "outputs": [
    {
     "name": "stdout",
     "output_type": "stream",
     "text": [
      "CPU times: user 14 µs, sys: 1 µs, total: 15 µs\n",
      "Wall time: 18.4 µs\n"
     ]
    },
    {
     "data": {
      "text/plain": [
       "Index(['index', 'rank', 'thread_id', 'cat', 'tstart', 'tend', 'func_id',\n",
       "       'level', 'arg_count', 'args_1', 'args_2', 'args_3', 'args_4', 'args_5',\n",
       "       'args_6', 'args_7', 'args_8', 'args_9', 'args_10', 'duration', 'tmid',\n",
       "       'filename', 'size', 'count', 'bandwidth'],\n",
       "      dtype='object')"
      ]
     },
     "execution_count": 5,
     "metadata": {},
     "output_type": "execute_result"
    }
   ],
   "source": [
    "%%time\n",
    "io_df_read_write.columns"
   ]
  },
  {
   "cell_type": "code",
   "execution_count": 6,
   "id": "c0c2a1d9-b7a2-4e4e-8b4c-44a4eff7cbe9",
   "metadata": {},
   "outputs": [
    {
     "name": "stdout",
     "output_type": "stream",
     "text": [
      "CPU times: user 669 ms, sys: 16.1 ms, total: 685 ms\n",
      "Wall time: 1.45 s\n"
     ]
    },
    {
     "data": {
      "text/plain": [
       "25600"
      ]
     },
     "execution_count": 6,
     "metadata": {},
     "output_type": "execute_result"
    }
   ],
   "source": [
    "%%time\n",
    "io_df_read_write[\"index\"].count().compute()"
   ]
  },
  {
   "cell_type": "code",
   "execution_count": 7,
   "id": "3dd0e184-ebba-45ac-af42-bbf322c110e6",
   "metadata": {},
   "outputs": [
    {
     "name": "stdout",
     "output_type": "stream",
     "text": [
      "CPU times: user 623 ms, sys: 1.46 ms, total: 625 ms\n",
      "Wall time: 1.37 s\n"
     ]
    },
    {
     "data": {
      "text/plain": [
       "1.5205373764038086"
      ]
     },
     "execution_count": 7,
     "metadata": {},
     "output_type": "execute_result"
    }
   ],
   "source": [
    "%%time\n",
    "max_duration = io_df_read_write[\"duration\"].max().compute()\n",
    "max_duration"
   ]
  },
  {
   "cell_type": "code",
   "execution_count": 8,
   "id": "4f1a9e40-b32b-47e5-be3e-86154babe6dd",
   "metadata": {},
   "outputs": [
    {
     "data": {
      "text/plain": [
       "array([ 0.        ,  3.7446768 ,  7.4893536 , 11.23403041, 14.97870721,\n",
       "       18.72338401, 22.46806081, 26.21273761, 29.95741442, 33.70209122])"
      ]
     },
     "execution_count": 8,
     "metadata": {},
     "output_type": "execute_result"
    }
   ],
   "source": [
    "n_bins = 10\n",
    "\n",
    "tbins, tbins_step = np.linspace(0, job_time, num=n_bins, retstep=True)\n",
    "tbins"
   ]
  },
  {
   "cell_type": "code",
   "execution_count": 9,
   "id": "a5237011-71b8-4f12-97af-d7d19fb779e2",
   "metadata": {},
   "outputs": [
    {
     "data": {
      "text/plain": [
       "2.4627324918180595"
      ]
     },
     "execution_count": 9,
     "metadata": {},
     "output_type": "execute_result"
    }
   ],
   "source": [
    "tbins_step/max_duration"
   ]
  },
  {
   "cell_type": "code",
   "execution_count": 10,
   "id": "167ed31b-0fb1-4471-949a-afc5d0fe441d",
   "metadata": {},
   "outputs": [
    {
     "name": "stdout",
     "output_type": "stream",
     "text": [
      "0.0 3.744676801893446 -1.872338400946723\n",
      "3.744676801893446 7.489353603786892 0.0\n",
      "7.489353603786892 11.234030405680338 1.872338400946723\n",
      "11.234030405680338 14.978707207573784 3.744676801893446\n",
      "14.978707207573784 18.72338400946723 5.617015202840169\n",
      "18.72338400946723 22.46806081136068 7.489353603786893\n",
      "22.468060811360676 26.21273761325412 9.361692004733616\n",
      "26.21273761325412 29.957414415147568 11.234030405680336\n",
      "29.957414415147568 33.702091217041016 13.10636880662706\n",
      "33.702091217041016 37.44676801893446 14.978707207573784\n",
      "CPU times: user 166 ms, sys: 0 ns, total: 166 ms\n",
      "Wall time: 154 ms\n"
     ]
    }
   ],
   "source": [
    "%%time\n",
    "\n",
    "io_df_read_write[\"tbin\"] = 0\n",
    "\n",
    "for tbin in tbins:\n",
    "    print(tbin, tbin + tbins_step, (tbin - tbins_step)/2)\n",
    "    # 0 <= tmid < 3.744676801893446\n",
    "    tstart_cond = io_df_read_write[\"tmid\"].ge(tbin)\n",
    "    tend_cond = io_df_read_write[\"tmid\"].lt(tbin + tbins_step)\n",
    "    io_df_read_write[\"tbin\"] = io_df_read_write[\"tbin\"].mask(tstart_cond & tend_cond, tbin)"
   ]
  },
  {
   "cell_type": "code",
   "execution_count": 11,
   "id": "6180b9ff-d4f3-40ae-a930-61153dd073f2",
   "metadata": {},
   "outputs": [
    {
     "name": "stdout",
     "output_type": "stream",
     "text": [
      "CPU times: user 1.03 s, sys: 6.36 ms, total: 1.04 s\n",
      "Wall time: 2.15 s\n"
     ]
    },
    {
     "data": {
      "text/plain": [
       "0"
      ]
     },
     "execution_count": 11,
     "metadata": {},
     "output_type": "execute_result"
    }
   ],
   "source": [
    "%%time\n",
    "\n",
    "len(io_df_read_write[io_df_read_write[\"tbin\"] == 0].compute())"
   ]
  },
  {
   "cell_type": "code",
   "execution_count": 12,
   "id": "fe71598a-ba8c-4c51-ad7a-c6a47c5d1dd5",
   "metadata": {},
   "outputs": [
    {
     "name": "stdout",
     "output_type": "stream",
     "text": [
      "0.0 0\n",
      "3.744676801893446 400\n",
      "7.489353603786892 2200\n",
      "11.234030405680338 4451\n",
      "14.978707207573784 3996\n",
      "18.72338400946723 7760\n",
      "22.468060811360676 5960\n",
      "26.21273761325412 506\n",
      "29.957414415147568 327\n",
      "33.702091217041016 0\n",
      "CPU times: user 10.1 s, sys: 41.9 ms, total: 10.1 s\n",
      "Wall time: 20.8 s\n"
     ]
    }
   ],
   "source": [
    "%%time\n",
    "\n",
    "for tbin in tbins:\n",
    "    tbin_binned = io_df_read_write[io_df_read_write[\"tbin\"] == tbin]\n",
    "    tbin_ct = tbin_binned[\"index\"].count().compute()\n",
    "    print(tbin, tbin_ct)\n"
   ]
  },
  {
   "cell_type": "code",
   "execution_count": 13,
   "id": "8a44042a-dcc5-4e17-bf17-49f9d3649b34",
   "metadata": {},
   "outputs": [
    {
     "name": "stdout",
     "output_type": "stream",
     "text": [
      "CPU times: user 6.08 s, sys: 79.9 ms, total: 6.16 s\n",
      "Wall time: 7.2 s\n"
     ]
    },
    {
     "data": {
      "text/plain": [
       "([0.0,\n",
       "  24.6875,\n",
       "  138.5703125,\n",
       "  271.5859375,\n",
       "  241.109375,\n",
       "  484.3046875,\n",
       "  368.46875,\n",
       "  29.5859375,\n",
       "  21.6875,\n",
       "  0.0],\n",
       " [nan,\n",
       "  1.497905556830035,\n",
       "  2.239111758181178,\n",
       "  3.5624963657028332,\n",
       "  3.881369141153605,\n",
       "  3.342765798432728,\n",
       "  2.3583242297373874,\n",
       "  2.6570624776827865,\n",
       "  2.094487939580025,\n",
       "  nan],\n",
       " [0, 400, 2200, 4451, 3996, 7760, 5960, 506, 327, 0])"
      ]
     },
     "execution_count": 13,
     "metadata": {},
     "output_type": "execute_result"
    }
   ],
   "source": [
    "%%time\n",
    "\n",
    "tbin_size_tasks = []\n",
    "tbin_bw_tasks = []\n",
    "tbin_ct_tasks = []\n",
    "\n",
    "for tbin in tbins:\n",
    "    tbin_binned = io_df_read_write[io_df_read_write[\"tbin\"] == tbin]\n",
    "    tbin_size_task = tbin_binned[\"size\"].sum()/1024.0/1024.0/1024.0\n",
    "    tbin_bw_task = tbin_binned[\"bandwidth\"].mean()/1024.0 \n",
    "    tbin_ct_task = tbin_binned[\"index\"].count()\n",
    "    tbin_size_tasks.append(tbin_size_task)\n",
    "    tbin_bw_tasks.append(tbin_bw_task)\n",
    "    tbin_ct_tasks.append(tbin_ct_task)\n",
    "    \n",
    "tbin_task_results = dask.compute(tbin_size_tasks, tbin_bw_tasks, tbin_ct_tasks)\n",
    "\n",
    "tbin_task_results"
   ]
  },
  {
   "cell_type": "code",
   "execution_count": 14,
   "id": "3e2d64dc-cc43-4e97-8e34-e2dd19265c80",
   "metadata": {},
   "outputs": [
    {
     "name": "stdout",
     "output_type": "stream",
     "text": [
      "CPU times: user 1.47 s, sys: 37.5 ms, total: 1.51 s\n",
      "Wall time: 2.6 s\n"
     ]
    },
    {
     "data": {
      "text/plain": [
       "(tbin\n",
       " 14.978707    241.109375\n",
       " 18.723384    484.304688\n",
       " 22.468061    368.468750\n",
       " 26.212738     29.585938\n",
       " 29.957414     21.687500\n",
       " 11.234030    271.585938\n",
       " 7.489354     138.570312\n",
       " 3.744677      24.687500\n",
       " Name: size, dtype: float64,\n",
       " tbin\n",
       " 14.978707    3.881369\n",
       " 18.723384    3.342766\n",
       " 22.468061    2.358324\n",
       " 26.212738    2.657062\n",
       " 29.957414    2.094488\n",
       " 11.234030    3.562496\n",
       " 7.489354     2.239112\n",
       " 3.744677     1.497906\n",
       " Name: bandwidth, dtype: float64,\n",
       " tbin\n",
       " 14.978707    3996\n",
       " 18.723384    7760\n",
       " 22.468061    5960\n",
       " 26.212738     506\n",
       " 29.957414     327\n",
       " 11.234030    4451\n",
       " 7.489354     2200\n",
       " 3.744677      400\n",
       " Name: index, dtype: int64)"
      ]
     },
     "execution_count": 14,
     "metadata": {},
     "output_type": "execute_result"
    }
   ],
   "source": [
    "%%time\n",
    "\n",
    "tbin_grpd = io_df_read_write.groupby(\"tbin\")\n",
    "\n",
    "tbin_grp_size_task = tbin_grpd[\"size\"].sum()/1024.0/1024.0/1024.0\n",
    "tbin_grp_bw_task = tbin_grpd[\"bandwidth\"].mean()/1024.0\n",
    "tbin_grp_ct_task = tbin_grpd[\"index\"].count()\n",
    "\n",
    "tbin_task_results2 = dask.compute(tbin_grp_size_task, tbin_grp_bw_task, tbin_grp_ct_task)\n",
    "\n",
    "tbin_task_results2"
   ]
  },
  {
   "cell_type": "code",
   "execution_count": 15,
   "id": "61ee9657-fc23-4b3c-bfcf-8d34cf868bcf",
   "metadata": {},
   "outputs": [
    {
     "data": {
      "text/plain": [
       "25600"
      ]
     },
     "execution_count": 15,
     "metadata": {},
     "output_type": "execute_result"
    }
   ],
   "source": [
    "tbin_grp_size, tbin_grp_bw, tbin_grp_ct = tbin_task_results2\n",
    "tbin_grp_ct.sum()"
   ]
  },
  {
   "cell_type": "code",
   "execution_count": 16,
   "id": "baa536ff-ce3b-4232-ae41-d7230601289e",
   "metadata": {},
   "outputs": [
    {
     "data": {
      "text/plain": [
       "[1, 2, 3, 4, 5, 6, 7, 8, 9, 10]"
      ]
     },
     "execution_count": 16,
     "metadata": {},
     "output_type": "execute_result"
    }
   ],
   "source": [
    "labels = [i for i in range(1, n_bins+1)]\n",
    "labels"
   ]
  },
  {
   "cell_type": "code",
   "execution_count": 17,
   "id": "af1e4434-edf9-45e7-9b4a-48c73837bb7d",
   "metadata": {},
   "outputs": [
    {
     "data": {
      "text/plain": [
       "tbin\n",
       "14.978707    3.881369\n",
       "18.723384    3.342766\n",
       "22.468061    2.358324\n",
       "26.212738    2.657062\n",
       "29.957414    2.094488\n",
       "11.234030    3.562496\n",
       "7.489354     2.239112\n",
       "3.744677     1.497906\n",
       "Name: bandwidth, dtype: float64"
      ]
     },
     "execution_count": 17,
     "metadata": {},
     "output_type": "execute_result"
    }
   ],
   "source": [
    "tbin_grp_bw"
   ]
  },
  {
   "cell_type": "code",
   "execution_count": 18,
   "id": "77aef7ff-3470-4e8b-a554-7815a525f3aa",
   "metadata": {},
   "outputs": [
    {
     "data": {
      "text/plain": [
       "tbin\n",
       "18.723384    10\n",
       "22.468061     8\n",
       "11.234030     6\n",
       "14.978707     5\n",
       "7.489354      3\n",
       "26.212738     1\n",
       "3.744677      1\n",
       "29.957414     1\n",
       "Name: size, dtype: category\n",
       "Categories (10, int64): [1 < 2 < 3 < 4 ... 7 < 8 < 9 < 10]"
      ]
     },
     "execution_count": 18,
     "metadata": {},
     "output_type": "execute_result"
    }
   ],
   "source": [
    "tbin_grp_size_binned = pd.cut(tbin_grp_size.sort_values(ascending=False), bins=n_bins, labels=labels)\n",
    "tbin_grp_size_binned"
   ]
  },
  {
   "cell_type": "code",
   "execution_count": 19,
   "id": "7bdd7667-fc6b-4145-885e-685a323fa61d",
   "metadata": {},
   "outputs": [
    {
     "data": {
      "text/plain": [
       "tbin\n",
       "3.744677     10\n",
       "29.957414     8\n",
       "7.489354      7\n",
       "22.468061     7\n",
       "26.212738     6\n",
       "18.723384     3\n",
       "11.234030     2\n",
       "14.978707     1\n",
       "Name: bandwidth, dtype: category\n",
       "Categories (10, int64): [10 < 9 < 8 < 7 ... 4 < 3 < 2 < 1]"
      ]
     },
     "execution_count": 19,
     "metadata": {},
     "output_type": "execute_result"
    }
   ],
   "source": [
    "tbin_grp_bw_binned = pd.cut(tbin_grp_bw.sort_values(ascending=True), bins=n_bins, labels=labels[::-1])\n",
    "tbin_grp_bw_binned"
   ]
  },
  {
   "cell_type": "code",
   "execution_count": 20,
   "id": "90ea8294-c314-4b67-81a4-cd98f5d239d7",
   "metadata": {},
   "outputs": [
    {
     "data": {
      "text/plain": [
       "tbin\n",
       "18.723384    10\n",
       "22.468061     8\n",
       "11.234030     6\n",
       "14.978707     5\n",
       "7.489354      3\n",
       "26.212738     1\n",
       "3.744677      1\n",
       "29.957414     1\n",
       "Name: index, dtype: category\n",
       "Categories (10, int64): [1 < 2 < 3 < 4 ... 7 < 8 < 9 < 10]"
      ]
     },
     "execution_count": 20,
     "metadata": {},
     "output_type": "execute_result"
    }
   ],
   "source": [
    "tbin_grp_ct_binned = pd.cut(tbin_grp_ct.sort_values(ascending=False), bins=n_bins, labels=labels)\n",
    "tbin_grp_ct_binned"
   ]
  },
  {
   "cell_type": "code",
   "execution_count": 21,
   "id": "66c21e42-3934-41c4-b369-d1e139219e30",
   "metadata": {},
   "outputs": [
    {
     "data": {
      "text/plain": [
       "tbin\n",
       "22.468061    56\n",
       "18.723384    30\n",
       "7.489354     21\n",
       "11.234030    12\n",
       "3.744677     10\n",
       "29.957414     8\n",
       "26.212738     6\n",
       "14.978707     5\n",
       "dtype: int64"
      ]
     },
     "execution_count": 21,
     "metadata": {},
     "output_type": "execute_result"
    }
   ],
   "source": [
    "tbin_grp_size_binned.astype(int).multiply(tbin_grp_bw_binned.astype(int)).sort_values(ascending=False)"
   ]
  },
  {
   "cell_type": "code",
   "execution_count": 22,
   "id": "88fdf4c9-f07c-46b5-a851-ff4846fed5fb",
   "metadata": {},
   "outputs": [
    {
     "ename": "TypeError",
     "evalue": "Categoricals can only be compared if 'categories' are the same.",
     "output_type": "error",
     "traceback": [
      "\u001b[0;31m---------------------------------------------------------------------------\u001b[0m",
      "\u001b[0;31mTypeError\u001b[0m                                 Traceback (most recent call last)",
      "\u001b[0;32m/var/tmp/ipykernel_111200/2787549608.py\u001b[0m in \u001b[0;36m<module>\u001b[0;34m\u001b[0m\n\u001b[0;32m----> 1\u001b[0;31m \u001b[0mproblematic_bins\u001b[0m \u001b[0;34m=\u001b[0m \u001b[0mtbin_grp_size_binned\u001b[0m\u001b[0;34m[\u001b[0m\u001b[0mtbin_grp_size_binned\u001b[0m\u001b[0;34m.\u001b[0m\u001b[0meq\u001b[0m\u001b[0;34m(\u001b[0m\u001b[0mtbin_grp_bw_binned\u001b[0m\u001b[0;34m)\u001b[0m \u001b[0;34m==\u001b[0m \u001b[0;32mFalse\u001b[0m\u001b[0;34m]\u001b[0m\u001b[0;34m\u001b[0m\u001b[0;34m\u001b[0m\u001b[0m\n\u001b[0m\u001b[1;32m      2\u001b[0m \u001b[0mproblematic_bins\u001b[0m\u001b[0;34m\u001b[0m\u001b[0;34m\u001b[0m\u001b[0m\n",
      "\u001b[0;32m/usr/workspace/iopp/.conda/envs/jupyter/lib/python3.9/site-packages/pandas/core/ops/__init__.py\u001b[0m in \u001b[0;36mflex_wrapper\u001b[0;34m(self, other, level, fill_value, axis)\u001b[0m\n\u001b[1;32m    182\u001b[0m \u001b[0;34m\u001b[0m\u001b[0m\n\u001b[1;32m    183\u001b[0m         \u001b[0;32mif\u001b[0m \u001b[0misinstance\u001b[0m\u001b[0;34m(\u001b[0m\u001b[0mother\u001b[0m\u001b[0;34m,\u001b[0m \u001b[0mABCSeries\u001b[0m\u001b[0;34m)\u001b[0m\u001b[0;34m:\u001b[0m\u001b[0;34m\u001b[0m\u001b[0;34m\u001b[0m\u001b[0m\n\u001b[0;32m--> 184\u001b[0;31m             \u001b[0;32mreturn\u001b[0m \u001b[0mself\u001b[0m\u001b[0;34m.\u001b[0m\u001b[0m_binop\u001b[0m\u001b[0;34m(\u001b[0m\u001b[0mother\u001b[0m\u001b[0;34m,\u001b[0m \u001b[0mop\u001b[0m\u001b[0;34m,\u001b[0m \u001b[0mlevel\u001b[0m\u001b[0;34m=\u001b[0m\u001b[0mlevel\u001b[0m\u001b[0;34m,\u001b[0m \u001b[0mfill_value\u001b[0m\u001b[0;34m=\u001b[0m\u001b[0mfill_value\u001b[0m\u001b[0;34m)\u001b[0m\u001b[0;34m\u001b[0m\u001b[0;34m\u001b[0m\u001b[0m\n\u001b[0m\u001b[1;32m    185\u001b[0m         \u001b[0;32melif\u001b[0m \u001b[0misinstance\u001b[0m\u001b[0;34m(\u001b[0m\u001b[0mother\u001b[0m\u001b[0;34m,\u001b[0m \u001b[0;34m(\u001b[0m\u001b[0mnp\u001b[0m\u001b[0;34m.\u001b[0m\u001b[0mndarray\u001b[0m\u001b[0;34m,\u001b[0m \u001b[0mlist\u001b[0m\u001b[0;34m,\u001b[0m \u001b[0mtuple\u001b[0m\u001b[0;34m)\u001b[0m\u001b[0;34m)\u001b[0m\u001b[0;34m:\u001b[0m\u001b[0;34m\u001b[0m\u001b[0;34m\u001b[0m\u001b[0m\n\u001b[1;32m    186\u001b[0m             \u001b[0;32mif\u001b[0m \u001b[0mlen\u001b[0m\u001b[0;34m(\u001b[0m\u001b[0mother\u001b[0m\u001b[0;34m)\u001b[0m \u001b[0;34m!=\u001b[0m \u001b[0mlen\u001b[0m\u001b[0;34m(\u001b[0m\u001b[0mself\u001b[0m\u001b[0;34m)\u001b[0m\u001b[0;34m:\u001b[0m\u001b[0;34m\u001b[0m\u001b[0;34m\u001b[0m\u001b[0m\n",
      "\u001b[0;32m/usr/workspace/iopp/.conda/envs/jupyter/lib/python3.9/site-packages/pandas/core/series.py\u001b[0m in \u001b[0;36m_binop\u001b[0;34m(self, other, func, level, fill_value)\u001b[0m\n\u001b[1;32m   2909\u001b[0m \u001b[0;34m\u001b[0m\u001b[0m\n\u001b[1;32m   2910\u001b[0m         \u001b[0;32mwith\u001b[0m \u001b[0mnp\u001b[0m\u001b[0;34m.\u001b[0m\u001b[0merrstate\u001b[0m\u001b[0;34m(\u001b[0m\u001b[0mall\u001b[0m\u001b[0;34m=\u001b[0m\u001b[0;34m\"ignore\"\u001b[0m\u001b[0;34m)\u001b[0m\u001b[0;34m:\u001b[0m\u001b[0;34m\u001b[0m\u001b[0;34m\u001b[0m\u001b[0m\n\u001b[0;32m-> 2911\u001b[0;31m             \u001b[0mresult\u001b[0m \u001b[0;34m=\u001b[0m \u001b[0mfunc\u001b[0m\u001b[0;34m(\u001b[0m\u001b[0mthis_vals\u001b[0m\u001b[0;34m,\u001b[0m \u001b[0mother_vals\u001b[0m\u001b[0;34m)\u001b[0m\u001b[0;34m\u001b[0m\u001b[0;34m\u001b[0m\u001b[0m\n\u001b[0m\u001b[1;32m   2912\u001b[0m \u001b[0;34m\u001b[0m\u001b[0m\n\u001b[1;32m   2913\u001b[0m         \u001b[0mname\u001b[0m \u001b[0;34m=\u001b[0m \u001b[0mops\u001b[0m\u001b[0;34m.\u001b[0m\u001b[0mget_op_result_name\u001b[0m\u001b[0;34m(\u001b[0m\u001b[0mself\u001b[0m\u001b[0;34m,\u001b[0m \u001b[0mother\u001b[0m\u001b[0;34m)\u001b[0m\u001b[0;34m\u001b[0m\u001b[0;34m\u001b[0m\u001b[0m\n",
      "\u001b[0;32m/usr/workspace/iopp/.conda/envs/jupyter/lib/python3.9/site-packages/pandas/core/ops/common.py\u001b[0m in \u001b[0;36mnew_method\u001b[0;34m(self, other)\u001b[0m\n\u001b[1;32m     67\u001b[0m         \u001b[0mother\u001b[0m \u001b[0;34m=\u001b[0m \u001b[0mitem_from_zerodim\u001b[0m\u001b[0;34m(\u001b[0m\u001b[0mother\u001b[0m\u001b[0;34m)\u001b[0m\u001b[0;34m\u001b[0m\u001b[0;34m\u001b[0m\u001b[0m\n\u001b[1;32m     68\u001b[0m \u001b[0;34m\u001b[0m\u001b[0m\n\u001b[0;32m---> 69\u001b[0;31m         \u001b[0;32mreturn\u001b[0m \u001b[0mmethod\u001b[0m\u001b[0;34m(\u001b[0m\u001b[0mself\u001b[0m\u001b[0;34m,\u001b[0m \u001b[0mother\u001b[0m\u001b[0;34m)\u001b[0m\u001b[0;34m\u001b[0m\u001b[0;34m\u001b[0m\u001b[0m\n\u001b[0m\u001b[1;32m     70\u001b[0m \u001b[0;34m\u001b[0m\u001b[0m\n\u001b[1;32m     71\u001b[0m     \u001b[0;32mreturn\u001b[0m \u001b[0mnew_method\u001b[0m\u001b[0;34m\u001b[0m\u001b[0;34m\u001b[0m\u001b[0m\n",
      "\u001b[0;32m/usr/workspace/iopp/.conda/envs/jupyter/lib/python3.9/site-packages/pandas/core/arrays/categorical.py\u001b[0m in \u001b[0;36mfunc\u001b[0;34m(self, other)\u001b[0m\n\u001b[1;32m    143\u001b[0m             \u001b[0mmsg\u001b[0m \u001b[0;34m=\u001b[0m \u001b[0;34m\"Categoricals can only be compared if 'categories' are the same.\"\u001b[0m\u001b[0;34m\u001b[0m\u001b[0;34m\u001b[0m\u001b[0m\n\u001b[1;32m    144\u001b[0m             \u001b[0;32mif\u001b[0m \u001b[0;32mnot\u001b[0m \u001b[0mself\u001b[0m\u001b[0;34m.\u001b[0m\u001b[0m_categories_match_up_to_permutation\u001b[0m\u001b[0;34m(\u001b[0m\u001b[0mother\u001b[0m\u001b[0;34m)\u001b[0m\u001b[0;34m:\u001b[0m\u001b[0;34m\u001b[0m\u001b[0;34m\u001b[0m\u001b[0m\n\u001b[0;32m--> 145\u001b[0;31m                 \u001b[0;32mraise\u001b[0m \u001b[0mTypeError\u001b[0m\u001b[0;34m(\u001b[0m\u001b[0mmsg\u001b[0m\u001b[0;34m)\u001b[0m\u001b[0;34m\u001b[0m\u001b[0;34m\u001b[0m\u001b[0m\n\u001b[0m\u001b[1;32m    146\u001b[0m \u001b[0;34m\u001b[0m\u001b[0m\n\u001b[1;32m    147\u001b[0m             \u001b[0;32mif\u001b[0m \u001b[0;32mnot\u001b[0m \u001b[0mself\u001b[0m\u001b[0;34m.\u001b[0m\u001b[0mordered\u001b[0m \u001b[0;32mand\u001b[0m \u001b[0;32mnot\u001b[0m \u001b[0mself\u001b[0m\u001b[0;34m.\u001b[0m\u001b[0mcategories\u001b[0m\u001b[0;34m.\u001b[0m\u001b[0mequals\u001b[0m\u001b[0;34m(\u001b[0m\u001b[0mother\u001b[0m\u001b[0;34m.\u001b[0m\u001b[0mcategories\u001b[0m\u001b[0;34m)\u001b[0m\u001b[0;34m:\u001b[0m\u001b[0;34m\u001b[0m\u001b[0;34m\u001b[0m\u001b[0m\n",
      "\u001b[0;31mTypeError\u001b[0m: Categoricals can only be compared if 'categories' are the same."
     ]
    }
   ],
   "source": [
    "problematic_bins = tbin_grp_size_binned[tbin_grp_size_binned.eq(tbin_grp_bw_binned) == False]\n",
    "problematic_bins"
   ]
  },
  {
   "cell_type": "code",
   "execution_count": 17,
   "id": "42f9d696-7cf0-4a71-8de9-e49cae834bf2",
   "metadata": {},
   "outputs": [
    {
     "data": {
      "text/plain": [
       "tbin\n",
       "22.468061    9\n",
       "18.723384    9\n",
       "14.978707    5\n",
       "Name: size, dtype: category\n",
       "Categories (10, object): ['0' < '1' < '2' < '3' ... '6' < '7' < '8' < '9']"
      ]
     },
     "execution_count": 17,
     "metadata": {},
     "output_type": "execute_result"
    }
   ],
   "source": [
    "problematic_bins_cleared = problematic_bins[problematic_bins != \"0\"]\n",
    "problematic_bins_cleared"
   ]
  },
  {
   "cell_type": "code",
   "execution_count": 18,
   "id": "bd7d70c8-102e-461a-8501-ae9919c47e10",
   "metadata": {},
   "outputs": [
    {
     "data": {
      "text/html": [
       "<div>\n",
       "<style scoped>\n",
       "    .dataframe tbody tr th:only-of-type {\n",
       "        vertical-align: middle;\n",
       "    }\n",
       "\n",
       "    .dataframe tbody tr th {\n",
       "        vertical-align: top;\n",
       "    }\n",
       "\n",
       "    .dataframe thead th {\n",
       "        text-align: right;\n",
       "    }\n",
       "</style>\n",
       "<table border=\"1\" class=\"dataframe\">\n",
       "  <thead>\n",
       "    <tr style=\"text-align: right;\">\n",
       "      <th></th>\n",
       "      <th>size</th>\n",
       "    </tr>\n",
       "    <tr>\n",
       "      <th>tbin</th>\n",
       "      <th></th>\n",
       "    </tr>\n",
       "  </thead>\n",
       "  <tbody>\n",
       "    <tr>\n",
       "      <th>22.468061</th>\n",
       "      <td>9</td>\n",
       "    </tr>\n",
       "    <tr>\n",
       "      <th>18.723384</th>\n",
       "      <td>9</td>\n",
       "    </tr>\n",
       "    <tr>\n",
       "      <th>14.978707</th>\n",
       "      <td>5</td>\n",
       "    </tr>\n",
       "  </tbody>\n",
       "</table>\n",
       "</div>"
      ],
      "text/plain": [
       "          size\n",
       "tbin          \n",
       "22.468061    9\n",
       "18.723384    9\n",
       "14.978707    5"
      ]
     },
     "execution_count": 18,
     "metadata": {},
     "output_type": "execute_result"
    }
   ],
   "source": [
    "pd.DataFrame(problematic_bins_cleared)"
   ]
  },
  {
   "cell_type": "code",
   "execution_count": null,
   "id": "f32c5218-47d4-4ff2-bc64-809e05551108",
   "metadata": {},
   "outputs": [],
   "source": [
    "io_df_read_write_worst = io_df_read_write[io_df_read_write[\"tbin\"].isin(problematic_bins_cleared)]"
   ]
  },
  {
   "cell_type": "code",
   "execution_count": 43,
   "id": "7ee4c493-07ae-41eb-aaee-8e416481b8f5",
   "metadata": {},
   "outputs": [
    {
     "name": "stdout",
     "output_type": "stream",
     "text": [
      "CPU times: user 1.46 s, sys: 63.5 ms, total: 1.52 s\n",
      "Wall time: 2.33 s\n"
     ]
    },
    {
     "data": {
      "text/plain": [
       "0"
      ]
     },
     "execution_count": 43,
     "metadata": {},
     "output_type": "execute_result"
    }
   ],
   "source": [
    "%%time\n",
    "io_df_read_write_worst[\"index\"].count().compute()"
   ]
  },
  {
   "cell_type": "code",
   "execution_count": 29,
   "id": "ac73f160-aa16-4c4e-9932-9e41b8105e08",
   "metadata": {},
   "outputs": [
    {
     "name": "stdout",
     "output_type": "stream",
     "text": [
      "CPU times: user 18.4 s, sys: 319 ms, total: 18.7 s\n",
      "Wall time: 37.9 s\n"
     ]
    },
    {
     "data": {
      "text/plain": [
       "(6.499417304992676, 25.40230369567871)"
      ]
     },
     "execution_count": 29,
     "metadata": {},
     "output_type": "execute_result"
    }
   ],
   "source": [
    "%%time\n",
    "tstart_task = io_df_read_write_worst[\"tstart\"].min()\n",
    "tend_task = io_df_read_write_worst[\"tend\"].max()\n",
    "res = dask.compute(tstart_task, tend_task)\n",
    "res"
   ]
  },
  {
   "cell_type": "code",
   "execution_count": 30,
   "id": "fadb00f1-53dd-4305-a319-b9faf2850a3b",
   "metadata": {},
   "outputs": [
    {
     "data": {
      "text/plain": [
       "array([ 6.4994173 ,  8.59973802, 10.70005873, 12.80037944, 14.90070015,\n",
       "       17.00102086, 19.10134157, 21.20166228, 23.30198299, 25.4023037 ])"
      ]
     },
     "execution_count": 30,
     "metadata": {},
     "output_type": "execute_result"
    }
   ],
   "source": [
    "tstart, tend = res\n",
    "tbins, tbins_step = np.linspace(tstart, tend, num=n_bins, retstep=True)\n",
    "tbins"
   ]
  },
  {
   "cell_type": "code",
   "execution_count": 32,
   "id": "dc839ca4-90e2-489b-bd96-fd69cb1bd053",
   "metadata": {},
   "outputs": [
    {
     "name": "stdout",
     "output_type": "stream",
     "text": [
      "6.499417304992676 8.599738015068901\n",
      "8.599738015068901 10.700058725145126\n",
      "10.700058725145128 12.800379435221355\n",
      "12.800379435221355 14.90070014529758\n",
      "14.90070014529758 17.001020855373806\n",
      "17.001020855373806 19.10134156545003\n",
      "19.101341565450035 21.20166227552626\n",
      "21.20166227552626 23.301982985602486\n",
      "23.301982985602486 25.40230369567871\n",
      "25.40230369567871 27.502624405754936\n",
      "CPU times: user 235 ms, sys: 20.1 ms, total: 255 ms\n",
      "Wall time: 247 ms\n"
     ]
    }
   ],
   "source": [
    "%%time\n",
    "\n",
    "io_df_read_write_worst[\"tbin\"] = 0\n",
    "\n",
    "for tbin in tbins:\n",
    "    print(tbin, tbin + tbins_step)\n",
    "    tstart_cond = io_df_read_write_worst[\"tstart\"].ge(tbin - 1)\n",
    "    tend_cond = io_df_read_write_worst[\"tend\"].lt(tbin + tbins_step)\n",
    "    io_df_read_write_worst[\"tbin\"] = io_df_read_write_worst[\"tbin\"].mask(tstart_cond & tend_cond, tbin)"
   ]
  },
  {
   "cell_type": "code",
   "execution_count": 33,
   "id": "a0bee9c4-c758-4b1e-8659-7190ffbf3e01",
   "metadata": {},
   "outputs": [
    {
     "data": {
      "text/html": [
       "<div>\n",
       "<style scoped>\n",
       "    .dataframe tbody tr th:only-of-type {\n",
       "        vertical-align: middle;\n",
       "    }\n",
       "\n",
       "    .dataframe tbody tr th {\n",
       "        vertical-align: top;\n",
       "    }\n",
       "\n",
       "    .dataframe thead th {\n",
       "        text-align: right;\n",
       "    }\n",
       "</style>\n",
       "<table border=\"1\" class=\"dataframe\">\n",
       "  <thead>\n",
       "    <tr style=\"text-align: right;\">\n",
       "      <th></th>\n",
       "      <th>index</th>\n",
       "      <th>rank</th>\n",
       "      <th>thread_id</th>\n",
       "      <th>cat</th>\n",
       "      <th>tstart</th>\n",
       "      <th>tend</th>\n",
       "      <th>func_id</th>\n",
       "      <th>level</th>\n",
       "      <th>arg_count</th>\n",
       "      <th>args_1</th>\n",
       "      <th>...</th>\n",
       "      <th>args_7</th>\n",
       "      <th>args_8</th>\n",
       "      <th>args_9</th>\n",
       "      <th>args_10</th>\n",
       "      <th>duration</th>\n",
       "      <th>filename</th>\n",
       "      <th>size</th>\n",
       "      <th>count</th>\n",
       "      <th>bandwidth</th>\n",
       "      <th>tbin</th>\n",
       "    </tr>\n",
       "  </thead>\n",
       "  <tbody>\n",
       "    <tr>\n",
       "      <th>35</th>\n",
       "      <td>36</td>\n",
       "      <td>0</td>\n",
       "      <td>312784</td>\n",
       "      <td>0</td>\n",
       "      <td>18.552891</td>\n",
       "      <td>18.677382</td>\n",
       "      <td>write</td>\n",
       "      <td>0</td>\n",
       "      <td>3</td>\n",
       "      <td>/p/gpfs1/iopp/temp/hacc_dir/test-Part00000000-...</td>\n",
       "      <td>...</td>\n",
       "      <td></td>\n",
       "      <td></td>\n",
       "      <td></td>\n",
       "      <td></td>\n",
       "      <td>0.124491</td>\n",
       "      <td>/p/gpfs1/iopp/temp/hacc_dir/test-Part00000000-...</td>\n",
       "      <td>67108864.0</td>\n",
       "      <td>1.0</td>\n",
       "      <td>514.094471</td>\n",
       "      <td>19.101342</td>\n",
       "    </tr>\n",
       "    <tr>\n",
       "      <th>38</th>\n",
       "      <td>39</td>\n",
       "      <td>0</td>\n",
       "      <td>312784</td>\n",
       "      <td>0</td>\n",
       "      <td>18.677414</td>\n",
       "      <td>18.720806</td>\n",
       "      <td>write</td>\n",
       "      <td>0</td>\n",
       "      <td>3</td>\n",
       "      <td>/p/gpfs1/iopp/temp/hacc_dir/test-Part00000000-...</td>\n",
       "      <td>...</td>\n",
       "      <td></td>\n",
       "      <td></td>\n",
       "      <td></td>\n",
       "      <td></td>\n",
       "      <td>0.043392</td>\n",
       "      <td>/p/gpfs1/iopp/temp/hacc_dir/test-Part00000000-...</td>\n",
       "      <td>67108864.0</td>\n",
       "      <td>1.0</td>\n",
       "      <td>1474.920088</td>\n",
       "      <td>19.101342</td>\n",
       "    </tr>\n",
       "    <tr>\n",
       "      <th>41</th>\n",
       "      <td>42</td>\n",
       "      <td>0</td>\n",
       "      <td>312784</td>\n",
       "      <td>0</td>\n",
       "      <td>18.720913</td>\n",
       "      <td>18.840509</td>\n",
       "      <td>write</td>\n",
       "      <td>0</td>\n",
       "      <td>3</td>\n",
       "      <td>/p/gpfs1/iopp/temp/hacc_dir/test-Part00000000-...</td>\n",
       "      <td>...</td>\n",
       "      <td></td>\n",
       "      <td></td>\n",
       "      <td></td>\n",
       "      <td></td>\n",
       "      <td>0.119596</td>\n",
       "      <td>/p/gpfs1/iopp/temp/hacc_dir/test-Part00000000-...</td>\n",
       "      <td>67108864.0</td>\n",
       "      <td>1.0</td>\n",
       "      <td>535.132801</td>\n",
       "      <td>19.101342</td>\n",
       "    </tr>\n",
       "    <tr>\n",
       "      <th>44</th>\n",
       "      <td>45</td>\n",
       "      <td>0</td>\n",
       "      <td>312784</td>\n",
       "      <td>0</td>\n",
       "      <td>18.840620</td>\n",
       "      <td>18.879042</td>\n",
       "      <td>write</td>\n",
       "      <td>0</td>\n",
       "      <td>3</td>\n",
       "      <td>/p/gpfs1/iopp/temp/hacc_dir/test-Part00000000-...</td>\n",
       "      <td>...</td>\n",
       "      <td></td>\n",
       "      <td></td>\n",
       "      <td></td>\n",
       "      <td></td>\n",
       "      <td>0.038422</td>\n",
       "      <td>/p/gpfs1/iopp/temp/hacc_dir/test-Part00000000-...</td>\n",
       "      <td>67108864.0</td>\n",
       "      <td>1.0</td>\n",
       "      <td>1665.728356</td>\n",
       "      <td>19.101342</td>\n",
       "    </tr>\n",
       "    <tr>\n",
       "      <th>47</th>\n",
       "      <td>48</td>\n",
       "      <td>0</td>\n",
       "      <td>312784</td>\n",
       "      <td>0</td>\n",
       "      <td>18.879133</td>\n",
       "      <td>18.925989</td>\n",
       "      <td>write</td>\n",
       "      <td>0</td>\n",
       "      <td>3</td>\n",
       "      <td>/p/gpfs1/iopp/temp/hacc_dir/test-Part00000000-...</td>\n",
       "      <td>...</td>\n",
       "      <td></td>\n",
       "      <td></td>\n",
       "      <td></td>\n",
       "      <td></td>\n",
       "      <td>0.046856</td>\n",
       "      <td>/p/gpfs1/iopp/temp/hacc_dir/test-Part00000000-...</td>\n",
       "      <td>67108864.0</td>\n",
       "      <td>1.0</td>\n",
       "      <td>1365.889115</td>\n",
       "      <td>19.101342</td>\n",
       "    </tr>\n",
       "  </tbody>\n",
       "</table>\n",
       "<p>5 rows × 25 columns</p>\n",
       "</div>"
      ],
      "text/plain": [
       "    index  rank  thread_id  cat     tstart       tend func_id  level  \\\n",
       "35     36     0     312784    0  18.552891  18.677382   write      0   \n",
       "38     39     0     312784    0  18.677414  18.720806   write      0   \n",
       "41     42     0     312784    0  18.720913  18.840509   write      0   \n",
       "44     45     0     312784    0  18.840620  18.879042   write      0   \n",
       "47     48     0     312784    0  18.879133  18.925989   write      0   \n",
       "\n",
       "    arg_count                                             args_1  ... args_7  \\\n",
       "35          3  /p/gpfs1/iopp/temp/hacc_dir/test-Part00000000-...  ...          \n",
       "38          3  /p/gpfs1/iopp/temp/hacc_dir/test-Part00000000-...  ...          \n",
       "41          3  /p/gpfs1/iopp/temp/hacc_dir/test-Part00000000-...  ...          \n",
       "44          3  /p/gpfs1/iopp/temp/hacc_dir/test-Part00000000-...  ...          \n",
       "47          3  /p/gpfs1/iopp/temp/hacc_dir/test-Part00000000-...  ...          \n",
       "\n",
       "   args_8 args_9 args_10  duration  \\\n",
       "35                        0.124491   \n",
       "38                        0.043392   \n",
       "41                        0.119596   \n",
       "44                        0.038422   \n",
       "47                        0.046856   \n",
       "\n",
       "                                             filename        size count  \\\n",
       "35  /p/gpfs1/iopp/temp/hacc_dir/test-Part00000000-...  67108864.0   1.0   \n",
       "38  /p/gpfs1/iopp/temp/hacc_dir/test-Part00000000-...  67108864.0   1.0   \n",
       "41  /p/gpfs1/iopp/temp/hacc_dir/test-Part00000000-...  67108864.0   1.0   \n",
       "44  /p/gpfs1/iopp/temp/hacc_dir/test-Part00000000-...  67108864.0   1.0   \n",
       "47  /p/gpfs1/iopp/temp/hacc_dir/test-Part00000000-...  67108864.0   1.0   \n",
       "\n",
       "      bandwidth       tbin  \n",
       "35   514.094471  19.101342  \n",
       "38  1474.920088  19.101342  \n",
       "41   535.132801  19.101342  \n",
       "44  1665.728356  19.101342  \n",
       "47  1365.889115  19.101342  \n",
       "\n",
       "[5 rows x 25 columns]"
      ]
     },
     "execution_count": 33,
     "metadata": {},
     "output_type": "execute_result"
    }
   ],
   "source": [
    "io_df_read_write_worst.head()"
   ]
  },
  {
   "cell_type": "code",
   "execution_count": 34,
   "id": "bbcfe63a-ef78-4673-8f8e-acde5b989bf7",
   "metadata": {},
   "outputs": [
    {
     "name": "stdout",
     "output_type": "stream",
     "text": [
      "CPU times: user 21.3 s, sys: 368 ms, total: 21.7 s\n",
      "Wall time: 40.9 s\n"
     ]
    },
    {
     "data": {
      "text/plain": [
       "[39, 566, 2752, 2269, 2415, 2077, 3207, 4997, 5558, 390]"
      ]
     },
     "execution_count": 34,
     "metadata": {},
     "output_type": "execute_result"
    }
   ],
   "source": [
    "%%time\n",
    "\n",
    "tbin_tasks = []\n",
    "\n",
    "for tbin in tbins:\n",
    "    tbin_binned = io_df_read_write_worst[io_df_read_write_worst[\"tbin\"] == tbin]\n",
    "    tbin_ct = tbin_binned[\"index\"].count()\n",
    "    tbin_tasks.append(tbin_ct)\n",
    "    \n",
    "tbin_task_results, = dask.compute(tbin_tasks)\n",
    "\n",
    "tbin_task_results"
   ]
  },
  {
   "cell_type": "code",
   "execution_count": 35,
   "id": "0a069e97-2035-42d0-8cb8-485eb82c87dd",
   "metadata": {},
   "outputs": [
    {
     "name": "stdout",
     "output_type": "stream",
     "text": [
      "[4 6 7 8 2]\n",
      "[2415, 3207, 4997, 5558, 2752]\n"
     ]
    },
    {
     "data": {
      "text/plain": [
       "[14.90070014529758,\n",
       " 19.101341565450035,\n",
       " 21.20166227552626,\n",
       " 23.301982985602486,\n",
       " 10.700058725145128]"
      ]
     },
     "execution_count": 35,
     "metadata": {},
     "output_type": "execute_result"
    }
   ],
   "source": [
    "worst_tbin_task_results_ixs = np.argpartition(tbin_task_results, 5)[5:]\n",
    "print(worst_tbin_task_results_ixs)\n",
    "print([tbin_task_results[i] for i in worst_tbin_task_results_ixs])\n",
    "worst_tbins = [tbins[i] for i in worst_tbin_task_results_ixs]\n",
    "worst_tbins"
   ]
  },
  {
   "cell_type": "code",
   "execution_count": 36,
   "id": "fd2da1ff-6c53-44e0-8010-f9dcbe1a5f23",
   "metadata": {},
   "outputs": [],
   "source": [
    "io_df_read_write_worst_2 = io_df_read_write_worst[io_df_read_write_worst[\"tbin\"].isin(worst_tbins)]"
   ]
  },
  {
   "cell_type": "code",
   "execution_count": 37,
   "id": "577fe513-f929-46eb-afd5-2848a1e7ac2b",
   "metadata": {},
   "outputs": [
    {
     "data": {
      "text/plain": [
       "18929"
      ]
     },
     "execution_count": 37,
     "metadata": {},
     "output_type": "execute_result"
    }
   ],
   "source": [
    "%%time\n",
    "io_df_read_write_worst_2[\"index\"].count().compute()"
   ]
  },
  {
   "cell_type": "code",
   "execution_count": 38,
   "id": "367bfbcc-ab36-474d-841f-65554924e6b4",
   "metadata": {},
   "outputs": [
    {
     "name": "stdout",
     "output_type": "stream",
     "text": [
      "CPU times: user 19.5 s, sys: 324 ms, total: 19.8 s\n",
      "Wall time: 39.1 s\n"
     ]
    },
    {
     "data": {
      "text/plain": [
       "(9.700082778930664, 25.068326950073242)"
      ]
     },
     "execution_count": 38,
     "metadata": {},
     "output_type": "execute_result"
    }
   ],
   "source": [
    "%%time\n",
    "tstart_task = io_df_read_write_worst_2[\"tstart\"].min()\n",
    "tend_task = io_df_read_write_worst_2[\"tend\"].max()\n",
    "res = dask.compute(tstart_task, tend_task)\n",
    "res"
   ]
  },
  {
   "cell_type": "code",
   "execution_count": 39,
   "id": "2a81f736-92d6-40d5-90e4-4d6f707e0acc",
   "metadata": {},
   "outputs": [
    {
     "data": {
      "text/plain": [
       "array([ 9.70008278, 11.40766546, 13.11524815, 14.82283084, 16.53041352,\n",
       "       18.23799621, 19.94557889, 21.65316158, 23.36074426, 25.06832695])"
      ]
     },
     "execution_count": 39,
     "metadata": {},
     "output_type": "execute_result"
    }
   ],
   "source": [
    "tstart, tend = res\n",
    "tbins, tbins_step = np.linspace(tstart, tend, num=n_bins, retstep=True)\n",
    "tbins"
   ]
  },
  {
   "cell_type": "code",
   "execution_count": 40,
   "id": "27db46d8-175e-494c-b9d5-28c5fb63e682",
   "metadata": {},
   "outputs": [
    {
     "name": "stdout",
     "output_type": "stream",
     "text": [
      "9.700082778930664 11.407665464613173\n",
      "11.407665464613173 13.115248150295681\n",
      "13.115248150295681 14.82283083597819\n",
      "14.822830835978191 16.5304135216607\n",
      "16.530413521660698 18.23799620734321\n",
      "18.23799620734321 19.94557889302572\n",
      "19.94557889302572 21.65316157870823\n",
      "21.653161578708225 23.360744264390735\n",
      "23.360744264390732 25.068326950073242\n",
      "25.068326950073242 26.775909635755752\n",
      "CPU times: user 230 ms, sys: 19.8 ms, total: 250 ms\n",
      "Wall time: 241 ms\n"
     ]
    }
   ],
   "source": [
    "%%time\n",
    "\n",
    "io_df_read_write_worst_2[\"tbin\"] = 0\n",
    "\n",
    "for tbin in tbins:\n",
    "    print(tbin, tbin + tbins_step)\n",
    "    tstart_cond = io_df_read_write_worst_2[\"tstart\"].ge(tbin - 1)\n",
    "    tend_cond = io_df_read_write_worst_2[\"tend\"].lt(tbin + tbins_step)\n",
    "    io_df_read_write_worst_2[\"tbin\"] = io_df_read_write_worst_2[\"tbin\"].mask(tstart_cond & tend_cond, tbin)"
   ]
  },
  {
   "cell_type": "code",
   "execution_count": 41,
   "id": "b32d73b6-27f4-439b-8b77-f60176385160",
   "metadata": {},
   "outputs": [
    {
     "name": "stdout",
     "output_type": "stream",
     "text": [
      "CPU times: user 21.7 s, sys: 256 ms, total: 22 s\n",
      "Wall time: 41 s\n"
     ]
    },
    {
     "data": {
      "text/plain": [
       "[372, 2380, 0, 1814, 599, 1396, 3235, 3627, 5068, 436]"
      ]
     },
     "execution_count": 41,
     "metadata": {},
     "output_type": "execute_result"
    }
   ],
   "source": [
    "%%time\n",
    "\n",
    "tbin_tasks = []\n",
    "\n",
    "for tbin in tbins:\n",
    "    tbin_binned = io_df_read_write_worst_2[io_df_read_write_worst_2[\"tbin\"] == tbin]\n",
    "    tbin_ct = tbin_binned[\"index\"].count()\n",
    "    tbin_tasks.append(tbin_ct)\n",
    "    \n",
    "tbin_task_results, = dask.compute(tbin_tasks)\n",
    "\n",
    "tbin_task_results"
   ]
  },
  {
   "cell_type": "code",
   "execution_count": 42,
   "id": "0c4b2a0e-c929-438e-b7be-fdf8eefa307b",
   "metadata": {},
   "outputs": [
    {
     "name": "stdout",
     "output_type": "stream",
     "text": [
      "[3 1 7 8 6]\n",
      "[1814, 2380, 3627, 5068, 3235]\n"
     ]
    },
    {
     "data": {
      "text/plain": [
       "[14.822830835978191,\n",
       " 11.407665464613173,\n",
       " 21.653161578708225,\n",
       " 23.360744264390732,\n",
       " 19.94557889302572]"
      ]
     },
     "execution_count": 42,
     "metadata": {},
     "output_type": "execute_result"
    }
   ],
   "source": [
    "worst_tbin_task_results_ixs = np.argpartition(tbin_task_results, 5)[5:]\n",
    "print(worst_tbin_task_results_ixs)\n",
    "print([tbin_task_results[i] for i in worst_tbin_task_results_ixs])\n",
    "worst_tbins = [tbins[i] for i in worst_tbin_task_results_ixs]\n",
    "worst_tbins"
   ]
  },
  {
   "cell_type": "code",
   "execution_count": 43,
   "id": "337a6e62-35a4-4332-a172-97531684b432",
   "metadata": {},
   "outputs": [],
   "source": [
    "io_df_read_write_worst_3 = io_df_read_write_worst_2[io_df_read_write_worst_2[\"tbin\"].isin(worst_tbins)]"
   ]
  },
  {
   "cell_type": "code",
   "execution_count": 44,
   "id": "eb12aad3-2481-416a-9b4a-691ae305f3de",
   "metadata": {},
   "outputs": [
    {
     "name": "stdout",
     "output_type": "stream",
     "text": [
      "CPU times: user 19.7 s, sys: 424 ms, total: 20.1 s\n",
      "Wall time: 40.1 s\n"
     ]
    },
    {
     "data": {
      "text/plain": [
       "16124"
      ]
     },
     "execution_count": 44,
     "metadata": {},
     "output_type": "execute_result"
    }
   ],
   "source": [
    "%%time\n",
    "io_df_read_write_worst_3[\"index\"].count().compute()"
   ]
  },
  {
   "cell_type": "code",
   "execution_count": 50,
   "id": "f94a3e0d-868b-4556-90d4-8b151c8fa36a",
   "metadata": {},
   "outputs": [
    {
     "data": {
      "text/plain": [
       "(10.407665464613173, 25.068326950073242)"
      ]
     },
     "execution_count": 50,
     "metadata": {},
     "output_type": "execute_result"
    }
   ],
   "source": [
    "min(worst_tbins)-1,max(worst_tbins)+tbins_step"
   ]
  },
  {
   "cell_type": "code",
   "execution_count": 51,
   "id": "57f4fc45-93dd-42bb-83fb-02469011e10b",
   "metadata": {},
   "outputs": [
    {
     "name": "stdout",
     "output_type": "stream",
     "text": [
      "CPU times: user 19.9 s, sys: 409 ms, total: 20.3 s\n",
      "Wall time: 40.6 s\n"
     ]
    },
    {
     "data": {
      "text/plain": [
       "(10.412095069885254, 24.68063735961914)"
      ]
     },
     "execution_count": 51,
     "metadata": {},
     "output_type": "execute_result"
    }
   ],
   "source": [
    "%%time\n",
    "tstart_task = io_df_read_write_worst_3[\"tstart\"].min()\n",
    "tend_task = io_df_read_write_worst_3[\"tend\"].max()\n",
    "res = dask.compute(tstart_task, tend_task)\n",
    "res"
   ]
  },
  {
   "cell_type": "code",
   "execution_count": 52,
   "id": "930351fa-27f6-4f42-8a3b-b55fec609226",
   "metadata": {},
   "outputs": [
    {
     "data": {
      "text/plain": [
       "array([10.41209507, 11.99748866, 13.58288225, 15.16827583, 16.75366942,\n",
       "       18.33906301, 19.9244566 , 21.50985018, 23.09524377, 24.68063736])"
      ]
     },
     "execution_count": 52,
     "metadata": {},
     "output_type": "execute_result"
    }
   ],
   "source": [
    "tstart, tend = res\n",
    "tbins, tbins_step = np.linspace(tstart, tend, num=n_bins, retstep=True)\n",
    "tbins"
   ]
  },
  {
   "cell_type": "code",
   "execution_count": 53,
   "id": "35539d66-4a46-4d35-bff8-e102d824a0f0",
   "metadata": {},
   "outputs": [
    {
     "name": "stdout",
     "output_type": "stream",
     "text": [
      "10.412095069885254 11.997488657633463\n",
      "11.997488657633463 13.582882245381672\n",
      "13.582882245381674 15.168275833129883\n",
      "15.168275833129883 16.753669420878094\n",
      "16.753669420878094 18.339063008626304\n",
      "18.339063008626304 19.924456596374515\n",
      "19.92445659637451 21.509850184122723\n",
      "21.509850184122723 23.095243771870933\n",
      "23.095243771870933 24.680637359619144\n",
      "24.68063735961914 26.26603094736735\n",
      "CPU times: user 258 ms, sys: 0 ns, total: 258 ms\n",
      "Wall time: 249 ms\n"
     ]
    }
   ],
   "source": [
    "%%time\n",
    "\n",
    "io_df_read_write_worst_3[\"tbin\"] = 0\n",
    "\n",
    "for tbin in tbins:\n",
    "    print(tbin, tbin + tbins_step)\n",
    "    tstart_cond = io_df_read_write_worst_3[\"tstart\"].ge(tbin - 1)\n",
    "    tend_cond = io_df_read_write_worst_3[\"tend\"].lt(tbin + tbins_step)\n",
    "    io_df_read_write_worst_3[\"tbin\"] = io_df_read_write_worst_3[\"tbin\"].mask(tstart_cond & tend_cond, tbin)"
   ]
  },
  {
   "cell_type": "code",
   "execution_count": 54,
   "id": "bb73d51f-3edf-4ba8-b2a8-d0cae2c30d55",
   "metadata": {},
   "outputs": [
    {
     "name": "stdout",
     "output_type": "stream",
     "text": [
      "CPU times: user 22.1 s, sys: 515 ms, total: 22.6 s\n",
      "Wall time: 43.1 s\n"
     ]
    },
    {
     "data": {
      "text/plain": [
       "[487, 1888, 203, 1610, 0, 0, 2702, 3831, 4226, 1169]"
      ]
     },
     "execution_count": 54,
     "metadata": {},
     "output_type": "execute_result"
    }
   ],
   "source": [
    "%%time\n",
    "\n",
    "tbin_tasks = []\n",
    "\n",
    "for tbin in tbins:\n",
    "    tbin_binned = io_df_read_write_worst_3[io_df_read_write_worst_3[\"tbin\"] == tbin]\n",
    "    tbin_ct = tbin_binned[\"index\"].count()\n",
    "    tbin_tasks.append(tbin_ct)\n",
    "    \n",
    "tbin_task_results, = dask.compute(tbin_tasks)\n",
    "\n",
    "tbin_task_results"
   ]
  },
  {
   "cell_type": "code",
   "execution_count": 55,
   "id": "8e580388-6a63-4f26-8509-48d323c22131",
   "metadata": {},
   "outputs": [
    {
     "name": "stdout",
     "output_type": "stream",
     "text": [
      "[3 1 7 8 6]\n",
      "[1610, 1888, 3831, 4226, 2702]\n"
     ]
    },
    {
     "data": {
      "text/plain": [
       "[15.168275833129883,\n",
       " 11.997488657633463,\n",
       " 21.509850184122723,\n",
       " 23.095243771870933,\n",
       " 19.92445659637451]"
      ]
     },
     "execution_count": 55,
     "metadata": {},
     "output_type": "execute_result"
    }
   ],
   "source": [
    "worst_tbin_task_results_ixs = np.argpartition(tbin_task_results, 5)[5:]\n",
    "print(worst_tbin_task_results_ixs)\n",
    "print([tbin_task_results[i] for i in worst_tbin_task_results_ixs])\n",
    "worst_tbins = [tbins[i] for i in worst_tbin_task_results_ixs]\n",
    "worst_tbins"
   ]
  },
  {
   "cell_type": "code",
   "execution_count": 56,
   "id": "5b5c1c4a-ff85-4b14-8112-290ba3bb8d1a",
   "metadata": {},
   "outputs": [],
   "source": [
    "io_df_read_write_worst_4 = io_df_read_write_worst_3[io_df_read_write_worst_3[\"tbin\"].isin(worst_tbins)]"
   ]
  },
  {
   "cell_type": "code",
   "execution_count": 57,
   "id": "5fe1a53b-1b19-44b4-806d-2431a0d743af",
   "metadata": {},
   "outputs": [
    {
     "name": "stdout",
     "output_type": "stream",
     "text": [
      "CPU times: user 20.2 s, sys: 384 ms, total: 20.6 s\n",
      "Wall time: 42 s\n"
     ]
    },
    {
     "data": {
      "text/plain": [
       "16124"
      ]
     },
     "execution_count": 57,
     "metadata": {},
     "output_type": "execute_result"
    }
   ],
   "source": [
    "%%time\n",
    "io_df_read_write_worst_3[\"index\"].count().compute()"
   ]
  },
  {
   "cell_type": "code",
   "execution_count": null,
   "id": "2d08daf6-e5b4-4264-9373-9cdea371f6b5",
   "metadata": {},
   "outputs": [],
   "source": []
  }
 ],
 "metadata": {
  "kernelspec": {
   "display_name": "iopp",
   "language": "python",
   "name": "iopp"
  },
  "language_info": {
   "codemirror_mode": {
    "name": "ipython",
    "version": 3
   },
   "file_extension": ".py",
   "mimetype": "text/x-python",
   "name": "python",
   "nbconvert_exporter": "python",
   "pygments_lexer": "ipython3",
   "version": "3.9.7"
  }
 },
 "nbformat": 4,
 "nbformat_minor": 5
}
