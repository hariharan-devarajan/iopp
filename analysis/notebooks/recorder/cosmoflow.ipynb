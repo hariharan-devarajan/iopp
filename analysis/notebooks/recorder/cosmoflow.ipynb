{
 "cells": [
  {
   "cell_type": "code",
   "execution_count": 1,
   "metadata": {},
   "outputs": [],
   "source": [
    "import dask_jobqueue\n",
    "import socket\n",
    "from dask_jobqueue import LSFCluster\n",
    "import os"
   ]
  },
  {
   "cell_type": "code",
   "execution_count": 2,
   "metadata": {
    "ExecuteTime": {
     "end_time": "2021-09-16T21:37:00.088821Z",
     "start_time": "2021-09-16T21:37:00.076921Z"
    }
   },
   "outputs": [],
   "source": [
    "node_memory = 256\n",
    "n_workers_per_node = 4\n",
    "memory = '{}GB'.format(node_memory/n_workers_per_node)\n",
    "notebook_name = \"jag\""
   ]
  },
  {
   "cell_type": "code",
   "execution_count": 3,
   "metadata": {
    "ExecuteTime": {
     "end_time": "2021-09-16T21:37:00.580186Z",
     "start_time": "2021-09-16T21:37:00.574875Z"
    }
   },
   "outputs": [],
   "source": [
    "cluster = LSFCluster(cores = n_workers_per_node,processes=n_workers_per_node, memory='{}GB'.format(node_memory), header_skip=['-n ','-R','-M', '-P', '-W'], \n",
    "                     job_extra = ['-nnodes 1', '-G asccasc', '-W 00:30', '-o {}.log'.format(notebook_name), '-e {}.log'.format(notebook_name)], use_stdin=True, scheduler_options={'host': socket.gethostname()})"
   ]
  },
  {
   "cell_type": "code",
   "execution_count": 4,
   "metadata": {},
   "outputs": [],
   "source": [
    "import dask.dataframe as dd\n",
    "from dask.distributed import wait, progress\n",
    "from dask.diagnostics import ProgressBar\n",
    "from dask.distributed import Client\n",
    "import matplotlib.pyplot as plt\n",
    "import numpy as np\n",
    "import time\n",
    "from time import sleep"
   ]
  },
  {
   "cell_type": "code",
   "execution_count": 5,
   "metadata": {},
   "outputs": [
    {
     "data": {
      "text/html": [
       "<div>\n",
       "    <div style=\"width: 24px; height: 24px; background-color: #e1e1e1; border: 3px solid #9D9D9D; border-radius: 5px; position: absolute;\"> </div>\n",
       "    <div style=\"margin-left: 48px;\">\n",
       "        <h3 style=\"margin-bottom: 0px;\">Client</h3>\n",
       "        <p style=\"color: #9D9D9D; margin-bottom: 0px;\">Client-aad79b32-1a99-11ec-95c3-70e28414902c</p>\n",
       "        <table style=\"width: 100%; text-align: left;\">\n",
       "\n",
       "        <tr>\n",
       "        \n",
       "            <td style=\"text-align: left;\"><strong>Connection method:</strong> Cluster object</td>\n",
       "            <td style=\"text-align: left;\"><strong>Cluster type:</strong> dask_jobqueue.LSFCluster</td>\n",
       "        \n",
       "        </tr>\n",
       "\n",
       "        \n",
       "            <tr>\n",
       "                <td style=\"text-align: left;\">\n",
       "                    <strong>Dashboard: </strong> <a href=\"http://192.168.66.200:8787/status\" target=\"_blank\">http://192.168.66.200:8787/status</a>\n",
       "                </td>\n",
       "                <td style=\"text-align: left;\"></td>\n",
       "            </tr>\n",
       "        \n",
       "\n",
       "        </table>\n",
       "\n",
       "        \n",
       "            <details>\n",
       "            <summary style=\"margin-bottom: 20px;\"><h3 style=\"display: inline;\">Cluster Info</h3></summary>\n",
       "            <div class=\"jp-RenderedHTMLCommon jp-RenderedHTML jp-mod-trusted jp-OutputArea-output\">\n",
       "    <div style=\"width: 24px; height: 24px; background-color: #e1e1e1; border: 3px solid #9D9D9D; border-radius: 5px; position: absolute;\">\n",
       "    </div>\n",
       "    <div style=\"margin-left: 48px;\">\n",
       "        <h3 style=\"margin-bottom: 0px; margin-top: 0px;\">LSFCluster</h3>\n",
       "        <p style=\"color: #9D9D9D; margin-bottom: 0px;\">f2e7e41c</p>\n",
       "        <table style=\"width: 100%; text-align: left;\">\n",
       "            <tr>\n",
       "                <td style=\"text-align: left;\">\n",
       "                    <strong>Dashboard:</strong> <a href=\"http://192.168.66.200:8787/status\" target=\"_blank\">http://192.168.66.200:8787/status</a>\n",
       "                </td>\n",
       "                <td style=\"text-align: left;\">\n",
       "                    <strong>Workers:</strong> 0\n",
       "                </td>\n",
       "            </tr>\n",
       "            <tr>\n",
       "                <td style=\"text-align: left;\">\n",
       "                    <strong>Total threads:</strong> 0\n",
       "                </td>\n",
       "                <td style=\"text-align: left;\">\n",
       "                    <strong>Total memory:</strong> 0 B\n",
       "                </td>\n",
       "            </tr>\n",
       "            \n",
       "        </table>\n",
       "\n",
       "        <details>\n",
       "            <summary style=\"margin-bottom: 20px;\">\n",
       "                <h3 style=\"display: inline;\">Scheduler Info</h3>\n",
       "            </summary>\n",
       "\n",
       "            <div style=\"\">\n",
       "    <div>\n",
       "        <div style=\"width: 24px; height: 24px; background-color: #FFF7E5; border: 3px solid #FF6132; border-radius: 5px; position: absolute;\"> </div>\n",
       "        <div style=\"margin-left: 48px;\">\n",
       "            <h3 style=\"margin-bottom: 0px;\">Scheduler</h3>\n",
       "            <p style=\"color: #9D9D9D; margin-bottom: 0px;\">Scheduler-dd869df5-4c32-451d-b757-3c1945499023</p>\n",
       "            <table style=\"width: 100%; text-align: left;\">\n",
       "                <tr>\n",
       "                    <td style=\"text-align: left;\">\n",
       "                        <strong>Comm:</strong> tcp://192.168.66.200:33373\n",
       "                    </td>\n",
       "                    <td style=\"text-align: left;\">\n",
       "                        <strong>Workers:</strong> 0\n",
       "                    </td>\n",
       "                </tr>\n",
       "                <tr>\n",
       "                    <td style=\"text-align: left;\">\n",
       "                        <strong>Dashboard:</strong> <a href=\"http://192.168.66.200:8787/status\" target=\"_blank\">http://192.168.66.200:8787/status</a>\n",
       "                    </td>\n",
       "                    <td style=\"text-align: left;\">\n",
       "                        <strong>Total threads:</strong> 0\n",
       "                    </td>\n",
       "                </tr>\n",
       "                <tr>\n",
       "                    <td style=\"text-align: left;\">\n",
       "                        <strong>Started:</strong> Just now\n",
       "                    </td>\n",
       "                    <td style=\"text-align: left;\">\n",
       "                        <strong>Total memory:</strong> 0 B\n",
       "                    </td>\n",
       "                </tr>\n",
       "            </table>\n",
       "        </div>\n",
       "    </div>\n",
       "\n",
       "    <details style=\"margin-left: 48px;\">\n",
       "        <summary style=\"margin-bottom: 20px;\">\n",
       "            <h3 style=\"display: inline;\">Workers</h3>\n",
       "        </summary>\n",
       "\n",
       "        \n",
       "\n",
       "    </details>\n",
       "</div>\n",
       "\n",
       "        </details>\n",
       "    </div>\n",
       "</div>\n",
       "            </details>\n",
       "        \n",
       "\n",
       "    </div>\n",
       "</div>"
      ],
      "text/plain": [
       "<Client: 'tcp://192.168.66.200:33373' processes=0 threads=0, memory=0 B>"
      ]
     },
     "execution_count": 5,
     "metadata": {},
     "output_type": "execute_result"
    }
   ],
   "source": [
    "client = Client(cluster)\n",
    "client"
   ]
  },
  {
   "cell_type": "code",
   "execution_count": 6,
   "metadata": {},
   "outputs": [],
   "source": [
    "n_workers = 32"
   ]
  },
  {
   "cell_type": "code",
   "execution_count": 7,
   "metadata": {
    "ExecuteTime": {
     "end_time": "2021-09-16T21:37:00.937949Z",
     "start_time": "2021-09-16T21:37:00.931813Z"
    }
   },
   "outputs": [],
   "source": [
    "cluster.scale(n_workers)"
   ]
  },
  {
   "cell_type": "code",
   "execution_count": 8,
   "metadata": {},
   "outputs": [
    {
     "name": "stdout",
     "output_type": "stream",
     "text": [
      "Waiting for workers completed 28 of 32\n",
      "32 workers started\n"
     ]
    }
   ],
   "source": [
    "val = len(client.scheduler_info()[\"workers\"])\n",
    "while ((client.status == \"running\") and ( val< n_workers)):\n",
    "    print(\"Waiting for workers completed {} of {}\".format(val, n_workers), end=\"\\r\")\n",
    "    sleep(1.0)\n",
    "    val = len(client.scheduler_info()[\"workers\"])\n",
    "print(\"\\n{} workers started\".format(len(client.scheduler_info()[\"workers\"])))"
   ]
  },
  {
   "cell_type": "code",
   "execution_count": 9,
   "metadata": {
    "ExecuteTime": {
     "end_time": "2021-09-16T21:44:25.856496Z",
     "start_time": "2021-09-16T21:44:25.849113Z"
    }
   },
   "outputs": [],
   "source": [
    "def timer(func):\n",
    "    @functools.wraps(func)\n",
    "    def wrapper_timer(*args, **kwargs):\n",
    "        tic = time.perf_counter()\n",
    "        value = func(*args, **kwargs)\n",
    "        toc = time.perf_counter()\n",
    "        elapsed_time = toc - tic\n",
    "        print(f\"Elapsed time: {elapsed_time:0.4f} seconds\")\n",
    "        return value\n",
    "    return wrapper_timer"
   ]
  },
  {
   "cell_type": "code",
   "execution_count": 10,
   "metadata": {
    "ExecuteTime": {
     "end_time": "2021-09-16T21:44:26.580383Z",
     "start_time": "2021-09-16T21:44:26.570029Z"
    }
   },
   "outputs": [],
   "source": [
    "def thread_print(string):\n",
    "    print(f'{string}\\n', end='')\n",
    "def thread_process( num_ranks, func, start=0, list_range=[], workers=40):\n",
    "    with ThreadPoolExecutor(max_workers = workers) as executor:\n",
    "        if len(list_range) == 0:\n",
    "            list_range = range(start, num_ranks) \n",
    "        future_gen = {executor.submit(func, rank): rank for rank in list_range}\n",
    "        for future in concurrent.futures.as_completed(future_gen):\n",
    "            rank = future_gen[future]\n",
    "            try:\n",
    "                data = future.result()\n",
    "            except Exception as exc:\n",
    "                thread_print('%r generated an exception: %s' % (rank, exc))\n",
    "            else:\n",
    "                thread_print('%r data computed' % (rank))"
   ]
  },
  {
   "cell_type": "code",
   "execution_count": 11,
   "metadata": {
    "ExecuteTime": {
     "end_time": "2021-09-16T21:44:27.037262Z",
     "start_time": "2021-09-16T21:44:27.033923Z"
    }
   },
   "outputs": [],
   "source": [
    "parquet_folder=\"/p/gpfs1/haridev/parquet/lbann-cosmoflow-32-epoch-2\""
   ]
  },
  {
   "cell_type": "code",
   "execution_count": 12,
   "metadata": {
    "ExecuteTime": {
     "end_time": "2021-09-16T21:44:28.361097Z",
     "start_time": "2021-09-16T21:44:28.356562Z"
    }
   },
   "outputs": [],
   "source": [
    "num_ranks = 128"
   ]
  },
  {
   "cell_type": "code",
   "execution_count": 13,
   "metadata": {
    "ExecuteTime": {
     "end_time": "2021-09-16T21:44:28.766382Z",
     "start_time": "2021-09-16T21:44:28.762432Z"
    }
   },
   "outputs": [],
   "source": [
    "pbar = ProgressBar()\n",
    "pbar.register()"
   ]
  },
  {
   "cell_type": "markdown",
   "metadata": {},
   "source": [
    "### process dataset per rank"
   ]
  },
  {
   "cell_type": "code",
   "execution_count": 14,
   "metadata": {
    "ExecuteTime": {
     "end_time": "2021-09-16T21:44:32.812813Z",
     "start_time": "2021-09-16T21:44:31.634540Z"
    }
   },
   "outputs": [],
   "source": [
    "ddf = dd.read_parquet(\"{}/*.parquet\".format(parquet_folder), engine=\"pyarrow-dataset\")"
   ]
  },
  {
   "cell_type": "code",
   "execution_count": 15,
   "metadata": {
    "ExecuteTime": {
     "end_time": "2021-09-16T21:44:33.462433Z",
     "start_time": "2021-09-16T21:44:33.456132Z"
    }
   },
   "outputs": [
    {
     "data": {
      "text/plain": [
       "504"
      ]
     },
     "execution_count": 15,
     "metadata": {},
     "output_type": "execute_result"
    }
   ],
   "source": [
    "ddf.npartitions"
   ]
  },
  {
   "cell_type": "code",
   "execution_count": 16,
   "metadata": {
    "ExecuteTime": {
     "end_time": "2021-09-16T21:37:12.001757Z",
     "start_time": "2021-09-16T21:37:11.999009Z"
    }
   },
   "outputs": [],
   "source": [
    "#client.cancel(ddf)"
   ]
  },
  {
   "cell_type": "code",
   "execution_count": 17,
   "metadata": {
    "ExecuteTime": {
     "end_time": "2021-09-16T21:37:12.311012Z",
     "start_time": "2021-09-16T21:37:12.306571Z"
    }
   },
   "outputs": [
    {
     "data": {
      "text/plain": [
       "Index(['index', 'rank', 'thread_id', 'cat', 'tstart', 'tend', 'func_id',\n",
       "       'level', 'arg_count', 'args_1', 'args_2', 'args_3', 'args_4', 'args_5',\n",
       "       'args_6', 'args_7', 'args_8', 'args_9', 'args_10'],\n",
       "      dtype='object')"
      ]
     },
     "execution_count": 17,
     "metadata": {},
     "output_type": "execute_result"
    }
   ],
   "source": [
    "ddf.columns"
   ]
  },
  {
   "cell_type": "code",
   "execution_count": 18,
   "metadata": {
    "ExecuteTime": {
     "end_time": "2021-09-16T21:37:12.873991Z",
     "start_time": "2021-09-16T21:37:12.871121Z"
    }
   },
   "outputs": [],
   "source": [
    "#ddf[0].head()"
   ]
  },
  {
   "cell_type": "code",
   "execution_count": 19,
   "metadata": {
    "ExecuteTime": {
     "end_time": "2021-09-16T21:37:13.310962Z",
     "start_time": "2021-09-16T21:37:13.306458Z"
    }
   },
   "outputs": [],
   "source": [
    "ddf = ddf[(ddf['level'] == 0) | ddf['cat'].isin([0,1,3])]\n",
    "#ddf = ddf.persist()"
   ]
  },
  {
   "cell_type": "code",
   "execution_count": 20,
   "metadata": {},
   "outputs": [],
   "source": [
    "io_ddf = ddf[ddf['cat'].isin([0,1,3])]\n",
    "exclude_dirs = [\".pyc\", \"/usr\",\"/g/g92/haridev/.nccl.conf\"]\n",
    "for directory in exclude_dirs:\n",
    "    io_ddf = io_ddf[~io_ddf['args_1'].str.contains(directory)]\n",
    "#io_ddf[rank] = io_ddf[rank].persist()\n",
    "mpi_ddf = ddf[ddf['cat'] == 2]\n",
    "#mpi_ddf[rank] = mpi_ddf[rank].persist()\n",
    "trace_ddf = ddf[ddf['cat'] == 4]"
   ]
  },
  {
   "cell_type": "code",
   "execution_count": 21,
   "metadata": {},
   "outputs": [
    {
     "data": {
      "text/plain": [
       "Index(['index', 'rank', 'thread_id', 'cat', 'tstart', 'tend', 'func_id',\n",
       "       'level', 'arg_count', 'args_1', 'args_2', 'args_3', 'args_4', 'args_5',\n",
       "       'args_6', 'args_7', 'args_8', 'args_9', 'args_10'],\n",
       "      dtype='object')"
      ]
     },
     "execution_count": 21,
     "metadata": {},
     "output_type": "execute_result"
    }
   ],
   "source": [
    "io_ddf.columns"
   ]
  },
  {
   "cell_type": "code",
   "execution_count": 22,
   "metadata": {},
   "outputs": [],
   "source": [
    "open_condition = io_ddf['func_id'].str.contains(\"open\")\n",
    "mpi_condition = io_ddf['func_id'].str.contains(\"MPI\")\n",
    "read_condition = io_ddf['func_id'].isin([\"read\", \"pread\", \"pread64\", \"readv\"])\n",
    "fread_condition = io_ddf['func_id'].isin([\"fread\"])\n",
    "close_condition = io_ddf['func_id'].str.contains('close')\n",
    "write_condition = io_ddf['func_id'].isin([\"write\", \"pwrite\", \"pwrite64\",\"writev\"])\n",
    "fwrite_condition = io_ddf['func_id'].isin([\"fwrite\"])\n",
    "readdir_condition = io_ddf['func_id'].isin([\"readdir\"])"
   ]
  },
  {
   "cell_type": "code",
   "execution_count": 23,
   "metadata": {},
   "outputs": [],
   "source": [
    "io_ddf['filename'] = \"\"\n",
    "io_ddf['filename'] = io_ddf['filename'].mask(open_condition & ~mpi_condition, io_ddf['args_1'])\n",
    "io_ddf['filename'] = io_ddf['filename'].mask(open_condition & mpi_condition, io_ddf['args_2'])\n",
    "io_ddf['filename'] = io_ddf['filename'].mask(close_condition, io_ddf['args_1'])\n",
    "io_ddf['filename'] = io_ddf['filename'].mask(read_condition, io_ddf['args_1'])\n",
    "io_ddf['filename'] = io_ddf['filename'].mask(fread_condition, io_ddf['args_4'])\n",
    "io_ddf['filename'] = io_ddf['filename'].mask(write_condition, io_ddf['args_1'])\n",
    "io_ddf['filename'] = io_ddf['filename'].mask(fwrite_condition, io_ddf['args_4'])"
   ]
  },
  {
   "cell_type": "code",
   "execution_count": 24,
   "metadata": {},
   "outputs": [],
   "source": [
    "io_ddf['size'] = \"0\"\n",
    "io_ddf['count'] = \"1\"\n",
    "io_ddf['size'] = io_ddf['size'].mask(read_condition , io_ddf['args_3'])\n",
    "io_ddf['size'] = io_ddf['size'].mask(fread_condition, io_ddf['args_3'])\n",
    "io_ddf['count'] = io_ddf['count'].mask(fread_condition, io_ddf['args_2'])\n",
    "io_ddf['size'] = io_ddf['size'].mask(write_condition, io_ddf['args_3'])\n",
    "io_ddf['size'] = io_ddf['size'].mask(fwrite_condition, io_ddf['args_3'])\n",
    "io_ddf['count'] = io_ddf['count'].mask(fwrite_condition, io_ddf['args_2'])"
   ]
  },
  {
   "cell_type": "code",
   "execution_count": 25,
   "metadata": {},
   "outputs": [],
   "source": [
    "io_ddf['size'] = io_ddf['size'].mask(readdir_condition , \"0\")\n",
    "io_ddf['count'] = io_ddf['count'].mask(readdir_condition , \"1\")"
   ]
  },
  {
   "cell_type": "code",
   "execution_count": 26,
   "metadata": {},
   "outputs": [],
   "source": [
    "io_ddf = io_ddf.astype({'size': 'int32','count': 'int32'})"
   ]
  },
  {
   "cell_type": "code",
   "execution_count": 27,
   "metadata": {},
   "outputs": [],
   "source": [
    "io_ddf['size'] = io_ddf['size'] * io_ddf['count']"
   ]
  },
  {
   "cell_type": "code",
   "execution_count": 28,
   "metadata": {},
   "outputs": [],
   "source": [
    "io_ddf = io_ddf.persist()"
   ]
  },
  {
   "cell_type": "code",
   "execution_count": 29,
   "metadata": {
    "collapsed": true,
    "jupyter": {
     "outputs_hidden": true
    },
    "tags": []
   },
   "outputs": [
    {
     "data": {
      "text/plain": [
       "DoneAndNotDoneFutures(done={<Future: finished, type: pandas.core.frame.DataFrame, key: ('assign-a84baaa68f10f6f3bdb6a1259bf05da6', 464)>, <Future: finished, type: pandas.core.frame.DataFrame, key: ('assign-a84baaa68f10f6f3bdb6a1259bf05da6', 154)>, <Future: finished, type: pandas.core.frame.DataFrame, key: ('assign-a84baaa68f10f6f3bdb6a1259bf05da6', 381)>, <Future: finished, type: pandas.core.frame.DataFrame, key: ('assign-a84baaa68f10f6f3bdb6a1259bf05da6', 46)>, <Future: finished, type: pandas.core.frame.DataFrame, key: ('assign-a84baaa68f10f6f3bdb6a1259bf05da6', 91)>, <Future: finished, type: pandas.core.frame.DataFrame, key: ('assign-a84baaa68f10f6f3bdb6a1259bf05da6', 132)>, <Future: finished, type: pandas.core.frame.DataFrame, key: ('assign-a84baaa68f10f6f3bdb6a1259bf05da6', 251)>, <Future: finished, type: pandas.core.frame.DataFrame, key: ('assign-a84baaa68f10f6f3bdb6a1259bf05da6', 473)>, <Future: finished, type: pandas.core.frame.DataFrame, key: ('assign-a84baaa68f10f6f3bdb6a1259bf05da6', 282)>, <Future: finished, type: pandas.core.frame.DataFrame, key: ('assign-a84baaa68f10f6f3bdb6a1259bf05da6', 500)>, <Future: finished, type: pandas.core.frame.DataFrame, key: ('assign-a84baaa68f10f6f3bdb6a1259bf05da6', 336)>, <Future: finished, type: pandas.core.frame.DataFrame, key: ('assign-a84baaa68f10f6f3bdb6a1259bf05da6', 123)>, <Future: finished, type: pandas.core.frame.DataFrame, key: ('assign-a84baaa68f10f6f3bdb6a1259bf05da6', 145)>, <Future: finished, type: pandas.core.frame.DataFrame, key: ('assign-a84baaa68f10f6f3bdb6a1259bf05da6', 372)>, <Future: finished, type: pandas.core.frame.DataFrame, key: ('assign-a84baaa68f10f6f3bdb6a1259bf05da6', 455)>, <Future: finished, type: pandas.core.frame.DataFrame, key: ('assign-a84baaa68f10f6f3bdb6a1259bf05da6', 264)>, <Future: finished, type: pandas.core.frame.DataFrame, key: ('assign-a84baaa68f10f6f3bdb6a1259bf05da6', 390)>, <Future: finished, type: pandas.core.frame.DataFrame, key: ('assign-a84baaa68f10f6f3bdb6a1259bf05da6', 242)>, <Future: finished, type: pandas.core.frame.DataFrame, key: ('assign-a84baaa68f10f6f3bdb6a1259bf05da6', 345)>, <Future: finished, type: pandas.core.frame.DataFrame, key: ('assign-a84baaa68f10f6f3bdb6a1259bf05da6', 361)>, <Future: finished, type: pandas.core.frame.DataFrame, key: ('assign-a84baaa68f10f6f3bdb6a1259bf05da6', 35)>, <Future: finished, type: pandas.core.frame.DataFrame, key: ('assign-a84baaa68f10f6f3bdb6a1259bf05da6', 491)>, <Future: finished, type: pandas.core.frame.DataFrame, key: ('assign-a84baaa68f10f6f3bdb6a1259bf05da6', 327)>, <Future: finished, type: pandas.core.frame.DataFrame, key: ('assign-a84baaa68f10f6f3bdb6a1259bf05da6', 377)>, <Future: finished, type: pandas.core.frame.DataFrame, key: ('assign-a84baaa68f10f6f3bdb6a1259bf05da6', 17)>, <Future: finished, type: pandas.core.frame.DataFrame, key: ('assign-a84baaa68f10f6f3bdb6a1259bf05da6', 4)>, <Future: finished, type: pandas.core.frame.DataFrame, key: ('assign-a84baaa68f10f6f3bdb6a1259bf05da6', 482)>, <Future: finished, type: pandas.core.frame.DataFrame, key: ('assign-a84baaa68f10f6f3bdb6a1259bf05da6', 233)>, <Future: finished, type: pandas.core.frame.DataFrame, key: ('assign-a84baaa68f10f6f3bdb6a1259bf05da6', 446)>, <Future: finished, type: pandas.core.frame.DataFrame, key: ('assign-a84baaa68f10f6f3bdb6a1259bf05da6', 136)>, <Future: finished, type: pandas.core.frame.DataFrame, key: ('assign-a84baaa68f10f6f3bdb6a1259bf05da6', 262)>, <Future: finished, type: pandas.core.frame.DataFrame, key: ('assign-a84baaa68f10f6f3bdb6a1259bf05da6', 114)>, <Future: finished, type: pandas.core.frame.DataFrame, key: ('assign-a84baaa68f10f6f3bdb6a1259bf05da6', 217)>, <Future: finished, type: pandas.core.frame.DataFrame, key: ('assign-a84baaa68f10f6f3bdb6a1259bf05da6', 26)>, <Future: finished, type: pandas.core.frame.DataFrame, key: ('assign-a84baaa68f10f6f3bdb6a1259bf05da6', 134)>, <Future: finished, type: pandas.core.frame.DataFrame, key: ('assign-a84baaa68f10f6f3bdb6a1259bf05da6', 105)>, <Future: finished, type: pandas.core.frame.DataFrame, key: ('assign-a84baaa68f10f6f3bdb6a1259bf05da6', 426)>, <Future: finished, type: pandas.core.frame.DataFrame, key: ('assign-a84baaa68f10f6f3bdb6a1259bf05da6', 89)>, <Future: finished, type: pandas.core.frame.DataFrame, key: ('assign-a84baaa68f10f6f3bdb6a1259bf05da6', 404)>, <Future: finished, type: pandas.core.frame.DataFrame, key: ('assign-a84baaa68f10f6f3bdb6a1259bf05da6', 335)>, <Future: finished, type: pandas.core.frame.DataFrame, key: ('assign-a84baaa68f10f6f3bdb6a1259bf05da6', 318)>, <Future: finished, type: pandas.core.frame.DataFrame, key: ('assign-a84baaa68f10f6f3bdb6a1259bf05da6', 395)>, <Future: finished, type: pandas.core.frame.DataFrame, key: ('assign-a84baaa68f10f6f3bdb6a1259bf05da6', 125)>, <Future: finished, type: pandas.core.frame.DataFrame, key: ('assign-a84baaa68f10f6f3bdb6a1259bf05da6', 480)>, <Future: finished, type: pandas.core.frame.DataFrame, key: ('assign-a84baaa68f10f6f3bdb6a1259bf05da6', 8)>, <Future: finished, type: pandas.core.frame.DataFrame, key: ('assign-a84baaa68f10f6f3bdb6a1259bf05da6', 208)>, <Future: finished, type: pandas.core.frame.DataFrame, key: ('assign-a84baaa68f10f6f3bdb6a1259bf05da6', 253)>, <Future: finished, type: pandas.core.frame.DataFrame, key: ('assign-a84baaa68f10f6f3bdb6a1259bf05da6', 435)>, <Future: finished, type: pandas.core.frame.DataFrame, key: ('assign-a84baaa68f10f6f3bdb6a1259bf05da6', 80)>, <Future: finished, type: pandas.core.frame.DataFrame, key: ('assign-a84baaa68f10f6f3bdb6a1259bf05da6', 437)>, <Future: finished, type: pandas.core.frame.DataFrame, key: ('assign-a84baaa68f10f6f3bdb6a1259bf05da6', 267)>, <Future: finished, type: pandas.core.frame.DataFrame, key: ('assign-a84baaa68f10f6f3bdb6a1259bf05da6', 309)>, <Future: finished, type: pandas.core.frame.DataFrame, key: ('assign-a84baaa68f10f6f3bdb6a1259bf05da6', 244)>, <Future: finished, type: pandas.core.frame.DataFrame, key: ('assign-a84baaa68f10f6f3bdb6a1259bf05da6', 181)>, <Future: finished, type: pandas.core.frame.DataFrame, key: ('assign-a84baaa68f10f6f3bdb6a1259bf05da6', 71)>, <Future: finished, type: pandas.core.frame.DataFrame, key: ('assign-a84baaa68f10f6f3bdb6a1259bf05da6', 307)>, <Future: finished, type: pandas.core.frame.DataFrame, key: ('assign-a84baaa68f10f6f3bdb6a1259bf05da6', 363)>, <Future: finished, type: pandas.core.frame.DataFrame, key: ('assign-a84baaa68f10f6f3bdb6a1259bf05da6', 216)>, <Future: finished, type: pandas.core.frame.DataFrame, key: ('assign-a84baaa68f10f6f3bdb6a1259bf05da6', 386)>, <Future: finished, type: pandas.core.frame.DataFrame, key: ('assign-a84baaa68f10f6f3bdb6a1259bf05da6', 496)>, <Future: finished, type: pandas.core.frame.DataFrame, key: ('assign-a84baaa68f10f6f3bdb6a1259bf05da6', 6)>, <Future: finished, type: pandas.core.frame.DataFrame, key: ('assign-a84baaa68f10f6f3bdb6a1259bf05da6', 190)>, <Future: finished, type: pandas.core.frame.DataFrame, key: ('assign-a84baaa68f10f6f3bdb6a1259bf05da6', 199)>, <Future: finished, type: pandas.core.frame.DataFrame, key: ('assign-a84baaa68f10f6f3bdb6a1259bf05da6', 53)>, <Future: finished, type: pandas.core.frame.DataFrame, key: ('assign-a84baaa68f10f6f3bdb6a1259bf05da6', 62)>, <Future: finished, type: pandas.core.frame.DataFrame, key: ('assign-a84baaa68f10f6f3bdb6a1259bf05da6', 484)>, <Future: finished, type: pandas.core.frame.DataFrame, key: ('assign-a84baaa68f10f6f3bdb6a1259bf05da6', 127)>, <Future: finished, type: pandas.core.frame.DataFrame, key: ('assign-a84baaa68f10f6f3bdb6a1259bf05da6', 248)>, <Future: finished, type: pandas.core.frame.DataFrame, key: ('assign-a84baaa68f10f6f3bdb6a1259bf05da6', 392)>, <Future: finished, type: pandas.core.frame.DataFrame, key: ('assign-a84baaa68f10f6f3bdb6a1259bf05da6', 255)>, <Future: finished, type: pandas.core.frame.DataFrame, key: ('assign-a84baaa68f10f6f3bdb6a1259bf05da6', 243)>, <Future: finished, type: pandas.core.frame.DataFrame, key: ('assign-a84baaa68f10f6f3bdb6a1259bf05da6', 118)>, <Future: finished, type: pandas.core.frame.DataFrame, key: ('assign-a84baaa68f10f6f3bdb6a1259bf05da6', 365)>, <Future: finished, type: pandas.core.frame.DataFrame, key: ('assign-a84baaa68f10f6f3bdb6a1259bf05da6', 376)>, <Future: finished, type: pandas.core.frame.DataFrame, key: ('assign-a84baaa68f10f6f3bdb6a1259bf05da6', 246)>, <Future: finished, type: pandas.core.frame.DataFrame, key: ('assign-a84baaa68f10f6f3bdb6a1259bf05da6', 109)>, <Future: finished, type: pandas.core.frame.DataFrame, key: ('assign-a84baaa68f10f6f3bdb6a1259bf05da6', 385)>, <Future: finished, type: pandas.core.frame.DataFrame, key: ('assign-a84baaa68f10f6f3bdb6a1259bf05da6', 356)>, <Future: finished, type: pandas.core.frame.DataFrame, key: ('assign-a84baaa68f10f6f3bdb6a1259bf05da6', 237)>, <Future: finished, type: pandas.core.frame.DataFrame, key: ('assign-a84baaa68f10f6f3bdb6a1259bf05da6', 477)>, <Future: finished, type: pandas.core.frame.DataFrame, key: ('assign-a84baaa68f10f6f3bdb6a1259bf05da6', 273)>, <Future: finished, type: pandas.core.frame.DataFrame, key: ('assign-a84baaa68f10f6f3bdb6a1259bf05da6', 362)>, <Future: finished, type: pandas.core.frame.DataFrame, key: ('assign-a84baaa68f10f6f3bdb6a1259bf05da6', 100)>, <Future: finished, type: pandas.core.frame.DataFrame, key: ('assign-a84baaa68f10f6f3bdb6a1259bf05da6', 347)>, <Future: finished, type: pandas.core.frame.DataFrame, key: ('assign-a84baaa68f10f6f3bdb6a1259bf05da6', 228)>, <Future: finished, type: pandas.core.frame.DataFrame, key: ('assign-a84baaa68f10f6f3bdb6a1259bf05da6', 367)>, <Future: finished, type: pandas.core.frame.DataFrame, key: ('assign-a84baaa68f10f6f3bdb6a1259bf05da6', 486)>, <Future: finished, type: pandas.core.frame.DataFrame, key: ('assign-a84baaa68f10f6f3bdb6a1259bf05da6', 495)>, <Future: finished, type: pandas.core.frame.DataFrame, key: ('assign-a84baaa68f10f6f3bdb6a1259bf05da6', 219)>, <Future: finished, type: pandas.core.frame.DataFrame, key: ('assign-a84baaa68f10f6f3bdb6a1259bf05da6', 405)>, <Future: finished, type: pandas.core.frame.DataFrame, key: ('assign-a84baaa68f10f6f3bdb6a1259bf05da6', 45)>, <Future: finished, type: pandas.core.frame.DataFrame, key: ('assign-a84baaa68f10f6f3bdb6a1259bf05da6', 189)>, <Future: finished, type: pandas.core.frame.DataFrame, key: ('assign-a84baaa68f10f6f3bdb6a1259bf05da6', 277)>, <Future: finished, type: pandas.core.frame.DataFrame, key: ('assign-a84baaa68f10f6f3bdb6a1259bf05da6', 329)>, <Future: finished, type: pandas.core.frame.DataFrame, key: ('assign-a84baaa68f10f6f3bdb6a1259bf05da6', 448)>, <Future: finished, type: pandas.core.frame.DataFrame, key: ('assign-a84baaa68f10f6f3bdb6a1259bf05da6', 299)>, <Future: finished, type: pandas.core.frame.DataFrame, key: ('assign-a84baaa68f10f6f3bdb6a1259bf05da6', 164)>, <Future: finished, type: pandas.core.frame.DataFrame, key: ('assign-a84baaa68f10f6f3bdb6a1259bf05da6', 396)>, <Future: finished, type: pandas.core.frame.DataFrame, key: ('assign-a84baaa68f10f6f3bdb6a1259bf05da6', 320)>, <Future: finished, type: pandas.core.frame.DataFrame, key: ('assign-a84baaa68f10f6f3bdb6a1259bf05da6', 283)>, <Future: finished, type: pandas.core.frame.DataFrame, key: ('assign-a84baaa68f10f6f3bdb6a1259bf05da6', 286)>, <Future: finished, type: pandas.core.frame.DataFrame, key: ('assign-a84baaa68f10f6f3bdb6a1259bf05da6', 418)>, <Future: finished, type: pandas.core.frame.DataFrame, key: ('assign-a84baaa68f10f6f3bdb6a1259bf05da6', 55)>, <Future: finished, type: pandas.core.frame.DataFrame, key: ('assign-a84baaa68f10f6f3bdb6a1259bf05da6', 70)>, <Future: finished, type: pandas.core.frame.DataFrame, key: ('assign-a84baaa68f10f6f3bdb6a1259bf05da6', 268)>, <Future: finished, type: pandas.core.frame.DataFrame, key: ('assign-a84baaa68f10f6f3bdb6a1259bf05da6', 439)>, <Future: finished, type: pandas.core.frame.DataFrame, key: ('assign-a84baaa68f10f6f3bdb6a1259bf05da6', 454)>, <Future: finished, type: pandas.core.frame.DataFrame, key: ('assign-a84baaa68f10f6f3bdb6a1259bf05da6', 210)>, <Future: finished, type: pandas.core.frame.DataFrame, key: ('assign-a84baaa68f10f6f3bdb6a1259bf05da6', 290)>, <Future: finished, type: pandas.core.frame.DataFrame, key: ('assign-a84baaa68f10f6f3bdb6a1259bf05da6', 36)>, <Future: finished, type: pandas.core.frame.DataFrame, key: ('assign-a84baaa68f10f6f3bdb6a1259bf05da6', 311)>, <Future: finished, type: pandas.core.frame.DataFrame, key: ('assign-a84baaa68f10f6f3bdb6a1259bf05da6', 387)>, <Future: finished, type: pandas.core.frame.DataFrame, key: ('assign-a84baaa68f10f6f3bdb6a1259bf05da6', 155)>, <Future: finished, type: pandas.core.frame.DataFrame, key: ('assign-a84baaa68f10f6f3bdb6a1259bf05da6', 158)>, <Future: finished, type: pandas.core.frame.DataFrame, key: ('assign-a84baaa68f10f6f3bdb6a1259bf05da6', 61)>, <Future: finished, type: pandas.core.frame.DataFrame, key: ('assign-a84baaa68f10f6f3bdb6a1259bf05da6', 180)>, <Future: finished, type: pandas.core.frame.DataFrame, key: ('assign-a84baaa68f10f6f3bdb6a1259bf05da6', 326)>, <Future: finished, type: pandas.core.frame.DataFrame, key: ('assign-a84baaa68f10f6f3bdb6a1259bf05da6', 82)>, <Future: finished, type: pandas.core.frame.DataFrame, key: ('assign-a84baaa68f10f6f3bdb6a1259bf05da6', 259)>, <Future: finished, type: pandas.core.frame.DataFrame, key: ('assign-a84baaa68f10f6f3bdb6a1259bf05da6', 201)>, <Future: finished, type: pandas.core.frame.DataFrame, key: ('assign-a84baaa68f10f6f3bdb6a1259bf05da6', 162)>, <Future: finished, type: pandas.core.frame.DataFrame, key: ('assign-a84baaa68f10f6f3bdb6a1259bf05da6', 445)>, <Future: finished, type: pandas.core.frame.DataFrame, key: ('assign-a84baaa68f10f6f3bdb6a1259bf05da6', 30)>, <Future: finished, type: pandas.core.frame.DataFrame, key: ('assign-a84baaa68f10f6f3bdb6a1259bf05da6', 302)>, <Future: finished, type: pandas.core.frame.DataFrame, key: ('assign-a84baaa68f10f6f3bdb6a1259bf05da6', 27)>, <Future: finished, type: pandas.core.frame.DataFrame, key: ('assign-a84baaa68f10f6f3bdb6a1259bf05da6', 52)>, <Future: finished, type: pandas.core.frame.DataFrame, key: ('assign-a84baaa68f10f6f3bdb6a1259bf05da6', 149)>, <Future: finished, type: pandas.core.frame.DataFrame, key: ('assign-a84baaa68f10f6f3bdb6a1259bf05da6', 171)>, <Future: finished, type: pandas.core.frame.DataFrame, key: ('assign-a84baaa68f10f6f3bdb6a1259bf05da6', 198)>, <Future: finished, type: pandas.core.frame.DataFrame, key: ('assign-a84baaa68f10f6f3bdb6a1259bf05da6', 73)>, <Future: finished, type: pandas.core.frame.DataFrame, key: ('assign-a84baaa68f10f6f3bdb6a1259bf05da6', 131)>, <Future: finished, type: pandas.core.frame.DataFrame, key: ('assign-a84baaa68f10f6f3bdb6a1259bf05da6', 192)>, <Future: finished, type: pandas.core.frame.DataFrame, key: ('assign-a84baaa68f10f6f3bdb6a1259bf05da6', 34)>, <Future: finished, type: pandas.core.frame.DataFrame, key: ('assign-a84baaa68f10f6f3bdb6a1259bf05da6', 317)>, <Future: finished, type: pandas.core.frame.DataFrame, key: ('assign-a84baaa68f10f6f3bdb6a1259bf05da6', 21)>, <Future: finished, type: pandas.core.frame.DataFrame, key: ('assign-a84baaa68f10f6f3bdb6a1259bf05da6', 174)>, <Future: finished, type: pandas.core.frame.DataFrame, key: ('assign-a84baaa68f10f6f3bdb6a1259bf05da6', 436)>, <Future: finished, type: pandas.core.frame.DataFrame, key: ('assign-a84baaa68f10f6f3bdb6a1259bf05da6', 140)>, <Future: finished, type: pandas.core.frame.DataFrame, key: ('assign-a84baaa68f10f6f3bdb6a1259bf05da6', 461)>, <Future: finished, type: pandas.core.frame.DataFrame, key: ('assign-a84baaa68f10f6f3bdb6a1259bf05da6', 43)>, <Future: finished, type: pandas.core.frame.DataFrame, key: ('assign-a84baaa68f10f6f3bdb6a1259bf05da6', 308)>, <Future: finished, type: pandas.core.frame.DataFrame, key: ('assign-a84baaa68f10f6f3bdb6a1259bf05da6', 64)>, <Future: finished, type: pandas.core.frame.DataFrame, key: ('assign-a84baaa68f10f6f3bdb6a1259bf05da6', 12)>, <Future: finished, type: pandas.core.frame.DataFrame, key: ('assign-a84baaa68f10f6f3bdb6a1259bf05da6', 183)>, <Future: finished, type: pandas.core.frame.DataFrame, key: ('assign-a84baaa68f10f6f3bdb6a1259bf05da6', 452)>, <Future: finished, type: pandas.core.frame.DataFrame, key: ('assign-a84baaa68f10f6f3bdb6a1259bf05da6', 427)>, <Future: finished, type: pandas.core.frame.DataFrame, key: ('assign-a84baaa68f10f6f3bdb6a1259bf05da6', 194)>, <Future: finished, type: pandas.core.frame.DataFrame, key: ('assign-a84baaa68f10f6f3bdb6a1259bf05da6', 339)>, <Future: finished, type: pandas.core.frame.DataFrame, key: ('assign-a84baaa68f10f6f3bdb6a1259bf05da6', 468)>, <Future: finished, type: pandas.core.frame.DataFrame, key: ('assign-a84baaa68f10f6f3bdb6a1259bf05da6', 357)>, <Future: finished, type: pandas.core.frame.DataFrame, key: ('assign-a84baaa68f10f6f3bdb6a1259bf05da6', 438)>, <Future: finished, type: pandas.core.frame.DataFrame, key: ('assign-a84baaa68f10f6f3bdb6a1259bf05da6', 443)>, <Future: finished, type: pandas.core.frame.DataFrame, key: ('assign-a84baaa68f10f6f3bdb6a1259bf05da6', 476)>, <Future: finished, type: pandas.core.frame.DataFrame, key: ('assign-a84baaa68f10f6f3bdb6a1259bf05da6', 467)>, <Future: finished, type: pandas.core.frame.DataFrame, key: ('assign-a84baaa68f10f6f3bdb6a1259bf05da6', 185)>, <Future: finished, type: pandas.core.frame.DataFrame, key: ('assign-a84baaa68f10f6f3bdb6a1259bf05da6', 330)>, <Future: finished, type: pandas.core.frame.DataFrame, key: ('assign-a84baaa68f10f6f3bdb6a1259bf05da6', 20)>, <Future: finished, type: pandas.core.frame.DataFrame, key: ('assign-a84baaa68f10f6f3bdb6a1259bf05da6', 333)>, <Future: finished, type: pandas.core.frame.DataFrame, key: ('assign-a84baaa68f10f6f3bdb6a1259bf05da6', 458)>, <Future: finished, type: pandas.core.frame.DataFrame, key: ('assign-a84baaa68f10f6f3bdb6a1259bf05da6', 50)>, <Future: finished, type: pandas.core.frame.DataFrame, key: ('assign-a84baaa68f10f6f3bdb6a1259bf05da6', 348)>, <Future: finished, type: pandas.core.frame.DataFrame, key: ('assign-a84baaa68f10f6f3bdb6a1259bf05da6', 207)>, <Future: finished, type: pandas.core.frame.DataFrame, key: ('assign-a84baaa68f10f6f3bdb6a1259bf05da6', 97)>, <Future: finished, type: pandas.core.frame.DataFrame, key: ('assign-a84baaa68f10f6f3bdb6a1259bf05da6', 88)>, <Future: finished, type: pandas.core.frame.DataFrame, key: ('assign-a84baaa68f10f6f3bdb6a1259bf05da6', 169)>, <Future: finished, type: pandas.core.frame.DataFrame, key: ('assign-a84baaa68f10f6f3bdb6a1259bf05da6', 321)>, <Future: finished, type: pandas.core.frame.DataFrame, key: ('assign-a84baaa68f10f6f3bdb6a1259bf05da6', 101)>, <Future: finished, type: pandas.core.frame.DataFrame, key: ('assign-a84baaa68f10f6f3bdb6a1259bf05da6', 310)>, <Future: finished, type: pandas.core.frame.DataFrame, key: ('assign-a84baaa68f10f6f3bdb6a1259bf05da6', 434)>, <Future: finished, type: pandas.core.frame.DataFrame, key: ('assign-a84baaa68f10f6f3bdb6a1259bf05da6', 304)>, <Future: finished, type: pandas.core.frame.DataFrame, key: ('assign-a84baaa68f10f6f3bdb6a1259bf05da6', 163)>, <Future: finished, type: pandas.core.frame.DataFrame, key: ('assign-a84baaa68f10f6f3bdb6a1259bf05da6', 229)>, <Future: finished, type: pandas.core.frame.DataFrame, key: ('assign-a84baaa68f10f6f3bdb6a1259bf05da6', 32)>, <Future: finished, type: pandas.core.frame.DataFrame, key: ('assign-a84baaa68f10f6f3bdb6a1259bf05da6', 75)>, <Future: finished, type: pandas.core.frame.DataFrame, key: ('assign-a84baaa68f10f6f3bdb6a1259bf05da6', 202)>, <Future: finished, type: pandas.core.frame.DataFrame, key: ('assign-a84baaa68f10f6f3bdb6a1259bf05da6', 92)>, <Future: finished, type: pandas.core.frame.DataFrame, key: ('assign-a84baaa68f10f6f3bdb6a1259bf05da6', 497)>, <Future: finished, type: pandas.core.frame.DataFrame, key: ('assign-a84baaa68f10f6f3bdb6a1259bf05da6', 205)>, <Future: finished, type: pandas.core.frame.DataFrame, key: ('assign-a84baaa68f10f6f3bdb6a1259bf05da6', 429)>, <Future: finished, type: pandas.core.frame.DataFrame, key: ('assign-a84baaa68f10f6f3bdb6a1259bf05da6', 220)>, <Future: finished, type: pandas.core.frame.DataFrame, key: ('assign-a84baaa68f10f6f3bdb6a1259bf05da6', 57)>, <Future: finished, type: pandas.core.frame.DataFrame, key: ('assign-a84baaa68f10f6f3bdb6a1259bf05da6', 324)>, <Future: finished, type: pandas.core.frame.DataFrame, key: ('assign-a84baaa68f10f6f3bdb6a1259bf05da6', 319)>, <Future: finished, type: pandas.core.frame.DataFrame, key: ('assign-a84baaa68f10f6f3bdb6a1259bf05da6', 355)>, <Future: finished, type: pandas.core.frame.DataFrame, key: ('assign-a84baaa68f10f6f3bdb6a1259bf05da6', 459)>, <Future: finished, type: pandas.core.frame.DataFrame, key: ('assign-a84baaa68f10f6f3bdb6a1259bf05da6', 79)>, <Future: finished, type: pandas.core.frame.DataFrame, key: ('assign-a84baaa68f10f6f3bdb6a1259bf05da6', 211)>, <Future: finished, type: pandas.core.frame.DataFrame, key: ('assign-a84baaa68f10f6f3bdb6a1259bf05da6', 74)>, <Future: finished, type: pandas.core.frame.DataFrame, key: ('assign-a84baaa68f10f6f3bdb6a1259bf05da6', 41)>, <Future: finished, type: pandas.core.frame.DataFrame, key: ('assign-a84baaa68f10f6f3bdb6a1259bf05da6', 378)>, <Future: finished, type: pandas.core.frame.DataFrame, key: ('assign-a84baaa68f10f6f3bdb6a1259bf05da6', 301)>, <Future: finished, type: pandas.core.frame.DataFrame, key: ('assign-a84baaa68f10f6f3bdb6a1259bf05da6', 483)>, <Future: finished, type: pandas.core.frame.DataFrame, key: ('assign-a84baaa68f10f6f3bdb6a1259bf05da6', 176)>, <Future: finished, type: pandas.core.frame.DataFrame, key: ('assign-a84baaa68f10f6f3bdb6a1259bf05da6', 81)>, <Future: finished, type: pandas.core.frame.DataFrame, key: ('assign-a84baaa68f10f6f3bdb6a1259bf05da6', 83)>, <Future: finished, type: pandas.core.frame.DataFrame, key: ('assign-a84baaa68f10f6f3bdb6a1259bf05da6', 66)>, <Future: finished, type: pandas.core.frame.DataFrame, key: ('assign-a84baaa68f10f6f3bdb6a1259bf05da6', 193)>, <Future: finished, type: pandas.core.frame.DataFrame, key: ('assign-a84baaa68f10f6f3bdb6a1259bf05da6', 331)>, <Future: finished, type: pandas.core.frame.DataFrame, key: ('assign-a84baaa68f10f6f3bdb6a1259bf05da6', 425)>, <Future: finished, type: pandas.core.frame.DataFrame, key: ('assign-a84baaa68f10f6f3bdb6a1259bf05da6', 65)>, <Future: finished, type: pandas.core.frame.DataFrame, key: ('assign-a84baaa68f10f6f3bdb6a1259bf05da6', 196)>, <Future: finished, type: pandas.core.frame.DataFrame, key: ('assign-a84baaa68f10f6f3bdb6a1259bf05da6', 369)>, <Future: finished, type: pandas.core.frame.DataFrame, key: ('assign-a84baaa68f10f6f3bdb6a1259bf05da6', 346)>, <Future: finished, type: pandas.core.frame.DataFrame, key: ('assign-a84baaa68f10f6f3bdb6a1259bf05da6', 420)>, <Future: finished, type: pandas.core.frame.DataFrame, key: ('assign-a84baaa68f10f6f3bdb6a1259bf05da6', 474)>, <Future: finished, type: pandas.core.frame.DataFrame, key: ('assign-a84baaa68f10f6f3bdb6a1259bf05da6', 48)>, <Future: finished, type: pandas.core.frame.DataFrame, key: ('assign-a84baaa68f10f6f3bdb6a1259bf05da6', 315)>, <Future: finished, type: pandas.core.frame.DataFrame, key: ('assign-a84baaa68f10f6f3bdb6a1259bf05da6', 191)>, <Future: finished, type: pandas.core.frame.DataFrame, key: ('assign-a84baaa68f10f6f3bdb6a1259bf05da6', 492)>, <Future: finished, type: pandas.core.frame.DataFrame, key: ('assign-a84baaa68f10f6f3bdb6a1259bf05da6', 450)>, <Future: finished, type: pandas.core.frame.DataFrame, key: ('assign-a84baaa68f10f6f3bdb6a1259bf05da6', 456)>, <Future: finished, type: pandas.core.frame.DataFrame, key: ('assign-a84baaa68f10f6f3bdb6a1259bf05da6', 488)>, <Future: finished, type: pandas.core.frame.DataFrame, key: ('assign-a84baaa68f10f6f3bdb6a1259bf05da6', 465)>, <Future: finished, type: pandas.core.frame.DataFrame, key: ('assign-a84baaa68f10f6f3bdb6a1259bf05da6', 351)>, <Future: finished, type: pandas.core.frame.DataFrame, key: ('assign-a84baaa68f10f6f3bdb6a1259bf05da6', 68)>, <Future: finished, type: pandas.core.frame.DataFrame, key: ('assign-a84baaa68f10f6f3bdb6a1259bf05da6', 340)>, <Future: finished, type: pandas.core.frame.DataFrame, key: ('assign-a84baaa68f10f6f3bdb6a1259bf05da6', 364)>, <Future: finished, type: pandas.core.frame.DataFrame, key: ('assign-a84baaa68f10f6f3bdb6a1259bf05da6', 411)>, <Future: finished, type: pandas.core.frame.DataFrame, key: ('assign-a84baaa68f10f6f3bdb6a1259bf05da6', 167)>, <Future: finished, type: pandas.core.frame.DataFrame, key: ('assign-a84baaa68f10f6f3bdb6a1259bf05da6', 99)>, <Future: finished, type: pandas.core.frame.DataFrame, key: ('assign-a84baaa68f10f6f3bdb6a1259bf05da6', 108)>, <Future: finished, type: pandas.core.frame.DataFrame, key: ('assign-a84baaa68f10f6f3bdb6a1259bf05da6', 203)>, <Future: finished, type: pandas.core.frame.DataFrame, key: ('assign-a84baaa68f10f6f3bdb6a1259bf05da6', 475)>, <Future: finished, type: pandas.core.frame.DataFrame, key: ('assign-a84baaa68f10f6f3bdb6a1259bf05da6', 236)>, <Future: finished, type: pandas.core.frame.DataFrame, key: ('assign-a84baaa68f10f6f3bdb6a1259bf05da6', 187)>, <Future: finished, type: pandas.core.frame.DataFrame, key: ('assign-a84baaa68f10f6f3bdb6a1259bf05da6', 63)>, <Future: finished, type: pandas.core.frame.DataFrame, key: ('assign-a84baaa68f10f6f3bdb6a1259bf05da6', 328)>, <Future: finished, type: pandas.core.frame.DataFrame, key: ('assign-a84baaa68f10f6f3bdb6a1259bf05da6', 218)>, <Future: finished, type: pandas.core.frame.DataFrame, key: ('assign-a84baaa68f10f6f3bdb6a1259bf05da6', 306)>, <Future: finished, type: pandas.core.frame.DataFrame, key: ('assign-a84baaa68f10f6f3bdb6a1259bf05da6', 457)>, <Future: finished, type: pandas.core.frame.DataFrame, key: ('assign-a84baaa68f10f6f3bdb6a1259bf05da6', 182)>, <Future: finished, type: pandas.core.frame.DataFrame, key: ('assign-a84baaa68f10f6f3bdb6a1259bf05da6', 227)>, <Future: finished, type: pandas.core.frame.DataFrame, key: ('assign-a84baaa68f10f6f3bdb6a1259bf05da6', 322)>, <Future: finished, type: pandas.core.frame.DataFrame, key: ('assign-a84baaa68f10f6f3bdb6a1259bf05da6', 209)>, <Future: finished, type: pandas.core.frame.DataFrame, key: ('assign-a84baaa68f10f6f3bdb6a1259bf05da6', 479)>, <Future: finished, type: pandas.core.frame.DataFrame, key: ('assign-a84baaa68f10f6f3bdb6a1259bf05da6', 360)>, <Future: finished, type: pandas.core.frame.DataFrame, key: ('assign-a84baaa68f10f6f3bdb6a1259bf05da6', 59)>, <Future: finished, type: pandas.core.frame.DataFrame, key: ('assign-a84baaa68f10f6f3bdb6a1259bf05da6', 441)>, <Future: finished, type: pandas.core.frame.DataFrame, key: ('assign-a84baaa68f10f6f3bdb6a1259bf05da6', 54)>, <Future: finished, type: pandas.core.frame.DataFrame, key: ('assign-a84baaa68f10f6f3bdb6a1259bf05da6', 337)>, <Future: finished, type: pandas.core.frame.DataFrame, key: ('assign-a84baaa68f10f6f3bdb6a1259bf05da6', 39)>, <Future: finished, type: pandas.core.frame.DataFrame, key: ('assign-a84baaa68f10f6f3bdb6a1259bf05da6', 90)>, <Future: finished, type: pandas.core.frame.DataFrame, key: ('assign-a84baaa68f10f6f3bdb6a1259bf05da6', 250)>, <Future: finished, type: pandas.core.frame.DataFrame, key: ('assign-a84baaa68f10f6f3bdb6a1259bf05da6', 313)>, <Future: finished, type: pandas.core.frame.DataFrame, key: ('assign-a84baaa68f10f6f3bdb6a1259bf05da6', 466)>, <Future: finished, type: pandas.core.frame.DataFrame, key: ('assign-a84baaa68f10f6f3bdb6a1259bf05da6', 499)>, <Future: finished, type: pandas.core.frame.DataFrame, key: ('assign-a84baaa68f10f6f3bdb6a1259bf05da6', 178)>, <Future: finished, type: pandas.core.frame.DataFrame, key: ('assign-a84baaa68f10f6f3bdb6a1259bf05da6', 241)>, <Future: finished, type: pandas.core.frame.DataFrame, key: ('assign-a84baaa68f10f6f3bdb6a1259bf05da6', 173)>, <Future: finished, type: pandas.core.frame.DataFrame, key: ('assign-a84baaa68f10f6f3bdb6a1259bf05da6', 72)>, <Future: finished, type: pandas.core.frame.DataFrame, key: ('assign-a84baaa68f10f6f3bdb6a1259bf05da6', 297)>, <Future: finished, type: pandas.core.frame.DataFrame, key: ('assign-a84baaa68f10f6f3bdb6a1259bf05da6', 338)>, <Future: finished, type: pandas.core.frame.DataFrame, key: ('assign-a84baaa68f10f6f3bdb6a1259bf05da6', 470)>, <Future: finished, type: pandas.core.frame.DataFrame, key: ('assign-a84baaa68f10f6f3bdb6a1259bf05da6', 200)>, <Future: finished, type: pandas.core.frame.DataFrame, key: ('assign-a84baaa68f10f6f3bdb6a1259bf05da6', 292)>, <Future: finished, type: pandas.core.frame.DataFrame, key: ('assign-a84baaa68f10f6f3bdb6a1259bf05da6', 432)>, <Future: finished, type: pandas.core.frame.DataFrame, key: ('assign-a84baaa68f10f6f3bdb6a1259bf05da6', 490)>, <Future: finished, type: pandas.core.frame.DataFrame, key: ('assign-a84baaa68f10f6f3bdb6a1259bf05da6', 481)>, <Future: finished, type: pandas.core.frame.DataFrame, key: ('assign-a84baaa68f10f6f3bdb6a1259bf05da6', 371)>, <Future: finished, type: pandas.core.frame.DataFrame, key: ('assign-a84baaa68f10f6f3bdb6a1259bf05da6', 184)>, <Future: finished, type: pandas.core.frame.DataFrame, key: ('assign-a84baaa68f10f6f3bdb6a1259bf05da6', 226)>, <Future: finished, type: pandas.core.frame.DataFrame, key: ('assign-a84baaa68f10f6f3bdb6a1259bf05da6', 116)>, <Future: finished, type: pandas.core.frame.DataFrame, key: ('assign-a84baaa68f10f6f3bdb6a1259bf05da6', 442)>, <Future: finished, type: pandas.core.frame.DataFrame, key: ('assign-a84baaa68f10f6f3bdb6a1259bf05da6', 40)>, <Future: finished, type: pandas.core.frame.DataFrame, key: ('assign-a84baaa68f10f6f3bdb6a1259bf05da6', 354)>, <Future: finished, type: pandas.core.frame.DataFrame, key: ('assign-a84baaa68f10f6f3bdb6a1259bf05da6', 175)>, <Future: finished, type: pandas.core.frame.DataFrame, key: ('assign-a84baaa68f10f6f3bdb6a1259bf05da6', 270)>, <Future: finished, type: pandas.core.frame.DataFrame, key: ('assign-a84baaa68f10f6f3bdb6a1259bf05da6', 24)>, <Future: finished, type: pandas.core.frame.DataFrame, key: ('assign-a84baaa68f10f6f3bdb6a1259bf05da6', 159)>, <Future: finished, type: pandas.core.frame.DataFrame, key: ('assign-a84baaa68f10f6f3bdb6a1259bf05da6', 235)>, <Future: finished, type: pandas.core.frame.DataFrame, key: ('assign-a84baaa68f10f6f3bdb6a1259bf05da6', 314)>, <Future: finished, type: pandas.core.frame.DataFrame, key: ('assign-a84baaa68f10f6f3bdb6a1259bf05da6', 261)>, <Future: finished, type: pandas.core.frame.DataFrame, key: ('assign-a84baaa68f10f6f3bdb6a1259bf05da6', 294)>, <Future: finished, type: pandas.core.frame.DataFrame, key: ('assign-a84baaa68f10f6f3bdb6a1259bf05da6', 98)>, <Future: finished, type: pandas.core.frame.DataFrame, key: ('assign-a84baaa68f10f6f3bdb6a1259bf05da6', 278)>, <Future: finished, type: pandas.core.frame.DataFrame, key: ('assign-a84baaa68f10f6f3bdb6a1259bf05da6', 413)>, <Future: finished, type: pandas.core.frame.DataFrame, key: ('assign-a84baaa68f10f6f3bdb6a1259bf05da6', 397)>, <Future: finished, type: pandas.core.frame.DataFrame, key: ('assign-a84baaa68f10f6f3bdb6a1259bf05da6', 433)>, <Future: finished, type: pandas.core.frame.DataFrame, key: ('assign-a84baaa68f10f6f3bdb6a1259bf05da6', 141)>, <Future: finished, type: pandas.core.frame.DataFrame, key: ('assign-a84baaa68f10f6f3bdb6a1259bf05da6', 380)>, <Future: finished, type: pandas.core.frame.DataFrame, key: ('assign-a84baaa68f10f6f3bdb6a1259bf05da6', 166)>, <Future: finished, type: pandas.core.frame.DataFrame, key: ('assign-a84baaa68f10f6f3bdb6a1259bf05da6', 15)>, <Future: finished, type: pandas.core.frame.DataFrame, key: ('assign-a84baaa68f10f6f3bdb6a1259bf05da6', 151)>, <Future: finished, type: pandas.core.frame.DataFrame, key: ('assign-a84baaa68f10f6f3bdb6a1259bf05da6', 31)>, <Future: finished, type: pandas.core.frame.DataFrame, key: ('assign-a84baaa68f10f6f3bdb6a1259bf05da6', 107)>, <Future: finished, type: pandas.core.frame.DataFrame, key: ('assign-a84baaa68f10f6f3bdb6a1259bf05da6', 415)>, <Future: finished, type: pandas.core.frame.DataFrame, key: ('assign-a84baaa68f10f6f3bdb6a1259bf05da6', 285)>, <Future: finished, type: pandas.core.frame.DataFrame, key: ('assign-a84baaa68f10f6f3bdb6a1259bf05da6', 150)>, <Future: finished, type: pandas.core.frame.DataFrame, key: ('assign-a84baaa68f10f6f3bdb6a1259bf05da6', 252)>, <Future: finished, type: pandas.core.frame.DataFrame, key: ('assign-a84baaa68f10f6f3bdb6a1259bf05da6', 269)>, <Future: finished, type: pandas.core.frame.DataFrame, key: ('assign-a84baaa68f10f6f3bdb6a1259bf05da6', 56)>, <Future: finished, type: pandas.core.frame.DataFrame, key: ('assign-a84baaa68f10f6f3bdb6a1259bf05da6', 498)>, <Future: finished, type: pandas.core.frame.DataFrame, key: ('assign-a84baaa68f10f6f3bdb6a1259bf05da6', 305)>, <Future: finished, type: pandas.core.frame.DataFrame, key: ('assign-a84baaa68f10f6f3bdb6a1259bf05da6', 23)>, <Future: finished, type: pandas.core.frame.DataFrame, key: ('assign-a84baaa68f10f6f3bdb6a1259bf05da6', 440)>, <Future: finished, type: pandas.core.frame.DataFrame, key: ('assign-a84baaa68f10f6f3bdb6a1259bf05da6', 157)>, <Future: finished, type: pandas.core.frame.DataFrame, key: ('assign-a84baaa68f10f6f3bdb6a1259bf05da6', 424)>, <Future: finished, type: pandas.core.frame.DataFrame, key: ('assign-a84baaa68f10f6f3bdb6a1259bf05da6', 142)>, <Future: finished, type: pandas.core.frame.DataFrame, key: ('assign-a84baaa68f10f6f3bdb6a1259bf05da6', 22)>, <Future: finished, type: pandas.core.frame.DataFrame, key: ('assign-a84baaa68f10f6f3bdb6a1259bf05da6', 388)>, <Future: finished, type: pandas.core.frame.DataFrame, key: ('assign-a84baaa68f10f6f3bdb6a1259bf05da6', 406)>, <Future: finished, type: pandas.core.frame.DataFrame, key: ('assign-a84baaa68f10f6f3bdb6a1259bf05da6', 276)>, <Future: finished, type: pandas.core.frame.DataFrame, key: ('assign-a84baaa68f10f6f3bdb6a1259bf05da6', 124)>, <Future: finished, type: pandas.core.frame.DataFrame, key: ('assign-a84baaa68f10f6f3bdb6a1259bf05da6', 260)>, <Future: finished, type: pandas.core.frame.DataFrame, key: ('assign-a84baaa68f10f6f3bdb6a1259bf05da6', 449)>, <Future: finished, type: pandas.core.frame.DataFrame, key: ('assign-a84baaa68f10f6f3bdb6a1259bf05da6', 47)>, <Future: finished, type: pandas.core.frame.DataFrame, key: ('assign-a84baaa68f10f6f3bdb6a1259bf05da6', 312)>, <Future: finished, type: pandas.core.frame.DataFrame, key: ('assign-a84baaa68f10f6f3bdb6a1259bf05da6', 489)>, <Future: finished, type: pandas.core.frame.DataFrame, key: ('assign-a84baaa68f10f6f3bdb6a1259bf05da6', 177)>, <Future: finished, type: pandas.core.frame.DataFrame, key: ('assign-a84baaa68f10f6f3bdb6a1259bf05da6', 14)>, <Future: finished, type: pandas.core.frame.DataFrame, key: ('assign-a84baaa68f10f6f3bdb6a1259bf05da6', 29)>, <Future: finished, type: pandas.core.frame.DataFrame, key: ('assign-a84baaa68f10f6f3bdb6a1259bf05da6', 296)>, <Future: finished, type: pandas.core.frame.DataFrame, key: ('assign-a84baaa68f10f6f3bdb6a1259bf05da6', 133)>, <Future: finished, type: pandas.core.frame.DataFrame, key: ('assign-a84baaa68f10f6f3bdb6a1259bf05da6', 431)>, <Future: finished, type: pandas.core.frame.DataFrame, key: ('assign-a84baaa68f10f6f3bdb6a1259bf05da6', 49)>, <Future: finished, type: pandas.core.frame.DataFrame, key: ('assign-a84baaa68f10f6f3bdb6a1259bf05da6', 379)>, <Future: finished, type: pandas.core.frame.DataFrame, key: ('assign-a84baaa68f10f6f3bdb6a1259bf05da6', 13)>, <Future: finished, type: pandas.core.frame.DataFrame, key: ('assign-a84baaa68f10f6f3bdb6a1259bf05da6', 148)>, <Future: finished, type: pandas.core.frame.DataFrame, key: ('assign-a84baaa68f10f6f3bdb6a1259bf05da6', 370)>, <Future: finished, type: pandas.core.frame.DataFrame, key: ('assign-a84baaa68f10f6f3bdb6a1259bf05da6', 414)>, <Future: finished, type: pandas.core.frame.DataFrame, key: ('assign-a84baaa68f10f6f3bdb6a1259bf05da6', 38)>, <Future: finished, type: pandas.core.frame.DataFrame, key: ('assign-a84baaa68f10f6f3bdb6a1259bf05da6', 303)>, <Future: finished, type: pandas.core.frame.DataFrame, key: ('assign-a84baaa68f10f6f3bdb6a1259bf05da6', 168)>, <Future: finished, type: pandas.core.frame.DataFrame, key: ('assign-a84baaa68f10f6f3bdb6a1259bf05da6', 423)>, <Future: finished, type: pandas.core.frame.DataFrame, key: ('assign-a84baaa68f10f6f3bdb6a1259bf05da6', 447)>, <Future: finished, type: pandas.core.frame.DataFrame, key: ('assign-a84baaa68f10f6f3bdb6a1259bf05da6', 287)>, <Future: finished, type: pandas.core.frame.DataFrame, key: ('assign-a84baaa68f10f6f3bdb6a1259bf05da6', 5)>, <Future: finished, type: pandas.core.frame.DataFrame, key: ('assign-a84baaa68f10f6f3bdb6a1259bf05da6', 422)>, <Future: finished, type: pandas.core.frame.DataFrame, key: ('assign-a84baaa68f10f6f3bdb6a1259bf05da6', 0)>, <Future: finished, type: pandas.core.frame.DataFrame, key: ('assign-a84baaa68f10f6f3bdb6a1259bf05da6', 119)>, <Future: finished, type: pandas.core.frame.DataFrame, key: ('assign-a84baaa68f10f6f3bdb6a1259bf05da6', 135)>, <Future: finished, type: pandas.core.frame.DataFrame, key: ('assign-a84baaa68f10f6f3bdb6a1259bf05da6', 254)>, <Future: finished, type: pandas.core.frame.DataFrame, key: ('assign-a84baaa68f10f6f3bdb6a1259bf05da6', 400)>, <Future: finished, type: pandas.core.frame.DataFrame, key: ('assign-a84baaa68f10f6f3bdb6a1259bf05da6', 126)>, <Future: finished, type: pandas.core.frame.DataFrame, key: ('assign-a84baaa68f10f6f3bdb6a1259bf05da6', 342)>, <Future: finished, type: pandas.core.frame.DataFrame, key: ('assign-a84baaa68f10f6f3bdb6a1259bf05da6', 409)>, <Future: finished, type: pandas.core.frame.DataFrame, key: ('assign-a84baaa68f10f6f3bdb6a1259bf05da6', 110)>, <Future: finished, type: pandas.core.frame.DataFrame, key: ('assign-a84baaa68f10f6f3bdb6a1259bf05da6', 245)>, <Future: finished, type: pandas.core.frame.DataFrame, key: ('assign-a84baaa68f10f6f3bdb6a1259bf05da6', 113)>, <Future: finished, type: pandas.core.frame.DataFrame, key: ('assign-a84baaa68f10f6f3bdb6a1259bf05da6', 16)>, <Future: finished, type: pandas.core.frame.DataFrame, key: ('assign-a84baaa68f10f6f3bdb6a1259bf05da6', 272)>, <Future: finished, type: pandas.core.frame.DataFrame, key: ('assign-a84baaa68f10f6f3bdb6a1259bf05da6', 77)>, <Future: finished, type: pandas.core.frame.DataFrame, key: ('assign-a84baaa68f10f6f3bdb6a1259bf05da6', 416)>, <Future: finished, type: pandas.core.frame.DataFrame, key: ('assign-a84baaa68f10f6f3bdb6a1259bf05da6', 391)>, <Future: finished, type: pandas.core.frame.DataFrame, key: ('assign-a84baaa68f10f6f3bdb6a1259bf05da6', 281)>, <Future: finished, type: pandas.core.frame.DataFrame, key: ('assign-a84baaa68f10f6f3bdb6a1259bf05da6', 117)>, <Future: finished, type: pandas.core.frame.DataFrame, key: ('assign-a84baaa68f10f6f3bdb6a1259bf05da6', 7)>, <Future: finished, type: pandas.core.frame.DataFrame, key: ('assign-a84baaa68f10f6f3bdb6a1259bf05da6', 223)>, <Future: finished, type: pandas.core.frame.DataFrame, key: ('assign-a84baaa68f10f6f3bdb6a1259bf05da6', 382)>, <Future: finished, type: pandas.core.frame.DataFrame, key: ('assign-a84baaa68f10f6f3bdb6a1259bf05da6', 104)>, <Future: finished, type: pandas.core.frame.DataFrame, key: ('assign-a84baaa68f10f6f3bdb6a1259bf05da6', 295)>, <Future: finished, type: pandas.core.frame.DataFrame, key: ('assign-a84baaa68f10f6f3bdb6a1259bf05da6', 398)>, <Future: finished, type: pandas.core.frame.DataFrame, key: ('assign-a84baaa68f10f6f3bdb6a1259bf05da6', 214)>, <Future: finished, type: pandas.core.frame.DataFrame, key: ('assign-a84baaa68f10f6f3bdb6a1259bf05da6', 501)>, <Future: finished, type: pandas.core.frame.DataFrame, key: ('assign-a84baaa68f10f6f3bdb6a1259bf05da6', 153)>, <Future: finished, type: pandas.core.frame.DataFrame, key: ('assign-a84baaa68f10f6f3bdb6a1259bf05da6', 232)>, <Future: finished, type: pandas.core.frame.DataFrame, key: ('assign-a84baaa68f10f6f3bdb6a1259bf05da6', 288)>, <Future: finished, type: pandas.core.frame.DataFrame, key: ('assign-a84baaa68f10f6f3bdb6a1259bf05da6', 25)>, <Future: finished, type: pandas.core.frame.DataFrame, key: ('assign-a84baaa68f10f6f3bdb6a1259bf05da6', 407)>, <Future: finished, type: pandas.core.frame.DataFrame, key: ('assign-a84baaa68f10f6f3bdb6a1259bf05da6', 389)>, <Future: finished, type: pandas.core.frame.DataFrame, key: ('assign-a84baaa68f10f6f3bdb6a1259bf05da6', 144)>, <Future: finished, type: pandas.core.frame.DataFrame, key: ('assign-a84baaa68f10f6f3bdb6a1259bf05da6', 263)>, <Future: finished, type: pandas.core.frame.DataFrame, key: ('assign-a84baaa68f10f6f3bdb6a1259bf05da6', 160)>, <Future: finished, type: pandas.core.frame.DataFrame, key: ('assign-a84baaa68f10f6f3bdb6a1259bf05da6', 279)>, <Future: finished, type: pandas.core.frame.DataFrame, key: ('assign-a84baaa68f10f6f3bdb6a1259bf05da6', 373)>, <Future: finished, type: pandas.core.frame.DataFrame, key: ('assign-a84baaa68f10f6f3bdb6a1259bf05da6', 86)>, <Future: finished, type: pandas.core.frame.DataFrame, key: ('assign-a84baaa68f10f6f3bdb6a1259bf05da6', 95)>, <Future: finished, type: pandas.core.frame.DataFrame, key: ('assign-a84baaa68f10f6f3bdb6a1259bf05da6', 257)>, <Future: finished, type: pandas.core.frame.DataFrame, key: ('assign-a84baaa68f10f6f3bdb6a1259bf05da6', 298)>, <Future: finished, type: pandas.core.frame.DataFrame, key: ('assign-a84baaa68f10f6f3bdb6a1259bf05da6', 430)>, <Future: finished, type: pandas.core.frame.DataFrame, key: ('assign-a84baaa68f10f6f3bdb6a1259bf05da6', 471)>, <Future: finished, type: pandas.core.frame.DataFrame, key: ('assign-a84baaa68f10f6f3bdb6a1259bf05da6', 265)>, <Future: finished, type: pandas.core.frame.DataFrame, key: ('assign-a84baaa68f10f6f3bdb6a1259bf05da6', 462)>, <Future: finished, type: pandas.core.frame.DataFrame, key: ('assign-a84baaa68f10f6f3bdb6a1259bf05da6', 96)>, <Future: finished, type: pandas.core.frame.DataFrame, key: ('assign-a84baaa68f10f6f3bdb6a1259bf05da6', 417)>, <Future: finished, type: pandas.core.frame.DataFrame, key: ('assign-a84baaa68f10f6f3bdb6a1259bf05da6', 122)>, <Future: finished, type: pandas.core.frame.DataFrame, key: ('assign-a84baaa68f10f6f3bdb6a1259bf05da6', 28)>, <Future: finished, type: pandas.core.frame.DataFrame, key: ('assign-a84baaa68f10f6f3bdb6a1259bf05da6', 343)>, <Future: finished, type: pandas.core.frame.DataFrame, key: ('assign-a84baaa68f10f6f3bdb6a1259bf05da6', 289)>, <Future: finished, type: pandas.core.frame.DataFrame, key: ('assign-a84baaa68f10f6f3bdb6a1259bf05da6', 352)>, <Future: finished, type: pandas.core.frame.DataFrame, key: ('assign-a84baaa68f10f6f3bdb6a1259bf05da6', 224)>, <Future: finished, type: pandas.core.frame.DataFrame, key: ('assign-a84baaa68f10f6f3bdb6a1259bf05da6', 412)>, <Future: finished, type: pandas.core.frame.DataFrame, key: ('assign-a84baaa68f10f6f3bdb6a1259bf05da6', 147)>, <Future: finished, type: pandas.core.frame.DataFrame, key: ('assign-a84baaa68f10f6f3bdb6a1259bf05da6', 206)>, <Future: finished, type: pandas.core.frame.DataFrame, key: ('assign-a84baaa68f10f6f3bdb6a1259bf05da6', 384)>, <Future: finished, type: pandas.core.frame.DataFrame, key: ('assign-a84baaa68f10f6f3bdb6a1259bf05da6', 44)>, <Future: finished, type: pandas.core.frame.DataFrame, key: ('assign-a84baaa68f10f6f3bdb6a1259bf05da6', 215)>, <Future: finished, type: pandas.core.frame.DataFrame, key: ('assign-a84baaa68f10f6f3bdb6a1259bf05da6', 453)>, <Future: finished, type: pandas.core.frame.DataFrame, key: ('assign-a84baaa68f10f6f3bdb6a1259bf05da6', 503)>, <Future: finished, type: pandas.core.frame.DataFrame, key: ('assign-a84baaa68f10f6f3bdb6a1259bf05da6', 197)>, <Future: finished, type: pandas.core.frame.DataFrame, key: ('assign-a84baaa68f10f6f3bdb6a1259bf05da6', 408)>, <Future: finished, type: pandas.core.frame.DataFrame, key: ('assign-a84baaa68f10f6f3bdb6a1259bf05da6', 325)>, <Future: finished, type: pandas.core.frame.DataFrame, key: ('assign-a84baaa68f10f6f3bdb6a1259bf05da6', 421)>, <Future: finished, type: pandas.core.frame.DataFrame, key: ('assign-a84baaa68f10f6f3bdb6a1259bf05da6', 129)>, <Future: finished, type: pandas.core.frame.DataFrame, key: ('assign-a84baaa68f10f6f3bdb6a1259bf05da6', 179)>, <Future: finished, type: pandas.core.frame.DataFrame, key: ('assign-a84baaa68f10f6f3bdb6a1259bf05da6', 256)>, <Future: finished, type: pandas.core.frame.DataFrame, key: ('assign-a84baaa68f10f6f3bdb6a1259bf05da6', 334)>, <Future: finished, type: pandas.core.frame.DataFrame, key: ('assign-a84baaa68f10f6f3bdb6a1259bf05da6', 3)>, <Future: finished, type: pandas.core.frame.DataFrame, key: ('assign-a84baaa68f10f6f3bdb6a1259bf05da6', 19)>, <Future: finished, type: pandas.core.frame.DataFrame, key: ('assign-a84baaa68f10f6f3bdb6a1259bf05da6', 69)>, <Future: finished, type: pandas.core.frame.DataFrame, key: ('assign-a84baaa68f10f6f3bdb6a1259bf05da6', 316)>, <Future: finished, type: pandas.core.frame.DataFrame, key: ('assign-a84baaa68f10f6f3bdb6a1259bf05da6', 138)>, <Future: finished, type: pandas.core.frame.DataFrame, key: ('assign-a84baaa68f10f6f3bdb6a1259bf05da6', 399)>, <Future: finished, type: pandas.core.frame.DataFrame, key: ('assign-a84baaa68f10f6f3bdb6a1259bf05da6', 444)>, <Future: finished, type: pandas.core.frame.DataFrame, key: ('assign-a84baaa68f10f6f3bdb6a1259bf05da6', 284)>, <Future: finished, type: pandas.core.frame.DataFrame, key: ('assign-a84baaa68f10f6f3bdb6a1259bf05da6', 375)>, <Future: finished, type: pandas.core.frame.DataFrame, key: ('assign-a84baaa68f10f6f3bdb6a1259bf05da6', 472)>, <Future: finished, type: pandas.core.frame.DataFrame, key: ('assign-a84baaa68f10f6f3bdb6a1259bf05da6', 478)>, <Future: finished, type: pandas.core.frame.DataFrame, key: ('assign-a84baaa68f10f6f3bdb6a1259bf05da6', 188)>, <Future: finished, type: pandas.core.frame.DataFrame, key: ('assign-a84baaa68f10f6f3bdb6a1259bf05da6', 1)>, <Future: finished, type: pandas.core.frame.DataFrame, key: ('assign-a84baaa68f10f6f3bdb6a1259bf05da6', 87)>, <Future: finished, type: pandas.core.frame.DataFrame, key: ('assign-a84baaa68f10f6f3bdb6a1259bf05da6', 146)>, <Future: finished, type: pandas.core.frame.DataFrame, key: ('assign-a84baaa68f10f6f3bdb6a1259bf05da6', 51)>, <Future: finished, type: pandas.core.frame.DataFrame, key: ('assign-a84baaa68f10f6f3bdb6a1259bf05da6', 350)>, <Future: finished, type: pandas.core.frame.DataFrame, key: ('assign-a84baaa68f10f6f3bdb6a1259bf05da6', 60)>, <Future: finished, type: pandas.core.frame.DataFrame, key: ('assign-a84baaa68f10f6f3bdb6a1259bf05da6', 403)>, <Future: finished, type: pandas.core.frame.DataFrame, key: ('assign-a84baaa68f10f6f3bdb6a1259bf05da6', 78)>, <Future: finished, type: pandas.core.frame.DataFrame, key: ('assign-a84baaa68f10f6f3bdb6a1259bf05da6', 170)>, <Future: finished, type: pandas.core.frame.DataFrame, key: ('assign-a84baaa68f10f6f3bdb6a1259bf05da6', 366)>, <Future: finished, type: pandas.core.frame.DataFrame, key: ('assign-a84baaa68f10f6f3bdb6a1259bf05da6', 293)>, <Future: finished, type: pandas.core.frame.DataFrame, key: ('assign-a84baaa68f10f6f3bdb6a1259bf05da6', 222)>, <Future: finished, type: pandas.core.frame.DataFrame, key: ('assign-a84baaa68f10f6f3bdb6a1259bf05da6', 428)>, <Future: finished, type: pandas.core.frame.DataFrame, key: ('assign-a84baaa68f10f6f3bdb6a1259bf05da6', 469)>, <Future: finished, type: pandas.core.frame.DataFrame, key: ('assign-a84baaa68f10f6f3bdb6a1259bf05da6', 10)>, <Future: finished, type: pandas.core.frame.DataFrame, key: ('assign-a84baaa68f10f6f3bdb6a1259bf05da6', 42)>, <Future: finished, type: pandas.core.frame.DataFrame, key: ('assign-a84baaa68f10f6f3bdb6a1259bf05da6', 487)>, <Future: finished, type: pandas.core.frame.DataFrame, key: ('assign-a84baaa68f10f6f3bdb6a1259bf05da6', 275)>, <Future: finished, type: pandas.core.frame.DataFrame, key: ('assign-a84baaa68f10f6f3bdb6a1259bf05da6', 18)>, <Future: finished, type: pandas.core.frame.DataFrame, key: ('assign-a84baaa68f10f6f3bdb6a1259bf05da6', 213)>, <Future: finished, type: pandas.core.frame.DataFrame, key: ('assign-a84baaa68f10f6f3bdb6a1259bf05da6', 115)>, <Future: finished, type: pandas.core.frame.DataFrame, key: ('assign-a84baaa68f10f6f3bdb6a1259bf05da6', 341)>, <Future: finished, type: pandas.core.frame.DataFrame, key: ('assign-a84baaa68f10f6f3bdb6a1259bf05da6', 137)>, <Future: finished, type: pandas.core.frame.DataFrame, key: ('assign-a84baaa68f10f6f3bdb6a1259bf05da6', 359)>, <Future: finished, type: pandas.core.frame.DataFrame, key: ('assign-a84baaa68f10f6f3bdb6a1259bf05da6', 410)>, <Future: finished, type: pandas.core.frame.DataFrame, key: ('assign-a84baaa68f10f6f3bdb6a1259bf05da6', 161)>, <Future: finished, type: pandas.core.frame.DataFrame, key: ('assign-a84baaa68f10f6f3bdb6a1259bf05da6', 204)>, <Future: finished, type: pandas.core.frame.DataFrame, key: ('assign-a84baaa68f10f6f3bdb6a1259bf05da6', 332)>, <Future: finished, type: pandas.core.frame.DataFrame, key: ('assign-a84baaa68f10f6f3bdb6a1259bf05da6', 394)>, <Future: finished, type: pandas.core.frame.DataFrame, key: ('assign-a84baaa68f10f6f3bdb6a1259bf05da6', 234)>, <Future: finished, type: pandas.core.frame.DataFrame, key: ('assign-a84baaa68f10f6f3bdb6a1259bf05da6', 9)>, <Future: finished, type: pandas.core.frame.DataFrame, key: ('assign-a84baaa68f10f6f3bdb6a1259bf05da6', 280)>, <Future: finished, type: pandas.core.frame.DataFrame, key: ('assign-a84baaa68f10f6f3bdb6a1259bf05da6', 460)>, <Future: finished, type: pandas.core.frame.DataFrame, key: ('assign-a84baaa68f10f6f3bdb6a1259bf05da6', 165)>, <Future: finished, type: pandas.core.frame.DataFrame, key: ('assign-a84baaa68f10f6f3bdb6a1259bf05da6', 300)>, <Future: finished, type: pandas.core.frame.DataFrame, key: ('assign-a84baaa68f10f6f3bdb6a1259bf05da6', 353)>, <Future: finished, type: pandas.core.frame.DataFrame, key: ('assign-a84baaa68f10f6f3bdb6a1259bf05da6', 485)>, <Future: finished, type: pandas.core.frame.DataFrame, key: ('assign-a84baaa68f10f6f3bdb6a1259bf05da6', 258)>, <Future: finished, type: pandas.core.frame.DataFrame, key: ('assign-a84baaa68f10f6f3bdb6a1259bf05da6', 323)>, <Future: finished, type: pandas.core.frame.DataFrame, key: ('assign-a84baaa68f10f6f3bdb6a1259bf05da6', 33)>, <Future: finished, type: pandas.core.frame.DataFrame, key: ('assign-a84baaa68f10f6f3bdb6a1259bf05da6', 419)>, <Future: finished, type: pandas.core.frame.DataFrame, key: ('assign-a84baaa68f10f6f3bdb6a1259bf05da6', 451)>, <Future: finished, type: pandas.core.frame.DataFrame, key: ('assign-a84baaa68f10f6f3bdb6a1259bf05da6', 266)>, <Future: finished, type: pandas.core.frame.DataFrame, key: ('assign-a84baaa68f10f6f3bdb6a1259bf05da6', 128)>, <Future: finished, type: pandas.core.frame.DataFrame, key: ('assign-a84baaa68f10f6f3bdb6a1259bf05da6', 225)>, <Future: finished, type: pandas.core.frame.DataFrame, key: ('assign-a84baaa68f10f6f3bdb6a1259bf05da6', 94)>, <Future: finished, type: pandas.core.frame.DataFrame, key: ('assign-a84baaa68f10f6f3bdb6a1259bf05da6', 247)>, <Future: finished, type: pandas.core.frame.DataFrame, key: ('assign-a84baaa68f10f6f3bdb6a1259bf05da6', 401)>, <Future: finished, type: pandas.core.frame.DataFrame, key: ('assign-a84baaa68f10f6f3bdb6a1259bf05da6', 152)>, <Future: finished, type: pandas.core.frame.DataFrame, key: ('assign-a84baaa68f10f6f3bdb6a1259bf05da6', 37)>, <Future: finished, type: pandas.core.frame.DataFrame, key: ('assign-a84baaa68f10f6f3bdb6a1259bf05da6', 195)>, <Future: finished, type: pandas.core.frame.DataFrame, key: ('assign-a84baaa68f10f6f3bdb6a1259bf05da6', 344)>, <Future: finished, type: pandas.core.frame.DataFrame, key: ('assign-a84baaa68f10f6f3bdb6a1259bf05da6', 58)>, <Future: finished, type: pandas.core.frame.DataFrame, key: ('assign-a84baaa68f10f6f3bdb6a1259bf05da6', 271)>, <Future: finished, type: pandas.core.frame.DataFrame, key: ('assign-a84baaa68f10f6f3bdb6a1259bf05da6', 156)>, <Future: finished, type: pandas.core.frame.DataFrame, key: ('assign-a84baaa68f10f6f3bdb6a1259bf05da6', 85)>, <Future: finished, type: pandas.core.frame.DataFrame, key: ('assign-a84baaa68f10f6f3bdb6a1259bf05da6', 172)>, <Future: finished, type: pandas.core.frame.DataFrame, key: ('assign-a84baaa68f10f6f3bdb6a1259bf05da6', 463)>, <Future: finished, type: pandas.core.frame.DataFrame, key: ('assign-a84baaa68f10f6f3bdb6a1259bf05da6', 238)>, <Future: finished, type: pandas.core.frame.DataFrame, key: ('assign-a84baaa68f10f6f3bdb6a1259bf05da6', 76)>, <Future: finished, type: pandas.core.frame.DataFrame, key: ('assign-a84baaa68f10f6f3bdb6a1259bf05da6', 67)>, <Future: finished, type: pandas.core.frame.DataFrame, key: ('assign-a84baaa68f10f6f3bdb6a1259bf05da6', 143)>, <Future: finished, type: pandas.core.frame.DataFrame, key: ('assign-a84baaa68f10f6f3bdb6a1259bf05da6', 186)>, <Future: finished, type: pandas.core.frame.DataFrame, key: ('assign-a84baaa68f10f6f3bdb6a1259bf05da6', 291)>, <Future: finished, type: pandas.core.frame.DataFrame, key: ('assign-a84baaa68f10f6f3bdb6a1259bf05da6', 494)>, <Future: finished, type: pandas.core.frame.DataFrame, key: ('assign-a84baaa68f10f6f3bdb6a1259bf05da6', 106)>, <Future: finished, type: pandas.core.frame.DataFrame, key: ('assign-a84baaa68f10f6f3bdb6a1259bf05da6', 239)>, <Future: finished, type: pandas.core.frame.DataFrame, key: ('assign-a84baaa68f10f6f3bdb6a1259bf05da6', 368)>, <Future: finished, type: pandas.core.frame.DataFrame, key: ('assign-a84baaa68f10f6f3bdb6a1259bf05da6', 358)>, <Future: finished, type: pandas.core.frame.DataFrame, key: ('assign-a84baaa68f10f6f3bdb6a1259bf05da6', 139)>, <Future: finished, type: pandas.core.frame.DataFrame, key: ('assign-a84baaa68f10f6f3bdb6a1259bf05da6', 11)>, <Future: finished, type: pandas.core.frame.DataFrame, key: ('assign-a84baaa68f10f6f3bdb6a1259bf05da6', 230)>, <Future: finished, type: pandas.core.frame.DataFrame, key: ('assign-a84baaa68f10f6f3bdb6a1259bf05da6', 349)>, <Future: finished, type: pandas.core.frame.DataFrame, key: ('assign-a84baaa68f10f6f3bdb6a1259bf05da6', 130)>, <Future: finished, type: pandas.core.frame.DataFrame, key: ('assign-a84baaa68f10f6f3bdb6a1259bf05da6', 249)>, <Future: finished, type: pandas.core.frame.DataFrame, key: ('assign-a84baaa68f10f6f3bdb6a1259bf05da6', 120)>, <Future: finished, type: pandas.core.frame.DataFrame, key: ('assign-a84baaa68f10f6f3bdb6a1259bf05da6', 2)>, <Future: finished, type: pandas.core.frame.DataFrame, key: ('assign-a84baaa68f10f6f3bdb6a1259bf05da6', 102)>, <Future: finished, type: pandas.core.frame.DataFrame, key: ('assign-a84baaa68f10f6f3bdb6a1259bf05da6', 221)>, <Future: finished, type: pandas.core.frame.DataFrame, key: ('assign-a84baaa68f10f6f3bdb6a1259bf05da6', 121)>, <Future: finished, type: pandas.core.frame.DataFrame, key: ('assign-a84baaa68f10f6f3bdb6a1259bf05da6', 240)>, <Future: finished, type: pandas.core.frame.DataFrame, key: ('assign-a84baaa68f10f6f3bdb6a1259bf05da6', 111)>, <Future: finished, type: pandas.core.frame.DataFrame, key: ('assign-a84baaa68f10f6f3bdb6a1259bf05da6', 103)>, <Future: finished, type: pandas.core.frame.DataFrame, key: ('assign-a84baaa68f10f6f3bdb6a1259bf05da6', 84)>, <Future: finished, type: pandas.core.frame.DataFrame, key: ('assign-a84baaa68f10f6f3bdb6a1259bf05da6', 93)>, <Future: finished, type: pandas.core.frame.DataFrame, key: ('assign-a84baaa68f10f6f3bdb6a1259bf05da6', 112)>, <Future: finished, type: pandas.core.frame.DataFrame, key: ('assign-a84baaa68f10f6f3bdb6a1259bf05da6', 231)>, <Future: finished, type: pandas.core.frame.DataFrame, key: ('assign-a84baaa68f10f6f3bdb6a1259bf05da6', 212)>, <Future: finished, type: pandas.core.frame.DataFrame, key: ('assign-a84baaa68f10f6f3bdb6a1259bf05da6', 274)>, <Future: finished, type: pandas.core.frame.DataFrame, key: ('assign-a84baaa68f10f6f3bdb6a1259bf05da6', 493)>, <Future: finished, type: pandas.core.frame.DataFrame, key: ('assign-a84baaa68f10f6f3bdb6a1259bf05da6', 383)>, <Future: finished, type: pandas.core.frame.DataFrame, key: ('assign-a84baaa68f10f6f3bdb6a1259bf05da6', 502)>, <Future: finished, type: pandas.core.frame.DataFrame, key: ('assign-a84baaa68f10f6f3bdb6a1259bf05da6', 393)>, <Future: finished, type: pandas.core.frame.DataFrame, key: ('assign-a84baaa68f10f6f3bdb6a1259bf05da6', 402)>, <Future: finished, type: pandas.core.frame.DataFrame, key: ('assign-a84baaa68f10f6f3bdb6a1259bf05da6', 374)>}, not_done=set())"
      ]
     },
     "execution_count": 29,
     "metadata": {},
     "output_type": "execute_result"
    }
   ],
   "source": [
    "wait(io_ddf)"
   ]
  },
  {
   "cell_type": "code",
   "execution_count": 30,
   "metadata": {},
   "outputs": [],
   "source": [
    "all_filenames = io_ddf[io_ddf['filename'].str.contains('/p/gpfs1')]['filename'].unique().compute()"
   ]
  },
  {
   "cell_type": "code",
   "execution_count": 31,
   "metadata": {},
   "outputs": [
    {
     "data": {
      "text/plain": [
       "644773"
      ]
     },
     "execution_count": 31,
     "metadata": {},
     "output_type": "execute_result"
    }
   ],
   "source": [
    "len(all_filenames)"
   ]
  },
  {
   "cell_type": "code",
   "execution_count": 32,
   "metadata": {},
   "outputs": [],
   "source": [
    "relevant_filenames = all_filenames.to_numpy()"
   ]
  },
  {
   "cell_type": "code",
   "execution_count": 33,
   "metadata": {},
   "outputs": [],
   "source": [
    "file_df = io_ddf[io_ddf['filename'].isin(relevant_filenames)][['rank','filename', 'func_id','size', 'tstart', 'tend']].compute()"
   ]
  },
  {
   "cell_type": "code",
   "execution_count": 34,
   "metadata": {},
   "outputs": [],
   "source": [
    "correct_dur = ((file_df['tend'] - file_df['tstart']) > 0)\n",
    "file_df['bandwidth'] = -100\n",
    "file_df['bandwidth'] = file_df['bandwidth'].mask(correct_dur, file_df['size']*1.0/(file_df['tend'] - file_df['tstart'])/1024.0/1024.0)"
   ]
  },
  {
   "cell_type": "code",
   "execution_count": 35,
   "metadata": {},
   "outputs": [
    {
     "data": {
      "text/html": [
       "<div>\n",
       "<style scoped>\n",
       "    .dataframe tbody tr th:only-of-type {\n",
       "        vertical-align: middle;\n",
       "    }\n",
       "\n",
       "    .dataframe tbody tr th {\n",
       "        vertical-align: top;\n",
       "    }\n",
       "\n",
       "    .dataframe thead th {\n",
       "        text-align: right;\n",
       "    }\n",
       "</style>\n",
       "<table border=\"1\" class=\"dataframe\">\n",
       "  <thead>\n",
       "    <tr style=\"text-align: right;\">\n",
       "      <th></th>\n",
       "      <th>rank</th>\n",
       "      <th>filename</th>\n",
       "      <th>func_id</th>\n",
       "      <th>size</th>\n",
       "      <th>tstart</th>\n",
       "      <th>tend</th>\n",
       "      <th>bandwidth</th>\n",
       "    </tr>\n",
       "  </thead>\n",
       "  <tbody>\n",
       "    <tr>\n",
       "      <th>711</th>\n",
       "      <td>0</td>\n",
       "      <td>/p/gpfs1/haridev/software/lbann/applications/p...</td>\n",
       "      <td>open64</td>\n",
       "      <td>0</td>\n",
       "      <td>18.678453</td>\n",
       "      <td>18.679020</td>\n",
       "      <td>0.000000</td>\n",
       "    </tr>\n",
       "    <tr>\n",
       "      <th>844</th>\n",
       "      <td>0</td>\n",
       "      <td>/p/gpfs1/haridev/software/lbann/applications/p...</td>\n",
       "      <td>read</td>\n",
       "      <td>8192</td>\n",
       "      <td>18.814419</td>\n",
       "      <td>18.817913</td>\n",
       "      <td>2.235808</td>\n",
       "    </tr>\n",
       "    <tr>\n",
       "      <th>13312</th>\n",
       "      <td>0</td>\n",
       "      <td>/p/gpfs1/haridev/software/lbann/applications/p...</td>\n",
       "      <td>read</td>\n",
       "      <td>8192</td>\n",
       "      <td>35.612858</td>\n",
       "      <td>35.612926</td>\n",
       "      <td>113.777778</td>\n",
       "    </tr>\n",
       "    <tr>\n",
       "      <th>21344</th>\n",
       "      <td>0</td>\n",
       "      <td>/p/gpfs1/haridev/software/lbann/applications/p...</td>\n",
       "      <td>read</td>\n",
       "      <td>8192</td>\n",
       "      <td>50.504070</td>\n",
       "      <td>50.504166</td>\n",
       "      <td>81.920000</td>\n",
       "    </tr>\n",
       "    <tr>\n",
       "      <th>21346</th>\n",
       "      <td>0</td>\n",
       "      <td>/p/gpfs1/haridev/software/lbann/applications/p...</td>\n",
       "      <td>close</td>\n",
       "      <td>0</td>\n",
       "      <td>50.504601</td>\n",
       "      <td>50.504627</td>\n",
       "      <td>0.000000</td>\n",
       "    </tr>\n",
       "    <tr>\n",
       "      <th>...</th>\n",
       "      <td>...</td>\n",
       "      <td>...</td>\n",
       "      <td>...</td>\n",
       "      <td>...</td>\n",
       "      <td>...</td>\n",
       "      <td>...</td>\n",
       "      <td>...</td>\n",
       "    </tr>\n",
       "    <tr>\n",
       "      <th>7991540</th>\n",
       "      <td>127</td>\n",
       "      <td>/p/gpfs1/brainusr/datasets/cosmoflow/cosmoUniv...</td>\n",
       "      <td>pread</td>\n",
       "      <td>2097152</td>\n",
       "      <td>6446.874512</td>\n",
       "      <td>6446.875000</td>\n",
       "      <td>4096.000000</td>\n",
       "    </tr>\n",
       "    <tr>\n",
       "      <th>7991542</th>\n",
       "      <td>127</td>\n",
       "      <td>/p/gpfs1/brainusr/datasets/cosmoflow/cosmoUniv...</td>\n",
       "      <td>pread</td>\n",
       "      <td>2097152</td>\n",
       "      <td>6446.875000</td>\n",
       "      <td>6446.875488</td>\n",
       "      <td>4096.000000</td>\n",
       "    </tr>\n",
       "    <tr>\n",
       "      <th>7991546</th>\n",
       "      <td>127</td>\n",
       "      <td>/p/gpfs1/brainusr/datasets/cosmoflow/cosmoUniv...</td>\n",
       "      <td>pread</td>\n",
       "      <td>512</td>\n",
       "      <td>6446.875488</td>\n",
       "      <td>6446.875488</td>\n",
       "      <td>-100.000000</td>\n",
       "    </tr>\n",
       "    <tr>\n",
       "      <th>7991549</th>\n",
       "      <td>127</td>\n",
       "      <td>/p/gpfs1/brainusr/datasets/cosmoflow/cosmoUniv...</td>\n",
       "      <td>pread</td>\n",
       "      <td>16</td>\n",
       "      <td>6446.875488</td>\n",
       "      <td>6446.875488</td>\n",
       "      <td>-100.000000</td>\n",
       "    </tr>\n",
       "    <tr>\n",
       "      <th>7991553</th>\n",
       "      <td>127</td>\n",
       "      <td>/p/gpfs1/brainusr/datasets/cosmoflow/cosmoUniv...</td>\n",
       "      <td>close</td>\n",
       "      <td>0</td>\n",
       "      <td>6446.875977</td>\n",
       "      <td>6446.875977</td>\n",
       "      <td>-100.000000</td>\n",
       "    </tr>\n",
       "  </tbody>\n",
       "</table>\n",
       "<p>73056804 rows × 7 columns</p>\n",
       "</div>"
      ],
      "text/plain": [
       "         rank                                           filename func_id  \\\n",
       "711         0  /p/gpfs1/haridev/software/lbann/applications/p...  open64   \n",
       "844         0  /p/gpfs1/haridev/software/lbann/applications/p...    read   \n",
       "13312       0  /p/gpfs1/haridev/software/lbann/applications/p...    read   \n",
       "21344       0  /p/gpfs1/haridev/software/lbann/applications/p...    read   \n",
       "21346       0  /p/gpfs1/haridev/software/lbann/applications/p...   close   \n",
       "...       ...                                                ...     ...   \n",
       "7991540   127  /p/gpfs1/brainusr/datasets/cosmoflow/cosmoUniv...   pread   \n",
       "7991542   127  /p/gpfs1/brainusr/datasets/cosmoflow/cosmoUniv...   pread   \n",
       "7991546   127  /p/gpfs1/brainusr/datasets/cosmoflow/cosmoUniv...   pread   \n",
       "7991549   127  /p/gpfs1/brainusr/datasets/cosmoflow/cosmoUniv...   pread   \n",
       "7991553   127  /p/gpfs1/brainusr/datasets/cosmoflow/cosmoUniv...   close   \n",
       "\n",
       "            size       tstart         tend    bandwidth  \n",
       "711            0    18.678453    18.679020     0.000000  \n",
       "844         8192    18.814419    18.817913     2.235808  \n",
       "13312       8192    35.612858    35.612926   113.777778  \n",
       "21344       8192    50.504070    50.504166    81.920000  \n",
       "21346          0    50.504601    50.504627     0.000000  \n",
       "...          ...          ...          ...          ...  \n",
       "7991540  2097152  6446.874512  6446.875000  4096.000000  \n",
       "7991542  2097152  6446.875000  6446.875488  4096.000000  \n",
       "7991546      512  6446.875488  6446.875488  -100.000000  \n",
       "7991549       16  6446.875488  6446.875488  -100.000000  \n",
       "7991553        0  6446.875977  6446.875977  -100.000000  \n",
       "\n",
       "[73056804 rows x 7 columns]"
      ]
     },
     "execution_count": 35,
     "metadata": {},
     "output_type": "execute_result"
    }
   ],
   "source": [
    "file_df"
   ]
  },
  {
   "cell_type": "code",
   "execution_count": 36,
   "metadata": {},
   "outputs": [
    {
     "data": {
      "text/html": [
       "<div>\n",
       "<style scoped>\n",
       "    .dataframe tbody tr th:only-of-type {\n",
       "        vertical-align: middle;\n",
       "    }\n",
       "\n",
       "    .dataframe tbody tr th {\n",
       "        vertical-align: top;\n",
       "    }\n",
       "\n",
       "    .dataframe thead th {\n",
       "        text-align: right;\n",
       "    }\n",
       "</style>\n",
       "<table border=\"1\" class=\"dataframe\">\n",
       "  <thead>\n",
       "    <tr style=\"text-align: right;\">\n",
       "      <th></th>\n",
       "      <th>rank</th>\n",
       "      <th>filename</th>\n",
       "      <th>func_id</th>\n",
       "      <th>size</th>\n",
       "      <th>tstart</th>\n",
       "      <th>tend</th>\n",
       "      <th>bandwidth</th>\n",
       "    </tr>\n",
       "  </thead>\n",
       "  <tbody>\n",
       "    <tr>\n",
       "      <th>844</th>\n",
       "      <td>0</td>\n",
       "      <td>/p/gpfs1/haridev/software/lbann/applications/p...</td>\n",
       "      <td>read</td>\n",
       "      <td>8192</td>\n",
       "      <td>18.814419</td>\n",
       "      <td>18.817913</td>\n",
       "      <td>2.235808</td>\n",
       "    </tr>\n",
       "    <tr>\n",
       "      <th>13312</th>\n",
       "      <td>0</td>\n",
       "      <td>/p/gpfs1/haridev/software/lbann/applications/p...</td>\n",
       "      <td>read</td>\n",
       "      <td>8192</td>\n",
       "      <td>35.612858</td>\n",
       "      <td>35.612926</td>\n",
       "      <td>113.777778</td>\n",
       "    </tr>\n",
       "    <tr>\n",
       "      <th>21344</th>\n",
       "      <td>0</td>\n",
       "      <td>/p/gpfs1/haridev/software/lbann/applications/p...</td>\n",
       "      <td>read</td>\n",
       "      <td>8192</td>\n",
       "      <td>50.504070</td>\n",
       "      <td>50.504166</td>\n",
       "      <td>81.920000</td>\n",
       "    </tr>\n",
       "    <tr>\n",
       "      <th>24291</th>\n",
       "      <td>0</td>\n",
       "      <td>/p/gpfs1/brainusr/datasets/cosmoflow/cosmoUniv...</td>\n",
       "      <td>pread64</td>\n",
       "      <td>8</td>\n",
       "      <td>1001.773621</td>\n",
       "      <td>1001.793457</td>\n",
       "      <td>0.000385</td>\n",
       "    </tr>\n",
       "    <tr>\n",
       "      <th>24292</th>\n",
       "      <td>0</td>\n",
       "      <td>/p/gpfs1/brainusr/datasets/cosmoflow/cosmoUniv...</td>\n",
       "      <td>pread64</td>\n",
       "      <td>16</td>\n",
       "      <td>1001.793457</td>\n",
       "      <td>1001.793518</td>\n",
       "      <td>0.250000</td>\n",
       "    </tr>\n",
       "    <tr>\n",
       "      <th>...</th>\n",
       "      <td>...</td>\n",
       "      <td>...</td>\n",
       "      <td>...</td>\n",
       "      <td>...</td>\n",
       "      <td>...</td>\n",
       "      <td>...</td>\n",
       "      <td>...</td>\n",
       "    </tr>\n",
       "    <tr>\n",
       "      <th>7991538</th>\n",
       "      <td>127</td>\n",
       "      <td>/p/gpfs1/brainusr/datasets/cosmoflow/cosmoUniv...</td>\n",
       "      <td>pread</td>\n",
       "      <td>2097152</td>\n",
       "      <td>6446.874512</td>\n",
       "      <td>6446.874512</td>\n",
       "      <td>-100.000000</td>\n",
       "    </tr>\n",
       "    <tr>\n",
       "      <th>7991540</th>\n",
       "      <td>127</td>\n",
       "      <td>/p/gpfs1/brainusr/datasets/cosmoflow/cosmoUniv...</td>\n",
       "      <td>pread</td>\n",
       "      <td>2097152</td>\n",
       "      <td>6446.874512</td>\n",
       "      <td>6446.875000</td>\n",
       "      <td>4096.000000</td>\n",
       "    </tr>\n",
       "    <tr>\n",
       "      <th>7991542</th>\n",
       "      <td>127</td>\n",
       "      <td>/p/gpfs1/brainusr/datasets/cosmoflow/cosmoUniv...</td>\n",
       "      <td>pread</td>\n",
       "      <td>2097152</td>\n",
       "      <td>6446.875000</td>\n",
       "      <td>6446.875488</td>\n",
       "      <td>4096.000000</td>\n",
       "    </tr>\n",
       "    <tr>\n",
       "      <th>7991546</th>\n",
       "      <td>127</td>\n",
       "      <td>/p/gpfs1/brainusr/datasets/cosmoflow/cosmoUniv...</td>\n",
       "      <td>pread</td>\n",
       "      <td>512</td>\n",
       "      <td>6446.875488</td>\n",
       "      <td>6446.875488</td>\n",
       "      <td>-100.000000</td>\n",
       "    </tr>\n",
       "    <tr>\n",
       "      <th>7991549</th>\n",
       "      <td>127</td>\n",
       "      <td>/p/gpfs1/brainusr/datasets/cosmoflow/cosmoUniv...</td>\n",
       "      <td>pread</td>\n",
       "      <td>16</td>\n",
       "      <td>6446.875488</td>\n",
       "      <td>6446.875488</td>\n",
       "      <td>-100.000000</td>\n",
       "    </tr>\n",
       "  </tbody>\n",
       "</table>\n",
       "<p>53572224 rows × 7 columns</p>\n",
       "</div>"
      ],
      "text/plain": [
       "         rank                                           filename  func_id  \\\n",
       "844         0  /p/gpfs1/haridev/software/lbann/applications/p...     read   \n",
       "13312       0  /p/gpfs1/haridev/software/lbann/applications/p...     read   \n",
       "21344       0  /p/gpfs1/haridev/software/lbann/applications/p...     read   \n",
       "24291       0  /p/gpfs1/brainusr/datasets/cosmoflow/cosmoUniv...  pread64   \n",
       "24292       0  /p/gpfs1/brainusr/datasets/cosmoflow/cosmoUniv...  pread64   \n",
       "...       ...                                                ...      ...   \n",
       "7991538   127  /p/gpfs1/brainusr/datasets/cosmoflow/cosmoUniv...    pread   \n",
       "7991540   127  /p/gpfs1/brainusr/datasets/cosmoflow/cosmoUniv...    pread   \n",
       "7991542   127  /p/gpfs1/brainusr/datasets/cosmoflow/cosmoUniv...    pread   \n",
       "7991546   127  /p/gpfs1/brainusr/datasets/cosmoflow/cosmoUniv...    pread   \n",
       "7991549   127  /p/gpfs1/brainusr/datasets/cosmoflow/cosmoUniv...    pread   \n",
       "\n",
       "            size       tstart         tend    bandwidth  \n",
       "844         8192    18.814419    18.817913     2.235808  \n",
       "13312       8192    35.612858    35.612926   113.777778  \n",
       "21344       8192    50.504070    50.504166    81.920000  \n",
       "24291          8  1001.773621  1001.793457     0.000385  \n",
       "24292         16  1001.793457  1001.793518     0.250000  \n",
       "...          ...          ...          ...          ...  \n",
       "7991538  2097152  6446.874512  6446.874512  -100.000000  \n",
       "7991540  2097152  6446.874512  6446.875000  4096.000000  \n",
       "7991542  2097152  6446.875000  6446.875488  4096.000000  \n",
       "7991546      512  6446.875488  6446.875488  -100.000000  \n",
       "7991549       16  6446.875488  6446.875488  -100.000000  \n",
       "\n",
       "[53572224 rows x 7 columns]"
      ]
     },
     "execution_count": 36,
     "metadata": {},
     "output_type": "execute_result"
    }
   ],
   "source": [
    "file_df[file_df['func_id'].str.contains('read')]"
   ]
  },
  {
   "cell_type": "code",
   "execution_count": 41,
   "metadata": {},
   "outputs": [
    {
     "data": {
      "text/html": [
       "<div>\n",
       "<style scoped>\n",
       "    .dataframe tbody tr th:only-of-type {\n",
       "        vertical-align: middle;\n",
       "    }\n",
       "\n",
       "    .dataframe tbody tr th {\n",
       "        vertical-align: top;\n",
       "    }\n",
       "\n",
       "    .dataframe thead th {\n",
       "        text-align: right;\n",
       "    }\n",
       "</style>\n",
       "<table border=\"1\" class=\"dataframe\">\n",
       "  <thead>\n",
       "    <tr style=\"text-align: right;\">\n",
       "      <th></th>\n",
       "      <th>rank</th>\n",
       "      <th>filename</th>\n",
       "      <th>func_id</th>\n",
       "      <th>size</th>\n",
       "      <th>tstart</th>\n",
       "      <th>tend</th>\n",
       "      <th>bandwidth</th>\n",
       "    </tr>\n",
       "  </thead>\n",
       "  <tbody>\n",
       "    <tr>\n",
       "      <th>24299</th>\n",
       "      <td>0</td>\n",
       "      <td>/p/gpfs1/brainusr/datasets/cosmoflow/cosmoUniv...</td>\n",
       "      <td>pread64</td>\n",
       "      <td>512</td>\n",
       "      <td>1001.794922</td>\n",
       "      <td>1001.794922</td>\n",
       "      <td>-100.0</td>\n",
       "    </tr>\n",
       "    <tr>\n",
       "      <th>24300</th>\n",
       "      <td>0</td>\n",
       "      <td>/p/gpfs1/brainusr/datasets/cosmoflow/cosmoUniv...</td>\n",
       "      <td>pread64</td>\n",
       "      <td>544</td>\n",
       "      <td>1001.794922</td>\n",
       "      <td>1001.794922</td>\n",
       "      <td>-100.0</td>\n",
       "    </tr>\n",
       "    <tr>\n",
       "      <th>24301</th>\n",
       "      <td>0</td>\n",
       "      <td>/p/gpfs1/brainusr/datasets/cosmoflow/cosmoUniv...</td>\n",
       "      <td>pread64</td>\n",
       "      <td>328</td>\n",
       "      <td>1001.794983</td>\n",
       "      <td>1001.794983</td>\n",
       "      <td>-100.0</td>\n",
       "    </tr>\n",
       "    <tr>\n",
       "      <th>24322</th>\n",
       "      <td>0</td>\n",
       "      <td>/p/gpfs1/brainusr/datasets/cosmoflow/cosmoUniv...</td>\n",
       "      <td>pread64</td>\n",
       "      <td>512</td>\n",
       "      <td>1117.275146</td>\n",
       "      <td>1117.275146</td>\n",
       "      <td>-100.0</td>\n",
       "    </tr>\n",
       "    <tr>\n",
       "      <th>24328</th>\n",
       "      <td>0</td>\n",
       "      <td>/p/gpfs1/brainusr/datasets/cosmoflow/cosmoUniv...</td>\n",
       "      <td>pread64</td>\n",
       "      <td>544</td>\n",
       "      <td>1117.275879</td>\n",
       "      <td>1117.275879</td>\n",
       "      <td>-100.0</td>\n",
       "    </tr>\n",
       "    <tr>\n",
       "      <th>...</th>\n",
       "      <td>...</td>\n",
       "      <td>...</td>\n",
       "      <td>...</td>\n",
       "      <td>...</td>\n",
       "      <td>...</td>\n",
       "      <td>...</td>\n",
       "      <td>...</td>\n",
       "    </tr>\n",
       "    <tr>\n",
       "      <th>7991527</th>\n",
       "      <td>127</td>\n",
       "      <td>/p/gpfs1/brainusr/datasets/cosmoflow/cosmoUniv...</td>\n",
       "      <td>pread</td>\n",
       "      <td>328</td>\n",
       "      <td>6446.788086</td>\n",
       "      <td>6446.788086</td>\n",
       "      <td>-100.0</td>\n",
       "    </tr>\n",
       "    <tr>\n",
       "      <th>7991529</th>\n",
       "      <td>127</td>\n",
       "      <td>/p/gpfs1/brainusr/datasets/cosmoflow/cosmoUniv...</td>\n",
       "      <td>pread</td>\n",
       "      <td>512</td>\n",
       "      <td>6446.788086</td>\n",
       "      <td>6446.788086</td>\n",
       "      <td>-100.0</td>\n",
       "    </tr>\n",
       "    <tr>\n",
       "      <th>7991538</th>\n",
       "      <td>127</td>\n",
       "      <td>/p/gpfs1/brainusr/datasets/cosmoflow/cosmoUniv...</td>\n",
       "      <td>pread</td>\n",
       "      <td>2097152</td>\n",
       "      <td>6446.874512</td>\n",
       "      <td>6446.874512</td>\n",
       "      <td>-100.0</td>\n",
       "    </tr>\n",
       "    <tr>\n",
       "      <th>7991546</th>\n",
       "      <td>127</td>\n",
       "      <td>/p/gpfs1/brainusr/datasets/cosmoflow/cosmoUniv...</td>\n",
       "      <td>pread</td>\n",
       "      <td>512</td>\n",
       "      <td>6446.875488</td>\n",
       "      <td>6446.875488</td>\n",
       "      <td>-100.0</td>\n",
       "    </tr>\n",
       "    <tr>\n",
       "      <th>7991549</th>\n",
       "      <td>127</td>\n",
       "      <td>/p/gpfs1/brainusr/datasets/cosmoflow/cosmoUniv...</td>\n",
       "      <td>pread</td>\n",
       "      <td>16</td>\n",
       "      <td>6446.875488</td>\n",
       "      <td>6446.875488</td>\n",
       "      <td>-100.0</td>\n",
       "    </tr>\n",
       "  </tbody>\n",
       "</table>\n",
       "<p>34122138 rows × 7 columns</p>\n",
       "</div>"
      ],
      "text/plain": [
       "         rank                                           filename  func_id  \\\n",
       "24299       0  /p/gpfs1/brainusr/datasets/cosmoflow/cosmoUniv...  pread64   \n",
       "24300       0  /p/gpfs1/brainusr/datasets/cosmoflow/cosmoUniv...  pread64   \n",
       "24301       0  /p/gpfs1/brainusr/datasets/cosmoflow/cosmoUniv...  pread64   \n",
       "24322       0  /p/gpfs1/brainusr/datasets/cosmoflow/cosmoUniv...  pread64   \n",
       "24328       0  /p/gpfs1/brainusr/datasets/cosmoflow/cosmoUniv...  pread64   \n",
       "...       ...                                                ...      ...   \n",
       "7991527   127  /p/gpfs1/brainusr/datasets/cosmoflow/cosmoUniv...    pread   \n",
       "7991529   127  /p/gpfs1/brainusr/datasets/cosmoflow/cosmoUniv...    pread   \n",
       "7991538   127  /p/gpfs1/brainusr/datasets/cosmoflow/cosmoUniv...    pread   \n",
       "7991546   127  /p/gpfs1/brainusr/datasets/cosmoflow/cosmoUniv...    pread   \n",
       "7991549   127  /p/gpfs1/brainusr/datasets/cosmoflow/cosmoUniv...    pread   \n",
       "\n",
       "            size       tstart         tend  bandwidth  \n",
       "24299        512  1001.794922  1001.794922     -100.0  \n",
       "24300        544  1001.794922  1001.794922     -100.0  \n",
       "24301        328  1001.794983  1001.794983     -100.0  \n",
       "24322        512  1117.275146  1117.275146     -100.0  \n",
       "24328        544  1117.275879  1117.275879     -100.0  \n",
       "...          ...          ...          ...        ...  \n",
       "7991527      328  6446.788086  6446.788086     -100.0  \n",
       "7991529      512  6446.788086  6446.788086     -100.0  \n",
       "7991538  2097152  6446.874512  6446.874512     -100.0  \n",
       "7991546      512  6446.875488  6446.875488     -100.0  \n",
       "7991549       16  6446.875488  6446.875488     -100.0  \n",
       "\n",
       "[34122138 rows x 7 columns]"
      ]
     },
     "execution_count": 41,
     "metadata": {},
     "output_type": "execute_result"
    }
   ],
   "source": [
    "file_df[file_df['func_id'].str.contains('read') & (file_df['bandwidth'] == -100)]"
   ]
  },
  {
   "cell_type": "code",
   "execution_count": 39,
   "metadata": {},
   "outputs": [
    {
     "name": "stdout",
     "output_type": "stream",
     "text": [
      "/p/gpfs1/haridev/software/lbann/applications/physics/cosmology/cosmoflow/20210920_125715_lbann_cosmoflow/experiment.prototext\n"
     ]
    },
    {
     "data": {
      "image/png": "[encoded data removed]",
      "text/plain": [
       "<Figure size 432x288 with 1 Axes>"
      ]
     },
     "metadata": {
      "needs_background": "light"
     },
     "output_type": "display_data"
    },
    {
     "data": {
      "image/png": "[encoded data removed]",
      "text/plain": [
       "<Figure size 432x288 with 1 Axes>"
      ]
     },
     "metadata": {
      "needs_background": "light"
     },
     "output_type": "display_data"
    },
    {
     "name": "stdout",
     "output_type": "stream",
     "text": [
      "/p/gpfs1/brainusr/datasets/cosmoflow/cosmoUniverse_2019_05_4parE/hdf5_transposed_dim128_float/all/univ_ics_2019-03_a10000668_0_0_0_float.hdf5\n"
     ]
    },
    {
     "data": {
      "image/png": "[encoded data removed]",
      "text/plain": [
       "<Figure size 432x288 with 1 Axes>"
      ]
     },
     "metadata": {
      "needs_background": "light"
     },
     "output_type": "display_data"
    },
    {
     "data": {
      "image/png": "[encoded data removed]",
      "text/plain": [
       "<Figure size 432x288 with 1 Axes>"
      ]
     },
     "metadata": {
      "needs_background": "light"
     },
     "output_type": "display_data"
    },
    {
     "name": "stdout",
     "output_type": "stream",
     "text": [
      "/p/gpfs1/brainusr/datasets/cosmoflow/cosmoUniverse_2019_05_4parE/hdf5_transposed_dim128_float/all/univ_ics_2019-03_a6981523_0_0_0_float.hdf5\n"
     ]
    },
    {
     "data": {
      "image/png": "[encoded data removed]",
      "text/plain": [
       "<Figure size 432x288 with 1 Axes>"
      ]
     },
     "metadata": {
      "needs_background": "light"
     },
     "output_type": "display_data"
    },
    {
     "data": {
      "image/png": "[encoded data removed]",
      "text/plain": [
       "<Figure size 432x288 with 1 Axes>"
      ]
     },
     "metadata": {
      "needs_background": "light"
     },
     "output_type": "display_data"
    },
    {
     "name": "stdout",
     "output_type": "stream",
     "text": [
      "/p/gpfs1/brainusr/datasets/cosmoflow/cosmoUniverse_2019_05_4parE/hdf5_transposed_dim128_float/all/univ_ics_2019-03_a8515541_0_0_0_float.hdf5\n"
     ]
    },
    {
     "data": {
      "image/png": "[encoded data removed]",
      "text/plain": [
       "<Figure size 432x288 with 1 Axes>"
      ]
     },
     "metadata": {
      "needs_background": "light"
     },
     "output_type": "display_data"
    },
    {
     "data": {
      "image/png": "[encoded data removed]",
      "text/plain": [
       "<Figure size 432x288 with 1 Axes>"
      ]
     },
     "metadata": {
      "needs_background": "light"
     },
     "output_type": "display_data"
    },
    {
     "name": "stdout",
     "output_type": "stream",
     "text": [
      "/p/gpfs1/brainusr/datasets/cosmoflow/cosmoUniverse_2019_05_4parE/hdf5_transposed_dim128_float/all/univ_ics_2019-03_a13383679_3_2_0_float.hdf5\n"
     ]
    },
    {
     "data": {
      "image/png": "[encoded data removed]",
      "text/plain": [
       "<Figure size 432x288 with 1 Axes>"
      ]
     },
     "metadata": {
      "needs_background": "light"
     },
     "output_type": "display_data"
    },
    {
     "data": {
      "image/png": "[encoded data removed]",
      "text/plain": [
       "<Figure size 432x288 with 1 Axes>"
      ]
     },
     "metadata": {
      "needs_background": "light"
     },
     "output_type": "display_data"
    },
    {
     "name": "stdout",
     "output_type": "stream",
     "text": [
      "/p/gpfs1/brainusr/datasets/cosmoflow/cosmoUniverse_2019_05_4parE/hdf5_transposed_dim128_float/all/univ_ics_2019-03_a6312225_3_1_0_float.hdf5\n"
     ]
    },
    {
     "data": {
      "image/png": "[encoded data removed]",
      "text/plain": [
       "<Figure size 432x288 with 1 Axes>"
      ]
     },
     "metadata": {
      "needs_background": "light"
     },
     "output_type": "display_data"
    },
    {
     "data": {
      "image/png": "[encoded data removed]",
      "text/plain": [
       "<Figure size 432x288 with 1 Axes>"
      ]
     },
     "metadata": {
      "needs_background": "light"
     },
     "output_type": "display_data"
    },
    {
     "name": "stdout",
     "output_type": "stream",
     "text": [
      "/p/gpfs1/brainusr/datasets/cosmoflow/cosmoUniverse_2019_05_4parE/hdf5_transposed_dim128_float/all/univ_ics_2019-03_a444662_2_1_1_float.hdf5\n"
     ]
    },
    {
     "data": {
      "image/png": "[encoded data removed]",
      "text/plain": [
       "<Figure size 432x288 with 1 Axes>"
      ]
     },
     "metadata": {
      "needs_background": "light"
     },
     "output_type": "display_data"
    },
    {
     "data": {
      "image/png": "[encoded data removed]",
      "text/plain": [
       "<Figure size 432x288 with 1 Axes>"
      ]
     },
     "metadata": {
      "needs_background": "light"
     },
     "output_type": "display_data"
    },
    {
     "name": "stdout",
     "output_type": "stream",
     "text": [
      "/p/gpfs1/brainusr/datasets/cosmoflow/cosmoUniverse_2019_05_4parE/hdf5_transposed_dim128_float/all/univ_ics_2019-03_a11327158_2_3_1_float.hdf5\n"
     ]
    },
    {
     "ename": "KeyboardInterrupt",
     "evalue": "",
     "output_type": "error",
     "traceback": [
      "\u001b[0;31m---------------------------------------------------------------------------\u001b[0m",
      "\u001b[0;31mKeyboardInterrupt\u001b[0m                         Traceback (most recent call last)",
      "\u001b[0;32m/var/tmp/ipykernel_38339/2853697541.py\u001b[0m in \u001b[0;36m<module>\u001b[0;34m\u001b[0m\n\u001b[1;32m      1\u001b[0m \u001b[0;32mfor\u001b[0m \u001b[0mfilename\u001b[0m \u001b[0;32min\u001b[0m \u001b[0mrelevant_filenames\u001b[0m\u001b[0;34m:\u001b[0m\u001b[0;34m\u001b[0m\u001b[0;34m\u001b[0m\u001b[0m\n\u001b[1;32m      2\u001b[0m     \u001b[0mprint\u001b[0m\u001b[0;34m(\u001b[0m\u001b[0mfilename\u001b[0m\u001b[0;34m)\u001b[0m\u001b[0;34m\u001b[0m\u001b[0;34m\u001b[0m\u001b[0m\n\u001b[0;32m----> 3\u001b[0;31m     \u001b[0mfile_df_temp\u001b[0m \u001b[0;34m=\u001b[0m \u001b[0mfile_df\u001b[0m\u001b[0;34m[\u001b[0m\u001b[0mfile_df\u001b[0m\u001b[0;34m[\u001b[0m\u001b[0;34m'filename'\u001b[0m\u001b[0;34m]\u001b[0m \u001b[0;34m==\u001b[0m \u001b[0mfilename\u001b[0m\u001b[0;34m]\u001b[0m\u001b[0;34m\u001b[0m\u001b[0;34m\u001b[0m\u001b[0m\n\u001b[0m\u001b[1;32m      4\u001b[0m     \u001b[0mfile_sizes\u001b[0m \u001b[0;34m=\u001b[0m \u001b[0mfile_df_temp\u001b[0m\u001b[0;34m[\u001b[0m\u001b[0;34m'size'\u001b[0m\u001b[0;34m]\u001b[0m\u001b[0;34m.\u001b[0m\u001b[0mto_numpy\u001b[0m\u001b[0;34m(\u001b[0m\u001b[0;34m)\u001b[0m \u001b[0;34m/\u001b[0m \u001b[0;36m1024.0\u001b[0m \u001b[0;34m/\u001b[0m\u001b[0;36m1024.0\u001b[0m\u001b[0;34m\u001b[0m\u001b[0;34m\u001b[0m\u001b[0m\n\u001b[1;32m      5\u001b[0m     \u001b[0mplt\u001b[0m\u001b[0;34m.\u001b[0m\u001b[0mhist\u001b[0m\u001b[0;34m(\u001b[0m\u001b[0mfile_sizes\u001b[0m\u001b[0;34m,\u001b[0m \u001b[0mbins\u001b[0m\u001b[0;34m=\u001b[0m\u001b[0;36m100\u001b[0m\u001b[0;34m)\u001b[0m\u001b[0;34m\u001b[0m\u001b[0;34m\u001b[0m\u001b[0m\n",
      "\u001b[0;32m/p/gpfs1/haridev/software/spack/opt/spack/linux-rhel7-power9le/gcc-8.3.1/anaconda3-2021.05-ou5c3s4g5b6ac7d3ielq2ysjqrbmyvaj/envs/jupyter/lib/python3.9/site-packages/pandas/core/ops/common.py\u001b[0m in \u001b[0;36mnew_method\u001b[0;34m(self, other)\u001b[0m\n\u001b[1;32m     63\u001b[0m         \u001b[0mother\u001b[0m \u001b[0;34m=\u001b[0m \u001b[0mitem_from_zerodim\u001b[0m\u001b[0;34m(\u001b[0m\u001b[0mother\u001b[0m\u001b[0;34m)\u001b[0m\u001b[0;34m\u001b[0m\u001b[0;34m\u001b[0m\u001b[0m\n\u001b[1;32m     64\u001b[0m \u001b[0;34m\u001b[0m\u001b[0m\n\u001b[0;32m---> 65\u001b[0;31m         \u001b[0;32mreturn\u001b[0m \u001b[0mmethod\u001b[0m\u001b[0;34m(\u001b[0m\u001b[0mself\u001b[0m\u001b[0;34m,\u001b[0m \u001b[0mother\u001b[0m\u001b[0;34m)\u001b[0m\u001b[0;34m\u001b[0m\u001b[0;34m\u001b[0m\u001b[0m\n\u001b[0m\u001b[1;32m     66\u001b[0m \u001b[0;34m\u001b[0m\u001b[0m\n\u001b[1;32m     67\u001b[0m     \u001b[0;32mreturn\u001b[0m \u001b[0mnew_method\u001b[0m\u001b[0;34m\u001b[0m\u001b[0;34m\u001b[0m\u001b[0m\n",
      "\u001b[0;32m/p/gpfs1/haridev/software/spack/opt/spack/linux-rhel7-power9le/gcc-8.3.1/anaconda3-2021.05-ou5c3s4g5b6ac7d3ielq2ysjqrbmyvaj/envs/jupyter/lib/python3.9/site-packages/pandas/core/arraylike.py\u001b[0m in \u001b[0;36m__eq__\u001b[0;34m(self, other)\u001b[0m\n\u001b[1;32m     27\u001b[0m     \u001b[0;34m@\u001b[0m\u001b[0munpack_zerodim_and_defer\u001b[0m\u001b[0;34m(\u001b[0m\u001b[0;34m\"__eq__\"\u001b[0m\u001b[0;34m)\u001b[0m\u001b[0;34m\u001b[0m\u001b[0;34m\u001b[0m\u001b[0m\n\u001b[1;32m     28\u001b[0m     \u001b[0;32mdef\u001b[0m \u001b[0m__eq__\u001b[0m\u001b[0;34m(\u001b[0m\u001b[0mself\u001b[0m\u001b[0;34m,\u001b[0m \u001b[0mother\u001b[0m\u001b[0;34m)\u001b[0m\u001b[0;34m:\u001b[0m\u001b[0;34m\u001b[0m\u001b[0;34m\u001b[0m\u001b[0m\n\u001b[0;32m---> 29\u001b[0;31m         \u001b[0;32mreturn\u001b[0m \u001b[0mself\u001b[0m\u001b[0;34m.\u001b[0m\u001b[0m_cmp_method\u001b[0m\u001b[0;34m(\u001b[0m\u001b[0mother\u001b[0m\u001b[0;34m,\u001b[0m \u001b[0moperator\u001b[0m\u001b[0;34m.\u001b[0m\u001b[0meq\u001b[0m\u001b[0;34m)\u001b[0m\u001b[0;34m\u001b[0m\u001b[0;34m\u001b[0m\u001b[0m\n\u001b[0m\u001b[1;32m     30\u001b[0m \u001b[0;34m\u001b[0m\u001b[0m\n\u001b[1;32m     31\u001b[0m     \u001b[0;34m@\u001b[0m\u001b[0munpack_zerodim_and_defer\u001b[0m\u001b[0;34m(\u001b[0m\u001b[0;34m\"__ne__\"\u001b[0m\u001b[0;34m)\u001b[0m\u001b[0;34m\u001b[0m\u001b[0;34m\u001b[0m\u001b[0m\n",
      "\u001b[0;32m/p/gpfs1/haridev/software/spack/opt/spack/linux-rhel7-power9le/gcc-8.3.1/anaconda3-2021.05-ou5c3s4g5b6ac7d3ielq2ysjqrbmyvaj/envs/jupyter/lib/python3.9/site-packages/pandas/core/series.py\u001b[0m in \u001b[0;36m_cmp_method\u001b[0;34m(self, other, op)\u001b[0m\n\u001b[1;32m   4976\u001b[0m         \u001b[0mrvalues\u001b[0m \u001b[0;34m=\u001b[0m \u001b[0mextract_array\u001b[0m\u001b[0;34m(\u001b[0m\u001b[0mother\u001b[0m\u001b[0;34m,\u001b[0m \u001b[0mextract_numpy\u001b[0m\u001b[0;34m=\u001b[0m\u001b[0;32mTrue\u001b[0m\u001b[0;34m)\u001b[0m\u001b[0;34m\u001b[0m\u001b[0;34m\u001b[0m\u001b[0m\n\u001b[1;32m   4977\u001b[0m \u001b[0;34m\u001b[0m\u001b[0m\n\u001b[0;32m-> 4978\u001b[0;31m         \u001b[0mres_values\u001b[0m \u001b[0;34m=\u001b[0m \u001b[0mops\u001b[0m\u001b[0;34m.\u001b[0m\u001b[0mcomparison_op\u001b[0m\u001b[0;34m(\u001b[0m\u001b[0mlvalues\u001b[0m\u001b[0;34m,\u001b[0m \u001b[0mrvalues\u001b[0m\u001b[0;34m,\u001b[0m \u001b[0mop\u001b[0m\u001b[0;34m)\u001b[0m\u001b[0;34m\u001b[0m\u001b[0;34m\u001b[0m\u001b[0m\n\u001b[0m\u001b[1;32m   4979\u001b[0m \u001b[0;34m\u001b[0m\u001b[0m\n\u001b[1;32m   4980\u001b[0m         \u001b[0;32mreturn\u001b[0m \u001b[0mself\u001b[0m\u001b[0;34m.\u001b[0m\u001b[0m_construct_result\u001b[0m\u001b[0;34m(\u001b[0m\u001b[0mres_values\u001b[0m\u001b[0;34m,\u001b[0m \u001b[0mname\u001b[0m\u001b[0;34m=\u001b[0m\u001b[0mres_name\u001b[0m\u001b[0;34m)\u001b[0m\u001b[0;34m\u001b[0m\u001b[0;34m\u001b[0m\u001b[0m\n",
      "\u001b[0;32m/p/gpfs1/haridev/software/spack/opt/spack/linux-rhel7-power9le/gcc-8.3.1/anaconda3-2021.05-ou5c3s4g5b6ac7d3ielq2ysjqrbmyvaj/envs/jupyter/lib/python3.9/site-packages/pandas/core/ops/array_ops.py\u001b[0m in \u001b[0;36mcomparison_op\u001b[0;34m(left, right, op)\u001b[0m\n\u001b[1;32m    241\u001b[0m \u001b[0;34m\u001b[0m\u001b[0m\n\u001b[1;32m    242\u001b[0m     \u001b[0;32melif\u001b[0m \u001b[0mis_object_dtype\u001b[0m\u001b[0;34m(\u001b[0m\u001b[0mlvalues\u001b[0m\u001b[0;34m.\u001b[0m\u001b[0mdtype\u001b[0m\u001b[0;34m)\u001b[0m\u001b[0;34m:\u001b[0m\u001b[0;34m\u001b[0m\u001b[0;34m\u001b[0m\u001b[0m\n\u001b[0;32m--> 243\u001b[0;31m         \u001b[0mres_values\u001b[0m \u001b[0;34m=\u001b[0m \u001b[0mcomp_method_OBJECT_ARRAY\u001b[0m\u001b[0;34m(\u001b[0m\u001b[0mop\u001b[0m\u001b[0;34m,\u001b[0m \u001b[0mlvalues\u001b[0m\u001b[0;34m,\u001b[0m \u001b[0mrvalues\u001b[0m\u001b[0;34m)\u001b[0m\u001b[0;34m\u001b[0m\u001b[0;34m\u001b[0m\u001b[0m\n\u001b[0m\u001b[1;32m    244\u001b[0m \u001b[0;34m\u001b[0m\u001b[0m\n\u001b[1;32m    245\u001b[0m     \u001b[0;32melse\u001b[0m\u001b[0;34m:\u001b[0m\u001b[0;34m\u001b[0m\u001b[0;34m\u001b[0m\u001b[0m\n",
      "\u001b[0;32m/p/gpfs1/haridev/software/spack/opt/spack/linux-rhel7-power9le/gcc-8.3.1/anaconda3-2021.05-ou5c3s4g5b6ac7d3ielq2ysjqrbmyvaj/envs/jupyter/lib/python3.9/site-packages/pandas/core/ops/array_ops.py\u001b[0m in \u001b[0;36mcomp_method_OBJECT_ARRAY\u001b[0;34m(op, x, y)\u001b[0m\n\u001b[1;32m     53\u001b[0m         \u001b[0mresult\u001b[0m \u001b[0;34m=\u001b[0m \u001b[0mlibops\u001b[0m\u001b[0;34m.\u001b[0m\u001b[0mvec_compare\u001b[0m\u001b[0;34m(\u001b[0m\u001b[0mx\u001b[0m\u001b[0;34m.\u001b[0m\u001b[0mravel\u001b[0m\u001b[0;34m(\u001b[0m\u001b[0;34m)\u001b[0m\u001b[0;34m,\u001b[0m \u001b[0my\u001b[0m\u001b[0;34m.\u001b[0m\u001b[0mravel\u001b[0m\u001b[0;34m(\u001b[0m\u001b[0;34m)\u001b[0m\u001b[0;34m,\u001b[0m \u001b[0mop\u001b[0m\u001b[0;34m)\u001b[0m\u001b[0;34m\u001b[0m\u001b[0;34m\u001b[0m\u001b[0m\n\u001b[1;32m     54\u001b[0m     \u001b[0;32melse\u001b[0m\u001b[0;34m:\u001b[0m\u001b[0;34m\u001b[0m\u001b[0;34m\u001b[0m\u001b[0m\n\u001b[0;32m---> 55\u001b[0;31m         \u001b[0mresult\u001b[0m \u001b[0;34m=\u001b[0m \u001b[0mlibops\u001b[0m\u001b[0;34m.\u001b[0m\u001b[0mscalar_compare\u001b[0m\u001b[0;34m(\u001b[0m\u001b[0mx\u001b[0m\u001b[0;34m.\u001b[0m\u001b[0mravel\u001b[0m\u001b[0;34m(\u001b[0m\u001b[0;34m)\u001b[0m\u001b[0;34m,\u001b[0m \u001b[0my\u001b[0m\u001b[0;34m,\u001b[0m \u001b[0mop\u001b[0m\u001b[0;34m)\u001b[0m\u001b[0;34m\u001b[0m\u001b[0;34m\u001b[0m\u001b[0m\n\u001b[0m\u001b[1;32m     56\u001b[0m     \u001b[0;32mreturn\u001b[0m \u001b[0mresult\u001b[0m\u001b[0;34m.\u001b[0m\u001b[0mreshape\u001b[0m\u001b[0;34m(\u001b[0m\u001b[0mx\u001b[0m\u001b[0;34m.\u001b[0m\u001b[0mshape\u001b[0m\u001b[0;34m)\u001b[0m\u001b[0;34m\u001b[0m\u001b[0;34m\u001b[0m\u001b[0m\n\u001b[1;32m     57\u001b[0m \u001b[0;34m\u001b[0m\u001b[0m\n",
      "\u001b[0;31mKeyboardInterrupt\u001b[0m: "
     ]
    }
   ],
   "source": [
    "for filename in relevant_filenames:\n",
    "    print(filename)\n",
    "    file_df_temp = file_df[file_df['filename'] == filename] \n",
    "    file_sizes = file_df_temp['size'].to_numpy() / 1024.0 /1024.0\n",
    "    plt.hist(file_sizes, bins=100)\n",
    "    plt.show()\n",
    "    plt.hist(file_df_temp['bandwidth'], bins=100)\n",
    "    plt.show()"
   ]
  },
  {
   "cell_type": "code",
   "execution_count": null,
   "metadata": {},
   "outputs": [],
   "source": []
  },
  {
   "cell_type": "code",
   "execution_count": null,
   "metadata": {},
   "outputs": [],
   "source": []
  },
  {
   "cell_type": "code",
   "execution_count": null,
   "metadata": {},
   "outputs": [],
   "source": []
  },
  {
   "cell_type": "code",
   "execution_count": null,
   "metadata": {},
   "outputs": [],
   "source": []
  },
  {
   "cell_type": "code",
   "execution_count": null,
   "metadata": {},
   "outputs": [],
   "source": []
  }
 ],
 "metadata": {
  "kernelspec": {
   "display_name": "Python 3 (ipykernel)",
   "language": "python",
   "name": "python3"
  },
  "language_info": {
   "codemirror_mode": {
    "name": "ipython",
    "version": 3
   },
   "file_extension": ".py",
   "mimetype": "text/x-python",
   "name": "python",
   "nbconvert_exporter": "python",
   "pygments_lexer": "ipython3",
   "version": "3.9.7"
  }
 },
 "nbformat": 4,
 "nbformat_minor": 4
}
