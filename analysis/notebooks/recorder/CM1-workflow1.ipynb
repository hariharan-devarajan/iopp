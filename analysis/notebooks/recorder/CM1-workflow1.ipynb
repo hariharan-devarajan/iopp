{
 "cells": [
  {
   "cell_type": "markdown",
   "metadata": {},
   "source": [
    "# Analyze CM1 Workflow 4"
   ]
  },
  {
   "cell_type": "markdown",
   "metadata": {},
   "source": [
    "## Global Configurations"
   ]
  },
  {
   "cell_type": "code",
   "execution_count": 1,
   "metadata": {},
   "outputs": [],
   "source": [
    "notebook_name = \"cm1-workflow-4\""
   ]
  },
  {
   "cell_type": "code",
   "execution_count": 2,
   "metadata": {
    "ExecuteTime": {
     "end_time": "2021-09-16T21:44:28.361097Z",
     "start_time": "2021-09-16T21:44:28.356562Z"
    }
   },
   "outputs": [],
   "source": [
    "parquet_folder=\"/p/gpfs1/iopp/parquet_app_logs/cm1/nodes-32/workflow-4\""
   ]
  },
  {
   "cell_type": "code",
   "execution_count": 81,
   "metadata": {},
   "outputs": [],
   "source": [
    "num_nodes = 32"
   ]
  },
  {
   "cell_type": "markdown",
   "metadata": {},
   "source": [
    "## System Imports"
   ]
  },
  {
   "cell_type": "code",
   "execution_count": 3,
   "metadata": {},
   "outputs": [],
   "source": [
    "import socket\n",
    "import os\n",
    "import time\n",
    "from time import sleep"
   ]
  },
  {
   "cell_type": "markdown",
   "metadata": {
    "tags": []
   },
   "source": [
    "## Create Dask Cluster for analysis"
   ]
  },
  {
   "cell_type": "markdown",
   "metadata": {},
   "source": [
    "### Dask Job Queue Imports"
   ]
  },
  {
   "cell_type": "code",
   "execution_count": 4,
   "metadata": {},
   "outputs": [
    {
     "name": "stderr",
     "output_type": "stream",
     "text": [
      "/usr/workspace/iopp/.conda/envs/jupyter/lib/python3.9/site-packages/dask_jobqueue/core.py:17: FutureWarning: format_bytes is deprecated and will be removed in a future release. Please use dask.utils.format_bytes instead.\n",
      "  from distributed.utils import format_bytes, parse_bytes, tmpfile, get_ip_interface\n",
      "/usr/workspace/iopp/.conda/envs/jupyter/lib/python3.9/site-packages/dask_jobqueue/core.py:17: FutureWarning: parse_bytes is deprecated and will be removed in a future release. Please use dask.utils.parse_bytes instead.\n",
      "  from distributed.utils import format_bytes, parse_bytes, tmpfile, get_ip_interface\n",
      "/usr/workspace/iopp/.conda/envs/jupyter/lib/python3.9/site-packages/dask_jobqueue/htcondor.py:6: FutureWarning: parse_bytes is deprecated and will be removed in a future release. Please use dask.utils.parse_bytes instead.\n",
      "  from distributed.utils import parse_bytes\n"
     ]
    }
   ],
   "source": [
    "import dask_jobqueue\n",
    "from dask_jobqueue import LSFCluster"
   ]
  },
  {
   "cell_type": "markdown",
   "metadata": {},
   "source": [
    "### Dask Worker configuration\n",
    "When we use dask for analysis, we need to consider the type of analysis. In this case we plan to utilize dask dataframes for analysis that is typically memory intensive. Therefore, we allocate the whole memory per node and use only 4 worker processes per node. More worker processes reduce memory available per worker resulting in frequent memory swap from filesystem."
   ]
  },
  {
   "cell_type": "code",
   "execution_count": 5,
   "metadata": {
    "ExecuteTime": {
     "end_time": "2021-09-16T21:37:00.088821Z",
     "start_time": "2021-09-16T21:37:00.076921Z"
    }
   },
   "outputs": [],
   "source": [
    "node_memory = 256 # node memory in GB\n",
    "n_workers_per_node = 4 # number of worker processes per node\n",
    "worker_time = \"02:00\" # job time per node for worker\n",
    "worker_queue = \"pdebug\" # queue to be used per worker\n",
    "n_workers = 4 # number of workers to be used for analysis"
   ]
  },
  {
   "cell_type": "markdown",
   "metadata": {},
   "source": [
    "Other configurations we can compute"
   ]
  },
  {
   "cell_type": "code",
   "execution_count": 6,
   "metadata": {},
   "outputs": [],
   "source": [
    "host = socket.gethostname()\n",
    "dashboard_address = '{}:8787'.format(socket.gethostname())\n",
    "memory = '{}GB'.format(node_memory/n_workers_per_node)\n",
    "job_extra = ['-nnodes 1', \n",
    "             '-G asccasc', \n",
    "             '-q {}'.format(worker_queue), \n",
    "             '-W {}'.format(worker_time), \n",
    "             '-o {}.log'.format(notebook_name), \n",
    "             '-e {}.log'.format(notebook_name)]"
   ]
  },
  {
   "cell_type": "markdown",
   "metadata": {},
   "source": [
    "### Create Dask Cluster "
   ]
  },
  {
   "cell_type": "code",
   "execution_count": 7,
   "metadata": {
    "ExecuteTime": {
     "end_time": "2021-09-16T21:37:00.580186Z",
     "start_time": "2021-09-16T21:37:00.574875Z"
    }
   },
   "outputs": [
    {
     "name": "stdout",
     "output_type": "stream",
     "text": [
      "{'cls': <class 'distributed.scheduler.Scheduler'>, 'options': {'protocol': 'tcp://', 'interface': None, 'host': 'lassen709', 'dashboard_address': 'lassen709:8787', 'security': None}}\n",
      "Created Cluster with job script\n",
      " #!/usr/bin/env bash\n",
      "\n",
      "#BSUB -J dask-worker\n",
      "#BSUB -nnodes 1\n",
      "#BSUB -G asccasc\n",
      "#BSUB -q pdebug\n",
      "#BSUB -W 02:00\n",
      "#BSUB -o cm1-workflow-4.log\n",
      "#BSUB -e cm1-workflow-4.log\n",
      "JOB_ID=${LSB_JOBID%.*}\n",
      "\n",
      "/usr/workspace/iopp/.conda/envs/jupyter/bin/python -m distributed.cli.dask_worker tcp://192.168.66.201:46801 --nthreads 1 --nprocs 4 --memory-limit 59.60GiB --name name --nanny --death-timeout 60\n",
      "\n"
     ]
    }
   ],
   "source": [
    "cluster = LSFCluster(cores = n_workers_per_node,processes=n_workers_per_node, memory='{}GB'.format(node_memory), \n",
    "                     header_skip=['-n ','-R','-M', '-P', '-W 00:30'], \n",
    "                     job_extra = job_extra, \n",
    "                     use_stdin=True, host = host,dashboard_address = dashboard_address)\n",
    "if cluster:\n",
    "    print(\"Created Cluster with job script\\n {}\".format(cluster.job_script()))"
   ]
  },
  {
   "cell_type": "markdown",
   "metadata": {},
   "source": [
    "### Dask Analysis Imports"
   ]
  },
  {
   "cell_type": "code",
   "execution_count": 8,
   "metadata": {},
   "outputs": [],
   "source": [
    "import dask.dataframe as dd\n",
    "from dask.distributed import wait, progress\n",
    "from dask.diagnostics import ProgressBar\n",
    "from dask.distributed import Client\n",
    "import matplotlib.pyplot as plt\n",
    "import numpy as np\n",
    "import concurrent.futures\n",
    "from concurrent.futures import ThreadPoolExecutor"
   ]
  },
  {
   "cell_type": "markdown",
   "metadata": {},
   "source": [
    "### Create Dask Client"
   ]
  },
  {
   "cell_type": "code",
   "execution_count": 9,
   "metadata": {},
   "outputs": [
    {
     "data": {
      "text/html": [
       "<div>\n",
       "    <div style=\"width: 24px; height: 24px; background-color: #e1e1e1; border: 3px solid #9D9D9D; border-radius: 5px; position: absolute;\"> </div>\n",
       "    <div style=\"margin-left: 48px;\">\n",
       "        <h3 style=\"margin-bottom: 0px;\">Client</h3>\n",
       "        <p style=\"color: #9D9D9D; margin-bottom: 0px;\">Client-05fad51f-424d-11ec-991d-70e28414505f</p>\n",
       "        <table style=\"width: 100%; text-align: left;\">\n",
       "\n",
       "        <tr>\n",
       "        \n",
       "            <td style=\"text-align: left;\"><strong>Connection method:</strong> Cluster object</td>\n",
       "            <td style=\"text-align: left;\"><strong>Cluster type:</strong> dask_jobqueue.LSFCluster</td>\n",
       "        \n",
       "        </tr>\n",
       "\n",
       "        \n",
       "            <tr>\n",
       "                <td style=\"text-align: left;\">\n",
       "                    <strong>Dashboard: </strong> <a href=\"http://192.168.66.201:8787/status\" target=\"_blank\">http://192.168.66.201:8787/status</a>\n",
       "                </td>\n",
       "                <td style=\"text-align: left;\"></td>\n",
       "            </tr>\n",
       "        \n",
       "\n",
       "        </table>\n",
       "\n",
       "        \n",
       "            <details>\n",
       "            <summary style=\"margin-bottom: 20px;\"><h3 style=\"display: inline;\">Cluster Info</h3></summary>\n",
       "            <div class=\"jp-RenderedHTMLCommon jp-RenderedHTML jp-mod-trusted jp-OutputArea-output\">\n",
       "    <div style=\"width: 24px; height: 24px; background-color: #e1e1e1; border: 3px solid #9D9D9D; border-radius: 5px; position: absolute;\">\n",
       "    </div>\n",
       "    <div style=\"margin-left: 48px;\">\n",
       "        <h3 style=\"margin-bottom: 0px; margin-top: 0px;\">LSFCluster</h3>\n",
       "        <p style=\"color: #9D9D9D; margin-bottom: 0px;\">ef4e41f0</p>\n",
       "        <table style=\"width: 100%; text-align: left;\">\n",
       "            <tr>\n",
       "                <td style=\"text-align: left;\">\n",
       "                    <strong>Dashboard:</strong> <a href=\"http://192.168.66.201:8787/status\" target=\"_blank\">http://192.168.66.201:8787/status</a>\n",
       "                </td>\n",
       "                <td style=\"text-align: left;\">\n",
       "                    <strong>Workers:</strong> 0\n",
       "                </td>\n",
       "            </tr>\n",
       "            <tr>\n",
       "                <td style=\"text-align: left;\">\n",
       "                    <strong>Total threads:</strong> 0\n",
       "                </td>\n",
       "                <td style=\"text-align: left;\">\n",
       "                    <strong>Total memory:</strong> 0 B\n",
       "                </td>\n",
       "            </tr>\n",
       "            \n",
       "        </table>\n",
       "\n",
       "        <details>\n",
       "            <summary style=\"margin-bottom: 20px;\">\n",
       "                <h3 style=\"display: inline;\">Scheduler Info</h3>\n",
       "            </summary>\n",
       "\n",
       "            <div style=\"\">\n",
       "    <div>\n",
       "        <div style=\"width: 24px; height: 24px; background-color: #FFF7E5; border: 3px solid #FF6132; border-radius: 5px; position: absolute;\"> </div>\n",
       "        <div style=\"margin-left: 48px;\">\n",
       "            <h3 style=\"margin-bottom: 0px;\">Scheduler</h3>\n",
       "            <p style=\"color: #9D9D9D; margin-bottom: 0px;\">Scheduler-930b1a38-9686-4d1c-a2ab-7fe481d300e1</p>\n",
       "            <table style=\"width: 100%; text-align: left;\">\n",
       "                <tr>\n",
       "                    <td style=\"text-align: left;\">\n",
       "                        <strong>Comm:</strong> tcp://192.168.66.201:46801\n",
       "                    </td>\n",
       "                    <td style=\"text-align: left;\">\n",
       "                        <strong>Workers:</strong> 0\n",
       "                    </td>\n",
       "                </tr>\n",
       "                <tr>\n",
       "                    <td style=\"text-align: left;\">\n",
       "                        <strong>Dashboard:</strong> <a href=\"http://192.168.66.201:8787/status\" target=\"_blank\">http://192.168.66.201:8787/status</a>\n",
       "                    </td>\n",
       "                    <td style=\"text-align: left;\">\n",
       "                        <strong>Total threads:</strong> 0\n",
       "                    </td>\n",
       "                </tr>\n",
       "                <tr>\n",
       "                    <td style=\"text-align: left;\">\n",
       "                        <strong>Started:</strong> Just now\n",
       "                    </td>\n",
       "                    <td style=\"text-align: left;\">\n",
       "                        <strong>Total memory:</strong> 0 B\n",
       "                    </td>\n",
       "                </tr>\n",
       "            </table>\n",
       "        </div>\n",
       "    </div>\n",
       "\n",
       "    <details style=\"margin-left: 48px;\">\n",
       "        <summary style=\"margin-bottom: 20px;\">\n",
       "            <h3 style=\"display: inline;\">Workers</h3>\n",
       "        </summary>\n",
       "\n",
       "        \n",
       "\n",
       "    </details>\n",
       "</div>\n",
       "\n",
       "        </details>\n",
       "    </div>\n",
       "</div>\n",
       "            </details>\n",
       "        \n",
       "\n",
       "    </div>\n",
       "</div>"
      ],
      "text/plain": [
       "<Client: 'tcp://192.168.66.201:46801' processes=0 threads=0, memory=0 B>"
      ]
     },
     "execution_count": 9,
     "metadata": {},
     "output_type": "execute_result"
    }
   ],
   "source": [
    "client = Client(cluster)\n",
    "client"
   ]
  },
  {
   "cell_type": "markdown",
   "metadata": {},
   "source": [
    "### Spawn cluster nodes"
   ]
  },
  {
   "cell_type": "code",
   "execution_count": 10,
   "metadata": {
    "ExecuteTime": {
     "end_time": "2021-09-16T21:37:00.937949Z",
     "start_time": "2021-09-16T21:37:00.931813Z"
    }
   },
   "outputs": [],
   "source": [
    "cluster.scale(n_workers)"
   ]
  },
  {
   "cell_type": "code",
   "execution_count": 11,
   "metadata": {},
   "outputs": [
    {
     "name": "stdout",
     "output_type": "stream",
     "text": [
      "Waiting for workers completed 3 of 4\n",
      "4 workers started\n"
     ]
    }
   ],
   "source": [
    "val = len(client.scheduler_info()[\"workers\"])\n",
    "while ((client.status == \"running\") and ( val< n_workers)):\n",
    "    print(\"Waiting for workers completed {} of {}\".format(val, n_workers), end=\"\\r\")\n",
    "    sleep(1.0)\n",
    "    val = len(client.scheduler_info()[\"workers\"])\n",
    "print(\"\\n{} workers started\".format(len(client.scheduler_info()[\"workers\"])))"
   ]
  },
  {
   "cell_type": "markdown",
   "metadata": {},
   "source": [
    "## Analysis Utility Functions"
   ]
  },
  {
   "cell_type": "markdown",
   "metadata": {},
   "source": [
    "### Progress Bars"
   ]
  },
  {
   "cell_type": "code",
   "execution_count": 12,
   "metadata": {},
   "outputs": [],
   "source": [
    "pbar = ProgressBar()\n",
    "pbar.register()"
   ]
  },
  {
   "cell_type": "markdown",
   "metadata": {},
   "source": [
    "### Timer functions"
   ]
  },
  {
   "cell_type": "code",
   "execution_count": 13,
   "metadata": {
    "ExecuteTime": {
     "end_time": "2021-09-16T21:44:25.856496Z",
     "start_time": "2021-09-16T21:44:25.849113Z"
    }
   },
   "outputs": [],
   "source": [
    "def timer(func):\n",
    "    @functools.wraps(func)\n",
    "    def wrapper_timer(*args, **kwargs):\n",
    "        tic = time.perf_counter()\n",
    "        value = func(*args, **kwargs)\n",
    "        toc = time.perf_counter()\n",
    "        elapsed_time = toc - tic\n",
    "        print(f\"Elapsed time: {elapsed_time:0.4f} seconds\")\n",
    "        return value\n",
    "    return wrapper_timer"
   ]
  },
  {
   "cell_type": "markdown",
   "metadata": {},
   "source": [
    "### Threading process "
   ]
  },
  {
   "cell_type": "code",
   "execution_count": 14,
   "metadata": {
    "ExecuteTime": {
     "end_time": "2021-09-16T21:44:26.580383Z",
     "start_time": "2021-09-16T21:44:26.570029Z"
    }
   },
   "outputs": [],
   "source": [
    "def thread_print(string):\n",
    "    print(f'{string}\\n', end='')\n",
    "def thread_process( num_ranks, func, start=0, list_range=[], workers=40):\n",
    "    with ThreadPoolExecutor(max_workers = workers) as executor:\n",
    "        if len(list_range) == 0:\n",
    "            list_range = range(start, num_ranks) \n",
    "        future_gen = {executor.submit(func, rank): rank for rank in list_range}\n",
    "        for future in concurrent.futures.as_completed(future_gen):\n",
    "            rank = future_gen[future]\n",
    "            try:\n",
    "                data = future.result()\n",
    "            except Exception as exc:\n",
    "                thread_print('%r generated an exception: %s' % (rank, exc))\n",
    "            else:\n",
    "                thread_print('%r data computed' % (rank))"
   ]
  },
  {
   "cell_type": "markdown",
   "metadata": {},
   "source": [
    "### Application Logs in Parquet format"
   ]
  },
  {
   "cell_type": "markdown",
   "metadata": {},
   "source": [
    "## Initial Boostrapping"
   ]
  },
  {
   "cell_type": "markdown",
   "metadata": {},
   "source": [
    "### Read Application logs into dask dataframe"
   ]
  },
  {
   "cell_type": "code",
   "execution_count": 15,
   "metadata": {
    "ExecuteTime": {
     "end_time": "2021-09-16T21:44:32.812813Z",
     "start_time": "2021-09-16T21:44:31.634540Z"
    }
   },
   "outputs": [],
   "source": [
    "ddf = dd.read_parquet(\"{}/*.parquet\".format(parquet_folder), engine=\"pyarrow-dataset\")"
   ]
  },
  {
   "cell_type": "code",
   "execution_count": 16,
   "metadata": {
    "ExecuteTime": {
     "end_time": "2021-09-16T21:44:33.462433Z",
     "start_time": "2021-09-16T21:44:33.456132Z"
    }
   },
   "outputs": [
    {
     "name": "stdout",
     "output_type": "stream",
     "text": [
      "Dask dataframe is split into 160 partitions\n"
     ]
    }
   ],
   "source": [
    "print(\"Dask dataframe is split into {} partitions\".format(ddf.npartitions))"
   ]
  },
  {
   "cell_type": "code",
   "execution_count": 17,
   "metadata": {
    "ExecuteTime": {
     "end_time": "2021-09-16T21:37:12.311012Z",
     "start_time": "2021-09-16T21:37:12.306571Z"
    }
   },
   "outputs": [
    {
     "name": "stdout",
     "output_type": "stream",
     "text": [
      "Columns present in dataset\n",
      "Index(['index', 'rank', 'thread_id', 'cat', 'tstart', 'tend', 'func_id',\n",
      "       'level', 'arg_count', 'args_1', 'args_2', 'args_3', 'args_4', 'args_5',\n",
      "       'args_6', 'args_7', 'args_8', 'args_9', 'args_10'],\n",
      "      dtype='object')\n"
     ]
    }
   ],
   "source": [
    "print(\"Columns present in dataset\")\n",
    "print(ddf.columns)"
   ]
  },
  {
   "cell_type": "code",
   "execution_count": 18,
   "metadata": {
    "ExecuteTime": {
     "end_time": "2021-09-16T21:37:12.873991Z",
     "start_time": "2021-09-16T21:37:12.871121Z"
    }
   },
   "outputs": [
    {
     "data": {
      "text/html": [
       "<div>\n",
       "<style scoped>\n",
       "    .dataframe tbody tr th:only-of-type {\n",
       "        vertical-align: middle;\n",
       "    }\n",
       "\n",
       "    .dataframe tbody tr th {\n",
       "        vertical-align: top;\n",
       "    }\n",
       "\n",
       "    .dataframe thead th {\n",
       "        text-align: right;\n",
       "    }\n",
       "</style>\n",
       "<table border=\"1\" class=\"dataframe\">\n",
       "  <thead>\n",
       "    <tr style=\"text-align: right;\">\n",
       "      <th></th>\n",
       "      <th>index</th>\n",
       "      <th>rank</th>\n",
       "      <th>thread_id</th>\n",
       "      <th>cat</th>\n",
       "      <th>tstart</th>\n",
       "      <th>tend</th>\n",
       "      <th>func_id</th>\n",
       "      <th>level</th>\n",
       "      <th>arg_count</th>\n",
       "      <th>args_1</th>\n",
       "      <th>args_2</th>\n",
       "      <th>args_3</th>\n",
       "      <th>args_4</th>\n",
       "      <th>args_5</th>\n",
       "      <th>args_6</th>\n",
       "      <th>args_7</th>\n",
       "      <th>args_8</th>\n",
       "      <th>args_9</th>\n",
       "      <th>args_10</th>\n",
       "    </tr>\n",
       "  </thead>\n",
       "  <tbody>\n",
       "    <tr>\n",
       "      <th>0</th>\n",
       "      <td>1</td>\n",
       "      <td>0</td>\n",
       "      <td>322192</td>\n",
       "      <td>0</td>\n",
       "      <td>2.823260</td>\n",
       "      <td>2.823267</td>\n",
       "      <td>__xstat</td>\n",
       "      <td>0</td>\n",
       "      <td>3</td>\n",
       "      <td>1</td>\n",
       "      <td>/p/gpfs1/iopp/temp/cm1r20.3.2846827/config_fil...</td>\n",
       "      <td>%p</td>\n",
       "      <td></td>\n",
       "      <td></td>\n",
       "      <td></td>\n",
       "      <td></td>\n",
       "      <td></td>\n",
       "      <td></td>\n",
       "      <td></td>\n",
       "    </tr>\n",
       "    <tr>\n",
       "      <th>1</th>\n",
       "      <td>2</td>\n",
       "      <td>0</td>\n",
       "      <td>322192</td>\n",
       "      <td>0</td>\n",
       "      <td>2.823293</td>\n",
       "      <td>2.823305</td>\n",
       "      <td>open</td>\n",
       "      <td>0</td>\n",
       "      <td>2</td>\n",
       "      <td>/p/gpfs1/iopp/temp/cm1r20.3.2846827/config_fil...</td>\n",
       "      <td>2</td>\n",
       "      <td></td>\n",
       "      <td></td>\n",
       "      <td></td>\n",
       "      <td></td>\n",
       "      <td></td>\n",
       "      <td></td>\n",
       "      <td></td>\n",
       "      <td></td>\n",
       "    </tr>\n",
       "    <tr>\n",
       "      <th>2</th>\n",
       "      <td>3</td>\n",
       "      <td>0</td>\n",
       "      <td>322192</td>\n",
       "      <td>0</td>\n",
       "      <td>2.823371</td>\n",
       "      <td>2.823373</td>\n",
       "      <td>__fxstat</td>\n",
       "      <td>0</td>\n",
       "      <td>3</td>\n",
       "      <td>1</td>\n",
       "      <td>/p/gpfs1/iopp/temp/cm1r20.3.2846827/config_fil...</td>\n",
       "      <td>%p</td>\n",
       "      <td></td>\n",
       "      <td></td>\n",
       "      <td></td>\n",
       "      <td></td>\n",
       "      <td></td>\n",
       "      <td></td>\n",
       "      <td></td>\n",
       "    </tr>\n",
       "    <tr>\n",
       "      <th>3</th>\n",
       "      <td>4</td>\n",
       "      <td>0</td>\n",
       "      <td>322192</td>\n",
       "      <td>0</td>\n",
       "      <td>2.823390</td>\n",
       "      <td>2.823399</td>\n",
       "      <td>read</td>\n",
       "      <td>0</td>\n",
       "      <td>3</td>\n",
       "      <td>/p/gpfs1/iopp/temp/cm1r20.3.2846827/config_fil...</td>\n",
       "      <td>%p</td>\n",
       "      <td>16777216</td>\n",
       "      <td></td>\n",
       "      <td></td>\n",
       "      <td></td>\n",
       "      <td></td>\n",
       "      <td></td>\n",
       "      <td></td>\n",
       "      <td></td>\n",
       "    </tr>\n",
       "    <tr>\n",
       "      <th>4</th>\n",
       "      <td>5</td>\n",
       "      <td>0</td>\n",
       "      <td>322192</td>\n",
       "      <td>0</td>\n",
       "      <td>2.823490</td>\n",
       "      <td>2.823494</td>\n",
       "      <td>close</td>\n",
       "      <td>0</td>\n",
       "      <td>1</td>\n",
       "      <td>/p/gpfs1/iopp/temp/cm1r20.3.2846827/config_fil...</td>\n",
       "      <td></td>\n",
       "      <td></td>\n",
       "      <td></td>\n",
       "      <td></td>\n",
       "      <td></td>\n",
       "      <td></td>\n",
       "      <td></td>\n",
       "      <td></td>\n",
       "      <td></td>\n",
       "    </tr>\n",
       "  </tbody>\n",
       "</table>\n",
       "</div>"
      ],
      "text/plain": [
       "   index  rank  thread_id  cat    tstart      tend   func_id  level  \\\n",
       "0      1     0     322192    0  2.823260  2.823267   __xstat      0   \n",
       "1      2     0     322192    0  2.823293  2.823305      open      0   \n",
       "2      3     0     322192    0  2.823371  2.823373  __fxstat      0   \n",
       "3      4     0     322192    0  2.823390  2.823399      read      0   \n",
       "4      5     0     322192    0  2.823490  2.823494     close      0   \n",
       "\n",
       "   arg_count                                             args_1  \\\n",
       "0          3                                                  1   \n",
       "1          2  /p/gpfs1/iopp/temp/cm1r20.3.2846827/config_fil...   \n",
       "2          3                                                  1   \n",
       "3          3  /p/gpfs1/iopp/temp/cm1r20.3.2846827/config_fil...   \n",
       "4          1  /p/gpfs1/iopp/temp/cm1r20.3.2846827/config_fil...   \n",
       "\n",
       "                                              args_2    args_3 args_4 args_5  \\\n",
       "0  /p/gpfs1/iopp/temp/cm1r20.3.2846827/config_fil...        %p                 \n",
       "1                                                  2                           \n",
       "2  /p/gpfs1/iopp/temp/cm1r20.3.2846827/config_fil...        %p                 \n",
       "3                                                 %p  16777216                 \n",
       "4                                                                              \n",
       "\n",
       "  args_6 args_7 args_8 args_9 args_10  \n",
       "0                                      \n",
       "1                                      \n",
       "2                                      \n",
       "3                                      \n",
       "4                                      "
      ]
     },
     "execution_count": 18,
     "metadata": {},
     "output_type": "execute_result"
    }
   ],
   "source": [
    "ddf.head()"
   ]
  },
  {
   "cell_type": "markdown",
   "metadata": {},
   "source": [
    "#### Only keep level zero from MPI and FTRACE but keep all levels for I/O"
   ]
  },
  {
   "cell_type": "code",
   "execution_count": 19,
   "metadata": {
    "ExecuteTime": {
     "end_time": "2021-09-16T21:37:13.310962Z",
     "start_time": "2021-09-16T21:37:13.306458Z"
    }
   },
   "outputs": [],
   "source": [
    "ddf = ddf[(ddf['level'] == 0) | ddf['cat'].isin([0,1,3])]\n",
    "#ddf = ddf.persist()"
   ]
  },
  {
   "cell_type": "markdown",
   "metadata": {},
   "source": [
    "### Split dataframe into I/O, MPI, and trace"
   ]
  },
  {
   "cell_type": "code",
   "execution_count": 20,
   "metadata": {},
   "outputs": [],
   "source": [
    "io_ddf = ddf[ddf['cat'].isin([0,1,3])]\n",
    "exclude_dirs = [\".pyc\", \"/usr\",\"/g/g92/haridev/.nccl.conf\"]\n",
    "for directory in exclude_dirs:\n",
    "    io_ddf = io_ddf[~io_ddf['args_1'].str.contains(directory)]\n",
    "#io_ddf[rank] = io_ddf[rank].persist()\n",
    "mpi_ddf = ddf[ddf['cat'] == 2]\n",
    "#mpi_ddf[rank] = mpi_ddf[rank].persist()\n",
    "trace_ddf = ddf[ddf['cat'] == 4]"
   ]
  },
  {
   "cell_type": "markdown",
   "metadata": {},
   "source": [
    "### Check I/O interfaces used by application"
   ]
  },
  {
   "cell_type": "code",
   "execution_count": 21,
   "metadata": {},
   "outputs": [
    {
     "name": "stdout",
     "output_type": "stream",
     "text": [
      "0      __xstat\n",
      "1         open\n",
      "2     __fxstat\n",
      "3         read\n",
      "4        close\n",
      "5        lseek\n",
      "6    ftruncate\n",
      "7        write\n",
      "Name: func_id, dtype: object\n"
     ]
    }
   ],
   "source": [
    "interfaces = io_ddf['func_id'].unique().compute()\n",
    "print(interfaces)"
   ]
  },
  {
   "cell_type": "markdown",
   "metadata": {
    "tags": [
     "Finding"
    ]
   },
   "source": [
    "Only POSIX interface is used in this application"
   ]
  },
  {
   "cell_type": "markdown",
   "metadata": {},
   "source": [
    "### Set duration of I/O events"
   ]
  },
  {
   "cell_type": "code",
   "execution_count": 22,
   "metadata": {},
   "outputs": [],
   "source": [
    "io_ddf['duration'] = io_ddf['tend'] - io_ddf['tstart']"
   ]
  },
  {
   "cell_type": "code",
   "execution_count": 23,
   "metadata": {},
   "outputs": [
    {
     "name": "stdout",
     "output_type": "stream",
     "text": [
      "Application Profiler has stored 0 negetive values\n"
     ]
    }
   ],
   "source": [
    "negetive_duration = io_ddf[io_ddf['duration'] < 0]['duration'].count().compute()\n",
    "print(\"Application Profiler has stored {} negetive values\".format(negetive_duration))"
   ]
  },
  {
   "cell_type": "markdown",
   "metadata": {},
   "source": [
    "### Create conditions for filtering\n",
    "Even though this application doesnt have MPI or STDIO we have all the conditions here. This is to make sure we cover other apps as well."
   ]
  },
  {
   "cell_type": "code",
   "execution_count": 24,
   "metadata": {},
   "outputs": [],
   "source": [
    "open_condition = io_ddf['func_id'].str.contains(\"open\")\n",
    "mpi_condition = io_ddf['func_id'].str.contains(\"MPI\")\n",
    "read_condition = io_ddf['func_id'].isin([\"read\", \"pread\", \"pread64\", \"readv\"])\n",
    "fread_condition = io_ddf['func_id'].isin([\"fread\"])\n",
    "close_condition = io_ddf['func_id'].str.contains('close')\n",
    "write_condition = io_ddf['func_id'].isin([\"write\", \"pwrite\", \"pwrite64\",\"writev\"])\n",
    "fwrite_condition = io_ddf['func_id'].isin([\"fwrite\"])\n",
    "readdir_condition = io_ddf['func_id'].isin([\"readdir\"])"
   ]
  },
  {
   "cell_type": "markdown",
   "metadata": {},
   "source": [
    "### Extract Filename from each row.\n",
    "This simplifies analysis later on as we can filter recorder per rank and per file to understand access pattern information."
   ]
  },
  {
   "cell_type": "code",
   "execution_count": 25,
   "metadata": {},
   "outputs": [],
   "source": [
    "io_ddf['filename'] = \"\"\n",
    "io_ddf['filename'] = io_ddf['filename'].mask(open_condition & ~mpi_condition, io_ddf['args_1'])\n",
    "io_ddf['filename'] = io_ddf['filename'].mask(open_condition & mpi_condition, io_ddf['args_2'])\n",
    "io_ddf['filename'] = io_ddf['filename'].mask(close_condition, io_ddf['args_1'])\n",
    "io_ddf['filename'] = io_ddf['filename'].mask(read_condition, io_ddf['args_1'])\n",
    "io_ddf['filename'] = io_ddf['filename'].mask(fread_condition, io_ddf['args_4'])\n",
    "io_ddf['filename'] = io_ddf['filename'].mask(write_condition, io_ddf['args_1'])\n",
    "io_ddf['filename'] = io_ddf['filename'].mask(fwrite_condition, io_ddf['args_4'])"
   ]
  },
  {
   "cell_type": "markdown",
   "metadata": {},
   "source": [
    "Some filename has redundent forward slashes"
   ]
  },
  {
   "cell_type": "code",
   "execution_count": 26,
   "metadata": {},
   "outputs": [],
   "source": [
    "io_ddf['filename'] = io_ddf['filename'].str.replace('//','/')"
   ]
  },
  {
   "cell_type": "markdown",
   "metadata": {},
   "source": [
    "### Filter recorder which have read and write operations and which have metadata.\n",
    "We assume that there is only two types of operation in I/O read/write and metadata."
   ]
  },
  {
   "cell_type": "code",
   "execution_count": 27,
   "metadata": {},
   "outputs": [],
   "source": [
    "io_ddf_read_write = io_ddf[read_condition | write_condition].compute()\n",
    "io_ddf_metadata = io_ddf[~read_condition & ~write_condition].compute()"
   ]
  },
  {
   "cell_type": "markdown",
   "metadata": {},
   "source": [
    "### Build size and count to understand I/O on the io_ddf_read_write dataframe"
   ]
  },
  {
   "cell_type": "code",
   "execution_count": 28,
   "metadata": {},
   "outputs": [],
   "source": [
    "open_condition = io_ddf_read_write['func_id'].str.contains(\"open\")\n",
    "mpi_condition = io_ddf_read_write['func_id'].str.contains(\"MPI\")\n",
    "read_condition = io_ddf_read_write['func_id'].isin([\"read\", \"pread\", \"pread64\", \"readv\"])\n",
    "fread_condition = io_ddf_read_write['func_id'].isin([\"fread\"])\n",
    "close_condition = io_ddf_read_write['func_id'].str.contains('close')\n",
    "write_condition = io_ddf_read_write['func_id'].isin([\"write\", \"pwrite\", \"pwrite64\",\"writev\"])\n",
    "fwrite_condition = io_ddf_read_write['func_id'].isin([\"fwrite\"])\n",
    "readdir_condition = io_ddf_read_write['func_id'].isin([\"readdir\"])"
   ]
  },
  {
   "cell_type": "code",
   "execution_count": 29,
   "metadata": {},
   "outputs": [],
   "source": [
    "io_ddf_read_write['size'] = 0\n",
    "io_ddf_read_write['count'] = 1\n",
    "io_ddf_read_write['size'] = io_ddf_read_write['size'].mask(read_condition , io_ddf_read_write['args_3'])\n",
    "io_ddf_read_write['size'] = io_ddf_read_write['size'].mask(fread_condition, io_ddf_read_write['args_3'])\n",
    "io_ddf_read_write['count'] = io_ddf_read_write['count'].mask(fread_condition, io_ddf_read_write['args_2'])\n",
    "io_ddf_read_write['size'] = io_ddf_read_write['size'].mask(write_condition, io_ddf_read_write['args_3'])\n",
    "io_ddf_read_write['size'] = io_ddf_read_write['size'].mask(fwrite_condition, io_ddf_read_write['args_3'])\n",
    "io_ddf_read_write['count'] = io_ddf_read_write['count'].mask(fwrite_condition, io_ddf_read_write['args_2'])"
   ]
  },
  {
   "cell_type": "markdown",
   "metadata": {},
   "source": [
    "#### Corner cases"
   ]
  },
  {
   "cell_type": "code",
   "execution_count": 30,
   "metadata": {},
   "outputs": [],
   "source": [
    "io_ddf_read_write['size'] = io_ddf_read_write['size'].mask(readdir_condition , \"0\")\n",
    "io_ddf_read_write['count'] = io_ddf_read_write['count'].mask(readdir_condition , \"1\")"
   ]
  },
  {
   "cell_type": "markdown",
   "metadata": {},
   "source": [
    "#### Set Datatypes\n",
    "This is needed as by default args are string from which they are set."
   ]
  },
  {
   "cell_type": "code",
   "execution_count": 31,
   "metadata": {},
   "outputs": [],
   "source": [
    "io_ddf_read_write = io_ddf_read_write.astype({'size': 'int32','count': 'int32'})"
   ]
  },
  {
   "cell_type": "markdown",
   "metadata": {},
   "source": [
    "#### Compute Final Size\n",
    "After this point we do not use count field."
   ]
  },
  {
   "cell_type": "code",
   "execution_count": 32,
   "metadata": {},
   "outputs": [],
   "source": [
    "io_ddf_read_write['size'] = io_ddf_read_write['size'] * io_ddf_read_write['count']"
   ]
  },
  {
   "cell_type": "markdown",
   "metadata": {},
   "source": [
    "### Calculate Bandwidth in MB/s for I/O operations.\n",
    "Durations might be incorrect or equal to zero due to profilers resolution issues. Therefore, we do bandwidth calculations for only correct durations."
   ]
  },
  {
   "cell_type": "code",
   "execution_count": 33,
   "metadata": {},
   "outputs": [],
   "source": [
    "correct_dur = ((io_ddf_read_write['tend'] - io_ddf_read_write['tstart']) > 0)\n",
    "io_ddf_read_write['bandwidth'] = 0\n",
    "io_ddf_read_write['bandwidth'] = io_ddf_read_write['bandwidth'].mask(correct_dur, io_ddf_read_write['size']*1.0/(io_ddf_read_write['tend'] - io_ddf_read_write['tstart'])/1024.0/1024.0)"
   ]
  },
  {
   "cell_type": "markdown",
   "metadata": {
    "tags": [
     "Finding"
    ]
   },
   "source": [
    "### Calculate all relevent filenames in the application\n",
    "The profiler might see jsrun files and other irrelevant internal files which we filter here."
   ]
  },
  {
   "cell_type": "code",
   "execution_count": 34,
   "metadata": {},
   "outputs": [],
   "source": [
    "all_filenames = io_ddf[io_ddf['filename'].str.contains('/p/gpfs1')]['filename'].unique().compute()"
   ]
  },
  {
   "cell_type": "code",
   "execution_count": 35,
   "metadata": {
    "tags": [
     "Finding"
    ]
   },
   "outputs": [
    {
     "name": "stdout",
     "output_type": "stream",
     "text": [
      "The application accesses 774 files across all ranks\n"
     ]
    }
   ],
   "source": [
    "print(\"The application accesses {} files across all ranks\".format(len(all_filenames)))"
   ]
  },
  {
   "cell_type": "markdown",
   "metadata": {
    "tags": [
     "Finding"
    ]
   },
   "source": [
    "### Distribution of Transfer Size and Bandwidth in the application\n",
    "The transfer size is given by the size column in bytes and the bandwidth is shown in MB/s"
   ]
  },
  {
   "cell_type": "code",
   "execution_count": 36,
   "metadata": {
    "tags": [
     "Finding"
    ]
   },
   "outputs": [
    {
     "data": {
      "text/html": [
       "<div>\n",
       "<style scoped>\n",
       "    .dataframe tbody tr th:only-of-type {\n",
       "        vertical-align: middle;\n",
       "    }\n",
       "\n",
       "    .dataframe tbody tr th {\n",
       "        vertical-align: top;\n",
       "    }\n",
       "\n",
       "    .dataframe thead th {\n",
       "        text-align: right;\n",
       "    }\n",
       "</style>\n",
       "<table border=\"1\" class=\"dataframe\">\n",
       "  <thead>\n",
       "    <tr style=\"text-align: right;\">\n",
       "      <th></th>\n",
       "      <th>size</th>\n",
       "      <th>bandwidth</th>\n",
       "    </tr>\n",
       "  </thead>\n",
       "  <tbody>\n",
       "    <tr>\n",
       "      <th>count</th>\n",
       "      <td>3.585000e+03</td>\n",
       "      <td>3.585000e+03</td>\n",
       "    </tr>\n",
       "    <tr>\n",
       "      <th>mean</th>\n",
       "      <td>6.342885e+06</td>\n",
       "      <td>5.791478e+05</td>\n",
       "    </tr>\n",
       "    <tr>\n",
       "      <th>std</th>\n",
       "      <td>8.090536e+06</td>\n",
       "      <td>8.082188e+05</td>\n",
       "    </tr>\n",
       "    <tr>\n",
       "      <th>min</th>\n",
       "      <td>2.000000e+01</td>\n",
       "      <td>0.000000e+00</td>\n",
       "    </tr>\n",
       "    <tr>\n",
       "      <th>25%</th>\n",
       "      <td>1.378500e+04</td>\n",
       "      <td>1.773000e+02</td>\n",
       "    </tr>\n",
       "    <tr>\n",
       "      <th>50%</th>\n",
       "      <td>4.714400e+04</td>\n",
       "      <td>4.910833e+02</td>\n",
       "    </tr>\n",
       "    <tr>\n",
       "      <th>75%</th>\n",
       "      <td>1.677722e+07</td>\n",
       "      <td>1.597830e+06</td>\n",
       "    </tr>\n",
       "    <tr>\n",
       "      <th>max</th>\n",
       "      <td>1.677722e+07</td>\n",
       "      <td>2.396745e+06</td>\n",
       "    </tr>\n",
       "  </tbody>\n",
       "</table>\n",
       "</div>"
      ],
      "text/plain": [
       "               size     bandwidth\n",
       "count  3.585000e+03  3.585000e+03\n",
       "mean   6.342885e+06  5.791478e+05\n",
       "std    8.090536e+06  8.082188e+05\n",
       "min    2.000000e+01  0.000000e+00\n",
       "25%    1.378500e+04  1.773000e+02\n",
       "50%    4.714400e+04  4.910833e+02\n",
       "75%    1.677722e+07  1.597830e+06\n",
       "max    1.677722e+07  2.396745e+06"
      ]
     },
     "execution_count": 36,
     "metadata": {},
     "output_type": "execute_result"
    }
   ],
   "source": [
    "io_ddf_read_write[['size', 'bandwidth']].describe()"
   ]
  },
  {
   "cell_type": "markdown",
   "metadata": {},
   "source": [
    "### Preload the I/O dataframe for faster analysis"
   ]
  },
  {
   "cell_type": "code",
   "execution_count": 37,
   "metadata": {
    "tags": []
   },
   "outputs": [],
   "source": [
    "io_ddf = io_ddf.persist()\n",
    "result = wait(io_ddf)"
   ]
  },
  {
   "cell_type": "markdown",
   "metadata": {
    "tags": [
     "Finding"
    ]
   },
   "source": [
    "## Application Analysis"
   ]
  },
  {
   "cell_type": "markdown",
   "metadata": {},
   "source": [
    "### Num Ranks"
   ]
  },
  {
   "cell_type": "code",
   "execution_count": 38,
   "metadata": {
    "tags": [
     "Finding"
    ]
   },
   "outputs": [
    {
     "name": "stdout",
     "output_type": "stream",
     "text": [
      "Number of ranks in application 1280\n"
     ]
    }
   ],
   "source": [
    "num_ranks = io_ddf_read_write['rank'].nunique()\n",
    "print(\"Number of ranks in application {}\".format(num_ranks))"
   ]
  },
  {
   "cell_type": "markdown",
   "metadata": {},
   "source": [
    "### Total I/O amount"
   ]
  },
  {
   "cell_type": "code",
   "execution_count": 39,
   "metadata": {
    "tags": [
     "Finding"
    ]
   },
   "outputs": [
    {
     "name": "stdout",
     "output_type": "stream",
     "text": [
      "Total I/O in application 21.17757113277912 GB\n",
      "Total I/O per operation in application func_id\n",
      "read     20.031250\n",
      "write     1.146321\n",
      "Name: size, dtype: float64 GB\n"
     ]
    }
   ],
   "source": [
    "total_io = io_ddf_read_write.groupby('func_id')['size'].sum()/1024.0/1024.0/1024.0\n",
    "print(\"Total I/O in application {} GB\".format(total_io.sum()))\n",
    "print(\"Total I/O per operation in application {} GB\".format(total_io))"
   ]
  },
  {
   "cell_type": "markdown",
   "metadata": {},
   "source": [
    "### I/O per rank"
   ]
  },
  {
   "cell_type": "code",
   "execution_count": 40,
   "metadata": {},
   "outputs": [
    {
     "data": {
      "text/plain": [
       "rank  func_id\n",
       "0     read         50331648\n",
       "      write      1230852944\n",
       "1     read         16777216\n",
       "2     read         16777216\n",
       "3     read         16777216\n",
       "                    ...    \n",
       "1275  read         16777216\n",
       "1276  read         16777216\n",
       "1277  read         16777216\n",
       "1278  read         16777216\n",
       "1279  read         16777216\n",
       "Name: size, Length: 1281, dtype: int32"
      ]
     },
     "execution_count": 40,
     "metadata": {},
     "output_type": "execute_result"
    }
   ],
   "source": [
    "io_ddf_read_write.groupby(['rank', 'func_id'])['size'].sum()"
   ]
  },
  {
   "cell_type": "markdown",
   "metadata": {
    "tags": [
     "Finding"
    ]
   },
   "source": [
    "Every rank performs the same amount of I/O and is evenly distributed amoung the read and write operations"
   ]
  },
  {
   "cell_type": "code",
   "execution_count": 41,
   "metadata": {},
   "outputs": [
    {
     "data": {
      "text/plain": [
       "<AxesSubplot:xlabel='rank'>"
      ]
     },
     "execution_count": 41,
     "metadata": {},
     "output_type": "execute_result"
    },
    {
     "data": {
      "image/png": "[encoded data removed]",
      "text/plain": [
       "<Figure size 288x288 with 1 Axes>"
      ]
     },
     "metadata": {
      "needs_background": "light"
     },
     "output_type": "display_data"
    }
   ],
   "source": [
    "io_per_rank_gb = io_ddf_read_write.groupby(['rank'])['size'].sum()\n",
    "io_per_rank_gb.plot(kind='line',figsize=(4,4))"
   ]
  },
  {
   "cell_type": "markdown",
   "metadata": {},
   "source": [
    "### Operations Per Rank"
   ]
  },
  {
   "cell_type": "code",
   "execution_count": 42,
   "metadata": {},
   "outputs": [
    {
     "data": {
      "text/plain": [
       "<AxesSubplot:xlabel='rank'>"
      ]
     },
     "execution_count": 42,
     "metadata": {},
     "output_type": "execute_result"
    },
    {
     "data": {
      "image/png": "[encoded data removed]",
      "text/plain": [
       "<Figure size 288x288 with 1 Axes>"
      ]
     },
     "metadata": {
      "needs_background": "light"
     },
     "output_type": "display_data"
    }
   ],
   "source": [
    "io_per_rank_gb = io_ddf_read_write.groupby('rank')['count'].sum()\n",
    "io_per_rank_gb.plot(kind='line',figsize=(4,4))"
   ]
  },
  {
   "cell_type": "markdown",
   "metadata": {},
   "source": [
    "### Average I/O Time per process"
   ]
  },
  {
   "cell_type": "code",
   "execution_count": 43,
   "metadata": {},
   "outputs": [],
   "source": [
    "time_per_rank = io_ddf_read_write.groupby('rank')['duration'].sum()"
   ]
  },
  {
   "cell_type": "code",
   "execution_count": 44,
   "metadata": {},
   "outputs": [
    {
     "name": "stdout",
     "output_type": "stream",
     "text": [
      "time per process: Average 0.0004838157328777015 sec, Max 0.5810103416442871 sec, and Min 6.67572021484375e-06 sec\n"
     ]
    }
   ],
   "source": [
    "print(\"time per process: Average {} sec, Max {} sec, and Min {} sec\".format(time_per_rank.mean(), time_per_rank.max(), time_per_rank.min()))"
   ]
  },
  {
   "cell_type": "code",
   "execution_count": 45,
   "metadata": {},
   "outputs": [
    {
     "data": {
      "text/plain": [
       "<AxesSubplot:xlabel='rank'>"
      ]
     },
     "execution_count": 45,
     "metadata": {},
     "output_type": "execute_result"
    },
    {
     "data": {
      "image/png": "[encoded data removed]",
      "text/plain": [
       "<Figure size 288x288 with 1 Axes>"
      ]
     },
     "metadata": {
      "needs_background": "light"
     },
     "output_type": "display_data"
    }
   ],
   "source": [
    "time_per_rank.plot(kind='line',figsize=(4,4))"
   ]
  },
  {
   "cell_type": "markdown",
   "metadata": {
    "tags": [
     "Finding"
    ]
   },
   "source": [
    "Even though every rank has identical I/O (operations and amount), they have a variable performance.\n",
    "- **Possible Reason:**\n",
    "  - Overwelming of PFS from I/O parallelism.\n",
    "  - Transfer size doesnt match Stripe size."
   ]
  },
  {
   "cell_type": "markdown",
   "metadata": {},
   "source": [
    "### Compute Time"
   ]
  },
  {
   "cell_type": "markdown",
   "metadata": {},
   "source": [
    "#### Convert trace dataframe into memory."
   ]
  },
  {
   "cell_type": "code",
   "execution_count": 46,
   "metadata": {},
   "outputs": [],
   "source": [
    "trace_ddf_local = trace_ddf.compute()"
   ]
  },
  {
   "cell_type": "markdown",
   "metadata": {},
   "source": [
    "#### Calculate duration for trace values"
   ]
  },
  {
   "cell_type": "code",
   "execution_count": 47,
   "metadata": {},
   "outputs": [],
   "source": [
    "trace_ddf_local['duration'] = trace_ddf_local['tend'] - trace_ddf_local['tstart']"
   ]
  },
  {
   "cell_type": "code",
   "execution_count": 48,
   "metadata": {},
   "outputs": [
    {
     "data": {
      "text/plain": [
       "count    0.0\n",
       "mean     NaN\n",
       "std      NaN\n",
       "min      NaN\n",
       "25%      NaN\n",
       "50%      NaN\n",
       "75%      NaN\n",
       "max      NaN\n",
       "Name: duration, dtype: float64"
      ]
     },
     "execution_count": 48,
     "metadata": {},
     "output_type": "execute_result"
    }
   ],
   "source": [
    "trace_ddf_local['duration'].describe()"
   ]
  },
  {
   "cell_type": "code",
   "execution_count": 49,
   "metadata": {
    "tags": [
     "Finding"
    ]
   },
   "outputs": [
    {
     "name": "stdout",
     "output_type": "stream",
     "text": [
      "Profiler stored 0 negetive rows\n"
     ]
    }
   ],
   "source": [
    "negetive_durations = trace_ddf_local[trace_ddf_local['duration'] < 0]['duration'].count()\n",
    "print(\"Profiler stored {} negetive rows\".format(negetive_durations))"
   ]
  },
  {
   "cell_type": "code",
   "execution_count": 50,
   "metadata": {},
   "outputs": [],
   "source": [
    "time_per_rank = trace_ddf_local.groupby('rank')['duration'].sum()"
   ]
  },
  {
   "cell_type": "code",
   "execution_count": 51,
   "metadata": {
    "tags": [
     "Finding"
    ]
   },
   "outputs": [
    {
     "name": "stdout",
     "output_type": "stream",
     "text": [
      "Time per process: Average nan sec, Max nan sec, and Min nan sec\n"
     ]
    }
   ],
   "source": [
    "print(\"Time per process: Average {} sec, Max {} sec, and Min {} sec\".format(time_per_rank.mean(), time_per_rank.max(), time_per_rank.min()))"
   ]
  },
  {
   "cell_type": "code",
   "execution_count": 52,
   "metadata": {},
   "outputs": [
    {
     "data": {
      "text/plain": [
       "<AxesSubplot:xlabel='rank'>"
      ]
     },
     "execution_count": 52,
     "metadata": {},
     "output_type": "execute_result"
    },
    {
     "data": {
      "image/png": "[encoded data removed]",
      "text/plain": [
       "<Figure size 288x288 with 1 Axes>"
      ]
     },
     "metadata": {
      "needs_background": "light"
     },
     "output_type": "display_data"
    }
   ],
   "source": [
    "time_per_rank.plot(kind='line',figsize=(4,4))"
   ]
  },
  {
   "cell_type": "markdown",
   "metadata": {},
   "source": [
    "## Job Time"
   ]
  },
  {
   "cell_type": "code",
   "execution_count": 53,
   "metadata": {},
   "outputs": [],
   "source": [
    "job_time = ddf['tend'].max().compute()"
   ]
  },
  {
   "cell_type": "code",
   "execution_count": 54,
   "metadata": {},
   "outputs": [
    {
     "name": "stdout",
     "output_type": "stream",
     "text": [
      "Job Time in Application 668.3056030273438 sec\n"
     ]
    }
   ],
   "source": [
    "print(\"Job Time in Application {} sec\".format(job_time))"
   ]
  },
  {
   "cell_type": "markdown",
   "metadata": {},
   "source": [
    "The application run for a long time includes initialization."
   ]
  },
  {
   "cell_type": "markdown",
   "metadata": {},
   "source": [
    "## Job Intensity"
   ]
  },
  {
   "cell_type": "code",
   "execution_count": 55,
   "metadata": {},
   "outputs": [
    {
     "name": "stdout",
     "output_type": "stream",
     "text": [
      "I/O Time: 4.116042137145996 sec Compute Time: nan sec\n"
     ]
    }
   ],
   "source": [
    "total_compute = trace_ddf_local.groupby('rank')['duration'].sum().max()\n",
    "total_io = io_ddf.groupby('rank')['duration'].sum().max().compute()\n",
    "print(\"I/O Time: {} sec Compute Time: {} sec\".format(total_io, total_compute))"
   ]
  },
  {
   "cell_type": "code",
   "execution_count": 56,
   "metadata": {},
   "outputs": [],
   "source": [
    "io_intensity=total_io/(total_io + total_compute)\n",
    "comp_intensity=total_compute/(total_io + total_compute)"
   ]
  },
  {
   "cell_type": "code",
   "execution_count": 57,
   "metadata": {},
   "outputs": [
    {
     "name": "stdout",
     "output_type": "stream",
     "text": [
      "I/O intensity: nan, Compute intensity: nan\n"
     ]
    }
   ],
   "source": [
    "print(\"I/O intensity: {}, Compute intensity: {}\".format(io_intensity, comp_intensity))"
   ]
  },
  {
   "cell_type": "markdown",
   "metadata": {},
   "source": [
    "### I/O Transfer Size Distribution"
   ]
  },
  {
   "cell_type": "code",
   "execution_count": 58,
   "metadata": {},
   "outputs": [
    {
     "data": {
      "image/png": "[encoded data removed]",
      "text/plain": [
       "<Figure size 432x288 with 1 Axes>"
      ]
     },
     "metadata": {
      "needs_background": "light"
     },
     "output_type": "display_data"
    }
   ],
   "source": [
    "file_df_temp = io_ddf_read_write\n",
    "size_ranges = [0, 4*1024, 64*1024, 1024*1024, 16*1024*1024]\n",
    "size_ranges_str = []\n",
    "for range_val in size_ranges:\n",
    "    size_ranges_str.append(str(range_val))\n",
    "max_range = len(size_ranges)\n",
    "request_size = [0]*len(size_ranges)\n",
    "for i, val in enumerate(size_ranges):\n",
    "    #print(i, max_range)\n",
    "    if i < max_range - 1:\n",
    "        request_size[i] = file_df_temp[(file_df_temp['size'].ge(val)) & \n",
    "                                       (file_df_temp['size'].lt(size_ranges[i+1]))]['size'].count()\n",
    "    else:\n",
    "        request_size[i] = file_df_temp[(file_df_temp['size'] >=size_ranges[i])]['size'].count()\n",
    "\n",
    "#print(request_size)\n",
    "plt.bar(size_ranges_str, request_size)\n",
    "#file_sizes = file_df_temp['size'].to_numpy() / 1024.0 /1024.0\n",
    "#plt.hist(file_sizes, bins=100)\n",
    "plt.show()"
   ]
  },
  {
   "cell_type": "markdown",
   "metadata": {
    "tags": [
     "Finding"
    ]
   },
   "source": [
    "The application uses a transfer size of 4K and 16MB"
   ]
  },
  {
   "cell_type": "markdown",
   "metadata": {},
   "source": [
    "### Distribution of Bandwidth achived by application"
   ]
  },
  {
   "cell_type": "code",
   "execution_count": 59,
   "metadata": {},
   "outputs": [
    {
     "data": {
      "image/png": "[encoded data removed]",
      "text/plain": [
       "<Figure size 432x288 with 1 Axes>"
      ]
     },
     "metadata": {
      "needs_background": "light"
     },
     "output_type": "display_data"
    }
   ],
   "source": [
    "bw_ranges = [1, 128, 1024, 1024*64]\n",
    "bw_ranges_str = []\n",
    "for range_val in bw_ranges:\n",
    "    bw_ranges_str.append(str(range_val))\n",
    "max_range = len(bw_ranges)\n",
    "request_bw = [0]*len(bw_ranges)\n",
    "for i, val in enumerate(bw_ranges):\n",
    "    #print(i, max_range)\n",
    "    if i < max_range - 1:\n",
    "        request_bw[i] = file_df_temp[(file_df_temp['bandwidth'].ge(val)) & \n",
    "                                       (file_df_temp['bandwidth'].lt(bw_ranges[i+1]))]['size'].count()\n",
    "    else:\n",
    "        request_bw[i] = file_df_temp[(file_df_temp['bandwidth'] >=bw_ranges[i])]['size'].count()\n",
    "fig, ax = plt.subplots()\n",
    "ax.barh(bw_ranges_str, request_bw)\n",
    "for i, v in enumerate(request_bw):\n",
    "    ax.text(v + 3, i + .25, str(v), color='blue', fontweight='bold')\n",
    "plt.show()"
   ]
  },
  {
   "cell_type": "code",
   "execution_count": 60,
   "metadata": {},
   "outputs": [
    {
     "data": {
      "text/plain": [
       "[693, 1337, 123, 1249]"
      ]
     },
     "execution_count": 60,
     "metadata": {},
     "output_type": "execute_result"
    }
   ],
   "source": [
    "request_bw"
   ]
  },
  {
   "cell_type": "code",
   "execution_count": 61,
   "metadata": {},
   "outputs": [
    {
     "data": {
      "text/plain": [
       "array([20.37037037, 39.30041152,  3.61552028, 36.71369782])"
      ]
     },
     "execution_count": 61,
     "metadata": {},
     "output_type": "execute_result"
    }
   ],
   "source": [
    "percentage_bw = np.array(request_bw)*100/np.sum(request_bw)\n",
    "percentage_bw"
   ]
  },
  {
   "cell_type": "markdown",
   "metadata": {
    "tags": [
     "Finding"
    ]
   },
   "source": [
    "- 40% of the overall I/O got a bandwidth of 128 MB/s per process.\n",
    "- 35% achieve a low bandwidth of 64GB/s"
   ]
  },
  {
   "cell_type": "markdown",
   "metadata": {},
   "source": [
    "### Number of files read/written"
   ]
  },
  {
   "cell_type": "code",
   "execution_count": 62,
   "metadata": {
    "tags": [
     "Finding"
    ]
   },
   "outputs": [
    {
     "name": "stdout",
     "output_type": "stream",
     "text": [
      "The application accesses 774 files\n"
     ]
    }
   ],
   "source": [
    "all_filenames = io_ddf[io_ddf['filename'].str.contains('/p/gpfs1')]['filename'].unique().compute()\n",
    "print(\"The application accesses {} files\".format(len(all_filenames)))\n",
    "#print(all_filenames[:8],all_filenames[-8:])"
   ]
  },
  {
   "cell_type": "markdown",
   "metadata": {},
   "source": [
    "### I/O Operations by Application"
   ]
  },
  {
   "cell_type": "code",
   "execution_count": 63,
   "metadata": {},
   "outputs": [
    {
     "data": {
      "text/plain": [
       "func_id\n",
       "__fxstat     5685\n",
       "__xstat      5925\n",
       "close        4646\n",
       "ftruncate    1122\n",
       "lseek        1854\n",
       "open         4646\n",
       "read         1282\n",
       "write        2303\n",
       "Name: func_id, dtype: int64"
      ]
     },
     "execution_count": 63,
     "metadata": {},
     "output_type": "execute_result"
    }
   ],
   "source": [
    "io_ddf.groupby('func_id')['func_id'].count().compute()"
   ]
  },
  {
   "cell_type": "markdown",
   "metadata": {},
   "source": [
    "As there are 1280 ranks in total, MOst I/O is performed by rank 0 rest of them do less I/O"
   ]
  },
  {
   "cell_type": "markdown",
   "metadata": {},
   "source": [
    "### IO Operations per rank"
   ]
  },
  {
   "cell_type": "code",
   "execution_count": 64,
   "metadata": {},
   "outputs": [
    {
     "data": {
      "text/plain": [
       "rank  func_id  \n",
       "0     __fxstat     2993\n",
       "      __xstat      2251\n",
       "      close        2251\n",
       "      ftruncate    1122\n",
       "      lseek        1854\n",
       "      open         2251\n",
       "      read            3\n",
       "      write        2303\n",
       "Name: func_id, dtype: int64"
      ]
     },
     "execution_count": 64,
     "metadata": {},
     "output_type": "execute_result"
    }
   ],
   "source": [
    "io_ddf.groupby(['rank','func_id'])['func_id'].count().compute()[:8]"
   ]
  },
  {
   "cell_type": "code",
   "execution_count": 65,
   "metadata": {},
   "outputs": [
    {
     "data": {
      "text/plain": [
       "rank  func_id \n",
       "5     read        1\n",
       "6     __fxstat    1\n",
       "      __xstat     2\n",
       "      close       1\n",
       "      open        1\n",
       "      read        1\n",
       "7     __fxstat    1\n",
       "      __xstat     2\n",
       "Name: func_id, dtype: int64"
      ]
     },
     "execution_count": 65,
     "metadata": {},
     "output_type": "execute_result"
    }
   ],
   "source": [
    "io_ddf.groupby(['rank','func_id'])['func_id'].count().compute()[32:40]"
   ]
  },
  {
   "cell_type": "markdown",
   "metadata": {
    "tags": [
     "Finding"
    ]
   },
   "source": [
    "These confirm our hypothesis that HACC-IO performs same operations per process."
   ]
  },
  {
   "cell_type": "markdown",
   "metadata": {},
   "source": [
    "### Bandwidth per request distribution\n",
    "We calculate the achived bandwidth per request size."
   ]
  },
  {
   "cell_type": "code",
   "execution_count": 66,
   "metadata": {},
   "outputs": [
    {
     "data": {
      "image/png": "[encoded data removed]",
      "text/plain": [
       "<Figure size 1152x288 with 1 Axes>"
      ]
     },
     "metadata": {
      "needs_background": "light"
     },
     "output_type": "display_data"
    },
    {
     "data": {
      "image/png": "[encoded data removed]",
      "text/plain": [
       "<Figure size 1152x288 with 1 Axes>"
      ]
     },
     "metadata": {
      "needs_background": "light"
     },
     "output_type": "display_data"
    },
    {
     "data": {
      "image/png": "[encoded data removed]",
      "text/plain": [
       "<Figure size 1152x288 with 1 Axes>"
      ]
     },
     "metadata": {
      "needs_background": "light"
     },
     "output_type": "display_data"
    },
    {
     "data": {
      "image/png": "[encoded data removed]",
      "text/plain": [
       "<Figure size 1152x288 with 1 Axes>"
      ]
     },
     "metadata": {
      "needs_background": "light"
     },
     "output_type": "display_data"
    },
    {
     "data": {
      "image/png": "[encoded data removed]",
      "text/plain": [
       "<Figure size 1152x288 with 1 Axes>"
      ]
     },
     "metadata": {
      "needs_background": "light"
     },
     "output_type": "display_data"
    },
    {
     "name": "stderr",
     "output_type": "stream",
     "text": [
      "No handles with labels found to put in legend.\n"
     ]
    }
   ],
   "source": [
    "ranks = range(40)\n",
    "ranks_str = []\n",
    "for rank in ranks:\n",
    "    ranks_str.append(str(rank))\n",
    "size_ranges = [0, 4*1024, 64*1024, 1024*1024, 16*1024*1024]\n",
    "request_size = [[]]*len(size_ranges)\n",
    "for i, val in enumerate(size_ranges):\n",
    "    request_size[i] = [0]*len(ranks)\n",
    "    for j,rank in enumerate(ranks):\n",
    "        \n",
    "        file_df_temp = io_ddf_read_write[io_ddf_read_write['rank'] == rank]\n",
    "        max_range = len(size_ranges)\n",
    "        if i < max_range - 1:\n",
    "            request_size[i][j] = file_df_temp[(file_df_temp['size'].ge(val)) & \n",
    "                                           (file_df_temp['size'].lt(size_ranges[i+1]))]['bandwidth'].mean()\n",
    "        else:\n",
    "            request_size[i][j] = file_df_temp[(file_df_temp['size'] >=size_ranges[i])]['bandwidth'].mean()\n",
    "#fig, ax = plt.subplots(figsize=(16,4))\n",
    "#width = 0.35\n",
    "#plt.figure()\n",
    "for i, val in enumerate(size_ranges):\n",
    "    plt.figure(figsize=(16,4))\n",
    "    rects1 = plt.bar(ranks_str, request_size[i], 0.35, label=str(i))\n",
    "    plt.show()\n",
    "ax.legend()\n",
    "\n",
    "fig.tight_layout()\n",
    "\n",
    "plt.show()"
   ]
  },
  {
   "cell_type": "markdown",
   "metadata": {},
   "source": []
  },
  {
   "cell_type": "markdown",
   "metadata": {},
   "source": [
    "### Overlapping of Compute and I/O"
   ]
  },
  {
   "cell_type": "code",
   "execution_count": 67,
   "metadata": {},
   "outputs": [
    {
     "data": {
      "text/plain": [
       "count    1280.0\n",
       "mean        1.0\n",
       "std         0.0\n",
       "min         1.0\n",
       "25%         1.0\n",
       "50%         1.0\n",
       "75%         1.0\n",
       "max         1.0\n",
       "Name: thread_id, dtype: float64"
      ]
     },
     "execution_count": 67,
     "metadata": {},
     "output_type": "execute_result"
    }
   ],
   "source": [
    "io_ddf.groupby('rank')['thread_id'].nunique().describe().compute()"
   ]
  },
  {
   "cell_type": "markdown",
   "metadata": {},
   "source": [
    "#### No additional threads means I/O is synchronous to compute. I.e. all I/O is unoverlapped."
   ]
  },
  {
   "cell_type": "markdown",
   "metadata": {},
   "source": [
    "### Timeline\n",
    "The timeline analysis shows how each rank performs I/O over the runtime of the applications"
   ]
  },
  {
   "cell_type": "code",
   "execution_count": 68,
   "metadata": {},
   "outputs": [],
   "source": [
    "time_step=10 # in seconds"
   ]
  },
  {
   "cell_type": "markdown",
   "metadata": {},
   "source": [
    "#### Request Size Timeline"
   ]
  },
  {
   "cell_type": "code",
   "execution_count": 69,
   "metadata": {},
   "outputs": [
    {
     "data": {
      "image/png": "[encoded data removed]",
      "text/plain": [
       "<Figure size 432x288 with 1 Axes>"
      ]
     },
     "metadata": {
      "needs_background": "light"
     },
     "output_type": "display_data"
    },
    {
     "data": {
      "text/plain": [
       "<BarContainer object of 63 artists>"
      ]
     },
     "execution_count": 69,
     "metadata": {},
     "output_type": "execute_result"
    },
    {
     "data": {
      "image/png": "[encoded data removed]",
      "text/plain": [
       "<Figure size 1152x288 with 1 Axes>"
      ]
     },
     "metadata": {
      "needs_background": "light"
     },
     "output_type": "display_data"
    }
   ],
   "source": [
    "import math\n",
    "values = np.arange(0, math.ceil(job_time), time_step)\n",
    "values_int = range(len(values))\n",
    "values_str = []\n",
    "timeline_ts = [0]*len(values_int)\n",
    "prev = 0\n",
    "for i in values_int:\n",
    "    values_str.append(str(i))\n",
    "    contains = (io_ddf_read_write['tstart'] >=prev) & (io_ddf_read_write['tend'] <values[i])\n",
    "    timeline_ts[i] = io_ddf_read_write[contains]['size'].sum()/1024.0/1024.0\n",
    "    prev = i\n",
    "plt.bar(values_str[:4], timeline_ts[:4])\n",
    "plt.show()\n",
    "plt.figure(figsize=(16,4))\n",
    "plt.bar(values_str[4:], timeline_ts[4:])"
   ]
  },
  {
   "cell_type": "markdown",
   "metadata": {
    "tags": [
     "Finding"
    ]
   },
   "source": []
  },
  {
   "cell_type": "markdown",
   "metadata": {},
   "source": [
    "### Time Timeline"
   ]
  },
  {
   "cell_type": "code",
   "execution_count": 70,
   "metadata": {},
   "outputs": [
    {
     "data": {
      "image/png": "[encoded data removed]",
      "text/plain": [
       "<Figure size 432x288 with 1 Axes>"
      ]
     },
     "metadata": {
      "needs_background": "light"
     },
     "output_type": "display_data"
    },
    {
     "data": {
      "text/plain": [
       "<BarContainer object of 62 artists>"
      ]
     },
     "execution_count": 70,
     "metadata": {},
     "output_type": "execute_result"
    },
    {
     "data": {
      "image/png": "[encoded data removed]",
      "text/plain": [
       "<Figure size 1152x288 with 1 Axes>"
      ]
     },
     "metadata": {
      "needs_background": "light"
     },
     "output_type": "display_data"
    }
   ],
   "source": [
    "import math\n",
    "values = np.arange(0, math.ceil(job_time), time_step)\n",
    "values_int = range(len(values))\n",
    "timeline_ts = [0]*len(values_int)\n",
    "prev = 0\n",
    "values_str = []\n",
    "for i in values_int:\n",
    "    values_str.append(str(i))\n",
    "    contains = (io_ddf_read_write['tstart'] >=prev) & (io_ddf_read_write['tend'] <values[i])\n",
    "    timeline_ts[i] = io_ddf_read_write[contains]['duration'].sum()\n",
    "    prev = i\n",
    "plt.bar(values_str[:5], timeline_ts[:5])\n",
    "plt.show()\n",
    "plt.figure(figsize=(16,4))\n",
    "plt.bar(values_str[5:], timeline_ts[5:])"
   ]
  },
  {
   "cell_type": "markdown",
   "metadata": {},
   "source": [
    "#### Bandwidth Timeline"
   ]
  },
  {
   "cell_type": "code",
   "execution_count": 71,
   "metadata": {},
   "outputs": [
    {
     "data": {
      "image/png": "[encoded data removed]",
      "text/plain": [
       "<Figure size 432x288 with 1 Axes>"
      ]
     },
     "metadata": {
      "needs_background": "light"
     },
     "output_type": "display_data"
    },
    {
     "data": {
      "text/plain": [
       "<BarContainer object of 62 artists>"
      ]
     },
     "execution_count": 71,
     "metadata": {},
     "output_type": "execute_result"
    },
    {
     "data": {
      "image/png": "[encoded data removed]",
      "text/plain": [
       "<Figure size 1152x288 with 1 Axes>"
      ]
     },
     "metadata": {
      "needs_background": "light"
     },
     "output_type": "display_data"
    }
   ],
   "source": [
    "import math\n",
    "values = np.arange(0, math.ceil(job_time), time_step)\n",
    "values_int = range(len(values))\n",
    "timeline_ts = [0]*len(values_int)\n",
    "prev = 0\n",
    "values_str = []\n",
    "for i in values_int:\n",
    "    values_str.append(str(i))\n",
    "    contains = (io_ddf_read_write['tstart'] >=prev) & (io_ddf_read_write['tend'] <values[i])\n",
    "    timeline_ts[i] = io_ddf_read_write[contains]['bandwidth'].mean()/10.0\n",
    "    prev = i\n",
    "plt.bar(values_str[:5], timeline_ts[:5])\n",
    "plt.show()\n",
    "plt.figure(figsize=(16,4))\n",
    "plt.bar(values_str[5:], timeline_ts[5:])"
   ]
  },
  {
   "cell_type": "markdown",
   "metadata": {},
   "source": [
    "This supports our previous observation as the bandwidth is the measure of I/O performance of the application."
   ]
  },
  {
   "cell_type": "markdown",
   "metadata": {},
   "source": [
    "#### Bandwidth Timeline Per Rank"
   ]
  },
  {
   "cell_type": "code",
   "execution_count": 72,
   "metadata": {},
   "outputs": [
    {
     "name": "stdout",
     "output_type": "stream",
     "text": [
      "rank 0\n"
     ]
    },
    {
     "data": {
      "image/png": "[encoded data removed]",
      "text/plain": [
       "<Figure size 1152x288 with 1 Axes>"
      ]
     },
     "metadata": {
      "needs_background": "light"
     },
     "output_type": "display_data"
    },
    {
     "name": "stdout",
     "output_type": "stream",
     "text": [
      "rank 4\n"
     ]
    },
    {
     "data": {
      "image/png": "[encoded data removed]",
      "text/plain": [
       "<Figure size 432x288 with 1 Axes>"
      ]
     },
     "metadata": {
      "needs_background": "light"
     },
     "output_type": "display_data"
    },
    {
     "name": "stdout",
     "output_type": "stream",
     "text": [
      "rank 8\n"
     ]
    },
    {
     "data": {
      "image/png": "[encoded data removed]",
      "text/plain": [
       "<Figure size 432x288 with 1 Axes>"
      ]
     },
     "metadata": {
      "needs_background": "light"
     },
     "output_type": "display_data"
    },
    {
     "name": "stdout",
     "output_type": "stream",
     "text": [
      "rank 12\n"
     ]
    },
    {
     "data": {
      "image/png": "[encoded data removed]",
      "text/plain": [
       "<Figure size 432x288 with 1 Axes>"
      ]
     },
     "metadata": {
      "needs_background": "light"
     },
     "output_type": "display_data"
    },
    {
     "name": "stdout",
     "output_type": "stream",
     "text": [
      "rank 20\n"
     ]
    },
    {
     "data": {
      "image/png": "[encoded data removed]",
      "text/plain": [
       "<Figure size 432x288 with 1 Axes>"
      ]
     },
     "metadata": {
      "needs_background": "light"
     },
     "output_type": "display_data"
    }
   ],
   "source": [
    "import math\n",
    "\n",
    "selected_rank = [0, 4, 8, 12, 20]\n",
    "\n",
    "plt.figure(figsize=(16,4))\n",
    "for rank in selected_rank:\n",
    "    io_df_rank = io_ddf_read_write[io_ddf_read_write['rank'] == rank]\n",
    "    values = np.arange(0, math.ceil(job_time), time_step)\n",
    "    values_int = range(len(values))\n",
    "    timeline_ts = [0]*len(values_int)\n",
    "    value_str = []\n",
    "    prev = 0\n",
    "    for i in values_int:\n",
    "        value_str.append(str(i))\n",
    "        contains = (io_df_rank['tstart'] >=prev) & (io_df_rank['tend'] <values[i])\n",
    "        timeline_ts[i] = io_df_rank[contains]['bandwidth'].mean()\n",
    "        prev = i\n",
    "    print(\"rank {}\".format(rank))\n",
    "    plt.bar(value_str, timeline_ts)\n",
    "    plt.show()"
   ]
  },
  {
   "cell_type": "markdown",
   "metadata": {
    "tags": [
     "Finding"
    ]
   },
   "source": []
  },
  {
   "cell_type": "markdown",
   "metadata": {},
   "source": [
    "#### Request Size Timeline per Rank"
   ]
  },
  {
   "cell_type": "code",
   "execution_count": 73,
   "metadata": {},
   "outputs": [
    {
     "name": "stdout",
     "output_type": "stream",
     "text": [
      "rank 0\n"
     ]
    },
    {
     "data": {
      "image/png": "[encoded data removed]",
      "text/plain": [
       "<Figure size 1152x288 with 1 Axes>"
      ]
     },
     "metadata": {
      "needs_background": "light"
     },
     "output_type": "display_data"
    },
    {
     "name": "stdout",
     "output_type": "stream",
     "text": [
      "rank 4\n"
     ]
    },
    {
     "data": {
      "image/png": "[encoded data removed]",
      "text/plain": [
       "<Figure size 1152x288 with 1 Axes>"
      ]
     },
     "metadata": {
      "needs_background": "light"
     },
     "output_type": "display_data"
    },
    {
     "name": "stdout",
     "output_type": "stream",
     "text": [
      "rank 8\n"
     ]
    },
    {
     "data": {
      "image/png": "[encoded data removed]",
      "text/plain": [
       "<Figure size 1152x288 with 1 Axes>"
      ]
     },
     "metadata": {
      "needs_background": "light"
     },
     "output_type": "display_data"
    },
    {
     "name": "stdout",
     "output_type": "stream",
     "text": [
      "rank 12\n"
     ]
    },
    {
     "data": {
      "image/png": "[encoded data removed]",
      "text/plain": [
       "<Figure size 1152x288 with 1 Axes>"
      ]
     },
     "metadata": {
      "needs_background": "light"
     },
     "output_type": "display_data"
    },
    {
     "name": "stdout",
     "output_type": "stream",
     "text": [
      "rank 20\n"
     ]
    },
    {
     "data": {
      "image/png": "[encoded data removed]",
      "text/plain": [
       "<Figure size 1152x288 with 1 Axes>"
      ]
     },
     "metadata": {
      "needs_background": "light"
     },
     "output_type": "display_data"
    }
   ],
   "source": [
    "import math\n",
    "selected_rank = [0, 4, 8, 12, 20]\n",
    "for rank in selected_rank:\n",
    "    io_df_rank = io_ddf_read_write[io_ddf_read_write['rank'] == rank]\n",
    "    values = np.arange(0, math.ceil(job_time), time_step)\n",
    "    values_int = range(len(values))\n",
    "    timeline_ts = [0]*len(values_int)\n",
    "    value_str = []\n",
    "    prev = 0\n",
    "    for i in values_int:\n",
    "        value_str.append(str(i))\n",
    "        contains = (io_df_rank['tstart'] >=prev) & (io_df_rank['tend'] <values[i])\n",
    "        timeline_ts[i] = io_df_rank[contains]['size'].sum()/1024.0/1024.0\n",
    "        prev = i\n",
    "    print(\"rank {}\".format(rank))\n",
    "    plt.figure(figsize=(16,4))\n",
    "    plt.bar(value_str, timeline_ts)\n",
    "    plt.show()"
   ]
  },
  {
   "cell_type": "markdown",
   "metadata": {
    "tags": [
     "Finding"
    ]
   },
   "source": [
    "Through this we can hypothesize that each process is independently reading and writing data."
   ]
  },
  {
   "cell_type": "markdown",
   "metadata": {},
   "source": [
    "## Find file which are independent or shared\n",
    "- Make all thread id start from 0 and unique across ranks\n",
    "- Group by filename nunique thread_id\n",
    "- Find all filename with nunique > 1"
   ]
  },
  {
   "cell_type": "code",
   "execution_count": 74,
   "metadata": {},
   "outputs": [],
   "source": [
    "thread_index_series = io_ddf.groupby(['rank', 'thread_id'])['thread_id'].nunique().cumsum().compute()"
   ]
  },
  {
   "cell_type": "code",
   "execution_count": 75,
   "metadata": {},
   "outputs": [],
   "source": [
    "io_ddf['thread_index'] = 0\n",
    "for index,item in thread_index_series.iteritems():\n",
    "    condition = (io_ddf['rank'] == index[0]) & (io_ddf['thread_id'] == index[1])\n",
    "    io_ddf['thread_index'] = io_ddf['thread_index'].mask(condition , item - 1)"
   ]
  },
  {
   "cell_type": "code",
   "execution_count": 76,
   "metadata": {},
   "outputs": [
    {
     "name": "stdout",
     "output_type": "stream",
     "text": [
      "We have 1280 threads across 1280 ranks\n"
     ]
    }
   ],
   "source": [
    "threads = io_ddf['thread_index'].nunique().compute()\n",
    "print(\"We have {} threads across {} ranks\".format(threads, num_ranks))"
   ]
  },
  {
   "cell_type": "code",
   "execution_count": 77,
   "metadata": {},
   "outputs": [],
   "source": [
    "filename_series = io_ddf[io_ddf['filename'].str.contains('/p/gpfs1')].groupby(['filename'])['thread_index'].nunique().compute()"
   ]
  },
  {
   "cell_type": "code",
   "execution_count": 78,
   "metadata": {
    "tags": [
     "Finding"
    ]
   },
   "outputs": [
    {
     "name": "stdout",
     "output_type": "stream",
     "text": [
      "737 files that are accessed by application by only one rank\n"
     ]
    }
   ],
   "source": [
    "independent_files = filename_series[filename_series == 1]\n",
    "print(\"{} files that are accessed by application by only one rank\".format(len(independent_files)))"
   ]
  },
  {
   "cell_type": "code",
   "execution_count": 79,
   "metadata": {
    "tags": [
     "Finding"
    ]
   },
   "outputs": [
    {
     "name": "stdout",
     "output_type": "stream",
     "text": [
      "37 files that are accessed by application by more than one rank\n"
     ]
    }
   ],
   "source": [
    "shared_files = filename_series[filename_series > 1]\n",
    "print(\"{} files that are accessed by application by more than one rank\".format(len(shared_files)))"
   ]
  },
  {
   "cell_type": "markdown",
   "metadata": {
    "tags": [
     "Finding"
    ]
   },
   "source": [
    "This application doesnt share files. That is it follows a File per process pattern."
   ]
  },
  {
   "cell_type": "markdown",
   "metadata": {},
   "source": [
    "### Data Flow\n",
    "We plot how different ranks in the job are accessing data."
   ]
  },
  {
   "cell_type": "code",
   "execution_count": 95,
   "metadata": {},
   "outputs": [],
   "source": [
    "import graphviz\n",
    "dot = graphviz.Digraph()\n",
    "selected_indices = range(4)\n",
    "for selected_index in selected_indices:\n",
    "    selected_shared_file = shared_files.index[selected_index]\n",
    "    io_access_rank = io_ddf[io_ddf['filename'] == selected_shared_file].groupby(['rank','func_id'])['func_id'].count().compute()\n",
    "    dot.node(selected_shared_file)\n",
    "    for index,item in io_access_rank.iteritems():\n",
    "        rank = index[0]\n",
    "        func_id = index[1]\n",
    "        count = item\n",
    "        dot.node(str(rank))\n",
    "        dot.node(func_id)\n",
    "        dot.edge(str(rank),func_id)\n",
    "        if \"read\" in func_id:\n",
    "            dot.edge(selected_shared_file, func_id, label=str(count))\n",
    "        else:\n",
    "            dot.edge(func_id,selected_shared_file, label=str(count))"
   ]
  },
  {
   "cell_type": "code",
   "execution_count": 96,
   "metadata": {},
   "outputs": [
    {
     "data": {
      "image/svg+xml": [
       "<?xml version=\"1.0\" encoding=\"UTF-8\" standalone=\"no\"?>\n",
       "<!DOCTYPE svg PUBLIC \"-//W3C//DTD SVG 1.1//EN\"\n",
       " \"http://www.w3.org/Graphics/SVG/1.1/DTD/svg11.dtd\">\n",
       "<!-- Generated by graphviz version 2.42.3 (20191010.1750)\n",
       " -->\n",
       "<!-- Title: %3 Pages: 1 -->\n",
       "<svg width=\"7426pt\" height=\"204pt\"\n",
       " viewBox=\"0.00 0.00 7426.48 204.00\" xmlns=\"http://www.w3.org/2000/svg\" xmlns:xlink=\"http://www.w3.org/1999/xlink\">\n",
       "<g id=\"graph0\" class=\"graph\" transform=\"scale(1 1) rotate(0) translate(4 200)\">\n",
       "<title>%3</title>\n",
       "<polygon fill=\"white\" stroke=\"transparent\" points=\"-4,4 -4,-200 7422.48,-200 7422.48,4 -4,4\"/>\n",
       "<!-- /p/gpfs1/iopp/temp/cm1r20.3.2846827/config_files/les_ConvBoundLayer/cm1out_000001_s.dat -->\n",
       "<g id=\"node1\" class=\"node\">\n",
       "<title>/p/gpfs1/iopp/temp/cm1r20.3.2846827/config_files/les_ConvBoundLayer/cm1out_000001_s.dat</title>\n",
       "<ellipse fill=\"none\" stroke=\"black\" cx=\"547.48\" cy=\"-18\" rx=\"453.02\" ry=\"18\"/>\n",
       "<text text-anchor=\"middle\" x=\"547.48\" y=\"-14.3\" font-family=\"Times,serif\" font-size=\"14.00\">/p/gpfs1/iopp/temp/cm1r20.3.2846827/config_files/les_ConvBoundLayer/cm1out_000001_s.dat</text>\n",
       "</g>\n",
       "<!-- 0 -->\n",
       "<g id=\"node2\" class=\"node\">\n",
       "<title>0</title>\n",
       "<ellipse fill=\"none\" stroke=\"black\" cx=\"5630.48\" cy=\"-178\" rx=\"27\" ry=\"18\"/>\n",
       "<text text-anchor=\"middle\" x=\"5630.48\" y=\"-174.3\" font-family=\"Times,serif\" font-size=\"14.00\">0</text>\n",
       "</g>\n",
       "<!-- close -->\n",
       "<g id=\"node3\" class=\"node\">\n",
       "<title>close</title>\n",
       "<ellipse fill=\"none\" stroke=\"black\" cx=\"2496.48\" cy=\"-105\" rx=\"34.39\" ry=\"18\"/>\n",
       "<text text-anchor=\"middle\" x=\"2496.48\" y=\"-101.3\" font-family=\"Times,serif\" font-size=\"14.00\">close</text>\n",
       "</g>\n",
       "<!-- 0&#45;&gt;close -->\n",
       "<g id=\"edge1\" class=\"edge\">\n",
       "<title>0&#45;&gt;close</title>\n",
       "<path fill=\"none\" stroke=\"black\" d=\"M5603.15,-176.47C5317.78,-170.48 2900.64,-115.74 2540.98,-107.14\"/>\n",
       "<polygon fill=\"black\" stroke=\"black\" points=\"2541.03,-103.64 2530.94,-106.89 2540.86,-110.63 2541.03,-103.64\"/>\n",
       "</g>\n",
       "<!-- 0&#45;&gt;close -->\n",
       "<g id=\"edge69\" class=\"edge\">\n",
       "<title>0&#45;&gt;close</title>\n",
       "<path fill=\"none\" stroke=\"black\" d=\"M5603.43,-176.42C5320.09,-170.16 2900.48,-115.35 2541.03,-107.05\"/>\n",
       "<polygon fill=\"black\" stroke=\"black\" points=\"2541.08,-103.55 2531,-106.82 2540.92,-110.55 2541.08,-103.55\"/>\n",
       "</g>\n",
       "<!-- 0&#45;&gt;close -->\n",
       "<g id=\"edge197\" class=\"edge\">\n",
       "<title>0&#45;&gt;close</title>\n",
       "<path fill=\"none\" stroke=\"black\" d=\"M5603.38,-176.35C5319.74,-169.77 2899.97,-114.95 2540.92,-106.97\"/>\n",
       "<polygon fill=\"black\" stroke=\"black\" points=\"2540.98,-103.47 2530.9,-106.75 2540.82,-110.47 2540.98,-103.47\"/>\n",
       "</g>\n",
       "<!-- 0&#45;&gt;close -->\n",
       "<g id=\"edge325\" class=\"edge\">\n",
       "<title>0&#45;&gt;close</title>\n",
       "<path fill=\"none\" stroke=\"black\" d=\"M5603.46,-176.29C5319.52,-169.38 2900.76,-114.58 2540.98,-106.89\"/>\n",
       "<polygon fill=\"black\" stroke=\"black\" points=\"2541.01,-103.39 2530.94,-106.68 2540.86,-110.39 2541.01,-103.39\"/>\n",
       "</g>\n",
       "<!-- open -->\n",
       "<g id=\"node4\" class=\"node\">\n",
       "<title>open</title>\n",
       "<ellipse fill=\"none\" stroke=\"black\" cx=\"4737.48\" cy=\"-105\" rx=\"33.29\" ry=\"18\"/>\n",
       "<text text-anchor=\"middle\" x=\"4737.48\" y=\"-101.3\" font-family=\"Times,serif\" font-size=\"14.00\">open</text>\n",
       "</g>\n",
       "<!-- 0&#45;&gt;open -->\n",
       "<g id=\"edge3\" class=\"edge\">\n",
       "<title>0&#45;&gt;open</title>\n",
       "<path fill=\"none\" stroke=\"black\" d=\"M5606.21,-169.87C5590.91,-161.22 5577.61,-147.06 5562.48,-141 5488.85,-111.52 4941.48,-106.87 4780.92,-106.14\"/>\n",
       "<polygon fill=\"black\" stroke=\"black\" points=\"4780.93,-102.64 4770.92,-106.09 4780.9,-109.64 4780.93,-102.64\"/>\n",
       "</g>\n",
       "<!-- 0&#45;&gt;open -->\n",
       "<g id=\"edge71\" class=\"edge\">\n",
       "<title>0&#45;&gt;open</title>\n",
       "<path fill=\"none\" stroke=\"black\" d=\"M5612.52,-164.2C5603.58,-155.94 5592.62,-145.86 5580.48,-141 5505.76,-111.09 4943.13,-106.74 4781,-106.11\"/>\n",
       "<polygon fill=\"black\" stroke=\"black\" points=\"4780.92,-102.61 4770.91,-106.07 4780.9,-109.61 4780.92,-102.61\"/>\n",
       "</g>\n",
       "<!-- 0&#45;&gt;open -->\n",
       "<g id=\"edge199\" class=\"edge\">\n",
       "<title>0&#45;&gt;open</title>\n",
       "<path fill=\"none\" stroke=\"black\" d=\"M5624.42,-160.14C5618.06,-152.86 5608.68,-145.08 5598.48,-141 5522.75,-110.68 4945.85,-106.63 4781.17,-106.08\"/>\n",
       "<polygon fill=\"black\" stroke=\"black\" points=\"4780.94,-102.58 4770.92,-106.05 4780.91,-109.58 4780.94,-102.58\"/>\n",
       "</g>\n",
       "<!-- 0&#45;&gt;open -->\n",
       "<g id=\"edge327\" class=\"edge\">\n",
       "<title>0&#45;&gt;open</title>\n",
       "<path fill=\"none\" stroke=\"black\" d=\"M5641.44,-161.27C5637.02,-153.67 5627.21,-145.3 5616.48,-141 5539.79,-110.3 4949.1,-106.53 4781.16,-106.06\"/>\n",
       "<polygon fill=\"black\" stroke=\"black\" points=\"4780.95,-102.56 4770.94,-106.04 4780.93,-109.56 4780.95,-102.56\"/>\n",
       "</g>\n",
       "<!-- write -->\n",
       "<g id=\"node5\" class=\"node\">\n",
       "<title>write</title>\n",
       "<ellipse fill=\"none\" stroke=\"black\" cx=\"5709.48\" cy=\"-105\" rx=\"35.19\" ry=\"18\"/>\n",
       "<text text-anchor=\"middle\" x=\"5709.48\" y=\"-101.3\" font-family=\"Times,serif\" font-size=\"14.00\">write</text>\n",
       "</g>\n",
       "<!-- 0&#45;&gt;write -->\n",
       "<g id=\"edge5\" class=\"edge\">\n",
       "<title>0&#45;&gt;write</title>\n",
       "<path fill=\"none\" stroke=\"black\" d=\"M5631.97,-159.81C5641.13,-148.35 5657.9,-133.38 5674.23,-122.14\"/>\n",
       "<polygon fill=\"black\" stroke=\"black\" points=\"5676.21,-125.02 5682.69,-116.64 5672.4,-119.16 5676.21,-125.02\"/>\n",
       "</g>\n",
       "<!-- 0&#45;&gt;write -->\n",
       "<g id=\"edge73\" class=\"edge\">\n",
       "<title>0&#45;&gt;write</title>\n",
       "<path fill=\"none\" stroke=\"black\" d=\"M5641.94,-161.59C5652.2,-151.26 5667.31,-137.54 5680.71,-126.31\"/>\n",
       "<polygon fill=\"black\" stroke=\"black\" points=\"5683.27,-128.74 5688.78,-119.7 5678.83,-123.33 5683.27,-128.74\"/>\n",
       "</g>\n",
       "<!-- 0&#45;&gt;write -->\n",
       "<g id=\"edge201\" class=\"edge\">\n",
       "<title>0&#45;&gt;write</title>\n",
       "<path fill=\"none\" stroke=\"black\" d=\"M5649.1,-164.96C5661.49,-155.19 5677.51,-141.14 5690.03,-129.21\"/>\n",
       "<polygon fill=\"black\" stroke=\"black\" points=\"5692.6,-131.6 5697.32,-122.11 5687.71,-126.58 5692.6,-131.6\"/>\n",
       "</g>\n",
       "<!-- 0&#45;&gt;write -->\n",
       "<g id=\"edge329\" class=\"edge\">\n",
       "<title>0&#45;&gt;write</title>\n",
       "<path fill=\"none\" stroke=\"black\" d=\"M5653.52,-168.58C5669.75,-159.33 5688.68,-144.05 5701.2,-130.9\"/>\n",
       "<polygon fill=\"black\" stroke=\"black\" points=\"5704.12,-132.88 5708.09,-123.06 5698.86,-128.26 5704.12,-132.88\"/>\n",
       "</g>\n",
       "<!-- close&#45;&gt;/p/gpfs1/iopp/temp/cm1r20.3.2846827/config_files/les_ConvBoundLayer/cm1out_000001_s.dat -->\n",
       "<g id=\"edge2\" class=\"edge\">\n",
       "<title>close&#45;&gt;/p/gpfs1/iopp/temp/cm1r20.3.2846827/config_files/les_ConvBoundLayer/cm1out_000001_s.dat</title>\n",
       "<path fill=\"none\" stroke=\"black\" d=\"M2462.05,-103.85C2163.65,-102.49 26.1,-91.94 3.48,-69 -1.2,-64.25 -1.08,-58.86 3.48,-54 15.74,-40.92 68.41,-32.52 136.48,-27.17\"/>\n",
       "<polygon fill=\"black\" stroke=\"black\" points=\"136.93,-30.65 146.63,-26.4 136.4,-23.67 136.93,-30.65\"/>\n",
       "<text text-anchor=\"middle\" x=\"8.48\" y=\"-57.8\" font-family=\"Times,serif\" font-size=\"14.00\">1</text>\n",
       "</g>\n",
       "<!-- close&#45;&gt;/p/gpfs1/iopp/temp/cm1r20.3.2846827/config_files/les_ConvBoundLayer/cm1out_000001_s.dat -->\n",
       "<g id=\"edge8\" class=\"edge\">\n",
       "<title>close&#45;&gt;/p/gpfs1/iopp/temp/cm1r20.3.2846827/config_files/les_ConvBoundLayer/cm1out_000001_s.dat</title>\n",
       "<path fill=\"none\" stroke=\"black\" d=\"M2462.04,-103.84C2165.84,-102.43 58.78,-91.62 36.48,-69 31.8,-64.25 31.93,-58.87 36.48,-54 47.73,-41.95 95.35,-33.95 157.31,-28.65\"/>\n",
       "<polygon fill=\"black\" stroke=\"black\" points=\"157.69,-32.13 167.37,-27.83 157.12,-25.16 157.69,-32.13\"/>\n",
       "<text text-anchor=\"middle\" x=\"41.48\" y=\"-57.8\" font-family=\"Times,serif\" font-size=\"14.00\">1</text>\n",
       "</g>\n",
       "<!-- close&#45;&gt;/p/gpfs1/iopp/temp/cm1r20.3.2846827/config_files/les_ConvBoundLayer/cm1out_000001_s.dat -->\n",
       "<g id=\"edge10\" class=\"edge\">\n",
       "<title>close&#45;&gt;/p/gpfs1/iopp/temp/cm1r20.3.2846827/config_files/les_ConvBoundLayer/cm1out_000001_s.dat</title>\n",
       "<path fill=\"none\" stroke=\"black\" d=\"M2462.04,-103.83C2168.09,-102.38 91.47,-91.31 69.48,-69 64.8,-64.25 64.94,-58.88 69.48,-54 79.86,-42.84 123.44,-35.2 180.38,-29.98\"/>\n",
       "<polygon fill=\"black\" stroke=\"black\" points=\"180.73,-33.46 190.39,-29.1 180.12,-26.49 180.73,-33.46\"/>\n",
       "<text text-anchor=\"middle\" x=\"74.48\" y=\"-57.8\" font-family=\"Times,serif\" font-size=\"14.00\">1</text>\n",
       "</g>\n",
       "<!-- close&#45;&gt;/p/gpfs1/iopp/temp/cm1r20.3.2846827/config_files/les_ConvBoundLayer/cm1out_000001_s.dat -->\n",
       "<g id=\"edge12\" class=\"edge\">\n",
       "<title>close&#45;&gt;/p/gpfs1/iopp/temp/cm1r20.3.2846827/config_files/les_ConvBoundLayer/cm1out_000001_s.dat</title>\n",
       "<path fill=\"none\" stroke=\"black\" d=\"M2462.05,-103.83C2170.41,-102.32 124.16,-91 102.48,-69 97.8,-64.25 97.96,-58.9 102.48,-54 112.08,-43.62 152.35,-36.31 205.03,-31.17\"/>\n",
       "<polygon fill=\"black\" stroke=\"black\" points=\"205.37,-34.66 215,-30.24 204.72,-27.69 205.37,-34.66\"/>\n",
       "<text text-anchor=\"middle\" x=\"107.48\" y=\"-57.8\" font-family=\"Times,serif\" font-size=\"14.00\">1</text>\n",
       "</g>\n",
       "<!-- close&#45;&gt;/p/gpfs1/iopp/temp/cm1r20.3.2846827/config_files/les_ConvBoundLayer/cm1out_000001_s.dat -->\n",
       "<g id=\"edge14\" class=\"edge\">\n",
       "<title>close&#45;&gt;/p/gpfs1/iopp/temp/cm1r20.3.2846827/config_files/les_ConvBoundLayer/cm1out_000001_s.dat</title>\n",
       "<path fill=\"none\" stroke=\"black\" d=\"M2462.07,-103.82C2172.78,-102.27 156.85,-90.68 135.48,-69 130.8,-64.25 130.97,-58.91 135.48,-54 144.37,-44.32 181.9,-37.31 230.95,-32.24\"/>\n",
       "<polygon fill=\"black\" stroke=\"black\" points=\"231.3,-35.73 240.91,-31.26 230.61,-28.76 231.3,-35.73\"/>\n",
       "<text text-anchor=\"middle\" x=\"140.48\" y=\"-57.8\" font-family=\"Times,serif\" font-size=\"14.00\">1</text>\n",
       "</g>\n",
       "<!-- close&#45;&gt;/p/gpfs1/iopp/temp/cm1r20.3.2846827/config_files/les_ConvBoundLayer/cm1out_000001_s.dat -->\n",
       "<g id=\"edge16\" class=\"edge\">\n",
       "<title>close&#45;&gt;/p/gpfs1/iopp/temp/cm1r20.3.2846827/config_files/les_ConvBoundLayer/cm1out_000001_s.dat</title>\n",
       "<path fill=\"none\" stroke=\"black\" d=\"M2462.09,-103.81C2175.21,-102.21 189.53,-90.37 168.48,-69 151.32,-51.58 175.43,-40.05 218.48,-32.46\"/>\n",
       "<polygon fill=\"black\" stroke=\"black\" points=\"219.26,-35.87 228.56,-30.8 218.13,-28.97 219.26,-35.87\"/>\n",
       "<text text-anchor=\"middle\" x=\"173.48\" y=\"-57.8\" font-family=\"Times,serif\" font-size=\"14.00\">1</text>\n",
       "</g>\n",
       "<!-- close&#45;&gt;/p/gpfs1/iopp/temp/cm1r20.3.2846827/config_files/les_ConvBoundLayer/cm1out_000001_s.dat -->\n",
       "<g id=\"edge18\" class=\"edge\">\n",
       "<title>close&#45;&gt;/p/gpfs1/iopp/temp/cm1r20.3.2846827/config_files/les_ConvBoundLayer/cm1out_000001_s.dat</title>\n",
       "<path fill=\"none\" stroke=\"black\" d=\"M2461.68,-103.8C2175.65,-102.14 222.21,-90.05 201.48,-69 185.05,-52.32 209.96,-41.15 252.78,-33.68\"/>\n",
       "<polygon fill=\"black\" stroke=\"black\" points=\"253.49,-37.12 262.79,-32.05 252.36,-30.21 253.49,-37.12\"/>\n",
       "<text text-anchor=\"middle\" x=\"206.48\" y=\"-57.8\" font-family=\"Times,serif\" font-size=\"14.00\">1</text>\n",
       "</g>\n",
       "<!-- close&#45;&gt;/p/gpfs1/iopp/temp/cm1r20.3.2846827/config_files/les_ConvBoundLayer/cm1out_000001_s.dat -->\n",
       "<g id=\"edge20\" class=\"edge\">\n",
       "<title>close&#45;&gt;/p/gpfs1/iopp/temp/cm1r20.3.2846827/config_files/les_ConvBoundLayer/cm1out_000001_s.dat</title>\n",
       "<path fill=\"none\" stroke=\"black\" d=\"M2462.07,-104.13C2181.24,-105.15 275.32,-110.48 234.48,-69 218.69,-52.96 244.95,-42.07 288.01,-34.67\"/>\n",
       "<polygon fill=\"black\" stroke=\"black\" points=\"288.75,-38.09 298.06,-33.05 287.63,-31.18 288.75,-38.09\"/>\n",
       "<text text-anchor=\"middle\" x=\"239.48\" y=\"-57.8\" font-family=\"Times,serif\" font-size=\"14.00\">1</text>\n",
       "</g>\n",
       "<!-- close&#45;&gt;/p/gpfs1/iopp/temp/cm1r20.3.2846827/config_files/les_ConvBoundLayer/cm1out_000001_s.dat -->\n",
       "<g id=\"edge22\" class=\"edge\">\n",
       "<title>close&#45;&gt;/p/gpfs1/iopp/temp/cm1r20.3.2846827/config_files/les_ConvBoundLayer/cm1out_000001_s.dat</title>\n",
       "<path fill=\"none\" stroke=\"black\" d=\"M2461.69,-104.13C2181.88,-105.07 307.68,-109.83 267.48,-69 252.38,-53.66 280.02,-42.98 323.05,-35.55\"/>\n",
       "<polygon fill=\"black\" stroke=\"black\" points=\"323.75,-38.98 333.06,-33.92 322.63,-32.07 323.75,-38.98\"/>\n",
       "<text text-anchor=\"middle\" x=\"272.48\" y=\"-57.8\" font-family=\"Times,serif\" font-size=\"14.00\">1</text>\n",
       "</g>\n",
       "<!-- close&#45;&gt;/p/gpfs1/iopp/temp/cm1r20.3.2846827/config_files/les_ConvBoundLayer/cm1out_000001_s.dat -->\n",
       "<g id=\"edge24\" class=\"edge\">\n",
       "<title>close&#45;&gt;/p/gpfs1/iopp/temp/cm1r20.3.2846827/config_files/les_ConvBoundLayer/cm1out_000001_s.dat</title>\n",
       "<path fill=\"none\" stroke=\"black\" d=\"M2461.77,-104.12C2184.59,-104.98 340.06,-109.21 300.48,-69 295.8,-64.25 296.11,-59.03 300.48,-54 306.48,-47.09 317.23,-41.51 330.99,-37.01\"/>\n",
       "<polygon fill=\"black\" stroke=\"black\" points=\"332.38,-40.24 340.98,-34.06 330.4,-33.53 332.38,-40.24\"/>\n",
       "<text text-anchor=\"middle\" x=\"305.48\" y=\"-57.8\" font-family=\"Times,serif\" font-size=\"14.00\">1</text>\n",
       "</g>\n",
       "<!-- close&#45;&gt;/p/gpfs1/iopp/temp/cm1r20.3.2846827/config_files/les_ConvBoundLayer/cm1out_000001_s.dat -->\n",
       "<g id=\"edge26\" class=\"edge\">\n",
       "<title>close&#45;&gt;/p/gpfs1/iopp/temp/cm1r20.3.2846827/config_files/les_ConvBoundLayer/cm1out_000001_s.dat</title>\n",
       "<path fill=\"none\" stroke=\"black\" d=\"M2461.86,-104.11C2187.36,-104.9 372.44,-108.59 333.48,-69 328.8,-64.25 329.16,-59.08 333.48,-54 339.13,-47.36 349.73,-41.97 363.32,-37.61\"/>\n",
       "<polygon fill=\"black\" stroke=\"black\" points=\"364.55,-40.89 373.18,-34.75 362.6,-34.17 364.55,-40.89\"/>\n",
       "<text text-anchor=\"middle\" x=\"338.48\" y=\"-57.8\" font-family=\"Times,serif\" font-size=\"14.00\">1</text>\n",
       "</g>\n",
       "<!-- close&#45;&gt;/p/gpfs1/iopp/temp/cm1r20.3.2846827/config_files/les_ConvBoundLayer/cm1out_000001_s.dat -->\n",
       "<g id=\"edge28\" class=\"edge\">\n",
       "<title>close&#45;&gt;/p/gpfs1/iopp/temp/cm1r20.3.2846827/config_files/les_ConvBoundLayer/cm1out_000001_s.dat</title>\n",
       "<path fill=\"none\" stroke=\"black\" d=\"M2461.95,-104.1C2190.19,-104.81 404.82,-107.97 366.48,-69 354.21,-56.53 355.04,-47.09 364.01,-39.96\"/>\n",
       "<polygon fill=\"black\" stroke=\"black\" points=\"366.03,-42.83 372.86,-34.72 362.47,-36.81 366.03,-42.83\"/>\n",
       "<text text-anchor=\"middle\" x=\"371.48\" y=\"-57.8\" font-family=\"Times,serif\" font-size=\"14.00\">1</text>\n",
       "</g>\n",
       "<!-- close&#45;&gt;/p/gpfs1/iopp/temp/cm1r20.3.2846827/config_files/les_ConvBoundLayer/cm1out_000001_s.dat -->\n",
       "<g id=\"edge30\" class=\"edge\">\n",
       "<title>close&#45;&gt;/p/gpfs1/iopp/temp/cm1r20.3.2846827/config_files/les_ConvBoundLayer/cm1out_000001_s.dat</title>\n",
       "<path fill=\"none\" stroke=\"black\" d=\"M2462.06,-104.09C2193.07,-104.72 437.2,-107.35 399.48,-69 386.72,-56.03 390.81,-46.42 403.8,-39.31\"/>\n",
       "<polygon fill=\"black\" stroke=\"black\" points=\"405.27,-42.48 412.96,-35.19 402.4,-36.1 405.27,-42.48\"/>\n",
       "<text text-anchor=\"middle\" x=\"404.48\" y=\"-57.8\" font-family=\"Times,serif\" font-size=\"14.00\">1</text>\n",
       "</g>\n",
       "<!-- close&#45;&gt;/p/gpfs1/iopp/temp/cm1r20.3.2846827/config_files/les_ConvBoundLayer/cm1out_000001_s.dat -->\n",
       "<g id=\"edge32\" class=\"edge\">\n",
       "<title>close&#45;&gt;/p/gpfs1/iopp/temp/cm1r20.3.2846827/config_files/les_ConvBoundLayer/cm1out_000001_s.dat</title>\n",
       "<path fill=\"none\" stroke=\"black\" d=\"M2461.76,-104.08C2194.19,-104.63 469.56,-106.71 432.48,-69 420.05,-56.36 427.16,-46.7 442.64,-39.41\"/>\n",
       "<polygon fill=\"black\" stroke=\"black\" points=\"444.08,-42.6 452.03,-35.6 441.45,-36.12 444.08,-42.6\"/>\n",
       "<text text-anchor=\"middle\" x=\"437.48\" y=\"-57.8\" font-family=\"Times,serif\" font-size=\"14.00\">1</text>\n",
       "</g>\n",
       "<!-- close&#45;&gt;/p/gpfs1/iopp/temp/cm1r20.3.2846827/config_files/les_ConvBoundLayer/cm1out_000001_s.dat -->\n",
       "<g id=\"edge34\" class=\"edge\">\n",
       "<title>close&#45;&gt;/p/gpfs1/iopp/temp/cm1r20.3.2846827/config_files/les_ConvBoundLayer/cm1out_000001_s.dat</title>\n",
       "<path fill=\"none\" stroke=\"black\" d=\"M2461.9,-104.07C2197.23,-104.54 501.94,-106.1 465.48,-69 454.49,-57.82 462.64,-48.1 477.35,-40.29\"/>\n",
       "<polygon fill=\"black\" stroke=\"black\" points=\"479.11,-43.33 486.67,-35.91 476.14,-36.99 479.11,-43.33\"/>\n",
       "<text text-anchor=\"middle\" x=\"470.48\" y=\"-57.8\" font-family=\"Times,serif\" font-size=\"14.00\">1</text>\n",
       "</g>\n",
       "<!-- close&#45;&gt;/p/gpfs1/iopp/temp/cm1r20.3.2846827/config_files/les_ConvBoundLayer/cm1out_000001_s.dat -->\n",
       "<g id=\"edge36\" class=\"edge\">\n",
       "<title>close&#45;&gt;/p/gpfs1/iopp/temp/cm1r20.3.2846827/config_files/les_ConvBoundLayer/cm1out_000001_s.dat</title>\n",
       "<path fill=\"none\" stroke=\"black\" d=\"M2462.04,-104.06C2200.33,-104.45 534.33,-105.48 498.48,-69 489.84,-60.21 495.73,-50.54 506,-42.07\"/>\n",
       "<polygon fill=\"black\" stroke=\"black\" points=\"508.1,-44.87 514.1,-36.14 503.97,-39.22 508.1,-44.87\"/>\n",
       "<text text-anchor=\"middle\" x=\"503.48\" y=\"-57.8\" font-family=\"Times,serif\" font-size=\"14.00\">1</text>\n",
       "</g>\n",
       "<!-- close&#45;&gt;/p/gpfs1/iopp/temp/cm1r20.3.2846827/config_files/les_ConvBoundLayer/cm1out_000001_s.dat -->\n",
       "<g id=\"edge38\" class=\"edge\">\n",
       "<title>close&#45;&gt;/p/gpfs1/iopp/temp/cm1r20.3.2846827/config_files/les_ConvBoundLayer/cm1out_000001_s.dat</title>\n",
       "<path fill=\"none\" stroke=\"black\" d=\"M2461.79,-104.05C2201.74,-104.36 566.69,-104.84 531.48,-69 525.2,-62.6 526.11,-53.73 529.61,-45.24\"/>\n",
       "<polygon fill=\"black\" stroke=\"black\" points=\"532.74,-46.8 534.21,-36.31 526.52,-43.59 532.74,-46.8\"/>\n",
       "<text text-anchor=\"middle\" x=\"536.48\" y=\"-57.8\" font-family=\"Times,serif\" font-size=\"14.00\">1</text>\n",
       "</g>\n",
       "<!-- close&#45;&gt;/p/gpfs1/iopp/temp/cm1r20.3.2846827/config_files/les_ConvBoundLayer/cm1out_000001_s.dat -->\n",
       "<g id=\"edge40\" class=\"edge\">\n",
       "<title>close&#45;&gt;/p/gpfs1/iopp/temp/cm1r20.3.2846827/config_files/les_ConvBoundLayer/cm1out_000001_s.dat</title>\n",
       "<path fill=\"none\" stroke=\"black\" d=\"M2462.06,-103.92C2205.83,-103.28 604.36,-98.11 564.48,-69 557.14,-63.64 552.93,-54.93 550.53,-46.26\"/>\n",
       "<polygon fill=\"black\" stroke=\"black\" points=\"553.93,-45.4 548.47,-36.32 547.08,-46.82 553.93,-45.4\"/>\n",
       "<text text-anchor=\"middle\" x=\"569.48\" y=\"-57.8\" font-family=\"Times,serif\" font-size=\"14.00\">1</text>\n",
       "</g>\n",
       "<!-- close&#45;&gt;/p/gpfs1/iopp/temp/cm1r20.3.2846827/config_files/les_ConvBoundLayer/cm1out_000001_s.dat -->\n",
       "<g id=\"edge42\" class=\"edge\">\n",
       "<title>close&#45;&gt;/p/gpfs1/iopp/temp/cm1r20.3.2846827/config_files/les_ConvBoundLayer/cm1out_000001_s.dat</title>\n",
       "<path fill=\"none\" stroke=\"black\" d=\"M2462.04,-104.1C2212.33,-104.71 686.62,-106.89 597.48,-69 585.12,-63.75 574.2,-53.86 565.74,-44.25\"/>\n",
       "<polygon fill=\"black\" stroke=\"black\" points=\"568.29,-41.85 559.23,-36.35 562.89,-46.3 568.29,-41.85\"/>\n",
       "<text text-anchor=\"middle\" x=\"602.48\" y=\"-57.8\" font-family=\"Times,serif\" font-size=\"14.00\">1</text>\n",
       "</g>\n",
       "<!-- close&#45;&gt;/p/gpfs1/iopp/temp/cm1r20.3.2846827/config_files/les_ConvBoundLayer/cm1out_000001_s.dat -->\n",
       "<g id=\"edge44\" class=\"edge\">\n",
       "<title>close&#45;&gt;/p/gpfs1/iopp/temp/cm1r20.3.2846827/config_files/les_ConvBoundLayer/cm1out_000001_s.dat</title>\n",
       "<path fill=\"none\" stroke=\"black\" d=\"M2461.92,-103.89C2214.64,-103.07 721.36,-96.95 630.48,-69 618.82,-65.41 617.87,-60.41 607.48,-54 600.63,-49.77 593.26,-45.36 586.12,-41.16\"/>\n",
       "<polygon fill=\"black\" stroke=\"black\" points=\"587.66,-38 577.26,-35.98 584.12,-44.05 587.66,-38\"/>\n",
       "<text text-anchor=\"middle\" x=\"635.48\" y=\"-57.8\" font-family=\"Times,serif\" font-size=\"14.00\">1</text>\n",
       "</g>\n",
       "<!-- close&#45;&gt;/p/gpfs1/iopp/temp/cm1r20.3.2846827/config_files/les_ConvBoundLayer/cm1out_000001_s.dat -->\n",
       "<g id=\"edge46\" class=\"edge\">\n",
       "<title>close&#45;&gt;/p/gpfs1/iopp/temp/cm1r20.3.2846827/config_files/les_ConvBoundLayer/cm1out_000001_s.dat</title>\n",
       "<path fill=\"none\" stroke=\"black\" d=\"M2461.75,-103.88C2216.5,-102.98 752.65,-96.44 663.48,-69 651.82,-65.41 651.37,-59.52 640.48,-54 630.24,-48.81 619.05,-43.96 608.08,-39.62\"/>\n",
       "<polygon fill=\"black\" stroke=\"black\" points=\"609.13,-36.27 598.54,-35.93 606.61,-42.8 609.13,-36.27\"/>\n",
       "<text text-anchor=\"middle\" x=\"668.48\" y=\"-57.8\" font-family=\"Times,serif\" font-size=\"14.00\">1</text>\n",
       "</g>\n",
       "<!-- close&#45;&gt;/p/gpfs1/iopp/temp/cm1r20.3.2846827/config_files/les_ConvBoundLayer/cm1out_000001_s.dat -->\n",
       "<g id=\"edge48\" class=\"edge\">\n",
       "<title>close&#45;&gt;/p/gpfs1/iopp/temp/cm1r20.3.2846827/config_files/les_ConvBoundLayer/cm1out_000001_s.dat</title>\n",
       "<path fill=\"none\" stroke=\"black\" d=\"M2461.99,-103.87C2220.01,-102.89 784,-95.94 696.48,-69 684.82,-65.41 684.6,-59.03 673.48,-54 660.54,-48.15 646.39,-43.07 632.41,-38.73\"/>\n",
       "<polygon fill=\"black\" stroke=\"black\" points=\"633.36,-35.36 622.77,-35.85 631.35,-42.07 633.36,-35.36\"/>\n",
       "<text text-anchor=\"middle\" x=\"701.48\" y=\"-57.8\" font-family=\"Times,serif\" font-size=\"14.00\">1</text>\n",
       "</g>\n",
       "<!-- close&#45;&gt;/p/gpfs1/iopp/temp/cm1r20.3.2846827/config_files/les_ConvBoundLayer/cm1out_000001_s.dat -->\n",
       "<g id=\"edge50\" class=\"edge\">\n",
       "<title>close&#45;&gt;/p/gpfs1/iopp/temp/cm1r20.3.2846827/config_files/les_ConvBoundLayer/cm1out_000001_s.dat</title>\n",
       "<path fill=\"none\" stroke=\"black\" d=\"M2461.86,-103.86C2222.07,-102.79 815.3,-95.44 729.48,-69 717.82,-65.41 717.73,-58.72 706.48,-54 691.48,-47.71 675.19,-42.47 658.94,-38.14\"/>\n",
       "<polygon fill=\"black\" stroke=\"black\" points=\"659.4,-34.65 648.85,-35.56 657.67,-41.43 659.4,-34.65\"/>\n",
       "<text text-anchor=\"middle\" x=\"734.48\" y=\"-57.8\" font-family=\"Times,serif\" font-size=\"14.00\">1</text>\n",
       "</g>\n",
       "<!-- close&#45;&gt;/p/gpfs1/iopp/temp/cm1r20.3.2846827/config_files/les_ConvBoundLayer/cm1out_000001_s.dat -->\n",
       "<g id=\"edge52\" class=\"edge\">\n",
       "<title>close&#45;&gt;/p/gpfs1/iopp/temp/cm1r20.3.2846827/config_files/les_ConvBoundLayer/cm1out_000001_s.dat</title>\n",
       "<path fill=\"none\" stroke=\"black\" d=\"M2461.75,-103.84C2224.25,-102.69 846.6,-94.93 762.48,-69 750.82,-65.4 750.82,-58.52 739.48,-54 722.74,-47.33 704.66,-41.92 686.53,-37.54\"/>\n",
       "<polygon fill=\"black\" stroke=\"black\" points=\"687.29,-34.12 676.76,-35.27 685.71,-40.94 687.29,-34.12\"/>\n",
       "<text text-anchor=\"middle\" x=\"767.48\" y=\"-57.8\" font-family=\"Times,serif\" font-size=\"14.00\">1</text>\n",
       "</g>\n",
       "<!-- close&#45;&gt;/p/gpfs1/iopp/temp/cm1r20.3.2846827/config_files/les_ConvBoundLayer/cm1out_000001_s.dat -->\n",
       "<g id=\"edge54\" class=\"edge\">\n",
       "<title>close&#45;&gt;/p/gpfs1/iopp/temp/cm1r20.3.2846827/config_files/les_ConvBoundLayer/cm1out_000001_s.dat</title>\n",
       "<path fill=\"none\" stroke=\"black\" d=\"M2462.03,-103.83C2227.98,-102.6 877.95,-94.44 795.48,-69 783.82,-65.4 783.88,-58.37 772.48,-54 754.4,-47.07 735.01,-41.51 715.46,-37.05\"/>\n",
       "<polygon fill=\"black\" stroke=\"black\" points=\"716.06,-33.6 705.54,-34.88 714.56,-40.44 716.06,-33.6\"/>\n",
       "<text text-anchor=\"middle\" x=\"800.48\" y=\"-57.8\" font-family=\"Times,serif\" font-size=\"14.00\">1</text>\n",
       "</g>\n",
       "<!-- close&#45;&gt;/p/gpfs1/iopp/temp/cm1r20.3.2846827/config_files/les_ConvBoundLayer/cm1out_000001_s.dat -->\n",
       "<g id=\"edge56\" class=\"edge\">\n",
       "<title>close&#45;&gt;/p/gpfs1/iopp/temp/cm1r20.3.2846827/config_files/les_ConvBoundLayer/cm1out_000001_s.dat</title>\n",
       "<path fill=\"none\" stroke=\"black\" d=\"M2461.96,-103.81C2230.36,-102.5 909.26,-93.94 828.48,-69 816.82,-65.4 816.92,-58.26 805.48,-54 786.19,-46.82 765.6,-41.08 744.78,-36.51\"/>\n",
       "<polygon fill=\"black\" stroke=\"black\" points=\"745.38,-33.06 734.87,-34.42 743.94,-39.91 745.38,-33.06\"/>\n",
       "<text text-anchor=\"middle\" x=\"833.48\" y=\"-57.8\" font-family=\"Times,serif\" font-size=\"14.00\">1</text>\n",
       "</g>\n",
       "<!-- close&#45;&gt;/p/gpfs1/iopp/temp/cm1r20.3.2846827/config_files/les_ConvBoundLayer/cm1out_000001_s.dat -->\n",
       "<g id=\"edge58\" class=\"edge\">\n",
       "<title>close&#45;&gt;/p/gpfs1/iopp/temp/cm1r20.3.2846827/config_files/les_ConvBoundLayer/cm1out_000001_s.dat</title>\n",
       "<path fill=\"none\" stroke=\"black\" d=\"M2461.91,-103.8C2232.85,-102.4 940.57,-93.44 861.48,-69 849.82,-65.4 849.95,-58.17 838.48,-54 817.96,-46.54 796.15,-40.6 774.05,-35.87\"/>\n",
       "<polygon fill=\"black\" stroke=\"black\" points=\"774.73,-32.44 764.23,-33.85 773.32,-39.29 774.73,-32.44\"/>\n",
       "<text text-anchor=\"middle\" x=\"866.48\" y=\"-57.8\" font-family=\"Times,serif\" font-size=\"14.00\">1</text>\n",
       "</g>\n",
       "<!-- close&#45;&gt;/p/gpfs1/iopp/temp/cm1r20.3.2846827/config_files/les_ConvBoundLayer/cm1out_000001_s.dat -->\n",
       "<g id=\"edge60\" class=\"edge\">\n",
       "<title>close&#45;&gt;/p/gpfs1/iopp/temp/cm1r20.3.2846827/config_files/les_ConvBoundLayer/cm1out_000001_s.dat</title>\n",
       "<path fill=\"none\" stroke=\"black\" d=\"M2461.88,-103.78C2235.46,-102.29 971.89,-92.93 894.48,-69 882.82,-65.39 882.97,-58.1 871.48,-54 850.18,-46.4 810.58,-40.13 766.19,-35.11\"/>\n",
       "<polygon fill=\"black\" stroke=\"black\" points=\"766.36,-31.6 756.04,-33.99 765.6,-38.56 766.36,-31.6\"/>\n",
       "<text text-anchor=\"middle\" x=\"899.48\" y=\"-57.8\" font-family=\"Times,serif\" font-size=\"14.00\">1</text>\n",
       "</g>\n",
       "<!-- close&#45;&gt;/p/gpfs1/iopp/temp/cm1r20.3.2846827/config_files/les_ConvBoundLayer/cm1out_000001_s.dat -->\n",
       "<g id=\"edge62\" class=\"edge\">\n",
       "<title>close&#45;&gt;/p/gpfs1/iopp/temp/cm1r20.3.2846827/config_files/les_ConvBoundLayer/cm1out_000001_s.dat</title>\n",
       "<path fill=\"none\" stroke=\"black\" d=\"M2461.88,-103.77C2238.18,-102.19 1003.21,-92.43 927.48,-69 915.82,-65.39 915.99,-58.04 904.48,-54 881.39,-45.89 838.84,-39.46 790.94,-34.44\"/>\n",
       "<polygon fill=\"black\" stroke=\"black\" points=\"791.28,-30.96 780.97,-33.43 790.57,-37.92 791.28,-30.96\"/>\n",
       "<text text-anchor=\"middle\" x=\"932.48\" y=\"-57.8\" font-family=\"Times,serif\" font-size=\"14.00\">1</text>\n",
       "</g>\n",
       "<!-- close&#45;&gt;/p/gpfs1/iopp/temp/cm1r20.3.2846827/config_files/les_ConvBoundLayer/cm1out_000001_s.dat -->\n",
       "<g id=\"edge64\" class=\"edge\">\n",
       "<title>close&#45;&gt;/p/gpfs1/iopp/temp/cm1r20.3.2846827/config_files/les_ConvBoundLayer/cm1out_000001_s.dat</title>\n",
       "<path fill=\"none\" stroke=\"black\" d=\"M2461.9,-103.75C2241.02,-102.08 1034.53,-91.93 960.48,-69 948.82,-65.39 949.01,-58 937.48,-54 912.63,-45.38 867.16,-38.78 815.82,-33.76\"/>\n",
       "<polygon fill=\"black\" stroke=\"black\" points=\"816.11,-30.27 805.82,-32.8 815.44,-37.24 816.11,-30.27\"/>\n",
       "<text text-anchor=\"middle\" x=\"965.48\" y=\"-57.8\" font-family=\"Times,serif\" font-size=\"14.00\">1</text>\n",
       "</g>\n",
       "<!-- close&#45;&gt;/p/gpfs1/iopp/temp/cm1r20.3.2846827/config_files/les_ConvBoundLayer/cm1out_000001_s.dat -->\n",
       "<g id=\"edge66\" class=\"edge\">\n",
       "<title>close&#45;&gt;/p/gpfs1/iopp/temp/cm1r20.3.2846827/config_files/les_ConvBoundLayer/cm1out_000001_s.dat</title>\n",
       "<path fill=\"none\" stroke=\"black\" d=\"M2461.94,-103.73C2243.97,-101.97 1065.86,-91.44 993.48,-69 981.82,-65.39 982.03,-57.96 970.48,-54 943.77,-44.84 895.13,-38.03 840.09,-32.98\"/>\n",
       "<polygon fill=\"black\" stroke=\"black\" points=\"840.38,-29.49 830.11,-32.09 839.76,-36.47 840.38,-29.49\"/>\n",
       "<text text-anchor=\"middle\" x=\"998.48\" y=\"-57.8\" font-family=\"Times,serif\" font-size=\"14.00\">1</text>\n",
       "</g>\n",
       "<!-- close&#45;&gt;/p/gpfs1/iopp/temp/cm1r20.3.2846827/config_files/les_ConvBoundLayer/cm1out_000001_s.dat -->\n",
       "<g id=\"edge68\" class=\"edge\">\n",
       "<title>close&#45;&gt;/p/gpfs1/iopp/temp/cm1r20.3.2846827/config_files/les_ConvBoundLayer/cm1out_000001_s.dat</title>\n",
       "<path fill=\"none\" stroke=\"black\" d=\"M2462.01,-103.71C2247.03,-101.86 1097.19,-90.94 1026.48,-69 1014.82,-65.38 1015.04,-57.92 1003.48,-54 974.83,-44.27 922.82,-37.24 863.9,-32.15\"/>\n",
       "<polygon fill=\"black\" stroke=\"black\" points=\"863.87,-28.63 853.61,-31.29 863.28,-35.61 863.87,-28.63\"/>\n",
       "<text text-anchor=\"middle\" x=\"1031.48\" y=\"-57.8\" font-family=\"Times,serif\" font-size=\"14.00\">1</text>\n",
       "</g>\n",
       "<!-- /p/gpfs1/iopp/temp/cm1r20.3.2846827/config_files/les_ConvBoundLayer/cm1out_000001_u.dat -->\n",
       "<g id=\"node37\" class=\"node\">\n",
       "<title>/p/gpfs1/iopp/temp/cm1r20.3.2846827/config_files/les_ConvBoundLayer/cm1out_000001_u.dat</title>\n",
       "<ellipse fill=\"none\" stroke=\"black\" cx=\"2164.48\" cy=\"-18\" rx=\"453.82\" ry=\"18\"/>\n",
       "<text text-anchor=\"middle\" x=\"2164.48\" y=\"-14.3\" font-family=\"Times,serif\" font-size=\"14.00\">/p/gpfs1/iopp/temp/cm1r20.3.2846827/config_files/les_ConvBoundLayer/cm1out_000001_u.dat</text>\n",
       "</g>\n",
       "<!-- close&#45;&gt;/p/gpfs1/iopp/temp/cm1r20.3.2846827/config_files/les_ConvBoundLayer/cm1out_000001_u.dat -->\n",
       "<g id=\"edge70\" class=\"edge\">\n",
       "<title>close&#45;&gt;/p/gpfs1/iopp/temp/cm1r20.3.2846827/config_files/les_ConvBoundLayer/cm1out_000001_u.dat</title>\n",
       "<path fill=\"none\" stroke=\"black\" d=\"M2461.87,-103.78C2251.22,-102.34 1149.53,-93.67 1125.48,-69 1120.83,-64.23 1120.85,-58.79 1125.48,-54 1146.71,-32.04 1436.07,-23.52 1704.02,-20.36\"/>\n",
       "<polygon fill=\"black\" stroke=\"black\" points=\"1704.39,-23.86 1714.35,-20.25 1704.31,-16.86 1704.39,-23.86\"/>\n",
       "<text text-anchor=\"middle\" x=\"1130.48\" y=\"-57.8\" font-family=\"Times,serif\" font-size=\"14.00\">1</text>\n",
       "</g>\n",
       "<!-- close&#45;&gt;/p/gpfs1/iopp/temp/cm1r20.3.2846827/config_files/les_ConvBoundLayer/cm1out_000001_u.dat -->\n",
       "<g id=\"edge76\" class=\"edge\">\n",
       "<title>close&#45;&gt;/p/gpfs1/iopp/temp/cm1r20.3.2846827/config_files/les_ConvBoundLayer/cm1out_000001_u.dat</title>\n",
       "<path fill=\"none\" stroke=\"black\" d=\"M2462.04,-103.76C2254.8,-102.21 1181.92,-93.06 1158.48,-69 1153.83,-64.22 1153.85,-58.8 1158.48,-54 1178.7,-33.07 1450.31,-24.44 1706.19,-20.98\"/>\n",
       "<polygon fill=\"black\" stroke=\"black\" points=\"1706.48,-24.48 1716.43,-20.85 1706.39,-17.48 1706.48,-24.48\"/>\n",
       "<text text-anchor=\"middle\" x=\"1163.48\" y=\"-57.8\" font-family=\"Times,serif\" font-size=\"14.00\">1</text>\n",
       "</g>\n",
       "<!-- close&#45;&gt;/p/gpfs1/iopp/temp/cm1r20.3.2846827/config_files/les_ConvBoundLayer/cm1out_000001_u.dat -->\n",
       "<g id=\"edge80\" class=\"edge\">\n",
       "<title>close&#45;&gt;/p/gpfs1/iopp/temp/cm1r20.3.2846827/config_files/les_ConvBoundLayer/cm1out_000001_u.dat</title>\n",
       "<path fill=\"none\" stroke=\"black\" d=\"M2461.9,-103.73C2257.37,-102.07 1214.29,-92.43 1191.48,-69 1186.83,-64.22 1186.85,-58.8 1191.48,-54 1210.71,-34.07 1465.26,-25.37 1709.15,-21.63\"/>\n",
       "<polygon fill=\"black\" stroke=\"black\" points=\"1709.34,-25.13 1719.29,-21.48 1709.24,-18.13 1709.34,-25.13\"/>\n",
       "<text text-anchor=\"middle\" x=\"1196.48\" y=\"-57.8\" font-family=\"Times,serif\" font-size=\"14.00\">1</text>\n",
       "</g>\n",
       "<!-- close&#45;&gt;/p/gpfs1/iopp/temp/cm1r20.3.2846827/config_files/les_ConvBoundLayer/cm1out_000001_u.dat -->\n",
       "<g id=\"edge84\" class=\"edge\">\n",
       "<title>close&#45;&gt;/p/gpfs1/iopp/temp/cm1r20.3.2846827/config_files/les_ConvBoundLayer/cm1out_000001_u.dat</title>\n",
       "<path fill=\"none\" stroke=\"black\" d=\"M2462.12,-103.71C2261.22,-101.93 1246.69,-91.82 1224.48,-69 1219.83,-64.22 1219.85,-58.8 1224.48,-54 1242.73,-35.06 1480.68,-26.32 1712.59,-22.31\"/>\n",
       "<polygon fill=\"black\" stroke=\"black\" points=\"1712.98,-25.8 1722.92,-22.13 1712.87,-18.8 1712.98,-25.8\"/>\n",
       "<text text-anchor=\"middle\" x=\"1229.48\" y=\"-57.8\" font-family=\"Times,serif\" font-size=\"14.00\">1</text>\n",
       "</g>\n",
       "<!-- close&#45;&gt;/p/gpfs1/iopp/temp/cm1r20.3.2846827/config_files/les_ConvBoundLayer/cm1out_000001_u.dat -->\n",
       "<g id=\"edge88\" class=\"edge\">\n",
       "<title>close&#45;&gt;/p/gpfs1/iopp/temp/cm1r20.3.2846827/config_files/les_ConvBoundLayer/cm1out_000001_u.dat</title>\n",
       "<path fill=\"none\" stroke=\"black\" d=\"M2462.05,-103.68C2264.11,-101.78 1279.07,-91.2 1257.48,-69 1252.83,-64.22 1252.86,-58.8 1257.48,-54 1274.77,-36.03 1496.83,-27.27 1716.88,-23.01\"/>\n",
       "<polygon fill=\"black\" stroke=\"black\" points=\"1717.09,-26.51 1727.02,-22.82 1716.96,-19.51 1717.09,-26.51\"/>\n",
       "<text text-anchor=\"middle\" x=\"1262.48\" y=\"-57.8\" font-family=\"Times,serif\" font-size=\"14.00\">1</text>\n",
       "</g>\n",
       "<!-- close&#45;&gt;/p/gpfs1/iopp/temp/cm1r20.3.2846827/config_files/les_ConvBoundLayer/cm1out_000001_u.dat -->\n",
       "<g id=\"edge92\" class=\"edge\">\n",
       "<title>close&#45;&gt;/p/gpfs1/iopp/temp/cm1r20.3.2846827/config_files/les_ConvBoundLayer/cm1out_000001_u.dat</title>\n",
       "<path fill=\"none\" stroke=\"black\" d=\"M2462.02,-103.66C2267.17,-101.63 1311.45,-90.59 1290.48,-69 1285.84,-64.22 1285.86,-58.81 1290.48,-54 1306.85,-36.96 1513.89,-28.22 1722.33,-23.73\"/>\n",
       "<polygon fill=\"black\" stroke=\"black\" points=\"1722.65,-27.23 1732.57,-23.51 1722.5,-20.23 1722.65,-27.23\"/>\n",
       "<text text-anchor=\"middle\" x=\"1295.48\" y=\"-57.8\" font-family=\"Times,serif\" font-size=\"14.00\">1</text>\n",
       "</g>\n",
       "<!-- close&#45;&gt;/p/gpfs1/iopp/temp/cm1r20.3.2846827/config_files/les_ConvBoundLayer/cm1out_000001_u.dat -->\n",
       "<g id=\"edge96\" class=\"edge\">\n",
       "<title>close&#45;&gt;/p/gpfs1/iopp/temp/cm1r20.3.2846827/config_files/les_ConvBoundLayer/cm1out_000001_u.dat</title>\n",
       "<path fill=\"none\" stroke=\"black\" d=\"M2462.03,-103.63C2270.42,-101.47 1343.83,-89.97 1323.48,-69 1318.84,-64.22 1318.87,-58.81 1323.48,-54 1338.94,-37.88 1531.42,-29.18 1728.32,-24.48\"/>\n",
       "<polygon fill=\"black\" stroke=\"black\" points=\"1728.68,-27.97 1738.6,-24.24 1728.52,-20.98 1728.68,-27.97\"/>\n",
       "<text text-anchor=\"middle\" x=\"1328.48\" y=\"-57.8\" font-family=\"Times,serif\" font-size=\"14.00\">1</text>\n",
       "</g>\n",
       "<!-- close&#45;&gt;/p/gpfs1/iopp/temp/cm1r20.3.2846827/config_files/les_ConvBoundLayer/cm1out_000001_u.dat -->\n",
       "<g id=\"edge98\" class=\"edge\">\n",
       "<title>close&#45;&gt;/p/gpfs1/iopp/temp/cm1r20.3.2846827/config_files/les_ConvBoundLayer/cm1out_000001_u.dat</title>\n",
       "<path fill=\"none\" stroke=\"black\" d=\"M2462.08,-103.6C2273.83,-101.31 1376.22,-89.36 1356.48,-69 1351.84,-64.21 1351.87,-58.81 1356.48,-54 1371.07,-38.77 1549.99,-30.12 1735.75,-25.24\"/>\n",
       "<polygon fill=\"black\" stroke=\"black\" points=\"1736.1,-28.73 1746.01,-24.97 1735.92,-21.73 1736.1,-28.73\"/>\n",
       "<text text-anchor=\"middle\" x=\"1361.48\" y=\"-57.8\" font-family=\"Times,serif\" font-size=\"14.00\">1</text>\n",
       "</g>\n",
       "<!-- close&#45;&gt;/p/gpfs1/iopp/temp/cm1r20.3.2846827/config_files/les_ConvBoundLayer/cm1out_000001_u.dat -->\n",
       "<g id=\"edge102\" class=\"edge\">\n",
       "<title>close&#45;&gt;/p/gpfs1/iopp/temp/cm1r20.3.2846827/config_files/les_ConvBoundLayer/cm1out_000001_u.dat</title>\n",
       "<path fill=\"none\" stroke=\"black\" d=\"M2461.93,-104.24C2278.7,-105.36 1427.68,-108.42 1389.48,-69 1384.84,-64.21 1384.87,-58.82 1389.48,-54 1403.22,-39.62 1569.34,-31.06 1744.27,-26.01\"/>\n",
       "<polygon fill=\"black\" stroke=\"black\" points=\"1744.57,-29.5 1754.47,-25.72 1744.37,-22.5 1744.57,-29.5\"/>\n",
       "<text text-anchor=\"middle\" x=\"1394.48\" y=\"-57.8\" font-family=\"Times,serif\" font-size=\"14.00\">1</text>\n",
       "</g>\n",
       "<!-- close&#45;&gt;/p/gpfs1/iopp/temp/cm1r20.3.2846827/config_files/les_ConvBoundLayer/cm1out_000001_u.dat -->\n",
       "<g id=\"edge106\" class=\"edge\">\n",
       "<title>close&#45;&gt;/p/gpfs1/iopp/temp/cm1r20.3.2846827/config_files/les_ConvBoundLayer/cm1out_000001_u.dat</title>\n",
       "<path fill=\"none\" stroke=\"black\" d=\"M2461.78,-104.21C2281.58,-105.12 1459.44,-107.18 1422.48,-69 1417.84,-64.21 1417.88,-58.82 1422.48,-54 1435.4,-40.45 1589.29,-32 1753.6,-26.8\"/>\n",
       "<polygon fill=\"black\" stroke=\"black\" points=\"1754.05,-30.28 1763.93,-26.47 1753.83,-23.29 1754.05,-30.28\"/>\n",
       "<text text-anchor=\"middle\" x=\"1427.48\" y=\"-57.8\" font-family=\"Times,serif\" font-size=\"14.00\">1</text>\n",
       "</g>\n",
       "<!-- close&#45;&gt;/p/gpfs1/iopp/temp/cm1r20.3.2846827/config_files/les_ConvBoundLayer/cm1out_000001_u.dat -->\n",
       "<g id=\"edge110\" class=\"edge\">\n",
       "<title>close&#45;&gt;/p/gpfs1/iopp/temp/cm1r20.3.2846827/config_files/les_ConvBoundLayer/cm1out_000001_u.dat</title>\n",
       "<path fill=\"none\" stroke=\"black\" d=\"M2461.98,-104.17C2285.56,-104.87 1491.23,-105.97 1455.48,-69 1450.85,-64.21 1450.88,-58.83 1455.48,-54 1467.62,-41.25 1610.26,-32.9 1764.45,-27.58\"/>\n",
       "<polygon fill=\"black\" stroke=\"black\" points=\"1764.75,-31.07 1774.63,-27.23 1764.51,-24.07 1764.75,-31.07\"/>\n",
       "<text text-anchor=\"middle\" x=\"1460.48\" y=\"-57.8\" font-family=\"Times,serif\" font-size=\"14.00\">1</text>\n",
       "</g>\n",
       "<!-- close&#45;&gt;/p/gpfs1/iopp/temp/cm1r20.3.2846827/config_files/les_ConvBoundLayer/cm1out_000001_u.dat -->\n",
       "<g id=\"edge114\" class=\"edge\">\n",
       "<title>close&#45;&gt;/p/gpfs1/iopp/temp/cm1r20.3.2846827/config_files/les_ConvBoundLayer/cm1out_000001_u.dat</title>\n",
       "<path fill=\"none\" stroke=\"black\" d=\"M2461.93,-104.13C2288.86,-104.62 1523,-104.74 1488.48,-69 1483.85,-64.2 1483.89,-58.83 1488.48,-54 1499.86,-42.01 1631.9,-33.8 1776.3,-28.36\"/>\n",
       "<polygon fill=\"black\" stroke=\"black\" points=\"1776.85,-31.84 1786.72,-27.97 1776.59,-24.85 1776.85,-31.84\"/>\n",
       "<text text-anchor=\"middle\" x=\"1493.48\" y=\"-57.8\" font-family=\"Times,serif\" font-size=\"14.00\">1</text>\n",
       "</g>\n",
       "<!-- close&#45;&gt;/p/gpfs1/iopp/temp/cm1r20.3.2846827/config_files/les_ConvBoundLayer/cm1out_000001_u.dat -->\n",
       "<g id=\"edge118\" class=\"edge\">\n",
       "<title>close&#45;&gt;/p/gpfs1/iopp/temp/cm1r20.3.2846827/config_files/les_ConvBoundLayer/cm1out_000001_u.dat</title>\n",
       "<path fill=\"none\" stroke=\"black\" d=\"M2461.95,-104.09C2292.39,-104.35 1554.78,-103.51 1521.48,-69 1516.85,-64.2 1516.9,-58.84 1521.48,-54 1532.14,-42.74 1654.39,-34.67 1789.48,-29.13\"/>\n",
       "<polygon fill=\"black\" stroke=\"black\" points=\"1789.79,-32.62 1799.64,-28.72 1789.51,-25.63 1789.79,-32.62\"/>\n",
       "<text text-anchor=\"middle\" x=\"1526.48\" y=\"-57.8\" font-family=\"Times,serif\" font-size=\"14.00\">1</text>\n",
       "</g>\n",
       "<!-- close&#45;&gt;/p/gpfs1/iopp/temp/cm1r20.3.2846827/config_files/les_ConvBoundLayer/cm1out_000001_u.dat -->\n",
       "<g id=\"edge122\" class=\"edge\">\n",
       "<title>close&#45;&gt;/p/gpfs1/iopp/temp/cm1r20.3.2846827/config_files/les_ConvBoundLayer/cm1out_000001_u.dat</title>\n",
       "<path fill=\"none\" stroke=\"black\" d=\"M2462.02,-104.04C2296.15,-104.08 1586.56,-102.29 1554.48,-69 1549.85,-64.2 1549.9,-58.85 1554.48,-54 1564.45,-43.44 1677.56,-35.51 1803.73,-29.89\"/>\n",
       "<polygon fill=\"black\" stroke=\"black\" points=\"1804.17,-33.37 1814,-29.44 1803.86,-26.38 1804.17,-33.37\"/>\n",
       "<text text-anchor=\"middle\" x=\"1559.48\" y=\"-57.8\" font-family=\"Times,serif\" font-size=\"14.00\">1</text>\n",
       "</g>\n",
       "<!-- close&#45;&gt;/p/gpfs1/iopp/temp/cm1r20.3.2846827/config_files/les_ConvBoundLayer/cm1out_000001_u.dat -->\n",
       "<g id=\"edge126\" class=\"edge\">\n",
       "<title>close&#45;&gt;/p/gpfs1/iopp/temp/cm1r20.3.2846827/config_files/les_ConvBoundLayer/cm1out_000001_u.dat</title>\n",
       "<path fill=\"none\" stroke=\"black\" d=\"M2461.89,-103.99C2299.38,-103.8 1618.33,-101.06 1587.48,-69 1582.86,-64.2 1582.91,-58.85 1587.48,-54 1596.78,-44.11 1701.34,-36.33 1818.94,-30.64\"/>\n",
       "<polygon fill=\"black\" stroke=\"black\" points=\"1819.44,-34.12 1829.26,-30.15 1819.1,-27.13 1819.44,-34.12\"/>\n",
       "<text text-anchor=\"middle\" x=\"1592.48\" y=\"-57.8\" font-family=\"Times,serif\" font-size=\"14.00\">1</text>\n",
       "</g>\n",
       "<!-- close&#45;&gt;/p/gpfs1/iopp/temp/cm1r20.3.2846827/config_files/les_ConvBoundLayer/cm1out_000001_u.dat -->\n",
       "<g id=\"edge130\" class=\"edge\">\n",
       "<title>close&#45;&gt;/p/gpfs1/iopp/temp/cm1r20.3.2846827/config_files/les_ConvBoundLayer/cm1out_000001_u.dat</title>\n",
       "<path fill=\"none\" stroke=\"black\" d=\"M2461.83,-103.94C2302.9,-103.5 1650.11,-99.83 1620.48,-69 1615.86,-64.19 1615.92,-58.86 1620.48,-54 1632.72,-40.94 1685.24,-32.55 1753.16,-27.2\"/>\n",
       "<polygon fill=\"black\" stroke=\"black\" points=\"1753.58,-30.67 1763.29,-26.43 1753.05,-23.69 1753.58,-30.67\"/>\n",
       "<text text-anchor=\"middle\" x=\"1625.48\" y=\"-57.8\" font-family=\"Times,serif\" font-size=\"14.00\">1</text>\n",
       "</g>\n",
       "<!-- close&#45;&gt;/p/gpfs1/iopp/temp/cm1r20.3.2846827/config_files/les_ConvBoundLayer/cm1out_000001_u.dat -->\n",
       "<g id=\"edge134\" class=\"edge\">\n",
       "<title>close&#45;&gt;/p/gpfs1/iopp/temp/cm1r20.3.2846827/config_files/les_ConvBoundLayer/cm1out_000001_u.dat</title>\n",
       "<path fill=\"none\" stroke=\"black\" d=\"M2461.85,-103.88C2306.7,-103.2 1681.89,-98.61 1653.48,-69 1648.87,-64.19 1648.93,-58.87 1653.48,-54 1664.73,-41.95 1712.35,-33.95 1774.31,-28.65\"/>\n",
       "<polygon fill=\"black\" stroke=\"black\" points=\"1774.69,-32.13 1784.37,-27.83 1774.12,-25.16 1774.69,-32.13\"/>\n",
       "<text text-anchor=\"middle\" x=\"1658.48\" y=\"-57.8\" font-family=\"Times,serif\" font-size=\"14.00\">1</text>\n",
       "</g>\n",
       "<!-- close&#45;&gt;/p/gpfs1/iopp/temp/cm1r20.3.2846827/config_files/les_ConvBoundLayer/cm1out_000001_u.dat -->\n",
       "<g id=\"edge138\" class=\"edge\">\n",
       "<title>close&#45;&gt;/p/gpfs1/iopp/temp/cm1r20.3.2846827/config_files/les_ConvBoundLayer/cm1out_000001_u.dat</title>\n",
       "<path fill=\"none\" stroke=\"black\" d=\"M2461.95,-103.82C2310.78,-102.89 1713.68,-97.4 1686.48,-69 1681.87,-64.19 1681.94,-58.88 1686.48,-54 1696.84,-42.86 1740.3,-35.22 1797.1,-30\"/>\n",
       "<polygon fill=\"black\" stroke=\"black\" points=\"1797.44,-33.49 1807.09,-29.12 1796.82,-26.51 1797.44,-33.49\"/>\n",
       "<text text-anchor=\"middle\" x=\"1691.48\" y=\"-57.8\" font-family=\"Times,serif\" font-size=\"14.00\">1</text>\n",
       "</g>\n",
       "<!-- close&#45;&gt;/p/gpfs1/iopp/temp/cm1r20.3.2846827/config_files/les_ConvBoundLayer/cm1out_000001_u.dat -->\n",
       "<g id=\"edge142\" class=\"edge\">\n",
       "<title>close&#45;&gt;/p/gpfs1/iopp/temp/cm1r20.3.2846827/config_files/les_ConvBoundLayer/cm1out_000001_u.dat</title>\n",
       "<path fill=\"none\" stroke=\"black\" d=\"M2461.88,-103.76C2314.5,-102.56 1745.46,-96.18 1719.48,-69 1714.87,-64.18 1714.96,-58.9 1719.48,-54 1729.04,-43.66 1769.05,-36.37 1821.45,-31.23\"/>\n",
       "<polygon fill=\"black\" stroke=\"black\" points=\"1822.1,-34.68 1831.73,-30.26 1821.44,-27.72 1822.1,-34.68\"/>\n",
       "<text text-anchor=\"middle\" x=\"1724.48\" y=\"-57.8\" font-family=\"Times,serif\" font-size=\"14.00\">1</text>\n",
       "</g>\n",
       "<!-- close&#45;&gt;/p/gpfs1/iopp/temp/cm1r20.3.2846827/config_files/les_ConvBoundLayer/cm1out_000001_u.dat -->\n",
       "<g id=\"edge146\" class=\"edge\">\n",
       "<title>close&#45;&gt;/p/gpfs1/iopp/temp/cm1r20.3.2846827/config_files/les_ConvBoundLayer/cm1out_000001_u.dat</title>\n",
       "<path fill=\"none\" stroke=\"black\" d=\"M2461.91,-103.69C2318.56,-102.22 1777.25,-94.96 1752.48,-69 1747.88,-64.18 1747.97,-58.91 1752.48,-54 1761.34,-44.36 1798.63,-37.37 1847.41,-32.3\"/>\n",
       "<polygon fill=\"black\" stroke=\"black\" points=\"1848.05,-35.75 1857.65,-31.28 1847.35,-28.79 1848.05,-35.75\"/>\n",
       "<text text-anchor=\"middle\" x=\"1757.48\" y=\"-57.8\" font-family=\"Times,serif\" font-size=\"14.00\">1</text>\n",
       "</g>\n",
       "<!-- close&#45;&gt;/p/gpfs1/iopp/temp/cm1r20.3.2846827/config_files/les_ConvBoundLayer/cm1out_000001_u.dat -->\n",
       "<g id=\"edge150\" class=\"edge\">\n",
       "<title>close&#45;&gt;/p/gpfs1/iopp/temp/cm1r20.3.2846827/config_files/les_ConvBoundLayer/cm1out_000001_u.dat</title>\n",
       "<path fill=\"none\" stroke=\"black\" d=\"M2462.04,-103.61C2322.95,-101.86 1809.05,-93.76 1785.48,-69 1768.98,-51.66 1791.86,-40.13 1833.25,-32.5\"/>\n",
       "<polygon fill=\"black\" stroke=\"black\" points=\"1833.98,-35.92 1843.25,-30.79 1832.8,-29.02 1833.98,-35.92\"/>\n",
       "<text text-anchor=\"middle\" x=\"1790.48\" y=\"-57.8\" font-family=\"Times,serif\" font-size=\"14.00\">1</text>\n",
       "</g>\n",
       "<!-- close&#45;&gt;/p/gpfs1/iopp/temp/cm1r20.3.2846827/config_files/les_ConvBoundLayer/cm1out_000001_u.dat -->\n",
       "<g id=\"edge154\" class=\"edge\">\n",
       "<title>close&#45;&gt;/p/gpfs1/iopp/temp/cm1r20.3.2846827/config_files/les_ConvBoundLayer/cm1out_000001_u.dat</title>\n",
       "<path fill=\"none\" stroke=\"black\" d=\"M2461.81,-103.52C2326.58,-101.48 1840.83,-92.53 1818.48,-69 1802.68,-52.36 1826.39,-41.19 1867.66,-33.71\"/>\n",
       "<polygon fill=\"black\" stroke=\"black\" points=\"1868.34,-37.14 1877.62,-32.03 1867.17,-30.24 1868.34,-37.14\"/>\n",
       "<text text-anchor=\"middle\" x=\"1823.48\" y=\"-57.8\" font-family=\"Times,serif\" font-size=\"14.00\">1</text>\n",
       "</g>\n",
       "<!-- close&#45;&gt;/p/gpfs1/iopp/temp/cm1r20.3.2846827/config_files/les_ConvBoundLayer/cm1out_000001_u.dat -->\n",
       "<g id=\"edge158\" class=\"edge\">\n",
       "<title>close&#45;&gt;/p/gpfs1/iopp/temp/cm1r20.3.2846827/config_files/les_ConvBoundLayer/cm1out_000001_u.dat</title>\n",
       "<path fill=\"none\" stroke=\"black\" d=\"M2461.73,-103.42C2330.66,-101.08 1872.62,-91.31 1851.48,-69 1836.3,-52.97 1861.39,-42.08 1903,-34.67\"/>\n",
       "<polygon fill=\"black\" stroke=\"black\" points=\"1903.72,-38.1 1913.01,-33.01 1902.57,-31.2 1903.72,-38.1\"/>\n",
       "<text text-anchor=\"middle\" x=\"1856.48\" y=\"-57.8\" font-family=\"Times,serif\" font-size=\"14.00\">1</text>\n",
       "</g>\n",
       "<!-- close&#45;&gt;/p/gpfs1/iopp/temp/cm1r20.3.2846827/config_files/les_ConvBoundLayer/cm1out_000001_u.dat -->\n",
       "<g id=\"edge162\" class=\"edge\">\n",
       "<title>close&#45;&gt;/p/gpfs1/iopp/temp/cm1r20.3.2846827/config_files/les_ConvBoundLayer/cm1out_000001_u.dat</title>\n",
       "<path fill=\"none\" stroke=\"black\" d=\"M2461.78,-103.32C2335.18,-100.66 1904.42,-90.11 1884.48,-69 1869.97,-53.64 1896.46,-42.96 1938.15,-35.55\"/>\n",
       "<polygon fill=\"black\" stroke=\"black\" points=\"1938.87,-38.98 1948.16,-33.88 1937.72,-32.07 1938.87,-38.98\"/>\n",
       "<text text-anchor=\"middle\" x=\"1889.48\" y=\"-57.8\" font-family=\"Times,serif\" font-size=\"14.00\">1</text>\n",
       "</g>\n",
       "<!-- close&#45;&gt;/p/gpfs1/iopp/temp/cm1r20.3.2846827/config_files/les_ConvBoundLayer/cm1out_000001_u.dat -->\n",
       "<g id=\"edge166\" class=\"edge\">\n",
       "<title>close&#45;&gt;/p/gpfs1/iopp/temp/cm1r20.3.2846827/config_files/les_ConvBoundLayer/cm1out_000001_u.dat</title>\n",
       "<path fill=\"none\" stroke=\"black\" d=\"M2461.99,-103.21C2340.14,-100.23 1936.23,-88.91 1917.48,-69 1912.91,-64.15 1913.11,-59.03 1917.48,-54 1923.48,-47.09 1934.23,-41.51 1947.99,-37.01\"/>\n",
       "<polygon fill=\"black\" stroke=\"black\" points=\"1949.38,-40.24 1957.98,-34.06 1947.4,-33.53 1949.38,-40.24\"/>\n",
       "<text text-anchor=\"middle\" x=\"1922.48\" y=\"-57.8\" font-family=\"Times,serif\" font-size=\"14.00\">1</text>\n",
       "</g>\n",
       "<!-- close&#45;&gt;/p/gpfs1/iopp/temp/cm1r20.3.2846827/config_files/les_ConvBoundLayer/cm1out_000001_u.dat -->\n",
       "<g id=\"edge170\" class=\"edge\">\n",
       "<title>close&#45;&gt;/p/gpfs1/iopp/temp/cm1r20.3.2846827/config_files/les_ConvBoundLayer/cm1out_000001_u.dat</title>\n",
       "<path fill=\"none\" stroke=\"black\" d=\"M2462.04,-104.46C2347.62,-105.61 1985.45,-106.28 1950.48,-69 1945.92,-64.14 1946.16,-59.08 1950.48,-54 1956.13,-47.36 1966.73,-41.97 1980.32,-37.61\"/>\n",
       "<polygon fill=\"black\" stroke=\"black\" points=\"1981.55,-40.89 1990.18,-34.75 1979.6,-34.17 1981.55,-40.89\"/>\n",
       "<text text-anchor=\"middle\" x=\"1955.48\" y=\"-57.8\" font-family=\"Times,serif\" font-size=\"14.00\">1</text>\n",
       "</g>\n",
       "<!-- close&#45;&gt;/p/gpfs1/iopp/temp/cm1r20.3.2846827/config_files/les_ConvBoundLayer/cm1out_000001_u.dat -->\n",
       "<g id=\"edge174\" class=\"edge\">\n",
       "<title>close&#45;&gt;/p/gpfs1/iopp/temp/cm1r20.3.2846827/config_files/les_ConvBoundLayer/cm1out_000001_u.dat</title>\n",
       "<path fill=\"none\" stroke=\"black\" d=\"M2461.83,-104.3C2351.87,-104.91 2016.04,-103.86 1983.48,-69 1972.01,-56.72 1972.5,-47.35 1980.6,-40.23\"/>\n",
       "<polygon fill=\"black\" stroke=\"black\" points=\"1982.58,-43.11 1989.1,-34.76 1978.79,-37.23 1982.58,-43.11\"/>\n",
       "<text text-anchor=\"middle\" x=\"1988.48\" y=\"-57.8\" font-family=\"Times,serif\" font-size=\"14.00\">1</text>\n",
       "</g>\n",
       "<!-- close&#45;&gt;/p/gpfs1/iopp/temp/cm1r20.3.2846827/config_files/les_ConvBoundLayer/cm1out_000001_u.dat -->\n",
       "<g id=\"edge178\" class=\"edge\">\n",
       "<title>close&#45;&gt;/p/gpfs1/iopp/temp/cm1r20.3.2846827/config_files/les_ConvBoundLayer/cm1out_000001_u.dat</title>\n",
       "<path fill=\"none\" stroke=\"black\" d=\"M2461.86,-104.13C2356.76,-104.16 2046.67,-101.47 2016.48,-69 2004.7,-56.33 2007.98,-46.87 2019.54,-39.81\"/>\n",
       "<polygon fill=\"black\" stroke=\"black\" points=\"2021.34,-42.83 2028.79,-35.29 2018.27,-36.54 2021.34,-42.83\"/>\n",
       "<text text-anchor=\"middle\" x=\"2021.48\" y=\"-57.8\" font-family=\"Times,serif\" font-size=\"14.00\">1</text>\n",
       "</g>\n",
       "<!-- close&#45;&gt;/p/gpfs1/iopp/temp/cm1r20.3.2846827/config_files/les_ConvBoundLayer/cm1out_000001_u.dat -->\n",
       "<g id=\"edge182\" class=\"edge\">\n",
       "<title>close&#45;&gt;/p/gpfs1/iopp/temp/cm1r20.3.2846827/config_files/les_ConvBoundLayer/cm1out_000001_u.dat</title>\n",
       "<path fill=\"none\" stroke=\"black\" d=\"M2461.77,-103.93C2361.59,-103.36 2077.29,-99.08 2049.48,-69 2037.87,-56.44 2044.22,-46.88 2058.6,-39.66\"/>\n",
       "<polygon fill=\"black\" stroke=\"black\" points=\"2060.1,-42.83 2067.92,-35.68 2057.35,-36.39 2060.1,-42.83\"/>\n",
       "<text text-anchor=\"middle\" x=\"2054.48\" y=\"-57.8\" font-family=\"Times,serif\" font-size=\"14.00\">1</text>\n",
       "</g>\n",
       "<!-- close&#45;&gt;/p/gpfs1/iopp/temp/cm1r20.3.2846827/config_files/les_ConvBoundLayer/cm1out_000001_u.dat -->\n",
       "<g id=\"edge186\" class=\"edge\">\n",
       "<title>close&#45;&gt;/p/gpfs1/iopp/temp/cm1r20.3.2846827/config_files/les_ConvBoundLayer/cm1out_000001_u.dat</title>\n",
       "<path fill=\"none\" stroke=\"black\" d=\"M2461.98,-103.7C2367.16,-102.5 2107.95,-96.72 2082.48,-69 2072.01,-57.61 2079.9,-47.91 2094.22,-40.16\"/>\n",
       "<polygon fill=\"black\" stroke=\"black\" points=\"2095.79,-43.3 2103.31,-35.84 2092.77,-36.98 2095.79,-43.3\"/>\n",
       "<text text-anchor=\"middle\" x=\"2087.48\" y=\"-57.8\" font-family=\"Times,serif\" font-size=\"14.00\">1</text>\n",
       "</g>\n",
       "<!-- close&#45;&gt;/p/gpfs1/iopp/temp/cm1r20.3.2846827/config_files/les_ConvBoundLayer/cm1out_000001_u.dat -->\n",
       "<g id=\"edge190\" class=\"edge\">\n",
       "<title>close&#45;&gt;/p/gpfs1/iopp/temp/cm1r20.3.2846827/config_files/les_ConvBoundLayer/cm1out_000001_u.dat</title>\n",
       "<path fill=\"none\" stroke=\"black\" d=\"M2461.85,-103.42C2372.32,-101.57 2138.59,-94.33 2115.48,-69 2107.32,-60.06 2112.93,-50.5 2122.83,-42.17\"/>\n",
       "<polygon fill=\"black\" stroke=\"black\" points=\"2125.12,-44.83 2131.08,-36.06 2120.96,-39.2 2125.12,-44.83\"/>\n",
       "<text text-anchor=\"middle\" x=\"2120.48\" y=\"-57.8\" font-family=\"Times,serif\" font-size=\"14.00\">1</text>\n",
       "</g>\n",
       "<!-- close&#45;&gt;/p/gpfs1/iopp/temp/cm1r20.3.2846827/config_files/les_ConvBoundLayer/cm1out_000001_u.dat -->\n",
       "<g id=\"edge194\" class=\"edge\">\n",
       "<title>close&#45;&gt;/p/gpfs1/iopp/temp/cm1r20.3.2846827/config_files/les_ConvBoundLayer/cm1out_000001_u.dat</title>\n",
       "<path fill=\"none\" stroke=\"black\" d=\"M2462.12,-103.11C2378.41,-100.58 2169.28,-92 2148.48,-69 2142.53,-62.42 2143.42,-53.61 2146.81,-45.22\"/>\n",
       "<polygon fill=\"black\" stroke=\"black\" points=\"2150.05,-46.57 2151.46,-36.07 2143.81,-43.4 2150.05,-46.57\"/>\n",
       "<text text-anchor=\"middle\" x=\"2153.48\" y=\"-57.8\" font-family=\"Times,serif\" font-size=\"14.00\">1</text>\n",
       "</g>\n",
       "<!-- /p/gpfs1/iopp/temp/cm1r20.3.2846827/config_files/les_ConvBoundLayer/cm1out_000001_v.dat -->\n",
       "<g id=\"node38\" class=\"node\">\n",
       "<title>/p/gpfs1/iopp/temp/cm1r20.3.2846827/config_files/les_ConvBoundLayer/cm1out_000001_v.dat</title>\n",
       "<ellipse fill=\"none\" stroke=\"black\" cx=\"4276.48\" cy=\"-18\" rx=\"452.22\" ry=\"18\"/>\n",
       "<text text-anchor=\"middle\" x=\"4276.48\" y=\"-14.3\" font-family=\"Times,serif\" font-size=\"14.00\">/p/gpfs1/iopp/temp/cm1r20.3.2846827/config_files/les_ConvBoundLayer/cm1out_000001_v.dat</text>\n",
       "</g>\n",
       "<!-- close&#45;&gt;/p/gpfs1/iopp/temp/cm1r20.3.2846827/config_files/les_ConvBoundLayer/cm1out_000001_v.dat -->\n",
       "<g id=\"edge198\" class=\"edge\">\n",
       "<title>close&#45;&gt;/p/gpfs1/iopp/temp/cm1r20.3.2846827/config_files/les_ConvBoundLayer/cm1out_000001_v.dat</title>\n",
       "<path fill=\"none\" stroke=\"black\" d=\"M2531.21,-103.37C2665.85,-100.8 3149.18,-90.16 3214.48,-69 3226.09,-65.24 3225.84,-57.67 3237.48,-54 3294.91,-35.87 3574.87,-27.13 3829.71,-22.92\"/>\n",
       "<polygon fill=\"black\" stroke=\"black\" points=\"3829.97,-26.42 3839.91,-22.75 3829.86,-19.42 3829.97,-26.42\"/>\n",
       "<text text-anchor=\"middle\" x=\"3242.48\" y=\"-57.8\" font-family=\"Times,serif\" font-size=\"14.00\">1</text>\n",
       "</g>\n",
       "<!-- close&#45;&gt;/p/gpfs1/iopp/temp/cm1r20.3.2846827/config_files/les_ConvBoundLayer/cm1out_000001_v.dat -->\n",
       "<g id=\"edge204\" class=\"edge\">\n",
       "<title>close&#45;&gt;/p/gpfs1/iopp/temp/cm1r20.3.2846827/config_files/les_ConvBoundLayer/cm1out_000001_v.dat</title>\n",
       "<path fill=\"none\" stroke=\"black\" d=\"M2530.91,-103.46C2669.03,-101.14 3178.85,-91.15 3247.48,-69 3259.09,-65.25 3258.84,-57.68 3270.48,-54 3325.33,-36.65 3589.9,-27.89 3833.95,-23.47\"/>\n",
       "<polygon fill=\"black\" stroke=\"black\" points=\"3834.15,-26.97 3844.08,-23.29 3834.02,-19.97 3834.15,-26.97\"/>\n",
       "<text text-anchor=\"middle\" x=\"3275.48\" y=\"-57.8\" font-family=\"Times,serif\" font-size=\"14.00\">1</text>\n",
       "</g>\n",
       "<!-- close&#45;&gt;/p/gpfs1/iopp/temp/cm1r20.3.2846827/config_files/les_ConvBoundLayer/cm1out_000001_v.dat -->\n",
       "<g id=\"edge208\" class=\"edge\">\n",
       "<title>close&#45;&gt;/p/gpfs1/iopp/temp/cm1r20.3.2846827/config_files/les_ConvBoundLayer/cm1out_000001_v.dat</title>\n",
       "<path fill=\"none\" stroke=\"black\" d=\"M2530.96,-103.53C2672.99,-101.45 3208.58,-92.13 3280.48,-69 3292.1,-65.26 3291.85,-57.69 3303.48,-54 3355.78,-37.42 3605.26,-28.66 3838.49,-24.05\"/>\n",
       "<polygon fill=\"black\" stroke=\"black\" points=\"3838.59,-27.54 3848.52,-23.85 3838.46,-20.55 3838.59,-27.54\"/>\n",
       "<text text-anchor=\"middle\" x=\"3308.48\" y=\"-57.8\" font-family=\"Times,serif\" font-size=\"14.00\">1</text>\n",
       "</g>\n",
       "<!-- close&#45;&gt;/p/gpfs1/iopp/temp/cm1r20.3.2846827/config_files/les_ConvBoundLayer/cm1out_000001_v.dat -->\n",
       "<g id=\"edge212\" class=\"edge\">\n",
       "<title>close&#45;&gt;/p/gpfs1/iopp/temp/cm1r20.3.2846827/config_files/les_ConvBoundLayer/cm1out_000001_v.dat</title>\n",
       "<path fill=\"none\" stroke=\"black\" d=\"M2530.93,-103.6C2676.63,-101.75 3238.28,-93.12 3313.48,-69 3325.1,-65.27 3324.85,-57.69 3336.48,-54 3386.25,-38.19 3620.95,-29.44 3843.36,-24.64\"/>\n",
       "<polygon fill=\"black\" stroke=\"black\" points=\"3843.68,-28.14 3853.61,-24.43 3843.53,-21.14 3843.68,-28.14\"/>\n",
       "<text text-anchor=\"middle\" x=\"3341.48\" y=\"-57.8\" font-family=\"Times,serif\" font-size=\"14.00\">1</text>\n",
       "</g>\n",
       "<!-- close&#45;&gt;/p/gpfs1/iopp/temp/cm1r20.3.2846827/config_files/les_ConvBoundLayer/cm1out_000001_v.dat -->\n",
       "<g id=\"edge216\" class=\"edge\">\n",
       "<title>close&#45;&gt;/p/gpfs1/iopp/temp/cm1r20.3.2846827/config_files/les_ConvBoundLayer/cm1out_000001_v.dat</title>\n",
       "<path fill=\"none\" stroke=\"black\" d=\"M2531.3,-103.66C2681.28,-102.02 3268.05,-94.08 3346.48,-69 3358.1,-65.28 3357.85,-57.7 3369.48,-54 3416.83,-38.93 3637.67,-30.21 3849.56,-25.25\"/>\n",
       "<polygon fill=\"black\" stroke=\"black\" points=\"3849.73,-28.74 3859.65,-25.01 3849.57,-21.74 3849.73,-28.74\"/>\n",
       "<text text-anchor=\"middle\" x=\"3374.48\" y=\"-57.8\" font-family=\"Times,serif\" font-size=\"14.00\">1</text>\n",
       "</g>\n",
       "<!-- close&#45;&gt;/p/gpfs1/iopp/temp/cm1r20.3.2846827/config_files/les_ConvBoundLayer/cm1out_000001_v.dat -->\n",
       "<g id=\"edge220\" class=\"edge\">\n",
       "<title>close&#45;&gt;/p/gpfs1/iopp/temp/cm1r20.3.2846827/config_files/les_ConvBoundLayer/cm1out_000001_v.dat</title>\n",
       "<path fill=\"none\" stroke=\"black\" d=\"M2530.84,-103.72C2683.66,-102.32 3297.67,-95.09 3379.48,-69 3391.11,-65.29 3390.85,-57.71 3402.48,-54 3447.43,-39.65 3654.71,-30.99 3856.12,-25.87\"/>\n",
       "<polygon fill=\"black\" stroke=\"black\" points=\"3856.41,-29.36 3866.31,-25.61 3856.23,-22.36 3856.41,-29.36\"/>\n",
       "<text text-anchor=\"middle\" x=\"3407.48\" y=\"-57.8\" font-family=\"Times,serif\" font-size=\"14.00\">1</text>\n",
       "</g>\n",
       "<!-- close&#45;&gt;/p/gpfs1/iopp/temp/cm1r20.3.2846827/config_files/les_ConvBoundLayer/cm1out_000001_v.dat -->\n",
       "<g id=\"edge224\" class=\"edge\">\n",
       "<title>close&#45;&gt;/p/gpfs1/iopp/temp/cm1r20.3.2846827/config_files/les_ConvBoundLayer/cm1out_000001_v.dat</title>\n",
       "<path fill=\"none\" stroke=\"black\" d=\"M2531.07,-103.77C2687.8,-102.57 3327.41,-96.07 3412.48,-69 3424.11,-65.3 3423.86,-57.72 3435.48,-54 3478.1,-40.36 3672.49,-31.76 3863.65,-26.5\"/>\n",
       "<polygon fill=\"black\" stroke=\"black\" points=\"3864,-29.99 3873.91,-26.22 3863.81,-22.99 3864,-29.99\"/>\n",
       "<text text-anchor=\"middle\" x=\"3440.48\" y=\"-57.8\" font-family=\"Times,serif\" font-size=\"14.00\">1</text>\n",
       "</g>\n",
       "<!-- close&#45;&gt;/p/gpfs1/iopp/temp/cm1r20.3.2846827/config_files/les_ConvBoundLayer/cm1out_000001_v.dat -->\n",
       "<g id=\"edge226\" class=\"edge\">\n",
       "<title>close&#45;&gt;/p/gpfs1/iopp/temp/cm1r20.3.2846827/config_files/les_ConvBoundLayer/cm1out_000001_v.dat</title>\n",
       "<path fill=\"none\" stroke=\"black\" d=\"M2530.97,-103.82C2690.99,-102.83 3357.09,-97.06 3445.48,-69 3457.11,-65.31 3456.86,-57.73 3468.48,-54 3508.85,-41.04 3690.97,-32.52 3872.11,-27.13\"/>\n",
       "<polygon fill=\"black\" stroke=\"black\" points=\"3872.22,-30.63 3882.11,-26.84 3872.01,-23.64 3872.22,-30.63\"/>\n",
       "<text text-anchor=\"middle\" x=\"3473.48\" y=\"-57.8\" font-family=\"Times,serif\" font-size=\"14.00\">1</text>\n",
       "</g>\n",
       "<!-- close&#45;&gt;/p/gpfs1/iopp/temp/cm1r20.3.2846827/config_files/les_ConvBoundLayer/cm1out_000001_v.dat -->\n",
       "<g id=\"edge230\" class=\"edge\">\n",
       "<title>close&#45;&gt;/p/gpfs1/iopp/temp/cm1r20.3.2846827/config_files/les_ConvBoundLayer/cm1out_000001_v.dat</title>\n",
       "<path fill=\"none\" stroke=\"black\" d=\"M2531.07,-103.86C2694.69,-103.08 3386.8,-98.04 3478.48,-69 3490.11,-65.31 3489.86,-57.74 3501.48,-54 3539.64,-41.71 3709.95,-33.28 3881.23,-27.78\"/>\n",
       "<polygon fill=\"black\" stroke=\"black\" points=\"3881.58,-31.27 3891.47,-27.46 3881.36,-24.28 3881.58,-31.27\"/>\n",
       "<text text-anchor=\"middle\" x=\"3506.48\" y=\"-57.8\" font-family=\"Times,serif\" font-size=\"14.00\">1</text>\n",
       "</g>\n",
       "<!-- close&#45;&gt;/p/gpfs1/iopp/temp/cm1r20.3.2846827/config_files/les_ConvBoundLayer/cm1out_000001_v.dat -->\n",
       "<g id=\"edge234\" class=\"edge\">\n",
       "<title>close&#45;&gt;/p/gpfs1/iopp/temp/cm1r20.3.2846827/config_files/les_ConvBoundLayer/cm1out_000001_v.dat</title>\n",
       "<path fill=\"none\" stroke=\"black\" d=\"M2531.12,-103.91C2698.17,-103.32 3416.49,-99.03 3511.48,-69 3523.12,-65.32 3522.87,-57.75 3534.48,-54 3570.5,-42.36 3729.57,-34.04 3891.24,-28.43\"/>\n",
       "<polygon fill=\"black\" stroke=\"black\" points=\"3891.52,-31.93 3901.4,-28.08 3891.28,-24.93 3891.52,-31.93\"/>\n",
       "<text text-anchor=\"middle\" x=\"3539.48\" y=\"-57.8\" font-family=\"Times,serif\" font-size=\"14.00\">1</text>\n",
       "</g>\n",
       "<!-- close&#45;&gt;/p/gpfs1/iopp/temp/cm1r20.3.2846827/config_files/les_ConvBoundLayer/cm1out_000001_v.dat -->\n",
       "<g id=\"edge238\" class=\"edge\">\n",
       "<title>close&#45;&gt;/p/gpfs1/iopp/temp/cm1r20.3.2846827/config_files/les_ConvBoundLayer/cm1out_000001_v.dat</title>\n",
       "<path fill=\"none\" stroke=\"black\" d=\"M2531.11,-103.95C2701.44,-103.55 3446.17,-100.02 3544.48,-69 3556.12,-65.33 3555.87,-57.76 3567.48,-54 3601.46,-42.98 3750.12,-34.76 3902.6,-29.07\"/>\n",
       "<polygon fill=\"black\" stroke=\"black\" points=\"3902.78,-32.56 3912.64,-28.7 3902.52,-25.57 3902.78,-32.56\"/>\n",
       "<text text-anchor=\"middle\" x=\"3572.48\" y=\"-57.8\" font-family=\"Times,serif\" font-size=\"14.00\">1</text>\n",
       "</g>\n",
       "<!-- close&#45;&gt;/p/gpfs1/iopp/temp/cm1r20.3.2846827/config_files/les_ConvBoundLayer/cm1out_000001_v.dat -->\n",
       "<g id=\"edge242\" class=\"edge\">\n",
       "<title>close&#45;&gt;/p/gpfs1/iopp/temp/cm1r20.3.2846827/config_files/les_ConvBoundLayer/cm1out_000001_v.dat</title>\n",
       "<path fill=\"none\" stroke=\"black\" d=\"M2531.04,-103.99C2704.5,-103.77 3475.84,-101.01 3577.48,-69 3589.12,-65.33 3588.88,-57.78 3600.48,-54 3632.43,-43.59 3770.78,-35.5 3914.07,-29.73\"/>\n",
       "<polygon fill=\"black\" stroke=\"black\" points=\"3914.54,-33.21 3924.4,-29.32 3914.26,-26.22 3914.54,-33.21\"/>\n",
       "<text text-anchor=\"middle\" x=\"3605.48\" y=\"-57.8\" font-family=\"Times,serif\" font-size=\"14.00\">1</text>\n",
       "</g>\n",
       "<!-- close&#45;&gt;/p/gpfs1/iopp/temp/cm1r20.3.2846827/config_files/les_ConvBoundLayer/cm1out_000001_v.dat -->\n",
       "<g id=\"edge246\" class=\"edge\">\n",
       "<title>close&#45;&gt;/p/gpfs1/iopp/temp/cm1r20.3.2846827/config_files/les_ConvBoundLayer/cm1out_000001_v.dat</title>\n",
       "<path fill=\"none\" stroke=\"black\" d=\"M2530.92,-104.02C2707.34,-103.99 3505.5,-102.01 3610.48,-69 3622.12,-65.34 3621.88,-57.79 3633.48,-54 3677.24,-39.68 3759.42,-30.96 3850.75,-25.71\"/>\n",
       "<polygon fill=\"black\" stroke=\"black\" points=\"3850.98,-29.2 3860.77,-25.15 3850.59,-22.21 3850.98,-29.2\"/>\n",
       "<text text-anchor=\"middle\" x=\"3638.48\" y=\"-57.8\" font-family=\"Times,serif\" font-size=\"14.00\">1</text>\n",
       "</g>\n",
       "<!-- close&#45;&gt;/p/gpfs1/iopp/temp/cm1r20.3.2846827/config_files/les_ConvBoundLayer/cm1out_000001_v.dat -->\n",
       "<g id=\"edge250\" class=\"edge\">\n",
       "<title>close&#45;&gt;/p/gpfs1/iopp/temp/cm1r20.3.2846827/config_files/les_ConvBoundLayer/cm1out_000001_v.dat</title>\n",
       "<path fill=\"none\" stroke=\"black\" d=\"M2531.05,-104.06C2710.87,-104.2 3535.2,-103 3643.48,-69 3655.12,-65.34 3654.89,-57.81 3666.48,-54 3706.95,-40.7 3782.07,-32.3 3866.12,-27.03\"/>\n",
       "<polygon fill=\"black\" stroke=\"black\" points=\"3866.37,-30.52 3876.14,-26.42 3865.95,-23.53 3866.37,-30.52\"/>\n",
       "<text text-anchor=\"middle\" x=\"3671.48\" y=\"-57.8\" font-family=\"Times,serif\" font-size=\"14.00\">1</text>\n",
       "</g>\n",
       "<!-- close&#45;&gt;/p/gpfs1/iopp/temp/cm1r20.3.2846827/config_files/les_ConvBoundLayer/cm1out_000001_v.dat -->\n",
       "<g id=\"edge254\" class=\"edge\">\n",
       "<title>close&#45;&gt;/p/gpfs1/iopp/temp/cm1r20.3.2846827/config_files/les_ConvBoundLayer/cm1out_000001_v.dat</title>\n",
       "<path fill=\"none\" stroke=\"black\" d=\"M2531.14,-104.09C2714.24,-104.41 3564.88,-103.98 3676.48,-69 3688.13,-65.35 3687.89,-57.83 3699.48,-54 3737,-41.6 3806.05,-33.51 3883.67,-28.26\"/>\n",
       "<polygon fill=\"black\" stroke=\"black\" points=\"3883.93,-31.75 3893.67,-27.61 3883.47,-24.77 3883.93,-31.75\"/>\n",
       "<text text-anchor=\"middle\" x=\"3704.48\" y=\"-57.8\" font-family=\"Times,serif\" font-size=\"14.00\">1</text>\n",
       "</g>\n",
       "<!-- close&#45;&gt;/p/gpfs1/iopp/temp/cm1r20.3.2846827/config_files/les_ConvBoundLayer/cm1out_000001_v.dat -->\n",
       "<g id=\"edge258\" class=\"edge\">\n",
       "<title>close&#45;&gt;/p/gpfs1/iopp/temp/cm1r20.3.2846827/config_files/les_ConvBoundLayer/cm1out_000001_v.dat</title>\n",
       "<path fill=\"none\" stroke=\"black\" d=\"M2531.18,-104.12C2717.45,-104.61 3594.56,-104.97 3709.48,-69 3721.13,-65.35 3720.9,-57.85 3732.48,-54 3767.27,-42.43 3830.83,-34.66 3902.57,-29.44\"/>\n",
       "<polygon fill=\"black\" stroke=\"black\" points=\"3903.01,-32.92 3912.74,-28.72 3902.52,-25.94 3903.01,-32.92\"/>\n",
       "<text text-anchor=\"middle\" x=\"3737.48\" y=\"-57.8\" font-family=\"Times,serif\" font-size=\"14.00\">1</text>\n",
       "</g>\n",
       "<!-- close&#45;&gt;/p/gpfs1/iopp/temp/cm1r20.3.2846827/config_files/les_ConvBoundLayer/cm1out_000001_v.dat -->\n",
       "<g id=\"edge262\" class=\"edge\">\n",
       "<title>close&#45;&gt;/p/gpfs1/iopp/temp/cm1r20.3.2846827/config_files/les_ConvBoundLayer/cm1out_000001_v.dat</title>\n",
       "<path fill=\"none\" stroke=\"black\" d=\"M2531.19,-104.15C2720.51,-104.8 3624.23,-105.97 3742.48,-69 3754.13,-65.36 3753.91,-57.88 3765.48,-54 3797.81,-43.17 3856.63,-35.69 3923.16,-30.52\"/>\n",
       "<polygon fill=\"black\" stroke=\"black\" points=\"3923.76,-33.99 3933.47,-29.75 3923.23,-27.01 3923.76,-33.99\"/>\n",
       "<text text-anchor=\"middle\" x=\"3770.48\" y=\"-57.8\" font-family=\"Times,serif\" font-size=\"14.00\">1</text>\n",
       "</g>\n",
       "<!-- close&#45;&gt;/p/gpfs1/iopp/temp/cm1r20.3.2846827/config_files/les_ConvBoundLayer/cm1out_000001_v.dat -->\n",
       "<g id=\"edge266\" class=\"edge\">\n",
       "<title>close&#45;&gt;/p/gpfs1/iopp/temp/cm1r20.3.2846827/config_files/les_ConvBoundLayer/cm1out_000001_v.dat</title>\n",
       "<path fill=\"none\" stroke=\"black\" d=\"M2531.16,-104.17C2723.4,-104.99 3653.89,-106.96 3775.48,-69 3787.13,-65.36 3786.92,-57.9 3798.48,-54 3828.6,-43.83 3883.33,-36.62 3945.29,-31.5\"/>\n",
       "<polygon fill=\"black\" stroke=\"black\" points=\"3945.6,-34.98 3955.29,-30.69 3945.04,-28.01 3945.6,-34.98\"/>\n",
       "<text text-anchor=\"middle\" x=\"3803.48\" y=\"-57.8\" font-family=\"Times,serif\" font-size=\"14.00\">1</text>\n",
       "</g>\n",
       "<!-- close&#45;&gt;/p/gpfs1/iopp/temp/cm1r20.3.2846827/config_files/les_ConvBoundLayer/cm1out_000001_v.dat -->\n",
       "<g id=\"edge270\" class=\"edge\">\n",
       "<title>close&#45;&gt;/p/gpfs1/iopp/temp/cm1r20.3.2846827/config_files/les_ConvBoundLayer/cm1out_000001_v.dat</title>\n",
       "<path fill=\"none\" stroke=\"black\" d=\"M2531.09,-104.2C2726.13,-105.18 3683.54,-107.96 3808.48,-69 3820.13,-65.37 3819.93,-57.93 3831.48,-54 3859.52,-44.45 3910.5,-37.48 3968.22,-32.41\"/>\n",
       "<polygon fill=\"black\" stroke=\"black\" points=\"3968.64,-35.89 3978.3,-31.55 3968.04,-28.91 3968.64,-35.89\"/>\n",
       "<text text-anchor=\"middle\" x=\"3836.48\" y=\"-57.8\" font-family=\"Times,serif\" font-size=\"14.00\">1</text>\n",
       "</g>\n",
       "<!-- close&#45;&gt;/p/gpfs1/iopp/temp/cm1r20.3.2846827/config_files/les_ConvBoundLayer/cm1out_000001_v.dat -->\n",
       "<g id=\"edge274\" class=\"edge\">\n",
       "<title>close&#45;&gt;/p/gpfs1/iopp/temp/cm1r20.3.2846827/config_files/les_ConvBoundLayer/cm1out_000001_v.dat</title>\n",
       "<path fill=\"none\" stroke=\"black\" d=\"M2530.99,-104.22C2728.69,-105.36 3713.18,-108.96 3841.48,-69 3853.13,-65.37 3852.94,-57.97 3864.48,-54 3890.56,-45.03 3938.11,-38.29 3991.88,-33.25\"/>\n",
       "<polygon fill=\"black\" stroke=\"black\" points=\"3992.35,-36.72 4001.99,-32.33 3991.71,-29.75 3992.35,-36.72\"/>\n",
       "<text text-anchor=\"middle\" x=\"3869.48\" y=\"-57.8\" font-family=\"Times,serif\" font-size=\"14.00\">1</text>\n",
       "</g>\n",
       "<!-- close&#45;&gt;/p/gpfs1/iopp/temp/cm1r20.3.2846827/config_files/les_ConvBoundLayer/cm1out_000001_v.dat -->\n",
       "<g id=\"edge278\" class=\"edge\">\n",
       "<title>close&#45;&gt;/p/gpfs1/iopp/temp/cm1r20.3.2846827/config_files/les_ConvBoundLayer/cm1out_000001_v.dat</title>\n",
       "<path fill=\"none\" stroke=\"black\" d=\"M2531.11,-103.65C2738.44,-101.52 3808.46,-89.54 3874.48,-69 3886.13,-65.37 3885.95,-58.01 3897.48,-54 3921.69,-45.57 3966.03,-39.04 4016.08,-34.03\"/>\n",
       "<polygon fill=\"black\" stroke=\"black\" points=\"4016.54,-37.5 4026.16,-33.04 4015.86,-30.53 4016.54,-37.5\"/>\n",
       "<text text-anchor=\"middle\" x=\"3902.48\" y=\"-57.8\" font-family=\"Times,serif\" font-size=\"14.00\">1</text>\n",
       "</g>\n",
       "<!-- close&#45;&gt;/p/gpfs1/iopp/temp/cm1r20.3.2846827/config_files/les_ConvBoundLayer/cm1out_000001_v.dat -->\n",
       "<g id=\"edge282\" class=\"edge\">\n",
       "<title>close&#45;&gt;/p/gpfs1/iopp/temp/cm1r20.3.2846827/config_files/les_ConvBoundLayer/cm1out_000001_v.dat</title>\n",
       "<path fill=\"none\" stroke=\"black\" d=\"M2530.92,-103.68C2740.67,-101.65 3839.77,-90.05 3907.48,-69 3919.13,-65.38 3918.97,-58.06 3930.48,-54 3952.94,-46.07 3994.41,-39.71 4041.05,-34.69\"/>\n",
       "<polygon fill=\"black\" stroke=\"black\" points=\"4041.49,-38.17 4051.07,-33.64 4040.76,-31.2 4041.49,-38.17\"/>\n",
       "<text text-anchor=\"middle\" x=\"3935.48\" y=\"-57.8\" font-family=\"Times,serif\" font-size=\"14.00\">1</text>\n",
       "</g>\n",
       "<!-- close&#45;&gt;/p/gpfs1/iopp/temp/cm1r20.3.2846827/config_files/les_ConvBoundLayer/cm1out_000001_v.dat -->\n",
       "<g id=\"edge286\" class=\"edge\">\n",
       "<title>close&#45;&gt;/p/gpfs1/iopp/temp/cm1r20.3.2846827/config_files/les_ConvBoundLayer/cm1out_000001_v.dat</title>\n",
       "<path fill=\"none\" stroke=\"black\" d=\"M2531.03,-103.7C2743.95,-101.76 3871.1,-90.54 3940.48,-69 3952.14,-65.38 3951.99,-58.12 3963.48,-54 3984.19,-46.57 4022.81,-40.35 4066.04,-35.31\"/>\n",
       "<polygon fill=\"black\" stroke=\"black\" points=\"4066.68,-38.76 4076.22,-34.16 4065.89,-31.81 4066.68,-38.76\"/>\n",
       "<text text-anchor=\"middle\" x=\"3968.48\" y=\"-57.8\" font-family=\"Times,serif\" font-size=\"14.00\">1</text>\n",
       "</g>\n",
       "<!-- close&#45;&gt;/p/gpfs1/iopp/temp/cm1r20.3.2846827/config_files/les_ConvBoundLayer/cm1out_000001_v.dat -->\n",
       "<g id=\"edge290\" class=\"edge\">\n",
       "<title>close&#45;&gt;/p/gpfs1/iopp/temp/cm1r20.3.2846827/config_files/les_ConvBoundLayer/cm1out_000001_v.dat</title>\n",
       "<path fill=\"none\" stroke=\"black\" d=\"M2531.12,-103.72C2747.12,-101.88 3902.44,-91.04 3973.48,-69 3985.14,-65.38 3985.02,-58.2 3996.48,-54 4016.53,-46.66 4037.86,-40.8 4059.46,-36.14\"/>\n",
       "<polygon fill=\"black\" stroke=\"black\" points=\"4060.32,-39.53 4069.4,-34.08 4058.9,-32.68 4060.32,-39.53\"/>\n",
       "<text text-anchor=\"middle\" x=\"4001.48\" y=\"-57.8\" font-family=\"Times,serif\" font-size=\"14.00\">1</text>\n",
       "</g>\n",
       "<!-- close&#45;&gt;/p/gpfs1/iopp/temp/cm1r20.3.2846827/config_files/les_ConvBoundLayer/cm1out_000001_v.dat -->\n",
       "<g id=\"edge294\" class=\"edge\">\n",
       "<title>close&#45;&gt;/p/gpfs1/iopp/temp/cm1r20.3.2846827/config_files/les_ConvBoundLayer/cm1out_000001_v.dat</title>\n",
       "<path fill=\"none\" stroke=\"black\" d=\"M2531.18,-103.73C2750.17,-101.99 3933.77,-91.54 4006.48,-69 4018.14,-65.39 4018.06,-58.29 4029.48,-54 4048.3,-46.93 4068.41,-41.28 4088.72,-36.75\"/>\n",
       "<polygon fill=\"black\" stroke=\"black\" points=\"4089.66,-40.13 4098.71,-34.62 4088.2,-33.29 4089.66,-40.13\"/>\n",
       "<text text-anchor=\"middle\" x=\"4034.48\" y=\"-57.8\" font-family=\"Times,serif\" font-size=\"14.00\">1</text>\n",
       "</g>\n",
       "<!-- close&#45;&gt;/p/gpfs1/iopp/temp/cm1r20.3.2846827/config_files/les_ConvBoundLayer/cm1out_000001_v.dat -->\n",
       "<g id=\"edge298\" class=\"edge\">\n",
       "<title>close&#45;&gt;/p/gpfs1/iopp/temp/cm1r20.3.2846827/config_files/les_ConvBoundLayer/cm1out_000001_v.dat</title>\n",
       "<path fill=\"none\" stroke=\"black\" d=\"M2530.86,-103.75C2751.8,-102.11 3965.05,-92.05 4039.48,-69 4051.14,-65.39 4051.1,-58.41 4062.48,-54 4080.11,-47.16 4099.07,-41.66 4118.15,-37.23\"/>\n",
       "<polygon fill=\"black\" stroke=\"black\" points=\"4119.13,-40.6 4128.13,-35.01 4117.61,-33.76 4119.13,-40.6\"/>\n",
       "<text text-anchor=\"middle\" x=\"4067.48\" y=\"-57.8\" font-family=\"Times,serif\" font-size=\"14.00\">1</text>\n",
       "</g>\n",
       "<!-- close&#45;&gt;/p/gpfs1/iopp/temp/cm1r20.3.2846827/config_files/les_ConvBoundLayer/cm1out_000001_v.dat -->\n",
       "<g id=\"edge302\" class=\"edge\">\n",
       "<title>close&#45;&gt;/p/gpfs1/iopp/temp/cm1r20.3.2846827/config_files/les_ConvBoundLayer/cm1out_000001_v.dat</title>\n",
       "<path fill=\"none\" stroke=\"black\" d=\"M2530.87,-103.77C2754.6,-102.22 3996.37,-92.55 4072.48,-69 4084.14,-65.39 4084.17,-58.58 4095.48,-54 4111.48,-47.53 4128.77,-42.23 4146.09,-37.9\"/>\n",
       "<polygon fill=\"black\" stroke=\"black\" points=\"4147.38,-41.19 4156.29,-35.46 4145.75,-34.38 4147.38,-41.19\"/>\n",
       "<text text-anchor=\"middle\" x=\"4100.48\" y=\"-57.8\" font-family=\"Times,serif\" font-size=\"14.00\">1</text>\n",
       "</g>\n",
       "<!-- close&#45;&gt;/p/gpfs1/iopp/temp/cm1r20.3.2846827/config_files/les_ConvBoundLayer/cm1out_000001_v.dat -->\n",
       "<g id=\"edge306\" class=\"edge\">\n",
       "<title>close&#45;&gt;/p/gpfs1/iopp/temp/cm1r20.3.2846827/config_files/les_ConvBoundLayer/cm1out_000001_v.dat</title>\n",
       "<path fill=\"none\" stroke=\"black\" d=\"M2530.86,-103.79C2757.28,-102.32 4027.69,-93.05 4105.48,-69 4117.14,-65.4 4117.26,-58.81 4128.48,-54 4142.95,-47.8 4158.71,-42.58 4174.37,-38.24\"/>\n",
       "<polygon fill=\"black\" stroke=\"black\" points=\"4175.34,-41.6 4184.09,-35.64 4173.53,-34.84 4175.34,-41.6\"/>\n",
       "<text text-anchor=\"middle\" x=\"4133.48\" y=\"-57.8\" font-family=\"Times,serif\" font-size=\"14.00\">1</text>\n",
       "</g>\n",
       "<!-- close&#45;&gt;/p/gpfs1/iopp/temp/cm1r20.3.2846827/config_files/les_ConvBoundLayer/cm1out_000001_v.dat -->\n",
       "<g id=\"edge310\" class=\"edge\">\n",
       "<title>close&#45;&gt;/p/gpfs1/iopp/temp/cm1r20.3.2846827/config_files/les_ConvBoundLayer/cm1out_000001_v.dat</title>\n",
       "<path fill=\"none\" stroke=\"black\" d=\"M2531.2,-103.8C2761.24,-102.42 4059.05,-93.54 4138.48,-69 4150.14,-65.4 4150.42,-59.16 4161.48,-54 4173.54,-48.37 4186.72,-43.38 4199.72,-39.05\"/>\n",
       "<polygon fill=\"black\" stroke=\"black\" points=\"4201.16,-42.26 4209.61,-35.87 4199.01,-35.6 4201.16,-42.26\"/>\n",
       "<text text-anchor=\"middle\" x=\"4166.48\" y=\"-57.8\" font-family=\"Times,serif\" font-size=\"14.00\">1</text>\n",
       "</g>\n",
       "<!-- close&#45;&gt;/p/gpfs1/iopp/temp/cm1r20.3.2846827/config_files/les_ConvBoundLayer/cm1out_000001_v.dat -->\n",
       "<g id=\"edge314\" class=\"edge\">\n",
       "<title>close&#45;&gt;/p/gpfs1/iopp/temp/cm1r20.3.2846827/config_files/les_ConvBoundLayer/cm1out_000001_v.dat</title>\n",
       "<path fill=\"none\" stroke=\"black\" d=\"M2531.14,-103.82C2763.72,-102.52 4090.36,-94.04 4171.48,-69 4183.14,-65.4 4183.72,-59.75 4194.48,-54 4203.69,-49.08 4213.74,-44.32 4223.54,-39.99\"/>\n",
       "<polygon fill=\"black\" stroke=\"black\" points=\"4225.05,-43.15 4232.83,-35.96 4222.27,-36.72 4225.05,-43.15\"/>\n",
       "<text text-anchor=\"middle\" x=\"4199.48\" y=\"-57.8\" font-family=\"Times,serif\" font-size=\"14.00\">1</text>\n",
       "</g>\n",
       "<!-- close&#45;&gt;/p/gpfs1/iopp/temp/cm1r20.3.2846827/config_files/les_ConvBoundLayer/cm1out_000001_v.dat -->\n",
       "<g id=\"edge318\" class=\"edge\">\n",
       "<title>close&#45;&gt;/p/gpfs1/iopp/temp/cm1r20.3.2846827/config_files/les_ConvBoundLayer/cm1out_000001_v.dat</title>\n",
       "<path fill=\"none\" stroke=\"black\" d=\"M2531.08,-103.86C2766.15,-102.83 4122.05,-95.74 4204.48,-69 4206.88,-68.22 4226.04,-54.89 4243.99,-42.18\"/>\n",
       "<polygon fill=\"black\" stroke=\"black\" points=\"4246.49,-44.7 4252.63,-36.06 4242.44,-38.99 4246.49,-44.7\"/>\n",
       "<text text-anchor=\"middle\" x=\"4230.48\" y=\"-57.8\" font-family=\"Times,serif\" font-size=\"14.00\">1</text>\n",
       "</g>\n",
       "<!-- close&#45;&gt;/p/gpfs1/iopp/temp/cm1r20.3.2846827/config_files/les_ConvBoundLayer/cm1out_000001_v.dat -->\n",
       "<g id=\"edge322\" class=\"edge\">\n",
       "<title>close&#45;&gt;/p/gpfs1/iopp/temp/cm1r20.3.2846827/config_files/les_ConvBoundLayer/cm1out_000001_v.dat</title>\n",
       "<path fill=\"none\" stroke=\"black\" d=\"M2531.09,-104.15C2769.27,-105.05 4158.41,-108.59 4237.48,-69 4247.92,-63.77 4256.41,-54.29 4262.77,-44.98\"/>\n",
       "<polygon fill=\"black\" stroke=\"black\" points=\"4265.89,-46.58 4268.2,-36.24 4259.95,-42.88 4265.89,-46.58\"/>\n",
       "<text text-anchor=\"middle\" x=\"4259.48\" y=\"-57.8\" font-family=\"Times,serif\" font-size=\"14.00\">1</text>\n",
       "</g>\n",
       "<!-- /p/gpfs1/iopp/temp/cm1r20.3.2846827/config_files/les_ConvBoundLayer/cm1out_000001_w.dat -->\n",
       "<g id=\"node39\" class=\"node\">\n",
       "<title>/p/gpfs1/iopp/temp/cm1r20.3.2846827/config_files/les_ConvBoundLayer/cm1out_000001_w.dat</title>\n",
       "<ellipse fill=\"none\" stroke=\"black\" cx=\"6387.48\" cy=\"-18\" rx=\"454.92\" ry=\"18\"/>\n",
       "<text text-anchor=\"middle\" x=\"6387.48\" y=\"-14.3\" font-family=\"Times,serif\" font-size=\"14.00\">/p/gpfs1/iopp/temp/cm1r20.3.2846827/config_files/les_ConvBoundLayer/cm1out_000001_w.dat</text>\n",
       "</g>\n",
       "<!-- close&#45;&gt;/p/gpfs1/iopp/temp/cm1r20.3.2846827/config_files/les_ConvBoundLayer/cm1out_000001_w.dat -->\n",
       "<g id=\"edge326\" class=\"edge\">\n",
       "<title>close&#45;&gt;/p/gpfs1/iopp/temp/cm1r20.3.2846827/config_files/les_ConvBoundLayer/cm1out_000001_w.dat</title>\n",
       "<path fill=\"none\" stroke=\"black\" d=\"M2531.21,-103.76C2841.86,-101.56 5135.28,-84.87 5278.48,-69 5310.54,-65.45 5317.46,-57.89 5349.48,-54 5465.78,-39.86 5731.46,-31.06 5964.91,-25.82\"/>\n",
       "<polygon fill=\"black\" stroke=\"black\" points=\"5965.03,-29.32 5974.95,-25.6 5964.87,-22.32 5965.03,-29.32\"/>\n",
       "<text text-anchor=\"middle\" x=\"5354.48\" y=\"-57.8\" font-family=\"Times,serif\" font-size=\"14.00\">1</text>\n",
       "</g>\n",
       "<!-- close&#45;&gt;/p/gpfs1/iopp/temp/cm1r20.3.2846827/config_files/les_ConvBoundLayer/cm1out_000001_w.dat -->\n",
       "<g id=\"edge332\" class=\"edge\">\n",
       "<title>close&#45;&gt;/p/gpfs1/iopp/temp/cm1r20.3.2846827/config_files/les_ConvBoundLayer/cm1out_000001_w.dat</title>\n",
       "<path fill=\"none\" stroke=\"black\" d=\"M2530.98,-103.85C2850.84,-102.39 5288.38,-90.61 5359.48,-69 5371.16,-65.45 5370.84,-57.68 5382.48,-54 5437.07,-36.73 5699.61,-27.97 5942.64,-23.53\"/>\n",
       "<polygon fill=\"black\" stroke=\"black\" points=\"5942.8,-27.03 5952.74,-23.35 5942.68,-20.03 5942.8,-27.03\"/>\n",
       "<text text-anchor=\"middle\" x=\"5387.48\" y=\"-57.8\" font-family=\"Times,serif\" font-size=\"14.00\">1</text>\n",
       "</g>\n",
       "<!-- close&#45;&gt;/p/gpfs1/iopp/temp/cm1r20.3.2846827/config_files/les_ConvBoundLayer/cm1out_000001_w.dat -->\n",
       "<g id=\"edge336\" class=\"edge\">\n",
       "<title>close&#45;&gt;/p/gpfs1/iopp/temp/cm1r20.3.2846827/config_files/les_ConvBoundLayer/cm1out_000001_w.dat</title>\n",
       "<path fill=\"none\" stroke=\"black\" d=\"M2531.08,-103.71C2855.73,-101.02 5356.49,-79.94 5392.48,-69 5404.16,-65.45 5403.85,-57.69 5415.48,-54 5467.55,-37.5 5715.3,-28.73 5947.61,-24.1\"/>\n",
       "<polygon fill=\"black\" stroke=\"black\" points=\"5947.68,-27.6 5957.61,-23.91 5947.55,-20.6 5947.68,-27.6\"/>\n",
       "<text text-anchor=\"middle\" x=\"5420.48\" y=\"-57.8\" font-family=\"Times,serif\" font-size=\"14.00\">1</text>\n",
       "</g>\n",
       "<!-- close&#45;&gt;/p/gpfs1/iopp/temp/cm1r20.3.2846827/config_files/les_ConvBoundLayer/cm1out_000001_w.dat -->\n",
       "<g id=\"edge340\" class=\"edge\">\n",
       "<title>close&#45;&gt;/p/gpfs1/iopp/temp/cm1r20.3.2846827/config_files/les_ConvBoundLayer/cm1out_000001_w.dat</title>\n",
       "<path fill=\"none\" stroke=\"black\" d=\"M2530.96,-103.72C2857.18,-101.06 5389.06,-80.06 5425.48,-69 5437.16,-65.45 5436.85,-57.69 5448.48,-54 5498.03,-38.26 5731.07,-29.52 5952.58,-24.71\"/>\n",
       "<polygon fill=\"black\" stroke=\"black\" points=\"5952.86,-28.2 5962.78,-24.49 5952.71,-21.2 5952.86,-28.2\"/>\n",
       "<text text-anchor=\"middle\" x=\"5453.48\" y=\"-57.8\" font-family=\"Times,serif\" font-size=\"14.00\">1</text>\n",
       "</g>\n",
       "<!-- close&#45;&gt;/p/gpfs1/iopp/temp/cm1r20.3.2846827/config_files/les_ConvBoundLayer/cm1out_000001_w.dat -->\n",
       "<g id=\"edge344\" class=\"edge\">\n",
       "<title>close&#45;&gt;/p/gpfs1/iopp/temp/cm1r20.3.2846827/config_files/les_ConvBoundLayer/cm1out_000001_w.dat</title>\n",
       "<path fill=\"none\" stroke=\"black\" d=\"M2531.09,-103.72C2859.91,-101.09 5421.64,-80.19 5458.48,-69 5470.16,-65.45 5469.85,-57.7 5481.48,-54 5528.61,-38.99 5747.87,-30.29 5958.87,-25.31\"/>\n",
       "<polygon fill=\"black\" stroke=\"black\" points=\"5958.99,-28.81 5968.91,-25.07 5958.83,-21.81 5958.99,-28.81\"/>\n",
       "<text text-anchor=\"middle\" x=\"5486.48\" y=\"-57.8\" font-family=\"Times,serif\" font-size=\"14.00\">1</text>\n",
       "</g>\n",
       "<!-- close&#45;&gt;/p/gpfs1/iopp/temp/cm1r20.3.2846827/config_files/les_ConvBoundLayer/cm1out_000001_w.dat -->\n",
       "<g id=\"edge348\" class=\"edge\">\n",
       "<title>close&#45;&gt;/p/gpfs1/iopp/temp/cm1r20.3.2846827/config_files/les_ConvBoundLayer/cm1out_000001_w.dat</title>\n",
       "<path fill=\"none\" stroke=\"black\" d=\"M2530.96,-103.73C2861.26,-101.12 5454.21,-80.32 5491.48,-69 5503.16,-65.45 5502.85,-57.71 5514.48,-54 5559.22,-39.72 5764.99,-31.06 5965.51,-25.93\"/>\n",
       "<polygon fill=\"black\" stroke=\"black\" points=\"5965.75,-29.43 5975.66,-25.68 5965.58,-22.43 5965.75,-29.43\"/>\n",
       "<text text-anchor=\"middle\" x=\"5519.48\" y=\"-57.8\" font-family=\"Times,serif\" font-size=\"14.00\">1</text>\n",
       "</g>\n",
       "<!-- close&#45;&gt;/p/gpfs1/iopp/temp/cm1r20.3.2846827/config_files/les_ConvBoundLayer/cm1out_000001_w.dat -->\n",
       "<g id=\"edge352\" class=\"edge\">\n",
       "<title>close&#45;&gt;/p/gpfs1/iopp/temp/cm1r20.3.2846827/config_files/les_ConvBoundLayer/cm1out_000001_w.dat</title>\n",
       "<path fill=\"none\" stroke=\"black\" d=\"M2531.08,-103.73C2863.91,-101.15 5486.79,-80.44 5524.48,-69 5536.16,-65.45 5535.86,-57.72 5547.48,-54 5589.9,-40.42 5782.85,-31.83 5973.13,-26.57\"/>\n",
       "<polygon fill=\"black\" stroke=\"black\" points=\"5973.44,-30.06 5983.34,-26.29 5973.25,-23.06 5973.44,-30.06\"/>\n",
       "<text text-anchor=\"middle\" x=\"5552.48\" y=\"-57.8\" font-family=\"Times,serif\" font-size=\"14.00\">1</text>\n",
       "</g>\n",
       "<!-- close&#45;&gt;/p/gpfs1/iopp/temp/cm1r20.3.2846827/config_files/les_ConvBoundLayer/cm1out_000001_w.dat -->\n",
       "<g id=\"edge354\" class=\"edge\">\n",
       "<title>close&#45;&gt;/p/gpfs1/iopp/temp/cm1r20.3.2846827/config_files/les_ConvBoundLayer/cm1out_000001_w.dat</title>\n",
       "<path fill=\"none\" stroke=\"black\" d=\"M2530.93,-103.74C2865.15,-101.19 5519.36,-80.57 5557.48,-69 5569.16,-65.46 5568.86,-57.73 5580.48,-54 5620.65,-41.1 5801.41,-32.6 5981.69,-27.2\"/>\n",
       "<polygon fill=\"black\" stroke=\"black\" points=\"5982.02,-30.7 5991.91,-26.9 5981.81,-23.7 5982.02,-30.7\"/>\n",
       "<text text-anchor=\"middle\" x=\"5585.48\" y=\"-57.8\" font-family=\"Times,serif\" font-size=\"14.00\">1</text>\n",
       "</g>\n",
       "<!-- close&#45;&gt;/p/gpfs1/iopp/temp/cm1r20.3.2846827/config_files/les_ConvBoundLayer/cm1out_000001_w.dat -->\n",
       "<g id=\"edge358\" class=\"edge\">\n",
       "<title>close&#45;&gt;/p/gpfs1/iopp/temp/cm1r20.3.2846827/config_files/les_ConvBoundLayer/cm1out_000001_w.dat</title>\n",
       "<path fill=\"none\" stroke=\"black\" d=\"M2531.04,-103.74C2867.72,-101.21 5551.94,-80.7 5590.48,-69 5602.16,-65.46 5601.86,-57.74 5613.48,-54 5651.47,-41.76 5820.63,-33.35 5991.16,-27.85\"/>\n",
       "<polygon fill=\"black\" stroke=\"black\" points=\"5991.46,-31.34 6001.35,-27.52 5991.24,-24.34 5991.46,-31.34\"/>\n",
       "<text text-anchor=\"middle\" x=\"5618.48\" y=\"-57.8\" font-family=\"Times,serif\" font-size=\"14.00\">1</text>\n",
       "</g>\n",
       "<!-- close&#45;&gt;/p/gpfs1/iopp/temp/cm1r20.3.2846827/config_files/les_ConvBoundLayer/cm1out_000001_w.dat -->\n",
       "<g id=\"edge362\" class=\"edge\">\n",
       "<title>close&#45;&gt;/p/gpfs1/iopp/temp/cm1r20.3.2846827/config_files/les_ConvBoundLayer/cm1out_000001_w.dat</title>\n",
       "<path fill=\"none\" stroke=\"black\" d=\"M2530.88,-103.75C2868.86,-101.25 5584.51,-80.82 5623.48,-69 5635.16,-65.46 5634.87,-57.75 5646.48,-54 5682.34,-42.41 5840.32,-34.1 6001.25,-28.5\"/>\n",
       "<polygon fill=\"black\" stroke=\"black\" points=\"6001.48,-31.99 6011.36,-28.15 6001.24,-25 6001.48,-31.99\"/>\n",
       "<text text-anchor=\"middle\" x=\"5651.48\" y=\"-57.8\" font-family=\"Times,serif\" font-size=\"14.00\">1</text>\n",
       "</g>\n",
       "<!-- close&#45;&gt;/p/gpfs1/iopp/temp/cm1r20.3.2846827/config_files/les_ConvBoundLayer/cm1out_000001_w.dat -->\n",
       "<g id=\"edge366\" class=\"edge\">\n",
       "<title>close&#45;&gt;/p/gpfs1/iopp/temp/cm1r20.3.2846827/config_files/les_ConvBoundLayer/cm1out_000001_w.dat</title>\n",
       "<path fill=\"none\" stroke=\"black\" d=\"M2530.97,-103.75C2871.36,-101.28 5617.08,-80.95 5656.48,-69 5668.16,-65.46 5667.87,-57.77 5679.48,-54 5713.31,-43.03 5860.92,-34.83 6012.68,-29.14\"/>\n",
       "<polygon fill=\"black\" stroke=\"black\" points=\"6012.82,-32.63 6022.68,-28.76 6012.56,-25.64 6012.82,-32.63\"/>\n",
       "<text text-anchor=\"middle\" x=\"5684.48\" y=\"-57.8\" font-family=\"Times,serif\" font-size=\"14.00\">1</text>\n",
       "</g>\n",
       "<!-- close&#45;&gt;/p/gpfs1/iopp/temp/cm1r20.3.2846827/config_files/les_ConvBoundLayer/cm1out_000001_w.dat -->\n",
       "<g id=\"edge370\" class=\"edge\">\n",
       "<title>close&#45;&gt;/p/gpfs1/iopp/temp/cm1r20.3.2846827/config_files/les_ConvBoundLayer/cm1out_000001_w.dat</title>\n",
       "<path fill=\"none\" stroke=\"black\" d=\"M2531.07,-103.75C2873.83,-101.3 5649.66,-81.08 5689.48,-69 5701.16,-65.46 5700.88,-57.78 5712.48,-54 5744.28,-43.64 5881.65,-35.57 6024.23,-29.8\"/>\n",
       "<polygon fill=\"black\" stroke=\"black\" points=\"6024.66,-33.28 6034.51,-29.39 6024.38,-26.29 6024.66,-33.28\"/>\n",
       "<text text-anchor=\"middle\" x=\"5717.48\" y=\"-57.8\" font-family=\"Times,serif\" font-size=\"14.00\">1</text>\n",
       "</g>\n",
       "<!-- close&#45;&gt;/p/gpfs1/iopp/temp/cm1r20.3.2846827/config_files/les_ConvBoundLayer/cm1out_000001_w.dat -->\n",
       "<g id=\"edge374\" class=\"edge\">\n",
       "<title>close&#45;&gt;/p/gpfs1/iopp/temp/cm1r20.3.2846827/config_files/les_ConvBoundLayer/cm1out_000001_w.dat</title>\n",
       "<path fill=\"none\" stroke=\"black\" d=\"M2530.88,-103.76C2874.81,-101.34 5682.23,-81.2 5722.48,-69 5734.16,-65.46 5733.88,-57.79 5745.48,-54 5788.88,-39.8 5870.1,-31.11 5960.54,-25.84\"/>\n",
       "<polygon fill=\"black\" stroke=\"black\" points=\"5960.96,-29.32 5970.75,-25.26 5960.57,-22.34 5960.96,-29.32\"/>\n",
       "<text text-anchor=\"middle\" x=\"5750.48\" y=\"-57.8\" font-family=\"Times,serif\" font-size=\"14.00\">1</text>\n",
       "</g>\n",
       "<!-- close&#45;&gt;/p/gpfs1/iopp/temp/cm1r20.3.2846827/config_files/les_ConvBoundLayer/cm1out_000001_w.dat -->\n",
       "<g id=\"edge378\" class=\"edge\">\n",
       "<title>close&#45;&gt;/p/gpfs1/iopp/temp/cm1r20.3.2846827/config_files/les_ConvBoundLayer/cm1out_000001_w.dat</title>\n",
       "<path fill=\"none\" stroke=\"black\" d=\"M2530.97,-103.76C2877.2,-101.36 5714.8,-81.33 5755.48,-69 5767.16,-65.46 5766.89,-57.81 5778.48,-54 5818.66,-40.79 5893.06,-32.41 5976.41,-27.15\"/>\n",
       "<polygon fill=\"black\" stroke=\"black\" points=\"5976.85,-30.62 5986.62,-26.52 5976.42,-23.64 5976.85,-30.62\"/>\n",
       "<text text-anchor=\"middle\" x=\"5783.48\" y=\"-57.8\" font-family=\"Times,serif\" font-size=\"14.00\">1</text>\n",
       "</g>\n",
       "<!-- close&#45;&gt;/p/gpfs1/iopp/temp/cm1r20.3.2846827/config_files/les_ConvBoundLayer/cm1out_000001_w.dat -->\n",
       "<g id=\"edge382\" class=\"edge\">\n",
       "<title>close&#45;&gt;/p/gpfs1/iopp/temp/cm1r20.3.2846827/config_files/les_ConvBoundLayer/cm1out_000001_w.dat</title>\n",
       "<path fill=\"none\" stroke=\"black\" d=\"M2531.04,-103.77C2879.57,-101.39 5747.38,-81.46 5788.48,-69 5800.16,-65.46 5799.89,-57.83 5811.48,-54 5848.69,-41.7 5916.96,-33.65 5993.82,-28.4\"/>\n",
       "<polygon fill=\"black\" stroke=\"black\" points=\"5994.47,-31.86 6004.22,-27.71 5994.01,-24.88 5994.47,-31.86\"/>\n",
       "<text text-anchor=\"middle\" x=\"5816.48\" y=\"-57.8\" font-family=\"Times,serif\" font-size=\"14.00\">1</text>\n",
       "</g>\n",
       "<!-- close&#45;&gt;/p/gpfs1/iopp/temp/cm1r20.3.2846827/config_files/les_ConvBoundLayer/cm1out_000001_w.dat -->\n",
       "<g id=\"edge386\" class=\"edge\">\n",
       "<title>close&#45;&gt;/p/gpfs1/iopp/temp/cm1r20.3.2846827/config_files/les_ConvBoundLayer/cm1out_000001_w.dat</title>\n",
       "<path fill=\"none\" stroke=\"black\" d=\"M2531.12,-103.77C2881.9,-101.41 5779.96,-81.58 5821.48,-69 5833.16,-65.46 5832.9,-57.85 5844.48,-54 5879.05,-42.5 5942.07,-34.76 6013.26,-29.54\"/>\n",
       "<polygon fill=\"black\" stroke=\"black\" points=\"6013.63,-33.03 6023.36,-28.82 6013.13,-26.04 6013.63,-33.03\"/>\n",
       "<text text-anchor=\"middle\" x=\"5849.48\" y=\"-57.8\" font-family=\"Times,serif\" font-size=\"14.00\">1</text>\n",
       "</g>\n",
       "<!-- close&#45;&gt;/p/gpfs1/iopp/temp/cm1r20.3.2846827/config_files/les_ConvBoundLayer/cm1out_000001_w.dat -->\n",
       "<g id=\"edge390\" class=\"edge\">\n",
       "<title>close&#45;&gt;/p/gpfs1/iopp/temp/cm1r20.3.2846827/config_files/les_ConvBoundLayer/cm1out_000001_w.dat</title>\n",
       "<path fill=\"none\" stroke=\"black\" d=\"M2530.91,-103.77C2882.68,-101.45 5812.52,-81.71 5854.48,-69 5866.16,-65.46 5865.91,-57.88 5877.48,-54 5909.6,-43.24 5967.91,-35.79 6033.93,-30.62\"/>\n",
       "<polygon fill=\"black\" stroke=\"black\" points=\"6034.45,-34.09 6044.15,-29.85 6033.92,-27.11 6034.45,-34.09\"/>\n",
       "<text text-anchor=\"middle\" x=\"5882.48\" y=\"-57.8\" font-family=\"Times,serif\" font-size=\"14.00\">1</text>\n",
       "</g>\n",
       "<!-- close&#45;&gt;/p/gpfs1/iopp/temp/cm1r20.3.2846827/config_files/les_ConvBoundLayer/cm1out_000001_w.dat -->\n",
       "<g id=\"edge394\" class=\"edge\">\n",
       "<title>close&#45;&gt;/p/gpfs1/iopp/temp/cm1r20.3.2846827/config_files/les_ConvBoundLayer/cm1out_000001_w.dat</title>\n",
       "<path fill=\"none\" stroke=\"black\" d=\"M2530.92,-103.71C2885.93,-100.72 5866.28,-75.42 5887.48,-69 5899.16,-65.46 5898.92,-57.9 5910.48,-54 5940.38,-43.91 5994.59,-36.72 6056.02,-31.61\"/>\n",
       "<polygon fill=\"black\" stroke=\"black\" points=\"6056.66,-35.06 6066.35,-30.77 6056.1,-28.09 6056.66,-35.06\"/>\n",
       "<text text-anchor=\"middle\" x=\"5915.48\" y=\"-57.8\" font-family=\"Times,serif\" font-size=\"14.00\">1</text>\n",
       "</g>\n",
       "<!-- close&#45;&gt;/p/gpfs1/iopp/temp/cm1r20.3.2846827/config_files/les_ConvBoundLayer/cm1out_000001_w.dat -->\n",
       "<g id=\"edge398\" class=\"edge\">\n",
       "<title>close&#45;&gt;/p/gpfs1/iopp/temp/cm1r20.3.2846827/config_files/les_ConvBoundLayer/cm1out_000001_w.dat</title>\n",
       "<path fill=\"none\" stroke=\"black\" d=\"M2530.98,-103.71C2888.15,-100.74 5899.07,-75.48 5920.48,-69 5932.16,-65.46 5931.93,-57.93 5943.48,-54 5971.37,-44.5 6022.01,-37.55 6079.38,-32.48\"/>\n",
       "<polygon fill=\"black\" stroke=\"black\" points=\"6079.74,-35.97 6089.4,-31.62 6079.14,-28.99 6079.74,-35.97\"/>\n",
       "<text text-anchor=\"middle\" x=\"5948.48\" y=\"-57.8\" font-family=\"Times,serif\" font-size=\"14.00\">1</text>\n",
       "</g>\n",
       "<!-- close&#45;&gt;/p/gpfs1/iopp/temp/cm1r20.3.2846827/config_files/les_ConvBoundLayer/cm1out_000001_w.dat -->\n",
       "<g id=\"edge402\" class=\"edge\">\n",
       "<title>close&#45;&gt;/p/gpfs1/iopp/temp/cm1r20.3.2846827/config_files/les_ConvBoundLayer/cm1out_000001_w.dat</title>\n",
       "<path fill=\"none\" stroke=\"black\" d=\"M2531.03,-103.72C2890.35,-100.76 5931.86,-75.55 5953.48,-69 5965.16,-65.46 5964.94,-57.97 5976.48,-54 6002.46,-45.06 6049.78,-38.34 6103.32,-33.3\"/>\n",
       "<polygon fill=\"black\" stroke=\"black\" points=\"6103.75,-36.78 6113.39,-32.38 6103.11,-29.81 6103.75,-36.78\"/>\n",
       "<text text-anchor=\"middle\" x=\"5981.48\" y=\"-57.8\" font-family=\"Times,serif\" font-size=\"14.00\">1</text>\n",
       "</g>\n",
       "<!-- close&#45;&gt;/p/gpfs1/iopp/temp/cm1r20.3.2846827/config_files/les_ConvBoundLayer/cm1out_000001_w.dat -->\n",
       "<g id=\"edge406\" class=\"edge\">\n",
       "<title>close&#45;&gt;/p/gpfs1/iopp/temp/cm1r20.3.2846827/config_files/les_ConvBoundLayer/cm1out_000001_w.dat</title>\n",
       "<path fill=\"none\" stroke=\"black\" d=\"M2531.08,-103.72C2892.52,-100.78 5964.65,-75.61 5986.48,-69 5998.16,-65.46 5997.96,-58.01 6009.48,-54 6033.62,-45.59 6077.85,-39.07 6127.76,-34.05\"/>\n",
       "<polygon fill=\"black\" stroke=\"black\" points=\"6128.2,-37.53 6137.82,-33.07 6127.52,-30.56 6128.2,-37.53\"/>\n",
       "<text text-anchor=\"middle\" x=\"6014.48\" y=\"-57.8\" font-family=\"Times,serif\" font-size=\"14.00\">1</text>\n",
       "</g>\n",
       "<!-- close&#45;&gt;/p/gpfs1/iopp/temp/cm1r20.3.2846827/config_files/les_ConvBoundLayer/cm1out_000001_w.dat -->\n",
       "<g id=\"edge410\" class=\"edge\">\n",
       "<title>close&#45;&gt;/p/gpfs1/iopp/temp/cm1r20.3.2846827/config_files/les_ConvBoundLayer/cm1out_000001_w.dat</title>\n",
       "<path fill=\"none\" stroke=\"black\" d=\"M2531.12,-103.72C2894.65,-100.8 5997.44,-75.67 6019.48,-69 6031.16,-65.46 6030.97,-58.06 6042.48,-54 6064.87,-46.09 6106.22,-39.73 6152.73,-34.72\"/>\n",
       "<polygon fill=\"black\" stroke=\"black\" points=\"6153.14,-38.2 6162.72,-33.67 6152.41,-31.24 6153.14,-38.2\"/>\n",
       "<text text-anchor=\"middle\" x=\"6047.48\" y=\"-57.8\" font-family=\"Times,serif\" font-size=\"14.00\">1</text>\n",
       "</g>\n",
       "<!-- close&#45;&gt;/p/gpfs1/iopp/temp/cm1r20.3.2846827/config_files/les_ConvBoundLayer/cm1out_000001_w.dat -->\n",
       "<g id=\"edge414\" class=\"edge\">\n",
       "<title>close&#45;&gt;/p/gpfs1/iopp/temp/cm1r20.3.2846827/config_files/les_ConvBoundLayer/cm1out_000001_w.dat</title>\n",
       "<path fill=\"none\" stroke=\"black\" d=\"M2530.88,-103.73C2895.13,-100.83 6030.22,-75.74 6052.48,-69 6064.16,-65.46 6063.99,-58.13 6075.48,-54 6096.12,-46.59 6134.62,-40.37 6177.71,-35.34\"/>\n",
       "<polygon fill=\"black\" stroke=\"black\" points=\"6178.32,-38.8 6187.86,-34.19 6177.53,-31.84 6178.32,-38.8\"/>\n",
       "<text text-anchor=\"middle\" x=\"6080.48\" y=\"-57.8\" font-family=\"Times,serif\" font-size=\"14.00\">1</text>\n",
       "</g>\n",
       "<!-- close&#45;&gt;/p/gpfs1/iopp/temp/cm1r20.3.2846827/config_files/les_ConvBoundLayer/cm1out_000001_w.dat -->\n",
       "<g id=\"edge418\" class=\"edge\">\n",
       "<title>close&#45;&gt;/p/gpfs1/iopp/temp/cm1r20.3.2846827/config_files/les_ConvBoundLayer/cm1out_000001_w.dat</title>\n",
       "<path fill=\"none\" stroke=\"black\" d=\"M2530.91,-103.73C2897.19,-100.85 6063,-75.8 6085.48,-69 6097.16,-65.47 6097.02,-58.2 6108.48,-54 6128.45,-46.68 6149.71,-40.84 6171.24,-36.18\"/>\n",
       "<polygon fill=\"black\" stroke=\"black\" points=\"6172.06,-39.58 6181.14,-34.12 6170.64,-32.73 6172.06,-39.58\"/>\n",
       "<text text-anchor=\"middle\" x=\"6113.48\" y=\"-57.8\" font-family=\"Times,serif\" font-size=\"14.00\">1</text>\n",
       "</g>\n",
       "<!-- close&#45;&gt;/p/gpfs1/iopp/temp/cm1r20.3.2846827/config_files/les_ConvBoundLayer/cm1out_000001_w.dat -->\n",
       "<g id=\"edge422\" class=\"edge\">\n",
       "<title>close&#45;&gt;/p/gpfs1/iopp/temp/cm1r20.3.2846827/config_files/les_ConvBoundLayer/cm1out_000001_w.dat</title>\n",
       "<path fill=\"none\" stroke=\"black\" d=\"M2530.94,-103.73C2899.22,-100.87 6095.79,-75.86 6118.48,-69 6130.16,-65.47 6130.06,-58.29 6141.48,-54 6160.31,-46.92 6180.43,-41.26 6200.76,-36.74\"/>\n",
       "<polygon fill=\"black\" stroke=\"black\" points=\"6201.71,-40.11 6210.76,-34.61 6200.25,-33.27 6201.71,-40.11\"/>\n",
       "<text text-anchor=\"middle\" x=\"6146.48\" y=\"-57.8\" font-family=\"Times,serif\" font-size=\"14.00\">1</text>\n",
       "</g>\n",
       "<!-- close&#45;&gt;/p/gpfs1/iopp/temp/cm1r20.3.2846827/config_files/les_ConvBoundLayer/cm1out_000001_w.dat -->\n",
       "<g id=\"edge426\" class=\"edge\">\n",
       "<title>close&#45;&gt;/p/gpfs1/iopp/temp/cm1r20.3.2846827/config_files/les_ConvBoundLayer/cm1out_000001_w.dat</title>\n",
       "<path fill=\"none\" stroke=\"black\" d=\"M2530.97,-103.74C2901.22,-100.89 6128.58,-75.93 6151.48,-69 6163.16,-65.47 6163.1,-58.42 6174.48,-54 6192.03,-47.18 6210.9,-41.7 6229.89,-37.28\"/>\n",
       "<polygon fill=\"black\" stroke=\"black\" points=\"6230.82,-40.65 6239.82,-35.06 6229.3,-33.82 6230.82,-40.65\"/>\n",
       "<text text-anchor=\"middle\" x=\"6179.48\" y=\"-57.8\" font-family=\"Times,serif\" font-size=\"14.00\">1</text>\n",
       "</g>\n",
       "<!-- close&#45;&gt;/p/gpfs1/iopp/temp/cm1r20.3.2846827/config_files/les_ConvBoundLayer/cm1out_000001_w.dat -->\n",
       "<g id=\"edge430\" class=\"edge\">\n",
       "<title>close&#45;&gt;/p/gpfs1/iopp/temp/cm1r20.3.2846827/config_files/les_ConvBoundLayer/cm1out_000001_w.dat</title>\n",
       "<path fill=\"none\" stroke=\"black\" d=\"M2530.99,-103.74C2903.19,-100.91 6161.37,-75.99 6184.48,-69 6196.16,-65.47 6196.17,-58.58 6207.48,-54 6223.66,-47.44 6241.17,-42.09 6258.7,-37.72\"/>\n",
       "<polygon fill=\"black\" stroke=\"black\" points=\"6259.52,-41.13 6268.43,-35.4 6257.89,-34.32 6259.52,-41.13\"/>\n",
       "<text text-anchor=\"middle\" x=\"6212.48\" y=\"-57.8\" font-family=\"Times,serif\" font-size=\"14.00\">1</text>\n",
       "</g>\n",
       "<!-- close&#45;&gt;/p/gpfs1/iopp/temp/cm1r20.3.2846827/config_files/les_ConvBoundLayer/cm1out_000001_w.dat -->\n",
       "<g id=\"edge434\" class=\"edge\">\n",
       "<title>close&#45;&gt;/p/gpfs1/iopp/temp/cm1r20.3.2846827/config_files/les_ConvBoundLayer/cm1out_000001_w.dat</title>\n",
       "<path fill=\"none\" stroke=\"black\" d=\"M2531.01,-103.74C2905.12,-100.93 6194.15,-76.05 6217.48,-69 6229.16,-65.47 6229.27,-58.82 6240.48,-54 6254.85,-47.82 6270.5,-42.63 6286.06,-38.29\"/>\n",
       "<polygon fill=\"black\" stroke=\"black\" points=\"6286.97,-41.67 6295.72,-35.7 6285.15,-34.91 6286.97,-41.67\"/>\n",
       "<text text-anchor=\"middle\" x=\"6245.48\" y=\"-57.8\" font-family=\"Times,serif\" font-size=\"14.00\">1</text>\n",
       "</g>\n",
       "<!-- close&#45;&gt;/p/gpfs1/iopp/temp/cm1r20.3.2846827/config_files/les_ConvBoundLayer/cm1out_000001_w.dat -->\n",
       "<g id=\"edge438\" class=\"edge\">\n",
       "<title>close&#45;&gt;/p/gpfs1/iopp/temp/cm1r20.3.2846827/config_files/les_ConvBoundLayer/cm1out_000001_w.dat</title>\n",
       "<path fill=\"none\" stroke=\"black\" d=\"M2531.02,-103.74C2907.03,-100.95 6226.94,-76.12 6250.48,-69 6262.16,-65.47 6262.43,-59.17 6273.48,-54 6285.51,-48.37 6298.67,-43.36 6311.63,-39.02\"/>\n",
       "<polygon fill=\"black\" stroke=\"black\" points=\"6313.05,-42.24 6321.49,-35.83 6310.9,-35.58 6313.05,-42.24\"/>\n",
       "<text text-anchor=\"middle\" x=\"6278.48\" y=\"-57.8\" font-family=\"Times,serif\" font-size=\"14.00\">1</text>\n",
       "</g>\n",
       "<!-- close&#45;&gt;/p/gpfs1/iopp/temp/cm1r20.3.2846827/config_files/les_ConvBoundLayer/cm1out_000001_w.dat -->\n",
       "<g id=\"edge442\" class=\"edge\">\n",
       "<title>close&#45;&gt;/p/gpfs1/iopp/temp/cm1r20.3.2846827/config_files/les_ConvBoundLayer/cm1out_000001_w.dat</title>\n",
       "<path fill=\"none\" stroke=\"black\" d=\"M2531.03,-103.75C2908.9,-100.97 6259.73,-76.18 6283.48,-69 6295.16,-65.47 6295.73,-59.77 6306.48,-54 6315.58,-49.11 6325.51,-44.37 6335.2,-40.04\"/>\n",
       "<polygon fill=\"black\" stroke=\"black\" points=\"6336.62,-43.23 6344.38,-36.01 6333.81,-36.82 6336.62,-43.23\"/>\n",
       "<text text-anchor=\"middle\" x=\"6311.48\" y=\"-57.8\" font-family=\"Times,serif\" font-size=\"14.00\">1</text>\n",
       "</g>\n",
       "<!-- close&#45;&gt;/p/gpfs1/iopp/temp/cm1r20.3.2846827/config_files/les_ConvBoundLayer/cm1out_000001_w.dat -->\n",
       "<g id=\"edge446\" class=\"edge\">\n",
       "<title>close&#45;&gt;/p/gpfs1/iopp/temp/cm1r20.3.2846827/config_files/les_ConvBoundLayer/cm1out_000001_w.dat</title>\n",
       "<path fill=\"none\" stroke=\"black\" d=\"M2530.85,-103.72C2910.35,-100.62 6304.56,-72.84 6316.48,-69 6318.85,-68.24 6337.75,-54.9 6355.45,-42.19\"/>\n",
       "<polygon fill=\"black\" stroke=\"black\" points=\"6357.89,-44.75 6363.96,-36.06 6353.8,-39.07 6357.89,-44.75\"/>\n",
       "<text text-anchor=\"middle\" x=\"6342.48\" y=\"-57.8\" font-family=\"Times,serif\" font-size=\"14.00\">1</text>\n",
       "</g>\n",
       "<!-- close&#45;&gt;/p/gpfs1/iopp/temp/cm1r20.3.2846827/config_files/les_ConvBoundLayer/cm1out_000001_w.dat -->\n",
       "<g id=\"edge450\" class=\"edge\">\n",
       "<title>close&#45;&gt;/p/gpfs1/iopp/temp/cm1r20.3.2846827/config_files/les_ConvBoundLayer/cm1out_000001_w.dat</title>\n",
       "<path fill=\"none\" stroke=\"black\" d=\"M2530.86,-103.74C2912.23,-100.84 6338.19,-74.67 6349.48,-69 6359.82,-63.81 6368.12,-54.34 6374.29,-45.02\"/>\n",
       "<polygon fill=\"black\" stroke=\"black\" points=\"6377.39,-46.65 6379.55,-36.28 6371.39,-43.04 6377.39,-46.65\"/>\n",
       "<text text-anchor=\"middle\" x=\"6371.48\" y=\"-57.8\" font-family=\"Times,serif\" font-size=\"14.00\">1</text>\n",
       "</g>\n",
       "<!-- open&#45;&gt;/p/gpfs1/iopp/temp/cm1r20.3.2846827/config_files/les_ConvBoundLayer/cm1out_000001_s.dat -->\n",
       "<g id=\"edge4\" class=\"edge\">\n",
       "<title>open&#45;&gt;/p/gpfs1/iopp/temp/cm1r20.3.2846827/config_files/les_ConvBoundLayer/cm1out_000001_s.dat</title>\n",
       "<path fill=\"none\" stroke=\"black\" d=\"M4704.21,-103.75C4338.61,-100.96 1082.56,-75.98 1059.48,-69 1047.8,-65.47 1048.05,-57.89 1036.48,-54 1005.71,-43.64 949.85,-36.35 886.58,-31.22\"/>\n",
       "<polygon fill=\"black\" stroke=\"black\" points=\"886.61,-27.71 876.37,-30.41 886.06,-34.69 886.61,-27.71\"/>\n",
       "<text text-anchor=\"middle\" x=\"1064.48\" y=\"-57.8\" font-family=\"Times,serif\" font-size=\"14.00\">1</text>\n",
       "</g>\n",
       "<!-- open&#45;&gt;/p/gpfs1/iopp/temp/cm1r20.3.2846827/config_files/les_ConvBoundLayer/cm1out_000001_u.dat -->\n",
       "<g id=\"edge72\" class=\"edge\">\n",
       "<title>open&#45;&gt;/p/gpfs1/iopp/temp/cm1r20.3.2846827/config_files/les_ConvBoundLayer/cm1out_000001_u.dat</title>\n",
       "<path fill=\"none\" stroke=\"black\" d=\"M4704.13,-103.81C4405.93,-102.05 2208.25,-88.45 2181.48,-69 2174.12,-63.65 2169.92,-54.94 2167.52,-46.28\"/>\n",
       "<polygon fill=\"black\" stroke=\"black\" points=\"2170.92,-45.42 2165.46,-36.34 2164.06,-46.84 2170.92,-45.42\"/>\n",
       "<text text-anchor=\"middle\" x=\"2186.48\" y=\"-57.8\" font-family=\"Times,serif\" font-size=\"14.00\">1</text>\n",
       "</g>\n",
       "<!-- open&#45;&gt;/p/gpfs1/iopp/temp/cm1r20.3.2846827/config_files/les_ConvBoundLayer/cm1out_000001_u.dat -->\n",
       "<g id=\"edge78\" class=\"edge\">\n",
       "<title>open&#45;&gt;/p/gpfs1/iopp/temp/cm1r20.3.2846827/config_files/les_ConvBoundLayer/cm1out_000001_u.dat</title>\n",
       "<path fill=\"none\" stroke=\"black\" d=\"M4704.11,-103.89C4410.31,-102.84 2274.6,-94.39 2214.48,-69 2202.11,-63.78 2191.18,-53.89 2182.73,-44.28\"/>\n",
       "<polygon fill=\"black\" stroke=\"black\" points=\"2185.28,-41.87 2176.22,-36.38 2179.88,-46.32 2185.28,-41.87\"/>\n",
       "<text text-anchor=\"middle\" x=\"2219.48\" y=\"-57.8\" font-family=\"Times,serif\" font-size=\"14.00\">1</text>\n",
       "</g>\n",
       "<!-- open&#45;&gt;/p/gpfs1/iopp/temp/cm1r20.3.2846827/config_files/les_ConvBoundLayer/cm1out_000001_u.dat -->\n",
       "<g id=\"edge82\" class=\"edge\">\n",
       "<title>open&#45;&gt;/p/gpfs1/iopp/temp/cm1r20.3.2846827/config_files/les_ConvBoundLayer/cm1out_000001_u.dat</title>\n",
       "<path fill=\"none\" stroke=\"black\" d=\"M4704.12,-103.79C4412.7,-101.92 2309.06,-87.78 2247.48,-69 2235.81,-65.44 2234.87,-60.41 2224.48,-54 2217.63,-49.77 2210.26,-45.36 2203.12,-41.16\"/>\n",
       "<polygon fill=\"black\" stroke=\"black\" points=\"2204.66,-38 2194.26,-35.98 2201.12,-44.05 2204.66,-38\"/>\n",
       "<text text-anchor=\"middle\" x=\"2252.48\" y=\"-57.8\" font-family=\"Times,serif\" font-size=\"14.00\">1</text>\n",
       "</g>\n",
       "<!-- open&#45;&gt;/p/gpfs1/iopp/temp/cm1r20.3.2846827/config_files/les_ConvBoundLayer/cm1out_000001_u.dat -->\n",
       "<g id=\"edge86\" class=\"edge\">\n",
       "<title>open&#45;&gt;/p/gpfs1/iopp/temp/cm1r20.3.2846827/config_files/les_ConvBoundLayer/cm1out_000001_u.dat</title>\n",
       "<path fill=\"none\" stroke=\"black\" d=\"M4704.1,-104.06C4419.06,-104.46 2401.81,-106.01 2280.48,-69 2268.81,-65.44 2268.37,-59.52 2257.48,-54 2247.24,-48.81 2236.05,-43.96 2225.08,-39.62\"/>\n",
       "<polygon fill=\"black\" stroke=\"black\" points=\"2226.13,-36.27 2215.54,-35.93 2223.61,-42.8 2226.13,-36.27\"/>\n",
       "<text text-anchor=\"middle\" x=\"2285.48\" y=\"-57.8\" font-family=\"Times,serif\" font-size=\"14.00\">1</text>\n",
       "</g>\n",
       "<!-- open&#45;&gt;/p/gpfs1/iopp/temp/cm1r20.3.2846827/config_files/les_ConvBoundLayer/cm1out_000001_u.dat -->\n",
       "<g id=\"edge90\" class=\"edge\">\n",
       "<title>open&#45;&gt;/p/gpfs1/iopp/temp/cm1r20.3.2846827/config_files/les_ConvBoundLayer/cm1out_000001_u.dat</title>\n",
       "<path fill=\"none\" stroke=\"black\" d=\"M4704.1,-104.05C4421.25,-104.39 2433.11,-105.51 2313.48,-69 2301.81,-65.44 2301.6,-59.03 2290.48,-54 2277.54,-48.15 2263.39,-43.07 2249.41,-38.73\"/>\n",
       "<polygon fill=\"black\" stroke=\"black\" points=\"2250.36,-35.36 2239.77,-35.85 2248.35,-42.07 2250.36,-35.36\"/>\n",
       "<text text-anchor=\"middle\" x=\"2318.48\" y=\"-57.8\" font-family=\"Times,serif\" font-size=\"14.00\">1</text>\n",
       "</g>\n",
       "<!-- open&#45;&gt;/p/gpfs1/iopp/temp/cm1r20.3.2846827/config_files/les_ConvBoundLayer/cm1out_000001_u.dat -->\n",
       "<g id=\"edge94\" class=\"edge\">\n",
       "<title>open&#45;&gt;/p/gpfs1/iopp/temp/cm1r20.3.2846827/config_files/les_ConvBoundLayer/cm1out_000001_u.dat</title>\n",
       "<path fill=\"none\" stroke=\"black\" d=\"M4704.12,-104.04C4423.49,-104.32 2464.42,-105 2346.48,-69 2334.81,-65.44 2334.73,-58.72 2323.48,-54 2308.48,-47.71 2292.19,-42.47 2275.94,-38.14\"/>\n",
       "<polygon fill=\"black\" stroke=\"black\" points=\"2276.4,-34.65 2265.85,-35.56 2274.67,-41.43 2276.4,-34.65\"/>\n",
       "<text text-anchor=\"middle\" x=\"2351.48\" y=\"-57.8\" font-family=\"Times,serif\" font-size=\"14.00\">1</text>\n",
       "</g>\n",
       "<!-- open&#45;&gt;/p/gpfs1/iopp/temp/cm1r20.3.2846827/config_files/les_ConvBoundLayer/cm1out_000001_u.dat -->\n",
       "<g id=\"edge100\" class=\"edge\">\n",
       "<title>open&#45;&gt;/p/gpfs1/iopp/temp/cm1r20.3.2846827/config_files/les_ConvBoundLayer/cm1out_000001_u.dat</title>\n",
       "<path fill=\"none\" stroke=\"black\" d=\"M4704.14,-104.03C4425.79,-104.25 2495.73,-104.5 2379.48,-69 2367.81,-65.44 2367.82,-58.52 2356.48,-54 2339.74,-47.33 2321.66,-41.92 2303.53,-37.54\"/>\n",
       "<polygon fill=\"black\" stroke=\"black\" points=\"2304.29,-34.12 2293.76,-35.27 2302.71,-40.94 2304.29,-34.12\"/>\n",
       "<text text-anchor=\"middle\" x=\"2384.48\" y=\"-57.8\" font-family=\"Times,serif\" font-size=\"14.00\">1</text>\n",
       "</g>\n",
       "<!-- open&#45;&gt;/p/gpfs1/iopp/temp/cm1r20.3.2846827/config_files/les_ConvBoundLayer/cm1out_000001_u.dat -->\n",
       "<g id=\"edge104\" class=\"edge\">\n",
       "<title>open&#45;&gt;/p/gpfs1/iopp/temp/cm1r20.3.2846827/config_files/les_ConvBoundLayer/cm1out_000001_u.dat</title>\n",
       "<path fill=\"none\" stroke=\"black\" d=\"M4704.17,-104.03C4428.15,-104.18 2527.04,-103.99 2412.48,-69 2400.81,-65.43 2400.88,-58.37 2389.48,-54 2371.4,-47.07 2352.01,-41.51 2332.46,-37.05\"/>\n",
       "<polygon fill=\"black\" stroke=\"black\" points=\"2333.06,-33.6 2322.54,-34.88 2331.56,-40.44 2333.06,-33.6\"/>\n",
       "<text text-anchor=\"middle\" x=\"2417.48\" y=\"-57.8\" font-family=\"Times,serif\" font-size=\"14.00\">1</text>\n",
       "</g>\n",
       "<!-- open&#45;&gt;/p/gpfs1/iopp/temp/cm1r20.3.2846827/config_files/les_ConvBoundLayer/cm1out_000001_u.dat -->\n",
       "<g id=\"edge108\" class=\"edge\">\n",
       "<title>open&#45;&gt;/p/gpfs1/iopp/temp/cm1r20.3.2846827/config_files/les_ConvBoundLayer/cm1out_000001_u.dat</title>\n",
       "<path fill=\"none\" stroke=\"black\" d=\"M4704.21,-104.02C4430.57,-104.11 2558.35,-103.49 2445.48,-69 2433.81,-65.43 2433.92,-58.26 2422.48,-54 2403.19,-46.82 2382.6,-41.08 2361.78,-36.51\"/>\n",
       "<polygon fill=\"black\" stroke=\"black\" points=\"2362.38,-33.06 2351.87,-34.42 2360.94,-39.91 2362.38,-33.06\"/>\n",
       "<text text-anchor=\"middle\" x=\"2450.48\" y=\"-57.8\" font-family=\"Times,serif\" font-size=\"14.00\">1</text>\n",
       "</g>\n",
       "<!-- open&#45;&gt;/p/gpfs1/iopp/temp/cm1r20.3.2846827/config_files/les_ConvBoundLayer/cm1out_000001_u.dat -->\n",
       "<g id=\"edge112\" class=\"edge\">\n",
       "<title>open&#45;&gt;/p/gpfs1/iopp/temp/cm1r20.3.2846827/config_files/les_ConvBoundLayer/cm1out_000001_u.dat</title>\n",
       "<path fill=\"none\" stroke=\"black\" d=\"M4704.26,-104.01C4433.04,-104.04 2589.66,-102.99 2478.48,-69 2466.81,-65.43 2466.95,-58.17 2455.48,-54 2434.96,-46.54 2413.15,-40.6 2391.05,-35.87\"/>\n",
       "<polygon fill=\"black\" stroke=\"black\" points=\"2391.73,-32.44 2381.23,-33.85 2390.32,-39.29 2391.73,-32.44\"/>\n",
       "<text text-anchor=\"middle\" x=\"2483.48\" y=\"-57.8\" font-family=\"Times,serif\" font-size=\"14.00\">1</text>\n",
       "</g>\n",
       "<!-- open&#45;&gt;/p/gpfs1/iopp/temp/cm1r20.3.2846827/config_files/les_ConvBoundLayer/cm1out_000001_u.dat -->\n",
       "<g id=\"edge116\" class=\"edge\">\n",
       "<title>open&#45;&gt;/p/gpfs1/iopp/temp/cm1r20.3.2846827/config_files/les_ConvBoundLayer/cm1out_000001_u.dat</title>\n",
       "<path fill=\"none\" stroke=\"black\" d=\"M4704.32,-104C4435.57,-103.97 2620.98,-102.49 2511.48,-69 2499.81,-65.43 2499.97,-58.1 2488.48,-54 2467.18,-46.4 2427.58,-40.13 2383.19,-35.11\"/>\n",
       "<polygon fill=\"black\" stroke=\"black\" points=\"2383.36,-31.6 2373.04,-33.99 2382.6,-38.56 2383.36,-31.6\"/>\n",
       "<text text-anchor=\"middle\" x=\"2516.48\" y=\"-57.8\" font-family=\"Times,serif\" font-size=\"14.00\">1</text>\n",
       "</g>\n",
       "<!-- open&#45;&gt;/p/gpfs1/iopp/temp/cm1r20.3.2846827/config_files/les_ConvBoundLayer/cm1out_000001_u.dat -->\n",
       "<g id=\"edge120\" class=\"edge\">\n",
       "<title>open&#45;&gt;/p/gpfs1/iopp/temp/cm1r20.3.2846827/config_files/les_ConvBoundLayer/cm1out_000001_u.dat</title>\n",
       "<path fill=\"none\" stroke=\"black\" d=\"M4703.97,-104C4436.28,-103.89 2652.24,-101.97 2544.48,-69 2532.81,-65.43 2532.99,-58.04 2521.48,-54 2498.51,-45.93 2456.27,-39.53 2408.67,-34.52\"/>\n",
       "<polygon fill=\"black\" stroke=\"black\" points=\"2408.74,-31.01 2398.44,-33.47 2408.03,-37.97 2408.74,-31.01\"/>\n",
       "<text text-anchor=\"middle\" x=\"2549.48\" y=\"-57.8\" font-family=\"Times,serif\" font-size=\"14.00\">1</text>\n",
       "</g>\n",
       "<!-- open&#45;&gt;/p/gpfs1/iopp/temp/cm1r20.3.2846827/config_files/les_ConvBoundLayer/cm1out_000001_u.dat -->\n",
       "<g id=\"edge124\" class=\"edge\">\n",
       "<title>open&#45;&gt;/p/gpfs1/iopp/temp/cm1r20.3.2846827/config_files/les_ConvBoundLayer/cm1out_000001_u.dat</title>\n",
       "<path fill=\"none\" stroke=\"black\" d=\"M4704.06,-103.99C4438.96,-103.82 2683.55,-101.47 2577.48,-69 2565.81,-65.43 2566.01,-58 2554.48,-54 2529.63,-45.38 2484.16,-38.78 2432.82,-33.76\"/>\n",
       "<polygon fill=\"black\" stroke=\"black\" points=\"2433.11,-30.27 2422.82,-32.8 2432.44,-37.24 2433.11,-30.27\"/>\n",
       "<text text-anchor=\"middle\" x=\"2582.48\" y=\"-57.8\" font-family=\"Times,serif\" font-size=\"14.00\">1</text>\n",
       "</g>\n",
       "<!-- open&#45;&gt;/p/gpfs1/iopp/temp/cm1r20.3.2846827/config_files/les_ConvBoundLayer/cm1out_000001_u.dat -->\n",
       "<g id=\"edge128\" class=\"edge\">\n",
       "<title>open&#45;&gt;/p/gpfs1/iopp/temp/cm1r20.3.2846827/config_files/les_ConvBoundLayer/cm1out_000001_u.dat</title>\n",
       "<path fill=\"none\" stroke=\"black\" d=\"M4704.15,-103.98C4441.69,-103.74 2714.88,-100.97 2610.48,-69 2598.81,-65.43 2599.03,-57.96 2587.48,-54 2560.77,-44.84 2512.13,-38.03 2457.09,-32.98\"/>\n",
       "<polygon fill=\"black\" stroke=\"black\" points=\"2457.38,-29.49 2447.11,-32.09 2456.76,-36.47 2457.38,-29.49\"/>\n",
       "<text text-anchor=\"middle\" x=\"2615.48\" y=\"-57.8\" font-family=\"Times,serif\" font-size=\"14.00\">1</text>\n",
       "</g>\n",
       "<!-- open&#45;&gt;/p/gpfs1/iopp/temp/cm1r20.3.2846827/config_files/les_ConvBoundLayer/cm1out_000001_u.dat -->\n",
       "<g id=\"edge132\" class=\"edge\">\n",
       "<title>open&#45;&gt;/p/gpfs1/iopp/temp/cm1r20.3.2846827/config_files/les_ConvBoundLayer/cm1out_000001_u.dat</title>\n",
       "<path fill=\"none\" stroke=\"black\" d=\"M4704.26,-103.97C4444.48,-103.66 2746.2,-100.47 2643.48,-69 2631.81,-65.42 2632.04,-57.92 2620.48,-54 2591.83,-44.27 2539.82,-37.24 2480.9,-32.15\"/>\n",
       "<polygon fill=\"black\" stroke=\"black\" points=\"2480.87,-28.63 2470.61,-31.29 2480.28,-35.61 2480.87,-28.63\"/>\n",
       "<text text-anchor=\"middle\" x=\"2648.48\" y=\"-57.8\" font-family=\"Times,serif\" font-size=\"14.00\">1</text>\n",
       "</g>\n",
       "<!-- open&#45;&gt;/p/gpfs1/iopp/temp/cm1r20.3.2846827/config_files/les_ConvBoundLayer/cm1out_000001_u.dat -->\n",
       "<g id=\"edge136\" class=\"edge\">\n",
       "<title>open&#45;&gt;/p/gpfs1/iopp/temp/cm1r20.3.2846827/config_files/les_ConvBoundLayer/cm1out_000001_u.dat</title>\n",
       "<path fill=\"none\" stroke=\"black\" d=\"M4704.38,-103.96C4447.33,-103.59 2777.52,-99.97 2676.48,-69 2664.81,-65.42 2665.05,-57.89 2653.48,-54 2622.71,-43.64 2566.85,-36.35 2503.58,-31.22\"/>\n",
       "<polygon fill=\"black\" stroke=\"black\" points=\"2503.61,-27.71 2493.37,-30.41 2503.06,-34.69 2503.61,-27.71\"/>\n",
       "<text text-anchor=\"middle\" x=\"2681.48\" y=\"-57.8\" font-family=\"Times,serif\" font-size=\"14.00\">1</text>\n",
       "</g>\n",
       "<!-- open&#45;&gt;/p/gpfs1/iopp/temp/cm1r20.3.2846827/config_files/les_ConvBoundLayer/cm1out_000001_u.dat -->\n",
       "<g id=\"edge140\" class=\"edge\">\n",
       "<title>open&#45;&gt;/p/gpfs1/iopp/temp/cm1r20.3.2846827/config_files/les_ConvBoundLayer/cm1out_000001_u.dat</title>\n",
       "<path fill=\"none\" stroke=\"black\" d=\"M4704.1,-103.95C4448.5,-103.5 2808.79,-99.46 2709.48,-69 2697.81,-65.42 2698.06,-57.87 2686.48,-54 2653.38,-42.94 2593.12,-35.37 2524.98,-30.18\"/>\n",
       "<polygon fill=\"black\" stroke=\"black\" points=\"2525.1,-26.68 2514.87,-29.44 2524.58,-33.67 2525.1,-26.68\"/>\n",
       "<text text-anchor=\"middle\" x=\"2714.48\" y=\"-57.8\" font-family=\"Times,serif\" font-size=\"14.00\">1</text>\n",
       "</g>\n",
       "<!-- open&#45;&gt;/p/gpfs1/iopp/temp/cm1r20.3.2846827/config_files/les_ConvBoundLayer/cm1out_000001_u.dat -->\n",
       "<g id=\"edge144\" class=\"edge\">\n",
       "<title>open&#45;&gt;/p/gpfs1/iopp/temp/cm1r20.3.2846827/config_files/les_ConvBoundLayer/cm1out_000001_u.dat</title>\n",
       "<path fill=\"none\" stroke=\"black\" d=\"M4704.24,-103.94C4451.49,-103.42 2840.12,-98.96 2742.48,-69 2730.81,-65.42 2731.06,-57.84 2719.48,-54 2683.93,-42.2 2618.93,-34.34 2545.61,-29.11\"/>\n",
       "<polygon fill=\"black\" stroke=\"black\" points=\"2545.43,-25.59 2535.21,-28.39 2544.95,-32.57 2545.43,-25.59\"/>\n",
       "<text text-anchor=\"middle\" x=\"2747.48\" y=\"-57.8\" font-family=\"Times,serif\" font-size=\"14.00\">1</text>\n",
       "</g>\n",
       "<!-- open&#45;&gt;/p/gpfs1/iopp/temp/cm1r20.3.2846827/config_files/les_ConvBoundLayer/cm1out_000001_u.dat -->\n",
       "<g id=\"edge148\" class=\"edge\">\n",
       "<title>open&#45;&gt;/p/gpfs1/iopp/temp/cm1r20.3.2846827/config_files/les_ConvBoundLayer/cm1out_000001_u.dat</title>\n",
       "<path fill=\"none\" stroke=\"black\" d=\"M4704,-103.93C4452.87,-103.34 2871.4,-98.45 2775.48,-69 2763.81,-65.42 2764.07,-57.82 2752.48,-54 2714.12,-41.34 2643.45,-33.17 2564.05,-27.91\"/>\n",
       "<polygon fill=\"black\" stroke=\"black\" points=\"2564.02,-24.4 2553.82,-27.25 2563.57,-31.38 2564.02,-24.4\"/>\n",
       "<text text-anchor=\"middle\" x=\"2780.48\" y=\"-57.8\" font-family=\"Times,serif\" font-size=\"14.00\">1</text>\n",
       "</g>\n",
       "<!-- open&#45;&gt;/p/gpfs1/iopp/temp/cm1r20.3.2846827/config_files/les_ConvBoundLayer/cm1out_000001_u.dat -->\n",
       "<g id=\"edge152\" class=\"edge\">\n",
       "<title>open&#45;&gt;/p/gpfs1/iopp/temp/cm1r20.3.2846827/config_files/les_ConvBoundLayer/cm1out_000001_u.dat</title>\n",
       "<path fill=\"none\" stroke=\"black\" d=\"M4704.17,-103.92C4456,-103.26 2902.74,-97.95 2808.48,-69 2796.81,-65.42 2797.08,-57.81 2785.48,-54 2744.05,-40.4 2666.95,-31.9 2580.82,-26.63\"/>\n",
       "<polygon fill=\"black\" stroke=\"black\" points=\"2581.01,-23.14 2570.82,-26.04 2580.6,-30.13 2581.01,-23.14\"/>\n",
       "<text text-anchor=\"middle\" x=\"2813.48\" y=\"-57.8\" font-family=\"Times,serif\" font-size=\"14.00\">1</text>\n",
       "</g>\n",
       "<!-- open&#45;&gt;/p/gpfs1/iopp/temp/cm1r20.3.2846827/config_files/les_ConvBoundLayer/cm1out_000001_u.dat -->\n",
       "<g id=\"edge156\" class=\"edge\">\n",
       "<title>open&#45;&gt;/p/gpfs1/iopp/temp/cm1r20.3.2846827/config_files/les_ConvBoundLayer/cm1out_000001_u.dat</title>\n",
       "<path fill=\"none\" stroke=\"black\" d=\"M4704.35,-103.91C4459.2,-103.17 2934.07,-97.46 2841.48,-69 2829.81,-65.41 2830.08,-57.79 2818.48,-54 2773.7,-39.38 2689.4,-30.55 2595.85,-25.3\"/>\n",
       "<polygon fill=\"black\" stroke=\"black\" points=\"2595.77,-21.79 2585.59,-24.75 2595.38,-28.78 2595.77,-21.79\"/>\n",
       "<text text-anchor=\"middle\" x=\"2846.48\" y=\"-57.8\" font-family=\"Times,serif\" font-size=\"14.00\">1</text>\n",
       "</g>\n",
       "<!-- open&#45;&gt;/p/gpfs1/iopp/temp/cm1r20.3.2846827/config_files/les_ConvBoundLayer/cm1out_000001_u.dat -->\n",
       "<g id=\"edge160\" class=\"edge\">\n",
       "<title>open&#45;&gt;/p/gpfs1/iopp/temp/cm1r20.3.2846827/config_files/les_ConvBoundLayer/cm1out_000001_u.dat</title>\n",
       "<path fill=\"none\" stroke=\"black\" d=\"M4704.15,-103.9C4460.86,-103.08 2965.36,-96.95 2874.48,-69 2862.82,-65.41 2863.09,-57.77 2851.48,-54 2818.9,-43.41 2677.52,-35.28 2531.41,-29.53\"/>\n",
       "<polygon fill=\"black\" stroke=\"black\" points=\"2531.46,-26.03 2521.34,-29.14 2531.19,-33.03 2531.46,-26.03\"/>\n",
       "<text text-anchor=\"middle\" x=\"2879.48\" y=\"-57.8\" font-family=\"Times,serif\" font-size=\"14.00\">1</text>\n",
       "</g>\n",
       "<!-- open&#45;&gt;/p/gpfs1/iopp/temp/cm1r20.3.2846827/config_files/les_ConvBoundLayer/cm1out_000001_u.dat -->\n",
       "<g id=\"edge164\" class=\"edge\">\n",
       "<title>open&#45;&gt;/p/gpfs1/iopp/temp/cm1r20.3.2846827/config_files/les_ConvBoundLayer/cm1out_000001_u.dat</title>\n",
       "<path fill=\"none\" stroke=\"black\" d=\"M4704.36,-103.89C4464.2,-103 2996.7,-96.45 2907.48,-69 2895.82,-65.41 2896.09,-57.76 2884.48,-54 2849.89,-42.8 2698.37,-34.55 2543.18,-28.89\"/>\n",
       "<polygon fill=\"black\" stroke=\"black\" points=\"2543.08,-25.38 2532.96,-28.52 2542.82,-32.38 2543.08,-25.38\"/>\n",
       "<text text-anchor=\"middle\" x=\"2912.48\" y=\"-57.8\" font-family=\"Times,serif\" font-size=\"14.00\">1</text>\n",
       "</g>\n",
       "<!-- open&#45;&gt;/p/gpfs1/iopp/temp/cm1r20.3.2846827/config_files/les_ConvBoundLayer/cm1out_000001_u.dat -->\n",
       "<g id=\"edge168\" class=\"edge\">\n",
       "<title>open&#45;&gt;/p/gpfs1/iopp/temp/cm1r20.3.2846827/config_files/les_ConvBoundLayer/cm1out_000001_u.dat</title>\n",
       "<path fill=\"none\" stroke=\"black\" d=\"M4704.2,-103.87C4466.06,-102.9 3027.99,-95.94 2940.48,-69 2928.82,-65.41 2929.09,-57.75 2917.48,-54 2880.81,-42.16 2718.48,-33.81 2553.89,-28.24\"/>\n",
       "<polygon fill=\"black\" stroke=\"black\" points=\"2553.66,-24.73 2543.55,-27.89 2553.43,-31.73 2553.66,-24.73\"/>\n",
       "<text text-anchor=\"middle\" x=\"2945.48\" y=\"-57.8\" font-family=\"Times,serif\" font-size=\"14.00\">1</text>\n",
       "</g>\n",
       "<!-- open&#45;&gt;/p/gpfs1/iopp/temp/cm1r20.3.2846827/config_files/les_ConvBoundLayer/cm1out_000001_u.dat -->\n",
       "<g id=\"edge172\" class=\"edge\">\n",
       "<title>open&#45;&gt;/p/gpfs1/iopp/temp/cm1r20.3.2846827/config_files/les_ConvBoundLayer/cm1out_000001_u.dat</title>\n",
       "<path fill=\"none\" stroke=\"black\" d=\"M4704.06,-103.86C4468.04,-102.81 3059.29,-95.44 2973.48,-69 2961.82,-65.41 2962.1,-57.74 2950.48,-54 2911.66,-41.51 2737.98,-33.06 2563.74,-27.59\"/>\n",
       "<polygon fill=\"black\" stroke=\"black\" points=\"2563.69,-24.09 2553.59,-27.28 2563.47,-31.09 2563.69,-24.09\"/>\n",
       "<text text-anchor=\"middle\" x=\"2978.48\" y=\"-57.8\" font-family=\"Times,serif\" font-size=\"14.00\">1</text>\n",
       "</g>\n",
       "<!-- open&#45;&gt;/p/gpfs1/iopp/temp/cm1r20.3.2846827/config_files/les_ConvBoundLayer/cm1out_000001_u.dat -->\n",
       "<g id=\"edge176\" class=\"edge\">\n",
       "<title>open&#45;&gt;/p/gpfs1/iopp/temp/cm1r20.3.2846827/config_files/les_ConvBoundLayer/cm1out_000001_u.dat</title>\n",
       "<path fill=\"none\" stroke=\"black\" d=\"M4704.31,-103.85C4471.61,-102.72 3090.63,-94.94 3006.48,-69 2994.82,-65.4 2995.1,-57.73 2983.48,-54 2942.44,-40.84 2756.83,-32.3 2572.67,-26.95\"/>\n",
       "<polygon fill=\"black\" stroke=\"black\" points=\"2572.61,-23.44 2562.51,-26.66 2572.4,-30.44 2572.61,-23.44\"/>\n",
       "<text text-anchor=\"middle\" x=\"3011.48\" y=\"-57.8\" font-family=\"Times,serif\" font-size=\"14.00\">1</text>\n",
       "</g>\n",
       "<!-- open&#45;&gt;/p/gpfs1/iopp/temp/cm1r20.3.2846827/config_files/les_ConvBoundLayer/cm1out_000001_u.dat -->\n",
       "<g id=\"edge180\" class=\"edge\">\n",
       "<title>open&#45;&gt;/p/gpfs1/iopp/temp/cm1r20.3.2846827/config_files/les_ConvBoundLayer/cm1out_000001_u.dat</title>\n",
       "<path fill=\"none\" stroke=\"black\" d=\"M4704.21,-103.83C4473.78,-102.62 3121.94,-94.44 3039.48,-69 3027.82,-65.4 3028.1,-57.72 3016.48,-54 2973.15,-40.14 2774.98,-31.52 2580.67,-26.31\"/>\n",
       "<polygon fill=\"black\" stroke=\"black\" points=\"2580.63,-22.81 2570.54,-26.04 2580.45,-29.8 2580.63,-22.81\"/>\n",
       "<text text-anchor=\"middle\" x=\"3044.48\" y=\"-57.8\" font-family=\"Times,serif\" font-size=\"14.00\">1</text>\n",
       "</g>\n",
       "<!-- open&#45;&gt;/p/gpfs1/iopp/temp/cm1r20.3.2846827/config_files/les_ConvBoundLayer/cm1out_000001_u.dat -->\n",
       "<g id=\"edge184\" class=\"edge\">\n",
       "<title>open&#45;&gt;/p/gpfs1/iopp/temp/cm1r20.3.2846827/config_files/les_ConvBoundLayer/cm1out_000001_u.dat</title>\n",
       "<path fill=\"none\" stroke=\"black\" d=\"M4704.13,-103.82C4476.08,-102.52 3153.24,-93.94 3072.48,-69 3060.82,-65.4 3061.11,-57.71 3049.48,-54 3003.81,-39.43 2792.62,-30.75 2588.01,-25.68\"/>\n",
       "<polygon fill=\"black\" stroke=\"black\" points=\"2588.05,-22.18 2577.96,-25.44 2587.87,-29.18 2588.05,-22.18\"/>\n",
       "<text text-anchor=\"middle\" x=\"3077.48\" y=\"-57.8\" font-family=\"Times,serif\" font-size=\"14.00\">1</text>\n",
       "</g>\n",
       "<!-- open&#45;&gt;/p/gpfs1/iopp/temp/cm1r20.3.2846827/config_files/les_ConvBoundLayer/cm1out_000001_u.dat -->\n",
       "<g id=\"edge188\" class=\"edge\">\n",
       "<title>open&#45;&gt;/p/gpfs1/iopp/temp/cm1r20.3.2846827/config_files/les_ConvBoundLayer/cm1out_000001_u.dat</title>\n",
       "<path fill=\"none\" stroke=\"black\" d=\"M4704.07,-103.8C4478.49,-102.42 3184.55,-93.43 3105.48,-69 3093.82,-65.4 3094.11,-57.7 3082.48,-54 3034.42,-38.71 2809.73,-29.98 2594.69,-25.07\"/>\n",
       "<polygon fill=\"black\" stroke=\"black\" points=\"2594.53,-21.57 2584.46,-24.84 2594.38,-28.56 2594.53,-21.57\"/>\n",
       "<text text-anchor=\"middle\" x=\"3110.48\" y=\"-57.8\" font-family=\"Times,serif\" font-size=\"14.00\">1</text>\n",
       "</g>\n",
       "<!-- open&#45;&gt;/p/gpfs1/iopp/temp/cm1r20.3.2846827/config_files/les_ConvBoundLayer/cm1out_000001_u.dat -->\n",
       "<g id=\"edge192\" class=\"edge\">\n",
       "<title>open&#45;&gt;/p/gpfs1/iopp/temp/cm1r20.3.2846827/config_files/les_ConvBoundLayer/cm1out_000001_u.dat</title>\n",
       "<path fill=\"none\" stroke=\"black\" d=\"M4704.39,-103.79C4482.37,-102.33 3215.91,-92.94 3138.48,-69 3126.82,-65.39 3127.11,-57.69 3115.48,-54 3064.93,-37.96 2825.84,-29.2 2600.06,-24.46\"/>\n",
       "<polygon fill=\"black\" stroke=\"black\" points=\"2600.07,-20.96 2590,-24.25 2599.92,-27.96 2600.07,-20.96\"/>\n",
       "<text text-anchor=\"middle\" x=\"3143.48\" y=\"-57.8\" font-family=\"Times,serif\" font-size=\"14.00\">1</text>\n",
       "</g>\n",
       "<!-- open&#45;&gt;/p/gpfs1/iopp/temp/cm1r20.3.2846827/config_files/les_ConvBoundLayer/cm1out_000001_u.dat -->\n",
       "<g id=\"edge196\" class=\"edge\">\n",
       "<title>open&#45;&gt;/p/gpfs1/iopp/temp/cm1r20.3.2846827/config_files/les_ConvBoundLayer/cm1out_000001_u.dat</title>\n",
       "<path fill=\"none\" stroke=\"black\" d=\"M4704.37,-103.78C4484.98,-102.22 3247.22,-92.44 3171.48,-69 3159.82,-65.39 3160.11,-57.68 3148.48,-54 3095.44,-37.2 2841.85,-28.44 2605.41,-23.88\"/>\n",
       "<polygon fill=\"black\" stroke=\"black\" points=\"2605.3,-20.38 2595.23,-23.68 2605.17,-27.37 2605.3,-20.38\"/>\n",
       "<text text-anchor=\"middle\" x=\"3176.48\" y=\"-57.8\" font-family=\"Times,serif\" font-size=\"14.00\">1</text>\n",
       "</g>\n",
       "<!-- open&#45;&gt;/p/gpfs1/iopp/temp/cm1r20.3.2846827/config_files/les_ConvBoundLayer/cm1out_000001_v.dat -->\n",
       "<g id=\"edge200\" class=\"edge\">\n",
       "<title>open&#45;&gt;/p/gpfs1/iopp/temp/cm1r20.3.2846827/config_files/les_ConvBoundLayer/cm1out_000001_v.dat</title>\n",
       "<path fill=\"none\" stroke=\"black\" d=\"M4704.13,-103.46C4606.43,-101.58 4325.68,-94.04 4293.48,-69 4286.3,-63.42 4282.13,-54.66 4279.72,-46.02\"/>\n",
       "<polygon fill=\"black\" stroke=\"black\" points=\"4283.12,-45.18 4277.62,-36.13 4276.27,-46.64 4283.12,-45.18\"/>\n",
       "<text text-anchor=\"middle\" x=\"4298.48\" y=\"-57.8\" font-family=\"Times,serif\" font-size=\"14.00\">1</text>\n",
       "</g>\n",
       "<!-- open&#45;&gt;/p/gpfs1/iopp/temp/cm1r20.3.2846827/config_files/les_ConvBoundLayer/cm1out_000001_v.dat -->\n",
       "<g id=\"edge206\" class=\"edge\">\n",
       "<title>open&#45;&gt;/p/gpfs1/iopp/temp/cm1r20.3.2846827/config_files/les_ConvBoundLayer/cm1out_000001_v.dat</title>\n",
       "<path fill=\"none\" stroke=\"black\" d=\"M4704.22,-104.07C4618.74,-103.81 4393.37,-100.1 4326.48,-69 4314.3,-63.34 4303.41,-53.39 4294.92,-43.85\"/>\n",
       "<polygon fill=\"black\" stroke=\"black\" points=\"4297.48,-41.45 4288.38,-36.03 4292.11,-45.95 4297.48,-41.45\"/>\n",
       "<text text-anchor=\"middle\" x=\"4331.48\" y=\"-57.8\" font-family=\"Times,serif\" font-size=\"14.00\">1</text>\n",
       "</g>\n",
       "<!-- open&#45;&gt;/p/gpfs1/iopp/temp/cm1r20.3.2846827/config_files/les_ConvBoundLayer/cm1out_000001_v.dat -->\n",
       "<g id=\"edge210\" class=\"edge\">\n",
       "<title>open&#45;&gt;/p/gpfs1/iopp/temp/cm1r20.3.2846827/config_files/les_ConvBoundLayer/cm1out_000001_v.dat</title>\n",
       "<path fill=\"none\" stroke=\"black\" d=\"M4704.3,-102.97C4624.31,-100.16 4422.81,-91.05 4359.48,-69 4347.96,-64.99 4346.87,-60.41 4336.48,-54 4329.63,-49.77 4322.26,-45.36 4315.12,-41.16\"/>\n",
       "<polygon fill=\"black\" stroke=\"black\" points=\"4316.66,-38 4306.26,-35.98 4313.12,-44.05 4316.66,-38\"/>\n",
       "<text text-anchor=\"middle\" x=\"4364.48\" y=\"-57.8\" font-family=\"Times,serif\" font-size=\"14.00\">1</text>\n",
       "</g>\n",
       "<!-- open&#45;&gt;/p/gpfs1/iopp/temp/cm1r20.3.2846827/config_files/les_ConvBoundLayer/cm1out_000001_v.dat -->\n",
       "<g id=\"edge214\" class=\"edge\">\n",
       "<title>open&#45;&gt;/p/gpfs1/iopp/temp/cm1r20.3.2846827/config_files/les_ConvBoundLayer/cm1out_000001_v.dat</title>\n",
       "<path fill=\"none\" stroke=\"black\" d=\"M4704.45,-102.64C4629.68,-99.23 4449.53,-89.15 4392.48,-69 4380.97,-64.94 4380.37,-59.52 4369.48,-54 4359.24,-48.81 4348.05,-43.96 4337.08,-39.62\"/>\n",
       "<polygon fill=\"black\" stroke=\"black\" points=\"4338.13,-36.27 4327.54,-35.93 4335.61,-42.8 4338.13,-36.27\"/>\n",
       "<text text-anchor=\"middle\" x=\"4397.48\" y=\"-57.8\" font-family=\"Times,serif\" font-size=\"14.00\">1</text>\n",
       "</g>\n",
       "<!-- open&#45;&gt;/p/gpfs1/iopp/temp/cm1r20.3.2846827/config_files/les_ConvBoundLayer/cm1out_000001_v.dat -->\n",
       "<g id=\"edge218\" class=\"edge\">\n",
       "<title>open&#45;&gt;/p/gpfs1/iopp/temp/cm1r20.3.2846827/config_files/les_ConvBoundLayer/cm1out_000001_v.dat</title>\n",
       "<path fill=\"none\" stroke=\"black\" d=\"M4704.51,-102.23C4635.13,-98.2 4476.27,-87.24 4425.48,-69 4413.99,-64.87 4413.6,-59.03 4402.48,-54 4389.45,-48.11 4375.21,-43 4361.14,-38.65\"/>\n",
       "<polygon fill=\"black\" stroke=\"black\" points=\"4362.03,-35.26 4351.44,-35.75 4360.02,-41.97 4362.03,-35.26\"/>\n",
       "<text text-anchor=\"middle\" x=\"4430.48\" y=\"-57.8\" font-family=\"Times,serif\" font-size=\"14.00\">1</text>\n",
       "</g>\n",
       "<!-- open&#45;&gt;/p/gpfs1/iopp/temp/cm1r20.3.2846827/config_files/les_ConvBoundLayer/cm1out_000001_v.dat -->\n",
       "<g id=\"edge222\" class=\"edge\">\n",
       "<title>open&#45;&gt;/p/gpfs1/iopp/temp/cm1r20.3.2846827/config_files/les_ConvBoundLayer/cm1out_000001_v.dat</title>\n",
       "<path fill=\"none\" stroke=\"black\" d=\"M4704.14,-104.59C4650.63,-104.49 4543.05,-100 4458.48,-69 4447.02,-64.8 4446.73,-58.72 4435.48,-54 4420.48,-47.71 4404.19,-42.47 4387.94,-38.14\"/>\n",
       "<polygon fill=\"black\" stroke=\"black\" points=\"4388.4,-34.65 4377.85,-35.56 4386.67,-41.43 4388.4,-34.65\"/>\n",
       "<text text-anchor=\"middle\" x=\"4463.48\" y=\"-57.8\" font-family=\"Times,serif\" font-size=\"14.00\">1</text>\n",
       "</g>\n",
       "<!-- open&#45;&gt;/p/gpfs1/iopp/temp/cm1r20.3.2846827/config_files/les_ConvBoundLayer/cm1out_000001_v.dat -->\n",
       "<g id=\"edge228\" class=\"edge\">\n",
       "<title>open&#45;&gt;/p/gpfs1/iopp/temp/cm1r20.3.2846827/config_files/les_ConvBoundLayer/cm1out_000001_v.dat</title>\n",
       "<path fill=\"none\" stroke=\"black\" d=\"M4704.12,-103.79C4655.74,-102.49 4563.96,-96.25 4491.48,-69 4480.06,-64.71 4479.82,-58.52 4468.48,-54 4451.74,-47.33 4433.66,-41.92 4415.53,-37.54\"/>\n",
       "<polygon fill=\"black\" stroke=\"black\" points=\"4416.29,-34.12 4405.76,-35.27 4414.71,-40.94 4416.29,-34.12\"/>\n",
       "<text text-anchor=\"middle\" x=\"4496.48\" y=\"-57.8\" font-family=\"Times,serif\" font-size=\"14.00\">1</text>\n",
       "</g>\n",
       "<!-- open&#45;&gt;/p/gpfs1/iopp/temp/cm1r20.3.2846827/config_files/les_ConvBoundLayer/cm1out_000001_v.dat -->\n",
       "<g id=\"edge232\" class=\"edge\">\n",
       "<title>open&#45;&gt;/p/gpfs1/iopp/temp/cm1r20.3.2846827/config_files/les_ConvBoundLayer/cm1out_000001_v.dat</title>\n",
       "<path fill=\"none\" stroke=\"black\" d=\"M4704.26,-102.77C4661.38,-100.25 4585.09,-92.54 4524.48,-69 4513.1,-64.58 4512.88,-58.37 4501.48,-54 4483.4,-47.07 4464.01,-41.51 4444.46,-37.05\"/>\n",
       "<polygon fill=\"black\" stroke=\"black\" points=\"4445.06,-33.6 4434.54,-34.88 4443.56,-40.44 4445.06,-33.6\"/>\n",
       "<text text-anchor=\"middle\" x=\"4529.48\" y=\"-57.8\" font-family=\"Times,serif\" font-size=\"14.00\">1</text>\n",
       "</g>\n",
       "<!-- open&#45;&gt;/p/gpfs1/iopp/temp/cm1r20.3.2846827/config_files/les_ConvBoundLayer/cm1out_000001_v.dat -->\n",
       "<g id=\"edge236\" class=\"edge\">\n",
       "<title>open&#45;&gt;/p/gpfs1/iopp/temp/cm1r20.3.2846827/config_files/les_ConvBoundLayer/cm1out_000001_v.dat</title>\n",
       "<path fill=\"none\" stroke=\"black\" d=\"M4704.88,-101.46C4667.97,-97.72 4606.61,-88.91 4557.48,-69 4546.17,-64.42 4545.92,-58.26 4534.48,-54 4515.19,-46.82 4494.6,-41.08 4473.78,-36.51\"/>\n",
       "<polygon fill=\"black\" stroke=\"black\" points=\"4474.38,-33.06 4463.87,-34.42 4472.94,-39.91 4474.38,-33.06\"/>\n",
       "<text text-anchor=\"middle\" x=\"4562.48\" y=\"-57.8\" font-family=\"Times,serif\" font-size=\"14.00\">1</text>\n",
       "</g>\n",
       "<!-- open&#45;&gt;/p/gpfs1/iopp/temp/cm1r20.3.2846827/config_files/les_ConvBoundLayer/cm1out_000001_v.dat -->\n",
       "<g id=\"edge240\" class=\"edge\">\n",
       "<title>open&#45;&gt;/p/gpfs1/iopp/temp/cm1r20.3.2846827/config_files/les_ConvBoundLayer/cm1out_000001_v.dat</title>\n",
       "<path fill=\"none\" stroke=\"black\" d=\"M4705.8,-99.69C4675.34,-94.8 4628.44,-85.31 4590.48,-69 4579.27,-64.18 4578.95,-58.17 4567.48,-54 4546.96,-46.54 4525.15,-40.6 4503.05,-35.87\"/>\n",
       "<polygon fill=\"black\" stroke=\"black\" points=\"4503.73,-32.44 4493.23,-33.85 4502.32,-39.29 4503.73,-32.44\"/>\n",
       "<text text-anchor=\"middle\" x=\"4595.48\" y=\"-57.8\" font-family=\"Times,serif\" font-size=\"14.00\">1</text>\n",
       "</g>\n",
       "<!-- open&#45;&gt;/p/gpfs1/iopp/temp/cm1r20.3.2846827/config_files/les_ConvBoundLayer/cm1out_000001_v.dat -->\n",
       "<g id=\"edge244\" class=\"edge\">\n",
       "<title>open&#45;&gt;/p/gpfs1/iopp/temp/cm1r20.3.2846827/config_files/les_ConvBoundLayer/cm1out_000001_v.dat</title>\n",
       "<path fill=\"none\" stroke=\"black\" d=\"M4707.1,-97.15C4683.63,-91.27 4650.67,-81.73 4623.48,-69 4612.43,-63.83 4611.97,-58.1 4600.48,-54 4579.18,-46.4 4539.58,-40.13 4495.19,-35.11\"/>\n",
       "<polygon fill=\"black\" stroke=\"black\" points=\"4495.36,-31.6 4485.04,-33.99 4494.6,-38.56 4495.36,-31.6\"/>\n",
       "<text text-anchor=\"middle\" x=\"4628.48\" y=\"-57.8\" font-family=\"Times,serif\" font-size=\"14.00\">1</text>\n",
       "</g>\n",
       "<!-- open&#45;&gt;/p/gpfs1/iopp/temp/cm1r20.3.2846827/config_files/les_ConvBoundLayer/cm1out_000001_v.dat -->\n",
       "<g id=\"edge248\" class=\"edge\">\n",
       "<title>open&#45;&gt;/p/gpfs1/iopp/temp/cm1r20.3.2846827/config_files/les_ConvBoundLayer/cm1out_000001_v.dat</title>\n",
       "<path fill=\"none\" stroke=\"black\" d=\"M4711.05,-93.91C4694.96,-87.44 4674.16,-78.5 4656.48,-69 4645.73,-63.23 4644.99,-58.04 4633.48,-54 4610.39,-45.89 4567.84,-39.46 4519.94,-34.44\"/>\n",
       "<polygon fill=\"black\" stroke=\"black\" points=\"4520.28,-30.96 4509.97,-33.43 4519.57,-37.92 4520.28,-30.96\"/>\n",
       "<text text-anchor=\"middle\" x=\"4661.48\" y=\"-57.8\" font-family=\"Times,serif\" font-size=\"14.00\">1</text>\n",
       "</g>\n",
       "<!-- open&#45;&gt;/p/gpfs1/iopp/temp/cm1r20.3.2846827/config_files/les_ConvBoundLayer/cm1out_000001_v.dat -->\n",
       "<g id=\"edge252\" class=\"edge\">\n",
       "<title>open&#45;&gt;/p/gpfs1/iopp/temp/cm1r20.3.2846827/config_files/les_ConvBoundLayer/cm1out_000001_v.dat</title>\n",
       "<path fill=\"none\" stroke=\"black\" d=\"M4718.41,-90.21C4698.4,-75.78 4669.42,-55.08 4666.48,-54 4642.63,-45.25 4599.48,-38.63 4550.32,-33.64\"/>\n",
       "<polygon fill=\"black\" stroke=\"black\" points=\"4550.37,-30.13 4540.08,-32.63 4549.69,-37.09 4550.37,-30.13\"/>\n",
       "<text text-anchor=\"middle\" x=\"4692.48\" y=\"-57.8\" font-family=\"Times,serif\" font-size=\"14.00\">1</text>\n",
       "</g>\n",
       "<!-- open&#45;&gt;/p/gpfs1/iopp/temp/cm1r20.3.2846827/config_files/les_ConvBoundLayer/cm1out_000001_v.dat -->\n",
       "<g id=\"edge256\" class=\"edge\">\n",
       "<title>open&#45;&gt;/p/gpfs1/iopp/temp/cm1r20.3.2846827/config_files/les_ConvBoundLayer/cm1out_000001_v.dat</title>\n",
       "<path fill=\"none\" stroke=\"black\" d=\"M4729.39,-87.03C4722.97,-75.61 4712.86,-61.34 4699.48,-54 4684.32,-45.69 4623.45,-38.76 4552.4,-33.33\"/>\n",
       "<polygon fill=\"black\" stroke=\"black\" points=\"4552.55,-29.83 4542.31,-32.57 4552.02,-36.81 4552.55,-29.83\"/>\n",
       "<text text-anchor=\"middle\" x=\"4720.48\" y=\"-57.8\" font-family=\"Times,serif\" font-size=\"14.00\">1</text>\n",
       "</g>\n",
       "<!-- open&#45;&gt;/p/gpfs1/iopp/temp/cm1r20.3.2846827/config_files/les_ConvBoundLayer/cm1out_000001_v.dat -->\n",
       "<g id=\"edge260\" class=\"edge\">\n",
       "<title>open&#45;&gt;/p/gpfs1/iopp/temp/cm1r20.3.2846827/config_files/les_ConvBoundLayer/cm1out_000001_v.dat</title>\n",
       "<path fill=\"none\" stroke=\"black\" d=\"M4739.65,-86.68C4739.98,-75.71 4738.27,-62.1 4729.48,-54 4718.29,-43.69 4672.69,-36.41 4614.44,-31.28\"/>\n",
       "<polygon fill=\"black\" stroke=\"black\" points=\"4614.47,-27.77 4604.21,-30.41 4613.88,-34.74 4614.47,-27.77\"/>\n",
       "<text text-anchor=\"middle\" x=\"4742.48\" y=\"-57.8\" font-family=\"Times,serif\" font-size=\"14.00\">1</text>\n",
       "</g>\n",
       "<!-- open&#45;&gt;/p/gpfs1/iopp/temp/cm1r20.3.2846827/config_files/les_ConvBoundLayer/cm1out_000001_v.dat -->\n",
       "<g id=\"edge264\" class=\"edge\">\n",
       "<title>open&#45;&gt;/p/gpfs1/iopp/temp/cm1r20.3.2846827/config_files/les_ConvBoundLayer/cm1out_000001_v.dat</title>\n",
       "<path fill=\"none\" stroke=\"black\" d=\"M4749.06,-87.73C4755.22,-76.93 4759.95,-63.11 4751.48,-54 4741.19,-42.93 4698.04,-35.32 4641.63,-30.11\"/>\n",
       "<polygon fill=\"black\" stroke=\"black\" points=\"4641.61,-26.6 4631.34,-29.2 4640.99,-33.57 4641.61,-26.6\"/>\n",
       "<text text-anchor=\"middle\" x=\"4760.48\" y=\"-57.8\" font-family=\"Times,serif\" font-size=\"14.00\">1</text>\n",
       "</g>\n",
       "<!-- open&#45;&gt;/p/gpfs1/iopp/temp/cm1r20.3.2846827/config_files/les_ConvBoundLayer/cm1out_000001_v.dat -->\n",
       "<g id=\"edge268\" class=\"edge\">\n",
       "<title>open&#45;&gt;/p/gpfs1/iopp/temp/cm1r20.3.2846827/config_files/les_ConvBoundLayer/cm1out_000001_v.dat</title>\n",
       "<path fill=\"none\" stroke=\"black\" d=\"M4756.3,-89.9C4768.21,-79.32 4779.6,-64.86 4769.48,-54 4758.71,-42.44 4713.33,-34.63 4654.15,-29.38\"/>\n",
       "<polygon fill=\"black\" stroke=\"black\" points=\"4654.41,-25.89 4644.14,-28.53 4653.81,-32.86 4654.41,-25.89\"/>\n",
       "<text text-anchor=\"middle\" x=\"4777.48\" y=\"-57.8\" font-family=\"Times,serif\" font-size=\"14.00\">1</text>\n",
       "</g>\n",
       "<!-- open&#45;&gt;/p/gpfs1/iopp/temp/cm1r20.3.2846827/config_files/les_ConvBoundLayer/cm1out_000001_v.dat -->\n",
       "<g id=\"edge272\" class=\"edge\">\n",
       "<title>open&#45;&gt;/p/gpfs1/iopp/temp/cm1r20.3.2846827/config_files/les_ConvBoundLayer/cm1out_000001_v.dat</title>\n",
       "<path fill=\"none\" stroke=\"black\" d=\"M4761.77,-92.44C4779.71,-82.4 4799.01,-67.41 4786.48,-54 4775.23,-41.95 4727.58,-33.95 4665.59,-28.66\"/>\n",
       "<polygon fill=\"black\" stroke=\"black\" points=\"4665.78,-25.16 4655.52,-27.84 4665.2,-32.14 4665.78,-25.16\"/>\n",
       "<text text-anchor=\"middle\" x=\"4794.48\" y=\"-57.8\" font-family=\"Times,serif\" font-size=\"14.00\">1</text>\n",
       "</g>\n",
       "<!-- open&#45;&gt;/p/gpfs1/iopp/temp/cm1r20.3.2846827/config_files/les_ConvBoundLayer/cm1out_000001_v.dat -->\n",
       "<g id=\"edge276\" class=\"edge\">\n",
       "<title>open&#45;&gt;/p/gpfs1/iopp/temp/cm1r20.3.2846827/config_files/les_ConvBoundLayer/cm1out_000001_v.dat</title>\n",
       "<path fill=\"none\" stroke=\"black\" d=\"M4765.45,-95.09C4789.86,-85.93 4819.1,-70.69 4803.48,-54 4791.75,-41.46 4741.76,-33.27 4676.92,-27.94\"/>\n",
       "<polygon fill=\"black\" stroke=\"black\" points=\"4677.06,-24.44 4666.81,-27.14 4676.51,-31.42 4677.06,-24.44\"/>\n",
       "<text text-anchor=\"middle\" x=\"4812.48\" y=\"-57.8\" font-family=\"Times,serif\" font-size=\"14.00\">1</text>\n",
       "</g>\n",
       "<!-- open&#45;&gt;/p/gpfs1/iopp/temp/cm1r20.3.2846827/config_files/les_ConvBoundLayer/cm1out_000001_v.dat -->\n",
       "<g id=\"edge280\" class=\"edge\">\n",
       "<title>open&#45;&gt;/p/gpfs1/iopp/temp/cm1r20.3.2846827/config_files/les_ConvBoundLayer/cm1out_000001_v.dat</title>\n",
       "<path fill=\"none\" stroke=\"black\" d=\"M4767.91,-97.57C4799.21,-89.65 4840.87,-74.67 4821.48,-54 4809.17,-40.88 4756.27,-32.46 4687.91,-27.11\"/>\n",
       "<polygon fill=\"black\" stroke=\"black\" points=\"4687.95,-23.6 4677.72,-26.34 4687.43,-30.58 4687.95,-23.6\"/>\n",
       "<text text-anchor=\"middle\" x=\"4830.48\" y=\"-57.8\" font-family=\"Times,serif\" font-size=\"14.00\">1</text>\n",
       "</g>\n",
       "<!-- open&#45;&gt;/p/gpfs1/iopp/temp/cm1r20.3.2846827/config_files/les_ConvBoundLayer/cm1out_000001_v.dat -->\n",
       "<g id=\"edge284\" class=\"edge\">\n",
       "<title>open&#45;&gt;/p/gpfs1/iopp/temp/cm1r20.3.2846827/config_files/les_ConvBoundLayer/cm1out_000001_v.dat</title>\n",
       "<path fill=\"none\" stroke=\"black\" d=\"M4769.41,-99.59C4807.41,-93.12 4862.98,-79.01 4839.48,-54 4830.43,-44.37 4728.85,-36.63 4614.41,-30.91\"/>\n",
       "<polygon fill=\"black\" stroke=\"black\" points=\"4614.54,-27.41 4604.38,-30.42 4614.19,-34.41 4614.54,-27.41\"/>\n",
       "<text text-anchor=\"middle\" x=\"4849.48\" y=\"-57.8\" font-family=\"Times,serif\" font-size=\"14.00\">1</text>\n",
       "</g>\n",
       "<!-- open&#45;&gt;/p/gpfs1/iopp/temp/cm1r20.3.2846827/config_files/les_ConvBoundLayer/cm1out_000001_v.dat -->\n",
       "<g id=\"edge288\" class=\"edge\">\n",
       "<title>open&#45;&gt;/p/gpfs1/iopp/temp/cm1r20.3.2846827/config_files/les_ConvBoundLayer/cm1out_000001_v.dat</title>\n",
       "<path fill=\"none\" stroke=\"black\" d=\"M4770.19,-101.31C4814.92,-96.47 4886.61,-83.87 4858.48,-54 4849.06,-44 4742.95,-36.19 4623.85,-30.5\"/>\n",
       "<polygon fill=\"black\" stroke=\"black\" points=\"4623.93,-27 4613.78,-30.03 4623.6,-34 4623.93,-27\"/>\n",
       "<text text-anchor=\"middle\" x=\"4869.48\" y=\"-57.8\" font-family=\"Times,serif\" font-size=\"14.00\">1</text>\n",
       "</g>\n",
       "<!-- open&#45;&gt;/p/gpfs1/iopp/temp/cm1r20.3.2846827/config_files/les_ConvBoundLayer/cm1out_000001_v.dat -->\n",
       "<g id=\"edge292\" class=\"edge\">\n",
       "<title>open&#45;&gt;/p/gpfs1/iopp/temp/cm1r20.3.2846827/config_files/les_ConvBoundLayer/cm1out_000001_v.dat</title>\n",
       "<path fill=\"none\" stroke=\"black\" d=\"M4770.36,-102.74C4821.7,-99.67 4911.72,-89.23 4878.48,-54 4868.65,-43.59 4757.26,-35.68 4632.92,-30.04\"/>\n",
       "<polygon fill=\"black\" stroke=\"black\" points=\"4632.94,-26.54 4622.79,-29.59 4632.63,-33.53 4632.94,-26.54\"/>\n",
       "<text text-anchor=\"middle\" x=\"4890.48\" y=\"-57.8\" font-family=\"Times,serif\" font-size=\"14.00\">1</text>\n",
       "</g>\n",
       "<!-- open&#45;&gt;/p/gpfs1/iopp/temp/cm1r20.3.2846827/config_files/les_ConvBoundLayer/cm1out_000001_v.dat -->\n",
       "<g id=\"edge296\" class=\"edge\">\n",
       "<title>open&#45;&gt;/p/gpfs1/iopp/temp/cm1r20.3.2846827/config_files/les_ConvBoundLayer/cm1out_000001_v.dat</title>\n",
       "<path fill=\"none\" stroke=\"black\" d=\"M4770.98,-103.87C4828.91,-102.58 4938.1,-94.85 4899.48,-54 4889.22,-43.15 4772.25,-35.16 4642.38,-29.57\"/>\n",
       "<polygon fill=\"black\" stroke=\"black\" points=\"4642.34,-26.06 4632.2,-29.14 4642.04,-33.06 4642.34,-26.06\"/>\n",
       "<text text-anchor=\"middle\" x=\"4912.48\" y=\"-57.8\" font-family=\"Times,serif\" font-size=\"14.00\">1</text>\n",
       "</g>\n",
       "<!-- open&#45;&gt;/p/gpfs1/iopp/temp/cm1r20.3.2846827/config_files/les_ConvBoundLayer/cm1out_000001_v.dat -->\n",
       "<g id=\"edge300\" class=\"edge\">\n",
       "<title>open&#45;&gt;/p/gpfs1/iopp/temp/cm1r20.3.2846827/config_files/les_ConvBoundLayer/cm1out_000001_v.dat</title>\n",
       "<path fill=\"none\" stroke=\"black\" d=\"M4770.91,-104.81C4835.21,-105.37 4965.98,-100.98 4921.48,-54 4910.76,-42.68 4787.62,-34.59 4651.76,-29.06\"/>\n",
       "<polygon fill=\"black\" stroke=\"black\" points=\"4651.67,-25.55 4641.54,-28.65 4651.39,-32.55 4651.67,-25.55\"/>\n",
       "<text text-anchor=\"middle\" x=\"4934.48\" y=\"-57.8\" font-family=\"Times,serif\" font-size=\"14.00\">1</text>\n",
       "</g>\n",
       "<!-- open&#45;&gt;/p/gpfs1/iopp/temp/cm1r20.3.2846827/config_files/les_ConvBoundLayer/cm1out_000001_v.dat -->\n",
       "<g id=\"edge304\" class=\"edge\">\n",
       "<title>open&#45;&gt;/p/gpfs1/iopp/temp/cm1r20.3.2846827/config_files/les_ConvBoundLayer/cm1out_000001_v.dat</title>\n",
       "<path fill=\"none\" stroke=\"black\" d=\"M4770.81,-103.35C4823.36,-101.54 4921.77,-94.71 4943.48,-69 4947.78,-63.91 4948.07,-58.84 4943.48,-54 4932.28,-42.19 4802.54,-34.01 4660.42,-28.54\"/>\n",
       "<polygon fill=\"black\" stroke=\"black\" points=\"4660.3,-25.03 4650.17,-28.15 4660.03,-32.03 4660.3,-25.03\"/>\n",
       "<text text-anchor=\"middle\" x=\"4951.48\" y=\"-57.8\" font-family=\"Times,serif\" font-size=\"14.00\">1</text>\n",
       "</g>\n",
       "<!-- open&#45;&gt;/p/gpfs1/iopp/temp/cm1r20.3.2846827/config_files/les_ConvBoundLayer/cm1out_000001_v.dat -->\n",
       "<g id=\"edge308\" class=\"edge\">\n",
       "<title>open&#45;&gt;/p/gpfs1/iopp/temp/cm1r20.3.2846827/config_files/les_ConvBoundLayer/cm1out_000001_v.dat</title>\n",
       "<path fill=\"none\" stroke=\"black\" d=\"M4770.81,-103.84C4826.91,-102.78 4936.47,-97.07 4960.48,-69 4964.81,-63.93 4965.07,-58.83 4960.48,-54 4948.9,-41.81 4813.93,-33.56 4666.91,-28.14\"/>\n",
       "<polygon fill=\"black\" stroke=\"black\" points=\"4666.88,-24.64 4656.76,-27.77 4666.62,-31.64 4666.88,-24.64\"/>\n",
       "<text text-anchor=\"middle\" x=\"4968.48\" y=\"-57.8\" font-family=\"Times,serif\" font-size=\"14.00\">1</text>\n",
       "</g>\n",
       "<!-- open&#45;&gt;/p/gpfs1/iopp/temp/cm1r20.3.2846827/config_files/les_ConvBoundLayer/cm1out_000001_v.dat -->\n",
       "<g id=\"edge312\" class=\"edge\">\n",
       "<title>open&#45;&gt;/p/gpfs1/iopp/temp/cm1r20.3.2846827/config_files/les_ConvBoundLayer/cm1out_000001_v.dat</title>\n",
       "<path fill=\"none\" stroke=\"black\" d=\"M4770.95,-104.26C4830.53,-103.93 4951.18,-99.42 4977.48,-69 4981.84,-63.96 4982.08,-58.83 4977.48,-54 4965.5,-41.41 4824.9,-33.09 4672.73,-27.73\"/>\n",
       "<polygon fill=\"black\" stroke=\"black\" points=\"4672.81,-24.23 4662.69,-27.38 4672.56,-31.23 4672.81,-24.23\"/>\n",
       "<text text-anchor=\"middle\" x=\"4985.48\" y=\"-57.8\" font-family=\"Times,serif\" font-size=\"14.00\">1</text>\n",
       "</g>\n",
       "<!-- open&#45;&gt;/p/gpfs1/iopp/temp/cm1r20.3.2846827/config_files/les_ConvBoundLayer/cm1out_000001_v.dat -->\n",
       "<g id=\"edge316\" class=\"edge\">\n",
       "<title>open&#45;&gt;/p/gpfs1/iopp/temp/cm1r20.3.2846827/config_files/les_ConvBoundLayer/cm1out_000001_v.dat</title>\n",
       "<path fill=\"none\" stroke=\"black\" d=\"M4770.83,-104.63C4833.66,-105.02 4965.83,-101.82 4994.48,-69 4998.86,-63.98 4999.08,-58.83 4994.48,-54 4982.11,-41.01 4836.02,-32.63 4678.82,-27.34\"/>\n",
       "<polygon fill=\"black\" stroke=\"black\" points=\"4678.57,-23.83 4668.45,-26.99 4678.33,-30.82 4678.57,-23.83\"/>\n",
       "<text text-anchor=\"middle\" x=\"5002.48\" y=\"-57.8\" font-family=\"Times,serif\" font-size=\"14.00\">1</text>\n",
       "</g>\n",
       "<!-- open&#45;&gt;/p/gpfs1/iopp/temp/cm1r20.3.2846827/config_files/les_ConvBoundLayer/cm1out_000001_v.dat -->\n",
       "<g id=\"edge320\" class=\"edge\">\n",
       "<title>open&#45;&gt;/p/gpfs1/iopp/temp/cm1r20.3.2846827/config_files/les_ConvBoundLayer/cm1out_000001_v.dat</title>\n",
       "<path fill=\"none\" stroke=\"black\" d=\"M4770.72,-103.08C4850.84,-100.28 5045.56,-89.74 5011.48,-54 4998.7,-40.6 4846.73,-32.16 4684.26,-26.93\"/>\n",
       "<polygon fill=\"black\" stroke=\"black\" points=\"4684.15,-23.43 4674.04,-26.61 4683.93,-30.42 4684.15,-23.43\"/>\n",
       "<text text-anchor=\"middle\" x=\"5019.48\" y=\"-57.8\" font-family=\"Times,serif\" font-size=\"14.00\">1</text>\n",
       "</g>\n",
       "<!-- open&#45;&gt;/p/gpfs1/iopp/temp/cm1r20.3.2846827/config_files/les_ConvBoundLayer/cm1out_000001_v.dat -->\n",
       "<g id=\"edge324\" class=\"edge\">\n",
       "<title>open&#45;&gt;/p/gpfs1/iopp/temp/cm1r20.3.2846827/config_files/les_ConvBoundLayer/cm1out_000001_v.dat</title>\n",
       "<path fill=\"none\" stroke=\"black\" d=\"M4770.62,-103.39C4854.29,-101.3 5064.94,-92.19 5028.48,-54 5015.28,-40.18 4857.12,-31.68 4689.23,-26.52\"/>\n",
       "<polygon fill=\"black\" stroke=\"black\" points=\"4689.29,-23.02 4679.19,-26.22 4689.08,-30.02 4689.29,-23.02\"/>\n",
       "<text text-anchor=\"middle\" x=\"5037.48\" y=\"-57.8\" font-family=\"Times,serif\" font-size=\"14.00\">1</text>\n",
       "</g>\n",
       "<!-- open&#45;&gt;/p/gpfs1/iopp/temp/cm1r20.3.2846827/config_files/les_ConvBoundLayer/cm1out_000001_w.dat -->\n",
       "<g id=\"edge328\" class=\"edge\">\n",
       "<title>open&#45;&gt;/p/gpfs1/iopp/temp/cm1r20.3.2846827/config_files/les_ConvBoundLayer/cm1out_000001_w.dat</title>\n",
       "<path fill=\"none\" stroke=\"black\" d=\"M4770.63,-103.37C5003.01,-98.94 6378.64,-72.55 6382.48,-69 6388.61,-63.34 6390.85,-54.93 6391.26,-46.61\"/>\n",
       "<polygon fill=\"black\" stroke=\"black\" points=\"6394.75,-46.24 6390.96,-36.35 6387.76,-46.45 6394.75,-46.24\"/>\n",
       "<text text-anchor=\"middle\" x=\"6394.48\" y=\"-57.8\" font-family=\"Times,serif\" font-size=\"14.00\">1</text>\n",
       "</g>\n",
       "<!-- open&#45;&gt;/p/gpfs1/iopp/temp/cm1r20.3.2846827/config_files/les_ConvBoundLayer/cm1out_000001_w.dat -->\n",
       "<g id=\"edge334\" class=\"edge\">\n",
       "<title>open&#45;&gt;/p/gpfs1/iopp/temp/cm1r20.3.2846827/config_files/les_ConvBoundLayer/cm1out_000001_w.dat</title>\n",
       "<path fill=\"none\" stroke=\"black\" d=\"M4770.68,-103.38C5004.94,-99 6399.77,-72.79 6403.48,-69 6409.76,-62.59 6408.84,-53.72 6405.34,-45.23\"/>\n",
       "<polygon fill=\"black\" stroke=\"black\" points=\"6408.43,-43.59 6400.74,-36.3 6402.21,-46.79 6408.43,-43.59\"/>\n",
       "<text text-anchor=\"middle\" x=\"6412.48\" y=\"-57.8\" font-family=\"Times,serif\" font-size=\"14.00\">1</text>\n",
       "</g>\n",
       "<!-- open&#45;&gt;/p/gpfs1/iopp/temp/cm1r20.3.2846827/config_files/les_ConvBoundLayer/cm1out_000001_w.dat -->\n",
       "<g id=\"edge338\" class=\"edge\">\n",
       "<title>open&#45;&gt;/p/gpfs1/iopp/temp/cm1r20.3.2846827/config_files/les_ConvBoundLayer/cm1out_000001_w.dat</title>\n",
       "<path fill=\"none\" stroke=\"black\" d=\"M4770.66,-103.39C5006.33,-99.04 6417.73,-72.83 6421.48,-69 6428.92,-61.4 6425.15,-51.99 6417.87,-43.38\"/>\n",
       "<polygon fill=\"black\" stroke=\"black\" points=\"6420.25,-40.81 6410.77,-36.09 6415.24,-45.7 6420.25,-40.81\"/>\n",
       "<text text-anchor=\"middle\" x=\"6430.48\" y=\"-57.8\" font-family=\"Times,serif\" font-size=\"14.00\">1</text>\n",
       "</g>\n",
       "<!-- open&#45;&gt;/p/gpfs1/iopp/temp/cm1r20.3.2846827/config_files/les_ConvBoundLayer/cm1out_000001_w.dat -->\n",
       "<g id=\"edge342\" class=\"edge\">\n",
       "<title>open&#45;&gt;/p/gpfs1/iopp/temp/cm1r20.3.2846827/config_files/les_ConvBoundLayer/cm1out_000001_w.dat</title>\n",
       "<path fill=\"none\" stroke=\"black\" d=\"M4770.64,-103.4C5007.68,-99.07 6435.69,-72.87 6439.48,-69 6448.3,-60 6442.16,-50.35 6431.45,-41.96\"/>\n",
       "<polygon fill=\"black\" stroke=\"black\" points=\"6433.21,-38.92 6423,-36.09 6429.22,-44.67 6433.21,-38.92\"/>\n",
       "<text text-anchor=\"middle\" x=\"6448.48\" y=\"-57.8\" font-family=\"Times,serif\" font-size=\"14.00\">1</text>\n",
       "</g>\n",
       "<!-- open&#45;&gt;/p/gpfs1/iopp/temp/cm1r20.3.2846827/config_files/les_ConvBoundLayer/cm1out_000001_w.dat -->\n",
       "<g id=\"edge346\" class=\"edge\">\n",
       "<title>open&#45;&gt;/p/gpfs1/iopp/temp/cm1r20.3.2846827/config_files/les_ConvBoundLayer/cm1out_000001_w.dat</title>\n",
       "<path fill=\"none\" stroke=\"black\" d=\"M4770.61,-103.4C5009,-99.11 6453.64,-72.91 6457.48,-69 6467.69,-58.58 6459.91,-48.82 6446.38,-40.75\"/>\n",
       "<polygon fill=\"black\" stroke=\"black\" points=\"6447.8,-37.54 6437.33,-35.95 6444.52,-43.73 6447.8,-37.54\"/>\n",
       "<text text-anchor=\"middle\" x=\"6466.48\" y=\"-57.8\" font-family=\"Times,serif\" font-size=\"14.00\">1</text>\n",
       "</g>\n",
       "<!-- open&#45;&gt;/p/gpfs1/iopp/temp/cm1r20.3.2846827/config_files/les_ConvBoundLayer/cm1out_000001_w.dat -->\n",
       "<g id=\"edge350\" class=\"edge\">\n",
       "<title>open&#45;&gt;/p/gpfs1/iopp/temp/cm1r20.3.2846827/config_files/les_ConvBoundLayer/cm1out_000001_w.dat</title>\n",
       "<path fill=\"none\" stroke=\"black\" d=\"M4770.57,-103.41C5010.29,-99.14 6471.6,-72.96 6475.48,-69 6486.74,-57.51 6478.7,-47.85 6463.71,-40.17\"/>\n",
       "<polygon fill=\"black\" stroke=\"black\" points=\"6464.74,-36.79 6454.18,-35.88 6461.87,-43.18 6464.74,-36.79\"/>\n",
       "<text text-anchor=\"middle\" x=\"6485.48\" y=\"-57.8\" font-family=\"Times,serif\" font-size=\"14.00\">1</text>\n",
       "</g>\n",
       "<!-- open&#45;&gt;/p/gpfs1/iopp/temp/cm1r20.3.2846827/config_files/les_ConvBoundLayer/cm1out_000001_w.dat -->\n",
       "<g id=\"edge356\" class=\"edge\">\n",
       "<title>open&#45;&gt;/p/gpfs1/iopp/temp/cm1r20.3.2846827/config_files/les_ConvBoundLayer/cm1out_000001_w.dat</title>\n",
       "<path fill=\"none\" stroke=\"black\" d=\"M4770.58,-103.38C5012.02,-98.85 6492.52,-71 6494.48,-69 6506.59,-56.65 6499.1,-47 6483.6,-39.63\"/>\n",
       "<polygon fill=\"black\" stroke=\"black\" points=\"6484.82,-36.35 6474.25,-35.76 6482.15,-42.81 6484.82,-36.35\"/>\n",
       "<text text-anchor=\"middle\" x=\"6504.48\" y=\"-57.8\" font-family=\"Times,serif\" font-size=\"14.00\">1</text>\n",
       "</g>\n",
       "<!-- open&#45;&gt;/p/gpfs1/iopp/temp/cm1r20.3.2846827/config_files/les_ConvBoundLayer/cm1out_000001_w.dat -->\n",
       "<g id=\"edge360\" class=\"edge\">\n",
       "<title>open&#45;&gt;/p/gpfs1/iopp/temp/cm1r20.3.2846827/config_files/les_ConvBoundLayer/cm1out_000001_w.dat</title>\n",
       "<path fill=\"none\" stroke=\"black\" d=\"M4770.55,-103.39C5013.4,-98.88 6511.5,-71.02 6513.48,-69 6525.95,-56.29 6520.04,-46.72 6505.53,-39.55\"/>\n",
       "<polygon fill=\"black\" stroke=\"black\" points=\"6506.65,-36.23 6496.07,-35.6 6503.95,-42.69 6506.65,-36.23\"/>\n",
       "<text text-anchor=\"middle\" x=\"6524.48\" y=\"-57.8\" font-family=\"Times,serif\" font-size=\"14.00\">1</text>\n",
       "</g>\n",
       "<!-- open&#45;&gt;/p/gpfs1/iopp/temp/cm1r20.3.2846827/config_files/les_ConvBoundLayer/cm1out_000001_w.dat -->\n",
       "<g id=\"edge364\" class=\"edge\">\n",
       "<title>open&#45;&gt;/p/gpfs1/iopp/temp/cm1r20.3.2846827/config_files/les_ConvBoundLayer/cm1out_000001_w.dat</title>\n",
       "<path fill=\"none\" stroke=\"black\" d=\"M4770.54,-103.39C5014.89,-98.92 6531.47,-71.05 6533.48,-69 6546.14,-56.09 6541.98,-46.51 6528.98,-39.41\"/>\n",
       "<polygon fill=\"black\" stroke=\"black\" points=\"6530.38,-36.2 6519.82,-35.29 6527.51,-42.58 6530.38,-36.2\"/>\n",
       "<text text-anchor=\"middle\" x=\"6545.48\" y=\"-57.8\" font-family=\"Times,serif\" font-size=\"14.00\">1</text>\n",
       "</g>\n",
       "<!-- open&#45;&gt;/p/gpfs1/iopp/temp/cm1r20.3.2846827/config_files/les_ConvBoundLayer/cm1out_000001_w.dat -->\n",
       "<g id=\"edge368\" class=\"edge\">\n",
       "<title>open&#45;&gt;/p/gpfs1/iopp/temp/cm1r20.3.2846827/config_files/les_ConvBoundLayer/cm1out_000001_w.dat</title>\n",
       "<path fill=\"none\" stroke=\"black\" d=\"M4770.53,-103.4C5016.51,-98.95 6552.45,-71.07 6554.48,-69 6566.93,-56.31 6564.87,-46.81 6554.31,-39.7\"/>\n",
       "<polygon fill=\"black\" stroke=\"black\" points=\"6555.69,-36.47 6545.2,-34.94 6552.44,-42.68 6555.69,-36.47\"/>\n",
       "<text text-anchor=\"middle\" x=\"6567.48\" y=\"-57.8\" font-family=\"Times,serif\" font-size=\"14.00\">1</text>\n",
       "</g>\n",
       "<!-- open&#45;&gt;/p/gpfs1/iopp/temp/cm1r20.3.2846827/config_files/les_ConvBoundLayer/cm1out_000001_w.dat -->\n",
       "<g id=\"edge372\" class=\"edge\">\n",
       "<title>open&#45;&gt;/p/gpfs1/iopp/temp/cm1r20.3.2846827/config_files/les_ConvBoundLayer/cm1out_000001_w.dat</title>\n",
       "<path fill=\"none\" stroke=\"black\" d=\"M4770.55,-103.39C5018.4,-98.82 6575.45,-70.05 6576.48,-69 6588.64,-56.6 6588.39,-47.16 6580.21,-40\"/>\n",
       "<polygon fill=\"black\" stroke=\"black\" points=\"6581.87,-36.91 6571.56,-34.49 6578.12,-42.81 6581.87,-36.91\"/>\n",
       "<text text-anchor=\"middle\" x=\"6589.48\" y=\"-57.8\" font-family=\"Times,serif\" font-size=\"14.00\">1</text>\n",
       "</g>\n",
       "<!-- open&#45;&gt;/p/gpfs1/iopp/temp/cm1r20.3.2846827/config_files/les_ConvBoundLayer/cm1out_000001_w.dat -->\n",
       "<g id=\"edge376\" class=\"edge\">\n",
       "<title>open&#45;&gt;/p/gpfs1/iopp/temp/cm1r20.3.2846827/config_files/les_ConvBoundLayer/cm1out_000001_w.dat</title>\n",
       "<path fill=\"none\" stroke=\"black\" d=\"M4770.55,-103.4C5020.09,-98.85 6597.44,-70.06 6598.48,-69 6603.15,-64.24 6602.79,-59.09 6598.48,-54 6592.82,-47.33 6582.1,-41.92 6568.36,-37.55\"/>\n",
       "<polygon fill=\"black\" stroke=\"black\" points=\"6568.98,-34.08 6558.4,-34.68 6567.04,-40.81 6568.98,-34.08\"/>\n",
       "<text text-anchor=\"middle\" x=\"6606.48\" y=\"-57.8\" font-family=\"Times,serif\" font-size=\"14.00\">1</text>\n",
       "</g>\n",
       "<!-- open&#45;&gt;/p/gpfs1/iopp/temp/cm1r20.3.2846827/config_files/les_ConvBoundLayer/cm1out_000001_w.dat -->\n",
       "<g id=\"edge380\" class=\"edge\">\n",
       "<title>open&#45;&gt;/p/gpfs1/iopp/temp/cm1r20.3.2846827/config_files/les_ConvBoundLayer/cm1out_000001_w.dat</title>\n",
       "<path fill=\"none\" stroke=\"black\" d=\"M4770.87,-103.38C5022.84,-98.68 6615.48,-69 6615.48,-69 6620.15,-64.24 6619.82,-59.06 6615.48,-54 6609.68,-47.24 6599.01,-41.77 6585.34,-37.35\"/>\n",
       "<polygon fill=\"black\" stroke=\"black\" points=\"6586,-33.9 6575.42,-34.46 6584.04,-40.62 6586,-33.9\"/>\n",
       "<text text-anchor=\"middle\" x=\"6623.48\" y=\"-57.8\" font-family=\"Times,serif\" font-size=\"14.00\">1</text>\n",
       "</g>\n",
       "<!-- open&#45;&gt;/p/gpfs1/iopp/temp/cm1r20.3.2846827/config_files/les_ConvBoundLayer/cm1out_000001_w.dat -->\n",
       "<g id=\"edge384\" class=\"edge\">\n",
       "<title>open&#45;&gt;/p/gpfs1/iopp/temp/cm1r20.3.2846827/config_files/les_ConvBoundLayer/cm1out_000001_w.dat</title>\n",
       "<path fill=\"none\" stroke=\"black\" d=\"M4770.77,-103.39C5023.71,-98.71 6632.48,-69 6632.48,-69 6637.15,-64.24 6636.85,-59.04 6632.48,-54 6626.5,-47.11 6615.77,-41.54 6602.03,-37.05\"/>\n",
       "<polygon fill=\"black\" stroke=\"black\" points=\"6602.63,-33.58 6592.05,-34.11 6600.65,-40.29 6602.63,-33.58\"/>\n",
       "<text text-anchor=\"middle\" x=\"6640.48\" y=\"-57.8\" font-family=\"Times,serif\" font-size=\"14.00\">1</text>\n",
       "</g>\n",
       "<!-- open&#45;&gt;/p/gpfs1/iopp/temp/cm1r20.3.2846827/config_files/les_ConvBoundLayer/cm1out_000001_w.dat -->\n",
       "<g id=\"edge388\" class=\"edge\">\n",
       "<title>open&#45;&gt;/p/gpfs1/iopp/temp/cm1r20.3.2846827/config_files/les_ConvBoundLayer/cm1out_000001_w.dat</title>\n",
       "<path fill=\"none\" stroke=\"black\" d=\"M4770.77,-103.39C4891.19,-101.18 5315.47,-93.41 5665.48,-87 5692.81,-86.5 6630.33,-88.51 6649.48,-69 6654.15,-64.24 6653.87,-59.02 6649.48,-54 6643.28,-46.92 6632.34,-41.21 6618.35,-36.61\"/>\n",
       "<polygon fill=\"black\" stroke=\"black\" points=\"6619.31,-33.24 6608.72,-33.75 6617.31,-39.95 6619.31,-33.24\"/>\n",
       "<text text-anchor=\"middle\" x=\"6657.48\" y=\"-57.8\" font-family=\"Times,serif\" font-size=\"14.00\">1</text>\n",
       "</g>\n",
       "<!-- open&#45;&gt;/p/gpfs1/iopp/temp/cm1r20.3.2846827/config_files/les_ConvBoundLayer/cm1out_000001_w.dat -->\n",
       "<g id=\"edge392\" class=\"edge\">\n",
       "<title>open&#45;&gt;/p/gpfs1/iopp/temp/cm1r20.3.2846827/config_files/les_ConvBoundLayer/cm1out_000001_w.dat</title>\n",
       "<path fill=\"none\" stroke=\"black\" d=\"M4770.77,-103.39C4891.19,-101.17 5315.47,-93.35 5665.48,-87 5693.29,-86.5 6646.99,-88.84 6666.48,-69 6681.55,-53.66 6653.81,-42.97 6610.75,-35.53\"/>\n",
       "<polygon fill=\"black\" stroke=\"black\" points=\"6611.16,-32.06 6600.73,-33.9 6610.03,-38.96 6611.16,-32.06\"/>\n",
       "<text text-anchor=\"middle\" x=\"6675.48\" y=\"-57.8\" font-family=\"Times,serif\" font-size=\"14.00\">1</text>\n",
       "</g>\n",
       "<!-- open&#45;&gt;/p/gpfs1/iopp/temp/cm1r20.3.2846827/config_files/les_ConvBoundLayer/cm1out_000001_w.dat -->\n",
       "<g id=\"edge396\" class=\"edge\">\n",
       "<title>open&#45;&gt;/p/gpfs1/iopp/temp/cm1r20.3.2846827/config_files/les_ConvBoundLayer/cm1out_000001_w.dat</title>\n",
       "<path fill=\"none\" stroke=\"black\" d=\"M4770.77,-103.38C4891.19,-101.15 5315.46,-93.3 5665.48,-87 5693.79,-86.49 6664.64,-89.19 6684.48,-69 6699.9,-53.31 6673.1,-42.53 6630.17,-35.13\"/>\n",
       "<polygon fill=\"black\" stroke=\"black\" points=\"6630.59,-31.66 6620.16,-33.51 6629.47,-38.57 6630.59,-31.66\"/>\n",
       "<text text-anchor=\"middle\" x=\"6693.48\" y=\"-57.8\" font-family=\"Times,serif\" font-size=\"14.00\">1</text>\n",
       "</g>\n",
       "<!-- open&#45;&gt;/p/gpfs1/iopp/temp/cm1r20.3.2846827/config_files/les_ConvBoundLayer/cm1out_000001_w.dat -->\n",
       "<g id=\"edge400\" class=\"edge\">\n",
       "<title>open&#45;&gt;/p/gpfs1/iopp/temp/cm1r20.3.2846827/config_files/les_ConvBoundLayer/cm1out_000001_w.dat</title>\n",
       "<path fill=\"none\" stroke=\"black\" d=\"M4770.77,-103.38C4891.19,-101.13 5315.46,-93.24 5665.48,-87 5694.29,-86.49 6682.29,-89.55 6702.48,-69 6718.27,-52.94 6692.21,-42.03 6649.32,-34.63\"/>\n",
       "<polygon fill=\"black\" stroke=\"black\" points=\"6649.74,-31.16 6639.31,-33.01 6648.62,-38.07 6649.74,-31.16\"/>\n",
       "<text text-anchor=\"middle\" x=\"6711.48\" y=\"-57.8\" font-family=\"Times,serif\" font-size=\"14.00\">1</text>\n",
       "</g>\n",
       "<!-- open&#45;&gt;/p/gpfs1/iopp/temp/cm1r20.3.2846827/config_files/les_ConvBoundLayer/cm1out_000001_w.dat -->\n",
       "<g id=\"edge404\" class=\"edge\">\n",
       "<title>open&#45;&gt;/p/gpfs1/iopp/temp/cm1r20.3.2846827/config_files/les_ConvBoundLayer/cm1out_000001_w.dat</title>\n",
       "<path fill=\"none\" stroke=\"black\" d=\"M4770.77,-103.38C4891.19,-101.12 5315.46,-93.19 5665.48,-87 5694.79,-86.48 6699.93,-89.9 6720.48,-69 6736.63,-52.58 6711.29,-41.53 6668.48,-34.1\"/>\n",
       "<polygon fill=\"black\" stroke=\"black\" points=\"6668.9,-30.62 6658.47,-32.47 6667.78,-37.53 6668.9,-30.62\"/>\n",
       "<text text-anchor=\"middle\" x=\"6729.48\" y=\"-57.8\" font-family=\"Times,serif\" font-size=\"14.00\">1</text>\n",
       "</g>\n",
       "<!-- open&#45;&gt;/p/gpfs1/iopp/temp/cm1r20.3.2846827/config_files/les_ConvBoundLayer/cm1out_000001_w.dat -->\n",
       "<g id=\"edge408\" class=\"edge\">\n",
       "<title>open&#45;&gt;/p/gpfs1/iopp/temp/cm1r20.3.2846827/config_files/les_ConvBoundLayer/cm1out_000001_w.dat</title>\n",
       "<path fill=\"none\" stroke=\"black\" d=\"M4770.77,-103.37C4891.19,-101.1 5315.46,-93.14 5665.48,-87 5695.29,-86.48 6717.58,-90.25 6738.48,-69 6754.98,-52.22 6730.31,-41 6687.59,-33.52\"/>\n",
       "<polygon fill=\"black\" stroke=\"black\" points=\"6688.03,-30.05 6677.59,-31.89 6686.9,-36.96 6688.03,-30.05\"/>\n",
       "<text text-anchor=\"middle\" x=\"6748.48\" y=\"-57.8\" font-family=\"Times,serif\" font-size=\"14.00\">1</text>\n",
       "</g>\n",
       "<!-- open&#45;&gt;/p/gpfs1/iopp/temp/cm1r20.3.2846827/config_files/les_ConvBoundLayer/cm1out_000001_w.dat -->\n",
       "<g id=\"edge412\" class=\"edge\">\n",
       "<title>open&#45;&gt;/p/gpfs1/iopp/temp/cm1r20.3.2846827/config_files/les_ConvBoundLayer/cm1out_000001_w.dat</title>\n",
       "<path fill=\"none\" stroke=\"black\" d=\"M4770.77,-103.37C4891.19,-101.09 5315.46,-93.09 5665.48,-87 5680.65,-86.74 6746.84,-79.81 6757.48,-69 6774.38,-51.82 6750.24,-40.4 6707.46,-32.84\"/>\n",
       "<polygon fill=\"black\" stroke=\"black\" points=\"6707.88,-29.36 6697.45,-31.19 6706.75,-36.27 6707.88,-29.36\"/>\n",
       "<text text-anchor=\"middle\" x=\"6767.48\" y=\"-57.8\" font-family=\"Times,serif\" font-size=\"14.00\">1</text>\n",
       "</g>\n",
       "<!-- open&#45;&gt;/p/gpfs1/iopp/temp/cm1r20.3.2846827/config_files/les_ConvBoundLayer/cm1out_000001_w.dat -->\n",
       "<g id=\"edge416\" class=\"edge\">\n",
       "<title>open&#45;&gt;/p/gpfs1/iopp/temp/cm1r20.3.2846827/config_files/les_ConvBoundLayer/cm1out_000001_w.dat</title>\n",
       "<path fill=\"none\" stroke=\"black\" d=\"M4770.77,-103.36C4891.19,-101.07 5315.46,-93.04 5665.48,-87 5680.91,-86.73 6765.66,-80 6776.48,-69 6793.8,-51.4 6770.09,-39.76 6727.21,-32.12\"/>\n",
       "<polygon fill=\"black\" stroke=\"black\" points=\"6727.6,-28.63 6717.16,-30.45 6726.45,-35.54 6727.6,-28.63\"/>\n",
       "<text text-anchor=\"middle\" x=\"6786.48\" y=\"-57.8\" font-family=\"Times,serif\" font-size=\"14.00\">1</text>\n",
       "</g>\n",
       "<!-- open&#45;&gt;/p/gpfs1/iopp/temp/cm1r20.3.2846827/config_files/les_ConvBoundLayer/cm1out_000001_w.dat -->\n",
       "<g id=\"edge420\" class=\"edge\">\n",
       "<title>open&#45;&gt;/p/gpfs1/iopp/temp/cm1r20.3.2846827/config_files/les_ConvBoundLayer/cm1out_000001_w.dat</title>\n",
       "<path fill=\"none\" stroke=\"black\" d=\"M4770.77,-103.36C4891.19,-101.06 5315.46,-92.99 5665.48,-87 5681.17,-86.73 6784.47,-80.19 6795.48,-69 6800.16,-64.25 6799.99,-58.91 6795.48,-54 6786.71,-44.45 6749.79,-37.49 6701.48,-32.44\"/>\n",
       "<polygon fill=\"black\" stroke=\"black\" points=\"6701.64,-28.94 6691.34,-31.42 6700.94,-35.9 6701.64,-28.94\"/>\n",
       "<text text-anchor=\"middle\" x=\"6803.48\" y=\"-57.8\" font-family=\"Times,serif\" font-size=\"14.00\">1</text>\n",
       "</g>\n",
       "<!-- open&#45;&gt;/p/gpfs1/iopp/temp/cm1r20.3.2846827/config_files/les_ConvBoundLayer/cm1out_000001_w.dat -->\n",
       "<g id=\"edge424\" class=\"edge\">\n",
       "<title>open&#45;&gt;/p/gpfs1/iopp/temp/cm1r20.3.2846827/config_files/les_ConvBoundLayer/cm1out_000001_w.dat</title>\n",
       "<path fill=\"none\" stroke=\"black\" d=\"M4770.77,-103.36C4891.19,-101.05 5315.46,-92.95 5665.48,-87 5681.41,-86.73 6801.3,-80.35 6812.48,-69 6817.16,-64.25 6817,-58.9 6812.48,-54 6803.36,-44.09 6765.07,-36.99 6714.95,-31.9\"/>\n",
       "<polygon fill=\"black\" stroke=\"black\" points=\"6715.07,-28.39 6704.77,-30.91 6714.39,-35.36 6715.07,-28.39\"/>\n",
       "<text text-anchor=\"middle\" x=\"6820.48\" y=\"-57.8\" font-family=\"Times,serif\" font-size=\"14.00\">1</text>\n",
       "</g>\n",
       "<!-- open&#45;&gt;/p/gpfs1/iopp/temp/cm1r20.3.2846827/config_files/les_ConvBoundLayer/cm1out_000001_w.dat -->\n",
       "<g id=\"edge428\" class=\"edge\">\n",
       "<title>open&#45;&gt;/p/gpfs1/iopp/temp/cm1r20.3.2846827/config_files/les_ConvBoundLayer/cm1out_000001_w.dat</title>\n",
       "<path fill=\"none\" stroke=\"black\" d=\"M4770.77,-103.36C4891.19,-101.03 5315.46,-92.91 5665.48,-87 5681.65,-86.73 6818.14,-80.52 6829.48,-69 6834.16,-64.25 6834,-58.9 6829.48,-54 6820,-43.74 6780.38,-36.49 6728.46,-31.36\"/>\n",
       "<polygon fill=\"black\" stroke=\"black\" points=\"6728.56,-27.85 6718.27,-30.39 6727.9,-34.82 6728.56,-27.85\"/>\n",
       "<text text-anchor=\"middle\" x=\"6837.48\" y=\"-57.8\" font-family=\"Times,serif\" font-size=\"14.00\">1</text>\n",
       "</g>\n",
       "<!-- open&#45;&gt;/p/gpfs1/iopp/temp/cm1r20.3.2846827/config_files/les_ConvBoundLayer/cm1out_000001_w.dat -->\n",
       "<g id=\"edge432\" class=\"edge\">\n",
       "<title>open&#45;&gt;/p/gpfs1/iopp/temp/cm1r20.3.2846827/config_files/les_ConvBoundLayer/cm1out_000001_w.dat</title>\n",
       "<path fill=\"none\" stroke=\"black\" d=\"M4770.77,-103.35C4891.19,-101.02 5315.46,-92.87 5665.48,-87 5681.88,-86.72 6834.97,-80.69 6846.48,-69 6851.16,-64.25 6851.01,-58.89 6846.48,-54 6836.6,-43.34 6795.3,-35.92 6741.22,-30.74\"/>\n",
       "<polygon fill=\"black\" stroke=\"black\" points=\"6741.25,-27.23 6730.97,-29.8 6740.61,-34.2 6741.25,-27.23\"/>\n",
       "<text text-anchor=\"middle\" x=\"6854.48\" y=\"-57.8\" font-family=\"Times,serif\" font-size=\"14.00\">1</text>\n",
       "</g>\n",
       "<!-- open&#45;&gt;/p/gpfs1/iopp/temp/cm1r20.3.2846827/config_files/les_ConvBoundLayer/cm1out_000001_w.dat -->\n",
       "<g id=\"edge436\" class=\"edge\">\n",
       "<title>open&#45;&gt;/p/gpfs1/iopp/temp/cm1r20.3.2846827/config_files/les_ConvBoundLayer/cm1out_000001_w.dat</title>\n",
       "<path fill=\"none\" stroke=\"black\" d=\"M4770.77,-103.35C4891.19,-101.01 5315.46,-92.84 5665.48,-87 5682.12,-86.72 6851.8,-80.85 6863.48,-69 6868.16,-64.25 6868.02,-58.88 6863.48,-54 6853.2,-42.94 6810.21,-35.34 6753.95,-30.13\"/>\n",
       "<polygon fill=\"black\" stroke=\"black\" points=\"6753.95,-26.62 6743.68,-29.22 6753.33,-33.59 6753.95,-26.62\"/>\n",
       "<text text-anchor=\"middle\" x=\"6871.48\" y=\"-57.8\" font-family=\"Times,serif\" font-size=\"14.00\">1</text>\n",
       "</g>\n",
       "<!-- open&#45;&gt;/p/gpfs1/iopp/temp/cm1r20.3.2846827/config_files/les_ConvBoundLayer/cm1out_000001_w.dat -->\n",
       "<g id=\"edge440\" class=\"edge\">\n",
       "<title>open&#45;&gt;/p/gpfs1/iopp/temp/cm1r20.3.2846827/config_files/les_ConvBoundLayer/cm1out_000001_w.dat</title>\n",
       "<path fill=\"none\" stroke=\"black\" d=\"M4770.77,-103.35C4891.19,-101 5315.46,-92.8 5665.48,-87 5682.36,-86.72 6868.64,-81.02 6880.48,-69 6885.16,-64.25 6885.02,-58.88 6880.48,-54 6869.77,-42.5 6824.81,-34.72 6766.09,-29.46\"/>\n",
       "<polygon fill=\"black\" stroke=\"black\" points=\"6766.02,-25.94 6755.76,-28.58 6765.43,-32.92 6766.02,-25.94\"/>\n",
       "<text text-anchor=\"middle\" x=\"6888.48\" y=\"-57.8\" font-family=\"Times,serif\" font-size=\"14.00\">1</text>\n",
       "</g>\n",
       "<!-- open&#45;&gt;/p/gpfs1/iopp/temp/cm1r20.3.2846827/config_files/les_ConvBoundLayer/cm1out_000001_w.dat -->\n",
       "<g id=\"edge444\" class=\"edge\">\n",
       "<title>open&#45;&gt;/p/gpfs1/iopp/temp/cm1r20.3.2846827/config_files/les_ConvBoundLayer/cm1out_000001_w.dat</title>\n",
       "<path fill=\"none\" stroke=\"black\" d=\"M4770.77,-103.35C4891.19,-100.99 5315.46,-92.76 5665.48,-87 5682.59,-86.72 6885.47,-81.19 6897.48,-69 6902.16,-64.25 6902.03,-58.87 6897.48,-54 6886.29,-42.01 6839.04,-34.03 6777.48,-28.74\"/>\n",
       "<polygon fill=\"black\" stroke=\"black\" points=\"6777.74,-25.25 6767.48,-27.91 6777.16,-32.22 6777.74,-25.25\"/>\n",
       "<text text-anchor=\"middle\" x=\"6905.48\" y=\"-57.8\" font-family=\"Times,serif\" font-size=\"14.00\">1</text>\n",
       "</g>\n",
       "<!-- open&#45;&gt;/p/gpfs1/iopp/temp/cm1r20.3.2846827/config_files/les_ConvBoundLayer/cm1out_000001_w.dat -->\n",
       "<g id=\"edge448\" class=\"edge\">\n",
       "<title>open&#45;&gt;/p/gpfs1/iopp/temp/cm1r20.3.2846827/config_files/les_ConvBoundLayer/cm1out_000001_w.dat</title>\n",
       "<path fill=\"none\" stroke=\"black\" d=\"M4770.77,-103.34C4891.19,-100.98 5315.45,-92.73 5665.48,-87 5682.83,-86.72 6902.3,-81.36 6914.48,-69 6919.16,-64.25 6919.04,-58.87 6914.48,-54 6902.8,-41.52 6853.24,-33.34 6788.84,-28.02\"/>\n",
       "<polygon fill=\"black\" stroke=\"black\" points=\"6789.06,-24.52 6778.81,-27.22 6788.5,-31.5 6789.06,-24.52\"/>\n",
       "<text text-anchor=\"middle\" x=\"6922.48\" y=\"-57.8\" font-family=\"Times,serif\" font-size=\"14.00\">1</text>\n",
       "</g>\n",
       "<!-- open&#45;&gt;/p/gpfs1/iopp/temp/cm1r20.3.2846827/config_files/les_ConvBoundLayer/cm1out_000001_w.dat -->\n",
       "<g id=\"edge452\" class=\"edge\">\n",
       "<title>open&#45;&gt;/p/gpfs1/iopp/temp/cm1r20.3.2846827/config_files/les_ConvBoundLayer/cm1out_000001_w.dat</title>\n",
       "<path fill=\"none\" stroke=\"black\" d=\"M4770.77,-103.34C4891.19,-100.97 5315.45,-92.69 5665.48,-87 5683.06,-86.71 6919.13,-81.52 6931.48,-69 6936.16,-64.25 6936.04,-58.86 6931.48,-54 6919.28,-40.98 6867.05,-32.6 6799.44,-27.25\"/>\n",
       "<polygon fill=\"black\" stroke=\"black\" points=\"6799.6,-23.75 6789.36,-26.48 6799.06,-30.73 6799.6,-23.75\"/>\n",
       "<text text-anchor=\"middle\" x=\"6939.48\" y=\"-57.8\" font-family=\"Times,serif\" font-size=\"14.00\">1</text>\n",
       "</g>\n",
       "<!-- write&#45;&gt;/p/gpfs1/iopp/temp/cm1r20.3.2846827/config_files/les_ConvBoundLayer/cm1out_000001_s.dat -->\n",
       "<g id=\"edge6\" class=\"edge\">\n",
       "<title>write&#45;&gt;/p/gpfs1/iopp/temp/cm1r20.3.2846827/config_files/les_ConvBoundLayer/cm1out_000001_s.dat</title>\n",
       "<path fill=\"none\" stroke=\"black\" d=\"M5674.43,-103.19C5551.53,-100.39 5128.67,-91.05 4779.48,-87 4677.51,-85.82 1208.69,-87.86 1108.48,-69 1090.23,-65.56 1087.62,-58 1069.48,-54 1027.42,-44.72 944.87,-37.52 857.61,-32.12\"/>\n",
       "<polygon fill=\"black\" stroke=\"black\" points=\"857.7,-28.62 847.51,-31.5 857.28,-35.61 857.7,-28.62\"/>\n",
       "<text text-anchor=\"middle\" x=\"1113.48\" y=\"-57.8\" font-family=\"Times,serif\" font-size=\"14.00\">3</text>\n",
       "</g>\n",
       "<!-- write&#45;&gt;/p/gpfs1/iopp/temp/cm1r20.3.2846827/config_files/les_ConvBoundLayer/cm1out_000001_u.dat -->\n",
       "<g id=\"edge74\" class=\"edge\">\n",
       "<title>write&#45;&gt;/p/gpfs1/iopp/temp/cm1r20.3.2846827/config_files/les_ConvBoundLayer/cm1out_000001_u.dat</title>\n",
       "<path fill=\"none\" stroke=\"black\" d=\"M5674.43,-103.27C5551.53,-100.74 5128.65,-92.19 4779.48,-87 4735.7,-86.35 3245.24,-82.14 3203.48,-69 3192.19,-65.45 3192.73,-57.68 3181.48,-54 3126.24,-35.91 2858.99,-27.17 2612.33,-22.95\"/>\n",
       "<polygon fill=\"black\" stroke=\"black\" points=\"2612.14,-19.45 2602.08,-22.78 2612.02,-26.44 2612.14,-19.45\"/>\n",
       "<text text-anchor=\"middle\" x=\"3208.48\" y=\"-57.8\" font-family=\"Times,serif\" font-size=\"14.00\">1</text>\n",
       "</g>\n",
       "<!-- write&#45;&gt;/p/gpfs1/iopp/temp/cm1r20.3.2846827/config_files/les_ConvBoundLayer/cm1out_000001_v.dat -->\n",
       "<g id=\"edge202\" class=\"edge\">\n",
       "<title>write&#45;&gt;/p/gpfs1/iopp/temp/cm1r20.3.2846827/config_files/les_ConvBoundLayer/cm1out_000001_v.dat</title>\n",
       "<path fill=\"none\" stroke=\"black\" d=\"M5674.99,-101.03C5576.81,-92.67 5287.29,-68.55 5046.48,-54 4899.55,-45.12 4736.73,-37.41 4598.79,-31.5\"/>\n",
       "<polygon fill=\"black\" stroke=\"black\" points=\"4598.63,-27.99 4588.49,-31.06 4598.33,-34.99 4598.63,-27.99\"/>\n",
       "<text text-anchor=\"middle\" x=\"5269.48\" y=\"-57.8\" font-family=\"Times,serif\" font-size=\"14.00\">1</text>\n",
       "</g>\n",
       "<!-- write&#45;&gt;/p/gpfs1/iopp/temp/cm1r20.3.2846827/config_files/les_ConvBoundLayer/cm1out_000001_w.dat -->\n",
       "<g id=\"edge330\" class=\"edge\">\n",
       "<title>write&#45;&gt;/p/gpfs1/iopp/temp/cm1r20.3.2846827/config_files/les_ConvBoundLayer/cm1out_000001_w.dat</title>\n",
       "<path fill=\"none\" stroke=\"black\" d=\"M5744.62,-103.95C5984.76,-103.53 7375.36,-99.75 7405.48,-69 7410.15,-64.24 7410.11,-58.79 7405.48,-54 7384.92,-32.72 7107.6,-24.13 6847.62,-20.77\"/>\n",
       "<polygon fill=\"black\" stroke=\"black\" points=\"6847.64,-17.27 6837.6,-20.64 6847.55,-24.27 6847.64,-17.27\"/>\n",
       "<text text-anchor=\"middle\" x=\"7413.48\" y=\"-57.8\" font-family=\"Times,serif\" font-size=\"14.00\">6</text>\n",
       "</g>\n",
       "<!-- 40 -->\n",
       "<g id=\"node6\" class=\"node\">\n",
       "<title>40</title>\n",
       "<ellipse fill=\"none\" stroke=\"black\" cx=\"1272.48\" cy=\"-178\" rx=\"27\" ry=\"18\"/>\n",
       "<text text-anchor=\"middle\" x=\"1272.48\" y=\"-174.3\" font-family=\"Times,serif\" font-size=\"14.00\">40</text>\n",
       "</g>\n",
       "<!-- 40&#45;&gt;close -->\n",
       "<g id=\"edge7\" class=\"edge\">\n",
       "<title>40&#45;&gt;close</title>\n",
       "<path fill=\"none\" stroke=\"black\" d=\"M1283.28,-161.32C1285.01,-160.83 1286.76,-160.38 1288.48,-160 1423.66,-129.95 1461.18,-148.01 1599.48,-141 1925.06,-124.51 2319.51,-110.96 2451.87,-107.1\"/>\n",
       "<polygon fill=\"black\" stroke=\"black\" points=\"2452.15,-110.6 2462.05,-106.81 2451.95,-103.6 2452.15,-110.6\"/>\n",
       "</g>\n",
       "<!-- 40&#45;&gt;close -->\n",
       "<g id=\"edge75\" class=\"edge\">\n",
       "<title>40&#45;&gt;close</title>\n",
       "<path fill=\"none\" stroke=\"black\" d=\"M1290.99,-164.71C1295.95,-162.84 1301.31,-161.15 1306.48,-160 1441.66,-129.95 1479.18,-148.01 1617.48,-141 1936.86,-124.82 2322.51,-111.48 2451.87,-107.34\"/>\n",
       "<polygon fill=\"black\" stroke=\"black\" points=\"2452.28,-110.82 2462.17,-107.01 2452.06,-103.83 2452.28,-110.82\"/>\n",
       "</g>\n",
       "<!-- 40&#45;&gt;close -->\n",
       "<g id=\"edge203\" class=\"edge\">\n",
       "<title>40&#45;&gt;close</title>\n",
       "<path fill=\"none\" stroke=\"black\" d=\"M1296.55,-169.3C1305.38,-165.83 1315.23,-162.06 1324.48,-160 1459.66,-129.95 1497.18,-148.01 1635.48,-141 1948.25,-125.16 2324.58,-112.03 2451.98,-107.6\"/>\n",
       "<polygon fill=\"black\" stroke=\"black\" points=\"2452.25,-111.1 2462.12,-107.25 2452.01,-104.1 2452.25,-111.1\"/>\n",
       "</g>\n",
       "<!-- 40&#45;&gt;close -->\n",
       "<g id=\"edge331\" class=\"edge\">\n",
       "<title>40&#45;&gt;close</title>\n",
       "<path fill=\"none\" stroke=\"black\" d=\"M1298.65,-173.46C1314.74,-169.41 1329.24,-162.94 1342.48,-160 1477.66,-129.95 1515.18,-148.01 1653.48,-141 1959.28,-125.51 2325.83,-112.62 2452.17,-107.91\"/>\n",
       "<polygon fill=\"black\" stroke=\"black\" points=\"2452.39,-111.41 2462.25,-107.54 2452.12,-104.41 2452.39,-111.41\"/>\n",
       "</g>\n",
       "<!-- 40&#45;&gt;open -->\n",
       "<g id=\"edge77\" class=\"edge\">\n",
       "<title>40&#45;&gt;open</title>\n",
       "<path fill=\"none\" stroke=\"black\" d=\"M1287.07,-162.75C1290.47,-161.64 1294.02,-160.69 1297.48,-160 1471.73,-125.38 4307.89,-108.31 4694.13,-106.22\"/>\n",
       "<polygon fill=\"black\" stroke=\"black\" points=\"4694.35,-109.72 4704.33,-106.17 4694.31,-102.72 4694.35,-109.72\"/>\n",
       "</g>\n",
       "<!-- 40&#45;&gt;open -->\n",
       "<g id=\"edge205\" class=\"edge\">\n",
       "<title>40&#45;&gt;open</title>\n",
       "<path fill=\"none\" stroke=\"black\" d=\"M1293.89,-166.78C1300.65,-164.04 1308.24,-161.44 1315.48,-160 1489.23,-125.48 4309.76,-108.41 4694.21,-106.24\"/>\n",
       "<polygon fill=\"black\" stroke=\"black\" points=\"4694.38,-109.74 4704.36,-106.18 4694.34,-102.74 4694.38,-109.74\"/>\n",
       "</g>\n",
       "<!-- 40&#45;&gt;open -->\n",
       "<g id=\"edge333\" class=\"edge\">\n",
       "<title>40&#45;&gt;open</title>\n",
       "<path fill=\"none\" stroke=\"black\" d=\"M1297.77,-171.55C1309.62,-167.49 1321.99,-162.28 1333.48,-160 1506.69,-125.58 4310.22,-108.52 4694.12,-106.26\"/>\n",
       "<polygon fill=\"black\" stroke=\"black\" points=\"4694.29,-109.76 4704.27,-106.2 4694.25,-102.76 4694.29,-109.76\"/>\n",
       "</g>\n",
       "<!-- 80 -->\n",
       "<g id=\"node7\" class=\"node\">\n",
       "<title>80</title>\n",
       "<ellipse fill=\"none\" stroke=\"black\" cx=\"1351.48\" cy=\"-178\" rx=\"27\" ry=\"18\"/>\n",
       "<text text-anchor=\"middle\" x=\"1351.48\" y=\"-174.3\" font-family=\"Times,serif\" font-size=\"14.00\">80</text>\n",
       "</g>\n",
       "<!-- 80&#45;&gt;close -->\n",
       "<g id=\"edge9\" class=\"edge\">\n",
       "<title>80&#45;&gt;close</title>\n",
       "<path fill=\"none\" stroke=\"black\" d=\"M1361.41,-161.07C1362.77,-160.68 1364.13,-160.32 1365.48,-160 1477.34,-133.42 1508.69,-147.6 1623.48,-141 1939.26,-122.84 2321.88,-110.48 2451.92,-107\"/>\n",
       "<polygon fill=\"black\" stroke=\"black\" points=\"2452.02,-110.5 2461.92,-106.74 2451.83,-103.5 2452.02,-110.5\"/>\n",
       "</g>\n",
       "<!-- 80&#45;&gt;close -->\n",
       "<g id=\"edge79\" class=\"edge\">\n",
       "<title>80&#45;&gt;close</title>\n",
       "<path fill=\"none\" stroke=\"black\" d=\"M1369.55,-164.41C1374.03,-162.67 1378.83,-161.1 1383.48,-160 1495.34,-133.42 1526.69,-147.6 1641.48,-141 1951.24,-123.19 2325.3,-110.96 2452.11,-107.21\"/>\n",
       "<polygon fill=\"black\" stroke=\"black\" points=\"2452.32,-110.71 2462.21,-106.91 2452.12,-103.71 2452.32,-110.71\"/>\n",
       "</g>\n",
       "<!-- 80&#45;&gt;close -->\n",
       "<g id=\"edge207\" class=\"edge\">\n",
       "<title>80&#45;&gt;close</title>\n",
       "<path fill=\"none\" stroke=\"black\" d=\"M1375.21,-169.16C1383.55,-165.75 1392.78,-162.07 1401.48,-160 1513.34,-133.42 1544.69,-147.6 1659.48,-141 1962.15,-123.6 2326.22,-111.52 2451.62,-107.48\"/>\n",
       "<polygon fill=\"black\" stroke=\"black\" points=\"2452.08,-110.97 2461.96,-107.15 2451.86,-103.97 2452.08,-110.97\"/>\n",
       "</g>\n",
       "<!-- 80&#45;&gt;close -->\n",
       "<g id=\"edge335\" class=\"edge\">\n",
       "<title>80&#45;&gt;close</title>\n",
       "<path fill=\"none\" stroke=\"black\" d=\"M1377.87,-173.34C1393.33,-169.3 1406.96,-162.97 1419.48,-160 1531.34,-133.42 1562.69,-147.6 1677.48,-141 1973.38,-123.99 2327.96,-112.06 2452.05,-107.76\"/>\n",
       "<polygon fill=\"black\" stroke=\"black\" points=\"2452.43,-111.25 2462.3,-107.41 2452.19,-104.26 2452.43,-111.25\"/>\n",
       "</g>\n",
       "<!-- 80&#45;&gt;open -->\n",
       "<g id=\"edge81\" class=\"edge\">\n",
       "<title>80&#45;&gt;open</title>\n",
       "<path fill=\"none\" stroke=\"black\" d=\"M1365.41,-162.42C1368.38,-161.45 1371.46,-160.61 1374.48,-160 1440.58,-146.58 3735.05,-143.57 3802.48,-142 4145.6,-134 4560.57,-113.97 4694.24,-107.82\"/>\n",
       "<polygon fill=\"black\" stroke=\"black\" points=\"4694.65,-111.31 4704.48,-107.36 4694.33,-104.32 4694.65,-111.31\"/>\n",
       "</g>\n",
       "<!-- 80&#45;&gt;open -->\n",
       "<g id=\"edge209\" class=\"edge\">\n",
       "<title>80&#45;&gt;open</title>\n",
       "<path fill=\"none\" stroke=\"black\" d=\"M1372.69,-166.39C1378.91,-163.78 1385.83,-161.35 1392.48,-160 1458.58,-146.58 3753.05,-143.57 3820.48,-142 4157.39,-134.14 4563.59,-114.69 4694.57,-108.17\"/>\n",
       "<polygon fill=\"black\" stroke=\"black\" points=\"4694.78,-111.66 4704.6,-107.67 4694.43,-104.67 4694.78,-111.66\"/>\n",
       "</g>\n",
       "<!-- 80&#45;&gt;open -->\n",
       "<g id=\"edge337\" class=\"edge\">\n",
       "<title>80&#45;&gt;open</title>\n",
       "<path fill=\"none\" stroke=\"black\" d=\"M1376.71,-171.35C1387.99,-167.31 1399.61,-162.21 1410.48,-160 1476.58,-146.58 3771.05,-143.57 3838.48,-142 4168.08,-134.31 4564,-115.53 4694.15,-108.61\"/>\n",
       "<polygon fill=\"black\" stroke=\"black\" points=\"4694.69,-112.09 4704.49,-108.06 4694.32,-105.1 4694.69,-112.09\"/>\n",
       "</g>\n",
       "<!-- 120 -->\n",
       "<g id=\"node8\" class=\"node\">\n",
       "<title>120</title>\n",
       "<ellipse fill=\"none\" stroke=\"black\" cx=\"1430.48\" cy=\"-178\" rx=\"28.7\" ry=\"18\"/>\n",
       "<text text-anchor=\"middle\" x=\"1430.48\" y=\"-174.3\" font-family=\"Times,serif\" font-size=\"14.00\">120</text>\n",
       "</g>\n",
       "<!-- 120&#45;&gt;close -->\n",
       "<g id=\"edge11\" class=\"edge\">\n",
       "<title>120&#45;&gt;close</title>\n",
       "<path fill=\"none\" stroke=\"black\" d=\"M1440.42,-161.11C1441.78,-160.71 1443.13,-160.34 1444.48,-160 1530.69,-138.53 1554.84,-147.11 1643.48,-141 1950.93,-119.82 2323.71,-109.55 2451.88,-106.79\"/>\n",
       "<polygon fill=\"black\" stroke=\"black\" points=\"2452.18,-110.28 2462.1,-106.57 2452.03,-103.28 2452.18,-110.28\"/>\n",
       "</g>\n",
       "<!-- 120&#45;&gt;close -->\n",
       "<g id=\"edge83\" class=\"edge\">\n",
       "<title>120&#45;&gt;close</title>\n",
       "<path fill=\"none\" stroke=\"black\" d=\"M1449.44,-164.16C1453.67,-162.54 1458.14,-161.08 1462.48,-160 1548.69,-138.53 1572.84,-147.11 1661.48,-141 1962.71,-120.25 2326.65,-109.97 2451.81,-106.96\"/>\n",
       "<polygon fill=\"black\" stroke=\"black\" points=\"2452.23,-110.45 2462.14,-106.72 2452.06,-103.46 2452.23,-110.45\"/>\n",
       "</g>\n",
       "<!-- 120&#45;&gt;close -->\n",
       "<g id=\"edge211\" class=\"edge\">\n",
       "<title>120&#45;&gt;close</title>\n",
       "<path fill=\"none\" stroke=\"black\" d=\"M1455.54,-168.72C1463.53,-165.48 1472.26,-162.05 1480.48,-160 1566.69,-138.53 1590.84,-147.11 1679.48,-141 1974.1,-120.71 2328.71,-110.43 2451.89,-107.17\"/>\n",
       "<polygon fill=\"black\" stroke=\"black\" points=\"2452.15,-110.66 2462.06,-106.9 2451.97,-103.67 2452.15,-110.66\"/>\n",
       "</g>\n",
       "<!-- 120&#45;&gt;close -->\n",
       "<g id=\"edge339\" class=\"edge\">\n",
       "<title>120&#45;&gt;close</title>\n",
       "<path fill=\"none\" stroke=\"black\" d=\"M1458.26,-173.03C1473.17,-169.02 1486.37,-163.02 1498.48,-160 1584.69,-138.53 1608.84,-147.11 1697.48,-141 1985.15,-121.19 2329.99,-110.92 2452.08,-107.41\"/>\n",
       "<polygon fill=\"black\" stroke=\"black\" points=\"2452.28,-110.91 2462.18,-107.12 2452.08,-103.91 2452.28,-110.91\"/>\n",
       "</g>\n",
       "<!-- 120&#45;&gt;open -->\n",
       "<g id=\"edge85\" class=\"edge\">\n",
       "<title>120&#45;&gt;open</title>\n",
       "<path fill=\"none\" stroke=\"black\" d=\"M1444.85,-162.28C1447.69,-161.37 1450.61,-160.58 1453.48,-160 1584.7,-133.37 3729.63,-145.31 3863.48,-142 4181.67,-134.12 4566,-114.26 4694.1,-107.95\"/>\n",
       "<polygon fill=\"black\" stroke=\"black\" points=\"4694.47,-111.44 4704.29,-107.46 4694.13,-104.45 4694.47,-111.44\"/>\n",
       "</g>\n",
       "<!-- 120&#45;&gt;open -->\n",
       "<g id=\"edge213\" class=\"edge\">\n",
       "<title>120&#45;&gt;open</title>\n",
       "<path fill=\"none\" stroke=\"black\" d=\"M1452.12,-166.21C1458.23,-163.67 1464.99,-161.32 1471.48,-160 1602.7,-133.37 3747.63,-145.31 3881.48,-142 4193.21,-134.28 4568.42,-115.06 4694.1,-108.36\"/>\n",
       "<polygon fill=\"black\" stroke=\"black\" points=\"4694.65,-111.83 4704.44,-107.8 4694.27,-104.84 4694.65,-111.83\"/>\n",
       "</g>\n",
       "<!-- 120&#45;&gt;open -->\n",
       "<g id=\"edge341\" class=\"edge\">\n",
       "<title>120&#45;&gt;open</title>\n",
       "<path fill=\"none\" stroke=\"black\" d=\"M1457.12,-170.84C1467.96,-166.89 1479.06,-162.12 1489.48,-160 1620.7,-133.37 3765.63,-145.31 3899.48,-142 4204.71,-134.44 4570.8,-115.86 4694.63,-108.79\"/>\n",
       "<polygon fill=\"black\" stroke=\"black\" points=\"4695.05,-112.27 4704.84,-108.2 4694.65,-105.28 4695.05,-112.27\"/>\n",
       "</g>\n",
       "<!-- 160 -->\n",
       "<g id=\"node9\" class=\"node\">\n",
       "<title>160</title>\n",
       "<ellipse fill=\"none\" stroke=\"black\" cx=\"1509.48\" cy=\"-178\" rx=\"28.7\" ry=\"18\"/>\n",
       "<text text-anchor=\"middle\" x=\"1509.48\" y=\"-174.3\" font-family=\"Times,serif\" font-size=\"14.00\">160</text>\n",
       "</g>\n",
       "<!-- 160&#45;&gt;close -->\n",
       "<g id=\"edge13\" class=\"edge\">\n",
       "<title>160&#45;&gt;close</title>\n",
       "<path fill=\"none\" stroke=\"black\" d=\"M1519.4,-161.04C1520.76,-160.66 1522.13,-160.31 1523.48,-160 1701.76,-119.19 2284.03,-108.53 2451.69,-106.44\"/>\n",
       "<polygon fill=\"black\" stroke=\"black\" points=\"2451.94,-109.94 2461.9,-106.31 2451.85,-102.94 2451.94,-109.94\"/>\n",
       "</g>\n",
       "<!-- 160&#45;&gt;close -->\n",
       "<g id=\"edge87\" class=\"edge\">\n",
       "<title>160&#45;&gt;close</title>\n",
       "<path fill=\"none\" stroke=\"black\" d=\"M1527.97,-164.18C1532.33,-162.51 1536.97,-161.03 1541.48,-160 1717.42,-119.73 2286.79,-108.82 2451.53,-106.53\"/>\n",
       "<polygon fill=\"black\" stroke=\"black\" points=\"2451.83,-110.02 2461.78,-106.39 2451.74,-103.02 2451.83,-110.02\"/>\n",
       "</g>\n",
       "<!-- 160&#45;&gt;close -->\n",
       "<g id=\"edge215\" class=\"edge\">\n",
       "<title>160&#45;&gt;close</title>\n",
       "<path fill=\"none\" stroke=\"black\" d=\"M1534.07,-168.74C1542.17,-165.42 1551.07,-161.93 1559.48,-160 1733.06,-120.26 2289.62,-109.12 2451.81,-106.62\"/>\n",
       "<polygon fill=\"black\" stroke=\"black\" points=\"2451.97,-110.12 2461.92,-106.47 2451.86,-103.12 2451.97,-110.12\"/>\n",
       "</g>\n",
       "<!-- 160&#45;&gt;close -->\n",
       "<g id=\"edge343\" class=\"edge\">\n",
       "<title>160&#45;&gt;close</title>\n",
       "<path fill=\"none\" stroke=\"black\" d=\"M1536.96,-173.01C1551.96,-168.93 1565.24,-162.8 1577.48,-160 1748.51,-120.85 2291.35,-109.45 2452,-106.74\"/>\n",
       "<polygon fill=\"black\" stroke=\"black\" points=\"2452.08,-110.24 2462.02,-106.57 2451.96,-103.24 2452.08,-110.24\"/>\n",
       "</g>\n",
       "<!-- 160&#45;&gt;open -->\n",
       "<g id=\"edge89\" class=\"edge\">\n",
       "<title>160&#45;&gt;open</title>\n",
       "<path fill=\"none\" stroke=\"black\" d=\"M1523.85,-162.28C1526.69,-161.37 1529.61,-160.58 1532.48,-160 1662.72,-133.56 3791.63,-145.51 3924.48,-142 4218.05,-134.25 4572.18,-114.55 4694.23,-108.09\"/>\n",
       "<polygon fill=\"black\" stroke=\"black\" points=\"4694.5,-111.58 4704.3,-107.56 4694.13,-104.59 4694.5,-111.58\"/>\n",
       "</g>\n",
       "<!-- 160&#45;&gt;open -->\n",
       "<g id=\"edge217\" class=\"edge\">\n",
       "<title>160&#45;&gt;open</title>\n",
       "<path fill=\"none\" stroke=\"black\" d=\"M1531.12,-166.21C1537.23,-163.67 1543.99,-161.32 1550.48,-160 1680.72,-133.56 3809.63,-145.51 3942.48,-142 4229.72,-134.42 4574.94,-115.4 4694.37,-108.53\"/>\n",
       "<polygon fill=\"black\" stroke=\"black\" points=\"4694.77,-112.01 4704.55,-107.94 4694.37,-105.02 4694.77,-112.01\"/>\n",
       "</g>\n",
       "<!-- 160&#45;&gt;open -->\n",
       "<g id=\"edge345\" class=\"edge\">\n",
       "<title>160&#45;&gt;open</title>\n",
       "<path fill=\"none\" stroke=\"black\" d=\"M1536.12,-170.84C1546.96,-166.89 1558.06,-162.12 1568.48,-160 1698.72,-133.56 3827.63,-145.51 3960.48,-142 4241.02,-134.6 4576.86,-116.28 4694.65,-109.03\"/>\n",
       "<polygon fill=\"black\" stroke=\"black\" points=\"4694.95,-112.51 4704.71,-108.4 4694.51,-105.53 4694.95,-112.51\"/>\n",
       "</g>\n",
       "<!-- 200 -->\n",
       "<g id=\"node10\" class=\"node\">\n",
       "<title>200</title>\n",
       "<ellipse fill=\"none\" stroke=\"black\" cx=\"1588.48\" cy=\"-178\" rx=\"28.7\" ry=\"18\"/>\n",
       "<text text-anchor=\"middle\" x=\"1588.48\" y=\"-174.3\" font-family=\"Times,serif\" font-size=\"14.00\">200</text>\n",
       "</g>\n",
       "<!-- 200&#45;&gt;close -->\n",
       "<g id=\"edge15\" class=\"edge\">\n",
       "<title>200&#45;&gt;close</title>\n",
       "<path fill=\"none\" stroke=\"black\" d=\"M1598.41,-161.06C1599.77,-160.67 1601.13,-160.31 1602.48,-160 1729.14,-130.48 1764.69,-149.17 1894.48,-141 2101.5,-127.96 2350.51,-113.08 2451.93,-107.9\"/>\n",
       "<polygon fill=\"black\" stroke=\"black\" points=\"2452.33,-111.38 2462.14,-107.38 2451.98,-104.39 2452.33,-111.38\"/>\n",
       "</g>\n",
       "<!-- 200&#45;&gt;close -->\n",
       "<g id=\"edge91\" class=\"edge\">\n",
       "<title>200&#45;&gt;close</title>\n",
       "<path fill=\"none\" stroke=\"black\" d=\"M1606.98,-164.21C1611.33,-162.54 1615.98,-161.05 1620.48,-160 1747.14,-130.48 1782.69,-149.17 1912.48,-141 2113.76,-128.33 2354.72,-113.9 2452.35,-108.35\"/>\n",
       "<polygon fill=\"black\" stroke=\"black\" points=\"2452.66,-111.84 2462.45,-107.78 2452.26,-104.85 2452.66,-111.84\"/>\n",
       "</g>\n",
       "<!-- 200&#45;&gt;close -->\n",
       "<g id=\"edge219\" class=\"edge\">\n",
       "<title>200&#45;&gt;close</title>\n",
       "<path fill=\"none\" stroke=\"black\" d=\"M1613.07,-168.77C1621.18,-165.46 1630.08,-161.96 1638.48,-160 1765.14,-130.48 1800.69,-149.17 1930.48,-141 2125.06,-128.75 2356.72,-114.86 2452.19,-108.93\"/>\n",
       "<polygon fill=\"black\" stroke=\"black\" points=\"2452.58,-112.41 2462.34,-108.3 2452.14,-105.43 2452.58,-112.41\"/>\n",
       "</g>\n",
       "<!-- 200&#45;&gt;close -->\n",
       "<g id=\"edge347\" class=\"edge\">\n",
       "<title>200&#45;&gt;close</title>\n",
       "<path fill=\"none\" stroke=\"black\" d=\"M1615.97,-173.03C1630.97,-168.96 1644.25,-162.85 1656.48,-160 1783.14,-130.48 1818.69,-149.17 1948.48,-141 2136.32,-129.17 2358.73,-115.82 2452.64,-109.58\"/>\n",
       "<polygon fill=\"black\" stroke=\"black\" points=\"2452.91,-113.07 2462.65,-108.9 2452.44,-106.08 2452.91,-113.07\"/>\n",
       "</g>\n",
       "<!-- 200&#45;&gt;open -->\n",
       "<g id=\"edge93\" class=\"edge\">\n",
       "<title>200&#45;&gt;open</title>\n",
       "<path fill=\"none\" stroke=\"black\" d=\"M1602.85,-162.28C1605.69,-161.37 1608.61,-160.58 1611.48,-160 1740.74,-133.76 3853.64,-145.73 3985.48,-142 4254.47,-134.39 4578.46,-114.88 4694.3,-108.25\"/>\n",
       "<polygon fill=\"black\" stroke=\"black\" points=\"4694.75,-111.73 4704.53,-107.67 4694.35,-104.74 4694.75,-111.73\"/>\n",
       "</g>\n",
       "<!-- 200&#45;&gt;open -->\n",
       "<g id=\"edge221\" class=\"edge\">\n",
       "<title>200&#45;&gt;open</title>\n",
       "<path fill=\"none\" stroke=\"black\" d=\"M1610.12,-166.21C1616.23,-163.67 1622.99,-161.32 1629.48,-160 1758.74,-133.76 3871.64,-145.73 4003.48,-142 4266.28,-134.56 4581.59,-115.77 4694.59,-108.73\"/>\n",
       "<polygon fill=\"black\" stroke=\"black\" points=\"4694.82,-112.22 4704.58,-108.1 4694.38,-105.23 4694.82,-112.22\"/>\n",
       "</g>\n",
       "<!-- 200&#45;&gt;open -->\n",
       "<g id=\"edge349\" class=\"edge\">\n",
       "<title>200&#45;&gt;open</title>\n",
       "<path fill=\"none\" stroke=\"black\" d=\"M1615.12,-170.84C1625.96,-166.89 1637.06,-162.12 1647.48,-160 1776.74,-133.76 3889.64,-145.73 4021.48,-142 4277.53,-134.75 4583.43,-116.73 4694.81,-109.29\"/>\n",
       "<polygon fill=\"black\" stroke=\"black\" points=\"4695.23,-112.77 4704.97,-108.61 4694.76,-105.79 4695.23,-112.77\"/>\n",
       "</g>\n",
       "<!-- 240 -->\n",
       "<g id=\"node11\" class=\"node\">\n",
       "<title>240</title>\n",
       "<ellipse fill=\"none\" stroke=\"black\" cx=\"1667.48\" cy=\"-178\" rx=\"28.7\" ry=\"18\"/>\n",
       "<text text-anchor=\"middle\" x=\"1667.48\" y=\"-174.3\" font-family=\"Times,serif\" font-size=\"14.00\">240</text>\n",
       "</g>\n",
       "<!-- 240&#45;&gt;close -->\n",
       "<g id=\"edge17\" class=\"edge\">\n",
       "<title>240&#45;&gt;close</title>\n",
       "<path fill=\"none\" stroke=\"black\" d=\"M1677.42,-161.09C1678.77,-160.69 1680.13,-160.33 1681.48,-160 1780.73,-135.93 1808.62,-148.41 1910.48,-141 2111.16,-126.39 2352.65,-112.53 2452.11,-107.76\"/>\n",
       "<polygon fill=\"black\" stroke=\"black\" points=\"2452.31,-111.25 2462.13,-107.28 2451.98,-104.26 2452.31,-111.25\"/>\n",
       "</g>\n",
       "<!-- 240&#45;&gt;close -->\n",
       "<g id=\"edge95\" class=\"edge\">\n",
       "<title>240&#45;&gt;close</title>\n",
       "<path fill=\"none\" stroke=\"black\" d=\"M1685.99,-164.28C1690.35,-162.6 1694.99,-161.09 1699.48,-160 1798.73,-135.93 1826.62,-148.41 1928.48,-141 2123.15,-126.83 2356.21,-113.36 2452.12,-108.21\"/>\n",
       "<polygon fill=\"black\" stroke=\"black\" points=\"2452.52,-111.69 2462.32,-107.66 2452.14,-104.7 2452.52,-111.69\"/>\n",
       "</g>\n",
       "<!-- 240&#45;&gt;close -->\n",
       "<g id=\"edge223\" class=\"edge\">\n",
       "<title>240&#45;&gt;close</title>\n",
       "<path fill=\"none\" stroke=\"black\" d=\"M1692.52,-168.67C1700.51,-165.42 1709.24,-162 1717.48,-160 1816.73,-135.93 1844.62,-148.41 1946.48,-141 2134.65,-127.3 2358.69,-114.26 2452.22,-108.75\"/>\n",
       "<polygon fill=\"black\" stroke=\"black\" points=\"2452.67,-112.23 2462.44,-108.15 2452.25,-105.24 2452.67,-112.23\"/>\n",
       "</g>\n",
       "<!-- 240&#45;&gt;close -->\n",
       "<g id=\"edge351\" class=\"edge\">\n",
       "<title>240&#45;&gt;close</title>\n",
       "<path fill=\"none\" stroke=\"black\" d=\"M1695.26,-173C1710.15,-168.97 1723.35,-162.94 1735.48,-160 1834.73,-135.93 1862.62,-148.41 1964.48,-141 2145.88,-127.8 2360.61,-115.2 2452.61,-109.38\"/>\n",
       "<polygon fill=\"black\" stroke=\"black\" points=\"2452.93,-112.86 2462.69,-108.73 2452.48,-105.88 2452.93,-112.86\"/>\n",
       "</g>\n",
       "<!-- 280 -->\n",
       "<g id=\"node12\" class=\"node\">\n",
       "<title>280</title>\n",
       "<ellipse fill=\"none\" stroke=\"black\" cx=\"1746.48\" cy=\"-178\" rx=\"28.7\" ry=\"18\"/>\n",
       "<text text-anchor=\"middle\" x=\"1746.48\" y=\"-174.3\" font-family=\"Times,serif\" font-size=\"14.00\">280</text>\n",
       "</g>\n",
       "<!-- 280&#45;&gt;close -->\n",
       "<g id=\"edge19\" class=\"edge\">\n",
       "<title>280&#45;&gt;close</title>\n",
       "<path fill=\"none\" stroke=\"black\" d=\"M1756.88,-161.01C1758.08,-160.65 1759.29,-160.31 1760.48,-160 1831.07,-141.63 1850.84,-147.56 1923.48,-141 2118.58,-123.39 2353.69,-111.44 2451.84,-107.46\"/>\n",
       "<polygon fill=\"black\" stroke=\"black\" points=\"2452.16,-110.95 2462.01,-107.05 2451.88,-103.95 2452.16,-110.95\"/>\n",
       "</g>\n",
       "<!-- 280&#45;&gt;close -->\n",
       "<g id=\"edge97\" class=\"edge\">\n",
       "<title>280&#45;&gt;close</title>\n",
       "<path fill=\"none\" stroke=\"black\" d=\"M1765.46,-164.24C1769.69,-162.61 1774.16,-161.13 1778.48,-160 1849.07,-141.63 1868.84,-147.56 1941.48,-141 2130.69,-123.92 2357.51,-112.17 2451.99,-107.84\"/>\n",
       "<polygon fill=\"black\" stroke=\"black\" points=\"2452.21,-111.33 2462.04,-107.38 2451.9,-104.34 2452.21,-111.33\"/>\n",
       "</g>\n",
       "<!-- 280&#45;&gt;close -->\n",
       "<g id=\"edge225\" class=\"edge\">\n",
       "<title>280&#45;&gt;close</title>\n",
       "<path fill=\"none\" stroke=\"black\" d=\"M1771.56,-168.8C1779.55,-165.57 1788.28,-162.13 1796.48,-160 1867.07,-141.63 1886.84,-147.56 1959.48,-141 2142.35,-124.49 2360.35,-112.96 2452.3,-108.3\"/>\n",
       "<polygon fill=\"black\" stroke=\"black\" points=\"2452.55,-111.79 2462.36,-107.79 2452.2,-104.8 2452.55,-111.79\"/>\n",
       "</g>\n",
       "<!-- 280&#45;&gt;close -->\n",
       "<g id=\"edge353\" class=\"edge\">\n",
       "<title>280&#45;&gt;close</title>\n",
       "<path fill=\"none\" stroke=\"black\" d=\"M1774.28,-173.08C1789.19,-169.12 1802.4,-163.14 1814.48,-160 1885.07,-141.63 1904.84,-147.56 1977.48,-141 2153.34,-125.13 2361.69,-113.85 2452.29,-108.87\"/>\n",
       "<polygon fill=\"black\" stroke=\"black\" points=\"2452.69,-112.35 2462.49,-108.3 2452.31,-105.36 2452.69,-112.35\"/>\n",
       "</g>\n",
       "<!-- 280&#45;&gt;open -->\n",
       "<g id=\"edge99\" class=\"edge\">\n",
       "<title>280&#45;&gt;open</title>\n",
       "<path fill=\"none\" stroke=\"black\" d=\"M1760.85,-162.28C1763.69,-161.37 1766.61,-160.58 1769.48,-160 1893.45,-134.81 3920.04,-145.88 4046.48,-142 4290.96,-134.5 4584.91,-115.24 4694.33,-108.43\"/>\n",
       "<polygon fill=\"black\" stroke=\"black\" points=\"4694.87,-111.91 4704.64,-107.79 4694.44,-104.92 4694.87,-111.91\"/>\n",
       "</g>\n",
       "<!-- 280&#45;&gt;open -->\n",
       "<g id=\"edge227\" class=\"edge\">\n",
       "<title>280&#45;&gt;open</title>\n",
       "<path fill=\"none\" stroke=\"black\" d=\"M1768.12,-166.21C1774.23,-163.67 1780.99,-161.32 1787.48,-160 1911.45,-134.81 3938.04,-145.88 4064.48,-142 4302.73,-134.69 4587.97,-116.22 4694.55,-108.98\"/>\n",
       "<polygon fill=\"black\" stroke=\"black\" points=\"4694.85,-112.46 4704.59,-108.29 4694.37,-105.48 4694.85,-112.46\"/>\n",
       "</g>\n",
       "<!-- 280&#45;&gt;open -->\n",
       "<g id=\"edge355\" class=\"edge\">\n",
       "<title>280&#45;&gt;open</title>\n",
       "<path fill=\"none\" stroke=\"black\" d=\"M1773.12,-170.84C1783.96,-166.89 1795.06,-162.12 1805.48,-160 1929.45,-134.81 3956.04,-145.88 4082.48,-142 4313.99,-134.9 4589.87,-117.25 4694.75,-109.62\"/>\n",
       "<polygon fill=\"black\" stroke=\"black\" points=\"4695.23,-113.09 4704.94,-108.87 4694.71,-106.11 4695.23,-113.09\"/>\n",
       "</g>\n",
       "<!-- 320 -->\n",
       "<g id=\"node13\" class=\"node\">\n",
       "<title>320</title>\n",
       "<ellipse fill=\"none\" stroke=\"black\" cx=\"1825.48\" cy=\"-178\" rx=\"28.7\" ry=\"18\"/>\n",
       "<text text-anchor=\"middle\" x=\"1825.48\" y=\"-174.3\" font-family=\"Times,serif\" font-size=\"14.00\">320</text>\n",
       "</g>\n",
       "<!-- 320&#45;&gt;close -->\n",
       "<g id=\"edge21\" class=\"edge\">\n",
       "<title>320&#45;&gt;close</title>\n",
       "<path fill=\"none\" stroke=\"black\" d=\"M1835.42,-161.09C1836.77,-160.7 1838.13,-160.33 1839.48,-160 2062.93,-105.49 2342.63,-104.03 2451.62,-105.3\"/>\n",
       "<polygon fill=\"black\" stroke=\"black\" points=\"2451.89,-108.81 2461.93,-105.44 2451.98,-101.81 2451.89,-108.81\"/>\n",
       "</g>\n",
       "<!-- 320&#45;&gt;close -->\n",
       "<g id=\"edge101\" class=\"edge\">\n",
       "<title>320&#45;&gt;close</title>\n",
       "<path fill=\"none\" stroke=\"black\" d=\"M1844.43,-164.12C1848.66,-162.51 1853.14,-161.06 1857.48,-160 2075.04,-106.93 2345.91,-104.15 2451.53,-105.21\"/>\n",
       "<polygon fill=\"black\" stroke=\"black\" points=\"2451.78,-108.71 2461.82,-105.33 2451.87,-101.71 2451.78,-108.71\"/>\n",
       "</g>\n",
       "<!-- 320&#45;&gt;close -->\n",
       "<g id=\"edge229\" class=\"edge\">\n",
       "<title>320&#45;&gt;close</title>\n",
       "<path fill=\"none\" stroke=\"black\" d=\"M1850.53,-168.68C1858.52,-165.43 1867.25,-162.01 1875.48,-160 2086.85,-108.44 2348.54,-104.35 2451.77,-105.13\"/>\n",
       "<polygon fill=\"black\" stroke=\"black\" points=\"2451.81,-108.63 2461.84,-105.23 2451.88,-101.63 2451.81,-108.63\"/>\n",
       "</g>\n",
       "<!-- 320&#45;&gt;close -->\n",
       "<g id=\"edge357\" class=\"edge\">\n",
       "<title>320&#45;&gt;close</title>\n",
       "<path fill=\"none\" stroke=\"black\" d=\"M1853.26,-173C1868.16,-168.98 1881.35,-162.96 1893.48,-160 2097.94,-110.12 2349.49,-104.66 2451.59,-105.07\"/>\n",
       "<polygon fill=\"black\" stroke=\"black\" points=\"2451.84,-108.57 2461.86,-105.13 2451.88,-101.57 2451.84,-108.57\"/>\n",
       "</g>\n",
       "<!-- 320&#45;&gt;open -->\n",
       "<g id=\"edge103\" class=\"edge\">\n",
       "<title>320&#45;&gt;open</title>\n",
       "<path fill=\"none\" stroke=\"black\" d=\"M1839.85,-162.28C1842.69,-161.37 1845.61,-160.58 1848.48,-160 1971.47,-135 3982.05,-146.19 4107.48,-142 4327.6,-134.65 4591.73,-115.66 4694.41,-108.65\"/>\n",
       "<polygon fill=\"black\" stroke=\"black\" points=\"4694.95,-112.12 4704.69,-107.95 4694.48,-105.14 4694.95,-112.12\"/>\n",
       "</g>\n",
       "<!-- 320&#45;&gt;open -->\n",
       "<g id=\"edge231\" class=\"edge\">\n",
       "<title>320&#45;&gt;open</title>\n",
       "<path fill=\"none\" stroke=\"black\" d=\"M1847.12,-166.21C1853.23,-163.67 1859.99,-161.32 1866.48,-160 1989.47,-135 4000.05,-146.19 4125.48,-142 4339.43,-134.86 4594.97,-116.72 4694.68,-109.27\"/>\n",
       "<polygon fill=\"black\" stroke=\"black\" points=\"4694.96,-112.76 4704.67,-108.52 4694.43,-105.78 4694.96,-112.76\"/>\n",
       "</g>\n",
       "<!-- 320&#45;&gt;open -->\n",
       "<g id=\"edge359\" class=\"edge\">\n",
       "<title>320&#45;&gt;open</title>\n",
       "<path fill=\"none\" stroke=\"black\" d=\"M1852.12,-170.84C1862.96,-166.89 1874.06,-162.12 1884.48,-160 2007.47,-135 4018.05,-146.19 4143.48,-142 4350.8,-135.08 4597.17,-117.83 4695.02,-109.99\"/>\n",
       "<polygon fill=\"black\" stroke=\"black\" points=\"4695.43,-113.47 4705.12,-109.17 4694.87,-106.49 4695.43,-113.47\"/>\n",
       "</g>\n",
       "<!-- 360 -->\n",
       "<g id=\"node14\" class=\"node\">\n",
       "<title>360</title>\n",
       "<ellipse fill=\"none\" stroke=\"black\" cx=\"1904.48\" cy=\"-178\" rx=\"28.7\" ry=\"18\"/>\n",
       "<text text-anchor=\"middle\" x=\"1904.48\" y=\"-174.3\" font-family=\"Times,serif\" font-size=\"14.00\">360</text>\n",
       "</g>\n",
       "<!-- 360&#45;&gt;close -->\n",
       "<g id=\"edge23\" class=\"edge\">\n",
       "<title>360&#45;&gt;close</title>\n",
       "<path fill=\"none\" stroke=\"black\" d=\"M1914.88,-161.02C1916.08,-160.65 1917.29,-160.31 1918.48,-160 1986.46,-142.15 2005.58,-148.33 2075.48,-141 2211.27,-126.76 2373.79,-113.53 2452.27,-108.33\"/>\n",
       "<polygon fill=\"black\" stroke=\"black\" points=\"2452.57,-111.81 2462.32,-107.68 2452.11,-104.83 2452.57,-111.81\"/>\n",
       "</g>\n",
       "<!-- 360&#45;&gt;close -->\n",
       "<g id=\"edge105\" class=\"edge\">\n",
       "<title>360&#45;&gt;close</title>\n",
       "<path fill=\"none\" stroke=\"black\" d=\"M1923.47,-164.26C1927.69,-162.63 1932.16,-161.13 1936.48,-160 2004.46,-142.15 2023.58,-148.33 2093.48,-141 2223.35,-127.38 2377.66,-114.68 2452.15,-109.05\"/>\n",
       "<polygon fill=\"black\" stroke=\"black\" points=\"2452.84,-112.51 2462.55,-108.27 2452.31,-105.53 2452.84,-112.51\"/>\n",
       "</g>\n",
       "<!-- 360&#45;&gt;close -->\n",
       "<g id=\"edge233\" class=\"edge\">\n",
       "<title>360&#45;&gt;close</title>\n",
       "<path fill=\"none\" stroke=\"black\" d=\"M1929.56,-168.82C1937.56,-165.59 1946.28,-162.15 1954.48,-160 2022.46,-142.15 2041.58,-148.33 2111.48,-141 2235.33,-128.01 2381.41,-115.86 2452.89,-109.88\"/>\n",
       "<polygon fill=\"black\" stroke=\"black\" points=\"2453.21,-113.37 2462.88,-109.04 2452.62,-106.39 2453.21,-113.37\"/>\n",
       "</g>\n",
       "<!-- 360&#45;&gt;close -->\n",
       "<g id=\"edge361\" class=\"edge\">\n",
       "<title>360&#45;&gt;close</title>\n",
       "<path fill=\"none\" stroke=\"black\" d=\"M1932.28,-173.09C1947.2,-169.14 1960.41,-163.17 1972.48,-160 2040.46,-142.15 2059.58,-148.33 2129.48,-141 2246.58,-128.72 2383.55,-117.19 2453.14,-110.91\"/>\n",
       "<polygon fill=\"black\" stroke=\"black\" points=\"2453.67,-114.38 2463.32,-109.99 2453.04,-107.41 2453.67,-114.38\"/>\n",
       "</g>\n",
       "<!-- 360&#45;&gt;open -->\n",
       "<g id=\"edge107\" class=\"edge\">\n",
       "<title>360&#45;&gt;open</title>\n",
       "<path fill=\"none\" stroke=\"black\" d=\"M1918.85,-162.28C1921.69,-161.37 1924.61,-160.58 1927.48,-160 2049.49,-135.2 4044.06,-146.56 4168.48,-142 4364.47,-134.82 4599.1,-116.12 4694.63,-108.9\"/>\n",
       "<polygon fill=\"black\" stroke=\"black\" points=\"4695.07,-112.38 4704.78,-108.14 4694.54,-105.4 4695.07,-112.38\"/>\n",
       "</g>\n",
       "<!-- 360&#45;&gt;open -->\n",
       "<g id=\"edge235\" class=\"edge\">\n",
       "<title>360&#45;&gt;open</title>\n",
       "<path fill=\"none\" stroke=\"black\" d=\"M1926.12,-166.21C1932.23,-163.67 1938.99,-161.32 1945.48,-160 2067.49,-135.2 4062.06,-146.56 4186.48,-142 4376.27,-135.04 4602.3,-117.29 4694.82,-109.62\"/>\n",
       "<polygon fill=\"black\" stroke=\"black\" points=\"4695.23,-113.1 4704.91,-108.78 4694.65,-106.12 4695.23,-113.1\"/>\n",
       "</g>\n",
       "<!-- 360&#45;&gt;open -->\n",
       "<g id=\"edge363\" class=\"edge\">\n",
       "<title>360&#45;&gt;open</title>\n",
       "<path fill=\"none\" stroke=\"black\" d=\"M1931.12,-170.84C1941.96,-166.89 1953.06,-162.12 1963.48,-160 2085.49,-135.2 4080.06,-146.56 4204.48,-142 4387.63,-135.29 4604.53,-118.52 4695.12,-110.46\"/>\n",
       "<polygon fill=\"black\" stroke=\"black\" points=\"4695.63,-113.93 4705.28,-109.55 4695.01,-106.96 4695.63,-113.93\"/>\n",
       "</g>\n",
       "<!-- 400 -->\n",
       "<g id=\"node15\" class=\"node\">\n",
       "<title>400</title>\n",
       "<ellipse fill=\"none\" stroke=\"black\" cx=\"1983.48\" cy=\"-178\" rx=\"28.7\" ry=\"18\"/>\n",
       "<text text-anchor=\"middle\" x=\"1983.48\" y=\"-174.3\" font-family=\"Times,serif\" font-size=\"14.00\">400</text>\n",
       "</g>\n",
       "<!-- 400&#45;&gt;close -->\n",
       "<g id=\"edge25\" class=\"edge\">\n",
       "<title>400&#45;&gt;close</title>\n",
       "<path fill=\"none\" stroke=\"black\" d=\"M1993.88,-161.02C1995.09,-160.66 1996.29,-160.31 1997.48,-160 2159.54,-117.25 2361.71,-108.34 2451.72,-106.49\"/>\n",
       "<polygon fill=\"black\" stroke=\"black\" points=\"2451.94,-109.99 2461.87,-106.3 2451.81,-102.99 2451.94,-109.99\"/>\n",
       "</g>\n",
       "<!-- 400&#45;&gt;close -->\n",
       "<g id=\"edge109\" class=\"edge\">\n",
       "<title>400&#45;&gt;close</title>\n",
       "<path fill=\"none\" stroke=\"black\" d=\"M2002.47,-164.27C2006.69,-162.64 2011.16,-161.14 2015.48,-160 2171.85,-118.75 2365.57,-109.01 2451.74,-106.71\"/>\n",
       "<polygon fill=\"black\" stroke=\"black\" points=\"2452.04,-110.2 2461.96,-106.46 2451.87,-103.21 2452.04,-110.2\"/>\n",
       "</g>\n",
       "<!-- 400&#45;&gt;close -->\n",
       "<g id=\"edge237\" class=\"edge\">\n",
       "<title>400&#45;&gt;close</title>\n",
       "<path fill=\"none\" stroke=\"black\" d=\"M2008.56,-168.83C2016.56,-165.6 2025.28,-162.16 2033.48,-160 2183.76,-120.36 2368.55,-109.82 2452.02,-107.01\"/>\n",
       "<polygon fill=\"black\" stroke=\"black\" points=\"2452.28,-110.51 2462.17,-106.7 2452.06,-103.51 2452.28,-110.51\"/>\n",
       "</g>\n",
       "<!-- 400&#45;&gt;close -->\n",
       "<g id=\"edge365\" class=\"edge\">\n",
       "<title>400&#45;&gt;close</title>\n",
       "<path fill=\"none\" stroke=\"black\" d=\"M2011.28,-173.09C2026.2,-169.15 2039.41,-163.18 2051.48,-160 2194.93,-122.16 2369.8,-110.84 2451.77,-107.45\"/>\n",
       "<polygon fill=\"black\" stroke=\"black\" points=\"2452.15,-110.94 2462,-107.05 2451.87,-103.94 2452.15,-110.94\"/>\n",
       "</g>\n",
       "<!-- 400&#45;&gt;open -->\n",
       "<g id=\"edge111\" class=\"edge\">\n",
       "<title>400&#45;&gt;open</title>\n",
       "<path fill=\"none\" stroke=\"black\" d=\"M1997.85,-162.28C2000.69,-161.37 2003.61,-160.58 2006.48,-160 2127.51,-135.39 4106.08,-147.03 4229.48,-142 4401.26,-135 4606.29,-116.71 4694.51,-109.24\"/>\n",
       "<polygon fill=\"black\" stroke=\"black\" points=\"4695.01,-112.71 4704.68,-108.39 4694.43,-105.74 4695.01,-112.71\"/>\n",
       "</g>\n",
       "<!-- 400&#45;&gt;open -->\n",
       "<g id=\"edge239\" class=\"edge\">\n",
       "<title>400&#45;&gt;open</title>\n",
       "<path fill=\"none\" stroke=\"black\" d=\"M2005.12,-166.21C2011.23,-163.67 2017.99,-161.32 2024.48,-160 2145.51,-135.39 4124.08,-147.03 4247.48,-142 4413.36,-135.24 4610.24,-117.95 4695.1,-110.05\"/>\n",
       "<polygon fill=\"black\" stroke=\"black\" points=\"4695.5,-113.53 4705.13,-109.11 4694.84,-106.56 4695.5,-113.53\"/>\n",
       "</g>\n",
       "<!-- 400&#45;&gt;open -->\n",
       "<g id=\"edge367\" class=\"edge\">\n",
       "<title>400&#45;&gt;open</title>\n",
       "<path fill=\"none\" stroke=\"black\" d=\"M2010.12,-170.84C2020.96,-166.89 2032.06,-162.12 2042.48,-160 2163.51,-135.39 4142.08,-147.03 4265.48,-142 4424.86,-135.51 4612.85,-119.29 4695.6,-111.02\"/>\n",
       "<polygon fill=\"black\" stroke=\"black\" points=\"4696.03,-114.49 4705.63,-110 4695.33,-107.53 4696.03,-114.49\"/>\n",
       "</g>\n",
       "<!-- 440 -->\n",
       "<g id=\"node16\" class=\"node\">\n",
       "<title>440</title>\n",
       "<ellipse fill=\"none\" stroke=\"black\" cx=\"2062.48\" cy=\"-178\" rx=\"28.7\" ry=\"18\"/>\n",
       "<text text-anchor=\"middle\" x=\"2062.48\" y=\"-174.3\" font-family=\"Times,serif\" font-size=\"14.00\">440</text>\n",
       "</g>\n",
       "<!-- 440&#45;&gt;close -->\n",
       "<g id=\"edge27\" class=\"edge\">\n",
       "<title>440&#45;&gt;close</title>\n",
       "<path fill=\"none\" stroke=\"black\" d=\"M2072.89,-161.04C2074.09,-160.67 2075.29,-160.32 2076.48,-160 2208.64,-124.16 2372.57,-111.42 2451.85,-107.51\"/>\n",
       "<polygon fill=\"black\" stroke=\"black\" points=\"2452.18,-111 2462.01,-107.04 2451.86,-104.01 2452.18,-111\"/>\n",
       "</g>\n",
       "<!-- 440&#45;&gt;close -->\n",
       "<g id=\"edge113\" class=\"edge\">\n",
       "<title>440&#45;&gt;close</title>\n",
       "<path fill=\"none\" stroke=\"black\" d=\"M2081.48,-164.32C2085.7,-162.68 2090.17,-161.17 2094.48,-160 2221.13,-125.66 2376.96,-112.52 2452.09,-108.05\"/>\n",
       "<polygon fill=\"black\" stroke=\"black\" points=\"2452.35,-111.54 2462.14,-107.48 2451.96,-104.55 2452.35,-111.54\"/>\n",
       "</g>\n",
       "<!-- 440&#45;&gt;close -->\n",
       "<g id=\"edge241\" class=\"edge\">\n",
       "<title>440&#45;&gt;close</title>\n",
       "<path fill=\"none\" stroke=\"black\" d=\"M2087.58,-168.88C2095.58,-165.67 2104.3,-162.22 2112.48,-160 2233.01,-127.32 2379.97,-113.84 2452.25,-108.76\"/>\n",
       "<polygon fill=\"black\" stroke=\"black\" points=\"2452.62,-112.24 2462.36,-108.07 2452.14,-105.26 2452.62,-112.24\"/>\n",
       "</g>\n",
       "<!-- 440&#45;&gt;close -->\n",
       "<g id=\"edge369\" class=\"edge\">\n",
       "<title>440&#45;&gt;close</title>\n",
       "<path fill=\"none\" stroke=\"black\" d=\"M2090.29,-173.13C2105.21,-169.21 2118.43,-163.27 2130.48,-160 2244.44,-129.1 2382.03,-115.37 2452.37,-109.67\"/>\n",
       "<polygon fill=\"black\" stroke=\"black\" points=\"2452.97,-113.13 2462.66,-108.85 2452.42,-106.15 2452.97,-113.13\"/>\n",
       "</g>\n",
       "<!-- 440&#45;&gt;open -->\n",
       "<g id=\"edge115\" class=\"edge\">\n",
       "<title>440&#45;&gt;open</title>\n",
       "<path fill=\"none\" stroke=\"black\" d=\"M2076.86,-162.28C2079.69,-161.37 2082.61,-160.58 2085.48,-160 2205.53,-135.59 4168.11,-147.63 4290.48,-142 4438.39,-135.2 4614.28,-117.37 4694.62,-109.65\"/>\n",
       "<polygon fill=\"black\" stroke=\"black\" points=\"4695.23,-113.11 4704.85,-108.67 4694.56,-106.14 4695.23,-113.11\"/>\n",
       "</g>\n",
       "<!-- 440&#45;&gt;open -->\n",
       "<g id=\"edge243\" class=\"edge\">\n",
       "<title>440&#45;&gt;open</title>\n",
       "<path fill=\"none\" stroke=\"black\" d=\"M2084.12,-166.21C2090.23,-163.67 2096.99,-161.32 2103.48,-160 2223.53,-135.59 4186.11,-147.63 4308.48,-142 4450.38,-135.48 4618.04,-118.8 4695,-110.64\"/>\n",
       "<polygon fill=\"black\" stroke=\"black\" points=\"4695.67,-114.08 4705.24,-109.54 4694.93,-107.12 4695.67,-114.08\"/>\n",
       "</g>\n",
       "<!-- 440&#45;&gt;open -->\n",
       "<g id=\"edge371\" class=\"edge\">\n",
       "<title>440&#45;&gt;open</title>\n",
       "<path fill=\"none\" stroke=\"black\" d=\"M2089.12,-170.84C2099.96,-166.89 2111.06,-162.12 2121.48,-160 2241.53,-135.59 4204.11,-147.63 4326.48,-142 4462.14,-135.76 4621.35,-120.24 4695.9,-111.76\"/>\n",
       "<polygon fill=\"black\" stroke=\"black\" points=\"4696.31,-115.24 4705.84,-110.61 4695.51,-108.28 4696.31,-115.24\"/>\n",
       "</g>\n",
       "<!-- 480 -->\n",
       "<g id=\"node17\" class=\"node\">\n",
       "<title>480</title>\n",
       "<ellipse fill=\"none\" stroke=\"black\" cx=\"2141.48\" cy=\"-178\" rx=\"28.7\" ry=\"18\"/>\n",
       "<text text-anchor=\"middle\" x=\"2141.48\" y=\"-174.3\" font-family=\"Times,serif\" font-size=\"14.00\">480</text>\n",
       "</g>\n",
       "<!-- 480&#45;&gt;close -->\n",
       "<g id=\"edge29\" class=\"edge\">\n",
       "<title>480&#45;&gt;close</title>\n",
       "<path fill=\"none\" stroke=\"black\" d=\"M2151.9,-161.09C2153.1,-160.71 2154.3,-160.34 2155.48,-160 2258.12,-130.3 2384.64,-114.68 2452.17,-108.79\"/>\n",
       "<polygon fill=\"black\" stroke=\"black\" points=\"2452.81,-112.25 2462.48,-107.93 2452.23,-105.28 2452.81,-112.25\"/>\n",
       "</g>\n",
       "<!-- 480&#45;&gt;close -->\n",
       "<g id=\"edge117\" class=\"edge\">\n",
       "<title>480&#45;&gt;close</title>\n",
       "<path fill=\"none\" stroke=\"black\" d=\"M2160.52,-164.45C2164.73,-162.79 2169.19,-161.24 2173.48,-160 2270.87,-131.82 2389.77,-116.31 2452.76,-109.77\"/>\n",
       "<polygon fill=\"black\" stroke=\"black\" points=\"2453.15,-113.25 2462.74,-108.76 2452.44,-106.29 2453.15,-113.25\"/>\n",
       "</g>\n",
       "<!-- 480&#45;&gt;close -->\n",
       "<g id=\"edge245\" class=\"edge\">\n",
       "<title>480&#45;&gt;close</title>\n",
       "<path fill=\"none\" stroke=\"black\" d=\"M2166.62,-169.02C2174.62,-165.83 2183.34,-162.36 2191.48,-160 2282.71,-133.6 2392.8,-118.32 2452.71,-111.12\"/>\n",
       "<polygon fill=\"black\" stroke=\"black\" points=\"2453.43,-114.56 2462.94,-109.91 2452.6,-107.61 2453.43,-114.56\"/>\n",
       "</g>\n",
       "<!-- 480&#45;&gt;close -->\n",
       "<g id=\"edge373\" class=\"edge\">\n",
       "<title>480&#45;&gt;close</title>\n",
       "<path fill=\"none\" stroke=\"black\" d=\"M2169.31,-173.21C2184.26,-169.36 2197.49,-163.47 2209.48,-160 2294.77,-135.32 2396.54,-120.36 2453.95,-112.63\"/>\n",
       "<polygon fill=\"black\" stroke=\"black\" points=\"2454.69,-116.07 2464.14,-111.27 2453.76,-109.13 2454.69,-116.07\"/>\n",
       "</g>\n",
       "<!-- 480&#45;&gt;open -->\n",
       "<g id=\"edge119\" class=\"edge\">\n",
       "<title>480&#45;&gt;open</title>\n",
       "<path fill=\"none\" stroke=\"black\" d=\"M2155.86,-162.28C2158.69,-161.37 2161.61,-160.58 2164.48,-160 2283.55,-135.78 4230.15,-148.42 4351.48,-142 4475.82,-135.42 4622.99,-118.14 4694.85,-110.16\"/>\n",
       "<polygon fill=\"black\" stroke=\"black\" points=\"4695.34,-113.63 4704.9,-109.05 4694.57,-106.67 4695.34,-113.63\"/>\n",
       "</g>\n",
       "<!-- 480&#45;&gt;open -->\n",
       "<g id=\"edge247\" class=\"edge\">\n",
       "<title>480&#45;&gt;open</title>\n",
       "<path fill=\"none\" stroke=\"black\" d=\"M2163.12,-166.21C2169.23,-163.67 2175.99,-161.32 2182.48,-160 2301.55,-135.78 4248.15,-148.42 4369.48,-142 4488.08,-135.72 4627.45,-119.72 4695.63,-111.32\"/>\n",
       "<polygon fill=\"black\" stroke=\"black\" points=\"4696.06,-114.8 4705.56,-110.09 4695.2,-107.85 4696.06,-114.8\"/>\n",
       "</g>\n",
       "<!-- 480&#45;&gt;open -->\n",
       "<g id=\"edge375\" class=\"edge\">\n",
       "<title>480&#45;&gt;open</title>\n",
       "<path fill=\"none\" stroke=\"black\" d=\"M2168.12,-170.84C2178.96,-166.89 2190.06,-162.12 2200.48,-160 2319.55,-135.78 4266.15,-148.42 4387.48,-142 4499.75,-136.06 4630.63,-121.4 4696.36,-112.73\"/>\n",
       "<polygon fill=\"black\" stroke=\"black\" points=\"4696.89,-116.19 4706.34,-111.39 4695.96,-109.25 4696.89,-116.19\"/>\n",
       "</g>\n",
       "<!-- 520 -->\n",
       "<g id=\"node18\" class=\"node\">\n",
       "<title>520</title>\n",
       "<ellipse fill=\"none\" stroke=\"black\" cx=\"2220.48\" cy=\"-178\" rx=\"28.7\" ry=\"18\"/>\n",
       "<text text-anchor=\"middle\" x=\"2220.48\" y=\"-174.3\" font-family=\"Times,serif\" font-size=\"14.00\">520</text>\n",
       "</g>\n",
       "<!-- 520&#45;&gt;close -->\n",
       "<g id=\"edge31\" class=\"edge\">\n",
       "<title>520&#45;&gt;close</title>\n",
       "<path fill=\"none\" stroke=\"black\" d=\"M2230.93,-161.18C2232.12,-160.77 2233.31,-160.38 2234.48,-160 2308.27,-136.41 2398.19,-118.7 2452.55,-110.71\"/>\n",
       "<polygon fill=\"black\" stroke=\"black\" points=\"2453.2,-114.15 2462.61,-109.28 2452.22,-107.22 2453.2,-114.15\"/>\n",
       "</g>\n",
       "<!-- 520&#45;&gt;close -->\n",
       "<g id=\"edge121\" class=\"edge\">\n",
       "<title>520&#45;&gt;close</title>\n",
       "<path fill=\"none\" stroke=\"black\" d=\"M2240.02,-164.49C2244.1,-162.87 2248.37,-161.31 2252.48,-160 2321.35,-137.98 2404.26,-121.09 2453.68,-112.44\"/>\n",
       "<polygon fill=\"black\" stroke=\"black\" points=\"2454.43,-115.86 2463.7,-110.71 2453.25,-108.96 2454.43,-115.86\"/>\n",
       "</g>\n",
       "<!-- 520&#45;&gt;close -->\n",
       "<g id=\"edge249\" class=\"edge\">\n",
       "<title>520&#45;&gt;close</title>\n",
       "<path fill=\"none\" stroke=\"black\" d=\"M2245.68,-169.24C2253.7,-166.08 2262.41,-162.58 2270.48,-160 2334.06,-139.67 2409.6,-123.72 2455.36,-114.58\"/>\n",
       "<polygon fill=\"black\" stroke=\"black\" points=\"2456.09,-118 2465.22,-112.62 2454.73,-111.13 2456.09,-118\"/>\n",
       "</g>\n",
       "<!-- 520&#45;&gt;close -->\n",
       "<g id=\"edge377\" class=\"edge\">\n",
       "<title>520&#45;&gt;close</title>\n",
       "<path fill=\"none\" stroke=\"black\" d=\"M2248.35,-173.34C2263.33,-169.6 2276.59,-163.8 2288.48,-160 2346.62,-141.41 2414.77,-126.48 2457.67,-117.07\"/>\n",
       "<polygon fill=\"black\" stroke=\"black\" points=\"2458.47,-120.48 2467.49,-114.91 2456.97,-113.64 2458.47,-120.48\"/>\n",
       "</g>\n",
       "<!-- 520&#45;&gt;open -->\n",
       "<g id=\"edge123\" class=\"edge\">\n",
       "<title>520&#45;&gt;open</title>\n",
       "<path fill=\"none\" stroke=\"black\" d=\"M2234.86,-162.28C2237.69,-161.37 2240.61,-160.58 2243.48,-160 2361.57,-135.98 4292.21,-149.53 4412.48,-142 4513.7,-135.66 4632.77,-119.06 4695.43,-110.81\"/>\n",
       "<polygon fill=\"black\" stroke=\"black\" points=\"4695.89,-114.28 4705.35,-109.51 4694.98,-107.34 4695.89,-114.28\"/>\n",
       "</g>\n",
       "<!-- 520&#45;&gt;open -->\n",
       "<g id=\"edge251\" class=\"edge\">\n",
       "<title>520&#45;&gt;open</title>\n",
       "<path fill=\"none\" stroke=\"black\" d=\"M2242.12,-166.21C2248.23,-163.67 2254.99,-161.32 2261.48,-160 2379.57,-135.98 4310.21,-149.53 4430.48,-142 4525.72,-136.04 4636.78,-120.99 4695.72,-112.35\"/>\n",
       "<polygon fill=\"black\" stroke=\"black\" points=\"4696.38,-115.79 4705.76,-110.87 4695.36,-108.87 4696.38,-115.79\"/>\n",
       "</g>\n",
       "<!-- 520&#45;&gt;open -->\n",
       "<g id=\"edge379\" class=\"edge\">\n",
       "<title>520&#45;&gt;open</title>\n",
       "<path fill=\"none\" stroke=\"black\" d=\"M2247.12,-170.85C2257.96,-166.89 2269.06,-162.12 2279.48,-160 2397.57,-135.98 4328.21,-149.53 4448.48,-142 4537.73,-136.41 4640.86,-122.85 4697.02,-114.06\"/>\n",
       "<polygon fill=\"black\" stroke=\"black\" points=\"4697.63,-117.5 4706.95,-112.47 4696.52,-110.59 4697.63,-117.5\"/>\n",
       "</g>\n",
       "<!-- 560 -->\n",
       "<g id=\"node19\" class=\"node\">\n",
       "<title>560</title>\n",
       "<ellipse fill=\"none\" stroke=\"black\" cx=\"2299.48\" cy=\"-178\" rx=\"28.7\" ry=\"18\"/>\n",
       "<text text-anchor=\"middle\" x=\"2299.48\" y=\"-174.3\" font-family=\"Times,serif\" font-size=\"14.00\">560</text>\n",
       "</g>\n",
       "<!-- 560&#45;&gt;close -->\n",
       "<g id=\"edge33\" class=\"edge\">\n",
       "<title>560&#45;&gt;close</title>\n",
       "<path fill=\"none\" stroke=\"black\" d=\"M2310.43,-161.17C2311.45,-160.78 2312.47,-160.38 2313.48,-160 2359.84,-142.38 2414.8,-123.91 2453.89,-113.79\"/>\n",
       "<polygon fill=\"black\" stroke=\"black\" points=\"2455.12,-117.09 2463.97,-111.28 2453.43,-110.3 2455.12,-117.09\"/>\n",
       "</g>\n",
       "<!-- 560&#45;&gt;close -->\n",
       "<g id=\"edge125\" class=\"edge\">\n",
       "<title>560&#45;&gt;close</title>\n",
       "<path fill=\"none\" stroke=\"black\" d=\"M2319.16,-164.89C2323.22,-163.21 2327.45,-161.53 2331.48,-160 2373.48,-144.04 2422.55,-127.37 2456.34,-116.85\"/>\n",
       "<polygon fill=\"black\" stroke=\"black\" points=\"2457.78,-120.07 2466.31,-113.79 2455.73,-113.38 2457.78,-120.07\"/>\n",
       "</g>\n",
       "<!-- 560&#45;&gt;close -->\n",
       "<g id=\"edge253\" class=\"edge\">\n",
       "<title>560&#45;&gt;close</title>\n",
       "<path fill=\"none\" stroke=\"black\" d=\"M2324.83,-169.66C2332.87,-166.57 2341.56,-163.01 2349.48,-160 2387.27,-145.64 2430.78,-130.71 2460.72,-120.2\"/>\n",
       "<polygon fill=\"black\" stroke=\"black\" points=\"2462.06,-123.44 2470.33,-116.81 2459.74,-116.84 2462.06,-123.44\"/>\n",
       "</g>\n",
       "<!-- 560&#45;&gt;close -->\n",
       "<g id=\"edge381\" class=\"edge\">\n",
       "<title>560&#45;&gt;close</title>\n",
       "<path fill=\"none\" stroke=\"black\" d=\"M2327.44,-173.6C2342.49,-170.06 2355.81,-164.43 2367.48,-160 2401.48,-147.08 2440.11,-133.7 2467.13,-123.49\"/>\n",
       "<polygon fill=\"black\" stroke=\"black\" points=\"2468.45,-126.73 2476.53,-119.88 2465.94,-120.2 2468.45,-126.73\"/>\n",
       "</g>\n",
       "<!-- 560&#45;&gt;open -->\n",
       "<g id=\"edge127\" class=\"edge\">\n",
       "<title>560&#45;&gt;open</title>\n",
       "<path fill=\"none\" stroke=\"black\" d=\"M2313.86,-162.28C2316.69,-161.37 2319.61,-160.58 2322.48,-160 2439.59,-136.17 4354.33,-151.17 4473.48,-142 4551.75,-135.97 4642.97,-120.34 4695.69,-111.79\"/>\n",
       "<polygon fill=\"black\" stroke=\"black\" points=\"4696.39,-115.22 4705.71,-110.18 4695.28,-108.31 4696.39,-115.22\"/>\n",
       "</g>\n",
       "<!-- 560&#45;&gt;open -->\n",
       "<g id=\"edge255\" class=\"edge\">\n",
       "<title>560&#45;&gt;open</title>\n",
       "<path fill=\"none\" stroke=\"black\" d=\"M2321.12,-166.21C2327.23,-163.67 2333.99,-161.32 2340.48,-160 2457.59,-136.17 4372.33,-151.17 4491.48,-142 4564.05,-136.41 4647.75,-122.57 4696.43,-113.77\"/>\n",
       "<polygon fill=\"black\" stroke=\"black\" points=\"4697.36,-117.15 4706.57,-111.91 4696.1,-110.27 4697.36,-117.15\"/>\n",
       "</g>\n",
       "<!-- 560&#45;&gt;open -->\n",
       "<g id=\"edge383\" class=\"edge\">\n",
       "<title>560&#45;&gt;open</title>\n",
       "<path fill=\"none\" stroke=\"black\" d=\"M2326.12,-170.85C2336.96,-166.89 2348.06,-162.12 2358.48,-160 2475.59,-136.17 4390.33,-151.17 4509.48,-142 4576.36,-136.85 4652.69,-124.69 4698.32,-115.92\"/>\n",
       "<polygon fill=\"black\" stroke=\"black\" points=\"4699.27,-119.3 4708.41,-113.94 4697.92,-112.44 4699.27,-119.3\"/>\n",
       "</g>\n",
       "<!-- 600 -->\n",
       "<g id=\"node20\" class=\"node\">\n",
       "<title>600</title>\n",
       "<ellipse fill=\"none\" stroke=\"black\" cx=\"2378.48\" cy=\"-178\" rx=\"28.7\" ry=\"18\"/>\n",
       "<text text-anchor=\"middle\" x=\"2378.48\" y=\"-174.3\" font-family=\"Times,serif\" font-size=\"14.00\">600</text>\n",
       "</g>\n",
       "<!-- 600&#45;&gt;close -->\n",
       "<g id=\"edge35\" class=\"edge\">\n",
       "<title>600&#45;&gt;close</title>\n",
       "<path fill=\"none\" stroke=\"black\" d=\"M2387.97,-160.89C2404.65,-148.26 2433.86,-130.92 2458.52,-119.13\"/>\n",
       "<polygon fill=\"black\" stroke=\"black\" points=\"2460.09,-122.26 2467.72,-114.9 2457.17,-115.9 2460.09,-122.26\"/>\n",
       "</g>\n",
       "<!-- 600&#45;&gt;close -->\n",
       "<g id=\"edge129\" class=\"edge\">\n",
       "<title>600&#45;&gt;close</title>\n",
       "<path fill=\"none\" stroke=\"black\" d=\"M2395.52,-163.48C2413.1,-151.93 2440.66,-135.27 2462.63,-122.85\"/>\n",
       "<polygon fill=\"black\" stroke=\"black\" points=\"2464.62,-125.75 2471.65,-117.82 2461.21,-119.63 2464.62,-125.75\"/>\n",
       "</g>\n",
       "<!-- 600&#45;&gt;close -->\n",
       "<g id=\"edge257\" class=\"edge\">\n",
       "<title>600&#45;&gt;close</title>\n",
       "<path fill=\"none\" stroke=\"black\" d=\"M2400.85,-166.52C2420.47,-155.86 2448.78,-139.06 2469.6,-125.87\"/>\n",
       "<polygon fill=\"black\" stroke=\"black\" points=\"2471.49,-128.81 2478.01,-120.46 2467.71,-122.92 2471.49,-128.81\"/>\n",
       "</g>\n",
       "<!-- 600&#45;&gt;close -->\n",
       "<g id=\"edge385\" class=\"edge\">\n",
       "<title>600&#45;&gt;close</title>\n",
       "<path fill=\"none\" stroke=\"black\" d=\"M2403.9,-169.54C2426.93,-159.82 2457.85,-142.4 2478.44,-128.25\"/>\n",
       "<polygon fill=\"black\" stroke=\"black\" points=\"2480.48,-131.1 2486.57,-122.43 2476.4,-125.41 2480.48,-131.1\"/>\n",
       "</g>\n",
       "<!-- 600&#45;&gt;open -->\n",
       "<g id=\"edge131\" class=\"edge\">\n",
       "<title>600&#45;&gt;open</title>\n",
       "<path fill=\"none\" stroke=\"black\" d=\"M2392.86,-162.28C2395.69,-161.37 2398.61,-160.58 2401.48,-160 2517.6,-136.37 4416.57,-153.87 4534.48,-142 4590.42,-136.37 4654.61,-122.08 4696.22,-113.29\"/>\n",
       "<polygon fill=\"black\" stroke=\"black\" points=\"4696.96,-116.71 4706.04,-111.24 4695.53,-109.86 4696.96,-116.71\"/>\n",
       "</g>\n",
       "<!-- 600&#45;&gt;open -->\n",
       "<g id=\"edge259\" class=\"edge\">\n",
       "<title>600&#45;&gt;open</title>\n",
       "<path fill=\"none\" stroke=\"black\" d=\"M2400.12,-166.21C2406.23,-163.67 2412.99,-161.32 2419.48,-160 2535.6,-136.37 4434.57,-153.87 4552.48,-142 4603.22,-136.89 4660.74,-124.66 4697.99,-115.87\"/>\n",
       "<polygon fill=\"black\" stroke=\"black\" points=\"4699.02,-119.23 4707.93,-113.49 4697.39,-112.42 4699.02,-119.23\"/>\n",
       "</g>\n",
       "<!-- 600&#45;&gt;open -->\n",
       "<g id=\"edge387\" class=\"edge\">\n",
       "<title>600&#45;&gt;open</title>\n",
       "<path fill=\"none\" stroke=\"black\" d=\"M2405.12,-170.85C2415.96,-166.89 2427.06,-162.12 2437.48,-160 2553.6,-136.37 4452.57,-153.87 4570.48,-142 4616.06,-137.41 4667.13,-127.07 4701.09,-118.65\"/>\n",
       "<polygon fill=\"black\" stroke=\"black\" points=\"4702.24,-121.97 4711.06,-116.1 4700.5,-115.19 4702.24,-121.97\"/>\n",
       "</g>\n",
       "<!-- 640 -->\n",
       "<g id=\"node21\" class=\"node\">\n",
       "<title>640</title>\n",
       "<ellipse fill=\"none\" stroke=\"black\" cx=\"2457.48\" cy=\"-178\" rx=\"28.7\" ry=\"18\"/>\n",
       "<text text-anchor=\"middle\" x=\"2457.48\" y=\"-174.3\" font-family=\"Times,serif\" font-size=\"14.00\">640</text>\n",
       "</g>\n",
       "<!-- 640&#45;&gt;close -->\n",
       "<g id=\"edge37\" class=\"edge\">\n",
       "<title>640&#45;&gt;close</title>\n",
       "<path fill=\"none\" stroke=\"black\" d=\"M2449.12,-160.53C2451.34,-150.35 2458.19,-137.2 2466.78,-126.36\"/>\n",
       "<polygon fill=\"black\" stroke=\"black\" points=\"2469.63,-128.42 2473.64,-118.61 2464.39,-123.78 2469.63,-128.42\"/>\n",
       "</g>\n",
       "<!-- 640&#45;&gt;close -->\n",
       "<g id=\"edge133\" class=\"edge\">\n",
       "<title>640&#45;&gt;close</title>\n",
       "<path fill=\"none\" stroke=\"black\" d=\"M2461.04,-159.81C2465.01,-150.89 2470.9,-139.84 2476.82,-130.08\"/>\n",
       "<polygon fill=\"black\" stroke=\"black\" points=\"2479.82,-131.89 2482.23,-121.58 2473.91,-128.14 2479.82,-131.89\"/>\n",
       "</g>\n",
       "<!-- 640&#45;&gt;close -->\n",
       "<g id=\"edge261\" class=\"edge\">\n",
       "<title>640&#45;&gt;close</title>\n",
       "<path fill=\"none\" stroke=\"black\" d=\"M2471.39,-161.94C2477.2,-153.31 2483.59,-142.22 2488.63,-132.2\"/>\n",
       "<polygon fill=\"black\" stroke=\"black\" points=\"2491.86,-133.56 2492.99,-123.03 2485.53,-130.56 2491.86,-133.56\"/>\n",
       "</g>\n",
       "<!-- 640&#45;&gt;close -->\n",
       "<g id=\"edge389\" class=\"edge\">\n",
       "<title>640&#45;&gt;close</title>\n",
       "<path fill=\"none\" stroke=\"black\" d=\"M2478.76,-165.91C2488.26,-156.92 2496.9,-143.88 2501.68,-132.26\"/>\n",
       "<polygon fill=\"black\" stroke=\"black\" points=\"2505.07,-133.15 2504.82,-122.56 2498.41,-131 2505.07,-133.15\"/>\n",
       "</g>\n",
       "<!-- 640&#45;&gt;open -->\n",
       "<g id=\"edge135\" class=\"edge\">\n",
       "<title>640&#45;&gt;open</title>\n",
       "<path fill=\"none\" stroke=\"black\" d=\"M2471.86,-162.28C2474.69,-161.37 2477.61,-160.58 2480.48,-160 2595.62,-136.57 4479.22,-159.04 4595.48,-142 4630.2,-136.91 4668.83,-124.58 4697.71,-115.77\"/>\n",
       "<polygon fill=\"black\" stroke=\"black\" points=\"4698.94,-119.06 4707.5,-112.82 4696.92,-112.36 4698.94,-119.06\"/>\n",
       "</g>\n",
       "<!-- 640&#45;&gt;open -->\n",
       "<g id=\"edge263\" class=\"edge\">\n",
       "<title>640&#45;&gt;open</title>\n",
       "<path fill=\"none\" stroke=\"black\" d=\"M2479.12,-166.22C2485.23,-163.67 2491.99,-161.32 2498.48,-160 2613.62,-136.57 4497.22,-159.04 4613.48,-142 4643.7,-137.57 4676.87,-127.66 4701.29,-119.36\"/>\n",
       "<polygon fill=\"black\" stroke=\"black\" points=\"4702.56,-122.62 4710.86,-116.04 4700.27,-116.01 4702.56,-122.62\"/>\n",
       "</g>\n",
       "<!-- 640&#45;&gt;open -->\n",
       "<g id=\"edge391\" class=\"edge\">\n",
       "<title>640&#45;&gt;open</title>\n",
       "<path fill=\"none\" stroke=\"black\" d=\"M2484.12,-170.85C2494.96,-166.9 2506.06,-162.12 2516.48,-160 2631.62,-136.57 4515.22,-159.04 4631.48,-142 4657.71,-138.16 4686.17,-130.18 4707.43,-122.71\"/>\n",
       "<polygon fill=\"black\" stroke=\"black\" points=\"4708.76,-125.95 4716.95,-119.22 4706.35,-119.38 4708.76,-125.95\"/>\n",
       "</g>\n",
       "<!-- 680 -->\n",
       "<g id=\"node22\" class=\"node\">\n",
       "<title>680</title>\n",
       "<ellipse fill=\"none\" stroke=\"black\" cx=\"2536.48\" cy=\"-178\" rx=\"28.7\" ry=\"18\"/>\n",
       "<text text-anchor=\"middle\" x=\"2536.48\" y=\"-174.3\" font-family=\"Times,serif\" font-size=\"14.00\">680</text>\n",
       "</g>\n",
       "<!-- 680&#45;&gt;close -->\n",
       "<g id=\"edge39\" class=\"edge\">\n",
       "<title>680&#45;&gt;close</title>\n",
       "<path fill=\"none\" stroke=\"black\" d=\"M2515.04,-165.91C2505.42,-156.92 2496.6,-143.88 2491.65,-132.26\"/>\n",
       "<polygon fill=\"black\" stroke=\"black\" points=\"2494.89,-130.91 2488.38,-122.56 2488.25,-133.15 2494.89,-130.91\"/>\n",
       "</g>\n",
       "<!-- 680&#45;&gt;close -->\n",
       "<g id=\"edge137\" class=\"edge\">\n",
       "<title>680&#45;&gt;close</title>\n",
       "<path fill=\"none\" stroke=\"black\" d=\"M2522.36,-161.94C2516.43,-153.31 2509.88,-142.22 2504.7,-132.2\"/>\n",
       "<polygon fill=\"black\" stroke=\"black\" points=\"2507.75,-130.47 2500.21,-123.03 2501.46,-133.55 2507.75,-130.47\"/>\n",
       "</g>\n",
       "<!-- 680&#45;&gt;close -->\n",
       "<g id=\"edge265\" class=\"edge\">\n",
       "<title>680&#45;&gt;close</title>\n",
       "<path fill=\"none\" stroke=\"black\" d=\"M2532.68,-159.81C2528.58,-150.89 2522.54,-139.84 2516.48,-130.08\"/>\n",
       "<polygon fill=\"black\" stroke=\"black\" points=\"2519.34,-128.06 2510.95,-121.58 2513.46,-131.87 2519.34,-128.06\"/>\n",
       "</g>\n",
       "<!-- 680&#45;&gt;close -->\n",
       "<g id=\"edge393\" class=\"edge\">\n",
       "<title>680&#45;&gt;close</title>\n",
       "<path fill=\"none\" stroke=\"black\" d=\"M2544.61,-160.53C2542.22,-150.25 2535.07,-136.94 2526.21,-126.04\"/>\n",
       "<polygon fill=\"black\" stroke=\"black\" points=\"2528.8,-123.69 2519.5,-118.61 2523.6,-128.38 2528.8,-123.69\"/>\n",
       "</g>\n",
       "<!-- 680&#45;&gt;open -->\n",
       "<g id=\"edge139\" class=\"edge\">\n",
       "<title>680&#45;&gt;open</title>\n",
       "<path fill=\"none\" stroke=\"black\" d=\"M2550.86,-162.28C2553.69,-161.37 2556.61,-160.58 2559.48,-160 2673.64,-136.76 4544.01,-172.39 4656.48,-142 4672.04,-137.8 4687.79,-128.8 4701.89,-120.85\"/>\n",
       "<polygon fill=\"black\" stroke=\"black\" points=\"4703.87,-123.76 4710.91,-115.84 4700.47,-117.64 4703.87,-123.76\"/>\n",
       "</g>\n",
       "<!-- 680&#45;&gt;open -->\n",
       "<g id=\"edge267\" class=\"edge\">\n",
       "<title>680&#45;&gt;open</title>\n",
       "<path fill=\"none\" stroke=\"black\" d=\"M2558.12,-166.22C2564.23,-163.67 2570.99,-161.32 2577.48,-160 2691.64,-136.76 4562.01,-172.39 4674.48,-142 4687.02,-138.61 4699.68,-132.11 4710.33,-125.56\"/>\n",
       "<polygon fill=\"black\" stroke=\"black\" points=\"4712.26,-128.48 4718.76,-120.1 4708.46,-122.6 4712.26,-128.48\"/>\n",
       "</g>\n",
       "<!-- 680&#45;&gt;open -->\n",
       "<g id=\"edge395\" class=\"edge\">\n",
       "<title>680&#45;&gt;open</title>\n",
       "<path fill=\"none\" stroke=\"black\" d=\"M2563.12,-170.85C2573.96,-166.9 2585.06,-162.12 2595.48,-160 2709.64,-136.76 4580.01,-172.39 4692.48,-142 4703.13,-139.12 4713.87,-134 4722.66,-128.51\"/>\n",
       "<polygon fill=\"black\" stroke=\"black\" points=\"4724.8,-131.29 4731.04,-122.73 4720.83,-125.52 4724.8,-131.29\"/>\n",
       "</g>\n",
       "<!-- 720 -->\n",
       "<g id=\"node23\" class=\"node\">\n",
       "<title>720</title>\n",
       "<ellipse fill=\"none\" stroke=\"black\" cx=\"2615.48\" cy=\"-178\" rx=\"28.7\" ry=\"18\"/>\n",
       "<text text-anchor=\"middle\" x=\"2615.48\" y=\"-174.3\" font-family=\"Times,serif\" font-size=\"14.00\">720</text>\n",
       "</g>\n",
       "<!-- 720&#45;&gt;close -->\n",
       "<g id=\"edge41\" class=\"edge\">\n",
       "<title>720&#45;&gt;close</title>\n",
       "<path fill=\"none\" stroke=\"black\" d=\"M2588.71,-171.66C2568.85,-164.55 2548.29,-151.63 2530.48,-141 2523.56,-136.87 2516.16,-132.54 2509.44,-128.39\"/>\n",
       "<polygon fill=\"black\" stroke=\"black\" points=\"2511.12,-125.32 2500.81,-122.88 2507.35,-131.22 2511.12,-125.32\"/>\n",
       "</g>\n",
       "<!-- 720&#45;&gt;close -->\n",
       "<g id=\"edge141\" class=\"edge\">\n",
       "<title>720&#45;&gt;close</title>\n",
       "<path fill=\"none\" stroke=\"black\" d=\"M2592.35,-167.07C2579.2,-159.76 2562.93,-149.63 2548.48,-141 2540.09,-135.99 2530.98,-130.69 2522.7,-125.77\"/>\n",
       "<polygon fill=\"black\" stroke=\"black\" points=\"2524.49,-122.77 2514.11,-120.62 2520.89,-128.77 2524.49,-122.77\"/>\n",
       "</g>\n",
       "<!-- 720&#45;&gt;close -->\n",
       "<g id=\"edge269\" class=\"edge\">\n",
       "<title>720&#45;&gt;close</title>\n",
       "<path fill=\"none\" stroke=\"black\" d=\"M2600.65,-162.45C2590.85,-155.82 2578.08,-147.93 2566.48,-141 2555.51,-134.45 2543.31,-127.4 2532.1,-121.36\"/>\n",
       "<polygon fill=\"black\" stroke=\"black\" points=\"2533.45,-118.12 2522.98,-116.56 2530.19,-124.31 2533.45,-118.12\"/>\n",
       "</g>\n",
       "<!-- 720&#45;&gt;close -->\n",
       "<g id=\"edge397\" class=\"edge\">\n",
       "<title>720&#45;&gt;close</title>\n",
       "<path fill=\"none\" stroke=\"black\" d=\"M2613.84,-159.96C2605.73,-153.9 2594.66,-147.07 2584.48,-141 2570.2,-132.47 2553.84,-123.11 2537.59,-116.21\"/>\n",
       "<polygon fill=\"black\" stroke=\"black\" points=\"2538.63,-112.86 2528.05,-112.46 2536.07,-119.38 2538.63,-112.86\"/>\n",
       "</g>\n",
       "<!-- 720&#45;&gt;open -->\n",
       "<g id=\"edge143\" class=\"edge\">\n",
       "<title>720&#45;&gt;open</title>\n",
       "<path fill=\"none\" stroke=\"black\" d=\"M2629.86,-162.28C2632.69,-161.37 2635.61,-160.58 2638.48,-160 2666.78,-154.24 4696.59,-161.93 4717.48,-142 4720.4,-139.21 4721.98,-135.54 4722.99,-131.61\"/>\n",
       "<polygon fill=\"black\" stroke=\"black\" points=\"4726.45,-132.12 4724.78,-121.66 4719.57,-130.88 4726.45,-132.12\"/>\n",
       "</g>\n",
       "<!-- 720&#45;&gt;open -->\n",
       "<g id=\"edge271\" class=\"edge\">\n",
       "<title>720&#45;&gt;open</title>\n",
       "<path fill=\"none\" stroke=\"black\" d=\"M2637.12,-166.22C2643.23,-163.67 2649.99,-161.32 2656.48,-160 2684.78,-154.24 4714.59,-161.93 4735.48,-142 4737.97,-139.62 4739.48,-136.61 4740.32,-133.33\"/>\n",
       "<polygon fill=\"black\" stroke=\"black\" points=\"4743.83,-133.38 4741.13,-123.13 4736.85,-132.83 4743.83,-133.38\"/>\n",
       "</g>\n",
       "<!-- 720&#45;&gt;open -->\n",
       "<g id=\"edge399\" class=\"edge\">\n",
       "<title>720&#45;&gt;open</title>\n",
       "<path fill=\"none\" stroke=\"black\" d=\"M2642.12,-170.85C2652.96,-166.9 2664.06,-162.12 2674.48,-160 2702.78,-154.24 4732.59,-161.93 4753.48,-142 4756.83,-138.8 4758.41,-134.45 4758.53,-129.87\"/>\n",
       "<polygon fill=\"black\" stroke=\"black\" points=\"4761.93,-129 4756.58,-119.85 4755.06,-130.34 4761.93,-129\"/>\n",
       "</g>\n",
       "<!-- 760 -->\n",
       "<g id=\"node24\" class=\"node\">\n",
       "<title>760</title>\n",
       "<ellipse fill=\"none\" stroke=\"black\" cx=\"2694.48\" cy=\"-178\" rx=\"28.7\" ry=\"18\"/>\n",
       "<text text-anchor=\"middle\" x=\"2694.48\" y=\"-174.3\" font-family=\"Times,serif\" font-size=\"14.00\">760</text>\n",
       "</g>\n",
       "<!-- 760&#45;&gt;close -->\n",
       "<g id=\"edge43\" class=\"edge\">\n",
       "<title>760&#45;&gt;close</title>\n",
       "<path fill=\"none\" stroke=\"black\" d=\"M2666.52,-173.6C2651.47,-170.06 2638.15,-164.43 2626.48,-160 2592.16,-146.97 2553.13,-133.54 2525.9,-123.33\"/>\n",
       "<polygon fill=\"black\" stroke=\"black\" points=\"2527.02,-120.01 2516.43,-119.72 2524.52,-126.56 2527.02,-120.01\"/>\n",
       "</g>\n",
       "<!-- 760&#45;&gt;close -->\n",
       "<g id=\"edge145\" class=\"edge\">\n",
       "<title>760&#45;&gt;close</title>\n",
       "<path fill=\"none\" stroke=\"black\" d=\"M2669.13,-169.65C2661.09,-166.57 2652.4,-163.01 2644.48,-160 2606.47,-145.57 2562.68,-130.65 2532.53,-120.16\"/>\n",
       "<polygon fill=\"black\" stroke=\"black\" points=\"2533.45,-116.77 2522.85,-116.77 2531.14,-123.38 2533.45,-116.77\"/>\n",
       "</g>\n",
       "<!-- 760&#45;&gt;close -->\n",
       "<g id=\"edge273\" class=\"edge\">\n",
       "<title>760&#45;&gt;close</title>\n",
       "<path fill=\"none\" stroke=\"black\" d=\"M2674.8,-164.89C2670.75,-163.21 2666.51,-161.53 2662.48,-160 2620.05,-143.89 2570.42,-127.17 2536.41,-116.68\"/>\n",
       "<polygon fill=\"black\" stroke=\"black\" points=\"2537.4,-113.33 2526.81,-113.77 2535.36,-120.02 2537.4,-113.33\"/>\n",
       "</g>\n",
       "<!-- 760&#45;&gt;close -->\n",
       "<g id=\"edge401\" class=\"edge\">\n",
       "<title>760&#45;&gt;close</title>\n",
       "<path fill=\"none\" stroke=\"black\" d=\"M2683.53,-161.17C2682.51,-160.77 2681.49,-160.38 2680.48,-160 2633.75,-142.26 2578.29,-123.78 2538.98,-113.7\"/>\n",
       "<polygon fill=\"black\" stroke=\"black\" points=\"2539.64,-110.26 2529.1,-111.26 2537.97,-117.05 2539.64,-110.26\"/>\n",
       "</g>\n",
       "<!-- 760&#45;&gt;open -->\n",
       "<g id=\"edge147\" class=\"edge\">\n",
       "<title>760&#45;&gt;open</title>\n",
       "<path fill=\"none\" stroke=\"black\" d=\"M2708.86,-162.28C2711.69,-161.37 2714.61,-160.58 2717.48,-160 2745.53,-154.29 4758.33,-162.33 4778.48,-142 4786.32,-134.09 4780.72,-127.18 4771.25,-121.59\"/>\n",
       "<polygon fill=\"black\" stroke=\"black\" points=\"4772.69,-118.4 4762.18,-117.03 4769.54,-124.65 4772.69,-118.4\"/>\n",
       "</g>\n",
       "<!-- 760&#45;&gt;open -->\n",
       "<g id=\"edge275\" class=\"edge\">\n",
       "<title>760&#45;&gt;open</title>\n",
       "<path fill=\"none\" stroke=\"black\" d=\"M2716.12,-166.22C2722.23,-163.67 2728.99,-161.32 2735.48,-160 2763.53,-154.29 4776.33,-162.33 4796.48,-142 4806.96,-131.43 4793.43,-122.65 4776.71,-116.41\"/>\n",
       "<polygon fill=\"black\" stroke=\"black\" points=\"4777.81,-113.09 4767.21,-113.21 4775.57,-119.72 4777.81,-113.09\"/>\n",
       "</g>\n",
       "<!-- 760&#45;&gt;open -->\n",
       "<g id=\"edge403\" class=\"edge\">\n",
       "<title>760&#45;&gt;open</title>\n",
       "<path fill=\"none\" stroke=\"black\" d=\"M2721.12,-170.85C2731.96,-166.9 2743.06,-162.12 2753.48,-160 2781.53,-154.29 4794.33,-162.33 4814.48,-142 4827.31,-129.06 4804.16,-118.81 4779.45,-112.6\"/>\n",
       "<polygon fill=\"black\" stroke=\"black\" points=\"4780.13,-109.17 4769.6,-110.35 4778.57,-115.99 4780.13,-109.17\"/>\n",
       "</g>\n",
       "<!-- 800 -->\n",
       "<g id=\"node25\" class=\"node\">\n",
       "<title>800</title>\n",
       "<ellipse fill=\"none\" stroke=\"black\" cx=\"2773.48\" cy=\"-178\" rx=\"28.7\" ry=\"18\"/>\n",
       "<text text-anchor=\"middle\" x=\"2773.48\" y=\"-174.3\" font-family=\"Times,serif\" font-size=\"14.00\">800</text>\n",
       "</g>\n",
       "<!-- 800&#45;&gt;close -->\n",
       "<g id=\"edge45\" class=\"edge\">\n",
       "<title>800&#45;&gt;close</title>\n",
       "<path fill=\"none\" stroke=\"black\" d=\"M2745.61,-173.34C2730.63,-169.6 2717.37,-163.8 2705.48,-160 2647.1,-141.36 2578.66,-126.44 2535.55,-117.04\"/>\n",
       "<polygon fill=\"black\" stroke=\"black\" points=\"2536.2,-113.6 2525.69,-114.89 2534.71,-120.44 2536.2,-113.6\"/>\n",
       "</g>\n",
       "<!-- 800&#45;&gt;close -->\n",
       "<g id=\"edge149\" class=\"edge\">\n",
       "<title>800&#45;&gt;close</title>\n",
       "<path fill=\"none\" stroke=\"black\" d=\"M2748.28,-169.23C2740.26,-166.08 2731.56,-162.58 2723.48,-160 2659.64,-139.62 2583.78,-123.68 2537.8,-114.55\"/>\n",
       "<polygon fill=\"black\" stroke=\"black\" points=\"2538.39,-111.1 2527.9,-112.6 2537.04,-117.97 2538.39,-111.1\"/>\n",
       "</g>\n",
       "<!-- 800&#45;&gt;close -->\n",
       "<g id=\"edge277\" class=\"edge\">\n",
       "<title>800&#45;&gt;close</title>\n",
       "<path fill=\"none\" stroke=\"black\" d=\"M2753.94,-164.49C2749.87,-162.86 2745.59,-161.31 2741.48,-160 2672.32,-137.92 2589.06,-121.06 2539.44,-112.42\"/>\n",
       "<polygon fill=\"black\" stroke=\"black\" points=\"2539.83,-108.93 2529.38,-110.7 2538.65,-115.83 2539.83,-108.93\"/>\n",
       "</g>\n",
       "<!-- 800&#45;&gt;close -->\n",
       "<g id=\"edge405\" class=\"edge\">\n",
       "<title>800&#45;&gt;close</title>\n",
       "<path fill=\"none\" stroke=\"black\" d=\"M2763.03,-161.18C2761.84,-160.77 2760.65,-160.37 2759.48,-160 2685.19,-136.28 2594.62,-118.58 2540.11,-110.63\"/>\n",
       "<polygon fill=\"black\" stroke=\"black\" points=\"2540.42,-107.14 2530.03,-109.22 2539.45,-114.07 2540.42,-107.14\"/>\n",
       "</g>\n",
       "<!-- 800&#45;&gt;open -->\n",
       "<g id=\"edge151\" class=\"edge\">\n",
       "<title>800&#45;&gt;open</title>\n",
       "<path fill=\"none\" stroke=\"black\" d=\"M2787.86,-162.28C2790.69,-161.37 2793.61,-160.58 2796.48,-160 2824.29,-154.34 4819.5,-162.15 4839.48,-142 4862.15,-119.13 4818.45,-110.67 4781.05,-107.6\"/>\n",
       "<polygon fill=\"black\" stroke=\"black\" points=\"4780.95,-104.09 4770.73,-106.87 4780.46,-111.07 4780.95,-104.09\"/>\n",
       "</g>\n",
       "<!-- 800&#45;&gt;open -->\n",
       "<g id=\"edge279\" class=\"edge\">\n",
       "<title>800&#45;&gt;open</title>\n",
       "<path fill=\"none\" stroke=\"black\" d=\"M2795.12,-166.22C2801.23,-163.68 2807.99,-161.32 2814.48,-160 2842.29,-154.34 4837.5,-162.15 4857.48,-142 4882.93,-116.33 4824.77,-108.82 4780.83,-106.7\"/>\n",
       "<polygon fill=\"black\" stroke=\"black\" points=\"4780.72,-103.2 4770.59,-106.29 4780.44,-110.19 4780.72,-103.2\"/>\n",
       "</g>\n",
       "<!-- 800&#45;&gt;open -->\n",
       "<g id=\"edge407\" class=\"edge\">\n",
       "<title>800&#45;&gt;open</title>\n",
       "<path fill=\"none\" stroke=\"black\" d=\"M2800.12,-170.85C2810.96,-166.9 2822.06,-162.12 2832.48,-160 2860.29,-154.34 4855.5,-162.15 4875.48,-142 4903.27,-113.96 4831.34,-107.59 4780.7,-106.25\"/>\n",
       "<polygon fill=\"black\" stroke=\"black\" points=\"4780.65,-102.75 4770.58,-106.04 4780.51,-109.75 4780.65,-102.75\"/>\n",
       "</g>\n",
       "<!-- 840 -->\n",
       "<g id=\"node26\" class=\"node\">\n",
       "<title>840</title>\n",
       "<ellipse fill=\"none\" stroke=\"black\" cx=\"2852.48\" cy=\"-178\" rx=\"28.7\" ry=\"18\"/>\n",
       "<text text-anchor=\"middle\" x=\"2852.48\" y=\"-174.3\" font-family=\"Times,serif\" font-size=\"14.00\">840</text>\n",
       "</g>\n",
       "<!-- 840&#45;&gt;close -->\n",
       "<g id=\"edge47\" class=\"edge\">\n",
       "<title>840&#45;&gt;close</title>\n",
       "<path fill=\"none\" stroke=\"black\" d=\"M2824.64,-173.24C2809.69,-169.42 2796.45,-163.55 2784.48,-160 2699.1,-134.65 2596.96,-119.86 2539.29,-112.35\"/>\n",
       "<polygon fill=\"black\" stroke=\"black\" points=\"2539.41,-108.84 2529.05,-111.04 2538.52,-115.78 2539.41,-108.84\"/>\n",
       "</g>\n",
       "<!-- 840&#45;&gt;close -->\n",
       "<g id=\"edge153\" class=\"edge\">\n",
       "<title>840&#45;&gt;close</title>\n",
       "<path fill=\"none\" stroke=\"black\" d=\"M2827.33,-169.07C2819.32,-165.89 2810.61,-162.41 2802.48,-160 2711.16,-132.89 2600.64,-117.85 2540.47,-110.89\"/>\n",
       "<polygon fill=\"black\" stroke=\"black\" points=\"2540.52,-107.37 2530.19,-109.72 2539.73,-114.33 2540.52,-107.37\"/>\n",
       "</g>\n",
       "<!-- 840&#45;&gt;close -->\n",
       "<g id=\"edge281\" class=\"edge\">\n",
       "<title>840&#45;&gt;close</title>\n",
       "<path fill=\"none\" stroke=\"black\" d=\"M2833.42,-164.51C2829.21,-162.84 2824.76,-161.27 2820.48,-160 2722.98,-131.05 2603.62,-115.87 2540.38,-109.59\"/>\n",
       "<polygon fill=\"black\" stroke=\"black\" points=\"2540.64,-106.1 2530.35,-108.62 2539.97,-113.07 2540.64,-106.1\"/>\n",
       "</g>\n",
       "<!-- 840&#45;&gt;close -->\n",
       "<g id=\"edge409\" class=\"edge\">\n",
       "<title>840&#45;&gt;close</title>\n",
       "<path fill=\"none\" stroke=\"black\" d=\"M2842.05,-161.12C2840.86,-160.72 2839.66,-160.35 2838.48,-160 2735.73,-129.49 2608.7,-114.28 2540.93,-108.65\"/>\n",
       "<polygon fill=\"black\" stroke=\"black\" points=\"2540.82,-105.13 2530.57,-107.83 2540.26,-112.11 2540.82,-105.13\"/>\n",
       "</g>\n",
       "<!-- 840&#45;&gt;open -->\n",
       "<g id=\"edge155\" class=\"edge\">\n",
       "<title>840&#45;&gt;open</title>\n",
       "<path fill=\"none\" stroke=\"black\" d=\"M2866.86,-162.28C2869.69,-161.37 2872.61,-160.58 2875.48,-160 2903.04,-154.39 4880.68,-161.98 4900.48,-142 4919.44,-122.87 4835.39,-113.34 4780.58,-109.05\"/>\n",
       "<polygon fill=\"black\" stroke=\"black\" points=\"4780.62,-105.54 4770.39,-108.28 4780.1,-112.52 4780.62,-105.54\"/>\n",
       "</g>\n",
       "<!-- 840&#45;&gt;open -->\n",
       "<g id=\"edge283\" class=\"edge\">\n",
       "<title>840&#45;&gt;open</title>\n",
       "<path fill=\"none\" stroke=\"black\" d=\"M2874.12,-166.22C2880.23,-163.68 2886.99,-161.32 2893.48,-160 2921.04,-154.39 4898.68,-161.98 4918.48,-142 4938.8,-121.5 4840.85,-112.02 4781.05,-108.21\"/>\n",
       "<polygon fill=\"black\" stroke=\"black\" points=\"4780.92,-104.69 4770.73,-107.58 4780.5,-111.68 4780.92,-104.69\"/>\n",
       "</g>\n",
       "<!-- 840&#45;&gt;open -->\n",
       "<g id=\"edge411\" class=\"edge\">\n",
       "<title>840&#45;&gt;open</title>\n",
       "<path fill=\"none\" stroke=\"black\" d=\"M2879.12,-170.85C2889.96,-166.9 2901.06,-162.12 2911.48,-160 2939.04,-154.39 4916.68,-161.98 4936.48,-142 4958.1,-120.18 4845.8,-110.85 4780.49,-107.54\"/>\n",
       "<polygon fill=\"black\" stroke=\"black\" points=\"4780.6,-104.04 4770.44,-107.06 4780.26,-111.04 4780.6,-104.04\"/>\n",
       "</g>\n",
       "<!-- 880 -->\n",
       "<g id=\"node27\" class=\"node\">\n",
       "<title>880</title>\n",
       "<ellipse fill=\"none\" stroke=\"black\" cx=\"2931.48\" cy=\"-178\" rx=\"28.7\" ry=\"18\"/>\n",
       "<text text-anchor=\"middle\" x=\"2931.48\" y=\"-174.3\" font-family=\"Times,serif\" font-size=\"14.00\">880</text>\n",
       "</g>\n",
       "<!-- 880&#45;&gt;close -->\n",
       "<g id=\"edge49\" class=\"edge\">\n",
       "<title>880&#45;&gt;close</title>\n",
       "<path fill=\"none\" stroke=\"black\" d=\"M2903.65,-173.21C2888.71,-169.35 2875.47,-163.47 2863.48,-160 2749.76,-127.14 2611.64,-114.07 2540.92,-109.03\"/>\n",
       "<polygon fill=\"black\" stroke=\"black\" points=\"2540.79,-105.51 2530.58,-108.31 2540.31,-112.49 2540.79,-105.51\"/>\n",
       "</g>\n",
       "<!-- 880&#45;&gt;close -->\n",
       "<g id=\"edge157\" class=\"edge\">\n",
       "<title>880&#45;&gt;close</title>\n",
       "<path fill=\"none\" stroke=\"black\" d=\"M2906.34,-169.01C2898.34,-165.82 2889.62,-162.35 2881.48,-160 2761.21,-125.25 2613.64,-112.63 2540.99,-108.23\"/>\n",
       "<polygon fill=\"black\" stroke=\"black\" points=\"2541.01,-104.73 2530.82,-107.64 2540.6,-111.72 2541.01,-104.73\"/>\n",
       "</g>\n",
       "<!-- 880&#45;&gt;close -->\n",
       "<g id=\"edge285\" class=\"edge\">\n",
       "<title>880&#45;&gt;close</title>\n",
       "<path fill=\"none\" stroke=\"black\" d=\"M2912.44,-164.45C2908.23,-162.79 2903.77,-161.24 2899.48,-160 2772.94,-123.44 2616.19,-111.38 2540.81,-107.61\"/>\n",
       "<polygon fill=\"black\" stroke=\"black\" points=\"2540.88,-104.11 2530.72,-107.13 2540.55,-111.1 2540.88,-104.11\"/>\n",
       "</g>\n",
       "<!-- 880&#45;&gt;close -->\n",
       "<g id=\"edge413\" class=\"edge\">\n",
       "<title>880&#45;&gt;close</title>\n",
       "<path fill=\"none\" stroke=\"black\" d=\"M2921.06,-161.09C2919.86,-160.71 2918.66,-160.34 2917.48,-160 2785.44,-121.85 2620.52,-110.38 2540.99,-107.16\"/>\n",
       "<polygon fill=\"black\" stroke=\"black\" points=\"2540.93,-103.66 2530.81,-106.78 2540.67,-110.65 2540.93,-103.66\"/>\n",
       "</g>\n",
       "<!-- 880&#45;&gt;open -->\n",
       "<g id=\"edge159\" class=\"edge\">\n",
       "<title>880&#45;&gt;open</title>\n",
       "<path fill=\"none\" stroke=\"black\" d=\"M2945.86,-162.28C2948.69,-161.37 2951.61,-160.58 2954.48,-160 2981.8,-154.43 4941.86,-161.8 4961.48,-142 4988.77,-114.47 4854.13,-107.89 4781.11,-106.39\"/>\n",
       "<polygon fill=\"black\" stroke=\"black\" points=\"4780.87,-102.89 4770.81,-106.2 4780.75,-109.88 4780.87,-102.89\"/>\n",
       "</g>\n",
       "<!-- 880&#45;&gt;open -->\n",
       "<g id=\"edge287\" class=\"edge\">\n",
       "<title>880&#45;&gt;open</title>\n",
       "<path fill=\"none\" stroke=\"black\" d=\"M2953.12,-166.22C2959.23,-163.68 2965.99,-161.32 2972.48,-160 2999.8,-154.43 4959.86,-161.8 4979.48,-142 5008.14,-113.08 4858.13,-107.28 4781,-106.2\"/>\n",
       "<polygon fill=\"black\" stroke=\"black\" points=\"4780.67,-102.69 4770.62,-106.08 4780.58,-109.69 4780.67,-102.69\"/>\n",
       "</g>\n",
       "<!-- 880&#45;&gt;open -->\n",
       "<g id=\"edge415\" class=\"edge\">\n",
       "<title>880&#45;&gt;open</title>\n",
       "<path fill=\"none\" stroke=\"black\" d=\"M2958.12,-170.85C2968.96,-166.9 2980.06,-162.12 2990.48,-160 3017.8,-154.43 4977.86,-161.8 4997.48,-142 5027.41,-111.8 4862.55,-106.82 4780.63,-106.08\"/>\n",
       "<polygon fill=\"black\" stroke=\"black\" points=\"4780.62,-102.58 4770.6,-106.01 4780.57,-109.58 4780.62,-102.58\"/>\n",
       "</g>\n",
       "<!-- 920 -->\n",
       "<g id=\"node28\" class=\"node\">\n",
       "<title>920</title>\n",
       "<ellipse fill=\"none\" stroke=\"black\" cx=\"3010.48\" cy=\"-178\" rx=\"28.7\" ry=\"18\"/>\n",
       "<text text-anchor=\"middle\" x=\"3010.48\" y=\"-174.3\" font-family=\"Times,serif\" font-size=\"14.00\">920</text>\n",
       "</g>\n",
       "<!-- 920&#45;&gt;close -->\n",
       "<g id=\"edge51\" class=\"edge\">\n",
       "<title>920&#45;&gt;close</title>\n",
       "<path fill=\"none\" stroke=\"black\" d=\"M2982.65,-173.21C2967.71,-169.35 2954.48,-163.46 2942.48,-160 2893.97,-146.02 2880.53,-147.66 2830.48,-141 2726.42,-127.15 2604.79,-116.49 2540.07,-110.75\"/>\n",
       "<polygon fill=\"black\" stroke=\"black\" points=\"2540.07,-107.23 2529.8,-109.83 2539.45,-114.21 2540.07,-107.23\"/>\n",
       "</g>\n",
       "<!-- 920&#45;&gt;close -->\n",
       "<g id=\"edge161\" class=\"edge\">\n",
       "<title>920&#45;&gt;close</title>\n",
       "<path fill=\"none\" stroke=\"black\" d=\"M2985.35,-169.01C2977.34,-165.82 2968.63,-162.35 2960.48,-160 2911.97,-146.02 2898.53,-147.66 2848.48,-141 2737.84,-126.27 2607.33,-115.16 2540.51,-109.72\"/>\n",
       "<polygon fill=\"black\" stroke=\"black\" points=\"2540.59,-106.21 2530.34,-108.89 2540.03,-113.19 2540.59,-106.21\"/>\n",
       "</g>\n",
       "<!-- 920&#45;&gt;close -->\n",
       "<g id=\"edge289\" class=\"edge\">\n",
       "<title>920&#45;&gt;close</title>\n",
       "<path fill=\"none\" stroke=\"black\" d=\"M2991.44,-164.44C2987.23,-162.79 2982.78,-161.24 2978.48,-160 2929.97,-146.02 2916.53,-147.66 2866.48,-141 2749.52,-125.43 2610.37,-113.9 2540.65,-108.84\"/>\n",
       "<polygon fill=\"black\" stroke=\"black\" points=\"2540.7,-105.33 2530.47,-108.11 2540.2,-112.32 2540.7,-105.33\"/>\n",
       "</g>\n",
       "<!-- 920&#45;&gt;close -->\n",
       "<g id=\"edge417\" class=\"edge\">\n",
       "<title>920&#45;&gt;close</title>\n",
       "<path fill=\"none\" stroke=\"black\" d=\"M3000.06,-161.09C2998.86,-160.71 2997.67,-160.34 2996.48,-160 2947.97,-146.02 2934.53,-147.66 2884.48,-141 2761.93,-124.69 2615.01,-112.81 2541.01,-108.16\"/>\n",
       "<polygon fill=\"black\" stroke=\"black\" points=\"2540.83,-104.64 2530.63,-107.53 2540.4,-111.63 2540.83,-104.64\"/>\n",
       "</g>\n",
       "<!-- 920&#45;&gt;open -->\n",
       "<g id=\"edge163\" class=\"edge\">\n",
       "<title>920&#45;&gt;open</title>\n",
       "<path fill=\"none\" stroke=\"black\" d=\"M3024.49,-162.14C3027.12,-161.29 3029.82,-160.55 3032.48,-160 3059.54,-154.36 5003.02,-161.63 5022.48,-142 5040.2,-124.12 4864.57,-112.95 4780.31,-108.38\"/>\n",
       "<polygon fill=\"black\" stroke=\"black\" points=\"4780.44,-104.88 4770.26,-107.84 4780.06,-111.87 4780.44,-104.88\"/>\n",
       "</g>\n",
       "<!-- 920&#45;&gt;open -->\n",
       "<g id=\"edge291\" class=\"edge\">\n",
       "<title>920&#45;&gt;open</title>\n",
       "<path fill=\"none\" stroke=\"black\" d=\"M3031.98,-166.04C3037.84,-163.57 3044.28,-161.29 3050.48,-160 3077.54,-154.36 5021.02,-161.63 5040.48,-142 5058.89,-123.42 4868.61,-112.09 4780.64,-107.87\"/>\n",
       "<polygon fill=\"black\" stroke=\"black\" points=\"4780.59,-104.37 4770.44,-107.39 4780.26,-111.36 4780.59,-104.37\"/>\n",
       "</g>\n",
       "<!-- 920&#45;&gt;open -->\n",
       "<g id=\"edge419\" class=\"edge\">\n",
       "<title>920&#45;&gt;open</title>\n",
       "<path fill=\"none\" stroke=\"black\" d=\"M3036.82,-170.85C3047.46,-166.9 3058.29,-162.12 3068.48,-160 3095.54,-154.36 5039.02,-161.63 5058.48,-142 5077.53,-122.77 4873.05,-111.3 4780.64,-107.46\"/>\n",
       "<polygon fill=\"black\" stroke=\"black\" points=\"4780.61,-103.95 4770.48,-107.05 4780.33,-110.95 4780.61,-103.95\"/>\n",
       "</g>\n",
       "<!-- 960 -->\n",
       "<g id=\"node29\" class=\"node\">\n",
       "<title>960</title>\n",
       "<ellipse fill=\"none\" stroke=\"black\" cx=\"3088.48\" cy=\"-178\" rx=\"28.7\" ry=\"18\"/>\n",
       "<text text-anchor=\"middle\" x=\"3088.48\" y=\"-174.3\" font-family=\"Times,serif\" font-size=\"14.00\">960</text>\n",
       "</g>\n",
       "<!-- 960&#45;&gt;close -->\n",
       "<g id=\"edge53\" class=\"edge\">\n",
       "<title>960&#45;&gt;close</title>\n",
       "<path fill=\"none\" stroke=\"black\" d=\"M3060.88,-173.1C3046.16,-169.16 3033.28,-163.2 3021.48,-160 2957.47,-142.65 2939.42,-148.09 2873.48,-141 2752.8,-128.03 2611.44,-116.66 2540.23,-110.61\"/>\n",
       "<polygon fill=\"black\" stroke=\"black\" points=\"2540.09,-107.09 2529.83,-109.72 2539.5,-114.06 2540.09,-107.09\"/>\n",
       "</g>\n",
       "<!-- 960&#45;&gt;close -->\n",
       "<g id=\"edge165\" class=\"edge\">\n",
       "<title>960&#45;&gt;close</title>\n",
       "<path fill=\"none\" stroke=\"black\" d=\"M3063.82,-168.84C3056,-165.62 3047.49,-162.17 3039.48,-160 2975.47,-142.65 2957.42,-148.09 2891.48,-141 2764.05,-127.31 2613.56,-115.39 2540.48,-109.65\"/>\n",
       "<polygon fill=\"black\" stroke=\"black\" points=\"2540.51,-106.14 2530.27,-108.84 2539.97,-113.12 2540.51,-106.14\"/>\n",
       "</g>\n",
       "<!-- 960&#45;&gt;close -->\n",
       "<g id=\"edge293\" class=\"edge\">\n",
       "<title>960&#45;&gt;close</title>\n",
       "<path fill=\"none\" stroke=\"black\" d=\"M3069.76,-164.11C3065.77,-162.54 3061.56,-161.11 3057.48,-160 2993.47,-142.65 2975.42,-148.09 2909.48,-141 2775.77,-126.63 2616.67,-114.22 2540.78,-108.84\"/>\n",
       "<polygon fill=\"black\" stroke=\"black\" points=\"2540.85,-105.34 2530.63,-108.13 2540.36,-112.32 2540.85,-105.34\"/>\n",
       "</g>\n",
       "<!-- 960&#45;&gt;close -->\n",
       "<g id=\"edge421\" class=\"edge\">\n",
       "<title>960&#45;&gt;close</title>\n",
       "<path fill=\"none\" stroke=\"black\" d=\"M3078.56,-160.89C3077.53,-160.57 3076.5,-160.28 3075.48,-160 3011.47,-142.65 2993.42,-148.09 2927.48,-141 2787.97,-126.01 2620.82,-113.15 2540.88,-108.18\"/>\n",
       "<polygon fill=\"black\" stroke=\"black\" points=\"2540.85,-104.68 2530.65,-107.56 2540.42,-111.66 2540.85,-104.68\"/>\n",
       "</g>\n",
       "<!-- 960&#45;&gt;open -->\n",
       "<g id=\"edge167\" class=\"edge\">\n",
       "<title>960&#45;&gt;open</title>\n",
       "<path fill=\"none\" stroke=\"black\" d=\"M3101.69,-161.86C3103.93,-161.13 3106.22,-160.49 3108.48,-160 3135.28,-154.15 5064.17,-161.49 5083.48,-142 5105.45,-119.83 4879.03,-110.48 4780.9,-107.33\"/>\n",
       "<polygon fill=\"black\" stroke=\"black\" points=\"4780.81,-103.83 4770.7,-107.02 4780.59,-110.83 4780.81,-103.83\"/>\n",
       "</g>\n",
       "<!-- 960&#45;&gt;open -->\n",
       "<g id=\"edge295\" class=\"edge\">\n",
       "<title>960&#45;&gt;open</title>\n",
       "<path fill=\"none\" stroke=\"black\" d=\"M3109.66,-165.69C3115,-163.36 3120.83,-161.23 3126.48,-160 3153.28,-154.15 5082.17,-161.49 5101.48,-142 5124.14,-119.13 4882.41,-109.9 4781.01,-107.05\"/>\n",
       "<polygon fill=\"black\" stroke=\"black\" points=\"4780.88,-103.55 4770.79,-106.78 4780.69,-110.55 4780.88,-103.55\"/>\n",
       "</g>\n",
       "<!-- 960&#45;&gt;open -->\n",
       "<g id=\"edge423\" class=\"edge\">\n",
       "<title>960&#45;&gt;open</title>\n",
       "<path fill=\"none\" stroke=\"black\" d=\"M3114.67,-170.68C3124.75,-166.76 3134.88,-162.1 3144.48,-160 3171.28,-154.15 5100.17,-161.49 5119.48,-142 5142.81,-118.45 4885.94,-109.37 4780.66,-106.82\"/>\n",
       "<polygon fill=\"black\" stroke=\"black\" points=\"4780.74,-103.32 4770.66,-106.59 4780.57,-110.32 4780.74,-103.32\"/>\n",
       "</g>\n",
       "<!-- 1000 -->\n",
       "<g id=\"node30\" class=\"node\">\n",
       "<title>1000</title>\n",
       "<ellipse fill=\"none\" stroke=\"black\" cx=\"3169.48\" cy=\"-178\" rx=\"34.39\" ry=\"18\"/>\n",
       "<text text-anchor=\"middle\" x=\"3169.48\" y=\"-174.3\" font-family=\"Times,serif\" font-size=\"14.00\">1000</text>\n",
       "</g>\n",
       "<!-- 1000&#45;&gt;close -->\n",
       "<g id=\"edge55\" class=\"edge\">\n",
       "<title>1000&#45;&gt;close</title>\n",
       "<path fill=\"none\" stroke=\"black\" d=\"M3136.8,-171.83C3123.25,-167.93 3110.86,-162.79 3099.48,-160 3020.49,-140.65 2998.47,-148.39 2917.48,-141 2779.65,-128.42 2617.7,-116.47 2540.24,-110.32\"/>\n",
       "<polygon fill=\"black\" stroke=\"black\" points=\"2540.13,-106.8 2529.89,-109.49 2539.57,-113.77 2540.13,-106.8\"/>\n",
       "</g>\n",
       "<!-- 1000&#45;&gt;close -->\n",
       "<g id=\"edge169\" class=\"edge\">\n",
       "<title>1000&#45;&gt;close</title>\n",
       "<path fill=\"none\" stroke=\"black\" d=\"M3140.8,-167.71C3133.21,-164.8 3125.12,-161.87 3117.48,-160 3038.49,-140.65 3016.47,-148.39 2935.48,-141 2790.86,-127.8 2619.69,-115.29 2540.51,-109.45\"/>\n",
       "<polygon fill=\"black\" stroke=\"black\" points=\"2540.64,-105.95 2530.41,-108.7 2540.12,-112.93 2540.64,-105.95\"/>\n",
       "</g>\n",
       "<!-- 1000&#45;&gt;close -->\n",
       "<g id=\"edge297\" class=\"edge\">\n",
       "<title>1000&#45;&gt;close</title>\n",
       "<path fill=\"none\" stroke=\"black\" d=\"M3147.73,-163.71C3143.72,-162.28 3139.53,-160.99 3135.48,-160 3056.49,-140.65 3034.47,-148.39 2953.48,-141 2802.57,-127.23 2622.76,-114.21 2540.85,-108.72\"/>\n",
       "<polygon fill=\"black\" stroke=\"black\" points=\"2540.86,-105.22 2530.65,-108.05 2540.4,-112.2 2540.86,-105.22\"/>\n",
       "</g>\n",
       "<!-- 1000&#45;&gt;close -->\n",
       "<g id=\"edge425\" class=\"edge\">\n",
       "<title>1000&#45;&gt;close</title>\n",
       "<path fill=\"none\" stroke=\"black\" d=\"M3157.25,-161C3155.99,-160.64 3154.73,-160.31 3153.48,-160 3074.49,-140.65 3052.47,-148.39 2971.48,-141 2814.67,-126.69 2626.65,-113.19 2540.87,-108.12\"/>\n",
       "<polygon fill=\"black\" stroke=\"black\" points=\"2540.87,-104.61 2530.68,-107.53 2540.46,-111.6 2540.87,-104.61\"/>\n",
       "</g>\n",
       "<!-- 1000&#45;&gt;open -->\n",
       "<g id=\"edge171\" class=\"edge\">\n",
       "<title>1000&#45;&gt;open</title>\n",
       "<path fill=\"none\" stroke=\"black\" d=\"M3186.75,-162.14C3189.63,-161.29 3192.58,-160.55 3195.48,-160 3222.07,-154.91 5125.43,-161.23 5144.48,-142 5170.77,-115.47 4891.68,-108.4 4781.01,-106.59\"/>\n",
       "<polygon fill=\"black\" stroke=\"black\" points=\"4780.9,-103.09 4770.84,-106.43 4780.79,-110.09 4780.9,-103.09\"/>\n",
       "</g>\n",
       "<!-- 1000&#45;&gt;open -->\n",
       "<g id=\"edge299\" class=\"edge\">\n",
       "<title>1000&#45;&gt;open</title>\n",
       "<path fill=\"none\" stroke=\"black\" d=\"M3194.62,-165.51C3200.67,-163.25 3207.21,-161.2 3213.48,-160 3240.07,-154.91 5143.43,-161.23 5162.48,-142 5189.49,-114.74 4894.14,-108.02 4780.74,-106.45\"/>\n",
       "<polygon fill=\"black\" stroke=\"black\" points=\"4780.71,-102.95 4770.66,-106.32 4780.62,-109.95 4780.71,-102.95\"/>\n",
       "</g>\n",
       "<!-- 1000&#45;&gt;open -->\n",
       "<g id=\"edge427\" class=\"edge\">\n",
       "<title>1000&#45;&gt;open</title>\n",
       "<path fill=\"none\" stroke=\"black\" d=\"M3200.26,-169.71C3210.7,-166.02 3221.43,-161.92 3231.48,-160 3258.07,-154.91 5161.43,-161.23 5180.48,-142 5208.12,-114.11 4898.23,-107.72 4780.89,-106.35\"/>\n",
       "<polygon fill=\"black\" stroke=\"black\" points=\"4780.85,-102.85 4770.81,-106.24 4780.77,-109.85 4780.85,-102.85\"/>\n",
       "</g>\n",
       "<!-- 1040 -->\n",
       "<g id=\"node31\" class=\"node\">\n",
       "<title>1040</title>\n",
       "<ellipse fill=\"none\" stroke=\"black\" cx=\"3256.48\" cy=\"-178\" rx=\"34.39\" ry=\"18\"/>\n",
       "<text text-anchor=\"middle\" x=\"3256.48\" y=\"-174.3\" font-family=\"Times,serif\" font-size=\"14.00\">1040</text>\n",
       "</g>\n",
       "<!-- 1040&#45;&gt;close -->\n",
       "<g id=\"edge57\" class=\"edge\">\n",
       "<title>1040&#45;&gt;close</title>\n",
       "<path fill=\"none\" stroke=\"black\" d=\"M3223.83,-171.85C3209.98,-167.91 3197.21,-162.71 3185.48,-160 3088.56,-137.63 3061.65,-148.74 2962.48,-141 2807.02,-128.86 2623.84,-116.32 2540.3,-110.06\"/>\n",
       "<polygon fill=\"black\" stroke=\"black\" points=\"2540.37,-106.56 2530.13,-109.3 2539.84,-113.54 2540.37,-106.56\"/>\n",
       "</g>\n",
       "<!-- 1040&#45;&gt;close -->\n",
       "<g id=\"edge173\" class=\"edge\">\n",
       "<title>1040&#45;&gt;close</title>\n",
       "<path fill=\"none\" stroke=\"black\" d=\"M3227.8,-167.81C3219.92,-164.84 3211.46,-161.84 3203.48,-160 3106.56,-137.63 3079.65,-148.74 2980.48,-141 2818.09,-128.32 2625.45,-115.2 2540.38,-109.26\"/>\n",
       "<polygon fill=\"black\" stroke=\"black\" points=\"2540.53,-105.77 2530.31,-108.56 2540.04,-112.75 2540.53,-105.77\"/>\n",
       "</g>\n",
       "<!-- 1040&#45;&gt;close -->\n",
       "<g id=\"edge301\" class=\"edge\">\n",
       "<title>1040&#45;&gt;close</title>\n",
       "<path fill=\"none\" stroke=\"black\" d=\"M3234.49,-163.81C3230.24,-162.33 3225.79,-160.99 3221.48,-160 3124.56,-137.63 3097.65,-148.74 2998.48,-141 2829.76,-127.82 2628.38,-114.18 2540.7,-108.6\"/>\n",
       "<polygon fill=\"black\" stroke=\"black\" points=\"2540.78,-105.1 2530.58,-107.96 2540.34,-112.09 2540.78,-105.1\"/>\n",
       "</g>\n",
       "<!-- 1040&#45;&gt;close -->\n",
       "<g id=\"edge429\" class=\"edge\">\n",
       "<title>1040&#45;&gt;close</title>\n",
       "<path fill=\"none\" stroke=\"black\" d=\"M3243.82,-161.1C3242.37,-160.7 3240.92,-160.33 3239.48,-160 3142.56,-137.63 3115.65,-148.74 3016.48,-141 2841.85,-127.36 2632.25,-113.22 2540.8,-108.05\"/>\n",
       "<polygon fill=\"black\" stroke=\"black\" points=\"2540.94,-104.55 2530.76,-107.49 2540.55,-111.54 2540.94,-104.55\"/>\n",
       "</g>\n",
       "<!-- 1040&#45;&gt;open -->\n",
       "<g id=\"edge175\" class=\"edge\">\n",
       "<title>1040&#45;&gt;open</title>\n",
       "<path fill=\"none\" stroke=\"black\" d=\"M3273.75,-162.14C3276.63,-161.29 3279.58,-160.55 3282.48,-160 3308.71,-154.98 5186.68,-160.97 5205.48,-142 5236.15,-111.05 4902.78,-106.6 4780.75,-106.04\"/>\n",
       "<polygon fill=\"black\" stroke=\"black\" points=\"4780.65,-102.54 4770.64,-106 4780.62,-109.54 4780.65,-102.54\"/>\n",
       "</g>\n",
       "<!-- 1040&#45;&gt;open -->\n",
       "<g id=\"edge303\" class=\"edge\">\n",
       "<title>1040&#45;&gt;open</title>\n",
       "<path fill=\"none\" stroke=\"black\" d=\"M3281.62,-165.51C3287.67,-163.25 3294.21,-161.2 3300.48,-160 3326.71,-154.98 5204.68,-160.97 5223.48,-142 5254.8,-110.39 4906.46,-106.42 4781.28,-106.01\"/>\n",
       "<polygon fill=\"black\" stroke=\"black\" points=\"4780.93,-102.51 4770.92,-105.98 4780.91,-109.51 4780.93,-102.51\"/>\n",
       "</g>\n",
       "<!-- 1040&#45;&gt;open -->\n",
       "<g id=\"edge431\" class=\"edge\">\n",
       "<title>1040&#45;&gt;open</title>\n",
       "<path fill=\"none\" stroke=\"black\" d=\"M3287.26,-169.71C3297.7,-166.02 3308.43,-161.92 3318.48,-160 3344.71,-154.98 5222.68,-160.97 5241.48,-142 5273.44,-109.74 4909.91,-106.27 4781.2,-105.99\"/>\n",
       "<polygon fill=\"black\" stroke=\"black\" points=\"4780.92,-102.49 4770.91,-105.97 4780.91,-109.49 4780.92,-102.49\"/>\n",
       "</g>\n",
       "<!-- 1080 -->\n",
       "<g id=\"node32\" class=\"node\">\n",
       "<title>1080</title>\n",
       "<ellipse fill=\"none\" stroke=\"black\" cx=\"3343.48\" cy=\"-178\" rx=\"34.39\" ry=\"18\"/>\n",
       "<text text-anchor=\"middle\" x=\"3343.48\" y=\"-174.3\" font-family=\"Times,serif\" font-size=\"14.00\">1080</text>\n",
       "</g>\n",
       "<!-- 1080&#45;&gt;close -->\n",
       "<g id=\"edge59\" class=\"edge\">\n",
       "<title>1080&#45;&gt;close</title>\n",
       "<path fill=\"none\" stroke=\"black\" d=\"M3310.84,-171.81C3296.99,-167.85 3284.23,-162.63 3272.48,-160 3157.69,-134.3 3125.84,-149.03 3008.48,-141 2834.8,-129.11 2629.56,-116.06 2540.17,-109.78\"/>\n",
       "<polygon fill=\"black\" stroke=\"black\" points=\"2540.33,-106.29 2530.11,-109.07 2539.83,-113.27 2540.33,-106.29\"/>\n",
       "</g>\n",
       "<!-- 1080&#45;&gt;close -->\n",
       "<g id=\"edge177\" class=\"edge\">\n",
       "<title>1080&#45;&gt;close</title>\n",
       "<path fill=\"none\" stroke=\"black\" d=\"M3314.82,-167.75C3306.93,-164.77 3298.47,-161.79 3290.48,-160 3175.69,-134.3 3143.84,-149.03 3026.48,-141 2846.05,-128.65 2631.56,-115.04 2540.59,-109.08\"/>\n",
       "<polygon fill=\"black\" stroke=\"black\" points=\"2540.58,-105.57 2530.37,-108.41 2540.12,-112.56 2540.58,-105.57\"/>\n",
       "</g>\n",
       "<!-- 1080&#45;&gt;close -->\n",
       "<g id=\"edge305\" class=\"edge\">\n",
       "<title>1080&#45;&gt;close</title>\n",
       "<path fill=\"none\" stroke=\"black\" d=\"M3321.98,-163.92C3317.58,-162.38 3312.96,-161 3308.48,-160 3193.69,-134.3 3161.84,-149.03 3044.48,-141 2857.56,-128.2 2634.09,-114.06 2540.7,-108.47\"/>\n",
       "<polygon fill=\"black\" stroke=\"black\" points=\"2540.68,-104.96 2530.49,-107.86 2540.27,-111.95 2540.68,-104.96\"/>\n",
       "</g>\n",
       "<!-- 1080&#45;&gt;close -->\n",
       "<g id=\"edge433\" class=\"edge\">\n",
       "<title>1080&#45;&gt;close</title>\n",
       "<path fill=\"none\" stroke=\"black\" d=\"M3330.82,-161.08C3329.37,-160.68 3327.92,-160.32 3326.48,-160 3211.69,-134.3 3179.84,-149.03 3062.48,-141 2869.54,-127.79 2637.65,-113.15 2540.68,-107.96\"/>\n",
       "<polygon fill=\"black\" stroke=\"black\" points=\"2540.79,-104.46 2530.62,-107.43 2540.42,-111.45 2540.79,-104.46\"/>\n",
       "</g>\n",
       "<!-- 1080&#45;&gt;open -->\n",
       "<g id=\"edge179\" class=\"edge\">\n",
       "<title>1080&#45;&gt;open</title>\n",
       "<path fill=\"none\" stroke=\"black\" d=\"M3360.75,-162.14C3363.63,-161.29 3366.58,-160.55 3369.48,-160 3395.36,-155.05 5247.94,-160.72 5266.48,-142 5301.49,-106.66 4914.42,-105.03 4781.19,-105.62\"/>\n",
       "<polygon fill=\"black\" stroke=\"black\" points=\"4780.92,-102.12 4770.94,-105.68 4780.95,-109.12 4780.92,-102.12\"/>\n",
       "</g>\n",
       "<!-- 1080&#45;&gt;open -->\n",
       "<g id=\"edge307\" class=\"edge\">\n",
       "<title>1080&#45;&gt;open</title>\n",
       "<path fill=\"none\" stroke=\"black\" d=\"M3368.62,-165.51C3374.67,-163.25 3381.21,-161.2 3387.48,-160 3413.36,-155.05 5265.94,-160.72 5284.48,-142 5320.22,-105.92 4916.12,-104.98 4780.77,-105.66\"/>\n",
       "<polygon fill=\"black\" stroke=\"black\" points=\"4780.73,-102.16 4770.75,-105.72 4780.77,-109.16 4780.73,-102.16\"/>\n",
       "</g>\n",
       "<!-- 1080&#45;&gt;open -->\n",
       "<g id=\"edge435\" class=\"edge\">\n",
       "<title>1080&#45;&gt;open</title>\n",
       "<path fill=\"none\" stroke=\"black\" d=\"M3374.26,-169.71C3384.7,-166.02 3395.43,-161.92 3405.48,-160 3431.36,-155.05 5283.94,-160.72 5302.48,-142 5338.83,-105.3 4920.16,-104.96 4781.08,-105.7\"/>\n",
       "<polygon fill=\"black\" stroke=\"black\" points=\"4780.78,-102.2 4770.8,-105.76 4780.82,-109.2 4780.78,-102.2\"/>\n",
       "</g>\n",
       "<!-- 1120 -->\n",
       "<g id=\"node33\" class=\"node\">\n",
       "<title>1120</title>\n",
       "<ellipse fill=\"none\" stroke=\"black\" cx=\"3430.48\" cy=\"-178\" rx=\"34.39\" ry=\"18\"/>\n",
       "<text text-anchor=\"middle\" x=\"3430.48\" y=\"-174.3\" font-family=\"Times,serif\" font-size=\"14.00\">1120</text>\n",
       "</g>\n",
       "<!-- 1120&#45;&gt;close -->\n",
       "<g id=\"edge61\" class=\"edge\">\n",
       "<title>1120&#45;&gt;close</title>\n",
       "<path fill=\"none\" stroke=\"black\" d=\"M3397.85,-171.78C3384,-167.8 3371.24,-162.57 3359.48,-160 3227.24,-131.04 3190.6,-149.26 3055.48,-141 2863.3,-129.26 2635.63,-115.78 2540.37,-109.53\"/>\n",
       "<polygon fill=\"black\" stroke=\"black\" points=\"2540.43,-106.03 2530.22,-108.86 2539.97,-113.01 2540.43,-106.03\"/>\n",
       "</g>\n",
       "<!-- 1120&#45;&gt;close -->\n",
       "<g id=\"edge181\" class=\"edge\">\n",
       "<title>1120&#45;&gt;close</title>\n",
       "<path fill=\"none\" stroke=\"black\" d=\"M3401.83,-167.71C3393.94,-164.73 3385.48,-161.75 3377.48,-160 3245.24,-131.04 3208.6,-149.26 3073.48,-141 2874.44,-128.84 2637.33,-114.82 2540.64,-108.89\"/>\n",
       "<polygon fill=\"black\" stroke=\"black\" points=\"2540.56,-105.38 2530.37,-108.26 2540.13,-112.36 2540.56,-105.38\"/>\n",
       "</g>\n",
       "<!-- 1120&#45;&gt;close -->\n",
       "<g id=\"edge309\" class=\"edge\">\n",
       "<title>1120&#45;&gt;close</title>\n",
       "<path fill=\"none\" stroke=\"black\" d=\"M3408.98,-163.88C3404.59,-162.35 3399.96,-160.98 3395.48,-160 3263.24,-131.04 3226.6,-149.26 3091.48,-141 2886.1,-128.45 2640.19,-113.93 2541.01,-108.35\"/>\n",
       "<polygon fill=\"black\" stroke=\"black\" points=\"2540.94,-104.84 2530.76,-107.77 2540.55,-111.83 2540.94,-104.84\"/>\n",
       "</g>\n",
       "<!-- 1120&#45;&gt;close -->\n",
       "<g id=\"edge437\" class=\"edge\">\n",
       "<title>1120&#45;&gt;close</title>\n",
       "<path fill=\"none\" stroke=\"black\" d=\"M3417.83,-161.06C3416.38,-160.67 3414.92,-160.32 3413.48,-160 3281.24,-131.04 3244.6,-149.26 3109.48,-141 2898.03,-128.08 2643.62,-113.07 2540.97,-107.88\"/>\n",
       "<polygon fill=\"black\" stroke=\"black\" points=\"2541.1,-104.38 2530.93,-107.38 2540.75,-111.37 2541.1,-104.38\"/>\n",
       "</g>\n",
       "<!-- 1120&#45;&gt;open -->\n",
       "<g id=\"edge183\" class=\"edge\">\n",
       "<title>1120&#45;&gt;open</title>\n",
       "<path fill=\"none\" stroke=\"black\" d=\"M3447.75,-162.14C3450.63,-161.29 3453.58,-160.55 3456.48,-160 3482,-155.11 5309.19,-160.46 5327.48,-142 5347.11,-122.18 4921.33,-110.58 4781.13,-107.11\"/>\n",
       "<polygon fill=\"black\" stroke=\"black\" points=\"4780.85,-103.6 4770.76,-106.85 4780.68,-110.6 4780.85,-103.6\"/>\n",
       "</g>\n",
       "<!-- 1120&#45;&gt;open -->\n",
       "<g id=\"edge311\" class=\"edge\">\n",
       "<title>1120&#45;&gt;open</title>\n",
       "<path fill=\"none\" stroke=\"black\" d=\"M3455.62,-165.51C3461.67,-163.25 3468.21,-161.2 3474.48,-160 3500,-155.11 5327.19,-160.46 5345.48,-142 5365.49,-121.8 4922.56,-110.13 4780.58,-106.92\"/>\n",
       "<polygon fill=\"black\" stroke=\"black\" points=\"4780.57,-103.41 4770.5,-106.69 4780.42,-110.41 4780.57,-103.41\"/>\n",
       "</g>\n",
       "<!-- 1120&#45;&gt;open -->\n",
       "<g id=\"edge439\" class=\"edge\">\n",
       "<title>1120&#45;&gt;open</title>\n",
       "<path fill=\"none\" stroke=\"black\" d=\"M3461.26,-169.71C3471.7,-166.02 3482.43,-161.92 3492.48,-160 3518,-155.11 5345.19,-160.46 5363.48,-142 5383.81,-121.48 4926.38,-109.76 4780.85,-106.77\"/>\n",
       "<polygon fill=\"black\" stroke=\"black\" points=\"4780.59,-103.26 4770.52,-106.56 4780.45,-110.26 4780.59,-103.26\"/>\n",
       "</g>\n",
       "<!-- 1160 -->\n",
       "<g id=\"node34\" class=\"node\">\n",
       "<title>1160</title>\n",
       "<ellipse fill=\"none\" stroke=\"black\" cx=\"3517.48\" cy=\"-178\" rx=\"34.39\" ry=\"18\"/>\n",
       "<text text-anchor=\"middle\" x=\"3517.48\" y=\"-174.3\" font-family=\"Times,serif\" font-size=\"14.00\">1160</text>\n",
       "</g>\n",
       "<!-- 1160&#45;&gt;close -->\n",
       "<g id=\"edge63\" class=\"edge\">\n",
       "<title>1160&#45;&gt;close</title>\n",
       "<path fill=\"none\" stroke=\"black\" d=\"M3484.86,-171.76C3471.01,-167.76 3458.25,-162.53 3446.48,-160 3297.22,-127.87 3255.93,-149.43 3103.48,-141 2892.2,-129.32 2641.3,-115.48 2540.38,-109.28\"/>\n",
       "<polygon fill=\"black\" stroke=\"black\" points=\"2540.43,-105.78 2530.23,-108.65 2540,-112.77 2540.43,-105.78\"/>\n",
       "</g>\n",
       "<!-- 1160&#45;&gt;close -->\n",
       "<g id=\"edge185\" class=\"edge\">\n",
       "<title>1160&#45;&gt;close</title>\n",
       "<path fill=\"none\" stroke=\"black\" d=\"M3488.83,-167.68C3480.95,-164.69 3472.49,-161.72 3464.48,-160 3315.22,-127.87 3273.93,-149.43 3121.48,-141 2903.55,-128.95 2643.48,-114.6 2540.98,-108.72\"/>\n",
       "<polygon fill=\"black\" stroke=\"black\" points=\"2540.88,-105.21 2530.7,-108.13 2540.48,-112.2 2540.88,-105.21\"/>\n",
       "</g>\n",
       "<!-- 1160&#45;&gt;close -->\n",
       "<g id=\"edge313\" class=\"edge\">\n",
       "<title>1160&#45;&gt;close</title>\n",
       "<path fill=\"none\" stroke=\"black\" d=\"M3495.99,-163.85C3491.59,-162.32 3486.96,-160.97 3482.48,-160 3333.22,-127.87 3291.93,-149.43 3139.48,-141 2914.95,-128.58 2645.68,-113.73 2540.99,-108.21\"/>\n",
       "<polygon fill=\"black\" stroke=\"black\" points=\"2540.97,-104.7 2530.8,-107.67 2540.6,-111.69 2540.97,-104.7\"/>\n",
       "</g>\n",
       "<!-- 1160&#45;&gt;close -->\n",
       "<g id=\"edge441\" class=\"edge\">\n",
       "<title>1160&#45;&gt;close</title>\n",
       "<path fill=\"none\" stroke=\"black\" d=\"M3504.83,-161.04C3503.38,-160.66 3501.92,-160.31 3500.48,-160 3351.22,-127.87 3309.93,-149.43 3157.48,-141 2926.86,-128.25 2649.05,-112.92 2540.98,-107.78\"/>\n",
       "<polygon fill=\"black\" stroke=\"black\" points=\"2540.91,-104.27 2530.75,-107.3 2540.58,-111.27 2540.91,-104.27\"/>\n",
       "</g>\n",
       "<!-- 1160&#45;&gt;open -->\n",
       "<g id=\"edge187\" class=\"edge\">\n",
       "<title>1160&#45;&gt;open</title>\n",
       "<path fill=\"none\" stroke=\"black\" d=\"M3534.75,-162.14C3537.63,-161.29 3540.58,-160.55 3543.48,-160 3568.65,-155.18 5370.45,-160.21 5388.48,-142 5410.34,-119.93 4929.87,-109.63 4780.66,-106.82\"/>\n",
       "<polygon fill=\"black\" stroke=\"black\" points=\"4780.57,-103.32 4770.5,-106.63 4780.44,-110.32 4780.57,-103.32\"/>\n",
       "</g>\n",
       "<!-- 1160&#45;&gt;open -->\n",
       "<g id=\"edge315\" class=\"edge\">\n",
       "<title>1160&#45;&gt;open</title>\n",
       "<path fill=\"none\" stroke=\"black\" d=\"M3542.62,-165.52C3548.67,-163.25 3555.21,-161.2 3561.48,-160 3586.65,-155.18 5388.45,-160.21 5406.48,-142 5428.66,-119.6 4933.48,-109.32 4781.3,-106.7\"/>\n",
       "<polygon fill=\"black\" stroke=\"black\" points=\"4781.01,-103.19 4770.95,-106.52 4780.89,-110.19 4781.01,-103.19\"/>\n",
       "</g>\n",
       "<!-- 1160&#45;&gt;open -->\n",
       "<g id=\"edge443\" class=\"edge\">\n",
       "<title>1160&#45;&gt;open</title>\n",
       "<path fill=\"none\" stroke=\"black\" d=\"M3548.26,-169.71C3558.7,-166.02 3569.43,-161.93 3579.48,-160 3604.65,-155.18 5406.45,-160.21 5424.48,-142 5447.01,-119.25 4935.85,-109 4780.96,-106.58\"/>\n",
       "<polygon fill=\"black\" stroke=\"black\" points=\"4780.91,-103.08 4770.85,-106.43 4780.8,-110.08 4780.91,-103.08\"/>\n",
       "</g>\n",
       "<!-- 1200 -->\n",
       "<g id=\"node35\" class=\"node\">\n",
       "<title>1200</title>\n",
       "<ellipse fill=\"none\" stroke=\"black\" cx=\"3604.48\" cy=\"-178\" rx=\"34.39\" ry=\"18\"/>\n",
       "<text text-anchor=\"middle\" x=\"3604.48\" y=\"-174.3\" font-family=\"Times,serif\" font-size=\"14.00\">1200</text>\n",
       "</g>\n",
       "<!-- 1200&#45;&gt;close -->\n",
       "<g id=\"edge65\" class=\"edge\">\n",
       "<title>1200&#45;&gt;close</title>\n",
       "<path fill=\"none\" stroke=\"black\" d=\"M3571.85,-171.79C3558,-167.81 3545.24,-162.59 3533.48,-160 3407.78,-132.26 3373,-148.13 3244.48,-141 2977.14,-126.18 2657.67,-113.27 2540.88,-108.24\"/>\n",
       "<polygon fill=\"black\" stroke=\"black\" points=\"2540.68,-104.73 2530.54,-107.79 2540.38,-111.72 2540.68,-104.73\"/>\n",
       "</g>\n",
       "<!-- 1200&#45;&gt;close -->\n",
       "<g id=\"edge189\" class=\"edge\">\n",
       "<title>1200&#45;&gt;close</title>\n",
       "<path fill=\"none\" stroke=\"black\" d=\"M3575.82,-167.72C3567.94,-164.74 3559.48,-161.76 3551.48,-160 3425.78,-132.26 3391,-148.13 3262.48,-141 2988.02,-125.78 2658.61,-112.58 2540.86,-107.86\"/>\n",
       "<polygon fill=\"black\" stroke=\"black\" points=\"2540.92,-104.36 2530.78,-107.45 2540.64,-111.35 2540.92,-104.36\"/>\n",
       "</g>\n",
       "<!-- 1200&#45;&gt;close -->\n",
       "<g id=\"edge317\" class=\"edge\">\n",
       "<title>1200&#45;&gt;close</title>\n",
       "<path fill=\"none\" stroke=\"black\" d=\"M3582.98,-163.89C3578.58,-162.36 3573.96,-160.99 3569.48,-160 3443.78,-132.26 3409,-148.13 3280.48,-141 2999.49,-125.42 2660.91,-111.96 2541.03,-107.53\"/>\n",
       "<polygon fill=\"black\" stroke=\"black\" points=\"2540.91,-104.03 2530.79,-107.16 2540.65,-111.02 2540.91,-104.03\"/>\n",
       "</g>\n",
       "<!-- 1200&#45;&gt;close -->\n",
       "<g id=\"edge445\" class=\"edge\">\n",
       "<title>1200&#45;&gt;close</title>\n",
       "<path fill=\"none\" stroke=\"black\" d=\"M3591.83,-161.06C3590.37,-160.67 3588.92,-160.32 3587.48,-160 3461.78,-132.26 3427,-148.13 3298.48,-141 3011.33,-125.08 2664.03,-111.37 2541.02,-107.26\"/>\n",
       "<polygon fill=\"black\" stroke=\"black\" points=\"2540.95,-103.75 2530.84,-106.92 2540.72,-110.75 2540.95,-103.75\"/>\n",
       "</g>\n",
       "<!-- 1200&#45;&gt;open -->\n",
       "<g id=\"edge191\" class=\"edge\">\n",
       "<title>1200&#45;&gt;open</title>\n",
       "<path fill=\"none\" stroke=\"black\" d=\"M3621.75,-162.14C3624.63,-161.29 3627.59,-160.55 3630.48,-160 3655.29,-155.25 5431.7,-159.95 5449.48,-142 5473.54,-117.71 4939.56,-108.8 4780.95,-106.59\"/>\n",
       "<polygon fill=\"black\" stroke=\"black\" points=\"4780.67,-103.09 4770.62,-106.45 4780.57,-110.09 4780.67,-103.09\"/>\n",
       "</g>\n",
       "<!-- 1200&#45;&gt;open -->\n",
       "<g id=\"edge319\" class=\"edge\">\n",
       "<title>1200&#45;&gt;open</title>\n",
       "<path fill=\"none\" stroke=\"black\" d=\"M3629.62,-165.52C3635.67,-163.25 3642.21,-161.2 3648.48,-160 3673.29,-155.25 5449.7,-159.95 5467.48,-142 5491.89,-117.35 4941.83,-108.54 4781.02,-106.5\"/>\n",
       "<polygon fill=\"black\" stroke=\"black\" points=\"4781.04,-103 4771,-106.38 4780.95,-110 4781.04,-103\"/>\n",
       "</g>\n",
       "<!-- 1200&#45;&gt;open -->\n",
       "<g id=\"edge447\" class=\"edge\">\n",
       "<title>1200&#45;&gt;open</title>\n",
       "<path fill=\"none\" stroke=\"black\" d=\"M3635.26,-169.71C3645.7,-166.02 3656.43,-161.93 3666.48,-160 3691.29,-155.25 5467.7,-159.95 5485.48,-142 5510.21,-117.02 4944.96,-108.31 4781.07,-106.42\"/>\n",
       "<polygon fill=\"black\" stroke=\"black\" points=\"4780.91,-102.92 4770.87,-106.31 4780.83,-109.92 4780.91,-102.92\"/>\n",
       "</g>\n",
       "<!-- 1240 -->\n",
       "<g id=\"node36\" class=\"node\">\n",
       "<title>1240</title>\n",
       "<ellipse fill=\"none\" stroke=\"black\" cx=\"3691.48\" cy=\"-178\" rx=\"34.39\" ry=\"18\"/>\n",
       "<text text-anchor=\"middle\" x=\"3691.48\" y=\"-174.3\" font-family=\"Times,serif\" font-size=\"14.00\">1240</text>\n",
       "</g>\n",
       "<!-- 1240&#45;&gt;close -->\n",
       "<g id=\"edge67\" class=\"edge\">\n",
       "<title>1240&#45;&gt;close</title>\n",
       "<path fill=\"none\" stroke=\"black\" d=\"M3658.85,-171.76C3645.01,-167.78 3632.25,-162.55 3620.48,-160 3477.77,-129.09 3438.32,-148.32 3292.48,-141 3005.54,-126.59 2662.13,-113.24 2540.63,-108.16\"/>\n",
       "<polygon fill=\"black\" stroke=\"black\" points=\"2540.71,-104.66 2530.58,-107.74 2540.42,-111.66 2540.71,-104.66\"/>\n",
       "</g>\n",
       "<!-- 1240&#45;&gt;close -->\n",
       "<g id=\"edge193\" class=\"edge\">\n",
       "<title>1240&#45;&gt;close</title>\n",
       "<path fill=\"none\" stroke=\"black\" d=\"M3662.83,-167.69C3654.95,-164.71 3646.48,-161.73 3638.48,-160 3495.77,-129.09 3456.32,-148.32 3310.48,-141 3016.6,-126.24 2663.48,-112.6 2540.86,-107.81\"/>\n",
       "<polygon fill=\"black\" stroke=\"black\" points=\"2540.86,-104.31 2530.73,-107.41 2540.59,-111.3 2540.86,-104.31\"/>\n",
       "</g>\n",
       "<!-- 1240&#45;&gt;close -->\n",
       "<g id=\"edge321\" class=\"edge\">\n",
       "<title>1240&#45;&gt;close</title>\n",
       "<path fill=\"none\" stroke=\"black\" d=\"M3669.99,-163.86C3665.59,-162.33 3660.96,-160.97 3656.48,-160 3513.77,-129.09 3474.32,-148.32 3328.48,-141 3028.01,-125.91 2665.61,-111.99 2540.97,-107.5\"/>\n",
       "<polygon fill=\"black\" stroke=\"black\" points=\"2540.8,-103.99 2530.69,-107.13 2540.55,-110.99 2540.8,-103.99\"/>\n",
       "</g>\n",
       "<!-- 1240&#45;&gt;close -->\n",
       "<g id=\"edge449\" class=\"edge\">\n",
       "<title>1240&#45;&gt;close</title>\n",
       "<path fill=\"none\" stroke=\"black\" d=\"M3678.83,-161.05C3677.38,-160.66 3675.92,-160.31 3674.48,-160 3531.77,-129.09 3492.32,-148.32 3346.48,-141 3039.8,-125.6 2668.61,-111.41 2540.93,-107.24\"/>\n",
       "<polygon fill=\"black\" stroke=\"black\" points=\"2540.86,-103.73 2530.75,-106.91 2540.63,-110.73 2540.86,-103.73\"/>\n",
       "</g>\n",
       "<!-- 1240&#45;&gt;open -->\n",
       "<g id=\"edge195\" class=\"edge\">\n",
       "<title>1240&#45;&gt;open</title>\n",
       "<path fill=\"none\" stroke=\"black\" d=\"M3726.06,-177.01C3974.86,-176.96 5477.86,-175.25 5510.48,-142 5536.64,-115.34 4948.25,-108 4780.96,-106.39\"/>\n",
       "<polygon fill=\"black\" stroke=\"black\" points=\"4780.82,-102.89 4770.78,-106.3 4780.75,-109.89 4780.82,-102.89\"/>\n",
       "</g>\n",
       "<!-- 1240&#45;&gt;open -->\n",
       "<g id=\"edge323\" class=\"edge\">\n",
       "<title>1240&#45;&gt;open</title>\n",
       "<path fill=\"none\" stroke=\"black\" d=\"M3726.27,-177.01C3976.74,-176.98 5495.69,-175.42 5528.48,-142 5555,-114.97 4949.64,-107.8 4780.69,-106.33\"/>\n",
       "<polygon fill=\"black\" stroke=\"black\" points=\"4780.69,-102.83 4770.66,-106.24 4780.63,-109.83 4780.69,-102.83\"/>\n",
       "</g>\n",
       "<!-- 1240&#45;&gt;open -->\n",
       "<g id=\"edge451\" class=\"edge\">\n",
       "<title>1240&#45;&gt;open</title>\n",
       "<path fill=\"none\" stroke=\"black\" d=\"M3726.26,-177.01C3978.53,-176.99 5513.51,-175.6 5546.48,-142 5573.33,-114.64 4952.74,-107.63 4780.78,-106.28\"/>\n",
       "<polygon fill=\"black\" stroke=\"black\" points=\"4780.6,-102.77 4770.58,-106.2 4780.55,-109.77 4780.6,-102.77\"/>\n",
       "</g>\n",
       "</g>\n",
       "</svg>\n"
      ],
      "text/plain": [
       "<graphviz.dot.Digraph at 0x20005d3efa00>"
      ]
     },
     "execution_count": 96,
     "metadata": {},
     "output_type": "execute_result"
    }
   ],
   "source": [
    "dot"
   ]
  },
  {
   "cell_type": "code",
   "execution_count": 93,
   "metadata": {
    "tags": []
   },
   "outputs": [],
   "source": [
    "import graphviz\n",
    "dot = graphviz.Digraph()\n",
    "selected_indices = [0]\n",
    "for selected_index in selected_indices:\n",
    "    selected_file = independent_files.index[selected_index]\n",
    "    io_access_rank = io_ddf[io_ddf['filename'] == selected_file].groupby(['rank','func_id'])['func_id'].count().compute()\n",
    "    dot.node(selected_file)\n",
    "    for index,item in io_access_rank.iteritems():\n",
    "        rank = index[0]\n",
    "        func_id = index[1]\n",
    "        count = item\n",
    "        dot.node(str(rank))\n",
    "        dot.node(func_id)\n",
    "        dot.edge(str(rank),func_id)\n",
    "        if \"read\" in func_id:\n",
    "            dot.edge(selected_file, func_id, label=str(count))\n",
    "        else:\n",
    "            dot.edge(func_id,selected_file, label=str(count))"
   ]
  },
  {
   "cell_type": "code",
   "execution_count": 94,
   "metadata": {},
   "outputs": [
    {
     "data": {
      "image/svg+xml": [
       "<?xml version=\"1.0\" encoding=\"UTF-8\" standalone=\"no\"?>\n",
       "<!DOCTYPE svg PUBLIC \"-//W3C//DTD SVG 1.1//EN\"\n",
       " \"http://www.w3.org/Graphics/SVG/1.1/DTD/svg11.dtd\">\n",
       "<!-- Generated by graphviz version 2.42.3 (20191010.1750)\n",
       " -->\n",
       "<!-- Title: %3 Pages: 1 -->\n",
       "<svg width=\"870pt\" height=\"291pt\"\n",
       " viewBox=\"0.00 0.00 869.69 291.00\" xmlns=\"http://www.w3.org/2000/svg\" xmlns:xlink=\"http://www.w3.org/1999/xlink\">\n",
       "<g id=\"graph0\" class=\"graph\" transform=\"scale(1 1) rotate(0) translate(4 287)\">\n",
       "<title>%3</title>\n",
       "<polygon fill=\"white\" stroke=\"transparent\" points=\"-4,4 -4,-287 865.69,-287 865.69,4 -4,4\"/>\n",
       "<!-- /p/gpfs1/iopp/temp/cm1r20.3.2846827/config_files/les_ConvBoundLayer/LANDUSE.TBL -->\n",
       "<g id=\"node1\" class=\"node\">\n",
       "<title>/p/gpfs1/iopp/temp/cm1r20.3.2846827/config_files/les_ConvBoundLayer/LANDUSE.TBL</title>\n",
       "<ellipse fill=\"none\" stroke=\"black\" cx=\"422.46\" cy=\"-105\" rx=\"422.43\" ry=\"18\"/>\n",
       "<text text-anchor=\"middle\" x=\"422.46\" y=\"-101.3\" font-family=\"Times,serif\" font-size=\"14.00\">/p/gpfs1/iopp/temp/cm1r20.3.2846827/config_files/les_ConvBoundLayer/LANDUSE.TBL</text>\n",
       "</g>\n",
       "<!-- read -->\n",
       "<g id=\"node5\" class=\"node\">\n",
       "<title>read</title>\n",
       "<ellipse fill=\"none\" stroke=\"black\" cx=\"647.46\" cy=\"-18\" rx=\"31.7\" ry=\"18\"/>\n",
       "<text text-anchor=\"middle\" x=\"647.46\" y=\"-14.3\" font-family=\"Times,serif\" font-size=\"14.00\">read</text>\n",
       "</g>\n",
       "<!-- /p/gpfs1/iopp/temp/cm1r20.3.2846827/config_files/les_ConvBoundLayer/LANDUSE.TBL&#45;&gt;read -->\n",
       "<g id=\"edge6\" class=\"edge\">\n",
       "<title>/p/gpfs1/iopp/temp/cm1r20.3.2846827/config_files/les_ConvBoundLayer/LANDUSE.TBL&#45;&gt;read</title>\n",
       "<path fill=\"none\" stroke=\"black\" d=\"M467.45,-87C510.13,-70.88 573.38,-46.99 612.43,-32.24\"/>\n",
       "<polygon fill=\"black\" stroke=\"black\" points=\"613.69,-35.5 621.81,-28.69 611.22,-28.95 613.69,-35.5\"/>\n",
       "<text text-anchor=\"middle\" x=\"552.46\" y=\"-57.8\" font-family=\"Times,serif\" font-size=\"14.00\">1</text>\n",
       "</g>\n",
       "<!-- 0 -->\n",
       "<g id=\"node2\" class=\"node\">\n",
       "<title>0</title>\n",
       "<ellipse fill=\"none\" stroke=\"black\" cx=\"508.46\" cy=\"-265\" rx=\"27\" ry=\"18\"/>\n",
       "<text text-anchor=\"middle\" x=\"508.46\" y=\"-261.3\" font-family=\"Times,serif\" font-size=\"14.00\">0</text>\n",
       "</g>\n",
       "<!-- close -->\n",
       "<g id=\"node3\" class=\"node\">\n",
       "<title>close</title>\n",
       "<ellipse fill=\"none\" stroke=\"black\" cx=\"422.46\" cy=\"-192\" rx=\"34.39\" ry=\"18\"/>\n",
       "<text text-anchor=\"middle\" x=\"422.46\" y=\"-188.3\" font-family=\"Times,serif\" font-size=\"14.00\">close</text>\n",
       "</g>\n",
       "<!-- 0&#45;&gt;close -->\n",
       "<g id=\"edge1\" class=\"edge\">\n",
       "<title>0&#45;&gt;close</title>\n",
       "<path fill=\"none\" stroke=\"black\" d=\"M491.88,-250.31C479.48,-240.07 462.28,-225.88 448.11,-214.18\"/>\n",
       "<polygon fill=\"black\" stroke=\"black\" points=\"450.12,-211.29 440.18,-207.63 445.66,-216.69 450.12,-211.29\"/>\n",
       "</g>\n",
       "<!-- open -->\n",
       "<g id=\"node4\" class=\"node\">\n",
       "<title>open</title>\n",
       "<ellipse fill=\"none\" stroke=\"black\" cx=\"508.46\" cy=\"-192\" rx=\"33.29\" ry=\"18\"/>\n",
       "<text text-anchor=\"middle\" x=\"508.46\" y=\"-188.3\" font-family=\"Times,serif\" font-size=\"14.00\">open</text>\n",
       "</g>\n",
       "<!-- 0&#45;&gt;open -->\n",
       "<g id=\"edge3\" class=\"edge\">\n",
       "<title>0&#45;&gt;open</title>\n",
       "<path fill=\"none\" stroke=\"black\" d=\"M508.46,-246.81C508.46,-238.79 508.46,-229.05 508.46,-220.07\"/>\n",
       "<polygon fill=\"black\" stroke=\"black\" points=\"511.96,-220.03 508.46,-210.03 504.96,-220.03 511.96,-220.03\"/>\n",
       "</g>\n",
       "<!-- 0&#45;&gt;read -->\n",
       "<g id=\"edge5\" class=\"edge\">\n",
       "<title>0&#45;&gt;read</title>\n",
       "<path fill=\"none\" stroke=\"black\" d=\"M535.28,-262.55C602.77,-257.29 779.51,-233.12 853.46,-123 896.15,-59.44 760.31,-32.82 688.7,-23.41\"/>\n",
       "<polygon fill=\"black\" stroke=\"black\" points=\"688.98,-19.92 678.63,-22.14 688.11,-26.86 688.98,-19.92\"/>\n",
       "</g>\n",
       "<!-- close&#45;&gt;/p/gpfs1/iopp/temp/cm1r20.3.2846827/config_files/les_ConvBoundLayer/LANDUSE.TBL -->\n",
       "<g id=\"edge2\" class=\"edge\">\n",
       "<title>close&#45;&gt;/p/gpfs1/iopp/temp/cm1r20.3.2846827/config_files/les_ConvBoundLayer/LANDUSE.TBL</title>\n",
       "<path fill=\"none\" stroke=\"black\" d=\"M422.46,-173.8C422.46,-162.16 422.46,-146.55 422.46,-133.24\"/>\n",
       "<polygon fill=\"black\" stroke=\"black\" points=\"425.96,-133.18 422.46,-123.18 418.96,-133.18 425.96,-133.18\"/>\n",
       "<text text-anchor=\"middle\" x=\"427.46\" y=\"-144.8\" font-family=\"Times,serif\" font-size=\"14.00\">1</text>\n",
       "</g>\n",
       "<!-- open&#45;&gt;/p/gpfs1/iopp/temp/cm1r20.3.2846827/config_files/les_ConvBoundLayer/LANDUSE.TBL -->\n",
       "<g id=\"edge4\" class=\"edge\">\n",
       "<title>open&#45;&gt;/p/gpfs1/iopp/temp/cm1r20.3.2846827/config_files/les_ConvBoundLayer/LANDUSE.TBL</title>\n",
       "<path fill=\"none\" stroke=\"black\" d=\"M493.09,-175.8C480.33,-163.2 461.96,-145.03 447.15,-130.4\"/>\n",
       "<polygon fill=\"black\" stroke=\"black\" points=\"449.35,-127.65 439.77,-123.11 444.43,-132.63 449.35,-127.65\"/>\n",
       "<text text-anchor=\"middle\" x=\"475.46\" y=\"-144.8\" font-family=\"Times,serif\" font-size=\"14.00\">1</text>\n",
       "</g>\n",
       "</g>\n",
       "</svg>\n"
      ],
      "text/plain": [
       "<graphviz.dot.Digraph at 0x200879722400>"
      ]
     },
     "execution_count": 94,
     "metadata": {},
     "output_type": "execute_result"
    }
   ],
   "source": [
    "dot"
   ]
  },
  {
   "cell_type": "markdown",
   "metadata": {},
   "source": [
    "## Calculate Access Pattern\n",
    "- Calculate segment_index\n",
    "  - select file_ptr based on open flag\n",
    "  - update file_ptr based on operation\n",
    "  - do a cum_sum on file_ptr to calculate final file_ptr\n",
    "  - assign segment_index based on granularity (median transfer size)\n",
    "- isolate segment index into\n",
    "  - sequential flag if segment index is increasing\n",
    "  - consequitive flag if segment index is increasing and one after the other"
   ]
  },
  {
   "cell_type": "markdown",
   "metadata": {},
   "source": [
    "#### Persist the current version of I/O dataframe."
   ]
  },
  {
   "cell_type": "code",
   "execution_count": 99,
   "metadata": {
    "tags": []
   },
   "outputs": [],
   "source": [
    "io_ddf = io_ddf.persist()\n",
    "result = wait(io_ddf)"
   ]
  },
  {
   "cell_type": "markdown",
   "metadata": {},
   "source": [
    "### Select files which have no seeks and those which have"
   ]
  },
  {
   "cell_type": "code",
   "execution_count": 109,
   "metadata": {},
   "outputs": [
    {
     "name": "stdout",
     "output_type": "stream",
     "text": [
      "0 files have seek operations\n"
     ]
    }
   ],
   "source": [
    "files_with_seek = io_ddf[io_ddf['func_id'].str.contains('seek') & io_ddf['filename'].str.contains('/p/gpfs')]['filename'].unique().compute()\n",
    "print(\"{} files have seek operations\".format(len(files_with_seek)))"
   ]
  },
  {
   "cell_type": "code",
   "execution_count": 110,
   "metadata": {},
   "outputs": [
    {
     "data": {
      "text/plain": [
       "Series([], Name: filename, dtype: object)"
      ]
     },
     "execution_count": 110,
     "metadata": {},
     "output_type": "execute_result"
    }
   ],
   "source": [
    "files_with_seek"
   ]
  },
  {
   "cell_type": "code",
   "execution_count": 111,
   "metadata": {},
   "outputs": [
    {
     "data": {
      "text/plain": [
       "0      /p/gpfs1/iopp/temp/cm1r20.3.2846827/config_fil...\n",
       "1      /p/gpfs1/iopp/temp/cm1r20.3.2846827/config_fil...\n",
       "2      /p/gpfs1/iopp/temp/cm1r20.3.2846827/config_fil...\n",
       "3      /p/gpfs1/iopp/temp/cm1r20.3.2846827/config_fil...\n",
       "4      /p/gpfs1/iopp/temp/cm1r20.3.2846827/config_fil...\n",
       "                             ...                        \n",
       "769    /p/gpfs1/iopp/temp/cm1r20.3.2846827/config_fil...\n",
       "770    /p/gpfs1/iopp/temp/cm1r20.3.2846827/config_fil...\n",
       "771    /p/gpfs1/iopp/temp/cm1r20.3.2846827/config_fil...\n",
       "772    /p/gpfs1/iopp/temp/cm1r20.3.2846827/config_fil...\n",
       "773    /p/gpfs1/iopp/temp/cm1r20.3.2846827/config_fil...\n",
       "Name: filename, Length: 774, dtype: object"
      ]
     },
     "execution_count": 111,
     "metadata": {},
     "output_type": "execute_result"
    }
   ],
   "source": [
    "all_filenames"
   ]
  },
  {
   "cell_type": "code",
   "execution_count": 113,
   "metadata": {},
   "outputs": [
    {
     "name": "stdout",
     "output_type": "stream",
     "text": [
      "774 files have no seek operations and hence are sequential\n"
     ]
    }
   ],
   "source": [
    "files_without_seek = set(all_filenames) - set(files_with_seek)\n",
    "print(\"{} files have no seek operations and hence are sequential\".format(len(files_without_seek)))"
   ]
  },
  {
   "cell_type": "code",
   "execution_count": null,
   "metadata": {},
   "outputs": [],
   "source": []
  }
 ],
 "metadata": {
  "kernelspec": {
   "display_name": "iopp",
   "language": "python",
   "name": "iopp"
  },
  "language_info": {
   "codemirror_mode": {
    "name": "ipython",
    "version": 3
   },
   "file_extension": ".py",
   "mimetype": "text/x-python",
   "name": "python",
   "nbconvert_exporter": "python",
   "pygments_lexer": "ipython3",
   "version": "3.9.7"
  },
  "toc-showtags": false
 },
 "nbformat": 4,
 "nbformat_minor": 4
}
