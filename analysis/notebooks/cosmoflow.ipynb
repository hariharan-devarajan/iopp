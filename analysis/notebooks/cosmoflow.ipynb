{
 "cells": [
  {
   "cell_type": "code",
   "execution_count": 1,
   "metadata": {},
   "outputs": [],
   "source": [
    "import pathlib\n",
    "import os\n",
    "import sys\n",
    "import matplotlib.pyplot as plt\n",
    "import warnings\n",
    "import pprint\n",
    "import pandas\n",
    "pandas.set_option('display.max_colwidth',1000)"
   ]
  },
  {
   "cell_type": "code",
   "execution_count": 2,
   "metadata": {},
   "outputs": [],
   "source": [
    "pp = pprint.PrettyPrinter(indent=1)\n",
    "class color:\n",
    "    PURPLE = '\\033[95m'\n",
    "    CYAN = '\\033[96m'\n",
    "    DARKCYAN = '\\033[36m'\n",
    "    BLUE = '\\033[94m'\n",
    "    GREEN = '\\033[92m'\n",
    "    YELLOW = '\\033[93m'\n",
    "    RED = '\\033[91m'\n",
    "    BOLD = '\\033[1m'\n",
    "    UNDERLINE = '\\033[4m'\n",
    "    END = '\\033[0m'"
   ]
  },
  {
   "cell_type": "code",
   "execution_count": 3,
   "metadata": {},
   "outputs": [
    {
     "name": "stdout",
     "output_type": "stream",
     "text": [
      "/g/g92/haridev/project/vanidl/src/vanidl/__init__.py\n"
     ]
    }
   ],
   "source": [
    "VANIDL_DIR=\"/g/g92/haridev/project/vanidl/src\"\n",
    "sys.path.insert(0, VANIDL_DIR)\n",
    "warnings.filterwarnings('ignore')\n",
    "\n",
    "import vanidl\n",
    "print(vanidl.__file__)"
   ]
  },
  {
   "cell_type": "code",
   "execution_count": 4,
   "metadata": {},
   "outputs": [],
   "source": [
    "from vanidl.analyzer import VaniDL\n",
    "profile = VaniDL()"
   ]
  },
  {
   "cell_type": "code",
   "execution_count": 5,
   "metadata": {},
   "outputs": [],
   "source": [
    "os.environ[\"DARSHAN_DIR\"] = \"/p/gpfs1/haridev/software/spack/opt/spack/linux-rhel7-power9le/gcc-8.3.1/darshan-util-3.3.1-fifnuowfowuyjecyqzpzs62tz5rzjc7l\""
   ]
  },
  {
   "cell_type": "code",
   "execution_count": 6,
   "metadata": {},
   "outputs": [],
   "source": [
    "#!rm /tmp/temp_analysis/cosmoflow_32*\n",
    "#!rm /tmp/temp_analysis/cosmoflow_32_io_df.csv"
   ]
  },
  {
   "cell_type": "code",
   "execution_count": null,
   "metadata": {},
   "outputs": [
    {
     "name": "stdout",
     "output_type": "stream",
     "text": [
      "[==========--------------------------------------------------] 16.7% 766400 of 4591646 Parsing DXT File "
     ]
    }
   ],
   "source": [
    "DATAPATH_INCLUDES = ['/p/gpfs1/brainusr/datasets']\n",
    "status = profile.Load(\"/g/g92/haridev/project/taxonomy/analysis/logs/lbann/cosmoflow_32.darshan\", data_paths_include=DATAPATH_INCLUDES)\n",
    "if status:\n",
    "    print(\"Darshan Trace loaded Successfully!\")\n",
    "else:\n",
    "    print(\"Darshan Trace load Failed!\")\n",
    "    print(profile._error_str())"
   ]
  },
  {
   "cell_type": "code",
   "execution_count": null,
   "metadata": {},
   "outputs": [],
   "source": [
    "df = profile.GetDXTAsDF()"
   ]
  },
  {
   "cell_type": "code",
   "execution_count": null,
   "metadata": {},
   "outputs": [],
   "source": [
    "df['Filename'].unique()"
   ]
  },
  {
   "cell_type": "code",
   "execution_count": null,
   "metadata": {},
   "outputs": [],
   "source": [
    "summary = profile.GetSummary()\n",
    "print(\"\\n\")\n",
    "print(color.BOLD + \"Data Access Summary (from Darshan):\"+ color.END)\n",
    "print(\"Total Job time\\t\\t\\t:\\t{:0.2f} seconds\".format(summary['job_time']))\n",
    "#FIXME: calculate time per rank and then take max across it.\n",
    "print(\"Time spent in I/O\\t\\t:\\t{:0.2f} seconds\".format(summary['total_io_time']))\n",
    "print(\"% Time spent in I/O\\t\\t:\\t{:0.2f}%\".format(float(summary['total_io_time'])*100/summary['job_time']))\n",
    "print(\"Total Data Accessed\\t\\t:\\t{:0.2f} MB\".format(float(summary['total_io_bytes'])/1024.0/1024.0))\n",
    "print(\"Data Access Modules used\\t:\\t{}\".format(summary['io_interface_used']))\n",
    "print(\"Data Operations\\t\\t\\t:\\t{}\".format(summary['io_operations_used']))\n",
    "print(\"# of files used\\t\\t\\t:\\t{}\".format(len(summary['files_used'])))\n",
    "print(\"# of MPI Ranks\\t\\t\\t:\\t{:0.0f} ranks\".format(summary['num_ranks']))\n",
    "      \n",
    "print(color.UNDERLINE + \"Data Transfer size:\"+ color.END)\n",
    "print(\"\\tMin,Max\\t\\t\\t:\\t{:0.0f} bytes and {:0.0f} bytes\".format(summary['data_transfer_size']['min'],summary['data_transfer_size']['max']))\n",
    "print(\"\\tAverage\\t\\t\\t:\\t{:0.0f} bytes\".format(summary['data_transfer_size']['mean']))\n",
    "print(\"\\tMedian\\t\\t\\t:\\t{:0.0f} bytes\".format(summary['data_transfer_size']['median']))\n",
    "      \n",
    "print(color.UNDERLINE + \"Data Transfer bandwidth: (per rank)\"+ color.END)\n",
    "print(\"\\tMin,Max\\t\\t\\t:\\t{:0.0f} B/s and {:0.0f} MB/s\".format(summary['data_transfer_bandwidth']['min'],summary['data_transfer_bandwidth']['max']/1024.0/1024.0))\n",
    "print(\"\\tAverage\\t\\t\\t:\\t{:0.0f} MB/s\".format(summary['data_transfer_bandwidth']['mean']/1024.0/1024.0))\n",
    "print(\"\\tMedian\\t\\t\\t:\\t{:0.0f} MB/s\".format(summary['data_transfer_bandwidth']['median']/1024.0/1024.0))\n",
    "      \n",
    "print(color.UNDERLINE + \"Access Pattern:\"+ color.END)\n",
    "print(\"\\tSequential\\t\\t:\\t{:0.2f}%\".format(float(summary['access_pattern']['sequential'])))\n",
    "print(\"\\tConsecutive\\t\\t:\\t{:0.2f}%\".format(float(summary['access_pattern']['consecutive'])))\n",
    "#An I/O op issued at an offset greater than where the previous I/O op ended.\n",
    "#An I/O op issued at the offset immediately after the end of the previous I/O\n",
    "\n",
    "print(\"\\n\")\n",
    "print(color.BOLD + \"Files Summary:\"+ color.END)\n",
    "print(\"File Types\\t\\t\\t:\\t{}\".format(summary['file_used_summary']['types']))\n",
    "print(color.UNDERLINE + \"Dataset Size:\"+ color.END)\n",
    "print(\"\\tTotal\\t\\t\\t:\\t{:0.3f} GB\".format(float(summary['file_used_summary']['size']['total'])/1024.0/1024.0/1024.0))\n",
    "print(\"\\tMin,Max\\t\\t\\t:\\t{:0.3f} GB and {:0.3f} GB\".format(float(summary['file_used_summary']['size']['min'])/1024.0/1024.0/1024.0,float(summary['file_used_summary']['size']['max'])/1024.0/1024.0/1024.0))\n",
    "print(\"\\tAverage\\t\\t\\t:\\t{:0.3f} GB\".format(float(summary['file_used_summary']['size']['mean'])/1024.0/1024.0/1024.0))"
   ]
  },
  {
   "cell_type": "code",
   "execution_count": null,
   "metadata": {},
   "outputs": [],
   "source": [
    "summary"
   ]
  },
  {
   "cell_type": "code",
   "execution_count": null,
   "metadata": {},
   "outputs": [],
   "source": [
    "df"
   ]
  },
  {
   "cell_type": "code",
   "execution_count": null,
   "metadata": {},
   "outputs": [],
   "source": [
    "for rank in df['Rank'].unique()[:16]:\n",
    "    print(\"I/O performed by rank {}: {:0.2f} MB\".format(rank, float(profile.GetIOSize(rank=rank))/1024.0/1024.0))"
   ]
  },
  {
   "cell_type": "code",
   "execution_count": null,
   "metadata": {},
   "outputs": [],
   "source": [
    "for file in df['Filename'].unique()[:16]:\n",
    "    size = float(profile.GetIOSize(filepath=file))/1024.0/1024.0\n",
    "    if size > 8:\n",
    "        print(\"I/O performed on file {}: {:0.2f} MB\".format(file,size))"
   ]
  },
  {
   "cell_type": "code",
   "execution_count": null,
   "metadata": {},
   "outputs": [],
   "source": [
    "profile.GetFileSizes()"
   ]
  },
  {
   "cell_type": "code",
   "execution_count": null,
   "metadata": {},
   "outputs": [],
   "source": [
    "for file in df['Filename'].unique()[:16]:\n",
    "    tl = profile.GetIORequestDistribution(filepath=file)\n",
    "    tl.plot(kind='bar', figsize=(10, 4), title=file)\n",
    "    plt.show()"
   ]
  },
  {
   "cell_type": "code",
   "execution_count": null,
   "metadata": {},
   "outputs": [],
   "source": [
    "tl = profile.CreateIOTimeline()\n",
    "plt.figure(figsize=(8,4))\n",
    "plt.grid()\n",
    "plt.ylabel(\"# of operations\")\n",
    "plt.xlabel(\"Timeline (ms)\")\n",
    "plt.plot(tl['time_step'], tl['operation_count']);"
   ]
  },
  {
   "cell_type": "code",
   "execution_count": null,
   "metadata": {},
   "outputs": [],
   "source": [
    "plt.figure(figsize=(8,4))\n",
    "plt.grid()\n",
    "plt.ylabel(\"I/O performed (bytes)\")\n",
    "plt.xlabel(\"Timeline (ms)\")\n",
    "plt.plot(tl['time_step'], tl['io_bytes']);"
   ]
  },
  {
   "cell_type": "code",
   "execution_count": null,
   "metadata": {},
   "outputs": [],
   "source": []
  }
 ],
 "metadata": {
  "kernelspec": {
   "display_name": "Python3",
   "language": "python",
   "name": "conda-python-3"
  },
  "language_info": {
   "codemirror_mode": {
    "name": "ipython",
    "version": 3
   },
   "file_extension": ".py",
   "mimetype": "text/x-python",
   "name": "python",
   "nbconvert_exporter": "python",
   "pygments_lexer": "ipython3",
   "version": "3.9.6"
  }
 },
 "nbformat": 4,
 "nbformat_minor": 4
}
