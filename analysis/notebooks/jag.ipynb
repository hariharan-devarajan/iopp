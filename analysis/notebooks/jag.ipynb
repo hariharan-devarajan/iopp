{
 "cells": [
  {
   "cell_type": "code",
   "execution_count": 1,
   "metadata": {},
   "outputs": [],
   "source": [
    "import pathlib\n",
    "import os\n",
    "import sys\n",
    "import matplotlib.pyplot as plt\n",
    "import warnings\n",
    "import pprint\n",
    "import pandas\n",
    "pandas.set_option('display.max_colwidth',1000)"
   ]
  },
  {
   "cell_type": "code",
   "execution_count": 2,
   "metadata": {},
   "outputs": [],
   "source": [
    "pp = pprint.PrettyPrinter(indent=1)\n",
    "class color:\n",
    "    PURPLE = '\\033[95m'\n",
    "    CYAN = '\\033[96m'\n",
    "    DARKCYAN = '\\033[36m'\n",
    "    BLUE = '\\033[94m'\n",
    "    GREEN = '\\033[92m'\n",
    "    YELLOW = '\\033[93m'\n",
    "    RED = '\\033[91m'\n",
    "    BOLD = '\\033[1m'\n",
    "    UNDERLINE = '\\033[4m'\n",
    "    END = '\\033[0m'"
   ]
  },
  {
   "cell_type": "code",
   "execution_count": 3,
   "metadata": {},
   "outputs": [
    {
     "name": "stdout",
     "output_type": "stream",
     "text": [
      "/g/g92/haridev/project/vanidl/src/vanidl/__init__.py\n"
     ]
    }
   ],
   "source": [
    "VANIDL_DIR=\"/g/g92/haridev/project/vanidl/src\"\n",
    "sys.path.insert(0, VANIDL_DIR)\n",
    "warnings.filterwarnings('ignore')\n",
    "\n",
    "import vanidl\n",
    "print(vanidl.__file__)"
   ]
  },
  {
   "cell_type": "code",
   "execution_count": 4,
   "metadata": {},
   "outputs": [],
   "source": [
    "from vanidl.analyzer import VaniDL\n",
    "profile = VaniDL()"
   ]
  },
  {
   "cell_type": "code",
   "execution_count": 5,
   "metadata": {},
   "outputs": [],
   "source": [
    "os.environ[\"DARSHAN_DIR\"] = \"/p/gpfs1/haridev/software/spack/opt/spack/linux-rhel7-power9le/gcc-8.3.1/darshan-util-3.3.1-fifnuowfowuyjecyqzpzs62tz5rzjc7l\""
   ]
  },
  {
   "cell_type": "code",
   "execution_count": 10,
   "metadata": {},
   "outputs": [],
   "source": [
    "!rm /tmp/temp_analysis/jag_small_32*"
   ]
  },
  {
   "cell_type": "code",
   "execution_count": 11,
   "metadata": {},
   "outputs": [
    {
     "name": "stdout",
     "output_type": "stream",
     "text": [
      "[============================================================] 100.0% 1228 of 1228 Parsing DXT File \n",
      "[============================================================] 100.0% 173 of 173 Parsing Darshan File \n",
      "Darshan Trace loaded Successfully!\n"
     ]
    }
   ],
   "source": [
    "DATAPATH_INCLUDES = ['/p/gpfs1/brainusr/datasets']\n",
    "status = profile.Load(\"/g/g92/haridev/project/taxonomy/analysis/logs/lbann/jag_small_32.darshan\", data_paths_include=DATAPATH_INCLUDES)\n",
    "if status:\n",
    "    print(\"Darshan Trace loaded Successfully!\")\n",
    "else:\n",
    "    print(\"Darshan Trace load Failed!\")\n",
    "    print(profile._error_str())"
   ]
  },
  {
   "cell_type": "code",
   "execution_count": 12,
   "metadata": {},
   "outputs": [],
   "source": [
    "df = profile.GetDXTAsDF()"
   ]
  },
  {
   "cell_type": "code",
   "execution_count": 13,
   "metadata": {},
   "outputs": [
    {
     "data": {
      "text/plain": [
       "[], Categories (0, object): []"
      ]
     },
     "execution_count": 13,
     "metadata": {},
     "output_type": "execute_result"
    }
   ],
   "source": [
    "df['Filename'].unique()"
   ]
  },
  {
   "cell_type": "code",
   "execution_count": 19,
   "metadata": {},
   "outputs": [
    {
     "name": "stdout",
     "output_type": "stream",
     "text": [
      "\n",
      "\n",
      "\u001b[1mData Access Summary (from Darshan):\u001b[0m\n",
      "Total Job time\t\t\t:\t2740.00 seconds\n",
      "Time spent in I/O\t\t:\t0.03 seconds\n",
      "% Time spent in I/O\t\t:\t0.00%\n",
      "Total Data Accessed\t\t:\t11471.65 MB\n",
      "Data Access Modules used\t:\t['X_POSIX']\n",
      "Data Operations\t\t\t:\t['read']\n",
      "# of files used\t\t\t:\t1\n",
      "# of MPI Ranks\t\t\t:\t128 ranks\n",
      "\u001b[4mData Transfer size:\u001b[0m\n",
      "\tMin,Max\t\t\t:\t10089650 bytes and 16777216 bytes\n",
      "\tAverage\t\t\t:\t15662622 bytes\n",
      "\tMedian\t\t\t:\t16777216 bytes\n",
      "\u001b[4mData Transfer bandwidth: (per rank)\u001b[0m\n",
      "\tMin,Max\t\t\t:\t1300559380 B/s and 10000 MB/s\n",
      "\tAverage\t\t\t:\t4872 MB/s\n",
      "\tMedian\t\t\t:\t5064 MB/s\n",
      "\u001b[4mAccess Pattern:\u001b[0m\n",
      "\tSequential\t\t:\t83.33%\n",
      "\tConsecutive\t\t:\t83.33%\n",
      "\n",
      "\n",
      "\u001b[1mFiles Summary:\u001b[0m\n",
      "File Types\t\t\t:\t['npy']\n",
      "\u001b[4mDataset Size:\u001b[0m\n",
      "\tTotal\t\t\t:\t0.088 GB\n",
      "\tMin,Max\t\t\t:\t0.088 GB and 0.088 GB\n",
      "\tAverage\t\t\t:\t0.088 GB\n"
     ]
    }
   ],
   "source": [
    "summary = profile.GetSummary()\n",
    "print(\"\\n\")\n",
    "print(color.BOLD + \"Data Access Summary (from Darshan):\"+ color.END)\n",
    "print(\"Total Job time\\t\\t\\t:\\t{:0.2f} seconds\".format(summary['job_time']))\n",
    "#FIXME: calculate time per rank and then take max across it.\n",
    "print(\"Time spent in I/O\\t\\t:\\t{:0.2f} seconds\".format(summary['total_io_time']))\n",
    "print(\"% Time spent in I/O\\t\\t:\\t{:0.2f}%\".format(float(summary['total_io_time'])*100/summary['job_time']))\n",
    "print(\"Total Data Accessed\\t\\t:\\t{:0.2f} MB\".format(float(summary['total_io_bytes'])/1024.0/1024.0))\n",
    "print(\"Data Access Modules used\\t:\\t{}\".format(summary['io_interface_used']))\n",
    "print(\"Data Operations\\t\\t\\t:\\t{}\".format(summary['io_operations_used']))\n",
    "print(\"# of files used\\t\\t\\t:\\t{}\".format(len(summary['files_used'])))\n",
    "print(\"# of MPI Ranks\\t\\t\\t:\\t{:0.0f} ranks\".format(summary['num_ranks']))\n",
    "      \n",
    "print(color.UNDERLINE + \"Data Transfer size:\"+ color.END)\n",
    "print(\"\\tMin,Max\\t\\t\\t:\\t{:0.0f} bytes and {:0.0f} bytes\".format(summary['data_transfer_size']['min'],summary['data_transfer_size']['max']))\n",
    "print(\"\\tAverage\\t\\t\\t:\\t{:0.0f} bytes\".format(summary['data_transfer_size']['mean']))\n",
    "print(\"\\tMedian\\t\\t\\t:\\t{:0.0f} bytes\".format(summary['data_transfer_size']['median']))\n",
    "      \n",
    "print(color.UNDERLINE + \"Data Transfer bandwidth: (per rank)\"+ color.END)\n",
    "print(\"\\tMin,Max\\t\\t\\t:\\t{:0.0f} B/s and {:0.0f} MB/s\".format(summary['data_transfer_bandwidth']['min'],summary['data_transfer_bandwidth']['max']/1024.0/1024.0))\n",
    "print(\"\\tAverage\\t\\t\\t:\\t{:0.0f} MB/s\".format(summary['data_transfer_bandwidth']['mean']/1024.0/1024.0))\n",
    "print(\"\\tMedian\\t\\t\\t:\\t{:0.0f} MB/s\".format(summary['data_transfer_bandwidth']['median']/1024.0/1024.0))\n",
    "      \n",
    "print(color.UNDERLINE + \"Access Pattern:\"+ color.END)\n",
    "print(\"\\tSequential\\t\\t:\\t{:0.2f}%\".format(float(summary['access_pattern']['sequential'])))\n",
    "print(\"\\tConsecutive\\t\\t:\\t{:0.2f}%\".format(float(summary['access_pattern']['consecutive'])))\n",
    "#An I/O op issued at an offset greater than where the previous I/O op ended.\n",
    "#An I/O op issued at the offset immediately after the end of the previous I/O\n",
    "\n",
    "print(\"\\n\")\n",
    "print(color.BOLD + \"Files Summary:\"+ color.END)\n",
    "print(\"File Types\\t\\t\\t:\\t{}\".format(summary['file_used_summary']['types']))\n",
    "print(color.UNDERLINE + \"Dataset Size:\"+ color.END)\n",
    "print(\"\\tTotal\\t\\t\\t:\\t{:0.3f} GB\".format(float(summary['file_used_summary']['size']['total'])/1024.0/1024.0/1024.0))\n",
    "print(\"\\tMin,Max\\t\\t\\t:\\t{:0.3f} GB and {:0.3f} GB\".format(float(summary['file_used_summary']['size']['min'])/1024.0/1024.0/1024.0,float(summary['file_used_summary']['size']['max'])/1024.0/1024.0/1024.0))\n",
    "print(\"\\tAverage\\t\\t\\t:\\t{:0.3f} GB\".format(float(summary['file_used_summary']['size']['mean'])/1024.0/1024.0/1024.0))"
   ]
  },
  {
   "cell_type": "code",
   "execution_count": 18,
   "metadata": {},
   "outputs": [
    {
     "data": {
      "text/plain": [
       "{'type': 'full',\n",
       " 'job_time': 2740.0,\n",
       " 'total_io_time': 0.02734687499999988,\n",
       " 'total_io_bytes': 12028893440,\n",
       " 'io_interface_used': array(['X_POSIX'], dtype=object),\n",
       " 'io_operations_used': array(['read'], dtype=object),\n",
       " 'files_used': ['/p/gpfs1/brainusr/datasets/zinc/moses_zinc_train250K.npy'],\n",
       " 'num_ranks': 128,\n",
       " 'data_transfer_size': {'min': 10089650,\n",
       "  'max': 16777216,\n",
       "  'mean': 15662621.666666666,\n",
       "  'median': 16777216.0},\n",
       " 'data_transfer_bandwidth': {'min': 1300559379.8447688,\n",
       "  'max': 10485760000.001154,\n",
       "  'mean': 5108908565.138871,\n",
       "  'median': 5310342105.255675},\n",
       " 'access_pattern': {'total_operations': 768,\n",
       "  'sequential': 83.33333333333333,\n",
       "  'consecutive': 83.33333333333333},\n",
       " 'file_used_summary': {'types': array(['npy'], dtype=object),\n",
       "  'size': {'total': 93975730.0,\n",
       "   'min': 93975730.0,\n",
       "   'max': 93975730.0,\n",
       "   'mean': 93975730.0,\n",
       "   'median': 93975730.0}}}"
      ]
     },
     "execution_count": 18,
     "metadata": {},
     "output_type": "execute_result"
    }
   ],
   "source": [
    "summary"
   ]
  },
  {
   "cell_type": "code",
   "execution_count": 20,
   "metadata": {},
   "outputs": [
    {
     "data": {
      "text/html": [
       "<div>\n",
       "<style scoped>\n",
       "    .dataframe tbody tr th:only-of-type {\n",
       "        vertical-align: middle;\n",
       "    }\n",
       "\n",
       "    .dataframe tbody tr th {\n",
       "        vertical-align: top;\n",
       "    }\n",
       "\n",
       "    .dataframe thead th {\n",
       "        text-align: right;\n",
       "    }\n",
       "</style>\n",
       "<table border=\"1\" class=\"dataframe\">\n",
       "  <thead>\n",
       "    <tr style=\"text-align: right;\">\n",
       "      <th></th>\n",
       "      <th>Module</th>\n",
       "      <th>Filename</th>\n",
       "      <th>Rank</th>\n",
       "      <th>Operation</th>\n",
       "      <th>Segment</th>\n",
       "      <th>Offset</th>\n",
       "      <th>Length</th>\n",
       "      <th>Start</th>\n",
       "      <th>End</th>\n",
       "      <th>io_time</th>\n",
       "      <th>bandwidth</th>\n",
       "      <th>ext</th>\n",
       "    </tr>\n",
       "  </thead>\n",
       "  <tbody>\n",
       "    <tr>\n",
       "      <th>344</th>\n",
       "      <td>X_POSIX</td>\n",
       "      <td>/p/gpfs1/brainusr/datasets/zinc/moses_zinc_train250K.npy</td>\n",
       "      <td>0</td>\n",
       "      <td>read</td>\n",
       "      <td>0</td>\n",
       "      <td>0</td>\n",
       "      <td>16777216</td>\n",
       "      <td>18.2962</td>\n",
       "      <td>18.3056</td>\n",
       "      <td>0.0094</td>\n",
       "      <td>1.78481e+09</td>\n",
       "      <td>npy</td>\n",
       "    </tr>\n",
       "    <tr>\n",
       "      <th>345</th>\n",
       "      <td>X_POSIX</td>\n",
       "      <td>/p/gpfs1/brainusr/datasets/zinc/moses_zinc_train250K.npy</td>\n",
       "      <td>0</td>\n",
       "      <td>read</td>\n",
       "      <td>1</td>\n",
       "      <td>16777216</td>\n",
       "      <td>16777216</td>\n",
       "      <td>18.5047</td>\n",
       "      <td>18.5143</td>\n",
       "      <td>0.0096</td>\n",
       "      <td>1.74763e+09</td>\n",
       "      <td>npy</td>\n",
       "    </tr>\n",
       "    <tr>\n",
       "      <th>346</th>\n",
       "      <td>X_POSIX</td>\n",
       "      <td>/p/gpfs1/brainusr/datasets/zinc/moses_zinc_train250K.npy</td>\n",
       "      <td>0</td>\n",
       "      <td>read</td>\n",
       "      <td>2</td>\n",
       "      <td>33554432</td>\n",
       "      <td>16777216</td>\n",
       "      <td>18.7084</td>\n",
       "      <td>18.7113</td>\n",
       "      <td>0.0029</td>\n",
       "      <td>5.78525e+09</td>\n",
       "      <td>npy</td>\n",
       "    </tr>\n",
       "    <tr>\n",
       "      <th>347</th>\n",
       "      <td>X_POSIX</td>\n",
       "      <td>/p/gpfs1/brainusr/datasets/zinc/moses_zinc_train250K.npy</td>\n",
       "      <td>0</td>\n",
       "      <td>read</td>\n",
       "      <td>3</td>\n",
       "      <td>50331648</td>\n",
       "      <td>16777216</td>\n",
       "      <td>18.9124</td>\n",
       "      <td>18.915</td>\n",
       "      <td>0.0026</td>\n",
       "      <td>6.45278e+09</td>\n",
       "      <td>npy</td>\n",
       "    </tr>\n",
       "    <tr>\n",
       "      <th>348</th>\n",
       "      <td>X_POSIX</td>\n",
       "      <td>/p/gpfs1/brainusr/datasets/zinc/moses_zinc_train250K.npy</td>\n",
       "      <td>0</td>\n",
       "      <td>read</td>\n",
       "      <td>4</td>\n",
       "      <td>67108864</td>\n",
       "      <td>16777216</td>\n",
       "      <td>19.1164</td>\n",
       "      <td>19.1194</td>\n",
       "      <td>0.003</td>\n",
       "      <td>5.59241e+09</td>\n",
       "      <td>npy</td>\n",
       "    </tr>\n",
       "    <tr>\n",
       "      <th>...</th>\n",
       "      <td>...</td>\n",
       "      <td>...</td>\n",
       "      <td>...</td>\n",
       "      <td>...</td>\n",
       "      <td>...</td>\n",
       "      <td>...</td>\n",
       "      <td>...</td>\n",
       "      <td>...</td>\n",
       "      <td>...</td>\n",
       "      <td>...</td>\n",
       "      <td>...</td>\n",
       "      <td>...</td>\n",
       "    </tr>\n",
       "    <tr>\n",
       "      <th>51411</th>\n",
       "      <td>X_POSIX</td>\n",
       "      <td>/p/gpfs1/brainusr/datasets/zinc/moses_zinc_train250K.npy</td>\n",
       "      <td>127</td>\n",
       "      <td>read</td>\n",
       "      <td>1</td>\n",
       "      <td>16777216</td>\n",
       "      <td>16777216</td>\n",
       "      <td>18.4733</td>\n",
       "      <td>18.4795</td>\n",
       "      <td>0.0062</td>\n",
       "      <td>2.706e+09</td>\n",
       "      <td>npy</td>\n",
       "    </tr>\n",
       "    <tr>\n",
       "      <th>51412</th>\n",
       "      <td>X_POSIX</td>\n",
       "      <td>/p/gpfs1/brainusr/datasets/zinc/moses_zinc_train250K.npy</td>\n",
       "      <td>127</td>\n",
       "      <td>read</td>\n",
       "      <td>2</td>\n",
       "      <td>33554432</td>\n",
       "      <td>16777216</td>\n",
       "      <td>18.6642</td>\n",
       "      <td>18.6664</td>\n",
       "      <td>0.0022</td>\n",
       "      <td>7.62601e+09</td>\n",
       "      <td>npy</td>\n",
       "    </tr>\n",
       "    <tr>\n",
       "      <th>51413</th>\n",
       "      <td>X_POSIX</td>\n",
       "      <td>/p/gpfs1/brainusr/datasets/zinc/moses_zinc_train250K.npy</td>\n",
       "      <td>127</td>\n",
       "      <td>read</td>\n",
       "      <td>3</td>\n",
       "      <td>50331648</td>\n",
       "      <td>16777216</td>\n",
       "      <td>18.8518</td>\n",
       "      <td>18.8538</td>\n",
       "      <td>0.002</td>\n",
       "      <td>8.38861e+09</td>\n",
       "      <td>npy</td>\n",
       "    </tr>\n",
       "    <tr>\n",
       "      <th>51414</th>\n",
       "      <td>X_POSIX</td>\n",
       "      <td>/p/gpfs1/brainusr/datasets/zinc/moses_zinc_train250K.npy</td>\n",
       "      <td>127</td>\n",
       "      <td>read</td>\n",
       "      <td>4</td>\n",
       "      <td>67108864</td>\n",
       "      <td>16777216</td>\n",
       "      <td>19.0483</td>\n",
       "      <td>19.0513</td>\n",
       "      <td>0.003</td>\n",
       "      <td>5.59241e+09</td>\n",
       "      <td>npy</td>\n",
       "    </tr>\n",
       "    <tr>\n",
       "      <th>51415</th>\n",
       "      <td>X_POSIX</td>\n",
       "      <td>/p/gpfs1/brainusr/datasets/zinc/moses_zinc_train250K.npy</td>\n",
       "      <td>127</td>\n",
       "      <td>read</td>\n",
       "      <td>5</td>\n",
       "      <td>83886080</td>\n",
       "      <td>10089650</td>\n",
       "      <td>19.2563</td>\n",
       "      <td>19.2575</td>\n",
       "      <td>0.0012</td>\n",
       "      <td>8.40804e+09</td>\n",
       "      <td>npy</td>\n",
       "    </tr>\n",
       "  </tbody>\n",
       "</table>\n",
       "<p>768 rows × 12 columns</p>\n",
       "</div>"
      ],
      "text/plain": [
       "        Module                                                  Filename Rank  \\\n",
       "344    X_POSIX  /p/gpfs1/brainusr/datasets/zinc/moses_zinc_train250K.npy    0   \n",
       "345    X_POSIX  /p/gpfs1/brainusr/datasets/zinc/moses_zinc_train250K.npy    0   \n",
       "346    X_POSIX  /p/gpfs1/brainusr/datasets/zinc/moses_zinc_train250K.npy    0   \n",
       "347    X_POSIX  /p/gpfs1/brainusr/datasets/zinc/moses_zinc_train250K.npy    0   \n",
       "348    X_POSIX  /p/gpfs1/brainusr/datasets/zinc/moses_zinc_train250K.npy    0   \n",
       "...        ...                                                       ...  ...   \n",
       "51411  X_POSIX  /p/gpfs1/brainusr/datasets/zinc/moses_zinc_train250K.npy  127   \n",
       "51412  X_POSIX  /p/gpfs1/brainusr/datasets/zinc/moses_zinc_train250K.npy  127   \n",
       "51413  X_POSIX  /p/gpfs1/brainusr/datasets/zinc/moses_zinc_train250K.npy  127   \n",
       "51414  X_POSIX  /p/gpfs1/brainusr/datasets/zinc/moses_zinc_train250K.npy  127   \n",
       "51415  X_POSIX  /p/gpfs1/brainusr/datasets/zinc/moses_zinc_train250K.npy  127   \n",
       "\n",
       "      Operation Segment    Offset    Length    Start      End io_time  \\\n",
       "344        read       0         0  16777216  18.2962  18.3056  0.0094   \n",
       "345        read       1  16777216  16777216  18.5047  18.5143  0.0096   \n",
       "346        read       2  33554432  16777216  18.7084  18.7113  0.0029   \n",
       "347        read       3  50331648  16777216  18.9124   18.915  0.0026   \n",
       "348        read       4  67108864  16777216  19.1164  19.1194   0.003   \n",
       "...         ...     ...       ...       ...      ...      ...     ...   \n",
       "51411      read       1  16777216  16777216  18.4733  18.4795  0.0062   \n",
       "51412      read       2  33554432  16777216  18.6642  18.6664  0.0022   \n",
       "51413      read       3  50331648  16777216  18.8518  18.8538   0.002   \n",
       "51414      read       4  67108864  16777216  19.0483  19.0513   0.003   \n",
       "51415      read       5  83886080  10089650  19.2563  19.2575  0.0012   \n",
       "\n",
       "         bandwidth  ext  \n",
       "344    1.78481e+09  npy  \n",
       "345    1.74763e+09  npy  \n",
       "346    5.78525e+09  npy  \n",
       "347    6.45278e+09  npy  \n",
       "348    5.59241e+09  npy  \n",
       "...            ...  ...  \n",
       "51411    2.706e+09  npy  \n",
       "51412  7.62601e+09  npy  \n",
       "51413  8.38861e+09  npy  \n",
       "51414  5.59241e+09  npy  \n",
       "51415  8.40804e+09  npy  \n",
       "\n",
       "[768 rows x 12 columns]"
      ]
     },
     "execution_count": 20,
     "metadata": {},
     "output_type": "execute_result"
    }
   ],
   "source": [
    "df"
   ]
  },
  {
   "cell_type": "code",
   "execution_count": 21,
   "metadata": {},
   "outputs": [
    {
     "name": "stdout",
     "output_type": "stream",
     "text": [
      "I/O performed by rank 0: 89.62 MB\n",
      "I/O performed by rank 1: 89.62 MB\n",
      "I/O performed by rank 2: 89.62 MB\n",
      "I/O performed by rank 3: 89.62 MB\n",
      "I/O performed by rank 4: 89.62 MB\n",
      "I/O performed by rank 5: 89.62 MB\n",
      "I/O performed by rank 6: 89.62 MB\n",
      "I/O performed by rank 7: 89.62 MB\n",
      "I/O performed by rank 8: 89.62 MB\n",
      "I/O performed by rank 9: 89.62 MB\n",
      "I/O performed by rank 10: 89.62 MB\n",
      "I/O performed by rank 11: 89.62 MB\n",
      "I/O performed by rank 12: 89.62 MB\n",
      "I/O performed by rank 13: 89.62 MB\n",
      "I/O performed by rank 14: 89.62 MB\n",
      "I/O performed by rank 15: 89.62 MB\n"
     ]
    }
   ],
   "source": [
    "for rank in df['Rank'].unique()[:16]:\n",
    "    print(\"I/O performed by rank {}: {:0.2f} MB\".format(rank, float(profile.GetIOSize(rank=rank))/1024.0/1024.0))"
   ]
  },
  {
   "cell_type": "code",
   "execution_count": 23,
   "metadata": {},
   "outputs": [
    {
     "name": "stdout",
     "output_type": "stream",
     "text": [
      "I/O performed on file /p/gpfs1/brainusr/datasets/zinc/moses_zinc_train250K.npy: 11471.65 MB\n"
     ]
    }
   ],
   "source": [
    "for file in df['Filename'].unique():\n",
    "    print(\"I/O performed on file {}: {:0.2f} MB\".format(file,float(profile.GetIOSize(filepath=file))/1024.0/1024.0))"
   ]
  },
  {
   "cell_type": "code",
   "execution_count": 22,
   "metadata": {},
   "outputs": [
    {
     "data": {
      "image/png": "[encoded data removed]",
      "text/plain": [
       "<Figure size 720x288 with 1 Axes>"
      ]
     },
     "metadata": {
      "needs_background": "light"
     },
     "output_type": "display_data"
    }
   ],
   "source": [
    "for file in df['Filename'].unique():\n",
    "    tl = profile.GetIORequestDistribution(filepath=file)\n",
    "    tl.plot(kind='bar', figsize=(10, 4), title=file)\n",
    "    plt.show()"
   ]
  },
  {
   "cell_type": "code",
   "execution_count": 24,
   "metadata": {},
   "outputs": [
    {
     "name": "stdout",
     "output_type": "stream",
     "text": [
      "[============================================================] 100.0% 768 of 768 Creating Timeline \n"
     ]
    },
    {
     "data": {
      "image/png": "[encoded data removed]",
      "text/plain": [
       "<Figure size 576x288 with 1 Axes>"
      ]
     },
     "metadata": {
      "needs_background": "light"
     },
     "output_type": "display_data"
    }
   ],
   "source": [
    "tl = profile.CreateIOTimeline()\n",
    "plt.figure(figsize=(8,4))\n",
    "plt.grid()\n",
    "plt.ylabel(\"# of operations\")\n",
    "plt.xlabel(\"Timeline (ms)\")\n",
    "plt.plot(tl['time_step'], tl['operation_count']);"
   ]
  },
  {
   "cell_type": "code",
   "execution_count": null,
   "metadata": {},
   "outputs": [],
   "source": []
  }
 ],
 "metadata": {
  "kernelspec": {
   "display_name": "Python3",
   "language": "python",
   "name": "conda-python-3"
  },
  "language_info": {
   "codemirror_mode": {
    "name": "ipython",
    "version": 3
   },
   "file_extension": ".py",
   "mimetype": "text/x-python",
   "name": "python",
   "nbconvert_exporter": "python",
   "pygments_lexer": "ipython3",
   "version": "3.9.6"
  }
 },
 "nbformat": 4,
 "nbformat_minor": 4
}
