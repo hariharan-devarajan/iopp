{
 "cells": [
  {
   "cell_type": "code",
   "execution_count": 1,
   "id": "a4e98a43",
   "metadata": {},
   "outputs": [
    {
     "name": "stdout",
     "output_type": "stream",
     "text": [
      "/usr/WS2/iopp/software/venvs/h5bench-py/bin/python\r\n"
     ]
    }
   ],
   "source": [
    "!which python"
   ]
  },
  {
   "cell_type": "code",
   "execution_count": 2,
   "id": "175493e2",
   "metadata": {},
   "outputs": [],
   "source": [
    "import darshan"
   ]
  },
  {
   "cell_type": "code",
   "execution_count": 3,
   "id": "80eded6c",
   "metadata": {},
   "outputs": [],
   "source": [
    "log=\"/usr/workspace/iopp/software/iopp/apps/h5bench/darshan-logs/sync_1_4_libdarshan/sync-write-1d-contig-contig/haridev_h5bench_write_id113106-113106_10-12-76490-7883034778344288071_1.darshan\""
   ]
  },
  {
   "cell_type": "code",
   "execution_count": 4,
   "id": "a6342ba7",
   "metadata": {
    "scrolled": true
   },
   "outputs": [
    {
     "name": "stdout",
     "output_type": "stream",
     "text": [
      "Filename:       /usr/workspace/iopp/software/iopp/apps/h5bench/darshan-logs/sync_1_4_libdarshan/sync-write-1d-contig-contig/haridev_h5bench_write_id113106-113106_10-12-76490-7883034778344288071_1.darshan\n",
      "Times:          2022-10-12 21:14:50 to 2022-10-12 21:14:55 (Duration 0:00:05)\n",
      "Executable:    h5bench_write /p/gpfs1/iopp/temp/h5bench/sync-write-1d-contig-contig/b9b5bd25/h5bench.cfg /p/gpfs1/iopp/temp/h5bench/sync-write-1d-contig-contig/test.h5\n",
      "Processes:      4\n",
      "JobID:          113106\n",
      "UID:            35619\n",
      "Modules in Log: ['POSIX', 'MPI-IO', 'STDIO', 'HEATMAP']\n",
      "Loaded Records: {'POSIX': 1, 'MPI-IO': 1, 'STDIO': 3}\n",
      "Name Records:   9\n",
      "Darshan/Hints:  {'lib_ver': '3.4.0', 'h': 'romio_no_indep_rw=true;cb_nodes=4'}\n",
      "DarshanReport:  id(35219813377168) (tmp)\n"
     ]
    }
   ],
   "source": [
    "report = darshan.DarshanReport(log, read_all=True)  # Default behavior\n",
    "report.info()"
   ]
  },
  {
   "cell_type": "code",
   "execution_count": 5,
   "id": "30a81755",
   "metadata": {},
   "outputs": [
    {
     "data": {
      "text/plain": [
       "{'POSIX': {'len': 236,\n",
       "  'ver': 4,\n",
       "  'idx': 1,\n",
       "  'partial_flag': False,\n",
       "  'num_records': 1},\n",
       " 'MPI-IO': {'len': 148,\n",
       "  'ver': 3,\n",
       "  'idx': 2,\n",
       "  'partial_flag': False,\n",
       "  'num_records': 1},\n",
       " 'STDIO': {'len': 222,\n",
       "  'ver': 2,\n",
       "  'idx': 8,\n",
       "  'partial_flag': False,\n",
       "  'num_records': 3},\n",
       " 'HEATMAP': {'len': 649, 'ver': 1, 'idx': 14, 'partial_flag': False}}"
      ]
     },
     "execution_count": 5,
     "metadata": {},
     "output_type": "execute_result"
    }
   ],
   "source": [
    "report.modules"
   ]
  },
  {
   "cell_type": "code",
   "execution_count": 6,
   "id": "e17f9980",
   "metadata": {},
   "outputs": [
    {
     "data": {
      "text/plain": [
       "dict_keys(['version', 'metadata', 'records', 'summary', 'modules', 'counters', 'name_records', 'mounts'])"
      ]
     },
     "execution_count": 6,
     "metadata": {},
     "output_type": "execute_result"
    }
   ],
   "source": [
    "report.data.keys()"
   ]
  },
  {
   "cell_type": "code",
   "execution_count": 16,
   "id": "40ef51a8",
   "metadata": {},
   "outputs": [
    {
     "data": {
      "text/plain": [
       "{14734109647742566553: '<STDIN>',\n",
       " 15920181672442173319: '<STDOUT>',\n",
       " 7238257241479193519: '<STDERR>',\n",
       " 3989511027826779520: 'heatmap:STDIO',\n",
       " 7758812007467121116: '/p/gpfs1/iopp/temp/h5bench/sync-write-1d-contig-contig/b9b5bd25/h5bench.cfg',\n",
       " 6451448093025485131: '/p/gpfs1/iopp/temp/h5bench/sync-write-1d-contig-contig/b9b5bd25/output.csv',\n",
       " 16592106915301738621: 'heatmap:POSIX',\n",
       " 836017519648718277: '/p/gpfs1/iopp/temp/h5bench/sync-write-1d-contig-contig/test.h5',\n",
       " 3668870418325792824: 'heatmap:MPIIO'}"
      ]
     },
     "execution_count": 16,
     "metadata": {},
     "output_type": "execute_result"
    }
   ],
   "source": [
    "report.data['name_records']"
   ]
  },
  {
   "cell_type": "code",
   "execution_count": 35,
   "id": "c69e844f",
   "metadata": {},
   "outputs": [
    {
     "name": "stdout",
     "output_type": "stream",
     "text": [
      "7758812007467121116 /p/gpfs1/iopp/temp/h5bench/sync-write-1d-contig-contig/b9b5bd25/h5bench.cfg\n",
      "6451448093025485131 /p/gpfs1/iopp/temp/h5bench/sync-write-1d-contig-contig/b9b5bd25/output.csv\n",
      "836017519648718277 /p/gpfs1/iopp/temp/h5bench/sync-write-1d-contig-contig/test.h5\n"
     ]
    }
   ],
   "source": [
    "relevant_ids = []\n",
    "for key, value in report.data['name_records'].items():\n",
    "    if \"/p/gpfs1\" in value:\n",
    "        relevant_ids.append(key)\n",
    "        print(key,value)"
   ]
  },
  {
   "cell_type": "code",
   "execution_count": 36,
   "id": "a460a609",
   "metadata": {},
   "outputs": [
    {
     "data": {
      "text/plain": [
       "[7758812007467121116, 6451448093025485131, 836017519648718277]"
      ]
     },
     "execution_count": 36,
     "metadata": {},
     "output_type": "execute_result"
    }
   ],
   "source": [
    "relevant_ids"
   ]
  },
  {
   "cell_type": "code",
   "execution_count": 7,
   "id": "fcef8a27",
   "metadata": {},
   "outputs": [],
   "source": [
    "report.mod_read_all_records('POSIX')"
   ]
  },
  {
   "cell_type": "code",
   "execution_count": 8,
   "id": "ca16eadc",
   "metadata": {},
   "outputs": [],
   "source": [
    "report.mod_read_all_records('STDIO')"
   ]
  },
  {
   "cell_type": "code",
   "execution_count": 19,
   "id": "75270700",
   "metadata": {},
   "outputs": [],
   "source": [
    "posix_df_c = report.records['POSIX'].to_df()['counters']\n",
    "mpiio_df_c = report.records['MPI-IO'].to_df()['counters']\n",
    "stdio_df_c = report.records['STDIO'].to_df()['counters']"
   ]
  },
  {
   "cell_type": "code",
   "execution_count": 20,
   "id": "abe2d2aa",
   "metadata": {},
   "outputs": [],
   "source": [
    "posix_df_fc = report.records['POSIX'].to_df()['fcounters']\n",
    "mpiio_df_fc = report.records['MPI-IO'].to_df()['fcounters']\n",
    "stdio_df_fc = report.records['STDIO'].to_df()['fcounters']"
   ]
  },
  {
   "cell_type": "code",
   "execution_count": 33,
   "id": "16863f11",
   "metadata": {},
   "outputs": [
    {
     "data": {
      "text/plain": [
       "rank                        int64\n",
       "id                          int64\n",
       "POSIX_OPENS                 int64\n",
       "POSIX_FILENOS               int64\n",
       "POSIX_DUPS                  int64\n",
       "                            ...  \n",
       "POSIX_ACCESS4_COUNT         int64\n",
       "POSIX_FASTEST_RANK          int64\n",
       "POSIX_FASTEST_RANK_BYTES    int64\n",
       "POSIX_SLOWEST_RANK          int64\n",
       "POSIX_SLOWEST_RANK_BYTES    int64\n",
       "Length: 71, dtype: object"
      ]
     },
     "execution_count": 33,
     "metadata": {},
     "output_type": "execute_result"
    }
   ],
   "source": [
    "posix_df_c.dtypes"
   ]
  },
  {
   "cell_type": "code",
   "execution_count": 37,
   "id": "a9c417d6",
   "metadata": {},
   "outputs": [],
   "source": [
    "rel_posix_df_c = posix_df_c[posix_df_c['id'].isin(relevant_ids)]\n",
    "rel_mpiio_df_c = mpiio_df_c[mpiio_df_c['id'].isin(relevant_ids)]\n",
    "rel_stdio_df_c = stdio_df_c[stdio_df_c['id'].isin(relevant_ids)]\n",
    "\n",
    "rel_posix_df_fc = posix_df_fc[posix_df_fc['id'].isin(relevant_ids)]\n",
    "rel_mpiio_df_fc = mpiio_df_fc[mpiio_df_fc['id'].isin(relevant_ids)]\n",
    "rel_stdio_df_fc = stdio_df_fc[stdio_df_fc['id'].isin(relevant_ids)]"
   ]
  },
  {
   "cell_type": "code",
   "execution_count": 39,
   "id": "71520d8f",
   "metadata": {},
   "outputs": [
    {
     "data": {
      "text/html": [
       "<div>\n",
       "<style scoped>\n",
       "    .dataframe tbody tr th:only-of-type {\n",
       "        vertical-align: middle;\n",
       "    }\n",
       "\n",
       "    .dataframe tbody tr th {\n",
       "        vertical-align: top;\n",
       "    }\n",
       "\n",
       "    .dataframe thead th {\n",
       "        text-align: right;\n",
       "    }\n",
       "</style>\n",
       "<table border=\"1\" class=\"dataframe\">\n",
       "  <thead>\n",
       "    <tr style=\"text-align: right;\">\n",
       "      <th></th>\n",
       "      <th>rank</th>\n",
       "      <th>id</th>\n",
       "      <th>POSIX_OPENS</th>\n",
       "      <th>POSIX_FILENOS</th>\n",
       "      <th>POSIX_DUPS</th>\n",
       "      <th>POSIX_READS</th>\n",
       "      <th>POSIX_WRITES</th>\n",
       "      <th>POSIX_SEEKS</th>\n",
       "      <th>POSIX_STATS</th>\n",
       "      <th>POSIX_MMAPS</th>\n",
       "      <th>...</th>\n",
       "      <th>POSIX_ACCESS3_ACCESS</th>\n",
       "      <th>POSIX_ACCESS4_ACCESS</th>\n",
       "      <th>POSIX_ACCESS1_COUNT</th>\n",
       "      <th>POSIX_ACCESS2_COUNT</th>\n",
       "      <th>POSIX_ACCESS3_COUNT</th>\n",
       "      <th>POSIX_ACCESS4_COUNT</th>\n",
       "      <th>POSIX_FASTEST_RANK</th>\n",
       "      <th>POSIX_FASTEST_RANK_BYTES</th>\n",
       "      <th>POSIX_SLOWEST_RANK</th>\n",
       "      <th>POSIX_SLOWEST_RANK_BYTES</th>\n",
       "    </tr>\n",
       "  </thead>\n",
       "  <tbody>\n",
       "    <tr>\n",
       "      <th>0</th>\n",
       "      <td>-1</td>\n",
       "      <td>836017519648718277</td>\n",
       "      <td>5</td>\n",
       "      <td>0</td>\n",
       "      <td>0</td>\n",
       "      <td>12</td>\n",
       "      <td>172</td>\n",
       "      <td>3</td>\n",
       "      <td>2</td>\n",
       "      <td>-1</td>\n",
       "      <td>...</td>\n",
       "      <td>2000</td>\n",
       "      <td>1904</td>\n",
       "      <td>160</td>\n",
       "      <td>16</td>\n",
       "      <td>2</td>\n",
       "      <td>2</td>\n",
       "      <td>3</td>\n",
       "      <td>673187968</td>\n",
       "      <td>0</td>\n",
       "      <td>672141216</td>\n",
       "    </tr>\n",
       "  </tbody>\n",
       "</table>\n",
       "<p>1 rows × 71 columns</p>\n",
       "</div>"
      ],
      "text/plain": [
       "   rank                  id  POSIX_OPENS  POSIX_FILENOS  POSIX_DUPS  \\\n",
       "0    -1  836017519648718277            5              0           0   \n",
       "\n",
       "   POSIX_READS  POSIX_WRITES  POSIX_SEEKS  POSIX_STATS  POSIX_MMAPS  ...  \\\n",
       "0           12           172            3            2           -1  ...   \n",
       "\n",
       "   POSIX_ACCESS3_ACCESS  POSIX_ACCESS4_ACCESS  POSIX_ACCESS1_COUNT  \\\n",
       "0                  2000                  1904                  160   \n",
       "\n",
       "   POSIX_ACCESS2_COUNT  POSIX_ACCESS3_COUNT  POSIX_ACCESS4_COUNT  \\\n",
       "0                   16                    2                    2   \n",
       "\n",
       "   POSIX_FASTEST_RANK  POSIX_FASTEST_RANK_BYTES  POSIX_SLOWEST_RANK  \\\n",
       "0                   3                 673187968                   0   \n",
       "\n",
       "   POSIX_SLOWEST_RANK_BYTES  \n",
       "0                 672141216  \n",
       "\n",
       "[1 rows x 71 columns]"
      ]
     },
     "execution_count": 39,
     "metadata": {},
     "output_type": "execute_result"
    }
   ],
   "source": [
    "rel_posix_df_c"
   ]
  },
  {
   "cell_type": "code",
   "execution_count": 40,
   "id": "87f443d4",
   "metadata": {},
   "outputs": [
    {
     "data": {
      "text/html": [
       "<div>\n",
       "<style scoped>\n",
       "    .dataframe tbody tr th:only-of-type {\n",
       "        vertical-align: middle;\n",
       "    }\n",
       "\n",
       "    .dataframe tbody tr th {\n",
       "        vertical-align: top;\n",
       "    }\n",
       "\n",
       "    .dataframe thead th {\n",
       "        text-align: right;\n",
       "    }\n",
       "</style>\n",
       "<table border=\"1\" class=\"dataframe\">\n",
       "  <thead>\n",
       "    <tr style=\"text-align: right;\">\n",
       "      <th></th>\n",
       "      <th>rank</th>\n",
       "      <th>id</th>\n",
       "      <th>POSIX_F_OPEN_START_TIMESTAMP</th>\n",
       "      <th>POSIX_F_READ_START_TIMESTAMP</th>\n",
       "      <th>POSIX_F_WRITE_START_TIMESTAMP</th>\n",
       "      <th>POSIX_F_CLOSE_START_TIMESTAMP</th>\n",
       "      <th>POSIX_F_OPEN_END_TIMESTAMP</th>\n",
       "      <th>POSIX_F_READ_END_TIMESTAMP</th>\n",
       "      <th>POSIX_F_WRITE_END_TIMESTAMP</th>\n",
       "      <th>POSIX_F_CLOSE_END_TIMESTAMP</th>\n",
       "      <th>POSIX_F_READ_TIME</th>\n",
       "      <th>POSIX_F_WRITE_TIME</th>\n",
       "      <th>POSIX_F_META_TIME</th>\n",
       "      <th>POSIX_F_MAX_READ_TIME</th>\n",
       "      <th>POSIX_F_MAX_WRITE_TIME</th>\n",
       "      <th>POSIX_F_FASTEST_RANK_TIME</th>\n",
       "      <th>POSIX_F_SLOWEST_RANK_TIME</th>\n",
       "      <th>POSIX_F_VARIANCE_RANK_TIME</th>\n",
       "      <th>POSIX_F_VARIANCE_RANK_BYTES</th>\n",
       "    </tr>\n",
       "  </thead>\n",
       "  <tbody>\n",
       "    <tr>\n",
       "      <th>0</th>\n",
       "      <td>-1</td>\n",
       "      <td>836017519648718277</td>\n",
       "      <td>1.213463</td>\n",
       "      <td>5.435798</td>\n",
       "      <td>1.283547</td>\n",
       "      <td>1.213704</td>\n",
       "      <td>1.21381</td>\n",
       "      <td>5.437209</td>\n",
       "      <td>5.437221</td>\n",
       "      <td>1.213713</td>\n",
       "      <td>0.002079</td>\n",
       "      <td>0.616201</td>\n",
       "      <td>0.000407</td>\n",
       "      <td>0.000299</td>\n",
       "      <td>0.004605</td>\n",
       "      <td>0.118368</td>\n",
       "      <td>0.24341</td>\n",
       "      <td>0.002656</td>\n",
       "      <td>5.479458e+11</td>\n",
       "    </tr>\n",
       "  </tbody>\n",
       "</table>\n",
       "</div>"
      ],
      "text/plain": [
       "   rank                  id  POSIX_F_OPEN_START_TIMESTAMP  \\\n",
       "0    -1  836017519648718277                      1.213463   \n",
       "\n",
       "   POSIX_F_READ_START_TIMESTAMP  POSIX_F_WRITE_START_TIMESTAMP  \\\n",
       "0                      5.435798                       1.283547   \n",
       "\n",
       "   POSIX_F_CLOSE_START_TIMESTAMP  POSIX_F_OPEN_END_TIMESTAMP  \\\n",
       "0                       1.213704                     1.21381   \n",
       "\n",
       "   POSIX_F_READ_END_TIMESTAMP  POSIX_F_WRITE_END_TIMESTAMP  \\\n",
       "0                    5.437209                     5.437221   \n",
       "\n",
       "   POSIX_F_CLOSE_END_TIMESTAMP  POSIX_F_READ_TIME  POSIX_F_WRITE_TIME  \\\n",
       "0                     1.213713           0.002079            0.616201   \n",
       "\n",
       "   POSIX_F_META_TIME  POSIX_F_MAX_READ_TIME  POSIX_F_MAX_WRITE_TIME  \\\n",
       "0           0.000407               0.000299                0.004605   \n",
       "\n",
       "   POSIX_F_FASTEST_RANK_TIME  POSIX_F_SLOWEST_RANK_TIME  \\\n",
       "0                   0.118368                    0.24341   \n",
       "\n",
       "   POSIX_F_VARIANCE_RANK_TIME  POSIX_F_VARIANCE_RANK_BYTES  \n",
       "0                    0.002656                 5.479458e+11  "
      ]
     },
     "execution_count": 40,
     "metadata": {},
     "output_type": "execute_result"
    }
   ],
   "source": [
    "rel_posix_df_fc"
   ]
  },
  {
   "cell_type": "code",
   "execution_count": 41,
   "id": "fd6d2859",
   "metadata": {},
   "outputs": [
    {
     "data": {
      "text/html": [
       "<div>\n",
       "<style scoped>\n",
       "    .dataframe tbody tr th:only-of-type {\n",
       "        vertical-align: middle;\n",
       "    }\n",
       "\n",
       "    .dataframe tbody tr th {\n",
       "        vertical-align: top;\n",
       "    }\n",
       "\n",
       "    .dataframe thead th {\n",
       "        text-align: right;\n",
       "    }\n",
       "</style>\n",
       "<table border=\"1\" class=\"dataframe\">\n",
       "  <thead>\n",
       "    <tr style=\"text-align: right;\">\n",
       "      <th></th>\n",
       "      <th>rank</th>\n",
       "      <th>id</th>\n",
       "      <th>MPIIO_INDEP_OPENS</th>\n",
       "      <th>MPIIO_COLL_OPENS</th>\n",
       "      <th>MPIIO_INDEP_READS</th>\n",
       "      <th>MPIIO_INDEP_WRITES</th>\n",
       "      <th>MPIIO_COLL_READS</th>\n",
       "      <th>MPIIO_COLL_WRITES</th>\n",
       "      <th>MPIIO_SPLIT_READS</th>\n",
       "      <th>MPIIO_SPLIT_WRITES</th>\n",
       "      <th>...</th>\n",
       "      <th>MPIIO_ACCESS3_ACCESS</th>\n",
       "      <th>MPIIO_ACCESS4_ACCESS</th>\n",
       "      <th>MPIIO_ACCESS1_COUNT</th>\n",
       "      <th>MPIIO_ACCESS2_COUNT</th>\n",
       "      <th>MPIIO_ACCESS3_COUNT</th>\n",
       "      <th>MPIIO_ACCESS4_COUNT</th>\n",
       "      <th>MPIIO_FASTEST_RANK</th>\n",
       "      <th>MPIIO_FASTEST_RANK_BYTES</th>\n",
       "      <th>MPIIO_SLOWEST_RANK</th>\n",
       "      <th>MPIIO_SLOWEST_RANK_BYTES</th>\n",
       "    </tr>\n",
       "  </thead>\n",
       "  <tbody>\n",
       "    <tr>\n",
       "      <th>0</th>\n",
       "      <td>-1</td>\n",
       "      <td>836017519648718277</td>\n",
       "      <td>0</td>\n",
       "      <td>4</td>\n",
       "      <td>0</td>\n",
       "      <td>0</td>\n",
       "      <td>0</td>\n",
       "      <td>164</td>\n",
       "      <td>0</td>\n",
       "      <td>0</td>\n",
       "      <td>...</td>\n",
       "      <td>4392</td>\n",
       "      <td>4104</td>\n",
       "      <td>160</td>\n",
       "      <td>1</td>\n",
       "      <td>1</td>\n",
       "      <td>1</td>\n",
       "      <td>3</td>\n",
       "      <td>671093320</td>\n",
       "      <td>1</td>\n",
       "      <td>671092632</td>\n",
       "    </tr>\n",
       "  </tbody>\n",
       "</table>\n",
       "<p>1 rows × 53 columns</p>\n",
       "</div>"
      ],
      "text/plain": [
       "   rank                  id  MPIIO_INDEP_OPENS  MPIIO_COLL_OPENS  \\\n",
       "0    -1  836017519648718277                  0                 4   \n",
       "\n",
       "   MPIIO_INDEP_READS  MPIIO_INDEP_WRITES  MPIIO_COLL_READS  MPIIO_COLL_WRITES  \\\n",
       "0                  0                   0                 0                164   \n",
       "\n",
       "   MPIIO_SPLIT_READS  MPIIO_SPLIT_WRITES  ...  MPIIO_ACCESS3_ACCESS  \\\n",
       "0                  0                   0  ...                  4392   \n",
       "\n",
       "   MPIIO_ACCESS4_ACCESS  MPIIO_ACCESS1_COUNT  MPIIO_ACCESS2_COUNT  \\\n",
       "0                  4104                  160                    1   \n",
       "\n",
       "   MPIIO_ACCESS3_COUNT  MPIIO_ACCESS4_COUNT  MPIIO_FASTEST_RANK  \\\n",
       "0                    1                    1                   3   \n",
       "\n",
       "   MPIIO_FASTEST_RANK_BYTES  MPIIO_SLOWEST_RANK  MPIIO_SLOWEST_RANK_BYTES  \n",
       "0                 671093320                   1                 671092632  \n",
       "\n",
       "[1 rows x 53 columns]"
      ]
     },
     "execution_count": 41,
     "metadata": {},
     "output_type": "execute_result"
    }
   ],
   "source": [
    "rel_mpiio_df_c"
   ]
  },
  {
   "cell_type": "code",
   "execution_count": 42,
   "id": "86955330",
   "metadata": {},
   "outputs": [
    {
     "data": {
      "text/html": [
       "<div>\n",
       "<style scoped>\n",
       "    .dataframe tbody tr th:only-of-type {\n",
       "        vertical-align: middle;\n",
       "    }\n",
       "\n",
       "    .dataframe tbody tr th {\n",
       "        vertical-align: top;\n",
       "    }\n",
       "\n",
       "    .dataframe thead th {\n",
       "        text-align: right;\n",
       "    }\n",
       "</style>\n",
       "<table border=\"1\" class=\"dataframe\">\n",
       "  <thead>\n",
       "    <tr style=\"text-align: right;\">\n",
       "      <th></th>\n",
       "      <th>rank</th>\n",
       "      <th>id</th>\n",
       "      <th>MPIIO_F_OPEN_START_TIMESTAMP</th>\n",
       "      <th>MPIIO_F_READ_START_TIMESTAMP</th>\n",
       "      <th>MPIIO_F_WRITE_START_TIMESTAMP</th>\n",
       "      <th>MPIIO_F_CLOSE_START_TIMESTAMP</th>\n",
       "      <th>MPIIO_F_OPEN_END_TIMESTAMP</th>\n",
       "      <th>MPIIO_F_READ_END_TIMESTAMP</th>\n",
       "      <th>MPIIO_F_WRITE_END_TIMESTAMP</th>\n",
       "      <th>MPIIO_F_CLOSE_END_TIMESTAMP</th>\n",
       "      <th>MPIIO_F_READ_TIME</th>\n",
       "      <th>MPIIO_F_WRITE_TIME</th>\n",
       "      <th>MPIIO_F_META_TIME</th>\n",
       "      <th>MPIIO_F_MAX_READ_TIME</th>\n",
       "      <th>MPIIO_F_MAX_WRITE_TIME</th>\n",
       "      <th>MPIIO_F_FASTEST_RANK_TIME</th>\n",
       "      <th>MPIIO_F_SLOWEST_RANK_TIME</th>\n",
       "      <th>MPIIO_F_VARIANCE_RANK_TIME</th>\n",
       "      <th>MPIIO_F_VARIANCE_RANK_BYTES</th>\n",
       "    </tr>\n",
       "  </thead>\n",
       "  <tbody>\n",
       "    <tr>\n",
       "      <th>0</th>\n",
       "      <td>-1</td>\n",
       "      <td>836017519648718277</td>\n",
       "      <td>1.200688</td>\n",
       "      <td>0.0</td>\n",
       "      <td>1.283367</td>\n",
       "      <td>0.0</td>\n",
       "      <td>1.213905</td>\n",
       "      <td>0.0</td>\n",
       "      <td>5.437229</td>\n",
       "      <td>0.0</td>\n",
       "      <td>0.0</td>\n",
       "      <td>0.975359</td>\n",
       "      <td>0.0527</td>\n",
       "      <td>0.0</td>\n",
       "      <td>0.004772</td>\n",
       "      <td>0.248292</td>\n",
       "      <td>0.264673</td>\n",
       "      <td>0.000044</td>\n",
       "      <td>71472.0</td>\n",
       "    </tr>\n",
       "  </tbody>\n",
       "</table>\n",
       "</div>"
      ],
      "text/plain": [
       "   rank                  id  MPIIO_F_OPEN_START_TIMESTAMP  \\\n",
       "0    -1  836017519648718277                      1.200688   \n",
       "\n",
       "   MPIIO_F_READ_START_TIMESTAMP  MPIIO_F_WRITE_START_TIMESTAMP  \\\n",
       "0                           0.0                       1.283367   \n",
       "\n",
       "   MPIIO_F_CLOSE_START_TIMESTAMP  MPIIO_F_OPEN_END_TIMESTAMP  \\\n",
       "0                            0.0                    1.213905   \n",
       "\n",
       "   MPIIO_F_READ_END_TIMESTAMP  MPIIO_F_WRITE_END_TIMESTAMP  \\\n",
       "0                         0.0                     5.437229   \n",
       "\n",
       "   MPIIO_F_CLOSE_END_TIMESTAMP  MPIIO_F_READ_TIME  MPIIO_F_WRITE_TIME  \\\n",
       "0                          0.0                0.0            0.975359   \n",
       "\n",
       "   MPIIO_F_META_TIME  MPIIO_F_MAX_READ_TIME  MPIIO_F_MAX_WRITE_TIME  \\\n",
       "0             0.0527                    0.0                0.004772   \n",
       "\n",
       "   MPIIO_F_FASTEST_RANK_TIME  MPIIO_F_SLOWEST_RANK_TIME  \\\n",
       "0                   0.248292                   0.264673   \n",
       "\n",
       "   MPIIO_F_VARIANCE_RANK_TIME  MPIIO_F_VARIANCE_RANK_BYTES  \n",
       "0                    0.000044                      71472.0  "
      ]
     },
     "execution_count": 42,
     "metadata": {},
     "output_type": "execute_result"
    }
   ],
   "source": [
    "rel_mpiio_df_fc"
   ]
  },
  {
   "cell_type": "code",
   "execution_count": 43,
   "id": "34df583a",
   "metadata": {},
   "outputs": [
    {
     "data": {
      "text/html": [
       "<div>\n",
       "<style scoped>\n",
       "    .dataframe tbody tr th:only-of-type {\n",
       "        vertical-align: middle;\n",
       "    }\n",
       "\n",
       "    .dataframe tbody tr th {\n",
       "        vertical-align: top;\n",
       "    }\n",
       "\n",
       "    .dataframe thead th {\n",
       "        text-align: right;\n",
       "    }\n",
       "</style>\n",
       "<table border=\"1\" class=\"dataframe\">\n",
       "  <thead>\n",
       "    <tr style=\"text-align: right;\">\n",
       "      <th></th>\n",
       "      <th>rank</th>\n",
       "      <th>id</th>\n",
       "      <th>STDIO_OPENS</th>\n",
       "      <th>STDIO_FDOPENS</th>\n",
       "      <th>STDIO_READS</th>\n",
       "      <th>STDIO_WRITES</th>\n",
       "      <th>STDIO_SEEKS</th>\n",
       "      <th>STDIO_FLUSHES</th>\n",
       "      <th>STDIO_BYTES_WRITTEN</th>\n",
       "      <th>STDIO_BYTES_READ</th>\n",
       "      <th>STDIO_MAX_BYTE_READ</th>\n",
       "      <th>STDIO_MAX_BYTE_WRITTEN</th>\n",
       "      <th>STDIO_FASTEST_RANK</th>\n",
       "      <th>STDIO_FASTEST_RANK_BYTES</th>\n",
       "      <th>STDIO_SLOWEST_RANK</th>\n",
       "      <th>STDIO_SLOWEST_RANK_BYTES</th>\n",
       "    </tr>\n",
       "  </thead>\n",
       "  <tbody>\n",
       "    <tr>\n",
       "      <th>0</th>\n",
       "      <td>-1</td>\n",
       "      <td>6451448093025485131</td>\n",
       "      <td>4</td>\n",
       "      <td>0</td>\n",
       "      <td>0</td>\n",
       "      <td>13</td>\n",
       "      <td>0</td>\n",
       "      <td>0</td>\n",
       "      <td>304</td>\n",
       "      <td>0</td>\n",
       "      <td>0</td>\n",
       "      <td>303</td>\n",
       "      <td>3</td>\n",
       "      <td>0</td>\n",
       "      <td>2</td>\n",
       "      <td>0</td>\n",
       "    </tr>\n",
       "    <tr>\n",
       "      <th>1</th>\n",
       "      <td>-1</td>\n",
       "      <td>7758812007467121116</td>\n",
       "      <td>4</td>\n",
       "      <td>0</td>\n",
       "      <td>48</td>\n",
       "      <td>0</td>\n",
       "      <td>0</td>\n",
       "      <td>0</td>\n",
       "      <td>0</td>\n",
       "      <td>1140</td>\n",
       "      <td>284</td>\n",
       "      <td>0</td>\n",
       "      <td>3</td>\n",
       "      <td>285</td>\n",
       "      <td>2</td>\n",
       "      <td>285</td>\n",
       "    </tr>\n",
       "  </tbody>\n",
       "</table>\n",
       "</div>"
      ],
      "text/plain": [
       "   rank                   id  STDIO_OPENS  STDIO_FDOPENS  STDIO_READS  \\\n",
       "0    -1  6451448093025485131            4              0            0   \n",
       "1    -1  7758812007467121116            4              0           48   \n",
       "\n",
       "   STDIO_WRITES  STDIO_SEEKS  STDIO_FLUSHES  STDIO_BYTES_WRITTEN  \\\n",
       "0            13            0              0                  304   \n",
       "1             0            0              0                    0   \n",
       "\n",
       "   STDIO_BYTES_READ  STDIO_MAX_BYTE_READ  STDIO_MAX_BYTE_WRITTEN  \\\n",
       "0                 0                    0                     303   \n",
       "1              1140                  284                       0   \n",
       "\n",
       "   STDIO_FASTEST_RANK  STDIO_FASTEST_RANK_BYTES  STDIO_SLOWEST_RANK  \\\n",
       "0                   3                         0                   2   \n",
       "1                   3                       285                   2   \n",
       "\n",
       "   STDIO_SLOWEST_RANK_BYTES  \n",
       "0                         0  \n",
       "1                       285  "
      ]
     },
     "execution_count": 43,
     "metadata": {},
     "output_type": "execute_result"
    }
   ],
   "source": [
    "rel_stdio_df_c"
   ]
  },
  {
   "cell_type": "code",
   "execution_count": 44,
   "id": "1d6f89d5",
   "metadata": {},
   "outputs": [
    {
     "data": {
      "text/html": [
       "<div>\n",
       "<style scoped>\n",
       "    .dataframe tbody tr th:only-of-type {\n",
       "        vertical-align: middle;\n",
       "    }\n",
       "\n",
       "    .dataframe tbody tr th {\n",
       "        vertical-align: top;\n",
       "    }\n",
       "\n",
       "    .dataframe thead th {\n",
       "        text-align: right;\n",
       "    }\n",
       "</style>\n",
       "<table border=\"1\" class=\"dataframe\">\n",
       "  <thead>\n",
       "    <tr style=\"text-align: right;\">\n",
       "      <th></th>\n",
       "      <th>rank</th>\n",
       "      <th>id</th>\n",
       "      <th>STDIO_F_META_TIME</th>\n",
       "      <th>STDIO_F_WRITE_TIME</th>\n",
       "      <th>STDIO_F_READ_TIME</th>\n",
       "      <th>STDIO_F_OPEN_START_TIMESTAMP</th>\n",
       "      <th>STDIO_F_CLOSE_START_TIMESTAMP</th>\n",
       "      <th>STDIO_F_WRITE_START_TIMESTAMP</th>\n",
       "      <th>STDIO_F_READ_START_TIMESTAMP</th>\n",
       "      <th>STDIO_F_OPEN_END_TIMESTAMP</th>\n",
       "      <th>STDIO_F_CLOSE_END_TIMESTAMP</th>\n",
       "      <th>STDIO_F_WRITE_END_TIMESTAMP</th>\n",
       "      <th>STDIO_F_READ_END_TIMESTAMP</th>\n",
       "      <th>STDIO_F_FASTEST_RANK_TIME</th>\n",
       "      <th>STDIO_F_SLOWEST_RANK_TIME</th>\n",
       "      <th>STDIO_F_VARIANCE_RANK_TIME</th>\n",
       "      <th>STDIO_F_VARIANCE_RANK_BYTES</th>\n",
       "    </tr>\n",
       "  </thead>\n",
       "  <tbody>\n",
       "    <tr>\n",
       "      <th>0</th>\n",
       "      <td>-1</td>\n",
       "      <td>6451448093025485131</td>\n",
       "      <td>0.001756</td>\n",
       "      <td>0.000027</td>\n",
       "      <td>0.000000</td>\n",
       "      <td>0.228615</td>\n",
       "      <td>5.54957</td>\n",
       "      <td>5.549536</td>\n",
       "      <td>0.00000</td>\n",
       "      <td>0.230585</td>\n",
       "      <td>5.549683</td>\n",
       "      <td>5.549569</td>\n",
       "      <td>0.0000</td>\n",
       "      <td>0.000083</td>\n",
       "      <td>0.000640</td>\n",
       "      <td>4.597388e-08</td>\n",
       "      <td>17328.0</td>\n",
       "    </tr>\n",
       "    <tr>\n",
       "      <th>1</th>\n",
       "      <td>-1</td>\n",
       "      <td>7758812007467121116</td>\n",
       "      <td>0.000124</td>\n",
       "      <td>0.000000</td>\n",
       "      <td>0.000112</td>\n",
       "      <td>0.228486</td>\n",
       "      <td>0.00000</td>\n",
       "      <td>0.000000</td>\n",
       "      <td>0.22855</td>\n",
       "      <td>0.230436</td>\n",
       "      <td>0.000000</td>\n",
       "      <td>0.000000</td>\n",
       "      <td>0.2305</td>\n",
       "      <td>0.000045</td>\n",
       "      <td>0.000077</td>\n",
       "      <td>1.314611e-10</td>\n",
       "      <td>0.0</td>\n",
       "    </tr>\n",
       "  </tbody>\n",
       "</table>\n",
       "</div>"
      ],
      "text/plain": [
       "   rank                   id  STDIO_F_META_TIME  STDIO_F_WRITE_TIME  \\\n",
       "0    -1  6451448093025485131           0.001756            0.000027   \n",
       "1    -1  7758812007467121116           0.000124            0.000000   \n",
       "\n",
       "   STDIO_F_READ_TIME  STDIO_F_OPEN_START_TIMESTAMP  \\\n",
       "0           0.000000                      0.228615   \n",
       "1           0.000112                      0.228486   \n",
       "\n",
       "   STDIO_F_CLOSE_START_TIMESTAMP  STDIO_F_WRITE_START_TIMESTAMP  \\\n",
       "0                        5.54957                       5.549536   \n",
       "1                        0.00000                       0.000000   \n",
       "\n",
       "   STDIO_F_READ_START_TIMESTAMP  STDIO_F_OPEN_END_TIMESTAMP  \\\n",
       "0                       0.00000                    0.230585   \n",
       "1                       0.22855                    0.230436   \n",
       "\n",
       "   STDIO_F_CLOSE_END_TIMESTAMP  STDIO_F_WRITE_END_TIMESTAMP  \\\n",
       "0                     5.549683                     5.549569   \n",
       "1                     0.000000                     0.000000   \n",
       "\n",
       "   STDIO_F_READ_END_TIMESTAMP  STDIO_F_FASTEST_RANK_TIME  \\\n",
       "0                      0.0000                   0.000083   \n",
       "1                      0.2305                   0.000045   \n",
       "\n",
       "   STDIO_F_SLOWEST_RANK_TIME  STDIO_F_VARIANCE_RANK_TIME  \\\n",
       "0                   0.000640                4.597388e-08   \n",
       "1                   0.000077                1.314611e-10   \n",
       "\n",
       "   STDIO_F_VARIANCE_RANK_BYTES  \n",
       "0                      17328.0  \n",
       "1                          0.0  "
      ]
     },
     "execution_count": 44,
     "metadata": {},
     "output_type": "execute_result"
    }
   ],
   "source": [
    "rel_stdio_df_fc"
   ]
  },
  {
   "cell_type": "code",
   "execution_count": 17,
   "id": "dedb9c56",
   "metadata": {},
   "outputs": [
    {
     "data": {
      "text/plain": [
       "array([836017519648718277])"
      ]
     },
     "execution_count": 17,
     "metadata": {},
     "output_type": "execute_result"
    }
   ],
   "source": [
    "\n",
    "\n",
    "ddf.id.unique()"
   ]
  },
  {
   "cell_type": "code",
   "execution_count": null,
   "id": "9eb35c2c",
   "metadata": {},
   "outputs": [],
   "source": []
  },
  {
   "cell_type": "code",
   "execution_count": 19,
   "id": "f083a8cb",
   "metadata": {},
   "outputs": [
    {
     "name": "stdout",
     "output_type": "stream",
     "text": [
      "Filename:       /usr/workspace/iopp/software/iopp/apps/h5bench/darshan-logs/sync_4_libdarshan/sync-amrex/haridev_h5bench_amrex_sync_id33412-33412_10-4-60845-13975989900592784139_1.darshan\n",
      "Times:          2022-10-04 16:54:05 to 2022-10-04 16:54:16 (Duration 0:00:11)\n",
      "Executable:    h5bench_amrex_sync /p/gpfs1/iopp/temp/h5bench/sync-amrex/138b5c9c/amrex.ini\n",
      "Processes:      4\n",
      "JobID:          33412\n",
      "UID:            35619\n",
      "Modules in Log: ['POSIX', 'STDIO', 'HEATMAP']\n",
      "Loaded Records: {'POSIX': 1, 'STDIO': 2, 'HDF5': 0}\n",
      "Name Records:   7\n",
      "Darshan/Hints:  {'lib_ver': '3.4.0-pre1', 'h': 'romio_no_indep_rw=true;cb_nodes=4'}\n",
      "DarshanReport:  id(35219809724368) (tmp)\n"
     ]
    }
   ],
   "source": [
    "report.info()"
   ]
  },
  {
   "cell_type": "code",
   "execution_count": null,
   "id": "d485d494",
   "metadata": {},
   "outputs": [],
   "source": []
  }
 ],
 "metadata": {
  "kernelspec": {
   "display_name": "Python 3 (ipykernel)",
   "language": "python",
   "name": "python3"
  },
  "language_info": {
   "codemirror_mode": {
    "name": "ipython",
    "version": 3
   },
   "file_extension": ".py",
   "mimetype": "text/x-python",
   "name": "python",
   "nbconvert_exporter": "python",
   "pygments_lexer": "ipython3",
   "version": "3.8.13"
  }
 },
 "nbformat": 4,
 "nbformat_minor": 5
}
